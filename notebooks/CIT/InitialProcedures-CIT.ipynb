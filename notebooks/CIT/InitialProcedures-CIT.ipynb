{
 "cells": [
  {
   "cell_type": "markdown",
   "metadata": {},
   "source": [
    "## 0 - Duplicate and name per-module notebook.\n",
    "\n",
    "- In panel at left, select this notebook (\"InitiaProcedures-CIT.ipynb\"), and Duplicate it.\n",
    "- Rename the notebook, replacing \"CIT-Copy1\" with the module's name (e.g. \"SC42\")\n",
    "- Close this notebook to avoid confusion, open the module one."
   ]
  },
  {
   "cell_type": "code",
   "execution_count": null,
   "metadata": {},
   "outputs": [],
   "source": [
    "%matplotlib inline\n",
    "from importlib import reload\n",
    "import numpy as np\n",
    "import pathlib\n",
    "import matplotlib.pyplot as plt\n",
    "\n",
    "from ics.cobraCharmer import pfiDesign\n",
    "from ics.cobraCharmer import cobraState\n",
    "\n",
    "from ics.cobraCharmer.utils import butler\n",
    "from procedures.moduleTest import moduleTest, calculation, ontimeModel, plotUtils\n"
   ]
  },
  {
   "cell_type": "markdown",
   "metadata": {},
   "source": [
    "## 1 - Bootstrap\n",
    "\n",
    "Takes the initial XML map from the assembly bench and makes it functional\n",
    " - does a frequency calibratikon on both motors (separately).\n",
    " - assigns starting center positions from the found fiber spots.\n",
    " - initializes some parts of the geometry, clears the rest.\n",
    " \n",
    "Note that bootstrapping *requires* that the the cobras be in the theta-out, phi-in safe positions. Due to the\n",
    "frequency calibration the theta positions will need to be manually restored after bootstrapping. \n",
    "\n",
    "The input map, for the example module named \"SC42\", \"SC42_init.xml\", and comes from the assembly bench procedures. The output map is \"SC42_bootstrap.xml\". This is then used for the next step."
   ]
  },
  {
   "cell_type": "code",
   "execution_count": null,
   "metadata": {},
   "outputs": [],
   "source": [
    "moduleName = \"SC42\""
   ]
  },
  {
   "cell_type": "code",
   "execution_count": null,
   "metadata": {},
   "outputs": [],
   "source": [
    "from procedures.cit import bootstrapModule\n",
    "\n",
    "# CPL: Get the ordering from the \"site\" module.\n",
    "bootstrapMap = bootstrapModule.bootstrapModule(moduleName, numberCobrasFromRight=True)"
   ]
  },
  {
   "cell_type": "markdown",
   "metadata": {},
   "source": [
    "## 2 - Please manually reset theta motors\n",
    "\n",
    "Sorry, but the frequency calibration almost certainly moved (only) the theta motors. Please manually put them back to the \"out\" position.\n"
   ]
  },
  {
   "cell_type": "markdown",
   "metadata": {},
   "source": [
    "## 3 - Make phi motor maps at several ontimes; create working phi map\n",
    "\n",
    "Takes a set of phi motor maps at a range of ontimes, then generates a new map with tuned slow and fast maps.\n",
    "\n",
    "Since we are only looking for overall ontimes, we make coarse (200-step) runs.\n",
    "\n",
    "The initial map is named \"SC42_bootstrap.xml\", and the final output is \"SC42_phiOntime.xml\"."
   ]
  },
  {
   "cell_type": "code",
   "execution_count": null,
   "metadata": {},
   "outputs": [],
   "source": [
    "reload(moduleTest)\n",
    "mt = moduleTest.ModuleTest('fpga', butler.mapPathForModule(moduleName, version='bootstrap'))"
   ]
  },
  {
   "cell_type": "code",
   "execution_count": null,
   "metadata": {},
   "outputs": [],
   "source": [
    "%pdb on\n",
    "phiSteps = 100\n",
    "phiRuns = dict()\n",
    "for phiOntime in 65,50,30,20,15:\n",
    "    outputDir = mt.makePhiMotorMap(f'phi_{phiOntime}ms.xml', phiOnTime=phiOntime/1000, \n",
    "                                   updateGeometry=True, repeat=1, fast=False, steps=phiSteps)\n",
    "    phiRuns[phiOntime] = outputDir\n",
    "%pdb off"
   ]
  },
  {
   "cell_type": "markdown",
   "metadata": {},
   "source": [
    "## 4 - Choose slowest working phi map\n",
    "\n",
    "Using the phi ontime scans we just made, chose the slowest one for cobra which run limit-to-limit.\n",
    "\n",
    "CPL -- This is _far_ from  optimal. "
   ]
  },
  {
   "cell_type": "code",
   "execution_count": null,
   "metadata": {},
   "outputs": [],
   "source": [
    "reload(ontimeModel)\n",
    "poptmap = ontimeModel.ontimeModel.loadFromPhiData(phiRuns[65], phiRuns)\n",
    "fwot, rvot = poptmap.getSlowestGoodOntimes(closeEnough=np.deg2rad(1))\n",
    "poptmap.saveNewMap(butler.mapPathForModule(moduleName, 'phiOntime'))\n",
    "print(fwot)\n",
    "print(rvot)"
   ]
  },
  {
   "cell_type": "markdown",
   "metadata": {},
   "source": [
    "## 4a - Test new phi map"
   ]
  },
  {
   "cell_type": "code",
   "execution_count": null,
   "metadata": {},
   "outputs": [],
   "source": [
    "mt = moduleTest.ModuleTest('fpga', butler.mapPathForModule(moduleName, version='phiOntime'))\n",
    "mt.setPhiGeometryFromRun(phiRuns[65])"
   ]
  },
  {
   "cell_type": "code",
   "execution_count": null,
   "metadata": {},
   "outputs": [],
   "source": [
    "phiGeometryRun = mt.makePhiMotorMap(f'phiFinal.xml', updateGeometry=True, repeat=1, fast=False, steps=phiSteps)\n",
    "phiRuns[999] = phiGeometryRun\n",
    "butler.publishMapForModule(moduleName, version='phiFinal', fromRunPath=phiGeometryRun)"
   ]
  },
  {
   "cell_type": "code",
   "execution_count": null,
   "metadata": {},
   "outputs": [],
   "source": [
    "_ = plotUtils.plotOntimeSet(moduleName, phiRuns, 'phi', phiSteps)"
   ]
  },
  {
   "cell_type": "markdown",
   "metadata": {},
   "source": [
    "## 5 - Run phi convergence test.\n",
    "\n",
    "At this point we know the phi motor center position, and we have a decent map. So run the phi convergence test now.\n",
    "Note that we are applying Erin's heuristic, and dynamically scaling each motor's ontime with each move.\n",
    "\n",
    "We are only trying for 10 mrad, or ~25 um. Off by a factor of 5.\n",
    "Also, stay ~5 degrees away from ends, "
   ]
  },
  {
   "cell_type": "code",
   "execution_count": null,
   "metadata": {},
   "outputs": [],
   "source": [
    "reload(moduleTest)\n",
    "mt = moduleTest.ModuleTest('fpga', butler.mapPathForModule(moduleName, version='phiFinal'))\n",
    "mt.setPhiGeometryFromRun(phiRuns[65])"
   ]
  },
  {
   "cell_type": "code",
   "execution_count": null,
   "metadata": {},
   "outputs": [],
   "source": [
    "rstate = np.random.RandomState(2394)\n",
    "angles = rstate.uniform(5,175,100)\n",
    "\n",
    "# Force us to finish at 60, just for convenience.\n",
    "angles[-1] = 60.0\n",
    "\n",
    "# Start with same medium angles, to initialize the scaling\n",
    "angles[0] = 60.0\n",
    "angles[1] = 30.0\n",
    "angles[2] = 90.0\n",
    "\n",
    "tolerance = np.rad2deg(0.01)\n",
    "\n",
    "phiConvergenceRuns = []\n",
    "for a_i, a in enumerate(angles):\n",
    "    runDir = mt.moveToPhiAngle(angle=a, tolerance=tolerance, \n",
    "                               keepExistingPosition=(a_i > 0), maxTries=8)\n",
    "    phiConvergenceRuns.append(runDir)"
   ]
  },
  {
   "cell_type": "code",
   "execution_count": null,
   "metadata": {},
   "outputs": [],
   "source": [
    "plotUtils.plotConvergenceRuns()"
   ]
  },
  {
   "cell_type": "markdown",
   "metadata": {},
   "source": [
    "## 6 - Make theta maps at several ontimes; create theta motor map\n",
    "\n",
    "Takes a set of theta motor maps at a range of ontimes, then generates a new map with tuned slow and fast maps.\n",
    "\n",
    "The initial map is named \"SC42_thetaOntime.xml\" or \"SC42.xml\", and the output is \"SC42_theta.xml\""
   ]
  },
  {
   "cell_type": "code",
   "execution_count": null,
   "metadata": {},
   "outputs": [],
   "source": [
    "reload(moduleTest)\n",
    "mt = moduleTest.ModuleTest('fpga', butler.mapPathForModule(moduleName, version='phiFinal'))"
   ]
  },
  {
   "cell_type": "code",
   "execution_count": null,
   "metadata": {},
   "outputs": [],
   "source": [
    "thetaRuns = dict()\n",
    "thetaSteps = dict()\n",
    "for thetaOntime in 70,60,50,40,30:\n",
    "    outputDir = mt.makeThetaMotorMap(f'theta_{thetaOntime}ms.xml', thetaOnTime=thetaOntime/1000, \n",
    "                                     phiRunDir=phiGeometryRun,\n",
    "                                     updateGeometry=True, repeat=1, fast=False, steps=200)\n",
    "    thetaSteps[thetaOntime] = thetaSteps\n",
    "    thetaRuns[thetaOntime] = outputDir"
   ]
  },
  {
   "cell_type": "markdown",
   "metadata": {},
   "source": [
    "## 7 - Choose slowest working theta map"
   ]
  },
  {
   "cell_type": "code",
   "execution_count": null,
   "metadata": {},
   "outputs": [],
   "source": [
    "reload(ontimeModel)\n",
    "%pdb on\n",
    "toptmap = ontimeModel.ontimeModel.loadFromThetaData(thetaRuns[60], thetaRuns)\n",
    "tfwot, trvot = toptmap.getSlowestGoodOntimes(closeEnough=np.deg2rad(1))\n",
    "toptmap.saveNewMap(butler.mapPathForModule(moduleName, 'thetaOntime'))\n",
    "%pdb off\n",
    "print(tfwot)\n",
    "print(trvot)"
   ]
  },
  {
   "cell_type": "markdown",
   "metadata": {},
   "source": [
    "## 7a - Test new map"
   ]
  },
  {
   "cell_type": "code",
   "execution_count": null,
   "metadata": {},
   "outputs": [],
   "source": [
    "mt = moduleTest.ModuleTest('fpga', butler.mapPathForModule(moduleName, version='thetaOntime'))\n",
    "mt.setThetaGeometryFromRun(thetaRuns[60])"
   ]
  },
  {
   "cell_type": "code",
   "execution_count": null,
   "metadata": {},
   "outputs": [],
   "source": [
    "thetaGeometryRun = mt.makeThetaMotorMap(f'thetaFinal.xml', phiRunDir=phiGeometryRun, updateGeometry=True, repeat=1, fast=False, steps=100)\n",
    "thetaRuns[999] = thetaGeometryRun\n",
    "thetaSteps[999] = 100\n",
    "butler.publishMapForModule(moduleName, version='thetaFinal', fromRunPath=thetaGeometryRun)"
   ]
  },
  {
   "cell_type": "code",
   "execution_count": null,
   "metadata": {},
   "outputs": [],
   "source": [
    "reload(plotUtils)\n",
    "_ = plotUtils.plotOntimeSet(moduleName, thetaRuns, 'theta', thetaSteps)"
   ]
  },
  {
   "cell_type": "markdown",
   "metadata": {},
   "source": [
    "## 8 - Run theta convergence test"
   ]
  },
  {
   "cell_type": "code",
   "execution_count": null,
   "metadata": {},
   "outputs": [],
   "source": [
    "thetaGeometryRun = thetaRuns[60]"
   ]
  },
  {
   "cell_type": "code",
   "execution_count": null,
   "metadata": {},
   "outputs": [],
   "source": [
    "reload(moduleTest)\n",
    "mt = moduleTest.ModuleTest('fpga', butler.mapPathForModule(moduleName, version='thetaOntime'))\n",
    "mt.setThetaGeometryFromRun(thetaGeometryRun)"
   ]
  },
  {
   "cell_type": "code",
   "execution_count": null,
   "metadata": {},
   "outputs": [],
   "source": [
    "%pdb on\n",
    "rstate = np.random.RandomState(2394)\n",
    "angles = rstate.uniform(1,370,100)\n",
    "\n",
    "#Start with medium slews, to initialize the scaling\n",
    "angles[0] = 60.0\n",
    "angles[1] = 30.0\n",
    "angles[2] = 90.0\n",
    "\n",
    "thetaConvergenceRuns = []\n",
    "for a_i, a in enumerate(angles):\n",
    "    ret = mt.moveToThetaAngle(angle=a, tolerance=np.rad2deg(0.01), \n",
    "                              keepExistingPosition=(a_i > 0), maxTries=8, scaleFactor=10)\n",
    "    thetaConvergenceRuns.append(ret)\n",
    "%pdb off\n"
   ]
  },
  {
   "cell_type": "code",
   "execution_count": null,
   "metadata": {},
   "outputs": [],
   "source": [
    "reload(plotUtils)\n",
    "%pdb on\n",
    "ret = plotUtils.plotConvergenceRuns(tconvRuns, 'theta')\n",
    "%pdb off\n"
   ]
  },
  {
   "cell_type": "code",
   "execution_count": null,
   "metadata": {},
   "outputs": [],
   "source": [
    "ret[0].savefig(tconvRuns[-1] / 'output' / f'{moduleName}_thetaConvergence.pdf')"
   ]
  },
  {
   "cell_type": "markdown",
   "metadata": {},
   "source": [
    "## 9 - Return cobras to safe position"
   ]
  },
  {
   "cell_type": "code",
   "execution_count": null,
   "metadata": {},
   "outputs": [],
   "source": [
    "mt.gotoSafeFromPhi60()"
   ]
  }
 ],
 "metadata": {
  "kernelspec": {
   "display_name": "Python 3",
   "language": "python",
   "name": "python3"
  },
  "language_info": {
   "codemirror_mode": {
    "name": "ipython",
    "version": 3
   },
   "file_extension": ".py",
   "mimetype": "text/x-python",
   "name": "python",
   "nbconvert_exporter": "python",
   "pygments_lexer": "ipython3",
   "version": "3.7.3"
  }
 },
 "nbformat": 4,
 "nbformat_minor": 4
}
