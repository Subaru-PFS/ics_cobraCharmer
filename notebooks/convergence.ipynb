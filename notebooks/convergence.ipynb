{
 "cells": [
  {
   "cell_type": "code",
   "execution_count": null,
   "metadata": {},
   "outputs": [],
   "source": [
    "import sep\n",
    "from subprocess import Popen, PIPE\n",
    "import numpy as np\n",
    "from astropy.io import fits\n",
    "from importlib import reload\n",
    "import time\n",
    "from ics.cobraCharmer import pfi as pfiControl\n",
    "reload(pfiControl)"
   ]
  },
  {
   "cell_type": "code",
   "execution_count": null,
   "metadata": {},
   "outputs": [],
   "source": [
    "mod1Cobras = pfiControl.PFI.allocateCobraRange(range(1,2))\n",
    "allCobras = mod1Cobras\n",
    "oneCobra = pfiControl.PFI.allocateCobraList([(1,2)])\n",
    "twoCobras = pfiControl.PFI.allocateCobraList([(1,2), (1,5)])\n",
    "\n",
    "# partition module 1 cobras into non-interfering sets\n",
    "moduleCobras = {}\n",
    "for group in 1,2,3:\n",
    "    cm = range(group,58,3)\n",
    "    mod = [1]*len(cm)\n",
    "    moduleCobras[group] = pfiControl.PFI.allocateCobraList(zip(mod,cm))\n",
    "group1Cobras = moduleCobras[1]\n",
    "group2Cobras = moduleCobras[2]\n",
    "group3Cobras = moduleCobras[3]\n",
    "\n",
    "# partition module 1 cobras into odd and even sets\n",
    "moduleCobras2 = {}\n",
    "for group in 1,2:\n",
    "    cm = range(group,58,2)\n",
    "    mod = [1]*len(cm)\n",
    "    moduleCobras2[group] = pfiControl.PFI.allocateCobraList(zip(mod,cm))\n",
    "oddCobras = moduleCobras2[1]\n",
    "evenCobras = moduleCobras2[2]"
   ]
  },
  {
   "cell_type": "code",
   "execution_count": null,
   "metadata": {},
   "outputs": [],
   "source": [
    "pfi = pfiControl.PFI(fpgaHost='128.149.77.24') #'fpga' for real device.\n",
    "#pfi = pfiControl.PFI(fpgaHost='localhost', doLoadModel=False)\n",
    "pfi.loadModel('../xml/precise.xml')\n",
    "pfi.setFreq(allCobras)"
   ]
  },
  {
   "cell_type": "code",
   "execution_count": null,
   "metadata": {},
   "outputs": [],
   "source": [
    "# Calculate outward angles\n",
    "oddMoves = pfi.thetaToLocal(oddCobras, [np.deg2rad(270)]*len(oddCobras))\n",
    "oddMoves[oddMoves>1.85*np.pi] = 0\n",
    "\n",
    "evenMoves = pfi.thetaToLocal(evenCobras, [np.deg2rad(90)]*len(evenCobras))\n",
    "evenMoves[evenMoves>1.85*np.pi] = 0\n",
    "\n",
    "allMoves = np.zeros(57)\n",
    "allMoves[::2] = oddMoves\n",
    "allMoves[1::2] = evenMoves\n",
    "\n",
    "def moveCobra(c, theta, phi):\n",
    "    pfi.moveSteps([allCobras[c-1]], np.zeros(1)+theta, np.zeros(1)+phi)\n",
    "\n",
    "def moveCobras(cs, theta, phi):\n",
    "    cobs = []\n",
    "    for c in cs:\n",
    "        cobs.append(allCobras[c-1])\n",
    "    pfi.moveSteps(cobs, np.array(theta), np.array(phi))"
   ]
  },
  {
   "cell_type": "code",
   "execution_count": null,
   "metadata": {},
   "outputs": [],
   "source": [
    "def lazyIdentification(centers, spots, radii=None):\n",
    "    n = len(centers)\n",
    "    if radii is not None and len(radii) != n:\n",
    "        raise RuntimeError(\"number of centers must match number of radii\")\n",
    "    ans = np.empty(n, dtype=int)\n",
    "    for i in range(n):\n",
    "        dist = np.absolute(spots - centers[i])\n",
    "        j = np.argmin(dist)\n",
    "        if radii is not None and np.absolute(centers[i] - spots[j]) > radii[i]:\n",
    "            ans[i] = -1\n",
    "        else:\n",
    "            ans[i] = j\n",
    "    return ans"
   ]
  },
  {
   "cell_type": "code",
   "execution_count": null,
   "metadata": {},
   "outputs": [],
   "source": [
    "# move one cobra\n",
    "moveCobra(1, -400, 0)"
   ]
  },
  {
   "cell_type": "code",
   "execution_count": null,
   "metadata": {
    "scrolled": true
   },
   "outputs": [],
   "source": [
    "# Home phi\n",
    "pfi.moveAllSteps(allCobras, 0, -5000)"
   ]
  },
  {
   "cell_type": "code",
   "execution_count": null,
   "metadata": {
    "scrolled": true
   },
   "outputs": [],
   "source": [
    "# Home theta\n",
    "pfi.moveAllSteps(allCobras, -10000, 0)"
   ]
  },
  {
   "cell_type": "code",
   "execution_count": null,
   "metadata": {},
   "outputs": [],
   "source": [
    "# Target convergence test\n",
    "\n",
    "# go Home first\n",
    "#pfi.moveAllSteps(allCobras, 0, -5000)\n",
    "#pfi.moveAllSteps(allCobras, -10000, 0)\n",
    "\n",
    "# generate target positions, [pi/5, pi] for theta, [pi/6, pi*(1/2)] for phi\n",
    "mapping = [e for e in range(1,58) if e not in {1, 39, 43, 54}]\n",
    "nCobras = len(mapping)\n",
    "myCobras = pfiControl.PFI.allocateCobraList([(1,e) for e in mapping])\n",
    "thetaTargets = (np.random.random_sample(nCobras)*4+1) * (np.pi/5)\n",
    "phiTargets = (np.random.random_sample(nCobras)*2+1) * (np.pi/6)\n",
    "targets = pfi.anglesToPositions(myCobras, thetaTargets, phiTargets)\n",
    "threshold = 2.0\n",
    "maxTries = 10\n",
    "\n",
    "# define two cobra groups for two cameras\n",
    "group1 = np.array(mapping[:26]) - 1\n",
    "group2 = np.array(mapping[26:]) - 1"
   ]
  },
  {
   "cell_type": "code",
   "execution_count": null,
   "metadata": {},
   "outputs": [],
   "source": [
    "# Do first big move\n",
    "pfi.moveXYfromHome(myCobras, targets)\n",
    "\n",
    "ntries = 0\n",
    "pos = np.zeros((len(targets), maxTries+1), dtype=complex)\n",
    "while True:\n",
    "    # check current positions, first exposing\n",
    "    p1 = Popen([\"/home/pfs/IDSControl/idsexposure\", \"-d\", \"1\", \"-e\", \"18\", \"-f\", \"data/cam1_\"], stdout=PIPE)\n",
    "    p1.communicate()\n",
    "    p2 = Popen([\"/home/pfs/IDSControl/idsexposure\", \"-d\", \"2\", \"-e\", \"18\", \"-f\", \"data/cam2_\"], stdout=PIPE)\n",
    "    p2.communicate()\n",
    "\n",
    "    # extract sources and do fiber identification\n",
    "    data1 = fits.getdata('data/cam1_0001.fits').astype(float)\n",
    "    ext1 = sep.extract(data1, 100)\n",
    "    idx1 = lazyIdentification(pfi.calibModel.centers[group1], ext1['x'] + ext1['y']*(1j))\n",
    "    data2 = fits.getdata('data/cam2_0001.fits').astype(float)\n",
    "    ext2 = sep.extract(data2, 100)\n",
    "    idx2 = lazyIdentification(pfi.calibModel.centers[group2], ext2['x'] + ext2['y']*(1j))\n",
    "    curPos = np.concatenate((ext1[idx1]['x'] + ext1[idx1]['y']*(1j), ext2[idx2]['x'] + ext2[idx2]['y']*(1j)))\n",
    "    pos[:,ntries] = curPos\n",
    "    print(curPos)\n",
    "\n",
    "    # check position errors\n",
    "    done = np.abs(curPos - targets) <= threshold\n",
    "    if np.all(done):\n",
    "        print('Convergence sequence done')\n",
    "        break\n",
    "    if ntries >= maxTries:\n",
    "        print(f'Reach max {maxTries} tries, gave up')\n",
    "        break\n",
    "    ntries += 1\n",
    "\n",
    "    # move again\n",
    "    pfi.moveXY(myCobras, curPos, targets)"
   ]
  },
  {
   "cell_type": "code",
   "execution_count": null,
   "metadata": {},
   "outputs": [],
   "source": []
  }
 ],
 "metadata": {
  "kernelspec": {
   "display_name": "Python 3",
   "language": "python",
   "name": "python3"
  },
  "language_info": {
   "codemirror_mode": {
    "name": "ipython",
    "version": 3
   },
   "file_extension": ".py",
   "mimetype": "text/x-python",
   "name": "python",
   "nbconvert_exporter": "python",
   "pygments_lexer": "ipython3",
   "version": "3.6.5"
  }
 },
 "nbformat": 4,
 "nbformat_minor": 2
}
