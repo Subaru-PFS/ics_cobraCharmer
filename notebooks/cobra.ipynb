{
 "cells": [
  {
   "cell_type": "code",
   "execution_count": 1,
   "metadata": {
    "ExecuteTime": {
     "end_time": "2018-05-18T10:04:31.318604Z",
     "start_time": "2018-05-18T10:04:31.310254Z"
    }
   },
   "outputs": [],
   "source": [
    "from importlib import reload\n",
    "import numpy as np\n",
    "import time"
   ]
  },
  {
   "cell_type": "code",
   "execution_count": 2,
   "metadata": {
    "ExecuteTime": {
     "end_time": "2018-05-18T10:04:31.318604Z",
     "start_time": "2018-05-18T10:04:31.310254Z"
    }
   },
   "outputs": [
    {
     "data": {
      "text/plain": [
       "<module 'ics.cobraCharmer.pfi' from '/home/cwen/mhs/devel/ics_cobraCharmer/python/ics/cobraCharmer/pfi.py'>"
      ]
     },
     "execution_count": 2,
     "metadata": {},
     "output_type": "execute_result"
    }
   ],
   "source": [
    "from ics.cobraCharmer import pfi as pfiControl\n",
    "reload(pfiControl)"
   ]
  },
  {
   "cell_type": "code",
   "execution_count": 3,
   "metadata": {
    "ExecuteTime": {
     "end_time": "2018-05-18T10:04:35.244721Z",
     "start_time": "2018-05-18T10:04:35.202699Z"
    }
   },
   "outputs": [],
   "source": [
    "mod1Cobras = pfiControl.PFI.allocateCobraRange(range(1,2))\n",
    "allCobras = mod1Cobras\n",
    "oneCobra = pfiControl.PFI.allocateCobraList([(1,2)])\n",
    "twoCobras = pfiControl.PFI.allocateCobraList([(1,2), (1,5)])\n",
    "\n",
    "# partition module 1 cobras into non-interfering sets\n",
    "moduleCobras = {}\n",
    "for group in 1,2,3:\n",
    "    cm = range(group,58,3)\n",
    "    mod = [1]*len(cm)\n",
    "    moduleCobras[group] = pfiControl.PFI.allocateCobraList(zip(mod,cm))\n",
    "group1Cobras = moduleCobras[1]\n",
    "group2Cobras = moduleCobras[2]\n",
    "group3Cobras = moduleCobras[3]\n",
    "\n",
    "# partition module 1 cobras into odd and even sets\n",
    "moduleCobras2 = {}\n",
    "for group in 1,2:\n",
    "    cm = range(group,58,2)\n",
    "    mod = [1]*len(cm)\n",
    "    moduleCobras2[group] = pfiControl.PFI.allocateCobraList(zip(mod,cm))\n",
    "oddCobras = moduleCobras2[1]\n",
    "evenCobras = moduleCobras2[2]"
   ]
  },
  {
   "cell_type": "code",
   "execution_count": 4,
   "metadata": {
    "ExecuteTime": {
     "end_time": "2018-05-18T10:04:35.244721Z",
     "start_time": "2018-05-18T10:04:35.202699Z"
    }
   },
   "outputs": [
    {
     "name": "stderr",
     "output_type": "stream",
     "text": [
      "2018-10-22T17:33:31.151 20 fpgaIO     FPGA connection to localhost\n",
      "2018-10-22T17:33:31.611 20 fpga       load cobra model from ../xml/updatedLinksAndMaps.xml\n",
      "2018-10-22T17:33:31.613 20 log.short  --- ISSUE SETFREQ & VERIFY (brd:1) ---\n",
      "2018-10-22T17:33:31.615 20 log.eth    (ETH)Sent msg on socket.\n",
      "(0300003907d088cd\t081300fd00940823\t00fd0099101300fb\t009a102300fc0099\t\n",
      "181300fd00981823\t00fc009720130100\t0097202300fc0098\t281300fa00992823\t\n",
      "00fc0097301300fe\t0095302300fd0098\t381300fe00973823\t00fc0098401300fa\t\n",
      "0097402300fc009a\t481300fc00984823\t00fe0096501300fd\t0098502300fa0097\t\n",
      "581300fb00975823\t00fe0099601300fc\t0099602300fa0098\t681300fd00976823\t\n",
      "01000096701300fd\t0099702300fd0094\t781300fc00977823\t00fc0098801300fb\t\n",
      "0093802300fb0096\t881300fb00988823\t00fd0098901300fd\t0096902300fa0098\t\n",
      "981300ff00979823\t00fa0098a01300ff\t0099a02300fe0096\ta81300fc0097a823\t\n",
      "01000098b01300fd\t0097b02301010099\tb81300fa0097b823\t00fc0098c01300fa\t\n",
      "0097c02300fe0098\tc81300fc0096c823\t00f80096d01300fa\t0097d02300f90097\t\n",
      "d81300f80099d823\t00fb0099e01300fa\t009ae02300f70095\te81300fc009a)\n",
      "2018-10-22T17:33:31.623 20 log.eth    (ETH)Rcvd msg on socket.\n",
      "(030000000000)\n",
      "2018-10-22T17:33:31.624 20 log.medium SetFrequency tlm rx'd. (Code:0) (Message:0)\n",
      "2018-10-22T17:33:31.625 20 log.eth    (ETH)Rcvd msg on socket.\n",
      "(030000000000)\n",
      "2018-10-22T17:33:31.626 20 log.medium SetFrequency tlm rx'd. (Code:0) (Message:0)\n",
      "2018-10-22T17:33:31.627 20 fpga       send SET command succeeded\n"
     ]
    }
   ],
   "source": [
    "#pfi = pfiControl.PFI(fpgaHost='128.149.77.24') #'fpga' for real device.\n",
    "pfi = pfiControl.PFI(fpgaHost='localhost', doLoadModel=False)\n",
    "pfi.loadModel('../xml/updatedLinksAndMaps.xml')\n",
    "pfi.setFreq(allCobras)"
   ]
  },
  {
   "cell_type": "code",
   "execution_count": 5,
   "metadata": {},
   "outputs": [
    {
     "name": "stderr",
     "output_type": "stream",
     "text": [
      "2018-10-22T17:33:31.803 20 fpga       load cobra model from ../xml/ASRD1016.xml\n"
     ]
    }
   ],
   "source": [
    "pfi.loadModel('../xml/ASRD1016.xml')"
   ]
  },
  {
   "cell_type": "code",
   "execution_count": null,
   "metadata": {},
   "outputs": [],
   "source": [
    "pfi.disconnect()"
   ]
  },
  {
   "cell_type": "code",
   "execution_count": null,
   "metadata": {},
   "outputs": [],
   "source": [
    "pfi.connect(fpgaHost='localhost')"
   ]
  },
  {
   "cell_type": "code",
   "execution_count": null,
   "metadata": {},
   "outputs": [],
   "source": [
    "pfi.reset()"
   ]
  },
  {
   "cell_type": "code",
   "execution_count": null,
   "metadata": {},
   "outputs": [],
   "source": [
    "pfi.power()"
   ]
  },
  {
   "cell_type": "code",
   "execution_count": null,
   "metadata": {},
   "outputs": [],
   "source": [
    "pfi.moveThetaPhi(oneCobra, [-0.1], [-0.1], [1.0], [0.5])"
   ]
  },
  {
   "cell_type": "code",
   "execution_count": null,
   "metadata": {
    "scrolled": true
   },
   "outputs": [],
   "source": [
    "pfi.moveAllThetaPhi(allCobras, 0.1, 0.2, thetaHome='ccw', phiHome='CW')"
   ]
  },
  {
   "cell_type": "code",
   "execution_count": null,
   "metadata": {},
   "outputs": [],
   "source": [
    "pfi.thetaToGlobal(oddCobras, [np.deg2rad(1)]*len(oddCobras), thetaHome=pfi.CW)"
   ]
  },
  {
   "cell_type": "code",
   "execution_count": null,
   "metadata": {},
   "outputs": [],
   "source": [
    "pfi.thetaToLocal(oddCobras, [np.deg2rad(15)]*len(oddCobras), thetaHome='cw')"
   ]
  },
  {
   "cell_type": "code",
   "execution_count": null,
   "metadata": {
    "ExecuteTime": {
     "end_time": "2018-05-18T10:04:35.244721Z",
     "start_time": "2018-05-18T10:04:35.202699Z"
    }
   },
   "outputs": [],
   "source": [
    "# Calculate outward angles\n",
    "oddMoves = pfi.thetaToLocal(oddCobras, [np.deg2rad(135)]*len(oddCobras))\n",
    "oddMoves[oddMoves>1.85*np.pi] = 0\n",
    "\n",
    "evenMoves = pfi.thetaToLocal(evenCobras, [np.deg2rad(315)]*len(evenCobras))\n",
    "evenMoves[evenMoves>1.85*np.pi] = 0\n",
    "\n",
    "allMoves = np.zeros(57)\n",
    "allMoves[::2] = oddMoves\n",
    "allMoves[1::2] = evenMoves\n",
    "\n",
    "def moveCobra(c, theta, phi):\n",
    "    pfi.moveSteps([allCobras[c-1]], np.zeros(1)+theta, np.zeros(1)+phi)\n",
    "\n",
    "def moveCobras(cs, theta, phi):\n",
    "    cobs = []\n",
    "    for c in cs:\n",
    "        cobs.append(allCobras[c-1])\n",
    "    pfi.moveSteps(cobs, np.array(theta), np.array(phi))"
   ]
  },
  {
   "cell_type": "code",
   "execution_count": null,
   "metadata": {
    "ExecuteTime": {
     "end_time": "2018-05-18T10:04:35.244721Z",
     "start_time": "2018-05-18T10:04:35.202699Z"
    }
   },
   "outputs": [],
   "source": [
    "# The updated steps for moving cobras to up/down positions\n",
    "allSteps = np.array([3200., 4300,    0., 4800., 1400,\n",
    " 6000.,  1400., 3267.39039139, 2934.04991828, 0.,\n",
    " 1440.0769006,  1108.36510939, 2447.07789072, 3300., 6000.,\n",
    "   22.40497809,  233.60670712, 2846.80763061,  717.26507015, 1432.59642308,\n",
    "  263.22585701, 1200.,  135.92568801, 4880.22316911,    0.,\n",
    " 1700.,  411.15612259, 4190.63271838,  309.95326555,  937.61978123,\n",
    " 3527.60958129, 1882.10623443,  667.63393703, 2331.33049693, 1008.7811692,\n",
    "    0.,         3430.76739972, 2833.79313889,  836.87837639, 4200.,\n",
    " 1389.91444697, 2214.89547244, 3659.6670764,  900., 3624.95167338,\n",
    " 3200.,    0.,         4000.,  707.3192973,  2546.98893839,\n",
    " 1919.88595392, 1753.70977189, 3894.01513043, 3600., 900.,\n",
    " 1847.58659938,  833.76207202])"
   ]
  },
  {
   "cell_type": "code",
   "execution_count": null,
   "metadata": {
    "scrolled": true
   },
   "outputs": [],
   "source": [
    "# move a few cobras to outward position\n",
    "cs = [28,31,38,41,46]\n",
    "cind = np.array(cs) - 1\n",
    "cnt = len(cind)\n",
    "\n",
    "for i in range(3):\n",
    "    # Home theta for multiple cobras\n",
    "    moveCobras(cs, [-15000] * cnt, [0] * cnt)\n",
    "\n",
    "    # Move multiple cobras\n",
    "    moveCobras(cs, allSteps[cind], [0] * cnt)\n",
    "\n",
    "    # sleep for three second\n",
    "    time.sleep(3.0)"
   ]
  },
  {
   "cell_type": "code",
   "execution_count": null,
   "metadata": {},
   "outputs": [],
   "source": [
    "# move all cobras to outward position\n",
    "for i in range(3):\n",
    "    # Home theta for all cobras\n",
    "    pfi.moveSteps(allCobras, np.zeros(57)-15000, np.zeros(57))\n",
    "\n",
    "    # Move all cobras to up/down positions\n",
    "    pfi.moveSteps(allCobras, allSteps, np.zeros(57))\n",
    "\n",
    "    # sleep for three second\n",
    "    time.sleep(3.0)"
   ]
  },
  {
   "cell_type": "code",
   "execution_count": null,
   "metadata": {
    "scrolled": true
   },
   "outputs": [],
   "source": [
    "# Home theta\n",
    "pfi.homeTheta(allCobras, nsteps=15000, dir='ccw')"
   ]
  },
  {
   "cell_type": "code",
   "execution_count": null,
   "metadata": {},
   "outputs": [],
   "source": [
    "# Home phi in safe way\n",
    "pfi.homePhiSafe(allCobras, nsteps=5000, dir='ccw')"
   ]
  },
  {
   "cell_type": "code",
   "execution_count": null,
   "metadata": {
    "scrolled": true
   },
   "outputs": [],
   "source": [
    "# Home phi\n",
    "pfi.homePhi(allCobras, dir='ccw')"
   ]
  },
  {
   "cell_type": "code",
   "execution_count": null,
   "metadata": {},
   "outputs": [],
   "source": [
    "# Move one cobra\n",
    "moveCobra(4, 4800, 0)"
   ]
  },
  {
   "cell_type": "code",
   "execution_count": null,
   "metadata": {},
   "outputs": [],
   "source": [
    "# Move multiple cobras\n",
    "moveCobras((28, 46), (4800, 5200), (20, -100))"
   ]
  },
  {
   "cell_type": "code",
   "execution_count": null,
   "metadata": {
    "scrolled": true
   },
   "outputs": [],
   "source": [
    "# Move all cobras to up/down positions, the steps are calculated from motor maps\n",
    "pfi.moveThetaPhi(allCobras, allMoves, np.zeros(57))"
   ]
  },
  {
   "cell_type": "code",
   "execution_count": null,
   "metadata": {},
   "outputs": [],
   "source": [
    "# The angles to up/down positions\n",
    "np.rad2deg(allMoves)"
   ]
  },
  {
   "cell_type": "code",
   "execution_count": null,
   "metadata": {
    "ExecuteTime": {
     "end_time": "2018-05-18T01:45:04.925453Z",
     "start_time": "2018-05-18T01:45:04.916173Z"
    },
    "scrolled": true
   },
   "outputs": [],
   "source": [
    "# Cobra motor map parameters\n",
    "print(pfi.calibModel.motorFreq1, pfi.calibModel.motorFreq2)\n",
    "print(pfi.calibModel.motorOntimeFwd1, pfi.calibModel.motorOntimeFwd2)\n",
    "print(pfi.calibModel.tht0, pfi.calibModel.tht1)"
   ]
  },
  {
   "cell_type": "code",
   "execution_count": null,
   "metadata": {
    "scrolled": true
   },
   "outputs": [],
   "source": [
    "# Script to measure cobra centers, arm lengths, motor maps\n",
    "steps = 500\n",
    "zeros = np.zeros(19)\n",
    "for g, cobraGroup in enumerate(moduleCobras.values()):\n",
    "    pfi.moveSteps(cobraGroup, zeros-15000, zeros)\n",
    "    for i in range(10):\n",
    "        pfi.moveSteps(cobraGroup, zeros, zeros+steps)\n",
    "        time.sleep(0.5)\n",
    "    pfi.moveSteps(cobraGroup, zeros, zeros+5000)\n",
    "    time.sleep(5)\n",
    "    for i in range(30):\n",
    "        pfi.moveSteps(cobraGroup, zeros+steps, zeros)\n",
    "        time.sleep(0.5)\n",
    "    pfi.moveSteps(cobraGroup, zeros+15000, zeros)\n",
    "    time.sleep(5)\n",
    "    for i in range(30):\n",
    "        pfi.moveSteps(cobraGroup, zeros-steps, zeros)\n",
    "        time.sleep(0.5)\n",
    "    pfi.moveSteps(cobraGroup, zeros-15000, zeros)\n",
    "    time.sleep(5)\n",
    "    for i in range(10):\n",
    "        pfi.moveSteps(cobraGroup, zeros, zeros-steps)\n",
    "        time.sleep(0.5)\n",
    "    pfi.moveSteps(cobraGroup, zeros, zeros-5000)\n",
    "    time.sleep(5)\n",
    "    pfi.moveSteps(cobraGroup, allSteps[g::3], np.zeros(19))\n",
    "    time.sleep(5)"
   ]
  },
  {
   "cell_type": "code",
   "execution_count": null,
   "metadata": {},
   "outputs": [],
   "source": [
    "np.rad2deg(pfi.motorMap.phiOffsets[0])"
   ]
  },
  {
   "cell_type": "code",
   "execution_count": null,
   "metadata": {},
   "outputs": [],
   "source": [
    "pfi.motorMap.posPhiSteps[0]"
   ]
  },
  {
   "cell_type": "code",
   "execution_count": null,
   "metadata": {},
   "outputs": [],
   "source": [
    "pfi.motorMap.negPhiSteps[0]"
   ]
  },
  {
   "cell_type": "code",
   "execution_count": null,
   "metadata": {},
   "outputs": [],
   "source": [
    "np.rad2deg(pfi.motorMap.phiOffsets[0])"
   ]
  },
  {
   "cell_type": "code",
   "execution_count": null,
   "metadata": {},
   "outputs": [],
   "source": [
    "pfi.moveSteps(oneCobra, [15000], [-1000], dirs=[(-1,1)])"
   ]
  },
  {
   "cell_type": "code",
   "execution_count": null,
   "metadata": {},
   "outputs": [],
   "source": [
    "pfi.anglesToPositions(oneCobra, [0], [0])"
   ]
  },
  {
   "cell_type": "code",
   "execution_count": null,
   "metadata": {},
   "outputs": [],
   "source": [
    "pfi.anglesToPositions(twoCobras, [1.8, 0.01], [0.5, 3.0])"
   ]
  },
  {
   "cell_type": "code",
   "execution_count": null,
   "metadata": {},
   "outputs": [],
   "source": [
    "pfi.anglesToPositions(twoCobras, [0.4, 0.01], [0.01, 1.0])"
   ]
  },
  {
   "cell_type": "code",
   "execution_count": null,
   "metadata": {},
   "outputs": [],
   "source": [
    "pfi.positionsToAngles(twoCobras, [1711.41620152+971.24790363j, 1583.51743468+946.28961668j])"
   ]
  },
  {
   "cell_type": "code",
   "execution_count": 6,
   "metadata": {},
   "outputs": [
    {
     "name": "stderr",
     "output_type": "stream",
     "text": [
      "2018-10-22T17:33:38.498 20 fpga       engaged cobras: [(1, 2), (1, 5)]\n",
      "2018-10-22T17:33:38.500 20 fpga       move to: [(0.7782917764206472, 0.03805589509404259), (0.010000000777012685, 2.999999998622861)]\n",
      "2018-10-22T17:33:38.501 20 fpga       move from: [(0.6321349466890247, 0.04805589558317806), (0.010000000036441525, 1.0000000000915832)]\n",
      "2018-10-22T17:33:38.505 20 fpga       steps: [(208.55818989010788, -3.1110268944791297), (3.6375140943789575e-07, 855.0409560482854)]\n",
      "2018-10-22T17:33:38.506 20 log.short  --- ISSUE RUN & VERIFY (2) ---\n",
      "2018-10-22T17:33:38.507 20 log.full   (C2,1 (35, 30)uS x(208, 3) d(0, 0) ['cw', 'ccw']) (C1,3 (56, 38)uS x(0, 855) d(0, 0) ['cw', 'cw']) \n",
      "2018-10-22T17:33:38.507 20 log.medium Timeout:65535, inter:156\n",
      "2018-10-22T17:33:38.508 20 log.eth    (ETH)Sent msg on socket.\n",
      "(01000002ffff009c\tfb31082e002300d0\t0000001e00030000\t1818003800000000\t\n",
      "002603570000)\n",
      "2018-10-22T17:33:38.510 20 log.eth    (ETH)Rcvd msg on socket.\n",
      "(010000000000)\n",
      "2018-10-22T17:33:38.510 20 log.medium Run tlm rx'd. (Code:0) (Message:0)\n",
      "2018-10-22T17:33:38.511 20 log.eth    (ETH)Rcvd msg on socket.\n",
      "(010000000000)\n",
      "2018-10-22T17:33:38.512 20 log.medium Run tlm rx'd. (Code:0) (Message:0)\n",
      "2018-10-22T17:33:38.512 20 fpga       send RUN command succeeded\n"
     ]
    }
   ],
   "source": [
    "pfi.moveXY(twoCobras,\n",
    "           [1711.04763067+971.6405348j, 1599.65210356+901.09703541j],\n",
    "           [1711.41620152+971.24790363j, 1583.51743468+946.28961668j],\n",
    "          )"
   ]
  },
  {
   "cell_type": "code",
   "execution_count": 8,
   "metadata": {},
   "outputs": [
    {
     "name": "stderr",
     "output_type": "stream",
     "text": [
      "2018-10-22T17:33:55.102 20 fpga       some target positions are invalid\n",
      "2018-10-22T17:33:55.104 20 fpga       engaged cobras: [(1, 2)]\n",
      "2018-10-22T17:33:55.105 20 fpga       move to: [(1.7999999999445446, 0.4999999998734284)]\n",
      "2018-10-22T17:33:55.107 20 fpga       move from: [(0.0, 0.0)]\n",
      "2018-10-22T17:33:55.111 20 fpga       steps: [(2428.7516439294795, 249.88722659498183)]\n",
      "2018-10-22T17:33:55.113 20 log.short  --- ISSUE RUN & VERIFY (2) ---\n",
      "2018-10-22T17:33:55.113 20 log.full   (C2,1 (35, 21)uS x(2428, 249) d(0, 0) ['cw', 'cw']) \n",
      "2018-10-22T17:33:55.114 20 log.medium Timeout:65535, inter:156\n",
      "2018-10-22T17:33:55.115 20 log.eth    (ETH)Sent msg on socket.\n",
      "(01000001ffff009c\tfb7a082c0023097c\t0000001500f90000\t)\n",
      "2018-10-22T17:33:55.116 20 log.eth    (ETH)Rcvd msg on socket.\n",
      "(010000000000)\n",
      "2018-10-22T17:33:55.117 20 log.medium Run tlm rx'd. (Code:0) (Message:0)\n",
      "2018-10-22T17:33:55.118 20 log.eth    (ETH)Rcvd msg on socket.\n",
      "(010000000000)\n",
      "2018-10-22T17:33:55.118 20 log.medium Run tlm rx'd. (Code:0) (Message:0)\n",
      "2018-10-22T17:33:55.119 20 fpga       send RUN command succeeded\n"
     ]
    }
   ],
   "source": [
    "pfi.moveXYfromHome(twoCobras, [1703.7830214 +963.56304167j, 2583.51743468+946.28961668j])"
   ]
  },
  {
   "cell_type": "code",
   "execution_count": null,
   "metadata": {},
   "outputs": [],
   "source": [
    "a = np.array([1.0, 3.0])\n",
    "b = [2.0, 2.0]"
   ]
  },
  {
   "cell_type": "code",
   "execution_count": null,
   "metadata": {},
   "outputs": [],
   "source": [
    "a < b"
   ]
  },
  {
   "cell_type": "code",
   "execution_count": null,
   "metadata": {},
   "outputs": [],
   "source": [
    "np.any(np.all([a > b, a < b], axis=0))"
   ]
  },
  {
   "cell_type": "code",
   "execution_count": null,
   "metadata": {},
   "outputs": [],
   "source": [
    "c = np.array([0.0, np.nan])"
   ]
  },
  {
   "cell_type": "code",
   "execution_count": null,
   "metadata": {},
   "outputs": [],
   "source": [
    "[tht >= 0 for tht in c]"
   ]
  },
  {
   "cell_type": "code",
   "execution_count": null,
   "metadata": {},
   "outputs": [],
   "source": [
    "np.isnan(c) == False"
   ]
  },
  {
   "cell_type": "code",
   "execution_count": null,
   "metadata": {},
   "outputs": [],
   "source": [
    "np.nan < 0"
   ]
  },
  {
   "cell_type": "code",
   "execution_count": null,
   "metadata": {},
   "outputs": [],
   "source": [
    "np.log(-1.0)"
   ]
  },
  {
   "cell_type": "code",
   "execution_count": null,
   "metadata": {},
   "outputs": [],
   "source": []
  }
 ],
 "metadata": {
  "kernelspec": {
   "display_name": "Python 3",
   "language": "python",
   "name": "python3"
  },
  "language_info": {
   "codemirror_mode": {
    "name": "ipython",
    "version": 3
   },
   "file_extension": ".py",
   "mimetype": "text/x-python",
   "name": "python",
   "nbconvert_exporter": "python",
   "pygments_lexer": "ipython3",
   "version": "3.6.5"
  },
  "toc": {
   "nav_menu": {},
   "number_sections": true,
   "sideBar": true,
   "skip_h1_title": false,
   "title_cell": "Table of Contents",
   "title_sidebar": "Contents",
   "toc_cell": false,
   "toc_position": {},
   "toc_section_display": true,
   "toc_window_display": false
  }
 },
 "nbformat": 4,
 "nbformat_minor": 2
}
