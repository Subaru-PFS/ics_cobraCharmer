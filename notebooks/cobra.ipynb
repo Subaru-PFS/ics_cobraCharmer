{
 "cells": [
  {
   "cell_type": "code",
   "execution_count": 1,
   "metadata": {
    "ExecuteTime": {
     "end_time": "2018-05-18T10:04:31.318604Z",
     "start_time": "2018-05-18T10:04:31.310254Z"
    }
   },
   "outputs": [
    {
     "data": {
      "text/plain": [
       "<module 'ics.cobraCharmer.pfi' from '/home/cwen/mhs/devel/ics_cobraCharmer/python/ics/cobraCharmer/pfi.py'>"
      ]
     },
     "execution_count": 1,
     "metadata": {},
     "output_type": "execute_result"
    }
   ],
   "source": [
    "from importlib import reload\n",
    "import numpy as np\n",
    "import time\n",
    "\n",
    "from ics.cobraCharmer import pfi as pfiControl\n",
    "reload(pfiControl)"
   ]
  },
  {
   "cell_type": "code",
   "execution_count": 13,
   "metadata": {
    "ExecuteTime": {
     "end_time": "2018-05-20T07:30:52.315541Z",
     "start_time": "2018-05-20T07:30:52.311177Z"
    }
   },
   "outputs": [],
   "source": [
    "# pfiCobras = PFI.allocateCobraRange(range(1,43))\n",
    "\n",
    "mod1Cobras = pfiControl.PFI.allocateCobraRange(range(1,2))\n",
    "allCobras = mod1Cobras\n",
    "oneCobra = pfiControl.PFI.allocateCobraList([(1,1)])\n",
    "twoCobras = pfiControl.PFI.allocateCobraList([(1,1), (1,2)])\n",
    "\n",
    "# partition module 1 cobras into non-interfering sets\n",
    "moduleCobras = {}\n",
    "for group in 1,2,3:\n",
    "    cm = range(group,58,3)\n",
    "    mod = [1]*len(cm)\n",
    "    moduleCobras[group] = pfiControl.PFI.allocateCobraList(zip(mod,cm))\n",
    "group1Cobras = moduleCobras[1]\n",
    "group2Cobras = moduleCobras[2]\n",
    "group3Cobras = moduleCobras[3]\n",
    "\n",
    "# partition module 1 cobras into odd and even sets\n",
    "moduleCobras2 = {}\n",
    "for group in 1,2:\n",
    "    cm = range(group,58,2)\n",
    "    mod = [1]*len(cm)\n",
    "    moduleCobras2[group] = pfiControl.PFI.allocateCobraList(zip(mod,cm))\n",
    "oddCobras = moduleCobras2[1]\n",
    "evenCobras = moduleCobras2[2]"
   ]
  },
  {
   "cell_type": "code",
   "execution_count": 6,
   "metadata": {
    "ExecuteTime": {
     "end_time": "2018-05-18T10:04:35.244721Z",
     "start_time": "2018-05-18T10:04:35.202699Z"
    }
   },
   "outputs": [],
   "source": [
    "#pfi = pfiControl.PFI(fpgaHost='128.149.77.24') #'fpga' for real device.\n",
    "pfi = pfiControl.PFI(fpgaHost='localhost')\n",
    "pfi.setFreq(allCobras)"
   ]
  },
  {
   "cell_type": "code",
   "execution_count": 14,
   "metadata": {
    "ExecuteTime": {
     "end_time": "2018-05-20T07:30:38.214811Z",
     "start_time": "2018-05-20T07:30:38.211215Z"
    }
   },
   "outputs": [
    {
     "name": "stdout",
     "output_type": "stream",
     "text": [
      "['1,1', '1,3', '1,5', '1,7', '1,9', '1,11', '1,13', '1,15', '1,17', '1,19', '1,21', '1,23', '1,25', '1,27', '1,29', '1,31', '1,33', '1,35', '1,37', '1,39', '1,41', '1,43', '1,45', '1,47', '1,49', '1,51', '1,53', '1,55', '1,57']\n"
     ]
    }
   ],
   "source": [
    "print([f\"{c.module},{c.cobraNum}\" for c in oddCobras])"
   ]
  },
  {
   "cell_type": "code",
   "execution_count": 9,
   "metadata": {
    "ExecuteTime": {
     "end_time": "2018-05-18T10:04:37.843315Z",
     "start_time": "2018-05-18T10:04:37.835417Z"
    }
   },
   "outputs": [],
   "source": [
    "for cobraGroup in moduleCobras.values():\n",
    "    pfi.homePhi(cobraGroup, dir='ccw')"
   ]
  },
  {
   "cell_type": "code",
   "execution_count": 10,
   "metadata": {},
   "outputs": [],
   "source": [
    "pfi.homeTheta(allCobras, dir='ccw')"
   ]
  },
  {
   "cell_type": "code",
   "execution_count": 11,
   "metadata": {
    "ExecuteTime": {
     "end_time": "2018-05-18T10:04:37.843315Z",
     "start_time": "2018-05-18T10:04:37.835417Z"
    }
   },
   "outputs": [],
   "source": [
    "for cobraGroup in moduleCobras.values():\n",
    "    pfi.homePhiSafe(cobraGroup, dir='ccw')"
   ]
  },
  {
   "cell_type": "code",
   "execution_count": null,
   "metadata": {
    "ExecuteTime": {
     "end_time": "2018-05-18T10:04:37.843315Z",
     "start_time": "2018-05-18T10:04:37.835417Z"
    }
   },
   "outputs": [],
   "source": [
    "c = pfiControl.PFI.allocateCobraList([(1,27)])\n",
    "pfi.homePhiSafe(c, dir='ccw', iterations=20)"
   ]
  },
  {
   "cell_type": "code",
   "execution_count": 29,
   "metadata": {},
   "outputs": [
    {
     "name": "stdout",
     "output_type": "stream",
     "text": [
      "thetaSteps:  [ 891.39038766 3909.66746822 1148.81774277 1813.37364147 1995.80337869\n",
      "  487.45555218 2022.24835946 4820.27210526 4295.7243541    26.68733938\n",
      " 3560.27595624 5117.87229552 7886.48479961 4388.73574714 3101.52003765\n",
      " 2964.17098193   73.48435231  127.49751775 2548.12967508 6277.80326879\n",
      "  521.08035192 3146.12731656 3178.68946018 4810.72536261  103.47205905\n",
      "  853.2445108  3339.38652207  505.27331008  283.83789456]\n",
      "phiSteps:  [0. 0. 0. 0. 0. 0. 0. 0. 0. 0. 0. 0. 0. 0. 0. 0. 0. 0. 0. 0. 0. 0. 0. 0.\n",
      " 0. 0. 0. 0. 0.]\n",
      "thetaSteps:  [4427.56542601 3362.0489191  4854.24666961 2856.86864008 4374.56854804\n",
      "  430.48637271 3551.67663975 3766.9340677  2096.23299315  987.41522088\n",
      "  462.68037727 4304.84857737  620.34042895 3769.56394171  215.14739244\n",
      "  738.49488175 1587.81833939 4017.24710991 2126.61273647 4737.70290975\n",
      "  308.8875733   734.39463398 3195.43122291 2032.94888421 2108.73681902\n",
      " 1093.40938346 4645.08590019  913.4764013 ]\n",
      "phiSteps:  [0. 0. 0. 0. 0. 0. 0. 0. 0. 0. 0. 0. 0. 0. 0. 0. 0. 0. 0. 0. 0. 0. 0. 0.\n",
      " 0. 0. 0. 0.]\n"
     ]
    }
   ],
   "source": [
    "# move cobras to safe position\n",
    "pfi.homePhiSafe(allCobras)\n",
    "pfi.homeTheta(allCobras)\n",
    "oddMoves = pfi.thetaToLocal(oddCobras, [np.deg2rad(90)]*len(oddCobras))\n",
    "pfi.moveThetaPhi(oddCobras, oddMoves, np.zeros(len(oddCobras)))\n",
    "evenMoves = pfi.thetaToLocal(evenCobras, [np.deg2rad(270)]*len(evenCobras))\n",
    "pfi.moveThetaPhi(evenCobras, evenMoves, np.zeros(len(evenCobras)))"
   ]
  },
  {
   "cell_type": "code",
   "execution_count": 25,
   "metadata": {},
   "outputs": [],
   "source": [
    "# for cobra measurement\n",
    "steps = 200\n",
    "sz = len(group1Cobras)\n",
    "ar = np.zeros(sz)\n",
    "for cobraGroup in moduleCobras.values():\n",
    "    for i in range(25):\n",
    "        pfi.moveSteps(cobraGroup, ar, ar+steps)\n",
    "        time.sleep(0.1)\n",
    "    for i in range(50):\n",
    "        pfi.moveSteps(cobraGroup, ar+steps, ar)\n",
    "        time.sleep(0.1)\n",
    "    pfi.moveSteps(cobraGroup, ar+10000, ar+5000)\n",
    "    for i in range(50):\n",
    "        pfi.moveSteps(cobraGroup, ar-steps, ar)\n",
    "        time.sleep(0.1)\n",
    "    for i in range(25):\n",
    "        pfi.moveSteps(cobraGroup, ar, ar-steps)\n",
    "        time.sleep(0.1)\n",
    "    pfi.moveSteps(cobraGroup, ar-10000, ar-5000)"
   ]
  },
  {
   "cell_type": "code",
   "execution_count": 5,
   "metadata": {
    "ExecuteTime": {
     "end_time": "2018-05-21T22:14:44.170034Z",
     "start_time": "2018-05-21T22:14:44.164662Z"
    }
   },
   "outputs": [
    {
     "data": {
      "text/plain": [
       "29"
      ]
     },
     "execution_count": 5,
     "metadata": {},
     "output_type": "execute_result"
    }
   ],
   "source": [
    "len(oddCobras)"
   ]
  },
  {
   "cell_type": "code",
   "execution_count": 16,
   "metadata": {
    "ExecuteTime": {
     "end_time": "2018-05-18T10:04:41.870521Z",
     "start_time": "2018-05-18T10:04:41.849718Z"
    }
   },
   "outputs": [
    {
     "name": "stdout",
     "output_type": "stream",
     "text": [
      "thetaSteps:  [3841.65426635 3088.94954706 3378.94788463 3072.14902198 1952.815411\n",
      " 2274.58841952 2765.61283922 3206.36751795 4984.22033894 2936.5169536\n",
      " 2087.60459557 2693.25507136 3068.31041475 4321.12069111 2974.93368525\n",
      " 2761.83902802 2799.07673357 2468.1391006  2425.96126887]\n",
      "phiSteps:  [0. 0. 0. 0. 0. 0. 0. 0. 0. 0. 0. 0. 0. 0. 0. 0. 0. 0. 0.]\n",
      "thetaSteps:  [3959.37521329 1595.00359291 2806.31560374 3829.75291852 2344.86993825\n",
      " 1617.40330859 1818.57775577 2950.57358686 6208.38550056 1589.9221843\n",
      " 4324.71876805 4391.29431787 2631.80244584 3794.44182991 1413.78682156\n",
      " 3684.26223553 2128.46483413 2808.36138962 3368.1221625 ]\n",
      "phiSteps:  [0. 0. 0. 0. 0. 0. 0. 0. 0. 0. 0. 0. 0. 0. 0. 0. 0. 0. 0.]\n",
      "thetaSteps:  [ 2616.5442304   3661.71268882  3584.50256111  3035.32864495\n",
      "  3556.2709541   3296.44432611  2436.12433233  4062.44738396\n",
      "  2497.05603566  2869.38776853  2407.97600494  2175.98225307\n",
      "  3258.40965019 10054.83912136  3307.46010079  3014.6118831\n",
      "  4354.91693391  3896.84903523  2258.8267008 ]\n",
      "phiSteps:  [0. 0. 0. 0. 0. 0. 0. 0. 0. 0. 0. 0. 0. 0. 0. 0. 0. 0. 0.]\n"
     ]
    }
   ],
   "source": [
    "for cobraGroup in moduleCobras.values():\n",
    "    pfi.moveAllThetaPhi(cobraGroup, np.deg2rad(180), 0.0)"
   ]
  },
  {
   "cell_type": "code",
   "execution_count": 17,
   "metadata": {
    "ExecuteTime": {
     "end_time": "2018-05-18T10:04:51.999223Z",
     "start_time": "2018-05-18T10:04:51.996380Z"
    }
   },
   "outputs": [],
   "source": [
    "c1 = [pfi.cobraBySerial(2356), pfi.cobraBySerial(1)]"
   ]
  },
  {
   "cell_type": "code",
   "execution_count": 18,
   "metadata": {
    "ExecuteTime": {
     "end_time": "2018-05-18T07:01:52.909844Z",
     "start_time": "2018-05-18T07:01:50.208175Z"
    }
   },
   "outputs": [],
   "source": [
    "pfi.homePhiSafe(oneCobra)"
   ]
  },
  {
   "cell_type": "code",
   "execution_count": 19,
   "metadata": {
    "ExecuteTime": {
     "end_time": "2018-05-18T10:05:11.000045Z",
     "start_time": "2018-05-18T10:05:10.992645Z"
    }
   },
   "outputs": [],
   "source": [
    "pfi.moveAllSteps(mod1Cobras, -1000, 50)"
   ]
  },
  {
   "cell_type": "code",
   "execution_count": 20,
   "metadata": {
    "ExecuteTime": {
     "end_time": "2018-05-18T10:05:16.515791Z",
     "start_time": "2018-05-18T10:05:16.512915Z"
    }
   },
   "outputs": [],
   "source": [
    "pfi.reset()"
   ]
  },
  {
   "cell_type": "code",
   "execution_count": 23,
   "metadata": {},
   "outputs": [],
   "source": [
    "pfi.homeTheta(oddCobras)"
   ]
  },
  {
   "cell_type": "code",
   "execution_count": 24,
   "metadata": {
    "ExecuteTime": {
     "end_time": "2018-05-18T01:45:04.925453Z",
     "start_time": "2018-05-18T01:45:04.916173Z"
    }
   },
   "outputs": [
    {
     "name": "stdout",
     "output_type": "stream",
     "text": [
      "[63241. 63241. 63745. 63492. 63241. 63492. 62500. 63492. 64000. 63492.\n",
      " 62992. 63241. 62992. 63492. 64000. 63492. 63492. 62992. 63241. 64000.\n",
      " 63745. 62992. 63492. 64000. 63241. 62500. 63241. 63241. 63492. 63492.\n",
      " 63745. 63745. 63745. 63241. 63241. 64000. 62745. 64000. 62745. 62992.\n",
      " 63492. 62500. 63241. 62256. 64000. 63492. 64000. 62992. 63492. 64516.\n",
      " 64000. 64257. 64516. 63745. 64000. 64777. 63492.] [108108. 104575. 103896. 104575. 105263. 105960. 105960. 105263. 104575.\n",
      " 105960. 107382. 105263. 105960. 105263. 105960. 103896. 105263. 106666.\n",
      " 105263. 105960. 105960. 104575. 104575. 105263. 105960. 106666. 104575.\n",
      " 108108. 105960. 105263. 108843. 106666. 105263. 105263. 106666. 105263.\n",
      " 105960. 105263. 104575. 106666. 105960. 105263. 105960. 104575. 105960.\n",
      " 105263. 105960. 105263. 106666. 106666. 105960. 105960. 104575. 104575.\n",
      " 103896. 107382. 103896.]\n",
      "[0.04572  0.035657 0.045208 0.034212 0.056261 0.035246 0.038806 0.04052\n",
      " 0.036665 0.043863 0.034893 0.038601 0.045718 0.040192 0.032984 0.044884\n",
      " 0.060648 0.030677 0.045    0.043477 0.044371 0.039775 0.025281 0.037573\n",
      " 0.026814 0.029857 0.037316 0.033515 0.055    0.036066 0.042911 0.030178\n",
      " 0.05     0.030303 0.033397 0.035871 0.029873 0.035119 0.031576 0.03845\n",
      " 0.028927 0.029009 0.032161 0.04     0.040494 0.0284   0.039198 0.033038\n",
      " 0.048    0.038619 0.032169 0.043978 0.033958 0.037041 0.042403 0.042559\n",
      " 0.040381] [0.036611 0.021366 0.021555 0.019963 0.038833 0.026347 0.02714  0.03098\n",
      " 0.021781 0.028458 0.031342 0.033744 0.031139 0.023686 0.036875 0.037611\n",
      " 0.038595 0.03     0.02802  0.021953 0.035    0.021292 0.038168 0.029417\n",
      " 0.028308 0.04     0.022151 0.0277   0.022297 0.02113  0.030902 0.026341\n",
      " 0.03     0.018485 0.028437 0.017803 0.027939 0.019489 0.034225 0.03\n",
      " 0.020884 0.02599  0.027661 0.02114  0.032926 0.02     0.029638 0.022913\n",
      " 0.03     0.018576 0.019898 0.02     0.02899  0.025337 0.026295 0.022561\n",
      " 0.026991]\n",
      "[0.94282102 0.94282102 2.72188375 0.64708983 5.46174442 0.5535003\n",
      " 5.99814707 1.46047059 6.06732428 5.99704318 1.17803426 4.27478888\n",
      " 4.56910047 0.29262853 3.38768945 5.46333412 1.87586197 2.95206679\n",
      " 1.54215912 3.02730167 1.99341065 4.17792356 2.20141653 1.28664758\n",
      " 2.37726473 4.41009818 1.88039803 0.36177675 1.67887574 4.47667078\n",
      " 2.95968887 3.96709993 1.47310718 2.81190666 1.41867505 5.61179277\n",
      " 5.19226736 2.11664367 1.60553693 1.16488563 1.08987101 4.55241737\n",
      " 4.54848244 3.00003572 4.92887273 0.94041365 2.57520877 2.59676551\n",
      " 1.45217014 1.60908114 0.91527972 3.25394934 3.66034151 1.10353074\n",
      " 0.97539383 3.65599876 1.14451652] [1.24821817 1.24821817 3.07154446 0.9651029  5.78697275 0.85715696\n",
      " 0.02145617 1.81599528 0.13446654 6.26487624 1.50630842 4.60008114\n",
      " 4.8753572  0.63801235 3.66834651 5.74895247 2.19544892 3.4614301\n",
      " 1.93979947 3.38005233 2.34800181 4.5478821  2.47996348 1.6055125\n",
      " 2.69014458 4.72511772 2.22894803 0.71369269 2.04160067 4.82193413\n",
      " 3.22209797 4.36196099 1.79600628 3.20258973 1.75623231 5.94275051\n",
      " 5.56242332 2.52607049 1.9655309  1.52154956 1.42176418 4.90259025\n",
      " 4.91588292 3.3309747  5.2637717  1.28190013 2.86019739 2.98192278\n",
      " 1.67491621 1.96481964 1.26583594 3.6032233  4.00248736 1.42053027\n",
      " 1.29505331 4.01407086 1.50515854]\n"
     ]
    }
   ],
   "source": [
    "print(pfi.calibModel.motorFreq1, pfi.calibModel.motorFreq2)\n",
    "print(pfi.calibModel.motorOntimeFwd1, pfi.calibModel.motorOntimeFwd2)\n",
    "print(pfi.calibModel.tht0, pfi.calibModel.tht1)"
   ]
  },
  {
   "cell_type": "code",
   "execution_count": 30,
   "metadata": {},
   "outputs": [
    {
     "data": {
      "text/plain": [
       "array([3.76956797, 4.06529915, 4.15888868, 3.25191839, 4.9985311 ,\n",
       "       0.4376001 , 4.41976045, 5.53224017, 1.76032219, 1.68508731,\n",
       "       0.53446542, 3.4257414 , 0.3022908 , 4.35061223, 0.2357182 ,\n",
       "       0.74528905, 1.90048232, 5.38378152, 2.59574531, 3.54750335,\n",
       "       0.15997161, 1.71235326, 3.77197533, 2.11562347, 3.10330784,\n",
       "       1.45843964, 3.60885824, 1.05639022])"
      ]
     },
     "execution_count": 30,
     "metadata": {},
     "output_type": "execute_result"
    }
   ],
   "source": [
    "evenMoves"
   ]
  },
  {
   "cell_type": "code",
   "execution_count": null,
   "metadata": {},
   "outputs": [],
   "source": []
  }
 ],
 "metadata": {
  "kernelspec": {
   "display_name": "Python 3",
   "language": "python",
   "name": "python3"
  },
  "language_info": {
   "codemirror_mode": {
    "name": "ipython",
    "version": 3
   },
   "file_extension": ".py",
   "mimetype": "text/x-python",
   "name": "python",
   "nbconvert_exporter": "python",
   "pygments_lexer": "ipython3",
   "version": "3.6.5"
  },
  "toc": {
   "nav_menu": {},
   "number_sections": true,
   "sideBar": true,
   "skip_h1_title": false,
   "title_cell": "Table of Contents",
   "title_sidebar": "Contents",
   "toc_cell": false,
   "toc_position": {},
   "toc_section_display": true,
   "toc_window_display": false
  }
 },
 "nbformat": 4,
 "nbformat_minor": 2
}
