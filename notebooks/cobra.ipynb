{
 "cells": [
  {
   "cell_type": "code",
   "execution_count": 1,
   "metadata": {
    "ExecuteTime": {
     "end_time": "2018-05-18T10:04:31.318604Z",
     "start_time": "2018-05-18T10:04:31.310254Z"
    }
   },
   "outputs": [
    {
     "data": {
      "text/plain": [
       "<module 'ics.cobraCharmer.pfi' from '/home/cwen/mhs/devel/ics_cobraCharmer/python/ics/cobraCharmer/pfi.py'>"
      ]
     },
     "execution_count": 1,
     "metadata": {},
     "output_type": "execute_result"
    }
   ],
   "source": [
    "from importlib import reload\n",
    "import numpy as np\n",
    "import time\n",
    "\n",
    "from ics.cobraCharmer import pfi as pfiControl\n",
    "reload(pfiControl)"
   ]
  },
  {
   "cell_type": "code",
   "execution_count": 2,
   "metadata": {
    "ExecuteTime": {
     "end_time": "2018-05-18T10:04:35.244721Z",
     "start_time": "2018-05-18T10:04:35.202699Z"
    }
   },
   "outputs": [],
   "source": [
    "mod1Cobras = pfiControl.PFI.allocateCobraRange(range(1,2))\n",
    "allCobras = mod1Cobras\n",
    "oneCobra = pfiControl.PFI.allocateCobraList([(1,1)])\n",
    "twoCobras = pfiControl.PFI.allocateCobraList([(1,1), (1,2)])\n",
    "\n",
    "# partition module 1 cobras into non-interfering sets\n",
    "moduleCobras = {}\n",
    "for group in 1,2,3:\n",
    "    cm = range(group,58,3)\n",
    "    mod = [1]*len(cm)\n",
    "    moduleCobras[group] = pfiControl.PFI.allocateCobraList(zip(mod,cm))\n",
    "group1Cobras = moduleCobras[1]\n",
    "group2Cobras = moduleCobras[2]\n",
    "group3Cobras = moduleCobras[3]\n",
    "\n",
    "# partition module 1 cobras into odd and even sets\n",
    "moduleCobras2 = {}\n",
    "for group in 1,2:\n",
    "    cm = range(group,58,2)\n",
    "    mod = [1]*len(cm)\n",
    "    moduleCobras2[group] = pfiControl.PFI.allocateCobraList(zip(mod,cm))\n",
    "oddCobras = moduleCobras2[1]\n",
    "evenCobras = moduleCobras2[2]"
   ]
  },
  {
   "cell_type": "code",
   "execution_count": 3,
   "metadata": {
    "ExecuteTime": {
     "end_time": "2018-05-18T10:04:35.244721Z",
     "start_time": "2018-05-18T10:04:35.202699Z"
    }
   },
   "outputs": [],
   "source": [
    "#pfi = pfiControl.PFI(fpgaHost='128.149.77.24') #'fpga' for real device.\n",
    "pfi = pfiControl.PFI(fpgaHost='localhost', doLoadModel=False)\n",
    "pfi.loadModel('../xml/2018_03_26_final_xml.xml')\n",
    "pfi.setFreq(allCobras)"
   ]
  },
  {
   "cell_type": "code",
   "execution_count": 4,
   "metadata": {
    "ExecuteTime": {
     "end_time": "2018-05-18T10:04:35.244721Z",
     "start_time": "2018-05-18T10:04:35.202699Z"
    }
   },
   "outputs": [],
   "source": [
    "# Calculate up/down angles\n",
    "oddMoves = pfi.thetaToLocal(oddCobras, [np.deg2rad(135)]*len(oddCobras))\n",
    "oddMoves[oddMoves>1.85*np.pi] = 0\n",
    "\n",
    "evenMoves = pfi.thetaToLocal(evenCobras, [np.deg2rad(315)]*len(evenCobras))\n",
    "evenMoves[evenMoves>1.85*np.pi] = 0\n",
    "\n",
    "allMoves = np.zeros(57)\n",
    "allMoves[::2] = oddMoves\n",
    "allMoves[1::2] = evenMoves\n",
    "\n",
    "def moveCobra(c, theta, phi):\n",
    "    pfi.moveSteps([allCobras[c-1]], np.zeros(1)+theta, np.zeros(1)+phi)\n",
    "\n",
    "def moveCobras(cs, theta, phi):\n",
    "    cobs = []\n",
    "    for c in cs:\n",
    "        cobs.append(allCobras[c-1])\n",
    "    pfi.moveSteps(cobs, np.array(theta), np.array(phi))"
   ]
  },
  {
   "cell_type": "code",
   "execution_count": 5,
   "metadata": {
    "ExecuteTime": {
     "end_time": "2018-05-18T10:04:35.244721Z",
     "start_time": "2018-05-18T10:04:35.202699Z"
    }
   },
   "outputs": [],
   "source": [
    "# The updated steps for moving cobras to up/down positions\n",
    "allSteps = np.array([3200., 4300,    0., 4800., 1400,\n",
    " 6000.,  1400., 3267.39039139, 2934.04991828, 0.,\n",
    " 1440.0769006,  1108.36510939, 2447.07789072, 3300., 6000.,\n",
    "   22.40497809,  233.60670712, 2846.80763061,  717.26507015, 1432.59642308,\n",
    "  263.22585701, 1200.,  135.92568801, 4880.22316911,    0.,\n",
    " 1700.,  411.15612259, 4190.63271838,  309.95326555,  937.61978123,\n",
    " 3527.60958129, 1882.10623443,  667.63393703, 2331.33049693, 1008.7811692,\n",
    "    0.,         3430.76739972, 2833.79313889,  836.87837639, 4200.,\n",
    " 1389.91444697, 2214.89547244, 3659.6670764,  900., 3624.95167338,\n",
    " 3200.,    0.,         4000.,  707.3192973,  2546.98893839,\n",
    " 1919.88595392, 1753.70977189, 3894.01513043, 3600., 900.,\n",
    " 1847.58659938,  833.76207202])"
   ]
  },
  {
   "cell_type": "code",
   "execution_count": 6,
   "metadata": {},
   "outputs": [],
   "source": [
    "# move a few cobras to outward position\n",
    "cs = [28,31,38,41,46]\n",
    "cind = np.array(cs) - 1\n",
    "cnt = len(cind)\n",
    "\n",
    "for i in range(3):\n",
    "    # Home theta for multiple cobras\n",
    "    moveCobras(cs, [-15000] * cnt, [0] * cnt)\n",
    "\n",
    "    # Move multiple cobras\n",
    "    moveCobras(cs, allSteps[cind], [0] * cnt)\n",
    "\n",
    "    # sleep for three second\n",
    "    time.sleep(3.0)"
   ]
  },
  {
   "cell_type": "code",
   "execution_count": 7,
   "metadata": {},
   "outputs": [],
   "source": [
    "# move all cobras to outward position\n",
    "for i in range(3):\n",
    "    # Home theta for all cobras\n",
    "    pfi.moveSteps(allCobras, np.zeros(57)-15000, np.zeros(57))\n",
    "\n",
    "    # Move all cobras to up/down positions\n",
    "    pfi.moveSteps(allCobras, allSteps, np.zeros(57))\n",
    "\n",
    "    # sleep for three second\n",
    "    time.sleep(3.0)"
   ]
  },
  {
   "cell_type": "code",
   "execution_count": 8,
   "metadata": {},
   "outputs": [],
   "source": [
    "# Home theta\n",
    "pfi.homeTheta(allCobras, nsteps=15000, dir='ccw')"
   ]
  },
  {
   "cell_type": "code",
   "execution_count": 9,
   "metadata": {},
   "outputs": [],
   "source": [
    "# Home phi in safe way\n",
    "pfi.homePhiSafe(allCobras, nsteps=5000, dir='ccw')"
   ]
  },
  {
   "cell_type": "code",
   "execution_count": 10,
   "metadata": {},
   "outputs": [],
   "source": [
    "# Home phi\n",
    "pfi.homePhi(allCobras, dir='ccw')"
   ]
  },
  {
   "cell_type": "code",
   "execution_count": 11,
   "metadata": {},
   "outputs": [],
   "source": [
    "# Move one cobra\n",
    "moveCobra(4, 4800, 0)"
   ]
  },
  {
   "cell_type": "code",
   "execution_count": 12,
   "metadata": {},
   "outputs": [],
   "source": [
    "# Move multiple cobras\n",
    "moveCobras((28, 46), (4800, 5200), (20, -100))"
   ]
  },
  {
   "cell_type": "code",
   "execution_count": 13,
   "metadata": {},
   "outputs": [
    {
     "name": "stdout",
     "output_type": "stream",
     "text": [
      "thetaSteps:  [1946.37017013 4944.10561599    0.         3612.31363426 1616.55721876\n",
      " 5737.7411516  2794.76809696 3267.39039139 2934.04991828 4822.8620753\n",
      " 1440.0769006  1108.36510939 2447.07789072 4433.48606627 5314.14202023\n",
      "   22.40497809  233.60670712 2846.80763061  717.26507015 1432.59642308\n",
      "  263.22585701 1246.65632275  135.92568801 4880.22316911    0.\n",
      " 1932.27263422  411.15612259 4190.63271838  309.95326555  937.61978123\n",
      " 3527.60958129 1882.10623443  667.63393703 2331.33049693 1008.7811692\n",
      "    0.         3430.76739972 2833.79313889  836.87837639 5566.04318772\n",
      " 1389.91444697 2214.89547244 3659.6670764  1083.38998761 3624.95167338\n",
      " 3660.94310085    0.         2806.92323943  707.3192973  2546.98893839\n",
      " 1919.88595392 1753.70977189 3894.01513043 6145.93989201 1278.54545365\n",
      " 1847.58659938  833.76207202]\n",
      "phiSteps:  [0. 0. 0. 0. 0. 0. 0. 0. 0. 0. 0. 0. 0. 0. 0. 0. 0. 0. 0. 0. 0. 0. 0. 0.\n",
      " 0. 0. 0. 0. 0. 0. 0. 0. 0. 0. 0. 0. 0. 0. 0. 0. 0. 0. 0. 0. 0. 0. 0. 0.\n",
      " 0. 0. 0. 0. 0. 0. 0. 0. 0.]\n"
     ]
    }
   ],
   "source": [
    "# Move all cobras to up/down positions, the steps are calculated from motor maps\n",
    "pfi.moveThetaPhi(allCobras, allMoves, np.zeros(57))"
   ]
  },
  {
   "cell_type": "code",
   "execution_count": null,
   "metadata": {},
   "outputs": [],
   "source": [
    "# The angles to up/down positions\n",
    "np.rad2deg(allMoves)"
   ]
  },
  {
   "cell_type": "code",
   "execution_count": null,
   "metadata": {
    "ExecuteTime": {
     "end_time": "2018-05-18T01:45:04.925453Z",
     "start_time": "2018-05-18T01:45:04.916173Z"
    }
   },
   "outputs": [],
   "source": [
    "# Cobra motor map parameters\n",
    "print(pfi.calibModel.motorFreq1, pfi.calibModel.motorFreq2)\n",
    "print(pfi.calibModel.motorOntimeFwd1, pfi.calibModel.motorOntimeFwd2)\n",
    "print(pfi.calibModel.tht0, pfi.calibModel.tht1)"
   ]
  },
  {
   "cell_type": "code",
   "execution_count": 16,
   "metadata": {},
   "outputs": [],
   "source": [
    "# Script to measure cobra centers, arm lengths, motor maps\n",
    "steps = 500\n",
    "zeros = np.zeros(19)\n",
    "for g, cobraGroup in enumerate(moduleCobras.values()):\n",
    "    for i in range(10):\n",
    "        pfi.moveSteps(cobraGroup, zeros, zeros+steps)\n",
    "        time.sleep(0.5)\n",
    "    time.sleep(5)\n",
    "    pfi.moveSteps(cobraGroup, zeros-15000, zeros)\n",
    "    time.sleep(5)\n",
    "    for i in range(30):\n",
    "        pfi.moveSteps(cobraGroup, zeros+steps, zeros)\n",
    "        time.sleep(0.5)\n",
    "    time.sleep(5)\n",
    "    for i in range(30):\n",
    "        pfi.moveSteps(cobraGroup, zeros-steps, zeros)\n",
    "        time.sleep(0.5)\n",
    "    time.sleep(5)\n",
    "    pfi.moveSteps(cobraGroup, allSteps[g::3], np.zeros(19))\n",
    "#    pfi.moveThetaPhi(cobraGroup, allMoves[g::3], np.zeros(19))\n",
    "    time.sleep(5)\n",
    "    for i in range(10):\n",
    "        pfi.moveSteps(cobraGroup, zeros, zeros-steps)\n",
    "        time.sleep(0.5)\n",
    "    time.sleep(5)"
   ]
  },
  {
   "cell_type": "code",
   "execution_count": null,
   "metadata": {},
   "outputs": [],
   "source": []
  }
 ],
 "metadata": {
  "kernelspec": {
   "display_name": "Python 3",
   "language": "python",
   "name": "python3"
  },
  "language_info": {
   "codemirror_mode": {
    "name": "ipython",
    "version": 3
   },
   "file_extension": ".py",
   "mimetype": "text/x-python",
   "name": "python",
   "nbconvert_exporter": "python",
   "pygments_lexer": "ipython3",
   "version": "3.6.5"
  },
  "toc": {
   "nav_menu": {},
   "number_sections": true,
   "sideBar": true,
   "skip_h1_title": false,
   "title_cell": "Table of Contents",
   "title_sidebar": "Contents",
   "toc_cell": false,
   "toc_position": {},
   "toc_section_display": true,
   "toc_window_display": false
  }
 },
 "nbformat": 4,
 "nbformat_minor": 2
}
