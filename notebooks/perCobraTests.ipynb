{
 "cells": [
  {
   "cell_type": "code",
   "execution_count": 1,
   "metadata": {},
   "outputs": [],
   "source": [
    "from importlib import reload"
   ]
  },
  {
   "cell_type": "code",
   "execution_count": 2,
   "metadata": {},
   "outputs": [],
   "source": [
    "from ics.cobraCharmer import ioUtils, pfi as pfiMod\n",
    "from pfs.utils import butler\n",
    "\n",
    "from ics.cobraCharmer import pfiDesign"
   ]
  },
  {
   "cell_type": "code",
   "execution_count": 3,
   "metadata": {},
   "outputs": [
    {
     "name": "stderr",
     "output_type": "stream",
     "text": [
      "2020-09-18 03:40:18.549Z root             30 spectroIds.py:38 no \"pfs-site.\" record found in DNS, using \"Z\"\n"
     ]
    }
   ],
   "source": [
    "b = butler.Butler()"
   ]
  },
  {
   "cell_type": "code",
   "execution_count": 4,
   "metadata": {},
   "outputs": [
    {
     "data": {
      "text/plain": [
       "['SC01',\n",
       " 'SC02',\n",
       " 'SC03',\n",
       " 'SC04',\n",
       " 'SC05',\n",
       " 'SC06',\n",
       " 'SC07',\n",
       " 'SC15',\n",
       " 'SC16',\n",
       " 'SC17',\n",
       " 'SC18',\n",
       " 'SC19',\n",
       " 'SC20',\n",
       " 'SC21',\n",
       " 'SC29',\n",
       " 'SC30',\n",
       " 'SC31',\n",
       " 'SC32',\n",
       " 'SC33',\n",
       " 'SC34',\n",
       " 'SC35']"
      ]
     },
     "execution_count": 4,
     "metadata": {},
     "output_type": "execute_result"
    }
   ],
   "source": [
    "modulesInPfi = b.get('pfi')['modules']\n",
    "modulesInPfi"
   ]
  },
  {
   "cell_type": "code",
   "execution_count": 5,
   "metadata": {},
   "outputs": [
    {
     "name": "stderr",
     "output_type": "stream",
     "text": [
      "/Users/cloomis/software/devel/ics_cobraCharmer/python/ics/cobraCharmer/utils/butler.py:178: YAMLLoadWarning: calling yaml.load() without Loader=... is deprecated, as the default Loader is unsafe. Please read https://msg.pyyaml.org/load for full details.\n",
      "  config = yaml.load(yamlFile)\n"
     ]
    }
   ],
   "source": [
    "reload(pfiDesign)\n",
    "pfiConfig = pfiDesign.PFIDesign.loadPfi(moduleVersion='final')"
   ]
  },
  {
   "cell_type": "code",
   "execution_count": 20,
   "metadata": {},
   "outputs": [],
   "source": [
    "reload(pfiDesign)\n",
    "bench2Config = pfiDesign.PFIDesign.loadPfi(version=\"bench2\")"
   ]
  },
  {
   "cell_type": "code",
   "execution_count": 21,
   "metadata": {},
   "outputs": [
    {
     "data": {
      "text/plain": [
       "{1: 'SP02'}"
      ]
     },
     "execution_count": 21,
     "metadata": {},
     "output_type": "execute_result"
    }
   ],
   "source": [
    "bench2Config.moduleNames"
   ]
  },
  {
   "cell_type": "code",
   "execution_count": 22,
   "metadata": {},
   "outputs": [
    {
     "name": "stderr",
     "output_type": "stream",
     "text": [
      "2020-09-18 04:07:56.732Z convert          20 ioUtils.py:39 converting module SP02 1, in position 1\n"
     ]
    }
   ],
   "source": [
    "reload(ioUtils)\n",
    "ioUtils.convertCobrasFromPfiDesign(b, bench2Config)"
   ]
  },
  {
   "cell_type": "code",
   "execution_count": 23,
   "metadata": {},
   "outputs": [
    {
     "name": "stderr",
     "output_type": "stream",
     "text": [
      "2020-09-18 04:08:09.614Z root             30 spectroIds.py:38 no \"pfs-site.\" record found in DNS, using \"Z\"\n",
      "2020-09-18 04:08:09.617Z pfi              20 pfi.py:66 loading module SP02 in PFI slot 1\n"
     ]
    }
   ],
   "source": [
    "reload(pfiMod)\n",
    "pfi = pfiMod.PFI(version='_bench2')"
   ]
  },
  {
   "cell_type": "code",
   "execution_count": 10,
   "metadata": {},
   "outputs": [
    {
     "name": "stdout",
     "output_type": "stream",
     "text": [
      "> \u001b[0;32m/Users/cloomis/software/devel/ics_cobraCharmer/python/ics/cobraCharmer/cobra.py\u001b[0m(174)\u001b[0;36m__str__\u001b[0;34m()\u001b[0m\n",
      "\u001b[0;32m    172 \u001b[0;31m\u001b[0;34m\u001b[0m\u001b[0m\n",
      "\u001b[0m\u001b[0;32m    173 \u001b[0;31m    \u001b[0;32mdef\u001b[0m \u001b[0m__str__\u001b[0m\u001b[0;34m(\u001b[0m\u001b[0mself\u001b[0m\u001b[0;34m)\u001b[0m\u001b[0;34m:\u001b[0m\u001b[0;34m\u001b[0m\u001b[0;34m\u001b[0m\u001b[0m\n",
      "\u001b[0m\u001b[0;32m--> 174 \u001b[0;31m        \u001b[0;32mreturn\u001b[0m \u001b[0;34mf\"Cobra({self.cobraNum}, module={self.moduleName} slot={self.moduleNum})\"\u001b[0m\u001b[0;34m\u001b[0m\u001b[0;34m\u001b[0m\u001b[0m\n",
      "\u001b[0m\u001b[0;32m    175 \u001b[0;31m\u001b[0;34m\u001b[0m\u001b[0m\n",
      "\u001b[0m\u001b[0;32m    176 \u001b[0;31m    def initFromParts(self, *,\n",
      "\u001b[0m\n"
     ]
    },
    {
     "name": "stdin",
     "output_type": "stream",
     "text": [
      "ipdb>  q\n"
     ]
    }
   ],
   "source": [
    "%debug"
   ]
  },
  {
   "cell_type": "code",
   "execution_count": null,
   "metadata": {},
   "outputs": [],
   "source": []
  }
 ],
 "metadata": {
  "kernelspec": {
   "display_name": "Python 3",
   "language": "python",
   "name": "python3"
  },
  "language_info": {
   "codemirror_mode": {
    "name": "ipython",
    "version": 3
   },
   "file_extension": ".py",
   "mimetype": "text/x-python",
   "name": "python",
   "nbconvert_exporter": "python",
   "pygments_lexer": "ipython3",
   "version": "3.8.3"
  }
 },
 "nbformat": 4,
 "nbformat_minor": 4
}
