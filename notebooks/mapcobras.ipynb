{
 "cells": [
  {
   "cell_type": "markdown",
   "metadata": {},
   "source": [
    "# Cobra Motor Mapping\n",
    "This notebook runs the cobras through ROM in 3 non-colliding groups in order to create controlled step motor maps for the module."
   ]
  },
  {
   "cell_type": "code",
   "execution_count": 2,
   "metadata": {},
   "outputs": [
    {
     "data": {
      "text/plain": [
       "<module 'ics.cobraCharmer.pfi' from '/Users/kadofong/work/pfscobras/ics_cobraCharmer/python/ics/cobraCharmer/pfi.py'>"
      ]
     },
     "execution_count": 2,
     "metadata": {},
     "output_type": "execute_result"
    }
   ],
   "source": [
    "from importlib import reload\n",
    "import numpy as np\n",
    "\n",
    "from ics.cobraCharmer import pfi as pfiControl"
   ]
  },
  {
   "cell_type": "code",
   "execution_count": 3,
   "metadata": {},
   "outputs": [],
   "source": [
    "niter=5"
   ]
  },
  {
   "cell_type": "code",
   "execution_count": 4,
   "metadata": {},
   "outputs": [],
   "source": [
    "mod1Cobras = pfiControl.PFI.allocateCobraRange(range(1,2))\n",
    "allCobras = mod1Cobras\n",
    "oneCobra = pfiControl.PFI.allocateCobraList([(1,30)])    \n",
    "\n",
    "# partition module 1 cobras into non-interfering sets\n",
    "moduleCobras = {}\n",
    "for group in 1,2,3:\n",
    "    cm = range(group,58,3)\n",
    "    mod = [1]*len(cm)\n",
    "    \n",
    "    moduleCobras[group] = pfiControl.PFI.allocateCobraList(zip(mod,cm))"
   ]
  },
  {
   "cell_type": "code",
   "execution_count": 5,
   "metadata": {},
   "outputs": [],
   "source": [
    "pfi = pfiControl.PFI(fpgaHost='localhost', doLoadModel=False) #'fpga' for real device.\n",
    "#pfi.setFreq(allCobras)\n",
    "pfi.loadModel('/Users/kadofong/work/pfscobras/jpltrip/data/updatedmap4.xml')"
   ]
  },
  {
   "cell_type": "code",
   "execution_count": 7,
   "metadata": {},
   "outputs": [],
   "source": [
    "# Stage 2 testing\n",
    "pfi.homePhi ( cobra_group, dir='cw' ) # stage 2 motor to CW hardstop\n",
    "for cobra_group in moduleCobras.values():\n",
    "    for idx in range(niter):\n",
    "        pfi.homePhi ( cobra_group, dir='ccw' ) # stage 2 motor to CCW hardstop\n",
    "        pfi.homePhi ( cobra_group, dir='cw' ) # stage 2 to CW hardstop"
   ]
  },
  {
   "cell_type": "code",
   "execution_count": null,
   "metadata": {},
   "outputs": [],
   "source": [
    "# Stage 1 testing\n",
    "pfi.homeTheta ( cobra_group, dir='cw' ) # stage 1 to CW hardstop\n",
    "for cobra_group in moduleCobras.values():\n",
    "    pfi.moveAllSteps ( cobra_group, (0,1000), dirs=('ccw','ccw')) # move out stage 2 motor (CCW)\n",
    "    for idx in range(niter):\n",
    "        pfi.homeTheta ( cobra_group, dir='ccw' ) # stage 1 to CCW hardstop\n",
    "        pfi.homeTheta ( cobra_group, dir='cw' ) # stage 1 to CW hardstop\n",
    "    pfi.homePhi ( cobra_group, dir='cw' ) # stage 2 to CW "
   ]
  },
  {
   "cell_type": "code",
   "execution_count": null,
   "metadata": {},
   "outputs": [],
   "source": []
  }
 ],
 "metadata": {
  "kernelspec": {
   "display_name": "Python 2",
   "language": "python",
   "name": "python2"
  },
  "language_info": {
   "codemirror_mode": {
    "name": "ipython",
    "version": 2
   },
   "file_extension": ".py",
   "mimetype": "text/x-python",
   "name": "python",
   "nbconvert_exporter": "python",
   "pygments_lexer": "ipython2",
   "version": "2.7.10"
  }
 },
 "nbformat": 4,
 "nbformat_minor": 2
}
