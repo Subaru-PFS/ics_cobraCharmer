{
 "cells": [
  {
   "cell_type": "code",
   "execution_count": 1,
   "metadata": {
    "ExecuteTime": {
     "end_time": "2018-05-18T10:04:31.318604Z",
     "start_time": "2018-05-18T10:04:31.310254Z"
    }
   },
   "outputs": [
    {
     "data": {
      "text/plain": [
       "<module 'ics.cobraCharmer.pfi' from '/Users/kadofong/work/pfscobras/ics_cobraCharmer/python/ics/cobraCharmer/pfi.py'>"
      ]
     },
     "execution_count": 1,
     "metadata": {},
     "output_type": "execute_result"
    }
   ],
   "source": [
    "from importlib import reload\n",
    "import numpy as np\n",
    "\n",
    "from ics.cobraCharmer import pfi as pfiControl\n",
    "reload(pfiControl)"
   ]
  },
  {
   "cell_type": "code",
   "execution_count": 2,
   "metadata": {
    "ExecuteTime": {
     "end_time": "2018-05-20T07:30:52.315541Z",
     "start_time": "2018-05-20T07:30:52.311177Z"
    }
   },
   "outputs": [],
   "source": [
    "\n",
    "# pfiCobras = PFI.allocateCobraRange(range(1,43))\n",
    "\n",
    "mod1Cobras = pfiControl.PFI.allocateCobraRange(range(1,2))\n",
    "allCobras = mod1Cobras\n",
    "oneCobra = pfiControl.PFI.allocateCobraList([(1,30)])    \n",
    "\n",
    "# partition module 1 cobras into non-interfering sets\n",
    "moduleCobras = {}\n",
    "for group in 1,2,3:\n",
    "    cm = range(group,58,3)\n",
    "    mod = [1]*len(cm)\n",
    "    \n",
    "    moduleCobras[group] = pfiControl.PFI.allocateCobraList(zip(mod,cm))\n",
    "group1Cobras = moduleCobras[1]\n",
    "group2Cobras = moduleCobras[2]\n",
    "group3Cobras = moduleCobras[3]"
   ]
  },
  {
   "cell_type": "code",
   "execution_count": 7,
   "metadata": {
    "ExecuteTime": {
     "end_time": "2018-05-18T10:04:35.244721Z",
     "start_time": "2018-05-18T10:04:35.202699Z"
    }
   },
   "outputs": [],
   "source": [
    "pfi = pfiControl.PFI(fpgaHost='localhost', doLoadModel=False) #'fpga' for real device.\n",
    "#pfi.setFreq(allCobras)\n",
    "pfi.loadModel('/Users/kadofong/work/pfscobras/jpltrip/data/updatedmap4.xml')"
   ]
  },
  {
   "cell_type": "code",
   "execution_count": 8,
   "metadata": {
    "ExecuteTime": {
     "end_time": "2018-05-20T07:30:38.214811Z",
     "start_time": "2018-05-20T07:30:38.211215Z"
    }
   },
   "outputs": [
    {
     "name": "stdout",
     "output_type": "stream",
     "text": [
      "['1,1', '1,4', '1,7', '1,10', '1,13', '1,16', '1,19', '1,22', '1,25', '1,28', '1,31', '1,34', '1,37', '1,40', '1,43', '1,46', '1,49', '1,52', '1,55']\n"
     ]
    }
   ],
   "source": [
    "print([f\"{c.module},{c.cobraNum}\" for c in group1Cobras])"
   ]
  },
  {
   "cell_type": "code",
   "execution_count": 9,
   "metadata": {
    "ExecuteTime": {
     "end_time": "2018-05-18T10:04:37.843315Z",
     "start_time": "2018-05-18T10:04:37.835417Z"
    }
   },
   "outputs": [],
   "source": [
    "for cobraGroup in moduleCobras.values():\n",
    "    pfi.homeTheta(cobraGroup, dir='ccw')"
   ]
  },
  {
   "cell_type": "code",
   "execution_count": 31,
   "metadata": {
    "ExecuteTime": {
     "end_time": "2018-05-21T22:14:44.170034Z",
     "start_time": "2018-05-21T22:14:44.164662Z"
    }
   },
   "outputs": [
    {
     "data": {
      "text/plain": [
       "'3841.65426635  4529.34149189  2788.09604353  2934.93913279  1596.85032826\\n'"
      ]
     },
     "execution_count": 31,
     "metadata": {},
     "output_type": "execute_result"
    }
   ],
   "source": [
    "s = '''3841.65426635  4529.34149189  2788.09604353  2934.93913279  1596.85032826\n",
    "  3717.67417599  3435.33316828  3164.5456394   3867.03365859  3038.54171353\n",
    "  3794.26874936  3138.06907218  2136.23255246  2498.64383634  3693.37044956\n",
    "  2490.6753835   1610.37843444  3340.22686369  3057.66906186  1890.00600453\n",
    "  2299.50494443  3184.42502527  2828.79031518  3908.3678931   5241.41592006\n",
    "  6855.90337167  2651.33481586  2903.35468956  1516.51723331  3084.28124482\n",
    "  2248.19773112  3804.87573417  2375.65705775  2620.62296195  4705.80503487\n",
    "  2329.71819593  2906.51352392  2620.62424153  3490.94590567  3946.80032855\n",
    "  3952.36541923  9800.55023031  3027.05967889  1434.67575495  3773.20365867\n",
    "  3023.48645433  3159.19067932  3404.48412768  2861.40102733  2174.4175754\n",
    "  4950.2578749   2487.7198847   2861.88377829  3927.12962785  2452.71558735\n",
    "  3336.86992897  2346.43951791'''\n",
    "s.translate({'\\n':' '})\n",
    "import io\n",
    "sf = io.StringIO(s)\n",
    "sf.readline()"
   ]
  },
  {
   "cell_type": "code",
   "execution_count": 10,
   "metadata": {
    "ExecuteTime": {
     "end_time": "2018-05-18T10:04:41.870521Z",
     "start_time": "2018-05-18T10:04:41.849718Z"
    }
   },
   "outputs": [
    {
     "name": "stdout",
     "output_type": "stream",
     "text": [
      "thetaSteps:  [3913.94495738 3740.88795787 3160.05643364 2240.11499749 1496.39782636\n",
      " 2894.0477102  3126.64261681 4439.19383806 2545.59291046 2941.48506622\n",
      " 1967.08754837 2788.70840902 2552.70445568 2168.99763061 2551.73122127\n",
      " 2400.31887839 4697.72227961 2822.46754395 6660.26026851 2395.7310815\n",
      " 2135.4469787  2179.51715525 3573.49380959 3471.82573959 1871.11298169\n",
      " 4154.52297811 2219.46830488 3490.415877   2550.36626423 3076.82198943\n",
      " 1167.42981037 1984.86930895 2127.5794066  2662.27019821 3056.43195406\n",
      " 2221.9858809  2554.80029974 3590.57583219 3648.64058511 3222.82232693\n",
      " 2945.95899968 2471.85701461 3792.67807105 2967.35329516 2285.87891832\n",
      " 2003.42962924 1930.7296198  2860.40684634 4964.07502538 2426.00631276\n",
      " 3336.56949039 3291.65626484 4453.57004841 2650.93071393 2018.86905778\n",
      " 2927.37149177 2758.44031614]\n",
      "phiSteps:  [0. 0. 0. 0. 0. 0. 0. 0. 0. 0. 0. 0. 0. 0. 0. 0. 0. 0. 0. 0. 0. 0. 0. 0.\n",
      " 0. 0. 0. 0. 0. 0. 0. 0. 0. 0. 0. 0. 0. 0. 0. 0. 0. 0. 0. 0. 0. 0. 0. 0.\n",
      " 0. 0. 0. 0. 0. 0. 0. 0. 0.]\n",
      "thetaSteps:  [3913.94495738 3740.88795787 3160.05643364 2240.11499749 1496.39782636\n",
      " 2894.0477102  3126.64261681 4439.19383806 2545.59291046 2941.48506622\n",
      " 1967.08754837 2788.70840902 2552.70445568 2168.99763061 2551.73122127\n",
      " 2400.31887839 4697.72227961 2822.46754395 6660.26026851 2395.7310815\n",
      " 2135.4469787  2179.51715525 3573.49380959 3471.82573959 1871.11298169\n",
      " 4154.52297811 2219.46830488 3490.415877   2550.36626423 3076.82198943\n",
      " 1167.42981037 1984.86930895 2127.5794066  2662.27019821 3056.43195406\n",
      " 2221.9858809  2554.80029974 3590.57583219 3648.64058511 3222.82232693\n",
      " 2945.95899968 2471.85701461 3792.67807105 2967.35329516 2285.87891832\n",
      " 2003.42962924 1930.7296198  2860.40684634 4964.07502538 2426.00631276\n",
      " 3336.56949039 3291.65626484 4453.57004841 2650.93071393 2018.86905778\n",
      " 2927.37149177 2758.44031614]\n",
      "phiSteps:  [0. 0. 0. 0. 0. 0. 0. 0. 0. 0. 0. 0. 0. 0. 0. 0. 0. 0. 0. 0. 0. 0. 0. 0.\n",
      " 0. 0. 0. 0. 0. 0. 0. 0. 0. 0. 0. 0. 0. 0. 0. 0. 0. 0. 0. 0. 0. 0. 0. 0.\n",
      " 0. 0. 0. 0. 0. 0. 0. 0. 0.]\n",
      "thetaSteps:  [3913.94495738 3740.88795787 3160.05643364 2240.11499749 1496.39782636\n",
      " 2894.0477102  3126.64261681 4439.19383806 2545.59291046 2941.48506622\n",
      " 1967.08754837 2788.70840902 2552.70445568 2168.99763061 2551.73122127\n",
      " 2400.31887839 4697.72227961 2822.46754395 6660.26026851 2395.7310815\n",
      " 2135.4469787  2179.51715525 3573.49380959 3471.82573959 1871.11298169\n",
      " 4154.52297811 2219.46830488 3490.415877   2550.36626423 3076.82198943\n",
      " 1167.42981037 1984.86930895 2127.5794066  2662.27019821 3056.43195406\n",
      " 2221.9858809  2554.80029974 3590.57583219 3648.64058511 3222.82232693\n",
      " 2945.95899968 2471.85701461 3792.67807105 2967.35329516 2285.87891832\n",
      " 2003.42962924 1930.7296198  2860.40684634 4964.07502538 2426.00631276\n",
      " 3336.56949039 3291.65626484 4453.57004841 2650.93071393 2018.86905778\n",
      " 2927.37149177 2758.44031614]\n",
      "phiSteps:  [0. 0. 0. 0. 0. 0. 0. 0. 0. 0. 0. 0. 0. 0. 0. 0. 0. 0. 0. 0. 0. 0. 0. 0.\n",
      " 0. 0. 0. 0. 0. 0. 0. 0. 0. 0. 0. 0. 0. 0. 0. 0. 0. 0. 0. 0. 0. 0. 0. 0.\n",
      " 0. 0. 0. 0. 0. 0. 0. 0. 0.]\n"
     ]
    }
   ],
   "source": [
    "for cobraGroup in moduleCobras.values():\n",
    "    pfi.moveAllThetaPhi(cobraGroup, np.deg2rad(180), 0.0)"
   ]
  },
  {
   "cell_type": "code",
   "execution_count": 23,
   "metadata": {
    "ExecuteTime": {
     "end_time": "2018-05-18T10:04:51.999223Z",
     "start_time": "2018-05-18T10:04:51.996380Z"
    }
   },
   "outputs": [],
   "source": [
    "c1 = [pfi.cobraBySerial(2358)]"
   ]
  },
  {
   "cell_type": "code",
   "execution_count": 24,
   "metadata": {
    "ExecuteTime": {
     "end_time": "2018-05-18T07:01:52.909844Z",
     "start_time": "2018-05-18T07:01:50.208175Z"
    }
   },
   "outputs": [
    {
     "ename": "TypeError",
     "evalue": "only size-1 arrays can be converted to Python scalars",
     "output_type": "error",
     "traceback": [
      "\u001b[0;31m---------------------------------------------------------------------------\u001b[0m",
      "\u001b[0;31mTypeError\u001b[0m                                 Traceback (most recent call last)",
      "\u001b[0;32m<ipython-input-24-dfe01293edf2>\u001b[0m in \u001b[0;36m<module>\u001b[0;34m()\u001b[0m\n\u001b[0;32m----> 1\u001b[0;31m \u001b[0mpfi\u001b[0m\u001b[0;34m.\u001b[0m\u001b[0mhomeTheta\u001b[0m\u001b[0;34m(\u001b[0m\u001b[0mc1\u001b[0m\u001b[0;34m,\u001b[0m \u001b[0mdir\u001b[0m\u001b[0;34m=\u001b[0m\u001b[0;34m'ccw'\u001b[0m\u001b[0;34m)\u001b[0m\u001b[0;34m\u001b[0m\u001b[0m\n\u001b[0m",
      "\u001b[0;32m~/work/pfscobras/ics_cobraCharmer/python/ics/cobraCharmer/pfi.py\u001b[0m in \u001b[0;36mhomeTheta\u001b[0;34m(self, cobras, nsteps, dir)\u001b[0m\n\u001b[1;32m    156\u001b[0m         \u001b[0msteps\u001b[0m \u001b[0;34m=\u001b[0m \u001b[0;34m[\u001b[0m\u001b[0;34m(\u001b[0m\u001b[0mnsteps\u001b[0m\u001b[0;34m,\u001b[0m\u001b[0;36m0\u001b[0m\u001b[0;34m)\u001b[0m\u001b[0;34m]\u001b[0m\u001b[0;34m*\u001b[0m\u001b[0mlen\u001b[0m\u001b[0;34m(\u001b[0m\u001b[0mcobras\u001b[0m\u001b[0;34m)\u001b[0m\u001b[0;34m\u001b[0m\u001b[0m\n\u001b[1;32m    157\u001b[0m         \u001b[0mdirs\u001b[0m \u001b[0;34m=\u001b[0m \u001b[0;34m[\u001b[0m\u001b[0;34m(\u001b[0m\u001b[0mdir\u001b[0m\u001b[0;34m,\u001b[0m\u001b[0mdir\u001b[0m\u001b[0;34m)\u001b[0m\u001b[0;34m]\u001b[0m\u001b[0;34m*\u001b[0m\u001b[0mlen\u001b[0m\u001b[0;34m(\u001b[0m\u001b[0mcobras\u001b[0m\u001b[0;34m)\u001b[0m\u001b[0;34m\u001b[0m\u001b[0m\n\u001b[0;32m--> 158\u001b[0;31m         \u001b[0mself\u001b[0m\u001b[0;34m.\u001b[0m\u001b[0mmoveSteps\u001b[0m\u001b[0;34m(\u001b[0m\u001b[0mcobras\u001b[0m\u001b[0;34m,\u001b[0m \u001b[0msteps\u001b[0m\u001b[0;34m,\u001b[0m \u001b[0mdirs\u001b[0m\u001b[0;34m)\u001b[0m\u001b[0;34m\u001b[0m\u001b[0m\n\u001b[0m\u001b[1;32m    159\u001b[0m \u001b[0;34m\u001b[0m\u001b[0m\n\u001b[1;32m    160\u001b[0m     \u001b[0;32mdef\u001b[0m \u001b[0mcobraBySerial\u001b[0m\u001b[0;34m(\u001b[0m\u001b[0mself\u001b[0m\u001b[0;34m,\u001b[0m \u001b[0mserial\u001b[0m\u001b[0;34m)\u001b[0m\u001b[0;34m:\u001b[0m\u001b[0;34m\u001b[0m\u001b[0m\n",
      "\u001b[0;32m~/work/pfscobras/ics_cobraCharmer/python/ics/cobraCharmer/pfi.py\u001b[0m in \u001b[0;36mmoveSteps\u001b[0;34m(self, cobras, steps, dirs, waitTimes)\u001b[0m\n\u001b[1;32m    141\u001b[0m                 \u001b[0mofftime1\u001b[0m \u001b[0;34m=\u001b[0m \u001b[0mofftime2\u001b[0m \u001b[0;34m=\u001b[0m \u001b[0;36m0\u001b[0m\u001b[0;34m\u001b[0m\u001b[0m\n\u001b[1;32m    142\u001b[0m \u001b[0;34m\u001b[0m\u001b[0m\n\u001b[0;32m--> 143\u001b[0;31m             c.p = func.RunParams(pu=(int(1000*ontime1), int(1000*ontime2)),\n\u001b[0m\u001b[1;32m    144\u001b[0m                                  \u001b[0mst\u001b[0m\u001b[0;34m=\u001b[0m\u001b[0;34m(\u001b[0m\u001b[0msteps1\u001b[0m\u001b[0;34m)\u001b[0m\u001b[0;34m,\u001b[0m\u001b[0;34m\u001b[0m\u001b[0m\n\u001b[1;32m    145\u001b[0m                                  \u001b[0msl\u001b[0m\u001b[0;34m=\u001b[0m\u001b[0;34m(\u001b[0m\u001b[0mint\u001b[0m\u001b[0;34m(\u001b[0m\u001b[0;36m1000\u001b[0m\u001b[0;34m*\u001b[0m\u001b[0mofftime1\u001b[0m\u001b[0;34m)\u001b[0m\u001b[0;34m,\u001b[0m \u001b[0mint\u001b[0m\u001b[0;34m(\u001b[0m\u001b[0;36m1000\u001b[0m\u001b[0;34m*\u001b[0m\u001b[0mofftime2\u001b[0m\u001b[0;34m)\u001b[0m\u001b[0;34m)\u001b[0m\u001b[0;34m,\u001b[0m\u001b[0;34m\u001b[0m\u001b[0m\n",
      "\u001b[0;31mTypeError\u001b[0m: only size-1 arrays can be converted to Python scalars"
     ]
    }
   ],
   "source": [
    "pfi.homeTheta(c1, dir='ccw')"
   ]
  },
  {
   "cell_type": "code",
   "execution_count": 26,
   "metadata": {
    "ExecuteTime": {
     "end_time": "2018-05-18T10:05:11.000045Z",
     "start_time": "2018-05-18T10:05:10.992645Z"
    }
   },
   "outputs": [],
   "source": [
    "pfi.moveAllSteps(mod1Cobras, (1000,0), dirs=('cw','ccw'))"
   ]
  },
  {
   "cell_type": "code",
   "execution_count": 27,
   "metadata": {
    "ExecuteTime": {
     "end_time": "2018-05-18T10:05:16.515791Z",
     "start_time": "2018-05-18T10:05:16.512915Z"
    }
   },
   "outputs": [],
   "source": [
    "pfi.reset()"
   ]
  },
  {
   "cell_type": "code",
   "execution_count": 28,
   "metadata": {
    "ExecuteTime": {
     "end_time": "2018-05-18T01:45:04.925453Z",
     "start_time": "2018-05-18T01:45:04.916173Z"
    }
   },
   "outputs": [
    {
     "name": "stdout",
     "output_type": "stream",
     "text": [
      "[63492. 62500. 62745. 62745. 63492. 62745. 63492. 62745. 63492. 63241.\n",
      " 64516. 62992. 63492. 62745. 62992. 62992. 63492. 63492. 63241. 62500.\n",
      " 64000. 63241. 64257. 63492. 63745. 63745. 64516. 62992. 63492. 62015.\n",
      " 63492. 62256. 63745. 62745. 63241. 63492. 64257. 63241. 64000. 63745.\n",
      " 64000. 63492. 63492. 62992. 64257. 62745. 63745. 63492. 63241. 63745.\n",
      " 64000. 63492. 63745. 62015. 63745. 62745. 63241.] [107382. 107382. 105263. 108108. 105960. 107382. 105960. 108108. 106666.\n",
      " 108108. 107382. 107382. 107382. 107382. 106666. 108843. 107382. 108108.\n",
      " 105960. 107382. 106666. 106666. 106666. 109589. 106666. 108108. 106666.\n",
      " 106666. 107382. 106666. 106666. 108108. 106666. 108843. 106666. 107382.\n",
      " 110344. 109589. 109589. 107382. 109589. 108108. 108108. 106666. 108108.\n",
      " 105960. 108108. 109589. 108108. 108108. 108108. 108843. 106666. 103896.\n",
      " 109589. 107382. 108108.]\n",
      "[0.039299 0.0376   0.04297  0.041676 0.085866 0.026869 0.03713  0.0325\n",
      " 0.036269 0.047215 0.048993 0.038211 0.046236 0.050962 0.02884  0.042502\n",
      " 0.028289 0.038758 0.036557 0.050328 0.035724 0.046034 0.02615  0.041728\n",
      " 0.03955  0.036587 0.037119 0.040843 0.040182 0.035135 0.07287  0.044084\n",
      " 0.054389 0.03751  0.04179  0.043073 0.047044 0.036513 0.034011 0.039159\n",
      " 0.039689 0.046843 0.030253 0.038078 0.048091 0.034424 0.041216 0.038912\n",
      " 0.044817 0.042054 0.03915  0.037725 0.027107 0.035259 0.047749 0.043178\n",
      " 0.026823] [0.028706 0.023284 0.017257 0.028679 0.022815 0.022619 0.015855 0.018629\n",
      " 0.027679 0.019109 0.02958  0.026188 0.022905 0.026529 0.021168 0.026645\n",
      " 0.017711 0.023499 0.049083 0.021144 0.022869 0.019255 0.014212 0.032634\n",
      " 0.020026 0.02524  0.025721 0.015237 0.014103 0.030706 0.02133  0.023991\n",
      " 0.018295 0.029813 0.018509 0.02607  0.02417  0.031347 0.030916 0.022999\n",
      " 0.02968  0.025401 0.048193 0.01971  0.025078 0.01982  0.019462 0.028289\n",
      " 0.017471 0.034624 0.020619 0.022571 0.019201 0.013745 0.026637 0.022931\n",
      " 0.023813]\n"
     ]
    }
   ],
   "source": [
    "print(pfi.calibModel.motorFreq1, pfi.calibModel.motorFreq2)\n",
    "print(pfi.calibModel.motorOntimeFwd1, pfi.calibModel.motorOntimeFwd2)"
   ]
  },
  {
   "cell_type": "code",
   "execution_count": null,
   "metadata": {
    "collapsed": true
   },
   "outputs": [],
   "source": []
  }
 ],
 "metadata": {
  "kernelspec": {
   "display_name": "Python 3",
   "language": "python",
   "name": "python3"
  },
  "language_info": {
   "codemirror_mode": {
    "name": "ipython",
    "version": 3
   },
   "file_extension": ".py",
   "mimetype": "text/x-python",
   "name": "python",
   "nbconvert_exporter": "python",
   "pygments_lexer": "ipython3",
   "version": "3.7.0"
  },
  "toc": {
   "nav_menu": {},
   "number_sections": true,
   "sideBar": true,
   "skip_h1_title": false,
   "title_cell": "Table of Contents",
   "title_sidebar": "Contents",
   "toc_cell": false,
   "toc_position": {},
   "toc_section_display": true,
   "toc_window_display": false
  }
 },
 "nbformat": 4,
 "nbformat_minor": 2
}
