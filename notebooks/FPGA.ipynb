{
 "cells": [
  {
   "cell_type": "code",
   "execution_count": 9,
   "metadata": {
    "ExecuteTime": {
     "end_time": "2018-09-04T18:29:04.227519Z",
     "start_time": "2018-09-04T18:29:04.223140Z"
    }
   },
   "outputs": [
    {
     "data": {
      "text/plain": [
       "<module 'ics.cobraCharmer.pfi' from '/Users/cloomis/Sumire/PFS/git/ics_cobraCharmer/python/ics/cobraCharmer/pfi.py'>"
      ]
     },
     "execution_count": 9,
     "metadata": {},
     "output_type": "execute_result"
    }
   ],
   "source": [
    "from importlib import reload\n",
    "import numpy as np\n",
    "\n",
    "from ics.cobraCharmer import pfi as pfiControl\n",
    "reload(pfiControl)"
   ]
  },
  {
   "cell_type": "code",
   "execution_count": 14,
   "metadata": {
    "ExecuteTime": {
     "end_time": "2018-09-04T18:43:16.030490Z",
     "start_time": "2018-09-04T18:43:16.026205Z"
    }
   },
   "outputs": [],
   "source": [
    "# Allocate lists of cobras.\n",
    "\n",
    "# An entire module:\n",
    "mod1Cobras = pfiControl.PFI.allocateCobraRange(range(1,2))\n",
    "allCobras = mod1Cobras\n",
    "\n",
    "# A single cobra\n",
    "oneCobra = pfiControl.PFI.allocateCobraList([(1,30)])    \n",
    "\n",
    "# partition module 1 cobras into non-interfering sets\n",
    "moduleCobras = {}\n",
    "for group in 1,2,3:\n",
    "    cm = range(group,58,3)\n",
    "    mod = [1]*len(cm)\n",
    "    \n",
    "    moduleCobras[group] = pfiControl.PFI.allocateCobraList(zip(mod,cm))\n",
    "group1Cobras = moduleCobras[1]\n",
    "group2Cobras = moduleCobras[2]\n",
    "group3Cobras = moduleCobras[3]"
   ]
  },
  {
   "cell_type": "code",
   "execution_count": 11,
   "metadata": {
    "ExecuteTime": {
     "end_time": "2018-09-04T18:29:06.783349Z",
     "start_time": "2018-09-04T18:29:06.728852Z"
    }
   },
   "outputs": [],
   "source": [
    "# for 'localhost', run bin/fpgaSim in a shell.\n",
    "\n",
    "pfi = pfiControl.PFI(fpgaHost='localhost', doLoadModel=False) #'fpga' for real device.\n",
    "pfi.loadModel('/Users/cloomis/Dropbox/PFS_Production/TEST_RESULTS/Spare1/PFS-PFI-CIT900100-01_Spare_1_FinalXML_v2.xml')\n",
    "pfi.setFreq(allCobras)"
   ]
  },
  {
   "cell_type": "code",
   "execution_count": 15,
   "metadata": {
    "ExecuteTime": {
     "end_time": "2018-09-04T18:43:25.083277Z",
     "start_time": "2018-09-04T18:43:25.079765Z"
    }
   },
   "outputs": [
    {
     "name": "stdout",
     "output_type": "stream",
     "text": [
      "['1,1', '1,4', '1,7', '1,10', '1,13', '1,16', '1,19', '1,22', '1,25', '1,28', '1,31', '1,34', '1,37', '1,40', '1,43', '1,46', '1,49', '1,52', '1,55']\n"
     ]
    }
   ],
   "source": [
    "print([f\"{c.module},{c.cobraNum}\" for c in group1Cobras])"
   ]
  },
  {
   "cell_type": "code",
   "execution_count": 16,
   "metadata": {
    "ExecuteTime": {
     "end_time": "2018-09-04T18:43:36.486842Z",
     "start_time": "2018-09-04T18:43:36.363801Z"
    }
   },
   "outputs": [],
   "source": [
    "for cobraGroup in moduleCobras.values():\n",
    "    pfi.homeTheta(cobraGroup, dir='ccw')"
   ]
  },
  {
   "cell_type": "code",
   "execution_count": 18,
   "metadata": {
    "ExecuteTime": {
     "end_time": "2018-09-04T18:45:02.922404Z",
     "start_time": "2018-09-04T18:45:02.847180Z"
    }
   },
   "outputs": [
    {
     "name": "stdout",
     "output_type": "stream",
     "text": [
      "thetaSteps:  [3841.65426635 4529.34149189 2788.09604353 2934.93913279 1596.85032826\n",
      " 3717.67417599 3435.33316828 3164.5456394  3867.03365859 3038.54171353\n",
      " 3794.26874936 3138.06907218 2136.23255246 2498.64383634 3693.37044956\n",
      " 2490.6753835  1610.37843444 3340.22686369 3057.66906186 1890.00600453\n",
      " 2299.50494443 3184.42502527 2828.79031518 3908.3678931  5241.41592006\n",
      " 6855.90337167 2651.33481586 2903.35468956 1516.51723331 3084.28124482\n",
      " 2248.19773112 3804.87573417 2375.65705775 2620.62296195 4705.80503487\n",
      " 2329.71819593 2906.51352392 2620.62424153 3490.94590567 3946.80032855\n",
      " 3952.36541923 9800.55023031 3027.05967889 1434.67575495 3773.20365867\n",
      " 3023.48645433 3159.19067932 3404.48412768 2861.40102733 2174.4175754\n",
      " 4950.2578749  2487.7198847  2861.88377829 3927.12962785 2452.71558735\n",
      " 3336.86992897 2346.43951791]\n",
      "phiSteps:  [0. 0. 0. 0. 0. 0. 0. 0. 0. 0. 0. 0. 0. 0. 0. 0. 0. 0. 0. 0. 0. 0. 0. 0.\n",
      " 0. 0. 0. 0. 0. 0. 0. 0. 0. 0. 0. 0. 0. 0. 0. 0. 0. 0. 0. 0. 0. 0. 0. 0.\n",
      " 0. 0. 0. 0. 0. 0. 0. 0. 0.]\n",
      "thetaSteps:  [3841.65426635 4529.34149189 2788.09604353 2934.93913279 1596.85032826\n",
      " 3717.67417599 3435.33316828 3164.5456394  3867.03365859 3038.54171353\n",
      " 3794.26874936 3138.06907218 2136.23255246 2498.64383634 3693.37044956\n",
      " 2490.6753835  1610.37843444 3340.22686369 3057.66906186 1890.00600453\n",
      " 2299.50494443 3184.42502527 2828.79031518 3908.3678931  5241.41592006\n",
      " 6855.90337167 2651.33481586 2903.35468956 1516.51723331 3084.28124482\n",
      " 2248.19773112 3804.87573417 2375.65705775 2620.62296195 4705.80503487\n",
      " 2329.71819593 2906.51352392 2620.62424153 3490.94590567 3946.80032855\n",
      " 3952.36541923 9800.55023031 3027.05967889 1434.67575495 3773.20365867\n",
      " 3023.48645433 3159.19067932 3404.48412768 2861.40102733 2174.4175754\n",
      " 4950.2578749  2487.7198847  2861.88377829 3927.12962785 2452.71558735\n",
      " 3336.86992897 2346.43951791]\n",
      "phiSteps:  [0. 0. 0. 0. 0. 0. 0. 0. 0. 0. 0. 0. 0. 0. 0. 0. 0. 0. 0. 0. 0. 0. 0. 0.\n",
      " 0. 0. 0. 0. 0. 0. 0. 0. 0. 0. 0. 0. 0. 0. 0. 0. 0. 0. 0. 0. 0. 0. 0. 0.\n",
      " 0. 0. 0. 0. 0. 0. 0. 0. 0.]\n",
      "thetaSteps:  [3841.65426635 4529.34149189 2788.09604353 2934.93913279 1596.85032826\n",
      " 3717.67417599 3435.33316828 3164.5456394  3867.03365859 3038.54171353\n",
      " 3794.26874936 3138.06907218 2136.23255246 2498.64383634 3693.37044956\n",
      " 2490.6753835  1610.37843444 3340.22686369 3057.66906186 1890.00600453\n",
      " 2299.50494443 3184.42502527 2828.79031518 3908.3678931  5241.41592006\n",
      " 6855.90337167 2651.33481586 2903.35468956 1516.51723331 3084.28124482\n",
      " 2248.19773112 3804.87573417 2375.65705775 2620.62296195 4705.80503487\n",
      " 2329.71819593 2906.51352392 2620.62424153 3490.94590567 3946.80032855\n",
      " 3952.36541923 9800.55023031 3027.05967889 1434.67575495 3773.20365867\n",
      " 3023.48645433 3159.19067932 3404.48412768 2861.40102733 2174.4175754\n",
      " 4950.2578749  2487.7198847  2861.88377829 3927.12962785 2452.71558735\n",
      " 3336.86992897 2346.43951791]\n",
      "phiSteps:  [0. 0. 0. 0. 0. 0. 0. 0. 0. 0. 0. 0. 0. 0. 0. 0. 0. 0. 0. 0. 0. 0. 0. 0.\n",
      " 0. 0. 0. 0. 0. 0. 0. 0. 0. 0. 0. 0. 0. 0. 0. 0. 0. 0. 0. 0. 0. 0. 0. 0.\n",
      " 0. 0. 0. 0. 0. 0. 0. 0. 0.]\n"
     ]
    }
   ],
   "source": [
    "# Move all cobras in the three sets to the same theta,phi angle.\n",
    "for cobraGroup in moduleCobras.values():\n",
    "    pfi.moveAllThetaPhi(cobraGroup, np.deg2rad(180), 0.0)"
   ]
  },
  {
   "cell_type": "code",
   "execution_count": 19,
   "metadata": {
    "ExecuteTime": {
     "end_time": "2018-09-04T18:45:07.215524Z",
     "start_time": "2018-09-04T18:45:07.213119Z"
    }
   },
   "outputs": [],
   "source": [
    "c1 = [pfi.cobraBySerial(2358)]"
   ]
  },
  {
   "cell_type": "code",
   "execution_count": 132,
   "metadata": {
    "ExecuteTime": {
     "end_time": "2018-05-18T07:01:52.909844Z",
     "start_time": "2018-05-18T07:01:50.208175Z"
    }
   },
   "outputs": [],
   "source": [
    "pfi.homeTheta(c1, dir='ccw')"
   ]
  },
  {
   "cell_type": "code",
   "execution_count": 24,
   "metadata": {
    "ExecuteTime": {
     "end_time": "2018-09-04T18:48:07.985209Z",
     "start_time": "2018-09-04T18:48:07.918305Z"
    }
   },
   "outputs": [],
   "source": [
    "# Move all cobras in a group by a given number of steps\n",
    "pfi.moveAllSteps(mod1Cobras, (1000,0), dirs=('cw','ccw'))"
   ]
  },
  {
   "cell_type": "code",
   "execution_count": 21,
   "metadata": {
    "ExecuteTime": {
     "end_time": "2018-09-04T18:45:40.524273Z",
     "start_time": "2018-09-04T18:45:40.521573Z"
    }
   },
   "outputs": [],
   "source": [
    "pfi.reset()"
   ]
  },
  {
   "cell_type": "code",
   "execution_count": 22,
   "metadata": {
    "ExecuteTime": {
     "end_time": "2018-09-04T18:45:44.650874Z",
     "start_time": "2018-09-04T18:45:44.645193Z"
    }
   },
   "outputs": [
    {
     "name": "stdout",
     "output_type": "stream",
     "text": [
      "[63241. 63241. 63745. 63492. 63241. 63492. 62500. 63492. 64000. 63492.\n",
      " 62992. 63241. 62992. 63492. 64000. 63492. 63492. 62992. 63241. 64000.\n",
      " 63745. 62992. 63492. 64000. 63241. 62500. 63241. 63241. 63492. 63492.\n",
      " 63745. 63745. 63745. 63241. 63241. 64000. 62745. 64000. 62745. 62992.\n",
      " 63492. 62500. 63241. 62256. 64000. 63492. 64000. 62992. 63492. 64516.\n",
      " 64000. 64257. 64516. 63745. 64000. 64777. 63492.] [108108. 104575. 103896. 104575. 105263. 105960. 105960. 105263. 104575.\n",
      " 105960. 107382. 105263. 105960. 105263. 105960. 103896. 105263. 106666.\n",
      " 105263. 105960. 105960. 104575. 104575. 105263. 105960. 106666. 104575.\n",
      " 108108. 105960. 105263. 108843. 106666. 105263. 105263. 106666. 105263.\n",
      " 105960. 105263. 104575. 106666. 105960. 105263. 105960. 104575. 105960.\n",
      " 105263. 105960. 105263. 106666. 106666. 105960. 105960. 104575. 104575.\n",
      " 103896. 107382. 103896.]\n",
      "[0.04572  0.035657 0.045208 0.034212 0.056261 0.035246 0.038806 0.04052\n",
      " 0.036665 0.043863 0.034893 0.038601 0.045718 0.040192 0.032984 0.044884\n",
      " 0.060648 0.030677 0.045    0.043477 0.044371 0.039775 0.025281 0.037573\n",
      " 0.026814 0.029857 0.037316 0.033515 0.055    0.036066 0.042911 0.030178\n",
      " 0.05     0.030303 0.033397 0.035871 0.029873 0.035119 0.031576 0.03845\n",
      " 0.028927 0.029009 0.032161 0.04     0.040494 0.0284   0.039198 0.033038\n",
      " 0.048    0.038619 0.032169 0.043978 0.033958 0.037041 0.042403 0.042559\n",
      " 0.040381] [0.036611 0.021366 0.021555 0.019963 0.038833 0.026347 0.02714  0.03098\n",
      " 0.021781 0.028458 0.031342 0.033744 0.031139 0.023686 0.036875 0.037611\n",
      " 0.038595 0.03     0.02802  0.021953 0.035    0.021292 0.038168 0.029417\n",
      " 0.028308 0.04     0.022151 0.0277   0.022297 0.02113  0.030902 0.026341\n",
      " 0.03     0.018485 0.028437 0.017803 0.027939 0.019489 0.034225 0.03\n",
      " 0.020884 0.02599  0.027661 0.02114  0.032926 0.02     0.029638 0.022913\n",
      " 0.03     0.018576 0.019898 0.02     0.02899  0.025337 0.026295 0.022561\n",
      " 0.026991]\n"
     ]
    }
   ],
   "source": [
    "# Examine the motor map.\n",
    "print(pfi.calibModel.motorFreq1, pfi.calibModel.motorFreq2)\n",
    "print(pfi.calibModel.motorOntimeFwd1, pfi.calibModel.motorOntimeFwd2)"
   ]
  },
  {
   "cell_type": "code",
   "execution_count": null,
   "metadata": {
    "collapsed": true
   },
   "outputs": [],
   "source": []
  }
 ],
 "metadata": {
  "kernelspec": {
   "display_name": "Python 3",
   "language": "python",
   "name": "python3"
  },
  "language_info": {
   "codemirror_mode": {
    "name": "ipython",
    "version": 3
   },
   "file_extension": ".py",
   "mimetype": "text/x-python",
   "name": "python",
   "nbconvert_exporter": "python",
   "pygments_lexer": "ipython3",
   "version": "3.6.6"
  },
  "toc": {
   "nav_menu": {},
   "number_sections": true,
   "sideBar": true,
   "skip_h1_title": false,
   "title_cell": "Table of Contents",
   "title_sidebar": "Contents",
   "toc_cell": false,
   "toc_position": {},
   "toc_section_display": true,
   "toc_window_display": false
  }
 },
 "nbformat": 4,
 "nbformat_minor": 2
}
