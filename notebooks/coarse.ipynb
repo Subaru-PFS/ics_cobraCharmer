{
 "cells": [
  {
   "cell_type": "markdown",
   "metadata": {},
   "source": [
    "### Cobra centers measurement, this can be used to transform the Caltech XML coniguration file."
   ]
  },
  {
   "cell_type": "code",
   "execution_count": null,
   "metadata": {},
   "outputs": [],
   "source": [
    "from importlib import reload\n",
    "import numpy as np\n",
    "import time\n",
    "from astropy.io import fits\n",
    "import sep\n",
    "import matplotlib.pyplot as plt\n",
    "from subprocess import Popen, PIPE\n",
    "from ics.cobraCharmer import pfi as pfiControl\n",
    "from copy import deepcopy"
   ]
  },
  {
   "cell_type": "code",
   "execution_count": null,
   "metadata": {},
   "outputs": [],
   "source": [
    "mod1Cobras = pfiControl.PFI.allocateCobraRange(range(1,2))\n",
    "allCobras = mod1Cobras\n",
    "oneCobra = pfiControl.PFI.allocateCobraList([(1,2)])\n",
    "twoCobras = pfiControl.PFI.allocateCobraList([(1,2), (1,5)])\n",
    "\n",
    "# partition module 1 cobras into non-interfering sets\n",
    "moduleCobras = {}\n",
    "for group in 1,2,3:\n",
    "    cm = range(group,58,3)\n",
    "    mod = [1]*len(cm)\n",
    "    moduleCobras[group] = pfiControl.PFI.allocateCobraList(zip(mod,cm))\n",
    "group1Cobras = moduleCobras[1]\n",
    "group2Cobras = moduleCobras[2]\n",
    "group3Cobras = moduleCobras[3]\n",
    "\n",
    "# partition module 1 cobras into odd and even sets\n",
    "moduleCobras2 = {}\n",
    "for group in 1,2:\n",
    "    cm = range(group,58,2)\n",
    "    mod = [1]*len(cm)\n",
    "    moduleCobras2[group] = pfiControl.PFI.allocateCobraList(zip(mod,cm))\n",
    "oddCobras = moduleCobras2[1]\n",
    "evenCobras = moduleCobras2[2]"
   ]
  },
  {
   "cell_type": "code",
   "execution_count": null,
   "metadata": {},
   "outputs": [],
   "source": [
    "# return the tranformation parameters and a function that can convert origPoints to newPoints\n",
    "def makeTransformation(origPoints, newPoints):\n",
    "    origCenter = np.mean(origPoints)\n",
    "    newCenter = np.mean(newPoints)\n",
    "    origVectors = origPoints - origCenter\n",
    "    newVectors = newPoints - newCenter\n",
    "    scale = np.sum(np.abs(newVectors)) / np.sum(np.abs(origVectors))\n",
    "    diffAngles = ((np.angle(newVectors) - np.angle(origVectors)) + np.pi) % (2*np.pi) - np.pi\n",
    "    tilt = np.sum(diffAngles * np.abs(origVectors)) / np.sum(np.abs(origVectors))\n",
    "    offset = -origCenter * scale * np.exp(tilt * (1j)) + newCenter\n",
    "    def tr(x):\n",
    "        return x * scale * np.exp(tilt * (1j)) + offset\n",
    "    return offset, scale, tilt, tr"
   ]
  },
  {
   "cell_type": "code",
   "execution_count": null,
   "metadata": {
    "scrolled": true
   },
   "outputs": [],
   "source": [
    "pfi = pfiControl.PFI(fpgaHost='128.149.77.24') #'fpga' for real device.\n",
    "#pfi = pfiControl.PFI(fpgaHost='localhost', doLoadModel=False)\n",
    "pfi.loadModel('../xml/updatedLinksAndMaps.xml')\n",
    "pfi.setFreq(allCobras)"
   ]
  },
  {
   "cell_type": "code",
   "execution_count": null,
   "metadata": {
    "scrolled": true
   },
   "outputs": [],
   "source": [
    "# Home phi\n",
    "pfi.homePhi(allCobras, nsteps=5000, dir='ccw')"
   ]
  },
  {
   "cell_type": "code",
   "execution_count": null,
   "metadata": {
    "scrolled": true
   },
   "outputs": [],
   "source": [
    "# Home theta\n",
    "pfi.homeTheta(allCobras, nsteps=10000, dir='ccw')"
   ]
  },
  {
   "cell_type": "code",
   "execution_count": null,
   "metadata": {},
   "outputs": [],
   "source": [
    "# define the broken fibers and two groups of cobras\n",
    "mapping = np.array([e for e in range(1,58) if e not in {1, 39, 43, 54}]) - 1\n",
    "n1 = 26\n",
    "n2 = len(mapping) - n1\n",
    "group1 = mapping[:n1]\n",
    "group2 = mapping[n1:]"
   ]
  },
  {
   "cell_type": "code",
   "execution_count": null,
   "metadata": {},
   "outputs": [],
   "source": [
    "# take an image at home positions\n",
    "p1 = Popen([\"/home/pfs/IDSControl/idsexposure\", \"-d\", \"1\", \"-e\", \"18\", \"-f\", \"data/home1_\"], stdout=PIPE)\n",
    "p1.communicate()\n",
    "p2 = Popen([\"/home/pfs/IDSControl/idsexposure\", \"-d\", \"2\", \"-e\", \"18\", \"-f\", \"data/home2_\"], stdout=PIPE)\n",
    "p2.communicate()"
   ]
  },
  {
   "cell_type": "code",
   "execution_count": null,
   "metadata": {},
   "outputs": [],
   "source": [
    "# process the image from the 1st camera\n",
    "data = fits.getdata('data/home1_0001.fits').astype(float)\n",
    "cs = sep.extract(data, 50)\n",
    "cs_home = np.array(sorted([(c['x'], c['y']) for c in cs], key=lambda t: t[0], reverse=True))\n",
    "homes = cs_home[:n1,0] + cs_home[:n1,1]*(1j)\n",
    "\n",
    "old = pfi.calibModel.centers[group1]\n",
    "offset1, scale1, tilt1, convert1 = makeTransformation(old, homes)\n",
    "np.abs(homes - convert1(old))"
   ]
  },
  {
   "cell_type": "code",
   "execution_count": null,
   "metadata": {},
   "outputs": [],
   "source": [
    "# process the image from the 2nd camera\n",
    "data = fits.getdata('data/home2_0001.fits').astype(float)\n",
    "cs = sep.extract(data, 50)\n",
    "cs_home = np.array(sorted([(c['x'], c['y']) for c in cs], key=lambda t: t[0], reverse=True))\n",
    "homes = cs_home[-n2:,0] + cs_home[-n2:,1]*(1j)\n",
    "\n",
    "old = pfi.calibModel.centers[group2]\n",
    "offset2, scale2, tilt2, convert2 = makeTransformation(old, homes)\n",
    "np.abs(homes - convert2(old))"
   ]
  },
  {
   "cell_type": "code",
   "execution_count": null,
   "metadata": {},
   "outputs": [],
   "source": [
    "old = pfi.calibModel\n",
    "n = mapping[n1]\n",
    "\n",
    "myConfig = deepcopy(old)\n",
    "myConfig.centers[:n] = convert1(old.centers[:n])\n",
    "myConfig.tht0[:n] = (old.tht0[:n]+tilt1)%(2*np.pi)\n",
    "myConfig.tht1[:n] = (old.tht1[:n]+tilt1)%(2*np.pi)\n",
    "myConfig.L1[:n] = old.L1[:n]*scale1\n",
    "myConfig.L2[:n] = old.L2[:n]*scale1\n",
    "myConfig.centers[n:] = convert2(old.centers[n:])\n",
    "myConfig.tht0[n:] = (old.tht0[n:]+tilt2)%(2*np.pi)\n",
    "myConfig.tht1[n:] = (old.tht1[n:]+tilt2)%(2*np.pi)\n",
    "myConfig.L1[n:] = old.L1[n:]*scale2\n",
    "myConfig.L2[n:] = old.L2[n:]*scale2\n",
    "\n",
    "old.updateGeometry(myConfig.centers, myConfig.L1, myConfig.L2)\n",
    "old.updateThetaHardStops(myConfig.tht0, myConfig.tht1)\n",
    "old.createCalibrationFile('../xml/coarse.xml')"
   ]
  },
  {
   "cell_type": "code",
   "execution_count": null,
   "metadata": {},
   "outputs": [],
   "source": []
  }
 ],
 "metadata": {
  "kernelspec": {
   "display_name": "Python 3",
   "language": "python",
   "name": "python3"
  },
  "language_info": {
   "codemirror_mode": {
    "name": "ipython",
    "version": 3
   },
   "file_extension": ".py",
   "mimetype": "text/x-python",
   "name": "python",
   "nbconvert_exporter": "python",
   "pygments_lexer": "ipython3",
   "version": "3.6.5"
  }
 },
 "nbformat": 4,
 "nbformat_minor": 2
}
