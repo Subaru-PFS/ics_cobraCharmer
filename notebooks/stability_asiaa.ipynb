{
 "cells": [
  {
   "cell_type": "markdown",
   "metadata": {},
   "source": [
    "# Cobra Stability Tests\n",
    "These stability tests will be run at both ASIAA (CobraCharmer) and Caltech (MSIM) to ensure that the statistical behavior of the cobras is consistent at both testing sites.\n",
    "\n",
    "All tests will be run in the 3 non-colliding groups that ASIAA has historically used. The tests probe the following:\n",
    "* Repeated move stability\n",
    "* Subsequent move predictability"
   ]
  },
  {
   "cell_type": "code",
   "execution_count": 1,
   "metadata": {},
   "outputs": [
    {
     "data": {
      "text/plain": [
       "<module 'ics.cobraCharmer.pfi' from '/Users/kadofong/work/pfscobras/ics_cobraCharmer/python/ics/cobraCharmer/pfi.py'>"
      ]
     },
     "execution_count": 1,
     "metadata": {},
     "output_type": "execute_result"
    }
   ],
   "source": [
    "from importlib import reload\n",
    "import numpy as np\n",
    "\n",
    "from ics.cobraCharmer import pfi as pfiControl\n",
    "reload(pfiControl)"
   ]
  },
  {
   "cell_type": "code",
   "execution_count": 8,
   "metadata": {},
   "outputs": [],
   "source": [
    "stability_niter = 20\n",
    "motormap_niter = 20"
   ]
  },
  {
   "cell_type": "code",
   "execution_count": 2,
   "metadata": {},
   "outputs": [],
   "source": [
    "mod1Cobras = pfiControl.PFI.allocateCobraRange(range(1,2))\n",
    "allCobras = mod1Cobras\n",
    "oneCobra = pfiControl.PFI.allocateCobraList([(1,30)])    \n",
    "\n",
    "# partition module 1 cobras into non-interfering sets\n",
    "moduleCobras = {}\n",
    "for group in 1,2,3:\n",
    "    cm = range(group,58,3)\n",
    "    mod = [1]*len(cm)\n",
    "    \n",
    "    moduleCobras[group] = pfiControl.PFI.allocateCobraList(zip(mod,cm))\n",
    "    \n",
    "group1Cobras = moduleCobras[1]\n",
    "group2Cobras = moduleCobras[2]\n",
    "group3Cobras = moduleCobras[3]"
   ]
  },
  {
   "cell_type": "code",
   "execution_count": 3,
   "metadata": {},
   "outputs": [],
   "source": [
    "pfi = pfiControl.PFI(fpgaHost='localhost', doLoadModel=False) #'fpga' for real device.\n",
    "#pfi.setFreq(allCobras)\n",
    "pfi.loadModel('/Users/kadofong/work/pfscobras/jpltrip/data/updatedmap4.xml')"
   ]
  },
  {
   "cell_type": "markdown",
   "metadata": {},
   "source": [
    "To test move stability, execute the following sequence for stage 2 motors (in both forward and reverse):\n",
    "* Move to (CW/CCW) hardstop\n",
    "* Move out (+/-)1000 steps\n",
    "* Return to original position"
   ]
  },
  {
   "cell_type": "code",
   "execution_count": 15,
   "metadata": {},
   "outputs": [],
   "source": [
    "# Stage 2 CW testing\n",
    "for cobra_group in moduleCobras.values():\n",
    "    for idx in range(stability_niter):\n",
    "        pfi.homePhi ( cobra_group, dir='ccw' ) # is CCW hardstop positive or negative? Orientation question\n",
    "        pfi.moveAllSteps(cobra_group, (0,1000), dirs=('cw','cw'))\n",
    "        pfi.moveAllSteps(cobra_group, (0,100), dirs=('cw','cw'))\n",
    "    pfi.homePhi ( cobra_group, dir='ccw' )"
   ]
  },
  {
   "cell_type": "code",
   "execution_count": 16,
   "metadata": {},
   "outputs": [],
   "source": [
    "# Stage 2 CCW testing\n",
    "for cobra_group in moduleCobras.values():\n",
    "    for idx in range(stability_niter):\n",
    "        pfi.homePhi ( cobra_group, dir='cw' ) # is CCW hardstop positive or negative? Orientation question\n",
    "        pfi.moveAllSteps(cobra_group, (0,1000), dirs=('cw','ccw'))\n",
    "        pfi.moveAllSteps(cobra_group, (0,100), dirs=('cw','ccw'))\n",
    "    pfi.homePhi ( cobra_group, dir='cw' )"
   ]
  },
  {
   "cell_type": "code",
   "execution_count": 17,
   "metadata": {},
   "outputs": [],
   "source": [
    "# Stage 1 CW testing:\n",
    "for cobra_group in moduleCobras.values():\n",
    "    pfi.moveAllSteps ( cobra_group, (0,1000), dirs=('ccw','ccw')) # move out phi motor for centroiding\n",
    "    # do not have to be too conservative with step number,\n",
    "    # because we are running with non-colliding groups\n",
    "    for idx in range(stability_niter):\n",
    "        pfi.homeTheta ( cobra_group, dir='ccw' ) # is CCW hardstop positive or negative? Orientation question\n",
    "        pfi.moveAllSteps(cobra_group, (1000,0), dirs=('cw','cw'))\n",
    "        pfi.moveAllSteps(cobra_group, (100,0), dirs=('cw','cw'))\n",
    "    pfi.homeTheta ( cobra_group, dir='ccw' )\n",
    "    pfi.homePhi ( cobra_group, dir='cw' )"
   ]
  },
  {
   "cell_type": "code",
   "execution_count": 18,
   "metadata": {},
   "outputs": [],
   "source": [
    "# Stage 1 CCW testing:\n",
    "for cobra_group in moduleCobras.values():\n",
    "    pfi.moveAllSteps ( cobra_group, (0,1000), dirs=('ccw','ccw')) # move out phi motor for centroiding\n",
    "    # do not have to be too conservative with step number,\n",
    "    # because we are running with non-colliding groups\n",
    "    for idx in range(stability_niter):\n",
    "        pfi.homeTheta ( cobra_group, dir='cw' ) # is CCW hardstop positive or negative? Orientation question\n",
    "        pfi.moveAllSteps(cobra_group, (1000,0), dirs=('ccw','cw'))\n",
    "        pfi.moveAllSteps(cobra_group, (100,0), dirs=('ccw','cw'))\n",
    "    pfi.homeTheta ( cobra_group, dir='cw' )"
   ]
  },
  {
   "cell_type": "code",
   "execution_count": null,
   "metadata": {},
   "outputs": [],
   "source": [
    " "
   ]
  }
 ],
 "metadata": {
  "kernelspec": {
   "display_name": "Python 2",
   "language": "python",
   "name": "python2"
  },
  "language_info": {
   "codemirror_mode": {
    "name": "ipython",
    "version": 2
   },
   "file_extension": ".py",
   "mimetype": "text/x-python",
   "name": "python",
   "nbconvert_exporter": "python",
   "pygments_lexer": "ipython2",
   "version": "2.7.10"
  }
 },
 "nbformat": 4,
 "nbformat_minor": 2
}
