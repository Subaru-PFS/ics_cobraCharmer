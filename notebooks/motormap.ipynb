{
 "cells": [
  {
   "cell_type": "markdown",
   "metadata": {},
   "source": [
    "### Refine the cobra motor maps"
   ]
  },
  {
   "cell_type": "code",
   "execution_count": 14,
   "metadata": {},
   "outputs": [],
   "source": [
    "from importlib import reload\n",
    "import numpy as np\n",
    "import time\n",
    "from astropy.io import fits\n",
    "import sep\n",
    "import matplotlib.pyplot as plt\n",
    "from subprocess import Popen, PIPE\n",
    "import glob\n",
    "from copy import deepcopy\n",
    "from ics.cobraCharmer import pfi as pfiControl"
   ]
  },
  {
   "cell_type": "code",
   "execution_count": 7,
   "metadata": {},
   "outputs": [],
   "source": [
    "mod1Cobras = pfiControl.PFI.allocateCobraRange(range(1,2))\n",
    "allCobras = mod1Cobras\n",
    "oneCobra = pfiControl.PFI.allocateCobraList([(1,2)])\n",
    "twoCobras = pfiControl.PFI.allocateCobraList([(1,2), (1,5)])\n",
    "\n",
    "# partition module 1 cobras into non-interfering sets\n",
    "moduleCobras = {}\n",
    "for group in 1,2,3:\n",
    "    cm = range(group,58,3)\n",
    "    mod = [1]*len(cm)\n",
    "    moduleCobras[group] = pfiControl.PFI.allocateCobraList(zip(mod,cm))\n",
    "group1Cobras = moduleCobras[1]\n",
    "group2Cobras = moduleCobras[2]\n",
    "group3Cobras = moduleCobras[3]\n",
    "\n",
    "# partition module 1 cobras into odd and even sets\n",
    "moduleCobras2 = {}\n",
    "for group in 1,2:\n",
    "    cm = range(group,58,2)\n",
    "    mod = [1]*len(cm)\n",
    "    moduleCobras2[group] = pfiControl.PFI.allocateCobraList(zip(mod,cm))\n",
    "oddCobras = moduleCobras2[1]\n",
    "evenCobras = moduleCobras2[2]"
   ]
  },
  {
   "cell_type": "code",
   "execution_count": 16,
   "metadata": {
    "scrolled": true
   },
   "outputs": [
    {
     "name": "stderr",
     "output_type": "stream",
     "text": [
      "2018-12-04T13:54:32.997 20 fpgaIO     FPGA connection to localhost\n",
      "2018-12-04T13:54:33.058 20 fpga       load cobra model from /Users/chyan/Documents/workspace/ics_cobraCharmer/xml/updatedLinksAndMaps.xml\n",
      "2018-12-04T13:54:33.059 20 log.short  --- ISSUE SETFREQ & VERIFY (brd:1) ---\n",
      "2018-12-04T13:54:33.061 20 log.eth    (ETH)Sent msg on socket.\n",
      "(0300003907d088cd\t081300fd00940823\t00fd0099101300fb\t009a102300fc0099\t\n",
      "181300fd00981823\t00fc009720130100\t0097202300fc0098\t281300fa00992823\t\n",
      "00fc0097301300fe\t0095302300fd0098\t381300fe00973823\t00fc0098401300fa\t\n",
      "0097402300fc009a\t481300fc00984823\t00fe0096501300fd\t0098502300fa0097\t\n",
      "581300fb00975823\t00fe0099601300fc\t0099602300fa0098\t681300fd00976823\t\n",
      "01000096701300fd\t0099702300fd0094\t781300fc00977823\t00fc0098801300fb\t\n",
      "0093802300fb0096\t881300fb00988823\t00fd0098901300fd\t0096902300fa0098\t\n",
      "981300ff00979823\t00fa0098a01300ff\t0099a02300fe0096\ta81300fc0097a823\t\n",
      "01000098b01300fd\t0097b02301010099\tb81300fa0097b823\t00fc0098c01300fa\t\n",
      "0097c02300fe0098\tc81300fc0096c823\t00f80096d01300fa\t0097d02300f90097\t\n",
      "d81300f80099d823\t00fb0099e01300fa\t009ae02300f70095\te81300fc009a)\n",
      "2018-12-04T13:54:33.068 20 log.eth    (ETH)Rcvd msg on socket.\n",
      "(030000000000)\n",
      "2018-12-04T13:54:33.069 20 log.medium SetFrequency tlm rx'd. (Code:0) (Message:0)\n",
      "2018-12-04T13:54:33.070 20 log.eth    (ETH)Rcvd msg on socket.\n",
      "(030000000000)\n",
      "2018-12-04T13:54:33.070 20 log.medium SetFrequency tlm rx'd. (Code:0) (Message:0)\n",
      "2018-12-04T13:54:33.071 20 fpga       send SET command succeeded\n"
     ]
    }
   ],
   "source": [
    "#pfi = pfiControl.PFI(fpgaHost='128.149.77.24') #'fpga' for real device.\n",
    "pfi = pfiControl.PFI(fpgaHost='localhost', doLoadModel=False)\n",
    "pfi.loadModel('/Users/chyan/Documents/workspace/ics_cobraCharmer/xml/updatedLinksAndMaps.xml')\n",
    "pfi.setFreq(allCobras)"
   ]
  },
  {
   "cell_type": "code",
   "execution_count": 10,
   "metadata": {},
   "outputs": [
    {
     "ename": "NameError",
     "evalue": "name 'pfi' is not defined",
     "output_type": "error",
     "traceback": [
      "\u001b[0;31m---------------------------------------------------------------------------\u001b[0m",
      "\u001b[0;31mNameError\u001b[0m                                 Traceback (most recent call last)",
      "\u001b[0;32m<ipython-input-10-044a511f5e26>\u001b[0m in \u001b[0;36m<module>\u001b[0;34m()\u001b[0m\n\u001b[0;32m----> 1\u001b[0;31m \u001b[0mpfi\u001b[0m\u001b[0;34m.\u001b[0m\u001b[0mloadModel\u001b[0m\u001b[0;34m(\u001b[0m\u001b[0;34m'../xml/precise.xml'\u001b[0m\u001b[0;34m)\u001b[0m\u001b[0;34m\u001b[0m\u001b[0;34m\u001b[0m\u001b[0m\n\u001b[0m\u001b[1;32m      2\u001b[0m \u001b[0mpfi\u001b[0m\u001b[0;34m.\u001b[0m\u001b[0msetFreq\u001b[0m\u001b[0;34m(\u001b[0m\u001b[0mallCobras\u001b[0m\u001b[0;34m)\u001b[0m\u001b[0;34m\u001b[0m\u001b[0;34m\u001b[0m\u001b[0m\n",
      "\u001b[0;31mNameError\u001b[0m: name 'pfi' is not defined"
     ]
    }
   ],
   "source": [
    "pfi.loadModel('../xml/precise.xml')\n",
    "pfi.setFreq(allCobras)"
   ]
  },
  {
   "cell_type": "code",
   "execution_count": null,
   "metadata": {},
   "outputs": [],
   "source": [
    "# Calculate up/down(outward) angles\n",
    "oddMoves = pfi.thetaToLocal(oddCobras, [np.deg2rad(270)]*len(oddCobras))\n",
    "oddMoves[oddMoves>1.85*np.pi] = 0\n",
    "\n",
    "evenMoves = pfi.thetaToLocal(evenCobras, [np.deg2rad(90)]*len(evenCobras))\n",
    "evenMoves[evenMoves>1.85*np.pi] = 0\n",
    "\n",
    "allMoves = np.zeros(57)\n",
    "allMoves[::2] = oddMoves\n",
    "allMoves[1::2] = evenMoves\n",
    "\n",
    "allSteps, _ = pfi.calculateSteps(np.zeros(57), allMoves, np.zeros(57), np.zeros(57))\n",
    "\n",
    "def moveCobra(c, theta, phi):\n",
    "    pfi.moveSteps([allCobras[c-1]], np.zeros(1)+theta, np.zeros(1)+phi)\n",
    "\n",
    "def moveCobras(cs, theta, phi):\n",
    "    cobs = []\n",
    "    for c in cs:\n",
    "        cobs.append(allCobras[c-1])\n",
    "    pfi.moveSteps(cobs, np.array(theta), np.array(phi))"
   ]
  },
  {
   "cell_type": "code",
   "execution_count": 12,
   "metadata": {},
   "outputs": [],
   "source": [
    "# define the broken/good cobras\n",
    "brokens = [1, 39, 43, 54]\n",
    "visibles= [e for e in range(1,58) if e not in brokens]\n",
    "badIdx = np.array(brokens) - 1\n",
    "goodIdx = np.array(visibles) - 1\n",
    "\n",
    "# two groups for two cameras\n",
    "cam_split = 26\n",
    "group1 = goodIdx[goodIdx <= cam_split]\n",
    "group2 = goodIdx[goodIdx > cam_split]\n",
    "\n",
    "# three non-interfering groups for good cobras\n",
    "goodGroupIdx = {}\n",
    "for group in range(3):\n",
    "    goodGroupIdx[group] = goodIdx[goodIdx%3==group]\n",
    "\n",
    "def getCobras(cobs):\n",
    "    # cobs is 0-indexed list\n",
    "    return pfiControl.PFI.allocateCobraList(zip(np.full(len(cobs), 1), np.array(cobs) + 1))\n",
    "\n",
    "def thetaFN(camId, group):\n",
    "    return f'data/theta{camId}G{group}_'\n",
    "\n",
    "def phiFN(camId, group):\n",
    "    return f'data/phi{camId}G{group}_'"
   ]
  },
  {
   "cell_type": "code",
   "execution_count": null,
   "metadata": {
    "scrolled": true
   },
   "outputs": [],
   "source": [
    "# Home phi\n",
    "pfi.moveAllSteps(allCobras, 0, -5000)"
   ]
  },
  {
   "cell_type": "code",
   "execution_count": null,
   "metadata": {
    "scrolled": true
   },
   "outputs": [],
   "source": [
    "# Home theta\n",
    "pfi.moveAllSteps(allCobras, -10000, 0)"
   ]
  },
  {
   "cell_type": "code",
   "execution_count": null,
   "metadata": {
    "scrolled": true
   },
   "outputs": [],
   "source": [
    "# Move the bad cobras to up/down positions\n",
    "pfi.moveSteps(getCobras(badIdx), allSteps[badIdx], np.zeros(len(brokens)))"
   ]
  },
  {
   "cell_type": "code",
   "execution_count": null,
   "metadata": {},
   "outputs": [],
   "source": [
    "# Manually fine tuning the bad cobras\n",
    "moveCobra(54, -200, 0)"
   ]
  },
  {
   "cell_type": "code",
   "execution_count": 18,
   "metadata": {
    "scrolled": true
   },
   "outputs": [],
   "source": [
    "def lazyIdentification(centers, spots, radii=None):\n",
    "    n = len(centers)\n",
    "    if radii is not None and len(radii) != n:\n",
    "        raise RuntimeError(\"number of centers must match number of radii\")\n",
    "    ans = np.empty(n, dtype=int)\n",
    "    for i in range(n):\n",
    "        dist = np.absolute(spots - centers[i])\n",
    "        j = np.argmin(dist)\n",
    "        if radii is not None and np.absolute(centers[i] - spots[j]) > radii[i]:\n",
    "            ans[i] = -1\n",
    "        else:\n",
    "            ans[i] = j\n",
    "    return ans"
   ]
  },
  {
   "cell_type": "code",
   "execution_count": 19,
   "metadata": {},
   "outputs": [],
   "source": [
    "# function to move cobras to target positions\n",
    "def moveToXYfromHome(idx, targets, threshold=3.0, maxTries=8):\n",
    "    cobras = getCobras(idx)\n",
    "    pfi.moveXYfromHome(cobras, targets)\n",
    "\n",
    "    ntries = 1\n",
    "    while True:\n",
    "        # check current positions, first exposing\n",
    "        p1 = Popen([\"/home/pfs/IDSControl/idsexposure\", \"-d\", \"1\", \"-e\", \"18\", \"-f\", \"data/cam1_\"], stdout=PIPE)\n",
    "        p1.communicate()\n",
    "        p2 = Popen([\"/home/pfs/IDSControl/idsexposure\", \"-d\", \"2\", \"-e\", \"18\", \"-f\", \"data/cam2_\"], stdout=PIPE)\n",
    "        p2.communicate()\n",
    "\n",
    "        # extract sources and fiber identification\n",
    "        data1 = fits.getdata('data/cam1_0001.fits').astype(float)\n",
    "        ext1 = sep.extract(data1, 100)\n",
    "        idx1 = lazyIdentification(pfi.calibModel.centers[idx[idx <= cam_split]], ext1['x'] + ext1['y']*(1j))\n",
    "        data2 = fits.getdata('data/cam2_0001.fits').astype(float)\n",
    "        ext2 = sep.extract(data2, 100)\n",
    "        idx2 = lazyIdentification(pfi.calibModel.centers[idx[idx > cam_split]], ext2['x'] + ext2['y']*(1j))\n",
    "        curPos = np.concatenate((ext1[idx1]['x'] + ext1[idx1]['y']*(1j), ext2[idx2]['x'] + ext2[idx2]['y']*(1j)))\n",
    "        print(curPos)\n",
    "\n",
    "        # check position errors\n",
    "        done = np.abs(curPos - targets) <= threshold\n",
    "        if np.all(done):\n",
    "            print('Convergence sequence done')\n",
    "            break\n",
    "        if ntries > maxTries:\n",
    "            print(f'Reach max {maxTries} tries, gave up')\n",
    "            break\n",
    "        ntries += 1\n",
    "\n",
    "        # move again\n",
    "        pfi.moveXY(cobras, curPos, targets)"
   ]
  },
  {
   "cell_type": "code",
   "execution_count": null,
   "metadata": {},
   "outputs": [],
   "source": [
    "# move visible positioners to outwards positions, phi arms are moved out for 60 degrees\n",
    "# (outTargets) otherwise we can't measure the theta angles\n",
    "thetas = np.empty(57, dtype=float)\n",
    "thetas[::2] = pfi.thetaToLocal(oddCobras, np.full(len(oddCobras), np.deg2rad(270)))\n",
    "thetas[1::2] = pfi.thetaToLocal(evenCobras, np.full(len(evenCobras), np.deg2rad(90)))\n",
    "phis = np.full(57, np.deg2rad(60.0))\n",
    "outTargets = pfi.anglesToPositions(allCobras, thetas, phis)"
   ]
  },
  {
   "cell_type": "code",
   "execution_count": null,
   "metadata": {},
   "outputs": [],
   "source": [
    "# move to outTargets\n",
    "moveToXYfromHome(goodIdx, outTargets[goodIdx])\n",
    "\n",
    "# move phi arms in\n",
    "pfi.moveAllSteps(getCobras(goodIdx), 0, -5000)"
   ]
  },
  {
   "cell_type": "code",
   "execution_count": null,
   "metadata": {},
   "outputs": [],
   "source": [
    "# You may want to check if all cobras are really pointing outward\n",
    "moveCobra(41, 200, 0)"
   ]
  },
  {
   "cell_type": "code",
   "execution_count": null,
   "metadata": {},
   "outputs": [],
   "source": [
    "def expose(fn1, fn2):\n",
    "    p1 = Popen([\"/home/pfs/IDSControl/idsexposure\", \"-d\", \"1\", \"-e\", \"18\", \"-l\", \"3\", \"-f\", fn1], stdout=PIPE)\n",
    "    p1.communicate()\n",
    "    p2 = Popen([\"/home/pfs/IDSControl/idsexposure\", \"-d\", \"2\", \"-e\", \"18\", \"-l\", \"3\", \"-f\", fn2], stdout=PIPE)\n",
    "    p2.communicate()"
   ]
  },
  {
   "cell_type": "code",
   "execution_count": 21,
   "metadata": {},
   "outputs": [],
   "source": [
    "# parameters declared here\n",
    "repeat = 3\n",
    "steps = 400\n",
    "thetaSteps = 10000\n",
    "phiSteps = 5000\n",
    "myCobras = getCobras(goodIdx)"
   ]
  },
  {
   "cell_type": "code",
   "execution_count": null,
   "metadata": {},
   "outputs": [],
   "source": [
    "# record the phi movements\n",
    "for n in range(repeat):\n",
    "    # forward phi motor maps\n",
    "    expose(f'data/phi1Begin{n}_', f'data/phi2Begin{n}_')\n",
    "    for k in range(phiSteps//steps):\n",
    "        pfi.moveAllSteps(myCobras, 0, steps)\n",
    "        expose(f'data/phi1Forward{n}N{k}_', f'data/phi2Forward{n}N{k}_')\n",
    "    # reverse phi motor maps\n",
    "    expose(f'data/phi1End{n}_', f'data/phi2End{n}_')\n",
    "    for k in range(phiSteps//steps):\n",
    "        pfi.moveAllSteps(myCobras, 0, -steps)\n",
    "        expose(f'data/phi1Reverse{n}N{k}_', f'data/phi2Reverse{n}N{k}_')\n",
    "\n",
    "# move phi arms out for 60 degrees then home theta\n",
    "pfi.moveAllSteps(myCobras, 0, -5000)\n",
    "moveToXYfromHome(goodIdx, outTargets[goodIdx])\n",
    "pfi.moveAllSteps(myCobras, -10000, 0)\n",
    "\n",
    "# record the theta movements\n",
    "for n in range(repeat):\n",
    "    # forward theta motor maps\n",
    "    expose(f'data/theta1Begin{n}_', f'data/theta2Begin{n}_')\n",
    "    for k in range(thetaSteps//steps):\n",
    "        pfi.moveAllSteps(myCobras, steps, 0)\n",
    "        expose(f'data/theta1Forward{n}N{k}_', f'data/theta2Forward{n}N{k}_')\n",
    "    # reverse theta motor maps\n",
    "    expose(f'data/theta1End{n}_', f'data/theta2End{n}_')\n",
    "    for k in range(thetaSteps//steps):\n",
    "        pfi.moveAllSteps(myCobras, -steps, 0)\n",
    "        expose(f'data/theta1Reverse{n}N{k}_', f'data/theta2Reverse{n}N{k}_')"
   ]
  },
  {
   "cell_type": "code",
   "execution_count": 22,
   "metadata": {},
   "outputs": [],
   "source": [
    "# variable declaration for position measurement\n",
    "thetaFW = np.zeros((57, repeat, thetaSteps//steps+1), dtype=complex)\n",
    "thetaRV = np.zeros((57, repeat, thetaSteps//steps+1), dtype=complex)\n",
    "phiFW = np.zeros((57, repeat, phiSteps//steps+1), dtype=complex)\n",
    "phiRV = np.zeros((57, repeat, phiSteps//steps+1), dtype=complex)"
   ]
  },
  {
   "cell_type": "code",
   "execution_count": 24,
   "metadata": {},
   "outputs": [],
   "source": [
    "# first camera\n",
    "\n",
    "# phi stages\n",
    "myIdx = goodIdx[goodIdx <= cam_split]\n",
    "centers = pfi.calibModel.centers[myIdx]\n",
    "\n",
    "# forward phi\n",
    "cnt = phiSteps//steps\n",
    "for n in range(repeat):\n",
    "    data = fits.getdata(f'/Volumes/Science/20181128/phi2Begin{n}_0001.fits')\n",
    "    cs = sep.extract(data.astype(float), 50)\n",
    "    spots = np.array([c['x']+c['y']*(1j) for c in cs])\n",
    "    idx = lazyIdentification(centers, spots)\n",
    "    phiFW[myIdx,n,0] = spots[idx]   \n",
    "    for k in range(cnt):\n",
    "        data = fits.getdata(f'/Volumes/Science/20181128/phi2Forward{n}N{k}_0001.fits')\n",
    "        cs = sep.extract(data.astype(float), 50)\n",
    "        spots = np.array([c['x']+c['y']*(1j) for c in cs])\n",
    "        idx = lazyIdentification(centers, spots)\n",
    "        phiFW[myIdx,n,k+1] = spots[idx]\n",
    "\n",
    "# reverse phi\n",
    "for n in range(repeat):\n",
    "    data = fits.getdata(f'/Volumes/Science/20181128/phi2End{n}_0001.fits')\n",
    "    cs = sep.extract(data.astype(float), 50)\n",
    "    spots = np.array([c['x']+c['y']*(1j) for c in cs])\n",
    "    idx = lazyIdentification(centers, spots)\n",
    "    phiRV[myIdx,n,0] = spots[idx]   \n",
    "    for k in range(cnt):\n",
    "        data = fits.getdata(f'/Volumes/Science/20181128/phi2Reverse{n}N{k}_0001.fits')\n",
    "        cs = sep.extract(data.astype(float), 50)\n",
    "        spots = np.array([c['x']+c['y']*(1j) for c in cs])\n",
    "        idx = lazyIdentification(centers, spots)\n",
    "        phiRV[myIdx,n,k+1] = spots[idx]\n",
    "\n",
    "# forward theta\n",
    "cnt = thetaSteps//steps\n",
    "for n in range(repeat):\n",
    "    data = fits.getdata(f'/Volumes/Science/20181128/theta2Begin{n}_0001.fits')\n",
    "    cs = sep.extract(data.astype(float), 50)\n",
    "    spots = np.array([c['x']+c['y']*(1j) for c in cs])\n",
    "    idx = lazyIdentification(centers, spots)\n",
    "    thetaFW[myIdx,n,0] = spots[idx]   \n",
    "    for k in range(cnt):\n",
    "        data = fits.getdata(f'/Volumes/Science/20181128/theta2Forward{n}N{k}_0001.fits')\n",
    "        cs = sep.extract(data.astype(float), 50)\n",
    "        spots = np.array([c['x']+c['y']*(1j) for c in cs])\n",
    "        idx = lazyIdentification(centers, spots)\n",
    "        thetaFW[myIdx,n,k+1] = spots[idx]\n",
    "\n",
    "# reverse theta\n",
    "for n in range(repeat):\n",
    "    data = fits.getdata(f'/Volumes/Science/20181128/theta2End{n}_0001.fits')\n",
    "    cs = sep.extract(data.astype(float), 50)\n",
    "    spots = np.array([c['x']+c['y']*(1j) for c in cs])\n",
    "    idx = lazyIdentification(centers, spots)\n",
    "    thetaRV[myIdx,n,0] = spots[idx]   \n",
    "    for k in range(cnt):\n",
    "        data = fits.getdata(f'/Volumes/Science/20181128/theta2Reverse{n}N{k}_0001.fits')\n",
    "        cs = sep.extract(data.astype(float), 50)\n",
    "        spots = np.array([c['x']+c['y']*(1j) for c in cs])\n",
    "        idx = lazyIdentification(centers, spots)\n",
    "        thetaRV[myIdx,n,k+1] = spots[idx]"
   ]
  },
  {
   "cell_type": "code",
   "execution_count": 25,
   "metadata": {},
   "outputs": [],
   "source": [
    "# second camera\n",
    "\n",
    "# phi stages\n",
    "myIdx = goodIdx[goodIdx > cam_split]\n",
    "centers = pfi.calibModel.centers[myIdx]\n",
    "\n",
    "# forward phi\n",
    "cnt = phiSteps//steps\n",
    "for n in range(repeat):\n",
    "    data = fits.getdata(f'/Volumes/Science/20181128/phi1Begin{n}_0001.fits')\n",
    "    cs = sep.extract(data.astype(float), 50)\n",
    "    spots = np.array([c['x']+c['y']*(1j) for c in cs])\n",
    "    idx = lazyIdentification(centers, spots)\n",
    "    phiFW[myIdx,n,0] = spots[idx]   \n",
    "    for k in range(cnt):\n",
    "        data = fits.getdata(f'/Volumes/Science/20181128/phi1Forward{n}N{k}_0001.fits')\n",
    "        cs = sep.extract(data.astype(float), 50)\n",
    "        spots = np.array([c['x']+c['y']*(1j) for c in cs])\n",
    "        idx = lazyIdentification(centers, spots)\n",
    "        phiFW[myIdx,n,k+1] = spots[idx]\n",
    "\n",
    "# reverse phi\n",
    "for n in range(repeat):\n",
    "    data = fits.getdata(f'/Volumes/Science/20181128/phi1End{n}_0001.fits')\n",
    "    cs = sep.extract(data.astype(float), 50)\n",
    "    spots = np.array([c['x']+c['y']*(1j) for c in cs])\n",
    "    idx = lazyIdentification(centers, spots)\n",
    "    phiRV[myIdx,n,0] = spots[idx]   \n",
    "    for k in range(cnt):\n",
    "        data = fits.getdata(f'/Volumes/Science/20181128/phi1Reverse{n}N{k}_0001.fits')\n",
    "        cs = sep.extract(data.astype(float), 50)\n",
    "        spots = np.array([c['x']+c['y']*(1j) for c in cs])\n",
    "        idx = lazyIdentification(centers, spots)\n",
    "        phiRV[myIdx,n,k+1] = spots[idx]\n",
    "\n",
    "# forward theta\n",
    "cnt = thetaSteps//steps\n",
    "for n in range(repeat):\n",
    "    data = fits.getdata(f'/Volumes/Science/20181128/theta1Begin{n}_0001.fits')\n",
    "    cs = sep.extract(data.astype(float), 50)\n",
    "    spots = np.array([c['x']+c['y']*(1j) for c in cs])\n",
    "    idx = lazyIdentification(centers, spots)\n",
    "    thetaFW[myIdx,n,0] = spots[idx]   \n",
    "    for k in range(cnt):\n",
    "        data = fits.getdata(f'/Volumes/Science/20181128/theta1Forward{n}N{k}_0001.fits')\n",
    "        cs = sep.extract(data.astype(float), 50)\n",
    "        spots = np.array([c['x']+c['y']*(1j) for c in cs])\n",
    "        idx = lazyIdentification(centers, spots)\n",
    "        thetaFW[myIdx,n,k+1] = spots[idx]\n",
    "\n",
    "# reverse theta\n",
    "for n in range(repeat):\n",
    "    data = fits.getdata(f'/Volumes/Science/20181128/theta1End{n}_0001.fits')\n",
    "    cs = sep.extract(data.astype(float), 50)\n",
    "    spots = np.array([c['x']+c['y']*(1j) for c in cs])\n",
    "    idx = lazyIdentification(centers, spots)\n",
    "    thetaRV[myIdx,n,0] = spots[idx]   \n",
    "    for k in range(cnt):\n",
    "        data = fits.getdata(f'/Volumes/Science/20181128/theta1Reverse{n}N{k}_0001.fits')\n",
    "        cs = sep.extract(data.astype(float), 50)\n",
    "        spots = np.array([c['x']+c['y']*(1j) for c in cs])\n",
    "        idx = lazyIdentification(centers, spots)\n",
    "        thetaRV[myIdx,n,k+1] = spots[idx]"
   ]
  },
  {
   "cell_type": "code",
   "execution_count": 26,
   "metadata": {},
   "outputs": [],
   "source": [
    "# variable declaration for theta, phi angles\n",
    "thetaCenter = np.zeros(57, dtype=complex)\n",
    "phiCenter = np.zeros(57, dtype=complex)\n",
    "thetaAngFW = np.zeros((57, repeat, thetaSteps//steps+1), dtype=float)\n",
    "thetaAngRV = np.zeros((57, repeat, thetaSteps//steps+1), dtype=float)\n",
    "phiAngFW = np.zeros((57, repeat, phiSteps//steps+1), dtype=float)\n",
    "phiAngRV = np.zeros((57, repeat, phiSteps//steps+1), dtype=float)"
   ]
  },
  {
   "cell_type": "code",
   "execution_count": 27,
   "metadata": {},
   "outputs": [],
   "source": [
    "def circle_fitting(p):\n",
    "    x = np.real(p)\n",
    "    y = np.imag(p)\n",
    "    m = np.vstack([x, y, np.ones(len(p))]).T\n",
    "    n = np.array(x*x + y*y)\n",
    "    a, b, c = np.linalg.lstsq(m, n, rcond=None)[0]\n",
    "    return a/2, b/2, np.sqrt(c+(a*a+b*b)/4)"
   ]
  },
  {
   "cell_type": "code",
   "execution_count": 28,
   "metadata": {},
   "outputs": [],
   "source": [
    "# measure centers\n",
    "for c in goodIdx:\n",
    "    data = np.concatenate((thetaFW[c].flatten(), thetaRV[c].flatten()))\n",
    "    x, y, r = circle_fitting(data)\n",
    "    thetaCenter[c] = x + y*(1j)\n",
    "    data = np.concatenate((phiFW[c].flatten(), phiRV[c].flatten()))\n",
    "    x, y, r = circle_fitting(data)\n",
    "    phiCenter[c] = x + y*(1j)"
   ]
  },
  {
   "cell_type": "code",
   "execution_count": 29,
   "metadata": {},
   "outputs": [],
   "source": [
    "# measure theta angles\n",
    "cnt = thetaSteps//steps\n",
    "for c in goodIdx:\n",
    "    for n in range(repeat):\n",
    "        for k in range(cnt+1):\n",
    "            thetaAngFW[c,n,k] = np.angle(thetaFW[c,n,k] - thetaCenter[c])\n",
    "            thetaAngRV[c,n,k] = np.angle(thetaRV[c,n,k] - thetaCenter[c])\n",
    "        home = thetaAngFW[c,n,0]\n",
    "        thetaAngFW[c,n] = (thetaAngFW[c,n] - home) % (np.pi*2)\n",
    "        thetaAngRV[c,n] = (thetaAngRV[c,n] - home) % (np.pi*2)\n",
    "\n",
    "# fix over 2*pi angle issue\n",
    "for c in goodIdx:\n",
    "    for n in range(repeat):\n",
    "        for k in range(cnt):\n",
    "            if thetaAngFW[c,n,k+1] < thetaAngFW[c,n,k]:\n",
    "                thetaAngFW[c,n,k+1] += np.pi*2\n",
    "        for k in range(cnt):\n",
    "            if thetaAngRV[c,n,k+1] > thetaAngRV[c,n,k]:\n",
    "                thetaAngRV[c,n,k] += np.pi*2\n",
    "            else:\n",
    "                break\n",
    "        for k in range(cnt):\n",
    "            if thetaAngRV[c,n,k+1] > thetaAngRV[c,n,k]:\n",
    "                thetaAngRV[c,n,k+1] -= np.pi*2\n",
    "\n",
    "# measure phi angles\n",
    "cnt = phiSteps//steps + 1\n",
    "for c in goodIdx:\n",
    "    for n in range(repeat):\n",
    "        for k in range(cnt):\n",
    "            phiAngFW[c,n,k] = np.angle(phiFW[c,n,k] - phiCenter[c])\n",
    "            phiAngRV[c,n,k] = np.angle(phiRV[c,n,k] - phiCenter[c])\n",
    "        home = phiAngFW[c,n,0]\n",
    "        phiAngFW[c,n] = (phiAngFW[c,n] - home + np.pi/2) % (np.pi*2) - np.pi/2\n",
    "        phiAngRV[c,n] = (phiAngRV[c,n] - home + np.pi/2) % (np.pi*2) - np.pi/2"
   ]
  },
  {
   "cell_type": "code",
   "execution_count": 30,
   "metadata": {},
   "outputs": [],
   "source": [
    "# use the same weighting as Johannes to calculate motor maps\n",
    "binSize = np.deg2rad(3.6)\n",
    "regions = 112\n",
    "\n",
    "thetaMMFW = np.zeros((57, regions), dtype=float)\n",
    "thetaMMRV = np.zeros((57, regions), dtype=float)\n",
    "phiMMFW = np.zeros((57, regions), dtype=float)\n",
    "phiMMRV = np.zeros((57, regions), dtype=float)"
   ]
  },
  {
   "cell_type": "code",
   "execution_count": 31,
   "metadata": {},
   "outputs": [],
   "source": [
    "delta = np.deg2rad(10)\n",
    "thetaHS = np.deg2rad(370)\n",
    "\n",
    "# calculate theta motor maps\n",
    "cnt = thetaSteps//steps\n",
    "for c in goodIdx:\n",
    "    for b in range(regions):\n",
    "        # forward motor maps\n",
    "        binMin = binSize * b\n",
    "        binMax = binMin + binSize\n",
    "        fracSum = 0\n",
    "        valueSum = 0\n",
    "        for n in range(repeat):\n",
    "            for k in range(cnt):\n",
    "                if thetaAngFW[c,n,k] < binMax and thetaAngFW[c,n,k+1] > binMin and thetaAngFW[c,n,k+1] <= thetaHS:\n",
    "                    moveSizeInBin = np.min([thetaAngFW[c,n,k+1], binMax]) - np.max([thetaAngFW[c,n,k], binMin])\n",
    "                    entireMoveSize = thetaAngFW[c,n,k+1] - thetaAngFW[c,n,k]\n",
    "                    fraction = moveSizeInBin * moveSizeInBin / entireMoveSize\n",
    "                    fracSum += fraction\n",
    "                    valueSum += fraction * entireMoveSize / steps\n",
    "        if fracSum > 0:\n",
    "            thetaMMFW[c,b] = valueSum / fracSum\n",
    "        else:\n",
    "            thetaMMFW[c,b] = thetaMMFW[c,b-1]\n",
    "\n",
    "        # reverse motor maps\n",
    "        fracSum = 0\n",
    "        valueSum = 0\n",
    "        for n in range(repeat):\n",
    "            for k in range(cnt):\n",
    "                if thetaAngRV[c,n,k] > binMin and thetaAngRV[c,n,k+1] < binMax and thetaAngFW[c,n,k+1] >= delta:\n",
    "                    moveSizeInBin = np.min([thetaAngRV[c,n,k], binMax]) - np.max([thetaAngRV[c,n,k+1], binMin])\n",
    "                    entireMoveSize = thetaAngRV[c,n,k] - thetaAngRV[c,n,k+1]\n",
    "                    fraction = moveSizeInBin * moveSizeInBin / entireMoveSize\n",
    "                    fracSum += fraction\n",
    "                    valueSum += fraction * entireMoveSize / steps\n",
    "        if fracSum > 0:\n",
    "            thetaMMRV[c,b] = valueSum / fracSum\n",
    "        else:\n",
    "            thetaMMRV[c,b] = thetaMMFW[c,b-1]\n",
    "\n",
    "# calculate phi motor maps\n",
    "cnt = phiSteps//steps\n",
    "for c in goodIdx:\n",
    "    for b in range(regions):\n",
    "        # forward motor maps\n",
    "        binMin = binSize * b\n",
    "        binMax = binMin + binSize\n",
    "        fracSum = 0\n",
    "        valueSum = 0\n",
    "        for n in range(repeat):\n",
    "            for k in range(cnt):\n",
    "                if phiAngFW[c,n,k] < binMax and phiAngFW[c,n,k+1] > binMin and phiAngFW[c,n,k+1] <= np.pi - delta:\n",
    "                    moveSizeInBin = np.min([phiAngFW[c,n,k+1], binMax]) - np.max([phiAngFW[c,n,k], binMin])\n",
    "                    entireMoveSize = phiAngFW[c,n,k+1] - phiAngFW[c,n,k]\n",
    "                    fraction = moveSizeInBin * moveSizeInBin / entireMoveSize\n",
    "                    fracSum += fraction\n",
    "                    valueSum += fraction * entireMoveSize / steps\n",
    "        if fracSum > 0:\n",
    "            phiMMFW[c,b] = valueSum / fracSum\n",
    "        else:\n",
    "            phiMMFW[c,b] = phiMMFW[c,b-1]\n",
    "\n",
    "        # reverse motor maps\n",
    "        fracSum = 0\n",
    "        valueSum = 0\n",
    "        for n in range(repeat):\n",
    "            for k in range(cnt):\n",
    "                if phiAngRV[c,n,k] > binMin and phiAngRV[c,n,k+1] < binMax and phiAngFW[c,n,k+1] >= delta:\n",
    "                    moveSizeInBin = np.min([phiAngRV[c,n,k], binMax]) - np.max([phiAngRV[c,n,k+1], binMin])\n",
    "                    entireMoveSize = phiAngRV[c,n,k] - phiAngRV[c,n,k+1]\n",
    "                    fraction = moveSizeInBin * moveSizeInBin / entireMoveSize\n",
    "                    fracSum += fraction\n",
    "                    valueSum += fraction * entireMoveSize / steps\n",
    "        if fracSum > 0:\n",
    "            phiMMRV[c,b] = valueSum / fracSum\n",
    "        else:\n",
    "            phiMMRV[c,b] = phiMMFW[c,b-1]"
   ]
  },
  {
   "cell_type": "code",
   "execution_count": 32,
   "metadata": {},
   "outputs": [
    {
     "name": "stderr",
     "output_type": "stream",
     "text": [
      "/Users/chyan/Documents/workspace/ics_cobraCharmer/python/ics/cobraCharmer/pfiDesign.py:220: RuntimeWarning: divide by zero encountered in true_divide\n",
      "  self.S2Nm[i] = self.angularSteps[i] / phiRev[i]\n",
      "/Users/chyan/Documents/workspace/ics_cobraCharmer/python/ics/cobraCharmer/pfiDesign.py:212: RuntimeWarning: divide by zero encountered in true_divide\n",
      "  self.S2Pm[i] = self.angularSteps[i] / phiFwd[i]\n",
      "/Users/chyan/Documents/workspace/ics_cobraCharmer/python/ics/cobraCharmer/pfiDesign.py:204: RuntimeWarning: divide by zero encountered in true_divide\n",
      "  self.S1Nm[i] = self.angularSteps[i] / thtRev[i]\n",
      "/Users/chyan/Documents/workspace/ics_cobraCharmer/python/ics/cobraCharmer/pfiDesign.py:222: RuntimeWarning: divide by zero encountered in true_divide\n",
      "  self.F2Nm[i] = self.angularSteps[i] / phiRev[i]\n",
      "/Users/chyan/Documents/workspace/ics_cobraCharmer/python/ics/cobraCharmer/pfiDesign.py:214: RuntimeWarning: divide by zero encountered in true_divide\n",
      "  self.F2Pm[i] = self.angularSteps[i] / phiFwd[i]\n",
      "/Users/chyan/Documents/workspace/ics_cobraCharmer/python/ics/cobraCharmer/pfiDesign.py:206: RuntimeWarning: divide by zero encountered in true_divide\n",
      "  self.F1Nm[i] = self.angularSteps[i] / thtRev[i]\n"
     ]
    }
   ],
   "source": [
    "# save new configuration for both slow nad fast motor maps\n",
    "old = pfi.calibModel\n",
    "\n",
    "sThetaFW = binSize / old.S1Pm\n",
    "sThetaRV = binSize / old.S1Nm\n",
    "fThetaFW = binSize / old.F1Pm\n",
    "fThetaRV = binSize / old.F1Nm\n",
    "sPhiFW = binSize / old.S2Pm\n",
    "sPhiRV = binSize / old.S2Nm\n",
    "fPhiFW = binSize / old.F2Pm\n",
    "fPhiRV = binSize / old.F2Nm\n",
    "\n",
    "# you can remove bad measurement here\n",
    "idx = np.delete(goodIdx, np.argwhere(goodIdx==11))\n",
    "#idx = goodIdx\n",
    "\n",
    "sThetaFW[idx] = thetaMMFW[idx]\n",
    "sThetaRV[idx] = thetaMMRV[idx]\n",
    "fThetaFW[idx] = thetaMMFW[idx]\n",
    "fThetaRV[idx] = thetaMMRV[idx]\n",
    "sPhiFW[idx] = phiMMFW[idx]\n",
    "sPhiRV[idx] = phiMMRV[idx]\n",
    "fPhiFW[idx] = phiMMFW[idx]\n",
    "fPhiRV[idx] = phiMMRV[idx]\n",
    "\n",
    "# update configuration\n",
    "old.updateMotorMaps(sThetaFW, sThetaRV, sPhiFW, sPhiRV, useSlowMaps=True)\n",
    "old.updateMotorMaps(fThetaFW, fThetaRV, fPhiFW, fPhiRV, useSlowMaps=False)\n",
    "\n",
    "# write to a new XML file\n",
    "old.createCalibrationFile('/Users/chyan/Documents/workspace/ics_cobraCharmer/xml/motormaps.xml')"
   ]
  },
  {
   "cell_type": "code",
   "execution_count": null,
   "metadata": {},
   "outputs": [],
   "source": []
  },
  {
   "cell_type": "code",
   "execution_count": null,
   "metadata": {},
   "outputs": [],
   "source": [
    "[(c.module, c.cobraNum) for c in getCobras(np.array([1,2,3]))]"
   ]
  },
  {
   "cell_type": "code",
   "execution_count": null,
   "metadata": {},
   "outputs": [],
   "source": [
    "plt.plot(thetaMMFW[1]), plt.plot(thetaMMRV[1])"
   ]
  },
  {
   "cell_type": "code",
   "execution_count": null,
   "metadata": {},
   "outputs": [],
   "source": [
    "plt.plot(phiMMFW[1]), plt.plot(phiMMRV[1])"
   ]
  },
  {
   "cell_type": "code",
   "execution_count": null,
   "metadata": {},
   "outputs": [],
   "source": []
  }
 ],
 "metadata": {
  "kernelspec": {
   "display_name": "Python 3",
   "language": "python",
   "name": "python3"
  },
  "language_info": {
   "codemirror_mode": {
    "name": "ipython",
    "version": 3
   },
   "file_extension": ".py",
   "mimetype": "text/x-python",
   "name": "python",
   "nbconvert_exporter": "python",
   "pygments_lexer": "ipython3",
   "version": "3.6.7"
  }
 },
 "nbformat": 4,
 "nbformat_minor": 2
}
