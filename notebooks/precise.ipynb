{
 "cells": [
  {
   "cell_type": "markdown",
   "metadata": {},
   "source": [
    "### Refine the cobra configuration file, update the centers, arm lengths and hard stops"
   ]
  },
  {
   "cell_type": "code",
   "execution_count": null,
   "metadata": {},
   "outputs": [],
   "source": [
    "from importlib import reload\n",
    "import numpy as np\n",
    "import time\n",
    "from astropy.io import fits\n",
    "import sep\n",
    "import matplotlib.pyplot as plt\n",
    "from subprocess import Popen, PIPE\n",
    "import glob\n",
    "from copy import deepcopy\n",
    "from ics.cobraCharmer import pfi as pfiControl"
   ]
  },
  {
   "cell_type": "code",
   "execution_count": null,
   "metadata": {},
   "outputs": [],
   "source": [
    "mod1Cobras = pfiControl.PFI.allocateCobraRange(range(1,2))\n",
    "allCobras = mod1Cobras\n",
    "oneCobra = pfiControl.PFI.allocateCobraList([(1,2)])\n",
    "twoCobras = pfiControl.PFI.allocateCobraList([(1,2), (1,5)])\n",
    "\n",
    "# partition module 1 cobras into non-interfering sets\n",
    "moduleCobras = {}\n",
    "for group in 1,2,3:\n",
    "    cm = range(group,58,3)\n",
    "    mod = [1]*len(cm)\n",
    "    moduleCobras[group] = pfiControl.PFI.allocateCobraList(zip(mod,cm))\n",
    "group1Cobras = moduleCobras[1]\n",
    "group2Cobras = moduleCobras[2]\n",
    "group3Cobras = moduleCobras[3]\n",
    "\n",
    "# partition module 1 cobras into odd and even sets\n",
    "moduleCobras2 = {}\n",
    "for group in 1,2:\n",
    "    cm = range(group,58,2)\n",
    "    mod = [1]*len(cm)\n",
    "    moduleCobras2[group] = pfiControl.PFI.allocateCobraList(zip(mod,cm))\n",
    "oddCobras = moduleCobras2[1]\n",
    "evenCobras = moduleCobras2[2]"
   ]
  },
  {
   "cell_type": "code",
   "execution_count": null,
   "metadata": {
    "scrolled": true
   },
   "outputs": [],
   "source": [
    "pfi = pfiControl.PFI(fpgaHost='128.149.77.24') #'fpga' for real device.\n",
    "#pfi = pfiControl.PFI(fpgaHost='localhost', doLoadModel=False)\n",
    "pfi.loadModel('../xml/coarse.xml')\n",
    "pfi.setFreq(allCobras)"
   ]
  },
  {
   "cell_type": "code",
   "execution_count": null,
   "metadata": {},
   "outputs": [],
   "source": [
    "# Calculate up/down(outward) angles\n",
    "oddMoves = pfi.thetaToLocal(oddCobras, [np.deg2rad(270)]*len(oddCobras))\n",
    "oddMoves[oddMoves>1.85*np.pi] = 0\n",
    "\n",
    "evenMoves = pfi.thetaToLocal(evenCobras, [np.deg2rad(90)]*len(evenCobras))\n",
    "evenMoves[evenMoves>1.85*np.pi] = 0\n",
    "\n",
    "allMoves = np.zeros(57)\n",
    "allMoves[::2] = oddMoves\n",
    "allMoves[1::2] = evenMoves\n",
    "\n",
    "allSteps, _ = pfi.calculateSteps(np.zeros(57), allMoves, np.zeros(57), np.zeros(57))\n",
    "\n",
    "def moveCobra(c, theta, phi):\n",
    "    pfi.moveSteps([allCobras[c-1]], np.zeros(1)+theta, np.zeros(1)+phi)\n",
    "\n",
    "def moveCobras(cs, theta, phi):\n",
    "    cobs = []\n",
    "    for c in cs:\n",
    "        cobs.append(allCobras[c-1])\n",
    "    pfi.moveSteps(cobs, np.array(theta), np.array(phi))"
   ]
  },
  {
   "cell_type": "code",
   "execution_count": null,
   "metadata": {},
   "outputs": [],
   "source": [
    "# define the broken/good cobras\n",
    "brokens = [1, 39, 43, 54]\n",
    "visibles= [e for e in range(1,58) if e not in brokens]\n",
    "badIdx = np.array(brokens) - 1\n",
    "goodIdx = np.array(visibles) - 1\n",
    "\n",
    "# two groups for two cameras\n",
    "cam_split = 26\n",
    "group1 = goodIdx[goodIdx <= cam_split]\n",
    "group2 = goodIdx[goodIdx > cam_split]\n",
    "\n",
    "# three non-interfering groups for good cobras\n",
    "goodGroupIdx = {}\n",
    "for group in range(3):\n",
    "    goodGroupIdx[group] = goodIdx[goodIdx%3==group]\n",
    "\n",
    "def getCobras(cobs):\n",
    "    # cobs is 0-indexed list\n",
    "    return pfiControl.PFI.allocateCobraList(zip(np.full(len(cobs), 1), np.array(cobs) + 1))\n",
    "\n",
    "def thetaFN(camId, group):\n",
    "    return f'data/theta{camId}G{group}_'\n",
    "\n",
    "def phiFN(camId, group):\n",
    "    return f'data/phi{camId}G{group}_'"
   ]
  },
  {
   "cell_type": "code",
   "execution_count": null,
   "metadata": {
    "scrolled": true
   },
   "outputs": [],
   "source": [
    "# Home phi\n",
    "pfi.moveAllSteps(allCobras, 0, -5000)"
   ]
  },
  {
   "cell_type": "code",
   "execution_count": null,
   "metadata": {
    "scrolled": true
   },
   "outputs": [],
   "source": [
    "# Home theta\n",
    "pfi.moveAllSteps(allCobras, -10000, 0)"
   ]
  },
  {
   "cell_type": "code",
   "execution_count": null,
   "metadata": {
    "scrolled": true
   },
   "outputs": [],
   "source": [
    "# Move the bad cobras to up/down positions\n",
    "pfi.moveSteps(getCobras(badIdx), allSteps[badIdx], np.zeros(len(brokens)))"
   ]
  },
  {
   "cell_type": "code",
   "execution_count": null,
   "metadata": {},
   "outputs": [],
   "source": [
    "# Manually fine tuning the bad cobras\n",
    "moveCobra(30, -200, 0)"
   ]
  },
  {
   "cell_type": "code",
   "execution_count": null,
   "metadata": {
    "scrolled": true
   },
   "outputs": [],
   "source": [
    "def lazyIdentification(centers, spots, radii=None):\n",
    "    n = len(centers)\n",
    "    if radii is not None and len(radii) != n:\n",
    "        raise RuntimeError(\"number of centers must match number of radii\")\n",
    "    ans = np.empty(n, dtype=int)\n",
    "    for i in range(n):\n",
    "        dist = np.absolute(spots - centers[i])\n",
    "        j = np.argmin(dist)\n",
    "        if radii is not None and np.absolute(centers[i] - spots[j]) > radii[i]:\n",
    "            ans[i] = -1\n",
    "        else:\n",
    "            ans[i] = j\n",
    "    return ans"
   ]
  },
  {
   "cell_type": "code",
   "execution_count": null,
   "metadata": {},
   "outputs": [],
   "source": [
    "# function to move cobras to target positions\n",
    "def moveToXYfromHome(idx, targets, threshold=3.0, maxTries=8):\n",
    "    cobras = getCobras(idx)\n",
    "    pfi.moveXYfromHome(cobras, targets)\n",
    "\n",
    "    ntries = 1\n",
    "    while True:\n",
    "        # check current positions, first exposing\n",
    "        p1 = Popen([\"/home/pfs/IDSControl/idsexposure\", \"-d\", \"1\", \"-e\", \"18\", \"-f\", \"data/cam1_\"], stdout=PIPE)\n",
    "        p1.communicate()\n",
    "        p2 = Popen([\"/home/pfs/IDSControl/idsexposure\", \"-d\", \"2\", \"-e\", \"18\", \"-f\", \"data/cam2_\"], stdout=PIPE)\n",
    "        p2.communicate()\n",
    "\n",
    "        # extract sources and fiber identification\n",
    "        data1 = fits.getdata('data/cam1_0001.fits').astype(float)\n",
    "        ext1 = sep.extract(data1, 100)\n",
    "        idx1 = lazyIdentification(pfi.calibModel.centers[idx[idx <= cam_split]], ext1['x'] + ext1['y']*(1j))\n",
    "        data2 = fits.getdata('data/cam2_0001.fits').astype(float)\n",
    "        ext2 = sep.extract(data2, 100)\n",
    "        idx2 = lazyIdentification(pfi.calibModel.centers[idx[idx > cam_split]], ext2['x'] + ext2['y']*(1j))\n",
    "        curPos = np.concatenate((ext1[idx1]['x'] + ext1[idx1]['y']*(1j), ext2[idx2]['x'] + ext2[idx2]['y']*(1j)))\n",
    "        print(curPos)\n",
    "\n",
    "        # check position errors\n",
    "        done = np.abs(curPos - targets) <= threshold\n",
    "        if np.all(done):\n",
    "            print('Convergence sequence done')\n",
    "            break\n",
    "        if ntries > maxTries:\n",
    "            print(f'Reach max {maxTries} tries, gave up')\n",
    "            break\n",
    "        ntries += 1\n",
    "\n",
    "        # move again\n",
    "        pfi.moveXY(cobras, curPos, targets)"
   ]
  },
  {
   "cell_type": "code",
   "execution_count": null,
   "metadata": {},
   "outputs": [],
   "source": [
    "def circle_fitting(p):\n",
    "    x = p[:,0]\n",
    "    y = p[:,1]\n",
    "    m = np.vstack([x, y, np.ones(len(p))]).T\n",
    "    n = np.array(x*x + y*y)\n",
    "    a, b, c = np.linalg.lstsq(m, n, rcond=None)[0]\n",
    "    return a/2, b/2, np.sqrt(c+(a*a+b*b)/4)"
   ]
  },
  {
   "cell_type": "code",
   "execution_count": null,
   "metadata": {},
   "outputs": [],
   "source": [
    "# move visible positioners to outwards positions, phi arms are moved out for 90 degrees\n",
    "# (outTargets) otherwise we can't measure the theta angles\n",
    "thetas = np.empty(57, dtype=float)\n",
    "thetas[::2] = pfi.thetaToLocal(oddCobras, np.full(len(oddCobras), np.deg2rad(270)))\n",
    "thetas[1::2] = pfi.thetaToLocal(evenCobras, np.full(len(evenCobras), np.deg2rad(90)))\n",
    "phis = np.full(57, np.deg2rad(90.0))\n",
    "outTargets = pfi.anglesToPositions(allCobras, thetas, phis)"
   ]
  },
  {
   "cell_type": "code",
   "execution_count": null,
   "metadata": {},
   "outputs": [],
   "source": [
    "# move to outTargets\n",
    "moveToXYfromHome(goodIdx, outTargets[goodIdx])\n",
    "\n",
    "# move phi arms in\n",
    "pfi.moveAllSteps(getCobras(goodIdx), 0, -5000)"
   ]
  },
  {
   "cell_type": "code",
   "execution_count": null,
   "metadata": {},
   "outputs": [],
   "source": [
    "# You may want to check if all cobras are really pointing outward\n",
    "moveCobra(10, -400, 0)"
   ]
  },
  {
   "cell_type": "code",
   "execution_count": null,
   "metadata": {},
   "outputs": [],
   "source": [
    "# record the theta and phi arm movements for three non-interfering sets\n",
    "for g in range(3):\n",
    "    myIdx = goodGroupIdx[g]\n",
    "    myCobras = getCobras(myIdx)\n",
    "\n",
    "    # move to the CCW hard stops\n",
    "    pfi.moveAllSteps(myCobras, -10000, -5000)\n",
    "    pfi.moveAllSteps(myCobras, -10000, 0)\n",
    "\n",
    "    # take one image at limit\n",
    "    p1 = Popen([\"/home/pfs/IDSControl/idsexposure\", \"-d\", \"1\", \"-e\", \"18\", \"-f\", f\"data/cam1G{g}P1_\"], stdout=PIPE)\n",
    "    p1.communicate()\n",
    "    p2 = Popen([\"/home/pfs/IDSControl/idsexposure\", \"-d\", \"2\", \"-e\", \"18\", \"-f\", f\"data/cam2G{g}P1_\"], stdout=PIPE)\n",
    "    p2.communicate()\n",
    "    time.sleep(1.0)\n",
    "\n",
    "    # move phi out and capture the video\n",
    "    p1 = Popen([\"/home/pfs/IDSControl/idsexposure\", \"-d\", \"1\", \"-e\", \"18\", \"-i\", \"100\", \"-l\", \"9999\", \"-f\", f\"{phiFN(1, g)}\"], stdout=PIPE)\n",
    "    p2 = Popen([\"/home/pfs/IDSControl/idsexposure\", \"-d\", \"2\", \"-e\", \"18\", \"-i\", \"100\", \"-l\", \"9999\", \"-f\", f\"{phiFN(2, g)}\"], stdout=PIPE)\n",
    "    time.sleep(5.0)\n",
    "    pfi.moveAllSteps(myCobras, 0, 5000)\n",
    "    time.sleep(0.5)\n",
    "    p1.kill()\n",
    "    p2.kill()\n",
    "    p1.communicate()\n",
    "    p2.communicate()\n",
    "    pfi.moveAllSteps(myCobras, 0, 5000)\n",
    "\n",
    "    # take one image at limit\n",
    "    p1 = Popen([\"/home/pfs/IDSControl/idsexposure\", \"-d\", \"1\", \"-e\", \"18\", \"-f\", f\"data/cam1G{g}P2_\"], stdout=PIPE)\n",
    "    p1.communicate()\n",
    "    p2 = Popen([\"/home/pfs/IDSControl/idsexposure\", \"-d\", \"2\", \"-e\", \"18\", \"-f\", f\"data/cam2G{g}P2_\"], stdout=PIPE)\n",
    "    p2.communicate()\n",
    "    time.sleep(1.0)\n",
    "\n",
    "    # move theta for a circle and capture the video\n",
    "    p1 = Popen([\"/home/pfs/IDSControl/idsexposure\", \"-d\", \"1\", \"-e\", \"18\", \"-i\", \"100\", \"-l\", \"9999\", \"-f\", f\"{thetaFN(1, g)}\"], stdout=PIPE)\n",
    "    p2 = Popen([\"/home/pfs/IDSControl/idsexposure\", \"-d\", \"2\", \"-e\", \"18\", \"-i\", \"100\", \"-l\", \"9999\", \"-f\", f\"{thetaFN(2, g)}\"], stdout=PIPE)\n",
    "    time.sleep(5.0)\n",
    "    pfi.moveAllSteps(myCobras, 10000, 0)\n",
    "    time.sleep(0.5)\n",
    "    p1.kill()\n",
    "    p2.kill()\n",
    "    p1.communicate()\n",
    "    p2.communicate()\n",
    "    pfi.moveAllSteps(myCobras, 10000, 0)\n",
    "\n",
    "    # take one image at limit\n",
    "    p1 = Popen([\"/home/pfs/IDSControl/idsexposure\", \"-d\", \"1\", \"-e\", \"18\", \"-f\", f\"data/cam1G{g}P3_\"], stdout=PIPE)\n",
    "    p1.communicate()\n",
    "    p2 = Popen([\"/home/pfs/IDSControl/idsexposure\", \"-d\", \"2\", \"-e\", \"18\", \"-f\", f\"data/cam2G{g}P3_\"], stdout=PIPE)\n",
    "    p2.communicate()\n",
    "\n",
    "    # move back\n",
    "    pfi.moveAllSteps(myCobras, 0, -5000)\n",
    "    pfi.moveAllSteps(myCobras, -10000, 0)\n",
    "    pfi.moveAllSteps(myCobras, -10000, -5000)\n",
    "    moveToXYfromHome(myIdx, outTargets[myIdx])\n",
    "    pfi.moveAllSteps(myCobras, 0, -5000)"
   ]
  },
  {
   "cell_type": "code",
   "execution_count": null,
   "metadata": {},
   "outputs": [],
   "source": [
    "# variable declaration\n",
    "phiCircles = np.zeros((57, 3), dtype=float)\n",
    "thetaCircles = np.zeros((57, 3), dtype=float)\n",
    "thetaCCW = np.zeros(57, dtype=float)\n",
    "thetaCW = np.zeros(57, dtype=float)\n",
    "phiCCW = np.zeros(57, dtype=float)\n",
    "phiCW = np.zeros(57, dtype=float)"
   ]
  },
  {
   "cell_type": "code",
   "execution_count": null,
   "metadata": {},
   "outputs": [],
   "source": [
    "# first camera\n",
    "\n",
    "# phi stages\n",
    "for g in range(3):\n",
    "    myIdx = goodGroupIdx[g][goodGroupIdx[g] <= cam_split]\n",
    "    homes = pfi.calibModel.centers[myIdx]\n",
    "    cnt = len(glob.glob(f'{phiFN(1, g)}*')) - 1\n",
    "    pos = np.zeros((len(myIdx), cnt, 2))\n",
    "\n",
    "    for i in range(cnt):\n",
    "        data = fits.getdata(f'{phiFN(1, g)}{i+1:04d}.fits')\n",
    "        cs = sep.extract(data.astype(float), 50)\n",
    "        spots = np.array([(c['x'],c['y']) for c in cs])\n",
    "        idx = lazyIdentification(homes, spots[:,0]+spots[:,1]*(1j))\n",
    "        pos[:,i] = spots[idx]\n",
    "\n",
    "    # find centers\n",
    "    for i in range(len(myIdx)):\n",
    "        x0, y0, r0 = circle_fitting(pos[i])\n",
    "        phiCircles[myIdx[i]] = x0, y0, r0\n",
    "\n",
    "# theta stages\n",
    "for g in range(3):\n",
    "    myIdx = goodGroupIdx[g][goodGroupIdx[g] <= cam_split]\n",
    "    homes = pfi.calibModel.centers[myIdx]\n",
    "    cnt = len(glob.glob(f'{thetaFN(1, g)}*')) - 1\n",
    "    pos = np.zeros((len(myIdx), cnt, 2))\n",
    "\n",
    "    for i in range(cnt):\n",
    "        data = fits.getdata(f'{thetaFN(1, g)}{i+1:04d}.fits')\n",
    "        cs = sep.extract(data.astype(float), 50)\n",
    "        spots = np.array([(c['x'],c['y']) for c in cs])\n",
    "        idx = lazyIdentification(homes, spots[:,0]+spots[:,1]*(1j))\n",
    "        pos[:,i] = spots[idx]\n",
    "\n",
    "    # find centers\n",
    "    for i in range(len(myIdx)):\n",
    "        x0, y0, r0 = circle_fitting(pos[i])\n",
    "        thetaCircles[myIdx[i]] = x0, y0, r0"
   ]
  },
  {
   "cell_type": "code",
   "execution_count": null,
   "metadata": {},
   "outputs": [],
   "source": [
    "# second camera\n",
    "\n",
    "# phi stages\n",
    "for g in range(3):\n",
    "    myIdx = goodGroupIdx[g][goodGroupIdx[g] > cam_split]\n",
    "    homes = pfi.calibModel.centers[myIdx]\n",
    "    cnt = len(glob.glob(f'{phiFN(2, g)}*')) - 2\n",
    "    pos = np.zeros((len(myIdx), cnt, 2))\n",
    "\n",
    "    for i in range(cnt):\n",
    "        data = fits.getdata(f'{phiFN(2, g)}{i+1:04d}.fits')\n",
    "        cs = sep.extract(data.astype(float), 50)\n",
    "        spots = np.array([(c['x'],c['y']) for c in cs])\n",
    "        idx = lazyIdentification(homes, spots[:,0]+spots[:,1]*(1j))\n",
    "        pos[:,i] = spots[idx]\n",
    "\n",
    "    # find centers\n",
    "    for i in range(len(myIdx)):\n",
    "        x0, y0, r0 = circle_fitting(pos[i])\n",
    "        phiCircles[myIdx[i]] = x0, y0, r0\n",
    "\n",
    "# theta stages\n",
    "for g in range(3):\n",
    "    myIdx = goodGroupIdx[g][goodGroupIdx[g] > cam_split]\n",
    "    homes = pfi.calibModel.centers[myIdx]\n",
    "    cnt = len(glob.glob(f'{thetaFN(2, g)}*')) - 2\n",
    "    pos = np.zeros((len(myIdx), cnt, 2))\n",
    "\n",
    "    for i in range(cnt):\n",
    "        data = fits.getdata(f'{thetaFN(2, g)}{i+1:04d}.fits')\n",
    "        cs = sep.extract(data.astype(float), 50)\n",
    "        spots = np.array([(c['x'],c['y']) for c in cs])\n",
    "        idx = lazyIdentification(homes, spots[:,0]+spots[:,1]*(1j))\n",
    "        pos[:,i] = spots[idx]\n",
    "\n",
    "    # find centers\n",
    "    for i in range(len(myIdx)):\n",
    "        x0, y0, r0 = circle_fitting(pos[i])\n",
    "        thetaCircles[myIdx[i]] = x0, y0, r0"
   ]
  },
  {
   "cell_type": "code",
   "execution_count": null,
   "metadata": {},
   "outputs": [],
   "source": [
    "# Calculate hard stops\n",
    "thetaC = thetaCircles[:,0] + thetaCircles[:,1]*(1j)\n",
    "phiC = phiCircles[:,0] + phiCircles[:,1]*(1j)\n",
    "points = np.zeros((57, 3), dtype=complex)\n",
    "\n",
    "# theta CCW hard stops\n",
    "thetaCCW = np.angle(phiC - thetaC) % (2*np.pi)\n",
    "\n",
    "# process images\n",
    "for g in range(3):\n",
    "    myIdx = goodGroupIdx[g][goodGroupIdx[g] <= cam_split]\n",
    "    homes = pfi.calibModel.centers[myIdx]\n",
    "    for p in range(3):\n",
    "        data = fits.getdata(f'data/cam1G{g}P{p+1}_0001.fits')\n",
    "        cs = sep.extract(data.astype(float), 50)\n",
    "        spots = np.array([(c['x'],c['y']) for c in cs])\n",
    "        idx = lazyIdentification(homes, spots[:,0]+spots[:,1]*(1j))\n",
    "        points[myIdx, p] = spots[idx,0] + spots[idx,1]*(1j)\n",
    "\n",
    "for g in range(3):\n",
    "    myIdx = goodGroupIdx[g][goodGroupIdx[g] > cam_split]\n",
    "    homes = pfi.calibModel.centers[myIdx]\n",
    "    for p in range(3):\n",
    "        data = fits.getdata(f'data/cam2G{g}P{p+1}_0001.fits')\n",
    "        cs = sep.extract(data.astype(float), 50)\n",
    "        spots = np.array([(c['x'],c['y']) for c in cs])\n",
    "        idx = lazyIdentification(homes, spots[:,0]+spots[:,1]*(1j))\n",
    "        points[myIdx, p] = spots[idx,0] + spots[idx,1]*(1j)\n",
    "\n",
    "# phi hard stops\n",
    "phiCCW = (np.angle(points[:,0] - phiC) - np.angle(thetaC - phiC) + (np.pi/2)) % (2*np.pi) - (np.pi/2)\n",
    "phiCW = (np.angle(points[:,1] - phiC) - np.angle(thetaC - phiC) + (np.pi/2)) % (2*np.pi) - (np.pi/2)\n",
    "\n",
    "# thetaCW hard stops\n",
    "thetaCW = (np.angle(points[:,2] - thetaC) - np.angle(points[:,1] - thetaC) + thetaCCW) % (2*np.pi)"
   ]
  },
  {
   "cell_type": "code",
   "execution_count": null,
   "metadata": {},
   "outputs": [],
   "source": [
    "# check if any thing is wrong here\n",
    "print(phiCircles, thetaCircles)\n",
    "print(phiCCW, phiCW, thetaCCW, (thetaCW-thetaCCW)%(2*np.pi))\n",
    "\n",
    "#%matplotlib inline \n",
    "#%matplotlib qt\n",
    "plt.figure(1)\n",
    "plt.clf()\n",
    "\n",
    "plt.subplot(211)\n",
    "ax = plt.gca()\n",
    "ax.plot(thetaCircles[group1,0], thetaCircles[group1,1], 'ro')\n",
    "ax.plot(phiCircles[group1,0], phiCircles[group1,1], 'mo')\n",
    "for idx in group1:\n",
    "    c1 = plt.Circle((thetaCircles[idx,0], thetaCircles[idx,1]), thetaCircles[idx,2], color='g', fill=False)\n",
    "    c2 = plt.Circle((phiCircles[idx,0], phiCircles[idx,1]), phiCircles[idx,2], color='b', fill=False)\n",
    "    ax.add_artist(c1)\n",
    "    ax.add_artist(c2)\n",
    "ax.set_title(f'1st camera')\n",
    "\n",
    "plt.subplot(212)\n",
    "ax = plt.gca()\n",
    "ax.plot(thetaCircles[group2,0], thetaCircles[group2,1], 'ro')\n",
    "ax.plot(phiCircles[group2,0], phiCircles[group2,1], 'mo')\n",
    "for idx in group2:\n",
    "    c1 = plt.Circle((thetaCircles[idx,0], thetaCircles[idx,1]), thetaCircles[idx,2], color='g', fill=False)\n",
    "    c2 = plt.Circle((phiCircles[idx,0], phiCircles[idx,1]), phiCircles[idx,2], color='b', fill=False)\n",
    "    ax.add_artist(c1)\n",
    "    ax.add_artist(c2)\n",
    "ax.set_title(f'2nd camera')\n",
    "\n",
    "plt.show()"
   ]
  },
  {
   "cell_type": "code",
   "execution_count": null,
   "metadata": {},
   "outputs": [],
   "source": [
    "# save new configuration\n",
    "old = pfi.calibModel\n",
    "myConfig = deepcopy(old)\n",
    "\n",
    "# you can remove bad measurement here\n",
    "idx = np.delete(goodIdx, np.argwhere(goodIdx==12))\n",
    "\n",
    "myConfig.centers[idx] = thetaC[idx]\n",
    "diff = np.absolute(thetaC - phiC)\n",
    "myConfig.L1[idx] = diff[idx]\n",
    "myConfig.L2[idx] = phiCircles[idx,2]\n",
    "\n",
    "myConfig.tht0[idx] = thetaCCW[idx]\n",
    "myConfig.tht1[idx] = thetaCW[idx]\n",
    "myConfig.phiIn[idx] = phiCCW[idx] - np.pi\n",
    "myConfig.phiOut[idx] = phiCW[idx] - np.pi\n",
    "\n",
    "old.updateGeometry(myConfig.centers, myConfig.L1, myConfig.L2)\n",
    "#old.updateThetaHardStops(myConfig.tht0, myConfig.tht1)\n",
    "#old.updatePhiHardStops(myConfig.phiIn + np.pi, myConfig.phiOut + np.pi)\n",
    "\n",
    "old.createCalibrationFile('../xml/precise3.xml')"
   ]
  },
  {
   "cell_type": "code",
   "execution_count": null,
   "metadata": {
    "scrolled": true
   },
   "outputs": [],
   "source": [
    "#moveToXYfromHome(myIdx, outTargets[myIdx])\n",
    "pfi.moveAllSteps(getCobras(goodIdx), -10000, -5000)"
   ]
  },
  {
   "cell_type": "code",
   "execution_count": null,
   "metadata": {},
   "outputs": [],
   "source": [
    "[(c.module, c.cobraNum) for c in getCobras(np.array([1,2,3]))]"
   ]
  },
  {
   "cell_type": "code",
   "execution_count": null,
   "metadata": {},
   "outputs": [],
   "source": []
  }
 ],
 "metadata": {
  "kernelspec": {
   "display_name": "Python 3",
   "language": "python",
   "name": "python3"
  },
  "language_info": {
   "codemirror_mode": {
    "name": "ipython",
    "version": 3
   },
   "file_extension": ".py",
   "mimetype": "text/x-python",
   "name": "python",
   "nbconvert_exporter": "python",
   "pygments_lexer": "ipython3",
   "version": "3.6.5"
  }
 },
 "nbformat": 4,
 "nbformat_minor": 2
}
