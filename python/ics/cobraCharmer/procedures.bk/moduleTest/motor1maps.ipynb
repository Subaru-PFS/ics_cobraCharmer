{
 "cells": [
  {
   "cell_type": "code",
   "execution_count": null,
   "metadata": {},
   "outputs": [],
   "source": [
    "import numpy as np\n",
    "import matplotlib.pyplot as plt\n",
    "from astropy.io import fits\n",
    "from matplotlib.backends.backend_pdf import PdfPages\n",
    "from matplotlib.ticker import NullFormatter\n",
    "import calculus as cal\n",
    "\n",
    "np.set_printoptions(precision=4, suppress=True)"
   ]
  },
  {
   "cell_type": "code",
   "execution_count": null,
   "metadata": {},
   "outputs": [],
   "source": [
    "# define the broken/good cobras\n",
    "#brokens = [1, 2, 39, 43, 54]\n",
    "brokens = [1,39,43,54]\n",
    "visibles= [e for e in range(1,58) if e not in brokens]\n",
    "badIdx = np.array(brokens) - 1\n",
    "goodIdx = np.array(visibles) - 1\n",
    "mod = 'SP01'\n",
    "\n",
    "# two groups for two cameras\n",
    "cam_split = 28\n",
    "group1 = goodIdx[goodIdx <= cam_split]\n",
    "group2 = goodIdx[goodIdx > cam_split]"
   ]
  },
  {
   "cell_type": "code",
   "execution_count": null,
   "metadata": {},
   "outputs": [],
   "source": [
    "path = '/data/MCS/20201203_026/data/'\n",
    "#path = '/home/pfs/Documents/cwen/data/20200504010/data/'\n",
    "centers = np.load(path + 'thetaCenter.npy')\n",
    "radius = np.load(path + 'thetaRadius.npy')\n",
    "fw = np.load(path + 'thetaFW.npy')\n",
    "rv = np.load(path + 'thetaRV.npy')\n",
    "af = np.load(path + 'thetaAngFW.npy')\n",
    "ar = np.load(path + 'thetaAngRV.npy')\n",
    "sf = np.load(path + 'thetaSpeedFW.npy')\n",
    "sr = np.load(path + 'thetaSpeedRV.npy')\n",
    "badR = np.load(path + 'badRange.npy')\n",
    "mf = np.load(path + 'thetaMMFW.npy')\n",
    "mr = np.load(path + 'thetaMMRV.npy')\n",
    "badM = np.load(path + 'badMotorMap.npy')\n",
    "badR = np.load(path + 'badRange.npy')\n",
    "steps = int(np.load(path + 'steps.npy'))\n",
    "ontime = np.load(path + 'ontime.npy')"
   ]
  },
  {
   "cell_type": "code",
   "execution_count": null,
   "metadata": {},
   "outputs": [],
   "source": [
    "plt.figure(figsize=(20,8))\n",
    "plt.clf()\n",
    "\n",
    "plt.subplot(211)\n",
    "ax = plt.gca()\n",
    "ax.axis('equal')\n",
    "\n",
    "ax.plot(centers[group1].real, centers[group1].imag, 'ro')\n",
    "for idx in group1:\n",
    "    c = plt.Circle((centers[idx].real, centers[idx].imag), radius[idx], color='g', fill=False)\n",
    "    ax.add_artist(c)\n",
    "ax.set_title(f'1st camera')\n",
    "\n",
    "plt.subplot(212)\n",
    "ax = plt.gca()\n",
    "ax.axis('equal')\n",
    "\n",
    "ax.plot(centers[group2].real, centers[group2].imag, 'ro')\n",
    "for idx in group2:\n",
    "    c = plt.Circle((centers[idx].real, centers[idx].imag), radius[idx], color='g', fill=False)\n",
    "    ax.add_artist(c)\n",
    "ax.set_title(f'2nd camera')\n",
    "\n",
    "plt.show()"
   ]
  },
  {
   "cell_type": "code",
   "execution_count": null,
   "metadata": {
    "scrolled": false
   },
   "outputs": [],
   "source": [
    "plt.figure(figsize=(20,8))\n",
    "plt.clf()\n",
    "\n",
    "plt.subplot(211)\n",
    "ax = plt.gca()\n",
    "ax.axis('equal')\n",
    "ax.set_title(f'1st camera')\n",
    "\n",
    "for n in range(fw.shape[1]):\n",
    "    for k in group1:\n",
    "        if k % 3 == 0:\n",
    "            c = 'r'\n",
    "            d = 'c'\n",
    "        elif k % 3 == 1:\n",
    "            c = 'g'\n",
    "            d = 'm'\n",
    "        else:\n",
    "            c = 'b'\n",
    "            d = 'y'\n",
    "        ax.plot(fw[k][n,0].real, fw[k][n,0].imag, c + 'o')\n",
    "        ax.plot(rv[k][n,0].real, rv[k][n,0].imag, d + 's')\n",
    "        ax.plot(fw[k][n,1:].real, fw[k][n,1:].imag, c + '.')\n",
    "        ax.plot(rv[k][n,1:].real, rv[k][n,1:].imag, d + '.')\n",
    "\n",
    "plt.subplot(212)\n",
    "ax = plt.gca()\n",
    "ax.axis('equal')\n",
    "ax.set_title(f'2nd camera')\n",
    "\n",
    "for n in range(fw.shape[1]):\n",
    "    for k in group2:\n",
    "        if k % 3 == 0:\n",
    "            c = 'r'\n",
    "            d = 'c'\n",
    "        elif k % 3 == 1:\n",
    "            c = 'g'\n",
    "            d = 'm'\n",
    "        else:\n",
    "            c = 'b'\n",
    "            d = 'y'\n",
    "        ax.plot(fw[k][n,0].real, fw[k][n,0].imag, c + 'o')\n",
    "        ax.plot(rv[k][n,0].real, rv[k][n,0].imag, d + 's')\n",
    "        ax.plot(fw[k][n,1:].real, fw[k][n,1:].imag, c + '.')\n",
    "        ax.plot(rv[k][n,1:].real, rv[k][n,1:].imag, d + '.')\n",
    "\n",
    "plt.show()"
   ]
  },
  {
   "cell_type": "code",
   "execution_count": null,
   "metadata": {},
   "outputs": [],
   "source": [
    "plt.figure(figsize=(16,16))\n",
    "ax = plt.gca()\n",
    "ax.axis('equal')\n",
    "k = 29\n",
    "ax.set_title(f'Cobra #{k+1}')\n",
    "\n",
    "c = plt.Circle((centers[k].real, centers[k].imag), radius[k], fill=False)\n",
    "ax.add_artist(c)\n",
    "\n",
    "for n in range(fw.shape[1]):\n",
    "    c = 'r'\n",
    "    d = 'b'\n",
    "    ax.plot(fw[k][n,1:].real, fw[k][n,1:].imag, c + '.')\n",
    "    ax.plot(rv[k][n,1:].real, rv[k][n,1:].imag, d + '.')\n",
    "    ax.plot(fw[k][n,0].real, fw[k][n,0].imag, c + 'x')\n",
    "    ax.plot(rv[k][n,0].real, rv[k][n,0].imag, d + '+')"
   ]
  },
  {
   "cell_type": "code",
   "execution_count": null,
   "metadata": {},
   "outputs": [],
   "source": [
    "with PdfPages(f'pdf/{mod}_theta_measure2.pdf') as pdf:\n",
    "    for k in range(57):\n",
    "        fig = plt.figure(figsize=(16,16))\n",
    "        ax = plt.gca()\n",
    "        ax.axis('equal')\n",
    "        ax.set_title(f'Cobra #{k+1}')\n",
    "\n",
    "        c = plt.Circle((centers[k].real, centers[k].imag), radius[k], fill=False)\n",
    "        ax.add_artist(c)\n",
    "\n",
    "        for n in range(fw.shape[1]):\n",
    "            c = 'r'\n",
    "            d = 'b'\n",
    "            ax.plot(fw[k][n,0].real, fw[k][n,0].imag, c + 'x')\n",
    "            ax.plot(rv[k][n,0].real, rv[k][n,0].imag, d + '+')\n",
    "            ax.plot(fw[k][n,1:].real, fw[k][n,1:].imag, c + '.')\n",
    "            ax.plot(rv[k][n,1:].real, rv[k][n,1:].imag, d + '.')\n",
    "\n",
    "        pdf.savefig(fig)\n",
    "        plt.close()"
   ]
  },
  {
   "cell_type": "code",
   "execution_count": null,
   "metadata": {},
   "outputs": [],
   "source": []
  },
  {
   "cell_type": "code",
   "execution_count": null,
   "metadata": {},
   "outputs": [],
   "source": []
  },
  {
   "cell_type": "code",
   "execution_count": null,
   "metadata": {},
   "outputs": [],
   "source": []
  },
  {
   "cell_type": "code",
   "execution_count": null,
   "metadata": {
    "scrolled": true
   },
   "outputs": [],
   "source": [
    "with PdfPages(f'pdf/{mod}_theta_{steps}.pdf') as pdf:\n",
    "    for c in range(57):\n",
    "        fig = plt.figure(figsize=(16,6))\n",
    "        ax = plt.gca()\n",
    "        ax.set_title(f'Cobra {mod} #{c+1} THETA @ {steps}steps')\n",
    "        for n in range(af.shape[1]):\n",
    "            ax.plot(np.rad2deg(af[c,n,:-1]), np.rad2deg(af[c,n,1:]-af[c,n,:-1])/steps, '.')\n",
    "            ax.plot(np.rad2deg(ar[c,n,1:]), np.rad2deg(ar[c,n,1:]-ar[c,n,:-1])/steps, '.')\n",
    "            ax.plot([0,380], [0,0], 'r')\n",
    "        bottom, top = plt.ylim()\n",
    "        plt.ylim([max(-0.2,bottom), min(0.2,top)])\n",
    "        pdf.savefig(fig)\n",
    "        plt.close()"
   ]
  },
  {
   "cell_type": "code",
   "execution_count": null,
   "metadata": {
    "scrolled": true
   },
   "outputs": [],
   "source": [
    "for c in goodIdx:\n",
    "    fig = plt.figure(figsize=(16,6))\n",
    "    ax = plt.gca()\n",
    "    ax.set_title(f'Cobra {mod} #{c+1} THETA @ {steps}steps')\n",
    "    for n in range(af.shape[1]):\n",
    "        ax.plot(np.rad2deg(af[c,n,:-1]), np.rad2deg(af[c,n,1:]-af[c,n,:-1])/steps, '.')\n",
    "        ax.plot(np.rad2deg(ar[c,n,1:]), np.rad2deg(ar[c,n,1:]-ar[c,n,:-1])/steps, '.')\n",
    "        ax.plot([0,380], [0,0], 'r')\n",
    "#    bottom, top = plt.ylim()\n",
    "#    plt.ylim([max(-0.2,bottom), min(0.2,top)])\n",
    "    plt.show()\n",
    "    plt.close()"
   ]
  },
  {
   "cell_type": "code",
   "execution_count": null,
   "metadata": {
    "scrolled": true
   },
   "outputs": [],
   "source": [
    "for c in range(57):\n",
    "#    plt.figure(3)\n",
    "#    plt.clf()\n",
    "    fig = plt.figure(figsize=(16,6))\n",
    "    ax = plt.gca()\n",
    "    ax.set_title(f'#{c}')\n",
    "    for n in range(af.shape[1]):\n",
    "        ax.plot(af[c, n], '.')\n",
    "        ax.plot(ar[c, n], '.')\n",
    "    plt.show()\n",
    "    plt.close()"
   ]
  },
  {
   "cell_type": "code",
   "execution_count": null,
   "metadata": {},
   "outputs": [],
   "source": [
    "plt.figure(4)\n",
    "plt.clf()\n",
    "ax = plt.gca()\n",
    "\n",
    "ax.plot(np.rad2deg(sf), '.')\n",
    "ax.plot(np.rad2deg(sr), 'x')\n",
    "#ax.plot(sf2, '.')\n",
    "#ax.plot(sr2, 'x')"
   ]
  },
  {
   "cell_type": "code",
   "execution_count": null,
   "metadata": {},
   "outputs": [],
   "source": [
    "fig, (ax1, ax2, ax3) = plt.subplots(3, 1, figsize=(16,12))\n",
    "\n",
    "#ax1 = plt.gca()\n",
    "ax1.set_title('Phi 60, Run 1')\n",
    "ax1.plot(np.rad2deg(sf), '.')\n",
    "ax1.plot(np.rad2deg(sr), 'x')\n",
    "\n",
    "#plt.figure(figsize=(12,8))\n",
    "#ax = plt.gca()\n",
    "ax2.set_title('Phi 60, Run 2')\n",
    "ax2.plot(np.rad2deg(sf2), '.')\n",
    "ax2.plot(np.rad2deg(sr2), 'x')\n",
    "\n",
    "#plt.figure(figsize=(12,8))\n",
    "#ax = plt.gca()\n",
    "ax3.set_title('Phi 60, Run 1 - Run 2')\n",
    "ax3.plot(np.rad2deg(sf-sf2), '.')\n",
    "ax3.plot(np.rad2deg(sr-sr2), 'x')\n",
    "\n",
    "with PdfPages(f'pdf/{mod}_theta_60.pdf') as pdf:\n",
    "    pdf.savefig()"
   ]
  },
  {
   "cell_type": "code",
   "execution_count": null,
   "metadata": {},
   "outputs": [],
   "source": [
    "fig, (ax1, ax2, ax3) = plt.subplots(3, 1, figsize=(16,12))\n",
    "\n",
    "#ax1 = plt.gca()\n",
    "ax1.set_title('Phi 180, Run 1')\n",
    "ax1.plot(np.rad2deg(sf3), '.')\n",
    "ax1.plot(np.rad2deg(sr3), 'x')\n",
    "\n",
    "#plt.figure(figsize=(12,8))\n",
    "#ax = plt.gca()\n",
    "ax2.set_title('Phi 180, Run 2')\n",
    "ax2.plot(np.rad2deg(sf4), '.')\n",
    "ax2.plot(np.rad2deg(sr4), 'x')\n",
    "\n",
    "#plt.figure(figsize=(12,8))\n",
    "#ax = plt.gca()\n",
    "ax3.set_title('Phi 180, Run 1 - Run 2')\n",
    "ax3.plot(np.rad2deg(sf3-sf4), '.')\n",
    "ax3.plot(np.rad2deg(sr3-sr4), 'x')\n",
    "\n",
    "with PdfPages(f'pdf/{mod}_theta_180.pdf') as pdf:\n",
    "    pdf.savefig()"
   ]
  },
  {
   "cell_type": "code",
   "execution_count": null,
   "metadata": {},
   "outputs": [],
   "source": [
    "fig, (ax1, ax2, ax3) = plt.subplots(3, 1, figsize=(16,12))\n",
    "\n",
    "sfa = (sf+sf2)/2\n",
    "sra = (sr+sr2)/2\n",
    "\n",
    "sfb = (sf3+sf4)/2\n",
    "srb = (sr3+sr4)/2\n",
    "\n",
    "#ax1 = plt.gca()\n",
    "ax1.set_title('Phi 60, average')\n",
    "ax1.plot(np.rad2deg(sfa), '.')\n",
    "ax1.plot(np.rad2deg(sra), 'x')\n",
    "\n",
    "#plt.figure(figsize=(12,8))\n",
    "#ax = plt.gca()\n",
    "ax2.set_title('Phi 180, average')\n",
    "ax2.plot(np.rad2deg(sfb), '.')\n",
    "ax2.plot(np.rad2deg(srb), 'x')\n",
    "\n",
    "#plt.figure(figsize=(12,8))\n",
    "#ax = plt.gca()\n",
    "ax3.set_title('Phi 60 - Phi 180')\n",
    "ax3.plot(np.rad2deg(sfa-sfb), '.')\n",
    "ax3.plot(np.rad2deg(sra-srb), 'x')\n",
    "\n",
    "with PdfPages(f'pdf/{mod}_theta_60-180.pdf') as pdf:\n",
    "    pdf.savefig()"
   ]
  },
  {
   "cell_type": "code",
   "execution_count": null,
   "metadata": {},
   "outputs": [],
   "source": [
    "paths = ['/data/MCS/20200506_016/data/','/data/MCS/20200506_017/data/','/data/MCS/20200506_018/data/','/data/MCS/20200506_019/data/','/data/MCS/20200506_020/data/','/data/MCS/20200506_021/data/','/data/MCS/20200506_022/data/','/data/MCS/20200508_001/data/']\n",
    "n = len(paths)\n",
    "sf = np.zeros((57,n))\n",
    "sr = np.zeros((57,n))\n",
    "steps = np.zeros(n, 'int')\n",
    "ontime = np.zeros((57,2,n))\n",
    "\n",
    "for m,path in enumerate(paths):\n",
    "    sf[:,m] = np.load(path + 'thetaSpeedFW.npy')\n",
    "    sr[:,m] = np.load(path + 'thetaSpeedRV.npy')\n",
    "    steps[m] = int(np.load(path + 'steps.npy'))\n",
    "    ontime[:,:,m] = np.load(path + 'ontime.npy').T"
   ]
  },
  {
   "cell_type": "code",
   "execution_count": null,
   "metadata": {},
   "outputs": [],
   "source": [
    "nsf = np.zeros((57,n))\n",
    "nsr = np.zeros((57,n))\n",
    "med = np.zeros(n)\n",
    "\n",
    "for c in range(57):\n",
    "    nsf[c] = sf[c] / sf[c,0]\n",
    "    nsr[c] = sr[c] / sr[c,0]\n",
    "\n",
    "for m in range(n):\n",
    "    med[m] = np.median([nsf[:,m], nsr[:,m]])"
   ]
  },
  {
   "cell_type": "code",
   "execution_count": null,
   "metadata": {},
   "outputs": [],
   "source": [
    "with PdfPages(f'pdf/{mod}_theta_speed.pdf') as pdf:\n",
    "    fig = plt.figure(figsize=(16,6))\n",
    "    plt.ylim([0,2])\n",
    "    plt.xticks(np.arange(n), steps)\n",
    "    for c in range(57):\n",
    "    #c = 10\n",
    "        plt.plot(sf[c]/sf[c,0], '.')\n",
    "        plt.plot(sr[c]/sr[c,0], '.')\n",
    "    pdf.savefig()\n",
    "    plt.show()\n",
    "    plt.close()\n",
    "\n",
    "    fig = plt.figure(figsize=(16,6))\n",
    "    plt.xticks(np.arange(n), steps)\n",
    "    plt.plot(med, 'x')\n",
    "    pdf.savefig()\n",
    "    plt.show()\n",
    "    plt.close()"
   ]
  },
  {
   "cell_type": "code",
   "execution_count": null,
   "metadata": {},
   "outputs": [],
   "source": []
  },
  {
   "cell_type": "code",
   "execution_count": null,
   "metadata": {},
   "outputs": [],
   "source": [
    "bad, badR"
   ]
  },
  {
   "cell_type": "code",
   "execution_count": null,
   "metadata": {},
   "outputs": [],
   "source": [
    "c = 17\n",
    "\n",
    "plt.figure(5)\n",
    "plt.clf()\n",
    "\n",
    "#plt.subplot(211)\n",
    "ax = plt.gca()\n",
    "ax.set_title(f'#{c} FW')\n",
    "ax.plot(np.rad2deg(mf[c]), 'r')\n",
    "\n",
    "\n",
    "#plt.subplot(212)\n",
    "ax = plt.gca()\n",
    "ax.set_title(f'#{c} RV')\n",
    "ax.plot(np.rad2deg(mr[c]), 'b')"
   ]
  },
  {
   "cell_type": "code",
   "execution_count": null,
   "metadata": {},
   "outputs": [],
   "source": [
    "c = 30\n",
    "\n",
    "plt.figure(5)\n",
    "plt.clf()\n",
    "\n",
    "#plt.subplot(211)\n",
    "ax = plt.gca()\n",
    "ax.set_title(f'#{c} FW')\n",
    "ax.plot(mf2[c], 'r')\n",
    "\n",
    "\n",
    "#plt.subplot(212)\n",
    "ax = plt.gca()\n",
    "ax.set_title(f'#{c} RV')\n",
    "ax.plot(mr2[c], 'b')"
   ]
  },
  {
   "cell_type": "code",
   "execution_count": null,
   "metadata": {},
   "outputs": [],
   "source": []
  },
  {
   "cell_type": "code",
   "execution_count": null,
   "metadata": {},
   "outputs": [],
   "source": []
  },
  {
   "cell_type": "code",
   "execution_count": null,
   "metadata": {},
   "outputs": [],
   "source": [
    "from ics.cobraCharmer import pfiDesign\n",
    "import pathlib"
   ]
  },
  {
   "cell_type": "code",
   "execution_count": null,
   "metadata": {},
   "outputs": [],
   "source": [
    "#xml = pathlib.Path('/home/pfs/Documents/cwen/ics_cobraCharmer/xml/SC04_03.xml')\n",
    "xml = pathlib.Path('/data/MCS/20200110_003/output/SC34_theta_400.xml')\n",
    "model = pfiDesign.PFIDesign(xml)"
   ]
  },
  {
   "cell_type": "code",
   "execution_count": null,
   "metadata": {},
   "outputs": [],
   "source": [
    "model.motorOntimeSlowFwd1, model.motorOntimeSlowRev1"
   ]
  },
  {
   "cell_type": "code",
   "execution_count": null,
   "metadata": {},
   "outputs": [],
   "source": [
    "(model.tht1-model.tht0) % (np.pi*2), np.rad2deg((model.tht1-model.tht0) % (np.pi*2)), np.rad2deg(6.2)"
   ]
  },
  {
   "cell_type": "code",
   "execution_count": null,
   "metadata": {},
   "outputs": [],
   "source": [
    "np.rad2deg(model.tht0[45:48]), np.rad2deg(model.tht1[45:48])"
   ]
  },
  {
   "cell_type": "code",
   "execution_count": null,
   "metadata": {},
   "outputs": [],
   "source": []
  },
  {
   "cell_type": "code",
   "execution_count": null,
   "metadata": {},
   "outputs": [],
   "source": [
    "tf = model.motorOntimeSlowFwd1.copy()\n",
    "tr = model.motorOntimeSlowRev1.copy()"
   ]
  },
  {
   "cell_type": "code",
   "execution_count": null,
   "metadata": {},
   "outputs": [],
   "source": [
    "np.where(tf>0.07), np.where(tr>0.07)"
   ]
  },
  {
   "cell_type": "code",
   "execution_count": null,
   "metadata": {
    "scrolled": false
   },
   "outputs": [],
   "source": [
    "tf, tr"
   ]
  },
  {
   "cell_type": "code",
   "execution_count": null,
   "metadata": {},
   "outputs": [],
   "source": [
    "spd_adj = np.deg2rad(0.075)\n",
    "tf /= 1+(sf/spd_adj-1)/3\n",
    "tr /= 1+(sr/spd_adj-1)/3"
   ]
  },
  {
   "cell_type": "code",
   "execution_count": null,
   "metadata": {},
   "outputs": [],
   "source": [
    "tf, tr"
   ]
  },
  {
   "cell_type": "code",
   "execution_count": null,
   "metadata": {},
   "outputs": [],
   "source": [
    "tf[31] = 0.06\n",
    "tr[36] = 0.05"
   ]
  },
  {
   "cell_type": "code",
   "execution_count": null,
   "metadata": {},
   "outputs": [],
   "source": [
    "np.where(np.rad2deg(sf) < 0.05)"
   ]
  },
  {
   "cell_type": "code",
   "execution_count": null,
   "metadata": {},
   "outputs": [],
   "source": [
    "tr[41] = 0.06\n",
    "tr[56] = 0.05"
   ]
  },
  {
   "cell_type": "code",
   "execution_count": null,
   "metadata": {},
   "outputs": [],
   "source": [
    "tr[np.rad2deg(sr) < 0.05] *= 1.2"
   ]
  },
  {
   "cell_type": "code",
   "execution_count": null,
   "metadata": {},
   "outputs": [],
   "source": [
    "tf[10] = 0.05"
   ]
  },
  {
   "cell_type": "code",
   "execution_count": null,
   "metadata": {},
   "outputs": [],
   "source": []
  },
  {
   "cell_type": "code",
   "execution_count": null,
   "metadata": {},
   "outputs": [],
   "source": []
  },
  {
   "cell_type": "code",
   "execution_count": null,
   "metadata": {},
   "outputs": [],
   "source": [
    "tf, tr"
   ]
  },
  {
   "cell_type": "code",
   "execution_count": null,
   "metadata": {},
   "outputs": [],
   "source": [
    "tr[41], tr[56]"
   ]
  },
  {
   "cell_type": "code",
   "execution_count": null,
   "metadata": {},
   "outputs": [],
   "source": []
  },
  {
   "cell_type": "code",
   "execution_count": null,
   "metadata": {},
   "outputs": [],
   "source": [
    "model.motorOntimeSlowFwd1[17], model.motorOntimeSlowRev1[17]"
   ]
  },
  {
   "cell_type": "code",
   "execution_count": null,
   "metadata": {},
   "outputs": [],
   "source": [
    "model.updateOntimes(thetaFwd=tf, thetaRev=tr, fast=False)"
   ]
  },
  {
   "cell_type": "code",
   "execution_count": null,
   "metadata": {},
   "outputs": [],
   "source": [
    "model.createCalibrationFile('/home/pfs/Documents/cwen/ics_cobraCharmer/xml/SC34_02.xml')"
   ]
  },
  {
   "cell_type": "code",
   "execution_count": null,
   "metadata": {},
   "outputs": [],
   "source": [
    "tf[13], tr[13]"
   ]
  },
  {
   "cell_type": "code",
   "execution_count": null,
   "metadata": {},
   "outputs": [],
   "source": [
    "tf[5] = 0.04\n",
    "tr[5] = 0.04\n",
    "tf[30] = 0.035"
   ]
  },
  {
   "cell_type": "code",
   "execution_count": null,
   "metadata": {},
   "outputs": [],
   "source": [
    "fw[19], rv[19]"
   ]
  },
  {
   "cell_type": "code",
   "execution_count": null,
   "metadata": {},
   "outputs": [],
   "source": [
    "tr[13] = 0.045"
   ]
  },
  {
   "cell_type": "code",
   "execution_count": null,
   "metadata": {},
   "outputs": [],
   "source": [
    "ar[1,0]"
   ]
  },
  {
   "cell_type": "code",
   "execution_count": null,
   "metadata": {},
   "outputs": [],
   "source": [
    "np.argmin(abs(ar[1,0]%(np.pi*2) - np.pi))"
   ]
  },
  {
   "cell_type": "code",
   "execution_count": null,
   "metadata": {
    "scrolled": true
   },
   "outputs": [],
   "source": [
    "fw[30], rv[30]"
   ]
  },
  {
   "cell_type": "code",
   "execution_count": null,
   "metadata": {},
   "outputs": [],
   "source": [
    "fw[43], rv[43], centers[43]"
   ]
  },
  {
   "cell_type": "code",
   "execution_count": null,
   "metadata": {},
   "outputs": [],
   "source": [
    "data = np.concatenate((fw[33].flatten(), rv[33].flatten()))"
   ]
  },
  {
   "cell_type": "code",
   "execution_count": null,
   "metadata": {},
   "outputs": [],
   "source": [
    "np.max(np.real(data)), np.min(np.real(data)), np.max(np.imag(data)), np.min(np.imag(data))"
   ]
  },
  {
   "cell_type": "code",
   "execution_count": null,
   "metadata": {},
   "outputs": [],
   "source": [
    "centers[33]"
   ]
  },
  {
   "cell_type": "code",
   "execution_count": null,
   "metadata": {},
   "outputs": [],
   "source": [
    "data = rv[33, 1].flatten()\n",
    "plt.plot(np.real(data), np.imag(data), '.')"
   ]
  },
  {
   "cell_type": "code",
   "execution_count": null,
   "metadata": {},
   "outputs": [],
   "source": [
    "model.centers, centers, model.centers - centers"
   ]
  },
  {
   "cell_type": "code",
   "execution_count": null,
   "metadata": {},
   "outputs": [],
   "source": []
  },
  {
   "cell_type": "code",
   "execution_count": null,
   "metadata": {},
   "outputs": [],
   "source": [
    "path = '/data/MCS/20191230_003/data/'\n",
    "data = np.load(path + 'thetaData.npy')"
   ]
  },
  {
   "cell_type": "code",
   "execution_count": null,
   "metadata": {
    "scrolled": true
   },
   "outputs": [],
   "source": [
    "angles = np.linspace(15,345,34)\n",
    "print(np.where(abs(np.rad2deg(data[goodIdx,:,7,0])-angles)>0.2))\n",
    "print(np.where(abs(np.rad2deg(data[goodIdx,:,7,0])-angles)>0.1))\n",
    "print(np.where(abs(np.rad2deg(data[goodIdx,:,7,0])-angles)>0.1)[0].shape[0])\n",
    "print(np.amax(abs(np.rad2deg(data[goodIdx,:,:,0])-angles[:,np.newaxis]), axis=(0,1)))\n",
    "np.average(abs(np.rad2deg(data[goodIdx,:,:,0])-angles[:,np.newaxis]), axis=(0,1))"
   ]
  },
  {
   "cell_type": "code",
   "execution_count": null,
   "metadata": {
    "scrolled": true
   },
   "outputs": [],
   "source": [
    "c = 12\n",
    "\n",
    "plt.figure(4)\n",
    "plt.clf()\n",
    "for n in range(data.shape[1]):\n",
    "    plt.plot(np.rad2deg(data[c,n,:,0]))"
   ]
  },
  {
   "cell_type": "code",
   "execution_count": null,
   "metadata": {
    "scrolled": false
   },
   "outputs": [],
   "source": [
    "#bad = [37]\n",
    "#useable= [e for e in range(1,58) if e not in bad]\n",
    "#idx = np.array(useable) - 1\n",
    "idx = goodIdx\n",
    "\n",
    "for run in range(8):\n",
    "#    plt.figure()\n",
    "    d = (np.rad2deg(data[idx,:,:,0])-angles[:,np.newaxis])[:,:,run]\n",
    "\n",
    "    plt.subplot(121)\n",
    "#    plt.xscale('log')\n",
    "    plt.yscale('log')\n",
    "    plt.title(f'Diff angles #{run+1}')\n",
    "#    plt.grid(True)\n",
    "    plt.hist(d.flatten(), bins='auto')\n",
    "\n",
    "    plt.subplot(122)\n",
    "    plt.xscale('log')\n",
    "    plt.yscale('log')\n",
    "    plt.title(f'Absolute diffs #{run+1}')\n",
    "    plt.grid(True)\n",
    "    plt.hist(abs(d).flatten(), bins='auto')\n",
    "\n",
    "    plt.gca().yaxis.set_minor_formatter(NullFormatter())\n",
    "    plt.subplots_adjust(top=0.92, bottom=0.08, left=0.10, right=0.95, hspace=0.45, wspace=0.35)\n",
    "    with PdfPages(f'pdf/SC31_theta_80_{run+1}.pdf') as pdf:\n",
    "        pdf.savefig()\n",
    "    plt.show()"
   ]
  },
  {
   "cell_type": "code",
   "execution_count": null,
   "metadata": {},
   "outputs": [],
   "source": []
  },
  {
   "cell_type": "code",
   "execution_count": null,
   "metadata": {},
   "outputs": [],
   "source": [
    "datadir = '/data/MCS/20201216_003'\n",
    "angles = np.load(f'{datadir}/data/angles.npy')\n",
    "ontimes = np.load(f'{datadir}/data/ontimes.npy')\n",
    "speeds = np.load(f'{datadir}/data/speeds.npy')\n",
    "goodIdx = np.load(f'{datadir}/data/cobras.npy')\n",
    "parameters = np.load(f'{datadir}/data/parameters.npy')\n",
    "mm = np.load(f'{datadir}/data/thetaOntimeMap.npy')"
   ]
  },
  {
   "cell_type": "code",
   "execution_count": null,
   "metadata": {},
   "outputs": [],
   "source": [
    "with PdfPages(f'pdf/{mod}_theta_scan_fast5.pdf') as pdf:\n",
    "    for idx in range(len(ontimes)):\n",
    "        fig = plt.figure(figsize=(20,30))\n",
    "        ax1 = plt.subplot(411)\n",
    "        ax1.set_title(f'Cobra #{goodIdx[idx]+1}: On-time (theta, Forward)')\n",
    "        ax2 = plt.subplot(412)\n",
    "        ax2.set_title(f'Cobra #{goodIdx[idx]+1}: Step size (theta, Forward)')\n",
    "        ax3 = plt.subplot(413)\n",
    "        ax3.set_title(f'Cobra #{goodIdx[idx]+1}: On-time (theta, Backward)')\n",
    "        ax4 = plt.subplot(414)\n",
    "        ax4.set_title(f'Cobra #{goodIdx[idx]+1}: Step size (theta, Backward)')\n",
    "\n",
    "        for repeat in range(ontimes.shape[1]):\n",
    "            data = ontimes[idx,repeat,0]*1000\n",
    "            nz = np.where(data == 0)[0]\n",
    "            if len(nz) > 0:\n",
    "                upper = np.where(data == 0)[0][0] - 1\n",
    "            else:\n",
    "                upper = len(data)\n",
    "            xdata = np.rad2deg(angles)[idx,repeat,0,:upper]\n",
    "            data1 = np.rad2deg(speeds[idx,repeat,0])\n",
    "            ax1.plot(xdata, data[:upper], '.', label=f'{repeat+1}')\n",
    "            ax2.plot(xdata, data1[:upper], '.', label=f'{repeat+1}')\n",
    "\n",
    "            data = ontimes[idx,repeat,1]*1000\n",
    "            nz = np.where(data == 0)[0]\n",
    "            if len(nz) > 0:\n",
    "                upper = np.where(data == 0)[0][0]\n",
    "            else:\n",
    "                upper = len(data)\n",
    "            xdata = np.rad2deg(angles)[idx,repeat,1,:upper]\n",
    "            data1 = -np.rad2deg(speeds[idx,repeat,1])\n",
    "            ax3.plot(xdata, data[:upper], '.', label=f'{repeat+1}')\n",
    "            ax4.plot(xdata, data1[:upper], '.', label=f'{repeat+1}')\n",
    "\n",
    "        ax1.legend()\n",
    "        ax2.legend()\n",
    "        ax3.legend()\n",
    "        ax4.legend()\n",
    "        pdf.savefig(fig)\n",
    "        plt.close()"
   ]
  },
  {
   "cell_type": "code",
   "execution_count": null,
   "metadata": {},
   "outputs": [],
   "source": [
    "with PdfPages(f'pdf/{mod}_theta_mm_fast2.pdf') as pdf:\n",
    "    for c in goodIdx:\n",
    "        fig = plt.figure(figsize=(15,20))\n",
    "        xdata = np.rad2deg(mm['angle'][c])\n",
    "        ax1 = plt.subplot(411)\n",
    "        ax1.set_title(f'Cobra #{c+1}: On-time (theta, Forward)')\n",
    "        ax1.plot(xdata[0], mm['ontime'][c,0], 'x')\n",
    "        ax2 = plt.subplot(412)\n",
    "        ax2.set_title(f'Cobra #{c+1}: Speed (theta, Forward)')\n",
    "        ax2.plot(xdata[0], np.rad2deg(mm['speed'][c,0]), 'x')\n",
    "        ax3 = plt.subplot(413)\n",
    "        ax3.set_title(f'Cobra #{c+1}: On-time (theta, Reverse)')\n",
    "        ax3.plot(xdata[1], mm['ontime'][c,1], 'x')\n",
    "        ax4 = plt.subplot(414)\n",
    "        ax4.set_title(f'Cobra #{c+1}: Speed (theta, Reverse)')\n",
    "        ax4.plot(xdata[1], np.rad2deg(-mm['speed'][c,1]), 'x')\n",
    "\n",
    "        pdf.savefig(fig)\n",
    "        plt.close()"
   ]
  },
  {
   "cell_type": "code",
   "execution_count": null,
   "metadata": {},
   "outputs": [],
   "source": [
    "datadir = '/home/cwen/mhs/devel/ics_cobraCharmer/procedures/moduleTest'\n",
    "mm2 = np.load(f'{datadir}/SP01_mmThetaFast5.npy')\n",
    "mm3 = np.load(f'{datadir}/SP01_mmThetaSlow.npy')\n",
    "\n",
    "with PdfPages(f'pdf/{mod}_theta_mm_fast_compare2.pdf') as pdf:\n",
    "    for c in goodIdx:\n",
    "        fig = plt.figure(figsize=(15,20))\n",
    "        ax1 = plt.subplot(411)\n",
    "        ax1.set_title(f'Cobra #{c+1}: On-time (theta, Forward)')\n",
    "        ax2 = plt.subplot(412)\n",
    "        ax2.set_title(f'Cobra #{c+1}: Speed (theta, Forward)')\n",
    "        ax3 = plt.subplot(413)\n",
    "        ax3.set_title(f'Cobra #{c+1}: On-time (theta, Reverse)')\n",
    "        ax4 = plt.subplot(414)\n",
    "        ax4.set_title(f'Cobra #{c+1}: Speed (theta, Reverse)')\n",
    "        for color,mmx in [('m',mm2), ('b',mm3)]:\n",
    "            xdata = np.rad2deg(mmx['angle'][c])\n",
    "            ax1.plot(xdata[0], mmx['ontime'][c,0], f'x{color}')\n",
    "            ax2.plot(xdata[0], np.rad2deg(mmx['speed'][c,0]), f'x{color}')\n",
    "            ax3.plot(xdata[1], mmx['ontime'][c,1], f'x{color}')\n",
    "            ax4.plot(xdata[1], np.rad2deg(-mmx['speed'][c,1]), f'x{color}')\n",
    "\n",
    "        pdf.savefig(fig)\n",
    "        plt.close()"
   ]
  },
  {
   "cell_type": "code",
   "execution_count": null,
   "metadata": {},
   "outputs": [],
   "source": []
  },
  {
   "cell_type": "code",
   "execution_count": null,
   "metadata": {},
   "outputs": [],
   "source": [
    "def smooth(x, window_len=21, window='hamming'):\n",
    "    s = np.r_[x[window_len-1:0:-1], x, x[-2:-window_len-1:-1]]\n",
    "    w = eval('np.' + window + '(window_len)')\n",
    "    y = np.convolve(w/w.sum(), s, mode='valid')\n",
    "    return y[(window_len//2):-(window_len//2)]"
   ]
  },
  {
   "cell_type": "code",
   "execution_count": null,
   "metadata": {
    "scrolled": false
   },
   "outputs": [],
   "source": [
    "idx = 50\n",
    "\n",
    "plt.figure(figsize=(15,30))\n",
    "ax1 = plt.subplot(411)\n",
    "ax1.set_title(f'Cobra #{goodIdx[idx]+1}: On-time (theta, Forward)')\n",
    "ax2 = plt.subplot(412)\n",
    "ax2.set_title(f'Cobra #{goodIdx[idx]+1}: Step size (theta, Forward)')\n",
    "ax3 = plt.subplot(413)\n",
    "ax3.set_title(f'Cobra #{goodIdx[idx]+1}: On-time (theta, Backward)')\n",
    "ax4 = plt.subplot(414)\n",
    "ax4.set_title(f'Cobra #{goodIdx[idx]+1}: Step size (theta, Backward)')\n",
    "\n",
    "#for repeat in range(ontimes.shape[1]):\n",
    "for repeat in range(1):\n",
    "    data = ontimes[idx,repeat,0]*1000\n",
    "    nz = np.where(data == 0)[0]\n",
    "    if len(nz) > 0:\n",
    "        upper = nz[0] - 1\n",
    "    else:\n",
    "        upper = len(data)\n",
    "    xdata = np.rad2deg(angles)[idx,repeat,0,:upper]\n",
    "    data1 = np.rad2deg(speeds[idx,repeat,0])\n",
    "    ax1.plot(xdata, data[:upper], '.', label=f'{repeat+1}')\n",
    "    ax1.plot(xdata, smooth(data[:upper]), label=f'S{repeat+1}')\n",
    "    ax2.plot(xdata, data1[:upper], '.', label=f'{repeat+1}')\n",
    "    ax2.plot(xdata, smooth(data1[:upper]), label=f'S{repeat+1}')\n",
    "\n",
    "    data = ontimes[idx,repeat,1]*1000\n",
    "    nz = np.where(data == 0)[0]\n",
    "    if len(nz) > 0:\n",
    "        upper = nz[0]\n",
    "    else:\n",
    "        upper = len(data)\n",
    "    xdata = np.rad2deg(angles)[idx,repeat,1,:upper]\n",
    "    data1 = -np.rad2deg(speeds[idx,repeat,1])\n",
    "    ax3.plot(xdata, data[:upper], '.', label=f'{repeat+1}')\n",
    "    ax3.plot(xdata, smooth(data[:upper]), label=f'S{repeat+1}')\n",
    "    ax4.plot(xdata, data1[:upper], '.', label=f'{repeat+1}')\n",
    "    ax4.plot(xdata, smooth(data1[:upper]), label=f'S{repeat+1}')\n",
    "\n",
    "ax1.legend()\n",
    "ax2.legend()\n",
    "ax3.legend()\n",
    "ax4.legend()\n",
    "plt.show()"
   ]
  },
  {
   "cell_type": "code",
   "execution_count": null,
   "metadata": {},
   "outputs": [],
   "source": [
    "mm[1,0]"
   ]
  },
  {
   "cell_type": "code",
   "execution_count": null,
   "metadata": {},
   "outputs": [],
   "source": []
  },
  {
   "cell_type": "code",
   "execution_count": null,
   "metadata": {},
   "outputs": [],
   "source": []
  },
  {
   "cell_type": "code",
   "execution_count": null,
   "metadata": {},
   "outputs": [],
   "source": [
    "mmDtype = np.dtype(dict(names=['angle', 'ontime', 'speed'], formats=['f4', 'f4', 'f4']))"
   ]
  },
  {
   "cell_type": "code",
   "execution_count": null,
   "metadata": {},
   "outputs": [],
   "source": [
    "mm = np.full((angles.shape[0],2,angles.shape[3]-1), np.nan, dtype=mmDtype)\n",
    "\n",
    "for i in range(angles.shape[0]):\n",
    "    for j in range(2):\n",
    "        nz = np.where(ontimes[i,0,j] == 0)[0]\n",
    "        if len(nz) > 0:\n",
    "            upper = nz[0] - 1\n",
    "        else:\n",
    "            upper = ontimes.shape[3] - 1\n",
    "        mm[i,j,:upper]['angle'] = angles[i,0,j,:upper]\n",
    "        mm[i,j,:upper]['ontime'] = smooth(ontimes[i,0,j,:upper])\n",
    "        mm[i,j,:upper]['speed'] = smooth(speeds[i,0,j,:upper])"
   ]
  },
  {
   "cell_type": "code",
   "execution_count": null,
   "metadata": {},
   "outputs": [],
   "source": [
    "mmOut = np.full((57,2,angles.shape[3]-1), 0, dtype=mmDtype)\n",
    "mmOut[goodIdx] = mm\n",
    "np.save('SP01_mmThetaFast4', mmOut)"
   ]
  },
  {
   "cell_type": "code",
   "execution_count": null,
   "metadata": {},
   "outputs": [],
   "source": [
    "angMax = np.nanmax(mm['angle'], axis=2)\n",
    "angMin = np.nanmin(mm['angle'], axis=2)\n",
    "angMargin = np.deg2rad(15)\n",
    "ot = np.zeros((mm.shape[0],2))\n",
    "\n",
    "for i in range(mm.shape[0]):\n",
    "    for j in range(2):\n",
    "        x = mm[i,j]['angle']\n",
    "        mask = ~np.isnan(x)\n",
    "        mask[mask] &= x[mask] > angMin[i,j] + angMargin\n",
    "        mask[mask] &= x[mask] < angMax[i,j] - angMargin\n",
    "        ot[i,j] = np.nanmax(mm[i,j,mask]['ontime']) + np.nanmin(mm[i,j,mask]['ontime'])*1.0\n",
    "\n",
    "ot[ot > 0.12] = 0.12"
   ]
  },
  {
   "cell_type": "code",
   "execution_count": null,
   "metadata": {},
   "outputs": [],
   "source": [
    "otOut = np.copy(ontime)\n",
    "otOut[:,goodIdx] = ot.T\n",
    "otOut"
   ]
  },
  {
   "cell_type": "code",
   "execution_count": null,
   "metadata": {},
   "outputs": [],
   "source": []
  },
  {
   "cell_type": "code",
   "execution_count": null,
   "metadata": {},
   "outputs": [],
   "source": [
    "moves = np.load('/data/MCS/20201207_051/data/moves.npy')\n",
    "positions = np.load('/data/MCS/20201207_051/data/positions.npy')\n",
    "targets = np.load('/data/MCS/20201207_051/data/targets.npy')"
   ]
  },
  {
   "cell_type": "code",
   "execution_count": null,
   "metadata": {},
   "outputs": [],
   "source": [
    "moves.shape, positions.shape, targets.shape"
   ]
  },
  {
   "cell_type": "code",
   "execution_count": null,
   "metadata": {},
   "outputs": [],
   "source": [
    "run = 1\n",
    "c = 4\n",
    "positions[run,c], targets[run,c], moves[run,c,:]"
   ]
  },
  {
   "cell_type": "code",
   "execution_count": null,
   "metadata": {},
   "outputs": [],
   "source": [
    "segs = np.load('/data/MCS/20201207_033/data/segments_1607313086.npz')"
   ]
  },
  {
   "cell_type": "code",
   "execution_count": null,
   "metadata": {},
   "outputs": [],
   "source": [
    "segs['idx'], segs['segs'][:,4]"
   ]
  },
  {
   "cell_type": "code",
   "execution_count": null,
   "metadata": {},
   "outputs": [],
   "source": []
  },
  {
   "cell_type": "code",
   "execution_count": null,
   "metadata": {},
   "outputs": [],
   "source": []
  },
  {
   "cell_type": "code",
   "execution_count": null,
   "metadata": {},
   "outputs": [],
   "source": [
    "#centers = np.zeros((3,57), 'complex')\n",
    "#radius = np.zeros((3,57), 'float')\n",
    "centers = []\n",
    "radius = []\n",
    "fw = []\n",
    "rv = []\n",
    "\n",
    "for n in [2,4,7,9]:\n",
    "    path = f'/data/MCS/20201204_{n:03}/data/'\n",
    "    centers.append(np.load(path + 'thetaCenter.npy'))\n",
    "    radius.append(np.load(path + 'thetaRadius.npy'))\n",
    "    fw.append(np.load(path + 'thetaFW.npy'))\n",
    "    rv.append(np.load(path + 'thetaRV.npy'))"
   ]
  },
  {
   "cell_type": "code",
   "execution_count": null,
   "metadata": {
    "scrolled": false
   },
   "outputs": [],
   "source": [
    "with PdfPages(f'pdf/{mod}_theta_centers2.pdf') as pdf:\n",
    "    for k in goodIdx:\n",
    "        fig = plt.figure(figsize=(16,16))\n",
    "        ax = plt.gca()\n",
    "        ax.axis('equal')\n",
    "        ax.set_title(f'Cobra #{k+1}')\n",
    "\n",
    "        for m in range(len(centers)):\n",
    "            c = plt.Circle((centers[m][k].real, centers[m][k].imag), radius[m][k], fill=False)\n",
    "            ax.add_artist(c)\n",
    "            ax.plot(centers[m][k].real, centers[m][k].imag, 'o')\n",
    "\n",
    "            for n in range(fw[m].shape[1]):\n",
    "                c = 'r'\n",
    "                d = 'b'\n",
    "                ax.plot(fw[m][k][n,1:].real, fw[m][k][n,1:].imag, c + '.')\n",
    "                ax.plot(rv[m][k][n,1:].real, rv[m][k][n,1:].imag, d + '.')\n",
    "                ax.plot(fw[m][k][n,0].real, fw[m][k][n,0].imag, c + 'x')\n",
    "                ax.plot(rv[m][k][n,0].real, rv[m][k][n,0].imag, d + '+')\n",
    "\n",
    "        pdf.savefig(fig)\n",
    "        plt.close()"
   ]
  },
  {
   "cell_type": "code",
   "execution_count": null,
   "metadata": {},
   "outputs": [],
   "source": [
    "np.average(centers, axis=0)"
   ]
  },
  {
   "cell_type": "code",
   "execution_count": null,
   "metadata": {},
   "outputs": [],
   "source": [
    "fw[27:32,0,15]"
   ]
  },
  {
   "cell_type": "code",
   "execution_count": null,
   "metadata": {},
   "outputs": [],
   "source": []
  },
  {
   "cell_type": "code",
   "execution_count": null,
   "metadata": {},
   "outputs": [],
   "source": [
    "from ics.cobraCharmer import pfiDesign\n",
    "import pathlib"
   ]
  },
  {
   "cell_type": "code",
   "execution_count": null,
   "metadata": {},
   "outputs": [],
   "source": [
    "xml = pathlib.Path('/home/cwen/mhs/devel/pfs_instdata/data/pfi/modules/SP01/SP01.xml')\n",
    "model = pfiDesign.PFIDesign(xml)"
   ]
  },
  {
   "cell_type": "code",
   "execution_count": null,
   "metadata": {
    "scrolled": true
   },
   "outputs": [],
   "source": [
    "c = 0\n",
    "model.thtOffsets[c], model.posThtSteps[c], model.F1Pm[c], model.negThtSteps[c], model.F1Nm[c]"
   ]
  },
  {
   "cell_type": "code",
   "execution_count": null,
   "metadata": {},
   "outputs": [],
   "source": [
    "c = 0\n",
    "thtSteps = model.posThtSteps[c]\n",
    "np.interp([0.0628, 0.1885], model.thtOffsets[c], thtSteps)"
   ]
  },
  {
   "cell_type": "code",
   "execution_count": null,
   "metadata": {},
   "outputs": [],
   "source": [
    "np.interp(0.03, model.thtOffsets[c], thtSteps)"
   ]
  },
  {
   "cell_type": "code",
   "execution_count": null,
   "metadata": {},
   "outputs": [],
   "source": [
    "np.interp(125, thtSteps, model.thtOffsets[c])"
   ]
  },
  {
   "cell_type": "code",
   "execution_count": null,
   "metadata": {},
   "outputs": [],
   "source": [
    "np.rad2deg(0.6)"
   ]
  },
  {
   "cell_type": "code",
   "execution_count": null,
   "metadata": {},
   "outputs": [],
   "source": []
  },
  {
   "cell_type": "code",
   "execution_count": null,
   "metadata": {},
   "outputs": [],
   "source": []
  }
 ],
 "metadata": {
  "kernelspec": {
   "display_name": "Python 3",
   "language": "python",
   "name": "python3"
  },
  "language_info": {
   "codemirror_mode": {
    "name": "ipython",
    "version": 3
   },
   "file_extension": ".py",
   "mimetype": "text/x-python",
   "name": "python",
   "nbconvert_exporter": "python",
   "pygments_lexer": "ipython3",
   "version": "3.7.3"
  }
 },
 "nbformat": 4,
 "nbformat_minor": 2
}
