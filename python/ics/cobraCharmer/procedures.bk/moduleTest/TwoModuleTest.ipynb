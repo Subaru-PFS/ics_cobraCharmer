{
 "cells": [
  {
   "cell_type": "code",
   "execution_count": 18,
   "metadata": {},
   "outputs": [],
   "source": [
    "from moduleTest import ModuleTest\n",
    "import numpy as np\n",
    "import pandas as pd\n",
    "from ics.cobraCharmer import pfi as pfiControl\n",
    "from ics.cobraCharmer import pfiDesign\n",
    "import moduleAnalyze\n",
    "import visDianosticPlot\n",
    "import os\n",
    "from importlib import reload \n",
    "import matplotlib.pyplot as plt\n",
    "import pathlib"
   ]
  },
  {
   "cell_type": "code",
   "execution_count": 19,
   "metadata": {},
   "outputs": [],
   "source": [
    "from ics.cobraCharmer.utils import butler\n",
    "from ics.cobraCharmer import pfi"
   ]
  },
  {
   "cell_type": "code",
   "execution_count": 20,
   "metadata": {
    "scrolled": false
   },
   "outputs": [
    {
     "name": "stderr",
     "output_type": "stream",
     "text": [
      "2020-04-14 15:28:03.956Z fpgaIO           20 pfi.py:72 FPGA connection to 128.149.77.24\n"
     ]
    },
    {
     "name": "stdout",
     "output_type": "stream",
     "text": [
      "114 684\n"
     ]
    }
   ],
   "source": [
    "des = pfiDesign.PFIDesign()\n",
    "\n",
    "modules = [f'SC{m:02d}' for m in range(1,3)]\n",
    "modFiles = [butler.mapPathForModule(mn, version='bootstrap') for mn in modules]\n",
    "des.loadModelFiles(modFiles)\n",
    "p = pfi.PFI(fpgaHost='fpga', logDir='/tmp', doLoadModel=False)\n",
    "p.calibModel = des\n",
    "clst = p.getAllDefinedCobras()\n",
    "print(len(clst), len(clst)*6)\n",
    "p.setFreq(clst)"
   ]
  },
  {
   "cell_type": "code",
   "execution_count": 21,
   "metadata": {},
   "outputs": [
    {
     "data": {
      "text/plain": [
       "('2.0', 20.204)"
      ]
     },
     "execution_count": 21,
     "metadata": {},
     "output_type": "execute_result"
    }
   ],
   "source": [
    "p.admin()"
   ]
  },
  {
   "cell_type": "code",
   "execution_count": 22,
   "metadata": {
    "scrolled": true
   },
   "outputs": [
    {
     "data": {
      "text/plain": [
       "[PosixPath('/home/pfs/mhs/devel/pfs_instdata/data/pfi/modules/SC01/SC01_bootstrap.xml'),\n",
       " PosixPath('/home/pfs/mhs/devel/pfs_instdata/data/pfi/modules/SC02/SC02_bootstrap.xml')]"
      ]
     },
     "execution_count": 22,
     "metadata": {},
     "output_type": "execute_result"
    }
   ],
   "source": [
    "modFiles"
   ]
  },
  {
   "cell_type": "code",
   "execution_count": 23,
   "metadata": {},
   "outputs": [
    {
     "data": {
      "text/plain": [
       "['IN_OVERLAPPING_REGION',\n",
       " 'PHI_BEYOND_PI',\n",
       " 'PHI_NEGATIVE',\n",
       " 'SOLUTION_OK',\n",
       " 'TOO_CLOSE_TO_CENTER',\n",
       " 'TOO_FAR_FROM_CENTER',\n",
       " '__class__',\n",
       " '__delattr__',\n",
       " '__dict__',\n",
       " '__dir__',\n",
       " '__doc__',\n",
       " '__eq__',\n",
       " '__format__',\n",
       " '__ge__',\n",
       " '__getattribute__',\n",
       " '__gt__',\n",
       " '__hash__',\n",
       " '__init__',\n",
       " '__init_subclass__',\n",
       " '__le__',\n",
       " '__lt__',\n",
       " '__module__',\n",
       " '__ne__',\n",
       " '__new__',\n",
       " '__reduce__',\n",
       " '__reduce_ex__',\n",
       " '__repr__',\n",
       " '__setattr__',\n",
       " '__sizeof__',\n",
       " '__str__',\n",
       " '__subclasshook__',\n",
       " '__weakref__',\n",
       " '_freqToPeriod',\n",
       " '_mapCobraIndex',\n",
       " '_periodToFreq',\n",
       " 'adjustPhiOnTime',\n",
       " 'adjustThetaOnTime',\n",
       " 'admin',\n",
       " 'allocateAllCobras',\n",
       " 'allocateBoardCobra',\n",
       " 'allocateCobraBoard',\n",
       " 'allocateCobraList',\n",
       " 'allocateCobraModule',\n",
       " 'allocateCobraRange',\n",
       " 'anglesToPositions',\n",
       " 'calculateSteps',\n",
       " 'calibModel',\n",
       " 'calibrateFreq',\n",
       " 'cobraBySerial',\n",
       " 'connect',\n",
       " 'diag',\n",
       " 'disconnect',\n",
       " 'fpgaHost',\n",
       " 'getAllConnectedCobras',\n",
       " 'getAllDefinedCobras',\n",
       " 'getModelParameters',\n",
       " 'hk',\n",
       " 'homePhi',\n",
       " 'homeTheta',\n",
       " 'homeThetaPhi',\n",
       " 'houseKeeping',\n",
       " 'ioLogger',\n",
       " 'loadModel',\n",
       " 'logger',\n",
       " 'maxPhiOntime',\n",
       " 'maxPhiSteps',\n",
       " 'maxThetaOntime',\n",
       " 'maxThetaSteps',\n",
       " 'motorMap',\n",
       " 'moveAllSteps',\n",
       " 'moveAllThetaPhiFromHome',\n",
       " 'moveSteps',\n",
       " 'moveThetaPhi',\n",
       " 'moveXY',\n",
       " 'moveXYfromHome',\n",
       " 'moveXYfromHomeSafe',\n",
       " 'nCobrasPerModule',\n",
       " 'nModules',\n",
       " 'ontimeScales',\n",
       " 'phiParameter',\n",
       " 'positionsToAngles',\n",
       " 'power',\n",
       " 'protoLogger',\n",
       " 'reset',\n",
       " 'resetMotorScaling',\n",
       " 'scaleMotorOntime',\n",
       " 'scaleMotorOntimeBySpeed',\n",
       " 'setFreq',\n",
       " 'setModelParameters',\n",
       " 'thetaParameter',\n",
       " 'thetaToGlobal',\n",
       " 'thetaToLocal']"
      ]
     },
     "execution_count": 23,
     "metadata": {},
     "output_type": "execute_result"
    }
   ],
   "source": [
    "dir(p)"
   ]
  },
  {
   "cell_type": "code",
   "execution_count": 24,
   "metadata": {},
   "outputs": [],
   "source": [
    "p.calibModel.motorOntimeRev2 = np.zeros(114)+0.07\n",
    "p.calibModel.motorOntimeFwd2 = np.zeros(114)+0.07"
   ]
  },
  {
   "cell_type": "code",
   "execution_count": 26,
   "metadata": {},
   "outputs": [],
   "source": [
    "p.moveAllSteps(clst,0,-5000)"
   ]
  },
  {
   "cell_type": "code",
   "execution_count": null,
   "metadata": {},
   "outputs": [],
   "source": [
    "np.zeros(57)+0.08"
   ]
  },
  {
   "cell_type": "code",
   "execution_count": null,
   "metadata": {},
   "outputs": [],
   "source": []
  }
 ],
 "metadata": {
  "kernelspec": {
   "display_name": "Python 3",
   "language": "python",
   "name": "python3"
  },
  "language_info": {
   "codemirror_mode": {
    "name": "ipython",
    "version": 3
   },
   "file_extension": ".py",
   "mimetype": "text/x-python",
   "name": "python",
   "nbconvert_exporter": "python",
   "pygments_lexer": "ipython3",
   "version": "3.7.3"
  }
 },
 "nbformat": 4,
 "nbformat_minor": 2
}
