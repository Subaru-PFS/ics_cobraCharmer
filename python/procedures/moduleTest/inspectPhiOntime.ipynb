{
 "cells": [
  {
   "cell_type": "code",
   "execution_count": 1,
   "metadata": {},
   "outputs": [],
   "source": [
    "import sys, os\n",
    "import numpy as np\n",
    "import glob\n",
    "import pandas as pd\n",
    "import math\n",
    "\n",
    "from scipy import stats\n",
    "import matplotlib.pyplot as plt\n",
    "from astropy.io import fits\n",
    "\n",
    "from bokeh.io import output_notebook, show, export_png,export_svgs, save\n",
    "from bokeh.plotting import figure, show, output_file\n",
    "import bokeh.palettes\n",
    "from bokeh.layouts import column,gridplot\n",
    "from bokeh.models import HoverTool, ColumnDataSource, LinearColorMapper\n",
    "from bokeh.models.glyphs import Text\n",
    "from bokeh.palettes import Category20\n",
    "from bokeh.transform import linear_cmap\n",
    "\n",
    "from ics.cobraCharmer import pfi as pfiControl\n",
    "from ics.cobraCharmer import pfiDesign\n",
    "from astropy.table import Table\n"
   ]
  },
  {
   "cell_type": "code",
   "execution_count": 40,
   "metadata": {},
   "outputs": [],
   "source": [
    "class ontimeModel():\n",
    "    \n",
    "    def getPhiFwdSlope(self, pid, dataframe):\n",
    "\n",
    "        ndf = dataframe.loc[dataframe['fiberNo'] == pid].loc[dataframe['J2_fwd'] > 0.001]\n",
    "\n",
    "        onTimeArray = ndf['J2onTimeFwd'].values\n",
    "        angSpdArray = ndf['J2_fwd'].values\n",
    "\n",
    "        slope, intercept, r_value, p_value, std_err = stats.linregress(onTimeArray,angSpdArray)\n",
    "\n",
    "        # If the slope is nan, that means the linear regression is failed.  Return zero instead of nan.\n",
    "        if math.isnan(slope) is True:\n",
    "            slope = 0\n",
    "\n",
    "        return slope,intercept\n",
    "\n",
    "    def getPhiRevSlope(self, pid, dataframe):\n",
    "\n",
    "        ndf = dataframe.loc[dataframe['fiberNo'] == pid].loc[dataframe['J2_rev'] < 0]\n",
    "\n",
    "        onTimeArray = ndf['J2onTimeRev'].values\n",
    "        angSpdArray = ndf['J2_rev'].values\n",
    "\n",
    "        slope, intercept, r_value, p_value, std_err = stats.linregress(onTimeArray,angSpdArray)\n",
    "\n",
    "        # If the slope is nan, that means the linear regression is failed.  Return zero instead of nan.\n",
    "        if math.isnan(slope) is True:\n",
    "            slope = 0\n",
    "\n",
    "        return slope,intercept\n",
    "\n",
    "    def buildPhiModelfromDataFrame(self, dataframe, visibleFibers=False):\n",
    "\n",
    "        # Reading all model and build a model list\n",
    "\n",
    "        j2fwd_slope = np.zeros(57)\n",
    "        j2fwd_int = np.zeros(57)\n",
    "        \n",
    "        j2rev_slope = np.zeros(57)\n",
    "        j2rev_int = np.zeros(57)\n",
    "\n",
    "\n",
    "        for pid in visibleFibers:\n",
    "            \n",
    "            fw_s, fw_i=self.getPhiFwdSlope(pid,dataframe)\n",
    "            rv_s, rv_i=self.getPhiRevSlope(pid,dataframe)\n",
    "            \n",
    "            j2fwd_slope[pid-1] = fw_s\n",
    "            j2fwd_int[pid-1] = fw_i\n",
    "            \n",
    "            j2rev_slope[pid-1] = rv_s\n",
    "            j2rev_int[pid-1] = rv_i\n",
    "       \n",
    "        self.j2fwd_slope = j2fwd_slope\n",
    "        self.j2fwd_int   = j2fwd_int\n",
    "        self.j2rev_slope = j2rev_slope\n",
    "        self.j2rev_int   = j2rev_int\n",
    "\n"
   ]
  },
  {
   "cell_type": "code",
   "execution_count": null,
   "metadata": {},
   "outputs": [],
   "source": []
  },
  {
   "cell_type": "code",
   "execution_count": 3,
   "metadata": {},
   "outputs": [],
   "source": [
    "def plotJ2OntimeSpeed(GroupIdx, dataFrame, xrange, yrange):\n",
    "\n",
    "    mapper = Category20[len(GroupIdx)]\n",
    "    TOOLS = ['pan','box_zoom','wheel_zoom', 'save' ,'reset','hover']\n",
    "\n",
    "    p = figure( tools=TOOLS, x_range=xrange, y_range=yrange,plot_height=500, plot_width=1000)\n",
    "\n",
    "    colorcode = 0\n",
    "    for i in GroupIdx:\n",
    "        legendname=\"Fiber \"+str(i)\n",
    "\n",
    "        p.line(x=dataFrame['J2onTimeFwd'][dataFrame['fiberNo'] == i], y=dataFrame['J2_fwd'][dataFrame['fiberNo'] == i],\\\n",
    "        color=mapper[colorcode],line_width=2,legend=legendname)\n",
    "        p.circle(x=dataFrame['J2onTimeFwd'][dataFrame['fiberNo'] == i], y=dataFrame['J2_fwd'][dataFrame['fiberNo'] == i],radius=0.1,\\\n",
    "            color=mapper[colorcode],fill_color=None)\n",
    "        p.line(x=dataFrame['J2onTimeRev'][dataFrame['fiberNo'] == i], y=dataFrame['J2_rev'][dataFrame['fiberNo'] == i],color=mapper[colorcode],line_width=2)\n",
    "        p.circle(x=dataFrame['J2onTimeRev'][dataFrame['fiberNo'] == i], y=dataFrame['J2_rev'][dataFrame['fiberNo'] == i],radius=0.1,\\\n",
    "            color=mapper[colorcode],fill_color=None)\n",
    "\n",
    "        colorcode = colorcode + 1\n",
    "\n",
    "    return p\n"
   ]
  },
  {
   "cell_type": "code",
   "execution_count": 4,
   "metadata": {},
   "outputs": [],
   "source": [
    "path='/Volumes/GoogleDrive/My Drive/PFS/CobraModuleTestResult/Science15/ImageData/20190730/phi-ontime/'"
   ]
  },
  {
   "cell_type": "code",
   "execution_count": 5,
   "metadata": {},
   "outputs": [],
   "source": [
    "brokens = [1,55]\n",
    "visibles= [e for e in range(1,58) if e not in brokens]\n",
    "goodIdx = np.array(visibles) - 1\n",
    "goodGroupIdx = {}\n",
    "for group in range(6):\n",
    "    goodGroupIdx[group] = goodIdx[goodIdx%6==group] + 1\n"
   ]
  },
  {
   "cell_type": "code",
   "execution_count": 6,
   "metadata": {},
   "outputs": [],
   "source": [
    "dataarray=[]\n",
    "pidarray=[]\n",
    "otfarray=[]\n",
    "otrarray=[]\n",
    "j2fwarray=[]\n",
    "j2rvarray=[]\n",
    "\n",
    "imageSet = ['run1', 'run2', 'run3', 'run4']\n",
    "\n",
    "for i in imageSet:\n",
    "    fw_file=path+f'{i}'+'/phiSpeedFW.npy'\n",
    "    rv_file=path+f'{i}'+'/phiSpeedRv.npy'\n",
    "    J2_fwd=np.load(fw_file)*180.0/math.pi \n",
    "    J2_rev=-np.load(rv_file)*180.0/math.pi\n",
    "    \n",
    "    xml = glob.glob(path+f'{i}'+'/*.xml')[0]\n",
    "    model = pfiDesign.PFIDesign(xml)\n",
    "    \n",
    "    J2onTimeFwd = np.zeros(len(J2_fwd[goodIdx]))+model.motorOntimeSlowFwd2[goodIdx]*1000\n",
    "    J2onTimeRev = np.zeros(len(J2_rev[goodIdx]))+model.motorOntimeSlowRev2[goodIdx]*1000\n",
    "    pid=np.array(visibles)\n",
    "    pidarray.append(pid)\n",
    "    otfarray.append(J2onTimeFwd)\n",
    "    otrarray.append(J2onTimeRev)\n",
    "    \n",
    "    j2fwarray.append(J2_fwd[goodIdx])\n",
    "    j2rvarray.append(J2_rev[goodIdx])\n",
    "    \n",
    "d={'fiberNo': np.array(pidarray).flatten(),\n",
    "   'J2onTimeFwd':  np.array(otfarray).flatten(), 'J2onTimeRev':  np.array(otrarray).flatten(),\n",
    "    'J2_fwd': np.array(j2fwarray).flatten(), 'J2_rev': np.array(j2rvarray).flatten()}\n",
    "df = pd.DataFrame(d)\n"
   ]
  },
  {
   "cell_type": "code",
   "execution_count": null,
   "metadata": {},
   "outputs": [],
   "source": [
    "d"
   ]
  },
  {
   "cell_type": "code",
   "execution_count": null,
   "metadata": {},
   "outputs": [],
   "source": [
    "\n",
    "TOOLS = ['pan','box_zoom','wheel_zoom', 'save' ,'reset','hover']\n",
    "\n",
    "phirange = [10,20,30,40]\n",
    "\n",
    "p1 = plotJ2OntimeSpeed(goodGroupIdx[0], df, [phirange[0], phirange[-1]], [-1,1])\n",
    "p2 = plotJ2OntimeSpeed(goodGroupIdx[1], df, [phirange[0], phirange[-1]], [-1,1])\n",
    "p3 = plotJ2OntimeSpeed(goodGroupIdx[2], df, [phirange[0], phirange[-1]], [-1,1])\n",
    "p4 = plotJ2OntimeSpeed(goodGroupIdx[3], df, [phirange[0], phirange[-1]], [-1,1])\n",
    "p5 = plotJ2OntimeSpeed(goodGroupIdx[4], df, [phirange[0], phirange[-1]], [-1,1])\n",
    "p6 = plotJ2OntimeSpeed(goodGroupIdx[5], df, [phirange[0], phirange[-1]], [-1,1])\n",
    "\n",
    "#x = np.array([])\n",
    "#y1 = np.array([])\n",
    "#y2 = np.array([])\n",
    "#for tms in phirange:\n",
    "    #print(np.mean(df['J2_fwd'][df['onTime']==tms].values))\n",
    "#    x=np.append(x,tms)\n",
    "#    y1=np.append(y1,np.median(df['J2_fwd'][df['J2onTime']==tms].values))\n",
    "#    y2=np.append(y2,np.median(df['J2_rev'][df['J2onTime']==tms].values))\n",
    "\n",
    "#slope, intercept, r_value, p_value, std_err = stats.linregress(x[:8],y1[:8])\n",
    "#fit=np.polyfit(x, y*100, 1)\n",
    "#print(fit)\n",
    "\n",
    "#q = figure(tools=TOOLS, x_range=[phirange[0]-10, phirange[-1]+10], y_range=[-1.5,1.5],plot_height=500, plot_width=1000)\n",
    "#q.circle(x=df['J2onTime'], y=df['J2_fwd'],radius=0.3,\\\n",
    "#        color='red',fill_color=None)\n",
    "#q.circle(x=x,y=y1, radius=0.5, color='blue')\n",
    "#legendtext=f'Y={slope:.8f}X{intercept:.2f}'\n",
    "#q.line(x=x[:8], y=x[:8]*slope+intercept,color='blue',line_width=3, legend=legendtext)\n",
    "\n",
    "#slope, intercept, r_value, p_value, std_err = stats.linregress(x[:8],y2[:8])\n",
    "#fit=np.polyfit(x, y*100, 1)\n",
    "#q.circle(x=df['J2onTime'], y=df['J2_rev'],radius=0.3,\\\n",
    "#        color='green',fill_color=None)\n",
    "#q.circle(x=x,y=y2, radius=0.5, color='#3B0F6F')\n",
    "#legendtext=f'Y={slope:.8f}X+{intercept:.2f}'\n",
    "#q.line(x=x[:8], y=x[:8]*slope+intercept,color='#3B0F6F',line_width=3, legend=legendtext)\n",
    "\n",
    "output_file(\"phi.html\")\n",
    "save(column(p1,p2,p3,p4,p5,p6), filename=\"phi.html\",title='Phi On-time')\n"
   ]
  },
  {
   "cell_type": "code",
   "execution_count": 42,
   "metadata": {},
   "outputs": [
    {
     "name": "stdout",
     "output_type": "stream",
     "text": [
      "2\n",
      "3\n",
      "4\n",
      "5\n",
      "6\n",
      "7\n",
      "8\n",
      "9\n",
      "10\n",
      "11\n",
      "12\n",
      "13\n",
      "14\n",
      "15\n",
      "16\n",
      "17\n",
      "18\n",
      "19\n",
      "20\n",
      "21\n",
      "22\n",
      "23\n",
      "24\n",
      "25\n",
      "26\n",
      "27\n",
      "28\n",
      "29\n",
      "30\n",
      "31\n",
      "32\n",
      "33\n",
      "34\n",
      "35\n",
      "36\n",
      "37\n",
      "38\n",
      "39\n",
      "40\n",
      "41\n",
      "42\n",
      "43\n",
      "44\n",
      "45\n",
      "46\n",
      "47\n",
      "48\n",
      "49\n",
      "50\n",
      "51\n",
      "52\n",
      "53\n",
      "54\n",
      "56\n",
      "57\n"
     ]
    },
    {
     "name": "stderr",
     "output_type": "stream",
     "text": [
      "/opt/local/Library/Frameworks/Python.framework/Versions/3.7/lib/python3.7/site-packages/ipykernel_launcher.py:6: RuntimeWarning: divide by zero encountered in true_divide\n",
      "  \n",
      "/opt/local/Library/Frameworks/Python.framework/Versions/3.7/lib/python3.7/site-packages/ipykernel_launcher.py:7: RuntimeWarning: divide by zero encountered in true_divide\n",
      "  import sys\n",
      "/opt/local/Library/Frameworks/Python.framework/Versions/3.7/lib/python3.7/site-packages/ipykernel_launcher.py:9: RuntimeWarning: divide by zero encountered in true_divide\n",
      "  if __name__ == '__main__':\n",
      "/opt/local/Library/Frameworks/Python.framework/Versions/3.7/lib/python3.7/site-packages/ipykernel_launcher.py:10: RuntimeWarning: divide by zero encountered in true_divide\n",
      "  # Remove the CWD from sys.path while we load stuff.\n"
     ]
    }
   ],
   "source": [
    "otm = ontimeModel()\n",
    "otm.buildPhiModelfromDataFrame(df, visibleFibers=visibles)\n",
    "\n",
    "fwd_target = np.zeros(len(otm.j2fwd_int))+0.075\n",
    "rev_target = np.zeros(len(otm.j2fwd_int))-0.075\n",
    "newOntimeSlowFwd2 = (fwd_target-otm.j2fwd_int)/otm.j2fwd_slope\n",
    "newOntimeSlowRev2 = (rev_target-otm.j2rev_int)/otm.j2rev_slope\n",
    "\n",
    "newOntimeFwd2 = ((3.0*fwd_target)-otm.j2fwd_int)/otm.j2fwd_slope\n",
    "newOntimeRev2 = ((3.0*rev_target)-otm.j2rev_int)/otm.j2rev_slope\n",
    "\n",
    "\n",
    "ind = np.where(newOntimeFwd2 > 80)\n",
    "newOntimeFwd2[ind] = 80\n",
    "\n",
    "ind = np.where(newOntimeRev2 > 80)\n",
    "newOntimeRev2[ind] = 80\n",
    "\n",
    "\n",
    "#newOntimeRev2[18]=60\n",
    "#newOntimeFwd2 = otm.getTargetOnTime(0.07,otm.j2fwd_slope, model.motorOntimeFwd2 ,j2fwd_avg)\n",
    "#newOntimeRev2 = otm.getTargetOnTime(-0.07,otm.j2rev_slope, model.motorOntimeRev2 ,j2rev_avg)\n"
   ]
  },
  {
   "cell_type": "code",
   "execution_count": 44,
   "metadata": {},
   "outputs": [
    {
     "data": {
      "text/plain": [
       "array([ 0.        , -0.0433988 , -0.17148214, -0.03896916, -0.04644228,\n",
       "       -0.04362485, -0.03134307, -0.09156482, -0.04737614, -0.12273999,\n",
       "       -0.07483309, -0.09599503, -0.03544106, -0.04318941, -0.04489369,\n",
       "       -0.03596415, -0.10413995, -0.05917015, -0.10767235, -0.04110776,\n",
       "       -0.04401784, -0.03637029, -0.07740159, -0.05514218, -0.03726653,\n",
       "       -0.07639382, -0.0306133 , -0.03140808, -0.04617502, -0.02567104,\n",
       "       -0.04328229, -0.03299096, -0.08337725, -0.10555057, -0.13841623,\n",
       "       -0.03766071, -0.03115528, -0.05261221, -0.03273543, -0.10977697,\n",
       "       -0.05114718, -0.10986519, -0.03926388, -0.07365443, -0.03158449,\n",
       "       -0.02167136, -0.02521508, -0.08462458, -0.04381696, -0.04127367,\n",
       "       -0.11752036, -0.03665207, -0.02589751, -0.02830212,  0.        ,\n",
       "       -0.09036763, -0.03498056])"
      ]
     },
     "execution_count": 44,
     "metadata": {},
     "output_type": "execute_result"
    }
   ],
   "source": [
    "otm.j2fwd_int"
   ]
  },
  {
   "cell_type": "code",
   "execution_count": 45,
   "metadata": {},
   "outputs": [
    {
     "data": {
      "text/plain": [
       "(array([        inf, 16.62654193, 20.50157934, 16.57352187, 16.66242508,\n",
       "        17.75211576, 24.03327843, 22.01991781, 23.8234997 , 21.17699564,\n",
       "        12.72816974, 14.71236092, 15.42702585, 17.98786147, 16.12165536,\n",
       "        12.4278437 , 22.03864579, 15.20825905, 21.04662113, 18.09791263,\n",
       "        13.97369378, 16.59632687, 15.55045502, 26.06955688, 11.87674739,\n",
       "        25.99073717, 13.42895563, 15.97577054, 15.94841262, 17.90827367,\n",
       "        19.49621104, 18.15538855, 31.38691845, 13.30265771, 20.28325326,\n",
       "        17.4406736 , 13.15987438, 18.54901094, 20.91010032, 20.18289684,\n",
       "        17.50134689, 24.19856606, 12.43008851, 13.92398764, 16.67167244,\n",
       "        21.12436436, 31.42842755, 11.67032494, 25.74262921, 18.77848836,\n",
       "        18.68906673, 18.02869437, 16.55829621, 17.12742755,         inf,\n",
       "        25.87556925, 17.97185028]),\n",
       " array([       -inf, 16.30796649, 18.98313575, 17.25635441, 15.25873231,\n",
       "        20.34275536, 37.00979846, 26.99634744, 24.56696655, 21.3824241 ,\n",
       "        11.55246102, 15.19257938, 17.07181093, 18.12211949, 14.37891607,\n",
       "        14.88609584, 20.25952998, 14.6918895 , 23.20360284, 18.43898644,\n",
       "        12.59399918, 18.47955652, 16.97106374, 26.61217965, 13.50406247,\n",
       "        25.44810499, 16.78905589, 15.02731956, 21.02698965, 19.17895107,\n",
       "        17.98318217, 16.51548621, 27.30362835, 15.05130234, 19.36484751,\n",
       "        23.21199096, 12.66087412, 19.4271851 , 22.10257906, 20.1171445 ,\n",
       "        17.12767356, 25.40154723, 15.29935173, 15.03395009, 17.10823734,\n",
       "        22.03524168, 27.25411472, 12.58804969, 24.05933017, 22.0858542 ,\n",
       "        20.2570298 , 20.03061673, 14.93386337, 17.64328317,        -inf,\n",
       "        27.72305809, 20.43950197]))"
      ]
     },
     "execution_count": 45,
     "metadata": {},
     "output_type": "execute_result"
    }
   ],
   "source": [
    "newOntimeSlowFwd2, newOntimeSlowRev2"
   ]
  },
  {
   "cell_type": "code",
   "execution_count": 13,
   "metadata": {},
   "outputs": [
    {
     "data": {
      "text/plain": [
       "(array([37.69078682, 32.97808955, 38.38668854, 37.24309762, 40.19949892,\n",
       "        57.93291711, 41.84996153, 53.02465779, 37.24126941, 25.47051818,\n",
       "        27.61831574, 36.37986681, 40.81714303, 36.29159315, 29.22765236,\n",
       "        40.49235695, 32.21083955, 38.32889263, 41.47866659, 31.58495374,\n",
       "        38.94922666, 30.85586133, 56.11695334, 27.74534301, 51.74218837,\n",
       "        32.50177505, 38.49629248, 35.69061533, 44.59162891, 44.22038215,\n",
       "        43.3733171 , 61.11364889, 24.35440176, 34.53937624, 40.66173288,\n",
       "        31.75509726, 40.3521882 , 50.02322491, 36.56716055, 38.31197541,\n",
       "        43.83333241, 28.74769673, 27.97401092, 40.13428859, 53.90195883,\n",
       "        78.46989426, 22.6369868 , 58.24131012, 43.00386266, 33.25043557,\n",
       "        42.24951034, 41.17480579, 41.99733433, 49.34651947, 42.48324958]),\n",
       " array([36.6543751 , 30.74244299, 41.3511419 , 33.73230966, 45.40802737,\n",
       "        80.        , 54.74602279, 56.21447745, 39.56073294, 27.79327348,\n",
       "        30.72536448, 41.63608672, 42.13925235, 32.39740875, 31.43548075,\n",
       "        35.88109171, 25.92835897, 46.61305464, 42.4287109 , 27.99937942,\n",
       "        44.532284  , 34.45728668, 58.68747489, 29.92124573, 53.92638288,\n",
       "        30.81349658, 37.09197217, 50.21004284, 47.26867608, 38.87041293,\n",
       "        37.83217599, 51.65914253, 29.36631881, 32.52421197, 58.74778798,\n",
       "        27.85327149, 42.10679541, 53.38309243, 36.98214701, 36.99051126,\n",
       "        50.86095245, 33.90143294, 30.03909175, 42.39622277, 55.08472294,\n",
       "        70.86923814, 23.14642282, 51.22587696, 51.22110519, 36.5589146 ,\n",
       "        47.75433024, 35.50218638, 40.66704342, 55.53268282, 48.92146949]))"
      ]
     },
     "execution_count": 13,
     "metadata": {},
     "output_type": "execute_result"
    }
   ],
   "source": [
    "newOntimeFwd2, newOntimeRev2"
   ]
  },
  {
   "cell_type": "code",
   "execution_count": null,
   "metadata": {},
   "outputs": [],
   "source": [
    "newOntimeFwd2"
   ]
  },
  {
   "cell_type": "code",
   "execution_count": 49,
   "metadata": {},
   "outputs": [],
   "source": [
    "initXML = '/Volumes/GoogleDrive/My Drive/PFS/CobraModuleTestResult/Science15/XML/Science15_converted.xml'\n",
    "newXML = '/Volumes/GoogleDrive/My Drive/PFS/CobraModuleTestResult/Science15/XML/Science15_phiopt_20190731.xml'\n",
    "#pfi = pfiControl.PFI(fpgaHost='localhost', doConnect=False) #'fpga' for real device.\n",
    "#pfi.loadModel(initXML)\n",
    "\n",
    "model=pfiDesign.PFIDesign(initXML)\n",
    "phiTable = 'phiOntime.csv'\n",
    "\n",
    "OntimeFwd2=model.motorOntimeFwd2\n",
    "OntimeRev2=model.motorOntimeRev2\n",
    "\n",
    "SlowOntimeFwd2=model.motorOntimeSlowFwd2\n",
    "SlowOntimeRev2=model.motorOntimeSlowRev2\n",
    "\n",
    "OntimeFwd2[goodIdx] = newOntimeFwd2[goodIdx]/1000.0\n",
    "OntimeRev2[goodIdx] = newOntimeRev2[goodIdx]/1000.0\n",
    "\n",
    "SlowOntimeFwd2[goodIdx] = newOntimeSlowFwd2[goodIdx]/1000.0\n",
    "SlowOntimeRev2[goodIdx] = newOntimeSlowRev2[goodIdx]/1000.0\n",
    "\n",
    "pid=range(len(OntimeFwd2))\n",
    "j2fwd_int = np.zeros(len(OntimeFwd2))\n",
    "j2fwd_int[goodIdx] = otm.j2fwd_int[goodIdx]\n",
    "\n",
    "j2fwd_slope = np.zeros(len(OntimeFwd2))\n",
    "j2fwd_slope[goodIdx] = otm.j2fwd_slope[goodIdx]\n",
    "\n",
    "\n",
    "j2rev_int = np.zeros(len(OntimeRev2))\n",
    "j2rev_int[goodIdx] = otm.j2rev_int[goodIdx]\n",
    "j2rev_slope = np.zeros(len(OntimeRev2))\n",
    "j2rev_slope[goodIdx] = otm.j2rev_slope[goodIdx]\n",
    "\n",
    "\n",
    "\n",
    "t=Table([pid, model.motorOntimeFwd2, j2fwd_int, j2fwd_slope, SlowOntimeFwd2,\n",
    "         model.motorOntimeRev2,j2rev_int, j2rev_slope, SlowOntimeRev2],\n",
    "         names=('Fiber No','Ori Fwd OT', 'FWD int', 'FWD slope', 'New Fwd OT',\n",
    "                'Ori Rev OT', 'REV int', 'REV slope', 'New Rev OT'),\n",
    "         dtype=('i2','f4', 'f4', 'f4','f4', 'f4', 'f4', 'f4', 'f4'))\n",
    "t.write(phiTable,format='ascii.ecsv',overwrite=True, \n",
    "        formats={'Fiber No':'%i','Ori Fwd OT': '%10.5f', 'FWD int': '%10.5f', 'FWD slope': '%10.5f', 'New Fwd OT': '%10.5f',\\\n",
    "        'Ori Rev OT': '%10.5f', 'REV int': '%10.5f', 'REV slope': '%10.5f', 'New Rev OT': '%10.5f'})\n",
    "\n",
    "\n",
    "\n",
    "model.updateOntimes(phiFwd=SlowOntimeFwd2, phiRev=SlowOntimeRev2, fast=False)\n",
    "model.updateOntimes(phiFwd=OntimeFwd2, phiRev=OntimeRev2, fast=True)\n",
    "\n",
    "model.createCalibrationFile(newXML)"
   ]
  },
  {
   "cell_type": "code",
   "execution_count": 43,
   "metadata": {},
   "outputs": [
    {
     "data": {
      "text/plain": [
       "57"
      ]
     },
     "execution_count": 43,
     "metadata": {},
     "output_type": "execute_result"
    }
   ],
   "source": [
    "len(otm.j2fwd_int)# , , otm.j2fwd_slope, SlowOntimeFwd2,\n",
    "        # model.motorOntimeRev2,otm.j2rev_int, otm.j2rev_slope, SlowOntimeRev2)"
   ]
  },
  {
   "cell_type": "code",
   "execution_count": null,
   "metadata": {},
   "outputs": [],
   "source": [
    "arm='phi'\n",
    "repeat = 3\n",
    "    \n",
    "for tms in tarray:\n",
    "    for n in range(repeat):\n",
    "        phi_list = glob.glob(path+f'{tms:0>4d}/{arm}*{n}.fits.gz')\n",
    "        #print(path+f'{tms:0>4d}/{arm}*{n}.fits.gz')\n",
    "        a = 1000.0\n",
    "            \n",
    "        fig=plt.figure(figsize=(10, 10))\n",
    "        columns = 1\n",
    "        rows = len(phi_list)\n",
    "\n",
    "        ax = []\n",
    "        i = 0\n",
    "        for f in phi_list:\n",
    "            hdu = fits.open(f)\n",
    "            maxi = 0.5*np.max(hdu[0].data)\n",
    "            image = np.log10(a*(hdu[0].data/maxi)+1)/np.log10(a)\n",
    "            #image = hdu[0].data\n",
    "            basename = os.path.basename(f)\n",
    "\n",
    "            xsize = [0,2500]\n",
    "            ysize = [700, 1100]\n",
    "\n",
    "\n",
    "            ax.append( fig.add_subplot(rows, columns, i+1) )\n",
    "            if i < len(phi_list)-1:\n",
    "                ax[-1].get_xaxis().set_ticks([])\n",
    "            ax[-1].set_title(basename, fontsize = 10)\n",
    "            plt.imshow(image[ysize[0]:ysize[1],xsize[0]:xsize[1]],cmap='gray')\n",
    "            i=i+1\n",
    "\n",
    "        plt.savefig(path+f'{tms:0>4d}/{arm}{tms}Stacked{n}.png')"
   ]
  },
  {
   "cell_type": "code",
   "execution_count": null,
   "metadata": {},
   "outputs": [],
   "source": [
    "%matplotlib qt\n",
    "fitsfile='/Volumes/Disk/Data/20190530/phi/0015/phi1ForwardStack0.fits.gz'\n",
    "hdu = fits.open(fitsfile)\n",
    "image = np.log10(a*(hdu[0].data/maxi)+1)/np.log10(a)\n",
    "xsize = [0,2500]\n",
    "ysize = [700, 1100]\n",
    "plt.imshow(image[ysize[0]:ysize[1],xsize[0]:xsize[1]],cmap='gray')\n",
    "plt.show()"
   ]
  },
  {
   "cell_type": "code",
   "execution_count": null,
   "metadata": {},
   "outputs": [],
   "source": [
    "dd=df.loc[df['fiberNo'] == 32]\n",
    "dd\n",
    "x = range(10,50)\n",
    "y_predicted = [otm.j2fwd_slope[31]*i + otm.j2fwd_int[31]  for i in x]"
   ]
  },
  {
   "cell_type": "code",
   "execution_count": null,
   "metadata": {},
   "outputs": [],
   "source": [
    "newOntimeFwd2"
   ]
  },
  {
   "cell_type": "code",
   "execution_count": null,
   "metadata": {},
   "outputs": [],
   "source": [
    "p=figure()\n",
    "p.circle(x=newOntimeFwd2[31],y=[0.07],color='red')\n",
    "p.circle(x=dd['J2onTime'],y=dd['J2_fwd'])\n",
    "p.line(x,y_predicted,color='red')\n",
    "show(p)"
   ]
  },
  {
   "cell_type": "code",
   "execution_count": 33,
   "metadata": {},
   "outputs": [],
   "source": [
    "xml='/Volumes/GoogleDrive/My Drive/PFS/CobraModuleTestResult/Science15/XML/Science15_converted.xml'\n",
    "calibModel = pfiDesign.PFIDesign(xml)\n",
    "speed_fwd = np.load('/Volumes/GoogleDrive/My Drive/PFS/CobraData/20190610/phiSpeedFW_A.npy')\n",
    "speed_rev = np.load('/Volumes/GoogleDrive/My Drive/PFS/CobraData/20190610/phiSpeedRV_A.npy')"
   ]
  },
  {
   "cell_type": "code",
   "execution_count": null,
   "metadata": {},
   "outputs": [],
   "source": [
    "calibModel.motorOntimeSlowFwd2"
   ]
  },
  {
   "cell_type": "code",
   "execution_count": null,
   "metadata": {},
   "outputs": [],
   "source": [
    "speed_fwd"
   ]
  },
  {
   "cell_type": "code",
   "execution_count": 68,
   "metadata": {},
   "outputs": [],
   "source": [
    "def plotBestPhiOnTimeFwd(DataFrame, OntimeModel, fiberNo):\n",
    "    TOOLS = ['pan','box_zoom','wheel_zoom', 'save' ,'reset','hover']\n",
    "\n",
    "    title_string=f\"Fiber {fiberNo+1} Phi Fwd\"\n",
    "    p = figure(tools=TOOLS, x_range=[0,50], y_range=[0,0.4],\n",
    "               plot_height=400, plot_width=500,title=title_string)\n",
    "    p.xaxis.axis_label = 'On Time'\n",
    "    p.yaxis.axis_label = 'Speed'\n",
    "    dd=df.loc[df['fiberNo'] == fiberNo+1]\n",
    "\n",
    "    newOntimeFwd2 = (0.075-otm.j2fwd_int[fiberNo])/otm.j2fwd_slope[fiberNo]\n",
    "    print(newOntimeFwd2)\n",
    "\n",
    "    x = range(10,50)\n",
    "    y_predicted = [otm.j2fwd_slope[fiberNo]*i + otm.j2fwd_int[fiberNo]  for i in x]\n",
    "    p.circle(x=newOntimeFwd2,y=[0.075],color='red', fill_color=None, radius=1.0)\n",
    "    #if calibModel is not None:\n",
    "    #    p.circle(x=calibModel.motorOntimeSlowFwd2[fiberNo-1]*1000.0,y=speed_fwd[fiberNo-1]*180/math.pi,\n",
    "    #             color='blue', fill_color=None, radius=1.0)\n",
    "\n",
    "    p.circle(x=dd['J2onTimeFwd'],y=dd['J2_fwd'])\n",
    "    p.line(x,y_predicted,color='red')\n",
    "    \n",
    "    return p\n",
    "\n",
    "def plotBestPhiOnTimeRev(DataFrame, OntimeModel, calibModel, speed_rev, fiberNo):\n",
    "    TOOLS = ['pan','box_zoom','wheel_zoom', 'save' ,'reset','hover']\n",
    "\n",
    "    title_string=f\"Fiber {fiberNo} Phi Rev\"\n",
    "    p = figure(tools=TOOLS, x_range=[0,50], y_range=[-0.4,0],\n",
    "               plot_height=400, plot_width=500,title=title_string)\n",
    "    p.xaxis.axis_label = 'On Time'\n",
    "    p.yaxis.axis_label = 'Speed'\n",
    "    dd=df.loc[df['fiberNo'] == fiberNo]\n",
    "\n",
    "    newOntimeRev2 = (-0.075-otm.j2rev_int[fiberNo-1])/otm.j2rev_slope[fiberNo-1]\n",
    "\n",
    "\n",
    "    x = range(10,50)\n",
    "    y_predicted = [otm.j2rev_slope[fiberNo-1]*i + otm.j2rev_int[fiberNo-1]  for i in x]\n",
    "    p.circle(x=newOntimeRev2,y=[-0.07],color='red', fill_color=None, radius=1.0)\n",
    "    p.circle(x=calibModel.motorOntimeSlowRev2[fiberNo-1]*1000.0,y=-speed_rev[fiberNo-1]*180/math.pi,\n",
    "             color='blue', fill_color=None, radius=1.0)\n",
    "\n",
    "    p.circle(x=dd['J2onTimeRev'],y=dd['J2_rev'])\n",
    "    p.line(x,y_predicted,color='red')\n",
    "    \n",
    "    return p\n",
    "\n",
    "\n"
   ]
  },
  {
   "cell_type": "code",
   "execution_count": 69,
   "metadata": {},
   "outputs": [
    {
     "name": "stdout",
     "output_type": "stream",
     "text": [
      "16.6265419255057\n",
      "20.5015793423024\n",
      "16.57352187055105\n",
      "16.662425084618192\n",
      "17.752115761815897\n",
      "24.033278430603254\n",
      "22.019917807214316\n",
      "23.823499696195444\n",
      "21.17699563761112\n",
      "12.728169742404173\n",
      "14.712360915714127\n",
      "15.427025849912594\n",
      "17.987861470919693\n",
      "16.12165536156938\n",
      "12.427843700353748\n",
      "22.03864578911963\n",
      "15.208259050738398\n",
      "21.046621132795767\n",
      "18.09791263415628\n",
      "13.973693780762293\n",
      "16.59632686886517\n",
      "15.550455018531329\n",
      "26.069556882458166\n",
      "11.876747394520065\n",
      "25.99073717378375\n",
      "13.428955633254038\n",
      "15.975770542642836\n",
      "15.948412615513464\n",
      "17.908273674912333\n",
      "19.496211035705674\n",
      "18.15538854937521\n",
      "31.386918451403492\n",
      "13.30265771199681\n",
      "20.283253261306225\n",
      "17.44067359783159\n",
      "13.15987438469563\n",
      "18.549010942779073\n",
      "20.91010032058129\n",
      "20.182896836801444\n",
      "17.501346889717663\n",
      "24.198566056101466\n",
      "12.43008850527386\n",
      "13.923987643313128\n",
      "16.671672440506164\n",
      "21.124364356101978\n",
      "31.42842754993359\n",
      "11.670324941821496\n",
      "25.742629207943914\n",
      "18.778488355377934\n",
      "18.689066725638757\n",
      "18.028694374884534\n",
      "16.558296206375374\n",
      "17.127427550061757\n",
      "25.87556924951149\n",
      "17.971850275740692\n"
     ]
    }
   ],
   "source": [
    "parray=[]\n",
    "\n",
    "for f in goodIdx:\n",
    "    p=plotBestPhiOnTimeFwd(df, otm,  f)\n",
    "    parray.append(p)\n",
    "\n",
    "grid = gridplot(parray, ncols=3, plot_width=400, plot_height=400)\n",
    "show(grid)"
   ]
  },
  {
   "cell_type": "code",
   "execution_count": null,
   "metadata": {},
   "outputs": [],
   "source": [
    "parray=[]\n",
    "\n",
    "for f in goodIdx:\n",
    "    p=plotBestPhiOnTimeRev(df, otm, calibModel, speed_rev,  f+1)\n",
    "    parray.append(p)\n",
    "\n",
    "grid = gridplot(parray, ncols=3, plot_width=400, plot_height=400)\n",
    "show(grid)"
   ]
  },
  {
   "cell_type": "code",
   "execution_count": 65,
   "metadata": {},
   "outputs": [
    {
     "data": {
      "text/plain": [
       "array([0.025332  , 0.01662654, 0.02050158, 0.01657352, 0.01666243,\n",
       "       0.01775212, 0.02403328, 0.02201992, 0.0238235 , 0.021177  ,\n",
       "       0.01272817, 0.01471236, 0.01542703, 0.01798786, 0.01612166,\n",
       "       0.01242784, 0.02203865, 0.01520826, 0.02104662, 0.01809791,\n",
       "       0.01397369, 0.01659633, 0.01555046, 0.02606956, 0.01187675,\n",
       "       0.02599074, 0.01342896, 0.01597577, 0.01594841, 0.01790827,\n",
       "       0.01949621, 0.01815539, 0.03138692, 0.01330266, 0.02028325,\n",
       "       0.01744067, 0.01315987, 0.01854901, 0.0209101 , 0.0201829 ,\n",
       "       0.01750135, 0.02419857, 0.01243009, 0.01392399, 0.01667167,\n",
       "       0.02112436, 0.03142843, 0.01167032, 0.02574263, 0.01877849,\n",
       "       0.01868907, 0.01802869, 0.0165583 , 0.01712743, 0.021285  ,\n",
       "       0.02587557, 0.01797185])"
      ]
     },
     "execution_count": 65,
     "metadata": {},
     "output_type": "execute_result"
    }
   ],
   "source": [
    "SlowOntimeFwd2"
   ]
  },
  {
   "cell_type": "code",
   "execution_count": null,
   "metadata": {},
   "outputs": [],
   "source": []
  }
 ],
 "metadata": {
  "kernelspec": {
   "display_name": "Python 3",
   "language": "python",
   "name": "python3"
  },
  "language_info": {
   "codemirror_mode": {
    "name": "ipython",
    "version": 3
   },
   "file_extension": ".py",
   "mimetype": "text/x-python",
   "name": "python",
   "nbconvert_exporter": "python",
   "pygments_lexer": "ipython3",
   "version": "3.6.5"
  }
 },
 "nbformat": 4,
 "nbformat_minor": 2
}
