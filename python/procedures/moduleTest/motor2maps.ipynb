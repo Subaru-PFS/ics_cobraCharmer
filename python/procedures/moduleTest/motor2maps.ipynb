{
 "cells": [
  {
   "cell_type": "code",
   "execution_count": null,
   "metadata": {},
   "outputs": [],
   "source": [
    "import numpy as np\n",
    "import matplotlib.pyplot as plt\n",
    "from astropy.io import fits\n",
    "from matplotlib.backends.backend_pdf import PdfPages\n",
    "from matplotlib.ticker import NullFormatter\n",
    "\n",
    "np.set_printoptions(precision=4, suppress=True)"
   ]
  },
  {
   "cell_type": "code",
   "execution_count": null,
   "metadata": {},
   "outputs": [],
   "source": [
    "# define the broken/good cobras\n",
    "#brokens = [1, 2, 39, 43, 54]\n",
    "brokens = [1,39,43,54]\n",
    "visibles= [e for e in range(1,58) if e not in brokens]\n",
    "badIdx = np.array(brokens) - 1\n",
    "goodIdx = np.array(visibles) - 1\n",
    "mod = 'SP01'\n",
    "\n",
    "# two groups for two cameras\n",
    "cam_split = 28\n",
    "group1 = goodIdx[goodIdx <= cam_split]\n",
    "group2 = goodIdx[goodIdx > cam_split]"
   ]
  },
  {
   "cell_type": "code",
   "execution_count": null,
   "metadata": {},
   "outputs": [],
   "source": [
    "path = '/data/MCS/20201204_017/data/'\n",
    "centers = np.load(path + 'phiCenter.npy')\n",
    "radius = np.load(path + 'phiRadius.npy')\n",
    "fw = np.load(path + 'phiFW.npy')\n",
    "rv = np.load(path + 'phiRV.npy')\n",
    "af = np.load(path + 'phiAngFW.npy')\n",
    "ar = np.load(path + 'phiAngRV.npy')\n",
    "sf = np.load(path + 'phiSpeedFW.npy')\n",
    "sr = np.load(path + 'phiSpeedRV.npy')\n",
    "mf = np.load(path + 'phiMMFW.npy')\n",
    "mr = np.load(path + 'phiMMRV.npy')\n",
    "badM = np.load(path + 'badMotorMap.npy')\n",
    "badR = np.load(path + 'badRange.npy')\n",
    "steps = int(np.load(path + 'steps.npy'))\n",
    "ontime = np.load(path + 'ontime.npy')"
   ]
  },
  {
   "cell_type": "code",
   "execution_count": null,
   "metadata": {},
   "outputs": [],
   "source": []
  },
  {
   "cell_type": "code",
   "execution_count": null,
   "metadata": {},
   "outputs": [],
   "source": []
  },
  {
   "cell_type": "code",
   "execution_count": null,
   "metadata": {},
   "outputs": [],
   "source": [
    "badM, badR"
   ]
  },
  {
   "cell_type": "code",
   "execution_count": null,
   "metadata": {},
   "outputs": [],
   "source": [
    "plt.figure(1, figsize=(16,10))\n",
    "plt.clf()\n",
    "\n",
    "plt.subplot(211)\n",
    "ax = plt.gca()\n",
    "\n",
    "ax.plot(centers[group1].real, centers[group1].imag, 'ro')\n",
    "ax.axis('equal')\n",
    "for idx in group1:\n",
    "    c = plt.Circle((centers[idx].real, centers[idx].imag), radius[idx], color='g', fill=False)\n",
    "    ax.add_artist(c)\n",
    "ax.set_title(f'1st camera')\n",
    "\n",
    "plt.subplot(212)\n",
    "ax = plt.gca()\n",
    "\n",
    "ax.plot(centers[group2].real, centers[group2].imag, 'ro')\n",
    "ax.axis('equal')\n",
    "for idx in group2:\n",
    "    c = plt.Circle((centers[idx].real, centers[idx].imag), radius[idx], color='g', fill=False)\n",
    "    ax.add_artist(c)\n",
    "ax.set_title(f'2nd camera')\n",
    "\n",
    "plt.show()"
   ]
  },
  {
   "cell_type": "code",
   "execution_count": null,
   "metadata": {},
   "outputs": [],
   "source": [
    "plt.figure(2, figsize=(16,10))\n",
    "plt.clf()\n",
    "\n",
    "plt.subplot(211)\n",
    "ax = plt.gca()\n",
    "ax.axis('equal')\n",
    "\n",
    "for n in range(fw.shape[1]):\n",
    "    for k in group1:\n",
    "        if k % 3 == 0:\n",
    "            c = 'r'\n",
    "            d = 'c'\n",
    "        elif k % 3 == 1:\n",
    "            c = 'g'\n",
    "            d = 'm'\n",
    "        else:\n",
    "            c = 'b'\n",
    "            d = 'y'\n",
    "        ax.plot(fw[k][n,0].real, fw[k][n,0].imag, c + 'o')\n",
    "        ax.plot(rv[k][n,0].real, rv[k][n,0].imag, d + 's')\n",
    "        ax.plot(fw[k][n,1:].real, fw[k][n,1:].imag, c + '.')\n",
    "        ax.plot(rv[k][n,1:].real, rv[k][n,1:].imag, d + '.')\n",
    "\n",
    "plt.subplot(212)\n",
    "ax = plt.gca()\n",
    "ax.axis('equal')\n",
    "\n",
    "for n in range(fw.shape[1]):\n",
    "    for k in group2:\n",
    "        if k % 3 == 0:\n",
    "            c = 'r'\n",
    "            d = 'c'\n",
    "        elif k % 3 == 1:\n",
    "            c = 'g'\n",
    "            d = 'm'\n",
    "        else:\n",
    "            c = 'b'\n",
    "            d = 'y'\n",
    "        ax.plot(fw[k][n,0].real, fw[k][n,0].imag, c + 'o')\n",
    "        ax.plot(rv[k][n,0].real, rv[k][n,0].imag, d + 's')\n",
    "        ax.plot(fw[k][n,1:].real, fw[k][n,1:].imag, c + '.')\n",
    "        ax.plot(rv[k][n,1:].real, rv[k][n,1:].imag, d + '.')\n",
    "\n",
    "plt.show()"
   ]
  },
  {
   "cell_type": "code",
   "execution_count": null,
   "metadata": {},
   "outputs": [],
   "source": [
    "plt.figure(figsize=(16,16))\n",
    "ax = plt.gca()\n",
    "ax.axis('equal')\n",
    "k = 54\n",
    "ax.set_title(f'Cobra #{k}')\n",
    "\n",
    "c = plt.Circle((centers[k].real, centers[k].imag), radius[k], fill=False)\n",
    "ax.add_artist(c)\n",
    "\n",
    "for n in range(fw.shape[1]):\n",
    "    c = 'r'\n",
    "    d = 'b'\n",
    "    ax.plot(fw[k][n,0].real, fw[k][n,0].imag, c + 'x')\n",
    "    ax.plot(rv[k][n,0].real, rv[k][n,0].imag, d + '+')\n",
    "    ax.plot(fw[k][n,1:].real, fw[k][n,1:].imag, c + '.')\n",
    "    ax.plot(rv[k][n,1:].real, rv[k][n,1:].imag, d + '.')"
   ]
  },
  {
   "cell_type": "code",
   "execution_count": null,
   "metadata": {},
   "outputs": [],
   "source": [
    "with PdfPages(f'pdf/{mod}_phi_measure.pdf') as pdf:\n",
    "    for k in range(57):\n",
    "        fig = plt.figure(figsize=(16,16))\n",
    "        ax = plt.gca()\n",
    "        ax.axis('equal')\n",
    "        ax.set_title(f'Cobra #{k+1}')\n",
    "\n",
    "        c = plt.Circle((centers[k].real, centers[k].imag), radius[k], fill=False)\n",
    "        ax.add_artist(c)\n",
    "\n",
    "        for n in range(fw.shape[1]):\n",
    "            c = 'r'\n",
    "            d = 'b'\n",
    "            ax.plot(fw[k][n,0].real, fw[k][n,0].imag, c + 'x')\n",
    "            ax.plot(rv[k][n,0].real, rv[k][n,0].imag, d + '+')\n",
    "            ax.plot(fw[k][n,1:].real, fw[k][n,1:].imag, c + '.')\n",
    "            ax.plot(rv[k][n,1:].real, rv[k][n,1:].imag, d + '.')\n",
    "\n",
    "        pdf.savefig(fig)\n",
    "        plt.close()"
   ]
  },
  {
   "cell_type": "code",
   "execution_count": null,
   "metadata": {},
   "outputs": [],
   "source": []
  },
  {
   "cell_type": "code",
   "execution_count": null,
   "metadata": {},
   "outputs": [],
   "source": [
    "with PdfPages(f'pdf/{mod}_phi_{steps}.pdf') as pdf:\n",
    "    for c in goodIdx:\n",
    "        fig = plt.figure(figsize=(16,6))\n",
    "        ax = plt.gca()\n",
    "        ax.set_title(f'Cobra {mod} #{c+1} PHI @ {steps}steps')\n",
    "        for n in range(af.shape[1]):\n",
    "            ax.plot(np.rad2deg(af[c,n,:-1]), np.rad2deg(af[c,n,1:]-af[c,n,:-1])/steps, '.')\n",
    "            ax.plot(np.rad2deg(ar[c,n,1:]), np.rad2deg(ar[c,n,1:]-ar[c,n,:-1])/steps, '.')\n",
    "            ax.plot([0,190], [0,0], 'r')\n",
    "        pdf.savefig(fig)\n",
    "        plt.close()"
   ]
  },
  {
   "cell_type": "code",
   "execution_count": null,
   "metadata": {
    "scrolled": true
   },
   "outputs": [],
   "source": [
    "for c in goodIdx:\n",
    "    fig = plt.figure(figsize=(16,6))\n",
    "    ax = plt.gca()\n",
    "    ax.set_title(f'Cobra {mod} #{c+1} PHI @ {steps}steps')\n",
    "    for n in range(af.shape[1]):\n",
    "        ax.plot(np.rad2deg(af[c,n,:-1]), np.rad2deg(af[c,n,1:]-af[c,n,:-1])/steps, '.')\n",
    "        ax.plot(np.rad2deg(ar[c,n,1:]), np.rad2deg(ar[c,n,1:]-ar[c,n,:-1])/steps, '.')\n",
    "        ax.plot([0,190], [0,0], 'r')\n",
    "    plt.show()"
   ]
  },
  {
   "cell_type": "code",
   "execution_count": null,
   "metadata": {},
   "outputs": [],
   "source": []
  },
  {
   "cell_type": "code",
   "execution_count": null,
   "metadata": {},
   "outputs": [],
   "source": [
    "par = {}\n",
    "par['af'] = []\n",
    "par['ar'] = []\n",
    "par['mf'] = []\n",
    "par['mr'] = []\n",
    "par['steps'] = []\n",
    "par['ontimes'] = []\n",
    "\n",
    "for n in range(6):\n",
    "    path = f'/data/MCS/20201130_{19+n:03}/data/'\n",
    "    par['af'].append(np.load(path + 'phiAngFW.npy'))\n",
    "    par['ar'].append(np.load(path + 'phiAngRV.npy'))\n",
    "    par['mf'].append(np.load(path + 'phiMMFW.npy'))\n",
    "    par['mr'].append(np.load(path + 'phiMMRV.npy'))\n",
    "    par['steps'].append(int(np.load(path + 'steps.npy')))\n",
    "    par['ontimes'].append(np.load(path + 'ontime.npy'))"
   ]
  },
  {
   "cell_type": "code",
   "execution_count": null,
   "metadata": {
    "scrolled": true
   },
   "outputs": [],
   "source": [
    "c = 23\n",
    "\n",
    "fig = plt.figure(figsize=(20,30))\n",
    "ax1 = plt.subplot(211)\n",
    "ax2 = plt.subplot(212)\n",
    "ax1.set_title(f'Cobra {mod} #{c+1} PHI Forward')\n",
    "ax2.set_title(f'Cobra {mod} #{c+1} PHI Reverse')\n",
    "for m in range(len(par['af'])):\n",
    "    x = par['af'][m][c]\n",
    "    y = par['ar'][m][c]\n",
    "    stp = par['steps'][m]\n",
    "    ont = par[\"ontimes\"][m][:,c]\n",
    "    for n in range(x.shape[0]):\n",
    "        ax1.plot(np.rad2deg(x[n,:-1]), np.rad2deg(x[n,1:]-x[n,:-1])/stp, '.', label=f'{ont[0]:.3}')\n",
    "        ax2.plot(np.rad2deg(y[n,1:]), -np.rad2deg(y[n,1:]-y[n,:-1])/stp, '.', label=f'{ont[1]:.3}')\n",
    "ax1.plot([0,190], [0,0], 'y')\n",
    "ax2.plot([0,190], [0,0], 'y')\n",
    "ax1.legend()\n",
    "ax2.legend()\n",
    "plt.show()"
   ]
  },
  {
   "cell_type": "code",
   "execution_count": null,
   "metadata": {},
   "outputs": [],
   "source": [
    "with PdfPages(f'pdf/{mod}_phi_stack.pdf') as pdf:\n",
    "    for c in goodIdx:\n",
    "        fig = plt.figure(figsize=(20,30))\n",
    "        ax1 = plt.subplot(211)\n",
    "        ax2 = plt.subplot(212)\n",
    "        ax1.set_title(f'Cobra {mod} #{c+1} PHI Forward')\n",
    "        ax2.set_title(f'Cobra {mod} #{c+1} PHI Reverse')\n",
    "        for m in range(len(par['af'])):\n",
    "            x = par['af'][m][c]\n",
    "            y = par['ar'][m][c]\n",
    "            stp = par['steps'][m]\n",
    "            ont = par[\"ontimes\"][m][:,c]\n",
    "            for n in range(x.shape[0]):\n",
    "                ax1.plot(np.rad2deg(x[n,:-1]), np.rad2deg(x[n,1:]-x[n,:-1])/stp, '.', label=f'{ont[0]:.3}')\n",
    "                ax2.plot(np.rad2deg(y[n,1:]), -np.rad2deg(y[n,1:]-y[n,:-1])/stp, '.', label=f'{ont[1]:.3}')\n",
    "        ax1.plot([0,190], [0,0], 'y')\n",
    "        ax2.plot([0,190], [0,0], 'y')\n",
    "        ax1.legend()\n",
    "        ax2.legend()\n",
    "        pdf.savefig(fig)\n",
    "        plt.close()"
   ]
  },
  {
   "cell_type": "code",
   "execution_count": null,
   "metadata": {},
   "outputs": [],
   "source": []
  },
  {
   "cell_type": "code",
   "execution_count": null,
   "metadata": {
    "scrolled": false
   },
   "outputs": [],
   "source": [
    "plt.figure(4, figsize=(12,8))\n",
    "#plt.clf()\n",
    "\n",
    "plt.plot(np.rad2deg(sf), 'r.')\n",
    "plt.plot(np.rad2deg(sr), 'g.')\n",
    "\n",
    "#with PdfPages(f'pdf/SC34_phi_slow.pdf') as pdf:\n",
    "#    pdf.savefig()"
   ]
  },
  {
   "cell_type": "code",
   "execution_count": null,
   "metadata": {},
   "outputs": [],
   "source": []
  },
  {
   "cell_type": "code",
   "execution_count": null,
   "metadata": {
    "scrolled": true
   },
   "outputs": [],
   "source": [
    "fig, axs = plt.subplots(57, figsize=(12,200))\n",
    "\n",
    "for c in range(57):\n",
    "#    plt.figure(3)\n",
    "#    plt.clf()\n",
    "#    ax = plt.gca()\n",
    "    axs[c].set_title(f'#{c}')\n",
    "    for n in range(af.shape[1]):\n",
    "        axs[c].plot(af[c, n], '.')\n",
    "        axs[c].plot(ar[c, n], '.')\n",
    "\n",
    "#with PdfPages(f'pdf/SC34_phi_250.pdf') as pdf:\n",
    "#    pdf.savefig()\n",
    "plt.show()"
   ]
  },
  {
   "cell_type": "code",
   "execution_count": null,
   "metadata": {},
   "outputs": [],
   "source": [
    "plt.figure(4, figsize=(12,8))\n",
    "#plt.clf()\n",
    "\n",
    "plt.plot(np.rad2deg(sf), 'r.')\n",
    "plt.plot(np.rad2deg(sr), 'g.')\n",
    "\n",
    "#with PdfPages(f'pdf/SC34_phi_slow.pdf') as pdf:\n",
    "#    pdf.savefig()"
   ]
  },
  {
   "cell_type": "code",
   "execution_count": null,
   "metadata": {},
   "outputs": [],
   "source": []
  },
  {
   "cell_type": "code",
   "execution_count": null,
   "metadata": {},
   "outputs": [],
   "source": [
    "c = 6\n",
    "\n",
    "ax = plt.gca()\n",
    "ax.set_title(f'#{c}')\n",
    "for n in range(afX.shape[1]):\n",
    "    ax.plot(afX[c, n], '.')\n",
    "    ax.plot(arX[c, n], '.')"
   ]
  },
  {
   "cell_type": "code",
   "execution_count": null,
   "metadata": {
    "scrolled": true
   },
   "outputs": [],
   "source": [
    "c = 6\n",
    "\n",
    "plt.figure(4)\n",
    "plt.clf()\n",
    "ax = plt.gca()\n",
    "ax.set_title(f'#{c}')\n",
    "\n",
    "ax.plot(np.rad2deg(mf[c]), 'r')\n",
    "ax.plot(np.rad2deg(mfX[c]), 'm')\n",
    "ax.plot(np.rad2deg(mr[c]), 'g')\n",
    "ax.plot(np.rad2deg(mrX[c]), 'b')\n",
    "\n",
    "ax.set_xlim([0,56])"
   ]
  },
  {
   "cell_type": "code",
   "execution_count": null,
   "metadata": {},
   "outputs": [],
   "source": [
    "x=np.arange(mf.shape[1])*3.6\n",
    "c = 6\n",
    "step = 150\n",
    "\n",
    "plt.figure(4)\n",
    "plt.clf()\n",
    "ax = plt.gca()\n",
    "ax.set_title(f'#{c} FW')\n",
    "\n",
    "for data in af[c]:\n",
    "#    for i in range(len(data)-1):\n",
    "    for i in range(14):\n",
    "        spd = np.rad2deg(data[i+1] - data[i]) / step\n",
    "        ax.plot([np.rad2deg(data[i]), np.rad2deg(data[i+1])], [spd, spd], color='gray')\n",
    "\n",
    "ax.plot(x, np.rad2deg(mf[c]), 'r')\n",
    "#ax.plot(x,np.rad2deg(mf2[c]), 'pink')\n",
    "\n",
    "ax.set_xlim([0,190])"
   ]
  },
  {
   "cell_type": "code",
   "execution_count": null,
   "metadata": {},
   "outputs": [],
   "source": [
    "x=np.arange(mf.shape[1])*3.6\n",
    "c = 5\n",
    "step = 400\n",
    "\n",
    "plt.figure(4)\n",
    "plt.clf()\n",
    "ax = plt.gca()\n",
    "ax.set_title(f'#{c} RV')\n",
    "\n",
    "for data in ar[c]:\n",
    "    for i in range(len(data)-1):\n",
    "        spd = np.rad2deg(data[i] - data[i+1]) / step\n",
    "        ax.plot([np.rad2deg(data[i+1]), np.rad2deg(data[i])], [spd, spd], color='gray')\n",
    "\n",
    "ax.plot(x, np.rad2deg(mr[c]), 'r')\n",
    "#ax.plot(x,-np.rad2deg(mr2[c]), color='pink')\n",
    "\n",
    "ax.set_xlim([0,190])"
   ]
  },
  {
   "cell_type": "code",
   "execution_count": null,
   "metadata": {},
   "outputs": [],
   "source": []
  },
  {
   "cell_type": "code",
   "execution_count": null,
   "metadata": {},
   "outputs": [],
   "source": [
    "path = '/data/MCS/20191114_006/data/'\n",
    "data = np.load(path + 'phiData.npy')"
   ]
  },
  {
   "cell_type": "code",
   "execution_count": null,
   "metadata": {},
   "outputs": [],
   "source": [
    "c = 1\n",
    "\n",
    "plt.figure(5)\n",
    "plt.clf()\n",
    "for n in range(data.shape[1]):\n",
    "    plt.plot(np.rad2deg(data[c,n,:,0]))"
   ]
  },
  {
   "cell_type": "code",
   "execution_count": null,
   "metadata": {},
   "outputs": [],
   "source": [
    "np.rad2deg(data[1,9,:,0]), data[1,9,:,3]"
   ]
  },
  {
   "cell_type": "code",
   "execution_count": null,
   "metadata": {},
   "outputs": [],
   "source": []
  },
  {
   "cell_type": "code",
   "execution_count": null,
   "metadata": {},
   "outputs": [],
   "source": [
    "from ics.cobraCharmer import pfiDesign\n",
    "import pathlib"
   ]
  },
  {
   "cell_type": "code",
   "execution_count": null,
   "metadata": {},
   "outputs": [],
   "source": [
    "xml = pathlib.Path('/data/MCS/20200114_009/output/SC34_phi_fast.xml')\n",
    "#xml = pathlib.Path('/home/pfs/Documents/cwen/ics_cobraCharmer/xml/SC34_07.xml')\n",
    "model = pfiDesign.PFIDesign(xml)"
   ]
  },
  {
   "cell_type": "code",
   "execution_count": null,
   "metadata": {},
   "outputs": [],
   "source": [
    "xml = pathlib.Path('/data/MCS/20200112_023/output/SC34_phi_fast.xml')\n",
    "model2 = pfiDesign.PFIDesign(xml)"
   ]
  },
  {
   "cell_type": "code",
   "execution_count": null,
   "metadata": {},
   "outputs": [],
   "source": [
    "model.motorOntimeSlowFwd2, model.motorOntimeSlowRev2"
   ]
  },
  {
   "cell_type": "code",
   "execution_count": null,
   "metadata": {},
   "outputs": [],
   "source": [
    "model.centers"
   ]
  },
  {
   "cell_type": "code",
   "execution_count": null,
   "metadata": {},
   "outputs": [],
   "source": [
    "tfs = model.motorOntimeSlowFwd2.copy()\n",
    "trs = model.motorOntimeSlowRev2.copy()\n",
    "tff = model.motorOntimeFwd2.copy()\n",
    "trf = model.motorOntimeRev2.copy()"
   ]
  },
  {
   "cell_type": "code",
   "execution_count": null,
   "metadata": {},
   "outputs": [],
   "source": [
    "tfs2 = model2.motorOntimeSlowFwd2.copy()\n",
    "trs2 = model2.motorOntimeSlowRev2.copy()\n",
    "tff2 = model2.motorOntimeFwd2.copy()\n",
    "trf2 = model2.motorOntimeRev2.copy()"
   ]
  },
  {
   "cell_type": "code",
   "execution_count": null,
   "metadata": {},
   "outputs": [],
   "source": [
    "c = 21\n",
    "tfs[c], trs[c], tff[c], trf[c]"
   ]
  },
  {
   "cell_type": "code",
   "execution_count": null,
   "metadata": {},
   "outputs": [],
   "source": [
    "tfs[21] = 0.03\n",
    "trs[21] = 0.034\n",
    "tff[21] = 0.043\n",
    "trf[21] = 0.05"
   ]
  },
  {
   "cell_type": "code",
   "execution_count": null,
   "metadata": {},
   "outputs": [],
   "source": [
    "model.updateOntimes(phiFwd=tff, phiRev=trf, fast=True)\n",
    "model.updateOntimes(phiFwd=tfs, phiRev=trs, fast=False)\n",
    "model.createCalibrationFile('/home/pfs/Documents/cwen/ics_cobraCharmer/xml/SC34_08.xml')"
   ]
  },
  {
   "cell_type": "code",
   "execution_count": null,
   "metadata": {},
   "outputs": [],
   "source": []
  },
  {
   "cell_type": "code",
   "execution_count": null,
   "metadata": {},
   "outputs": [],
   "source": []
  },
  {
   "cell_type": "code",
   "execution_count": null,
   "metadata": {},
   "outputs": [],
   "source": [
    "path = '/data/MCS/20191207_003/data/'\n",
    "data = np.load(path + 'phiData.npy')"
   ]
  },
  {
   "cell_type": "code",
   "execution_count": null,
   "metadata": {},
   "outputs": [],
   "source": [
    "angles = np.linspace(15,165,16)\n",
    "print(np.where(abs(np.rad2deg(data[goodIdx,:,7,0])-angles)>0.2))\n",
    "print(np.where(abs(np.rad2deg(data[goodIdx,:,7,0])-angles)>0.1))\n",
    "print(np.where(abs(np.rad2deg(data[goodIdx,:,7,0])-angles)>0.1)[0].shape[0])\n",
    "print(np.amax(abs(np.rad2deg(data[goodIdx,:,:,0])-angles[:,np.newaxis]), axis=(0,1)))\n",
    "np.average(abs(np.rad2deg(data[goodIdx,:,:,0])-angles[:,np.newaxis]), axis=(0,1))"
   ]
  },
  {
   "cell_type": "code",
   "execution_count": null,
   "metadata": {},
   "outputs": [],
   "source": [
    "c = 35\n",
    "\n",
    "plt.figure(4)\n",
    "plt.clf()\n",
    "for n in range(data.shape[1]):\n",
    "    plt.plot(np.rad2deg(data[c,n,:,0]))"
   ]
  },
  {
   "cell_type": "code",
   "execution_count": null,
   "metadata": {
    "scrolled": false
   },
   "outputs": [],
   "source": [
    "#bad = [37]\n",
    "#useable= [e for e in range(1,58) if e not in bad]\n",
    "#idx = np.array(useable) - 1\n",
    "idx = goodIdx\n",
    "\n",
    "for run in range(8):\n",
    "#    plt.figure()\n",
    "    d = (np.rad2deg(data[idx,:,:,0])-angles[:,np.newaxis])[:,:,run]\n",
    "\n",
    "    plt.subplot(121)\n",
    "#    plt.xscale('log')\n",
    "    plt.yscale('log')\n",
    "    plt.title(f'Diff angles #{run+1}')\n",
    "#    plt.grid(True)\n",
    "    plt.hist(d.flatten(), bins='auto')\n",
    "\n",
    "    plt.subplot(122)\n",
    "    plt.xscale('log')\n",
    "    plt.yscale('log')\n",
    "    plt.title(f'Absolute diffs #{run+1}')\n",
    "    plt.grid(True)\n",
    "    plt.hist(abs(d).flatten(), bins='auto')\n",
    "\n",
    "    plt.gca().yaxis.set_minor_formatter(NullFormatter())\n",
    "    plt.subplots_adjust(top=0.92, bottom=0.08, left=0.10, right=0.95, hspace=0.45, wspace=0.35)\n",
    "    with PdfPages(f'pdf/{mod}_phi_80_{run+1}.pdf') as pdf:\n",
    "        pdf.savefig()\n",
    "    plt.show()"
   ]
  },
  {
   "cell_type": "code",
   "execution_count": null,
   "metadata": {},
   "outputs": [],
   "source": []
  },
  {
   "cell_type": "code",
   "execution_count": null,
   "metadata": {},
   "outputs": [],
   "source": [
    "datadir = '/data/MCS/20201125_010'\n",
    "angles = np.load(f'{datadir}/data/angles.npy')\n",
    "ontimes = np.load(f'{datadir}/data/ontimes.npy')\n",
    "speeds = np.load(f'{datadir}/data/speeds.npy')\n",
    "goodIdx = np.load(f'{datadir}/data/cobras.npy')\n",
    "parameters = np.load(f'{datadir}/data/parameters.npy')\n",
    "mm = np.load(f'{datadir}/data/phiOntimeMap.npy')"
   ]
  },
  {
   "cell_type": "code",
   "execution_count": null,
   "metadata": {},
   "outputs": [],
   "source": [
    "with PdfPages(f'pdf/{mod}_phi_scan8.pdf') as pdf:\n",
    "    for idx in range(len(ontimes)):\n",
    "        fig = plt.figure(figsize=(20,30))\n",
    "        ax1 = plt.subplot(411)\n",
    "        ax1.set_title(f'Cobra #{goodIdx[idx]+1}: On-time (phi, Forward)')\n",
    "        ax2 = plt.subplot(412)\n",
    "        ax2.set_title(f'Cobra #{goodIdx[idx]+1}: Step size (phi, Forward)')\n",
    "        ax3 = plt.subplot(413)\n",
    "        ax3.set_title(f'Cobra #{goodIdx[idx]+1}: On-time (phi, Backward)')\n",
    "        ax4 = plt.subplot(414)\n",
    "        ax4.set_title(f'Cobra #{goodIdx[idx]+1}: Step size (phi, Backward)')\n",
    "\n",
    "        for repeat in range(ontimes.shape[1]):\n",
    "            data = ontimes[idx,repeat,0]*1000\n",
    "            nz = np.where(data == 0)[0]\n",
    "            if len(nz) > 0:\n",
    "                upper = np.where(data == 0)[0][0] - 1\n",
    "            else:\n",
    "                upper = len(data)\n",
    "            xdata = np.rad2deg(angles)[idx,repeat,0,:upper]\n",
    "            data1 = np.rad2deg(speeds[idx,repeat,0])\n",
    "            ax1.plot(xdata, data[:upper], '.', label=f'{repeat+1}')\n",
    "            ax2.plot(xdata, data1[:upper], '.', label=f'{repeat+1}')\n",
    "\n",
    "            data = ontimes[idx,repeat,1]*1000\n",
    "            nz = np.where(data == 0)[0]\n",
    "            if len(nz) > 0:\n",
    "                upper = np.where(data == 0)[0][0]\n",
    "            else:\n",
    "                upper = len(data)\n",
    "            xdata = np.rad2deg(angles)[idx,repeat,1,:upper]\n",
    "            data1 = -np.rad2deg(speeds[idx,repeat,1])\n",
    "            ax3.plot(xdata, data[:upper], '.', label=f'{repeat+1}')\n",
    "            ax4.plot(xdata, data1[:upper], '.', label=f'{repeat+1}')\n",
    "\n",
    "        ax1.legend()\n",
    "        ax2.legend()\n",
    "        ax3.legend()\n",
    "        ax4.legend()\n",
    "        pdf.savefig(fig)\n",
    "        plt.close()"
   ]
  },
  {
   "cell_type": "code",
   "execution_count": null,
   "metadata": {},
   "outputs": [],
   "source": [
    "with PdfPages(f'pdf/{mod}_phi_mm_slow.pdf') as pdf:\n",
    "    for c in goodIdx:\n",
    "        fig = plt.figure(figsize=(15,20))\n",
    "        xdata = np.rad2deg(mm['angle'][c])\n",
    "        ax1 = plt.subplot(411)\n",
    "        ax1.set_title(f'Cobra #{c+1}: On-time (phi, Forward)')\n",
    "        ax1.plot(xdata[0], mm['ontime'][c,0], 'x')\n",
    "        ax2 = plt.subplot(412)\n",
    "        ax2.set_title(f'Cobra #{c+1}: Speed (phi, Forward)')\n",
    "        ax2.plot(xdata[0], np.rad2deg(mm['speed'][c,0]), 'x')\n",
    "        ax3 = plt.subplot(413)\n",
    "        ax3.set_title(f'Cobra #{c+1}: On-time (phi, Reverse)')\n",
    "        ax3.plot(xdata[1], mm['ontime'][c,1], 'x')\n",
    "        ax4 = plt.subplot(414)\n",
    "        ax4.set_title(f'Cobra #{c+1}: Speed (phi, Reverse)')\n",
    "        ax4.plot(xdata[1], np.rad2deg(-mm['speed'][c,1]), 'x')\n",
    "\n",
    "        pdf.savefig(fig)\n",
    "        plt.close()"
   ]
  },
  {
   "cell_type": "code",
   "execution_count": null,
   "metadata": {},
   "outputs": [],
   "source": [
    "datadir = '/home/cwen/mhs/devel/ics_cobraCharmer/procedures/moduleTest'\n",
    "mm2 = np.load(f'{datadir}/SP01_mmPhiFast5.npy')\n",
    "mm3 = np.load(f'{datadir}/SP01_mmPhiSlow.npy')\n",
    "\n",
    "with PdfPages(f'pdf/{mod}_phi_mm_fast_compare2.pdf') as pdf:\n",
    "    for c in goodIdx:\n",
    "        fig = plt.figure(figsize=(15,20))\n",
    "        ax1 = plt.subplot(411)\n",
    "        ax1.set_title(f'Cobra #{c+1}: On-time (phi, Forward)')\n",
    "        ax2 = plt.subplot(412)\n",
    "        ax2.set_title(f'Cobra #{c+1}: Speed (phi, Forward)')\n",
    "        ax3 = plt.subplot(413)\n",
    "        ax3.set_title(f'Cobra #{c+1}: On-time (phi, Reverse)')\n",
    "        ax4 = plt.subplot(414)\n",
    "        ax4.set_title(f'Cobra #{c+1}: Speed (phi, Reverse)')\n",
    "        for color,mmx in [('m',mm2), ('b',mm3)]:\n",
    "            xdata = np.rad2deg(mmx['angle'][c])\n",
    "            ax1.plot(xdata[0], mmx['ontime'][c,0], f'x{color}')\n",
    "            ax2.plot(xdata[0], np.rad2deg(mmx['speed'][c,0]), f'x{color}')\n",
    "            ax3.plot(xdata[1], mmx['ontime'][c,1], f'x{color}')\n",
    "            ax4.plot(xdata[1], np.rad2deg(-mmx['speed'][c,1]), f'x{color}')\n",
    "\n",
    "        pdf.savefig(fig)\n",
    "        plt.close()"
   ]
  },
  {
   "cell_type": "code",
   "execution_count": null,
   "metadata": {},
   "outputs": [],
   "source": [
    "def smooth(x, window_len=21, window='hamming'):\n",
    "    s = np.r_[x[window_len-1:0:-1], x, x[-2:-window_len-1:-1]]\n",
    "    w = eval('np.' + window + '(window_len)')\n",
    "    y = np.convolve(w/w.sum(), s, mode='valid')\n",
    "    return y[(window_len//2):-(window_len//2)]"
   ]
  },
  {
   "cell_type": "code",
   "execution_count": null,
   "metadata": {
    "scrolled": false
   },
   "outputs": [],
   "source": [
    "idx = 54\n",
    "\n",
    "plt.figure(figsize=(15,30))\n",
    "ax1 = plt.subplot(411)\n",
    "ax1.set_title(f'Cobra #{goodIdx[idx]+1}: On-time (phi, Forward)')\n",
    "ax2 = plt.subplot(412)\n",
    "ax2.set_title(f'Cobra #{goodIdx[idx]+1}: Step size (phi, Forward)')\n",
    "ax3 = plt.subplot(413)\n",
    "ax3.set_title(f'Cobra #{goodIdx[idx]+1}: On-time (phi, Backward)')\n",
    "ax4 = plt.subplot(414)\n",
    "ax4.set_title(f'Cobra #{goodIdx[idx]+1}: Step size (phi, Backward)')\n",
    "\n",
    "#for repeat in range(ontimes.shape[1]):\n",
    "for repeat in range(1):\n",
    "    data = ontimes[idx,repeat,0]*1000\n",
    "    nz = np.where(data == 0)[0]\n",
    "    if len(nz) > 0:\n",
    "        upper = nz[0] - 1\n",
    "    else:\n",
    "        upper = len(data)\n",
    "    xdata = np.rad2deg(angles)[idx,repeat,0,:upper]\n",
    "    data1 = np.rad2deg(speeds[idx,repeat,0])\n",
    "    ax1.plot(xdata, data[:upper], '.', label=f'{repeat+1}')\n",
    "    ax1.plot(xdata, smooth(data[:upper]), label=f'S{repeat+1}')\n",
    "    ax2.plot(xdata, data1[:upper], '.', label=f'{repeat+1}')\n",
    "    ax2.plot(xdata, smooth(data1[:upper]), label=f'S{repeat+1}')\n",
    "\n",
    "    data = ontimes[idx,repeat,1]*1000\n",
    "    nz = np.where(data == 0)[0]\n",
    "    if len(nz) > 0:\n",
    "        upper = nz[0]\n",
    "    else:\n",
    "        upper = len(data)\n",
    "    xdata = np.rad2deg(angles)[idx,repeat,1,:upper]\n",
    "    data1 = -np.rad2deg(speeds[idx,repeat,1])\n",
    "    ax3.plot(xdata, data[:upper], '.', label=f'{repeat+1}')\n",
    "    ax3.plot(xdata, smooth(data[:upper]), label=f'S{repeat+1}')\n",
    "    ax4.plot(xdata, data1[:upper], '.', label=f'{repeat+1}')\n",
    "    ax4.plot(xdata, smooth(data1[:upper]), label=f'S{repeat+1}')\n",
    "\n",
    "ax1.legend()\n",
    "ax2.legend()\n",
    "ax3.legend()\n",
    "ax4.legend()\n",
    "plt.show()"
   ]
  },
  {
   "cell_type": "code",
   "execution_count": null,
   "metadata": {},
   "outputs": [],
   "source": [
    "c = 46\n",
    "\n",
    "plt.figure(figsize=(15,20))\n",
    "xdata = np.rad2deg(mm['angle'][c])\n",
    "ax1 = plt.subplot(411)\n",
    "ax1.set_title(f'Cobra #{c+1}: On-time (phi, Forward)')\n",
    "ax1.plot(xdata[0], mm['ontime'][c,0], 'x')\n",
    "ax2 = plt.subplot(412)\n",
    "ax2.set_title(f'Cobra #{c+1}: Speed (phi, Forward)')\n",
    "ax2.plot(xdata[0], np.rad2deg(mm['speed'][c,0]), 'x')\n",
    "ax3 = plt.subplot(413)\n",
    "ax3.set_title(f'Cobra #{c+1}: On-time (phi, Reverse)')\n",
    "ax3.plot(xdata[1], mm['ontime'][c,1], 'x')\n",
    "ax4 = plt.subplot(414)\n",
    "ax4.set_title(f'Cobra #{c+1}: Speed (phi, Reverse)')\n",
    "ax4.plot(xdata[1], np.rad2deg(-mm['speed'][c,1]), 'x')"
   ]
  },
  {
   "cell_type": "code",
   "execution_count": null,
   "metadata": {},
   "outputs": [],
   "source": []
  },
  {
   "cell_type": "code",
   "execution_count": null,
   "metadata": {},
   "outputs": [],
   "source": [
    "mmDtype = np.dtype(dict(names=['angle', 'ontime', 'speed'], formats=['f4', 'f4', 'f4']))"
   ]
  },
  {
   "cell_type": "code",
   "execution_count": null,
   "metadata": {},
   "outputs": [],
   "source": [
    "mm = np.full((angles.shape[0],2,angles.shape[3]-1), np.nan, dtype=mmDtype)\n",
    "\n",
    "for i in range(angles.shape[0]):\n",
    "    for j in range(2):\n",
    "        if j == 0:\n",
    "            nz = np.where(speeds[i,0,j])[0]\n",
    "        else:\n",
    "            nz = np.where(speeds[i,0,j] < 0)[0]\n",
    "        lower = nz[0]\n",
    "        nz = np.where(ontimes[i,0,j] == 0)[0]\n",
    "        if len(nz) > 0:\n",
    "            upper = nz[0]\n",
    "        else:\n",
    "            upper = ontimes.shape[3]\n",
    "        mm[i,j,:upper-lower]['angle'] = angles[i,0,j,lower:upper]\n",
    "        mm[i,j,:upper-lower]['ontime'] = smooth(ontimes[i,0,j,lower:upper])\n",
    "        mm[i,j,:upper-lower]['speed'] = smooth(speeds[i,0,j,lower:upper])"
   ]
  },
  {
   "cell_type": "code",
   "execution_count": null,
   "metadata": {},
   "outputs": [],
   "source": [
    "mm = np.full((angles.shape[0],2,angles.shape[3]-1), np.nan, dtype=mmDtype)\n",
    "lim = 0.05\n",
    "\n",
    "for i in range(angles.shape[0]):\n",
    "    for j in range(2):\n",
    "        if j == 0:\n",
    "            nz = np.where(angles[i,0,j] > angles[i,0,j,0]+lim)[0]\n",
    "        else:\n",
    "            nz = np.where(angles[i,0,j] < angles[i,0,j,0]-lim)[0]\n",
    "        lower = nz[0]\n",
    "\n",
    "        nz = np.where(ontimes[i,0,j] == 0)[0]\n",
    "        if len(nz) > 0:\n",
    "            upper = nz[0]\n",
    "        else:\n",
    "            upper = ontimes.shape[3]\n",
    "        if j == 0:\n",
    "            nz = np.where(angles[i,0,j] > angles[i,0,j,upper-1]-lim)[0]\n",
    "        else:\n",
    "            nz = np.where(angles[i,0,j] < angles[i,0,j,upper-1]+lim)[0]\n",
    "        upper = nz[0]\n",
    "\n",
    "        mm[i,j,:upper-lower]['angle'] = angles[i,0,j,lower:upper]\n",
    "        mm[i,j,:upper-lower]['ontime'] = smooth(ontimes[i,0,j,lower:upper])\n",
    "        mm[i,j,:upper-lower]['speed'] = smooth(speeds[i,0,j,lower:upper])"
   ]
  },
  {
   "cell_type": "code",
   "execution_count": null,
   "metadata": {},
   "outputs": [],
   "source": [
    "mmOut = np.full((57,2,angles.shape[3]-1), 0, dtype=mmDtype)\n",
    "mmOut[goodIdx] = mm\n",
    "np.save('SP01_mmPhiFast', mmOut)"
   ]
  },
  {
   "cell_type": "code",
   "execution_count": null,
   "metadata": {},
   "outputs": [],
   "source": [
    "angMax = np.nanmax(mm['angle'], axis=2)\n",
    "angMin = np.nanmin(mm['angle'], axis=2)\n",
    "angMargin = np.deg2rad(25)\n",
    "ot = np.zeros((mm.shape[0],2))\n",
    "\n",
    "for i in range(mm.shape[0]):\n",
    "    for j in range(2):\n",
    "        x = mm[i,j]['angle']\n",
    "        mask = ~np.isnan(x)\n",
    "        mask[mask] &= x[mask] > angMin[i,j] + angMargin\n",
    "        mask[mask] &= x[mask] < angMax[i,j] - angMargin\n",
    "        # for slow speed\n",
    "        ot[i,j] = np.nanmax(mm[i,j,mask]['ontime']) + np.nanmin(mm[i,j,mask]['ontime'])/2\n",
    "        # for fast speed\n",
    "#        ot[i,j] = np.nanmax(mm[i,j,mask]['ontime'])\n",
    "\n",
    "ot[ot > 0.12] = 0.12"
   ]
  },
  {
   "cell_type": "code",
   "execution_count": null,
   "metadata": {},
   "outputs": [],
   "source": []
  },
  {
   "cell_type": "code",
   "execution_count": null,
   "metadata": {
    "scrolled": true
   },
   "outputs": [],
   "source": [
    "with PdfPages(f'pdf/{mod}_phi_mm.pdf') as pdf:\n",
    "    for c in range(len(mm)):\n",
    "        fig = plt.figure(figsize=(15,20))\n",
    "        ax1 = plt.subplot(411)\n",
    "        ax1.set_title(f'Cobra #{goodIdx[c]+1}: On-time (phi, Forward)')\n",
    "        ax1.plot(mm['angle'][c,0], mm['ontime'][c,0], 'x')\n",
    "        ax2 = plt.subplot(412)\n",
    "        ax2.set_title(f'Cobra #{goodIdx[c]+1}: Speed (phi, Forward)')\n",
    "        ax2.plot(mm['angle'][c,0], mm['speed'][c,0], 'x')\n",
    "        ax3 = plt.subplot(413)\n",
    "        ax3.set_title(f'Cobra #{goodIdx[c]+1}: On-time (phi, Reverse)')\n",
    "        ax3.plot(mm['angle'][c,1], mm['ontime'][c,1], 'x')\n",
    "        ax4 = plt.subplot(414)\n",
    "        ax4.set_title(f'Cobra #{goodIdx[c]+1}: Speed (phi, Reverse)')\n",
    "        ax4.plot(mm['angle'][c,1], mm['speed'][c,1], 'x')\n",
    "\n",
    "        pdf.savefig(fig)\n",
    "        plt.close()"
   ]
  },
  {
   "cell_type": "code",
   "execution_count": null,
   "metadata": {},
   "outputs": [],
   "source": []
  },
  {
   "cell_type": "code",
   "execution_count": null,
   "metadata": {},
   "outputs": [],
   "source": [
    "centers = np.zeros((4,57), 'complex')\n",
    "radius = np.zeros((4,57), 'float')\n",
    "\n",
    "for m,n in enumerate([15,18,20,22]):\n",
    "    path = f'/data/MCS/20201203_{n:03}/data/'\n",
    "    centers[m] = np.load(path + 'phiCenter.npy')\n",
    "    radius[m] = np.load(path + 'phiRadius.npy')"
   ]
  },
  {
   "cell_type": "code",
   "execution_count": null,
   "metadata": {},
   "outputs": [],
   "source": [
    "radius"
   ]
  },
  {
   "cell_type": "code",
   "execution_count": null,
   "metadata": {},
   "outputs": [],
   "source": [
    "(np.amax(radius, axis=0) - np.amin(radius, axis=0)) / np.average(radius, axis=0) * 100"
   ]
  },
  {
   "cell_type": "code",
   "execution_count": null,
   "metadata": {},
   "outputs": [],
   "source": [
    "centers = np.zeros((4,57), 'complex')\n",
    "radius = np.zeros((4,57), 'float')\n",
    "\n",
    "for m,n in enumerate([11,13,15,17]):\n",
    "    path = f'/data/MCS/20201204_{n:03}/data/'\n",
    "    centers[m] = np.load(path + 'phiCenter.npy')\n",
    "    radius[m] = np.load(path + 'phiRadius.npy')"
   ]
  },
  {
   "cell_type": "code",
   "execution_count": null,
   "metadata": {},
   "outputs": [],
   "source": [
    "radius"
   ]
  },
  {
   "cell_type": "code",
   "execution_count": null,
   "metadata": {},
   "outputs": [],
   "source": [
    "(np.amax(radius, axis=0) - np.amin(radius, axis=0)) / np.average(radius, axis=0) * 100"
   ]
  },
  {
   "cell_type": "code",
   "execution_count": null,
   "metadata": {},
   "outputs": [],
   "source": [
    "thetaCenters = np.array([   0.       +0.j    , 4431.6282+1004.0335j, 4387.6917 +923.5348j,\n",
    "       4342.0269+1003.0353j, 4298.4605 +922.766j , 4251.7393+1001.1651j,\n",
    "       4207.374  +920.9872j, 4160.7655+1000.8765j, 4117.9824 +917.7714j,\n",
    "       4070.5737 +999.4982j, 4027.3533 +918.6089j, 3980.0051 +998.569j ,\n",
    "       3935.6594 +917.5534j, 3888.3852 +997.1247j, 3845.2875 +916.9697j,\n",
    "       3797.5214 +995.1098j, 3754.3766 +915.0344j, 3707.5361 +993.7576j,\n",
    "       3663.1362 +913.8394j, 3617.1289 +992.7207j, 3573.1198 +912.3548j,\n",
    "       3526.3156 +991.2328j, 3482.6081 +911.1399j, 3437.9167 +989.7501j,\n",
    "       3392.4642 +909.7191j, 3347.8498 +988.4057j, 3303.5418 +908.4231j,\n",
    "       3257.7462 +986.6574j, 3214.1623 +907.256j , 2042.1708+1062.9965j,\n",
    "       1996.8196 +983.8331j, 1952.425 +1063.6695j, 1907.3008 +984.0703j,\n",
    "       1863.0604+1063.731j , 1817.4502 +984.9935j, 1772.7387+1065.1699j,\n",
    "       1727.7237 +983.7918j, 1682.997 +1064.6788j,    0.       +0.j    ,\n",
    "       1593.1352+1065.1547j, 1546.7435 +984.9353j, 1502.4267+1065.0643j,\n",
    "          0.       +0.j    , 1412.1196+1065.7444j, 1365.9935 +986.4616j,\n",
    "       1321.2263+1065.56j  , 1275.2602 +986.6471j, 1231.1259+1065.2516j,\n",
    "       1184.6491 +986.9931j, 1140.3265+1066.4717j, 1093.3997 +987.3994j,\n",
    "       1048.5867+1066.8713j, 1003.3506 +987.11j  ,    0.       +0.j    ,\n",
    "        912.4705 +987.3282j,  868.4352+1066.4534j,  822.2515 +987.5756j])"
   ]
  },
  {
   "cell_type": "code",
   "execution_count": null,
   "metadata": {},
   "outputs": [],
   "source": [
    "thetaArms = np.absolute(centers - thetaCenters)\n",
    "thetaArms"
   ]
  },
  {
   "cell_type": "code",
   "execution_count": null,
   "metadata": {},
   "outputs": [],
   "source": [
    "(np.amax(thetaArms, axis=0) - np.amin(thetaArms, axis=0)) / np.average(thetaArms, axis=0) * 100"
   ]
  },
  {
   "cell_type": "code",
   "execution_count": null,
   "metadata": {},
   "outputs": [],
   "source": []
  }
 ],
 "metadata": {
  "kernelspec": {
   "display_name": "Python 3",
   "language": "python",
   "name": "python3"
  },
  "language_info": {
   "codemirror_mode": {
    "name": "ipython",
    "version": 3
   },
   "file_extension": ".py",
   "mimetype": "text/x-python",
   "name": "python",
   "nbconvert_exporter": "python",
   "pygments_lexer": "ipython3",
   "version": "3.7.3"
  }
 },
 "nbformat": 4,
 "nbformat_minor": 2
}
