{
 "cells": [
  {
   "cell_type": "code",
   "execution_count": 2,
   "metadata": {},
   "outputs": [],
   "source": [
    "from moduleTest import ModuleTest\n",
    "import numpy as np\n",
    "import pandas as pd\n",
    "from ics.cobraCharmer import pfi as pfiControl\n",
    "from ics.cobraCharmer import pfiDesign\n",
    "import moduleAnalyze\n",
    "import visDianosticPlot\n",
    "import os\n",
    "from importlib import reload \n",
    "import matplotlib.pyplot as plt\n",
    "import pathlib"
   ]
  },
  {
   "cell_type": "code",
   "execution_count": null,
   "metadata": {},
   "outputs": [],
   "source": [
    "moduleNameLong = 'Science30'\n",
    "moduleNameShort = 'SC30'"
   ]
  },
  {
   "cell_type": "code",
   "execution_count": null,
   "metadata": {},
   "outputs": [],
   "source": [
    "xml = pathlib.Path('/home/pfs/mhs/devel/pfs_instdata/data/pfi/modules/SC30/SC30_thetaFinal.xml')"
   ]
  },
  {
   "cell_type": "code",
   "execution_count": null,
   "metadata": {},
   "outputs": [],
   "source": [
    "brokens = []\n",
    "mt = ModuleTest('fpga', xml, brokens=brokens)\n",
    "mt._connect()"
   ]
  },
  {
   "cell_type": "code",
   "execution_count": null,
   "metadata": {
    "scrolled": true
   },
   "outputs": [],
   "source": [
    "mt.convertXML(f'/data/{moduleNameShort}/{moduleNameLong}_converted.xml')"
   ]
  },
  {
   "cell_type": "code",
   "execution_count": null,
   "metadata": {},
   "outputs": [],
   "source": [
    "\n",
    "xml = pathlib.Path(f'/data/{moduleNameShort}/{moduleNameLong}_converted.xml')\n",
    "brokens = []\n",
    "mt = ModuleTest('fpga', xml, brokens=brokens)\n",
    "mt._connect()"
   ]
  },
  {
   "cell_type": "code",
   "execution_count": null,
   "metadata": {
    "scrolled": true
   },
   "outputs": [],
   "source": [
    "runDir = mt.makePhiMotorMap(f'{moduleNameShort}_phi_250.xml', steps=250, repeat=3, totalSteps=6000)"
   ]
  },
  {
   "cell_type": "code",
   "execution_count": null,
   "metadata": {
    "scrolled": false
   },
   "outputs": [],
   "source": [
    "broken=[]\n",
    "path=f'{runDir}/data/'\n",
    "vis = visDianosticPlot.VisDianosticPlot(path, brokens=broken, camSplit=28)\n",
    "vis.visPlotGeometry(arm='phi')"
   ]
  },
  {
   "cell_type": "code",
   "execution_count": null,
   "metadata": {},
   "outputs": [],
   "source": [
    "vis.visPlotFiberDot(arm='phi')"
   ]
  },
  {
   "cell_type": "markdown",
   "metadata": {},
   "source": [
    "# Phi on-time optimize"
   ]
  },
  {
   "cell_type": "code",
   "execution_count": null,
   "metadata": {
    "scrolled": true
   },
   "outputs": [],
   "source": [
    "import ontimeOptimize\n",
    "import pathlib\n",
    "\n",
    "runDir='/data/MCS/20191216_002/'\n",
    "brokens=[]\n",
    "arm='phi'\n",
    "xml =pathlib.Path(f'{runDir}/output/{moduleNameShort}_phi_250.xml')\n",
    "ontimeOptimize.exploreModuleOntime(brokens=brokens,phiOnTimeMax=0.035,\n",
    "            arm=arm, iteration=4, XML=xml)"
   ]
  },
  {
   "cell_type": "code",
   "execution_count": null,
   "metadata": {},
   "outputs": [],
   "source": [
    "import ontimeOptimize\n",
    "brokens=[]\n",
    "\n",
    "\n",
    "\n",
    "datalist = ['/data/MCS/20191216_012',\n",
    "            '/data/MCS/20191216_014'\n",
    "           ]\n",
    "\n",
    "otm = ontimeOptimize.OntimeOptimize(brokens=brokens, phiList = datalist)"
   ]
  },
  {
   "cell_type": "code",
   "execution_count": null,
   "metadata": {},
   "outputs": [],
   "source": [
    "otm.dataframe.loc[otm.dataframe['fiberNo'] == 41]"
   ]
  },
  {
   "cell_type": "markdown",
   "metadata": {},
   "source": [
    "# Phi Motor Map"
   ]
  },
  {
   "cell_type": "code",
   "execution_count": null,
   "metadata": {},
   "outputs": [],
   "source": [
    "xml = pathlib.Path('/data/MCS/20191216_026/output/phi_250step.xml')\n",
    "broken=[]\n",
    "\n",
    "mt = ModuleTest('fpga', xml, brokens=broken)\n",
    "mt._connect()\n"
   ]
  },
  {
   "cell_type": "code",
   "execution_count": null,
   "metadata": {},
   "outputs": [],
   "source": [
    "mt.makePhiMotorMap('SC03_phi_250.xml', steps=250, repeat=5, totalSteps=6000, fromHome=True)"
   ]
  },
  {
   "cell_type": "code",
   "execution_count": null,
   "metadata": {},
   "outputs": [],
   "source": [
    "brokens=[]\n",
    "\n",
    "vis = visDianosticPlot.VisDianosticPlot('/data/MCS/20191216_026/data/', brokens=brokens, camSplit=28)\n",
    "vis.visCobraMotorMap(stepsize=250, figPath='/data/MCS/20191216_026/output/', arm='phi',\n",
    "                     pdffile='/data/MCS/20191216_026/output/phi_mm_250step.pdf')"
   ]
  },
  {
   "cell_type": "markdown",
   "metadata": {},
   "source": [
    "# Phi Target Convergence"
   ]
  },
  {
   "cell_type": "code",
   "execution_count": null,
   "metadata": {
    "scrolled": true
   },
   "outputs": [],
   "source": [
    "\n",
    "xml = pathlib.Path('/data/MCS/20191216_026/output/phi_250step.xml')\n",
    "\n",
    "mt = ModuleTest('fpga', xml, brokens=broken)\n",
    "mt._connect()\n",
    "\n",
    "mt.setPhiGeometryFromRun(pathlib.Path('/data/MCS/20191216_026/'), onlyIfClear=False)\n",
    "\n",
    "#for scale in [1.2, 2.0, 3.0, 5.0, 8.0]:\n",
    "mt.phiConvergenceTest(margin=15.0, runs=16, tries=8, \n",
    "                        fast=False, finalAngle=None, scaleFactor=3.0, tolerance=0.1)"
   ]
  },
  {
   "cell_type": "code",
   "execution_count": null,
   "metadata": {},
   "outputs": [],
   "source": [
    "\n",
    "vis = visDianosticPlot.VisDianosticPlot('/data/MCS/20191216_030/data/', brokens=broken, camSplit=28)\n",
    "vis.visConverge(figPath=f'/data/MCS/20191216_030/output/',runs = 16,\n",
    "                    arm='phi',pdffile= f'/data/MCS/20191216_030/output/converge_phi.pdf')"
   ]
  },
  {
   "cell_type": "markdown",
   "metadata": {},
   "source": [
    "# Move to 60 degree"
   ]
  },
  {
   "cell_type": "code",
   "execution_count": null,
   "metadata": {},
   "outputs": [],
   "source": [
    "xml = pathlib.Path('/data/MCS/20191216_026/output/phi_250step.xml')\n",
    "broken=[]\n",
    "\n",
    "mt = ModuleTest('fpga', xml, brokens=broken)\n",
    "mt._connect()"
   ]
  },
  {
   "cell_type": "code",
   "execution_count": null,
   "metadata": {},
   "outputs": [],
   "source": [
    "mt.setPhiGeometryFromRun(pathlib.Path('/data/MCS/20191216_026/'), onlyIfClear=False)"
   ]
  },
  {
   "cell_type": "code",
   "execution_count": null,
   "metadata": {
    "scrolled": true
   },
   "outputs": [],
   "source": [
    "mt.moveToPhiAngle(angle=60.0, keepExistingPosition=False)\n"
   ]
  },
  {
   "cell_type": "markdown",
   "metadata": {},
   "source": [
    "# Theta ROM"
   ]
  },
  {
   "cell_type": "code",
   "execution_count": null,
   "metadata": {
    "scrolled": true
   },
   "outputs": [],
   "source": [
    "runDir=mt.makeThetaMotorMap(f'{moduleNameShort}_theta_250.xml', steps=250, repeat=3, totalSteps=12000)"
   ]
  },
  {
   "cell_type": "code",
   "execution_count": null,
   "metadata": {
    "scrolled": true
   },
   "outputs": [],
   "source": [
    "broken=[]\n",
    "path=f'{runDir}'\n",
    "vis = visDianosticPlot.VisDianosticPlot(f'{path}/data/', brokens=broken, camSplit=28)\n",
    "vis.visPlotGeometry(arm='theta')"
   ]
  },
  {
   "cell_type": "code",
   "execution_count": null,
   "metadata": {},
   "outputs": [],
   "source": [
    "vis.visPlotFiberDot(arm='theta')\n",
    "del(mt)"
   ]
  },
  {
   "cell_type": "markdown",
   "metadata": {},
   "source": [
    "# Theta on-time"
   ]
  },
  {
   "cell_type": "code",
   "execution_count": null,
   "metadata": {
    "scrolled": true
   },
   "outputs": [],
   "source": [
    "import ontimeOptimize\n",
    "import pathlib\n",
    "reload(ontimeOptimize)\n",
    "\n",
    "brokens=[]\n",
    "arm='theta'\n",
    "xml =pathlib.Path(f'/data/MCS/20191216_034/output/{moduleNameShort}_{arm}_250.xml')\n",
    "ontimeOptimize.exploreModuleOntime(brokens=brokens,\n",
    "            arm=arm, iteration=5, XML=xml)"
   ]
  },
  {
   "cell_type": "markdown",
   "metadata": {},
   "source": [
    "# Theta motor map"
   ]
  },
  {
   "cell_type": "code",
   "execution_count": null,
   "metadata": {},
   "outputs": [],
   "source": [
    "brokens=[]\n",
    "\n",
    "vis = visDianosticPlot.VisDianosticPlot('/data/MCS/20191216_054/data/', brokens=brokens, camSplit=28)\n",
    "vis.visCobraMotorMap(stepsize=250, figPath='/data/MCS/20191216_054/output/', arm='theta',\n",
    "                     pdffile='/data/MCS/20191216_054/output/theta_mm_250step.pdf')"
   ]
  },
  {
   "cell_type": "code",
   "execution_count": null,
   "metadata": {},
   "outputs": [],
   "source": [
    "xml = pathlib.Path('/data/MCS/20191213_028/output/theta_250step.xml')\n",
    "broken=[]\n",
    "\n",
    "mt = ModuleTest('fpga', xml, brokens=broken)\n",
    "mt._connect()"
   ]
  },
  {
   "cell_type": "code",
   "execution_count": null,
   "metadata": {
    "scrolled": true
   },
   "outputs": [],
   "source": [
    "mt.makeThetaMotorMap('SC03_theta_250.xml', steps=250, repeat=5, totalSteps=12000, fromHome=True)"
   ]
  },
  {
   "cell_type": "code",
   "execution_count": null,
   "metadata": {},
   "outputs": [],
   "source": [
    "xml = pathlib.Path('/data/MCS/20191216_054/output/theta_250step.xml')\n",
    "broken=[]\n",
    "\n",
    "mt = ModuleTest('fpga', xml, brokens=broken)\n",
    "mt._connect()"
   ]
  },
  {
   "cell_type": "code",
   "execution_count": null,
   "metadata": {},
   "outputs": [],
   "source": [
    "mt.setThetaGeometryFromRun(pathlib.Path('/data/MCS/20191216_054'), onlyIfClear=False)"
   ]
  },
  {
   "cell_type": "markdown",
   "metadata": {},
   "source": [
    "# Theta Convergence"
   ]
  },
  {
   "cell_type": "code",
   "execution_count": null,
   "metadata": {
    "scrolled": true
   },
   "outputs": [],
   "source": [
    "#for scale in [1.2, 2.0, 3.0, 5.0, 8.0]:\n",
    "mt.thetaConvergenceTest(margin=15.0, runs=34, tries=8, \n",
    "                        fast=False, scaleFactor=3.0, tolerance=0.2)"
   ]
  },
  {
   "cell_type": "code",
   "execution_count": null,
   "metadata": {},
   "outputs": [],
   "source": [
    "vis = visDianosticPlot.VisDianosticPlot('/data/MCS/20191216_057/data/', brokens=broken, camSplit=28)\n",
    "vis.visConverge(figPath=f'/data/MCS/20191216_057/output/',runs = 34,\n",
    "                    arm='theta',pdffile= f'/data/MCS/20191216_057/output/converge_theta.pdf')"
   ]
  },
  {
   "cell_type": "code",
   "execution_count": null,
   "metadata": {},
   "outputs": [],
   "source": [
    "xml = pathlib.Path('/data/MCS/20191216_054/output/theta_250step.xml')\n",
    "broken=[]\n",
    "\n",
    "mt = ModuleTest('fpga', xml, brokens=broken)\n",
    "\n",
    "\n",
    "mt.gotoSafeFromPhi60(phiAngle=60.0, tolerance=1.0)"
   ]
  },
  {
   "cell_type": "code",
   "execution_count": null,
   "metadata": {},
   "outputs": [],
   "source": [
    "mt.pfi.moveAllSteps(mt.goodCobras, 0, -5000)"
   ]
  },
  {
   "cell_type": "markdown",
   "metadata": {},
   "source": [
    "# Recalculate Geometry"
   ]
  },
  {
   "cell_type": "code",
   "execution_count": 3,
   "metadata": {},
   "outputs": [],
   "source": [
    "xml = pathlib.Path('/data/MCS/20191216_054/output/theta_250step.xml')\n",
    "brokens = []\n",
    "camSplit = 28"
   ]
  },
  {
   "cell_type": "code",
   "execution_count": 5,
   "metadata": {},
   "outputs": [
    {
     "name": "stderr",
     "output_type": "stream",
     "text": [
      "2019-12-26 15:12:24.756Z root             20 pfiDesign.py:740 wrote pfiDesign file for 57 cobras and name=None to /data/SC30//SC30_final.xml\n"
     ]
    }
   ],
   "source": [
    "ana = moduleAnalyze.moduleAnalyze(xml, brokens, camSplit)\n",
    "\n",
    "dataPath = '/data/SC30/'\n",
    "phiPath = '/data/MCS/20191216_026/data'\n",
    "thetaPath = '/data/MCS/20191216_054/data/'\n",
    "ana.calculateGeometry('SC30_final.xml', dataPath, thetaPath, phiPath)\n",
    "ana.makeGeometryTable(dataPath)"
   ]
  },
  {
   "cell_type": "code",
   "execution_count": null,
   "metadata": {},
   "outputs": [],
   "source": []
  }
 ],
 "metadata": {
  "kernelspec": {
   "display_name": "Python 3",
   "language": "python",
   "name": "python3"
  },
  "language_info": {
   "codemirror_mode": {
    "name": "ipython",
    "version": 3
   },
   "file_extension": ".py",
   "mimetype": "text/x-python",
   "name": "python",
   "nbconvert_exporter": "python",
   "pygments_lexer": "ipython3",
   "version": "3.7.3"
  }
 },
 "nbformat": 4,
 "nbformat_minor": 2
}
