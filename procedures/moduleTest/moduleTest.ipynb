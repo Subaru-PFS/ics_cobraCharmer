{
 "cells": [
  {
   "cell_type": "code",
   "execution_count": 1,
   "metadata": {},
   "outputs": [],
   "source": [
    "from moduleTest import ModuleTest\n",
    "import pathlib\n",
    "import numpy as np\n",
    "\n",
    "np.set_printoptions(suppress=True)"
   ]
  },
  {
   "cell_type": "code",
   "execution_count": 2,
   "metadata": {},
   "outputs": [],
   "source": [
    "#xml = pathlib.Path('/home/pfs/Documents/cwen/ics_cobraCharmer/xml/SC15_init.xml')\n",
    "#xml = pathlib.Path('/data/MCS/20191025_009/output/SC15_phi_H150.xml')\n",
    "#xml = pathlib.Path('/home/pfs/Documents/cwen/ics_cobraCharmer/xml/SC15_12.xml')\n",
    "xml = pathlib.Path('/data/MCS/20191114_013/output/SC15_theta_250.xml')\n",
    "brokens = [1,55]\n",
    "mt = ModuleTest('fpga', xml, brokens=brokens)"
   ]
  },
  {
   "cell_type": "code",
   "execution_count": null,
   "metadata": {
    "scrolled": false
   },
   "outputs": [],
   "source": [
    "mt._connect()"
   ]
  },
  {
   "cell_type": "code",
   "execution_count": null,
   "metadata": {},
   "outputs": [],
   "source": [
    "_idx = np.zeros(57, 'bool')\n",
    "_idx[np.arange(2,57,3)] = True\n",
    "cobras = mt.goodCobras[_idx[mt.goodIdx]]"
   ]
  },
  {
   "cell_type": "code",
   "execution_count": null,
   "metadata": {},
   "outputs": [],
   "source": []
  },
  {
   "cell_type": "code",
   "execution_count": null,
   "metadata": {},
   "outputs": [],
   "source": []
  },
  {
   "cell_type": "code",
   "execution_count": null,
   "metadata": {
    "scrolled": true
   },
   "outputs": [],
   "source": [
    "mt.pfi.moveAllSteps(mt.goodCobras, 0, -5000)"
   ]
  },
  {
   "cell_type": "code",
   "execution_count": null,
   "metadata": {},
   "outputs": [],
   "source": [
    "mt.pfi.moveAllSteps(mt.goodCobras, -10000, 0)"
   ]
  },
  {
   "cell_type": "code",
   "execution_count": null,
   "metadata": {
    "scrolled": true
   },
   "outputs": [],
   "source": [
    "mt.cam.expose(doCentroid=False)"
   ]
  },
  {
   "cell_type": "code",
   "execution_count": null,
   "metadata": {
    "scrolled": true
   },
   "outputs": [],
   "source": [
    "pos = mt.exposeAndExtractPositions(tolerance=0.1)\n",
    "tht, phi, ov = mt.pfi.positionsToAngles(mt.goodCobras, pos)\n",
    "np.rad2deg(tht[:,0]), np.rad2deg((tht[:,0]+mt.pfi.calibModel.tht0[mt.goodIdx])%(np.pi*2)), np.rad2deg(phi[:,0])"
   ]
  },
  {
   "cell_type": "code",
   "execution_count": null,
   "metadata": {},
   "outputs": [],
   "source": [
    "mt.pfi.moveAllSteps(mt.allCobras[[32]], 50, 0)"
   ]
  },
  {
   "cell_type": "code",
   "execution_count": null,
   "metadata": {},
   "outputs": [],
   "source": []
  },
  {
   "cell_type": "code",
   "execution_count": null,
   "metadata": {},
   "outputs": [],
   "source": []
  },
  {
   "cell_type": "code",
   "execution_count": null,
   "metadata": {},
   "outputs": [],
   "source": []
  },
  {
   "cell_type": "code",
   "execution_count": null,
   "metadata": {},
   "outputs": [],
   "source": []
  },
  {
   "cell_type": "code",
   "execution_count": null,
   "metadata": {
    "scrolled": true
   },
   "outputs": [],
   "source": [
    "mt.setPhiGeometryFromRun(pathlib.Path('/data/MCS/20191114_002'), onlyIfClear=False)"
   ]
  },
  {
   "cell_type": "code",
   "execution_count": null,
   "metadata": {
    "scrolled": true
   },
   "outputs": [],
   "source": [
    "mt.makePhiMotorMap('SC15_phi_250.xml', steps=250, repeat=3, totalSteps=6000)"
   ]
  },
  {
   "cell_type": "code",
   "execution_count": null,
   "metadata": {
    "scrolled": true
   },
   "outputs": [],
   "source": [
    "mt.makePhiMotorMap('SC15_phi_H250.xml', steps=250, repeat=5, totalSteps=6000, fromHome=True)"
   ]
  },
  {
   "cell_type": "code",
   "execution_count": null,
   "metadata": {},
   "outputs": [],
   "source": []
  },
  {
   "cell_type": "code",
   "execution_count": null,
   "metadata": {
    "scrolled": true
   },
   "outputs": [],
   "source": [
    "mt.phiConvergenceTest(margin=15.0, runs=16, tries=8, fast=False, finalAngle=None, scaleFactor=3.0, tolerance=0.2)"
   ]
  },
  {
   "cell_type": "code",
   "execution_count": null,
   "metadata": {
    "scrolled": true
   },
   "outputs": [],
   "source": [
    "mt.moveToPhiAngle(angle=60.0, keepExistingPosition=False)"
   ]
  },
  {
   "cell_type": "code",
   "execution_count": null,
   "metadata": {
    "scrolled": true
   },
   "outputs": [],
   "source": [
    "mt.moveToPhiAngle(angle=60.0, keepExistingPosition=True)"
   ]
  },
  {
   "cell_type": "code",
   "execution_count": null,
   "metadata": {
    "scrolled": true
   },
   "outputs": [],
   "source": [
    "mt.phiCenter, np.rad2deg(mt.phiCCWHome), np.rad2deg(mt.phiCWHome)"
   ]
  },
  {
   "cell_type": "code",
   "execution_count": null,
   "metadata": {},
   "outputs": [],
   "source": []
  },
  {
   "cell_type": "code",
   "execution_count": 3,
   "metadata": {},
   "outputs": [
    {
     "name": "stderr",
     "output_type": "stream",
     "text": [
      "2019-11-14 16:37:31.700Z moduleTest       40 moduleTest.py:343 theta ranges for cobras [ 1 55] are too small: CW=[0. 0.] CCW=[0. 0.]\n",
      "2019-11-14 16:37:31.702Z moduleTest       40 moduleTest.py:346      [360. 360.]\n"
     ]
    }
   ],
   "source": [
    "mt.setThetaGeometryFromRun(pathlib.Path('/data/MCS/20191114_013'), onlyIfClear=False)"
   ]
  },
  {
   "cell_type": "code",
   "execution_count": null,
   "metadata": {
    "scrolled": true
   },
   "outputs": [],
   "source": [
    "mt.makeThetaMotorMap('SC15_theta_250.xml', steps=250, repeat=1, totalSteps=10000)"
   ]
  },
  {
   "cell_type": "code",
   "execution_count": null,
   "metadata": {
    "scrolled": true
   },
   "outputs": [],
   "source": [
    "mt.makeThetaMotorMap('SC15_theta_H250.xml', steps=250, repeat=20, totalSteps=10000, fromHome=True)"
   ]
  },
  {
   "cell_type": "code",
   "execution_count": null,
   "metadata": {},
   "outputs": [],
   "source": []
  },
  {
   "cell_type": "code",
   "execution_count": 4,
   "metadata": {
    "scrolled": true
   },
   "outputs": [
    {
     "name": "stderr",
     "output_type": "stream",
     "text": [
      "2019-11-14 16:39:11.176Z butler           30 butler.py:58 newRun: /data/MCS/20191114_015\n",
      "2019-11-14 16:39:11.178Z fpgaIO           20 pfi.py:57 FPGA connection to 128.149.77.24\n",
      "/home/pfs/Documents/cwen/ics_cobraCharmer/python/ics/cobraCharmer/pfiDesign.py:54: UserWarning: please use PFIDesign.loadModule() or PFIDesign.loadPFI()\n",
      "  warnings.warn('please use PFIDesign.loadModule() or PFIDesign.loadPFI()')\n",
      "2019-11-14 16:39:11.213Z pfi              20 pfi.py:73 load cobra model from /data/MCS/20191114_013/output/SC15_theta_250.xml\n",
      "2019-11-14 16:39:11.250Z camera           20 asrdCam.py:17 asrd...\n",
      "2019-11-14 16:39:11.278Z moduleTest       20 moduleTest.py:1586 Use current theta geometry setting!!!\n",
      "2019-11-14 16:39:11.279Z moduleTest       20 moduleTest.py:1605 Run 1: angle=15.00 degree\n"
     ]
    },
    {
     "name": "stdout",
     "output_type": "stream",
     "text": [
      "IS_COLORMODE_MONOCHROME: \n",
      "\tm_nColorMode: \t\t 34\n",
      "\tnBitsPerPixel: \t\t 10\n",
      "\tbytes_per_pixel: \t\t 2\n",
      "\n",
      "Camera model:\t\t UI318xCP-M\n",
      "Camera serial no.:\t 4103149829\n",
      "Maximum image self.width:\t 2592\n",
      "Maximum image self.height:\t 2048\n",
      "\n",
      "200\n",
      "IS_COLORMODE_MONOCHROME: \n",
      "\tm_nColorMode: \t\t 34\n",
      "\tnBitsPerPixel: \t\t 10\n",
      "\tbytes_per_pixel: \t\t 2\n",
      "\n",
      "Camera model:\t\t UI318xCP-M\n",
      "Camera serial no.:\t 4103118685\n",
      "Maximum image self.width:\t 2592\n",
      "Maximum image self.height:\t 2048\n",
      "\n",
      "200\n",
      "getting image\n",
      "(2048, 2592, 2)\n",
      "getting image\n",
      "(2048, 2592, 2)\n",
      "getting image\n",
      "(2048, 2592, 2)\n",
      "getting image\n",
      "(2048, 2592, 2)\n",
      "getting image\n",
      "(2048, 2592, 2)\n",
      "getting image\n",
      "(2048, 2592, 2)\n",
      "getting image\n",
      "(2048, 2592, 2)\n",
      "getting image\n",
      "(2048, 2592, 2)\n"
     ]
    },
    {
     "name": "stderr",
     "output_type": "stream",
     "text": [
      "2019-11-14 16:39:27.298Z moduleTest       20 moduleTest.py:1629 done: [ 1  2  3  4  6  7  8 15 16 17 19 23 24 26 28 30 35 36 39 40 43 45 46 47\n",
      " 48 49 51 52 55], 26 left\n"
     ]
    },
    {
     "name": "stdout",
     "output_type": "stream",
     "text": [
      "getting image\n",
      "(2048, 2592, 2)\n",
      "getting image\n",
      "(2048, 2592, 2)\n",
      "getting image\n",
      "(2048, 2592, 2)\n",
      "getting image\n",
      "(2048, 2592, 2)\n"
     ]
    },
    {
     "name": "stderr",
     "output_type": "stream",
     "text": [
      "2019-11-14 16:39:29.669Z moduleTest       20 moduleTest.py:1629 done: [ 5  9 12 14 18 20 25 27 29 32 33 37 41 42 44 50 53 56], 8 left\n"
     ]
    },
    {
     "name": "stdout",
     "output_type": "stream",
     "text": [
      "getting image\n",
      "(2048, 2592, 2)\n",
      "getting image\n",
      "(2048, 2592, 2)\n",
      "getting image\n",
      "(2048, 2592, 2)\n",
      "getting image\n",
      "(2048, 2592, 2)\n"
     ]
    },
    {
     "name": "stderr",
     "output_type": "stream",
     "text": [
      "2019-11-14 16:39:31.824Z moduleTest       20 moduleTest.py:1629 done: [10 11 21 22 31 34 38], 1 left\n"
     ]
    },
    {
     "name": "stdout",
     "output_type": "stream",
     "text": [
      "getting image\n",
      "(2048, 2592, 2)\n",
      "getting image\n",
      "(2048, 2592, 2)\n",
      "getting image\n",
      "(2048, 2592, 2)\n",
      "getting image\n",
      "(2048, 2592, 2)\n"
     ]
    },
    {
     "name": "stderr",
     "output_type": "stream",
     "text": [
      "2019-11-14 16:39:33.946Z moduleTest       20 moduleTest.py:1629 done: [13], 0 left\n",
      "2019-11-14 16:39:58.983Z moduleTest       20 moduleTest.py:1605 Run 2: angle=25.00 degree\n"
     ]
    },
    {
     "name": "stdout",
     "output_type": "stream",
     "text": [
      "getting image\n",
      "(2048, 2592, 2)\n",
      "getting image\n",
      "(2048, 2592, 2)\n",
      "getting image\n",
      "(2048, 2592, 2)\n",
      "getting image\n",
      "(2048, 2592, 2)\n",
      "getting image\n",
      "(2048, 2592, 2)\n",
      "getting image\n",
      "(2048, 2592, 2)\n",
      "getting image\n",
      "(2048, 2592, 2)\n",
      "getting image\n",
      "(2048, 2592, 2)\n"
     ]
    },
    {
     "name": "stderr",
     "output_type": "stream",
     "text": [
      "2019-11-14 16:40:04.846Z moduleTest       20 moduleTest.py:1629 done: [ 2  3  7 10 11 12 15 16 22 23 24 25 27 32 36 37 39 42 43 45 49 51 55], 32 left\n",
      "2019-11-14 16:40:04.849Z pfi              30 pfi.py:440 clipping (47, 'theta', 'cw') 1.22 to 1.142857142857143\n"
     ]
    },
    {
     "name": "stdout",
     "output_type": "stream",
     "text": [
      "getting image\n",
      "(2048, 2592, 2)\n",
      "getting image\n",
      "(2048, 2592, 2)\n",
      "getting image\n",
      "(2048, 2592, 2)\n",
      "getting image\n",
      "(2048, 2592, 2)\n"
     ]
    },
    {
     "name": "stderr",
     "output_type": "stream",
     "text": [
      "2019-11-14 16:40:07.200Z moduleTest       20 moduleTest.py:1629 done: [ 1  4  5  6  9 19 20 21 26 28 29 30 33 34 35 40 41 44 46 47 48 50 52 56], 8 left\n"
     ]
    },
    {
     "name": "stdout",
     "output_type": "stream",
     "text": [
      "getting image\n",
      "(2048, 2592, 2)\n",
      "getting image\n",
      "(2048, 2592, 2)\n",
      "getting image\n",
      "(2048, 2592, 2)\n",
      "getting image\n",
      "(2048, 2592, 2)\n"
     ]
    },
    {
     "name": "stderr",
     "output_type": "stream",
     "text": [
      "2019-11-14 16:40:09.160Z moduleTest       20 moduleTest.py:1629 done: [ 8 13 14 17 18 31 53], 1 left\n"
     ]
    },
    {
     "name": "stdout",
     "output_type": "stream",
     "text": [
      "getting image\n",
      "(2048, 2592, 2)\n",
      "getting image\n",
      "(2048, 2592, 2)\n",
      "getting image\n",
      "(2048, 2592, 2)\n",
      "getting image\n",
      "(2048, 2592, 2)\n"
     ]
    },
    {
     "name": "stderr",
     "output_type": "stream",
     "text": [
      "2019-11-14 16:40:11.160Z moduleTest       20 moduleTest.py:1629 done: [38], 0 left\n",
      "2019-11-14 16:40:36.197Z moduleTest       20 moduleTest.py:1605 Run 3: angle=35.00 degree\n"
     ]
    },
    {
     "name": "stdout",
     "output_type": "stream",
     "text": [
      "getting image\n",
      "(2048, 2592, 2)\n",
      "getting image\n",
      "(2048, 2592, 2)\n",
      "getting image\n",
      "(2048, 2592, 2)\n",
      "getting image\n",
      "(2048, 2592, 2)\n",
      "getting image\n",
      "(2048, 2592, 2)\n",
      "getting image\n",
      "(2048, 2592, 2)\n",
      "getting image\n",
      "(2048, 2592, 2)\n",
      "getting image\n",
      "(2048, 2592, 2)\n"
     ]
    },
    {
     "name": "stderr",
     "output_type": "stream",
     "text": [
      "2019-11-14 16:40:42.419Z moduleTest       20 moduleTest.py:1629 done: [ 2  6 11 16 19 22 23 24 25 26 27 32 36 37 41 42 44 45 48 49 51], 34 left\n"
     ]
    },
    {
     "name": "stdout",
     "output_type": "stream",
     "text": [
      "getting image\n",
      "(2048, 2592, 2)\n",
      "getting image\n",
      "(2048, 2592, 2)\n",
      "getting image\n",
      "(2048, 2592, 2)\n",
      "getting image\n",
      "(2048, 2592, 2)\n"
     ]
    },
    {
     "name": "stderr",
     "output_type": "stream",
     "text": [
      "2019-11-14 16:40:44.583Z moduleTest       20 moduleTest.py:1629 done: [ 3  4  5  7  8  9 10 12 13 15 17 18 21 28 29 30 33 34 35 38 39 40 43 50\n",
      " 53 55 56], 7 left\n"
     ]
    },
    {
     "name": "stdout",
     "output_type": "stream",
     "text": [
      "getting image\n",
      "(2048, 2592, 2)\n",
      "getting image\n",
      "(2048, 2592, 2)\n",
      "getting image\n",
      "(2048, 2592, 2)\n",
      "getting image\n",
      "(2048, 2592, 2)\n"
     ]
    },
    {
     "name": "stderr",
     "output_type": "stream",
     "text": [
      "2019-11-14 16:40:46.586Z moduleTest       20 moduleTest.py:1629 done: [ 1 14 20 46 47 52], 1 left\n"
     ]
    },
    {
     "name": "stdout",
     "output_type": "stream",
     "text": [
      "getting image\n",
      "(2048, 2592, 2)\n",
      "getting image\n",
      "(2048, 2592, 2)\n",
      "getting image\n",
      "(2048, 2592, 2)\n",
      "getting image\n",
      "(2048, 2592, 2)\n"
     ]
    },
    {
     "name": "stderr",
     "output_type": "stream",
     "text": [
      "2019-11-14 16:40:48.405Z moduleTest       20 moduleTest.py:1629 done: [31], 0 left\n",
      "2019-11-14 16:41:13.443Z moduleTest       20 moduleTest.py:1605 Run 4: angle=45.00 degree\n"
     ]
    },
    {
     "name": "stdout",
     "output_type": "stream",
     "text": [
      "getting image\n",
      "(2048, 2592, 2)\n",
      "getting image\n",
      "(2048, 2592, 2)\n",
      "getting image\n",
      "(2048, 2592, 2)\n",
      "getting image\n",
      "(2048, 2592, 2)\n",
      "getting image\n",
      "(2048, 2592, 2)\n",
      "getting image\n",
      "(2048, 2592, 2)\n",
      "getting image\n",
      "(2048, 2592, 2)\n",
      "getting image\n",
      "(2048, 2592, 2)\n"
     ]
    },
    {
     "name": "stderr",
     "output_type": "stream",
     "text": [
      "2019-11-14 16:41:20.276Z moduleTest       20 moduleTest.py:1629 done: [ 2  3  4  6  9 15 23 24 27 28 29 32 33 34 39 42 43 44 45 46 48 51 52 55\n",
      " 56], 30 left\n"
     ]
    },
    {
     "name": "stdout",
     "output_type": "stream",
     "text": [
      "getting image\n",
      "(2048, 2592, 2)\n",
      "getting image\n",
      "(2048, 2592, 2)\n",
      "getting image\n",
      "(2048, 2592, 2)\n",
      "getting image\n",
      "(2048, 2592, 2)\n"
     ]
    },
    {
     "name": "stderr",
     "output_type": "stream",
     "text": [
      "2019-11-14 16:41:22.271Z moduleTest       20 moduleTest.py:1629 done: [ 5  7  8 11 12 13 17 18 19 20 21 22 25 26 35 36 37 38 40 41 49 53], 8 left\n"
     ]
    },
    {
     "name": "stdout",
     "output_type": "stream",
     "text": [
      "getting image\n",
      "(2048, 2592, 2)\n",
      "getting image\n",
      "(2048, 2592, 2)\n",
      "getting image\n",
      "(2048, 2592, 2)\n",
      "getting image\n",
      "(2048, 2592, 2)\n"
     ]
    },
    {
     "name": "stderr",
     "output_type": "stream",
     "text": [
      "2019-11-14 16:41:24.304Z moduleTest       20 moduleTest.py:1629 done: [ 1 10 14 47 50], 3 left\n"
     ]
    },
    {
     "name": "stdout",
     "output_type": "stream",
     "text": [
      "getting image\n",
      "(2048, 2592, 2)\n",
      "getting image\n",
      "(2048, 2592, 2)\n",
      "getting image\n",
      "(2048, 2592, 2)\n",
      "getting image\n",
      "(2048, 2592, 2)\n"
     ]
    },
    {
     "name": "stderr",
     "output_type": "stream",
     "text": [
      "2019-11-14 16:41:26.304Z moduleTest       20 moduleTest.py:1629 done: [31], 2 left\n"
     ]
    },
    {
     "name": "stdout",
     "output_type": "stream",
     "text": [
      "getting image\n",
      "(2048, 2592, 2)\n",
      "getting image\n",
      "(2048, 2592, 2)\n",
      "getting image\n",
      "(2048, 2592, 2)\n",
      "getting image\n",
      "(2048, 2592, 2)\n"
     ]
    },
    {
     "name": "stderr",
     "output_type": "stream",
     "text": [
      "2019-11-14 16:41:28.185Z moduleTest       20 moduleTest.py:1629 done: [16], 1 left\n"
     ]
    },
    {
     "name": "stdout",
     "output_type": "stream",
     "text": [
      "getting image\n",
      "(2048, 2592, 2)\n",
      "getting image\n",
      "(2048, 2592, 2)\n",
      "getting image\n",
      "(2048, 2592, 2)\n",
      "getting image\n",
      "(2048, 2592, 2)\n"
     ]
    },
    {
     "name": "stderr",
     "output_type": "stream",
     "text": [
      "2019-11-14 16:41:30.184Z moduleTest       20 moduleTest.py:1629 done: [30], 0 left\n",
      "2019-11-14 16:41:55.228Z moduleTest       20 moduleTest.py:1605 Run 5: angle=55.00 degree\n"
     ]
    },
    {
     "name": "stdout",
     "output_type": "stream",
     "text": [
      "getting image\n",
      "(2048, 2592, 2)\n",
      "getting image\n",
      "(2048, 2592, 2)\n",
      "getting image\n",
      "(2048, 2592, 2)\n",
      "getting image\n",
      "(2048, 2592, 2)\n",
      "getting image\n",
      "(2048, 2592, 2)\n",
      "getting image\n",
      "(2048, 2592, 2)\n",
      "getting image\n",
      "(2048, 2592, 2)\n",
      "getting image\n",
      "(2048, 2592, 2)\n"
     ]
    },
    {
     "name": "stderr",
     "output_type": "stream",
     "text": [
      "2019-11-14 16:42:03.527Z moduleTest       20 moduleTest.py:1629 done: [11 12 21 24 26 27 28 32 35 39 42 44 51 55], 41 left\n"
     ]
    },
    {
     "name": "stdout",
     "output_type": "stream",
     "text": [
      "getting image\n",
      "(2048, 2592, 2)\n",
      "getting image\n",
      "(2048, 2592, 2)\n",
      "getting image\n",
      "(2048, 2592, 2)\n",
      "getting image\n",
      "(2048, 2592, 2)\n"
     ]
    },
    {
     "name": "stderr",
     "output_type": "stream",
     "text": [
      "2019-11-14 16:42:05.709Z moduleTest       20 moduleTest.py:1629 done: [ 2  4  5  6  7  9 13 14 15 17 18 22 23 29 34 37 38 40 43 45 46 47 48 49\n",
      " 50 52 53 56], 13 left\n"
     ]
    },
    {
     "name": "stdout",
     "output_type": "stream",
     "text": [
      "getting image\n",
      "(2048, 2592, 2)\n",
      "getting image\n",
      "(2048, 2592, 2)\n",
      "getting image\n",
      "(2048, 2592, 2)\n",
      "getting image\n",
      "(2048, 2592, 2)\n"
     ]
    },
    {
     "name": "stderr",
     "output_type": "stream",
     "text": [
      "2019-11-14 16:42:07.914Z moduleTest       20 moduleTest.py:1629 done: [ 1  3  8 10 19 20 25 30 31 33 36 41], 1 left\n"
     ]
    },
    {
     "name": "stdout",
     "output_type": "stream",
     "text": [
      "getting image\n",
      "(2048, 2592, 2)\n",
      "getting image\n",
      "(2048, 2592, 2)\n",
      "getting image\n",
      "(2048, 2592, 2)\n",
      "getting image\n",
      "(2048, 2592, 2)\n",
      "getting image\n",
      "(2048, 2592, 2)\n",
      "getting image\n",
      "(2048, 2592, 2)\n",
      "getting image\n",
      "(2048, 2592, 2)\n",
      "getting image\n",
      "(2048, 2592, 2)\n"
     ]
    },
    {
     "name": "stderr",
     "output_type": "stream",
     "text": [
      "2019-11-14 16:42:11.910Z moduleTest       20 moduleTest.py:1629 done: [16], 0 left\n",
      "2019-11-14 16:42:36.948Z moduleTest       20 moduleTest.py:1605 Run 6: angle=65.00 degree\n"
     ]
    },
    {
     "name": "stdout",
     "output_type": "stream",
     "text": [
      "getting image\n",
      "(2048, 2592, 2)\n",
      "getting image\n",
      "(2048, 2592, 2)\n",
      "getting image\n",
      "(2048, 2592, 2)\n",
      "getting image\n",
      "(2048, 2592, 2)\n",
      "getting image\n",
      "(2048, 2592, 2)\n",
      "getting image\n",
      "(2048, 2592, 2)\n",
      "getting image\n",
      "(2048, 2592, 2)\n",
      "getting image\n",
      "(2048, 2592, 2)\n"
     ]
    },
    {
     "name": "stderr",
     "output_type": "stream",
     "text": [
      "2019-11-14 16:42:45.420Z moduleTest       20 moduleTest.py:1629 done: [11 13 14 15 20 21 24 35 39 40 42 43 46 52 53 56], 39 left\n",
      "2019-11-14 16:42:45.423Z pfi              30 pfi.py:440 clipping (28, 'theta', 'ccw') 1.26 to 1.230769230769231\n"
     ]
    },
    {
     "name": "stdout",
     "output_type": "stream",
     "text": [
      "getting image\n",
      "(2048, 2592, 2)\n",
      "getting image\n",
      "(2048, 2592, 2)\n",
      "getting image\n",
      "(2048, 2592, 2)\n",
      "getting image\n",
      "(2048, 2592, 2)\n"
     ]
    },
    {
     "name": "stderr",
     "output_type": "stream",
     "text": [
      "2019-11-14 16:42:47.632Z moduleTest       20 moduleTest.py:1629 done: [ 2  3  4  5  8  9 17 18 22 23 25 26 27 28 32 33 34 37 45 49 50 51], 17 left\n"
     ]
    },
    {
     "name": "stdout",
     "output_type": "stream",
     "text": [
      "getting image\n",
      "(2048, 2592, 2)\n",
      "getting image\n",
      "(2048, 2592, 2)\n",
      "getting image\n",
      "(2048, 2592, 2)\n",
      "getting image\n",
      "(2048, 2592, 2)\n"
     ]
    },
    {
     "name": "stderr",
     "output_type": "stream",
     "text": [
      "2019-11-14 16:42:49.821Z moduleTest       20 moduleTest.py:1629 done: [ 6  7 10 12 19 29 30 31 36 38 41 44 47 48 55], 2 left\n"
     ]
    },
    {
     "name": "stdout",
     "output_type": "stream",
     "text": [
      "getting image\n",
      "(2048, 2592, 2)\n",
      "getting image\n",
      "(2048, 2592, 2)\n",
      "getting image\n",
      "(2048, 2592, 2)\n",
      "getting image\n",
      "(2048, 2592, 2)\n",
      "getting image\n",
      "(2048, 2592, 2)\n",
      "getting image\n",
      "(2048, 2592, 2)\n",
      "getting image\n",
      "(2048, 2592, 2)\n",
      "getting image\n",
      "(2048, 2592, 2)\n"
     ]
    },
    {
     "name": "stderr",
     "output_type": "stream",
     "text": [
      "2019-11-14 16:42:54.017Z moduleTest       20 moduleTest.py:1629 done: [ 1 16], 0 left\n",
      "2019-11-14 16:43:19.055Z moduleTest       20 moduleTest.py:1605 Run 7: angle=75.00 degree\n"
     ]
    },
    {
     "name": "stdout",
     "output_type": "stream",
     "text": [
      "getting image\n",
      "(2048, 2592, 2)\n",
      "getting image\n",
      "(2048, 2592, 2)\n",
      "getting image\n",
      "(2048, 2592, 2)\n",
      "getting image\n",
      "(2048, 2592, 2)\n",
      "getting image\n",
      "(2048, 2592, 2)\n",
      "getting image\n",
      "(2048, 2592, 2)\n",
      "getting image\n",
      "(2048, 2592, 2)\n",
      "getting image\n",
      "(2048, 2592, 2)\n"
     ]
    },
    {
     "name": "stderr",
     "output_type": "stream",
     "text": [
      "2019-11-14 16:43:27.963Z moduleTest       20 moduleTest.py:1629 done: [ 6 12 14 15 22 32 37 39 42 44 45 49], 43 left\n"
     ]
    },
    {
     "name": "stdout",
     "output_type": "stream",
     "text": [
      "getting image\n",
      "(2048, 2592, 2)\n",
      "getting image\n",
      "(2048, 2592, 2)\n",
      "getting image\n",
      "(2048, 2592, 2)\n",
      "getting image\n",
      "(2048, 2592, 2)\n"
     ]
    },
    {
     "name": "stderr",
     "output_type": "stream",
     "text": [
      "2019-11-14 16:43:30.329Z moduleTest       20 moduleTest.py:1629 done: [ 4  5  7 10 11 13 17 18 19 20 21 23 24 25 27 28 29 30 31 33 35 36 38 43\n",
      " 46 47 50 52 53 55 56], 12 left\n"
     ]
    },
    {
     "name": "stdout",
     "output_type": "stream",
     "text": [
      "getting image\n",
      "(2048, 2592, 2)\n",
      "getting image\n",
      "(2048, 2592, 2)\n",
      "getting image\n",
      "(2048, 2592, 2)\n",
      "getting image\n",
      "(2048, 2592, 2)\n"
     ]
    },
    {
     "name": "stderr",
     "output_type": "stream",
     "text": [
      "2019-11-14 16:43:32.518Z moduleTest       20 moduleTest.py:1629 done: [ 3  8  9 16 26 34 40 41 48 51], 2 left\n"
     ]
    },
    {
     "name": "stdout",
     "output_type": "stream",
     "text": [
      "getting image\n",
      "(2048, 2592, 2)\n",
      "getting image\n",
      "(2048, 2592, 2)\n",
      "getting image\n",
      "(2048, 2592, 2)\n",
      "getting image\n",
      "(2048, 2592, 2)\n",
      "getting image\n",
      "(2048, 2592, 2)\n",
      "getting image\n",
      "(2048, 2592, 2)\n",
      "getting image\n",
      "(2048, 2592, 2)\n",
      "getting image\n",
      "(2048, 2592, 2)\n"
     ]
    },
    {
     "name": "stderr",
     "output_type": "stream",
     "text": [
      "2019-11-14 16:43:36.871Z moduleTest       20 moduleTest.py:1629 done: [1 2], 0 left\n",
      "2019-11-14 16:44:01.915Z moduleTest       20 moduleTest.py:1605 Run 8: angle=85.00 degree\n"
     ]
    },
    {
     "name": "stdout",
     "output_type": "stream",
     "text": [
      "getting image\n",
      "(2048, 2592, 2)\n",
      "getting image\n",
      "(2048, 2592, 2)\n",
      "getting image\n",
      "(2048, 2592, 2)\n",
      "getting image\n",
      "(2048, 2592, 2)\n",
      "getting image\n",
      "(2048, 2592, 2)\n",
      "getting image\n",
      "(2048, 2592, 2)\n",
      "getting image\n",
      "(2048, 2592, 2)\n",
      "getting image\n",
      "(2048, 2592, 2)\n"
     ]
    },
    {
     "name": "stderr",
     "output_type": "stream",
     "text": [
      "2019-11-14 16:44:11.999Z moduleTest       20 moduleTest.py:1629 done: [10 12 15 17 20 21 22 25 32 37 42 50], 43 left\n",
      "2019-11-14 16:44:12.002Z pfi              30 pfi.py:440 clipping (28, 'theta', 'ccw') 1.29 to 1.230769230769231\n"
     ]
    },
    {
     "name": "stdout",
     "output_type": "stream",
     "text": [
      "getting image\n",
      "(2048, 2592, 2)\n",
      "getting image\n",
      "(2048, 2592, 2)\n",
      "getting image\n",
      "(2048, 2592, 2)\n",
      "getting image\n",
      "(2048, 2592, 2)\n"
     ]
    },
    {
     "name": "stderr",
     "output_type": "stream",
     "text": [
      "2019-11-14 16:44:14.508Z moduleTest       20 moduleTest.py:1629 done: [ 1  3  4  5  6  7  9 11 13 14 16 18 19 23 24 28 30 33 34 35 36 38 39 43\n",
      " 44 45 46 49 51 55 56], 12 left\n"
     ]
    },
    {
     "name": "stdout",
     "output_type": "stream",
     "text": [
      "getting image\n",
      "(2048, 2592, 2)\n",
      "getting image\n",
      "(2048, 2592, 2)\n",
      "getting image\n",
      "(2048, 2592, 2)\n",
      "getting image\n",
      "(2048, 2592, 2)\n"
     ]
    },
    {
     "name": "stderr",
     "output_type": "stream",
     "text": [
      "2019-11-14 16:44:16.747Z moduleTest       20 moduleTest.py:1629 done: [ 2  8 26 27 31 40 41 47 48 52 53], 1 left\n"
     ]
    },
    {
     "name": "stdout",
     "output_type": "stream",
     "text": [
      "getting image\n",
      "(2048, 2592, 2)\n",
      "getting image\n",
      "(2048, 2592, 2)\n",
      "getting image\n",
      "(2048, 2592, 2)\n",
      "getting image\n",
      "(2048, 2592, 2)\n"
     ]
    },
    {
     "name": "stderr",
     "output_type": "stream",
     "text": [
      "2019-11-14 16:44:18.897Z moduleTest       20 moduleTest.py:1629 done: [29], 0 left\n",
      "2019-11-14 16:44:43.942Z moduleTest       20 moduleTest.py:1605 Run 9: angle=95.00 degree\n"
     ]
    },
    {
     "name": "stdout",
     "output_type": "stream",
     "text": [
      "getting image\n",
      "(2048, 2592, 2)\n",
      "getting image\n",
      "(2048, 2592, 2)\n",
      "getting image\n",
      "(2048, 2592, 2)\n",
      "getting image\n",
      "(2048, 2592, 2)\n",
      "getting image\n",
      "(2048, 2592, 2)\n",
      "getting image\n",
      "(2048, 2592, 2)\n",
      "getting image\n",
      "(2048, 2592, 2)\n",
      "getting image\n",
      "(2048, 2592, 2)\n"
     ]
    },
    {
     "name": "stderr",
     "output_type": "stream",
     "text": [
      "2019-11-14 16:44:54.175Z moduleTest       20 moduleTest.py:1629 done: [ 5  7 17 21 22 25 32 33 35 39 42 50 52], 42 left\n"
     ]
    },
    {
     "name": "stdout",
     "output_type": "stream",
     "text": [
      "getting image\n",
      "(2048, 2592, 2)\n",
      "getting image\n",
      "(2048, 2592, 2)\n",
      "getting image\n",
      "(2048, 2592, 2)\n",
      "getting image\n",
      "(2048, 2592, 2)\n"
     ]
    },
    {
     "name": "stderr",
     "output_type": "stream",
     "text": [
      "2019-11-14 16:44:56.712Z moduleTest       20 moduleTest.py:1629 done: [ 1  2  3  6 11 12 13 15 16 18 19 20 23 24 26 28 30 31 36 37 38 41 44 45\n",
      " 47 49 51 53], 14 left\n"
     ]
    },
    {
     "name": "stdout",
     "output_type": "stream",
     "text": [
      "getting image\n",
      "(2048, 2592, 2)\n",
      "getting image\n",
      "(2048, 2592, 2)\n",
      "getting image\n",
      "(2048, 2592, 2)\n",
      "getting image\n",
      "(2048, 2592, 2)\n"
     ]
    },
    {
     "name": "stderr",
     "output_type": "stream",
     "text": [
      "2019-11-14 16:44:59.050Z moduleTest       20 moduleTest.py:1629 done: [ 4  8  9 27 29 34 40 43 46 55 56], 3 left\n"
     ]
    },
    {
     "name": "stdout",
     "output_type": "stream",
     "text": [
      "getting image\n",
      "(2048, 2592, 2)\n",
      "getting image\n",
      "(2048, 2592, 2)\n",
      "getting image\n",
      "(2048, 2592, 2)\n",
      "getting image\n",
      "(2048, 2592, 2)\n"
     ]
    },
    {
     "name": "stderr",
     "output_type": "stream",
     "text": [
      "2019-11-14 16:45:01.262Z moduleTest       20 moduleTest.py:1629 done: [14 48], 1 left\n"
     ]
    },
    {
     "name": "stdout",
     "output_type": "stream",
     "text": [
      "getting image\n",
      "(2048, 2592, 2)\n",
      "getting image\n",
      "(2048, 2592, 2)\n",
      "getting image\n",
      "(2048, 2592, 2)\n",
      "getting image\n",
      "(2048, 2592, 2)\n"
     ]
    },
    {
     "name": "stderr",
     "output_type": "stream",
     "text": [
      "2019-11-14 16:45:03.441Z moduleTest       20 moduleTest.py:1629 done: [10], 0 left\n",
      "2019-11-14 16:45:28.480Z moduleTest       20 moduleTest.py:1605 Run 10: angle=105.00 degree\n"
     ]
    },
    {
     "name": "stdout",
     "output_type": "stream",
     "text": [
      "getting image\n",
      "(2048, 2592, 2)\n",
      "getting image\n",
      "(2048, 2592, 2)\n",
      "getting image\n",
      "(2048, 2592, 2)\n",
      "getting image\n",
      "(2048, 2592, 2)\n",
      "getting image\n",
      "(2048, 2592, 2)\n",
      "getting image\n",
      "(2048, 2592, 2)\n",
      "getting image\n",
      "(2048, 2592, 2)\n",
      "getting image\n",
      "(2048, 2592, 2)\n"
     ]
    },
    {
     "name": "stderr",
     "output_type": "stream",
     "text": [
      "2019-11-14 16:45:39.064Z moduleTest       20 moduleTest.py:1629 done: [ 4 11 15 21 23 25 31 32 36 37 42 50 55 56], 41 left\n"
     ]
    },
    {
     "name": "stdout",
     "output_type": "stream",
     "text": [
      "getting image\n",
      "(2048, 2592, 2)\n",
      "getting image\n",
      "(2048, 2592, 2)\n",
      "getting image\n",
      "(2048, 2592, 2)\n",
      "getting image\n",
      "(2048, 2592, 2)\n"
     ]
    },
    {
     "name": "stderr",
     "output_type": "stream",
     "text": [
      "2019-11-14 16:45:41.727Z moduleTest       20 moduleTest.py:1629 done: [ 3  7  8 12 16 17 18 19 20 22 24 26 27 29 30 33 34 35 38 39 41 46 47 49\n",
      " 52 53], 15 left\n"
     ]
    },
    {
     "name": "stdout",
     "output_type": "stream",
     "text": [
      "getting image\n",
      "(2048, 2592, 2)\n",
      "getting image\n",
      "(2048, 2592, 2)\n",
      "getting image\n",
      "(2048, 2592, 2)\n",
      "getting image\n",
      "(2048, 2592, 2)\n"
     ]
    },
    {
     "name": "stderr",
     "output_type": "stream",
     "text": [
      "2019-11-14 16:45:44.113Z moduleTest       20 moduleTest.py:1629 done: [ 2  5  6  9 13 14 28 40 43 44 45 48 51], 2 left\n"
     ]
    },
    {
     "name": "stdout",
     "output_type": "stream",
     "text": [
      "getting image\n",
      "(2048, 2592, 2)\n",
      "getting image\n",
      "(2048, 2592, 2)\n",
      "getting image\n",
      "(2048, 2592, 2)\n",
      "getting image\n",
      "(2048, 2592, 2)\n",
      "getting image\n",
      "(2048, 2592, 2)\n",
      "getting image\n",
      "(2048, 2592, 2)\n",
      "getting image\n",
      "(2048, 2592, 2)\n",
      "getting image\n",
      "(2048, 2592, 2)\n"
     ]
    },
    {
     "name": "stderr",
     "output_type": "stream",
     "text": [
      "2019-11-14 16:45:48.618Z moduleTest       20 moduleTest.py:1629 done: [ 1 10], 0 left\n",
      "2019-11-14 16:46:13.656Z moduleTest       20 moduleTest.py:1605 Run 11: angle=115.00 degree\n"
     ]
    },
    {
     "name": "stdout",
     "output_type": "stream",
     "text": [
      "getting image\n",
      "(2048, 2592, 2)\n",
      "getting image\n",
      "(2048, 2592, 2)\n",
      "getting image\n",
      "(2048, 2592, 2)\n",
      "getting image\n",
      "(2048, 2592, 2)\n",
      "getting image\n",
      "(2048, 2592, 2)\n",
      "getting image\n",
      "(2048, 2592, 2)\n",
      "getting image\n",
      "(2048, 2592, 2)\n",
      "getting image\n",
      "(2048, 2592, 2)\n"
     ]
    },
    {
     "name": "stderr",
     "output_type": "stream",
     "text": [
      "2019-11-14 16:46:25.044Z moduleTest       20 moduleTest.py:1629 done: [ 4 11 14 22 23 34 39 42 47 49 50 56], 43 left\n"
     ]
    },
    {
     "name": "stdout",
     "output_type": "stream",
     "text": [
      "getting image\n",
      "(2048, 2592, 2)\n",
      "getting image\n",
      "(2048, 2592, 2)\n",
      "getting image\n",
      "(2048, 2592, 2)\n",
      "getting image\n",
      "(2048, 2592, 2)\n"
     ]
    },
    {
     "name": "stderr",
     "output_type": "stream",
     "text": [
      "2019-11-14 16:46:27.604Z moduleTest       20 moduleTest.py:1629 done: [ 3  5 12 13 17 18 19 20 21 25 27 28 32 35 36 37 38 40 41 46 53 55], 21 left\n"
     ]
    },
    {
     "name": "stdout",
     "output_type": "stream",
     "text": [
      "getting image\n",
      "(2048, 2592, 2)\n",
      "getting image\n",
      "(2048, 2592, 2)\n",
      "getting image\n",
      "(2048, 2592, 2)\n",
      "getting image\n",
      "(2048, 2592, 2)\n"
     ]
    },
    {
     "name": "stderr",
     "output_type": "stream",
     "text": [
      "2019-11-14 16:46:30.121Z moduleTest       20 moduleTest.py:1629 done: [ 2  7  8  9 15 16 24 26 29 31 33 43 51 52], 7 left\n"
     ]
    },
    {
     "name": "stdout",
     "output_type": "stream",
     "text": [
      "getting image\n",
      "(2048, 2592, 2)\n",
      "getting image\n",
      "(2048, 2592, 2)\n",
      "getting image\n",
      "(2048, 2592, 2)\n",
      "getting image\n",
      "(2048, 2592, 2)\n"
     ]
    },
    {
     "name": "stderr",
     "output_type": "stream",
     "text": [
      "2019-11-14 16:46:32.450Z moduleTest       20 moduleTest.py:1629 done: [ 6 10 30 45 48], 2 left\n"
     ]
    },
    {
     "name": "stdout",
     "output_type": "stream",
     "text": [
      "getting image\n",
      "(2048, 2592, 2)\n",
      "getting image\n",
      "(2048, 2592, 2)\n",
      "getting image\n",
      "(2048, 2592, 2)\n",
      "getting image\n",
      "(2048, 2592, 2)\n",
      "getting image\n",
      "(2048, 2592, 2)\n",
      "getting image\n",
      "(2048, 2592, 2)\n",
      "getting image\n",
      "(2048, 2592, 2)\n",
      "getting image\n",
      "(2048, 2592, 2)\n"
     ]
    },
    {
     "name": "stderr",
     "output_type": "stream",
     "text": [
      "2019-11-14 16:46:36.841Z moduleTest       20 moduleTest.py:1629 done: [44], 1 left\n"
     ]
    },
    {
     "name": "stdout",
     "output_type": "stream",
     "text": [
      "getting image\n",
      "(2048, 2592, 2)\n",
      "getting image\n",
      "(2048, 2592, 2)\n",
      "getting image\n",
      "(2048, 2592, 2)\n",
      "getting image\n",
      "(2048, 2592, 2)\n"
     ]
    },
    {
     "name": "stderr",
     "output_type": "stream",
     "text": [
      "2019-11-14 16:46:39.000Z moduleTest       30 moduleTest.py:1653 1 cobras did not finish: [1], [115.38]\n",
      "2019-11-14 16:47:04.039Z moduleTest       20 moduleTest.py:1605 Run 12: angle=125.00 degree\n"
     ]
    },
    {
     "name": "stdout",
     "output_type": "stream",
     "text": [
      "getting image\n",
      "(2048, 2592, 2)\n",
      "getting image\n",
      "(2048, 2592, 2)\n",
      "getting image\n",
      "(2048, 2592, 2)\n",
      "getting image\n",
      "(2048, 2592, 2)\n",
      "getting image\n",
      "(2048, 2592, 2)\n",
      "getting image\n",
      "(2048, 2592, 2)\n",
      "getting image\n",
      "(2048, 2592, 2)\n",
      "getting image\n",
      "(2048, 2592, 2)\n"
     ]
    },
    {
     "name": "stderr",
     "output_type": "stream",
     "text": [
      "2019-11-14 16:47:16.785Z moduleTest       20 moduleTest.py:1629 done: [ 1 13 19 22 31 42 46 47 49 50 52 53], 43 left\n"
     ]
    },
    {
     "name": "stdout",
     "output_type": "stream",
     "text": [
      "getting image\n",
      "(2048, 2592, 2)\n",
      "getting image\n",
      "(2048, 2592, 2)\n",
      "getting image\n",
      "(2048, 2592, 2)\n",
      "getting image\n",
      "(2048, 2592, 2)\n"
     ]
    },
    {
     "name": "stderr",
     "output_type": "stream",
     "text": [
      "2019-11-14 16:47:19.451Z moduleTest       20 moduleTest.py:1629 done: [ 4  5  7  8  9 11 12 14 15 17 18 20 21 23 24 27 30 32 33 34 35 37 38 39\n",
      " 40 41 55 56], 15 left\n"
     ]
    },
    {
     "name": "stdout",
     "output_type": "stream",
     "text": [
      "getting image\n",
      "(2048, 2592, 2)\n",
      "getting image\n",
      "(2048, 2592, 2)\n",
      "getting image\n",
      "(2048, 2592, 2)\n",
      "getting image\n",
      "(2048, 2592, 2)\n"
     ]
    },
    {
     "name": "stderr",
     "output_type": "stream",
     "text": [
      "2019-11-14 16:47:21.988Z moduleTest       20 moduleTest.py:1629 done: [ 2  3 10 25 28 29 36 43 44 45 51], 4 left\n"
     ]
    },
    {
     "name": "stdout",
     "output_type": "stream",
     "text": [
      "getting image\n",
      "(2048, 2592, 2)\n",
      "getting image\n",
      "(2048, 2592, 2)\n",
      "getting image\n",
      "(2048, 2592, 2)\n",
      "getting image\n",
      "(2048, 2592, 2)\n"
     ]
    },
    {
     "name": "stderr",
     "output_type": "stream",
     "text": [
      "2019-11-14 16:47:24.147Z moduleTest       20 moduleTest.py:1629 done: [16 26 48], 1 left\n"
     ]
    },
    {
     "name": "stdout",
     "output_type": "stream",
     "text": [
      "getting image\n",
      "(2048, 2592, 2)\n",
      "getting image\n",
      "(2048, 2592, 2)\n",
      "getting image\n",
      "(2048, 2592, 2)\n",
      "getting image\n",
      "(2048, 2592, 2)\n"
     ]
    },
    {
     "name": "stderr",
     "output_type": "stream",
     "text": [
      "2019-11-14 16:47:26.350Z moduleTest       20 moduleTest.py:1629 done: [6], 0 left\n",
      "2019-11-14 16:47:51.393Z moduleTest       20 moduleTest.py:1605 Run 13: angle=135.00 degree\n"
     ]
    },
    {
     "name": "stdout",
     "output_type": "stream",
     "text": [
      "getting image\n",
      "(2048, 2592, 2)\n",
      "getting image\n",
      "(2048, 2592, 2)\n",
      "getting image\n",
      "(2048, 2592, 2)\n",
      "getting image\n",
      "(2048, 2592, 2)\n",
      "getting image\n",
      "(2048, 2592, 2)\n",
      "getting image\n",
      "(2048, 2592, 2)\n",
      "getting image\n",
      "(2048, 2592, 2)\n",
      "getting image\n",
      "(2048, 2592, 2)\n"
     ]
    },
    {
     "name": "stderr",
     "output_type": "stream",
     "text": [
      "2019-11-14 16:48:04.596Z moduleTest       20 moduleTest.py:1629 done: [ 4  8 13 15 20 21 24 30 31 33 35 42 47 49], 41 left\n"
     ]
    },
    {
     "name": "stdout",
     "output_type": "stream",
     "text": [
      "getting image\n",
      "(2048, 2592, 2)\n",
      "getting image\n",
      "(2048, 2592, 2)\n",
      "getting image\n",
      "(2048, 2592, 2)\n",
      "getting image\n",
      "(2048, 2592, 2)\n"
     ]
    },
    {
     "name": "stderr",
     "output_type": "stream",
     "text": [
      "2019-11-14 16:48:07.129Z moduleTest       20 moduleTest.py:1629 done: [ 2  3  5  7  9 10 11 12 14 17 18 19 23 27 36 38 40 44 50 52 55], 20 left\n"
     ]
    },
    {
     "name": "stdout",
     "output_type": "stream",
     "text": [
      "getting image\n",
      "(2048, 2592, 2)\n",
      "getting image\n",
      "(2048, 2592, 2)\n",
      "getting image\n",
      "(2048, 2592, 2)\n",
      "getting image\n",
      "(2048, 2592, 2)\n"
     ]
    },
    {
     "name": "stderr",
     "output_type": "stream",
     "text": [
      "2019-11-14 16:48:09.661Z moduleTest       20 moduleTest.py:1629 done: [ 1 22 25 26 28 29 34 37 39 41 43 45 46 48 51 56], 4 left\n"
     ]
    },
    {
     "name": "stdout",
     "output_type": "stream",
     "text": [
      "getting image\n",
      "(2048, 2592, 2)\n",
      "getting image\n",
      "(2048, 2592, 2)\n",
      "getting image\n",
      "(2048, 2592, 2)\n",
      "getting image\n",
      "(2048, 2592, 2)\n"
     ]
    },
    {
     "name": "stderr",
     "output_type": "stream",
     "text": [
      "2019-11-14 16:48:12.009Z moduleTest       20 moduleTest.py:1629 done: [16 32 53], 1 left\n"
     ]
    },
    {
     "name": "stdout",
     "output_type": "stream",
     "text": [
      "getting image\n",
      "(2048, 2592, 2)\n",
      "getting image\n",
      "(2048, 2592, 2)\n",
      "getting image\n",
      "(2048, 2592, 2)\n",
      "getting image\n",
      "(2048, 2592, 2)\n"
     ]
    },
    {
     "name": "stderr",
     "output_type": "stream",
     "text": [
      "2019-11-14 16:48:14.369Z moduleTest       20 moduleTest.py:1629 done: [6], 0 left\n",
      "2019-11-14 16:48:39.406Z moduleTest       20 moduleTest.py:1605 Run 14: angle=145.00 degree\n"
     ]
    },
    {
     "name": "stdout",
     "output_type": "stream",
     "text": [
      "getting image\n",
      "(2048, 2592, 2)\n",
      "getting image\n",
      "(2048, 2592, 2)\n",
      "getting image\n",
      "(2048, 2592, 2)\n",
      "getting image\n",
      "(2048, 2592, 2)\n",
      "getting image\n",
      "(2048, 2592, 2)\n",
      "getting image\n",
      "(2048, 2592, 2)\n",
      "getting image\n",
      "(2048, 2592, 2)\n",
      "getting image\n",
      "(2048, 2592, 2)\n"
     ]
    },
    {
     "name": "stderr",
     "output_type": "stream",
     "text": [
      "2019-11-14 16:48:53.790Z moduleTest       20 moduleTest.py:1629 done: [ 7 11 17 23 26 46 47 49], 47 left\n"
     ]
    },
    {
     "name": "stdout",
     "output_type": "stream",
     "text": [
      "getting image\n",
      "(2048, 2592, 2)\n",
      "getting image\n",
      "(2048, 2592, 2)\n",
      "getting image\n",
      "(2048, 2592, 2)\n",
      "getting image\n",
      "(2048, 2592, 2)\n"
     ]
    },
    {
     "name": "stderr",
     "output_type": "stream",
     "text": [
      "2019-11-14 16:48:56.314Z moduleTest       20 moduleTest.py:1629 done: [ 2  3  4  5  8 10 12 13 14 15 18 19 21 22 24 25 27 30 32 33 34 35 36 37\n",
      " 38 39 40 42 51 52 53 55], 15 left\n"
     ]
    },
    {
     "name": "stdout",
     "output_type": "stream",
     "text": [
      "getting image\n",
      "(2048, 2592, 2)\n",
      "getting image\n",
      "(2048, 2592, 2)\n",
      "getting image\n",
      "(2048, 2592, 2)\n",
      "getting image\n",
      "(2048, 2592, 2)\n"
     ]
    },
    {
     "name": "stderr",
     "output_type": "stream",
     "text": [
      "2019-11-14 16:48:58.674Z moduleTest       20 moduleTest.py:1629 done: [ 6  9 20 28 29 31 41 43 45 48 50], 4 left\n"
     ]
    },
    {
     "name": "stdout",
     "output_type": "stream",
     "text": [
      "getting image\n",
      "(2048, 2592, 2)\n",
      "getting image\n",
      "(2048, 2592, 2)\n",
      "getting image\n",
      "(2048, 2592, 2)\n",
      "getting image\n",
      "(2048, 2592, 2)\n"
     ]
    },
    {
     "name": "stderr",
     "output_type": "stream",
     "text": [
      "2019-11-14 16:49:01.031Z moduleTest       20 moduleTest.py:1629 done: [56], 3 left\n"
     ]
    },
    {
     "name": "stdout",
     "output_type": "stream",
     "text": [
      "getting image\n",
      "(2048, 2592, 2)\n",
      "getting image\n",
      "(2048, 2592, 2)\n",
      "getting image\n",
      "(2048, 2592, 2)\n",
      "getting image\n",
      "(2048, 2592, 2)\n"
     ]
    },
    {
     "name": "stderr",
     "output_type": "stream",
     "text": [
      "2019-11-14 16:49:03.405Z moduleTest       20 moduleTest.py:1629 done: [ 1 16 44], 0 left\n",
      "2019-11-14 16:49:28.443Z moduleTest       20 moduleTest.py:1605 Run 15: angle=155.00 degree\n"
     ]
    },
    {
     "name": "stdout",
     "output_type": "stream",
     "text": [
      "getting image\n",
      "(2048, 2592, 2)\n",
      "getting image\n",
      "(2048, 2592, 2)\n",
      "getting image\n",
      "(2048, 2592, 2)\n",
      "getting image\n",
      "(2048, 2592, 2)\n",
      "getting image\n",
      "(2048, 2592, 2)\n",
      "getting image\n",
      "(2048, 2592, 2)\n",
      "getting image\n",
      "(2048, 2592, 2)\n",
      "getting image\n",
      "(2048, 2592, 2)\n"
     ]
    },
    {
     "name": "stderr",
     "output_type": "stream",
     "text": [
      "2019-11-14 16:49:43.658Z moduleTest       20 moduleTest.py:1629 done: [ 5 14 27 38 42 50], 49 left\n"
     ]
    },
    {
     "name": "stdout",
     "output_type": "stream",
     "text": [
      "getting image\n",
      "(2048, 2592, 2)\n",
      "getting image\n",
      "(2048, 2592, 2)\n",
      "getting image\n",
      "(2048, 2592, 2)\n",
      "getting image\n",
      "(2048, 2592, 2)\n"
     ]
    },
    {
     "name": "stderr",
     "output_type": "stream",
     "text": [
      "2019-11-14 16:49:46.358Z moduleTest       20 moduleTest.py:1629 done: [ 3  4  7  8 10 11 12 13 15 17 18 19 20 21 23 25 32 33 36 40 43 45 47 49\n",
      " 52 53 55], 22 left\n"
     ]
    },
    {
     "name": "stdout",
     "output_type": "stream",
     "text": [
      "getting image\n",
      "(2048, 2592, 2)\n",
      "getting image\n",
      "(2048, 2592, 2)\n",
      "getting image\n",
      "(2048, 2592, 2)\n",
      "getting image\n",
      "(2048, 2592, 2)\n"
     ]
    },
    {
     "name": "stderr",
     "output_type": "stream",
     "text": [
      "2019-11-14 16:49:48.711Z moduleTest       20 moduleTest.py:1629 done: [ 1  2  6  9 22 24 26 28 29 31 34 35 37 39 41 46 48 51], 4 left\n"
     ]
    },
    {
     "name": "stdout",
     "output_type": "stream",
     "text": [
      "getting image\n",
      "(2048, 2592, 2)\n",
      "getting image\n",
      "(2048, 2592, 2)\n",
      "getting image\n",
      "(2048, 2592, 2)\n",
      "getting image\n",
      "(2048, 2592, 2)\n"
     ]
    },
    {
     "name": "stderr",
     "output_type": "stream",
     "text": [
      "2019-11-14 16:49:51.038Z moduleTest       20 moduleTest.py:1629 done: [16 30 44 56], 0 left\n",
      "2019-11-14 16:50:16.076Z moduleTest       20 moduleTest.py:1605 Run 16: angle=165.00 degree\n"
     ]
    },
    {
     "name": "stdout",
     "output_type": "stream",
     "text": [
      "getting image\n",
      "(2048, 2592, 2)\n",
      "getting image\n",
      "(2048, 2592, 2)\n",
      "getting image\n",
      "(2048, 2592, 2)\n",
      "getting image\n",
      "(2048, 2592, 2)\n",
      "getting image\n",
      "(2048, 2592, 2)\n",
      "getting image\n",
      "(2048, 2592, 2)\n",
      "getting image\n",
      "(2048, 2592, 2)\n",
      "getting image\n",
      "(2048, 2592, 2)\n"
     ]
    },
    {
     "name": "stderr",
     "output_type": "stream",
     "text": [
      "2019-11-14 16:50:31.427Z moduleTest       20 moduleTest.py:1629 done: [ 5 11 12 13 15 31 33 40 42 47], 45 left\n"
     ]
    },
    {
     "name": "stdout",
     "output_type": "stream",
     "text": [
      "getting image\n",
      "(2048, 2592, 2)\n",
      "getting image\n",
      "(2048, 2592, 2)\n",
      "getting image\n",
      "(2048, 2592, 2)\n",
      "getting image\n",
      "(2048, 2592, 2)\n"
     ]
    },
    {
     "name": "stderr",
     "output_type": "stream",
     "text": [
      "2019-11-14 16:50:34.348Z moduleTest       20 moduleTest.py:1629 done: [ 1  4  8 10 18 19 20 21 22 23 24 25 27 28 29 32 37 38 46 48 49 50 51 53\n",
      " 55 56], 19 left\n"
     ]
    },
    {
     "name": "stdout",
     "output_type": "stream",
     "text": [
      "getting image\n",
      "(2048, 2592, 2)\n",
      "getting image\n",
      "(2048, 2592, 2)\n",
      "getting image\n",
      "(2048, 2592, 2)\n",
      "getting image\n",
      "(2048, 2592, 2)\n"
     ]
    },
    {
     "name": "stderr",
     "output_type": "stream",
     "text": [
      "2019-11-14 16:50:36.784Z moduleTest       20 moduleTest.py:1629 done: [ 2  3  6  7  9 14 17 26 30 44 45], 8 left\n"
     ]
    },
    {
     "name": "stdout",
     "output_type": "stream",
     "text": [
      "getting image\n",
      "(2048, 2592, 2)\n",
      "getting image\n",
      "(2048, 2592, 2)\n",
      "getting image\n",
      "(2048, 2592, 2)\n",
      "getting image\n",
      "(2048, 2592, 2)\n"
     ]
    },
    {
     "name": "stderr",
     "output_type": "stream",
     "text": [
      "2019-11-14 16:50:39.071Z moduleTest       20 moduleTest.py:1629 done: [16 34 35 36 39 41 43 52], 0 left\n",
      "2019-11-14 16:51:04.109Z moduleTest       20 moduleTest.py:1605 Run 17: angle=175.00 degree\n"
     ]
    },
    {
     "name": "stdout",
     "output_type": "stream",
     "text": [
      "getting image\n",
      "(2048, 2592, 2)\n",
      "getting image\n",
      "(2048, 2592, 2)\n",
      "getting image\n",
      "(2048, 2592, 2)\n",
      "getting image\n",
      "(2048, 2592, 2)\n",
      "getting image\n",
      "(2048, 2592, 2)\n",
      "getting image\n",
      "(2048, 2592, 2)\n",
      "getting image\n",
      "(2048, 2592, 2)\n",
      "getting image\n",
      "(2048, 2592, 2)\n"
     ]
    },
    {
     "name": "stderr",
     "output_type": "stream",
     "text": [
      "2019-11-14 16:51:20.141Z moduleTest       20 moduleTest.py:1629 done: [ 4 10 11 12 23 24 27 30 42 48 49], 44 left\n",
      "2019-11-14 16:51:20.144Z pfi              30 pfi.py:440 clipping (31, 'theta', 'ccw') 1.64 to 1.589304395963937\n"
     ]
    },
    {
     "name": "stdout",
     "output_type": "stream",
     "text": [
      "getting image\n",
      "(2048, 2592, 2)\n",
      "getting image\n",
      "(2048, 2592, 2)\n",
      "getting image\n",
      "(2048, 2592, 2)\n",
      "getting image\n",
      "(2048, 2592, 2)\n"
     ]
    },
    {
     "name": "stderr",
     "output_type": "stream",
     "text": [
      "2019-11-14 16:51:23.223Z moduleTest       20 moduleTest.py:1629 done: [ 2  3  5  7 14 15 19 20 21 25 29 32 33 37 39 41 43 51 53 55], 24 left\n",
      "2019-11-14 16:51:23.225Z pfi              30 pfi.py:440 clipping (46, 'theta', 'cw') 1.42 to 1.3333333333333335\n"
     ]
    },
    {
     "name": "stdout",
     "output_type": "stream",
     "text": [
      "getting image\n",
      "(2048, 2592, 2)\n",
      "getting image\n",
      "(2048, 2592, 2)\n",
      "getting image\n",
      "(2048, 2592, 2)\n",
      "getting image\n",
      "(2048, 2592, 2)\n"
     ]
    },
    {
     "name": "stderr",
     "output_type": "stream",
     "text": [
      "2019-11-14 16:51:26.063Z moduleTest       20 moduleTest.py:1629 done: [ 1  6  8  9 13 18 22 26 36 40 44 45 46 47 50 52], 8 left\n"
     ]
    },
    {
     "name": "stdout",
     "output_type": "stream",
     "text": [
      "getting image\n",
      "(2048, 2592, 2)\n",
      "getting image\n",
      "(2048, 2592, 2)\n",
      "getting image\n",
      "(2048, 2592, 2)\n",
      "getting image\n",
      "(2048, 2592, 2)\n"
     ]
    },
    {
     "name": "stderr",
     "output_type": "stream",
     "text": [
      "2019-11-14 16:51:28.556Z moduleTest       20 moduleTest.py:1629 done: [16 17 34 35], 4 left\n"
     ]
    },
    {
     "name": "stdout",
     "output_type": "stream",
     "text": [
      "getting image\n",
      "(2048, 2592, 2)\n",
      "getting image\n",
      "(2048, 2592, 2)\n",
      "getting image\n",
      "(2048, 2592, 2)\n",
      "getting image\n",
      "(2048, 2592, 2)\n"
     ]
    },
    {
     "name": "stderr",
     "output_type": "stream",
     "text": [
      "2019-11-14 16:51:30.914Z moduleTest       20 moduleTest.py:1629 done: [28 31 38 56], 0 left\n",
      "2019-11-14 16:51:55.958Z moduleTest       20 moduleTest.py:1605 Run 18: angle=185.00 degree\n"
     ]
    },
    {
     "name": "stdout",
     "output_type": "stream",
     "text": [
      "getting image\n",
      "(2048, 2592, 2)\n",
      "getting image\n",
      "(2048, 2592, 2)\n",
      "getting image\n",
      "(2048, 2592, 2)\n",
      "getting image\n",
      "(2048, 2592, 2)\n",
      "getting image\n",
      "(2048, 2592, 2)\n",
      "getting image\n",
      "(2048, 2592, 2)\n",
      "getting image\n",
      "(2048, 2592, 2)\n",
      "getting image\n",
      "(2048, 2592, 2)\n"
     ]
    },
    {
     "name": "stderr",
     "output_type": "stream",
     "text": [
      "2019-11-14 16:52:12.145Z moduleTest       20 moduleTest.py:1629 done: [ 2  8 12 31], 51 left\n"
     ]
    },
    {
     "name": "stdout",
     "output_type": "stream",
     "text": [
      "getting image\n",
      "(2048, 2592, 2)\n",
      "getting image\n",
      "(2048, 2592, 2)\n",
      "getting image\n",
      "(2048, 2592, 2)\n",
      "getting image\n",
      "(2048, 2592, 2)\n"
     ]
    },
    {
     "name": "stderr",
     "output_type": "stream",
     "text": [
      "2019-11-14 16:52:15.173Z moduleTest       20 moduleTest.py:1629 done: [ 1  3  4  7 10 11 18 19 23 24 25 26 29 33 36 37 38 40 41 42 44 49 51 55\n",
      " 56], 26 left\n"
     ]
    },
    {
     "name": "stdout",
     "output_type": "stream",
     "text": [
      "getting image\n",
      "(2048, 2592, 2)\n",
      "getting image\n",
      "(2048, 2592, 2)\n",
      "getting image\n",
      "(2048, 2592, 2)\n",
      "getting image\n",
      "(2048, 2592, 2)\n"
     ]
    },
    {
     "name": "stderr",
     "output_type": "stream",
     "text": [
      "2019-11-14 16:52:17.711Z moduleTest       20 moduleTest.py:1629 done: [ 6 13 14 15 17 20 27 28 30 32 34 35 43 46 47 48 50 52 53], 7 left\n"
     ]
    },
    {
     "name": "stdout",
     "output_type": "stream",
     "text": [
      "getting image\n",
      "(2048, 2592, 2)\n",
      "getting image\n",
      "(2048, 2592, 2)\n",
      "getting image\n",
      "(2048, 2592, 2)\n",
      "getting image\n",
      "(2048, 2592, 2)\n"
     ]
    },
    {
     "name": "stderr",
     "output_type": "stream",
     "text": [
      "2019-11-14 16:52:20.075Z moduleTest       20 moduleTest.py:1629 done: [ 5  9 21 39 45], 2 left\n"
     ]
    },
    {
     "name": "stdout",
     "output_type": "stream",
     "text": [
      "getting image\n",
      "(2048, 2592, 2)\n",
      "getting image\n",
      "(2048, 2592, 2)\n",
      "getting image\n",
      "(2048, 2592, 2)\n",
      "getting image\n",
      "(2048, 2592, 2)\n"
     ]
    },
    {
     "name": "stderr",
     "output_type": "stream",
     "text": [
      "2019-11-14 16:52:22.442Z moduleTest       20 moduleTest.py:1629 done: [16 22], 0 left\n",
      "2019-11-14 16:52:47.480Z moduleTest       20 moduleTest.py:1605 Run 19: angle=195.00 degree\n"
     ]
    },
    {
     "name": "stdout",
     "output_type": "stream",
     "text": [
      "getting image\n",
      "(2048, 2592, 2)\n",
      "getting image\n",
      "(2048, 2592, 2)\n",
      "getting image\n",
      "(2048, 2592, 2)\n",
      "getting image\n",
      "(2048, 2592, 2)\n",
      "getting image\n",
      "(2048, 2592, 2)\n",
      "getting image\n",
      "(2048, 2592, 2)\n",
      "getting image\n",
      "(2048, 2592, 2)\n",
      "getting image\n",
      "(2048, 2592, 2)\n"
     ]
    },
    {
     "name": "stderr",
     "output_type": "stream",
     "text": [
      "2019-11-14 16:53:04.339Z moduleTest       20 moduleTest.py:1629 done: [ 2 11 12 20 25 29 42 43 56], 46 left\n"
     ]
    },
    {
     "name": "stdout",
     "output_type": "stream",
     "text": [
      "getting image\n",
      "(2048, 2592, 2)\n",
      "getting image\n",
      "(2048, 2592, 2)\n",
      "getting image\n",
      "(2048, 2592, 2)\n",
      "getting image\n",
      "(2048, 2592, 2)\n"
     ]
    },
    {
     "name": "stderr",
     "output_type": "stream",
     "text": [
      "2019-11-14 16:53:07.604Z moduleTest       20 moduleTest.py:1629 done: [ 4  7 10 13 14 18 19 26 28 36 39 40 41 44 46 47 49 50 51], 27 left\n"
     ]
    },
    {
     "name": "stdout",
     "output_type": "stream",
     "text": [
      "getting image\n",
      "(2048, 2592, 2)\n",
      "getting image\n",
      "(2048, 2592, 2)\n",
      "getting image\n",
      "(2048, 2592, 2)\n",
      "getting image\n",
      "(2048, 2592, 2)\n"
     ]
    },
    {
     "name": "stderr",
     "output_type": "stream",
     "text": [
      "2019-11-14 16:53:10.249Z moduleTest       20 moduleTest.py:1629 done: [ 1  3  5  6  8 15 21 23 27 30 31 32 33 34 35 37 48 52 53 55], 7 left\n"
     ]
    },
    {
     "name": "stdout",
     "output_type": "stream",
     "text": [
      "getting image\n",
      "(2048, 2592, 2)\n",
      "getting image\n",
      "(2048, 2592, 2)\n",
      "getting image\n",
      "(2048, 2592, 2)\n",
      "getting image\n",
      "(2048, 2592, 2)\n"
     ]
    },
    {
     "name": "stderr",
     "output_type": "stream",
     "text": [
      "2019-11-14 16:53:12.618Z moduleTest       20 moduleTest.py:1629 done: [ 9 16 24 38 45], 2 left\n"
     ]
    },
    {
     "name": "stdout",
     "output_type": "stream",
     "text": [
      "getting image\n",
      "(2048, 2592, 2)\n",
      "getting image\n",
      "(2048, 2592, 2)\n",
      "getting image\n",
      "(2048, 2592, 2)\n",
      "getting image\n",
      "(2048, 2592, 2)\n"
     ]
    },
    {
     "name": "stderr",
     "output_type": "stream",
     "text": [
      "2019-11-14 16:53:14.968Z moduleTest       20 moduleTest.py:1629 done: [17], 1 left\n"
     ]
    },
    {
     "name": "stdout",
     "output_type": "stream",
     "text": [
      "getting image\n",
      "(2048, 2592, 2)\n",
      "getting image\n",
      "(2048, 2592, 2)\n",
      "getting image\n",
      "(2048, 2592, 2)\n",
      "getting image\n",
      "(2048, 2592, 2)\n"
     ]
    },
    {
     "name": "stderr",
     "output_type": "stream",
     "text": [
      "2019-11-14 16:53:17.324Z moduleTest       20 moduleTest.py:1629 done: [22], 0 left\n",
      "2019-11-14 16:53:42.369Z moduleTest       20 moduleTest.py:1605 Run 20: angle=205.00 degree\n"
     ]
    },
    {
     "name": "stdout",
     "output_type": "stream",
     "text": [
      "getting image\n",
      "(2048, 2592, 2)\n",
      "getting image\n",
      "(2048, 2592, 2)\n",
      "getting image\n",
      "(2048, 2592, 2)\n",
      "getting image\n",
      "(2048, 2592, 2)\n",
      "getting image\n",
      "(2048, 2592, 2)\n",
      "getting image\n",
      "(2048, 2592, 2)\n",
      "getting image\n",
      "(2048, 2592, 2)\n",
      "getting image\n",
      "(2048, 2592, 2)\n"
     ]
    },
    {
     "name": "stderr",
     "output_type": "stream",
     "text": [
      "2019-11-14 16:54:02.386Z moduleTest       20 moduleTest.py:1629 done: [ 6 23 25 26 39 42 49 50], 47 left\n"
     ]
    },
    {
     "name": "stdout",
     "output_type": "stream",
     "text": [
      "getting image\n",
      "(2048, 2592, 2)\n",
      "getting image\n",
      "(2048, 2592, 2)\n",
      "getting image\n",
      "(2048, 2592, 2)\n",
      "getting image\n",
      "(2048, 2592, 2)\n"
     ]
    },
    {
     "name": "stderr",
     "output_type": "stream",
     "text": [
      "2019-11-14 16:54:05.926Z moduleTest       20 moduleTest.py:1629 done: [ 2  4  5 11 14 18 19 29 32 34 36 41 43 46 47 52], 31 left\n"
     ]
    },
    {
     "name": "stdout",
     "output_type": "stream",
     "text": [
      "getting image\n",
      "(2048, 2592, 2)\n",
      "getting image\n",
      "(2048, 2592, 2)\n",
      "getting image\n",
      "(2048, 2592, 2)\n",
      "getting image\n",
      "(2048, 2592, 2)\n"
     ]
    },
    {
     "name": "stderr",
     "output_type": "stream",
     "text": [
      "2019-11-14 16:54:08.746Z moduleTest       20 moduleTest.py:1629 done: [ 3  7  8 12 13 17 20 21 24 27 28 30 31 37 40 44 48 51 55 56], 11 left\n"
     ]
    },
    {
     "name": "stdout",
     "output_type": "stream",
     "text": [
      "getting image\n",
      "(2048, 2592, 2)\n",
      "getting image\n",
      "(2048, 2592, 2)\n",
      "getting image\n",
      "(2048, 2592, 2)\n",
      "getting image\n",
      "(2048, 2592, 2)\n"
     ]
    },
    {
     "name": "stderr",
     "output_type": "stream",
     "text": [
      "2019-11-14 16:54:11.287Z moduleTest       20 moduleTest.py:1629 done: [ 9 10 15 33 35 38 45 53], 3 left\n"
     ]
    },
    {
     "name": "stdout",
     "output_type": "stream",
     "text": [
      "getting image\n",
      "(2048, 2592, 2)\n",
      "getting image\n",
      "(2048, 2592, 2)\n",
      "getting image\n",
      "(2048, 2592, 2)\n",
      "getting image\n",
      "(2048, 2592, 2)\n"
     ]
    },
    {
     "name": "stderr",
     "output_type": "stream",
     "text": [
      "2019-11-14 16:54:13.614Z moduleTest       20 moduleTest.py:1629 done: [ 1 16 22], 0 left\n",
      "2019-11-14 16:54:38.652Z moduleTest       20 moduleTest.py:1605 Run 21: angle=215.00 degree\n"
     ]
    },
    {
     "name": "stdout",
     "output_type": "stream",
     "text": [
      "getting image\n",
      "(2048, 2592, 2)\n",
      "getting image\n",
      "(2048, 2592, 2)\n",
      "getting image\n",
      "(2048, 2592, 2)\n",
      "getting image\n",
      "(2048, 2592, 2)\n",
      "getting image\n",
      "(2048, 2592, 2)\n",
      "getting image\n",
      "(2048, 2592, 2)\n",
      "getting image\n",
      "(2048, 2592, 2)\n",
      "getting image\n",
      "(2048, 2592, 2)\n"
     ]
    },
    {
     "name": "stderr",
     "output_type": "stream",
     "text": [
      "2019-11-14 16:54:56.729Z moduleTest       20 moduleTest.py:1629 done: [ 5 10 31 40 42 55], 49 left\n"
     ]
    },
    {
     "name": "stdout",
     "output_type": "stream",
     "text": [
      "getting image\n",
      "(2048, 2592, 2)\n",
      "getting image\n",
      "(2048, 2592, 2)\n",
      "getting image\n",
      "(2048, 2592, 2)\n",
      "getting image\n",
      "(2048, 2592, 2)\n"
     ]
    },
    {
     "name": "stderr",
     "output_type": "stream",
     "text": [
      "2019-11-14 16:55:00.434Z moduleTest       20 moduleTest.py:1629 done: [ 2  6  7  9 11 12 18 19 22 23 25 26 27 28 30 32 34 37 38 39 43 44 49 50\n",
      " 52 56], 23 left\n"
     ]
    },
    {
     "name": "stdout",
     "output_type": "stream",
     "text": [
      "getting image\n",
      "(2048, 2592, 2)\n",
      "getting image\n",
      "(2048, 2592, 2)\n",
      "getting image\n",
      "(2048, 2592, 2)\n",
      "getting image\n",
      "(2048, 2592, 2)\n"
     ]
    },
    {
     "name": "stderr",
     "output_type": "stream",
     "text": [
      "2019-11-14 16:55:03.247Z moduleTest       20 moduleTest.py:1629 done: [ 1  3  4  8 13 14 15 20 21 24 36 41 46 47 48 51 53], 6 left\n"
     ]
    },
    {
     "name": "stdout",
     "output_type": "stream",
     "text": [
      "getting image\n",
      "(2048, 2592, 2)\n",
      "getting image\n",
      "(2048, 2592, 2)\n",
      "getting image\n",
      "(2048, 2592, 2)\n",
      "getting image\n",
      "(2048, 2592, 2)\n"
     ]
    },
    {
     "name": "stderr",
     "output_type": "stream",
     "text": [
      "2019-11-14 16:55:05.617Z moduleTest       20 moduleTest.py:1629 done: [17 29 33 35 45], 1 left\n"
     ]
    },
    {
     "name": "stdout",
     "output_type": "stream",
     "text": [
      "getting image\n",
      "(2048, 2592, 2)\n",
      "getting image\n",
      "(2048, 2592, 2)\n",
      "getting image\n",
      "(2048, 2592, 2)\n",
      "getting image\n",
      "(2048, 2592, 2)\n"
     ]
    },
    {
     "name": "stderr",
     "output_type": "stream",
     "text": [
      "2019-11-14 16:55:07.940Z moduleTest       20 moduleTest.py:1629 done: [16], 0 left\n",
      "2019-11-14 16:55:32.979Z moduleTest       20 moduleTest.py:1605 Run 22: angle=225.00 degree\n"
     ]
    },
    {
     "name": "stdout",
     "output_type": "stream",
     "text": [
      "getting image\n",
      "(2048, 2592, 2)\n",
      "getting image\n",
      "(2048, 2592, 2)\n",
      "getting image\n",
      "(2048, 2592, 2)\n",
      "getting image\n",
      "(2048, 2592, 2)\n",
      "getting image\n",
      "(2048, 2592, 2)\n",
      "getting image\n",
      "(2048, 2592, 2)\n",
      "getting image\n",
      "(2048, 2592, 2)\n",
      "getting image\n",
      "(2048, 2592, 2)\n"
     ]
    },
    {
     "name": "stderr",
     "output_type": "stream",
     "text": [
      "2019-11-14 16:55:51.563Z moduleTest       20 moduleTest.py:1629 done: [ 4 12 18 30 31 32 42 56], 47 left\n"
     ]
    },
    {
     "name": "stdout",
     "output_type": "stream",
     "text": [
      "getting image\n",
      "(2048, 2592, 2)\n",
      "getting image\n",
      "(2048, 2592, 2)\n",
      "getting image\n",
      "(2048, 2592, 2)\n",
      "getting image\n",
      "(2048, 2592, 2)\n"
     ]
    },
    {
     "name": "stderr",
     "output_type": "stream",
     "text": [
      "2019-11-14 16:55:55.085Z moduleTest       20 moduleTest.py:1629 done: [ 1  2  3  5  6 11 13 15 23 24 25 26 27 28 34 39 40 41 43 44 48 49 50 52\n",
      " 53], 22 left\n"
     ]
    },
    {
     "name": "stdout",
     "output_type": "stream",
     "text": [
      "getting image\n",
      "(2048, 2592, 2)\n",
      "getting image\n",
      "(2048, 2592, 2)\n",
      "getting image\n",
      "(2048, 2592, 2)\n",
      "getting image\n",
      "(2048, 2592, 2)\n"
     ]
    },
    {
     "name": "stderr",
     "output_type": "stream",
     "text": [
      "2019-11-14 16:55:57.795Z moduleTest       20 moduleTest.py:1629 done: [ 7  8 10 14 19 21 33 35 36 38 46 51 55], 9 left\n"
     ]
    },
    {
     "name": "stdout",
     "output_type": "stream",
     "text": [
      "getting image\n",
      "(2048, 2592, 2)\n",
      "getting image\n",
      "(2048, 2592, 2)\n",
      "getting image\n",
      "(2048, 2592, 2)\n",
      "getting image\n",
      "(2048, 2592, 2)\n"
     ]
    },
    {
     "name": "stderr",
     "output_type": "stream",
     "text": [
      "2019-11-14 16:56:00.290Z moduleTest       20 moduleTest.py:1629 done: [ 9 20 22 29 37 45 47], 2 left\n"
     ]
    },
    {
     "name": "stdout",
     "output_type": "stream",
     "text": [
      "getting image\n",
      "(2048, 2592, 2)\n",
      "getting image\n",
      "(2048, 2592, 2)\n",
      "getting image\n",
      "(2048, 2592, 2)\n",
      "getting image\n",
      "(2048, 2592, 2)\n"
     ]
    },
    {
     "name": "stderr",
     "output_type": "stream",
     "text": [
      "2019-11-14 16:56:02.657Z moduleTest       20 moduleTest.py:1629 done: [16 17], 0 left\n",
      "2019-11-14 16:56:27.701Z moduleTest       20 moduleTest.py:1605 Run 23: angle=235.00 degree\n"
     ]
    },
    {
     "name": "stdout",
     "output_type": "stream",
     "text": [
      "getting image\n",
      "(2048, 2592, 2)\n",
      "getting image\n",
      "(2048, 2592, 2)\n",
      "getting image\n",
      "(2048, 2592, 2)\n",
      "getting image\n",
      "(2048, 2592, 2)\n",
      "getting image\n",
      "(2048, 2592, 2)\n",
      "getting image\n",
      "(2048, 2592, 2)\n",
      "getting image\n",
      "(2048, 2592, 2)\n",
      "getting image\n",
      "(2048, 2592, 2)\n"
     ]
    },
    {
     "name": "stderr",
     "output_type": "stream",
     "text": [
      "2019-11-14 16:56:46.577Z moduleTest       20 moduleTest.py:1629 done: [ 4 24 30 42 52 53], 49 left\n"
     ]
    },
    {
     "name": "stdout",
     "output_type": "stream",
     "text": [
      "getting image\n",
      "(2048, 2592, 2)\n",
      "getting image\n",
      "(2048, 2592, 2)\n",
      "getting image\n",
      "(2048, 2592, 2)\n",
      "getting image\n",
      "(2048, 2592, 2)\n"
     ]
    },
    {
     "name": "stderr",
     "output_type": "stream",
     "text": [
      "2019-11-14 16:56:49.934Z moduleTest       20 moduleTest.py:1629 done: [ 3  5  6 10 11 12 18 21 22 25 26 28 31 34 37 39 41 43 44 46 47 48 49 51\n",
      " 56], 24 left\n"
     ]
    },
    {
     "name": "stdout",
     "output_type": "stream",
     "text": [
      "getting image\n",
      "(2048, 2592, 2)\n",
      "getting image\n",
      "(2048, 2592, 2)\n",
      "getting image\n",
      "(2048, 2592, 2)\n",
      "getting image\n",
      "(2048, 2592, 2)\n"
     ]
    },
    {
     "name": "stderr",
     "output_type": "stream",
     "text": [
      "2019-11-14 16:56:52.963Z moduleTest       20 moduleTest.py:1629 done: [ 1  2  8  9 13 14 19 20 23 27 29 33 35 40 55], 9 left\n"
     ]
    },
    {
     "name": "stdout",
     "output_type": "stream",
     "text": [
      "getting image\n",
      "(2048, 2592, 2)\n",
      "getting image\n",
      "(2048, 2592, 2)\n",
      "getting image\n",
      "(2048, 2592, 2)\n",
      "getting image\n",
      "(2048, 2592, 2)\n"
     ]
    },
    {
     "name": "stderr",
     "output_type": "stream",
     "text": [
      "2019-11-14 16:56:55.500Z moduleTest       20 moduleTest.py:1629 done: [ 7 15 32 36 38 50], 3 left\n"
     ]
    },
    {
     "name": "stdout",
     "output_type": "stream",
     "text": [
      "getting image\n",
      "(2048, 2592, 2)\n",
      "getting image\n",
      "(2048, 2592, 2)\n",
      "getting image\n",
      "(2048, 2592, 2)\n",
      "getting image\n",
      "(2048, 2592, 2)\n"
     ]
    },
    {
     "name": "stderr",
     "output_type": "stream",
     "text": [
      "2019-11-14 16:56:57.981Z moduleTest       20 moduleTest.py:1629 done: [17], 2 left\n"
     ]
    },
    {
     "name": "stdout",
     "output_type": "stream",
     "text": [
      "getting image\n",
      "(2048, 2592, 2)\n",
      "getting image\n",
      "(2048, 2592, 2)\n",
      "getting image\n",
      "(2048, 2592, 2)\n",
      "getting image\n",
      "(2048, 2592, 2)\n"
     ]
    },
    {
     "name": "stderr",
     "output_type": "stream",
     "text": [
      "2019-11-14 16:57:00.317Z moduleTest       20 moduleTest.py:1629 done: [16 45], 0 left\n",
      "2019-11-14 16:57:25.354Z moduleTest       20 moduleTest.py:1605 Run 24: angle=245.00 degree\n"
     ]
    },
    {
     "name": "stdout",
     "output_type": "stream",
     "text": [
      "getting image\n",
      "(2048, 2592, 2)\n",
      "getting image\n",
      "(2048, 2592, 2)\n",
      "getting image\n",
      "(2048, 2592, 2)\n",
      "getting image\n",
      "(2048, 2592, 2)\n",
      "getting image\n",
      "(2048, 2592, 2)\n",
      "getting image\n",
      "(2048, 2592, 2)\n",
      "getting image\n",
      "(2048, 2592, 2)\n",
      "getting image\n",
      "(2048, 2592, 2)\n"
     ]
    },
    {
     "name": "stderr",
     "output_type": "stream",
     "text": [
      "2019-11-14 16:57:45.253Z moduleTest       20 moduleTest.py:1629 done: [10 15 19 26 35 40 47 49], 47 left\n"
     ]
    },
    {
     "name": "stdout",
     "output_type": "stream",
     "text": [
      "getting image\n",
      "(2048, 2592, 2)\n",
      "getting image\n",
      "(2048, 2592, 2)\n",
      "getting image\n",
      "(2048, 2592, 2)\n",
      "getting image\n",
      "(2048, 2592, 2)\n"
     ]
    },
    {
     "name": "stderr",
     "output_type": "stream",
     "text": [
      "2019-11-14 16:57:48.263Z moduleTest       20 moduleTest.py:1629 done: [ 3  4  5  7 11 13 18 23 24 25 28 30 31 32 33 34 37 38 41 42 50 51 52 53], 23 left\n"
     ]
    },
    {
     "name": "stdout",
     "output_type": "stream",
     "text": [
      "getting image\n",
      "(2048, 2592, 2)\n",
      "getting image\n",
      "(2048, 2592, 2)\n",
      "getting image\n",
      "(2048, 2592, 2)\n",
      "getting image\n",
      "(2048, 2592, 2)\n"
     ]
    },
    {
     "name": "stderr",
     "output_type": "stream",
     "text": [
      "2019-11-14 16:57:51.130Z moduleTest       20 moduleTest.py:1629 done: [ 1  2  6  8  9 12 14 27 29 39 43 45 46 48 55], 8 left\n"
     ]
    },
    {
     "name": "stdout",
     "output_type": "stream",
     "text": [
      "getting image\n",
      "(2048, 2592, 2)\n",
      "getting image\n",
      "(2048, 2592, 2)\n",
      "getting image\n",
      "(2048, 2592, 2)\n",
      "getting image\n",
      "(2048, 2592, 2)\n"
     ]
    },
    {
     "name": "stderr",
     "output_type": "stream",
     "text": [
      "2019-11-14 16:57:53.652Z moduleTest       20 moduleTest.py:1629 done: [17 20 21 22 36 44], 2 left\n"
     ]
    },
    {
     "name": "stdout",
     "output_type": "stream",
     "text": [
      "getting image\n",
      "(2048, 2592, 2)\n",
      "getting image\n",
      "(2048, 2592, 2)\n",
      "getting image\n",
      "(2048, 2592, 2)\n",
      "getting image\n",
      "(2048, 2592, 2)\n"
     ]
    },
    {
     "name": "stderr",
     "output_type": "stream",
     "text": [
      "2019-11-14 16:57:56.169Z moduleTest       20 moduleTest.py:1629 done: [56], 1 left\n"
     ]
    },
    {
     "name": "stdout",
     "output_type": "stream",
     "text": [
      "getting image\n",
      "(2048, 2592, 2)\n",
      "getting image\n",
      "(2048, 2592, 2)\n",
      "getting image\n",
      "(2048, 2592, 2)\n",
      "getting image\n",
      "(2048, 2592, 2)\n"
     ]
    },
    {
     "name": "stderr",
     "output_type": "stream",
     "text": [
      "2019-11-14 16:57:58.501Z moduleTest       20 moduleTest.py:1629 done: [16], 0 left\n",
      "2019-11-14 16:58:23.539Z moduleTest       20 moduleTest.py:1605 Run 25: angle=255.00 degree\n"
     ]
    },
    {
     "name": "stdout",
     "output_type": "stream",
     "text": [
      "getting image\n",
      "(2048, 2592, 2)\n",
      "getting image\n",
      "(2048, 2592, 2)\n",
      "getting image\n",
      "(2048, 2592, 2)\n",
      "getting image\n",
      "(2048, 2592, 2)\n",
      "getting image\n",
      "(2048, 2592, 2)\n",
      "getting image\n",
      "(2048, 2592, 2)\n",
      "getting image\n",
      "(2048, 2592, 2)\n",
      "getting image\n",
      "(2048, 2592, 2)\n"
     ]
    },
    {
     "name": "stderr",
     "output_type": "stream",
     "text": [
      "2019-11-14 16:58:43.919Z moduleTest       20 moduleTest.py:1629 done: [ 1  3 12 24 49], 50 left\n"
     ]
    },
    {
     "name": "stdout",
     "output_type": "stream",
     "text": [
      "getting image\n",
      "(2048, 2592, 2)\n",
      "getting image\n",
      "(2048, 2592, 2)\n",
      "getting image\n",
      "(2048, 2592, 2)\n",
      "getting image\n",
      "(2048, 2592, 2)\n"
     ]
    },
    {
     "name": "stderr",
     "output_type": "stream",
     "text": [
      "2019-11-14 16:58:47.129Z moduleTest       20 moduleTest.py:1629 done: [ 2  6 11 13 14 15 18 19 21 23 25 26 28 32 33 35 37 40 42 44 50 51 52 55], 26 left\n"
     ]
    },
    {
     "name": "stdout",
     "output_type": "stream",
     "text": [
      "getting image\n",
      "(2048, 2592, 2)\n",
      "getting image\n",
      "(2048, 2592, 2)\n",
      "getting image\n",
      "(2048, 2592, 2)\n",
      "getting image\n",
      "(2048, 2592, 2)\n"
     ]
    },
    {
     "name": "stderr",
     "output_type": "stream",
     "text": [
      "2019-11-14 16:58:50.152Z moduleTest       20 moduleTest.py:1629 done: [ 4  5  7  8  9 10 17 27 30 34 39 41 45 46 53], 11 left\n"
     ]
    },
    {
     "name": "stdout",
     "output_type": "stream",
     "text": [
      "getting image\n",
      "(2048, 2592, 2)\n",
      "getting image\n",
      "(2048, 2592, 2)\n",
      "getting image\n",
      "(2048, 2592, 2)\n",
      "getting image\n",
      "(2048, 2592, 2)\n"
     ]
    },
    {
     "name": "stderr",
     "output_type": "stream",
     "text": [
      "2019-11-14 16:58:52.838Z moduleTest       20 moduleTest.py:1629 done: [20 29 31 36 38 43 47 56], 3 left\n"
     ]
    },
    {
     "name": "stdout",
     "output_type": "stream",
     "text": [
      "getting image\n",
      "(2048, 2592, 2)\n",
      "getting image\n",
      "(2048, 2592, 2)\n",
      "getting image\n",
      "(2048, 2592, 2)\n",
      "getting image\n",
      "(2048, 2592, 2)\n"
     ]
    },
    {
     "name": "stderr",
     "output_type": "stream",
     "text": [
      "2019-11-14 16:58:55.313Z moduleTest       20 moduleTest.py:1629 done: [22 48], 1 left\n"
     ]
    },
    {
     "name": "stdout",
     "output_type": "stream",
     "text": [
      "getting image\n",
      "(2048, 2592, 2)\n",
      "getting image\n",
      "(2048, 2592, 2)\n",
      "getting image\n",
      "(2048, 2592, 2)\n",
      "getting image\n",
      "(2048, 2592, 2)\n"
     ]
    },
    {
     "name": "stderr",
     "output_type": "stream",
     "text": [
      "2019-11-14 16:58:57.693Z moduleTest       20 moduleTest.py:1629 done: [16], 0 left\n",
      "2019-11-14 16:59:22.737Z moduleTest       20 moduleTest.py:1605 Run 26: angle=265.00 degree\n"
     ]
    },
    {
     "name": "stdout",
     "output_type": "stream",
     "text": [
      "getting image\n",
      "(2048, 2592, 2)\n",
      "getting image\n",
      "(2048, 2592, 2)\n",
      "getting image\n",
      "(2048, 2592, 2)\n",
      "getting image\n",
      "(2048, 2592, 2)\n",
      "getting image\n",
      "(2048, 2592, 2)\n",
      "getting image\n",
      "(2048, 2592, 2)\n",
      "getting image\n",
      "(2048, 2592, 2)\n",
      "getting image\n",
      "(2048, 2592, 2)\n"
     ]
    },
    {
     "name": "stderr",
     "output_type": "stream",
     "text": [
      "2019-11-14 16:59:44.463Z moduleTest       20 moduleTest.py:1629 done: [ 4 14 17 26 42 49 50 53 56], 46 left\n"
     ]
    },
    {
     "name": "stdout",
     "output_type": "stream",
     "text": [
      "getting image\n",
      "(2048, 2592, 2)\n",
      "getting image\n",
      "(2048, 2592, 2)\n",
      "getting image\n",
      "(2048, 2592, 2)\n",
      "getting image\n",
      "(2048, 2592, 2)\n"
     ]
    },
    {
     "name": "stderr",
     "output_type": "stream",
     "text": [
      "2019-11-14 16:59:48.141Z moduleTest       20 moduleTest.py:1629 done: [ 1  7 12 13 18 23 24 27 28 32 33 35 39 40 43 45 51 52], 28 left\n"
     ]
    },
    {
     "name": "stdout",
     "output_type": "stream",
     "text": [
      "getting image\n",
      "(2048, 2592, 2)\n",
      "getting image\n",
      "(2048, 2592, 2)\n",
      "getting image\n",
      "(2048, 2592, 2)\n",
      "getting image\n",
      "(2048, 2592, 2)\n"
     ]
    },
    {
     "name": "stderr",
     "output_type": "stream",
     "text": [
      "2019-11-14 16:59:51.336Z moduleTest       20 moduleTest.py:1629 done: [ 3  5  9 11 19 20 21 22 25 30 34 46 47 55], 14 left\n"
     ]
    },
    {
     "name": "stdout",
     "output_type": "stream",
     "text": [
      "getting image\n",
      "(2048, 2592, 2)\n",
      "getting image\n",
      "(2048, 2592, 2)\n",
      "getting image\n",
      "(2048, 2592, 2)\n",
      "getting image\n",
      "(2048, 2592, 2)\n"
     ]
    },
    {
     "name": "stderr",
     "output_type": "stream",
     "text": [
      "2019-11-14 16:59:54.026Z moduleTest       20 moduleTest.py:1629 done: [ 2  6  8 10 15 29 36 37 38 41], 4 left\n"
     ]
    },
    {
     "name": "stdout",
     "output_type": "stream",
     "text": [
      "getting image\n",
      "(2048, 2592, 2)\n",
      "getting image\n",
      "(2048, 2592, 2)\n",
      "getting image\n",
      "(2048, 2592, 2)\n",
      "getting image\n",
      "(2048, 2592, 2)\n"
     ]
    },
    {
     "name": "stderr",
     "output_type": "stream",
     "text": [
      "2019-11-14 16:59:56.514Z moduleTest       20 moduleTest.py:1629 done: [31 44 48], 1 left\n"
     ]
    },
    {
     "name": "stdout",
     "output_type": "stream",
     "text": [
      "getting image\n",
      "(2048, 2592, 2)\n",
      "getting image\n",
      "(2048, 2592, 2)\n",
      "getting image\n",
      "(2048, 2592, 2)\n",
      "getting image\n",
      "(2048, 2592, 2)\n"
     ]
    },
    {
     "name": "stderr",
     "output_type": "stream",
     "text": [
      "2019-11-14 16:59:58.868Z moduleTest       20 moduleTest.py:1629 done: [16], 0 left\n",
      "2019-11-14 17:00:23.906Z moduleTest       20 moduleTest.py:1605 Run 27: angle=275.00 degree\n"
     ]
    },
    {
     "name": "stdout",
     "output_type": "stream",
     "text": [
      "getting image\n",
      "(2048, 2592, 2)\n",
      "getting image\n",
      "(2048, 2592, 2)\n",
      "getting image\n",
      "(2048, 2592, 2)\n",
      "getting image\n",
      "(2048, 2592, 2)\n",
      "getting image\n",
      "(2048, 2592, 2)\n",
      "getting image\n",
      "(2048, 2592, 2)\n",
      "getting image\n",
      "(2048, 2592, 2)\n",
      "getting image\n",
      "(2048, 2592, 2)\n"
     ]
    },
    {
     "name": "stderr",
     "output_type": "stream",
     "text": [
      "2019-11-14 17:00:45.954Z moduleTest       20 moduleTest.py:1629 done: [13 14 23 42 49 52], 49 left\n"
     ]
    },
    {
     "name": "stdout",
     "output_type": "stream",
     "text": [
      "getting image\n",
      "(2048, 2592, 2)\n",
      "getting image\n",
      "(2048, 2592, 2)\n",
      "getting image\n",
      "(2048, 2592, 2)\n",
      "getting image\n",
      "(2048, 2592, 2)\n"
     ]
    },
    {
     "name": "stderr",
     "output_type": "stream",
     "text": [
      "2019-11-14 17:00:49.490Z moduleTest       20 moduleTest.py:1629 done: [ 3  5  7 18 25 30 32 33 35 39 40 45 46 50 51 53], 33 left\n"
     ]
    },
    {
     "name": "stdout",
     "output_type": "stream",
     "text": [
      "getting image\n",
      "(2048, 2592, 2)\n",
      "getting image\n",
      "(2048, 2592, 2)\n",
      "getting image\n",
      "(2048, 2592, 2)\n",
      "getting image\n",
      "(2048, 2592, 2)\n"
     ]
    },
    {
     "name": "stderr",
     "output_type": "stream",
     "text": [
      "2019-11-14 17:00:52.686Z moduleTest       20 moduleTest.py:1629 done: [ 1  2  8 11 15 19 20 21 22 24 26 28 29 37 38 41 43 55], 15 left\n"
     ]
    },
    {
     "name": "stdout",
     "output_type": "stream",
     "text": [
      "getting image\n",
      "(2048, 2592, 2)\n",
      "getting image\n",
      "(2048, 2592, 2)\n",
      "getting image\n",
      "(2048, 2592, 2)\n",
      "getting image\n",
      "(2048, 2592, 2)\n"
     ]
    },
    {
     "name": "stderr",
     "output_type": "stream",
     "text": [
      "2019-11-14 17:00:55.208Z moduleTest       20 moduleTest.py:1629 done: [ 4  9 17 27 34 36 44 47], 7 left\n"
     ]
    },
    {
     "name": "stdout",
     "output_type": "stream",
     "text": [
      "getting image\n",
      "(2048, 2592, 2)\n",
      "getting image\n",
      "(2048, 2592, 2)\n",
      "getting image\n",
      "(2048, 2592, 2)\n",
      "getting image\n",
      "(2048, 2592, 2)\n"
     ]
    },
    {
     "name": "stderr",
     "output_type": "stream",
     "text": [
      "2019-11-14 17:00:57.680Z moduleTest       20 moduleTest.py:1629 done: [ 6 10 12 16 48 56], 1 left\n"
     ]
    },
    {
     "name": "stdout",
     "output_type": "stream",
     "text": [
      "getting image\n",
      "(2048, 2592, 2)\n",
      "getting image\n",
      "(2048, 2592, 2)\n",
      "getting image\n",
      "(2048, 2592, 2)\n",
      "getting image\n",
      "(2048, 2592, 2)\n"
     ]
    },
    {
     "name": "stderr",
     "output_type": "stream",
     "text": [
      "2019-11-14 17:01:00.024Z moduleTest       20 moduleTest.py:1629 done: [31], 0 left\n",
      "2019-11-14 17:01:25.062Z moduleTest       20 moduleTest.py:1605 Run 28: angle=285.00 degree\n"
     ]
    },
    {
     "name": "stdout",
     "output_type": "stream",
     "text": [
      "getting image\n",
      "(2048, 2592, 2)\n",
      "getting image\n",
      "(2048, 2592, 2)\n",
      "getting image\n",
      "(2048, 2592, 2)\n",
      "getting image\n",
      "(2048, 2592, 2)\n",
      "getting image\n",
      "(2048, 2592, 2)\n",
      "getting image\n",
      "(2048, 2592, 2)\n",
      "getting image\n",
      "(2048, 2592, 2)\n",
      "getting image\n",
      "(2048, 2592, 2)\n"
     ]
    },
    {
     "name": "stderr",
     "output_type": "stream",
     "text": [
      "2019-11-14 17:01:51.307Z moduleTest       20 moduleTest.py:1629 done: [ 3 13 18 24 26 33 42], 48 left\n"
     ]
    },
    {
     "name": "stdout",
     "output_type": "stream",
     "text": [
      "getting image\n",
      "(2048, 2592, 2)\n",
      "getting image\n",
      "(2048, 2592, 2)\n",
      "getting image\n",
      "(2048, 2592, 2)\n",
      "getting image\n",
      "(2048, 2592, 2)\n"
     ]
    },
    {
     "name": "stderr",
     "output_type": "stream",
     "text": [
      "2019-11-14 17:01:57.648Z moduleTest       20 moduleTest.py:1629 done: [ 1  5  8 11 14 20 25 28 30 35 39 40 41 45 51 52 53], 31 left\n",
      "2019-11-14 17:01:57.651Z pfi              30 pfi.py:440 clipping (37, 'theta', 'cw') 1.31 to 1.3071825072269467\n"
     ]
    },
    {
     "name": "stdout",
     "output_type": "stream",
     "text": [
      "getting image\n",
      "(2048, 2592, 2)\n",
      "getting image\n",
      "(2048, 2592, 2)\n",
      "getting image\n",
      "(2048, 2592, 2)\n",
      "getting image\n",
      "(2048, 2592, 2)\n"
     ]
    },
    {
     "name": "stderr",
     "output_type": "stream",
     "text": [
      "2019-11-14 17:02:01.018Z moduleTest       20 moduleTest.py:1629 done: [ 6  7 15 19 21 23 32 34 37 43 47 48 49 50 55], 16 left\n"
     ]
    },
    {
     "name": "stdout",
     "output_type": "stream",
     "text": [
      "getting image\n",
      "(2048, 2592, 2)\n",
      "getting image\n",
      "(2048, 2592, 2)\n",
      "getting image\n",
      "(2048, 2592, 2)\n",
      "getting image\n",
      "(2048, 2592, 2)\n"
     ]
    },
    {
     "name": "stderr",
     "output_type": "stream",
     "text": [
      "2019-11-14 17:02:03.865Z moduleTest       20 moduleTest.py:1629 done: [ 2  4  9 12 22 27 36 38 44 46 56], 5 left\n"
     ]
    },
    {
     "name": "stdout",
     "output_type": "stream",
     "text": [
      "getting image\n",
      "(2048, 2592, 2)\n",
      "getting image\n",
      "(2048, 2592, 2)\n",
      "getting image\n",
      "(2048, 2592, 2)\n",
      "getting image\n",
      "(2048, 2592, 2)\n"
     ]
    },
    {
     "name": "stderr",
     "output_type": "stream",
     "text": [
      "2019-11-14 17:02:06.387Z moduleTest       20 moduleTest.py:1629 done: [10 16 17 29], 1 left\n"
     ]
    },
    {
     "name": "stdout",
     "output_type": "stream",
     "text": [
      "getting image\n",
      "(2048, 2592, 2)\n",
      "getting image\n",
      "(2048, 2592, 2)\n",
      "getting image\n",
      "(2048, 2592, 2)\n",
      "getting image\n",
      "(2048, 2592, 2)\n"
     ]
    },
    {
     "name": "stderr",
     "output_type": "stream",
     "text": [
      "2019-11-14 17:02:08.876Z moduleTest       20 moduleTest.py:1629 done: [31], 0 left\n",
      "2019-11-14 17:02:33.920Z moduleTest       20 moduleTest.py:1605 Run 29: angle=295.00 degree\n"
     ]
    },
    {
     "name": "stdout",
     "output_type": "stream",
     "text": [
      "getting image\n",
      "(2048, 2592, 2)\n",
      "getting image\n",
      "(2048, 2592, 2)\n",
      "getting image\n",
      "(2048, 2592, 2)\n",
      "getting image\n",
      "(2048, 2592, 2)\n",
      "getting image\n",
      "(2048, 2592, 2)\n",
      "getting image\n",
      "(2048, 2592, 2)\n",
      "getting image\n",
      "(2048, 2592, 2)\n",
      "getting image\n",
      "(2048, 2592, 2)\n"
     ]
    },
    {
     "name": "stderr",
     "output_type": "stream",
     "text": [
      "2019-11-14 17:03:04.805Z moduleTest       20 moduleTest.py:1629 done: [11 29 30 42 46 53], 49 left\n"
     ]
    },
    {
     "name": "stdout",
     "output_type": "stream",
     "text": [
      "getting image\n",
      "(2048, 2592, 2)\n",
      "getting image\n",
      "(2048, 2592, 2)\n",
      "getting image\n",
      "(2048, 2592, 2)\n",
      "getting image\n",
      "(2048, 2592, 2)\n"
     ]
    },
    {
     "name": "stderr",
     "output_type": "stream",
     "text": [
      "2019-11-14 17:03:09.352Z moduleTest       20 moduleTest.py:1629 done: [ 1  3  5  6  7 10 15 18 19 20 24 25 26 28 35 37 39 40 45 47 52 55], 27 left\n"
     ]
    },
    {
     "name": "stdout",
     "output_type": "stream",
     "text": [
      "getting image\n",
      "(2048, 2592, 2)\n",
      "getting image\n",
      "(2048, 2592, 2)\n",
      "getting image\n",
      "(2048, 2592, 2)\n",
      "getting image\n",
      "(2048, 2592, 2)\n"
     ]
    },
    {
     "name": "stderr",
     "output_type": "stream",
     "text": [
      "2019-11-14 17:03:12.690Z moduleTest       20 moduleTest.py:1629 done: [ 2  8  9 13 21 23 32 33 34 41 44 49 50 51], 13 left\n"
     ]
    },
    {
     "name": "stdout",
     "output_type": "stream",
     "text": [
      "getting image\n",
      "(2048, 2592, 2)\n",
      "getting image\n",
      "(2048, 2592, 2)\n",
      "getting image\n",
      "(2048, 2592, 2)\n",
      "getting image\n",
      "(2048, 2592, 2)\n"
     ]
    },
    {
     "name": "stderr",
     "output_type": "stream",
     "text": [
      "2019-11-14 17:03:15.381Z moduleTest       20 moduleTest.py:1629 done: [14 22 27 38 48 56], 7 left\n"
     ]
    },
    {
     "name": "stdout",
     "output_type": "stream",
     "text": [
      "getting image\n",
      "(2048, 2592, 2)\n",
      "getting image\n",
      "(2048, 2592, 2)\n",
      "getting image\n",
      "(2048, 2592, 2)\n",
      "getting image\n",
      "(2048, 2592, 2)\n"
     ]
    },
    {
     "name": "stderr",
     "output_type": "stream",
     "text": [
      "2019-11-14 17:03:18.053Z moduleTest       20 moduleTest.py:1629 done: [ 4 16 36 43], 3 left\n"
     ]
    },
    {
     "name": "stdout",
     "output_type": "stream",
     "text": [
      "getting image\n",
      "(2048, 2592, 2)\n",
      "getting image\n",
      "(2048, 2592, 2)\n",
      "getting image\n",
      "(2048, 2592, 2)\n",
      "getting image\n",
      "(2048, 2592, 2)\n"
     ]
    },
    {
     "name": "stderr",
     "output_type": "stream",
     "text": [
      "2019-11-14 17:03:20.559Z moduleTest       20 moduleTest.py:1629 done: [12 17], 1 left\n"
     ]
    },
    {
     "name": "stdout",
     "output_type": "stream",
     "text": [
      "getting image\n",
      "(2048, 2592, 2)\n",
      "getting image\n",
      "(2048, 2592, 2)\n",
      "getting image\n",
      "(2048, 2592, 2)\n",
      "getting image\n",
      "(2048, 2592, 2)\n"
     ]
    },
    {
     "name": "stderr",
     "output_type": "stream",
     "text": [
      "2019-11-14 17:03:23.061Z moduleTest       20 moduleTest.py:1629 done: [31], 0 left\n",
      "2019-11-14 17:03:48.105Z moduleTest       20 moduleTest.py:1605 Run 30: angle=305.00 degree\n"
     ]
    },
    {
     "name": "stdout",
     "output_type": "stream",
     "text": [
      "getting image\n",
      "(2048, 2592, 2)\n",
      "getting image\n",
      "(2048, 2592, 2)\n",
      "getting image\n",
      "(2048, 2592, 2)\n",
      "getting image\n",
      "(2048, 2592, 2)\n",
      "getting image\n",
      "(2048, 2592, 2)\n",
      "getting image\n",
      "(2048, 2592, 2)\n",
      "getting image\n",
      "(2048, 2592, 2)\n",
      "getting image\n",
      "(2048, 2592, 2)\n"
     ]
    },
    {
     "name": "stderr",
     "output_type": "stream",
     "text": [
      "2019-11-14 17:04:21.673Z moduleTest       20 moduleTest.py:1629 done: [ 3 24 29 44 46 50 52], 48 left\n"
     ]
    },
    {
     "name": "stdout",
     "output_type": "stream",
     "text": [
      "getting image\n",
      "(2048, 2592, 2)\n",
      "getting image\n",
      "(2048, 2592, 2)\n",
      "getting image\n",
      "(2048, 2592, 2)\n",
      "getting image\n",
      "(2048, 2592, 2)\n"
     ]
    },
    {
     "name": "stderr",
     "output_type": "stream",
     "text": [
      "2019-11-14 17:04:25.697Z moduleTest       20 moduleTest.py:1629 done: [ 5  7  8 10 13 19 20 23 25 26 28 34 35 37 39 42 45 48 51 53], 28 left\n"
     ]
    },
    {
     "name": "stdout",
     "output_type": "stream",
     "text": [
      "getting image\n",
      "(2048, 2592, 2)\n",
      "getting image\n",
      "(2048, 2592, 2)\n",
      "getting image\n",
      "(2048, 2592, 2)\n",
      "getting image\n",
      "(2048, 2592, 2)\n"
     ]
    },
    {
     "name": "stderr",
     "output_type": "stream",
     "text": [
      "2019-11-14 17:04:29.195Z moduleTest       20 moduleTest.py:1629 done: [ 1  2  6  9 11 14 15 16 18 21 32 33 41 43 47 55], 12 left\n"
     ]
    },
    {
     "name": "stdout",
     "output_type": "stream",
     "text": [
      "getting image\n",
      "(2048, 2592, 2)\n",
      "getting image\n",
      "(2048, 2592, 2)\n",
      "getting image\n",
      "(2048, 2592, 2)\n",
      "getting image\n",
      "(2048, 2592, 2)\n"
     ]
    },
    {
     "name": "stderr",
     "output_type": "stream",
     "text": [
      "2019-11-14 17:04:31.895Z moduleTest       20 moduleTest.py:1629 done: [ 4 30 40 49 56], 7 left\n"
     ]
    },
    {
     "name": "stdout",
     "output_type": "stream",
     "text": [
      "getting image\n",
      "(2048, 2592, 2)\n",
      "getting image\n",
      "(2048, 2592, 2)\n",
      "getting image\n",
      "(2048, 2592, 2)\n",
      "getting image\n",
      "(2048, 2592, 2)\n"
     ]
    },
    {
     "name": "stderr",
     "output_type": "stream",
     "text": [
      "2019-11-14 17:04:34.554Z moduleTest       20 moduleTest.py:1629 done: [12 17 22 38], 3 left\n"
     ]
    },
    {
     "name": "stdout",
     "output_type": "stream",
     "text": [
      "getting image\n",
      "(2048, 2592, 2)\n",
      "getting image\n",
      "(2048, 2592, 2)\n",
      "getting image\n",
      "(2048, 2592, 2)\n",
      "getting image\n",
      "(2048, 2592, 2)\n"
     ]
    },
    {
     "name": "stderr",
     "output_type": "stream",
     "text": [
      "2019-11-14 17:04:37.059Z moduleTest       20 moduleTest.py:1629 done: [27 36], 1 left\n"
     ]
    },
    {
     "name": "stdout",
     "output_type": "stream",
     "text": [
      "getting image\n",
      "(2048, 2592, 2)\n",
      "getting image\n",
      "(2048, 2592, 2)\n",
      "getting image\n",
      "(2048, 2592, 2)\n",
      "getting image\n",
      "(2048, 2592, 2)\n"
     ]
    },
    {
     "name": "stderr",
     "output_type": "stream",
     "text": [
      "2019-11-14 17:04:39.596Z moduleTest       20 moduleTest.py:1629 done: [31], 0 left\n",
      "2019-11-14 17:05:04.640Z moduleTest       20 moduleTest.py:1605 Run 31: angle=315.00 degree\n"
     ]
    },
    {
     "name": "stdout",
     "output_type": "stream",
     "text": [
      "getting image\n",
      "(2048, 2592, 2)\n",
      "getting image\n",
      "(2048, 2592, 2)\n",
      "getting image\n",
      "(2048, 2592, 2)\n",
      "getting image\n",
      "(2048, 2592, 2)\n",
      "getting image\n",
      "(2048, 2592, 2)\n",
      "getting image\n",
      "(2048, 2592, 2)\n",
      "getting image\n",
      "(2048, 2592, 2)\n",
      "getting image\n",
      "(2048, 2592, 2)\n"
     ]
    },
    {
     "name": "stderr",
     "output_type": "stream",
     "text": [
      "2019-11-14 17:05:40.339Z moduleTest       20 moduleTest.py:1629 done: [ 8 20 21 24 26 29 40 42 46 56], 45 left\n"
     ]
    },
    {
     "name": "stdout",
     "output_type": "stream",
     "text": [
      "getting image\n",
      "(2048, 2592, 2)\n",
      "getting image\n",
      "(2048, 2592, 2)\n",
      "getting image\n",
      "(2048, 2592, 2)\n",
      "getting image\n",
      "(2048, 2592, 2)\n"
     ]
    },
    {
     "name": "stderr",
     "output_type": "stream",
     "text": [
      "2019-11-14 17:05:43.354Z moduleTest       20 moduleTest.py:1629 done: [ 5  7 15 18 19 25 35 37 39 43 47 48 50 51 52 53], 29 left\n"
     ]
    },
    {
     "name": "stdout",
     "output_type": "stream",
     "text": [
      "getting image\n",
      "(2048, 2592, 2)\n",
      "getting image\n",
      "(2048, 2592, 2)\n",
      "getting image\n",
      "(2048, 2592, 2)\n",
      "getting image\n",
      "(2048, 2592, 2)\n"
     ]
    },
    {
     "name": "stderr",
     "output_type": "stream",
     "text": [
      "2019-11-14 17:05:46.048Z moduleTest       20 moduleTest.py:1629 done: [ 1  2  4  6  9 10 11 13 14 23 28 32 34 38 44 45 55], 12 left\n"
     ]
    },
    {
     "name": "stdout",
     "output_type": "stream",
     "text": [
      "getting image\n",
      "(2048, 2592, 2)\n",
      "getting image\n",
      "(2048, 2592, 2)\n",
      "getting image\n",
      "(2048, 2592, 2)\n",
      "getting image\n",
      "(2048, 2592, 2)\n"
     ]
    },
    {
     "name": "stderr",
     "output_type": "stream",
     "text": [
      "2019-11-14 17:05:48.573Z moduleTest       20 moduleTest.py:1629 done: [ 3 12 16 22 27 30 31 33 41 49], 2 left\n"
     ]
    },
    {
     "name": "stdout",
     "output_type": "stream",
     "text": [
      "getting image\n",
      "(2048, 2592, 2)\n",
      "getting image\n",
      "(2048, 2592, 2)\n",
      "getting image\n",
      "(2048, 2592, 2)\n",
      "getting image\n",
      "(2048, 2592, 2)\n"
     ]
    },
    {
     "name": "stderr",
     "output_type": "stream",
     "text": [
      "2019-11-14 17:05:51.076Z moduleTest       20 moduleTest.py:1629 done: [36], 1 left\n"
     ]
    },
    {
     "name": "stdout",
     "output_type": "stream",
     "text": [
      "getting image\n",
      "(2048, 2592, 2)\n",
      "getting image\n",
      "(2048, 2592, 2)\n",
      "getting image\n",
      "(2048, 2592, 2)\n",
      "getting image\n",
      "(2048, 2592, 2)\n"
     ]
    },
    {
     "name": "stderr",
     "output_type": "stream",
     "text": [
      "2019-11-14 17:05:53.583Z moduleTest       20 moduleTest.py:1629 done: [17], 0 left\n",
      "2019-11-14 17:06:18.621Z moduleTest       20 moduleTest.py:1605 Run 32: angle=325.00 degree\n",
      "timed out (30.030 s) waiting for 6 bytes. Received 0 bytes: array('B')\n"
     ]
    },
    {
     "name": "stdout",
     "output_type": "stream",
     "text": [
      "getting image\n",
      "(2048, 2592, 2)\n",
      "getting image\n",
      "(2048, 2592, 2)\n",
      "getting image\n",
      "(2048, 2592, 2)\n",
      "getting image\n",
      "(2048, 2592, 2)\n",
      "getting image\n",
      "(2048, 2592, 2)\n",
      "getting image\n",
      "(2048, 2592, 2)\n",
      "getting image\n",
      "(2048, 2592, 2)\n",
      "getting image\n",
      "(2048, 2592, 2)\n"
     ]
    },
    {
     "name": "stderr",
     "output_type": "stream",
     "text": [
      "2019-11-14 17:06:57.030Z moduleTest       20 moduleTest.py:1629 done: [42 49], 53 left\n"
     ]
    },
    {
     "name": "stdout",
     "output_type": "stream",
     "text": [
      "getting image\n",
      "(2048, 2592, 2)\n",
      "getting image\n",
      "(2048, 2592, 2)\n",
      "getting image\n",
      "(2048, 2592, 2)\n",
      "getting image\n",
      "(2048, 2592, 2)\n"
     ]
    },
    {
     "name": "stderr",
     "output_type": "stream",
     "text": [
      "2019-11-14 17:07:01.442Z moduleTest       20 moduleTest.py:1629 done: [ 2  3  8 10 11 12 13 15 18 24 25 28 30 34 39 43 46 50 51 53 55], 32 left\n",
      "2019-11-14 17:07:01.445Z pfi              30 pfi.py:440 clipping (37, 'theta', 'cw') 1.39 to 1.3071825072269467\n"
     ]
    },
    {
     "name": "stdout",
     "output_type": "stream",
     "text": [
      "getting image\n",
      "(2048, 2592, 2)\n",
      "getting image\n",
      "(2048, 2592, 2)\n",
      "getting image\n",
      "(2048, 2592, 2)\n",
      "getting image\n",
      "(2048, 2592, 2)\n"
     ]
    },
    {
     "name": "stderr",
     "output_type": "stream",
     "text": [
      "2019-11-14 17:07:04.732Z moduleTest       20 moduleTest.py:1629 done: [ 1  4  5  6  7  9 14 16 20 21 22 23 27 33 35 37 40 44 45 47 48 52], 10 left\n"
     ]
    },
    {
     "name": "stdout",
     "output_type": "stream",
     "text": [
      "getting image\n",
      "(2048, 2592, 2)\n",
      "getting image\n",
      "(2048, 2592, 2)\n",
      "getting image\n",
      "(2048, 2592, 2)\n",
      "getting image\n",
      "(2048, 2592, 2)\n"
     ]
    },
    {
     "name": "stderr",
     "output_type": "stream",
     "text": [
      "2019-11-14 17:07:07.412Z moduleTest       20 moduleTest.py:1629 done: [19 29 31 32 41], 5 left\n"
     ]
    },
    {
     "name": "stdout",
     "output_type": "stream",
     "text": [
      "getting image\n",
      "(2048, 2592, 2)\n",
      "getting image\n",
      "(2048, 2592, 2)\n",
      "getting image\n",
      "(2048, 2592, 2)\n",
      "getting image\n",
      "(2048, 2592, 2)\n"
     ]
    },
    {
     "name": "stderr",
     "output_type": "stream",
     "text": [
      "2019-11-14 17:07:09.927Z moduleTest       20 moduleTest.py:1629 done: [17 26 36 38], 1 left\n"
     ]
    },
    {
     "name": "stdout",
     "output_type": "stream",
     "text": [
      "getting image\n",
      "(2048, 2592, 2)\n",
      "getting image\n",
      "(2048, 2592, 2)\n",
      "getting image\n",
      "(2048, 2592, 2)\n",
      "getting image\n",
      "(2048, 2592, 2)\n",
      "getting image\n",
      "(2048, 2592, 2)\n",
      "getting image\n",
      "(2048, 2592, 2)\n",
      "getting image\n",
      "(2048, 2592, 2)\n",
      "getting image\n",
      "(2048, 2592, 2)\n"
     ]
    },
    {
     "name": "stderr",
     "output_type": "stream",
     "text": [
      "2019-11-14 17:07:14.945Z moduleTest       20 moduleTest.py:1629 done: [56], 0 left\n",
      "2019-11-14 17:07:39.983Z moduleTest       20 moduleTest.py:1605 Run 33: angle=335.00 degree\n",
      "timed out (30.030 s) waiting for 6 bytes. Received 0 bytes: array('B')\n"
     ]
    },
    {
     "name": "stdout",
     "output_type": "stream",
     "text": [
      "getting image\n",
      "(2048, 2592, 2)\n",
      "getting image\n",
      "(2048, 2592, 2)\n",
      "getting image\n",
      "(2048, 2592, 2)\n",
      "getting image\n",
      "(2048, 2592, 2)\n",
      "getting image\n",
      "(2048, 2592, 2)\n",
      "getting image\n",
      "(2048, 2592, 2)\n",
      "getting image\n",
      "(2048, 2592, 2)\n",
      "getting image\n",
      "(2048, 2592, 2)\n"
     ]
    },
    {
     "name": "stderr",
     "output_type": "stream",
     "text": [
      "2019-11-14 17:08:21.536Z moduleTest       20 moduleTest.py:1629 done: [ 5  8 28], 52 left\n"
     ]
    },
    {
     "name": "stdout",
     "output_type": "stream",
     "text": [
      "getting image\n",
      "(2048, 2592, 2)\n",
      "getting image\n",
      "(2048, 2592, 2)\n",
      "getting image\n",
      "(2048, 2592, 2)\n",
      "getting image\n",
      "(2048, 2592, 2)\n"
     ]
    },
    {
     "name": "stderr",
     "output_type": "stream",
     "text": [
      "2019-11-14 17:08:25.260Z moduleTest       20 moduleTest.py:1629 done: [ 2  3  7 12 13 15 23 24 25 27 34 36 37 39 40 42 44 45 49 50 51 52 55], 29 left\n"
     ]
    },
    {
     "name": "stdout",
     "output_type": "stream",
     "text": [
      "getting image\n",
      "(2048, 2592, 2)\n",
      "getting image\n",
      "(2048, 2592, 2)\n",
      "getting image\n",
      "(2048, 2592, 2)\n",
      "getting image\n",
      "(2048, 2592, 2)\n"
     ]
    },
    {
     "name": "stderr",
     "output_type": "stream",
     "text": [
      "2019-11-14 17:08:29.615Z moduleTest       20 moduleTest.py:1629 done: [ 1  4  6  9 10 16 19 20 21 22 32 33 35 41 43 46 47 48 53], 10 left\n"
     ]
    },
    {
     "name": "stdout",
     "output_type": "stream",
     "text": [
      "getting image\n",
      "(2048, 2592, 2)\n",
      "getting image\n",
      "(2048, 2592, 2)\n",
      "getting image\n",
      "(2048, 2592, 2)\n",
      "getting image\n",
      "(2048, 2592, 2)\n"
     ]
    },
    {
     "name": "stderr",
     "output_type": "stream",
     "text": [
      "2019-11-14 17:08:32.765Z moduleTest       20 moduleTest.py:1629 done: [11 14 17 18 26 30 31], 3 left\n"
     ]
    },
    {
     "name": "stdout",
     "output_type": "stream",
     "text": [
      "getting image\n",
      "(2048, 2592, 2)\n",
      "getting image\n",
      "(2048, 2592, 2)\n",
      "getting image\n",
      "(2048, 2592, 2)\n",
      "getting image\n",
      "(2048, 2592, 2)\n"
     ]
    },
    {
     "name": "stderr",
     "output_type": "stream",
     "text": [
      "2019-11-14 17:08:35.459Z moduleTest       20 moduleTest.py:1629 done: [38 56], 1 left\n"
     ]
    },
    {
     "name": "stdout",
     "output_type": "stream",
     "text": [
      "getting image\n",
      "(2048, 2592, 2)\n",
      "getting image\n",
      "(2048, 2592, 2)\n",
      "getting image\n",
      "(2048, 2592, 2)\n",
      "getting image\n",
      "(2048, 2592, 2)\n",
      "getting image\n",
      "(2048, 2592, 2)\n",
      "getting image\n",
      "(2048, 2592, 2)\n",
      "getting image\n",
      "(2048, 2592, 2)\n",
      "getting image\n",
      "(2048, 2592, 2)\n"
     ]
    },
    {
     "name": "stderr",
     "output_type": "stream",
     "text": [
      "2019-11-14 17:08:40.465Z moduleTest       20 moduleTest.py:1629 done: [29], 0 left\n",
      "2019-11-14 17:09:05.503Z moduleTest       20 moduleTest.py:1605 Run 34: angle=345.00 degree\n",
      "timed out (30.030 s) waiting for 6 bytes. Received 0 bytes: array('B')\n"
     ]
    },
    {
     "name": "stdout",
     "output_type": "stream",
     "text": [
      "getting image\n",
      "(2048, 2592, 2)\n",
      "getting image\n",
      "(2048, 2592, 2)\n",
      "getting image\n",
      "(2048, 2592, 2)\n",
      "getting image\n",
      "(2048, 2592, 2)\n",
      "getting image\n",
      "(2048, 2592, 2)\n",
      "getting image\n",
      "(2048, 2592, 2)\n",
      "getting image\n",
      "(2048, 2592, 2)\n",
      "getting image\n",
      "(2048, 2592, 2)\n"
     ]
    },
    {
     "name": "stderr",
     "output_type": "stream",
     "text": [
      "2019-11-14 17:10:06.525Z moduleTest       20 moduleTest.py:1629 done: [ 3 13 18 37 40 43 53], 48 left\n"
     ]
    },
    {
     "name": "stdout",
     "output_type": "stream",
     "text": [
      "getting image\n",
      "(2048, 2592, 2)\n",
      "getting image\n",
      "(2048, 2592, 2)\n",
      "getting image\n",
      "(2048, 2592, 2)\n",
      "getting image\n",
      "(2048, 2592, 2)\n"
     ]
    },
    {
     "name": "stderr",
     "output_type": "stream",
     "text": [
      "2019-11-14 17:10:09.893Z moduleTest       20 moduleTest.py:1629 done: [ 1  7  8 10 14 15 16 19 21 23 24 25 28 34 35 39 42 45 46 47 49 50 52 55], 24 left\n"
     ]
    },
    {
     "name": "stdout",
     "output_type": "stream",
     "text": [
      "getting image\n",
      "(2048, 2592, 2)\n",
      "getting image\n",
      "(2048, 2592, 2)\n",
      "getting image\n",
      "(2048, 2592, 2)\n",
      "getting image\n",
      "(2048, 2592, 2)\n"
     ]
    },
    {
     "name": "stderr",
     "output_type": "stream",
     "text": [
      "2019-11-14 17:10:13.576Z moduleTest       20 moduleTest.py:1629 done: [ 2  5  9 11 12 17 22 26 27 32 36 48 51], 11 left\n"
     ]
    },
    {
     "name": "stdout",
     "output_type": "stream",
     "text": [
      "getting image\n",
      "(2048, 2592, 2)\n",
      "getting image\n",
      "(2048, 2592, 2)\n",
      "getting image\n",
      "(2048, 2592, 2)\n",
      "getting image\n",
      "(2048, 2592, 2)\n"
     ]
    },
    {
     "name": "stderr",
     "output_type": "stream",
     "text": [
      "2019-11-14 17:10:16.934Z moduleTest       20 moduleTest.py:1629 done: [ 4  6 20 29 30 33 38 41 44], 2 left\n"
     ]
    },
    {
     "name": "stdout",
     "output_type": "stream",
     "text": [
      "getting image\n",
      "(2048, 2592, 2)\n",
      "getting image\n",
      "(2048, 2592, 2)\n",
      "getting image\n",
      "(2048, 2592, 2)\n",
      "getting image\n",
      "(2048, 2592, 2)\n"
     ]
    },
    {
     "name": "stderr",
     "output_type": "stream",
     "text": [
      "2019-11-14 17:10:19.435Z moduleTest       20 moduleTest.py:1629 done: [31], 1 left\n"
     ]
    },
    {
     "name": "stdout",
     "output_type": "stream",
     "text": [
      "getting image\n",
      "(2048, 2592, 2)\n",
      "getting image\n",
      "(2048, 2592, 2)\n",
      "getting image\n",
      "(2048, 2592, 2)\n",
      "getting image\n",
      "(2048, 2592, 2)\n",
      "getting image\n",
      "(2048, 2592, 2)\n",
      "getting image\n",
      "(2048, 2592, 2)\n",
      "getting image\n",
      "(2048, 2592, 2)\n",
      "getting image\n",
      "(2048, 2592, 2)\n"
     ]
    },
    {
     "name": "stderr",
     "output_type": "stream",
     "text": [
      "2019-11-14 17:10:24.778Z moduleTest       30 moduleTest.py:1653 1 cobras did not finish: [56], [344.52]\n"
     ]
    },
    {
     "data": {
      "text/plain": [
       "PosixPath('/data/MCS/20191114_015')"
      ]
     },
     "execution_count": 4,
     "metadata": {},
     "output_type": "execute_result"
    }
   ],
   "source": [
    "mt.thetaConvergenceTest(margin=15.0, runs=34, tries=8, fast=False, scaleFactor=3.0, tolerance=0.2)"
   ]
  },
  {
   "cell_type": "code",
   "execution_count": null,
   "metadata": {
    "scrolled": true
   },
   "outputs": [],
   "source": [
    "mt.moveToThetaAngle(angle=60.0, keepExistingPosition=False, globalAngles=False, tolerance=0.5)"
   ]
  },
  {
   "cell_type": "code",
   "execution_count": null,
   "metadata": {
    "scrolled": true
   },
   "outputs": [],
   "source": [
    "mt.moveToThetaAngle(angle=30.0, keepExistingPosition=True, globalAngles=True, tolerance=0.5)"
   ]
  },
  {
   "cell_type": "code",
   "execution_count": null,
   "metadata": {
    "scrolled": true
   },
   "outputs": [],
   "source": [
    "mt.gotoSafeFromPhi60(phiAngle=60.0, tolerance=0.5)"
   ]
  },
  {
   "cell_type": "code",
   "execution_count": null,
   "metadata": {
    "scrolled": true
   },
   "outputs": [],
   "source": [
    "mt.gotoShippingFromPhi60(phiAngle=60.0, tolerance=1.0)"
   ]
  },
  {
   "cell_type": "code",
   "execution_count": null,
   "metadata": {},
   "outputs": [],
   "source": [
    "mt.pfi.moveAllSteps(mt.goodCobras, -10000, 0)"
   ]
  },
  {
   "cell_type": "code",
   "execution_count": null,
   "metadata": {},
   "outputs": [],
   "source": []
  },
  {
   "cell_type": "code",
   "execution_count": null,
   "metadata": {},
   "outputs": [],
   "source": [
    "mt.convertXML('spare1_convert.xml')"
   ]
  },
  {
   "cell_type": "code",
   "execution_count": null,
   "metadata": {
    "scrolled": true
   },
   "outputs": [],
   "source": [
    "mt.moveGoodCobrasOut()"
   ]
  },
  {
   "cell_type": "code",
   "execution_count": null,
   "metadata": {},
   "outputs": [],
   "source": [
    "mt.pfi.resetMotorScaling(mt.goodCobras)"
   ]
  },
  {
   "cell_type": "code",
   "execution_count": null,
   "metadata": {},
   "outputs": [],
   "source": []
  },
  {
   "cell_type": "code",
   "execution_count": null,
   "metadata": {},
   "outputs": [],
   "source": [
    "mt.pfi.calibModel.centers"
   ]
  },
  {
   "cell_type": "code",
   "execution_count": null,
   "metadata": {},
   "outputs": [],
   "source": []
  }
 ],
 "metadata": {
  "kernelspec": {
   "display_name": "Python 3",
   "language": "python",
   "name": "python3"
  },
  "language_info": {
   "codemirror_mode": {
    "name": "ipython",
    "version": 3
   },
   "file_extension": ".py",
   "mimetype": "text/x-python",
   "name": "python",
   "nbconvert_exporter": "python",
   "pygments_lexer": "ipython3",
   "version": "3.7.3"
  }
 },
 "nbformat": 4,
 "nbformat_minor": 2
}
