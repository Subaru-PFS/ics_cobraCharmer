{
 "cells": [
  {
   "cell_type": "code",
   "execution_count": 1,
   "metadata": {},
   "outputs": [],
   "source": [
    "from moduleTest import ModuleTest\n",
    "import pathlib\n",
    "import numpy as np\n",
    "import logging\n",
    "\n",
    "np.set_printoptions(suppress=True)"
   ]
  },
  {
   "cell_type": "code",
   "execution_count": 2,
   "metadata": {},
   "outputs": [],
   "source": [
    "#xml = pathlib.Path('/home/pfs/Documents/cwen/ics_cobraCharmer/xml/SC02_01.xml')\n",
    "#xml = pathlib.Path('/data/MCS/20191120_006/output/SC02_phi_250.xml')\n",
    "#xml = pathlib.Path('/home/pfs/Documents/cwen/ics_cobraCharmer/xml/SC33_02.xml')\n",
    "#xml = pathlib.Path('/data/MCS/20200212_022/output/SC33_theta_500.xml')\n",
    "#brokens = [1, 39, 43, 54]\n",
    "mt = ModuleTest('fpga', version='SP01', moduleVersion='3', brokens=None, logLevel=logging.DEBUG)"
   ]
  },
  {
   "cell_type": "code",
   "execution_count": 5,
   "metadata": {
    "scrolled": false
   },
   "outputs": [
    {
     "name": "stderr",
     "output_type": "stream",
     "text": [
      "2020-03-03 15:18:39.580Z butler           30 butler.py:58 newRun: /data/MCS/20200303_011\n",
      "2020-03-03 15:18:39.581Z fpgaIO           20 pfi.py:72 FPGA connection to 128.149.77.24\n",
      "/home/pfs/Documents/cwen/ics_cobraCharmer/python/ics/cobraCharmer/utils/butler.py:178: YAMLLoadWarning: calling yaml.load() without Loader=... is deprecated, as the default Loader is unsafe. Please read https://msg.pyyaml.org/load for full details.\n",
      "  config = yaml.load(yamlFile)\n",
      "2020-03-03 15:18:39.647Z moduleTest       30 moduleTest.py:178 setting invisible cobras: [1, 39, 43, 54]\n",
      "2020-03-03 15:18:39.648Z moduleTest       30 moduleTest.py:194 setting bad cobras: [1, 2, 39, 43, 54]\n",
      "2020-03-03 15:18:39.649Z camera           20 asrdCam.py:17 asrd...\n"
     ]
    }
   ],
   "source": [
    "mt._connect()"
   ]
  },
  {
   "cell_type": "code",
   "execution_count": null,
   "metadata": {},
   "outputs": [],
   "source": [
    "_idx = np.zeros(57, 'bool')\n",
    "_idx[np.arange(2,57,3)] = True\n",
    "cobras = mt.goodCobras[_idx[mt.goodIdx]]"
   ]
  },
  {
   "cell_type": "code",
   "execution_count": null,
   "metadata": {},
   "outputs": [],
   "source": []
  },
  {
   "cell_type": "code",
   "execution_count": null,
   "metadata": {},
   "outputs": [],
   "source": []
  },
  {
   "cell_type": "code",
   "execution_count": null,
   "metadata": {
    "scrolled": true
   },
   "outputs": [],
   "source": [
    "mt.pfi.moveAllSteps(mt.goodCobras, 10000, -5000)"
   ]
  },
  {
   "cell_type": "code",
   "execution_count": null,
   "metadata": {},
   "outputs": [],
   "source": [
    "mt.pfi.moveAllSteps(mt.goodCobras, -10000, 0)"
   ]
  },
  {
   "cell_type": "code",
   "execution_count": null,
   "metadata": {},
   "outputs": [],
   "source": [
    "mt.pfi.moveAllSteps(mt.allCobras[3:4], -10000, 0)"
   ]
  },
  {
   "cell_type": "code",
   "execution_count": null,
   "metadata": {},
   "outputs": [],
   "source": [
    "mt.pfi.moveAllSteps(mt.goodCobras, 10000, -5000, thetaFast=False, phiFast=True)"
   ]
  },
  {
   "cell_type": "code",
   "execution_count": null,
   "metadata": {
    "scrolled": true
   },
   "outputs": [],
   "source": [
    "mt.cam.expose(doCentroid=False)"
   ]
  },
  {
   "cell_type": "code",
   "execution_count": null,
   "metadata": {
    "scrolled": true
   },
   "outputs": [],
   "source": [
    "pos = mt.exposeAndExtractPositions(tolerance=0.1)\n",
    "tht, phi, flag = mt.pfi.positionsToAngles(mt.visibleCobras, pos)\n",
    "np.rad2deg(tht[:,0]), np.rad2deg((tht[:,0]+mt.pfi.calibModel.tht0[mt.visibleIdx])%(np.pi*2)), np.rad2deg(phi[:,0])"
   ]
  },
  {
   "cell_type": "code",
   "execution_count": null,
   "metadata": {},
   "outputs": [],
   "source": [
    "mt.pfi.moveAllSteps(mt.allCobras[[32]], 50, 0)"
   ]
  },
  {
   "cell_type": "code",
   "execution_count": null,
   "metadata": {},
   "outputs": [],
   "source": []
  },
  {
   "cell_type": "code",
   "execution_count": null,
   "metadata": {
    "scrolled": true
   },
   "outputs": [],
   "source": [
    "mt.convertXML('/home/pfs/mhs/devel/pfs_instdata/data/pfi/modules/SP01/SP01_1.xml')"
   ]
  },
  {
   "cell_type": "code",
   "execution_count": null,
   "metadata": {},
   "outputs": [],
   "source": []
  },
  {
   "cell_type": "code",
   "execution_count": null,
   "metadata": {
    "scrolled": true
   },
   "outputs": [],
   "source": [
    "mt.getPhiCenters()"
   ]
  },
  {
   "cell_type": "code",
   "execution_count": null,
   "metadata": {},
   "outputs": [],
   "source": []
  },
  {
   "cell_type": "code",
   "execution_count": null,
   "metadata": {
    "scrolled": true
   },
   "outputs": [],
   "source": [
    "mt.setPhiGeometryFromRun(pathlib.Path('/data/MCS/20200303_007'), onlyIfClear=False)"
   ]
  },
  {
   "cell_type": "code",
   "execution_count": null,
   "metadata": {
    "scrolled": true
   },
   "outputs": [],
   "source": [
    "mt.makePhiMotorMap('SP01_phi_400.xml', steps=400, repeat=1, totalSteps=6000, fast=False)"
   ]
  },
  {
   "cell_type": "code",
   "execution_count": null,
   "metadata": {},
   "outputs": [],
   "source": [
    "mt.makePhiMotorMap('SP01_phi_fast.xml', steps=250, repeat=3, totalSteps=6000, fast=True)"
   ]
  },
  {
   "cell_type": "code",
   "execution_count": null,
   "metadata": {
    "scrolled": true
   },
   "outputs": [],
   "source": [
    "mt.makePhiMotorMap('SP01_phi_H250.xml', steps=250, repeat=5, totalSteps=6000, fromHome=True)"
   ]
  },
  {
   "cell_type": "code",
   "execution_count": null,
   "metadata": {},
   "outputs": [],
   "source": []
  },
  {
   "cell_type": "code",
   "execution_count": null,
   "metadata": {
    "scrolled": true
   },
   "outputs": [],
   "source": [
    "mt.phiConvergenceTest(margin=15.0, runs=3, tries=8, fast=False, finalAngle=None, scaleFactor=1.0, tolerance=0.1)"
   ]
  },
  {
   "cell_type": "code",
   "execution_count": null,
   "metadata": {},
   "outputs": [],
   "source": [
    "mt.phiConvergenceTest(margin=15.0, runs=16, tries=8, fast=True, finalAngle=None, scaleFactor=2.0, tolerance=0.1)"
   ]
  },
  {
   "cell_type": "code",
   "execution_count": null,
   "metadata": {
    "scrolled": true
   },
   "outputs": [],
   "source": [
    "for scale in [1.2, 2.0, 3.0, 5.0, 8.0]:\n",
    "    mt.phiConvergenceTest(margin=15.0, runs=16, tries=8, fast=False, finalAngle=None, scaleFactor=scale, tolerance=0.1)"
   ]
  },
  {
   "cell_type": "code",
   "execution_count": null,
   "metadata": {},
   "outputs": [],
   "source": [
    "for scale in [1.2, 2.0, 3.0, 5.0, 8.0]:\n",
    "    mt.phiConvergenceTest(margin=15.0, runs=16, tries=8, fast=False, finalAngle=None, scaleFactor=scale, tolerance=0.1, b=0)"
   ]
  },
  {
   "cell_type": "code",
   "execution_count": null,
   "metadata": {},
   "outputs": [],
   "source": []
  },
  {
   "cell_type": "code",
   "execution_count": null,
   "metadata": {
    "scrolled": true
   },
   "outputs": [],
   "source": [
    "mt.moveToPhiAngle(angle=60.0, keepExistingPosition=False, fromPhiCCW=False)"
   ]
  },
  {
   "cell_type": "code",
   "execution_count": null,
   "metadata": {
    "scrolled": true
   },
   "outputs": [],
   "source": [
    "mt.moveToPhiAngle(idx=None, angle=60.0, keepExistingPosition=True)"
   ]
  },
  {
   "cell_type": "code",
   "execution_count": null,
   "metadata": {
    "scrolled": true
   },
   "outputs": [],
   "source": [
    "mt.phiCenter, np.rad2deg(mt.phiCCWHome), np.rad2deg(mt.phiCWHome)"
   ]
  },
  {
   "cell_type": "code",
   "execution_count": null,
   "metadata": {},
   "outputs": [],
   "source": []
  },
  {
   "cell_type": "code",
   "execution_count": null,
   "metadata": {
    "scrolled": true
   },
   "outputs": [],
   "source": [
    "mt.phiOnTimeSearch('SP01_phi_search.xml', speeds=(0.06,0.12), steps=(500,250), iteration=3, repeat=1)"
   ]
  },
  {
   "cell_type": "code",
   "execution_count": null,
   "metadata": {},
   "outputs": [],
   "source": [
    "for t,s in [(0.025,400), (0.03,300)]:\n",
    "    mt.makePhiMotorMap('SP01_phi_search.xml', steps=s, repeat=3, totalSteps=30*s, phiOnTime=t)"
   ]
  },
  {
   "cell_type": "code",
   "execution_count": null,
   "metadata": {},
   "outputs": [],
   "source": []
  },
  {
   "cell_type": "code",
   "execution_count": null,
   "metadata": {},
   "outputs": [],
   "source": []
  },
  {
   "cell_type": "code",
   "execution_count": 3,
   "metadata": {},
   "outputs": [
    {
     "name": "stderr",
     "output_type": "stream",
     "text": [
      "2020-03-03 15:17:07.089Z moduleTest       40 moduleTest.py:382 theta ranges for cobras [ 1  2 39 43 54] are too small: CW=[ 0.         53.24734959  0.          0.          0.        ] CCW=[ 0.         53.37794741  0.          0.          0.        ]\n",
      "2020-03-03 15:17:07.090Z moduleTest       40 moduleTest.py:385      [360.   359.87 360.   360.   360.  ]\n"
     ]
    }
   ],
   "source": [
    "mt.setThetaGeometryFromRun(pathlib.Path('/data/MCS/20200303_010'), onlyIfClear=False)"
   ]
  },
  {
   "cell_type": "code",
   "execution_count": null,
   "metadata": {
    "scrolled": true
   },
   "outputs": [],
   "source": [
    "mt.makeThetaMotorMap('SP01_theta_500.xml', steps=500, repeat=1, totalSteps=10000, thetaOnTime=None)"
   ]
  },
  {
   "cell_type": "code",
   "execution_count": null,
   "metadata": {
    "scrolled": true
   },
   "outputs": [],
   "source": [
    "mt.makeThetaMotorMap('SP01_theta_500_fast.xml', steps=500, repeat=3, totalSteps=12000, fast=True)"
   ]
  },
  {
   "cell_type": "code",
   "execution_count": null,
   "metadata": {},
   "outputs": [],
   "source": [
    "phiRunDir = pathlib.Path('/data/MCS/20200302_027')\n",
    "mt.makeThetaMotorMap('SP01_theta.xml', steps=500, repeat=1, updateGeometry=True, phiRunDir=phiRunDir)"
   ]
  },
  {
   "cell_type": "code",
   "execution_count": null,
   "metadata": {
    "scrolled": true
   },
   "outputs": [],
   "source": [
    "mt.makeThetaMotorMap('SP01_theta_H250.xml', steps=250, repeat=20, totalSteps=10000, fromHome=True)"
   ]
  },
  {
   "cell_type": "code",
   "execution_count": null,
   "metadata": {
    "scrolled": true
   },
   "outputs": [],
   "source": [
    "mt.makeThetaMotorMap2('SP01_theta_500L.xml', steps=500, repeat=3, totalSteps=10000, thetaOnTime=None)"
   ]
  },
  {
   "cell_type": "code",
   "execution_count": null,
   "metadata": {},
   "outputs": [],
   "source": []
  },
  {
   "cell_type": "code",
   "execution_count": null,
   "metadata": {},
   "outputs": [],
   "source": []
  },
  {
   "cell_type": "code",
   "execution_count": null,
   "metadata": {
    "scrolled": true
   },
   "outputs": [],
   "source": [
    "safeAngle = np.empty(57)\n",
    "safeAngle[::2] = 270\n",
    "safeAngle[1::2] = 90\n",
    "gIdx = mt.goodIdx[mt.goodIdx%3==0]\n",
    "#gIdx = mt.goodIdx\n",
    "mt.pfi.moveAllSteps(mt.allCobras[gIdx], 0, 5000)\n",
    "mt.moveToThetaAngle(gIdx, angle=safeAngle[gIdx], globalAngles=True, maxTries=10)"
   ]
  },
  {
   "cell_type": "code",
   "execution_count": null,
   "metadata": {
    "scrolled": true
   },
   "outputs": [],
   "source": [
    "mt.moveToThetaAngle(gIdx, angle=safeAngle[gIdx], globalAngles=True, maxTries=10, keepExistingPosition=True)"
   ]
  },
  {
   "cell_type": "code",
   "execution_count": null,
   "metadata": {},
   "outputs": [],
   "source": [
    "mt.pfi.moveAllSteps(mt.allCobras[gIdx], 0, -5000)"
   ]
  },
  {
   "cell_type": "code",
   "execution_count": null,
   "metadata": {},
   "outputs": [],
   "source": []
  },
  {
   "cell_type": "code",
   "execution_count": null,
   "metadata": {
    "scrolled": true
   },
   "outputs": [],
   "source": [
    "mt.thetaConvergenceTest(margin=15.0, runs=3, tries=8, fast=False, scaleFactor=1.0, tolerance=0.1)"
   ]
  },
  {
   "cell_type": "code",
   "execution_count": null,
   "metadata": {
    "scrolled": true
   },
   "outputs": [],
   "source": [
    "mt.moveToThetaAngle(angle=60.0, keepExistingPosition=False, globalAngles=False, tolerance=0.5)"
   ]
  },
  {
   "cell_type": "code",
   "execution_count": null,
   "metadata": {
    "scrolled": true
   },
   "outputs": [],
   "source": [
    "mt.moveToThetaAngle(idx=[0], angle=60.0, keepExistingPosition=True, globalAngles=True, tolerance=0.5)"
   ]
  },
  {
   "cell_type": "code",
   "execution_count": null,
   "metadata": {
    "scrolled": true
   },
   "outputs": [],
   "source": [
    "mt.gotoSafeFromPhi60(phiAngle=60.0, tolerance=0.5)"
   ]
  },
  {
   "cell_type": "code",
   "execution_count": null,
   "metadata": {
    "scrolled": true
   },
   "outputs": [],
   "source": [
    "mt.gotoShippingFromPhi60(phiAngle=60.0, tolerance=1.0)"
   ]
  },
  {
   "cell_type": "code",
   "execution_count": null,
   "metadata": {},
   "outputs": [],
   "source": [
    "mt.pfi.moveAllSteps(mt.goodCobras, -10000, 0)"
   ]
  },
  {
   "cell_type": "code",
   "execution_count": null,
   "metadata": {},
   "outputs": [],
   "source": []
  },
  {
   "cell_type": "code",
   "execution_count": null,
   "metadata": {
    "scrolled": true
   },
   "outputs": [
    {
     "name": "stderr",
     "output_type": "stream",
     "text": [
      "2020-03-03 15:18:44.947Z moduleTest       20 moduleTest.py:2182 Initial run, onTime = 0.08\n",
      "2020-03-03 15:18:44.950Z butler           30 butler.py:58 newRun: /data/MCS/20200303_012\n",
      "2020-03-03 15:18:44.952Z fpgaIO           20 pfi.py:72 FPGA connection to 128.149.77.24\n",
      "2020-03-03 15:18:45.031Z moduleTest       30 moduleTest.py:178 setting invisible cobras: [1, 39, 43, 54]\n",
      "2020-03-03 15:18:45.032Z moduleTest       30 moduleTest.py:194 setting bad cobras: [1, 2, 39, 43, 54]\n",
      "2020-03-03 15:18:45.033Z camera           20 asrdCam.py:17 asrd...\n",
      "2020-03-03 15:18:45.036Z moduleTest       20 moduleTest.py:1341 theta home -10000 steps\n"
     ]
    }
   ],
   "source": [
    "mt.thetaOnTimeSearch('SP01_theta_search.xml', speeds=(0.06,0.12), steps=(600,300), iteration=3, repeat=1)"
   ]
  },
  {
   "cell_type": "code",
   "execution_count": null,
   "metadata": {},
   "outputs": [],
   "source": []
  },
  {
   "cell_type": "code",
   "execution_count": null,
   "metadata": {},
   "outputs": [],
   "source": [
    "mt.pfi.resetMotorScaling(mt.allCobras)"
   ]
  },
  {
   "cell_type": "code",
   "execution_count": null,
   "metadata": {
    "scrolled": false
   },
   "outputs": [],
   "source": [
    "mt.moveGoodCobrasOut(threshold=1.0, phiAngle=60, maxTries=10, phiToHome=False)"
   ]
  },
  {
   "cell_type": "code",
   "execution_count": null,
   "metadata": {},
   "outputs": [],
   "source": []
  },
  {
   "cell_type": "code",
   "execution_count": null,
   "metadata": {
    "scrolled": true
   },
   "outputs": [],
   "source": [
    "mt.pfi.calibModel.centers"
   ]
  },
  {
   "cell_type": "code",
   "execution_count": null,
   "metadata": {},
   "outputs": [],
   "source": []
  },
  {
   "cell_type": "code",
   "execution_count": null,
   "metadata": {},
   "outputs": [],
   "source": [
    "import idsCamera\n",
    "import threading\n",
    "import time\n",
    "from astropy.io import fits"
   ]
  },
  {
   "cell_type": "code",
   "execution_count": null,
   "metadata": {},
   "outputs": [],
   "source": [
    "def capture(fn):\n",
    "    print(f'running = {running}')\n",
    "    cam1 = idsCamera.idsCamera(1)\n",
    "    cam2 = idsCamera.idsCamera(2)\n",
    "    cam1.setExpoureTime(20)\n",
    "    cam2.setExpoureTime(20)\n",
    "\n",
    "    data1 = np.zeros((2048, 2592))\n",
    "    data2 = np.zeros((2048, 2592))\n",
    "\n",
    "    while running:\n",
    "        data1 += cam1.getCurrentFrame()\n",
    "        data2 += cam2.getCurrentFrame()\n",
    "    print(f'running = {running}')\n",
    "    print(data1, data2)\n",
    "\n",
    "    hdus = fits.HDUList()\n",
    "    hdus.append(fits.CompImageHDU(data1, name='IMAGE'))\n",
    "    hdus.append(fits.CompImageHDU(data2, name='IMAGE'))\n",
    "    hdus.writeto(fn, overwrite=True)\n",
    "\n",
    "    del cam1, cam2"
   ]
  },
  {
   "cell_type": "code",
   "execution_count": null,
   "metadata": {
    "scrolled": true
   },
   "outputs": [],
   "source": [
    "thr = threading.Thread(target=capture, args=('goback2.fits',))\n",
    "running = True\n",
    "thr.start()\n",
    "time.sleep(12)\n",
    "\n",
    "mt.pfi.resetMotorScaling(mt.goodCobras)\n",
    "mt.pfi.moveAllSteps(mt.goodCobras, 900, -900, thetaFast=False, phiFast=True)    \n",
    "running = False"
   ]
  },
  {
   "cell_type": "code",
   "execution_count": null,
   "metadata": {},
   "outputs": [],
   "source": [
    "np.max(image1)"
   ]
  },
  {
   "cell_type": "code",
   "execution_count": null,
   "metadata": {},
   "outputs": [],
   "source": [
    "mt.phiCenter is not None"
   ]
  },
  {
   "cell_type": "code",
   "execution_count": null,
   "metadata": {},
   "outputs": [],
   "source": [
    "flag"
   ]
  },
  {
   "cell_type": "code",
   "execution_count": null,
   "metadata": {},
   "outputs": [],
   "source": [
    "len(mt.allCobras), len(mt.goodCobras)"
   ]
  },
  {
   "cell_type": "code",
   "execution_count": null,
   "metadata": {},
   "outputs": [],
   "source": [
    "mt.pfi.calibrateFreq()"
   ]
  },
  {
   "cell_type": "code",
   "execution_count": null,
   "metadata": {},
   "outputs": [],
   "source": [
    "errors, temps, voltages, freqs1, currents1, freqs2, currents2 = mt.pfi.houseKeeping()"
   ]
  },
  {
   "cell_type": "code",
   "execution_count": null,
   "metadata": {},
   "outputs": [],
   "source": [
    "freqs1"
   ]
  },
  {
   "cell_type": "code",
   "execution_count": null,
   "metadata": {},
   "outputs": [],
   "source": [
    "freqs2"
   ]
  },
  {
   "cell_type": "code",
   "execution_count": null,
   "metadata": {},
   "outputs": [],
   "source": [
    "for c in mt.allCobras:\n",
    "    print(c.module, c.cobraNum, c.board, c.cobra)"
   ]
  },
  {
   "cell_type": "code",
   "execution_count": null,
   "metadata": {},
   "outputs": [],
   "source": [
    "mt.pfi.calibModel.L1[12:15], mt.pfi.calibModel.L2[12:15]"
   ]
  },
  {
   "cell_type": "code",
   "execution_count": null,
   "metadata": {},
   "outputs": [],
   "source": [
    "mt.pfi.calibModel.phiIn[12:15], mt.pfi.calibModel.phiOut[12:15]"
   ]
  },
  {
   "cell_type": "code",
   "execution_count": null,
   "metadata": {},
   "outputs": [],
   "source": [
    "mt.pfi.calibModel.tht0[12:15], mt.pfi.calibModel.tht1[12:15]"
   ]
  },
  {
   "cell_type": "code",
   "execution_count": null,
   "metadata": {},
   "outputs": [],
   "source": []
  }
 ],
 "metadata": {
  "kernelspec": {
   "display_name": "Python 3",
   "language": "python",
   "name": "python3"
  },
  "language_info": {
   "codemirror_mode": {
    "name": "ipython",
    "version": 3
   },
   "file_extension": ".py",
   "mimetype": "text/x-python",
   "name": "python",
   "nbconvert_exporter": "python",
   "pygments_lexer": "ipython3",
   "version": "3.7.3"
  }
 },
 "nbformat": 4,
 "nbformat_minor": 2
}
