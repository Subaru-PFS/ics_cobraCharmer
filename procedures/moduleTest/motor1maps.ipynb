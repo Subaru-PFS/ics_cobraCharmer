{
 "cells": [
  {
   "cell_type": "code",
   "execution_count": null,
   "metadata": {},
   "outputs": [],
   "source": [
    "import numpy as np\n",
    "import matplotlib.pyplot as plt\n",
    "from astropy.io import fits\n",
    "\n",
    "np.set_printoptions(suppress=True)"
   ]
  },
  {
   "cell_type": "code",
   "execution_count": null,
   "metadata": {},
   "outputs": [],
   "source": [
    "# define the broken/good cobras\n",
    "#brokens = [1, 39, 43, 54]\n",
    "brokens = [1, 55]\n",
    "visibles= [e for e in range(1,58) if e not in brokens]\n",
    "badIdx = np.array(brokens) - 1\n",
    "goodIdx = np.array(visibles) - 1\n",
    "\n",
    "# two groups for two cameras\n",
    "cam_split = 28\n",
    "group1 = goodIdx[goodIdx <= cam_split]\n",
    "group2 = goodIdx[goodIdx > cam_split]"
   ]
  },
  {
   "cell_type": "code",
   "execution_count": null,
   "metadata": {},
   "outputs": [],
   "source": [
    "path = '/data/MCS/20191113_007/data/'\n",
    "centers = np.load(path + 'thetaCenter.npy')\n",
    "radius = np.load(path + 'thetaRadius.npy')\n",
    "fw = np.load(path + 'thetaFW.npy')\n",
    "rv = np.load(path + 'thetaRV.npy')\n",
    "af = np.load(path + 'thetaAngFW.npy')\n",
    "ar = np.load(path + 'thetaAngRV.npy')\n",
    "sf = np.load(path + 'thetaSpeedFW.npy')\n",
    "sr = np.load(path + 'thetaSpeedRV.npy')\n",
    "badR = np.load(path + 'badRange.npy')\n",
    "mf = np.load(path + 'thetaMMFW.npy')\n",
    "mr = np.load(path + 'thetaMMRV.npy')\n",
    "bad = np.load(path + 'bad.npy')"
   ]
  },
  {
   "cell_type": "code",
   "execution_count": null,
   "metadata": {},
   "outputs": [],
   "source": [
    "path = '/data/MCS/20191113_008/data/'\n",
    "centers2 = np.load(path + 'thetaCenter.npy')\n",
    "radius2 = np.load(path + 'thetaRadius.npy')\n",
    "fw2 = np.load(path + 'thetaFW.npy')\n",
    "rv2 = np.load(path + 'thetaRV.npy')\n",
    "af2 = np.load(path + 'thetaAngFW.npy')\n",
    "ar2 = np.load(path + 'thetaAngRV.npy')\n",
    "sf2 = np.load(path + 'thetaSpeedFW.npy')\n",
    "sr2 = np.load(path + 'thetaSpeedRV.npy')\n",
    "badR2 = np.load(path + 'badRange.npy')\n",
    "mf2 = np.load(path + 'thetaMMFW.npy')\n",
    "mr2 = np.load(path + 'thetaMMRV.npy')\n",
    "bad2 = np.load(path + 'bad.npy')"
   ]
  },
  {
   "cell_type": "code",
   "execution_count": null,
   "metadata": {},
   "outputs": [],
   "source": [
    "centers = np.load(path + 'thetaCenter_A.npy')\n",
    "radius = np.load(path + 'thetaRadius_A.npy')\n",
    "fw = np.load(path + 'thetaFW_A.npy')\n",
    "rv = np.load(path + 'thetaRV_A.npy')\n",
    "af = np.load(path + 'thetaAngFW_A.npy')\n",
    "ar = np.load(path + 'thetaAngRV_A.npy')\n",
    "sf = np.load(path + 'thetaSpeedFW_A.npy')\n",
    "sr = np.load(path + 'thetaSpeedRV_A.npy')\n",
    "badR = np.load(path + 'badRange_A.npy')\n",
    "mf = np.load(path + 'thetaMMFW_A.npy')\n",
    "mr = np.load(path + 'thetaMMRV_A.npy')\n",
    "bad = np.load(path + 'bad_A.npy')\n",
    "mf2 = np.load(path + 'thetaMMFW2_A.npy')\n",
    "mr2 = np.load(path + 'thetaMMRV2_A.npy')\n",
    "bad2 = np.load(path + 'bad2_A.npy')"
   ]
  },
  {
   "cell_type": "code",
   "execution_count": null,
   "metadata": {
    "scrolled": true
   },
   "outputs": [],
   "source": [
    "centers, radius"
   ]
  },
  {
   "cell_type": "code",
   "execution_count": null,
   "metadata": {},
   "outputs": [],
   "source": [
    "plt.figure(1)\n",
    "plt.clf()\n",
    "\n",
    "plt.subplot(211)\n",
    "ax = plt.gca()\n",
    "ax.axis('equal')\n",
    "\n",
    "ax.plot(centers[group1].real, centers[group1].imag, 'ro')\n",
    "for idx in group1:\n",
    "    c = plt.Circle((centers[idx].real, centers[idx].imag), radius[idx], color='g', fill=False)\n",
    "    ax.add_artist(c)\n",
    "ax.set_title(f'1st camera')\n",
    "\n",
    "plt.subplot(212)\n",
    "ax = plt.gca()\n",
    "ax.axis('equal')\n",
    "\n",
    "ax.plot(centers[group2].real, centers[group2].imag, 'ro')\n",
    "for idx in group2:\n",
    "    c = plt.Circle((centers[idx].real, centers[idx].imag), radius[idx], color='g', fill=False)\n",
    "    ax.add_artist(c)\n",
    "ax.set_title(f'2nd camera')\n",
    "\n",
    "plt.show()"
   ]
  },
  {
   "cell_type": "code",
   "execution_count": null,
   "metadata": {},
   "outputs": [],
   "source": [
    "plt.figure(2)\n",
    "plt.clf()\n",
    "\n",
    "plt.subplot(211)\n",
    "ax = plt.gca()\n",
    "ax.axis('equal')\n",
    "ax.set_title(f'1st camera')\n",
    "\n",
    "for n in range(1):\n",
    "    for k in group1:\n",
    "        if k % 3 == 0:\n",
    "            c = 'r'\n",
    "            d = 'c'\n",
    "        elif k % 3 == 1:\n",
    "            c = 'g'\n",
    "            d = 'm'\n",
    "        else:\n",
    "            c = 'b'\n",
    "            d = 'y'\n",
    "        ax.plot(fw[k][n,0].real, fw[k][n,0].imag, c + 'o')\n",
    "        ax.plot(rv[k][n,0].real, rv[k][n,0].imag, d + 's')\n",
    "        ax.plot(fw[k][n,1:].real, fw[k][n,1:].imag, c + '.')\n",
    "        ax.plot(rv[k][n,1:].real, rv[k][n,1:].imag, d + '.')\n",
    "\n",
    "plt.subplot(212)\n",
    "ax = plt.gca()\n",
    "ax.axis('equal')\n",
    "ax.set_title(f'2nd camera')\n",
    "\n",
    "for n in range(1):\n",
    "    for k in group2:\n",
    "        if k % 3 == 0:\n",
    "            c = 'r'\n",
    "            d = 'c'\n",
    "        elif k % 3 == 1:\n",
    "            c = 'g'\n",
    "            d = 'm'\n",
    "        else:\n",
    "            c = 'b'\n",
    "            d = 'y'\n",
    "        ax.plot(fw[k][n,0].real, fw[k][n,0].imag, c + 'o')\n",
    "        ax.plot(rv[k][n,0].real, rv[k][n,0].imag, d + 's')\n",
    "        ax.plot(fw[k][n,1:].real, fw[k][n,1:].imag, c + '.')\n",
    "        ax.plot(rv[k][n,1:].real, rv[k][n,1:].imag, d + '.')\n",
    "\n",
    "plt.show()"
   ]
  },
  {
   "cell_type": "code",
   "execution_count": null,
   "metadata": {},
   "outputs": [],
   "source": [
    "c = 30\n",
    "\n",
    "plt.figure(3)\n",
    "plt.clf()\n",
    "ax = plt.gca()\n",
    "ax.set_title(f'#{c}')\n",
    "for n in range(af.shape[1]):\n",
    "    ax.plot(af[c, n], '.')\n",
    "    ax.plot(ar[c, n], '.')"
   ]
  },
  {
   "cell_type": "code",
   "execution_count": null,
   "metadata": {},
   "outputs": [],
   "source": [
    "c = 30\n",
    "\n",
    "#plt.figure(4)\n",
    "#plt.clf()\n",
    "ax = plt.gca()\n",
    "ax.set_title(f'#{c}')\n",
    "for n in range(af.shape[1]):\n",
    "    ax.plot(af2[c, n], '.')\n",
    "    ax.plot(ar2[c, n], '.')"
   ]
  },
  {
   "cell_type": "code",
   "execution_count": null,
   "metadata": {},
   "outputs": [],
   "source": [
    "plt.figure(4)\n",
    "plt.clf()\n",
    "ax = plt.gca()\n",
    "\n",
    "ax.plot(sf, '.')\n",
    "ax.plot(sr, 'x')\n",
    "ax.plot(sf2, '.')\n",
    "ax.plot(sr2, 'x')"
   ]
  },
  {
   "cell_type": "code",
   "execution_count": null,
   "metadata": {},
   "outputs": [],
   "source": [
    "bad, badR"
   ]
  },
  {
   "cell_type": "code",
   "execution_count": null,
   "metadata": {},
   "outputs": [],
   "source": [
    "c = 30\n",
    "\n",
    "plt.figure(5)\n",
    "plt.clf()\n",
    "\n",
    "#plt.subplot(211)\n",
    "ax = plt.gca()\n",
    "ax.set_title(f'#{c} FW')\n",
    "ax.plot(mf[c], 'r')\n",
    "\n",
    "\n",
    "#plt.subplot(212)\n",
    "ax = plt.gca()\n",
    "ax.set_title(f'#{c} RV')\n",
    "ax.plot(mr[c], 'b')"
   ]
  },
  {
   "cell_type": "code",
   "execution_count": null,
   "metadata": {},
   "outputs": [],
   "source": [
    "c = 30\n",
    "\n",
    "plt.figure(5)\n",
    "plt.clf()\n",
    "\n",
    "#plt.subplot(211)\n",
    "ax = plt.gca()\n",
    "ax.set_title(f'#{c} FW')\n",
    "ax.plot(mf2[c], 'r')\n",
    "\n",
    "\n",
    "#plt.subplot(212)\n",
    "ax = plt.gca()\n",
    "ax.set_title(f'#{c} RV')\n",
    "ax.plot(mr2[c], 'b')"
   ]
  },
  {
   "cell_type": "code",
   "execution_count": null,
   "metadata": {},
   "outputs": [],
   "source": []
  },
  {
   "cell_type": "code",
   "execution_count": null,
   "metadata": {},
   "outputs": [],
   "source": []
  },
  {
   "cell_type": "code",
   "execution_count": null,
   "metadata": {},
   "outputs": [],
   "source": [
    "from ics.cobraCharmer import pfiDesign\n",
    "import pathlib"
   ]
  },
  {
   "cell_type": "code",
   "execution_count": null,
   "metadata": {},
   "outputs": [],
   "source": [
    "xml = pathlib.Path('/home/pfs/Documents/cwen/ics_cobraCharmer/xml/SC15_11.xml')\n",
    "model = pfiDesign.PFIDesign(xml)"
   ]
  },
  {
   "cell_type": "code",
   "execution_count": null,
   "metadata": {},
   "outputs": [],
   "source": [
    "model.motorOntimeSlowFwd1, model.motorOntimeSlowRev1"
   ]
  },
  {
   "cell_type": "code",
   "execution_count": null,
   "metadata": {},
   "outputs": [],
   "source": [
    "(model.tht1-model.tht0) % (np.pi*2), np.rad2deg((model.tht1-model.tht0) % (np.pi*2)), np.rad2deg(6.2)"
   ]
  },
  {
   "cell_type": "code",
   "execution_count": null,
   "metadata": {},
   "outputs": [],
   "source": [
    "tf = model.motorOntimeSlowFwd1.copy()\n",
    "tr = model.motorOntimeSlowRev1.copy()"
   ]
  },
  {
   "cell_type": "code",
   "execution_count": null,
   "metadata": {},
   "outputs": [],
   "source": [
    "np.where(tf>0.07), np.where(tr>0.07)"
   ]
  },
  {
   "cell_type": "code",
   "execution_count": null,
   "metadata": {},
   "outputs": [],
   "source": [
    "tf[17] = 0.06\n",
    "tr[17] = 0.06\n",
    "tr[3] = 0.04\n",
    "tr[4] = 0.04\n",
    "tr[7] = 0.04\n",
    "tf[14] = 0.03\n",
    "tf[30] = 0.04\n",
    "tr[39] = 0.055\n",
    "tr[48] = 0.04\n",
    "tf[49] = 0.055\n",
    "tr[49] = 0.055\n",
    "tf[56] = 0.055\n",
    "tr[56] = 0.055"
   ]
  },
  {
   "cell_type": "code",
   "execution_count": null,
   "metadata": {},
   "outputs": [],
   "source": [
    "tf[34] = 0.06\n",
    "tf[46] = 0.06\n",
    "tr[46] = 0.055"
   ]
  },
  {
   "cell_type": "code",
   "execution_count": null,
   "metadata": {},
   "outputs": [],
   "source": [
    "tr[6] = 0.033\n",
    "tf[41] = 0.05\n",
    "tr[41] = 0.045\n",
    "tr[21] = 0.03\n",
    "tr[26] = 0.042"
   ]
  },
  {
   "cell_type": "code",
   "execution_count": null,
   "metadata": {},
   "outputs": [],
   "source": [
    "tr[10] = 0.03\n",
    "tf[20] = 0.055\n",
    "tr[20] = 0.055\n",
    "tf[21] = 0.045\n",
    "tr[21] = 0.04"
   ]
  },
  {
   "cell_type": "code",
   "execution_count": null,
   "metadata": {},
   "outputs": [],
   "source": [
    "tf[30] = 0.03"
   ]
  },
  {
   "cell_type": "code",
   "execution_count": null,
   "metadata": {},
   "outputs": [],
   "source": [
    "tf[5] = 0.045\n",
    "tr[5] = 0.045"
   ]
  },
  {
   "cell_type": "code",
   "execution_count": null,
   "metadata": {},
   "outputs": [],
   "source": [
    "tf[5] = 0.04\n",
    "tr[5] = 0.04\n",
    "tf[30] = 0.035"
   ]
  },
  {
   "cell_type": "code",
   "execution_count": null,
   "metadata": {},
   "outputs": [],
   "source": [
    "tr[13] = 0.045"
   ]
  },
  {
   "cell_type": "code",
   "execution_count": null,
   "metadata": {},
   "outputs": [],
   "source": [
    "model.motorOntimeSlowFwd1[17], model.motorOntimeSlowRev1[17]"
   ]
  },
  {
   "cell_type": "code",
   "execution_count": null,
   "metadata": {},
   "outputs": [],
   "source": [
    "model.updateOntimes(thetaFwd=tf, thetaRev=tr, fast=False)"
   ]
  },
  {
   "cell_type": "code",
   "execution_count": null,
   "metadata": {},
   "outputs": [],
   "source": [
    "model.createCalibrationFile('/home/pfs/Documents/cwen/ics_cobraCharmer/xml/SC15_10.xml')"
   ]
  },
  {
   "cell_type": "code",
   "execution_count": null,
   "metadata": {},
   "outputs": [],
   "source": [
    "tf[13], tr[13]"
   ]
  },
  {
   "cell_type": "code",
   "execution_count": null,
   "metadata": {},
   "outputs": [],
   "source": [
    "tf[5] = 0.04\n",
    "tr[5] = 0.04\n",
    "tf[30] = 0.035"
   ]
  },
  {
   "cell_type": "code",
   "execution_count": null,
   "metadata": {},
   "outputs": [],
   "source": [
    "fw[1], rv[1]"
   ]
  },
  {
   "cell_type": "code",
   "execution_count": null,
   "metadata": {},
   "outputs": [],
   "source": [
    "tr[13] = 0.045"
   ]
  },
  {
   "cell_type": "code",
   "execution_count": null,
   "metadata": {},
   "outputs": [],
   "source": [
    "ar[1,0]"
   ]
  },
  {
   "cell_type": "code",
   "execution_count": null,
   "metadata": {},
   "outputs": [],
   "source": [
    "np.argmin(abs(ar[1,0]%(np.pi*2) - np.pi))"
   ]
  },
  {
   "cell_type": "code",
   "execution_count": null,
   "metadata": {
    "scrolled": true
   },
   "outputs": [],
   "source": [
    "fw[30], rv[30]"
   ]
  },
  {
   "cell_type": "code",
   "execution_count": null,
   "metadata": {},
   "outputs": [],
   "source": [
    "fw[43], rv[43], centers[43]"
   ]
  },
  {
   "cell_type": "code",
   "execution_count": null,
   "metadata": {},
   "outputs": [],
   "source": [
    "data = np.concatenate((fw[33].flatten(), rv[33].flatten()))"
   ]
  },
  {
   "cell_type": "code",
   "execution_count": null,
   "metadata": {},
   "outputs": [],
   "source": [
    "np.max(np.real(data)), np.min(np.real(data)), np.max(np.imag(data)), np.min(np.imag(data))"
   ]
  },
  {
   "cell_type": "code",
   "execution_count": null,
   "metadata": {},
   "outputs": [],
   "source": [
    "centers[33]"
   ]
  },
  {
   "cell_type": "code",
   "execution_count": null,
   "metadata": {},
   "outputs": [],
   "source": [
    "data = rv[33, 1].flatten()\n",
    "plt.plot(np.real(data), np.imag(data), '.')"
   ]
  },
  {
   "cell_type": "code",
   "execution_count": null,
   "metadata": {},
   "outputs": [],
   "source": [
    "model.centers[56]"
   ]
  },
  {
   "cell_type": "code",
   "execution_count": null,
   "metadata": {},
   "outputs": [],
   "source": []
  },
  {
   "cell_type": "code",
   "execution_count": null,
   "metadata": {},
   "outputs": [],
   "source": [
    "path = '/data/MCS/20191114_015/data/'\n",
    "data = np.load(path + 'thetaData.npy')"
   ]
  },
  {
   "cell_type": "code",
   "execution_count": null,
   "metadata": {
    "scrolled": true
   },
   "outputs": [],
   "source": [
    "c = 1\n",
    "\n",
    "plt.figure(4)\n",
    "plt.clf()\n",
    "for n in range(data.shape[1]):\n",
    "    plt.plot(np.rad2deg(data[c,n,:,0]))"
   ]
  },
  {
   "cell_type": "code",
   "execution_count": null,
   "metadata": {},
   "outputs": [],
   "source": [
    "np.rad2deg(data[56,33,:,0]), data[56,33,:,3]"
   ]
  },
  {
   "cell_type": "code",
   "execution_count": null,
   "metadata": {},
   "outputs": [],
   "source": [
    "data.shape"
   ]
  },
  {
   "cell_type": "code",
   "execution_count": null,
   "metadata": {},
   "outputs": [],
   "source": [
    "steps = np.arange(1,41)*250\n",
    "spdf_avg = np.rad2deg(np.average(af, axis=1))[:,1:] / steps\n",
    "spdr_avg = np.rad2deg(np.average(ar[:,:,0][...,np.newaxis]-ar, axis=1))[:,1:] / steps\n",
    "spdf_std = np.rad2deg(np.std(af, axis=1))[:,1:] / steps\n",
    "spdr_std = np.rad2deg(np.std(ar[:,:,0][...,np.newaxis]-ar, axis=1))[:,1:] / steps"
   ]
  },
  {
   "cell_type": "code",
   "execution_count": null,
   "metadata": {
    "scrolled": true
   },
   "outputs": [],
   "source": [
    "np.max(spdf_avg, axis=1), np.max(spdr_avg, axis=1), np.max(spdf_std, axis=1), np.max(spdr_std, axis=1)"
   ]
  },
  {
   "cell_type": "code",
   "execution_count": null,
   "metadata": {},
   "outputs": [],
   "source": [
    "(sf-sf2)*1000, (sr-sr2)*1000"
   ]
  },
  {
   "cell_type": "code",
   "execution_count": null,
   "metadata": {},
   "outputs": [],
   "source": []
  }
 ],
 "metadata": {
  "kernelspec": {
   "display_name": "Python 3",
   "language": "python",
   "name": "python3"
  },
  "language_info": {
   "codemirror_mode": {
    "name": "ipython",
    "version": 3
   },
   "file_extension": ".py",
   "mimetype": "text/x-python",
   "name": "python",
   "nbconvert_exporter": "python",
   "pygments_lexer": "ipython3",
   "version": "3.7.3"
  }
 },
 "nbformat": 4,
 "nbformat_minor": 2
}
