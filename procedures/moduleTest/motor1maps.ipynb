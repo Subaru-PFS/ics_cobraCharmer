{
 "cells": [
  {
   "cell_type": "code",
   "execution_count": null,
   "metadata": {},
   "outputs": [],
   "source": [
    "import numpy as np\n",
    "import matplotlib.pyplot as plt\n",
    "from astropy.io import fits"
   ]
  },
  {
   "cell_type": "code",
   "execution_count": null,
   "metadata": {},
   "outputs": [],
   "source": [
    "#path = '/Volumes/GoogleDrive/My Drive/COBRA/ASRD/190613/theta/0020/'\n",
    "path = '/Volumes/GoogleDrive/My Drive/CobraData/20190618/20190618/0020/'"
   ]
  },
  {
   "cell_type": "code",
   "execution_count": null,
   "metadata": {},
   "outputs": [],
   "source": [
    "# define the broken/good cobras\n",
    "#brokens = [1, 39, 43, 54]\n",
    "brokens = []\n",
    "visibles= [e for e in range(1,58) if e not in brokens]\n",
    "badIdx = np.array(brokens) - 1\n",
    "goodIdx = np.array(visibles) - 1\n",
    "\n",
    "# two groups for two cameras\n",
    "cam_split = 25\n",
    "group1 = goodIdx[goodIdx <= cam_split]\n",
    "group2 = goodIdx[goodIdx > cam_split]"
   ]
  },
  {
   "cell_type": "code",
   "execution_count": null,
   "metadata": {},
   "outputs": [],
   "source": [
    "centers = np.load(path + 'thetaCenter.npy')\n",
    "radius = np.load(path + 'thetaRadius.npy')\n",
    "fw = np.load(path + 'thetaFW.npy')\n",
    "rv = np.load(path + 'thetaRV.npy')\n",
    "af = np.load(path + 'thetaAngFW.npy')\n",
    "ar = np.load(path + 'thetaAngRV.npy')\n",
    "sf = np.load(path + 'thetaSpeedFW.npy')\n",
    "sr = np.load(path + 'thetaSpeedRV.npy')\n",
    "badR = np.load(path + 'badRange.npy')\n",
    "mf = np.load(path + 'thetaMMFW.npy')\n",
    "mr = np.load(path + 'thetaMMRV.npy')\n",
    "bad = np.load(path + 'bad.npy')\n",
    "mf2 = np.load(path + 'thetaMMFW2.npy')\n",
    "mr2 = np.load(path + 'thetaMMRV2.npy')\n",
    "bad2 = np.load(path + 'bad2.npy')"
   ]
  },
  {
   "cell_type": "code",
   "execution_count": null,
   "metadata": {},
   "outputs": [],
   "source": [
    "centers = np.load(path + 'thetaCenter_A.npy')\n",
    "radius = np.load(path + 'thetaRadius_A.npy')\n",
    "fw = np.load(path + 'thetaFW_A.npy')\n",
    "rv = np.load(path + 'thetaRV_A.npy')\n",
    "af = np.load(path + 'thetaAngFW_A.npy')\n",
    "ar = np.load(path + 'thetaAngRV_A.npy')\n",
    "sf = np.load(path + 'thetaSpeedFW_A.npy')\n",
    "sr = np.load(path + 'thetaSpeedRV_A.npy')\n",
    "badR = np.load(path + 'badRange_A.npy')\n",
    "mf = np.load(path + 'thetaMMFW_A.npy')\n",
    "mr = np.load(path + 'thetaMMRV_A.npy')\n",
    "bad = np.load(path + 'bad_A.npy')\n",
    "mf2 = np.load(path + 'thetaMMFW2_A.npy')\n",
    "mr2 = np.load(path + 'thetaMMRV2_A.npy')\n",
    "bad2 = np.load(path + 'bad2_A.npy')"
   ]
  },
  {
   "cell_type": "code",
   "execution_count": null,
   "metadata": {
    "scrolled": true
   },
   "outputs": [],
   "source": [
    "centers, radius"
   ]
  },
  {
   "cell_type": "code",
   "execution_count": null,
   "metadata": {},
   "outputs": [],
   "source": [
    "plt.figure(1)\n",
    "plt.clf()\n",
    "\n",
    "plt.subplot(211)\n",
    "ax = plt.gca()\n",
    "ax.axis('equal')\n",
    "\n",
    "ax.plot(centers[group1].real, centers[group1].imag, 'ro')\n",
    "for idx in group1:\n",
    "    c = plt.Circle((centers[idx].real, centers[idx].imag), radius[idx], color='g', fill=False)\n",
    "    ax.add_artist(c)\n",
    "ax.set_title(f'1st camera')\n",
    "\n",
    "plt.subplot(212)\n",
    "ax = plt.gca()\n",
    "ax.axis('equal')\n",
    "\n",
    "ax.plot(centers[group2].real, centers[group2].imag, 'ro')\n",
    "for idx in group2:\n",
    "    c = plt.Circle((centers[idx].real, centers[idx].imag), radius[idx], color='g', fill=False)\n",
    "    ax.add_artist(c)\n",
    "ax.set_title(f'2nd camera')\n",
    "\n",
    "plt.show()"
   ]
  },
  {
   "cell_type": "code",
   "execution_count": null,
   "metadata": {},
   "outputs": [],
   "source": [
    "plt.figure(2)\n",
    "plt.clf()\n",
    "\n",
    "plt.subplot(211)\n",
    "ax = plt.gca()\n",
    "ax.axis('equal')\n",
    "ax.set_title(f'1st camera')\n",
    "\n",
    "for n in range(3):\n",
    "    for k in group1:\n",
    "        if k % 3 == 0:\n",
    "            c = 'r'\n",
    "            d = 'c'\n",
    "        elif k % 3 == 1:\n",
    "            c = 'g'\n",
    "            d = 'm'\n",
    "        else:\n",
    "            c = 'b'\n",
    "            d = 'y'\n",
    "        ax.plot(fw[k][n,0].real, fw[k][n,0].imag, c + 'o')\n",
    "        ax.plot(rv[k][n,0].real, rv[k][n,0].imag, d + 's')\n",
    "        ax.plot(fw[k][n,1:].real, fw[k][n,1:].imag, c + '.')\n",
    "        ax.plot(rv[k][n,1:].real, rv[k][n,1:].imag, d + '.')\n",
    "\n",
    "plt.subplot(212)\n",
    "ax = plt.gca()\n",
    "ax.axis('equal')\n",
    "ax.set_title(f'2nd camera')\n",
    "\n",
    "for n in range(3):\n",
    "    for k in group2:\n",
    "        if k % 3 == 0:\n",
    "            c = 'r'\n",
    "            d = 'c'\n",
    "        elif k % 3 == 1:\n",
    "            c = 'g'\n",
    "            d = 'm'\n",
    "        else:\n",
    "            c = 'b'\n",
    "            d = 'y'\n",
    "        ax.plot(fw[k][n,0].real, fw[k][n,0].imag, c + 'o')\n",
    "        ax.plot(rv[k][n,0].real, rv[k][n,0].imag, d + 's')\n",
    "        ax.plot(fw[k][n,1:].real, fw[k][n,1:].imag, c + '.')\n",
    "        ax.plot(rv[k][n,1:].real, rv[k][n,1:].imag, d + '.')\n",
    "\n",
    "plt.show()"
   ]
  },
  {
   "cell_type": "code",
   "execution_count": null,
   "metadata": {},
   "outputs": [],
   "source": [
    "c = 0\n",
    "\n",
    "plt.figure(3)\n",
    "plt.clf()\n",
    "ax = plt.gca()\n",
    "ax.set_title(f'#{c}')\n",
    "for n in range(af.shape[1]):\n",
    "    ax.plot(af[c, n], '.')\n",
    "    ax.plot(ar[c, n], '.')"
   ]
  },
  {
   "cell_type": "code",
   "execution_count": null,
   "metadata": {},
   "outputs": [],
   "source": [
    "plt.figure(4)\n",
    "plt.clf()\n",
    "ax = plt.gca()\n",
    "\n",
    "ax.plot(sf, '.')\n",
    "ax.plot(sr, 'x')"
   ]
  },
  {
   "cell_type": "code",
   "execution_count": null,
   "metadata": {},
   "outputs": [],
   "source": [
    "bad, bad2, badR"
   ]
  },
  {
   "cell_type": "code",
   "execution_count": null,
   "metadata": {},
   "outputs": [],
   "source": [
    "c = 18\n",
    "\n",
    "plt.figure(5)\n",
    "plt.clf()\n",
    "\n",
    "plt.subplot(211)\n",
    "ax = plt.gca()\n",
    "ax.set_title(f'#{c} FW')\n",
    "ax.plot(mf[c], 'r')\n",
    "ax.plot(mf2[c], 'y')\n",
    "\n",
    "plt.subplot(212)\n",
    "ax = plt.gca()\n",
    "ax.set_title(f'#{c} RV')\n",
    "ax.plot(mr[c], 'b')\n",
    "ax.plot(mr2[c], 'g')"
   ]
  },
  {
   "cell_type": "code",
   "execution_count": null,
   "metadata": {},
   "outputs": [],
   "source": []
  },
  {
   "cell_type": "code",
   "execution_count": null,
   "metadata": {},
   "outputs": [],
   "source": []
  },
  {
   "cell_type": "code",
   "execution_count": null,
   "metadata": {},
   "outputs": [],
   "source": []
  }
 ],
 "metadata": {
  "kernelspec": {
   "display_name": "Python 3",
   "language": "python",
   "name": "python3"
  },
  "language_info": {
   "codemirror_mode": {
    "name": "ipython",
    "version": 3
   },
   "file_extension": ".py",
   "mimetype": "text/x-python",
   "name": "python",
   "nbconvert_exporter": "python",
   "pygments_lexer": "ipython3",
   "version": "3.6.5"
  }
 },
 "nbformat": 4,
 "nbformat_minor": 2
}
