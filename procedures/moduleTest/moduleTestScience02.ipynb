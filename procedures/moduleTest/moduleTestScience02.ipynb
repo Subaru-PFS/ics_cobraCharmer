{
 "cells": [
  {
   "cell_type": "code",
   "execution_count": 2,
   "metadata": {},
   "outputs": [],
   "source": [
    "from moduleTest import ModuleTest\n",
    "import numpy as np\n",
    "import pandas as pd\n",
    "from ics.cobraCharmer import pfi as pfiControl\n",
    "from ics.cobraCharmer import pfiDesign\n",
    "import moduleAnalyze\n",
    "import visDianosticPlot\n",
    "import os\n",
    "from importlib import reload \n",
    "import matplotlib.pyplot as plt\n",
    "import pathlib\n",
    "\n"
   ]
  },
  {
   "cell_type": "code",
   "execution_count": null,
   "metadata": {},
   "outputs": [],
   "source": [
    "mt = ModuleTest('128.149.77.24', '/data/SC02/PFS-PFI-CIT900200-06_Science_02_FinalXML.xml', \n",
    "                cam1Id=1, cam2Id=2,camSplit=28)\n",
    "pfi = mt.pfi"
   ]
  },
  {
   "cell_type": "code",
   "execution_count": null,
   "metadata": {
    "scrolled": true
   },
   "outputs": [],
   "source": [
    "mt.convertXML('/data/SC02/science02_converted.xml')"
   ]
  },
  {
   "cell_type": "code",
   "execution_count": null,
   "metadata": {},
   "outputs": [],
   "source": [
    "\n",
    "mt = ModuleTest('128.149.77.24', '/data/SC02/science02_converted.xml', camSplit=28)\n",
    "pfi = mt.pfi\n",
    "\n",
    "phiOntime = np.zeros(57)+0.05"
   ]
  },
  {
   "cell_type": "code",
   "execution_count": null,
   "metadata": {},
   "outputs": [],
   "source": [
    "\n",
    "mt.makePhiMotorMap('science02_20191023_phi.xml', '/data/SC02/20191023/phi', \n",
    "                   phiOnTime=phiOntime, repeat = 1, fast=False)"
   ]
  },
  {
   "cell_type": "code",
   "execution_count": null,
   "metadata": {},
   "outputs": [],
   "source": [
    "broken=[]\n",
    "path='/data/SC02/20191023/phi/'\n",
    "vis = visDianosticPlot.VisDianosticPlot(path, brokens=broken, camSplit=28)\n",
    "vis.visPlotGeometry(arm='phi')"
   ]
  },
  {
   "cell_type": "code",
   "execution_count": null,
   "metadata": {
    "scrolled": true
   },
   "outputs": [],
   "source": [
    "\n",
    "fpgaHost = '128.149.77.24'\n",
    "brokens=[]\n",
    "arm='phi'\n",
    "dataPath= '/data/SC02/20191023/'\n",
    "xml ='/data/SC02/20191023/phi/science02_20191023_phi.xml'\n",
    "\n",
    "ontimeOptimize.exploreModuleOntime(fpgaHost=fpgaHost,dataPath = dataPath,brokens=brokens,\n",
    "            arm=arm,camSplit=28, iteration=4, XML=xml)"
   ]
  },
  {
   "cell_type": "code",
   "execution_count": null,
   "metadata": {},
   "outputs": [],
   "source": [
    "brokens=[]\n",
    "\n",
    "data = ['/data/SC02/20191023/run0/',\n",
    "        '/data/SC02/20191023/run1/',\n",
    "        '/data/SC02/20191023/run2/',\n",
    "        '/data/SC02/20191023/run3/']\n",
    "otm=ontimeOptimize.OntimeOptimize(brokens=brokens, phiList=data)"
   ]
  },
  {
   "cell_type": "code",
   "execution_count": null,
   "metadata": {},
   "outputs": [],
   "source": [
    "otm.pickForSlowSpeed()\n",
    "otm.visMaps('Fwd',filename='/data/SC02/20191023/phiOnTimeFwd_20191119.html',\n",
    "            pngfile='/data/SC02/20191023/phiOnTimeFwd_20191119.png',predict=False)\n",
    "otm.visMaps('Rev',filename='/data/SC02/20191023/phiOnTimeRev_20191119.html',\n",
    "            pngfile='/data/SC02/20191023/phiOnTimeRev_20191119.png',predict=False)"
   ]
  },
  {
   "cell_type": "code",
   "execution_count": null,
   "metadata": {
    "scrolled": true
   },
   "outputs": [],
   "source": [
    "otm.dataframe.loc[otm.dataframe['fiberNo'] == 14]"
   ]
  },
  {
   "cell_type": "code",
   "execution_count": null,
   "metadata": {},
   "outputs": [],
   "source": [
    "otm.slope_rev"
   ]
  },
  {
   "cell_type": "code",
   "execution_count": null,
   "metadata": {},
   "outputs": [],
   "source": [
    "initXML = '/data/SC02/20191023/run3/phi_run3.xml'\n",
    "newXML = '/data/SC02/20191023/science02_phi_20191023.xml'\n",
    "otm.updateXML(initXML,newXML, solve= False)"
   ]
  },
  {
   "cell_type": "markdown",
   "metadata": {},
   "source": [
    "# Plot motor maps"
   ]
  },
  {
   "cell_type": "code",
   "execution_count": null,
   "metadata": {},
   "outputs": [],
   "source": [
    "reload(visDianosticPlot)\n",
    "brokens=[]\n",
    "path='/data/SC02/20191023/phi50Step-0/'\n",
    "figpath = '/data/SC02/20191106/testplots/'\n",
    "vis = visDianosticPlot.VisDianosticPlot(path, brokens=brokens, camSplit=28)\n",
    "vis.visCobraMotorMap(stepsize=50, figPath=figpath, arm='phi',pdffile='/data/SC02/20191106/test.pdf')"
   ]
  },
  {
   "cell_type": "markdown",
   "metadata": {},
   "source": [
    "# Run motor maps with 100 time cycle."
   ]
  },
  {
   "cell_type": "code",
   "execution_count": null,
   "metadata": {
    "scrolled": true
   },
   "outputs": [],
   "source": [
    "datapath = '/data/SC02/20191105/'\n",
    "xml = '/data/SC02/20191023/science02_phi_20191023.xml'\n",
    "arm = 'phi'\n",
    "brokens = []\n",
    "\n",
    "for runs in range(5):\n",
    "    path= datapath+f'{arm}50Step-{runs}/'\n",
    "    figpath = datapath+f'{arm}50StepRun{runs}MotorMap/'\n",
    "    if not (os.path.exists(path)):\n",
    "            os.mkdir(path)\n",
    "    if not (os.path.exists(figpath)):\n",
    "            os.mkdir(figpath)  \n",
    "    mt = ModuleTest('128.149.77.24', xml,brokens=brokens,camSplit=28)\n",
    "    vis = visDianosticPlot.VisDianosticPlot(path, brokens=brokens, camSplit=28)\n",
    "    pfi = mt.pfi\n",
    "    \n",
    "    if arm is 'phi':\n",
    "        pfi.moveAllSteps(mt.allCobras, 0, -5000)\n",
    "        pfi.moveAllSteps(mt.allCobras, 0, -1000)\n",
    "                \n",
    "    output = f'science02_{arm}_50Step-run{runs}.xml'\n",
    "    \n",
    "    print(path)\n",
    "    \n",
    "    mt.makePhiMotorMap(output, path, \n",
    "                repeat = 3, steps = 50, fast=False,totalSteps = 6000)\n",
    "    vis.visCobraMotorMap(stepsize=50, figpath=figpath, arm=f'{arm}')\n",
    "\n",
    "    for i in range(100):\n",
    "        pfi.moveAllSteps(mt.allCobras, 0, 5000)\n",
    "        pfi.moveAllSteps(mt.allCobras, 0, 1000)\n",
    "\n",
    "        pfi.moveAllSteps(mt.allCobras, 0, -5000)\n",
    "        pfi.moveAllSteps(mt.allCobras, 0, -1000)\n",
    "            \n",
    "    del(mt)\n",
    "    del(vis)    "
   ]
  },
  {
   "cell_type": "code",
   "execution_count": null,
   "metadata": {},
   "outputs": [],
   "source": [
    "from importlib import reload\n",
    "import moduleTest\n",
    "reload(moduleTest)"
   ]
  },
  {
   "cell_type": "code",
   "execution_count": null,
   "metadata": {},
   "outputs": [],
   "source": [
    "module = 'science01'\n",
    "xml = '/data/SC02/20191023/science02_phi_50Step-run4.xml'\n",
    "brokens=[]\n",
    "datapath= '/data/SC02/20191008/'\n",
    "moduleTest.runMotorMap(dataPath=datapath, arm='phi', brokens=brokens,xml=xml,module=module)"
   ]
  },
  {
   "cell_type": "code",
   "execution_count": null,
   "metadata": {
    "scrolled": true
   },
   "outputs": [],
   "source": [
    "broken=[]\n",
    "mt = ModuleTest('128.149.77.24', \n",
    "                '/data/SC02/20191105/phi50Step-4/science02_phi_50Step-run4.xml', \n",
    "                brokens=broken,camSplit=28)\n",
    "pfi = mt.pfi\n",
    "pfi.moveAllSteps(mt.allCobras, 0, -5000)\n",
    "pfi.moveAllSteps(mt.allCobras, 0, -1000)\n",
    "\n",
    "dataPath = '/data/SC02/20191110/phiConvergeTest/'                                                                              \n",
    "mt.phiConvergenceTest(dataPath, margin=15.0, runs=50, tries=8, fast=False)"
   ]
  },
  {
   "cell_type": "code",
   "execution_count": null,
   "metadata": {
    "scrolled": true
   },
   "outputs": [],
   "source": [
    "dataPath = '/data/SC02/20191110/phiConvergeTest/'\n",
    "vis = visDianosticPlot.VisDianosticPlot(dataPath, brokens=broken, camSplit=28)\n",
    "vis.visConverge(figPath='/data/SC02/20191110/phiConvergeTest/',\n",
    "                arm='phi',pdffile='/data/SC02/20191110/phiConvergeTest/phiConverge.pdf')"
   ]
  },
  {
   "cell_type": "code",
   "execution_count": null,
   "metadata": {},
   "outputs": [],
   "source": [
    "broken=[]\n",
    "dataPath = '/data/SC02/20191023/phiConvergeTest/'\n",
    "\n",
    "vis = visDianosticPlot.VisDianosticPlot(dataPath, brokens=broken, camSplit=28)\n",
    "\n",
    "xmllist = ['/data/SC02/20191023/phi50Step-0/science02_phi_50Step-run0.xml',\n",
    "           '/data/SC02/20191023/phi50Step-1/science02_phi_50Step-run1.xml',\n",
    "           '/data/SC02/20191023/phi50Step-2/science02_phi_50Step-run2.xml',\n",
    "           '/data/SC02/20191023/phi50Step-3/science02_phi_50Step-run3.xml',\n",
    "           '/data/SC02/20191023/phi50Step-4/science02_phi_50Step-run4.xml']\n",
    "vis.visMultiMotorMapfromXML(xmllist, figPath='/data/SC02/20191024/phiAllMaps/'b, \n",
    "                            arm='phi', pdffile='/data/SC02/20191024/phiAllMaps.pdf')"
   ]
  },
  {
   "cell_type": "code",
   "execution_count": null,
   "metadata": {},
   "outputs": [],
   "source": [
    "broken=[]\n",
    "dataPath = '/data/SC02/20191031/'\n",
    "\n",
    "vis = visDianosticPlot.VisDianosticPlot(dataPath, brokens=broken, camSplit=28)\n",
    "\n",
    "xmllist = ['/data/SC02/20191031/phi50Step-0/science02_phi_50Step-run0.xml',\n",
    "           '/data/SC02/20191031/phi50Step-1/science02_phi_50Step-run1.xml',\n",
    "           '/data/SC02/20191031/phi50Step-2/science02_phi_50Step-run2.xml',\n",
    "           '/data/SC02/20191031/phi50Step-3/science02_phi_50Step-run3.xml',\n",
    "           '/data/SC02/20191031/phi50Step-4/science02_phi_50Step-run4.xml']\n",
    "vis.visMultiMotorMapfromXML(xmllist, figPath='/data/SC02/20191031/phiAllMaps/', \n",
    "                            arm='phi', pdffile='/data/SC02/20191031/phiAllMaps1031.pdf')"
   ]
  },
  {
   "cell_type": "markdown",
   "metadata": {},
   "source": [
    "# Theta Testing"
   ]
  },
  {
   "cell_type": "code",
   "execution_count": null,
   "metadata": {},
   "outputs": [],
   "source": [
    "broken=[]\n",
    "mt = ModuleTest('128.149.77.24', \n",
    "                '/data/SC02/20191023/phi50Step-4/science02_phi_50Step-run4.xml', \n",
    "                brokens=broken,camSplit=28)\n",
    "pfi = mt.pfi"
   ]
  },
  {
   "cell_type": "code",
   "execution_count": null,
   "metadata": {},
   "outputs": [],
   "source": [
    "broken=[]\n",
    "path='/data/SC02/20191024/theta/'\n",
    "vis = visDianosticPlot.VisDianosticPlot(path, brokens=broken, camSplit=28)\n",
    "vis.visPlotGeometry(arm='theta')"
   ]
  },
  {
   "cell_type": "code",
   "execution_count": null,
   "metadata": {},
   "outputs": [],
   "source": [
    "thetaOntime = np.zeros(57)+0.08\n",
    "pfi.moveAllSteps(mt.allCobras, -10000, 0)\n",
    "pfi.moveAllSteps(mt.allCobras, -2000, 0)\n",
    "mt.makeThetaMotorMap('science01_20191024_theta.xml', '/data/SC02/20191024/theta/', \n",
    "                   thetaOnTime=thetaOntime, repeat = 1, fast=False, totalSteps = 12000)"
   ]
  },
  {
   "cell_type": "code",
   "execution_count": null,
   "metadata": {},
   "outputs": [],
   "source": [
    "\n",
    "fpgaHost = '128.149.77.24'\n",
    "brokens=[]\n",
    "arm='theta'\n",
    "dataPath= '/data/SC02/20191024/'\n",
    "xml ='/data/SC02/20191023/phi50Step-4/science02_phi_50Step-run4.xml'\n",
    "\n",
    "ontimeOptimize.exploreModuleOntime(fpgaHost=fpgaHost,dataPath = dataPath,brokens=brokens,\n",
    "            arm=arm,camSplit=28, iteration=5, XML=xml)"
   ]
  },
  {
   "cell_type": "code",
   "execution_count": null,
   "metadata": {},
   "outputs": [],
   "source": [
    "brokens=[]\n",
    "\n",
    "data = ['/data/SC02/20191024/run0/',\n",
    "        '/data/SC02/20191024/run1/',\n",
    "        '/data/SC02/20191024/run2/',\n",
    "        '/data/SC02/20191024/run3/',\n",
    "        '/data/SC02/20191024/run4/']\n",
    "otm=ontimeOptimize.OntimeOptimize(brokens=brokens, thetaList=data)"
   ]
  },
  {
   "cell_type": "code",
   "execution_count": null,
   "metadata": {},
   "outputs": [],
   "source": [
    "otm.pickForSlowSpeed()"
   ]
  },
  {
   "cell_type": "code",
   "execution_count": null,
   "metadata": {},
   "outputs": [],
   "source": [
    "otm.dataframe.loc[otm.dataframe['fiberNo'] == ]"
   ]
  },
  {
   "cell_type": "code",
   "execution_count": null,
   "metadata": {
    "scrolled": true
   },
   "outputs": [],
   "source": [
    "initXML = '/data/SC02/20191024/run4/theta_run4.xml'\n",
    "newXML = '/data/SC02/20191024/science02_theta_20191024.xml'\n",
    "otm.updateXML(initXML,newXML, solve= False)"
   ]
  },
  {
   "cell_type": "code",
   "execution_count": null,
   "metadata": {},
   "outputs": [],
   "source": [
    "datapath = '/data/SC02/20191106/'\n",
    "xml = '/data/SC02/20191024/science02_theta_20191024.xml'\n",
    "arm = 'theta'\n",
    "brokens = []\n",
    "\n",
    "for runs in range(5):\n",
    "    path= datapath+f'{arm}50Step-{runs}/'\n",
    "    figpath = datapath+f'{arm}50StepRun{runs}MotorMap/'\n",
    "    if not (os.path.exists(path)):\n",
    "            os.mkdir(path)\n",
    "    if not (os.path.exists(figpath)):\n",
    "            os.mkdir(figpath)  \n",
    "    mt = ModuleTest('128.149.77.24', xml,brokens=brokens,camSplit=28)\n",
    "    vis = visDianosticPlot.VisDianosticPlot(path, brokens=brokens, camSplit=28)\n",
    "    pfi = mt.pfi\n",
    "    \n",
    "    if arm is 'phi':\n",
    "        pfi.moveAllSteps(mt.allCobras, 0, -5000)\n",
    "        pfi.moveAllSteps(mt.allCobras, 0, -1000)\n",
    "    if arm is 'theta':\n",
    "        pfi.moveAllSteps(mt.allCobras, -10000, 0)\n",
    "        pfi.moveAllSteps(mt.allCobras, -2000, 0)\n",
    "                \n",
    "    output = f'science02_{arm}_50Step-run{runs}.xml'\n",
    "    \n",
    "    print(path)\n",
    "    \n",
    "    mt.makeThetaMotorMap(output, path, \n",
    "                repeat = 3, steps = 50, fast=False,totalSteps = 12000)\n",
    "    vis.visCobraMotorMap(stepsize=50, figpath=figpath, arm=f'{arm}')\n",
    "\n",
    "    for i in range(100):\n",
    "        pfi.moveAllSteps(mt.allCobras, 10000, 0)\n",
    "        pfi.moveAllSteps(mt.allCobras, 2000, 0)\n",
    "\n",
    "        pfi.moveAllSteps(mt.allCobras, -10000, 0)\n",
    "        pfi.moveAllSteps(mt.allCobras, -2000, 0)\n",
    "            \n",
    "    del(mt)\n",
    "    del(vis)    "
   ]
  },
  {
   "cell_type": "code",
   "execution_count": null,
   "metadata": {},
   "outputs": [],
   "source": [
    "import moduleTest\n",
    "module = 'science01'\n",
    "xml = '/data/SC01/20191014/science01_theta_20191014.xml'\n",
    "brokens=[]\n",
    "datapath= '/data/SC01/20191014/'\n",
    "moduleTest.runMotorMap(dataPath=datapath, arm='theta', brokens=brokens,xml=xml,module=module)"
   ]
  },
  {
   "cell_type": "code",
   "execution_count": null,
   "metadata": {},
   "outputs": [],
   "source": [
    "\n",
    "broken=[]\n",
    "mt = ModuleTest('128.149.77.24', \n",
    "                '/data/SC02/20191024/theta50Step-4/science02_theta_50Step-run4.xml', \n",
    "                brokens=broken,camSplit=28)\n",
    "pfi = mt.pfi\n",
    "pfi.moveAllSteps(mt.allCobras, -10000, 0)\n",
    "pfi.moveAllSteps(mt.allCobras, -2000, 0)"
   ]
  },
  {
   "cell_type": "code",
   "execution_count": null,
   "metadata": {
    "scrolled": true
   },
   "outputs": [],
   "source": [
    "dataPath = '/data/SC02/20191024/thetaConvergeTest/'\n",
    "mt.thetaConvergenceTest(dataPath, margin=15.0, runs=50, tries=8, fast=False)"
   ]
  },
  {
   "cell_type": "code",
   "execution_count": null,
   "metadata": {},
   "outputs": [],
   "source": [
    "broken=[]\n",
    "dataPath = '/data/SC02/20191024/thetaConvergeTest/'\n",
    "\n",
    "vis = visDianosticPlot.VisDianosticPlot(dataPath, brokens=broken, camSplit=28)\n",
    "vis.visConverge(figPath='/data/SC02/20191024/thetaConvergeTest/',arm='theta',pdffile= '/data/SC02/20191024/thetaConvergeTest/thetaConvergeTest.pdf')"
   ]
  },
  {
   "cell_type": "code",
   "execution_count": null,
   "metadata": {},
   "outputs": [],
   "source": [
    "broken=[]\n",
    "dataPath = '/data/SC02/20191024/thetaConvergeTest/'\n",
    "\n",
    "vis = visDianosticPlot.VisDianosticPlot(dataPath, brokens=broken, camSplit=28)\n",
    "\n",
    "xmllist = ['/data/SC02/20191024/theta50Step-0/science02_theta_50Step-run0.xml',\n",
    "           '/data/SC02/20191024/theta50Step-1/science02_theta_50Step-run1.xml',\n",
    "           '/data/SC02/20191024/theta50Step-2/science02_theta_50Step-run2.xml',\n",
    "           '/data/SC02/20191024/theta50Step-3/science02_theta_50Step-run3.xml',\n",
    "           '/data/SC02/20191024/theta50Step-4/science02_theta_50Step-run4.xml']\n",
    "vis.visMultiMotorMapfromXML(xmllist, figPath='/data/SC02/20191024/thetaAllMaps/', \n",
    "                            arm='theta', pdffile='/data/SC02/20191024/thetaAllMaps.pdf')"
   ]
  },
  {
   "cell_type": "markdown",
   "metadata": {},
   "source": [
    "# On-time plot "
   ]
  },
  {
   "cell_type": "code",
   "execution_count": null,
   "metadata": {},
   "outputs": [],
   "source": [
    "import ontimeOptimize\n",
    "\n",
    "brokens=[]\n",
    "\n",
    "data = ['/data/SC02/20191024/run0/',\n",
    "        '/data/SC02/20191024/run1/',\n",
    "        '/data/SC02/20191024/run2/',\n",
    "        '/data/SC02/20191024/run3/',\n",
    "        '/data/SC02/20191024/run4/']\n",
    "otm=ontimeOptimize.OntimeOptimize(brokens=brokens, thetaList=data)"
   ]
  },
  {
   "cell_type": "code",
   "execution_count": null,
   "metadata": {},
   "outputs": [],
   "source": [
    "otm.pickForSlowSpeed()"
   ]
  },
  {
   "cell_type": "code",
   "execution_count": null,
   "metadata": {},
   "outputs": [],
   "source": [
    "otm.visMaps('Fwd',filename='/data/SC02/20191024/thetaOnTimeFwd_20191119.html',\n",
    "            pngfile='/data/SC02/20191024/thetaOnTimeFwd_20191119.png',predict=False)\n",
    "otm.visMaps('Rev',filename='/data/SC02/20191024/thetaOnTimeRev_20191119.html',\n",
    "            pngfile='/data/SC02/20191024/thetaOnTimeRev_20191119.png',predict=False)"
   ]
  },
  {
   "cell_type": "code",
   "execution_count": null,
   "metadata": {},
   "outputs": [],
   "source": [
    "otm.dataframe.loc[otm.dataframe['fiberNo']==1]"
   ]
  },
  {
   "cell_type": "code",
   "execution_count": null,
   "metadata": {},
   "outputs": [],
   "source": [
    "brokens=[]\n",
    "\n",
    "data = ['/data/SC02/20191023/run0/',\n",
    "        '/data/SC02/20191023/run1/',\n",
    "        '/data/SC02/20191023/run2/',\n",
    "        '/data/SC02/20191023/run3/']\n",
    "otm=ontimeOptimize.OntimeOptimize(brokens=brokens, phiList=data)\n",
    "otm.pickForSlowSpeed()\n",
    "otm.visMaps('Fwd',filename='/data/SC02/20191024/phiOnTimeFwd.html',\n",
    "            pngfile='/data/SC02/20191024/phiOnTimeFwd.png',predict=False)\n",
    "otm.visMaps('Rev',filename='/data/SC02/20191024/phiOnTimeRev.html',\n",
    "            pngfile='/data/SC02/20191024/phiOnTimeRev.png',predict=False)"
   ]
  },
  {
   "cell_type": "markdown",
   "metadata": {},
   "source": [
    "# Run Theta again 20191028"
   ]
  },
  {
   "cell_type": "code",
   "execution_count": null,
   "metadata": {},
   "outputs": [],
   "source": [
    "datapath = '/data/SC02/20191113/'\n",
    "xml = '/data/SC02/20191024/science02_theta_20191024.xml'\n",
    "arm = 'theta'\n",
    "brokens = []\n",
    "\n",
    "for runs in range(5):\n",
    "    path= datapath+f'{arm}50Step-{runs}/'\n",
    "    figpath = datapath+f'{arm}50StepRun{runs}MotorMap/'\n",
    "    if not (os.path.exists(path)):\n",
    "            os.mkdir(path)\n",
    "    if not (os.path.exists(figpath)):\n",
    "            os.mkdir(figpath)  \n",
    "    mt = ModuleTest('128.149.77.24', xml,brokens=brokens,camSplit=28)\n",
    "    vis = visDianosticPlot.VisDianosticPlot(path, brokens=brokens, camSplit=28)\n",
    "    pfi = mt.pfi\n",
    "    \n",
    "    if arm is 'phi':\n",
    "        pfi.moveAllSteps(mt.allCobras, 0, -5000)\n",
    "        pfi.moveAllSteps(mt.allCobras, 0, -1000)\n",
    "    if arm is 'theta':\n",
    "        pfi.moveAllSteps(mt.allCobras, -10000, 0)\n",
    "        pfi.moveAllSteps(mt.allCobras, -2000, 0)\n",
    "                \n",
    "    output = f'science02_{arm}_50Step-run{runs}.xml'\n",
    "    \n",
    "    print(path)\n",
    "    \n",
    "    mt.makeThetaMotorMap(output, path, \n",
    "                repeat = 3, steps = 50, fast=False,totalSteps = 12000)\n",
    "    vis.visCobraMotorMap(stepsize=50, figPath=figpath, arm=f'{arm}')\n",
    "\n",
    "    for i in range(100):\n",
    "        pfi.moveAllSteps(mt.allCobras, 10000, 0)\n",
    "        pfi.moveAllSteps(mt.allCobras, 2000, 0)\n",
    "\n",
    "        pfi.moveAllSteps(mt.allCobras, -10000, 0)\n",
    "        pfi.moveAllSteps(mt.allCobras, -2000, 0)\n",
    "            \n",
    "    del(mt)\n",
    "    del(vis)    "
   ]
  },
  {
   "cell_type": "code",
   "execution_count": null,
   "metadata": {},
   "outputs": [],
   "source": [
    "broken=[]\n",
    "dataPath = '/data/SC02/20191024/thetaConvergeTest/'\n",
    "\n",
    "vis = visDianosticPlot.VisDianosticPlot(dataPath, brokens=broken, camSplit=28)\n",
    "\n",
    "xmllist = ['/data/SC02/20191024/theta50Step-0/science02_theta_50Step-run0.xml',\n",
    "           '/data/SC02/20191024/theta50Step-1/science02_theta_50Step-run1.xml',\n",
    "           '/data/SC02/20191024/theta50Step-2/science02_theta_50Step-run2.xml',\n",
    "           '/data/SC02/20191024/theta50Step-3/science02_theta_50Step-run3.xml',\n",
    "           '/data/SC02/20191024/theta50Step-4/science02_theta_50Step-run4.xml',\n",
    "           '/data/SC02/20191028/theta50Step-0/science02_theta_50Step-run0.xml',\n",
    "           '/data/SC02/20191028/theta50Step-1/science02_theta_50Step-run1.xml',\n",
    "           '/data/SC02/20191028/theta50Step-2/science02_theta_50Step-run2.xml',\n",
    "           '/data/SC02/20191028/theta50Step-3/science02_theta_50Step-run3.xml',\n",
    "           '/data/SC02/20191028/theta50Step-4/science02_theta_50Step-run4.xml']\n",
    "vis.visMultiMotorMapfromXML(xmllist, figPath='/data/SC02/20191028/thetaAllMapsTwoDate/', \n",
    "                            arm='theta', pdffile='/data/SC02/20191028/thetaAllMapsTwoDate.pdf')"
   ]
  },
  {
   "cell_type": "markdown",
   "metadata": {},
   "source": [
    "# Moving phi 60 deg"
   ]
  },
  {
   "cell_type": "code",
   "execution_count": null,
   "metadata": {},
   "outputs": [],
   "source": [
    "from moduleTest import ModuleTest\n",
    "import numpy as np\n",
    "from ics.cobraCharmer import pfi as pfiControl\n",
    "from ics.cobraCharmer import pfiDesign\n",
    "import ontimeOptimize\n",
    "import visDianosticPlot\n",
    "import os\n",
    "from importlib import reload \n",
    "import matplotlib.pyplot as plt"
   ]
  },
  {
   "cell_type": "code",
   "execution_count": null,
   "metadata": {
    "scrolled": true
   },
   "outputs": [],
   "source": [
    "broken=[]\n",
    "mt = ModuleTest('128.149.77.24', \n",
    "                '/data/SC02/20191105/phi50Step-4/science02_phi_50Step-run4.xml', \n",
    "                brokens=broken,camSplit=28)\n",
    "pfi = mt.pfi\n",
    "pfi.moveAllSteps(mt.allCobras, 0, -5000)\n",
    "pfi.moveAllSteps(mt.allCobras, 0, -1000)\n",
    "dataPath = '/data/SC02/20191110/phi60deg/'\n",
    "\n"
   ]
  },
  {
   "cell_type": "code",
   "execution_count": null,
   "metadata": {},
   "outputs": [],
   "source": [
    "mt.phiCenter"
   ]
  },
  {
   "cell_type": "code",
   "execution_count": null,
   "metadata": {},
   "outputs": [],
   "source": [
    "mt.movePhiAngle(dataPath)"
   ]
  },
  {
   "cell_type": "code",
   "execution_count": null,
   "metadata": {
    "scrolled": false
   },
   "outputs": [],
   "source": [
    "phiPath =  '/data/SC02/20191110/phi60deg/'\n",
    "phiData = np.load(phiPath+'phiData.npy')\n",
    "\n",
    "brokens = []\n",
    "badIdx = np.array(brokens) - 1\n",
    "goodIdx = np.array([e for e in range(57) if e not in badIdx])\n",
    "\n",
    "angle = 60\n",
    "x = np.arange(9)\n",
    "plt.figure(1)\n",
    "plt.clf()\n",
    "for cob in goodIdx:\n",
    "    for ite in range(1):\n",
    "        plt.plot(x, np.rad2deg(np.append([0], phiData[cob,ite,:,0])), marker='o', linewidth=2)\n",
    "#plt.ylim(angle- 10, angle+10)"
   ]
  },
  {
   "cell_type": "code",
   "execution_count": null,
   "metadata": {
    "scrolled": true
   },
   "outputs": [],
   "source": [
    "np.mean(60-np.rad2deg(phiData[:,0,-1,0]))"
   ]
  },
  {
   "cell_type": "code",
   "execution_count": null,
   "metadata": {
    "scrolled": true
   },
   "outputs": [],
   "source": [
    "100-np.rad2deg(phiData[27,0,-1,0])"
   ]
  },
  {
   "cell_type": "code",
   "execution_count": null,
   "metadata": {},
   "outputs": [],
   "source": [
    "np.rad2deg(phiData[:,0,0,0])"
   ]
  },
  {
   "cell_type": "markdown",
   "metadata": {},
   "source": [
    "# Plot Chi-Yi's convergence test"
   ]
  },
  {
   "cell_type": "code",
   "execution_count": 2,
   "metadata": {},
   "outputs": [
    {
     "name": "stderr",
     "output_type": "stream",
     "text": [
      "/home/pfs/mhs/devel/ics_cobraCharmer/procedures/moduleTest/visDianosticPlot.py:517: UserWarning: Calling figure.constrained_layout, but figure not setup to do constrained layout.  You either called GridSpec without the fig keyword, you are using plt.subplot, or you need to call figure or subplots with the constrained_layout=True kwarg.\n",
      "  plt.savefig(figPath+f'Converge_{arm}_{fiberIdx+1}.png')\n"
     ]
    },
    {
     "name": "stdout",
     "output_type": "stream",
     "text": [
      "convert /data/SC29/20191125/20191120_009/Con*_[0-9].png /data/SC29/20191125/20191120_009/Con*_[0-9]?.png /data/SC29/20191125/20191120_009_phi.pdf\n",
      "convert /data/SC29/20191125/20191120_010/Con*_[0-9].png /data/SC29/20191125/20191120_010/Con*_[0-9]?.png /data/SC29/20191125/20191120_010_phi.pdf\n",
      "convert /data/SC29/20191125/20191120_011/Con*_[0-9].png /data/SC29/20191125/20191120_011/Con*_[0-9]?.png /data/SC29/20191125/20191120_011_phi.pdf\n",
      "convert /data/SC29/20191125/20191120_012/Con*_[0-9].png /data/SC29/20191125/20191120_012/Con*_[0-9]?.png /data/SC29/20191125/20191120_012_phi.pdf\n",
      "convert /data/SC29/20191125/20191120_013/Con*_[0-9].png /data/SC29/20191125/20191120_013/Con*_[0-9]?.png /data/SC29/20191125/20191120_013_phi.pdf\n"
     ]
    }
   ],
   "source": [
    "dirList=['20191120_009', '20191120_010', '20191120_011', '20191120_012', '20191120_013']\n",
    "\n",
    "for path in dirList:\n",
    "    broken=[]\n",
    "    dataPath = f'/data/MCS/{path}/data/'\n",
    "\n",
    "    vis = visDianosticPlot.VisDianosticPlot(dataPath, brokens=broken, camSplit=28)\n",
    "    vis.visConverge(figPath=f'/data/SC29/20191125/{path}/',runs = 16,\n",
    "                    arm='phi',pdffile= f'/data/SC29/20191125/{path}_phi.pdf')\n",
    "    del(vis)"
   ]
  },
  {
   "cell_type": "code",
   "execution_count": 3,
   "metadata": {},
   "outputs": [
    {
     "name": "stdout",
     "output_type": "stream",
     "text": [
      "convert /data/SC29/20191125/20191121_012/Con*_[0-9].png /data/SC29/20191125/20191121_012/Con*_[0-9]?.png /data/SC29/20191125/20191121_012_theta.pdf\n",
      "convert /data/SC29/20191125/20191121_013/Con*_[0-9].png /data/SC29/20191125/20191121_013/Con*_[0-9]?.png /data/SC29/20191125/20191121_013_theta.pdf\n",
      "convert /data/SC29/20191125/20191121_014/Con*_[0-9].png /data/SC29/20191125/20191121_014/Con*_[0-9]?.png /data/SC29/20191125/20191121_014_theta.pdf\n",
      "convert /data/SC29/20191125/20191121_015/Con*_[0-9].png /data/SC29/20191125/20191121_015/Con*_[0-9]?.png /data/SC29/20191125/20191121_015_theta.pdf\n",
      "convert /data/SC29/20191125/20191121_016/Con*_[0-9].png /data/SC29/20191125/20191121_016/Con*_[0-9]?.png /data/SC29/20191125/20191121_016_theta.pdf\n"
     ]
    }
   ],
   "source": [
    "dirList = ['20191121_012', '20191121_013', '20191121_014', '20191121_015', '20191121_016']\n",
    "for path in dirList:\n",
    "    broken=[]\n",
    "    dataPath = f'/data/MCS/{path}/data/'\n",
    "\n",
    "    vis = visDianosticPlot.VisDianosticPlot(dataPath, brokens=broken, camSplit=28)\n",
    "    vis.visConverge(figPath=f'/data/SC29/20191125/{path}/',runs = 34,\n",
    "                    arm='theta',pdffile= f'/data/SC29/20191125/{path}_theta.pdf')\n",
    "    del(vis)\n"
   ]
  },
  {
   "cell_type": "markdown",
   "metadata": {},
   "source": [
    "# Recalculated Geometry"
   ]
  },
  {
   "cell_type": "code",
   "execution_count": 5,
   "metadata": {},
   "outputs": [],
   "source": [
    "xml = pathlib.Path('/data/SC02/20191113/theta50Step-4/science02_theta_50Step-run4.xml')\n",
    "brokens = []\n",
    "camSplit = 28"
   ]
  },
  {
   "cell_type": "code",
   "execution_count": 6,
   "metadata": {},
   "outputs": [
    {
     "name": "stderr",
     "output_type": "stream",
     "text": [
      "/home/pfs/mhs/devel/ics_cobraCharmer/python/ics/cobraCharmer/pfiDesign.py:54: UserWarning: please use PFIDesign.loadModule() or PFIDesign.loadPFI()\n",
      "  warnings.warn('please use PFIDesign.loadModule() or PFIDesign.loadPFI()')\n",
      "2019-12-26 11:27:10.575Z root             20 pfiDesign.py:740 wrote pfiDesign file for 57 cobras and name=None to /data/SC02//SC02_final.xml\n"
     ]
    }
   ],
   "source": [
    "ana = moduleAnalyze.moduleAnalyze(xml, brokens, camSplit)\n",
    "\n",
    "dataPath = '/data/SC02/'\n",
    "phiPath = '/data/SC02/20191105/phi50Step-4/'\n",
    "thetaPath = '/data/SC02/20191113/theta50Step-4/'\n",
    "ana.calculateGeometry('SC02_final.xml', dataPath, thetaPath, phiPath)\n",
    "ana.makeGeometryTable(dataPath)"
   ]
  },
  {
   "cell_type": "code",
   "execution_count": null,
   "metadata": {},
   "outputs": [],
   "source": []
  }
 ],
 "metadata": {
  "kernelspec": {
   "display_name": "Python 3",
   "language": "python",
   "name": "python3"
  },
  "language_info": {
   "codemirror_mode": {
    "name": "ipython",
    "version": 3
   },
   "file_extension": ".py",
   "mimetype": "text/x-python",
   "name": "python",
   "nbconvert_exporter": "python",
   "pygments_lexer": "ipython3",
   "version": "3.7.3"
  }
 },
 "nbformat": 4,
 "nbformat_minor": 2
}
