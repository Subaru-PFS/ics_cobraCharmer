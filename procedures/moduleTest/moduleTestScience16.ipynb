{
 "cells": [
  {
   "cell_type": "code",
   "execution_count": 2,
   "metadata": {},
   "outputs": [],
   "source": [
    "from moduleTest import ModuleTest\n",
    "import numpy as np\n",
    "from ics.cobraCharmer import pfi as pfiControl\n",
    "from ics.cobraCharmer import pfiDesign\n",
    "import visDianosticPlot\n",
    "import os\n",
    "from importlib import reload \n",
    "import matplotlib.pyplot as plt\n",
    "import pathlib"
   ]
  },
  {
   "cell_type": "code",
   "execution_count": null,
   "metadata": {},
   "outputs": [],
   "source": [
    "moduleNameLong = 'Science16'\n",
    "moduleNameShort = 'SC16'"
   ]
  },
  {
   "cell_type": "code",
   "execution_count": null,
   "metadata": {},
   "outputs": [],
   "source": [
    "xml = pathlib.Path('/home/pfs/mhs/devel/pfs_instdata/data/pfi/modules/SC16/SC16_thetaFinal.xml')"
   ]
  },
  {
   "cell_type": "code",
   "execution_count": null,
   "metadata": {},
   "outputs": [],
   "source": [
    "brokens = []\n",
    "mt = ModuleTest('fpga', xml, brokens=brokens)\n",
    "mt._connect()"
   ]
  },
  {
   "cell_type": "code",
   "execution_count": null,
   "metadata": {
    "scrolled": true
   },
   "outputs": [],
   "source": [
    "mt.convertXML(f'/data/{moduleNameShort}/{moduleNameLong}_converted.xml')"
   ]
  },
  {
   "cell_type": "code",
   "execution_count": null,
   "metadata": {},
   "outputs": [],
   "source": [
    "\n",
    "xml = pathlib.Path(f'/data/{moduleNameShort}/{moduleNameLong}_converted.xml')\n",
    "\n",
    "brokens = []\n",
    "mt = ModuleTest('fpga', xml, brokens=brokens)\n",
    "mt._connect()"
   ]
  },
  {
   "cell_type": "code",
   "execution_count": null,
   "metadata": {
    "scrolled": true
   },
   "outputs": [],
   "source": [
    "runDir = mt.makePhiMotorMap(f'{moduleNameShort}_phi_250.xml', steps=250, repeat=3, totalSteps=6000)"
   ]
  },
  {
   "cell_type": "code",
   "execution_count": null,
   "metadata": {
    "scrolled": true
   },
   "outputs": [],
   "source": [
    "broken=[]\n",
    "path=f'{runDir}/data/'\n",
    "vis = visDianosticPlot.VisDianosticPlot(path, brokens=broken, camSplit=28)\n",
    "vis.visPlotGeometry(arm='phi')"
   ]
  },
  {
   "cell_type": "code",
   "execution_count": null,
   "metadata": {},
   "outputs": [],
   "source": [
    "vis.visPlotFiberDot(arm='phi')"
   ]
  },
  {
   "cell_type": "code",
   "execution_count": null,
   "metadata": {},
   "outputs": [],
   "source": [
    "del(mt)"
   ]
  },
  {
   "cell_type": "markdown",
   "metadata": {},
   "source": [
    "# Phi on-time optimize"
   ]
  },
  {
   "cell_type": "code",
   "execution_count": null,
   "metadata": {
    "scrolled": true
   },
   "outputs": [],
   "source": [
    "import ontimeOptimize\n",
    "import pathlib\n",
    "\n",
    "\n",
    "runDir = '/data/MCS/20191216_004'\n",
    "brokens=[]\n",
    "arm='phi'\n",
    "xml =pathlib.Path(f'{runDir}/output/SC16_phi_250.xml')\n",
    "ontimeOptimize.exploreModuleOntime(brokens=brokens,\n",
    "            arm=arm, iteration=4, XML=xml)"
   ]
  },
  {
   "cell_type": "code",
   "execution_count": null,
   "metadata": {},
   "outputs": [],
   "source": [
    "otm.pickForSlowSpeed()"
   ]
  },
  {
   "cell_type": "markdown",
   "metadata": {},
   "source": [
    "# Phi Motor Map"
   ]
  },
  {
   "cell_type": "code",
   "execution_count": null,
   "metadata": {},
   "outputs": [],
   "source": [
    "brokens=[]\n",
    "runDir='/data/MCS/20191217_009'\n",
    "vis = visDianosticPlot.VisDianosticPlot(f'{runDir}/data/', brokens=brokens, camSplit=28)\n",
    "vis.visCobraMotorMap(stepsize=250, figPath=f'{runDir}/output/', arm='phi',\n",
    "                     pdffile=f'{runDir}/output/phi_mm_250step.pdf')"
   ]
  },
  {
   "cell_type": "code",
   "execution_count": null,
   "metadata": {
    "scrolled": true
   },
   "outputs": [],
   "source": [
    "mt.makePhiMotorMap('SC04_phi_250.xml', steps=250, repeat=5, totalSteps=6000, fromHome=True)"
   ]
  },
  {
   "cell_type": "markdown",
   "metadata": {},
   "source": [
    "# Phi Target Convergence"
   ]
  },
  {
   "cell_type": "code",
   "execution_count": null,
   "metadata": {
    "scrolled": true
   },
   "outputs": [],
   "source": [
    "xml = pathlib.Path('/data/MCS/20191217_009/output/phi_250step.xml')\n",
    "broken=[]\n",
    "\n",
    "mt = ModuleTest('fpga', xml, brokens=broken)\n",
    "mt._connect()\n",
    "\n",
    "#for scale in [1.2, 2.0, 3.0, 5.0, 8.0]:\n",
    "mt.phiConvergenceTest(margin=15.0, runs=16, tries=8, \n",
    "                        fast=False, finalAngle=None, scaleFactor=3.0, tolerance=0.1)"
   ]
  },
  {
   "cell_type": "code",
   "execution_count": null,
   "metadata": {},
   "outputs": [],
   "source": [
    "\n",
    "vis = visDianosticPlot.VisDianosticPlot('/data/MCS/20191217_011/data/', brokens=broken, camSplit=28)\n",
    "vis.visConverge(figPath=f'/data/MCS/20191217_011/output/',runs = 16,\n",
    "                    arm='phi',pdffile= f'/data/MCS/20191217_011/output/converge_phi.pdf')"
   ]
  },
  {
   "cell_type": "markdown",
   "metadata": {},
   "source": [
    "# Move to 60 degree"
   ]
  },
  {
   "cell_type": "code",
   "execution_count": null,
   "metadata": {},
   "outputs": [],
   "source": [
    "\n",
    "xml = pathlib.Path('/data/MCS/20191217_009/output/phi_250step.xml')\n",
    "broken=[]\n",
    "\n",
    "mt = ModuleTest('fpga', xml, brokens=broken)\n",
    "mt._connect()\n",
    "\n"
   ]
  },
  {
   "cell_type": "code",
   "execution_count": null,
   "metadata": {},
   "outputs": [],
   "source": [
    "mt.setPhiGeometryFromRun(pathlib.Path('/data/MCS/20191217_009'), onlyIfClear=False)"
   ]
  },
  {
   "cell_type": "code",
   "execution_count": null,
   "metadata": {
    "scrolled": true
   },
   "outputs": [],
   "source": [
    "\n",
    "mt.moveToPhiAngle(angle=60.0, keepExistingPosition=False)\n"
   ]
  },
  {
   "cell_type": "markdown",
   "metadata": {},
   "source": [
    "# Theta ROM"
   ]
  },
  {
   "cell_type": "code",
   "execution_count": null,
   "metadata": {
    "scrolled": true
   },
   "outputs": [],
   "source": [
    "mt.makeThetaMotorMap('SC16_theta_250.xml', steps=250, repeat=3, totalSteps=12000)"
   ]
  },
  {
   "cell_type": "code",
   "execution_count": null,
   "metadata": {
    "scrolled": true
   },
   "outputs": [],
   "source": [
    "broken=[]\n",
    "path=f'/data/MCS/20191217_014/data/'\n",
    "vis = visDianosticPlot.VisDianosticPlot(path, brokens=broken, camSplit=28)\n",
    "vis.visPlotGeometry(arm='theta')"
   ]
  },
  {
   "cell_type": "code",
   "execution_count": null,
   "metadata": {
    "scrolled": true
   },
   "outputs": [],
   "source": [
    "vis.visPlotFiberDot(arm='theta')"
   ]
  },
  {
   "cell_type": "markdown",
   "metadata": {},
   "source": [
    "# Theta on-time "
   ]
  },
  {
   "cell_type": "code",
   "execution_count": null,
   "metadata": {
    "scrolled": true
   },
   "outputs": [],
   "source": [
    "\n",
    "import ontimeOptimize\n",
    "import pathlib\n",
    "\n",
    "brokens=[]\n",
    "arm='theta'\n",
    "xml =pathlib.Path('/data/MCS/20191217_014/output/SC16_theta_250.xml')\n",
    "ontimeOptimize.exploreModuleOntime(brokens=brokens,\n",
    "            arm=arm, iteration=5, XML=xml,repeat=3)"
   ]
  },
  {
   "cell_type": "markdown",
   "metadata": {},
   "source": [
    "# Theta motor map "
   ]
  },
  {
   "cell_type": "code",
   "execution_count": null,
   "metadata": {
    "scrolled": true
   },
   "outputs": [],
   "source": [
    "brokens=[]\n",
    "xml =pathlib.Path('/data/MCS/20191212_109/output/SC04_theta_250.xml')\n",
    "mt = ModuleTest('fpga', xml, brokens=brokens)\n",
    "\n",
    "runDir=mt.makeThetaMotorMap('SC04_theta_500.xml', steps=500, repeat=5, totalSteps=12000, fromHome=True)"
   ]
  },
  {
   "cell_type": "code",
   "execution_count": null,
   "metadata": {},
   "outputs": [],
   "source": [
    "runDir='/data/MCS/20191217_026'"
   ]
  },
  {
   "cell_type": "code",
   "execution_count": null,
   "metadata": {},
   "outputs": [],
   "source": [
    "\n",
    "brokens=[]\n",
    "vis = visDianosticPlot.VisDianosticPlot(f'{runDir}/data/', brokens=brokens, camSplit=28)\n",
    "vis.visCobraMotorMap(stepsize=250, figPath=f'{runDir}/output/', arm='theta',\n",
    "                     pdffile=f'{runDir}/output/theta_mm_250step.pdf')"
   ]
  },
  {
   "cell_type": "markdown",
   "metadata": {},
   "source": [
    "# theta converge"
   ]
  },
  {
   "cell_type": "code",
   "execution_count": 3,
   "metadata": {},
   "outputs": [
    {
     "name": "stderr",
     "output_type": "stream",
     "text": [
      "2019-12-17 12:38:57.234Z butler           30 butler.py:58 newRun: /data/MCS/20191217_030\n",
      "2019-12-17 12:38:57.235Z fpgaIO           20 pfi.py:57 FPGA connection to 128.149.77.24\n",
      "/home/pfs/mhs/devel/ics_cobraCharmer/python/ics/cobraCharmer/pfiDesign.py:54: UserWarning: please use PFIDesign.loadModule() or PFIDesign.loadPFI()\n",
      "  warnings.warn('please use PFIDesign.loadModule() or PFIDesign.loadPFI()')\n",
      "2019-12-17 12:38:57.338Z pfi              20 pfi.py:73 load cobra model from /data/MCS/20191217_026/output/theta_250step.xml\n",
      "2019-12-17 12:38:57.374Z camera           20 asrdCam.py:17 asrd...\n",
      "2019-12-17 12:38:57.404Z moduleTest       40 moduleTest.py:345 theta ranges for cobras [33] are too small: CW=[-82.02731362] CCW=[-96.12277365]\n",
      "2019-12-17 12:38:57.405Z moduleTest       40 moduleTest.py:348      [374.1]\n"
     ]
    }
   ],
   "source": [
    "\n",
    "xml = pathlib.Path('/data/MCS/20191217_026/output/theta_250step.xml')\n",
    "broken=[]\n",
    "\n",
    "mt = ModuleTest('fpga', xml, brokens=broken)\n",
    "mt._connect()\n",
    "\n",
    "\n",
    "mt.setThetaGeometryFromRun(pathlib.Path('/data/MCS/20191217_026'), onlyIfClear=False)"
   ]
  },
  {
   "cell_type": "code",
   "execution_count": 4,
   "metadata": {
    "scrolled": true
   },
   "outputs": [
    {
     "name": "stderr",
     "output_type": "stream",
     "text": [
      "2019-12-17 12:39:01.935Z butler           30 butler.py:58 newRun: /data/MCS/20191217_031\n",
      "2019-12-17 12:39:01.938Z fpgaIO           20 pfi.py:57 FPGA connection to 128.149.77.24\n",
      "2019-12-17 12:39:01.970Z pfi              20 pfi.py:73 load cobra model from /data/MCS/20191217_026/output/theta_250step.xml\n",
      "2019-12-17 12:39:02.008Z camera           20 asrdCam.py:17 asrd...\n",
      "2019-12-17 12:39:02.068Z moduleTest       20 moduleTest.py:1600 Use current theta geometry setting!!!\n",
      "2019-12-17 12:39:02.068Z moduleTest       20 moduleTest.py:1619 Run 1: angle=15.00 degree\n"
     ]
    },
    {
     "name": "stdout",
     "output_type": "stream",
     "text": [
      "IS_COLORMODE_MONOCHROME: \n",
      "\tm_nColorMode: \t\t 34\n",
      "\tnBitsPerPixel: \t\t 10\n",
      "\tbytes_per_pixel: \t\t 2\n",
      "\n",
      "Camera model:\t\t UI318xCP-M\n",
      "Camera serial no.:\t 4103536358\n",
      "Maximum image self.width:\t 2592\n",
      "Maximum image self.height:\t 2048\n",
      "\n",
      "200\n",
      "IS_COLORMODE_MONOCHROME: \n",
      "\tm_nColorMode: \t\t 34\n",
      "\tnBitsPerPixel: \t\t 10\n",
      "\tbytes_per_pixel: \t\t 2\n",
      "\n",
      "Camera model:\t\t UI318xCP-M\n",
      "Camera serial no.:\t 4103541788\n",
      "Maximum image self.width:\t 2592\n",
      "Maximum image self.height:\t 2048\n",
      "\n",
      "200\n",
      "getting image\n",
      "(2048, 2592, 2)\n",
      "getting image\n",
      "(2048, 2592, 2)\n",
      "getting image\n",
      "(2048, 2592, 2)\n",
      "getting image\n",
      "(2048, 2592, 2)\n",
      "getting image\n",
      "(2048, 2592, 2)\n",
      "getting image\n",
      "(2048, 2592, 2)\n",
      "getting image\n",
      "(2048, 2592, 2)\n",
      "getting image\n",
      "(2048, 2592, 2)\n"
     ]
    },
    {
     "name": "stderr",
     "output_type": "stream",
     "text": [
      "2019-12-17 12:39:19.252Z moduleTest       20 moduleTest.py:1643 done: [ 1  3  5  6  7  9 10 11 12 16 17 18 19 21 23 24 25 26 28 29 32 34 35 37\n",
      " 38 39 40 42 44 45 46 49 51 54 56], 22 left\n"
     ]
    },
    {
     "name": "stdout",
     "output_type": "stream",
     "text": [
      "getting image\n",
      "(2048, 2592, 2)\n",
      "getting image\n",
      "(2048, 2592, 2)\n",
      "getting image\n",
      "(2048, 2592, 2)\n",
      "getting image\n",
      "(2048, 2592, 2)\n"
     ]
    },
    {
     "name": "stderr",
     "output_type": "stream",
     "text": [
      "2019-12-17 12:39:21.096Z moduleTest       20 moduleTest.py:1643 done: [ 0  2  4  8 13 14 15 30 31 33 36 41 43 47 48 52 53 55], 4 left\n"
     ]
    },
    {
     "name": "stdout",
     "output_type": "stream",
     "text": [
      "getting image\n",
      "(2048, 2592, 2)\n",
      "getting image\n",
      "(2048, 2592, 2)\n",
      "getting image\n",
      "(2048, 2592, 2)\n",
      "getting image\n",
      "(2048, 2592, 2)\n"
     ]
    },
    {
     "name": "stderr",
     "output_type": "stream",
     "text": [
      "2019-12-17 12:39:23.037Z moduleTest       20 moduleTest.py:1643 done: [20 22 27], 1 left\n"
     ]
    },
    {
     "name": "stdout",
     "output_type": "stream",
     "text": [
      "getting image\n",
      "(2048, 2592, 2)\n",
      "getting image\n",
      "(2048, 2592, 2)\n",
      "getting image\n",
      "(2048, 2592, 2)\n",
      "getting image\n",
      "(2048, 2592, 2)\n"
     ]
    },
    {
     "name": "stderr",
     "output_type": "stream",
     "text": [
      "2019-12-17 12:39:24.696Z moduleTest       20 moduleTest.py:1643 done: [50], 0 left\n",
      "2019-12-17 12:39:49.740Z moduleTest       20 moduleTest.py:1619 Run 2: angle=25.00 degree\n"
     ]
    },
    {
     "name": "stdout",
     "output_type": "stream",
     "text": [
      "getting image\n",
      "(2048, 2592, 2)\n",
      "getting image\n",
      "(2048, 2592, 2)\n",
      "getting image\n",
      "(2048, 2592, 2)\n",
      "getting image\n",
      "(2048, 2592, 2)\n",
      "getting image\n",
      "(2048, 2592, 2)\n",
      "getting image\n",
      "(2048, 2592, 2)\n",
      "getting image\n",
      "(2048, 2592, 2)\n",
      "getting image\n",
      "(2048, 2592, 2)\n"
     ]
    },
    {
     "name": "stderr",
     "output_type": "stream",
     "text": [
      "2019-12-17 12:39:54.731Z moduleTest       20 moduleTest.py:1643 done: [ 0  2  4  5  8  9 13 15 16 17 18 19 20 22 26 30 31 35 36 38 39 41 43 44\n",
      " 45 47 48 49 50 51 53 54 55], 24 left\n"
     ]
    },
    {
     "name": "stdout",
     "output_type": "stream",
     "text": [
      "getting image\n",
      "(2048, 2592, 2)\n",
      "getting image\n",
      "(2048, 2592, 2)\n",
      "getting image\n",
      "(2048, 2592, 2)\n",
      "getting image\n",
      "(2048, 2592, 2)\n"
     ]
    },
    {
     "name": "stderr",
     "output_type": "stream",
     "text": [
      "2019-12-17 12:39:56.942Z moduleTest       20 moduleTest.py:1643 done: [ 1  3  6  7 10 11 12 21 23 25 27 28 29 32 33 34 37 40 42 52 56], 3 left\n"
     ]
    },
    {
     "name": "stdout",
     "output_type": "stream",
     "text": [
      "getting image\n",
      "(2048, 2592, 2)\n",
      "getting image\n",
      "(2048, 2592, 2)\n",
      "getting image\n",
      "(2048, 2592, 2)\n",
      "getting image\n",
      "(2048, 2592, 2)\n"
     ]
    },
    {
     "name": "stderr",
     "output_type": "stream",
     "text": [
      "2019-12-17 12:39:58.781Z moduleTest       20 moduleTest.py:1643 done: [14 24 46], 0 left\n",
      "2019-12-17 12:40:23.822Z moduleTest       20 moduleTest.py:1619 Run 3: angle=35.00 degree\n"
     ]
    },
    {
     "name": "stdout",
     "output_type": "stream",
     "text": [
      "getting image\n",
      "(2048, 2592, 2)\n",
      "getting image\n",
      "(2048, 2592, 2)\n",
      "getting image\n",
      "(2048, 2592, 2)\n",
      "getting image\n",
      "(2048, 2592, 2)\n",
      "getting image\n",
      "(2048, 2592, 2)\n",
      "getting image\n",
      "(2048, 2592, 2)\n",
      "getting image\n",
      "(2048, 2592, 2)\n",
      "getting image\n",
      "(2048, 2592, 2)\n"
     ]
    },
    {
     "name": "stderr",
     "output_type": "stream",
     "text": [
      "2019-12-17 12:40:29.388Z moduleTest       20 moduleTest.py:1643 done: [ 7 12 13 14 15 16 17 21 23 26 28 29 31 32 35 36 38 43 44 49 50 51 55], 34 left\n"
     ]
    },
    {
     "name": "stdout",
     "output_type": "stream",
     "text": [
      "getting image\n",
      "(2048, 2592, 2)\n",
      "getting image\n",
      "(2048, 2592, 2)\n",
      "getting image\n",
      "(2048, 2592, 2)\n",
      "getting image\n",
      "(2048, 2592, 2)\n"
     ]
    },
    {
     "name": "stderr",
     "output_type": "stream",
     "text": [
      "2019-12-17 12:40:31.210Z moduleTest       20 moduleTest.py:1643 done: [ 1  2  3  4  5  6  8  9 11 18 19 20 22 24 25 30 33 34 37 39 40 41 42 45\n",
      " 46 47 48 52 53 56], 4 left\n"
     ]
    },
    {
     "name": "stdout",
     "output_type": "stream",
     "text": [
      "getting image\n",
      "(2048, 2592, 2)\n",
      "getting image\n",
      "(2048, 2592, 2)\n",
      "getting image\n",
      "(2048, 2592, 2)\n",
      "getting image\n",
      "(2048, 2592, 2)\n"
     ]
    },
    {
     "name": "stderr",
     "output_type": "stream",
     "text": [
      "2019-12-17 12:40:33.030Z moduleTest       20 moduleTest.py:1643 done: [ 0 10 54], 1 left\n"
     ]
    },
    {
     "name": "stdout",
     "output_type": "stream",
     "text": [
      "getting image\n",
      "(2048, 2592, 2)\n",
      "getting image\n",
      "(2048, 2592, 2)\n",
      "getting image\n",
      "(2048, 2592, 2)\n",
      "getting image\n",
      "(2048, 2592, 2)\n"
     ]
    },
    {
     "name": "stderr",
     "output_type": "stream",
     "text": [
      "2019-12-17 12:40:34.710Z moduleTest       20 moduleTest.py:1643 done: [27], 0 left\n",
      "2019-12-17 12:40:59.748Z moduleTest       20 moduleTest.py:1619 Run 4: angle=45.00 degree\n"
     ]
    },
    {
     "name": "stdout",
     "output_type": "stream",
     "text": [
      "getting image\n",
      "(2048, 2592, 2)\n",
      "getting image\n",
      "(2048, 2592, 2)\n",
      "getting image\n",
      "(2048, 2592, 2)\n",
      "getting image\n",
      "(2048, 2592, 2)\n",
      "getting image\n",
      "(2048, 2592, 2)\n",
      "getting image\n",
      "(2048, 2592, 2)\n",
      "getting image\n",
      "(2048, 2592, 2)\n",
      "getting image\n",
      "(2048, 2592, 2)\n"
     ]
    },
    {
     "name": "stderr",
     "output_type": "stream",
     "text": [
      "2019-12-17 12:41:06.207Z moduleTest       20 moduleTest.py:1643 done: [ 0  4  5  6  9 13 16 18 19 21 25 26 28 30 32 33 34 39 43 44 47 51 54 55], 33 left\n"
     ]
    },
    {
     "name": "stdout",
     "output_type": "stream",
     "text": [
      "getting image\n",
      "(2048, 2592, 2)\n",
      "getting image\n",
      "(2048, 2592, 2)\n",
      "getting image\n",
      "(2048, 2592, 2)\n",
      "getting image\n",
      "(2048, 2592, 2)\n"
     ]
    },
    {
     "name": "stderr",
     "output_type": "stream",
     "text": [
      "2019-12-17 12:41:08.396Z moduleTest       20 moduleTest.py:1643 done: [ 2  3  7  8 11 12 14 15 17 22 23 24 29 31 35 36 37 38 40 42 45 46 48 49\n",
      " 50 52 53 56], 5 left\n"
     ]
    },
    {
     "name": "stdout",
     "output_type": "stream",
     "text": [
      "getting image\n",
      "(2048, 2592, 2)\n",
      "getting image\n",
      "(2048, 2592, 2)\n",
      "getting image\n",
      "(2048, 2592, 2)\n",
      "getting image\n",
      "(2048, 2592, 2)\n"
     ]
    },
    {
     "name": "stderr",
     "output_type": "stream",
     "text": [
      "2019-12-17 12:41:10.199Z moduleTest       20 moduleTest.py:1643 done: [ 1 10 20 27 41], 0 left\n",
      "2019-12-17 12:41:35.236Z moduleTest       20 moduleTest.py:1619 Run 5: angle=55.00 degree\n"
     ]
    },
    {
     "name": "stdout",
     "output_type": "stream",
     "text": [
      "getting image\n",
      "(2048, 2592, 2)\n",
      "getting image\n",
      "(2048, 2592, 2)\n",
      "getting image\n",
      "(2048, 2592, 2)\n",
      "getting image\n",
      "(2048, 2592, 2)\n",
      "getting image\n",
      "(2048, 2592, 2)\n",
      "getting image\n",
      "(2048, 2592, 2)\n",
      "getting image\n",
      "(2048, 2592, 2)\n",
      "getting image\n",
      "(2048, 2592, 2)\n"
     ]
    },
    {
     "name": "stderr",
     "output_type": "stream",
     "text": [
      "2019-12-17 12:41:42.385Z moduleTest       20 moduleTest.py:1643 done: [ 3  5  7  9 10 16 17 18 19 26 31 32 35 38 39 44 48 49 52 53 55], 36 left\n"
     ]
    },
    {
     "name": "stdout",
     "output_type": "stream",
     "text": [
      "getting image\n",
      "(2048, 2592, 2)\n",
      "getting image\n",
      "(2048, 2592, 2)\n",
      "getting image\n",
      "(2048, 2592, 2)\n",
      "getting image\n",
      "(2048, 2592, 2)\n"
     ]
    },
    {
     "name": "stderr",
     "output_type": "stream",
     "text": [
      "2019-12-17 12:41:44.576Z moduleTest       20 moduleTest.py:1643 done: [ 0  1  4  6 11 12 13 14 15 20 22 24 25 27 28 29 30 33 34 36 37 41 42 43\n",
      " 45 46 47 50 51 54], 6 left\n"
     ]
    },
    {
     "name": "stdout",
     "output_type": "stream",
     "text": [
      "getting image\n",
      "(2048, 2592, 2)\n",
      "getting image\n",
      "(2048, 2592, 2)\n",
      "getting image\n",
      "(2048, 2592, 2)\n",
      "getting image\n",
      "(2048, 2592, 2)\n"
     ]
    },
    {
     "name": "stderr",
     "output_type": "stream",
     "text": [
      "2019-12-17 12:41:46.394Z moduleTest       20 moduleTest.py:1643 done: [ 2  8 21 23 40 56], 0 left\n",
      "2019-12-17 12:42:11.438Z moduleTest       20 moduleTest.py:1619 Run 6: angle=65.00 degree\n"
     ]
    },
    {
     "name": "stdout",
     "output_type": "stream",
     "text": [
      "getting image\n",
      "(2048, 2592, 2)\n",
      "getting image\n",
      "(2048, 2592, 2)\n",
      "getting image\n",
      "(2048, 2592, 2)\n",
      "getting image\n",
      "(2048, 2592, 2)\n",
      "getting image\n",
      "(2048, 2592, 2)\n",
      "getting image\n",
      "(2048, 2592, 2)\n",
      "getting image\n",
      "(2048, 2592, 2)\n",
      "getting image\n",
      "(2048, 2592, 2)\n"
     ]
    },
    {
     "name": "stderr",
     "output_type": "stream",
     "text": [
      "2019-12-17 12:42:18.906Z moduleTest       20 moduleTest.py:1643 done: [ 3  6  9 11 12 13 15 17 20 22 26 29 30 34 38 48 55], 40 left\n"
     ]
    },
    {
     "name": "stdout",
     "output_type": "stream",
     "text": [
      "getting image\n",
      "(2048, 2592, 2)\n",
      "getting image\n",
      "(2048, 2592, 2)\n",
      "getting image\n",
      "(2048, 2592, 2)\n",
      "getting image\n",
      "(2048, 2592, 2)\n"
     ]
    },
    {
     "name": "stderr",
     "output_type": "stream",
     "text": [
      "2019-12-17 12:42:21.051Z moduleTest       20 moduleTest.py:1643 done: [ 0  5  7 10 18 19 21 24 31 32 36 37 39 41 42 43 44 45 46 47 49 51 52 53\n",
      " 54], 15 left\n"
     ]
    },
    {
     "name": "stdout",
     "output_type": "stream",
     "text": [
      "getting image\n",
      "(2048, 2592, 2)\n",
      "getting image\n",
      "(2048, 2592, 2)\n",
      "getting image\n",
      "(2048, 2592, 2)\n",
      "getting image\n",
      "(2048, 2592, 2)\n"
     ]
    },
    {
     "name": "stderr",
     "output_type": "stream",
     "text": [
      "2019-12-17 12:42:23.081Z moduleTest       20 moduleTest.py:1643 done: [ 1  2  4  8 16 23 25 27 28 33 35 40 50], 2 left\n"
     ]
    },
    {
     "name": "stdout",
     "output_type": "stream",
     "text": [
      "getting image\n",
      "(2048, 2592, 2)\n",
      "getting image\n",
      "(2048, 2592, 2)\n",
      "getting image\n",
      "(2048, 2592, 2)\n",
      "getting image\n",
      "(2048, 2592, 2)\n"
     ]
    },
    {
     "name": "stderr",
     "output_type": "stream",
     "text": [
      "2019-12-17 12:42:24.894Z moduleTest       20 moduleTest.py:1643 done: [14 56], 0 left\n",
      "2019-12-17 12:42:49.941Z moduleTest       20 moduleTest.py:1619 Run 7: angle=75.00 degree\n"
     ]
    },
    {
     "name": "stdout",
     "output_type": "stream",
     "text": [
      "getting image\n",
      "(2048, 2592, 2)\n",
      "getting image\n",
      "(2048, 2592, 2)\n",
      "getting image\n",
      "(2048, 2592, 2)\n",
      "getting image\n",
      "(2048, 2592, 2)\n",
      "getting image\n",
      "(2048, 2592, 2)\n",
      "getting image\n",
      "(2048, 2592, 2)\n",
      "getting image\n",
      "(2048, 2592, 2)\n",
      "getting image\n",
      "(2048, 2592, 2)\n"
     ]
    },
    {
     "name": "stderr",
     "output_type": "stream",
     "text": [
      "2019-12-17 12:42:58.891Z moduleTest       20 moduleTest.py:1643 done: [ 5  9 10 15 17 18 21 26 30 32 34 36 39 42 49 53], 41 left\n"
     ]
    },
    {
     "name": "stdout",
     "output_type": "stream",
     "text": [
      "getting image\n",
      "(2048, 2592, 2)\n",
      "getting image\n",
      "(2048, 2592, 2)\n",
      "getting image\n",
      "(2048, 2592, 2)\n",
      "getting image\n",
      "(2048, 2592, 2)\n"
     ]
    },
    {
     "name": "stderr",
     "output_type": "stream",
     "text": [
      "2019-12-17 12:43:01.061Z moduleTest       20 moduleTest.py:1643 done: [ 1  2  3  4  6  7  8 11 13 19 20 22 23 24 25 29 31 35 37 38 41 43 44 45\n",
      " 46 47 48 51 55], 12 left\n"
     ]
    },
    {
     "name": "stdout",
     "output_type": "stream",
     "text": [
      "getting image\n",
      "(2048, 2592, 2)\n",
      "getting image\n",
      "(2048, 2592, 2)\n",
      "getting image\n",
      "(2048, 2592, 2)\n",
      "getting image\n",
      "(2048, 2592, 2)\n"
     ]
    },
    {
     "name": "stderr",
     "output_type": "stream",
     "text": [
      "2019-12-17 12:43:03.260Z moduleTest       20 moduleTest.py:1643 done: [ 0 12 14 16 33 40 50 52 54], 3 left\n"
     ]
    },
    {
     "name": "stdout",
     "output_type": "stream",
     "text": [
      "getting image\n",
      "(2048, 2592, 2)\n",
      "getting image\n",
      "(2048, 2592, 2)\n",
      "getting image\n",
      "(2048, 2592, 2)\n",
      "getting image\n",
      "(2048, 2592, 2)\n"
     ]
    },
    {
     "name": "stderr",
     "output_type": "stream",
     "text": [
      "2019-12-17 12:43:05.064Z moduleTest       20 moduleTest.py:1643 done: [27 28], 1 left\n"
     ]
    },
    {
     "name": "stdout",
     "output_type": "stream",
     "text": [
      "getting image\n",
      "(2048, 2592, 2)\n",
      "getting image\n",
      "(2048, 2592, 2)\n",
      "getting image\n",
      "(2048, 2592, 2)\n",
      "getting image\n",
      "(2048, 2592, 2)\n"
     ]
    },
    {
     "name": "stderr",
     "output_type": "stream",
     "text": [
      "2019-12-17 12:43:07.084Z moduleTest       20 moduleTest.py:1643 done: [56], 0 left\n",
      "2019-12-17 12:43:32.122Z moduleTest       20 moduleTest.py:1619 Run 8: angle=85.00 degree\n"
     ]
    },
    {
     "name": "stdout",
     "output_type": "stream",
     "text": [
      "getting image\n",
      "(2048, 2592, 2)\n",
      "getting image\n",
      "(2048, 2592, 2)\n",
      "getting image\n",
      "(2048, 2592, 2)\n",
      "getting image\n",
      "(2048, 2592, 2)\n",
      "getting image\n",
      "(2048, 2592, 2)\n",
      "getting image\n",
      "(2048, 2592, 2)\n",
      "getting image\n",
      "(2048, 2592, 2)\n",
      "getting image\n",
      "(2048, 2592, 2)\n"
     ]
    },
    {
     "name": "stderr",
     "output_type": "stream",
     "text": [
      "2019-12-17 12:43:40.567Z moduleTest       20 moduleTest.py:1643 done: [ 5  6 11 13 17 20 22 23 26 34 35 38 39 40 41 42 45 51 52 53 55], 36 left\n"
     ]
    },
    {
     "name": "stdout",
     "output_type": "stream",
     "text": [
      "getting image\n",
      "(2048, 2592, 2)\n",
      "getting image\n",
      "(2048, 2592, 2)\n",
      "getting image\n",
      "(2048, 2592, 2)\n",
      "getting image\n",
      "(2048, 2592, 2)\n"
     ]
    },
    {
     "name": "stderr",
     "output_type": "stream",
     "text": [
      "2019-12-17 12:43:42.751Z moduleTest       20 moduleTest.py:1643 done: [ 2  3  4  7  8  9 15 19 21 24 29 30 33 36 37 43 44 46 47 48 49], 15 left\n",
      "2019-12-17 12:43:42.753Z pfi              30 pfi.py:445 clipping (25, 'theta', 'ccw') 1.37 to 1.3529279825040295\n"
     ]
    },
    {
     "name": "stdout",
     "output_type": "stream",
     "text": [
      "getting image\n",
      "(2048, 2592, 2)\n",
      "getting image\n",
      "(2048, 2592, 2)\n",
      "getting image\n",
      "(2048, 2592, 2)\n",
      "getting image\n",
      "(2048, 2592, 2)\n"
     ]
    },
    {
     "name": "stderr",
     "output_type": "stream",
     "text": [
      "2019-12-17 12:43:44.560Z moduleTest       20 moduleTest.py:1643 done: [ 1 12 14 16 18 27 28 31 32 54 56], 4 left\n"
     ]
    },
    {
     "name": "stdout",
     "output_type": "stream",
     "text": [
      "getting image\n",
      "(2048, 2592, 2)\n",
      "getting image\n",
      "(2048, 2592, 2)\n",
      "getting image\n",
      "(2048, 2592, 2)\n",
      "getting image\n",
      "(2048, 2592, 2)\n"
     ]
    },
    {
     "name": "stderr",
     "output_type": "stream",
     "text": [
      "2019-12-17 12:43:46.585Z moduleTest       20 moduleTest.py:1643 done: [ 0 10 25 50], 0 left\n",
      "2019-12-17 12:44:11.625Z moduleTest       20 moduleTest.py:1619 Run 9: angle=95.00 degree\n"
     ]
    },
    {
     "name": "stdout",
     "output_type": "stream",
     "text": [
      "getting image\n",
      "(2048, 2592, 2)\n",
      "getting image\n",
      "(2048, 2592, 2)\n",
      "getting image\n",
      "(2048, 2592, 2)\n",
      "getting image\n",
      "(2048, 2592, 2)\n",
      "getting image\n",
      "(2048, 2592, 2)\n",
      "getting image\n",
      "(2048, 2592, 2)\n",
      "getting image\n",
      "(2048, 2592, 2)\n",
      "getting image\n",
      "(2048, 2592, 2)\n"
     ]
    },
    {
     "name": "stderr",
     "output_type": "stream",
     "text": [
      "2019-12-17 12:44:21.593Z moduleTest       20 moduleTest.py:1643 done: [ 2  9 10 12 17 21 29 39 43 45 52 53], 45 left\n"
     ]
    },
    {
     "name": "stdout",
     "output_type": "stream",
     "text": [
      "getting image\n",
      "(2048, 2592, 2)\n",
      "getting image\n",
      "(2048, 2592, 2)\n",
      "getting image\n",
      "(2048, 2592, 2)\n",
      "getting image\n",
      "(2048, 2592, 2)\n"
     ]
    },
    {
     "name": "stderr",
     "output_type": "stream",
     "text": [
      "2019-12-17 12:44:23.758Z moduleTest       20 moduleTest.py:1643 done: [ 3  5  6  8 11 13 14 15 18 19 22 24 25 26 28 30 32 35 36 38 40 41 44 46\n",
      " 47 48 49 50 51 55], 15 left\n"
     ]
    },
    {
     "name": "stdout",
     "output_type": "stream",
     "text": [
      "getting image\n",
      "(2048, 2592, 2)\n",
      "getting image\n",
      "(2048, 2592, 2)\n",
      "getting image\n",
      "(2048, 2592, 2)\n",
      "getting image\n",
      "(2048, 2592, 2)\n"
     ]
    },
    {
     "name": "stderr",
     "output_type": "stream",
     "text": [
      "2019-12-17 12:44:25.564Z moduleTest       20 moduleTest.py:1643 done: [ 0  7 16 20 23 27 31 33 34 37 54], 4 left\n"
     ]
    },
    {
     "name": "stdout",
     "output_type": "stream",
     "text": [
      "getting image\n",
      "(2048, 2592, 2)\n",
      "getting image\n",
      "(2048, 2592, 2)\n",
      "getting image\n",
      "(2048, 2592, 2)\n",
      "getting image\n",
      "(2048, 2592, 2)\n"
     ]
    },
    {
     "name": "stderr",
     "output_type": "stream",
     "text": [
      "2019-12-17 12:44:27.586Z moduleTest       20 moduleTest.py:1643 done: [ 1 42 56], 1 left\n"
     ]
    },
    {
     "name": "stdout",
     "output_type": "stream",
     "text": [
      "getting image\n",
      "(2048, 2592, 2)\n",
      "getting image\n",
      "(2048, 2592, 2)\n",
      "getting image\n",
      "(2048, 2592, 2)\n",
      "getting image\n",
      "(2048, 2592, 2)\n",
      "getting image\n",
      "(2048, 2592, 2)\n",
      "getting image\n",
      "(2048, 2592, 2)\n",
      "getting image\n",
      "(2048, 2592, 2)\n",
      "getting image\n",
      "(2048, 2592, 2)\n"
     ]
    },
    {
     "name": "stderr",
     "output_type": "stream",
     "text": [
      "2019-12-17 12:44:31.422Z moduleTest       20 moduleTest.py:1643 done: [4], 0 left\n",
      "2019-12-17 12:44:56.466Z moduleTest       20 moduleTest.py:1619 Run 10: angle=105.00 degree\n"
     ]
    },
    {
     "name": "stdout",
     "output_type": "stream",
     "text": [
      "getting image\n",
      "(2048, 2592, 2)\n",
      "getting image\n",
      "(2048, 2592, 2)\n",
      "getting image\n",
      "(2048, 2592, 2)\n",
      "getting image\n",
      "(2048, 2592, 2)\n",
      "getting image\n",
      "(2048, 2592, 2)\n",
      "getting image\n",
      "(2048, 2592, 2)\n",
      "getting image\n",
      "(2048, 2592, 2)\n",
      "getting image\n",
      "(2048, 2592, 2)\n"
     ]
    },
    {
     "name": "stderr",
     "output_type": "stream",
     "text": [
      "2019-12-17 12:45:05.923Z moduleTest       20 moduleTest.py:1643 done: [ 6  7  9 17 18 22 26 27 34 36 41 43 49 52], 43 left\n"
     ]
    },
    {
     "name": "stdout",
     "output_type": "stream",
     "text": [
      "getting image\n",
      "(2048, 2592, 2)\n",
      "getting image\n",
      "(2048, 2592, 2)\n",
      "getting image\n",
      "(2048, 2592, 2)\n",
      "getting image\n",
      "(2048, 2592, 2)\n"
     ]
    },
    {
     "name": "stderr",
     "output_type": "stream",
     "text": [
      "2019-12-17 12:45:08.094Z moduleTest       20 moduleTest.py:1643 done: [ 3  5  8 11 12 13 14 15 16 19 20 24 25 29 30 32 37 38 39 40 42 45 46 48\n",
      " 51 54 55], 16 left\n"
     ]
    },
    {
     "name": "stdout",
     "output_type": "stream",
     "text": [
      "getting image\n",
      "(2048, 2592, 2)\n",
      "getting image\n",
      "(2048, 2592, 2)\n",
      "getting image\n",
      "(2048, 2592, 2)\n",
      "getting image\n",
      "(2048, 2592, 2)\n"
     ]
    },
    {
     "name": "stderr",
     "output_type": "stream",
     "text": [
      "2019-12-17 12:45:09.906Z moduleTest       20 moduleTest.py:1643 done: [ 0  2  4 10 21 23 28 31 33 35 44 47 50 53 56], 1 left\n"
     ]
    },
    {
     "name": "stdout",
     "output_type": "stream",
     "text": [
      "getting image\n",
      "(2048, 2592, 2)\n",
      "getting image\n",
      "(2048, 2592, 2)\n",
      "getting image\n",
      "(2048, 2592, 2)\n",
      "getting image\n",
      "(2048, 2592, 2)\n"
     ]
    },
    {
     "name": "stderr",
     "output_type": "stream",
     "text": [
      "2019-12-17 12:45:11.929Z moduleTest       20 moduleTest.py:1643 done: [1], 0 left\n",
      "2019-12-17 12:45:36.976Z moduleTest       20 moduleTest.py:1619 Run 11: angle=115.00 degree\n"
     ]
    },
    {
     "name": "stdout",
     "output_type": "stream",
     "text": [
      "getting image\n",
      "(2048, 2592, 2)\n",
      "getting image\n",
      "(2048, 2592, 2)\n",
      "getting image\n",
      "(2048, 2592, 2)\n",
      "getting image\n",
      "(2048, 2592, 2)\n",
      "getting image\n",
      "(2048, 2592, 2)\n",
      "getting image\n",
      "(2048, 2592, 2)\n",
      "getting image\n",
      "(2048, 2592, 2)\n",
      "getting image\n",
      "(2048, 2592, 2)\n"
     ]
    },
    {
     "name": "stderr",
     "output_type": "stream",
     "text": [
      "2019-12-17 12:45:47.423Z moduleTest       20 moduleTest.py:1643 done: [ 6 17 18 23 25 30 37 38 39 42 44 51 53 55], 43 left\n"
     ]
    },
    {
     "name": "stdout",
     "output_type": "stream",
     "text": [
      "getting image\n",
      "(2048, 2592, 2)\n",
      "getting image\n",
      "(2048, 2592, 2)\n",
      "getting image\n",
      "(2048, 2592, 2)\n",
      "getting image\n",
      "(2048, 2592, 2)\n"
     ]
    },
    {
     "name": "stderr",
     "output_type": "stream",
     "text": [
      "2019-12-17 12:45:49.609Z moduleTest       20 moduleTest.py:1643 done: [ 4  5  8 10 11 12 14 20 21 22 24 26 29 32 34 36 40 41 43 45 46 49 52 54], 19 left\n"
     ]
    },
    {
     "name": "stdout",
     "output_type": "stream",
     "text": [
      "getting image\n",
      "(2048, 2592, 2)\n",
      "getting image\n",
      "(2048, 2592, 2)\n",
      "getting image\n",
      "(2048, 2592, 2)\n",
      "getting image\n",
      "(2048, 2592, 2)\n"
     ]
    },
    {
     "name": "stderr",
     "output_type": "stream",
     "text": [
      "2019-12-17 12:45:51.429Z moduleTest       20 moduleTest.py:1643 done: [ 1  2  3  7  9 13 16 19 27 28 31 33 35 47 48 50 56], 2 left\n"
     ]
    },
    {
     "name": "stdout",
     "output_type": "stream",
     "text": [
      "getting image\n",
      "(2048, 2592, 2)\n",
      "getting image\n",
      "(2048, 2592, 2)\n",
      "getting image\n",
      "(2048, 2592, 2)\n",
      "getting image\n",
      "(2048, 2592, 2)\n"
     ]
    },
    {
     "name": "stderr",
     "output_type": "stream",
     "text": [
      "2019-12-17 12:45:53.258Z moduleTest       20 moduleTest.py:1643 done: [ 0 15], 0 left\n",
      "2019-12-17 12:46:18.305Z moduleTest       20 moduleTest.py:1619 Run 12: angle=125.00 degree\n"
     ]
    },
    {
     "name": "stdout",
     "output_type": "stream",
     "text": [
      "getting image\n",
      "(2048, 2592, 2)\n",
      "getting image\n",
      "(2048, 2592, 2)\n",
      "getting image\n",
      "(2048, 2592, 2)\n",
      "getting image\n",
      "(2048, 2592, 2)\n",
      "getting image\n",
      "(2048, 2592, 2)\n",
      "getting image\n",
      "(2048, 2592, 2)\n",
      "getting image\n",
      "(2048, 2592, 2)\n",
      "getting image\n",
      "(2048, 2592, 2)\n"
     ]
    },
    {
     "name": "stderr",
     "output_type": "stream",
     "text": [
      "2019-12-17 12:46:29.611Z moduleTest       20 moduleTest.py:1643 done: [ 7 11 17 18 21 23 25 30 31 39 44 46 49], 44 left\n"
     ]
    },
    {
     "name": "stdout",
     "output_type": "stream",
     "text": [
      "getting image\n",
      "(2048, 2592, 2)\n",
      "getting image\n",
      "(2048, 2592, 2)\n",
      "getting image\n",
      "(2048, 2592, 2)\n",
      "getting image\n",
      "(2048, 2592, 2)\n"
     ]
    },
    {
     "name": "stderr",
     "output_type": "stream",
     "text": [
      "2019-12-17 12:46:31.776Z moduleTest       20 moduleTest.py:1643 done: [ 4  5  6  8  9 12 14 15 22 24 27 28 29 32 35 36 42 43 45 47 50 51 53 55\n",
      " 56], 19 left\n"
     ]
    },
    {
     "name": "stdout",
     "output_type": "stream",
     "text": [
      "getting image\n",
      "(2048, 2592, 2)\n",
      "getting image\n",
      "(2048, 2592, 2)\n",
      "getting image\n",
      "(2048, 2592, 2)\n",
      "getting image\n",
      "(2048, 2592, 2)\n"
     ]
    },
    {
     "name": "stderr",
     "output_type": "stream",
     "text": [
      "2019-12-17 12:46:33.608Z moduleTest       20 moduleTest.py:1643 done: [ 1  2  3 10 16 19 26 34 37 38 40 41 48 52 54], 4 left\n",
      "2019-12-17 12:46:33.610Z pfi              30 pfi.py:445 clipping (20, 'theta', 'cw') 1.93 to 1.7275157183635192\n"
     ]
    },
    {
     "name": "stdout",
     "output_type": "stream",
     "text": [
      "getting image\n",
      "(2048, 2592, 2)\n",
      "getting image\n",
      "(2048, 2592, 2)\n",
      "getting image\n",
      "(2048, 2592, 2)\n",
      "getting image\n",
      "(2048, 2592, 2)\n"
     ]
    },
    {
     "name": "stderr",
     "output_type": "stream",
     "text": [
      "2019-12-17 12:46:35.621Z moduleTest       20 moduleTest.py:1643 done: [ 0 13 20 33], 0 left\n",
      "2019-12-17 12:47:00.664Z moduleTest       20 moduleTest.py:1619 Run 13: angle=135.00 degree\n"
     ]
    },
    {
     "name": "stdout",
     "output_type": "stream",
     "text": [
      "getting image\n",
      "(2048, 2592, 2)\n",
      "getting image\n",
      "(2048, 2592, 2)\n",
      "getting image\n",
      "(2048, 2592, 2)\n",
      "getting image\n",
      "(2048, 2592, 2)\n",
      "getting image\n",
      "(2048, 2592, 2)\n",
      "getting image\n",
      "(2048, 2592, 2)\n",
      "getting image\n",
      "(2048, 2592, 2)\n",
      "getting image\n",
      "(2048, 2592, 2)\n"
     ]
    },
    {
     "name": "stderr",
     "output_type": "stream",
     "text": [
      "2019-12-17 12:47:13.630Z moduleTest       20 moduleTest.py:1643 done: [ 8  9 12 17 18 30 37 38 44 46 52], 46 left\n"
     ]
    },
    {
     "name": "stdout",
     "output_type": "stream",
     "text": [
      "getting image\n",
      "(2048, 2592, 2)\n",
      "getting image\n",
      "(2048, 2592, 2)\n",
      "getting image\n",
      "(2048, 2592, 2)\n",
      "getting image\n",
      "(2048, 2592, 2)\n"
     ]
    },
    {
     "name": "stderr",
     "output_type": "stream",
     "text": [
      "2019-12-17 12:47:15.766Z moduleTest       20 moduleTest.py:1643 done: [ 0  1  2  4  5  7 11 14 19 23 24 26 33 39 42 45 47 48 49 50 53 54 55 56], 22 left\n"
     ]
    },
    {
     "name": "stdout",
     "output_type": "stream",
     "text": [
      "getting image\n",
      "(2048, 2592, 2)\n",
      "getting image\n",
      "(2048, 2592, 2)\n",
      "getting image\n",
      "(2048, 2592, 2)\n",
      "getting image\n",
      "(2048, 2592, 2)\n"
     ]
    },
    {
     "name": "stderr",
     "output_type": "stream",
     "text": [
      "2019-12-17 12:47:17.964Z moduleTest       20 moduleTest.py:1643 done: [ 3  6 10 15 16 20 22 25 27 29 31 32 34 35 36 40 41 43 51], 3 left\n"
     ]
    },
    {
     "name": "stdout",
     "output_type": "stream",
     "text": [
      "getting image\n",
      "(2048, 2592, 2)\n",
      "getting image\n",
      "(2048, 2592, 2)\n",
      "getting image\n",
      "(2048, 2592, 2)\n",
      "getting image\n",
      "(2048, 2592, 2)\n"
     ]
    },
    {
     "name": "stderr",
     "output_type": "stream",
     "text": [
      "2019-12-17 12:47:19.778Z moduleTest       20 moduleTest.py:1643 done: [13 28], 1 left\n"
     ]
    },
    {
     "name": "stdout",
     "output_type": "stream",
     "text": [
      "getting image\n",
      "(2048, 2592, 2)\n",
      "getting image\n",
      "(2048, 2592, 2)\n",
      "getting image\n",
      "(2048, 2592, 2)\n",
      "getting image\n",
      "(2048, 2592, 2)\n"
     ]
    },
    {
     "name": "stderr",
     "output_type": "stream",
     "text": [
      "2019-12-17 12:47:21.792Z moduleTest       20 moduleTest.py:1643 done: [21], 0 left\n",
      "2019-12-17 12:47:46.830Z moduleTest       20 moduleTest.py:1619 Run 14: angle=145.00 degree\n"
     ]
    },
    {
     "name": "stdout",
     "output_type": "stream",
     "text": [
      "getting image\n",
      "(2048, 2592, 2)\n",
      "getting image\n",
      "(2048, 2592, 2)\n",
      "getting image\n",
      "(2048, 2592, 2)\n",
      "getting image\n",
      "(2048, 2592, 2)\n",
      "getting image\n",
      "(2048, 2592, 2)\n",
      "getting image\n",
      "(2048, 2592, 2)\n",
      "getting image\n",
      "(2048, 2592, 2)\n",
      "getting image\n",
      "(2048, 2592, 2)\n"
     ]
    },
    {
     "name": "stderr",
     "output_type": "stream",
     "text": [
      "2019-12-17 12:47:59.632Z moduleTest       20 moduleTest.py:1643 done: [ 2  8 11 15 26 27 31 35 42 43 44 53], 45 left\n"
     ]
    },
    {
     "name": "stdout",
     "output_type": "stream",
     "text": [
      "getting image\n",
      "(2048, 2592, 2)\n",
      "getting image\n",
      "(2048, 2592, 2)\n",
      "getting image\n",
      "(2048, 2592, 2)\n",
      "getting image\n",
      "(2048, 2592, 2)\n"
     ]
    },
    {
     "name": "stderr",
     "output_type": "stream",
     "text": [
      "2019-12-17 12:48:01.804Z moduleTest       20 moduleTest.py:1643 done: [ 1  4  7  9 10 12 17 18 19 23 24 25 28 30 34 36 37 38 39 41 45 46 47 48\n",
      " 49 51 54 55], 17 left\n"
     ]
    },
    {
     "name": "stdout",
     "output_type": "stream",
     "text": [
      "getting image\n",
      "(2048, 2592, 2)\n",
      "getting image\n",
      "(2048, 2592, 2)\n",
      "getting image\n",
      "(2048, 2592, 2)\n",
      "getting image\n",
      "(2048, 2592, 2)\n"
     ]
    },
    {
     "name": "stderr",
     "output_type": "stream",
     "text": [
      "2019-12-17 12:48:03.802Z moduleTest       20 moduleTest.py:1643 done: [ 3  5  6 13 14 20 21 22 29 32 33 40 50 52 56], 2 left\n"
     ]
    },
    {
     "name": "stdout",
     "output_type": "stream",
     "text": [
      "getting image\n",
      "(2048, 2592, 2)\n",
      "getting image\n",
      "(2048, 2592, 2)\n",
      "getting image\n",
      "(2048, 2592, 2)\n",
      "getting image\n",
      "(2048, 2592, 2)\n"
     ]
    },
    {
     "name": "stderr",
     "output_type": "stream",
     "text": [
      "2019-12-17 12:48:05.636Z moduleTest       20 moduleTest.py:1643 done: [ 0 16], 0 left\n",
      "2019-12-17 12:48:30.674Z moduleTest       20 moduleTest.py:1619 Run 15: angle=155.00 degree\n"
     ]
    },
    {
     "name": "stdout",
     "output_type": "stream",
     "text": [
      "getting image\n",
      "(2048, 2592, 2)\n",
      "getting image\n",
      "(2048, 2592, 2)\n",
      "getting image\n",
      "(2048, 2592, 2)\n",
      "getting image\n",
      "(2048, 2592, 2)\n",
      "getting image\n",
      "(2048, 2592, 2)\n",
      "getting image\n",
      "(2048, 2592, 2)\n",
      "getting image\n",
      "(2048, 2592, 2)\n",
      "getting image\n",
      "(2048, 2592, 2)\n"
     ]
    },
    {
     "name": "stderr",
     "output_type": "stream",
     "text": [
      "2019-12-17 12:48:44.127Z moduleTest       20 moduleTest.py:1643 done: [ 8  9 27 29 31 34 36 39 44 52 53], 46 left\n"
     ]
    },
    {
     "name": "stdout",
     "output_type": "stream",
     "text": [
      "getting image\n",
      "(2048, 2592, 2)\n",
      "getting image\n",
      "(2048, 2592, 2)\n",
      "getting image\n",
      "(2048, 2592, 2)\n",
      "getting image\n",
      "(2048, 2592, 2)\n"
     ]
    },
    {
     "name": "stderr",
     "output_type": "stream",
     "text": [
      "2019-12-17 12:48:46.295Z moduleTest       20 moduleTest.py:1643 done: [ 1  4  5  7 12 16 17 19 22 23 25 26 28 32 33 37 38 42 43 46 48 49 50 51\n",
      " 54], 21 left\n"
     ]
    },
    {
     "name": "stdout",
     "output_type": "stream",
     "text": [
      "getting image\n",
      "(2048, 2592, 2)\n",
      "getting image\n",
      "(2048, 2592, 2)\n",
      "getting image\n",
      "(2048, 2592, 2)\n",
      "getting image\n",
      "(2048, 2592, 2)\n"
     ]
    },
    {
     "name": "stderr",
     "output_type": "stream",
     "text": [
      "2019-12-17 12:48:48.324Z moduleTest       20 moduleTest.py:1643 done: [ 0  2  3  6 10 13 14 15 18 20 24 30 35 40 41 45 47 55 56], 2 left\n"
     ]
    },
    {
     "name": "stdout",
     "output_type": "stream",
     "text": [
      "getting image\n",
      "(2048, 2592, 2)\n",
      "getting image\n",
      "(2048, 2592, 2)\n",
      "getting image\n",
      "(2048, 2592, 2)\n",
      "getting image\n",
      "(2048, 2592, 2)\n"
     ]
    },
    {
     "name": "stderr",
     "output_type": "stream",
     "text": [
      "2019-12-17 12:48:50.126Z moduleTest       20 moduleTest.py:1643 done: [11], 1 left\n"
     ]
    },
    {
     "name": "stdout",
     "output_type": "stream",
     "text": [
      "getting image\n",
      "(2048, 2592, 2)\n",
      "getting image\n",
      "(2048, 2592, 2)\n",
      "getting image\n",
      "(2048, 2592, 2)\n",
      "getting image\n",
      "(2048, 2592, 2)\n",
      "getting image\n",
      "(2048, 2592, 2)\n",
      "getting image\n",
      "(2048, 2592, 2)\n",
      "getting image\n",
      "(2048, 2592, 2)\n",
      "getting image\n",
      "(2048, 2592, 2)\n"
     ]
    },
    {
     "name": "stderr",
     "output_type": "stream",
     "text": [
      "2019-12-17 12:48:53.970Z moduleTest       20 moduleTest.py:1643 done: [21], 0 left\n",
      "2019-12-17 12:49:19.014Z moduleTest       20 moduleTest.py:1619 Run 16: angle=165.00 degree\n"
     ]
    },
    {
     "name": "stdout",
     "output_type": "stream",
     "text": [
      "getting image\n",
      "(2048, 2592, 2)\n",
      "getting image\n",
      "(2048, 2592, 2)\n",
      "getting image\n",
      "(2048, 2592, 2)\n",
      "getting image\n",
      "(2048, 2592, 2)\n",
      "getting image\n",
      "(2048, 2592, 2)\n",
      "getting image\n",
      "(2048, 2592, 2)\n",
      "getting image\n",
      "(2048, 2592, 2)\n",
      "getting image\n",
      "(2048, 2592, 2)\n"
     ]
    },
    {
     "name": "stderr",
     "output_type": "stream",
     "text": [
      "2019-12-17 12:49:33.125Z moduleTest       20 moduleTest.py:1643 done: [ 7 17 28 37 39 41 48 50 52], 48 left\n"
     ]
    },
    {
     "name": "stdout",
     "output_type": "stream",
     "text": [
      "getting image\n",
      "(2048, 2592, 2)\n",
      "getting image\n",
      "(2048, 2592, 2)\n",
      "getting image\n",
      "(2048, 2592, 2)\n",
      "getting image\n",
      "(2048, 2592, 2)\n"
     ]
    },
    {
     "name": "stderr",
     "output_type": "stream",
     "text": [
      "2019-12-17 12:49:35.476Z moduleTest       20 moduleTest.py:1643 done: [ 1  2  6  8  9 10 11 12 14 15 16 19 20 22 26 27 29 31 32 36 38 43 44 45\n",
      " 47 49 53], 21 left\n"
     ]
    },
    {
     "name": "stdout",
     "output_type": "stream",
     "text": [
      "getting image\n",
      "(2048, 2592, 2)\n",
      "getting image\n",
      "(2048, 2592, 2)\n",
      "getting image\n",
      "(2048, 2592, 2)\n",
      "getting image\n",
      "(2048, 2592, 2)\n"
     ]
    },
    {
     "name": "stderr",
     "output_type": "stream",
     "text": [
      "2019-12-17 12:49:37.480Z moduleTest       20 moduleTest.py:1643 done: [ 4 13 18 21 23 24 25 30 33 34 42 46 51 54 55 56], 5 left\n"
     ]
    },
    {
     "name": "stdout",
     "output_type": "stream",
     "text": [
      "getting image\n",
      "(2048, 2592, 2)\n",
      "getting image\n",
      "(2048, 2592, 2)\n",
      "getting image\n",
      "(2048, 2592, 2)\n",
      "getting image\n",
      "(2048, 2592, 2)\n"
     ]
    },
    {
     "name": "stderr",
     "output_type": "stream",
     "text": [
      "2019-12-17 12:49:39.307Z moduleTest       20 moduleTest.py:1643 done: [ 0  3  5 35 40], 0 left\n",
      "2019-12-17 12:50:04.350Z moduleTest       20 moduleTest.py:1619 Run 17: angle=175.00 degree\n"
     ]
    },
    {
     "name": "stdout",
     "output_type": "stream",
     "text": [
      "getting image\n",
      "(2048, 2592, 2)\n",
      "getting image\n",
      "(2048, 2592, 2)\n",
      "getting image\n",
      "(2048, 2592, 2)\n",
      "getting image\n",
      "(2048, 2592, 2)\n",
      "getting image\n",
      "(2048, 2592, 2)\n",
      "getting image\n",
      "(2048, 2592, 2)\n",
      "getting image\n",
      "(2048, 2592, 2)\n",
      "getting image\n",
      "(2048, 2592, 2)\n"
     ]
    },
    {
     "name": "stderr",
     "output_type": "stream",
     "text": [
      "2019-12-17 12:50:19.316Z moduleTest       20 moduleTest.py:1643 done: [26 33 34 48 54], 52 left\n"
     ]
    },
    {
     "name": "stdout",
     "output_type": "stream",
     "text": [
      "getting image\n",
      "(2048, 2592, 2)\n",
      "getting image\n",
      "(2048, 2592, 2)\n",
      "getting image\n",
      "(2048, 2592, 2)\n",
      "getting image\n",
      "(2048, 2592, 2)\n"
     ]
    },
    {
     "name": "stderr",
     "output_type": "stream",
     "text": [
      "2019-12-17 12:50:21.808Z moduleTest       20 moduleTest.py:1643 done: [ 2  3  6  7 12 14 15 17 18 19 20 23 28 29 30 31 32 35 36 37 38 39 41 42\n",
      " 43 44 46 47 49 50 51 52 53 55], 18 left\n"
     ]
    },
    {
     "name": "stdout",
     "output_type": "stream",
     "text": [
      "getting image\n",
      "(2048, 2592, 2)\n",
      "getting image\n",
      "(2048, 2592, 2)\n",
      "getting image\n",
      "(2048, 2592, 2)\n",
      "getting image\n",
      "(2048, 2592, 2)\n"
     ]
    },
    {
     "name": "stderr",
     "output_type": "stream",
     "text": [
      "2019-12-17 12:50:23.989Z moduleTest       20 moduleTest.py:1643 done: [ 1  5  9 10 11 16 21 22 24 27 56], 7 left\n"
     ]
    },
    {
     "name": "stdout",
     "output_type": "stream",
     "text": [
      "getting image\n",
      "(2048, 2592, 2)\n",
      "getting image\n",
      "(2048, 2592, 2)\n",
      "getting image\n",
      "(2048, 2592, 2)\n",
      "getting image\n",
      "(2048, 2592, 2)\n"
     ]
    },
    {
     "name": "stderr",
     "output_type": "stream",
     "text": [
      "2019-12-17 12:50:26.157Z moduleTest       20 moduleTest.py:1643 done: [ 0  4  8 13 25 45], 1 left\n"
     ]
    },
    {
     "name": "stdout",
     "output_type": "stream",
     "text": [
      "getting image\n",
      "(2048, 2592, 2)\n",
      "getting image\n",
      "(2048, 2592, 2)\n",
      "getting image\n",
      "(2048, 2592, 2)\n",
      "getting image\n",
      "(2048, 2592, 2)\n",
      "getting image\n",
      "(2048, 2592, 2)\n",
      "getting image\n",
      "(2048, 2592, 2)\n",
      "getting image\n",
      "(2048, 2592, 2)\n",
      "getting image\n",
      "(2048, 2592, 2)\n"
     ]
    },
    {
     "name": "stderr",
     "output_type": "stream",
     "text": [
      "2019-12-17 12:50:29.996Z moduleTest       20 moduleTest.py:1643 done: [40], 0 left\n",
      "2019-12-17 12:50:55.034Z moduleTest       20 moduleTest.py:1619 Run 18: angle=185.00 degree\n"
     ]
    },
    {
     "name": "stdout",
     "output_type": "stream",
     "text": [
      "getting image\n",
      "(2048, 2592, 2)\n",
      "getting image\n",
      "(2048, 2592, 2)\n",
      "getting image\n",
      "(2048, 2592, 2)\n",
      "getting image\n",
      "(2048, 2592, 2)\n",
      "getting image\n",
      "(2048, 2592, 2)\n",
      "getting image\n",
      "(2048, 2592, 2)\n",
      "getting image\n",
      "(2048, 2592, 2)\n",
      "getting image\n",
      "(2048, 2592, 2)\n"
     ]
    },
    {
     "name": "stderr",
     "output_type": "stream",
     "text": [
      "2019-12-17 12:51:10.496Z moduleTest       20 moduleTest.py:1643 done: [15 19 25 30 33 39 41 42 48], 48 left\n"
     ]
    },
    {
     "name": "stdout",
     "output_type": "stream",
     "text": [
      "getting image\n",
      "(2048, 2592, 2)\n",
      "getting image\n",
      "(2048, 2592, 2)\n",
      "getting image\n",
      "(2048, 2592, 2)\n",
      "getting image\n",
      "(2048, 2592, 2)\n"
     ]
    },
    {
     "name": "stderr",
     "output_type": "stream",
     "text": [
      "2019-12-17 12:51:13.340Z moduleTest       20 moduleTest.py:1643 done: [ 1  2  3  5  7  9 11 12 16 18 21 23 27 28 29 34 35 36 38 44 49 50 52 54\n",
      " 55 56], 22 left\n"
     ]
    },
    {
     "name": "stdout",
     "output_type": "stream",
     "text": [
      "getting image\n",
      "(2048, 2592, 2)\n",
      "getting image\n",
      "(2048, 2592, 2)\n",
      "getting image\n",
      "(2048, 2592, 2)\n",
      "getting image\n",
      "(2048, 2592, 2)\n"
     ]
    },
    {
     "name": "stderr",
     "output_type": "stream",
     "text": [
      "2019-12-17 12:51:15.484Z moduleTest       20 moduleTest.py:1643 done: [ 4  6  8 10 13 14 17 20 24 26 32 37 43 45 46 47 51], 5 left\n"
     ]
    },
    {
     "name": "stdout",
     "output_type": "stream",
     "text": [
      "getting image\n",
      "(2048, 2592, 2)\n",
      "getting image\n",
      "(2048, 2592, 2)\n",
      "getting image\n",
      "(2048, 2592, 2)\n",
      "getting image\n",
      "(2048, 2592, 2)\n"
     ]
    },
    {
     "name": "stderr",
     "output_type": "stream",
     "text": [
      "2019-12-17 12:51:17.316Z moduleTest       20 moduleTest.py:1643 done: [ 0 22 31 40 53], 0 left\n",
      "2019-12-17 12:51:42.354Z moduleTest       20 moduleTest.py:1619 Run 19: angle=195.00 degree\n"
     ]
    },
    {
     "name": "stdout",
     "output_type": "stream",
     "text": [
      "getting image\n",
      "(2048, 2592, 2)\n",
      "getting image\n",
      "(2048, 2592, 2)\n",
      "getting image\n",
      "(2048, 2592, 2)\n",
      "getting image\n",
      "(2048, 2592, 2)\n",
      "getting image\n",
      "(2048, 2592, 2)\n",
      "getting image\n",
      "(2048, 2592, 2)\n",
      "getting image\n",
      "(2048, 2592, 2)\n",
      "getting image\n",
      "(2048, 2592, 2)\n"
     ]
    },
    {
     "name": "stderr",
     "output_type": "stream",
     "text": [
      "2019-12-17 12:51:58.177Z moduleTest       20 moduleTest.py:1643 done: [16 17 21 24 26 29 30 33 38 40 48], 46 left\n"
     ]
    },
    {
     "name": "stdout",
     "output_type": "stream",
     "text": [
      "getting image\n",
      "(2048, 2592, 2)\n",
      "getting image\n",
      "(2048, 2592, 2)\n",
      "getting image\n",
      "(2048, 2592, 2)\n",
      "getting image\n",
      "(2048, 2592, 2)\n"
     ]
    },
    {
     "name": "stderr",
     "output_type": "stream",
     "text": [
      "2019-12-17 12:52:00.833Z moduleTest       20 moduleTest.py:1643 done: [ 2  3  5  7 11 12 15 18 19 28 34 35 36 39 41 43 44 47 49 54 55 56], 24 left\n"
     ]
    },
    {
     "name": "stdout",
     "output_type": "stream",
     "text": [
      "getting image\n",
      "(2048, 2592, 2)\n",
      "getting image\n",
      "(2048, 2592, 2)\n",
      "getting image\n",
      "(2048, 2592, 2)\n",
      "getting image\n",
      "(2048, 2592, 2)\n"
     ]
    },
    {
     "name": "stderr",
     "output_type": "stream",
     "text": [
      "2019-12-17 12:52:03.072Z moduleTest       20 moduleTest.py:1643 done: [ 4  9 13 14 20 22 23 25 31 32 37 42 45 46 52], 9 left\n"
     ]
    },
    {
     "name": "stdout",
     "output_type": "stream",
     "text": [
      "getting image\n",
      "(2048, 2592, 2)\n",
      "getting image\n",
      "(2048, 2592, 2)\n",
      "getting image\n",
      "(2048, 2592, 2)\n",
      "getting image\n",
      "(2048, 2592, 2)\n"
     ]
    },
    {
     "name": "stderr",
     "output_type": "stream",
     "text": [
      "2019-12-17 12:52:05.219Z moduleTest       20 moduleTest.py:1643 done: [ 1  6  8 10 50 51 53], 2 left\n"
     ]
    },
    {
     "name": "stdout",
     "output_type": "stream",
     "text": [
      "getting image\n",
      "(2048, 2592, 2)\n",
      "getting image\n",
      "(2048, 2592, 2)\n",
      "getting image\n",
      "(2048, 2592, 2)\n",
      "getting image\n",
      "(2048, 2592, 2)\n"
     ]
    },
    {
     "name": "stderr",
     "output_type": "stream",
     "text": [
      "2019-12-17 12:52:07.023Z moduleTest       20 moduleTest.py:1643 done: [0], 1 left\n"
     ]
    },
    {
     "name": "stdout",
     "output_type": "stream",
     "text": [
      "getting image\n",
      "(2048, 2592, 2)\n",
      "getting image\n",
      "(2048, 2592, 2)\n",
      "getting image\n",
      "(2048, 2592, 2)\n",
      "getting image\n",
      "(2048, 2592, 2)\n"
     ]
    },
    {
     "name": "stderr",
     "output_type": "stream",
     "text": [
      "2019-12-17 12:52:08.844Z moduleTest       20 moduleTest.py:1643 done: [27], 0 left\n",
      "2019-12-17 12:52:33.882Z moduleTest       20 moduleTest.py:1619 Run 20: angle=205.00 degree\n"
     ]
    },
    {
     "name": "stdout",
     "output_type": "stream",
     "text": [
      "getting image\n",
      "(2048, 2592, 2)\n",
      "getting image\n",
      "(2048, 2592, 2)\n",
      "getting image\n",
      "(2048, 2592, 2)\n",
      "getting image\n",
      "(2048, 2592, 2)\n",
      "getting image\n",
      "(2048, 2592, 2)\n",
      "getting image\n",
      "(2048, 2592, 2)\n",
      "getting image\n",
      "(2048, 2592, 2)\n",
      "getting image\n",
      "(2048, 2592, 2)\n"
     ]
    },
    {
     "name": "stderr",
     "output_type": "stream",
     "text": [
      "2019-12-17 12:52:49.686Z moduleTest       20 moduleTest.py:1643 done: [ 3 11 12 38 39 42 49 54], 49 left\n"
     ]
    },
    {
     "name": "stdout",
     "output_type": "stream",
     "text": [
      "getting image\n",
      "(2048, 2592, 2)\n",
      "getting image\n",
      "(2048, 2592, 2)\n",
      "getting image\n",
      "(2048, 2592, 2)\n",
      "getting image\n",
      "(2048, 2592, 2)\n"
     ]
    },
    {
     "name": "stderr",
     "output_type": "stream",
     "text": [
      "2019-12-17 12:52:52.345Z moduleTest       20 moduleTest.py:1643 done: [ 2  5 13 16 17 18 19 20 24 25 26 27 28 29 30 31 33 35 36 41 43 44 45 47\n",
      " 48 52], 23 left\n"
     ]
    },
    {
     "name": "stdout",
     "output_type": "stream",
     "text": [
      "getting image\n",
      "(2048, 2592, 2)\n",
      "getting image\n",
      "(2048, 2592, 2)\n",
      "getting image\n",
      "(2048, 2592, 2)\n",
      "getting image\n",
      "(2048, 2592, 2)\n"
     ]
    },
    {
     "name": "stderr",
     "output_type": "stream",
     "text": [
      "2019-12-17 12:52:54.541Z moduleTest       20 moduleTest.py:1643 done: [ 1  6  7  8  9 10 14 22 32 34 46 50 51 55 56], 8 left\n"
     ]
    },
    {
     "name": "stdout",
     "output_type": "stream",
     "text": [
      "getting image\n",
      "(2048, 2592, 2)\n",
      "getting image\n",
      "(2048, 2592, 2)\n",
      "getting image\n",
      "(2048, 2592, 2)\n",
      "getting image\n",
      "(2048, 2592, 2)\n"
     ]
    },
    {
     "name": "stderr",
     "output_type": "stream",
     "text": [
      "2019-12-17 12:52:56.348Z moduleTest       20 moduleTest.py:1643 done: [ 0  4 15 21 23 37 40 53], 0 left\n",
      "2019-12-17 12:53:21.385Z moduleTest       20 moduleTest.py:1619 Run 21: angle=215.00 degree\n"
     ]
    },
    {
     "name": "stdout",
     "output_type": "stream",
     "text": [
      "getting image\n",
      "(2048, 2592, 2)\n",
      "getting image\n",
      "(2048, 2592, 2)\n",
      "getting image\n",
      "(2048, 2592, 2)\n",
      "getting image\n",
      "(2048, 2592, 2)\n",
      "getting image\n",
      "(2048, 2592, 2)\n",
      "getting image\n",
      "(2048, 2592, 2)\n",
      "getting image\n",
      "(2048, 2592, 2)\n",
      "getting image\n",
      "(2048, 2592, 2)\n"
     ]
    },
    {
     "name": "stderr",
     "output_type": "stream",
     "text": [
      "2019-12-17 12:53:38.510Z moduleTest       20 moduleTest.py:1643 done: [ 2  3  5 12 15 29 35 36 38 41 49 53], 45 left\n"
     ]
    },
    {
     "name": "stdout",
     "output_type": "stream",
     "text": [
      "getting image\n",
      "(2048, 2592, 2)\n",
      "getting image\n",
      "(2048, 2592, 2)\n",
      "getting image\n",
      "(2048, 2592, 2)\n",
      "getting image\n",
      "(2048, 2592, 2)\n"
     ]
    },
    {
     "name": "stderr",
     "output_type": "stream",
     "text": [
      "2019-12-17 12:53:40.864Z moduleTest       20 moduleTest.py:1643 done: [ 1  6  7 11 13 16 17 18 19 20 24 25 26 27 28 39 42 43 44 48 52 54], 23 left\n"
     ]
    },
    {
     "name": "stdout",
     "output_type": "stream",
     "text": [
      "getting image\n",
      "(2048, 2592, 2)\n",
      "getting image\n",
      "(2048, 2592, 2)\n",
      "getting image\n",
      "(2048, 2592, 2)\n",
      "getting image\n",
      "(2048, 2592, 2)\n"
     ]
    },
    {
     "name": "stderr",
     "output_type": "stream",
     "text": [
      "2019-12-17 12:53:43.021Z moduleTest       20 moduleTest.py:1643 done: [ 4  9 10 21 30 34 45 46 50 51], 13 left\n"
     ]
    },
    {
     "name": "stdout",
     "output_type": "stream",
     "text": [
      "getting image\n",
      "(2048, 2592, 2)\n",
      "getting image\n",
      "(2048, 2592, 2)\n",
      "getting image\n",
      "(2048, 2592, 2)\n",
      "getting image\n",
      "(2048, 2592, 2)\n"
     ]
    },
    {
     "name": "stderr",
     "output_type": "stream",
     "text": [
      "2019-12-17 12:53:44.858Z moduleTest       20 moduleTest.py:1643 done: [ 0 14 22 23 31 32 37 40 55 56], 3 left\n"
     ]
    },
    {
     "name": "stdout",
     "output_type": "stream",
     "text": [
      "getting image\n",
      "(2048, 2592, 2)\n",
      "getting image\n",
      "(2048, 2592, 2)\n",
      "getting image\n",
      "(2048, 2592, 2)\n",
      "getting image\n",
      "(2048, 2592, 2)\n"
     ]
    },
    {
     "name": "stderr",
     "output_type": "stream",
     "text": [
      "2019-12-17 12:53:46.773Z moduleTest       20 moduleTest.py:1643 done: [ 8 33 47], 0 left\n",
      "2019-12-17 12:54:11.811Z moduleTest       20 moduleTest.py:1619 Run 22: angle=225.00 degree\n"
     ]
    },
    {
     "name": "stdout",
     "output_type": "stream",
     "text": [
      "getting image\n",
      "(2048, 2592, 2)\n",
      "getting image\n",
      "(2048, 2592, 2)\n",
      "getting image\n",
      "(2048, 2592, 2)\n",
      "getting image\n",
      "(2048, 2592, 2)\n",
      "getting image\n",
      "(2048, 2592, 2)\n",
      "getting image\n",
      "(2048, 2592, 2)\n",
      "getting image\n",
      "(2048, 2592, 2)\n",
      "getting image\n",
      "(2048, 2592, 2)\n"
     ]
    },
    {
     "name": "stderr",
     "output_type": "stream",
     "text": [
      "2019-12-17 12:54:29.532Z moduleTest       20 moduleTest.py:1643 done: [ 3 13 18 20 27 28 29 31 36 39 48 49 52], 44 left\n"
     ]
    },
    {
     "name": "stdout",
     "output_type": "stream",
     "text": [
      "getting image\n",
      "(2048, 2592, 2)\n",
      "getting image\n",
      "(2048, 2592, 2)\n",
      "getting image\n",
      "(2048, 2592, 2)\n",
      "getting image\n",
      "(2048, 2592, 2)\n"
     ]
    },
    {
     "name": "stderr",
     "output_type": "stream",
     "text": [
      "2019-12-17 12:54:32.688Z moduleTest       20 moduleTest.py:1643 done: [ 1  2  5  7 11 17 19 21 22 23 24 26 30 33 35 38 40 41 46 47 50 56], 22 left\n"
     ]
    },
    {
     "name": "stdout",
     "output_type": "stream",
     "text": [
      "getting image\n",
      "(2048, 2592, 2)\n",
      "getting image\n",
      "(2048, 2592, 2)\n",
      "getting image\n",
      "(2048, 2592, 2)\n",
      "getting image\n",
      "(2048, 2592, 2)\n"
     ]
    },
    {
     "name": "stderr",
     "output_type": "stream",
     "text": [
      "2019-12-17 12:54:35.861Z moduleTest       20 moduleTest.py:1643 done: [ 8  9 10 12 16 34 43 44 51 53], 12 left\n"
     ]
    },
    {
     "name": "stdout",
     "output_type": "stream",
     "text": [
      "getting image\n",
      "(2048, 2592, 2)\n",
      "getting image\n",
      "(2048, 2592, 2)\n",
      "getting image\n",
      "(2048, 2592, 2)\n",
      "getting image\n",
      "(2048, 2592, 2)\n"
     ]
    },
    {
     "name": "stderr",
     "output_type": "stream",
     "text": [
      "2019-12-17 12:54:38.865Z moduleTest       20 moduleTest.py:1643 done: [ 0  6 15 25 32 37 42 45 54], 3 left\n"
     ]
    },
    {
     "name": "stdout",
     "output_type": "stream",
     "text": [
      "getting image\n",
      "(2048, 2592, 2)\n",
      "getting image\n",
      "(2048, 2592, 2)\n",
      "getting image\n",
      "(2048, 2592, 2)\n",
      "getting image\n",
      "(2048, 2592, 2)\n"
     ]
    },
    {
     "name": "stderr",
     "output_type": "stream",
     "text": [
      "2019-12-17 12:54:41.050Z moduleTest       20 moduleTest.py:1643 done: [14 55], 1 left\n"
     ]
    },
    {
     "name": "stdout",
     "output_type": "stream",
     "text": [
      "getting image\n",
      "(2048, 2592, 2)\n",
      "getting image\n",
      "(2048, 2592, 2)\n",
      "getting image\n",
      "(2048, 2592, 2)\n",
      "getting image\n",
      "(2048, 2592, 2)\n"
     ]
    },
    {
     "name": "stderr",
     "output_type": "stream",
     "text": [
      "2019-12-17 12:54:42.879Z moduleTest       20 moduleTest.py:1643 done: [4], 0 left\n",
      "2019-12-17 12:55:07.916Z moduleTest       20 moduleTest.py:1619 Run 23: angle=235.00 degree\n"
     ]
    },
    {
     "name": "stdout",
     "output_type": "stream",
     "text": [
      "getting image\n",
      "(2048, 2592, 2)\n",
      "getting image\n",
      "(2048, 2592, 2)\n",
      "getting image\n",
      "(2048, 2592, 2)\n",
      "getting image\n",
      "(2048, 2592, 2)\n",
      "getting image\n",
      "(2048, 2592, 2)\n",
      "getting image\n",
      "(2048, 2592, 2)\n",
      "getting image\n",
      "(2048, 2592, 2)\n",
      "getting image\n",
      "(2048, 2592, 2)\n"
     ]
    },
    {
     "name": "stderr",
     "output_type": "stream",
     "text": [
      "2019-12-17 12:55:26.191Z moduleTest       20 moduleTest.py:1643 done: [11 20 23 35 48 52 53], 50 left\n"
     ]
    },
    {
     "name": "stdout",
     "output_type": "stream",
     "text": [
      "getting image\n",
      "(2048, 2592, 2)\n",
      "getting image\n",
      "(2048, 2592, 2)\n",
      "getting image\n",
      "(2048, 2592, 2)\n",
      "getting image\n",
      "(2048, 2592, 2)\n"
     ]
    },
    {
     "name": "stderr",
     "output_type": "stream",
     "text": [
      "2019-12-17 12:55:28.868Z moduleTest       20 moduleTest.py:1643 done: [ 5  6  7 12 15 16 17 18 19 24 25 26 27 28 29 30 31 37 38 41 43 45 51 55\n",
      " 56], 25 left\n",
      "2019-12-17 12:55:28.870Z pfi              30 pfi.py:445 clipping (2, 'theta', 'cw') 1.59 to 1.4545454545454544\n"
     ]
    },
    {
     "name": "stdout",
     "output_type": "stream",
     "text": [
      "getting image\n",
      "(2048, 2592, 2)\n",
      "getting image\n",
      "(2048, 2592, 2)\n",
      "getting image\n",
      "(2048, 2592, 2)\n",
      "getting image\n",
      "(2048, 2592, 2)\n"
     ]
    },
    {
     "name": "stderr",
     "output_type": "stream",
     "text": [
      "2019-12-17 12:55:31.211Z moduleTest       20 moduleTest.py:1643 done: [ 1 13 21 32 33 34 36 39 40 42 44 46 47 49 50 54], 9 left\n"
     ]
    },
    {
     "name": "stdout",
     "output_type": "stream",
     "text": [
      "getting image\n",
      "(2048, 2592, 2)\n",
      "getting image\n",
      "(2048, 2592, 2)\n",
      "getting image\n",
      "(2048, 2592, 2)\n",
      "getting image\n",
      "(2048, 2592, 2)\n"
     ]
    },
    {
     "name": "stderr",
     "output_type": "stream",
     "text": [
      "2019-12-17 12:55:33.039Z moduleTest       20 moduleTest.py:1643 done: [ 0  2  3  4  8  9 10 14 22], 0 left\n",
      "2019-12-17 12:55:58.080Z moduleTest       20 moduleTest.py:1619 Run 24: angle=245.00 degree\n"
     ]
    },
    {
     "name": "stdout",
     "output_type": "stream",
     "text": [
      "getting image\n",
      "(2048, 2592, 2)\n",
      "getting image\n",
      "(2048, 2592, 2)\n",
      "getting image\n",
      "(2048, 2592, 2)\n",
      "getting image\n",
      "(2048, 2592, 2)\n",
      "getting image\n",
      "(2048, 2592, 2)\n",
      "getting image\n",
      "(2048, 2592, 2)\n",
      "getting image\n",
      "(2048, 2592, 2)\n",
      "getting image\n",
      "(2048, 2592, 2)\n"
     ]
    },
    {
     "name": "stderr",
     "output_type": "stream",
     "text": [
      "2019-12-17 12:56:17.070Z moduleTest       20 moduleTest.py:1643 done: [ 7 13 16 18 19 26 52], 50 left\n"
     ]
    },
    {
     "name": "stdout",
     "output_type": "stream",
     "text": [
      "getting image\n",
      "(2048, 2592, 2)\n",
      "getting image\n",
      "(2048, 2592, 2)\n",
      "getting image\n",
      "(2048, 2592, 2)\n",
      "getting image\n",
      "(2048, 2592, 2)\n"
     ]
    },
    {
     "name": "stderr",
     "output_type": "stream",
     "text": [
      "2019-12-17 12:56:19.699Z moduleTest       20 moduleTest.py:1643 done: [ 3  4  5  6  9 11 15 17 23 25 27 28 29 30 34 36 39 40 41 44 48], 29 left\n"
     ]
    },
    {
     "name": "stdout",
     "output_type": "stream",
     "text": [
      "getting image\n",
      "(2048, 2592, 2)\n",
      "getting image\n",
      "(2048, 2592, 2)\n",
      "getting image\n",
      "(2048, 2592, 2)\n",
      "getting image\n",
      "(2048, 2592, 2)\n"
     ]
    },
    {
     "name": "stderr",
     "output_type": "stream",
     "text": [
      "2019-12-17 12:56:21.897Z moduleTest       20 moduleTest.py:1643 done: [ 1  2 10 12 14 20 21 24 31 32 35 37 38 42 43 45 46 49 51 53 54 55 56], 6 left\n"
     ]
    },
    {
     "name": "stdout",
     "output_type": "stream",
     "text": [
      "getting image\n",
      "(2048, 2592, 2)\n",
      "getting image\n",
      "(2048, 2592, 2)\n",
      "getting image\n",
      "(2048, 2592, 2)\n",
      "getting image\n",
      "(2048, 2592, 2)\n"
     ]
    },
    {
     "name": "stderr",
     "output_type": "stream",
     "text": [
      "2019-12-17 12:56:24.077Z moduleTest       20 moduleTest.py:1643 done: [8], 5 left\n"
     ]
    },
    {
     "name": "stdout",
     "output_type": "stream",
     "text": [
      "getting image\n",
      "(2048, 2592, 2)\n",
      "getting image\n",
      "(2048, 2592, 2)\n",
      "getting image\n",
      "(2048, 2592, 2)\n",
      "getting image\n",
      "(2048, 2592, 2)\n"
     ]
    },
    {
     "name": "stderr",
     "output_type": "stream",
     "text": [
      "2019-12-17 12:56:26.219Z moduleTest       20 moduleTest.py:1643 done: [ 0 22 47 50], 1 left\n"
     ]
    },
    {
     "name": "stdout",
     "output_type": "stream",
     "text": [
      "getting image\n",
      "(2048, 2592, 2)\n",
      "getting image\n",
      "(2048, 2592, 2)\n",
      "getting image\n",
      "(2048, 2592, 2)\n",
      "getting image\n",
      "(2048, 2592, 2)\n"
     ]
    },
    {
     "name": "stderr",
     "output_type": "stream",
     "text": [
      "2019-12-17 12:56:28.067Z moduleTest       20 moduleTest.py:1643 done: [33], 0 left\n",
      "2019-12-17 12:56:53.110Z moduleTest       20 moduleTest.py:1619 Run 25: angle=255.00 degree\n"
     ]
    },
    {
     "name": "stdout",
     "output_type": "stream",
     "text": [
      "getting image\n",
      "(2048, 2592, 2)\n",
      "getting image\n",
      "(2048, 2592, 2)\n",
      "getting image\n",
      "(2048, 2592, 2)\n",
      "getting image\n",
      "(2048, 2592, 2)\n",
      "getting image\n",
      "(2048, 2592, 2)\n",
      "getting image\n",
      "(2048, 2592, 2)\n",
      "getting image\n",
      "(2048, 2592, 2)\n",
      "getting image\n",
      "(2048, 2592, 2)\n"
     ]
    },
    {
     "name": "stderr",
     "output_type": "stream",
     "text": [
      "2019-12-17 12:57:12.866Z moduleTest       20 moduleTest.py:1643 done: [17 19 28 29 30 41 44], 50 left\n",
      "2019-12-17 12:57:12.869Z pfi              30 pfi.py:445 clipping (24, 'theta', 'ccw') 1.42 to 1.2307692307692308\n"
     ]
    },
    {
     "name": "stdout",
     "output_type": "stream",
     "text": [
      "getting image\n",
      "(2048, 2592, 2)\n",
      "getting image\n",
      "(2048, 2592, 2)\n",
      "getting image\n",
      "(2048, 2592, 2)\n",
      "getting image\n",
      "(2048, 2592, 2)\n"
     ]
    },
    {
     "name": "stderr",
     "output_type": "stream",
     "text": [
      "2019-12-17 12:57:15.547Z moduleTest       20 moduleTest.py:1643 done: [ 1  2  7 11 12 20 21 22 24 25 26 27 33 34 36 39 40 45 52 53 56], 29 left\n"
     ]
    },
    {
     "name": "stdout",
     "output_type": "stream",
     "text": [
      "getting image\n",
      "(2048, 2592, 2)\n",
      "getting image\n",
      "(2048, 2592, 2)\n",
      "getting image\n",
      "(2048, 2592, 2)\n",
      "getting image\n",
      "(2048, 2592, 2)\n"
     ]
    },
    {
     "name": "stderr",
     "output_type": "stream",
     "text": [
      "2019-12-17 12:57:18.223Z moduleTest       20 moduleTest.py:1643 done: [ 3  5  6  8  9 10 13 16 18 31 35 37 38 42 43 46 47 48 49 51 54], 8 left\n"
     ]
    },
    {
     "name": "stdout",
     "output_type": "stream",
     "text": [
      "getting image\n",
      "(2048, 2592, 2)\n",
      "getting image\n",
      "(2048, 2592, 2)\n",
      "getting image\n",
      "(2048, 2592, 2)\n",
      "getting image\n",
      "(2048, 2592, 2)\n"
     ]
    },
    {
     "name": "stderr",
     "output_type": "stream",
     "text": [
      "2019-12-17 12:57:20.378Z moduleTest       20 moduleTest.py:1643 done: [ 4 14 15 23 32 55], 2 left\n"
     ]
    },
    {
     "name": "stdout",
     "output_type": "stream",
     "text": [
      "getting image\n",
      "(2048, 2592, 2)\n",
      "getting image\n",
      "(2048, 2592, 2)\n",
      "getting image\n",
      "(2048, 2592, 2)\n",
      "getting image\n",
      "(2048, 2592, 2)\n"
     ]
    },
    {
     "name": "stderr",
     "output_type": "stream",
     "text": [
      "2019-12-17 12:57:22.574Z moduleTest       20 moduleTest.py:1643 done: [50], 1 left\n"
     ]
    },
    {
     "name": "stdout",
     "output_type": "stream",
     "text": [
      "getting image\n",
      "(2048, 2592, 2)\n",
      "getting image\n",
      "(2048, 2592, 2)\n",
      "getting image\n",
      "(2048, 2592, 2)\n",
      "getting image\n",
      "(2048, 2592, 2)\n"
     ]
    },
    {
     "name": "stderr",
     "output_type": "stream",
     "text": [
      "2019-12-17 12:57:24.391Z moduleTest       20 moduleTest.py:1643 done: [0], 0 left\n",
      "2019-12-17 12:57:49.430Z moduleTest       20 moduleTest.py:1619 Run 26: angle=265.00 degree\n"
     ]
    },
    {
     "name": "stdout",
     "output_type": "stream",
     "text": [
      "getting image\n",
      "(2048, 2592, 2)\n",
      "getting image\n",
      "(2048, 2592, 2)\n",
      "getting image\n",
      "(2048, 2592, 2)\n",
      "getting image\n",
      "(2048, 2592, 2)\n",
      "getting image\n",
      "(2048, 2592, 2)\n",
      "getting image\n",
      "(2048, 2592, 2)\n",
      "getting image\n",
      "(2048, 2592, 2)\n",
      "getting image\n",
      "(2048, 2592, 2)\n"
     ]
    },
    {
     "name": "stderr",
     "output_type": "stream",
     "text": [
      "2019-12-17 12:58:10.074Z moduleTest       20 moduleTest.py:1643 done: [ 9 11 12 17 30 41 48 52 54], 48 left\n",
      "2019-12-17 12:58:10.077Z pfi              30 pfi.py:445 clipping (24, 'theta', 'ccw') 1.44 to 1.2307692307692308\n"
     ]
    },
    {
     "name": "stdout",
     "output_type": "stream",
     "text": [
      "getting image\n",
      "(2048, 2592, 2)\n",
      "getting image\n",
      "(2048, 2592, 2)\n",
      "getting image\n",
      "(2048, 2592, 2)\n",
      "getting image\n",
      "(2048, 2592, 2)\n"
     ]
    },
    {
     "name": "stderr",
     "output_type": "stream",
     "text": [
      "2019-12-17 12:58:13.094Z moduleTest       20 moduleTest.py:1643 done: [ 2  7 16 18 24 25 26 27 31 33 34 36 39 40 42 49 50 56], 30 left\n"
     ]
    },
    {
     "name": "stdout",
     "output_type": "stream",
     "text": [
      "getting image\n",
      "(2048, 2592, 2)\n",
      "getting image\n",
      "(2048, 2592, 2)\n",
      "getting image\n",
      "(2048, 2592, 2)\n",
      "getting image\n",
      "(2048, 2592, 2)\n"
     ]
    },
    {
     "name": "stderr",
     "output_type": "stream",
     "text": [
      "2019-12-17 12:58:16.065Z moduleTest       20 moduleTest.py:1643 done: [ 3  4  5  6 10 13 15 19 20 21 22 23 28 29 32 35 38 43 44 45 46 51 53 55], 6 left\n"
     ]
    },
    {
     "name": "stdout",
     "output_type": "stream",
     "text": [
      "getting image\n",
      "(2048, 2592, 2)\n",
      "getting image\n",
      "(2048, 2592, 2)\n",
      "getting image\n",
      "(2048, 2592, 2)\n",
      "getting image\n",
      "(2048, 2592, 2)\n"
     ]
    },
    {
     "name": "stderr",
     "output_type": "stream",
     "text": [
      "2019-12-17 12:58:18.667Z moduleTest       20 moduleTest.py:1643 done: [ 1  8 14 37 47], 1 left\n"
     ]
    },
    {
     "name": "stdout",
     "output_type": "stream",
     "text": [
      "getting image\n",
      "(2048, 2592, 2)\n",
      "getting image\n",
      "(2048, 2592, 2)\n",
      "getting image\n",
      "(2048, 2592, 2)\n",
      "getting image\n",
      "(2048, 2592, 2)\n",
      "getting image\n",
      "(2048, 2592, 2)\n",
      "getting image\n",
      "(2048, 2592, 2)\n",
      "getting image\n",
      "(2048, 2592, 2)\n",
      "getting image\n",
      "(2048, 2592, 2)\n",
      "getting image\n",
      "(2048, 2592, 2)\n",
      "getting image\n",
      "(2048, 2592, 2)\n",
      "getting image\n",
      "(2048, 2592, 2)\n",
      "getting image\n",
      "(2048, 2592, 2)\n"
     ]
    },
    {
     "name": "stderr",
     "output_type": "stream",
     "text": [
      "2019-12-17 12:58:25.633Z moduleTest       20 moduleTest.py:1643 done: [0], 0 left\n",
      "2019-12-17 12:58:50.672Z moduleTest       20 moduleTest.py:1619 Run 27: angle=275.00 degree\n"
     ]
    },
    {
     "name": "stdout",
     "output_type": "stream",
     "text": [
      "getting image\n",
      "(2048, 2592, 2)\n",
      "getting image\n",
      "(2048, 2592, 2)\n",
      "getting image\n",
      "(2048, 2592, 2)\n",
      "getting image\n",
      "(2048, 2592, 2)\n",
      "getting image\n",
      "(2048, 2592, 2)\n",
      "getting image\n",
      "(2048, 2592, 2)\n",
      "getting image\n",
      "(2048, 2592, 2)\n",
      "getting image\n",
      "(2048, 2592, 2)\n"
     ]
    },
    {
     "name": "stderr",
     "output_type": "stream",
     "text": [
      "2019-12-17 12:59:10.902Z moduleTest       20 moduleTest.py:1643 done: [11 12 20 25 34], 52 left\n"
     ]
    },
    {
     "name": "stdout",
     "output_type": "stream",
     "text": [
      "getting image\n",
      "(2048, 2592, 2)\n",
      "getting image\n",
      "(2048, 2592, 2)\n",
      "getting image\n",
      "(2048, 2592, 2)\n",
      "getting image\n",
      "(2048, 2592, 2)\n"
     ]
    },
    {
     "name": "stderr",
     "output_type": "stream",
     "text": [
      "2019-12-17 12:59:13.421Z moduleTest       20 moduleTest.py:1643 done: [ 2  4  7  9 15 17 18 19 22 27 30 31 35 36 38 39 40 41 45 46 48 49 51 52\n",
      " 53 54], 26 left\n",
      "2019-12-17 12:59:13.423Z pfi              30 pfi.py:445 clipping (0, 'theta', 'ccw') 1.42 to 1.1851851851851851\n"
     ]
    },
    {
     "name": "stdout",
     "output_type": "stream",
     "text": [
      "getting image\n",
      "(2048, 2592, 2)\n",
      "getting image\n",
      "(2048, 2592, 2)\n",
      "getting image\n",
      "(2048, 2592, 2)\n",
      "getting image\n",
      "(2048, 2592, 2)\n"
     ]
    },
    {
     "name": "stderr",
     "output_type": "stream",
     "text": [
      "2019-12-17 12:59:15.622Z moduleTest       20 moduleTest.py:1643 done: [ 1  6 10 23 24 26 28 29 32 33 42 43 44 47 55 56], 10 left\n"
     ]
    },
    {
     "name": "stdout",
     "output_type": "stream",
     "text": [
      "getting image\n",
      "(2048, 2592, 2)\n",
      "getting image\n",
      "(2048, 2592, 2)\n",
      "getting image\n",
      "(2048, 2592, 2)\n",
      "getting image\n",
      "(2048, 2592, 2)\n"
     ]
    },
    {
     "name": "stderr",
     "output_type": "stream",
     "text": [
      "2019-12-17 12:59:17.793Z moduleTest       20 moduleTest.py:1643 done: [ 0  3  5  8 13 14 16 21 37 50], 0 left\n",
      "2019-12-17 12:59:42.831Z moduleTest       20 moduleTest.py:1619 Run 28: angle=285.00 degree\n"
     ]
    },
    {
     "name": "stdout",
     "output_type": "stream",
     "text": [
      "getting image\n",
      "(2048, 2592, 2)\n",
      "getting image\n",
      "(2048, 2592, 2)\n",
      "getting image\n",
      "(2048, 2592, 2)\n",
      "getting image\n",
      "(2048, 2592, 2)\n",
      "getting image\n",
      "(2048, 2592, 2)\n",
      "getting image\n",
      "(2048, 2592, 2)\n",
      "getting image\n",
      "(2048, 2592, 2)\n",
      "getting image\n",
      "(2048, 2592, 2)\n"
     ]
    },
    {
     "name": "stderr",
     "output_type": "stream",
     "text": [
      "2019-12-17 13:00:03.934Z moduleTest       20 moduleTest.py:1643 done: [19 25 39 45], 53 left\n"
     ]
    },
    {
     "name": "stdout",
     "output_type": "stream",
     "text": [
      "getting image\n",
      "(2048, 2592, 2)\n",
      "getting image\n",
      "(2048, 2592, 2)\n",
      "getting image\n",
      "(2048, 2592, 2)\n",
      "getting image\n",
      "(2048, 2592, 2)\n"
     ]
    },
    {
     "name": "stderr",
     "output_type": "stream",
     "text": [
      "2019-12-17 13:00:06.967Z moduleTest       20 moduleTest.py:1643 done: [ 0  1  2  6 10 11 12 14 15 18 20 23 27 29 30 35 36 38 40 41 42 43 47 48\n",
      " 52 53 54 56], 25 left\n"
     ]
    },
    {
     "name": "stdout",
     "output_type": "stream",
     "text": [
      "getting image\n",
      "(2048, 2592, 2)\n",
      "getting image\n",
      "(2048, 2592, 2)\n",
      "getting image\n",
      "(2048, 2592, 2)\n",
      "getting image\n",
      "(2048, 2592, 2)\n"
     ]
    },
    {
     "name": "stderr",
     "output_type": "stream",
     "text": [
      "2019-12-17 13:00:09.261Z moduleTest       20 moduleTest.py:1643 done: [ 5  7  9 16 17 21 28 31 32 34 37 44 46 49 51 55], 9 left\n"
     ]
    },
    {
     "name": "stdout",
     "output_type": "stream",
     "text": [
      "getting image\n",
      "(2048, 2592, 2)\n",
      "getting image\n",
      "(2048, 2592, 2)\n",
      "getting image\n",
      "(2048, 2592, 2)\n",
      "getting image\n",
      "(2048, 2592, 2)\n"
     ]
    },
    {
     "name": "stderr",
     "output_type": "stream",
     "text": [
      "2019-12-17 13:00:11.113Z moduleTest       20 moduleTest.py:1643 done: [ 3  4  8 13 22 24 33 50], 1 left\n"
     ]
    },
    {
     "name": "stdout",
     "output_type": "stream",
     "text": [
      "getting image\n",
      "(2048, 2592, 2)\n",
      "getting image\n",
      "(2048, 2592, 2)\n",
      "getting image\n",
      "(2048, 2592, 2)\n",
      "getting image\n",
      "(2048, 2592, 2)\n"
     ]
    },
    {
     "name": "stderr",
     "output_type": "stream",
     "text": [
      "2019-12-17 13:00:12.944Z moduleTest       20 moduleTest.py:1643 done: [26], 0 left\n",
      "2019-12-17 13:00:37.987Z moduleTest       20 moduleTest.py:1619 Run 29: angle=295.00 degree\n"
     ]
    },
    {
     "name": "stdout",
     "output_type": "stream",
     "text": [
      "getting image\n",
      "(2048, 2592, 2)\n",
      "getting image\n",
      "(2048, 2592, 2)\n",
      "getting image\n",
      "(2048, 2592, 2)\n",
      "getting image\n",
      "(2048, 2592, 2)\n",
      "getting image\n",
      "(2048, 2592, 2)\n",
      "getting image\n",
      "(2048, 2592, 2)\n",
      "getting image\n",
      "(2048, 2592, 2)\n",
      "getting image\n",
      "(2048, 2592, 2)\n"
     ]
    },
    {
     "name": "stderr",
     "output_type": "stream",
     "text": [
      "2019-12-17 13:01:02.602Z moduleTest       20 moduleTest.py:1643 done: [11 13 17 29 34 37 39 42], 49 left\n"
     ]
    },
    {
     "name": "stdout",
     "output_type": "stream",
     "text": [
      "getting image\n",
      "(2048, 2592, 2)\n",
      "getting image\n",
      "(2048, 2592, 2)\n",
      "getting image\n",
      "(2048, 2592, 2)\n",
      "getting image\n",
      "(2048, 2592, 2)\n"
     ]
    },
    {
     "name": "stderr",
     "output_type": "stream",
     "text": [
      "2019-12-17 13:01:05.434Z moduleTest       20 moduleTest.py:1643 done: [ 0  3  5 12 15 18 19 20 22 23 25 27 28 31 35 36 38 40 41 43 44 45 48 49\n",
      " 50 53], 23 left\n",
      "2019-12-17 13:01:05.436Z pfi              30 pfi.py:445 clipping (33, 'theta', 'cw') 1.80 to 1.4266448697029035\n"
     ]
    },
    {
     "name": "stdout",
     "output_type": "stream",
     "text": [
      "getting image\n",
      "(2048, 2592, 2)\n",
      "getting image\n",
      "(2048, 2592, 2)\n",
      "getting image\n",
      "(2048, 2592, 2)\n",
      "getting image\n",
      "(2048, 2592, 2)\n"
     ]
    },
    {
     "name": "stderr",
     "output_type": "stream",
     "text": [
      "2019-12-17 13:01:07.778Z moduleTest       20 moduleTest.py:1643 done: [ 1  2  6  7  9 10 14 26 32 46 47 51 52 55 56], 8 left\n"
     ]
    },
    {
     "name": "stdout",
     "output_type": "stream",
     "text": [
      "getting image\n",
      "(2048, 2592, 2)\n",
      "getting image\n",
      "(2048, 2592, 2)\n",
      "getting image\n",
      "(2048, 2592, 2)\n",
      "getting image\n",
      "(2048, 2592, 2)\n"
     ]
    },
    {
     "name": "stderr",
     "output_type": "stream",
     "text": [
      "2019-12-17 13:01:09.960Z moduleTest       20 moduleTest.py:1643 done: [ 4 16 21 24 30 54], 2 left\n"
     ]
    },
    {
     "name": "stdout",
     "output_type": "stream",
     "text": [
      "getting image\n",
      "(2048, 2592, 2)\n",
      "getting image\n",
      "(2048, 2592, 2)\n",
      "getting image\n",
      "(2048, 2592, 2)\n",
      "getting image\n",
      "(2048, 2592, 2)\n"
     ]
    },
    {
     "name": "stderr",
     "output_type": "stream",
     "text": [
      "2019-12-17 13:01:12.150Z moduleTest       20 moduleTest.py:1643 done: [ 8 33], 0 left\n",
      "2019-12-17 13:01:37.189Z moduleTest       20 moduleTest.py:1619 Run 30: angle=305.00 degree\n"
     ]
    },
    {
     "name": "stdout",
     "output_type": "stream",
     "text": [
      "getting image\n",
      "(2048, 2592, 2)\n",
      "getting image\n",
      "(2048, 2592, 2)\n",
      "getting image\n",
      "(2048, 2592, 2)\n",
      "getting image\n",
      "(2048, 2592, 2)\n",
      "getting image\n",
      "(2048, 2592, 2)\n",
      "getting image\n",
      "(2048, 2592, 2)\n",
      "getting image\n",
      "(2048, 2592, 2)\n",
      "getting image\n",
      "(2048, 2592, 2)\n"
     ]
    },
    {
     "name": "stderr",
     "output_type": "stream",
     "text": [
      "2019-12-17 13:01:59.295Z moduleTest       20 moduleTest.py:1643 done: [ 4  9 15 29 32 35 41 43 44 55], 47 left\n"
     ]
    },
    {
     "name": "stdout",
     "output_type": "stream",
     "text": [
      "getting image\n",
      "(2048, 2592, 2)\n",
      "getting image\n",
      "(2048, 2592, 2)\n",
      "getting image\n",
      "(2048, 2592, 2)\n",
      "getting image\n",
      "(2048, 2592, 2)\n"
     ]
    },
    {
     "name": "stderr",
     "output_type": "stream",
     "text": [
      "2019-12-17 13:02:02.287Z moduleTest       20 moduleTest.py:1643 done: [ 6 11 12 18 20 25 30 31 36 37 38 42 45 51 52], 32 left\n"
     ]
    },
    {
     "name": "stdout",
     "output_type": "stream",
     "text": [
      "getting image\n",
      "(2048, 2592, 2)\n",
      "getting image\n",
      "(2048, 2592, 2)\n",
      "getting image\n",
      "(2048, 2592, 2)\n",
      "getting image\n",
      "(2048, 2592, 2)\n"
     ]
    },
    {
     "name": "stderr",
     "output_type": "stream",
     "text": [
      "2019-12-17 13:02:04.466Z moduleTest       20 moduleTest.py:1643 done: [ 3  5  7 10 13 14 17 19 21 23 24 26 34 39 40 46 48 49 50 53 56], 11 left\n"
     ]
    },
    {
     "name": "stdout",
     "output_type": "stream",
     "text": [
      "getting image\n",
      "(2048, 2592, 2)\n",
      "getting image\n",
      "(2048, 2592, 2)\n",
      "getting image\n",
      "(2048, 2592, 2)\n",
      "getting image\n",
      "(2048, 2592, 2)\n"
     ]
    },
    {
     "name": "stderr",
     "output_type": "stream",
     "text": [
      "2019-12-17 13:02:06.649Z moduleTest       20 moduleTest.py:1643 done: [ 0  1  2  8 16 22 27 28 47 54], 1 left\n"
     ]
    },
    {
     "name": "stdout",
     "output_type": "stream",
     "text": [
      "getting image\n",
      "(2048, 2592, 2)\n",
      "getting image\n",
      "(2048, 2592, 2)\n",
      "getting image\n",
      "(2048, 2592, 2)\n",
      "getting image\n",
      "(2048, 2592, 2)\n"
     ]
    },
    {
     "name": "stderr",
     "output_type": "stream",
     "text": [
      "2019-12-17 13:02:08.782Z moduleTest       20 moduleTest.py:1643 done: [33], 0 left\n",
      "2019-12-17 13:02:33.819Z moduleTest       20 moduleTest.py:1619 Run 31: angle=315.00 degree\n"
     ]
    },
    {
     "name": "stdout",
     "output_type": "stream",
     "text": [
      "getting image\n",
      "(2048, 2592, 2)\n",
      "getting image\n",
      "(2048, 2592, 2)\n",
      "getting image\n",
      "(2048, 2592, 2)\n",
      "getting image\n",
      "(2048, 2592, 2)\n",
      "getting image\n",
      "(2048, 2592, 2)\n",
      "getting image\n",
      "(2048, 2592, 2)\n",
      "getting image\n",
      "(2048, 2592, 2)\n",
      "getting image\n",
      "(2048, 2592, 2)\n"
     ]
    },
    {
     "name": "stderr",
     "output_type": "stream",
     "text": [
      "2019-12-17 13:02:55.492Z moduleTest       20 moduleTest.py:1643 done: [ 3 11 20 37 51], 52 left\n"
     ]
    },
    {
     "name": "stdout",
     "output_type": "stream",
     "text": [
      "getting image\n",
      "(2048, 2592, 2)\n",
      "getting image\n",
      "(2048, 2592, 2)\n",
      "getting image\n",
      "(2048, 2592, 2)\n",
      "getting image\n",
      "(2048, 2592, 2)\n"
     ]
    },
    {
     "name": "stderr",
     "output_type": "stream",
     "text": [
      "2019-12-17 13:02:58.625Z moduleTest       20 moduleTest.py:1643 done: [ 4  5 15 22 25 26 27 28 29 31 32 33 35 36 42 44 45 49 52 55], 32 left\n"
     ]
    },
    {
     "name": "stdout",
     "output_type": "stream",
     "text": [
      "getting image\n",
      "(2048, 2592, 2)\n",
      "getting image\n",
      "(2048, 2592, 2)\n",
      "getting image\n",
      "(2048, 2592, 2)\n",
      "getting image\n",
      "(2048, 2592, 2)\n"
     ]
    },
    {
     "name": "stderr",
     "output_type": "stream",
     "text": [
      "2019-12-17 13:03:00.969Z moduleTest       20 moduleTest.py:1643 done: [ 2  6  7  9 10 12 14 17 18 19 21 23 24 30 34 38 39 40 41 43 46 47 48 50\n",
      " 53 54 56], 5 left\n"
     ]
    },
    {
     "name": "stdout",
     "output_type": "stream",
     "text": [
      "getting image\n",
      "(2048, 2592, 2)\n",
      "getting image\n",
      "(2048, 2592, 2)\n",
      "getting image\n",
      "(2048, 2592, 2)\n",
      "getting image\n",
      "(2048, 2592, 2)\n"
     ]
    },
    {
     "name": "stderr",
     "output_type": "stream",
     "text": [
      "2019-12-17 13:03:03.191Z moduleTest       20 moduleTest.py:1643 done: [ 0 13], 3 left\n"
     ]
    },
    {
     "name": "stdout",
     "output_type": "stream",
     "text": [
      "getting image\n",
      "(2048, 2592, 2)\n",
      "getting image\n",
      "(2048, 2592, 2)\n",
      "getting image\n",
      "(2048, 2592, 2)\n",
      "getting image\n",
      "(2048, 2592, 2)\n"
     ]
    },
    {
     "name": "stderr",
     "output_type": "stream",
     "text": [
      "2019-12-17 13:03:05.314Z moduleTest       20 moduleTest.py:1643 done: [ 1  8 16], 0 left\n",
      "2019-12-17 13:03:30.358Z moduleTest       20 moduleTest.py:1619 Run 32: angle=325.00 degree\n"
     ]
    },
    {
     "name": "stdout",
     "output_type": "stream",
     "text": [
      "getting image\n",
      "(2048, 2592, 2)\n",
      "getting image\n",
      "(2048, 2592, 2)\n",
      "getting image\n",
      "(2048, 2592, 2)\n",
      "getting image\n",
      "(2048, 2592, 2)\n",
      "getting image\n",
      "(2048, 2592, 2)\n",
      "getting image\n",
      "(2048, 2592, 2)\n",
      "getting image\n",
      "(2048, 2592, 2)\n",
      "getting image\n",
      "(2048, 2592, 2)\n"
     ]
    },
    {
     "name": "stderr",
     "output_type": "stream",
     "text": [
      "2019-12-17 13:03:56.280Z moduleTest       20 moduleTest.py:1643 done: [ 0 29 32 51 53], 52 left\n"
     ]
    },
    {
     "name": "stdout",
     "output_type": "stream",
     "text": [
      "getting image\n",
      "(2048, 2592, 2)\n",
      "getting image\n",
      "(2048, 2592, 2)\n",
      "getting image\n",
      "(2048, 2592, 2)\n",
      "getting image\n",
      "(2048, 2592, 2)\n"
     ]
    },
    {
     "name": "stderr",
     "output_type": "stream",
     "text": [
      "2019-12-17 13:04:00.163Z moduleTest       20 moduleTest.py:1643 done: [ 6  7 13 14 15 16 17 19 20 21 24 25 26 31 34 35 36 37 39 41 42 43 44 49\n",
      " 56], 27 left\n"
     ]
    },
    {
     "name": "stdout",
     "output_type": "stream",
     "text": [
      "getting image\n",
      "(2048, 2592, 2)\n",
      "getting image\n",
      "(2048, 2592, 2)\n",
      "getting image\n",
      "(2048, 2592, 2)\n",
      "getting image\n",
      "(2048, 2592, 2)\n"
     ]
    },
    {
     "name": "stderr",
     "output_type": "stream",
     "text": [
      "2019-12-17 13:04:02.522Z moduleTest       20 moduleTest.py:1643 done: [ 2  3  4  5  9 10 11 12 22 23 27 28 30 33 38 40 45 46 48 52 54 55], 5 left\n"
     ]
    },
    {
     "name": "stdout",
     "output_type": "stream",
     "text": [
      "getting image\n",
      "(2048, 2592, 2)\n",
      "getting image\n",
      "(2048, 2592, 2)\n",
      "getting image\n",
      "(2048, 2592, 2)\n",
      "getting image\n",
      "(2048, 2592, 2)\n"
     ]
    },
    {
     "name": "stderr",
     "output_type": "stream",
     "text": [
      "2019-12-17 13:04:04.805Z moduleTest       20 moduleTest.py:1643 done: [ 8 18 50], 2 left\n"
     ]
    },
    {
     "name": "stdout",
     "output_type": "stream",
     "text": [
      "getting image\n",
      "(2048, 2592, 2)\n",
      "getting image\n",
      "(2048, 2592, 2)\n",
      "getting image\n",
      "(2048, 2592, 2)\n",
      "getting image\n",
      "(2048, 2592, 2)\n"
     ]
    },
    {
     "name": "stderr",
     "output_type": "stream",
     "text": [
      "2019-12-17 13:04:06.998Z moduleTest       20 moduleTest.py:1643 done: [1], 1 left\n"
     ]
    },
    {
     "name": "stdout",
     "output_type": "stream",
     "text": [
      "getting image\n",
      "(2048, 2592, 2)\n",
      "getting image\n",
      "(2048, 2592, 2)\n",
      "getting image\n",
      "(2048, 2592, 2)\n",
      "getting image\n",
      "(2048, 2592, 2)\n"
     ]
    },
    {
     "name": "stderr",
     "output_type": "stream",
     "text": [
      "2019-12-17 13:04:09.172Z moduleTest       20 moduleTest.py:1643 done: [47], 0 left\n",
      "2019-12-17 13:04:34.211Z moduleTest       20 moduleTest.py:1619 Run 33: angle=335.00 degree\n"
     ]
    },
    {
     "name": "stdout",
     "output_type": "stream",
     "text": [
      "getting image\n",
      "(2048, 2592, 2)\n",
      "getting image\n",
      "(2048, 2592, 2)\n",
      "getting image\n",
      "(2048, 2592, 2)\n",
      "getting image\n",
      "(2048, 2592, 2)\n",
      "getting image\n",
      "(2048, 2592, 2)\n",
      "getting image\n",
      "(2048, 2592, 2)\n",
      "getting image\n",
      "(2048, 2592, 2)\n",
      "getting image\n",
      "(2048, 2592, 2)\n"
     ]
    },
    {
     "name": "stderr",
     "output_type": "stream",
     "text": [
      "2019-12-17 13:05:03.646Z moduleTest       20 moduleTest.py:1643 done: [25 29 32 33 41 44 49 52], 49 left\n"
     ]
    },
    {
     "name": "stdout",
     "output_type": "stream",
     "text": [
      "getting image\n",
      "(2048, 2592, 2)\n",
      "getting image\n",
      "(2048, 2592, 2)\n",
      "getting image\n",
      "(2048, 2592, 2)\n",
      "getting image\n",
      "(2048, 2592, 2)\n"
     ]
    },
    {
     "name": "stderr",
     "output_type": "stream",
     "text": [
      "2019-12-17 13:05:06.667Z moduleTest       20 moduleTest.py:1643 done: [ 0  3  4  6  7 11 12 13 14 17 19 24 26 27 36 37 39 40 46 50 51 53 54 55\n",
      " 56], 24 left\n"
     ]
    },
    {
     "name": "stdout",
     "output_type": "stream",
     "text": [
      "getting image\n",
      "(2048, 2592, 2)\n",
      "getting image\n",
      "(2048, 2592, 2)\n",
      "getting image\n",
      "(2048, 2592, 2)\n",
      "getting image\n",
      "(2048, 2592, 2)\n"
     ]
    },
    {
     "name": "stderr",
     "output_type": "stream",
     "text": [
      "2019-12-17 13:05:09.012Z moduleTest       20 moduleTest.py:1643 done: [ 5  9 10 16 21 23 28 30 31 34 35 38 42 43 45], 9 left\n"
     ]
    },
    {
     "name": "stdout",
     "output_type": "stream",
     "text": [
      "getting image\n",
      "(2048, 2592, 2)\n",
      "getting image\n",
      "(2048, 2592, 2)\n",
      "getting image\n",
      "(2048, 2592, 2)\n",
      "getting image\n",
      "(2048, 2592, 2)\n"
     ]
    },
    {
     "name": "stderr",
     "output_type": "stream",
     "text": [
      "2019-12-17 13:05:11.175Z moduleTest       20 moduleTest.py:1643 done: [ 1  2 15 18 20 22 48], 2 left\n"
     ]
    },
    {
     "name": "stdout",
     "output_type": "stream",
     "text": [
      "getting image\n",
      "(2048, 2592, 2)\n",
      "getting image\n",
      "(2048, 2592, 2)\n",
      "getting image\n",
      "(2048, 2592, 2)\n",
      "getting image\n",
      "(2048, 2592, 2)\n"
     ]
    },
    {
     "name": "stderr",
     "output_type": "stream",
     "text": [
      "2019-12-17 13:05:13.342Z moduleTest       20 moduleTest.py:1643 done: [8], 1 left\n"
     ]
    },
    {
     "name": "stdout",
     "output_type": "stream",
     "text": [
      "getting image\n",
      "(2048, 2592, 2)\n",
      "getting image\n",
      "(2048, 2592, 2)\n",
      "getting image\n",
      "(2048, 2592, 2)\n",
      "getting image\n",
      "(2048, 2592, 2)\n"
     ]
    },
    {
     "name": "stderr",
     "output_type": "stream",
     "text": [
      "2019-12-17 13:05:15.513Z moduleTest       20 moduleTest.py:1643 done: [47], 0 left\n",
      "2019-12-17 13:05:40.551Z moduleTest       20 moduleTest.py:1619 Run 34: angle=345.00 degree\n"
     ]
    },
    {
     "name": "stdout",
     "output_type": "stream",
     "text": [
      "getting image\n",
      "(2048, 2592, 2)\n",
      "getting image\n",
      "(2048, 2592, 2)\n",
      "getting image\n",
      "(2048, 2592, 2)\n",
      "getting image\n",
      "(2048, 2592, 2)\n",
      "getting image\n",
      "(2048, 2592, 2)\n",
      "getting image\n",
      "(2048, 2592, 2)\n",
      "getting image\n",
      "(2048, 2592, 2)\n",
      "getting image\n",
      "(2048, 2592, 2)\n"
     ]
    },
    {
     "name": "stderr",
     "output_type": "stream",
     "text": [
      "2019-12-17 13:06:05.323Z moduleTest       20 moduleTest.py:1643 done: [ 6 17 29 41], 53 left\n"
     ]
    },
    {
     "name": "stdout",
     "output_type": "stream",
     "text": [
      "getting image\n",
      "(2048, 2592, 2)\n",
      "getting image\n",
      "(2048, 2592, 2)\n",
      "getting image\n",
      "(2048, 2592, 2)\n",
      "getting image\n",
      "(2048, 2592, 2)\n"
     ]
    },
    {
     "name": "stderr",
     "output_type": "stream",
     "text": [
      "2019-12-17 13:06:07.997Z moduleTest       20 moduleTest.py:1643 done: [ 2  3  7 11 12 13 15 19 21 24 25 27 28 30 31 34 36 37 39 40 43 44 45 50\n",
      " 53 54 56], 26 left\n"
     ]
    },
    {
     "name": "stdout",
     "output_type": "stream",
     "text": [
      "getting image\n",
      "(2048, 2592, 2)\n",
      "getting image\n",
      "(2048, 2592, 2)\n",
      "getting image\n",
      "(2048, 2592, 2)\n",
      "getting image\n",
      "(2048, 2592, 2)\n"
     ]
    },
    {
     "name": "stderr",
     "output_type": "stream",
     "text": [
      "2019-12-17 13:06:10.324Z moduleTest       20 moduleTest.py:1643 done: [ 0  4  5  9 14 16 22 23 26 35 38 46 48 49 51 52 55], 9 left\n"
     ]
    },
    {
     "name": "stdout",
     "output_type": "stream",
     "text": [
      "getting image\n",
      "(2048, 2592, 2)\n",
      "getting image\n",
      "(2048, 2592, 2)\n",
      "getting image\n",
      "(2048, 2592, 2)\n",
      "getting image\n",
      "(2048, 2592, 2)\n"
     ]
    },
    {
     "name": "stderr",
     "output_type": "stream",
     "text": [
      "2019-12-17 13:06:12.672Z moduleTest       20 moduleTest.py:1643 done: [ 1 18 20 32 42], 4 left\n"
     ]
    },
    {
     "name": "stdout",
     "output_type": "stream",
     "text": [
      "getting image\n",
      "(2048, 2592, 2)\n",
      "getting image\n",
      "(2048, 2592, 2)\n",
      "getting image\n",
      "(2048, 2592, 2)\n",
      "getting image\n",
      "(2048, 2592, 2)\n"
     ]
    },
    {
     "name": "stderr",
     "output_type": "stream",
     "text": [
      "2019-12-17 13:06:14.827Z moduleTest       20 moduleTest.py:1643 done: [ 8 10 33], 1 left\n"
     ]
    },
    {
     "name": "stdout",
     "output_type": "stream",
     "text": [
      "getting image\n",
      "(2048, 2592, 2)\n",
      "getting image\n",
      "(2048, 2592, 2)\n",
      "getting image\n",
      "(2048, 2592, 2)\n",
      "getting image\n",
      "(2048, 2592, 2)\n",
      "getting image\n",
      "(2048, 2592, 2)\n",
      "getting image\n",
      "(2048, 2592, 2)\n",
      "getting image\n",
      "(2048, 2592, 2)\n",
      "getting image\n",
      "(2048, 2592, 2)\n"
     ]
    },
    {
     "name": "stderr",
     "output_type": "stream",
     "text": [
      "2019-12-17 13:06:19.345Z moduleTest       20 moduleTest.py:1643 done: [47], 0 left\n"
     ]
    },
    {
     "data": {
      "text/plain": [
       "PosixPath('/data/MCS/20191217_031')"
      ]
     },
     "execution_count": 4,
     "metadata": {},
     "output_type": "execute_result"
    }
   ],
   "source": [
    "\n",
    "#for scale in [1.2, 2.0, 3.0, 5.0, 8.0]:\n",
    "mt.thetaConvergenceTest(margin=15.0, runs=34, tries=8, \n",
    "                        fast=False, scaleFactor=3.0, tolerance=0.2)"
   ]
  },
  {
   "cell_type": "code",
   "execution_count": 6,
   "metadata": {},
   "outputs": [
    {
     "name": "stderr",
     "output_type": "stream",
     "text": [
      "2019-12-17 13:11:44.326Z matplotlib.colorbar 10 colorbar.py:560 locator: <matplotlib.colorbar._ColorbarAutoLocator object at 0x7f561ba36e10>\n",
      "2019-12-17 13:11:44.327Z matplotlib.colorbar 10 colorbar.py:608 Using auto colorbar locator on colorbar\n",
      "2019-12-17 13:11:44.327Z matplotlib.colorbar 10 colorbar.py:609 locator: <matplotlib.colorbar._ColorbarAutoLocator object at 0x7f561ba36e10>\n",
      "2019-12-17 13:11:44.328Z matplotlib.colorbar 10 colorbar.py:780 Setting pcolormesh\n",
      "2019-12-17 13:11:44.378Z matplotlib.figure 10 figure.py:2411 Executing constrainedlayout\n",
      "2019-12-17 13:11:44.509Z matplotlib.figure 10 figure.py:2411 Executing constrainedlayout\n",
      "2019-12-17 13:11:44.628Z matplotlib.colorbar 10 colorbar.py:560 locator: <matplotlib.colorbar._ColorbarAutoLocator object at 0x7f561b74d278>\n",
      "2019-12-17 13:11:44.629Z matplotlib.colorbar 10 colorbar.py:608 Using auto colorbar locator on colorbar\n",
      "2019-12-17 13:11:44.629Z matplotlib.colorbar 10 colorbar.py:609 locator: <matplotlib.colorbar._ColorbarAutoLocator object at 0x7f561b74d278>\n",
      "2019-12-17 13:11:44.630Z matplotlib.colorbar 10 colorbar.py:780 Setting pcolormesh\n",
      "2019-12-17 13:11:44.693Z matplotlib.figure 10 figure.py:2411 Executing constrainedlayout\n",
      "2019-12-17 13:11:44.825Z matplotlib.figure 10 figure.py:2411 Executing constrainedlayout\n",
      "2019-12-17 13:11:44.945Z matplotlib.colorbar 10 colorbar.py:560 locator: <matplotlib.colorbar._ColorbarAutoLocator object at 0x7f561b535470>\n",
      "2019-12-17 13:11:44.946Z matplotlib.colorbar 10 colorbar.py:608 Using auto colorbar locator on colorbar\n",
      "2019-12-17 13:11:44.946Z matplotlib.colorbar 10 colorbar.py:609 locator: <matplotlib.colorbar._ColorbarAutoLocator object at 0x7f561b535470>\n",
      "2019-12-17 13:11:44.946Z matplotlib.colorbar 10 colorbar.py:780 Setting pcolormesh\n",
      "2019-12-17 13:11:45.012Z matplotlib.figure 10 figure.py:2411 Executing constrainedlayout\n",
      "2019-12-17 13:11:45.150Z matplotlib.figure 10 figure.py:2411 Executing constrainedlayout\n",
      "2019-12-17 13:11:45.279Z matplotlib.colorbar 10 colorbar.py:560 locator: <matplotlib.colorbar._ColorbarAutoLocator object at 0x7f561b2a0668>\n",
      "2019-12-17 13:11:45.279Z matplotlib.colorbar 10 colorbar.py:608 Using auto colorbar locator on colorbar\n",
      "2019-12-17 13:11:45.279Z matplotlib.colorbar 10 colorbar.py:609 locator: <matplotlib.colorbar._ColorbarAutoLocator object at 0x7f561b2a0668>\n",
      "2019-12-17 13:11:45.280Z matplotlib.colorbar 10 colorbar.py:780 Setting pcolormesh\n",
      "2019-12-17 13:11:45.335Z matplotlib.figure 10 figure.py:2411 Executing constrainedlayout\n",
      "2019-12-17 13:11:45.479Z matplotlib.figure 10 figure.py:2411 Executing constrainedlayout\n",
      "2019-12-17 13:11:45.611Z matplotlib.colorbar 10 colorbar.py:560 locator: <matplotlib.colorbar._ColorbarAutoLocator object at 0x7f561b00e710>\n",
      "2019-12-17 13:11:45.612Z matplotlib.colorbar 10 colorbar.py:608 Using auto colorbar locator on colorbar\n",
      "2019-12-17 13:11:45.612Z matplotlib.colorbar 10 colorbar.py:609 locator: <matplotlib.colorbar._ColorbarAutoLocator object at 0x7f561b00e710>\n",
      "2019-12-17 13:11:45.612Z matplotlib.colorbar 10 colorbar.py:780 Setting pcolormesh\n",
      "2019-12-17 13:11:45.666Z matplotlib.figure 10 figure.py:2411 Executing constrainedlayout\n",
      "2019-12-17 13:11:45.834Z matplotlib.figure 10 figure.py:2411 Executing constrainedlayout\n",
      "2019-12-17 13:11:45.968Z matplotlib.colorbar 10 colorbar.py:560 locator: <matplotlib.colorbar._ColorbarAutoLocator object at 0x7f561adfa7b8>\n",
      "2019-12-17 13:11:45.968Z matplotlib.colorbar 10 colorbar.py:608 Using auto colorbar locator on colorbar\n",
      "2019-12-17 13:11:45.969Z matplotlib.colorbar 10 colorbar.py:609 locator: <matplotlib.colorbar._ColorbarAutoLocator object at 0x7f561adfa7b8>\n",
      "2019-12-17 13:11:45.969Z matplotlib.colorbar 10 colorbar.py:780 Setting pcolormesh\n",
      "2019-12-17 13:11:46.025Z matplotlib.figure 10 figure.py:2411 Executing constrainedlayout\n",
      "2019-12-17 13:11:46.167Z matplotlib.figure 10 figure.py:2411 Executing constrainedlayout\n",
      "2019-12-17 13:11:46.295Z matplotlib.colorbar 10 colorbar.py:560 locator: <matplotlib.colorbar._ColorbarAutoLocator object at 0x7f561ab609b0>\n",
      "2019-12-17 13:11:46.295Z matplotlib.colorbar 10 colorbar.py:608 Using auto colorbar locator on colorbar\n",
      "2019-12-17 13:11:46.295Z matplotlib.colorbar 10 colorbar.py:609 locator: <matplotlib.colorbar._ColorbarAutoLocator object at 0x7f561ab609b0>\n",
      "2019-12-17 13:11:46.296Z matplotlib.colorbar 10 colorbar.py:780 Setting pcolormesh\n",
      "2019-12-17 13:11:46.352Z matplotlib.figure 10 figure.py:2411 Executing constrainedlayout\n",
      "2019-12-17 13:11:46.499Z matplotlib.figure 10 figure.py:2411 Executing constrainedlayout\n",
      "2019-12-17 13:11:46.623Z matplotlib.colorbar 10 colorbar.py:560 locator: <matplotlib.colorbar._ColorbarAutoLocator object at 0x7f561a8c8ba8>\n",
      "2019-12-17 13:11:46.623Z matplotlib.colorbar 10 colorbar.py:608 Using auto colorbar locator on colorbar\n",
      "2019-12-17 13:11:46.624Z matplotlib.colorbar 10 colorbar.py:609 locator: <matplotlib.colorbar._ColorbarAutoLocator object at 0x7f561a8c8ba8>\n",
      "2019-12-17 13:11:46.624Z matplotlib.colorbar 10 colorbar.py:780 Setting pcolormesh\n",
      "2019-12-17 13:11:46.680Z matplotlib.figure 10 figure.py:2411 Executing constrainedlayout\n",
      "2019-12-17 13:11:46.824Z matplotlib.figure 10 figure.py:2411 Executing constrainedlayout\n",
      "2019-12-17 13:11:46.950Z matplotlib.colorbar 10 colorbar.py:560 locator: <matplotlib.colorbar._ColorbarAutoLocator object at 0x7f561a6b0da0>\n",
      "2019-12-17 13:11:46.951Z matplotlib.colorbar 10 colorbar.py:608 Using auto colorbar locator on colorbar\n",
      "2019-12-17 13:11:46.951Z matplotlib.colorbar 10 colorbar.py:609 locator: <matplotlib.colorbar._ColorbarAutoLocator object at 0x7f561a6b0da0>\n",
      "2019-12-17 13:11:46.951Z matplotlib.colorbar 10 colorbar.py:780 Setting pcolormesh\n",
      "2019-12-17 13:11:47.015Z matplotlib.figure 10 figure.py:2411 Executing constrainedlayout\n",
      "2019-12-17 13:11:47.156Z matplotlib.figure 10 figure.py:2411 Executing constrainedlayout\n",
      "2019-12-17 13:11:47.286Z matplotlib.colorbar 10 colorbar.py:560 locator: <matplotlib.colorbar._ColorbarAutoLocator object at 0x7f561a426198>\n",
      "2019-12-17 13:11:47.286Z matplotlib.colorbar 10 colorbar.py:608 Using auto colorbar locator on colorbar\n",
      "2019-12-17 13:11:47.287Z matplotlib.colorbar 10 colorbar.py:609 locator: <matplotlib.colorbar._ColorbarAutoLocator object at 0x7f561a426198>\n",
      "2019-12-17 13:11:47.287Z matplotlib.colorbar 10 colorbar.py:780 Setting pcolormesh\n",
      "2019-12-17 13:11:47.342Z matplotlib.figure 10 figure.py:2411 Executing constrainedlayout\n",
      "2019-12-17 13:11:47.486Z matplotlib.figure 10 figure.py:2411 Executing constrainedlayout\n",
      "2019-12-17 13:11:47.617Z matplotlib.colorbar 10 colorbar.py:560 locator: <matplotlib.colorbar._ColorbarAutoLocator object at 0x7f561a18f208>\n",
      "2019-12-17 13:11:47.617Z matplotlib.colorbar 10 colorbar.py:608 Using auto colorbar locator on colorbar\n",
      "2019-12-17 13:11:47.618Z matplotlib.colorbar 10 colorbar.py:609 locator: <matplotlib.colorbar._ColorbarAutoLocator object at 0x7f561a18f208>\n",
      "2019-12-17 13:11:47.618Z matplotlib.colorbar 10 colorbar.py:780 Setting pcolormesh\n",
      "2019-12-17 13:11:47.685Z matplotlib.figure 10 figure.py:2411 Executing constrainedlayout\n",
      "2019-12-17 13:11:47.833Z matplotlib.figure 10 figure.py:2411 Executing constrainedlayout\n",
      "2019-12-17 13:11:47.964Z matplotlib.colorbar 10 colorbar.py:560 locator: <matplotlib.colorbar._ColorbarAutoLocator object at 0x7f5619f75438>\n",
      "2019-12-17 13:11:47.964Z matplotlib.colorbar 10 colorbar.py:608 Using auto colorbar locator on colorbar\n",
      "2019-12-17 13:11:47.964Z matplotlib.colorbar 10 colorbar.py:609 locator: <matplotlib.colorbar._ColorbarAutoLocator object at 0x7f5619f75438>\n",
      "2019-12-17 13:11:47.965Z matplotlib.colorbar 10 colorbar.py:780 Setting pcolormesh\n",
      "2019-12-17 13:11:48.016Z matplotlib.figure 10 figure.py:2411 Executing constrainedlayout\n",
      "2019-12-17 13:11:48.739Z matplotlib.figure 10 figure.py:2411 Executing constrainedlayout\n",
      "2019-12-17 13:11:48.862Z matplotlib.colorbar 10 colorbar.py:560 locator: <matplotlib.colorbar._ColorbarAutoLocator object at 0x7f5630627cc0>\n",
      "2019-12-17 13:11:48.863Z matplotlib.colorbar 10 colorbar.py:608 Using auto colorbar locator on colorbar\n",
      "2019-12-17 13:11:48.863Z matplotlib.colorbar 10 colorbar.py:609 locator: <matplotlib.colorbar._ColorbarAutoLocator object at 0x7f5630627cc0>\n",
      "2019-12-17 13:11:48.863Z matplotlib.colorbar 10 colorbar.py:780 Setting pcolormesh\n"
     ]
    },
    {
     "name": "stderr",
     "output_type": "stream",
     "text": [
      "2019-12-17 13:11:48.922Z matplotlib.figure 10 figure.py:2411 Executing constrainedlayout\n",
      "2019-12-17 13:11:49.057Z matplotlib.figure 10 figure.py:2411 Executing constrainedlayout\n",
      "2019-12-17 13:11:49.177Z matplotlib.colorbar 10 colorbar.py:560 locator: <matplotlib.colorbar._ColorbarAutoLocator object at 0x7f5630336828>\n",
      "2019-12-17 13:11:49.177Z matplotlib.colorbar 10 colorbar.py:608 Using auto colorbar locator on colorbar\n",
      "2019-12-17 13:11:49.177Z matplotlib.colorbar 10 colorbar.py:609 locator: <matplotlib.colorbar._ColorbarAutoLocator object at 0x7f5630336828>\n",
      "2019-12-17 13:11:49.178Z matplotlib.colorbar 10 colorbar.py:780 Setting pcolormesh\n",
      "2019-12-17 13:11:49.235Z matplotlib.figure 10 figure.py:2411 Executing constrainedlayout\n",
      "2019-12-17 13:11:49.365Z matplotlib.figure 10 figure.py:2411 Executing constrainedlayout\n",
      "2019-12-17 13:11:49.485Z matplotlib.colorbar 10 colorbar.py:560 locator: <matplotlib.colorbar._ColorbarAutoLocator object at 0x7f56202cc908>\n",
      "2019-12-17 13:11:49.485Z matplotlib.colorbar 10 colorbar.py:608 Using auto colorbar locator on colorbar\n",
      "2019-12-17 13:11:49.486Z matplotlib.colorbar 10 colorbar.py:609 locator: <matplotlib.colorbar._ColorbarAutoLocator object at 0x7f56202cc908>\n",
      "2019-12-17 13:11:49.486Z matplotlib.colorbar 10 colorbar.py:780 Setting pcolormesh\n",
      "2019-12-17 13:11:49.536Z matplotlib.figure 10 figure.py:2411 Executing constrainedlayout\n",
      "2019-12-17 13:11:49.666Z matplotlib.figure 10 figure.py:2411 Executing constrainedlayout\n",
      "2019-12-17 13:11:49.784Z matplotlib.colorbar 10 colorbar.py:560 locator: <matplotlib.colorbar._ColorbarAutoLocator object at 0x7f561be4fb38>\n",
      "2019-12-17 13:11:49.784Z matplotlib.colorbar 10 colorbar.py:608 Using auto colorbar locator on colorbar\n",
      "2019-12-17 13:11:49.784Z matplotlib.colorbar 10 colorbar.py:609 locator: <matplotlib.colorbar._ColorbarAutoLocator object at 0x7f561be4fb38>\n",
      "2019-12-17 13:11:49.785Z matplotlib.colorbar 10 colorbar.py:780 Setting pcolormesh\n",
      "2019-12-17 13:11:49.831Z matplotlib.figure 10 figure.py:2411 Executing constrainedlayout\n",
      "2019-12-17 13:11:49.966Z matplotlib.figure 10 figure.py:2411 Executing constrainedlayout\n",
      "2019-12-17 13:11:50.083Z matplotlib.colorbar 10 colorbar.py:560 locator: <matplotlib.colorbar._ColorbarAutoLocator object at 0x7f5621134c18>\n",
      "2019-12-17 13:11:50.084Z matplotlib.colorbar 10 colorbar.py:608 Using auto colorbar locator on colorbar\n",
      "2019-12-17 13:11:50.084Z matplotlib.colorbar 10 colorbar.py:609 locator: <matplotlib.colorbar._ColorbarAutoLocator object at 0x7f5621134c18>\n",
      "2019-12-17 13:11:50.085Z matplotlib.colorbar 10 colorbar.py:780 Setting pcolormesh\n",
      "2019-12-17 13:11:50.131Z matplotlib.figure 10 figure.py:2411 Executing constrainedlayout\n",
      "2019-12-17 13:11:50.266Z matplotlib.figure 10 figure.py:2411 Executing constrainedlayout\n",
      "2019-12-17 13:11:50.383Z matplotlib.colorbar 10 colorbar.py:560 locator: <matplotlib.colorbar._ColorbarAutoLocator object at 0x7f562136e048>\n",
      "2019-12-17 13:11:50.384Z matplotlib.colorbar 10 colorbar.py:608 Using auto colorbar locator on colorbar\n",
      "2019-12-17 13:11:50.384Z matplotlib.colorbar 10 colorbar.py:609 locator: <matplotlib.colorbar._ColorbarAutoLocator object at 0x7f562136e048>\n",
      "2019-12-17 13:11:50.385Z matplotlib.colorbar 10 colorbar.py:780 Setting pcolormesh\n",
      "2019-12-17 13:11:50.433Z matplotlib.figure 10 figure.py:2411 Executing constrainedlayout\n",
      "2019-12-17 13:11:50.570Z matplotlib.figure 10 figure.py:2411 Executing constrainedlayout\n",
      "2019-12-17 13:11:50.787Z matplotlib.colorbar 10 colorbar.py:560 locator: <matplotlib.colorbar._ColorbarAutoLocator object at 0x7f561bc21b00>\n",
      "2019-12-17 13:11:50.787Z matplotlib.colorbar 10 colorbar.py:608 Using auto colorbar locator on colorbar\n",
      "2019-12-17 13:11:50.788Z matplotlib.colorbar 10 colorbar.py:609 locator: <matplotlib.colorbar._ColorbarAutoLocator object at 0x7f561bc21b00>\n",
      "2019-12-17 13:11:50.788Z matplotlib.colorbar 10 colorbar.py:780 Setting pcolormesh\n",
      "2019-12-17 13:11:50.838Z matplotlib.figure 10 figure.py:2411 Executing constrainedlayout\n",
      "2019-12-17 13:11:50.966Z matplotlib.figure 10 figure.py:2411 Executing constrainedlayout\n",
      "2019-12-17 13:11:51.083Z matplotlib.colorbar 10 colorbar.py:560 locator: <matplotlib.colorbar._ColorbarAutoLocator object at 0x7f562bfdcd68>\n",
      "2019-12-17 13:11:51.083Z matplotlib.colorbar 10 colorbar.py:608 Using auto colorbar locator on colorbar\n",
      "2019-12-17 13:11:51.084Z matplotlib.colorbar 10 colorbar.py:609 locator: <matplotlib.colorbar._ColorbarAutoLocator object at 0x7f562bfdcd68>\n",
      "2019-12-17 13:11:51.084Z matplotlib.colorbar 10 colorbar.py:780 Setting pcolormesh\n",
      "2019-12-17 13:11:51.137Z matplotlib.figure 10 figure.py:2411 Executing constrainedlayout\n",
      "2019-12-17 13:11:51.269Z matplotlib.figure 10 figure.py:2411 Executing constrainedlayout\n",
      "2019-12-17 13:11:51.388Z matplotlib.colorbar 10 colorbar.py:560 locator: <matplotlib.colorbar._ColorbarAutoLocator object at 0x7f562a2cc048>\n",
      "2019-12-17 13:11:51.388Z matplotlib.colorbar 10 colorbar.py:608 Using auto colorbar locator on colorbar\n",
      "2019-12-17 13:11:51.389Z matplotlib.colorbar 10 colorbar.py:609 locator: <matplotlib.colorbar._ColorbarAutoLocator object at 0x7f562a2cc048>\n",
      "2019-12-17 13:11:51.389Z matplotlib.colorbar 10 colorbar.py:780 Setting pcolormesh\n",
      "2019-12-17 13:11:51.443Z matplotlib.figure 10 figure.py:2411 Executing constrainedlayout\n",
      "2019-12-17 13:11:51.573Z matplotlib.figure 10 figure.py:2411 Executing constrainedlayout\n",
      "2019-12-17 13:11:51.703Z matplotlib.colorbar 10 colorbar.py:560 locator: <matplotlib.colorbar._ColorbarAutoLocator object at 0x7f5628491128>\n",
      "2019-12-17 13:11:51.704Z matplotlib.colorbar 10 colorbar.py:608 Using auto colorbar locator on colorbar\n",
      "2019-12-17 13:11:51.704Z matplotlib.colorbar 10 colorbar.py:609 locator: <matplotlib.colorbar._ColorbarAutoLocator object at 0x7f5628491128>\n",
      "2019-12-17 13:11:51.704Z matplotlib.colorbar 10 colorbar.py:780 Setting pcolormesh\n",
      "2019-12-17 13:11:51.754Z matplotlib.figure 10 figure.py:2411 Executing constrainedlayout\n",
      "2019-12-17 13:11:51.890Z matplotlib.figure 10 figure.py:2411 Executing constrainedlayout\n",
      "2019-12-17 13:11:52.016Z matplotlib.colorbar 10 colorbar.py:560 locator: <matplotlib.colorbar._ColorbarAutoLocator object at 0x7f562014f208>\n",
      "2019-12-17 13:11:52.016Z matplotlib.colorbar 10 colorbar.py:608 Using auto colorbar locator on colorbar\n",
      "2019-12-17 13:11:52.017Z matplotlib.colorbar 10 colorbar.py:609 locator: <matplotlib.colorbar._ColorbarAutoLocator object at 0x7f562014f208>\n",
      "2019-12-17 13:11:52.017Z matplotlib.colorbar 10 colorbar.py:780 Setting pcolormesh\n",
      "2019-12-17 13:11:52.068Z matplotlib.figure 10 figure.py:2411 Executing constrainedlayout\n",
      "2019-12-17 13:11:52.225Z matplotlib.figure 10 figure.py:2411 Executing constrainedlayout\n",
      "2019-12-17 13:11:52.353Z matplotlib.colorbar 10 colorbar.py:560 locator: <matplotlib.colorbar._ColorbarAutoLocator object at 0x7f561bfc9278>\n",
      "2019-12-17 13:11:52.353Z matplotlib.colorbar 10 colorbar.py:608 Using auto colorbar locator on colorbar\n",
      "2019-12-17 13:11:52.354Z matplotlib.colorbar 10 colorbar.py:609 locator: <matplotlib.colorbar._ColorbarAutoLocator object at 0x7f561bfc9278>\n",
      "2019-12-17 13:11:52.354Z matplotlib.colorbar 10 colorbar.py:780 Setting pcolormesh\n",
      "2019-12-17 13:11:52.404Z matplotlib.figure 10 figure.py:2411 Executing constrainedlayout\n",
      "2019-12-17 13:11:52.546Z matplotlib.figure 10 figure.py:2411 Executing constrainedlayout\n",
      "2019-12-17 13:11:52.672Z matplotlib.colorbar 10 colorbar.py:560 locator: <matplotlib.colorbar._ColorbarAutoLocator object at 0x7f56201bd208>\n",
      "2019-12-17 13:11:52.673Z matplotlib.colorbar 10 colorbar.py:608 Using auto colorbar locator on colorbar\n",
      "2019-12-17 13:11:52.673Z matplotlib.colorbar 10 colorbar.py:609 locator: <matplotlib.colorbar._ColorbarAutoLocator object at 0x7f56201bd208>\n",
      "2019-12-17 13:11:52.674Z matplotlib.colorbar 10 colorbar.py:780 Setting pcolormesh\n",
      "2019-12-17 13:11:52.721Z matplotlib.figure 10 figure.py:2411 Executing constrainedlayout\n",
      "2019-12-17 13:11:52.864Z matplotlib.figure 10 figure.py:2411 Executing constrainedlayout\n",
      "2019-12-17 13:11:52.990Z matplotlib.colorbar 10 colorbar.py:560 locator: <matplotlib.colorbar._ColorbarAutoLocator object at 0x7f562190cd30>\n",
      "2019-12-17 13:11:52.990Z matplotlib.colorbar 10 colorbar.py:608 Using auto colorbar locator on colorbar\n",
      "2019-12-17 13:11:52.991Z matplotlib.colorbar 10 colorbar.py:609 locator: <matplotlib.colorbar._ColorbarAutoLocator object at 0x7f562190cd30>\n"
     ]
    },
    {
     "name": "stderr",
     "output_type": "stream",
     "text": [
      "2019-12-17 13:11:52.991Z matplotlib.colorbar 10 colorbar.py:780 Setting pcolormesh\n",
      "2019-12-17 13:11:53.039Z matplotlib.figure 10 figure.py:2411 Executing constrainedlayout\n",
      "2019-12-17 13:11:53.175Z matplotlib.figure 10 figure.py:2411 Executing constrainedlayout\n",
      "2019-12-17 13:11:53.435Z matplotlib.colorbar 10 colorbar.py:560 locator: <matplotlib.colorbar._ColorbarAutoLocator object at 0x7f5628dc6240>\n",
      "2019-12-17 13:11:53.436Z matplotlib.colorbar 10 colorbar.py:608 Using auto colorbar locator on colorbar\n",
      "2019-12-17 13:11:53.436Z matplotlib.colorbar 10 colorbar.py:609 locator: <matplotlib.colorbar._ColorbarAutoLocator object at 0x7f5628dc6240>\n",
      "2019-12-17 13:11:53.436Z matplotlib.colorbar 10 colorbar.py:780 Setting pcolormesh\n",
      "2019-12-17 13:11:53.489Z matplotlib.figure 10 figure.py:2411 Executing constrainedlayout\n",
      "2019-12-17 13:11:53.619Z matplotlib.figure 10 figure.py:2411 Executing constrainedlayout\n",
      "2019-12-17 13:11:53.737Z matplotlib.colorbar 10 colorbar.py:560 locator: <matplotlib.colorbar._ColorbarAutoLocator object at 0x7f5621dcf4a8>\n",
      "2019-12-17 13:11:53.738Z matplotlib.colorbar 10 colorbar.py:608 Using auto colorbar locator on colorbar\n",
      "2019-12-17 13:11:53.738Z matplotlib.colorbar 10 colorbar.py:609 locator: <matplotlib.colorbar._ColorbarAutoLocator object at 0x7f5621dcf4a8>\n",
      "2019-12-17 13:11:53.738Z matplotlib.colorbar 10 colorbar.py:780 Setting pcolormesh\n",
      "2019-12-17 13:11:53.789Z matplotlib.figure 10 figure.py:2411 Executing constrainedlayout\n",
      "2019-12-17 13:11:53.922Z matplotlib.figure 10 figure.py:2411 Executing constrainedlayout\n",
      "2019-12-17 13:11:54.039Z matplotlib.colorbar 10 colorbar.py:560 locator: <matplotlib.colorbar._ColorbarAutoLocator object at 0x7f562359c6d8>\n",
      "2019-12-17 13:11:54.040Z matplotlib.colorbar 10 colorbar.py:608 Using auto colorbar locator on colorbar\n",
      "2019-12-17 13:11:54.040Z matplotlib.colorbar 10 colorbar.py:609 locator: <matplotlib.colorbar._ColorbarAutoLocator object at 0x7f562359c6d8>\n",
      "2019-12-17 13:11:54.040Z matplotlib.colorbar 10 colorbar.py:780 Setting pcolormesh\n",
      "2019-12-17 13:11:54.091Z matplotlib.figure 10 figure.py:2411 Executing constrainedlayout\n",
      "2019-12-17 13:11:54.230Z matplotlib.figure 10 figure.py:2411 Executing constrainedlayout\n",
      "2019-12-17 13:11:54.355Z matplotlib.colorbar 10 colorbar.py:560 locator: <matplotlib.colorbar._ColorbarAutoLocator object at 0x7f562a6ee908>\n",
      "2019-12-17 13:11:54.355Z matplotlib.colorbar 10 colorbar.py:608 Using auto colorbar locator on colorbar\n",
      "2019-12-17 13:11:54.356Z matplotlib.colorbar 10 colorbar.py:609 locator: <matplotlib.colorbar._ColorbarAutoLocator object at 0x7f562a6ee908>\n",
      "2019-12-17 13:11:54.356Z matplotlib.colorbar 10 colorbar.py:780 Setting pcolormesh\n",
      "2019-12-17 13:11:54.405Z matplotlib.figure 10 figure.py:2411 Executing constrainedlayout\n",
      "2019-12-17 13:11:54.550Z matplotlib.figure 10 figure.py:2411 Executing constrainedlayout\n",
      "2019-12-17 13:11:54.675Z matplotlib.colorbar 10 colorbar.py:560 locator: <matplotlib.colorbar._ColorbarAutoLocator object at 0x7f5628861b38>\n",
      "2019-12-17 13:11:54.676Z matplotlib.colorbar 10 colorbar.py:608 Using auto colorbar locator on colorbar\n",
      "2019-12-17 13:11:54.676Z matplotlib.colorbar 10 colorbar.py:609 locator: <matplotlib.colorbar._ColorbarAutoLocator object at 0x7f5628861b38>\n",
      "2019-12-17 13:11:54.677Z matplotlib.colorbar 10 colorbar.py:780 Setting pcolormesh\n",
      "2019-12-17 13:11:54.728Z matplotlib.figure 10 figure.py:2411 Executing constrainedlayout\n",
      "2019-12-17 13:11:54.873Z matplotlib.figure 10 figure.py:2411 Executing constrainedlayout\n",
      "2019-12-17 13:11:54.999Z matplotlib.colorbar 10 colorbar.py:560 locator: <matplotlib.colorbar._ColorbarAutoLocator object at 0x7f5629bbfc18>\n",
      "2019-12-17 13:11:54.999Z matplotlib.colorbar 10 colorbar.py:608 Using auto colorbar locator on colorbar\n",
      "2019-12-17 13:11:55.000Z matplotlib.colorbar 10 colorbar.py:609 locator: <matplotlib.colorbar._ColorbarAutoLocator object at 0x7f5629bbfc18>\n",
      "2019-12-17 13:11:55.000Z matplotlib.colorbar 10 colorbar.py:780 Setting pcolormesh\n",
      "2019-12-17 13:11:55.052Z matplotlib.figure 10 figure.py:2411 Executing constrainedlayout\n",
      "2019-12-17 13:11:55.199Z matplotlib.figure 10 figure.py:2411 Executing constrainedlayout\n",
      "2019-12-17 13:11:55.324Z matplotlib.colorbar 10 colorbar.py:560 locator: <matplotlib.colorbar._ColorbarAutoLocator object at 0x7f562a793cf8>\n",
      "2019-12-17 13:11:55.325Z matplotlib.colorbar 10 colorbar.py:608 Using auto colorbar locator on colorbar\n",
      "2019-12-17 13:11:55.325Z matplotlib.colorbar 10 colorbar.py:609 locator: <matplotlib.colorbar._ColorbarAutoLocator object at 0x7f562a793cf8>\n",
      "2019-12-17 13:11:55.326Z matplotlib.colorbar 10 colorbar.py:780 Setting pcolormesh\n",
      "2019-12-17 13:11:55.378Z matplotlib.figure 10 figure.py:2411 Executing constrainedlayout\n",
      "2019-12-17 13:11:55.517Z matplotlib.figure 10 figure.py:2411 Executing constrainedlayout\n",
      "2019-12-17 13:11:55.647Z matplotlib.colorbar 10 colorbar.py:560 locator: <matplotlib.colorbar._ColorbarAutoLocator object at 0x7f562b7b5dd8>\n",
      "2019-12-17 13:11:55.647Z matplotlib.colorbar 10 colorbar.py:608 Using auto colorbar locator on colorbar\n",
      "2019-12-17 13:11:55.648Z matplotlib.colorbar 10 colorbar.py:609 locator: <matplotlib.colorbar._ColorbarAutoLocator object at 0x7f562b7b5dd8>\n",
      "2019-12-17 13:11:55.648Z matplotlib.colorbar 10 colorbar.py:780 Setting pcolormesh\n",
      "2019-12-17 13:11:55.696Z matplotlib.figure 10 figure.py:2411 Executing constrainedlayout\n",
      "2019-12-17 13:11:55.831Z matplotlib.figure 10 figure.py:2411 Executing constrainedlayout\n",
      "2019-12-17 13:11:55.957Z matplotlib.colorbar 10 colorbar.py:560 locator: <matplotlib.colorbar._ColorbarAutoLocator object at 0x7f562be6e208>\n",
      "2019-12-17 13:11:55.958Z matplotlib.colorbar 10 colorbar.py:608 Using auto colorbar locator on colorbar\n",
      "2019-12-17 13:11:55.958Z matplotlib.colorbar 10 colorbar.py:609 locator: <matplotlib.colorbar._ColorbarAutoLocator object at 0x7f562be6e208>\n",
      "2019-12-17 13:11:55.958Z matplotlib.colorbar 10 colorbar.py:780 Setting pcolormesh\n",
      "2019-12-17 13:11:56.005Z matplotlib.figure 10 figure.py:2411 Executing constrainedlayout\n",
      "2019-12-17 13:11:56.142Z matplotlib.figure 10 figure.py:2411 Executing constrainedlayout\n",
      "2019-12-17 13:11:56.263Z matplotlib.colorbar 10 colorbar.py:560 locator: <matplotlib.colorbar._ColorbarAutoLocator object at 0x7f562ba99128>\n",
      "2019-12-17 13:11:56.263Z matplotlib.colorbar 10 colorbar.py:608 Using auto colorbar locator on colorbar\n",
      "2019-12-17 13:11:56.264Z matplotlib.colorbar 10 colorbar.py:609 locator: <matplotlib.colorbar._ColorbarAutoLocator object at 0x7f562ba99128>\n",
      "2019-12-17 13:11:56.264Z matplotlib.colorbar 10 colorbar.py:780 Setting pcolormesh\n",
      "2019-12-17 13:11:56.310Z matplotlib.figure 10 figure.py:2411 Executing constrainedlayout\n",
      "2019-12-17 13:11:56.452Z matplotlib.figure 10 figure.py:2411 Executing constrainedlayout\n",
      "2019-12-17 13:11:56.734Z matplotlib.colorbar 10 colorbar.py:560 locator: <matplotlib.colorbar._ColorbarAutoLocator object at 0x7f5628006b00>\n",
      "2019-12-17 13:11:56.735Z matplotlib.colorbar 10 colorbar.py:608 Using auto colorbar locator on colorbar\n",
      "2019-12-17 13:11:56.735Z matplotlib.colorbar 10 colorbar.py:609 locator: <matplotlib.colorbar._ColorbarAutoLocator object at 0x7f5628006b00>\n",
      "2019-12-17 13:11:56.735Z matplotlib.colorbar 10 colorbar.py:780 Setting pcolormesh\n",
      "2019-12-17 13:11:56.787Z matplotlib.figure 10 figure.py:2411 Executing constrainedlayout\n",
      "2019-12-17 13:11:56.924Z matplotlib.figure 10 figure.py:2411 Executing constrainedlayout\n",
      "2019-12-17 13:11:57.044Z matplotlib.colorbar 10 colorbar.py:560 locator: <matplotlib.colorbar._ColorbarAutoLocator object at 0x7f562b504d68>\n",
      "2019-12-17 13:11:57.045Z matplotlib.colorbar 10 colorbar.py:608 Using auto colorbar locator on colorbar\n",
      "2019-12-17 13:11:57.045Z matplotlib.colorbar 10 colorbar.py:609 locator: <matplotlib.colorbar._ColorbarAutoLocator object at 0x7f562b504d68>\n",
      "2019-12-17 13:11:57.045Z matplotlib.colorbar 10 colorbar.py:780 Setting pcolormesh\n",
      "2019-12-17 13:11:57.097Z matplotlib.figure 10 figure.py:2411 Executing constrainedlayout\n",
      "2019-12-17 13:11:57.231Z matplotlib.figure 10 figure.py:2411 Executing constrainedlayout\n",
      "2019-12-17 13:11:57.352Z matplotlib.colorbar 10 colorbar.py:560 locator: <matplotlib.colorbar._ColorbarAutoLocator object at 0x7f562b27f048>\n",
      "2019-12-17 13:11:57.352Z matplotlib.colorbar 10 colorbar.py:608 Using auto colorbar locator on colorbar\n"
     ]
    },
    {
     "name": "stderr",
     "output_type": "stream",
     "text": [
      "2019-12-17 13:11:57.353Z matplotlib.colorbar 10 colorbar.py:609 locator: <matplotlib.colorbar._ColorbarAutoLocator object at 0x7f562b27f048>\n",
      "2019-12-17 13:11:57.353Z matplotlib.colorbar 10 colorbar.py:780 Setting pcolormesh\n",
      "2019-12-17 13:11:57.409Z matplotlib.figure 10 figure.py:2411 Executing constrainedlayout\n",
      "2019-12-17 13:11:57.542Z matplotlib.figure 10 figure.py:2411 Executing constrainedlayout\n",
      "2019-12-17 13:11:57.667Z matplotlib.colorbar 10 colorbar.py:560 locator: <matplotlib.colorbar._ColorbarAutoLocator object at 0x7f562af1f0b8>\n",
      "2019-12-17 13:11:57.668Z matplotlib.colorbar 10 colorbar.py:608 Using auto colorbar locator on colorbar\n",
      "2019-12-17 13:11:57.668Z matplotlib.colorbar 10 colorbar.py:609 locator: <matplotlib.colorbar._ColorbarAutoLocator object at 0x7f562af1f0b8>\n",
      "2019-12-17 13:11:57.668Z matplotlib.colorbar 10 colorbar.py:780 Setting pcolormesh\n",
      "2019-12-17 13:11:57.720Z matplotlib.figure 10 figure.py:2411 Executing constrainedlayout\n",
      "2019-12-17 13:11:57.861Z matplotlib.figure 10 figure.py:2411 Executing constrainedlayout\n",
      "2019-12-17 13:11:57.986Z matplotlib.colorbar 10 colorbar.py:560 locator: <matplotlib.colorbar._ColorbarAutoLocator object at 0x7f562abc5198>\n",
      "2019-12-17 13:11:57.987Z matplotlib.colorbar 10 colorbar.py:608 Using auto colorbar locator on colorbar\n",
      "2019-12-17 13:11:57.987Z matplotlib.colorbar 10 colorbar.py:609 locator: <matplotlib.colorbar._ColorbarAutoLocator object at 0x7f562abc5198>\n",
      "2019-12-17 13:11:57.987Z matplotlib.colorbar 10 colorbar.py:780 Setting pcolormesh\n",
      "2019-12-17 13:11:58.038Z matplotlib.figure 10 figure.py:2411 Executing constrainedlayout\n",
      "2019-12-17 13:11:58.181Z matplotlib.figure 10 figure.py:2411 Executing constrainedlayout\n",
      "2019-12-17 13:11:58.311Z matplotlib.colorbar 10 colorbar.py:560 locator: <matplotlib.colorbar._ColorbarAutoLocator object at 0x7f562a92c278>\n",
      "2019-12-17 13:11:58.311Z matplotlib.colorbar 10 colorbar.py:608 Using auto colorbar locator on colorbar\n",
      "2019-12-17 13:11:58.311Z matplotlib.colorbar 10 colorbar.py:609 locator: <matplotlib.colorbar._ColorbarAutoLocator object at 0x7f562a92c278>\n",
      "2019-12-17 13:11:58.312Z matplotlib.colorbar 10 colorbar.py:780 Setting pcolormesh\n",
      "2019-12-17 13:11:58.358Z matplotlib.figure 10 figure.py:2411 Executing constrainedlayout\n",
      "2019-12-17 13:11:58.499Z matplotlib.figure 10 figure.py:2411 Executing constrainedlayout\n",
      "2019-12-17 13:11:58.634Z matplotlib.colorbar 10 colorbar.py:560 locator: <matplotlib.colorbar._ColorbarAutoLocator object at 0x7f562a5d54a8>\n",
      "2019-12-17 13:11:58.635Z matplotlib.colorbar 10 colorbar.py:608 Using auto colorbar locator on colorbar\n",
      "2019-12-17 13:11:58.635Z matplotlib.colorbar 10 colorbar.py:609 locator: <matplotlib.colorbar._ColorbarAutoLocator object at 0x7f562a5d54a8>\n",
      "2019-12-17 13:11:58.636Z matplotlib.colorbar 10 colorbar.py:780 Setting pcolormesh\n",
      "2019-12-17 13:11:58.688Z matplotlib.figure 10 figure.py:2411 Executing constrainedlayout\n",
      "2019-12-17 13:11:58.834Z matplotlib.figure 10 figure.py:2411 Executing constrainedlayout\n",
      "2019-12-17 13:11:58.953Z matplotlib.colorbar 10 colorbar.py:560 locator: <matplotlib.colorbar._ColorbarAutoLocator object at 0x7f562a283588>\n",
      "2019-12-17 13:11:58.954Z matplotlib.colorbar 10 colorbar.py:608 Using auto colorbar locator on colorbar\n",
      "2019-12-17 13:11:58.954Z matplotlib.colorbar 10 colorbar.py:609 locator: <matplotlib.colorbar._ColorbarAutoLocator object at 0x7f562a283588>\n",
      "2019-12-17 13:11:58.955Z matplotlib.colorbar 10 colorbar.py:780 Setting pcolormesh\n",
      "2019-12-17 13:11:59.003Z matplotlib.figure 10 figure.py:2411 Executing constrainedlayout\n",
      "2019-12-17 13:11:59.146Z matplotlib.figure 10 figure.py:2411 Executing constrainedlayout\n",
      "2019-12-17 13:11:59.264Z matplotlib.colorbar 10 colorbar.py:560 locator: <matplotlib.colorbar._ColorbarAutoLocator object at 0x7f5629ff0668>\n",
      "2019-12-17 13:11:59.264Z matplotlib.colorbar 10 colorbar.py:608 Using auto colorbar locator on colorbar\n",
      "2019-12-17 13:11:59.265Z matplotlib.colorbar 10 colorbar.py:609 locator: <matplotlib.colorbar._ColorbarAutoLocator object at 0x7f5629ff0668>\n",
      "2019-12-17 13:11:59.265Z matplotlib.colorbar 10 colorbar.py:780 Setting pcolormesh\n",
      "2019-12-17 13:11:59.311Z matplotlib.figure 10 figure.py:2411 Executing constrainedlayout\n",
      "2019-12-17 13:11:59.452Z matplotlib.figure 10 figure.py:2411 Executing constrainedlayout\n",
      "2019-12-17 13:11:59.571Z matplotlib.colorbar 10 colorbar.py:560 locator: <matplotlib.colorbar._ColorbarAutoLocator object at 0x7f5629c5c898>\n",
      "2019-12-17 13:11:59.572Z matplotlib.colorbar 10 colorbar.py:608 Using auto colorbar locator on colorbar\n",
      "2019-12-17 13:11:59.572Z matplotlib.colorbar 10 colorbar.py:609 locator: <matplotlib.colorbar._ColorbarAutoLocator object at 0x7f5629c5c898>\n",
      "2019-12-17 13:11:59.573Z matplotlib.colorbar 10 colorbar.py:780 Setting pcolormesh\n",
      "2019-12-17 13:11:59.620Z matplotlib.figure 10 figure.py:2411 Executing constrainedlayout\n",
      "2019-12-17 13:11:59.764Z matplotlib.figure 10 figure.py:2411 Executing constrainedlayout\n",
      "2019-12-17 13:11:59.882Z matplotlib.colorbar 10 colorbar.py:560 locator: <matplotlib.colorbar._ColorbarAutoLocator object at 0x7f5629904ac8>\n",
      "2019-12-17 13:11:59.882Z matplotlib.colorbar 10 colorbar.py:608 Using auto colorbar locator on colorbar\n",
      "2019-12-17 13:11:59.883Z matplotlib.colorbar 10 colorbar.py:609 locator: <matplotlib.colorbar._ColorbarAutoLocator object at 0x7f5629904ac8>\n",
      "2019-12-17 13:11:59.883Z matplotlib.colorbar 10 colorbar.py:780 Setting pcolormesh\n",
      "2019-12-17 13:11:59.939Z matplotlib.figure 10 figure.py:2411 Executing constrainedlayout\n",
      "2019-12-17 13:12:00.084Z matplotlib.figure 10 figure.py:2411 Executing constrainedlayout\n",
      "2019-12-17 13:12:00.222Z matplotlib.colorbar 10 colorbar.py:560 locator: <matplotlib.colorbar._ColorbarAutoLocator object at 0x7f562966ccf8>\n",
      "2019-12-17 13:12:00.222Z matplotlib.colorbar 10 colorbar.py:608 Using auto colorbar locator on colorbar\n",
      "2019-12-17 13:12:00.223Z matplotlib.colorbar 10 colorbar.py:609 locator: <matplotlib.colorbar._ColorbarAutoLocator object at 0x7f562966ccf8>\n",
      "2019-12-17 13:12:00.223Z matplotlib.colorbar 10 colorbar.py:780 Setting pcolormesh\n",
      "2019-12-17 13:12:00.273Z matplotlib.figure 10 figure.py:2411 Executing constrainedlayout\n",
      "2019-12-17 13:12:00.425Z matplotlib.figure 10 figure.py:2411 Executing constrainedlayout\n",
      "2019-12-17 13:12:00.789Z matplotlib.colorbar 10 colorbar.py:560 locator: <matplotlib.colorbar._ColorbarAutoLocator object at 0x7f562a5385c0>\n",
      "2019-12-17 13:12:00.790Z matplotlib.colorbar 10 colorbar.py:608 Using auto colorbar locator on colorbar\n",
      "2019-12-17 13:12:00.790Z matplotlib.colorbar 10 colorbar.py:609 locator: <matplotlib.colorbar._ColorbarAutoLocator object at 0x7f562a5385c0>\n",
      "2019-12-17 13:12:00.791Z matplotlib.colorbar 10 colorbar.py:780 Setting pcolormesh\n",
      "2019-12-17 13:12:00.845Z matplotlib.figure 10 figure.py:2411 Executing constrainedlayout\n",
      "2019-12-17 13:12:00.987Z matplotlib.figure 10 figure.py:2411 Executing constrainedlayout\n",
      "2019-12-17 13:12:01.106Z matplotlib.colorbar 10 colorbar.py:560 locator: <matplotlib.colorbar._ColorbarAutoLocator object at 0x7f5628f31828>\n",
      "2019-12-17 13:12:01.107Z matplotlib.colorbar 10 colorbar.py:608 Using auto colorbar locator on colorbar\n",
      "2019-12-17 13:12:01.107Z matplotlib.colorbar 10 colorbar.py:609 locator: <matplotlib.colorbar._ColorbarAutoLocator object at 0x7f5628f31828>\n",
      "2019-12-17 13:12:01.107Z matplotlib.colorbar 10 colorbar.py:780 Setting pcolormesh\n",
      "2019-12-17 13:12:01.158Z matplotlib.figure 10 figure.py:2411 Executing constrainedlayout\n",
      "2019-12-17 13:12:01.298Z matplotlib.figure 10 figure.py:2411 Executing constrainedlayout\n",
      "2019-12-17 13:12:01.417Z matplotlib.colorbar 10 colorbar.py:560 locator: <matplotlib.colorbar._ColorbarAutoLocator object at 0x7f5628b97908>\n",
      "2019-12-17 13:12:01.417Z matplotlib.colorbar 10 colorbar.py:608 Using auto colorbar locator on colorbar\n",
      "2019-12-17 13:12:01.418Z matplotlib.colorbar 10 colorbar.py:609 locator: <matplotlib.colorbar._ColorbarAutoLocator object at 0x7f5628b97908>\n",
      "2019-12-17 13:12:01.418Z matplotlib.colorbar 10 colorbar.py:780 Setting pcolormesh\n",
      "2019-12-17 13:12:01.469Z matplotlib.figure 10 figure.py:2411 Executing constrainedlayout\n",
      "2019-12-17 13:12:01.614Z matplotlib.figure 10 figure.py:2411 Executing constrainedlayout\n",
      "2019-12-17 13:12:01.734Z matplotlib.colorbar 10 colorbar.py:560 locator: <matplotlib.colorbar._ColorbarAutoLocator object at 0x7f56288c1b38>\n"
     ]
    },
    {
     "name": "stderr",
     "output_type": "stream",
     "text": [
      "2019-12-17 13:12:01.734Z matplotlib.colorbar 10 colorbar.py:608 Using auto colorbar locator on colorbar\n",
      "2019-12-17 13:12:01.735Z matplotlib.colorbar 10 colorbar.py:609 locator: <matplotlib.colorbar._ColorbarAutoLocator object at 0x7f56288c1b38>\n",
      "2019-12-17 13:12:01.735Z matplotlib.colorbar 10 colorbar.py:780 Setting pcolormesh\n",
      "2019-12-17 13:12:01.791Z matplotlib.figure 10 figure.py:2411 Executing constrainedlayout\n",
      "2019-12-17 13:12:01.931Z matplotlib.figure 10 figure.py:2411 Executing constrainedlayout\n",
      "2019-12-17 13:12:02.054Z matplotlib.colorbar 10 colorbar.py:560 locator: <matplotlib.colorbar._ColorbarAutoLocator object at 0x7f56285a8c18>\n",
      "2019-12-17 13:12:02.055Z matplotlib.colorbar 10 colorbar.py:608 Using auto colorbar locator on colorbar\n",
      "2019-12-17 13:12:02.055Z matplotlib.colorbar 10 colorbar.py:609 locator: <matplotlib.colorbar._ColorbarAutoLocator object at 0x7f56285a8c18>\n",
      "2019-12-17 13:12:02.056Z matplotlib.colorbar 10 colorbar.py:780 Setting pcolormesh\n",
      "2019-12-17 13:12:02.108Z matplotlib.figure 10 figure.py:2411 Executing constrainedlayout\n",
      "2019-12-17 13:12:02.252Z matplotlib.figure 10 figure.py:2411 Executing constrainedlayout\n",
      "2019-12-17 13:12:02.378Z matplotlib.colorbar 10 colorbar.py:560 locator: <matplotlib.colorbar._ColorbarAutoLocator object at 0x7f56282a0048>\n",
      "2019-12-17 13:12:02.379Z matplotlib.colorbar 10 colorbar.py:608 Using auto colorbar locator on colorbar\n",
      "2019-12-17 13:12:02.379Z matplotlib.colorbar 10 colorbar.py:609 locator: <matplotlib.colorbar._ColorbarAutoLocator object at 0x7f56282a0048>\n",
      "2019-12-17 13:12:02.379Z matplotlib.colorbar 10 colorbar.py:780 Setting pcolormesh\n",
      "2019-12-17 13:12:02.423Z matplotlib.figure 10 figure.py:2411 Executing constrainedlayout\n",
      "2019-12-17 13:12:02.559Z matplotlib.figure 10 figure.py:2411 Executing constrainedlayout\n",
      "2019-12-17 13:12:02.696Z matplotlib.colorbar 10 colorbar.py:560 locator: <matplotlib.colorbar._ColorbarAutoLocator object at 0x7f5623e48128>\n",
      "2019-12-17 13:12:02.697Z matplotlib.colorbar 10 colorbar.py:608 Using auto colorbar locator on colorbar\n",
      "2019-12-17 13:12:02.697Z matplotlib.colorbar 10 colorbar.py:609 locator: <matplotlib.colorbar._ColorbarAutoLocator object at 0x7f5623e48128>\n",
      "2019-12-17 13:12:02.697Z matplotlib.colorbar 10 colorbar.py:780 Setting pcolormesh\n",
      "2019-12-17 13:12:02.753Z matplotlib.figure 10 figure.py:2411 Executing constrainedlayout\n",
      "2019-12-17 13:12:02.894Z matplotlib.figure 10 figure.py:2411 Executing constrainedlayout\n",
      "2019-12-17 13:12:03.020Z matplotlib.colorbar 10 colorbar.py:560 locator: <matplotlib.colorbar._ColorbarAutoLocator object at 0x7f5623b31198>\n",
      "2019-12-17 13:12:03.021Z matplotlib.colorbar 10 colorbar.py:608 Using auto colorbar locator on colorbar\n",
      "2019-12-17 13:12:03.021Z matplotlib.colorbar 10 colorbar.py:609 locator: <matplotlib.colorbar._ColorbarAutoLocator object at 0x7f5623b31198>\n",
      "2019-12-17 13:12:03.022Z matplotlib.colorbar 10 colorbar.py:780 Setting pcolormesh\n",
      "2019-12-17 13:12:03.078Z matplotlib.figure 10 figure.py:2411 Executing constrainedlayout\n",
      "2019-12-17 13:12:03.222Z matplotlib.figure 10 figure.py:2411 Executing constrainedlayout\n",
      "2019-12-17 13:12:03.353Z matplotlib.colorbar 10 colorbar.py:560 locator: <matplotlib.colorbar._ColorbarAutoLocator object at 0x7f56237da278>\n",
      "2019-12-17 13:12:03.353Z matplotlib.colorbar 10 colorbar.py:608 Using auto colorbar locator on colorbar\n",
      "2019-12-17 13:12:03.354Z matplotlib.colorbar 10 colorbar.py:609 locator: <matplotlib.colorbar._ColorbarAutoLocator object at 0x7f56237da278>\n",
      "2019-12-17 13:12:03.354Z matplotlib.colorbar 10 colorbar.py:780 Setting pcolormesh\n",
      "2019-12-17 13:12:03.408Z matplotlib.figure 10 figure.py:2411 Executing constrainedlayout\n",
      "2019-12-17 13:12:03.607Z matplotlib.figure 10 figure.py:2411 Executing constrainedlayout\n"
     ]
    },
    {
     "name": "stdout",
     "output_type": "stream",
     "text": [
      "convert /data/MCS/20191217_031/output/Con*_[0-9].png /data/MCS/20191217_031/output/Con*_[0-9]?.png /data/MCS/20191217_031/output/converge_theta.pdf\n"
     ]
    }
   ],
   "source": [
    "vis = visDianosticPlot.VisDianosticPlot('/data/MCS/20191217_031/data/', brokens=broken, camSplit=28)\n",
    "vis.visConverge(figPath=f'/data/MCS/20191217_031/output/',runs = 34,\n",
    "                    arm='theta',pdffile= f'/data/MCS/20191217_031/output/converge_theta.pdf')"
   ]
  },
  {
   "cell_type": "code",
   "execution_count": null,
   "metadata": {},
   "outputs": [],
   "source": [
    "xml = pathlib.Path('/data/MCS/20191213_048/output/SC04_theta_500.xml')\n",
    "broken=[]\n",
    "\n",
    "mt = ModuleTest('fpga', xml, brokens=broken)\n",
    "\n",
    "\n",
    "mt.gotoSafeFromPhi60(phiAngle=60.0, tolerance=1.0)"
   ]
  },
  {
   "cell_type": "code",
   "execution_count": null,
   "metadata": {},
   "outputs": [],
   "source": [
    "mt.pfi.moveAllSteps(mt.goodCobras, 0, -5000)"
   ]
  },
  {
   "cell_type": "code",
   "execution_count": null,
   "metadata": {},
   "outputs": [],
   "source": []
  }
 ],
 "metadata": {
  "kernelspec": {
   "display_name": "Python 3",
   "language": "python",
   "name": "python3"
  },
  "language_info": {
   "codemirror_mode": {
    "name": "ipython",
    "version": 3
   },
   "file_extension": ".py",
   "mimetype": "text/x-python",
   "name": "python",
   "nbconvert_exporter": "python",
   "pygments_lexer": "ipython3",
   "version": "3.7.3"
  }
 },
 "nbformat": 4,
 "nbformat_minor": 2
}
