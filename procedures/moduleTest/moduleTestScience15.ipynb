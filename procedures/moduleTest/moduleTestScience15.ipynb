{
 "cells": [
  {
   "cell_type": "code",
   "execution_count": 2,
   "metadata": {},
   "outputs": [
    {
     "name": "stderr",
     "output_type": "stream",
     "text": [
      "2019-12-26 15:07:25.885Z matplotlib       10 __init__.py:271 $HOME=/home/pfs\n",
      "2019-12-26 15:07:25.886Z matplotlib       10 __init__.py:271 CONFIGDIR=/home/pfs/.config/matplotlib\n",
      "2019-12-26 15:07:25.886Z matplotlib       10 __init__.py:271 matplotlib data path: /home/pfs/anaconda3/lib/python3.7/site-packages/matplotlib/mpl-data\n",
      "2019-12-26 15:07:25.888Z matplotlib       10 __init__.py:997 loaded rc file /home/pfs/anaconda3/lib/python3.7/site-packages/matplotlib/mpl-data/matplotlibrc\n",
      "2019-12-26 15:07:25.890Z matplotlib       10 __init__.py:1634 matplotlib version 3.1.0\n",
      "2019-12-26 15:07:25.890Z matplotlib       10 __init__.py:1635 interactive is False\n",
      "2019-12-26 15:07:25.890Z matplotlib       10 __init__.py:1636 platform is linux\n",
      "2019-12-26 15:07:25.891Z matplotlib       10 __init__.py:1637 loaded modules: ['sys', 'builtins', '_frozen_importlib', '_imp', '_thread', '_warnings', '_weakref', 'zipimport', '_frozen_importlib_external', '_io', 'marshal', 'posix', 'encodings', 'codecs', '_codecs', 'encodings.aliases', 'encodings.utf_8', '_signal', '__main__', 'encodings.latin_1', 'io', 'abc', '_abc', '_bootlocale', '_locale', 'site', 'os', 'stat', '_stat', 'posixpath', 'genericpath', 'os.path', '_collections_abc', '_sitebuiltins', 'types', 'importlib', 'importlib._bootstrap', 'importlib._bootstrap_external', 'warnings', 'importlib.util', 'importlib.abc', 'importlib.machinery', 'contextlib', 'collections', 'operator', '_operator', 'keyword', 'heapq', '_heapq', 'itertools', 'reprlib', '_collections', 'functools', '_functools', 'mpl_toolkits', 'sphinxcontrib', 'runpy', 'pkgutil', 'weakref', '_weakrefset', 'ipykernel', 'ipykernel._version', 'ipykernel.connect', '__future__', 'json', 'json.decoder', 're', 'enum', 'sre_compile', '_sre', 'sre_parse', 'sre_constants', 'copyreg', 'json.scanner', '_json', 'json.encoder', 'subprocess', 'time', 'signal', 'errno', '_posixsubprocess', 'select', 'selectors', 'collections.abc', 'math', 'threading', 'traceback', 'linecache', 'tokenize', 'token', 'IPython', 'IPython.core', 'IPython.core.getipython', 'IPython.core.release', 'IPython.core.application', 'atexit', 'copy', 'glob', 'fnmatch', 'logging', 'string', '_string', 'shutil', 'zlib', 'bz2', '_compression', '_bz2', 'lzma', '_lzma', 'pwd', 'grp', 'traitlets', 'traitlets.traitlets', 'inspect', 'dis', 'opcode', '_opcode', 'six', 'struct', '_struct', 'traitlets.utils', 'traitlets.utils.getargspec', 'traitlets.utils.importstring', 'ipython_genutils', 'ipython_genutils._version', 'ipython_genutils.py3compat', 'ipython_genutils.encoding', 'locale', 'platform', 'traitlets.utils.sentinel', 'traitlets.utils.bunch', 'traitlets._version', 'traitlets.config', 'traitlets.config.application', 'decorator', 'traitlets.config.configurable', 'traitlets.config.loader', 'argparse', 'gettext', 'ast', '_ast', 'ipython_genutils.path', 'random', 'hashlib', '_hashlib', '_blake2', '_sha3', 'bisect', '_bisect', '_random', 'ipython_genutils.text', 'textwrap', 'ipython_genutils.importstring', 'IPython.core.crashhandler', 'pprint', 'IPython.core.ultratb', 'pydoc', 'urllib', 'urllib.parse', 'IPython.core.debugger', 'bdb', 'IPython.utils', 'IPython.utils.PyColorize', 'IPython.utils.coloransi', 'IPython.utils.ipstruct', 'IPython.utils.colorable', 'pygments', 'pygments.util', 'IPython.utils.py3compat', 'IPython.utils.encoding', 'IPython.core.excolors', 'IPython.testing', 'IPython.testing.skipdoctest', 'pdb', 'cmd', 'code', 'codeop', 'IPython.core.display_trap', 'IPython.utils.path', 'IPython.utils.process', 'IPython.utils._process_posix', 'pexpect', 'pexpect.exceptions', 'pexpect.utils', 'pexpect.expect', 'pexpect.pty_spawn', 'pty', 'tty', 'termios', 'ptyprocess', 'ptyprocess.ptyprocess', 'fcntl', 'resource', 'ptyprocess.util', 'pexpect.spawnbase', 'pexpect.run', 'IPython.utils._process_common', 'shlex', 'IPython.utils.decorators', 'IPython.utils.data', 'IPython.utils.terminal', 'IPython.utils.sysinfo', 'IPython.utils._sysinfo', 'IPython.core.profiledir', 'IPython.paths', 'tempfile', 'IPython.utils.importstring', 'IPython.terminal', 'IPython.terminal.embed', 'IPython.core.compilerop', 'IPython.core.magic_arguments', 'IPython.core.error', 'IPython.utils.text', 'pathlib', 'ntpath', 'IPython.core.magic', 'getopt', 'IPython.core.oinspect', 'IPython.core.page', 'IPython.core.display', 'binascii', 'mimetypes', 'IPython.lib', 'IPython.lib.security', 'getpass', 'IPython.lib.pretty', 'datetime', '_datetime', 'IPython.utils.openpy', 'IPython.utils.dir2', 'IPython.utils.wildcard', 'pygments.lexers', 'pygments.lexers._mapping', 'pygments.modeline', 'pygments.plugin', 'pygments.lexers.python', 'pygments.lexer', 'pygments.filter', 'pygments.filters', 'pygments.token', 'pygments.regexopt', 'pygments.unistring', 'pygments.formatters', 'pygments.formatters._mapping', 'pygments.formatters.html', 'pygments.formatter', 'pygments.styles', 'IPython.core.inputtransformer2', 'typing', 'typing.io', 'typing.re', 'IPython.core.interactiveshell', 'asyncio', 'asyncio.base_events', 'concurrent', 'concurrent.futures', 'concurrent.futures._base', 'socket', '_socket', 'ssl', '_ssl', 'base64', 'asyncio.constants', 'asyncio.coroutines', 'asyncio.base_futures', 'asyncio.format_helpers', 'asyncio.log', 'asyncio.events', 'contextvars', '_contextvars', 'asyncio.base_tasks', '_asyncio', 'asyncio.futures', 'asyncio.protocols', 'asyncio.sslproto', 'asyncio.transports', 'asyncio.tasks', 'asyncio.locks', 'asyncio.runners', 'asyncio.queues', 'asyncio.streams', 'asyncio.subprocess', 'asyncio.unix_events', 'asyncio.base_subprocess', 'asyncio.selector_events', 'pickleshare', 'pickle', '_compat_pickle', '_pickle', 'IPython.core.prefilter', 'IPython.core.autocall', 'IPython.core.macro', 'IPython.core.splitinput', 'IPython.core.alias', 'IPython.core.builtin_trap', 'IPython.core.events', 'backcall', 'backcall.backcall', 'IPython.core.displayhook', 'IPython.core.displaypub', 'IPython.core.extensions', 'IPython.core.formatters', 'IPython.utils.sentinel', 'IPython.core.history', 'sqlite3', 'sqlite3.dbapi2', '_sqlite3', 'IPython.core.logger', 'IPython.core.payload', 'IPython.core.usage', 'IPython.display', 'IPython.lib.display', 'html', 'html.entities', 'IPython.utils.io', 'IPython.utils.capture', 'IPython.utils.strdispatch', 'IPython.core.hooks', 'IPython.utils.syspathcontext', 'IPython.utils.tempdir', 'IPython.utils.contexts', 'IPython.core.async_helpers', 'IPython.terminal.interactiveshell', 'prompt_toolkit', 'prompt_toolkit.application', 'prompt_toolkit.application.application', 'prompt_toolkit.buffer', 'prompt_toolkit.application.current', 'prompt_toolkit.eventloop', 'prompt_toolkit.eventloop.base', 'prompt_toolkit.log', 'prompt_toolkit.eventloop.coroutine', 'prompt_toolkit.eventloop.defaults', 'prompt_toolkit.utils', 'six.moves', 'wcwidth', 'wcwidth.wcwidth', 'wcwidth.table_wide', 'wcwidth.table_zero', 'prompt_toolkit.cache', 'prompt_toolkit.eventloop.future', 'prompt_toolkit.eventloop.context', 'prompt_toolkit.eventloop.async_generator', 'queue', '_queue', 'six.moves.queue', 'prompt_toolkit.eventloop.event', 'prompt_toolkit.application.run_in_terminal', 'prompt_toolkit.auto_suggest', 'prompt_toolkit.filters', 'prompt_toolkit.filters.base', 'prompt_toolkit.filters.app', 'prompt_toolkit.enums', 'prompt_toolkit.filters.utils', 'prompt_toolkit.filters.cli', 'prompt_toolkit.clipboard', 'prompt_toolkit.clipboard.base', 'prompt_toolkit.selection', 'prompt_toolkit.clipboard.in_memory', 'prompt_toolkit.completion', 'prompt_toolkit.completion.base', 'prompt_toolkit.completion.filesystem', 'prompt_toolkit.completion.word_completer', 'prompt_toolkit.completion.fuzzy_completer', 'prompt_toolkit.document', 'prompt_toolkit.history', 'prompt_toolkit.search', 'prompt_toolkit.key_binding', 'prompt_toolkit.key_binding.key_bindings', 'prompt_toolkit.keys', 'prompt_toolkit.key_binding.vi_state', 'prompt_toolkit.validation', 'prompt_toolkit.input', 'prompt_toolkit.input.base', 'prompt_toolkit.input.defaults', 'prompt_toolkit.input.typeahead', 'prompt_toolkit.key_binding.bindings', 'prompt_toolkit.key_binding.bindings.page_navigation', 'prompt_toolkit.key_binding.bindings.scroll', 'prompt_toolkit.key_binding.defaults', 'prompt_toolkit.key_binding.bindings.basic', 'prompt_toolkit.key_binding.key_processor', 'prompt_toolkit.key_binding.bindings.named_commands', 'prompt_toolkit.key_binding.bindings.completion', 'prompt_toolkit.key_binding.bindings.emacs', 'prompt_toolkit.key_binding.bindings.vi', 'prompt_toolkit.input.vt100_parser', 'prompt_toolkit.input.ansi_escape_sequences', 'prompt_toolkit.key_binding.digraphs', 'prompt_toolkit.key_binding.bindings.mouse', 'prompt_toolkit.layout', 'prompt_toolkit.layout.containers', 'prompt_toolkit.layout.controls', 'prompt_toolkit.formatted_text', 'prompt_toolkit.formatted_text.base', 'prompt_toolkit.formatted_text.html', 'xml', 'xml.dom', 'xml.dom.domreg', 'xml.dom.minidom', 'xml.dom.minicompat', 'xml.dom.xmlbuilder', 'xml.dom.NodeFilter', 'prompt_toolkit.formatted_text.ansi', 'prompt_toolkit.output', 'prompt_toolkit.output.base', 'prompt_toolkit.layout.screen', 'prompt_toolkit.output.defaults', 'prompt_toolkit.output.color_depth', 'prompt_toolkit.output.vt100', 'prompt_toolkit.styles', 'prompt_toolkit.styles.base', 'prompt_toolkit.styles.defaults', 'prompt_toolkit.styles.style', 'prompt_toolkit.styles.named_colors', 'prompt_toolkit.styles.pygments', 'prompt_toolkit.styles.style_transformation', 'colorsys', 'array', 'prompt_toolkit.formatted_text.pygments', 'prompt_toolkit.formatted_text.utils', 'prompt_toolkit.lexers', 'prompt_toolkit.lexers.base', 'prompt_toolkit.lexers.pygments', 'prompt_toolkit.mouse_events', 'prompt_toolkit.layout.processors', 'prompt_toolkit.layout.utils', 'prompt_toolkit.layout.dimension', 'prompt_toolkit.layout.margins', 'prompt_toolkit.layout.layout', 'prompt_toolkit.layout.menus', 'prompt_toolkit.renderer', 'prompt_toolkit.layout.mouse_handlers', 'prompt_toolkit.key_binding.bindings.cpr', 'prompt_toolkit.key_binding.emacs_state', 'prompt_toolkit.layout.dummy', 'prompt_toolkit.application.dummy', 'prompt_toolkit.shortcuts', 'prompt_toolkit.shortcuts.dialogs', 'prompt_toolkit.key_binding.bindings.focus', 'prompt_toolkit.widgets', 'prompt_toolkit.widgets.base', 'prompt_toolkit.widgets.toolbars', 'prompt_toolkit.widgets.dialogs', 'prompt_toolkit.widgets.menus', 'prompt_toolkit.shortcuts.prompt', 'prompt_toolkit.key_binding.bindings.auto_suggest', 'prompt_toolkit.key_binding.bindings.open_in_editor', 'prompt_toolkit.shortcuts.utils', 'prompt_toolkit.shortcuts.progress_bar', 'prompt_toolkit.shortcuts.progress_bar.base', 'prompt_toolkit.shortcuts.progress_bar.formatters', 'prompt_toolkit.patch_stdout', 'pygments.style', 'IPython.terminal.debugger', 'IPython.core.completer', 'unicodedata', 'IPython.core.latex_symbols', 'IPython.utils.generics', 'jedi', 'jedi.api', 'parso', 'parso.parser', 'parso.tree', 'parso._compatibility', 'parso.utils', 'parso.pgen2', 'parso.pgen2.generator', 'parso.pgen2.grammar_parser', 'parso.python', 'parso.python.tokenize', 'parso.python.token', 'parso.grammar', 'parso.python.diff', 'difflib', 'parso.python.parser', 'parso.python.tree', 'parso.python.prefix', 'parso.cache', 'gc', 'parso.python.errors', 'parso.normalizer', 'parso.python.pep8', 'parso.file_io', 'jedi._compatibility', 'jedi.parser_utils', 'jedi.debug', 'colorama', 'colorama.initialise', 'colorama.ansitowin32', 'colorama.ansi', 'colorama.winterm', 'colorama.win32', 'ctypes', '_ctypes', 'ctypes._endian', 'jedi.settings', 'jedi.cache', 'jedi.api.classes', 'jedi.evaluate', 'jedi.evaluate.utils', 'jedi.evaluate.imports', 'jedi.evaluate.sys_path', 'jedi.evaluate.cache', 'jedi.evaluate.base_context', 'jedi.common', 'jedi.common.context', 'jedi.evaluate.helpers', 'jedi.common.utils', 'jedi.evaluate.compiled', 'jedi.evaluate.compiled.context', 'jedi.evaluate.filters', 'jedi.evaluate.flow_analysis', 'jedi.evaluate.recursion', 'jedi.evaluate.lazy_context', 'jedi.evaluate.compiled.access', 'jedi.evaluate.compiled.getattr_static', 'jedi.evaluate.compiled.fake', 'jedi.evaluate.analysis', 'jedi.evaluate.context', 'jedi.evaluate.context.module', 'jedi.evaluate.context.klass', 'jedi.evaluate.context.function', 'jedi.evaluate.docstrings', 'jedi.evaluate.pep0484', 'jedi.evaluate.arguments', 'jedi.evaluate.context.iterable', 'jedi.evaluate.param', 'jedi.evaluate.context.asynchronous', 'jedi.evaluate.parser_cache', 'jedi.evaluate.context.instance', 'jedi.evaluate.syntax_tree', 'jedi.evaluate.finder', 'jedi.api.keywords', 'pydoc_data', 'pydoc_data.topics', 'jedi.api.interpreter', 'jedi.evaluate.compiled.mixed', 'jedi.api.helpers', 'jedi.api.completion', 'jedi.api.environment', 'filecmp', 'jedi.evaluate.compiled.subprocess', 'jedi.evaluate.compiled.subprocess.functions', 'jedi.api.exceptions', 'jedi.api.project', 'jedi.evaluate.usages', 'IPython.terminal.ptutils', 'IPython.terminal.shortcuts', 'IPython.terminal.magics', 'IPython.lib.clipboard', 'IPython.terminal.pt_inputhooks', 'IPython.terminal.prompts', 'IPython.terminal.ipapp', 'IPython.core.magics', 'IPython.core.magics.auto', 'IPython.core.magics.basic', 'IPython.core.magics.code', 'urllib.request', 'email', 'http', 'http.client', 'email.parser', 'email.feedparser', 'email.errors', 'email._policybase', 'email.header', 'email.quoprimime', 'email.base64mime', 'email.charset', 'email.encoders', 'quopri', 'email.utils', 'email._parseaddr', 'calendar', 'email.message', 'uu', 'email._encoded_words', 'email.iterators', 'urllib.error', 'urllib.response', 'IPython.core.magics.config', 'IPython.core.magics.display', 'IPython.core.magics.execution', 'timeit', 'cProfile', '_lsprof', 'profile', 'pstats', 'IPython.utils.module_paths', 'IPython.utils.timing', 'IPython.core.magics.extension', 'IPython.core.magics.history', 'IPython.core.magics.logging', 'IPython.core.magics.namespace', 'IPython.core.magics.osm', 'IPython.core.magics.packaging', 'IPython.core.magics.pylab', 'IPython.core.pylabtools', 'IPython.core.magics.script', 'IPython.lib.backgroundjobs', 'IPython.core.shellapp', 'IPython.extensions', 'IPython.extensions.storemagic', 'IPython.utils.frame', 'jupyter_client', 'jupyter_client._version', 'jupyter_client.connect', 'zmq', 'zmq.backend', 'zmq.backend.select', 'zmq.backend.cython', 'zmq.backend.cython.constants', 'cython_runtime', 'zmq.backend.cython.error', '_cython_0_29_5', 'zmq.backend.cython.message', 'zmq.error', 'zmq.backend.cython.context', 'zmq.backend.cython.socket', 'zmq.backend.cython.utils', 'zmq.backend.cython._poll', 'zmq.backend.cython._version', 'zmq.backend.cython._device', 'zmq.backend.cython._proxy_steerable', 'zmq.sugar', 'zmq.sugar.constants', 'zmq.utils', 'zmq.utils.constant_names', 'zmq.sugar.context', 'zmq.sugar.attrsettr', 'zmq.sugar.socket', 'zmq.sugar.poll', 'zmq.utils.jsonapi', 'zmq.utils.strtypes', 'zmq.sugar.frame', 'zmq.sugar.tracker', 'zmq.sugar.version', 'zmq.sugar.stopwatch', 'jupyter_client.localinterfaces', 'jupyter_core', 'jupyter_core.version', 'jupyter_core.paths', 'jupyter_client.launcher', 'traitlets.log', 'jupyter_client.client', 'jupyter_client.channels', 'jupyter_client.channelsabc', 'jupyter_client.clientabc', 'jupyter_client.manager', 'jupyter_client.kernelspec', 'jupyter_client.managerabc', 'jupyter_client.blocking', 'jupyter_client.blocking.client', 'jupyter_client.blocking.channels', 'jupyter_client.multikernelmanager', 'uuid', 'ipykernel.kernelapp', 'tornado', 'tornado.ioloop', 'numbers', 'tornado.concurrent', 'tornado.log', 'logging.handlers', 'tornado.escape', 'tornado.util', 'tornado.speedups', 'curses', '_curses', 'zmq.eventloop', 'zmq.eventloop.ioloop', 'tornado.platform', 'tornado.platform.asyncio', 'tornado.gen', 'zmq.eventloop.zmqstream', 'ipykernel.iostream', 'imp', 'jupyter_client.session', 'hmac', 'jupyter_client.jsonutil', 'dateutil', 'dateutil._version', 'dateutil.parser', 'dateutil.parser._parser', 'decimal', '_decimal', 'dateutil.relativedelta', 'dateutil._common', 'dateutil.tz', 'dateutil.tz.tz', 'dateutil.tz._common', 'dateutil.tz._factories', 'dateutil.parser.isoparser', '_strptime', 'jupyter_client.adapter', 'ipykernel.heartbeat', 'ipykernel.ipkernel', 'IPython.utils.tokenutil', 'ipykernel.comm', 'ipykernel.comm.manager', 'ipykernel.comm.comm', 'ipykernel.kernelbase', 'tornado.queues', 'tornado.locks', 'ipykernel.jsonutil', 'ipykernel.zmqshell', 'IPython.core.payloadpage', 'ipykernel.displayhook', 'ipykernel.parentpoller', 'faulthandler', 'ipykernel.datapub', 'ipykernel.serialize', 'ipykernel.pickleutil', 'ipykernel.codeutil', 'IPython.core.completerlib', 'storemagic', 'ipywidgets', 'ipywidgets._version', 'ipywidgets.widgets', 'ipywidgets.widgets.widget', 'ipywidgets.widgets.domwidget', 'ipywidgets.widgets.trait_types', 'ipywidgets.widgets.util', 'ipywidgets.widgets.widget_layout', 'ipywidgets.widgets.widget_style', 'ipywidgets.widgets.valuewidget', 'ipywidgets.widgets.widget_core', 'ipywidgets.widgets.widget_bool', 'ipywidgets.widgets.widget_description', 'ipywidgets.widgets.widget_button', 'ipywidgets.widgets.widget_box', 'ipywidgets.widgets.docutils', 'ipywidgets.widgets.widget_float', 'ipywidgets.widgets.widget_int', 'ipywidgets.widgets.widget_color', 'ipywidgets.widgets.widget_date', 'ipywidgets.widgets.widget_output', 'ipywidgets.widgets.widget_selection', 'ipywidgets.widgets.widget_selectioncontainer', 'ipywidgets.widgets.widget_string', 'ipywidgets.widgets.widget_controller', 'ipywidgets.widgets.interaction', 'ipywidgets.widgets.widget_link', 'ipywidgets.widgets.widget_media', 'ipywidgets.widgets.widget_templates', 'ipywidgets.widgets.widget_upload', 'moduleTest', 'numpy', 'numpy._globals', 'numpy.__config__', 'numpy.version', 'numpy._distributor_init', 'numpy._mklinit', 'numpy.core', 'numpy.core.info', 'numpy.core.multiarray', 'numpy.core.overrides', 'numpy.core._multiarray_umath', 'numpy.compat', 'numpy.compat._inspect', 'numpy.compat.py3k', 'numpy.core.umath', 'numpy.core.numerictypes', 'numpy.core._string_helpers', 'numpy.core._type_aliases', 'numpy.core._dtype', 'numpy.core.numeric', 'numpy.core._internal', 'numpy.core.fromnumeric', 'numpy.core._methods', 'numpy.core.arrayprint', 'numpy.core.defchararray', 'numpy.core.records', 'numpy.core.memmap', 'numpy.core.function_base', 'numpy.core.machar', 'numpy.core.getlimits', 'numpy.core.shape_base', 'numpy.core.einsumfunc', 'numpy.core._add_newdocs', 'numpy.core._multiarray_tests', 'numpy.core._dtype_ctypes', 'numpy._pytesttester', 'numpy.lib', 'numpy.lib.info', 'numpy.lib.type_check', 'numpy.lib.ufunclike', 'numpy.lib.index_tricks', 'numpy.matrixlib', 'numpy.matrixlib.defmatrix', 'numpy.linalg', 'numpy.linalg.info', 'numpy.linalg.linalg', 'numpy.lib.twodim_base', 'numpy.linalg.lapack_lite', 'numpy.linalg._umath_linalg', 'numpy.lib.function_base', 'numpy.lib.utils', 'numpy.lib.histograms', 'numpy.lib.stride_tricks', 'numpy.lib.mixins', 'numpy.lib.nanfunctions', 'numpy.lib.shape_base', 'numpy.lib.scimath', 'numpy.lib.polynomial', 'numpy.lib.arraysetops', 'numpy.lib.npyio', 'numpy.lib.format', 'numpy.lib._datasource', 'numpy.lib._iotools', 'numpy.lib.financial', 'numpy.lib.arrayterator', 'numpy.lib.arraypad', 'numpy.lib._version', 'numpy.fft', 'numpy.fft.info', 'numpy.fft.fftpack', 'numpy.fft.fftpack_lite', 'numpy.fft.helper', 'mkl_fft', 'mkl_fft._pydfti', '_cython_0_29_7', 'mkl_fft._version', 'mkl_fft._numpy_fft', 'numpy.polynomial', 'numpy.polynomial.polynomial', 'numpy.polynomial.polyutils', 'numpy.polynomial._polybase', 'numpy.polynomial.chebyshev', 'numpy.polynomial.legendre', 'numpy.polynomial.hermite', 'numpy.polynomial.hermite_e', 'numpy.polynomial.laguerre', 'numpy.random', 'numpy.random.mtrand', 'mtrand', 'numpy.ctypeslib', 'numpy.ma', 'numpy.ma.core', 'numpy.ma.extras', 'numpy.testing', 'unittest', 'unittest.result', 'unittest.util', 'unittest.case', 'unittest.suite', 'unittest.loader', 'unittest.main', 'unittest.runner', 'unittest.signals', 'numpy.testing._private', 'numpy.testing._private.utils', 'numpy.testing._private.decorators', 'numpy.testing._private.nosetester', 'astropy', 'astropy.version', 'astropy.utils', 'astropy.utils.codegen', 'astropy.utils.introspection', 'distutils', 'distutils.version', 'astropy.utils.decorators', 'astropy.utils.exceptions', 'astropy.utils.misc', 'astropy.config', 'astropy.config.paths', 'astropy.config.configuration', 'astropy.extern', 'astropy.extern.configobj', 'astropy.extern.configobj.configobj', 'astropy.extern.configobj.validate', 'astropy.config.affiliated', 'astropy.tests', 'astropy.tests.runner', 'astropy.logger', 'astropy.utils._compiler', 'astropy.io', 'astropy.io.fits', 'astropy.io.fits.card', 'astropy.io.fits.util', 'gzip', 'mmap', 'astropy.utils.data', 'shelve', 'astropy.io.fits.verify', 'astropy.io.fits.column', 'astropy.io.fits.convenience', 'astropy.io.fits.diff', 'astropy.io.fits.header', 'astropy.io.fits.file', 'zipfile', 'astropy.io.fits._utils', 'astropy.io.fits.hdu', 'astropy.io.fits.hdu.base', 'astropy.io.fits.hdu.compressed', 'astropy.io.fits.hdu.image', 'astropy.io.fits.hdu.table', 'csv', '_csv', 'astropy.io.fits.fitsrec', 'astropy.io.fits.compression', 'astropy.io.fits.hdu.groups', 'astropy.io.fits.hdu.hdulist', 'astropy.io.fits.hdu.nonstandard', 'astropy.io.fits.hdu.streaming', 'astropy.utils.diff', 'sep', 'procedures', 'procedures.moduleTest', 'procedures.moduleTest.calculation', 'ics', 'ics.cobraCharmer', 'ics.cobraCharmer.pfiDesign', 'xml.etree', 'xml.etree.ElementTree', 'xml.etree.ElementPath', 'pyexpat.errors', 'pyexpat.model', 'pyexpat', '_elementtree', 'ics.cobraCharmer.utils', 'ics.cobraCharmer.utils.butler', 'yaml', 'yaml.error', 'yaml.tokens', 'yaml.events', 'yaml.nodes', 'yaml.loader', 'yaml.reader', 'yaml.scanner', 'yaml.parser', 'yaml.composer', 'yaml.constructor', 'yaml.resolver', 'yaml.dumper', 'yaml.emitter', 'yaml.serializer', 'yaml.representer', 'yaml.cyaml', '_yaml', 'procedures.moduleTest.mcs', 'procedures.moduleTest.mcs.camera', 'numpy.lib.recfunctions', 'numpy.ma.mrecords', 'ics.cobraCharmer.pfi', 'ics.cobraCharmer.ethernet', 'ics.cobraCharmer.hexprint', 'ics.cobraCharmer.func', 'ics.cobraCharmer.log', 'ics.cobraCharmer.convert', 'ics.cobraCharmer.cmds', 'ics.cobraCharmer.fpgaState', 'ics.cobraCharmer.fpgaLogger', 'multiprocessing', 'multiprocessing.context', 'multiprocessing.process', 'multiprocessing.reduction', '__mp_main__', 'ics.cobraCharmer.fpgaProtocol', 'ics.cobraCharmer.cobraState', 'pandas', 'pytz', 'pytz.exceptions', 'pytz.lazy', 'pytz.tzinfo', 'pytz.tzfile', 'pandas.compat', 'pandas.compat.chainmap', 'pandas.compat.numpy', 'pandas._libs', 'pandas._libs.tslibs', 'pandas._libs.tslibs.conversion', 'pandas._libs.tslibs.nattype', '_cython_0_29_6', 'pandas._libs.tslibs.np_datetime', 'pandas._libs.tslibs.timedeltas', 'pandas._libs.tslibs.offsets', 'pandas._libs.tslibs.ccalendar', 'pandas._libs.tslibs.strptime', 'pandas._libs.tslibs.timezones', 'pandas._libs.tslibs.parsing', 'pandas._libs.tslibs.period', 'pandas._libs.tslibs.frequencies', 'pandas._libs.tslibs.timestamps', 'pandas._libs.tslibs.fields', 'pandas._libs.tslibs.resolution', 'pandas._libs.hashtable', 'pandas._libs.missing', 'pandas._libs.lib', 'fractions', 'pandas._libs.tslib', 'pandas.core', 'pandas.core.config_init', 'pandas.core.config', 'pandas.io', 'pandas.io.formats', 'pandas.io.formats.printing', 'pandas.core.dtypes', 'pandas.core.dtypes.inference', 'pandas.io.formats.console', 'pandas.io.formats.terminal', 'pandas.core.api', 'pandas.core.arrays', 'pandas.core.arrays.array_', 'pandas.core.dtypes.common', 'pandas._libs.algos', 'pandas.core.dtypes.dtypes', 'pandas._libs.interval', 'pandas.core.dtypes.generic', 'pandas.core.dtypes.base', 'pandas.errors', 'pandas.core.arrays.base', 'pandas.compat.numpy.function', 'pandas.util', 'pandas.util._decorators', 'pandas._libs.properties', 'pandas.core.util', 'pandas.core.util.hashing', 'pandas._libs.hashing', 'pandas.core.dtypes.cast', 'pandas.core.dtypes.missing', 'pandas.util._validators', 'pandas.core.ops', 'pandas._libs.ops', 'pandas.core.common', 'pandas.core.missing', 'pandas.core.arrays.categorical', 'pandas.core.accessor', 'pandas.core.algorithms', 'pandas.core.base', 'pandas.core.nanops', 'bottleneck', 'bottleneck.reduce', 'bottleneck.nonreduce', 'bottleneck.nonreduce_axis', 'bottleneck.move', 'bottleneck.slow', 'bottleneck.slow.reduce', 'bottleneck.slow.nonreduce', 'bottleneck.slow.nonreduce_axis', 'bottleneck.slow.move', 'bottleneck.version', 'bottleneck.benchmark', 'bottleneck.benchmark.bench', 'bottleneck.benchmark.autotimeit', 'bottleneck.benchmark.bench_detailed', 'bottleneck.tests', 'bottleneck.tests.util', 'pandas.tseries', 'pandas.tseries.offsets', 'dateutil.easter', 'pandas.core.tools', 'pandas.core.tools.datetimes', 'pandas.core.sorting', 'pandas.core.arrays.datetimes', 'pandas.core.arrays.datetimelike', 'pandas.tseries.frequencies', 'pandas.core.arrays._ranges', 'pandas.core.arrays.interval', 'pandas.util._doctools', 'pandas.core.indexes', 'pandas.core.indexes.base', 'pandas._libs.index', 'pandas._libs.join', 'pandas.core.dtypes.concat', 'pandas.core.indexes.frozen', 'pandas.core.strings', 'pandas.core.arrays.period', 'pandas.core.arrays.timedeltas', 'pandas.core.arrays.integer', 'pandas.core.tools.numeric', 'pandas.core.arrays.sparse', 'pandas._libs.sparse', 'pandas.core.arrays.numpy_', 'pandas.core.groupby', 'pandas.core.groupby.groupby', 'pandas._libs.groupby', 'pandas.core.frame', 'pandas.core.generic', 'pandas.core.index', 'pandas.core.indexes.api', 'pandas.core.indexes.category', 'pandas.core.indexes.datetimes', 'pandas.core.indexes.datetimelike', 'pandas.core.tools.timedeltas', 'pandas.core.indexes.numeric', 'pandas.core.indexes.interval', 'pandas.util._exceptions', 'pandas.core.indexes.multi', 'pandas.core.indexes.timedeltas', 'pandas.core.indexes.period', 'pandas.core.indexes.range', 'pandas.core.indexing', 'pandas._libs.indexing', 'pandas.core.internals', 'pandas.core.internals.blocks', 'pandas._libs.internals', 'pandas.core.internals.arrays', 'pandas.core.internals.managers', 'pandas.core.internals.concat', 'pandas.io.formats.format', 'pandas.io.common', 'pandas.core.internals.construction', 'pandas.core.series', 'pandas.core.indexes.accessors', 'pandas.plotting', 'pandas.plotting._misc', 'pandas.plotting._style', 'pandas.plotting._tools', 'pandas.plotting._core', 'pandas.plotting._compat', 'pandas.plotting._converter', 'matplotlib', 'matplotlib.cbook', 'matplotlib.cbook.deprecation', 'matplotlib.rcsetup', 'matplotlib.fontconfig_pattern', 'pyparsing', 'matplotlib.colors', 'matplotlib._color_data', 'cycler', 'matplotlib._version', 'kiwisolver']\n"
     ]
    },
    {
     "name": "stderr",
     "output_type": "stream",
     "text": [
      "2019-12-26 15:07:25.974Z matplotlib       10 __init__.py:271 CACHEDIR=/home/pfs/.cache/matplotlib\n",
      "2019-12-26 15:07:25.976Z matplotlib.font_manager 10 font_manager.py:1352 Using fontManager instance from /home/pfs/.cache/matplotlib/fontlist-v310.json\n",
      "2019-12-26 15:07:26.035Z matplotlib.pyplot 10 pyplot.py:219 Loaded backend module://ipykernel.pylab.backend_inline version unknown.\n",
      "2019-12-26 15:07:26.173Z matplotlib.pyplot 10 pyplot.py:219 Loaded backend module://ipykernel.pylab.backend_inline version unknown.\n"
     ]
    }
   ],
   "source": [
    "from moduleTest import ModuleTest\n",
    "import numpy as np\n",
    "import pandas as pd\n",
    "from ics.cobraCharmer import pfi as pfiControl\n",
    "from ics.cobraCharmer import pfiDesign\n",
    "import moduleAnalyze\n",
    "import visDianosticPlot\n",
    "import os\n",
    "from importlib import reload \n",
    "import matplotlib.pyplot as plt\n",
    "import pathlib"
   ]
  },
  {
   "cell_type": "code",
   "execution_count": null,
   "metadata": {},
   "outputs": [],
   "source": [
    "broken=[1,55]\n",
    "mt = ModuleTest('128.149.77.24', \n",
    "                '/home/pfs/mhs/devel/ics_cobraCharmer/xml/PFS-PFI-CIT900200-04_Science_15_FinalXML.xml', \n",
    "                brokens=broken,camSplit=28)\n",
    "pfi = mt.pfi"
   ]
  },
  {
   "cell_type": "code",
   "execution_count": null,
   "metadata": {},
   "outputs": [],
   "source": [
    "mt.convertXML('/home/pfs/mhs/devel/ics_cobraCharmer/xml/Science15_converted.xml')"
   ]
  },
  {
   "cell_type": "markdown",
   "metadata": {},
   "source": [
    "# Make sure the conversion is correct"
   ]
  },
  {
   "cell_type": "code",
   "execution_count": null,
   "metadata": {},
   "outputs": [],
   "source": [
    "xml = '/home/pfs/mhs/devel/ics_cobraCharmer/xml/Science15_converted.xml'\n",
    "\n",
    "model = pfiDesign.PFIDesign(xml)\n",
    "\n",
    "brokens = [1,55]\n",
    "visibles= [e for e in range(1,58) if e not in brokens]\n",
    "badIdx = np.array(brokens) - 1\n",
    "goodIdx = np.array(visibles) - 1\n",
    "\n",
    "# two groups for two cameras\n",
    "cam_split = 28\n",
    "group1 = goodIdx[goodIdx <= cam_split]\n",
    "group2 = goodIdx[goodIdx > cam_split]\n",
    "\n",
    "plt.figure(1)\n",
    "plt.clf()\n",
    "\n",
    "plt.subplot(211)\n",
    "ax = plt.gca()\n",
    "\n",
    "ax.plot(model.centers[group1].real, model.centers[group1].imag, 'ro')\n",
    "ax.axis('equal')\n",
    "#for idx in group1:\n",
    "#    c = plt.Circle((centers[idx].real, centers[idx].imag), radius[idx], color='g', fill=False)\n",
    "#    ax.add_artist(c)\n",
    "ax.set_title(f'1st camera')\n",
    "\n",
    "plt.subplot(212)\n",
    "ax = plt.gca()\n",
    "\n",
    "ax.plot(model.centers[group2].real, model.centers[group2].imag, 'ro')\n",
    "#ax.axis('equal')\n",
    "#for idx in group2:\n",
    "#    c = plt.Circle((centers[idx].real, centers[idx].imag), radius[idx], color='g', fill=False)\n",
    "#    ax.add_artist(c)\n",
    "ax.set_title(f'2nd camera')\n",
    "\n",
    "plt.show()"
   ]
  },
  {
   "cell_type": "code",
   "execution_count": null,
   "metadata": {},
   "outputs": [],
   "source": [
    "mt = ModuleTest('128.149.77.24', \n",
    "                '/home/pfs/mhs/devel/ics_cobraCharmer/xml/Science15_converted.xml', \n",
    "                brokens=broken,camSplit=28)\n",
    "pfi = mt.pfi"
   ]
  },
  {
   "cell_type": "code",
   "execution_count": null,
   "metadata": {},
   "outputs": [],
   "source": [
    "phiOntime = np.zeros(57)+0.04\n",
    "thetaOntime = np.zeros(57)+0.07"
   ]
  },
  {
   "cell_type": "code",
   "execution_count": null,
   "metadata": {},
   "outputs": [],
   "source": [
    "mt.makePhiMotorMap('science15_20190730_phi.xml', '/data/chyan/20190730/phi', \n",
    "                   phiOnTime=phiOntime, repeat = 1, fast=False)"
   ]
  },
  {
   "cell_type": "code",
   "execution_count": null,
   "metadata": {},
   "outputs": [],
   "source": [
    "path = '/data/chyan/20190730/phi/'\n",
    "centers = np.load(path + 'phiCenter.npy')\n",
    "radius = np.load(path + 'phiRadius.npy')\n",
    "fw = np.load(path + 'phiFW.npy')\n",
    "rv = np.load(path + 'phiRV.npy')\n",
    "af = np.load(path + 'phiAngFW.npy')\n",
    "ar = np.load(path + 'phiAngRV.npy')\n",
    "sf = np.load(path + 'phiSpeedFW.npy')\n",
    "sr = np.load(path + 'phiSpeedRV.npy')\n",
    "mf = np.load(path + 'phiMMFW.npy')\n",
    "mr = np.load(path + 'phiMMRV.npy')\n",
    "bad = np.load(path + 'bad.npy')\n",
    "mf2 = np.load(path + 'phiMMFW2.npy')\n",
    "mr2 = np.load(path + 'phiMMRV2.npy')\n",
    "bad2 = np.load(path + 'bad2.npy')"
   ]
  },
  {
   "cell_type": "code",
   "execution_count": null,
   "metadata": {},
   "outputs": [],
   "source": [
    "brokens = [1,55]\n",
    "visibles= [e for e in range(1,58) if e not in brokens]\n",
    "badIdx = np.array(brokens) - 1\n",
    "goodIdx = np.array(visibles) - 1\n",
    "\n",
    "# two groups for two cameras\n",
    "cam_split = 28\n",
    "group1 = goodIdx[goodIdx <= cam_split]\n",
    "group2 = goodIdx[goodIdx > cam_split]\n",
    "\n",
    "plt.figure(1)\n",
    "plt.clf()\n",
    "\n",
    "plt.subplot(211)\n",
    "ax = plt.gca()\n",
    "\n",
    "ax.plot(centers[group1].real, centers[group1].imag, 'ro')\n",
    "ax.axis('equal')\n",
    "for idx in group1:\n",
    "    c = plt.Circle((centers[idx].real, centers[idx].imag), radius[idx], color='g', fill=False)\n",
    "    ax.add_artist(c)\n",
    "ax.set_title(f'1st camera')\n",
    "\n",
    "plt.subplot(212)\n",
    "ax = plt.gca()\n",
    "\n",
    "ax.plot(centers[group2].real, centers[group2].imag, 'ro')\n",
    "ax.axis('equal')\n",
    "for idx in group2:\n",
    "    c = plt.Circle((centers[idx].real, centers[idx].imag), radius[idx], color='g', fill=False)\n",
    "    ax.add_artist(c)\n",
    "ax.set_title(f'2nd camera')\n",
    "\n",
    "plt.show()"
   ]
  },
  {
   "cell_type": "markdown",
   "metadata": {},
   "source": [
    "# On-time optimization"
   ]
  },
  {
   "cell_type": "code",
   "execution_count": null,
   "metadata": {},
   "outputs": [],
   "source": [
    "pfi.moveAllSteps(mt.allCobras, 0, -5000)"
   ]
  },
  {
   "cell_type": "code",
   "execution_count": null,
   "metadata": {},
   "outputs": [],
   "source": [
    "phiPath = '/data/chyan/20190730/phi/'\n",
    "xml = phiPath+'science15_20190730_phi.xml'\n"
   ]
  },
  {
   "cell_type": "code",
   "execution_count": null,
   "metadata": {},
   "outputs": [],
   "source": [
    "model = pfiDesign.PFIDesign(xml)\n",
    "sf = np.rad2deg(np.load(phiPath + 'phiSpeedFW.npy'))\n",
    "sr = np.rad2deg(np.load(phiPath + 'phiSpeedRV.npy'))"
   ]
  },
  {
   "cell_type": "code",
   "execution_count": null,
   "metadata": {},
   "outputs": [],
   "source": [
    "target_sf = np.zeros(57)+0.075\n",
    "ontime = target_sf*model.motorOntimeSlowFwd2/sf"
   ]
  },
  {
   "cell_type": "code",
   "execution_count": null,
   "metadata": {},
   "outputs": [],
   "source": [
    "ontime1 = ontime - 0.005\n",
    "ontime2 = ontime + 0.005\n",
    "ontime3 = ontime + 0.010\n",
    "ontime4 = ontime + 0.015"
   ]
  },
  {
   "cell_type": "code",
   "execution_count": null,
   "metadata": {},
   "outputs": [],
   "source": [
    "ontime4"
   ]
  },
  {
   "cell_type": "code",
   "execution_count": null,
   "metadata": {},
   "outputs": [],
   "source": [
    "mt.makePhiMotorMap('science01_20190730_phi_run1.xml', '/data/chyan/20190730/phi-ontime/run1/', \n",
    "                   phiOnTime=ontime1, repeat = 3, fast=False,totalSteps = 7000)\n",
    "mt.makePhiMotorMap('science01_20190730_phi_run2.xml', '/data/chyan/20190730/phi-ontime/run2/', \n",
    "                   phiOnTime=ontime2, repeat = 3, fast=False,totalSteps = 7000)\n",
    "mt.makePhiMotorMap('science01_20190730_phi_run3.xml', '/data/chyan/20190730/phi-ontime/run3/', \n",
    "                   phiOnTime=ontime3, repeat = 3, fast=False,totalSteps = 7000)\n",
    "mt.makePhiMotorMap('science01_20190730_phi_run4.xml', '/data/chyan/20190730/phi-ontime/run4/', \n",
    "                   phiOnTime=ontime4, repeat = 3, fast=False,totalSteps = 7000)"
   ]
  },
  {
   "cell_type": "markdown",
   "metadata": {},
   "source": [
    "# Phi On-Time Optimization"
   ]
  },
  {
   "cell_type": "code",
   "execution_count": null,
   "metadata": {},
   "outputs": [],
   "source": [
    "import ontimeOptimize \n",
    "\n",
    "brokens = [1,55]\n",
    "datalist = ['/Volumes/GoogleDrive/My Drive/PFS/CobraModuleTestResult/Science15/Data/20190730/phi-ontime/run1',\n",
    "            '/Volumes/GoogleDrive/My Drive/PFS/CobraModuleTestResult/Science15/Data/20190730/phi-ontime/run2',\n",
    "            '/Volumes/GoogleDrive/My Drive/PFS/CobraModuleTestResult/Science15/Data/20190730/phi-ontime/run3',\n",
    "            '/Volumes/GoogleDrive/My Drive/PFS/CobraModuleTestResult/Science15/Data/20190730/phi-ontime/run4',\n",
    "            '/Volumes/GoogleDrive/My Drive/PFS/CobraModuleTestResult/Science15/Data/20190730/phi',\n",
    "           ]\n",
    "otm = ontimeOptimize.OntimeOptimize(brokens=brokens, phiList = datalist)"
   ]
  },
  {
   "cell_type": "code",
   "execution_count": null,
   "metadata": {},
   "outputs": [],
   "source": [
    "otm.rev_slope,otm.rev_int"
   ]
  },
  {
   "cell_type": "code",
   "execution_count": null,
   "metadata": {},
   "outputs": [],
   "source": [
    "outpath = '/Volumes/GoogleDrive/My Drive/PFS/CobraModuleTestResult/Science15/OnTimeOptimization/'\n",
    "otm.visMaps('Fwd',filename=outpath+'science15_phi_fwd.html')\n",
    "otm.visMaps('Fwd',filename=outpath+'science15_phi_rev.html')\n",
    "\n"
   ]
  },
  {
   "cell_type": "markdown",
   "metadata": {},
   "source": [
    "# Running phi motor map with best on-time"
   ]
  },
  {
   "cell_type": "code",
   "execution_count": null,
   "metadata": {},
   "outputs": [],
   "source": [
    "broken=[1,55]\n",
    "mt = ModuleTest('128.149.77.24', \n",
    "                '/home/pfs/mhs/devel/ics_cobraCharmer/xml/Science15_phiopt_20190731.xml', \n",
    "                brokens=broken,camSplit=28)\n",
    "pfi = mt.pfi"
   ]
  },
  {
   "cell_type": "code",
   "execution_count": null,
   "metadata": {
    "scrolled": true
   },
   "outputs": [],
   "source": [
    "mt.makePhiMotorMap('science15_phi50step_20190731.xml', '/data/chyan/20190731/phi50Step/', \n",
    "                   repeat = 3, steps = 50, fast=False,totalSteps = 7000)\n",
    "\n",
    "mt.makePhiMotorMap('science15_phi400step_20190731.xml', '/data/chyan/20190731/phi400Step/', \n",
    "                   repeat = 3, steps = 400, fast=False,totalSteps = 7000)\n",
    "\n",
    "mt.makePhiMotorMap('science15_phi50stepFast_20190731.xml', '/data/chyan/20190731/phi50StepFast/', \n",
    "                   repeat = 3, steps = 50, fast=True,totalSteps = 7000)\n",
    "\n",
    "mt.makePhiMotorMap('science15_phi400step_20190731.xml', '/data/chyan/20190731/phi400StepFast/', \n",
    "                   repeat = 3, steps = 400, fast=True,totalSteps = 7000)\n"
   ]
  },
  {
   "cell_type": "markdown",
   "metadata": {},
   "source": [
    "# Convergence Test"
   ]
  },
  {
   "cell_type": "code",
   "execution_count": null,
   "metadata": {
    "scrolled": true
   },
   "outputs": [],
   "source": [
    "broken=[1,55]\n",
    "mt = ModuleTest('128.149.77.24', \n",
    "                '/data/chyan/20190731/phi50Step/science15_phi50step_20190731.xml', \n",
    "                brokens=broken,camSplit=28)\n",
    "pfi = mt.pfi"
   ]
  },
  {
   "cell_type": "code",
   "execution_count": null,
   "metadata": {},
   "outputs": [],
   "source": [
    "dataPath = '/data/chyan/20190801/phiConvergeTest/'\n",
    "mt.phiConvergenceTest(dataPath, margin=15.0, runs=50, tries=8, fast=False)"
   ]
  },
  {
   "cell_type": "code",
   "execution_count": null,
   "metadata": {},
   "outputs": [],
   "source": [
    "import numpy as np\n",
    "import matplotlib.pyplot as plt\n",
    "\n",
    "from bokeh.io import output_notebook, show, export_png,export_svgs, save\n",
    "from bokeh.plotting import figure, show, output_file\n",
    "import bokeh.palettes\n",
    "from bokeh.layouts import column,gridplot\n",
    "from bokeh.models import HoverTool, ColumnDataSource, LinearColorMapper\n",
    "from bokeh.models.glyphs import Text\n",
    "from bokeh.palettes import Category20\n",
    "from bokeh.palettes import inferno\n",
    "\n",
    "output_notebook()"
   ]
  },
  {
   "cell_type": "code",
   "execution_count": null,
   "metadata": {},
   "outputs": [],
   "source": [
    "phiData = np.load('/data/chyan/20190801/phiConvergeTest/phiData.npy')\n",
    "brokens = []\n",
    "badIdx = np.array(brokens) - 1\n",
    "goodIdx = np.array([e for e in range(57) if e not in badIdx])\n",
    "\n",
    "x = np.arange(9)"
   ]
  },
  {
   "cell_type": "code",
   "execution_count": null,
   "metadata": {},
   "outputs": [],
   "source": [
    "phiData.shape"
   ]
  },
  {
   "cell_type": "code",
   "execution_count": null,
   "metadata": {},
   "outputs": [],
   "source": [
    "runs=50\n",
    "margin = 15\n",
    "output_file(\"spare15_phi_convergence.html\")\n",
    "\n",
    "def plotPhiConvergence(phiData, runs, fiberNo):\n",
    "    TOOLS = ['pan','box_zoom','wheel_zoom', 'save' ,'reset','hover']\n",
    "\n",
    "    title_string=f\"Fiber {fiberNo+1} Phi\"\n",
    "    p = figure( tools=TOOLS, x_range=[0,9], y_range=[-20,180],\n",
    "               plot_height=400, plot_width=500,title=title_string)\n",
    "    p.xaxis.axis_label = 'Iteration Number'\n",
    "    p.yaxis.axis_label = 'Angle Difference from Phi Target'\n",
    "\n",
    "    #mapper = Category40[runs]\n",
    "    mapper = inferno(runs)\n",
    "\n",
    "    for i in range(runs):\n",
    "        angle = margin + (180 - 2 * margin) * i / (runs - 1)\n",
    "        ydata= angle - np.rad2deg(np.append([0], phiData[fiberNo,i,:,0]))\n",
    "        p.circle(x=x, y=ydata,radius=0.08,color=mapper[-i])\n",
    "        p.line(x=x, y=ydata,line_width=2,color=mapper[-i])\n",
    "    return p\n",
    "\n",
    "parray=[]\n",
    "\n",
    "for fiberNo in goodIdx:\n",
    "    p=plotPhiConvergence(phiData, runs, fiberNo)\n",
    "    parray.append(p)\n",
    "\n",
    "grid = gridplot(parray, ncols=4, plot_width=250, plot_height=250)\n",
    "show(grid)"
   ]
  },
  {
   "cell_type": "markdown",
   "metadata": {},
   "source": [
    "# Theta ROM test"
   ]
  },
  {
   "cell_type": "code",
   "execution_count": null,
   "metadata": {},
   "outputs": [],
   "source": [
    "broken=[1,55]\n",
    "mt = ModuleTest('128.149.77.24', \n",
    "                '/data/chyan/20190731/phi50Step/science15_phi50step_20190731.xml', \n",
    "                brokens=broken,camSplit=28)\n",
    "pfi = mt.pfi"
   ]
  },
  {
   "cell_type": "code",
   "execution_count": null,
   "metadata": {},
   "outputs": [],
   "source": [
    "thetaOntime = np.zeros(57)+0.06"
   ]
  },
  {
   "cell_type": "code",
   "execution_count": null,
   "metadata": {},
   "outputs": [],
   "source": [
    "mt.makeThetaMotorMap('science15_20190801_theta.xml', '/data/chyan/20190801/theta', \n",
    "                   thetaOnTime=thetaOntime, repeat = 1, fast=False, totalSteps = 12000)"
   ]
  },
  {
   "cell_type": "markdown",
   "metadata": {},
   "source": [
    "# Theta On-Time optimization"
   ]
  },
  {
   "cell_type": "code",
   "execution_count": 2,
   "metadata": {
    "scrolled": true
   },
   "outputs": [
    {
     "name": "stderr",
     "output_type": "stream",
     "text": [
      "2019-09-17T17:25:41.115 20 fpgaIO     FPGA connection to 128.149.77.24\n",
      "2019-09-17T17:25:41.144 20 fpga       load cobra model from /data/chyan/20190917/temp.xml\n",
      "2019-09-17T17:25:41.145 20 log.short  --- ISSUE SETFREQ & VERIFY (brd:1) ---\n",
      "2019-09-17T17:25:41.146 20 log.eth    (ETH)Sent msg on socket.\n",
      "(0300003907d08fde\t081300fc00980823\t00fe0094101300fc\t0095102300fb0094\t\n",
      "181300f900961823\t00f80096201300fc\t0099202301010096\t281300fe00952823\t\n",
      "00fd0094301300fb\t009a302300fd0093\t381300fd00953823\t00fc0095401300fe\t\n",
      "0095402300fe0095\t4813010100974823\t00fc009450130100\t0093502300ff0096\t\n",
      "581300fe00955823\t01010097601300fe\t0095602300fb0094\t681300fc00946823\t\n",
      "01000094701300fb\t0095702300fe0097\t781300fe00947823\t00fd0095801300ff\t\n",
      "0094802300fd0096\t881300fd00948823\t00fc0095901300fe\t0097902300ff0093\t\n",
      "981300fd00969823\t00ff0095a01300fd\t0098a02301000096\ta81300f90096a823\t\n",
      "01000096b01300fc\t0093b02301000097\tb81301000096b823\t01010092c01300ff\t\n",
      "0096c02300ff0098\tc81300ff0096c823\t01000097d01300fe\t0098d02300fd0093\t\n",
      "d81300fe0096d823\t00fe0095e01300ff\t0095e02300fe0095\te81300ff0096)\n",
      "2019-09-17T17:25:41.148 20 log.eth    (ETH)Rcvd msg on socket.\n",
      "(030000000000)\n",
      "2019-09-17T17:25:41.148 20 log.medium SetFrequency tlm rx'd. (Code:0) (Message:0)\n",
      "2019-09-17T17:25:41.179 20 log.eth    (ETH)Rcvd msg on socket.\n",
      "(030000000000)\n",
      "2019-09-17T17:25:41.179 20 log.medium SetFrequency tlm rx'd. (Code:0) (Message:0)\n",
      "2019-09-17T17:25:41.180 20 fpga       send SET command succeeded\n"
     ]
    },
    {
     "name": "stdout",
     "output_type": "stream",
     "text": [
      "IS_COLORMODE_MONOCHROME: \n",
      "\tm_nColorMode: \t\t 34\n",
      "\tnBitsPerPixel: \t\t 10\n",
      "\tbytes_per_pixel: \t\t 2\n",
      "\n",
      "Camera model:\t\t UI318xCP-M\n",
      "Camera serial no.:\t 4103149829\n",
      "Maximum image self.width:\t 2592\n",
      "Maximum image self.height:\t 2048\n",
      "\n",
      "200\n",
      "IS_COLORMODE_MONOCHROME: \n",
      "\tm_nColorMode: \t\t 34\n",
      "\tnBitsPerPixel: \t\t 10\n",
      "\tbytes_per_pixel: \t\t 2\n",
      "\n",
      "Camera model:\t\t UI318xCP-M\n",
      "Camera serial no.:\t 4103118685\n",
      "Maximum image self.width:\t 2592\n",
      "Maximum image self.height:\t 2048\n",
      "\n",
      "200\n",
      "---------\n"
     ]
    },
    {
     "ename": "ValueError",
     "evalue": "cannot convert float NaN to integer",
     "output_type": "error",
     "traceback": [
      "\u001b[0;31m---------------------------------------------------------------------------\u001b[0m",
      "\u001b[0;31mValueError\u001b[0m                                Traceback (most recent call last)",
      "\u001b[0;32m<ipython-input-2-1c0f9c9cfa6d>\u001b[0m in \u001b[0;36m<module>\u001b[0;34m()\u001b[0m\n\u001b[1;32m     24\u001b[0m \u001b[0;34m\u001b[0m\u001b[0m\n\u001b[1;32m     25\u001b[0m         \u001b[0mpfi\u001b[0m \u001b[0;34m=\u001b[0m \u001b[0mmt\u001b[0m\u001b[0;34m.\u001b[0m\u001b[0mpfi\u001b[0m\u001b[0;34m\u001b[0m\u001b[0m\n\u001b[0;32m---> 26\u001b[0;31m         \u001b[0mpfi\u001b[0m\u001b[0;34m.\u001b[0m\u001b[0mmoveAllSteps\u001b[0m\u001b[0;34m(\u001b[0m\u001b[0mmt\u001b[0m\u001b[0;34m.\u001b[0m\u001b[0mallCobras\u001b[0m\u001b[0;34m,\u001b[0m \u001b[0;34m-\u001b[0m\u001b[0;36m10000\u001b[0m\u001b[0;34m,\u001b[0m \u001b[0;36m0\u001b[0m\u001b[0;34m)\u001b[0m\u001b[0;34m\u001b[0m\u001b[0m\n\u001b[0m\u001b[1;32m     27\u001b[0m         \u001b[0mpfi\u001b[0m\u001b[0;34m.\u001b[0m\u001b[0mmoveAllSteps\u001b[0m\u001b[0;34m(\u001b[0m\u001b[0mmt\u001b[0m\u001b[0;34m.\u001b[0m\u001b[0mallCobras\u001b[0m\u001b[0;34m,\u001b[0m \u001b[0;34m-\u001b[0m\u001b[0;36m2000\u001b[0m\u001b[0;34m,\u001b[0m \u001b[0;36m0\u001b[0m\u001b[0;34m)\u001b[0m\u001b[0;34m\u001b[0m\u001b[0m\n\u001b[1;32m     28\u001b[0m \u001b[0;34m\u001b[0m\u001b[0m\n",
      "\u001b[0;32m~/mhs/devel/ics_cobraCharmer/python/ics/cobraCharmer/pfi.py\u001b[0m in \u001b[0;36mmoveAllSteps\u001b[0;34m(self, cobras, thetaSteps, phiSteps, thetaFast, phiFast)\u001b[0m\n\u001b[1;32m    195\u001b[0m         \u001b[0mphiAllSteps\u001b[0m \u001b[0;34m=\u001b[0m \u001b[0mnp\u001b[0m\u001b[0;34m.\u001b[0m\u001b[0mzeros\u001b[0m\u001b[0;34m(\u001b[0m\u001b[0mlen\u001b[0m\u001b[0;34m(\u001b[0m\u001b[0mcobras\u001b[0m\u001b[0;34m)\u001b[0m\u001b[0;34m)\u001b[0m \u001b[0;34m+\u001b[0m \u001b[0mphiSteps\u001b[0m\u001b[0;34m\u001b[0m\u001b[0m\n\u001b[1;32m    196\u001b[0m \u001b[0;34m\u001b[0m\u001b[0m\n\u001b[0;32m--> 197\u001b[0;31m         \u001b[0mself\u001b[0m\u001b[0;34m.\u001b[0m\u001b[0mmoveSteps\u001b[0m\u001b[0;34m(\u001b[0m\u001b[0mcobras\u001b[0m\u001b[0;34m,\u001b[0m \u001b[0mthetaAllSteps\u001b[0m\u001b[0;34m,\u001b[0m \u001b[0mphiAllSteps\u001b[0m\u001b[0;34m,\u001b[0m \u001b[0mthetaFast\u001b[0m\u001b[0;34m=\u001b[0m\u001b[0mthetaFast\u001b[0m\u001b[0;34m,\u001b[0m \u001b[0mphiFast\u001b[0m\u001b[0;34m=\u001b[0m\u001b[0mphiFast\u001b[0m\u001b[0;34m)\u001b[0m\u001b[0;34m\u001b[0m\u001b[0m\n\u001b[0m\u001b[1;32m    198\u001b[0m \u001b[0;34m\u001b[0m\u001b[0m\n\u001b[1;32m    199\u001b[0m     \u001b[0;32mdef\u001b[0m \u001b[0mmoveThetaPhi\u001b[0m\u001b[0;34m(\u001b[0m\u001b[0mself\u001b[0m\u001b[0;34m,\u001b[0m \u001b[0mcobras\u001b[0m\u001b[0;34m,\u001b[0m \u001b[0mthetaMoves\u001b[0m\u001b[0;34m,\u001b[0m \u001b[0mphiMoves\u001b[0m\u001b[0;34m,\u001b[0m \u001b[0mthetaFroms\u001b[0m\u001b[0;34m=\u001b[0m\u001b[0;32mNone\u001b[0m\u001b[0;34m,\u001b[0m \u001b[0mphiFroms\u001b[0m\u001b[0;34m=\u001b[0m\u001b[0;32mNone\u001b[0m\u001b[0;34m,\u001b[0m \u001b[0mthetaFast\u001b[0m\u001b[0;34m=\u001b[0m\u001b[0;32mTrue\u001b[0m\u001b[0;34m,\u001b[0m \u001b[0mphiFast\u001b[0m\u001b[0;34m=\u001b[0m\u001b[0;32mTrue\u001b[0m\u001b[0;34m)\u001b[0m\u001b[0;34m:\u001b[0m\u001b[0;34m\u001b[0m\u001b[0m\n",
      "\u001b[0;32m~/mhs/devel/ics_cobraCharmer/python/ics/cobraCharmer/pfi.py\u001b[0m in \u001b[0;36mmoveSteps\u001b[0;34m(self, cobras, thetaSteps, phiSteps, waitThetaSteps, waitPhiSteps, interval, thetaFast, phiFast)\u001b[0m\n\u001b[1;32m    381\u001b[0m                 \u001b[0mofftime2\u001b[0m \u001b[0;34m=\u001b[0m \u001b[0;36m0\u001b[0m\u001b[0;34m\u001b[0m\u001b[0m\n\u001b[1;32m    382\u001b[0m \u001b[0;34m\u001b[0m\u001b[0m\n\u001b[0;32m--> 383\u001b[0;31m             c.p = func.RunParams(pu=(int(1000*ontime1), int(1000*ontime2)),\n\u001b[0m\u001b[1;32m    384\u001b[0m                                  \u001b[0mst\u001b[0m\u001b[0;34m=\u001b[0m\u001b[0;34m(\u001b[0m\u001b[0msteps1\u001b[0m\u001b[0;34m)\u001b[0m\u001b[0;34m,\u001b[0m\u001b[0;34m\u001b[0m\u001b[0m\n\u001b[1;32m    385\u001b[0m                                  \u001b[0msl\u001b[0m\u001b[0;34m=\u001b[0m\u001b[0;34m(\u001b[0m\u001b[0mint\u001b[0m\u001b[0;34m(\u001b[0m\u001b[0mofftime1\u001b[0m\u001b[0;34m)\u001b[0m\u001b[0;34m,\u001b[0m \u001b[0mint\u001b[0m\u001b[0;34m(\u001b[0m\u001b[0mofftime2\u001b[0m\u001b[0;34m)\u001b[0m\u001b[0;34m)\u001b[0m\u001b[0;34m,\u001b[0m\u001b[0;34m\u001b[0m\u001b[0m\n",
      "\u001b[0;31mValueError\u001b[0m: cannot convert float NaN to integer"
     ]
    }
   ],
   "source": [
    "import ontimeOptimize\n",
    "brokens = [1,55]\n",
    "data = ['/data/chyan/20190801/theta/']\n",
    "pathprefix = '/data/chyan/20190917/'\n",
    "for itr in range(1,4):\n",
    "    currentpath = pathprefix+f'run{itr}/'\n",
    "    nextpath = pathprefix+f'run{itr+1}/'\n",
    "    \n",
    "    outXML = f'temp.xml'\n",
    "    curXML = f'science01_20190917_theta_run{itr}.xml'\n",
    "    nextXML =  f'science01_20190917_theta_run{itr+1}.xml'\n",
    "\n",
    "    fwdhtml = currentpath+f'science15_theta_fwd{itr}.html'\n",
    "    revhtml = currentpath+f'science15_theta_rev{itr}.html'\n",
    "\n",
    "    if itr == 0:\n",
    "        pass\n",
    "    \n",
    "    else:\n",
    "        data.append(currentpath)\n",
    "        mt = ModuleTest('128.149.77.24', \n",
    "            f'{pathprefix}{outXML}', brokens=brokens,camSplit=28)\n",
    "        print('---------')\n",
    "       \n",
    "        pfi = mt.pfi\n",
    "        pfi.moveAllSteps(mt.allCobras, -10000, 0)\n",
    "        pfi.moveAllSteps(mt.allCobras, -2000, 0)\n",
    "\n",
    "        mt.makeThetaMotorMap(f'{curXML}',f'{currentpath}', \n",
    "                             repeat = 1, fast=False,totalSteps = 12000, limitOnTime = 0.08)\n",
    "        print('---------')\n",
    "\n",
    "\n",
    "    print(data)\n",
    "    otm = ontimeOptimize.OntimeOptimize(brokens=brokens, thetaList = data)\n",
    "    \n",
    "   \n",
    "   \n",
    "    if itr == 0:\n",
    "         curXML = '/data/chyan/20190731/phi50Step/science15_phi50step_20190731.xml'\n",
    "\n",
    "    otm.updateXML(f'{curXML}',f'{pathprefix}{outXML}')\n",
    "    otm.visMaps('Fwd',filename=f'{fwdhtml}')\n",
    "\n",
    "    otm.visMaps('Rev',filename=f'{revhtml}')\n",
    "    \n",
    "    if itr != 0:\n",
    "        del(mt)"
   ]
  },
  {
   "cell_type": "code",
   "execution_count": null,
   "metadata": {},
   "outputs": [],
   "source": [
    "import ontimeOptimize \n",
    "\n",
    "brokens = [1,55]\n",
    "data = ['/Volumes/GoogleDrive/My Drive/PFS/CobraModuleTestResult/Science15/Data/20190801/theta/',\n",
    "       '/Volumes/GoogleDrive/My Drive/PFS/CobraModuleTestResult/Science15/Data/20190916/run1/'\n",
    "       ]\n",
    "otm = ontimeOptimize.OntimeOptimize(brokens=brokens, thetaList = data)\n",
    "#otm.solveForSlowSpeed()"
   ]
  },
  {
   "cell_type": "code",
   "execution_count": null,
   "metadata": {},
   "outputs": [],
   "source": [
    "otm.fwd_slope,otm.rev_slope"
   ]
  },
  {
   "cell_type": "code",
   "execution_count": null,
   "metadata": {},
   "outputs": [],
   "source": [
    "otm.solveForSlowSpeed()"
   ]
  },
  {
   "cell_type": "code",
   "execution_count": null,
   "metadata": {},
   "outputs": [],
   "source": [
    "from bokeh.io import show\n",
    "p=otm.visBestOntime(2,'Rev')\n",
    "show(p)"
   ]
  },
  {
   "cell_type": "code",
   "execution_count": null,
   "metadata": {},
   "outputs": [],
   "source": [
    "import numpy as np\n",
    "np.arange(otm.newOntimeSlowFwd[1],0.06,0.001)"
   ]
  },
  {
   "cell_type": "code",
   "execution_count": null,
   "metadata": {},
   "outputs": [],
   "source": [
    "initXML = '/Volumes/GoogleDrive/My Drive/PFS/CobraModuleTestResult/Science15/Data/20190731/phi50Step/science15_phi50step_20190731.xml'\n",
    "newXML = '/Volumes/GoogleDrive/My Drive/PFS/CobraModuleTestResult/Science15/xml/science15_thetaopt_20190916.xml'\n",
    "otm.updateXML(initXML,newXML)"
   ]
  },
  {
   "cell_type": "code",
   "execution_count": null,
   "metadata": {},
   "outputs": [],
   "source": [
    "#from bokeh.io import show\n",
    "#for i in range(57):\n",
    "#p=otm.visBestOntime(2,'Fwd')\n",
    "#show(p)\n",
    "otm.visMaps('Fwd',filename='science15_theta_fwd.html')\n",
    "otm.visMaps('Rev',filename='science15_theta_rev.html')"
   ]
  },
  {
   "cell_type": "code",
   "execution_count": null,
   "metadata": {},
   "outputs": [],
   "source": [
    "import numpy as np\n",
    "ndf = otm.dataframe.loc[otm.dataframe.fiberNo == 57]\n",
    "ind=np.argmin(np.abs((ndf.Rev +  0.05).values))\n",
    "if (np.abs(ndf['Rev'].values[ind]+0.05)) < 0.01:\n",
    "    newOntimeRev[i] = ndf['onTimeRev'].values[ind]\n",
    "else:\n",
    "    if ndf['Rev'].values[ind] > -0.05:\n",
    "        print(ndf.onTimeRev.values[ind] - 0.005)\n",
    "    else:\n",
    "        print(ndf.onTimeRev.values[ind] + 0.005) "
   ]
  },
  {
   "cell_type": "code",
   "execution_count": null,
   "metadata": {},
   "outputs": [],
   "source": [
    "ndf['Rev'].values[ind]"
   ]
  },
  {
   "cell_type": "code",
   "execution_count": null,
   "metadata": {},
   "outputs": [],
   "source": [
    "ind=np.argmin(np.abs((ndf.Rev +  0.05).values))"
   ]
  },
  {
   "cell_type": "code",
   "execution_count": null,
   "metadata": {},
   "outputs": [],
   "source": [
    "otm.dataframe"
   ]
  },
  {
   "cell_type": "code",
   "execution_count": null,
   "metadata": {},
   "outputs": [],
   "source": [
    "ndf['Rev'].values[ind]+0.05"
   ]
  },
  {
   "cell_type": "code",
   "execution_count": null,
   "metadata": {},
   "outputs": [],
   "source": [
    "thetaPath = '/data/chyan/20190801/theta/'\n",
    "xml = thetaPath+'science15_20190801_theta.xml'\n",
    "\n",
    "model = pfiDesign.PFIDesign(xml)\n",
    "sf = np.rad2deg(np.load(thetaPath + 'thetaSpeedFW.npy'))\n",
    "sr = np.rad2deg(np.load(thetaPath + 'thetaSpeedRV.npy'))"
   ]
  },
  {
   "cell_type": "code",
   "execution_count": null,
   "metadata": {},
   "outputs": [],
   "source": [
    "target_sf = np.zeros(57)+0.05\n",
    "ontime = target_sf*model.motorOntimeSlowFwd1/sf"
   ]
  },
  {
   "cell_type": "code",
   "execution_count": null,
   "metadata": {},
   "outputs": [],
   "source": [
    "ontime1 = ontime - 0.010\n",
    "ontime2 = ontime - 0.005\n",
    "ontime3 = ontime + 0.005\n",
    "ontime4 = ontime + 0.010"
   ]
  },
  {
   "cell_type": "code",
   "execution_count": null,
   "metadata": {
    "scrolled": true
   },
   "outputs": [],
   "source": [
    "ontime - 0.01"
   ]
  },
  {
   "cell_type": "code",
   "execution_count": null,
   "metadata": {},
   "outputs": [],
   "source": [
    "mt.makeThetaMotorMap('science01_20190701_theta_run1.xml', '/data/chyan/20190801/theta-ontime/run1/', \n",
    "                   thetaOnTime=ontime1, repeat = 3, fast=False,totalSteps = 12000, limitOnTime = 0.08)\n",
    "mt.makeThetaMotorMap('science01_20190701_theta_run2.xml', '/data/chyan/20190801/theta-ontime/run2/', \n",
    "                   thetaOnTime=ontime2, repeat = 3, fast=False,totalSteps = 12000, limitOnTime = 0.08)\n",
    "mt.makeThetaMotorMap('science01_20190701_theta_run3.xml', '/data/chyan/20190801/theta-ontime/run3/', \n",
    "                   thetaOnTime=ontime3, repeat = 3, fast=False,totalSteps = 12000, limitOnTime = 0.08)\n",
    "mt.makeThetaMotorMap('science01_20190701_theta_run4.xml', '/data/chyan/20190801/theta-ontime/run4/', \n",
    "                   thetaOnTime=ontime4, repeat = 3, fast=False,totalSteps = 12000, limitOnTime = 0.08)\n",
    "\n"
   ]
  },
  {
   "cell_type": "markdown",
   "metadata": {},
   "source": [
    "# Theta On-Time Optimization"
   ]
  },
  {
   "cell_type": "code",
   "execution_count": null,
   "metadata": {},
   "outputs": [],
   "source": [
    "import ontimeOptimize \n",
    "brokens = [1,55]\n",
    "\n",
    "data = ['/data/chyan/20190801/theta/',\n",
    "        '/data/chyan/20190917/run2/',\n",
    "        '/data/chyan/20190917/run3/']\n",
    "otm = ontimeOptimize.OntimeOptimize(brokens=brokens, thetaList = data)"
   ]
  },
  {
   "cell_type": "code",
   "execution_count": null,
   "metadata": {},
   "outputs": [],
   "source": [
    "otm.solveForSlowSpeed()"
   ]
  },
  {
   "cell_type": "code",
   "execution_count": null,
   "metadata": {},
   "outputs": [],
   "source": [
    "outpath = '/data/chyan/20190917/'\n",
    "otm.visMaps('Fwd',filename=outpath+'science15_theta_fwd.html', pngfile=outpath+'science15_theta_fwd.png')\n",
    "otm.visMaps('Rev',filename=outpath+'science15_theta_rev.html', pngfile=outpath+'science15_theta_rev.png')"
   ]
  },
  {
   "cell_type": "code",
   "execution_count": null,
   "metadata": {},
   "outputs": [],
   "source": [
    "initXML = '/Volumes/GoogleDrive/My Drive/PFS/CobraModuleTestResult/Science15/Data/20190731/phi50Step/science15_phi50step_20190731.xml'\n",
    "newXML = '/Volumes/GoogleDrive/My Drive/PFS/CobraModuleTestResult/Science15/xml/science15_thetaopt_20190912.xml'\n",
    "otm.updateXML(initXML,newXML)"
   ]
  },
  {
   "cell_type": "markdown",
   "metadata": {},
   "source": [
    "# Fine tune ot-time"
   ]
  },
  {
   "cell_type": "code",
   "execution_count": null,
   "metadata": {},
   "outputs": [],
   "source": [
    "path = '/Volumes/GoogleDrive/My Drive/PFS/CobraModuleTestResult/Science15/Data/20190802/theta50Step'\n",
    "#path = '/data/chyan/20190802/theta50Step/'\n",
    "\n",
    "xml=path+'science15_theta50step_20190802.xml'\n",
    "newXML=path+'science15_theta50step_20190822.xml'\n",
    "\n",
    "model = pfiDesign.PFIDesign(xml)\n",
    "\n",
    "centers = np.load(path + 'thetaCenter.npy')\n",
    "radius = np.load(path + 'thetaRadius.npy')\n",
    "fw = np.load(path + 'thetaFW.npy')\n",
    "rv = np.load(path + 'thetaRV.npy')\n",
    "af = np.load(path + 'thetaAngFW.npy')\n",
    "ar = np.load(path + 'thetaAngRV.npy')\n",
    "sf = np.load(path + 'thetaSpeedFW.npy')\n",
    "sr = np.load(path + 'thetaSpeedRV.npy')\n",
    "badR = np.load(path + 'badRange.npy')\n",
    "mf = np.load(path + 'thetaMMFW.npy')\n",
    "mr = np.load(path + 'thetaMMRV.npy')\n",
    "bad = np.load(path + 'bad.npy')\n",
    "mf2 = np.load(path + 'thetaMMFW2.npy')\n",
    "mr2 = np.load(path + 'thetaMMRV2.npy')\n",
    "bad2 = np.load(path + 'bad2.npy')\n",
    "\n",
    "otsf1=model.motorOntimeSlowFwd1\n",
    "otsr1=model.motorOntimeSlowRev1\n",
    "otf1=model.motorOntimeFwd1\n",
    "otr1=model.motorOntimeRev1\n",
    "\n",
    "for n in range(1):\n",
    "    for i in goodIdx:\n",
    "        daf = (af[i,n,-1]-af[i,n,0])*180/3.14159\n",
    "        dar = (ar[i,n,-1]-ar[i,n,0])*180/3.14159\n",
    "        if (daf < 360) or (dar>-360):\n",
    "            print(i+1,daf,dar)\n",
    "        if (daf < 360):\n",
    "            otsf1 = otsf1+0.005\n",
    "        if (dar > -360):\n",
    "            otsr1 = otsr1+0.005\n",
    "\n",
    "model.updateOntimes(thtFwd=otsf1, thtRev=otsr1, fast=False)\n",
    "model.createCalibrationFile(newXML)  "
   ]
  },
  {
   "cell_type": "code",
   "execution_count": null,
   "metadata": {},
   "outputs": [],
   "source": [
    "broken=[1,55]\n",
    "mt = ModuleTest('128.149.77.24', \n",
    "                path+'science15_theta50step_20190822.xml', \n",
    "                brokens=broken,camSplit=28)\n",
    "pfi = mt.pfi"
   ]
  },
  {
   "cell_type": "code",
   "execution_count": null,
   "metadata": {},
   "outputs": [],
   "source": [
    "pfi.moveAllSteps(mt.allCobras, -10000, 0)\n",
    "pfi.moveAllSteps(mt.allCobras, -2000, 0)"
   ]
  },
  {
   "cell_type": "code",
   "execution_count": null,
   "metadata": {},
   "outputs": [],
   "source": [
    "mt.makeThetaMotorMap('science15_theta_20190822.xml', '/data/chyan/20190822/theta-ot-op/', \n",
    "                   repeat = 1, steps = 200, fast=False,totalSteps = 12000)\n"
   ]
  },
  {
   "cell_type": "markdown",
   "metadata": {},
   "source": [
    "# Running theta motor map"
   ]
  },
  {
   "cell_type": "code",
   "execution_count": null,
   "metadata": {},
   "outputs": [],
   "source": [
    "broken=[1,55]\n",
    "mt = ModuleTest('128.149.77.24', \n",
    "                '/data/chyan/20190731/phi50Step/Science15_thetaopt_20190802.xml', \n",
    "                brokens=broken,camSplit=28)\n",
    "pfi = mt.pfi"
   ]
  },
  {
   "cell_type": "code",
   "execution_count": null,
   "metadata": {},
   "outputs": [],
   "source": [
    "mt.makeThetaMotorMap('science15_theta50step_20190802.xml', '/data/chyan/20190802/theta50Step/', \n",
    "                   repeat = 3, steps = 50, fast=False,totalSteps = 12000)\n",
    "\n",
    "mt.makeThetaMotorMap('science15_theta400step_20190802.xml', '/data/chyan/20190802/theta400Step/', \n",
    "                   repeat = 3, steps = 400, fast=False,totalSteps = 12000)\n",
    "\n",
    "mt.makeThetaMotorMap('science15_theta50stepFast_20190802.xml', '/data/chyan/20190802/theta50StepFast/', \n",
    "                   repeat = 3, steps = 50, fast=True,totalSteps = 12000)\n",
    "\n",
    "mt.makeThetaMotorMap('science15_theta400step_20190802.xml', '/data/chyan/20190802/theta400StepFast/', \n",
    "                   repeat = 3, steps = 400, fast=True,totalSteps = 12000)\n"
   ]
  },
  {
   "cell_type": "markdown",
   "metadata": {},
   "source": [
    "# Theta Convergence Test"
   ]
  },
  {
   "cell_type": "code",
   "execution_count": null,
   "metadata": {},
   "outputs": [],
   "source": [
    "broken=[1,55]\n",
    "mt = ModuleTest('128.149.77.24', \n",
    "                '/data/chyan/20190802/theta50Step/science15_theta50step_20190802.xml', \n",
    "                brokens=broken,camSplit=28)\n",
    "pfi = mt.pfi"
   ]
  },
  {
   "cell_type": "code",
   "execution_count": null,
   "metadata": {},
   "outputs": [],
   "source": [
    "dataPath = '/data/chyan/20190821/thetaConvergeTest/'\n",
    "mt.thetaConvergenceTest(dataPath, margin=15.0, runs=50, tries=8, fast=False)"
   ]
  },
  {
   "cell_type": "markdown",
   "metadata": {},
   "source": [
    "# Recalculate Geometry"
   ]
  },
  {
   "cell_type": "code",
   "execution_count": 3,
   "metadata": {},
   "outputs": [],
   "source": [
    "xml = pathlib.Path('/data/chyan/20190802/theta50Step/science15_theta50step_20190802.xml')\n",
    "brokens = [1,55]\n",
    "camSplit = 28"
   ]
  },
  {
   "cell_type": "code",
   "execution_count": 4,
   "metadata": {},
   "outputs": [
    {
     "name": "stderr",
     "output_type": "stream",
     "text": [
      "/home/pfs/mhs/devel/ics_cobraCharmer/python/ics/cobraCharmer/pfiDesign.py:54: UserWarning: please use PFIDesign.loadModule() or PFIDesign.loadPFI()\n",
      "  warnings.warn('please use PFIDesign.loadModule() or PFIDesign.loadPFI()')\n",
      "2019-12-26 15:09:20.680Z root             20 pfiDesign.py:740 wrote pfiDesign file for 57 cobras and name=None to /data/SC15//SC15_final.xml\n"
     ]
    }
   ],
   "source": [
    "ana = moduleAnalyze.moduleAnalyze(xml, brokens, camSplit)\n",
    "\n",
    "dataPath = '/data/SC15/'\n",
    "phiPath = '/data/chyan/20190731/phi50Step/'\n",
    "thetaPath = '/data/chyan/20190802/theta50Step/'\n",
    "ana.calculateGeometry('SC15_final.xml', dataPath, thetaPath, phiPath)\n",
    "ana.makeGeometryTable(dataPath)"
   ]
  },
  {
   "cell_type": "code",
   "execution_count": null,
   "metadata": {},
   "outputs": [],
   "source": []
  }
 ],
 "metadata": {
  "kernelspec": {
   "display_name": "Python 3",
   "language": "python",
   "name": "python3"
  },
  "language_info": {
   "codemirror_mode": {
    "name": "ipython",
    "version": 3
   },
   "file_extension": ".py",
   "mimetype": "text/x-python",
   "name": "python",
   "nbconvert_exporter": "python",
   "pygments_lexer": "ipython3",
   "version": "3.7.3"
  }
 },
 "nbformat": 4,
 "nbformat_minor": 2
}
