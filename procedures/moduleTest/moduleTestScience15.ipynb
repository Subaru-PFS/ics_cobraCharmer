{
 "cells": [
  {
   "cell_type": "code",
   "execution_count": 1,
   "metadata": {},
   "outputs": [],
   "source": [
    "from moduleTest import ModuleTest\n",
    "import numpy as np\n",
    "from ics.cobraCharmer import pfi as pfiControl\n",
    "from ics.cobraCharmer import pfiDesign\n",
    "\n",
    "\n",
    "import matplotlib.pyplot as plt"
   ]
  },
  {
   "cell_type": "code",
   "execution_count": null,
   "metadata": {},
   "outputs": [],
   "source": [
    "broken=[1,55]\n",
    "mt = ModuleTest('128.149.77.24', \n",
    "                '/home/pfs/mhs/devel/ics_cobraCharmer/xml/PFS-PFI-CIT900200-04_Science_15_FinalXML.xml', \n",
    "                brokens=broken,camSplit=28)\n",
    "pfi = mt.pfi"
   ]
  },
  {
   "cell_type": "code",
   "execution_count": null,
   "metadata": {},
   "outputs": [],
   "source": [
    "mt.convertXML('/home/pfs/mhs/devel/ics_cobraCharmer/xml/Science15_converted.xml')"
   ]
  },
  {
   "cell_type": "markdown",
   "metadata": {},
   "source": [
    "# Make sure the conversion is correct"
   ]
  },
  {
   "cell_type": "code",
   "execution_count": 3,
   "metadata": {},
   "outputs": [
    {
     "data": {
      "image/png": "[encoded data removed]",
      "text/plain": [
       "<Figure size 432x288 with 2 Axes>"
      ]
     },
     "metadata": {},
     "output_type": "display_data"
    }
   ],
   "source": [
    "xml = '/home/pfs/mhs/devel/ics_cobraCharmer/xml/Science15_converted.xml'\n",
    "\n",
    "model = pfiDesign.PFIDesign(xml)\n",
    "\n",
    "brokens = [1,55]\n",
    "visibles= [e for e in range(1,58) if e not in brokens]\n",
    "badIdx = np.array(brokens) - 1\n",
    "goodIdx = np.array(visibles) - 1\n",
    "\n",
    "# two groups for two cameras\n",
    "cam_split = 28\n",
    "group1 = goodIdx[goodIdx <= cam_split]\n",
    "group2 = goodIdx[goodIdx > cam_split]\n",
    "\n",
    "plt.figure(1)\n",
    "plt.clf()\n",
    "\n",
    "plt.subplot(211)\n",
    "ax = plt.gca()\n",
    "\n",
    "ax.plot(model.centers[group1].real, model.centers[group1].imag, 'ro')\n",
    "ax.axis('equal')\n",
    "#for idx in group1:\n",
    "#    c = plt.Circle((centers[idx].real, centers[idx].imag), radius[idx], color='g', fill=False)\n",
    "#    ax.add_artist(c)\n",
    "ax.set_title(f'1st camera')\n",
    "\n",
    "plt.subplot(212)\n",
    "ax = plt.gca()\n",
    "\n",
    "ax.plot(model.centers[group2].real, model.centers[group2].imag, 'ro')\n",
    "#ax.axis('equal')\n",
    "#for idx in group2:\n",
    "#    c = plt.Circle((centers[idx].real, centers[idx].imag), radius[idx], color='g', fill=False)\n",
    "#    ax.add_artist(c)\n",
    "ax.set_title(f'2nd camera')\n",
    "\n",
    "plt.show()"
   ]
  },
  {
   "cell_type": "code",
   "execution_count": null,
   "metadata": {},
   "outputs": [],
   "source": [
    "mt = ModuleTest('128.149.77.24', \n",
    "                '/home/pfs/mhs/devel/ics_cobraCharmer/xml/Science15_converted.xml', \n",
    "                brokens=broken,camSplit=28)\n",
    "pfi = mt.pfi"
   ]
  },
  {
   "cell_type": "code",
   "execution_count": null,
   "metadata": {},
   "outputs": [],
   "source": [
    "phiOntime = np.zeros(57)+0.04\n",
    "thetaOntime = np.zeros(57)+0.07"
   ]
  },
  {
   "cell_type": "code",
   "execution_count": null,
   "metadata": {},
   "outputs": [],
   "source": [
    "mt.makePhiMotorMap('science15_20190730_phi.xml', '/data/chyan/20190730/phi', \n",
    "                   phiOnTime=phiOntime, repeat = 1, fast=False)"
   ]
  },
  {
   "cell_type": "code",
   "execution_count": null,
   "metadata": {},
   "outputs": [],
   "source": [
    "path = '/data/chyan/20190730/phi/'\n",
    "centers = np.load(path + 'phiCenter.npy')\n",
    "radius = np.load(path + 'phiRadius.npy')\n",
    "fw = np.load(path + 'phiFW.npy')\n",
    "rv = np.load(path + 'phiRV.npy')\n",
    "af = np.load(path + 'phiAngFW.npy')\n",
    "ar = np.load(path + 'phiAngRV.npy')\n",
    "sf = np.load(path + 'phiSpeedFW.npy')\n",
    "sr = np.load(path + 'phiSpeedRV.npy')\n",
    "mf = np.load(path + 'phiMMFW.npy')\n",
    "mr = np.load(path + 'phiMMRV.npy')\n",
    "bad = np.load(path + 'bad.npy')\n",
    "mf2 = np.load(path + 'phiMMFW2.npy')\n",
    "mr2 = np.load(path + 'phiMMRV2.npy')\n",
    "bad2 = np.load(path + 'bad2.npy')"
   ]
  },
  {
   "cell_type": "code",
   "execution_count": null,
   "metadata": {},
   "outputs": [],
   "source": [
    "brokens = [1,55]\n",
    "visibles= [e for e in range(1,58) if e not in brokens]\n",
    "badIdx = np.array(brokens) - 1\n",
    "goodIdx = np.array(visibles) - 1\n",
    "\n",
    "# two groups for two cameras\n",
    "cam_split = 28\n",
    "group1 = goodIdx[goodIdx <= cam_split]\n",
    "group2 = goodIdx[goodIdx > cam_split]\n",
    "\n",
    "plt.figure(1)\n",
    "plt.clf()\n",
    "\n",
    "plt.subplot(211)\n",
    "ax = plt.gca()\n",
    "\n",
    "ax.plot(centers[group1].real, centers[group1].imag, 'ro')\n",
    "ax.axis('equal')\n",
    "for idx in group1:\n",
    "    c = plt.Circle((centers[idx].real, centers[idx].imag), radius[idx], color='g', fill=False)\n",
    "    ax.add_artist(c)\n",
    "ax.set_title(f'1st camera')\n",
    "\n",
    "plt.subplot(212)\n",
    "ax = plt.gca()\n",
    "\n",
    "ax.plot(centers[group2].real, centers[group2].imag, 'ro')\n",
    "ax.axis('equal')\n",
    "for idx in group2:\n",
    "    c = plt.Circle((centers[idx].real, centers[idx].imag), radius[idx], color='g', fill=False)\n",
    "    ax.add_artist(c)\n",
    "ax.set_title(f'2nd camera')\n",
    "\n",
    "plt.show()"
   ]
  },
  {
   "cell_type": "markdown",
   "metadata": {},
   "source": [
    "# On-time optimization"
   ]
  },
  {
   "cell_type": "code",
   "execution_count": null,
   "metadata": {},
   "outputs": [],
   "source": [
    "pfi.moveAllSteps(mt.allCobras, 0, -5000)"
   ]
  },
  {
   "cell_type": "code",
   "execution_count": null,
   "metadata": {},
   "outputs": [],
   "source": [
    "phiPath = '/data/chyan/20190730/phi/'\n",
    "xml = phiPath+'science15_20190730_phi.xml'\n"
   ]
  },
  {
   "cell_type": "code",
   "execution_count": null,
   "metadata": {},
   "outputs": [],
   "source": [
    "model = pfiDesign.PFIDesign(xml)\n",
    "sf = np.rad2deg(np.load(phiPath + 'phiSpeedFW.npy'))\n",
    "sr = np.rad2deg(np.load(phiPath + 'phiSpeedRV.npy'))"
   ]
  },
  {
   "cell_type": "code",
   "execution_count": null,
   "metadata": {},
   "outputs": [],
   "source": [
    "target_sf = np.zeros(57)+0.075\n",
    "ontime = target_sf*model.motorOntimeSlowFwd2/sf"
   ]
  },
  {
   "cell_type": "code",
   "execution_count": null,
   "metadata": {},
   "outputs": [],
   "source": [
    "ontime1 = ontime - 0.005\n",
    "ontime2 = ontime + 0.005\n",
    "ontime3 = ontime + 0.010\n",
    "ontime4 = ontime + 0.015"
   ]
  },
  {
   "cell_type": "code",
   "execution_count": null,
   "metadata": {},
   "outputs": [],
   "source": [
    "ontime4"
   ]
  },
  {
   "cell_type": "code",
   "execution_count": null,
   "metadata": {},
   "outputs": [],
   "source": [
    "mt.makePhiMotorMap('science01_20190730_phi_run1.xml', '/data/chyan/20190730/phi-ontime/run1/', \n",
    "                   phiOnTime=ontime1, repeat = 3, fast=False,totalSteps = 7000)\n",
    "mt.makePhiMotorMap('science01_20190730_phi_run2.xml', '/data/chyan/20190730/phi-ontime/run2/', \n",
    "                   phiOnTime=ontime2, repeat = 3, fast=False,totalSteps = 7000)\n",
    "mt.makePhiMotorMap('science01_20190730_phi_run3.xml', '/data/chyan/20190730/phi-ontime/run3/', \n",
    "                   phiOnTime=ontime3, repeat = 3, fast=False,totalSteps = 7000)\n",
    "mt.makePhiMotorMap('science01_20190730_phi_run4.xml', '/data/chyan/20190730/phi-ontime/run4/', \n",
    "                   phiOnTime=ontime4, repeat = 3, fast=False,totalSteps = 7000)"
   ]
  },
  {
   "cell_type": "markdown",
   "metadata": {},
   "source": [
    "# Running phi motor map with best on-time"
   ]
  },
  {
   "cell_type": "code",
   "execution_count": null,
   "metadata": {},
   "outputs": [],
   "source": [
    "broken=[1,55]\n",
    "mt = ModuleTest('128.149.77.24', \n",
    "                '/home/pfs/mhs/devel/ics_cobraCharmer/xml/Science15_phiopt_20190731.xml', \n",
    "                brokens=broken,camSplit=28)\n",
    "pfi = mt.pfi"
   ]
  },
  {
   "cell_type": "code",
   "execution_count": null,
   "metadata": {
    "scrolled": true
   },
   "outputs": [],
   "source": [
    "mt.makePhiMotorMap('science15_phi50step_20190731.xml', '/data/chyan/20190731/phi50Step/', \n",
    "                   repeat = 3, steps = 50, fast=False,totalSteps = 7000)\n",
    "\n",
    "mt.makePhiMotorMap('science15_phi400step_20190731.xml', '/data/chyan/20190731/phi400Step/', \n",
    "                   repeat = 3, steps = 400, fast=False,totalSteps = 7000)\n",
    "\n",
    "mt.makePhiMotorMap('science15_phi50stepFast_20190731.xml', '/data/chyan/20190731/phi50StepFast/', \n",
    "                   repeat = 3, steps = 50, fast=True,totalSteps = 7000)\n",
    "\n",
    "mt.makePhiMotorMap('science15_phi400step_20190731.xml', '/data/chyan/20190731/phi400StepFast/', \n",
    "                   repeat = 3, steps = 400, fast=True,totalSteps = 7000)\n"
   ]
  },
  {
   "cell_type": "markdown",
   "metadata": {},
   "source": [
    "# Convergence Test"
   ]
  },
  {
   "cell_type": "code",
   "execution_count": null,
   "metadata": {
    "scrolled": true
   },
   "outputs": [],
   "source": [
    "broken=[1,55]\n",
    "mt = ModuleTest('128.149.77.24', \n",
    "                '/data/chyan/20190731/phi50Step/science15_phi50step_20190731.xml', \n",
    "                brokens=broken,camSplit=28)\n",
    "pfi = mt.pfi"
   ]
  },
  {
   "cell_type": "code",
   "execution_count": null,
   "metadata": {},
   "outputs": [],
   "source": [
    "dataPath = '/data/chyan/20190801/phiConvergeTest/'\n",
    "mt.phiConvergenceTest(dataPath, margin=15.0, runs=50, tries=8, fast=False)"
   ]
  },
  {
   "cell_type": "code",
   "execution_count": null,
   "metadata": {},
   "outputs": [],
   "source": [
    "import numpy as np\n",
    "import matplotlib.pyplot as plt\n",
    "\n",
    "from bokeh.io import output_notebook, show, export_png,export_svgs, save\n",
    "from bokeh.plotting import figure, show, output_file\n",
    "import bokeh.palettes\n",
    "from bokeh.layouts import column,gridplot\n",
    "from bokeh.models import HoverTool, ColumnDataSource, LinearColorMapper\n",
    "from bokeh.models.glyphs import Text\n",
    "from bokeh.palettes import Category20\n",
    "from bokeh.palettes import inferno\n",
    "\n",
    "output_notebook()"
   ]
  },
  {
   "cell_type": "code",
   "execution_count": null,
   "metadata": {},
   "outputs": [],
   "source": [
    "phiData = np.load('/data/chyan/20190801/phiConvergeTest/phiData.npy')\n",
    "brokens = []\n",
    "badIdx = np.array(brokens) - 1\n",
    "goodIdx = np.array([e for e in range(57) if e not in badIdx])\n",
    "\n",
    "x = np.arange(9)"
   ]
  },
  {
   "cell_type": "code",
   "execution_count": null,
   "metadata": {},
   "outputs": [],
   "source": [
    "phiData.shape"
   ]
  },
  {
   "cell_type": "code",
   "execution_count": null,
   "metadata": {},
   "outputs": [],
   "source": [
    "runs=50\n",
    "margin = 15\n",
    "output_file(\"spare15_phi_convergence.html\")\n",
    "\n",
    "def plotPhiConvergence(phiData, runs, fiberNo):\n",
    "    TOOLS = ['pan','box_zoom','wheel_zoom', 'save' ,'reset','hover']\n",
    "\n",
    "    title_string=f\"Fiber {fiberNo+1} Phi\"\n",
    "    p = figure( tools=TOOLS, x_range=[0,9], y_range=[-20,180],\n",
    "               plot_height=400, plot_width=500,title=title_string)\n",
    "    p.xaxis.axis_label = 'Iteration Number'\n",
    "    p.yaxis.axis_label = 'Angle Difference from Phi Target'\n",
    "\n",
    "    #mapper = Category40[runs]\n",
    "    mapper = inferno(runs)\n",
    "\n",
    "    for i in range(runs):\n",
    "        angle = margin + (180 - 2 * margin) * i / (runs - 1)\n",
    "        ydata= angle - np.rad2deg(np.append([0], phiData[fiberNo,i,:,0]))\n",
    "        p.circle(x=x, y=ydata,radius=0.08,color=mapper[-i])\n",
    "        p.line(x=x, y=ydata,line_width=2,color=mapper[-i])\n",
    "    return p\n",
    "\n",
    "parray=[]\n",
    "\n",
    "for fiberNo in goodIdx:\n",
    "    p=plotPhiConvergence(phiData, runs, fiberNo)\n",
    "    parray.append(p)\n",
    "\n",
    "grid = gridplot(parray, ncols=4, plot_width=250, plot_height=250)\n",
    "show(grid)"
   ]
  },
  {
   "cell_type": "markdown",
   "metadata": {},
   "source": [
    "# Theta ROM test"
   ]
  },
  {
   "cell_type": "code",
   "execution_count": null,
   "metadata": {},
   "outputs": [],
   "source": [
    "broken=[1,55]\n",
    "mt = ModuleTest('128.149.77.24', \n",
    "                '/data/chyan/20190731/phi50Step/science15_phi50step_20190731.xml', \n",
    "                brokens=broken,camSplit=28)\n",
    "pfi = mt.pfi"
   ]
  },
  {
   "cell_type": "code",
   "execution_count": null,
   "metadata": {},
   "outputs": [],
   "source": [
    "thetaOntime = np.zeros(57)+0.06"
   ]
  },
  {
   "cell_type": "code",
   "execution_count": null,
   "metadata": {},
   "outputs": [],
   "source": [
    "mt.makeThetaMotorMap('science15_20190801_theta.xml', '/data/chyan/20190801/theta', \n",
    "                   thetaOnTime=thetaOntime, repeat = 1, fast=False, totalSteps = 12000)"
   ]
  },
  {
   "cell_type": "code",
   "execution_count": null,
   "metadata": {},
   "outputs": [],
   "source": [
    "thetaPath = '/data/chyan/20190801/theta/'\n",
    "xml = thetaPath+'science15_20190801_theta.xml'\n",
    "\n",
    "model = pfiDesign.PFIDesign(xml)\n",
    "sf = np.rad2deg(np.load(thetaPath + 'thetaSpeedFW.npy'))\n",
    "sr = np.rad2deg(np.load(thetaPath + 'thetaSpeedRV.npy'))"
   ]
  },
  {
   "cell_type": "code",
   "execution_count": null,
   "metadata": {},
   "outputs": [],
   "source": [
    "target_sf = np.zeros(57)+0.05\n",
    "ontime = target_sf*model.motorOntimeSlowFwd1/sf"
   ]
  },
  {
   "cell_type": "code",
   "execution_count": null,
   "metadata": {},
   "outputs": [],
   "source": [
    "ontime1 = ontime - 0.010\n",
    "ontime2 = ontime - 0.005\n",
    "ontime3 = ontime + 0.005\n",
    "ontime4 = ontime + 0.010"
   ]
  },
  {
   "cell_type": "code",
   "execution_count": null,
   "metadata": {
    "scrolled": true
   },
   "outputs": [],
   "source": [
    "ontime - 0.01"
   ]
  },
  {
   "cell_type": "code",
   "execution_count": null,
   "metadata": {},
   "outputs": [],
   "source": [
    "mt.makeThetaMotorMap('science01_20190701_theta_run1.xml', '/data/chyan/20190801/theta-ontime/run1/', \n",
    "                   thetaOnTime=ontime1, repeat = 3, fast=False,totalSteps = 12000, limitOnTime = 0.08)\n",
    "mt.makeThetaMotorMap('science01_20190701_theta_run2.xml', '/data/chyan/20190801/theta-ontime/run2/', \n",
    "                   thetaOnTime=ontime2, repeat = 3, fast=False,totalSteps = 12000, limitOnTime = 0.08)\n",
    "mt.makeThetaMotorMap('science01_20190701_theta_run3.xml', '/data/chyan/20190801/theta-ontime/run3/', \n",
    "                   thetaOnTime=ontime3, repeat = 3, fast=False,totalSteps = 12000, limitOnTime = 0.08)\n",
    "mt.makeThetaMotorMap('science01_20190701_theta_run4.xml', '/data/chyan/20190801/theta-ontime/run4/', \n",
    "                   thetaOnTime=ontime4, repeat = 3, fast=False,totalSteps = 12000, limitOnTime = 0.08)\n",
    "\n"
   ]
  },
  {
   "cell_type": "markdown",
   "metadata": {},
   "source": [
    "# Fine tune ot-time"
   ]
  },
  {
   "cell_type": "code",
   "execution_count": 4,
   "metadata": {},
   "outputs": [
    {
     "name": "stdout",
     "output_type": "stream",
     "text": [
      "18 31.641134622931666 -355.0864029102304\n",
      "19 316.79840679451354 -375.62465676013284\n",
      "21 379.23879505088706 -302.85388885957684\n",
      "24 374.4711750653033 -292.48512419000804\n",
      "30 179.37217456011587 -143.94545305276438\n",
      "38 380.3055752321766 -355.57646032661467\n",
      "47 375.93468695836253 -259.94061356712047\n",
      "54 324.1148680349781 -381.796911615393\n",
      "57 202.5393902674701 -250.44981147992894\n"
     ]
    }
   ],
   "source": [
    "path = '/data/chyan/20190802/theta50Step/'\n",
    "\n",
    "xml=path+'science15_theta50step_20190802.xml'\n",
    "newXML=path+'science15_theta50step_20190822.xml'\n",
    "\n",
    "model = pfiDesign.PFIDesign(xml)\n",
    "\n",
    "centers = np.load(path + 'thetaCenter.npy')\n",
    "radius = np.load(path + 'thetaRadius.npy')\n",
    "fw = np.load(path + 'thetaFW.npy')\n",
    "rv = np.load(path + 'thetaRV.npy')\n",
    "af = np.load(path + 'thetaAngFW.npy')\n",
    "ar = np.load(path + 'thetaAngRV.npy')\n",
    "sf = np.load(path + 'thetaSpeedFW.npy')\n",
    "sr = np.load(path + 'thetaSpeedRV.npy')\n",
    "badR = np.load(path + 'badRange.npy')\n",
    "mf = np.load(path + 'thetaMMFW.npy')\n",
    "mr = np.load(path + 'thetaMMRV.npy')\n",
    "bad = np.load(path + 'bad.npy')\n",
    "mf2 = np.load(path + 'thetaMMFW2.npy')\n",
    "mr2 = np.load(path + 'thetaMMRV2.npy')\n",
    "bad2 = np.load(path + 'bad2.npy')\n",
    "\n",
    "otsf1=model.motorOntimeSlowFwd1\n",
    "otsr1=model.motorOntimeSlowRev1\n",
    "otf1=model.motorOntimeFwd1\n",
    "otr1=model.motorOntimeRev1\n",
    "\n",
    "for n in range(1):\n",
    "    for i in goodIdx:\n",
    "        daf = (af[i,n,-1]-af[i,n,0])*180/3.14159\n",
    "        dar = (ar[i,n,-1]-ar[i,n,0])*180/3.14159\n",
    "        if (daf < 360) or (dar>-360):\n",
    "            print(i+1,daf,dar)\n",
    "        if (daf < 360):\n",
    "            otsf1 = otsf1+0.005\n",
    "        if (dar > -360):\n",
    "            otsr1 = otsr1+0.005\n",
    "\n",
    "model.updateOntimes(thtFwd=otsf1, thtRev=otsr1, fast=False)\n",
    "model.createCalibrationFile(newXML)  "
   ]
  },
  {
   "cell_type": "code",
   "execution_count": 5,
   "metadata": {},
   "outputs": [
    {
     "name": "stderr",
     "output_type": "stream",
     "text": [
      "2019-08-22T16:33:10.062 20 fpgaIO     FPGA connection to 128.149.77.24\n",
      "2019-08-22T16:33:10.090 20 fpga       load cobra model from /data/chyan/20190802/theta50Step/science15_theta50step_20190822.xml\n",
      "2019-08-22T16:33:10.091 20 log.short  --- ISSUE SETFREQ & VERIFY (brd:1) ---\n",
      "2019-08-22T16:33:10.092 20 log.eth    (ETH)Sent msg on socket.\n",
      "(0300003907d08fde\t081300fc00980823\t00fe0094101300fc\t0095102300fb0094\t\n",
      "181300f900961823\t00f80096201300fc\t0099202301010096\t281300fe00952823\t\n",
      "00fd0094301300fb\t009a302300fd0093\t381300fd00953823\t00fc0095401300fe\t\n",
      "0095402300fe0095\t4813010100974823\t00fc009450130100\t0093502300ff0096\t\n",
      "581300fe00955823\t01010097601300fe\t0095602300fb0094\t681300fc00946823\t\n",
      "01000094701300fb\t0095702300fe0097\t781300fe00947823\t00fd0095801300ff\t\n",
      "0094802300fd0096\t881300fd00948823\t00fc0095901300fe\t0097902300ff0093\t\n",
      "981300fd00969823\t00ff0095a01300fd\t0098a02301000096\ta81300f90096a823\t\n",
      "01000096b01300fc\t0093b02301000097\tb81301000096b823\t01010092c01300ff\t\n",
      "0096c02300ff0098\tc81300ff0096c823\t01000097d01300fe\t0098d02300fd0093\t\n",
      "d81300fe0096d823\t00fe0095e01300ff\t0095e02300fe0095\te81300ff0096)\n",
      "2019-08-22T16:33:10.094 20 log.eth    (ETH)Rcvd msg on socket.\n",
      "(030000000000)\n",
      "2019-08-22T16:33:10.095 20 log.medium SetFrequency tlm rx'd. (Code:0) (Message:0)\n",
      "2019-08-22T16:33:10.125 20 log.eth    (ETH)Rcvd msg on socket.\n",
      "(030000000000)\n",
      "2019-08-22T16:33:10.126 20 log.medium SetFrequency tlm rx'd. (Code:0) (Message:0)\n",
      "2019-08-22T16:33:10.127 20 fpga       send SET command succeeded\n"
     ]
    },
    {
     "name": "stdout",
     "output_type": "stream",
     "text": [
      "IS_COLORMODE_MONOCHROME: \n",
      "\tm_nColorMode: \t\t 34\n",
      "\tnBitsPerPixel: \t\t 10\n",
      "\tbytes_per_pixel: \t\t 2\n",
      "\n",
      "Camera model:\t\t UI318xCP-M\n",
      "Camera serial no.:\t 4103149829\n",
      "Maximum image self.width:\t 2592\n",
      "Maximum image self.height:\t 2048\n",
      "\n",
      "200\n",
      "IS_COLORMODE_MONOCHROME: \n",
      "\tm_nColorMode: \t\t 34\n",
      "\tnBitsPerPixel: \t\t 10\n",
      "\tbytes_per_pixel: \t\t 2\n",
      "\n",
      "Camera model:\t\t UI318xCP-M\n",
      "Camera serial no.:\t 4103118685\n",
      "Maximum image self.width:\t 2592\n",
      "Maximum image self.height:\t 2048\n",
      "\n",
      "200\n"
     ]
    }
   ],
   "source": [
    "broken=[1,55]\n",
    "mt = ModuleTest('128.149.77.24', \n",
    "                path+'science15_theta50step_20190822.xml', \n",
    "                brokens=broken,camSplit=28)\n",
    "pfi = mt.pfi"
   ]
  },
  {
   "cell_type": "code",
   "execution_count": 6,
   "metadata": {},
   "outputs": [
    {
     "name": "stderr",
     "output_type": "stream",
     "text": [
      "2019-08-22T16:34:02.647 20 log.short  --- ISSUE RUN & VERIFY (1) ---\n",
      "2019-08-22T16:34:02.648 20 log.full   (C1,1 (36, 25)uS x(10000, 0) d(0, 0) ['ccw', 'cw']) (C2,1 (80, 37)uS x(10000, 0) d(0, 0) ['ccw', 'cw']) (C1,2 (80, 32)uS x(10000, 0) d(0, 0) ['ccw', 'cw']) \n",
      "(C2,2 (80, 38)uS x(10000, 0) d(0, 0) ['ccw', 'cw']) (C1,3 (80, 37)uS x(10000, 0) d(0, 0) ['ccw', 'cw']) (C2,3 (80, 40)uS x(10000, 0) d(0, 0) ['ccw', 'cw']) \n",
      "(C1,4 (80, 57)uS x(10000, 0) d(0, 0) ['ccw', 'cw']) (C2,4 (80, 41)uS x(10000, 0) d(0, 0) ['ccw', 'cw']) (C1,5 (80, 53)uS x(10000, 0) d(0, 0) ['ccw', 'cw']) \n",
      "(C2,5 (80, 37)uS x(10000, 0) d(0, 0) ['ccw', 'cw']) (C1,6 (75, 25)uS x(10000, 0) d(0, 0) ['ccw', 'cw']) (C2,6 (80, 27)uS x(10000, 0) d(0, 0) ['ccw', 'cw']) \n",
      "(C1,7 (61, 36)uS x(10000, 0) d(0, 0) ['ccw', 'cw']) (C2,7 (80, 40)uS x(10000, 0) d(0, 0) ['ccw', 'cw']) (C1,8 (69, 36)uS x(10000, 0) d(0, 0) ['ccw', 'cw']) \n",
      "(C2,8 (80, 29)uS x(10000, 0) d(0, 0) ['ccw', 'cw']) (C1,9 (80, 40)uS x(10000, 0) d(0, 0) ['ccw', 'cw']) (C2,9 (80, 32)uS x(10000, 0) d(0, 0) ['ccw', 'cw']) \n",
      "(C1,10 (65, 38)uS x(10000, 0) d(0, 0) ['ccw', 'cw']) (C2,10 (80, 41)uS x(10000, 0) d(0, 0) ['ccw', 'cw']) (C1,11 (75, 31)uS x(10000, 0) d(0, 0) ['ccw', 'cw']) \n",
      "(C2,11 (80, 38)uS x(10000, 0) d(0, 0) ['ccw', 'cw']) (C1,12 (80, 30)uS x(10000, 0) d(0, 0) ['ccw', 'cw']) (C2,12 (80, 56)uS x(10000, 0) d(0, 0) ['ccw', 'cw']) \n",
      "(C1,13 (80, 27)uS x(10000, 0) d(0, 0) ['ccw', 'cw']) (C2,13 (80, 51)uS x(10000, 0) d(0, 0) ['ccw', 'cw']) (C1,14 (80, 32)uS x(10000, 0) d(0, 0) ['ccw', 'cw']) \n",
      "(C2,14 (80, 38)uS x(10000, 0) d(0, 0) ['ccw', 'cw']) (C1,15 (80, 35)uS x(10000, 0) d(0, 0) ['ccw', 'cw']) (C2,15 (80, 44)uS x(10000, 0) d(0, 0) ['ccw', 'cw']) \n",
      "(C1,16 (80, 44)uS x(10000, 0) d(0, 0) ['ccw', 'cw']) (C2,16 (80, 43)uS x(10000, 0) d(0, 0) ['ccw', 'cw']) (C1,17 (80, 61)uS x(10000, 0) d(0, 0) ['ccw', 'cw']) \n",
      "(C2,17 (80, 24)uS x(10000, 0) d(0, 0) ['ccw', 'cw']) (C1,18 (80, 34)uS x(10000, 0) d(0, 0) ['ccw', 'cw']) (C2,18 (80, 40)uS x(10000, 0) d(0, 0) ['ccw', 'cw']) \n",
      "(C1,19 (80, 31)uS x(10000, 0) d(0, 0) ['ccw', 'cw']) (C2,19 (72, 40)uS x(10000, 0) d(0, 0) ['ccw', 'cw']) (C1,20 (80, 50)uS x(10000, 0) d(0, 0) ['ccw', 'cw']) \n",
      "(C2,20 (80, 36)uS x(10000, 0) d(0, 0) ['ccw', 'cw']) (C1,21 (80, 38)uS x(10000, 0) d(0, 0) ['ccw', 'cw']) (C2,21 (80, 43)uS x(10000, 0) d(0, 0) ['ccw', 'cw']) \n",
      "(C1,22 (80, 28)uS x(10000, 0) d(0, 0) ['ccw', 'cw']) (C2,22 (80, 27)uS x(10000, 0) d(0, 0) ['ccw', 'cw']) (C1,23 (80, 40)uS x(10000, 0) d(0, 0) ['ccw', 'cw']) \n",
      "(C2,23 (80, 53)uS x(10000, 0) d(0, 0) ['ccw', 'cw']) (C1,24 (80, 78)uS x(10000, 0) d(0, 0) ['ccw', 'cw']) (C2,24 (80, 22)uS x(10000, 0) d(0, 0) ['ccw', 'cw']) \n",
      "(C1,25 (80, 58)uS x(10000, 0) d(0, 0) ['ccw', 'cw']) (C2,25 (80, 43)uS x(10000, 0) d(0, 0) ['ccw', 'cw']) (C1,26 (80, 33)uS x(10000, 0) d(0, 0) ['ccw', 'cw']) \n",
      "(C2,26 (80, 42)uS x(10000, 0) d(0, 0) ['ccw', 'cw']) (C1,27 (80, 41)uS x(10000, 0) d(0, 0) ['ccw', 'cw']) (C2,27 (80, 41)uS x(10000, 0) d(0, 0) ['ccw', 'cw']) \n",
      "(C1,28 (44, 21)uS x(10000, 0) d(0, 0) ['ccw', 'cw']) (C2,28 (80, 49)uS x(10000, 0) d(0, 0) ['ccw', 'cw']) (C1,29 (66, 42)uS x(10000, 0) d(0, 0) ['ccw', 'cw']) \n",
      "2019-08-22T16:34:02.648 20 log.medium Timeout:65535, inter:156\n",
      "2019-08-22T16:34:02.649 20 log.eth    (ETH)Sent msg on socket.\n",
      "(01000039ffff009c\tb654081500242710\t0000001900000000\t0825005027100000\t\n",
      "0025000000001015\t0050271000000020\t0000000010250050\t2710000000260000\t\n",
      "0000181500502710\t0000002500000000\t1825005027100000\t0028000000002015\t\n",
      "0050271000000039\t0000000020250050\t2710000000290000\t0000281500502710\t\n",
      "0000003500000000\t2825005027100000\t0025000000003015\t004b271000000019\t\n",
      "0000000030250050\t27100000001b0000\t00003815003d2710\t0000002400000000\t\n",
      "3825005027100000\t0028000000004015\t0045271000000024\t0000000040250050\t\n",
      "27100000001d0000\t0000481500502710\t0000002800000000\t4825005027100000\t\n",
      "0020000000005015\t0041271000000026\t0000000050250050\t2710000000290000\t\n",
      "00005815004b2710\t0000001f00000000\t5825005027100000\t0026000000006015\t\n",
      "005027100000001e\t0000000060250050\t2710000000380000\t0000681500502710\t\n",
      "0000001b00000000\t6825005027100000\t0033000000007015\t0050271000000020\t\n",
      "0000000070250050\t2710000000260000\t0000781500502710\t0000002300000000\t\n",
      "7825005027100000\t002c000000008015\t005027100000002c\t0000000080250050\t\n",
      "27100000002b0000\t0000881500502710\t0000003d00000000\t8825005027100000\t\n",
      "0018000000009015\t0050271000000022\t0000000090250050\t2710000000280000\t\n",
      "0000981500502710\t0000001f00000000\t9825004827100000\t002800000000a015\t\n",
      "0050271000000032\t00000000a0250050\t2710000000240000\t0000a81500502710\t\n",
      "0000002600000000\ta825005027100000\t002b00000000b015\t005027100000001c\t\n",
      "00000000b0250050\t27100000001b0000\t0000b81500502710\t0000002800000000\t\n",
      "b825005027100000\t003500000000c015\t005027100000004e\t00000000c0250050\t\n",
      "2710000000160000\t0000c81500502710\t0000003a00000000\tc825005027100000\t\n",
      "002b00000000d015\t0050271000000021\t00000000d0250050\t27100000002a0000\t\n",
      "0000d81500502710\t0000002900000000\td825005027100000\t002900000000e015\t\n",
      "002c271000000015\t00000000e0250050\t2710000000310000\t0000e81500422710\t\n",
      "0000002a00000000\t)\n",
      "2019-08-22T16:34:02.652 20 log.eth    (ETH)Rcvd msg on socket.\n",
      "(010000000000)\n",
      "2019-08-22T16:34:02.652 20 log.medium Run tlm rx'd. (Code:0) (Message:0)\n",
      "2019-08-22T16:34:27.689 20 log.eth    (ETH)Rcvd msg on socket.\n",
      "(010000000000)\n",
      "2019-08-22T16:34:27.690 20 log.medium Run tlm rx'd. (Code:0) (Message:0)\n",
      "2019-08-22T16:34:27.692 20 fpga       send RUN command succeeded\n",
      "2019-08-22T16:34:27.695 20 log.short  --- ISSUE RUN & VERIFY (1) ---\n",
      "2019-08-22T16:34:27.697 20 log.full   (C1,1 (36, 25)uS x(2000, 0) d(0, 0) ['ccw', 'cw']) (C2,1 (80, 37)uS x(2000, 0) d(0, 0) ['ccw', 'cw']) (C1,2 (80, 32)uS x(2000, 0) d(0, 0) ['ccw', 'cw']) \n",
      "(C2,2 (80, 38)uS x(2000, 0) d(0, 0) ['ccw', 'cw']) (C1,3 (80, 37)uS x(2000, 0) d(0, 0) ['ccw', 'cw']) (C2,3 (80, 40)uS x(2000, 0) d(0, 0) ['ccw', 'cw']) \n",
      "(C1,4 (80, 57)uS x(2000, 0) d(0, 0) ['ccw', 'cw']) (C2,4 (80, 41)uS x(2000, 0) d(0, 0) ['ccw', 'cw']) (C1,5 (80, 53)uS x(2000, 0) d(0, 0) ['ccw', 'cw']) \n",
      "(C2,5 (80, 37)uS x(2000, 0) d(0, 0) ['ccw', 'cw']) (C1,6 (75, 25)uS x(2000, 0) d(0, 0) ['ccw', 'cw']) (C2,6 (80, 27)uS x(2000, 0) d(0, 0) ['ccw', 'cw']) \n",
      "(C1,7 (61, 36)uS x(2000, 0) d(0, 0) ['ccw', 'cw']) (C2,7 (80, 40)uS x(2000, 0) d(0, 0) ['ccw', 'cw']) (C1,8 (69, 36)uS x(2000, 0) d(0, 0) ['ccw', 'cw']) \n",
      "(C2,8 (80, 29)uS x(2000, 0) d(0, 0) ['ccw', 'cw']) (C1,9 (80, 40)uS x(2000, 0) d(0, 0) ['ccw', 'cw']) (C2,9 (80, 32)uS x(2000, 0) d(0, 0) ['ccw', 'cw']) \n",
      "(C1,10 (65, 38)uS x(2000, 0) d(0, 0) ['ccw', 'cw']) (C2,10 (80, 41)uS x(2000, 0) d(0, 0) ['ccw', 'cw']) (C1,11 (75, 31)uS x(2000, 0) d(0, 0) ['ccw', 'cw']) \n",
      "(C2,11 (80, 38)uS x(2000, 0) d(0, 0) ['ccw', 'cw']) (C1,12 (80, 30)uS x(2000, 0) d(0, 0) ['ccw', 'cw']) (C2,12 (80, 56)uS x(2000, 0) d(0, 0) ['ccw', 'cw']) \n",
      "(C1,13 (80, 27)uS x(2000, 0) d(0, 0) ['ccw', 'cw']) (C2,13 (80, 51)uS x(2000, 0) d(0, 0) ['ccw', 'cw']) (C1,14 (80, 32)uS x(2000, 0) d(0, 0) ['ccw', 'cw']) \n",
      "(C2,14 (80, 38)uS x(2000, 0) d(0, 0) ['ccw', 'cw']) (C1,15 (80, 35)uS x(2000, 0) d(0, 0) ['ccw', 'cw']) (C2,15 (80, 44)uS x(2000, 0) d(0, 0) ['ccw', 'cw']) \n",
      "(C1,16 (80, 44)uS x(2000, 0) d(0, 0) ['ccw', 'cw']) (C2,16 (80, 43)uS x(2000, 0) d(0, 0) ['ccw', 'cw']) (C1,17 (80, 61)uS x(2000, 0) d(0, 0) ['ccw', 'cw']) \n",
      "(C2,17 (80, 24)uS x(2000, 0) d(0, 0) ['ccw', 'cw']) (C1,18 (80, 34)uS x(2000, 0) d(0, 0) ['ccw', 'cw']) (C2,18 (80, 40)uS x(2000, 0) d(0, 0) ['ccw', 'cw']) \n",
      "(C1,19 (80, 31)uS x(2000, 0) d(0, 0) ['ccw', 'cw']) (C2,19 (72, 40)uS x(2000, 0) d(0, 0) ['ccw', 'cw']) (C1,20 (80, 50)uS x(2000, 0) d(0, 0) ['ccw', 'cw']) \n",
      "(C2,20 (80, 36)uS x(2000, 0) d(0, 0) ['ccw', 'cw']) (C1,21 (80, 38)uS x(2000, 0) d(0, 0) ['ccw', 'cw']) (C2,21 (80, 43)uS x(2000, 0) d(0, 0) ['ccw', 'cw']) \n",
      "(C1,22 (80, 28)uS x(2000, 0) d(0, 0) ['ccw', 'cw']) (C2,22 (80, 27)uS x(2000, 0) d(0, 0) ['ccw', 'cw']) (C1,23 (80, 40)uS x(2000, 0) d(0, 0) ['ccw', 'cw']) \n",
      "(C2,23 (80, 53)uS x(2000, 0) d(0, 0) ['ccw', 'cw']) (C1,24 (80, 78)uS x(2000, 0) d(0, 0) ['ccw', 'cw']) (C2,24 (80, 22)uS x(2000, 0) d(0, 0) ['ccw', 'cw']) \n",
      "(C1,25 (80, 58)uS x(2000, 0) d(0, 0) ['ccw', 'cw']) (C2,25 (80, 43)uS x(2000, 0) d(0, 0) ['ccw', 'cw']) (C1,26 (80, 33)uS x(2000, 0) d(0, 0) ['ccw', 'cw']) \n",
      "(C2,26 (80, 42)uS x(2000, 0) d(0, 0) ['ccw', 'cw']) (C1,27 (80, 41)uS x(2000, 0) d(0, 0) ['ccw', 'cw']) (C2,27 (80, 41)uS x(2000, 0) d(0, 0) ['ccw', 'cw']) \n",
      "(C1,28 (44, 21)uS x(2000, 0) d(0, 0) ['ccw', 'cw']) (C2,28 (80, 49)uS x(2000, 0) d(0, 0) ['ccw', 'cw']) (C1,29 (66, 42)uS x(2000, 0) d(0, 0) ['ccw', 'cw']) \n"
     ]
    },
    {
     "name": "stderr",
     "output_type": "stream",
     "text": [
      "2019-08-22T16:34:27.699 20 log.medium Timeout:65535, inter:156\n",
      "2019-08-22T16:34:27.704 20 log.eth    (ETH)Sent msg on socket.\n",
      "(01000039ffff009c\t92b40815002407d0\t0000001900000000\t0825005007d00000\t\n",
      "0025000000001015\t005007d000000020\t0000000010250050\t07d0000000260000\t\n",
      "00001815005007d0\t0000002500000000\t1825005007d00000\t0028000000002015\t\n",
      "005007d000000039\t0000000020250050\t07d0000000290000\t00002815005007d0\t\n",
      "0000003500000000\t2825005007d00000\t0025000000003015\t004b07d000000019\t\n",
      "0000000030250050\t07d00000001b0000\t00003815003d07d0\t0000002400000000\t\n",
      "3825005007d00000\t0028000000004015\t004507d000000024\t0000000040250050\t\n",
      "07d00000001d0000\t00004815005007d0\t0000002800000000\t4825005007d00000\t\n",
      "0020000000005015\t004107d000000026\t0000000050250050\t07d0000000290000\t\n",
      "00005815004b07d0\t0000001f00000000\t5825005007d00000\t0026000000006015\t\n",
      "005007d00000001e\t0000000060250050\t07d0000000380000\t00006815005007d0\t\n",
      "0000001b00000000\t6825005007d00000\t0033000000007015\t005007d000000020\t\n",
      "0000000070250050\t07d0000000260000\t00007815005007d0\t0000002300000000\t\n",
      "7825005007d00000\t002c000000008015\t005007d00000002c\t0000000080250050\t\n",
      "07d00000002b0000\t00008815005007d0\t0000003d00000000\t8825005007d00000\t\n",
      "0018000000009015\t005007d000000022\t0000000090250050\t07d0000000280000\t\n",
      "00009815005007d0\t0000001f00000000\t9825004807d00000\t002800000000a015\t\n",
      "005007d000000032\t00000000a0250050\t07d0000000240000\t0000a815005007d0\t\n",
      "0000002600000000\ta825005007d00000\t002b00000000b015\t005007d00000001c\t\n",
      "00000000b0250050\t07d00000001b0000\t0000b815005007d0\t0000002800000000\t\n",
      "b825005007d00000\t003500000000c015\t005007d00000004e\t00000000c0250050\t\n",
      "07d0000000160000\t0000c815005007d0\t0000003a00000000\tc825005007d00000\t\n",
      "002b00000000d015\t005007d000000021\t00000000d0250050\t07d00000002a0000\t\n",
      "0000d815005007d0\t0000002900000000\td825005007d00000\t002900000000e015\t\n",
      "002c07d000000015\t00000000e0250050\t07d0000000310000\t0000e815004207d0\t\n",
      "0000002a00000000\t)\n",
      "2019-08-22T16:34:27.708 20 log.eth    (ETH)Rcvd msg on socket.\n",
      "(010000000000)\n",
      "2019-08-22T16:34:27.710 20 log.medium Run tlm rx'd. (Code:0) (Message:0)\n",
      "2019-08-22T16:34:32.739 20 log.eth    (ETH)Rcvd msg on socket.\n",
      "(010000000000)\n",
      "2019-08-22T16:34:32.740 20 log.medium Run tlm rx'd. (Code:0) (Message:0)\n",
      "2019-08-22T16:34:32.742 20 fpga       send RUN command succeeded\n"
     ]
    }
   ],
   "source": [
    "pfi.moveAllSteps(mt.allCobras, -10000, 0)\n",
    "pfi.moveAllSteps(mt.allCobras, -2000, 0)"
   ]
  },
  {
   "cell_type": "code",
   "execution_count": null,
   "metadata": {},
   "outputs": [
    {
     "name": "stdout",
     "output_type": "stream",
     "text": [
      "Camera close!\n",
      "IS_COLORMODE_MONOCHROME: \n",
      "\tm_nColorMode: \t\t 34\n",
      "\tnBitsPerPixel: \t\t 10\n",
      "\tbytes_per_pixel: \t\t 2\n",
      "\n",
      "Camera model:\t\t UI318xCP-M\n",
      "Camera serial no.:\t 4103149829\n",
      "Maximum image self.width:\t 2592\n",
      "Maximum image self.height:\t 2048\n",
      "\n",
      "200\n",
      "Camera close!\n"
     ]
    },
    {
     "name": "stderr",
     "output_type": "stream",
     "text": [
      "2019-08-22T16:34:44.075 20 log.short  --- ISSUE RUN & VERIFY (2) ---\n",
      "2019-08-22T16:34:44.076 20 log.full   (C2,1 (60, 60)uS x(10000, 0) d(0, 0) ['ccw', 'cw']) (C1,2 (60, 60)uS x(10000, 0) d(0, 0) ['ccw', 'cw']) (C2,2 (60, 60)uS x(10000, 0) d(0, 0) ['ccw', 'cw']) \n",
      "(C1,3 (60, 60)uS x(10000, 0) d(0, 0) ['ccw', 'cw']) (C2,3 (60, 60)uS x(10000, 0) d(0, 0) ['ccw', 'cw']) (C1,4 (60, 60)uS x(10000, 0) d(0, 0) ['ccw', 'cw']) \n",
      "(C2,4 (60, 60)uS x(10000, 0) d(0, 0) ['ccw', 'cw']) (C1,5 (60, 60)uS x(10000, 0) d(0, 0) ['ccw', 'cw']) (C2,5 (60, 60)uS x(10000, 0) d(0, 0) ['ccw', 'cw']) \n",
      "(C1,6 (60, 60)uS x(10000, 0) d(0, 0) ['ccw', 'cw']) (C2,6 (60, 60)uS x(10000, 0) d(0, 0) ['ccw', 'cw']) (C1,7 (60, 60)uS x(10000, 0) d(0, 0) ['ccw', 'cw']) \n",
      "(C2,7 (60, 60)uS x(10000, 0) d(0, 0) ['ccw', 'cw']) (C1,8 (60, 60)uS x(10000, 0) d(0, 0) ['ccw', 'cw']) (C2,8 (60, 60)uS x(10000, 0) d(0, 0) ['ccw', 'cw']) \n",
      "(C1,9 (60, 60)uS x(10000, 0) d(0, 0) ['ccw', 'cw']) (C2,9 (60, 60)uS x(10000, 0) d(0, 0) ['ccw', 'cw']) (C1,10 (60, 60)uS x(10000, 0) d(0, 0) ['ccw', 'cw']) \n",
      "(C2,10 (60, 60)uS x(10000, 0) d(0, 0) ['ccw', 'cw']) (C1,11 (60, 60)uS x(10000, 0) d(0, 0) ['ccw', 'cw']) (C2,11 (60, 60)uS x(10000, 0) d(0, 0) ['ccw', 'cw']) \n",
      "(C1,12 (60, 60)uS x(10000, 0) d(0, 0) ['ccw', 'cw']) (C2,12 (60, 60)uS x(10000, 0) d(0, 0) ['ccw', 'cw']) (C1,13 (60, 60)uS x(10000, 0) d(0, 0) ['ccw', 'cw']) \n",
      "(C2,13 (60, 60)uS x(10000, 0) d(0, 0) ['ccw', 'cw']) (C1,14 (60, 60)uS x(10000, 0) d(0, 0) ['ccw', 'cw']) (C2,14 (60, 60)uS x(10000, 0) d(0, 0) ['ccw', 'cw']) \n",
      "(C1,15 (60, 60)uS x(10000, 0) d(0, 0) ['ccw', 'cw']) (C2,15 (60, 60)uS x(10000, 0) d(0, 0) ['ccw', 'cw']) (C1,16 (60, 60)uS x(10000, 0) d(0, 0) ['ccw', 'cw']) \n",
      "(C2,16 (60, 60)uS x(10000, 0) d(0, 0) ['ccw', 'cw']) (C1,17 (60, 60)uS x(10000, 0) d(0, 0) ['ccw', 'cw']) (C2,17 (60, 60)uS x(10000, 0) d(0, 0) ['ccw', 'cw']) \n",
      "(C1,18 (60, 60)uS x(10000, 0) d(0, 0) ['ccw', 'cw']) (C2,18 (60, 60)uS x(10000, 0) d(0, 0) ['ccw', 'cw']) (C1,19 (60, 60)uS x(10000, 0) d(0, 0) ['ccw', 'cw']) \n",
      "(C2,19 (60, 60)uS x(10000, 0) d(0, 0) ['ccw', 'cw']) (C1,20 (60, 60)uS x(10000, 0) d(0, 0) ['ccw', 'cw']) (C2,20 (60, 60)uS x(10000, 0) d(0, 0) ['ccw', 'cw']) \n",
      "(C1,21 (60, 60)uS x(10000, 0) d(0, 0) ['ccw', 'cw']) (C2,21 (60, 60)uS x(10000, 0) d(0, 0) ['ccw', 'cw']) (C1,22 (60, 60)uS x(10000, 0) d(0, 0) ['ccw', 'cw']) \n",
      "(C2,22 (60, 60)uS x(10000, 0) d(0, 0) ['ccw', 'cw']) (C1,23 (60, 60)uS x(10000, 0) d(0, 0) ['ccw', 'cw']) (C2,23 (60, 60)uS x(10000, 0) d(0, 0) ['ccw', 'cw']) \n",
      "(C1,24 (60, 60)uS x(10000, 0) d(0, 0) ['ccw', 'cw']) (C2,24 (60, 60)uS x(10000, 0) d(0, 0) ['ccw', 'cw']) (C1,25 (60, 60)uS x(10000, 0) d(0, 0) ['ccw', 'cw']) \n",
      "(C2,25 (60, 60)uS x(10000, 0) d(0, 0) ['ccw', 'cw']) (C1,26 (60, 60)uS x(10000, 0) d(0, 0) ['ccw', 'cw']) (C2,26 (60, 60)uS x(10000, 0) d(0, 0) ['ccw', 'cw']) \n",
      "(C1,27 (60, 60)uS x(10000, 0) d(0, 0) ['ccw', 'cw']) (C2,27 (60, 60)uS x(10000, 0) d(0, 0) ['ccw', 'cw']) (C2,28 (60, 60)uS x(10000, 0) d(0, 0) ['ccw', 'cw']) \n",
      "(C1,29 (60, 60)uS x(10000, 0) d(0, 0) ['ccw', 'cw']) \n",
      "2019-08-22T16:34:44.076 20 log.medium Timeout:65535, inter:156\n",
      "2019-08-22T16:34:44.078 20 log.eth    (ETH)Sent msg on socket.\n",
      "(01000037ffff009c\tb7f20825003c2710\t0000003c00000000\t1015003c27100000\t\n",
      "003c000000001025\t003c27100000003c\t000000001815003c\t27100000003c0000\t\n",
      "00001825003c2710\t0000003c00000000\t2015003c27100000\t003c000000002025\t\n",
      "003c27100000003c\t000000002815003c\t27100000003c0000\t00002825003c2710\t\n",
      "0000003c00000000\t3015003c27100000\t003c000000003025\t003c27100000003c\t\n",
      "000000003815003c\t27100000003c0000\t00003825003c2710\t0000003c00000000\t\n",
      "4015003c27100000\t003c000000004025\t003c27100000003c\t000000004815003c\t\n",
      "27100000003c0000\t00004825003c2710\t0000003c00000000\t5015003c27100000\t\n",
      "003c000000005025\t003c27100000003c\t000000005815003c\t27100000003c0000\t\n",
      "00005825003c2710\t0000003c00000000\t6015003c27100000\t003c000000006025\t\n",
      "003c27100000003c\t000000006815003c\t27100000003c0000\t00006825003c2710\t\n",
      "0000003c00000000\t7015003c27100000\t003c000000007025\t003c27100000003c\t\n",
      "000000007815003c\t27100000003c0000\t00007825003c2710\t0000003c00000000\t\n",
      "8015003c27100000\t003c000000008025\t003c27100000003c\t000000008815003c\t\n",
      "27100000003c0000\t00008825003c2710\t0000003c00000000\t9015003c27100000\t\n",
      "003c000000009025\t003c27100000003c\t000000009815003c\t27100000003c0000\t\n",
      "00009825003c2710\t0000003c00000000\ta015003c27100000\t003c00000000a025\t\n",
      "003c27100000003c\t00000000a815003c\t27100000003c0000\t0000a825003c2710\t\n",
      "0000003c00000000\tb015003c27100000\t003c00000000b025\t003c27100000003c\t\n",
      "00000000b815003c\t27100000003c0000\t0000b825003c2710\t0000003c00000000\t\n",
      "c015003c27100000\t003c00000000c025\t003c27100000003c\t00000000c815003c\t\n",
      "27100000003c0000\t0000c825003c2710\t0000003c00000000\td015003c27100000\t\n",
      "003c00000000d025\t003c27100000003c\t00000000d815003c\t27100000003c0000\t\n",
      "0000d825003c2710\t0000003c00000000\te025003c27100000\t003c00000000e815\t\n",
      "003c27100000003c\t00000000)\n",
      "2019-08-22T16:34:44.081 20 log.eth    (ETH)Rcvd msg on socket.\n",
      "(010000000000)\n",
      "2019-08-22T16:34:44.081 20 log.medium Run tlm rx'd. (Code:0) (Message:0)\n"
     ]
    },
    {
     "name": "stdout",
     "output_type": "stream",
     "text": [
      "IS_COLORMODE_MONOCHROME: \n",
      "\tm_nColorMode: \t\t 34\n",
      "\tnBitsPerPixel: \t\t 10\n",
      "\tbytes_per_pixel: \t\t 2\n",
      "\n",
      "Camera model:\t\t UI318xCP-M\n",
      "Camera serial no.:\t 4103118685\n",
      "Maximum image self.width:\t 2592\n",
      "Maximum image self.height:\t 2048\n",
      "\n",
      "200\n"
     ]
    }
   ],
   "source": [
    "mt.makeThetaMotorMap('science15_theta_20190822.xml', '/data/chyan/20190822/theta-ot-op/', \n",
    "                   repeat = 1, steps = 200, fast=False,totalSteps = 12000)\n"
   ]
  },
  {
   "cell_type": "markdown",
   "metadata": {},
   "source": [
    "# Running theta motor map"
   ]
  },
  {
   "cell_type": "code",
   "execution_count": null,
   "metadata": {},
   "outputs": [],
   "source": [
    "broken=[1,55]\n",
    "mt = ModuleTest('128.149.77.24', \n",
    "                '/data/chyan/20190731/phi50Step/Science15_thetaopt_20190802.xml', \n",
    "                brokens=broken,camSplit=28)\n",
    "pfi = mt.pfi"
   ]
  },
  {
   "cell_type": "code",
   "execution_count": null,
   "metadata": {},
   "outputs": [],
   "source": [
    "mt.makeThetaMotorMap('science15_theta50step_20190802.xml', '/data/chyan/20190802/theta50Step/', \n",
    "                   repeat = 3, steps = 50, fast=False,totalSteps = 12000)\n",
    "\n",
    "mt.makeThetaMotorMap('science15_theta400step_20190802.xml', '/data/chyan/20190802/theta400Step/', \n",
    "                   repeat = 3, steps = 400, fast=False,totalSteps = 12000)\n",
    "\n",
    "mt.makeThetaMotorMap('science15_theta50stepFast_20190802.xml', '/data/chyan/20190802/theta50StepFast/', \n",
    "                   repeat = 3, steps = 50, fast=True,totalSteps = 12000)\n",
    "\n",
    "mt.makeThetaMotorMap('science15_theta400step_20190802.xml', '/data/chyan/20190802/theta400StepFast/', \n",
    "                   repeat = 3, steps = 400, fast=True,totalSteps = 12000)\n"
   ]
  },
  {
   "cell_type": "markdown",
   "metadata": {},
   "source": [
    "# Theta Convergence Test"
   ]
  },
  {
   "cell_type": "code",
   "execution_count": null,
   "metadata": {},
   "outputs": [],
   "source": [
    "broken=[1,55]\n",
    "mt = ModuleTest('128.149.77.24', \n",
    "                '/data/chyan/20190802/theta50Step/science15_theta50step_20190802.xml', \n",
    "                brokens=broken,camSplit=28)\n",
    "pfi = mt.pfi"
   ]
  },
  {
   "cell_type": "code",
   "execution_count": null,
   "metadata": {},
   "outputs": [],
   "source": [
    "dataPath = '/data/chyan/20190821/thetaConvergeTest/'\n",
    "mt.thetaConvergenceTest(dataPath, margin=15.0, runs=50, tries=8, fast=False)"
   ]
  },
  {
   "cell_type": "code",
   "execution_count": null,
   "metadata": {},
   "outputs": [],
   "source": []
  }
 ],
 "metadata": {
  "kernelspec": {
   "display_name": "Python 3",
   "language": "python",
   "name": "python3"
  },
  "language_info": {
   "codemirror_mode": {
    "name": "ipython",
    "version": 3
   },
   "file_extension": ".py",
   "mimetype": "text/x-python",
   "name": "python",
   "nbconvert_exporter": "python",
   "pygments_lexer": "ipython3",
   "version": "3.7.4"
  }
 },
 "nbformat": 4,
 "nbformat_minor": 2
}
