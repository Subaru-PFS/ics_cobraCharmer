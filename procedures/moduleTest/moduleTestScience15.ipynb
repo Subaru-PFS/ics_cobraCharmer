{
 "cells": [
  {
   "cell_type": "code",
   "execution_count": null,
   "metadata": {},
   "outputs": [],
   "source": [
    "from moduleTest import ModuleTest\n",
    "import numpy as np\n",
    "from ics.cobraCharmer import pfi as pfiControl\n",
    "from ics.cobraCharmer import pfiDesign\n",
    "\n",
    "\n",
    "import matplotlib.pyplot as plt"
   ]
  },
  {
   "cell_type": "code",
   "execution_count": null,
   "metadata": {},
   "outputs": [],
   "source": [
    "broken=[1,55]\n",
    "mt = ModuleTest('128.149.77.24', \n",
    "                '/home/pfs/mhs/devel/ics_cobraCharmer/xml/PFS-PFI-CIT900200-04_Science_15_FinalXML.xml', \n",
    "                brokens=broken,camSplit=28)\n",
    "pfi = mt.pfi"
   ]
  },
  {
   "cell_type": "code",
   "execution_count": null,
   "metadata": {},
   "outputs": [],
   "source": [
    "mt.convertXML('/home/pfs/mhs/devel/ics_cobraCharmer/xml/Science15_converted.xml')"
   ]
  },
  {
   "cell_type": "markdown",
   "metadata": {},
   "source": [
    "# Make sure the conversion is correct"
   ]
  },
  {
   "cell_type": "code",
   "execution_count": null,
   "metadata": {},
   "outputs": [],
   "source": [
    "xml = '/home/pfs/mhs/devel/ics_cobraCharmer/xml/Science15_converted.xml'\n",
    "\n",
    "model = pfiDesign.PFIDesign(xml)\n",
    "\n",
    "brokens = [1,55]\n",
    "visibles= [e for e in range(1,58) if e not in brokens]\n",
    "badIdx = np.array(brokens) - 1\n",
    "goodIdx = np.array(visibles) - 1\n",
    "\n",
    "# two groups for two cameras\n",
    "cam_split = 28\n",
    "group1 = goodIdx[goodIdx <= cam_split]\n",
    "group2 = goodIdx[goodIdx > cam_split]\n",
    "\n",
    "plt.figure(1)\n",
    "plt.clf()\n",
    "\n",
    "plt.subplot(211)\n",
    "ax = plt.gca()\n",
    "\n",
    "ax.plot(model.centers[group1].real, model.centers[group1].imag, 'ro')\n",
    "ax.axis('equal')\n",
    "#for idx in group1:\n",
    "#    c = plt.Circle((centers[idx].real, centers[idx].imag), radius[idx], color='g', fill=False)\n",
    "#    ax.add_artist(c)\n",
    "ax.set_title(f'1st camera')\n",
    "\n",
    "plt.subplot(212)\n",
    "ax = plt.gca()\n",
    "\n",
    "ax.plot(model.centers[group2].real, model.centers[group2].imag, 'ro')\n",
    "#ax.axis('equal')\n",
    "#for idx in group2:\n",
    "#    c = plt.Circle((centers[idx].real, centers[idx].imag), radius[idx], color='g', fill=False)\n",
    "#    ax.add_artist(c)\n",
    "ax.set_title(f'2nd camera')\n",
    "\n",
    "plt.show()"
   ]
  },
  {
   "cell_type": "code",
   "execution_count": null,
   "metadata": {},
   "outputs": [],
   "source": [
    "mt = ModuleTest('128.149.77.24', \n",
    "                '/home/pfs/mhs/devel/ics_cobraCharmer/xml/Science15_converted.xml', \n",
    "                brokens=broken,camSplit=28)\n",
    "pfi = mt.pfi"
   ]
  },
  {
   "cell_type": "code",
   "execution_count": null,
   "metadata": {},
   "outputs": [],
   "source": [
    "phiOntime = np.zeros(57)+0.04\n",
    "thetaOntime = np.zeros(57)+0.07"
   ]
  },
  {
   "cell_type": "code",
   "execution_count": null,
   "metadata": {},
   "outputs": [],
   "source": [
    "mt.makePhiMotorMap('science15_20190730_phi.xml', '/data/chyan/20190730/phi', \n",
    "                   phiOnTime=phiOntime, repeat = 1, fast=False)"
   ]
  },
  {
   "cell_type": "code",
   "execution_count": null,
   "metadata": {},
   "outputs": [],
   "source": [
    "path = '/data/chyan/20190730/phi/'\n",
    "centers = np.load(path + 'phiCenter.npy')\n",
    "radius = np.load(path + 'phiRadius.npy')\n",
    "fw = np.load(path + 'phiFW.npy')\n",
    "rv = np.load(path + 'phiRV.npy')\n",
    "af = np.load(path + 'phiAngFW.npy')\n",
    "ar = np.load(path + 'phiAngRV.npy')\n",
    "sf = np.load(path + 'phiSpeedFW.npy')\n",
    "sr = np.load(path + 'phiSpeedRV.npy')\n",
    "mf = np.load(path + 'phiMMFW.npy')\n",
    "mr = np.load(path + 'phiMMRV.npy')\n",
    "bad = np.load(path + 'bad.npy')\n",
    "mf2 = np.load(path + 'phiMMFW2.npy')\n",
    "mr2 = np.load(path + 'phiMMRV2.npy')\n",
    "bad2 = np.load(path + 'bad2.npy')"
   ]
  },
  {
   "cell_type": "code",
   "execution_count": null,
   "metadata": {},
   "outputs": [],
   "source": [
    "brokens = [1,55]\n",
    "visibles= [e for e in range(1,58) if e not in brokens]\n",
    "badIdx = np.array(brokens) - 1\n",
    "goodIdx = np.array(visibles) - 1\n",
    "\n",
    "# two groups for two cameras\n",
    "cam_split = 28\n",
    "group1 = goodIdx[goodIdx <= cam_split]\n",
    "group2 = goodIdx[goodIdx > cam_split]\n",
    "\n",
    "plt.figure(1)\n",
    "plt.clf()\n",
    "\n",
    "plt.subplot(211)\n",
    "ax = plt.gca()\n",
    "\n",
    "ax.plot(centers[group1].real, centers[group1].imag, 'ro')\n",
    "ax.axis('equal')\n",
    "for idx in group1:\n",
    "    c = plt.Circle((centers[idx].real, centers[idx].imag), radius[idx], color='g', fill=False)\n",
    "    ax.add_artist(c)\n",
    "ax.set_title(f'1st camera')\n",
    "\n",
    "plt.subplot(212)\n",
    "ax = plt.gca()\n",
    "\n",
    "ax.plot(centers[group2].real, centers[group2].imag, 'ro')\n",
    "ax.axis('equal')\n",
    "for idx in group2:\n",
    "    c = plt.Circle((centers[idx].real, centers[idx].imag), radius[idx], color='g', fill=False)\n",
    "    ax.add_artist(c)\n",
    "ax.set_title(f'2nd camera')\n",
    "\n",
    "plt.show()"
   ]
  },
  {
   "cell_type": "markdown",
   "metadata": {},
   "source": [
    "# On-time optimization"
   ]
  },
  {
   "cell_type": "code",
   "execution_count": null,
   "metadata": {},
   "outputs": [],
   "source": [
    "pfi.moveAllSteps(mt.allCobras, 0, -5000)"
   ]
  },
  {
   "cell_type": "code",
   "execution_count": null,
   "metadata": {},
   "outputs": [],
   "source": [
    "phiPath = '/data/chyan/20190730/phi/'\n",
    "xml = phiPath+'science15_20190730_phi.xml'\n"
   ]
  },
  {
   "cell_type": "code",
   "execution_count": null,
   "metadata": {},
   "outputs": [],
   "source": [
    "model = pfiDesign.PFIDesign(xml)\n",
    "sf = np.rad2deg(np.load(phiPath + 'phiSpeedFW.npy'))\n",
    "sr = np.rad2deg(np.load(phiPath + 'phiSpeedRV.npy'))"
   ]
  },
  {
   "cell_type": "code",
   "execution_count": null,
   "metadata": {},
   "outputs": [],
   "source": [
    "target_sf = np.zeros(57)+0.075\n",
    "ontime = target_sf*model.motorOntimeSlowFwd2/sf"
   ]
  },
  {
   "cell_type": "code",
   "execution_count": null,
   "metadata": {},
   "outputs": [],
   "source": [
    "ontime1 = ontime - 0.005\n",
    "ontime2 = ontime + 0.005\n",
    "ontime3 = ontime + 0.010\n",
    "ontime4 = ontime + 0.015"
   ]
  },
  {
   "cell_type": "code",
   "execution_count": null,
   "metadata": {},
   "outputs": [],
   "source": [
    "ontime4"
   ]
  },
  {
   "cell_type": "code",
   "execution_count": null,
   "metadata": {},
   "outputs": [],
   "source": [
    "mt.makePhiMotorMap('science01_20190730_phi_run1.xml', '/data/chyan/20190730/phi-ontime/run1/', \n",
    "                   phiOnTime=ontime1, repeat = 3, fast=False,totalSteps = 7000)\n",
    "mt.makePhiMotorMap('science01_20190730_phi_run2.xml', '/data/chyan/20190730/phi-ontime/run2/', \n",
    "                   phiOnTime=ontime2, repeat = 3, fast=False,totalSteps = 7000)\n",
    "mt.makePhiMotorMap('science01_20190730_phi_run3.xml', '/data/chyan/20190730/phi-ontime/run3/', \n",
    "                   phiOnTime=ontime3, repeat = 3, fast=False,totalSteps = 7000)\n",
    "mt.makePhiMotorMap('science01_20190730_phi_run4.xml', '/data/chyan/20190730/phi-ontime/run4/', \n",
    "                   phiOnTime=ontime4, repeat = 3, fast=False,totalSteps = 7000)"
   ]
  },
  {
   "cell_type": "markdown",
   "metadata": {},
   "source": [
    "# Phi On-Time Optimization"
   ]
  },
  {
   "cell_type": "code",
   "execution_count": null,
   "metadata": {},
   "outputs": [],
   "source": [
    "import ontimeOptimize \n",
    "\n",
    "brokens = [1,55]\n",
    "datalist = ['/Volumes/GoogleDrive/My Drive/PFS/CobraModuleTestResult/Science15/Data/20190730/phi-ontime/run1',\n",
    "            '/Volumes/GoogleDrive/My Drive/PFS/CobraModuleTestResult/Science15/Data/20190730/phi-ontime/run2',\n",
    "            '/Volumes/GoogleDrive/My Drive/PFS/CobraModuleTestResult/Science15/Data/20190730/phi-ontime/run3',\n",
    "            '/Volumes/GoogleDrive/My Drive/PFS/CobraModuleTestResult/Science15/Data/20190730/phi-ontime/run4',\n",
    "            '/Volumes/GoogleDrive/My Drive/PFS/CobraModuleTestResult/Science15/Data/20190730/phi',\n",
    "           ]\n",
    "otm = ontimeOptimize.OntimeOptimize(brokens=brokens, phiList = datalist)"
   ]
  },
  {
   "cell_type": "code",
   "execution_count": null,
   "metadata": {},
   "outputs": [],
   "source": [
    "otm.rev_slope,otm.rev_int"
   ]
  },
  {
   "cell_type": "code",
   "execution_count": null,
   "metadata": {},
   "outputs": [],
   "source": [
    "outpath = '/Volumes/GoogleDrive/My Drive/PFS/CobraModuleTestResult/Science15/OnTimeOptimization/'\n",
    "otm.visMaps('Fwd',filename=outpath+'science15_phi_fwd.html')\n",
    "otm.visMaps('Fwd',filename=outpath+'science15_phi_rev.html')\n",
    "\n"
   ]
  },
  {
   "cell_type": "markdown",
   "metadata": {},
   "source": [
    "# Running phi motor map with best on-time"
   ]
  },
  {
   "cell_type": "code",
   "execution_count": null,
   "metadata": {},
   "outputs": [],
   "source": [
    "broken=[1,55]\n",
    "mt = ModuleTest('128.149.77.24', \n",
    "                '/home/pfs/mhs/devel/ics_cobraCharmer/xml/Science15_phiopt_20190731.xml', \n",
    "                brokens=broken,camSplit=28)\n",
    "pfi = mt.pfi"
   ]
  },
  {
   "cell_type": "code",
   "execution_count": null,
   "metadata": {
    "scrolled": true
   },
   "outputs": [],
   "source": [
    "mt.makePhiMotorMap('science15_phi50step_20190731.xml', '/data/chyan/20190731/phi50Step/', \n",
    "                   repeat = 3, steps = 50, fast=False,totalSteps = 7000)\n",
    "\n",
    "mt.makePhiMotorMap('science15_phi400step_20190731.xml', '/data/chyan/20190731/phi400Step/', \n",
    "                   repeat = 3, steps = 400, fast=False,totalSteps = 7000)\n",
    "\n",
    "mt.makePhiMotorMap('science15_phi50stepFast_20190731.xml', '/data/chyan/20190731/phi50StepFast/', \n",
    "                   repeat = 3, steps = 50, fast=True,totalSteps = 7000)\n",
    "\n",
    "mt.makePhiMotorMap('science15_phi400step_20190731.xml', '/data/chyan/20190731/phi400StepFast/', \n",
    "                   repeat = 3, steps = 400, fast=True,totalSteps = 7000)\n"
   ]
  },
  {
   "cell_type": "markdown",
   "metadata": {},
   "source": [
    "# Convergence Test"
   ]
  },
  {
   "cell_type": "code",
   "execution_count": null,
   "metadata": {
    "scrolled": true
   },
   "outputs": [],
   "source": [
    "broken=[1,55]\n",
    "mt = ModuleTest('128.149.77.24', \n",
    "                '/data/chyan/20190731/phi50Step/science15_phi50step_20190731.xml', \n",
    "                brokens=broken,camSplit=28)\n",
    "pfi = mt.pfi"
   ]
  },
  {
   "cell_type": "code",
   "execution_count": null,
   "metadata": {},
   "outputs": [],
   "source": [
    "dataPath = '/data/chyan/20190801/phiConvergeTest/'\n",
    "mt.phiConvergenceTest(dataPath, margin=15.0, runs=50, tries=8, fast=False)"
   ]
  },
  {
   "cell_type": "code",
   "execution_count": null,
   "metadata": {},
   "outputs": [],
   "source": [
    "import numpy as np\n",
    "import matplotlib.pyplot as plt\n",
    "\n",
    "from bokeh.io import output_notebook, show, export_png,export_svgs, save\n",
    "from bokeh.plotting import figure, show, output_file\n",
    "import bokeh.palettes\n",
    "from bokeh.layouts import column,gridplot\n",
    "from bokeh.models import HoverTool, ColumnDataSource, LinearColorMapper\n",
    "from bokeh.models.glyphs import Text\n",
    "from bokeh.palettes import Category20\n",
    "from bokeh.palettes import inferno\n",
    "\n",
    "output_notebook()"
   ]
  },
  {
   "cell_type": "code",
   "execution_count": null,
   "metadata": {},
   "outputs": [],
   "source": [
    "phiData = np.load('/data/chyan/20190801/phiConvergeTest/phiData.npy')\n",
    "brokens = []\n",
    "badIdx = np.array(brokens) - 1\n",
    "goodIdx = np.array([e for e in range(57) if e not in badIdx])\n",
    "\n",
    "x = np.arange(9)"
   ]
  },
  {
   "cell_type": "code",
   "execution_count": null,
   "metadata": {},
   "outputs": [],
   "source": [
    "phiData.shape"
   ]
  },
  {
   "cell_type": "code",
   "execution_count": null,
   "metadata": {},
   "outputs": [],
   "source": [
    "runs=50\n",
    "margin = 15\n",
    "output_file(\"spare15_phi_convergence.html\")\n",
    "\n",
    "def plotPhiConvergence(phiData, runs, fiberNo):\n",
    "    TOOLS = ['pan','box_zoom','wheel_zoom', 'save' ,'reset','hover']\n",
    "\n",
    "    title_string=f\"Fiber {fiberNo+1} Phi\"\n",
    "    p = figure( tools=TOOLS, x_range=[0,9], y_range=[-20,180],\n",
    "               plot_height=400, plot_width=500,title=title_string)\n",
    "    p.xaxis.axis_label = 'Iteration Number'\n",
    "    p.yaxis.axis_label = 'Angle Difference from Phi Target'\n",
    "\n",
    "    #mapper = Category40[runs]\n",
    "    mapper = inferno(runs)\n",
    "\n",
    "    for i in range(runs):\n",
    "        angle = margin + (180 - 2 * margin) * i / (runs - 1)\n",
    "        ydata= angle - np.rad2deg(np.append([0], phiData[fiberNo,i,:,0]))\n",
    "        p.circle(x=x, y=ydata,radius=0.08,color=mapper[-i])\n",
    "        p.line(x=x, y=ydata,line_width=2,color=mapper[-i])\n",
    "    return p\n",
    "\n",
    "parray=[]\n",
    "\n",
    "for fiberNo in goodIdx:\n",
    "    p=plotPhiConvergence(phiData, runs, fiberNo)\n",
    "    parray.append(p)\n",
    "\n",
    "grid = gridplot(parray, ncols=4, plot_width=250, plot_height=250)\n",
    "show(grid)"
   ]
  },
  {
   "cell_type": "markdown",
   "metadata": {},
   "source": [
    "# Theta ROM test"
   ]
  },
  {
   "cell_type": "code",
   "execution_count": null,
   "metadata": {},
   "outputs": [],
   "source": [
    "broken=[1,55]\n",
    "mt = ModuleTest('128.149.77.24', \n",
    "                '/data/chyan/20190731/phi50Step/science15_phi50step_20190731.xml', \n",
    "                brokens=broken,camSplit=28)\n",
    "pfi = mt.pfi"
   ]
  },
  {
   "cell_type": "code",
   "execution_count": null,
   "metadata": {},
   "outputs": [],
   "source": [
    "thetaOntime = np.zeros(57)+0.06"
   ]
  },
  {
   "cell_type": "code",
   "execution_count": null,
   "metadata": {},
   "outputs": [],
   "source": [
    "mt.makeThetaMotorMap('science15_20190801_theta.xml', '/data/chyan/20190801/theta', \n",
    "                   thetaOnTime=thetaOntime, repeat = 1, fast=False, totalSteps = 12000)"
   ]
  },
  {
   "cell_type": "code",
   "execution_count": null,
   "metadata": {},
   "outputs": [],
   "source": [
    "thetaPath = '/data/chyan/20190801/theta/'\n",
    "xml = thetaPath+'science15_20190801_theta.xml'\n",
    "\n",
    "model = pfiDesign.PFIDesign(xml)\n",
    "sf = np.rad2deg(np.load(thetaPath + 'thetaSpeedFW.npy'))\n",
    "sr = np.rad2deg(np.load(thetaPath + 'thetaSpeedRV.npy'))"
   ]
  },
  {
   "cell_type": "code",
   "execution_count": null,
   "metadata": {},
   "outputs": [],
   "source": [
    "target_sf = np.zeros(57)+0.05\n",
    "ontime = target_sf*model.motorOntimeSlowFwd1/sf"
   ]
  },
  {
   "cell_type": "code",
   "execution_count": null,
   "metadata": {},
   "outputs": [],
   "source": [
    "ontime1 = ontime - 0.010\n",
    "ontime2 = ontime - 0.005\n",
    "ontime3 = ontime + 0.005\n",
    "ontime4 = ontime + 0.010"
   ]
  },
  {
   "cell_type": "code",
   "execution_count": null,
   "metadata": {
    "scrolled": true
   },
   "outputs": [],
   "source": [
    "ontime - 0.01"
   ]
  },
  {
   "cell_type": "code",
   "execution_count": null,
   "metadata": {},
   "outputs": [],
   "source": [
    "mt.makeThetaMotorMap('science01_20190701_theta_run1.xml', '/data/chyan/20190801/theta-ontime/run1/', \n",
    "                   thetaOnTime=ontime1, repeat = 3, fast=False,totalSteps = 12000, limitOnTime = 0.08)\n",
    "mt.makeThetaMotorMap('science01_20190701_theta_run2.xml', '/data/chyan/20190801/theta-ontime/run2/', \n",
    "                   thetaOnTime=ontime2, repeat = 3, fast=False,totalSteps = 12000, limitOnTime = 0.08)\n",
    "mt.makeThetaMotorMap('science01_20190701_theta_run3.xml', '/data/chyan/20190801/theta-ontime/run3/', \n",
    "                   thetaOnTime=ontime3, repeat = 3, fast=False,totalSteps = 12000, limitOnTime = 0.08)\n",
    "mt.makeThetaMotorMap('science01_20190701_theta_run4.xml', '/data/chyan/20190801/theta-ontime/run4/', \n",
    "                   thetaOnTime=ontime4, repeat = 3, fast=False,totalSteps = 12000, limitOnTime = 0.08)\n",
    "\n"
   ]
  },
  {
   "cell_type": "markdown",
   "metadata": {},
   "source": [
    "# Theta On-Time Optimization"
   ]
  },
  {
   "cell_type": "code",
   "execution_count": 2,
   "metadata": {},
   "outputs": [],
   "source": [
    "import ontimeOptimize \n",
    "brokens = [1,55]\n",
    "\n",
    "data = ['/Volumes/GoogleDrive/My Drive/PFS/CobraModuleTestResult/Science15/Data/20190801/theta-ontime/run1',\n",
    "        '/Volumes/GoogleDrive/My Drive/PFS/CobraModuleTestResult/Science15/Data/20190801/theta-ontime/run2',\n",
    "        '/Volumes/GoogleDrive/My Drive/PFS/CobraModuleTestResult/Science15/Data/20190801/theta-ontime/run3',\n",
    "        '/Volumes/GoogleDrive/My Drive/PFS/CobraModuleTestResult/Science15/Data/20190801/theta-ontime/run4',\n",
    "        '/Volumes/GoogleDrive/My Drive/PFS/CobraModuleTestResult/Science15/Data/20190801/theta']\n",
    "otm = ontimeOptimize.OntimeOptimize(brokens=brokens, thetaList = data)"
   ]
  },
  {
   "cell_type": "code",
   "execution_count": 3,
   "metadata": {},
   "outputs": [],
   "source": [
    "outpath = '/Volumes/GoogleDrive/My Drive/PFS/CobraModuleTestResult/Science15/OnTimeOptimization/'\n",
    "otm.visMaps('Fwd',filename=outpath+'science15_theta_fwd.html')\n",
    "otm.visMaps('Rev',filename=outpath+'science15_theta_rev.html')"
   ]
  },
  {
   "cell_type": "code",
   "execution_count": 4,
   "metadata": {},
   "outputs": [
    {
     "name": "stderr",
     "output_type": "stream",
     "text": [
      "/Users/chyan/Documents/workspace/ics_cobraCharmer/procedures/moduleTest/ontimeOptimize.py:203: RuntimeWarning: divide by zero encountered in true_divide\n",
      "  newOntimeFwd = (fwd_target - self.fwd_int)/self.fwd_slope\n",
      "/Users/chyan/Documents/workspace/ics_cobraCharmer/procedures/moduleTest/ontimeOptimize.py:204: RuntimeWarning: divide by zero encountered in true_divide\n",
      "  newOntimeRev = (rev_target - self.rev_int)/self.rev_slope\n",
      "2019-09-12T03:42:32.510 30 root       some motors too fast: [ 0 23 39 54]: fwd:[       inf 0.07173954 0.04918738        inf] rev:[      -inf 0.09923748 0.08192855       -inf]\n",
      "2019-09-12T03:42:32.512 30 root       some motors too slow [ 0 54]: fwd:[0.08 0.08] rev:[-inf -inf]\n",
      "2019-09-12T03:42:32.515 30 root       some motors too fast: [ 0 23 28 29 30 39 46 47 54]: fwd:[       inf 0.08454359 0.07670492 0.08094889 0.04361343 0.08233859\n",
      " 0.08629372 0.08672497        inf] rev:[      -inf 0.1079318  0.09840475 0.07045639 0.1        0.16232475\n",
      " 0.06925822 0.07630067       -inf]\n",
      "2019-09-12T03:42:32.516 30 root       some motors too slow [ 0 54]: fwd:[0.08 0.08] rev:[-inf -inf]\n"
     ]
    }
   ],
   "source": [
    "initXML = '/Volumes/GoogleDrive/My Drive/PFS/CobraModuleTestResult/Science15/Data/20190731/phi50Step/science15_phi50step_20190731.xml'\n",
    "newXML = '/Volumes/GoogleDrive/My Drive/PFS/CobraModuleTestResult/Science15/xml/science15_thetaopt_20190912.xml'\n",
    "otm.updateXML(initXML,newXML)"
   ]
  },
  {
   "cell_type": "markdown",
   "metadata": {},
   "source": [
    "# Fine tune ot-time"
   ]
  },
  {
   "cell_type": "code",
   "execution_count": null,
   "metadata": {},
   "outputs": [],
   "source": [
    "path = '/Volumes/GoogleDrive/My Drive/PFS/CobraModuleTestResult/Science15/Data/20190802/theta50Step'\n",
    "#path = '/data/chyan/20190802/theta50Step/'\n",
    "\n",
    "xml=path+'science15_theta50step_20190802.xml'\n",
    "newXML=path+'science15_theta50step_20190822.xml'\n",
    "\n",
    "model = pfiDesign.PFIDesign(xml)\n",
    "\n",
    "centers = np.load(path + 'thetaCenter.npy')\n",
    "radius = np.load(path + 'thetaRadius.npy')\n",
    "fw = np.load(path + 'thetaFW.npy')\n",
    "rv = np.load(path + 'thetaRV.npy')\n",
    "af = np.load(path + 'thetaAngFW.npy')\n",
    "ar = np.load(path + 'thetaAngRV.npy')\n",
    "sf = np.load(path + 'thetaSpeedFW.npy')\n",
    "sr = np.load(path + 'thetaSpeedRV.npy')\n",
    "badR = np.load(path + 'badRange.npy')\n",
    "mf = np.load(path + 'thetaMMFW.npy')\n",
    "mr = np.load(path + 'thetaMMRV.npy')\n",
    "bad = np.load(path + 'bad.npy')\n",
    "mf2 = np.load(path + 'thetaMMFW2.npy')\n",
    "mr2 = np.load(path + 'thetaMMRV2.npy')\n",
    "bad2 = np.load(path + 'bad2.npy')\n",
    "\n",
    "otsf1=model.motorOntimeSlowFwd1\n",
    "otsr1=model.motorOntimeSlowRev1\n",
    "otf1=model.motorOntimeFwd1\n",
    "otr1=model.motorOntimeRev1\n",
    "\n",
    "for n in range(1):\n",
    "    for i in goodIdx:\n",
    "        daf = (af[i,n,-1]-af[i,n,0])*180/3.14159\n",
    "        dar = (ar[i,n,-1]-ar[i,n,0])*180/3.14159\n",
    "        if (daf < 360) or (dar>-360):\n",
    "            print(i+1,daf,dar)\n",
    "        if (daf < 360):\n",
    "            otsf1 = otsf1+0.005\n",
    "        if (dar > -360):\n",
    "            otsr1 = otsr1+0.005\n",
    "\n",
    "model.updateOntimes(thtFwd=otsf1, thtRev=otsr1, fast=False)\n",
    "model.createCalibrationFile(newXML)  "
   ]
  },
  {
   "cell_type": "code",
   "execution_count": null,
   "metadata": {},
   "outputs": [],
   "source": [
    "broken=[1,55]\n",
    "mt = ModuleTest('128.149.77.24', \n",
    "                path+'science15_theta50step_20190822.xml', \n",
    "                brokens=broken,camSplit=28)\n",
    "pfi = mt.pfi"
   ]
  },
  {
   "cell_type": "code",
   "execution_count": null,
   "metadata": {},
   "outputs": [],
   "source": [
    "pfi.moveAllSteps(mt.allCobras, -10000, 0)\n",
    "pfi.moveAllSteps(mt.allCobras, -2000, 0)"
   ]
  },
  {
   "cell_type": "code",
   "execution_count": null,
   "metadata": {},
   "outputs": [],
   "source": [
    "mt.makeThetaMotorMap('science15_theta_20190822.xml', '/data/chyan/20190822/theta-ot-op/', \n",
    "                   repeat = 1, steps = 200, fast=False,totalSteps = 12000)\n"
   ]
  },
  {
   "cell_type": "markdown",
   "metadata": {},
   "source": [
    "# Running theta motor map"
   ]
  },
  {
   "cell_type": "code",
   "execution_count": null,
   "metadata": {},
   "outputs": [],
   "source": [
    "broken=[1,55]\n",
    "mt = ModuleTest('128.149.77.24', \n",
    "                '/data/chyan/20190731/phi50Step/Science15_thetaopt_20190802.xml', \n",
    "                brokens=broken,camSplit=28)\n",
    "pfi = mt.pfi"
   ]
  },
  {
   "cell_type": "code",
   "execution_count": null,
   "metadata": {},
   "outputs": [],
   "source": [
    "mt.makeThetaMotorMap('science15_theta50step_20190802.xml', '/data/chyan/20190802/theta50Step/', \n",
    "                   repeat = 3, steps = 50, fast=False,totalSteps = 12000)\n",
    "\n",
    "mt.makeThetaMotorMap('science15_theta400step_20190802.xml', '/data/chyan/20190802/theta400Step/', \n",
    "                   repeat = 3, steps = 400, fast=False,totalSteps = 12000)\n",
    "\n",
    "mt.makeThetaMotorMap('science15_theta50stepFast_20190802.xml', '/data/chyan/20190802/theta50StepFast/', \n",
    "                   repeat = 3, steps = 50, fast=True,totalSteps = 12000)\n",
    "\n",
    "mt.makeThetaMotorMap('science15_theta400step_20190802.xml', '/data/chyan/20190802/theta400StepFast/', \n",
    "                   repeat = 3, steps = 400, fast=True,totalSteps = 12000)\n"
   ]
  },
  {
   "cell_type": "markdown",
   "metadata": {},
   "source": [
    "# Theta Convergence Test"
   ]
  },
  {
   "cell_type": "code",
   "execution_count": null,
   "metadata": {},
   "outputs": [],
   "source": [
    "broken=[1,55]\n",
    "mt = ModuleTest('128.149.77.24', \n",
    "                '/data/chyan/20190802/theta50Step/science15_theta50step_20190802.xml', \n",
    "                brokens=broken,camSplit=28)\n",
    "pfi = mt.pfi"
   ]
  },
  {
   "cell_type": "code",
   "execution_count": null,
   "metadata": {},
   "outputs": [],
   "source": [
    "dataPath = '/data/chyan/20190821/thetaConvergeTest/'\n",
    "mt.thetaConvergenceTest(dataPath, margin=15.0, runs=50, tries=8, fast=False)"
   ]
  },
  {
   "cell_type": "code",
   "execution_count": null,
   "metadata": {},
   "outputs": [],
   "source": []
  }
 ],
 "metadata": {
  "kernelspec": {
   "display_name": "Python 3",
   "language": "python",
   "name": "python3"
  },
  "language_info": {
   "codemirror_mode": {
    "name": "ipython",
    "version": 3
   },
   "file_extension": ".py",
   "mimetype": "text/x-python",
   "name": "python",
   "nbconvert_exporter": "python",
   "pygments_lexer": "ipython3",
   "version": "3.7.4"
  }
 },
 "nbformat": 4,
 "nbformat_minor": 2
}
