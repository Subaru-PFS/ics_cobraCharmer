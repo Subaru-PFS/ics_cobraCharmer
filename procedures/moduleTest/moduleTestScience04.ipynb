{
 "cells": [
  {
   "cell_type": "code",
   "execution_count": null,
   "metadata": {},
   "outputs": [],
   "source": [
    "from moduleTest import ModuleTest\n",
    "import numpy as np\n",
    "from ics.cobraCharmer import pfi as pfiControl\n",
    "from ics.cobraCharmer import pfiDesign\n",
    "import visDianosticPlot\n",
    "import os\n",
    "from importlib import reload \n",
    "import matplotlib.pyplot as plt\n",
    "import pathlib"
   ]
  },
  {
   "cell_type": "code",
   "execution_count": null,
   "metadata": {},
   "outputs": [],
   "source": [
    "xml = pathlib.Path('/data/SC04/xml/SC04_thetaFinal.xml')"
   ]
  },
  {
   "cell_type": "code",
   "execution_count": null,
   "metadata": {},
   "outputs": [],
   "source": [
    "brokens = []\n",
    "mt = ModuleTest('fpga', xml, brokens=brokens)\n",
    "mt._connect()"
   ]
  },
  {
   "cell_type": "code",
   "execution_count": null,
   "metadata": {
    "scrolled": true
   },
   "outputs": [],
   "source": [
    "mt.convertXML('/data/SC04/science04_converted.xml')"
   ]
  },
  {
   "cell_type": "code",
   "execution_count": null,
   "metadata": {},
   "outputs": [],
   "source": [
    "\n",
    "xml = pathlib.Path('/data/SC04/science04_converted.xml')\n",
    "brokens = []\n",
    "mt = ModuleTest('fpga', xml, brokens=brokens)\n",
    "mt._connect()"
   ]
  },
  {
   "cell_type": "code",
   "execution_count": null,
   "metadata": {
    "scrolled": true
   },
   "outputs": [],
   "source": [
    "runDir = mt.makePhiMotorMap('SC04_phi_250.xml', steps=250, repeat=3, totalSteps=6000)"
   ]
  },
  {
   "cell_type": "code",
   "execution_count": null,
   "metadata": {
    "scrolled": false
   },
   "outputs": [],
   "source": [
    "broken=[]\n",
    "path=f'{runDir}/data/'\n",
    "vis = visDianosticPlot.VisDianosticPlot(path, brokens=broken, camSplit=28)\n",
    "vis.visPlotGeometry(arm='phi')"
   ]
  },
  {
   "cell_type": "code",
   "execution_count": null,
   "metadata": {},
   "outputs": [],
   "source": [
    "vis.visPlotFiberDot(arm='phi')"
   ]
  },
  {
   "cell_type": "markdown",
   "metadata": {},
   "source": [
    "# Phi on-time optimize"
   ]
  },
  {
   "cell_type": "code",
   "execution_count": 1,
   "metadata": {
    "scrolled": true
   },
   "outputs": [
    {
     "name": "stderr",
     "output_type": "stream",
     "text": [
      "2019-12-12 05:58:06.656Z ontimeOptimize   20 ontimeOptimize.py:589 Starting to run on-time optimization\n",
      "2019-12-12 05:58:06.656Z ontimeOptimize   20 ontimeOptimize.py:609 Output XML = /data/MCS/temp.xml\n",
      "2019-12-12 05:58:06.660Z butler           30 butler.py:58 newRun: /data/MCS/20191212_059\n",
      "2019-12-12 05:58:06.661Z fpgaIO           20 pfi.py:57 FPGA connection to 128.149.77.24\n",
      "/home/pfs/mhs/devel/ics_cobraCharmer/python/ics/cobraCharmer/pfiDesign.py:54: UserWarning: please use PFIDesign.loadModule() or PFIDesign.loadPFI()\n",
      "  warnings.warn('please use PFIDesign.loadModule() or PFIDesign.loadPFI()')\n",
      "2019-12-12 05:58:06.718Z pfi              20 pfi.py:73 load cobra model from /data/MCS/20191212_041/output/SC04_phi_250.xml\n",
      "2019-12-12 05:58:06.755Z camera           20 asrdCam.py:17 asrd...\n",
      "2019-12-12 05:58:06.783Z ontimeOptimize   20 ontimeOptimize.py:631 Running 1 iteration\n",
      "2019-12-12 05:58:06.784Z butler           30 butler.py:58 newRun: /data/MCS/20191212_060\n",
      "2019-12-12 05:58:06.787Z fpgaIO           20 pfi.py:57 FPGA connection to 128.149.77.24\n",
      "2019-12-12 05:58:06.813Z pfi              20 pfi.py:73 load cobra model from /data/MCS/20191212_041/output/SC04_phi_250.xml\n",
      "2019-12-12 05:58:06.850Z camera           20 asrdCam.py:17 asrd...\n",
      "2019-12-12 05:58:06.880Z moduleTest       20 moduleTest.py:943 phi home -6000 steps\n"
     ]
    },
    {
     "name": "stdout",
     "output_type": "stream",
     "text": [
      "IS_COLORMODE_MONOCHROME: \n",
      "\tm_nColorMode: \t\t 34\n",
      "\tnBitsPerPixel: \t\t 10\n",
      "\tbytes_per_pixel: \t\t 2\n",
      "\n",
      "Camera model:\t\t UI318xCP-M\n",
      "Camera serial no.:\t 4103536358\n",
      "Maximum image self.width:\t 2592\n",
      "Maximum image self.height:\t 2048\n",
      "\n",
      "200\n",
      "IS_COLORMODE_MONOCHROME: \n",
      "\tm_nColorMode: \t\t 34\n",
      "\tnBitsPerPixel: \t\t 10\n",
      "\tbytes_per_pixel: \t\t 2\n",
      "\n",
      "Camera model:\t\t UI318xCP-M\n",
      "Camera serial no.:\t 4103541788\n",
      "Maximum image self.width:\t 2592\n",
      "Maximum image self.height:\t 2048\n",
      "\n",
      "200\n",
      "getting image\n",
      "(2048, 2592, 2)\n",
      "getting image\n",
      "(2048, 2592, 2)\n",
      "getting image\n",
      "(2048, 2592, 2)\n",
      "getting image\n",
      "(2048, 2592, 2)\n"
     ]
    },
    {
     "name": "stderr",
     "output_type": "stream",
     "text": [
      "2019-12-12 05:58:33.785Z moduleTest       20 moduleTest.py:954 1/3 phi forward to 250\n"
     ]
    },
    {
     "name": "stdout",
     "output_type": "stream",
     "text": [
      "getting image\n",
      "(2048, 2592, 2)\n",
      "getting image\n",
      "(2048, 2592, 2)\n",
      "getting image\n",
      "(2048, 2592, 2)\n",
      "getting image\n",
      "(2048, 2592, 2)\n"
     ]
    },
    {
     "name": "stderr",
     "output_type": "stream",
     "text": [
      "2019-12-12 05:58:36.102Z moduleTest       20 moduleTest.py:954 1/3 phi forward to 500\n"
     ]
    },
    {
     "name": "stdout",
     "output_type": "stream",
     "text": [
      "getting image\n",
      "(2048, 2592, 2)\n",
      "getting image\n",
      "(2048, 2592, 2)\n",
      "getting image\n",
      "(2048, 2592, 2)\n",
      "getting image\n",
      "(2048, 2592, 2)\n"
     ]
    },
    {
     "name": "stderr",
     "output_type": "stream",
     "text": [
      "2019-12-12 05:58:38.400Z moduleTest       20 moduleTest.py:954 1/3 phi forward to 750\n"
     ]
    },
    {
     "name": "stdout",
     "output_type": "stream",
     "text": [
      "getting image\n",
      "(2048, 2592, 2)\n",
      "getting image\n",
      "(2048, 2592, 2)\n",
      "getting image\n",
      "(2048, 2592, 2)\n",
      "getting image\n",
      "(2048, 2592, 2)\n"
     ]
    },
    {
     "name": "stderr",
     "output_type": "stream",
     "text": [
      "2019-12-12 05:58:40.717Z moduleTest       20 moduleTest.py:954 1/3 phi forward to 1000\n"
     ]
    },
    {
     "name": "stdout",
     "output_type": "stream",
     "text": [
      "getting image\n",
      "(2048, 2592, 2)\n",
      "getting image\n",
      "(2048, 2592, 2)\n",
      "getting image\n",
      "(2048, 2592, 2)\n",
      "getting image\n",
      "(2048, 2592, 2)\n"
     ]
    },
    {
     "name": "stderr",
     "output_type": "stream",
     "text": [
      "2019-12-12 05:58:43.055Z moduleTest       20 moduleTest.py:954 1/3 phi forward to 1250\n"
     ]
    },
    {
     "name": "stdout",
     "output_type": "stream",
     "text": [
      "getting image\n",
      "(2048, 2592, 2)\n",
      "getting image\n",
      "(2048, 2592, 2)\n",
      "getting image\n",
      "(2048, 2592, 2)\n",
      "getting image\n",
      "(2048, 2592, 2)\n"
     ]
    },
    {
     "name": "stderr",
     "output_type": "stream",
     "text": [
      "2019-12-12 05:58:45.383Z moduleTest       20 moduleTest.py:954 1/3 phi forward to 1500\n"
     ]
    },
    {
     "name": "stdout",
     "output_type": "stream",
     "text": [
      "getting image\n",
      "(2048, 2592, 2)\n",
      "getting image\n",
      "(2048, 2592, 2)\n",
      "getting image\n",
      "(2048, 2592, 2)\n",
      "getting image\n",
      "(2048, 2592, 2)\n"
     ]
    },
    {
     "name": "stderr",
     "output_type": "stream",
     "text": [
      "2019-12-12 05:58:47.718Z moduleTest       20 moduleTest.py:954 1/3 phi forward to 1750\n"
     ]
    },
    {
     "name": "stdout",
     "output_type": "stream",
     "text": [
      "getting image\n",
      "(2048, 2592, 2)\n",
      "getting image\n",
      "(2048, 2592, 2)\n",
      "getting image\n",
      "(2048, 2592, 2)\n",
      "getting image\n",
      "(2048, 2592, 2)\n"
     ]
    },
    {
     "name": "stderr",
     "output_type": "stream",
     "text": [
      "2019-12-12 05:58:50.061Z moduleTest       20 moduleTest.py:954 1/3 phi forward to 2000\n"
     ]
    },
    {
     "name": "stdout",
     "output_type": "stream",
     "text": [
      "getting image\n",
      "(2048, 2592, 2)\n",
      "getting image\n",
      "(2048, 2592, 2)\n",
      "getting image\n",
      "(2048, 2592, 2)\n",
      "getting image\n",
      "(2048, 2592, 2)\n"
     ]
    },
    {
     "name": "stderr",
     "output_type": "stream",
     "text": [
      "2019-12-12 05:58:52.387Z moduleTest       20 moduleTest.py:954 1/3 phi forward to 2250\n"
     ]
    },
    {
     "name": "stdout",
     "output_type": "stream",
     "text": [
      "getting image\n",
      "(2048, 2592, 2)\n",
      "getting image\n",
      "(2048, 2592, 2)\n",
      "getting image\n",
      "(2048, 2592, 2)\n",
      "getting image\n",
      "(2048, 2592, 2)\n"
     ]
    },
    {
     "name": "stderr",
     "output_type": "stream",
     "text": [
      "2019-12-12 05:58:54.716Z moduleTest       20 moduleTest.py:954 1/3 phi forward to 2500\n"
     ]
    },
    {
     "name": "stdout",
     "output_type": "stream",
     "text": [
      "getting image\n",
      "(2048, 2592, 2)\n",
      "getting image\n",
      "(2048, 2592, 2)\n",
      "getting image\n",
      "(2048, 2592, 2)\n",
      "getting image\n",
      "(2048, 2592, 2)\n"
     ]
    },
    {
     "name": "stderr",
     "output_type": "stream",
     "text": [
      "2019-12-12 05:58:57.060Z moduleTest       20 moduleTest.py:954 1/3 phi forward to 2750\n"
     ]
    },
    {
     "name": "stdout",
     "output_type": "stream",
     "text": [
      "getting image\n",
      "(2048, 2592, 2)\n",
      "getting image\n",
      "(2048, 2592, 2)\n",
      "getting image\n",
      "(2048, 2592, 2)\n",
      "getting image\n",
      "(2048, 2592, 2)\n"
     ]
    },
    {
     "name": "stderr",
     "output_type": "stream",
     "text": [
      "2019-12-12 05:58:59.381Z moduleTest       20 moduleTest.py:954 1/3 phi forward to 3000\n"
     ]
    },
    {
     "name": "stdout",
     "output_type": "stream",
     "text": [
      "getting image\n",
      "(2048, 2592, 2)\n",
      "getting image\n",
      "(2048, 2592, 2)\n",
      "getting image\n",
      "(2048, 2592, 2)\n",
      "getting image\n",
      "(2048, 2592, 2)\n"
     ]
    },
    {
     "name": "stderr",
     "output_type": "stream",
     "text": [
      "2019-12-12 05:59:01.740Z moduleTest       20 moduleTest.py:954 1/3 phi forward to 3250\n"
     ]
    },
    {
     "name": "stdout",
     "output_type": "stream",
     "text": [
      "getting image\n",
      "(2048, 2592, 2)\n",
      "getting image\n",
      "(2048, 2592, 2)\n",
      "getting image\n",
      "(2048, 2592, 2)\n",
      "getting image\n",
      "(2048, 2592, 2)\n"
     ]
    },
    {
     "name": "stderr",
     "output_type": "stream",
     "text": [
      "2019-12-12 05:59:04.061Z moduleTest       20 moduleTest.py:954 1/3 phi forward to 3500\n"
     ]
    },
    {
     "name": "stdout",
     "output_type": "stream",
     "text": [
      "getting image\n",
      "(2048, 2592, 2)\n",
      "getting image\n",
      "(2048, 2592, 2)\n",
      "getting image\n",
      "(2048, 2592, 2)\n",
      "getting image\n",
      "(2048, 2592, 2)\n"
     ]
    },
    {
     "name": "stderr",
     "output_type": "stream",
     "text": [
      "2019-12-12 05:59:06.382Z moduleTest       20 moduleTest.py:954 1/3 phi forward to 3750\n"
     ]
    },
    {
     "name": "stdout",
     "output_type": "stream",
     "text": [
      "getting image\n",
      "(2048, 2592, 2)\n",
      "getting image\n",
      "(2048, 2592, 2)\n",
      "getting image\n",
      "(2048, 2592, 2)\n",
      "getting image\n",
      "(2048, 2592, 2)\n"
     ]
    },
    {
     "name": "stderr",
     "output_type": "stream",
     "text": [
      "2019-12-12 05:59:08.716Z moduleTest       20 moduleTest.py:954 1/3 phi forward to 4000\n"
     ]
    },
    {
     "name": "stdout",
     "output_type": "stream",
     "text": [
      "getting image\n",
      "(2048, 2592, 2)\n",
      "getting image\n",
      "(2048, 2592, 2)\n",
      "getting image\n",
      "(2048, 2592, 2)\n",
      "getting image\n",
      "(2048, 2592, 2)\n"
     ]
    },
    {
     "name": "stderr",
     "output_type": "stream",
     "text": [
      "2019-12-12 05:59:11.055Z moduleTest       20 moduleTest.py:954 1/3 phi forward to 4250\n"
     ]
    },
    {
     "name": "stdout",
     "output_type": "stream",
     "text": [
      "getting image\n",
      "(2048, 2592, 2)\n",
      "getting image\n",
      "(2048, 2592, 2)\n",
      "getting image\n",
      "(2048, 2592, 2)\n",
      "getting image\n",
      "(2048, 2592, 2)\n"
     ]
    },
    {
     "name": "stderr",
     "output_type": "stream",
     "text": [
      "2019-12-12 05:59:13.394Z moduleTest       20 moduleTest.py:954 1/3 phi forward to 4500\n"
     ]
    },
    {
     "name": "stdout",
     "output_type": "stream",
     "text": [
      "getting image\n",
      "(2048, 2592, 2)\n",
      "getting image\n",
      "(2048, 2592, 2)\n",
      "getting image\n",
      "(2048, 2592, 2)\n",
      "getting image\n",
      "(2048, 2592, 2)\n"
     ]
    },
    {
     "name": "stderr",
     "output_type": "stream",
     "text": [
      "2019-12-12 05:59:15.713Z moduleTest       20 moduleTest.py:954 1/3 phi forward to 4750\n"
     ]
    },
    {
     "name": "stdout",
     "output_type": "stream",
     "text": [
      "getting image\n",
      "(2048, 2592, 2)\n",
      "getting image\n",
      "(2048, 2592, 2)\n",
      "getting image\n",
      "(2048, 2592, 2)\n",
      "getting image\n",
      "(2048, 2592, 2)\n"
     ]
    },
    {
     "name": "stderr",
     "output_type": "stream",
     "text": [
      "2019-12-12 05:59:18.046Z moduleTest       20 moduleTest.py:954 1/3 phi forward to 5000\n"
     ]
    },
    {
     "name": "stdout",
     "output_type": "stream",
     "text": [
      "getting image\n",
      "(2048, 2592, 2)\n",
      "getting image\n",
      "(2048, 2592, 2)\n",
      "getting image\n",
      "(2048, 2592, 2)\n",
      "getting image\n",
      "(2048, 2592, 2)\n"
     ]
    },
    {
     "name": "stderr",
     "output_type": "stream",
     "text": [
      "2019-12-12 05:59:20.374Z moduleTest       20 moduleTest.py:954 1/3 phi forward to 5250\n"
     ]
    },
    {
     "name": "stdout",
     "output_type": "stream",
     "text": [
      "getting image\n",
      "(2048, 2592, 2)\n",
      "getting image\n",
      "(2048, 2592, 2)\n",
      "getting image\n",
      "(2048, 2592, 2)\n",
      "getting image\n",
      "(2048, 2592, 2)\n"
     ]
    },
    {
     "name": "stderr",
     "output_type": "stream",
     "text": [
      "2019-12-12 05:59:22.726Z moduleTest       20 moduleTest.py:954 1/3 phi forward to 5500\n"
     ]
    },
    {
     "name": "stdout",
     "output_type": "stream",
     "text": [
      "getting image\n",
      "(2048, 2592, 2)\n",
      "getting image\n",
      "(2048, 2592, 2)\n",
      "getting image\n",
      "(2048, 2592, 2)\n",
      "getting image\n",
      "(2048, 2592, 2)\n"
     ]
    },
    {
     "name": "stderr",
     "output_type": "stream",
     "text": [
      "2019-12-12 05:59:25.069Z moduleTest       20 moduleTest.py:954 1/3 phi forward to 5750\n"
     ]
    },
    {
     "name": "stdout",
     "output_type": "stream",
     "text": [
      "getting image\n",
      "(2048, 2592, 2)\n",
      "getting image\n",
      "(2048, 2592, 2)\n",
      "getting image\n",
      "(2048, 2592, 2)\n",
      "getting image\n",
      "(2048, 2592, 2)\n"
     ]
    },
    {
     "name": "stderr",
     "output_type": "stream",
     "text": [
      "2019-12-12 05:59:27.390Z moduleTest       20 moduleTest.py:954 1/3 phi forward to 6000\n"
     ]
    },
    {
     "name": "stdout",
     "output_type": "stream",
     "text": [
      "getting image\n",
      "(2048, 2592, 2)\n",
      "getting image\n",
      "(2048, 2592, 2)\n",
      "getting image\n",
      "(2048, 2592, 2)\n",
      "getting image\n",
      "(2048, 2592, 2)\n"
     ]
    },
    {
     "name": "stderr",
     "output_type": "stream",
     "text": [
      "2019-12-12 05:59:29.722Z moduleTest       20 moduleTest.py:981 1/3 phi forward 6000 to limit\n"
     ]
    },
    {
     "name": "stdout",
     "output_type": "stream",
     "text": [
      "getting image\n",
      "(2048, 2592, 2)\n",
      "getting image\n",
      "(2048, 2592, 2)\n",
      "getting image\n",
      "(2048, 2592, 2)\n",
      "getting image\n",
      "(2048, 2592, 2)\n"
     ]
    },
    {
     "name": "stderr",
     "output_type": "stream",
     "text": [
      "2019-12-12 05:59:46.075Z moduleTest       20 moduleTest.py:991 1/3 phi backward to 250\n"
     ]
    },
    {
     "name": "stdout",
     "output_type": "stream",
     "text": [
      "getting image\n",
      "(2048, 2592, 2)\n",
      "getting image\n",
      "(2048, 2592, 2)\n",
      "getting image\n",
      "(2048, 2592, 2)\n",
      "getting image\n",
      "(2048, 2592, 2)\n"
     ]
    },
    {
     "name": "stderr",
     "output_type": "stream",
     "text": [
      "2019-12-12 05:59:48.418Z moduleTest       20 moduleTest.py:991 1/3 phi backward to 500\n"
     ]
    },
    {
     "name": "stdout",
     "output_type": "stream",
     "text": [
      "getting image\n",
      "(2048, 2592, 2)\n",
      "getting image\n",
      "(2048, 2592, 2)\n",
      "getting image\n",
      "(2048, 2592, 2)\n",
      "getting image\n",
      "(2048, 2592, 2)\n"
     ]
    },
    {
     "name": "stderr",
     "output_type": "stream",
     "text": [
      "2019-12-12 05:59:50.737Z moduleTest       20 moduleTest.py:991 1/3 phi backward to 750\n"
     ]
    },
    {
     "name": "stdout",
     "output_type": "stream",
     "text": [
      "getting image\n",
      "(2048, 2592, 2)\n",
      "getting image\n",
      "(2048, 2592, 2)\n",
      "getting image\n",
      "(2048, 2592, 2)\n",
      "getting image\n",
      "(2048, 2592, 2)\n"
     ]
    },
    {
     "name": "stderr",
     "output_type": "stream",
     "text": [
      "2019-12-12 05:59:53.069Z moduleTest       20 moduleTest.py:991 1/3 phi backward to 1000\n"
     ]
    },
    {
     "name": "stdout",
     "output_type": "stream",
     "text": [
      "getting image\n",
      "(2048, 2592, 2)\n",
      "getting image\n",
      "(2048, 2592, 2)\n",
      "getting image\n",
      "(2048, 2592, 2)\n",
      "getting image\n",
      "(2048, 2592, 2)\n"
     ]
    },
    {
     "name": "stderr",
     "output_type": "stream",
     "text": [
      "2019-12-12 05:59:55.415Z moduleTest       20 moduleTest.py:991 1/3 phi backward to 1250\n"
     ]
    },
    {
     "name": "stdout",
     "output_type": "stream",
     "text": [
      "getting image\n",
      "(2048, 2592, 2)\n",
      "getting image\n",
      "(2048, 2592, 2)\n",
      "getting image\n",
      "(2048, 2592, 2)\n",
      "getting image\n",
      "(2048, 2592, 2)\n"
     ]
    },
    {
     "name": "stderr",
     "output_type": "stream",
     "text": [
      "2019-12-12 05:59:57.754Z moduleTest       20 moduleTest.py:991 1/3 phi backward to 1500\n"
     ]
    },
    {
     "name": "stdout",
     "output_type": "stream",
     "text": [
      "getting image\n",
      "(2048, 2592, 2)\n",
      "getting image\n",
      "(2048, 2592, 2)\n",
      "getting image\n",
      "(2048, 2592, 2)\n",
      "getting image\n",
      "(2048, 2592, 2)\n"
     ]
    },
    {
     "name": "stderr",
     "output_type": "stream",
     "text": [
      "2019-12-12 06:00:00.067Z moduleTest       20 moduleTest.py:991 1/3 phi backward to 1750\n"
     ]
    },
    {
     "name": "stdout",
     "output_type": "stream",
     "text": [
      "getting image\n",
      "(2048, 2592, 2)\n",
      "getting image\n",
      "(2048, 2592, 2)\n",
      "getting image\n",
      "(2048, 2592, 2)\n",
      "getting image\n",
      "(2048, 2592, 2)\n"
     ]
    },
    {
     "name": "stderr",
     "output_type": "stream",
     "text": [
      "2019-12-12 06:00:02.421Z moduleTest       20 moduleTest.py:991 1/3 phi backward to 2000\n"
     ]
    },
    {
     "name": "stdout",
     "output_type": "stream",
     "text": [
      "getting image\n",
      "(2048, 2592, 2)\n",
      "getting image\n",
      "(2048, 2592, 2)\n",
      "getting image\n",
      "(2048, 2592, 2)\n",
      "getting image\n",
      "(2048, 2592, 2)\n"
     ]
    },
    {
     "name": "stderr",
     "output_type": "stream",
     "text": [
      "2019-12-12 06:00:04.743Z moduleTest       20 moduleTest.py:991 1/3 phi backward to 2250\n"
     ]
    },
    {
     "name": "stdout",
     "output_type": "stream",
     "text": [
      "getting image\n",
      "(2048, 2592, 2)\n",
      "getting image\n",
      "(2048, 2592, 2)\n",
      "getting image\n",
      "(2048, 2592, 2)\n",
      "getting image\n",
      "(2048, 2592, 2)\n"
     ]
    },
    {
     "name": "stderr",
     "output_type": "stream",
     "text": [
      "2019-12-12 06:00:07.067Z moduleTest       20 moduleTest.py:991 1/3 phi backward to 2500\n"
     ]
    },
    {
     "name": "stdout",
     "output_type": "stream",
     "text": [
      "getting image\n",
      "(2048, 2592, 2)\n",
      "getting image\n",
      "(2048, 2592, 2)\n",
      "getting image\n",
      "(2048, 2592, 2)\n",
      "getting image\n",
      "(2048, 2592, 2)\n"
     ]
    },
    {
     "name": "stderr",
     "output_type": "stream",
     "text": [
      "2019-12-12 06:00:09.393Z moduleTest       20 moduleTest.py:991 1/3 phi backward to 2750\n"
     ]
    },
    {
     "name": "stdout",
     "output_type": "stream",
     "text": [
      "getting image\n",
      "(2048, 2592, 2)\n",
      "getting image\n",
      "(2048, 2592, 2)\n",
      "getting image\n",
      "(2048, 2592, 2)\n",
      "getting image\n",
      "(2048, 2592, 2)\n"
     ]
    },
    {
     "name": "stderr",
     "output_type": "stream",
     "text": [
      "2019-12-12 06:00:11.743Z moduleTest       20 moduleTest.py:991 1/3 phi backward to 3000\n"
     ]
    },
    {
     "name": "stdout",
     "output_type": "stream",
     "text": [
      "getting image\n",
      "(2048, 2592, 2)\n",
      "getting image\n",
      "(2048, 2592, 2)\n",
      "getting image\n",
      "(2048, 2592, 2)\n",
      "getting image\n",
      "(2048, 2592, 2)\n"
     ]
    },
    {
     "name": "stderr",
     "output_type": "stream",
     "text": [
      "2019-12-12 06:00:14.059Z moduleTest       20 moduleTest.py:991 1/3 phi backward to 3250\n"
     ]
    },
    {
     "name": "stdout",
     "output_type": "stream",
     "text": [
      "getting image\n",
      "(2048, 2592, 2)\n",
      "getting image\n",
      "(2048, 2592, 2)\n",
      "getting image\n",
      "(2048, 2592, 2)\n",
      "getting image\n",
      "(2048, 2592, 2)\n"
     ]
    },
    {
     "name": "stderr",
     "output_type": "stream",
     "text": [
      "2019-12-12 06:00:16.398Z moduleTest       20 moduleTest.py:991 1/3 phi backward to 3500\n"
     ]
    },
    {
     "name": "stdout",
     "output_type": "stream",
     "text": [
      "getting image\n",
      "(2048, 2592, 2)\n",
      "getting image\n",
      "(2048, 2592, 2)\n",
      "getting image\n",
      "(2048, 2592, 2)\n",
      "getting image\n",
      "(2048, 2592, 2)\n"
     ]
    },
    {
     "name": "stderr",
     "output_type": "stream",
     "text": [
      "2019-12-12 06:00:18.772Z moduleTest       20 moduleTest.py:991 1/3 phi backward to 3750\n"
     ]
    },
    {
     "name": "stdout",
     "output_type": "stream",
     "text": [
      "getting image\n",
      "(2048, 2592, 2)\n",
      "getting image\n",
      "(2048, 2592, 2)\n",
      "getting image\n",
      "(2048, 2592, 2)\n",
      "getting image\n",
      "(2048, 2592, 2)\n"
     ]
    },
    {
     "name": "stderr",
     "output_type": "stream",
     "text": [
      "2019-12-12 06:00:21.070Z moduleTest       20 moduleTest.py:991 1/3 phi backward to 4000\n"
     ]
    },
    {
     "name": "stdout",
     "output_type": "stream",
     "text": [
      "getting image\n",
      "(2048, 2592, 2)\n",
      "getting image\n",
      "(2048, 2592, 2)\n",
      "getting image\n",
      "(2048, 2592, 2)\n",
      "getting image\n",
      "(2048, 2592, 2)\n"
     ]
    },
    {
     "name": "stderr",
     "output_type": "stream",
     "text": [
      "2019-12-12 06:00:23.401Z moduleTest       20 moduleTest.py:991 1/3 phi backward to 4250\n"
     ]
    },
    {
     "name": "stdout",
     "output_type": "stream",
     "text": [
      "getting image\n",
      "(2048, 2592, 2)\n",
      "getting image\n",
      "(2048, 2592, 2)\n",
      "getting image\n",
      "(2048, 2592, 2)\n",
      "getting image\n",
      "(2048, 2592, 2)\n"
     ]
    },
    {
     "name": "stderr",
     "output_type": "stream",
     "text": [
      "2019-12-12 06:00:25.745Z moduleTest       20 moduleTest.py:991 1/3 phi backward to 4500\n"
     ]
    },
    {
     "name": "stdout",
     "output_type": "stream",
     "text": [
      "getting image\n",
      "(2048, 2592, 2)\n",
      "getting image\n",
      "(2048, 2592, 2)\n",
      "getting image\n",
      "(2048, 2592, 2)\n",
      "getting image\n",
      "(2048, 2592, 2)\n"
     ]
    },
    {
     "name": "stderr",
     "output_type": "stream",
     "text": [
      "2019-12-12 06:00:28.104Z moduleTest       20 moduleTest.py:991 1/3 phi backward to 4750\n"
     ]
    },
    {
     "name": "stdout",
     "output_type": "stream",
     "text": [
      "getting image\n",
      "(2048, 2592, 2)\n",
      "getting image\n",
      "(2048, 2592, 2)\n",
      "getting image\n",
      "(2048, 2592, 2)\n",
      "getting image\n",
      "(2048, 2592, 2)\n"
     ]
    },
    {
     "name": "stderr",
     "output_type": "stream",
     "text": [
      "2019-12-12 06:00:30.421Z moduleTest       20 moduleTest.py:991 1/3 phi backward to 5000\n"
     ]
    },
    {
     "name": "stdout",
     "output_type": "stream",
     "text": [
      "getting image\n",
      "(2048, 2592, 2)\n",
      "getting image\n",
      "(2048, 2592, 2)\n",
      "getting image\n",
      "(2048, 2592, 2)\n",
      "getting image\n",
      "(2048, 2592, 2)\n"
     ]
    },
    {
     "name": "stderr",
     "output_type": "stream",
     "text": [
      "2019-12-12 06:00:32.741Z moduleTest       20 moduleTest.py:991 1/3 phi backward to 5250\n"
     ]
    },
    {
     "name": "stdout",
     "output_type": "stream",
     "text": [
      "getting image\n",
      "(2048, 2592, 2)\n",
      "getting image\n",
      "(2048, 2592, 2)\n",
      "getting image\n",
      "(2048, 2592, 2)\n",
      "getting image\n",
      "(2048, 2592, 2)\n"
     ]
    },
    {
     "name": "stderr",
     "output_type": "stream",
     "text": [
      "2019-12-12 06:00:35.090Z moduleTest       20 moduleTest.py:991 1/3 phi backward to 5500\n"
     ]
    },
    {
     "name": "stdout",
     "output_type": "stream",
     "text": [
      "getting image\n",
      "(2048, 2592, 2)\n",
      "getting image\n",
      "(2048, 2592, 2)\n",
      "getting image\n",
      "(2048, 2592, 2)\n",
      "getting image\n",
      "(2048, 2592, 2)\n"
     ]
    },
    {
     "name": "stderr",
     "output_type": "stream",
     "text": [
      "2019-12-12 06:00:37.415Z moduleTest       20 moduleTest.py:991 1/3 phi backward to 5750\n"
     ]
    },
    {
     "name": "stdout",
     "output_type": "stream",
     "text": [
      "getting image\n",
      "(2048, 2592, 2)\n",
      "getting image\n",
      "(2048, 2592, 2)\n",
      "getting image\n",
      "(2048, 2592, 2)\n",
      "getting image\n",
      "(2048, 2592, 2)\n"
     ]
    },
    {
     "name": "stderr",
     "output_type": "stream",
     "text": [
      "2019-12-12 06:00:39.752Z moduleTest       20 moduleTest.py:991 1/3 phi backward to 6000\n"
     ]
    },
    {
     "name": "stdout",
     "output_type": "stream",
     "text": [
      "getting image\n",
      "(2048, 2592, 2)\n",
      "getting image\n",
      "(2048, 2592, 2)\n",
      "getting image\n",
      "(2048, 2592, 2)\n",
      "getting image\n",
      "(2048, 2592, 2)\n"
     ]
    },
    {
     "name": "stderr",
     "output_type": "stream",
     "text": [
      "2019-12-12 06:00:42.087Z moduleTest       20 moduleTest.py:1018 1/3 phi reverse -6000 steps to limit\n"
     ]
    },
    {
     "name": "stdout",
     "output_type": "stream",
     "text": [
      "getting image\n",
      "(2048, 2592, 2)\n",
      "getting image\n",
      "(2048, 2592, 2)\n",
      "getting image\n",
      "(2048, 2592, 2)\n",
      "getting image\n",
      "(2048, 2592, 2)\n"
     ]
    },
    {
     "name": "stderr",
     "output_type": "stream",
     "text": [
      "2019-12-12 06:00:58.603Z moduleTest       20 moduleTest.py:954 2/3 phi forward to 250\n"
     ]
    },
    {
     "name": "stdout",
     "output_type": "stream",
     "text": [
      "getting image\n",
      "(2048, 2592, 2)\n",
      "getting image\n",
      "(2048, 2592, 2)\n",
      "getting image\n",
      "(2048, 2592, 2)\n",
      "getting image\n",
      "(2048, 2592, 2)\n"
     ]
    },
    {
     "name": "stderr",
     "output_type": "stream",
     "text": [
      "2019-12-12 06:01:00.958Z moduleTest       20 moduleTest.py:954 2/3 phi forward to 500\n"
     ]
    },
    {
     "name": "stdout",
     "output_type": "stream",
     "text": [
      "getting image\n",
      "(2048, 2592, 2)\n",
      "getting image\n",
      "(2048, 2592, 2)\n",
      "getting image\n",
      "(2048, 2592, 2)\n",
      "getting image\n",
      "(2048, 2592, 2)\n"
     ]
    },
    {
     "name": "stderr",
     "output_type": "stream",
     "text": [
      "2019-12-12 06:01:03.294Z moduleTest       20 moduleTest.py:954 2/3 phi forward to 750\n"
     ]
    },
    {
     "name": "stdout",
     "output_type": "stream",
     "text": [
      "getting image\n",
      "(2048, 2592, 2)\n",
      "getting image\n",
      "(2048, 2592, 2)\n",
      "getting image\n",
      "(2048, 2592, 2)\n",
      "getting image\n",
      "(2048, 2592, 2)\n"
     ]
    },
    {
     "name": "stderr",
     "output_type": "stream",
     "text": [
      "2019-12-12 06:01:05.609Z moduleTest       20 moduleTest.py:954 2/3 phi forward to 1000\n"
     ]
    },
    {
     "name": "stdout",
     "output_type": "stream",
     "text": [
      "getting image\n",
      "(2048, 2592, 2)\n",
      "getting image\n",
      "(2048, 2592, 2)\n",
      "getting image\n",
      "(2048, 2592, 2)\n",
      "getting image\n",
      "(2048, 2592, 2)\n"
     ]
    },
    {
     "name": "stderr",
     "output_type": "stream",
     "text": [
      "2019-12-12 06:01:07.926Z moduleTest       20 moduleTest.py:954 2/3 phi forward to 1250\n"
     ]
    },
    {
     "name": "stdout",
     "output_type": "stream",
     "text": [
      "getting image\n",
      "(2048, 2592, 2)\n",
      "getting image\n",
      "(2048, 2592, 2)\n",
      "getting image\n",
      "(2048, 2592, 2)\n",
      "getting image\n",
      "(2048, 2592, 2)\n"
     ]
    },
    {
     "name": "stderr",
     "output_type": "stream",
     "text": [
      "2019-12-12 06:01:10.257Z moduleTest       20 moduleTest.py:954 2/3 phi forward to 1500\n"
     ]
    },
    {
     "name": "stdout",
     "output_type": "stream",
     "text": [
      "getting image\n",
      "(2048, 2592, 2)\n",
      "getting image\n",
      "(2048, 2592, 2)\n",
      "getting image\n",
      "(2048, 2592, 2)\n",
      "getting image\n",
      "(2048, 2592, 2)\n"
     ]
    },
    {
     "name": "stderr",
     "output_type": "stream",
     "text": [
      "2019-12-12 06:01:12.601Z moduleTest       20 moduleTest.py:954 2/3 phi forward to 1750\n"
     ]
    },
    {
     "name": "stdout",
     "output_type": "stream",
     "text": [
      "getting image\n",
      "(2048, 2592, 2)\n",
      "getting image\n",
      "(2048, 2592, 2)\n",
      "getting image\n",
      "(2048, 2592, 2)\n",
      "getting image\n",
      "(2048, 2592, 2)\n"
     ]
    },
    {
     "name": "stderr",
     "output_type": "stream",
     "text": [
      "2019-12-12 06:01:14.921Z moduleTest       20 moduleTest.py:954 2/3 phi forward to 2000\n"
     ]
    },
    {
     "name": "stdout",
     "output_type": "stream",
     "text": [
      "getting image\n",
      "(2048, 2592, 2)\n",
      "getting image\n",
      "(2048, 2592, 2)\n",
      "getting image\n",
      "(2048, 2592, 2)\n",
      "getting image\n",
      "(2048, 2592, 2)\n"
     ]
    },
    {
     "name": "stderr",
     "output_type": "stream",
     "text": [
      "2019-12-12 06:01:17.272Z moduleTest       20 moduleTest.py:954 2/3 phi forward to 2250\n"
     ]
    },
    {
     "name": "stdout",
     "output_type": "stream",
     "text": [
      "getting image\n",
      "(2048, 2592, 2)\n",
      "getting image\n",
      "(2048, 2592, 2)\n",
      "getting image\n",
      "(2048, 2592, 2)\n",
      "getting image\n",
      "(2048, 2592, 2)\n"
     ]
    },
    {
     "name": "stderr",
     "output_type": "stream",
     "text": [
      "2019-12-12 06:01:19.715Z moduleTest       20 moduleTest.py:954 2/3 phi forward to 2500\n"
     ]
    },
    {
     "name": "stdout",
     "output_type": "stream",
     "text": [
      "getting image\n",
      "(2048, 2592, 2)\n",
      "getting image\n",
      "(2048, 2592, 2)\n",
      "getting image\n",
      "(2048, 2592, 2)\n",
      "getting image\n",
      "(2048, 2592, 2)\n"
     ]
    },
    {
     "name": "stderr",
     "output_type": "stream",
     "text": [
      "2019-12-12 06:01:22.463Z moduleTest       20 moduleTest.py:954 2/3 phi forward to 2750\n"
     ]
    },
    {
     "name": "stdout",
     "output_type": "stream",
     "text": [
      "getting image\n",
      "(2048, 2592, 2)\n",
      "getting image\n",
      "(2048, 2592, 2)\n",
      "getting image\n",
      "(2048, 2592, 2)\n",
      "getting image\n",
      "(2048, 2592, 2)\n"
     ]
    },
    {
     "name": "stderr",
     "output_type": "stream",
     "text": [
      "2019-12-12 06:01:24.909Z moduleTest       20 moduleTest.py:954 2/3 phi forward to 3000\n"
     ]
    },
    {
     "name": "stdout",
     "output_type": "stream",
     "text": [
      "getting image\n",
      "(2048, 2592, 2)\n",
      "getting image\n",
      "(2048, 2592, 2)\n",
      "getting image\n",
      "(2048, 2592, 2)\n",
      "getting image\n",
      "(2048, 2592, 2)\n"
     ]
    },
    {
     "name": "stderr",
     "output_type": "stream",
     "text": [
      "2019-12-12 06:01:27.354Z moduleTest       20 moduleTest.py:954 2/3 phi forward to 3250\n"
     ]
    },
    {
     "name": "stdout",
     "output_type": "stream",
     "text": [
      "getting image\n",
      "(2048, 2592, 2)\n",
      "getting image\n",
      "(2048, 2592, 2)\n",
      "getting image\n",
      "(2048, 2592, 2)\n",
      "getting image\n",
      "(2048, 2592, 2)\n"
     ]
    },
    {
     "name": "stderr",
     "output_type": "stream",
     "text": [
      "2019-12-12 06:01:29.833Z moduleTest       20 moduleTest.py:954 2/3 phi forward to 3500\n"
     ]
    },
    {
     "name": "stdout",
     "output_type": "stream",
     "text": [
      "getting image\n",
      "(2048, 2592, 2)\n",
      "getting image\n",
      "(2048, 2592, 2)\n",
      "getting image\n",
      "(2048, 2592, 2)\n",
      "getting image\n",
      "(2048, 2592, 2)\n"
     ]
    },
    {
     "name": "stderr",
     "output_type": "stream",
     "text": [
      "2019-12-12 06:01:32.279Z moduleTest       20 moduleTest.py:954 2/3 phi forward to 3750\n"
     ]
    },
    {
     "name": "stdout",
     "output_type": "stream",
     "text": [
      "getting image\n",
      "(2048, 2592, 2)\n",
      "getting image\n",
      "(2048, 2592, 2)\n",
      "getting image\n",
      "(2048, 2592, 2)\n",
      "getting image\n",
      "(2048, 2592, 2)\n"
     ]
    },
    {
     "name": "stderr",
     "output_type": "stream",
     "text": [
      "2019-12-12 06:01:34.626Z moduleTest       20 moduleTest.py:954 2/3 phi forward to 4000\n"
     ]
    },
    {
     "name": "stdout",
     "output_type": "stream",
     "text": [
      "getting image\n",
      "(2048, 2592, 2)\n",
      "getting image\n",
      "(2048, 2592, 2)\n",
      "getting image\n",
      "(2048, 2592, 2)\n",
      "getting image\n",
      "(2048, 2592, 2)\n"
     ]
    },
    {
     "name": "stderr",
     "output_type": "stream",
     "text": [
      "2019-12-12 06:01:36.946Z moduleTest       20 moduleTest.py:954 2/3 phi forward to 4250\n"
     ]
    },
    {
     "name": "stdout",
     "output_type": "stream",
     "text": [
      "getting image\n",
      "(2048, 2592, 2)\n",
      "getting image\n",
      "(2048, 2592, 2)\n",
      "getting image\n",
      "(2048, 2592, 2)\n",
      "getting image\n",
      "(2048, 2592, 2)\n"
     ]
    },
    {
     "name": "stderr",
     "output_type": "stream",
     "text": [
      "2019-12-12 06:01:39.247Z moduleTest       20 moduleTest.py:954 2/3 phi forward to 4500\n"
     ]
    },
    {
     "name": "stdout",
     "output_type": "stream",
     "text": [
      "getting image\n",
      "(2048, 2592, 2)\n",
      "getting image\n",
      "(2048, 2592, 2)\n",
      "getting image\n",
      "(2048, 2592, 2)\n",
      "getting image\n",
      "(2048, 2592, 2)\n"
     ]
    },
    {
     "name": "stderr",
     "output_type": "stream",
     "text": [
      "2019-12-12 06:01:41.595Z moduleTest       20 moduleTest.py:954 2/3 phi forward to 4750\n"
     ]
    },
    {
     "name": "stdout",
     "output_type": "stream",
     "text": [
      "getting image\n",
      "(2048, 2592, 2)\n",
      "getting image\n",
      "(2048, 2592, 2)\n",
      "getting image\n",
      "(2048, 2592, 2)\n",
      "getting image\n",
      "(2048, 2592, 2)\n"
     ]
    },
    {
     "name": "stderr",
     "output_type": "stream",
     "text": [
      "2019-12-12 06:01:43.924Z moduleTest       20 moduleTest.py:954 2/3 phi forward to 5000\n"
     ]
    },
    {
     "name": "stdout",
     "output_type": "stream",
     "text": [
      "getting image\n",
      "(2048, 2592, 2)\n",
      "getting image\n",
      "(2048, 2592, 2)\n",
      "getting image\n",
      "(2048, 2592, 2)\n",
      "getting image\n",
      "(2048, 2592, 2)\n"
     ]
    },
    {
     "name": "stderr",
     "output_type": "stream",
     "text": [
      "2019-12-12 06:01:46.258Z moduleTest       20 moduleTest.py:954 2/3 phi forward to 5250\n"
     ]
    },
    {
     "name": "stdout",
     "output_type": "stream",
     "text": [
      "getting image\n",
      "(2048, 2592, 2)\n",
      "getting image\n",
      "(2048, 2592, 2)\n",
      "getting image\n",
      "(2048, 2592, 2)\n",
      "getting image\n",
      "(2048, 2592, 2)\n"
     ]
    },
    {
     "name": "stderr",
     "output_type": "stream",
     "text": [
      "2019-12-12 06:01:48.600Z moduleTest       20 moduleTest.py:954 2/3 phi forward to 5500\n"
     ]
    },
    {
     "name": "stdout",
     "output_type": "stream",
     "text": [
      "getting image\n",
      "(2048, 2592, 2)\n",
      "getting image\n",
      "(2048, 2592, 2)\n",
      "getting image\n",
      "(2048, 2592, 2)\n",
      "getting image\n",
      "(2048, 2592, 2)\n"
     ]
    },
    {
     "name": "stderr",
     "output_type": "stream",
     "text": [
      "2019-12-12 06:01:50.965Z moduleTest       20 moduleTest.py:954 2/3 phi forward to 5750\n"
     ]
    },
    {
     "name": "stdout",
     "output_type": "stream",
     "text": [
      "getting image\n",
      "(2048, 2592, 2)\n",
      "getting image\n",
      "(2048, 2592, 2)\n",
      "getting image\n",
      "(2048, 2592, 2)\n",
      "getting image\n",
      "(2048, 2592, 2)\n"
     ]
    },
    {
     "name": "stderr",
     "output_type": "stream",
     "text": [
      "2019-12-12 06:01:53.315Z moduleTest       20 moduleTest.py:954 2/3 phi forward to 6000\n"
     ]
    },
    {
     "name": "stdout",
     "output_type": "stream",
     "text": [
      "getting image\n",
      "(2048, 2592, 2)\n",
      "getting image\n",
      "(2048, 2592, 2)\n",
      "getting image\n",
      "(2048, 2592, 2)\n",
      "getting image\n",
      "(2048, 2592, 2)\n"
     ]
    },
    {
     "name": "stderr",
     "output_type": "stream",
     "text": [
      "2019-12-12 06:01:55.800Z moduleTest       20 moduleTest.py:981 2/3 phi forward 6000 to limit\n"
     ]
    },
    {
     "name": "stdout",
     "output_type": "stream",
     "text": [
      "getting image\n",
      "(2048, 2592, 2)\n",
      "getting image\n",
      "(2048, 2592, 2)\n",
      "getting image\n",
      "(2048, 2592, 2)\n",
      "getting image\n",
      "(2048, 2592, 2)\n"
     ]
    },
    {
     "name": "stderr",
     "output_type": "stream",
     "text": [
      "2019-12-12 06:02:12.280Z moduleTest       20 moduleTest.py:991 2/3 phi backward to 250\n"
     ]
    },
    {
     "name": "stdout",
     "output_type": "stream",
     "text": [
      "getting image\n",
      "(2048, 2592, 2)\n",
      "getting image\n",
      "(2048, 2592, 2)\n",
      "getting image\n",
      "(2048, 2592, 2)\n",
      "getting image\n",
      "(2048, 2592, 2)\n"
     ]
    },
    {
     "name": "stderr",
     "output_type": "stream",
     "text": [
      "2019-12-12 06:02:14.618Z moduleTest       20 moduleTest.py:991 2/3 phi backward to 500\n"
     ]
    },
    {
     "name": "stdout",
     "output_type": "stream",
     "text": [
      "getting image\n",
      "(2048, 2592, 2)\n",
      "getting image\n",
      "(2048, 2592, 2)\n",
      "getting image\n",
      "(2048, 2592, 2)\n",
      "getting image\n",
      "(2048, 2592, 2)\n"
     ]
    },
    {
     "name": "stderr",
     "output_type": "stream",
     "text": [
      "2019-12-12 06:02:16.948Z moduleTest       20 moduleTest.py:991 2/3 phi backward to 750\n"
     ]
    },
    {
     "name": "stdout",
     "output_type": "stream",
     "text": [
      "getting image\n",
      "(2048, 2592, 2)\n",
      "getting image\n",
      "(2048, 2592, 2)\n",
      "getting image\n",
      "(2048, 2592, 2)\n",
      "getting image\n",
      "(2048, 2592, 2)\n"
     ]
    },
    {
     "name": "stderr",
     "output_type": "stream",
     "text": [
      "2019-12-12 06:02:19.277Z moduleTest       20 moduleTest.py:991 2/3 phi backward to 1000\n"
     ]
    },
    {
     "name": "stdout",
     "output_type": "stream",
     "text": [
      "getting image\n",
      "(2048, 2592, 2)\n",
      "getting image\n",
      "(2048, 2592, 2)\n",
      "getting image\n",
      "(2048, 2592, 2)\n",
      "getting image\n",
      "(2048, 2592, 2)\n"
     ]
    },
    {
     "name": "stderr",
     "output_type": "stream",
     "text": [
      "2019-12-12 06:02:21.612Z moduleTest       20 moduleTest.py:991 2/3 phi backward to 1250\n"
     ]
    },
    {
     "name": "stdout",
     "output_type": "stream",
     "text": [
      "getting image\n",
      "(2048, 2592, 2)\n",
      "getting image\n",
      "(2048, 2592, 2)\n",
      "getting image\n",
      "(2048, 2592, 2)\n",
      "getting image\n",
      "(2048, 2592, 2)\n"
     ]
    },
    {
     "name": "stderr",
     "output_type": "stream",
     "text": [
      "2019-12-12 06:02:23.941Z moduleTest       20 moduleTest.py:991 2/3 phi backward to 1500\n"
     ]
    },
    {
     "name": "stdout",
     "output_type": "stream",
     "text": [
      "getting image\n",
      "(2048, 2592, 2)\n",
      "getting image\n",
      "(2048, 2592, 2)\n",
      "getting image\n",
      "(2048, 2592, 2)\n",
      "getting image\n",
      "(2048, 2592, 2)\n"
     ]
    },
    {
     "name": "stderr",
     "output_type": "stream",
     "text": [
      "2019-12-12 06:02:26.280Z moduleTest       20 moduleTest.py:991 2/3 phi backward to 1750\n"
     ]
    },
    {
     "name": "stdout",
     "output_type": "stream",
     "text": [
      "getting image\n",
      "(2048, 2592, 2)\n",
      "getting image\n",
      "(2048, 2592, 2)\n",
      "getting image\n",
      "(2048, 2592, 2)\n",
      "getting image\n",
      "(2048, 2592, 2)\n"
     ]
    },
    {
     "name": "stderr",
     "output_type": "stream",
     "text": [
      "2019-12-12 06:02:28.613Z moduleTest       20 moduleTest.py:991 2/3 phi backward to 2000\n"
     ]
    },
    {
     "name": "stdout",
     "output_type": "stream",
     "text": [
      "getting image\n",
      "(2048, 2592, 2)\n",
      "getting image\n",
      "(2048, 2592, 2)\n",
      "getting image\n",
      "(2048, 2592, 2)\n",
      "getting image\n",
      "(2048, 2592, 2)\n"
     ]
    },
    {
     "name": "stderr",
     "output_type": "stream",
     "text": [
      "2019-12-12 06:02:30.946Z moduleTest       20 moduleTest.py:991 2/3 phi backward to 2250\n"
     ]
    },
    {
     "name": "stdout",
     "output_type": "stream",
     "text": [
      "getting image\n",
      "(2048, 2592, 2)\n",
      "getting image\n",
      "(2048, 2592, 2)\n",
      "getting image\n",
      "(2048, 2592, 2)\n",
      "getting image\n",
      "(2048, 2592, 2)\n"
     ]
    },
    {
     "name": "stderr",
     "output_type": "stream",
     "text": [
      "2019-12-12 06:02:33.283Z moduleTest       20 moduleTest.py:991 2/3 phi backward to 2500\n"
     ]
    },
    {
     "name": "stdout",
     "output_type": "stream",
     "text": [
      "getting image\n",
      "(2048, 2592, 2)\n",
      "getting image\n",
      "(2048, 2592, 2)\n",
      "getting image\n",
      "(2048, 2592, 2)\n",
      "getting image\n",
      "(2048, 2592, 2)\n"
     ]
    },
    {
     "name": "stderr",
     "output_type": "stream",
     "text": [
      "2019-12-12 06:02:35.617Z moduleTest       20 moduleTest.py:991 2/3 phi backward to 2750\n"
     ]
    },
    {
     "name": "stdout",
     "output_type": "stream",
     "text": [
      "getting image\n",
      "(2048, 2592, 2)\n",
      "getting image\n",
      "(2048, 2592, 2)\n",
      "getting image\n",
      "(2048, 2592, 2)\n",
      "getting image\n",
      "(2048, 2592, 2)\n"
     ]
    },
    {
     "name": "stderr",
     "output_type": "stream",
     "text": [
      "2019-12-12 06:02:37.953Z moduleTest       20 moduleTest.py:991 2/3 phi backward to 3000\n"
     ]
    },
    {
     "name": "stdout",
     "output_type": "stream",
     "text": [
      "getting image\n",
      "(2048, 2592, 2)\n",
      "getting image\n",
      "(2048, 2592, 2)\n",
      "getting image\n",
      "(2048, 2592, 2)\n",
      "getting image\n",
      "(2048, 2592, 2)\n"
     ]
    },
    {
     "name": "stderr",
     "output_type": "stream",
     "text": [
      "2019-12-12 06:02:40.300Z moduleTest       20 moduleTest.py:991 2/3 phi backward to 3250\n"
     ]
    },
    {
     "name": "stdout",
     "output_type": "stream",
     "text": [
      "getting image\n",
      "(2048, 2592, 2)\n",
      "getting image\n",
      "(2048, 2592, 2)\n",
      "getting image\n",
      "(2048, 2592, 2)\n",
      "getting image\n",
      "(2048, 2592, 2)\n"
     ]
    },
    {
     "name": "stderr",
     "output_type": "stream",
     "text": [
      "2019-12-12 06:02:42.614Z moduleTest       20 moduleTest.py:991 2/3 phi backward to 3500\n"
     ]
    },
    {
     "name": "stdout",
     "output_type": "stream",
     "text": [
      "getting image\n",
      "(2048, 2592, 2)\n",
      "getting image\n",
      "(2048, 2592, 2)\n",
      "getting image\n",
      "(2048, 2592, 2)\n",
      "getting image\n",
      "(2048, 2592, 2)\n"
     ]
    },
    {
     "name": "stderr",
     "output_type": "stream",
     "text": [
      "2019-12-12 06:02:44.952Z moduleTest       20 moduleTest.py:991 2/3 phi backward to 3750\n"
     ]
    },
    {
     "name": "stdout",
     "output_type": "stream",
     "text": [
      "getting image\n",
      "(2048, 2592, 2)\n",
      "getting image\n",
      "(2048, 2592, 2)\n",
      "getting image\n",
      "(2048, 2592, 2)\n",
      "getting image\n",
      "(2048, 2592, 2)\n"
     ]
    },
    {
     "name": "stderr",
     "output_type": "stream",
     "text": [
      "2019-12-12 06:02:47.286Z moduleTest       20 moduleTest.py:991 2/3 phi backward to 4000\n"
     ]
    },
    {
     "name": "stdout",
     "output_type": "stream",
     "text": [
      "getting image\n",
      "(2048, 2592, 2)\n",
      "getting image\n",
      "(2048, 2592, 2)\n",
      "getting image\n",
      "(2048, 2592, 2)\n",
      "getting image\n",
      "(2048, 2592, 2)\n"
     ]
    },
    {
     "name": "stderr",
     "output_type": "stream",
     "text": [
      "2019-12-12 06:02:49.625Z moduleTest       20 moduleTest.py:991 2/3 phi backward to 4250\n"
     ]
    },
    {
     "name": "stdout",
     "output_type": "stream",
     "text": [
      "getting image\n",
      "(2048, 2592, 2)\n",
      "getting image\n",
      "(2048, 2592, 2)\n",
      "getting image\n",
      "(2048, 2592, 2)\n",
      "getting image\n",
      "(2048, 2592, 2)\n"
     ]
    },
    {
     "name": "stderr",
     "output_type": "stream",
     "text": [
      "2019-12-12 06:02:51.975Z moduleTest       20 moduleTest.py:991 2/3 phi backward to 4500\n"
     ]
    },
    {
     "name": "stdout",
     "output_type": "stream",
     "text": [
      "getting image\n",
      "(2048, 2592, 2)\n",
      "getting image\n",
      "(2048, 2592, 2)\n",
      "getting image\n",
      "(2048, 2592, 2)\n",
      "getting image\n",
      "(2048, 2592, 2)\n"
     ]
    },
    {
     "name": "stderr",
     "output_type": "stream",
     "text": [
      "2019-12-12 06:02:54.456Z moduleTest       20 moduleTest.py:991 2/3 phi backward to 4750\n"
     ]
    },
    {
     "name": "stdout",
     "output_type": "stream",
     "text": [
      "getting image\n",
      "(2048, 2592, 2)\n",
      "getting image\n",
      "(2048, 2592, 2)\n",
      "getting image\n",
      "(2048, 2592, 2)\n",
      "getting image\n",
      "(2048, 2592, 2)\n"
     ]
    },
    {
     "name": "stderr",
     "output_type": "stream",
     "text": [
      "2019-12-12 06:02:56.796Z moduleTest       20 moduleTest.py:991 2/3 phi backward to 5000\n"
     ]
    },
    {
     "name": "stdout",
     "output_type": "stream",
     "text": [
      "getting image\n",
      "(2048, 2592, 2)\n",
      "getting image\n",
      "(2048, 2592, 2)\n",
      "getting image\n",
      "(2048, 2592, 2)\n",
      "getting image\n",
      "(2048, 2592, 2)\n"
     ]
    },
    {
     "name": "stderr",
     "output_type": "stream",
     "text": [
      "2019-12-12 06:02:59.136Z moduleTest       20 moduleTest.py:991 2/3 phi backward to 5250\n"
     ]
    },
    {
     "name": "stdout",
     "output_type": "stream",
     "text": [
      "getting image\n",
      "(2048, 2592, 2)\n",
      "getting image\n",
      "(2048, 2592, 2)\n",
      "getting image\n",
      "(2048, 2592, 2)\n",
      "getting image\n",
      "(2048, 2592, 2)\n"
     ]
    },
    {
     "name": "stderr",
     "output_type": "stream",
     "text": [
      "2019-12-12 06:03:01.659Z moduleTest       20 moduleTest.py:991 2/3 phi backward to 5500\n"
     ]
    },
    {
     "name": "stdout",
     "output_type": "stream",
     "text": [
      "getting image\n",
      "(2048, 2592, 2)\n",
      "getting image\n",
      "(2048, 2592, 2)\n",
      "getting image\n",
      "(2048, 2592, 2)\n",
      "getting image\n",
      "(2048, 2592, 2)\n"
     ]
    },
    {
     "name": "stderr",
     "output_type": "stream",
     "text": [
      "2019-12-12 06:03:04.154Z moduleTest       20 moduleTest.py:991 2/3 phi backward to 5750\n"
     ]
    },
    {
     "name": "stdout",
     "output_type": "stream",
     "text": [
      "getting image\n",
      "(2048, 2592, 2)\n",
      "getting image\n",
      "(2048, 2592, 2)\n",
      "getting image\n",
      "(2048, 2592, 2)\n",
      "getting image\n",
      "(2048, 2592, 2)\n"
     ]
    },
    {
     "name": "stderr",
     "output_type": "stream",
     "text": [
      "2019-12-12 06:03:06.643Z moduleTest       20 moduleTest.py:991 2/3 phi backward to 6000\n"
     ]
    },
    {
     "name": "stdout",
     "output_type": "stream",
     "text": [
      "getting image\n",
      "(2048, 2592, 2)\n",
      "getting image\n",
      "(2048, 2592, 2)\n",
      "getting image\n",
      "(2048, 2592, 2)\n",
      "getting image\n",
      "(2048, 2592, 2)\n"
     ]
    },
    {
     "name": "stderr",
     "output_type": "stream",
     "text": [
      "2019-12-12 06:03:09.128Z moduleTest       20 moduleTest.py:1018 2/3 phi reverse -6000 steps to limit\n"
     ]
    },
    {
     "name": "stdout",
     "output_type": "stream",
     "text": [
      "getting image\n",
      "(2048, 2592, 2)\n",
      "getting image\n",
      "(2048, 2592, 2)\n",
      "getting image\n",
      "(2048, 2592, 2)\n",
      "getting image\n",
      "(2048, 2592, 2)\n"
     ]
    },
    {
     "name": "stderr",
     "output_type": "stream",
     "text": [
      "2019-12-12 06:03:25.697Z moduleTest       20 moduleTest.py:954 3/3 phi forward to 250\n"
     ]
    },
    {
     "name": "stdout",
     "output_type": "stream",
     "text": [
      "getting image\n",
      "(2048, 2592, 2)\n",
      "getting image\n",
      "(2048, 2592, 2)\n",
      "getting image\n",
      "(2048, 2592, 2)\n",
      "getting image\n",
      "(2048, 2592, 2)\n"
     ]
    },
    {
     "name": "stderr",
     "output_type": "stream",
     "text": [
      "2019-12-12 06:03:28.202Z moduleTest       20 moduleTest.py:954 3/3 phi forward to 500\n"
     ]
    },
    {
     "name": "stdout",
     "output_type": "stream",
     "text": [
      "getting image\n",
      "(2048, 2592, 2)\n",
      "getting image\n",
      "(2048, 2592, 2)\n",
      "getting image\n",
      "(2048, 2592, 2)\n",
      "getting image\n",
      "(2048, 2592, 2)\n"
     ]
    },
    {
     "name": "stderr",
     "output_type": "stream",
     "text": [
      "2019-12-12 06:03:30.672Z moduleTest       20 moduleTest.py:954 3/3 phi forward to 750\n"
     ]
    },
    {
     "name": "stdout",
     "output_type": "stream",
     "text": [
      "getting image\n",
      "(2048, 2592, 2)\n",
      "getting image\n",
      "(2048, 2592, 2)\n",
      "getting image\n",
      "(2048, 2592, 2)\n",
      "getting image\n",
      "(2048, 2592, 2)\n"
     ]
    },
    {
     "name": "stderr",
     "output_type": "stream",
     "text": [
      "2019-12-12 06:03:33.217Z moduleTest       20 moduleTest.py:954 3/3 phi forward to 1000\n"
     ]
    },
    {
     "name": "stdout",
     "output_type": "stream",
     "text": [
      "getting image\n",
      "(2048, 2592, 2)\n",
      "getting image\n",
      "(2048, 2592, 2)\n",
      "getting image\n",
      "(2048, 2592, 2)\n",
      "getting image\n",
      "(2048, 2592, 2)\n"
     ]
    },
    {
     "name": "stderr",
     "output_type": "stream",
     "text": [
      "2019-12-12 06:03:35.689Z moduleTest       20 moduleTest.py:954 3/3 phi forward to 1250\n"
     ]
    },
    {
     "name": "stdout",
     "output_type": "stream",
     "text": [
      "getting image\n",
      "(2048, 2592, 2)\n",
      "getting image\n",
      "(2048, 2592, 2)\n",
      "getting image\n",
      "(2048, 2592, 2)\n",
      "getting image\n",
      "(2048, 2592, 2)\n"
     ]
    },
    {
     "name": "stderr",
     "output_type": "stream",
     "text": [
      "2019-12-12 06:03:38.414Z moduleTest       20 moduleTest.py:954 3/3 phi forward to 1500\n"
     ]
    },
    {
     "name": "stdout",
     "output_type": "stream",
     "text": [
      "getting image\n",
      "(2048, 2592, 2)\n",
      "getting image\n",
      "(2048, 2592, 2)\n",
      "getting image\n",
      "(2048, 2592, 2)\n",
      "getting image\n",
      "(2048, 2592, 2)\n"
     ]
    },
    {
     "name": "stderr",
     "output_type": "stream",
     "text": [
      "2019-12-12 06:03:40.922Z moduleTest       20 moduleTest.py:954 3/3 phi forward to 1750\n"
     ]
    },
    {
     "name": "stdout",
     "output_type": "stream",
     "text": [
      "getting image\n",
      "(2048, 2592, 2)\n",
      "getting image\n",
      "(2048, 2592, 2)\n",
      "getting image\n",
      "(2048, 2592, 2)\n",
      "getting image\n",
      "(2048, 2592, 2)\n"
     ]
    },
    {
     "name": "stderr",
     "output_type": "stream",
     "text": [
      "2019-12-12 06:03:43.422Z moduleTest       20 moduleTest.py:954 3/3 phi forward to 2000\n"
     ]
    },
    {
     "name": "stdout",
     "output_type": "stream",
     "text": [
      "getting image\n",
      "(2048, 2592, 2)\n",
      "getting image\n",
      "(2048, 2592, 2)\n",
      "getting image\n",
      "(2048, 2592, 2)\n",
      "getting image\n",
      "(2048, 2592, 2)\n"
     ]
    },
    {
     "name": "stderr",
     "output_type": "stream",
     "text": [
      "2019-12-12 06:03:46.310Z moduleTest       20 moduleTest.py:954 3/3 phi forward to 2250\n"
     ]
    },
    {
     "name": "stdout",
     "output_type": "stream",
     "text": [
      "getting image\n",
      "(2048, 2592, 2)\n",
      "getting image\n",
      "(2048, 2592, 2)\n",
      "getting image\n",
      "(2048, 2592, 2)\n",
      "getting image\n",
      "(2048, 2592, 2)\n"
     ]
    },
    {
     "name": "stderr",
     "output_type": "stream",
     "text": [
      "2019-12-12 06:03:48.933Z moduleTest       20 moduleTest.py:954 3/3 phi forward to 2500\n"
     ]
    },
    {
     "name": "stdout",
     "output_type": "stream",
     "text": [
      "getting image\n",
      "(2048, 2592, 2)\n",
      "getting image\n",
      "(2048, 2592, 2)\n",
      "getting image\n",
      "(2048, 2592, 2)\n",
      "getting image\n",
      "(2048, 2592, 2)\n"
     ]
    },
    {
     "name": "stderr",
     "output_type": "stream",
     "text": [
      "2019-12-12 06:03:51.594Z moduleTest       20 moduleTest.py:954 3/3 phi forward to 2750\n"
     ]
    },
    {
     "name": "stdout",
     "output_type": "stream",
     "text": [
      "getting image\n",
      "(2048, 2592, 2)\n",
      "getting image\n",
      "(2048, 2592, 2)\n",
      "getting image\n",
      "(2048, 2592, 2)\n",
      "getting image\n",
      "(2048, 2592, 2)\n"
     ]
    },
    {
     "name": "stderr",
     "output_type": "stream",
     "text": [
      "2019-12-12 06:03:54.310Z moduleTest       20 moduleTest.py:954 3/3 phi forward to 3000\n"
     ]
    },
    {
     "name": "stdout",
     "output_type": "stream",
     "text": [
      "getting image\n",
      "(2048, 2592, 2)\n",
      "getting image\n",
      "(2048, 2592, 2)\n",
      "getting image\n",
      "(2048, 2592, 2)\n",
      "getting image\n",
      "(2048, 2592, 2)\n"
     ]
    },
    {
     "name": "stderr",
     "output_type": "stream",
     "text": [
      "2019-12-12 06:03:56.872Z moduleTest       20 moduleTest.py:954 3/3 phi forward to 3250\n"
     ]
    },
    {
     "name": "stdout",
     "output_type": "stream",
     "text": [
      "getting image\n",
      "(2048, 2592, 2)\n",
      "getting image\n",
      "(2048, 2592, 2)\n",
      "getting image\n",
      "(2048, 2592, 2)\n",
      "getting image\n",
      "(2048, 2592, 2)\n"
     ]
    },
    {
     "name": "stderr",
     "output_type": "stream",
     "text": [
      "2019-12-12 06:03:59.346Z moduleTest       20 moduleTest.py:954 3/3 phi forward to 3500\n"
     ]
    },
    {
     "name": "stdout",
     "output_type": "stream",
     "text": [
      "getting image\n",
      "(2048, 2592, 2)\n",
      "getting image\n",
      "(2048, 2592, 2)\n",
      "getting image\n",
      "(2048, 2592, 2)\n",
      "getting image\n",
      "(2048, 2592, 2)\n"
     ]
    },
    {
     "name": "stderr",
     "output_type": "stream",
     "text": [
      "2019-12-12 06:04:01.872Z moduleTest       20 moduleTest.py:954 3/3 phi forward to 3750\n"
     ]
    },
    {
     "name": "stdout",
     "output_type": "stream",
     "text": [
      "getting image\n",
      "(2048, 2592, 2)\n",
      "getting image\n",
      "(2048, 2592, 2)\n",
      "getting image\n",
      "(2048, 2592, 2)\n",
      "getting image\n",
      "(2048, 2592, 2)\n"
     ]
    },
    {
     "name": "stderr",
     "output_type": "stream",
     "text": [
      "2019-12-12 06:04:04.401Z moduleTest       20 moduleTest.py:954 3/3 phi forward to 4000\n"
     ]
    },
    {
     "name": "stdout",
     "output_type": "stream",
     "text": [
      "getting image\n",
      "(2048, 2592, 2)\n",
      "getting image\n",
      "(2048, 2592, 2)\n",
      "getting image\n",
      "(2048, 2592, 2)\n",
      "getting image\n",
      "(2048, 2592, 2)\n"
     ]
    },
    {
     "name": "stderr",
     "output_type": "stream",
     "text": [
      "2019-12-12 06:04:06.836Z moduleTest       20 moduleTest.py:954 3/3 phi forward to 4250\n"
     ]
    },
    {
     "name": "stdout",
     "output_type": "stream",
     "text": [
      "getting image\n",
      "(2048, 2592, 2)\n",
      "getting image\n",
      "(2048, 2592, 2)\n",
      "getting image\n",
      "(2048, 2592, 2)\n",
      "getting image\n",
      "(2048, 2592, 2)\n"
     ]
    },
    {
     "name": "stderr",
     "output_type": "stream",
     "text": [
      "2019-12-12 06:04:09.325Z moduleTest       20 moduleTest.py:954 3/3 phi forward to 4500\n"
     ]
    },
    {
     "name": "stdout",
     "output_type": "stream",
     "text": [
      "getting image\n",
      "(2048, 2592, 2)\n",
      "getting image\n",
      "(2048, 2592, 2)\n",
      "getting image\n",
      "(2048, 2592, 2)\n",
      "getting image\n",
      "(2048, 2592, 2)\n"
     ]
    },
    {
     "name": "stderr",
     "output_type": "stream",
     "text": [
      "2019-12-12 06:04:11.885Z moduleTest       20 moduleTest.py:954 3/3 phi forward to 4750\n"
     ]
    },
    {
     "name": "stdout",
     "output_type": "stream",
     "text": [
      "getting image\n",
      "(2048, 2592, 2)\n",
      "getting image\n",
      "(2048, 2592, 2)\n",
      "getting image\n",
      "(2048, 2592, 2)\n",
      "getting image\n",
      "(2048, 2592, 2)\n"
     ]
    },
    {
     "name": "stderr",
     "output_type": "stream",
     "text": [
      "2019-12-12 06:04:14.351Z moduleTest       20 moduleTest.py:954 3/3 phi forward to 5000\n"
     ]
    },
    {
     "name": "stdout",
     "output_type": "stream",
     "text": [
      "getting image\n",
      "(2048, 2592, 2)\n",
      "getting image\n",
      "(2048, 2592, 2)\n",
      "getting image\n",
      "(2048, 2592, 2)\n",
      "getting image\n",
      "(2048, 2592, 2)\n"
     ]
    },
    {
     "name": "stderr",
     "output_type": "stream",
     "text": [
      "2019-12-12 06:04:16.841Z moduleTest       20 moduleTest.py:954 3/3 phi forward to 5250\n"
     ]
    },
    {
     "name": "stdout",
     "output_type": "stream",
     "text": [
      "getting image\n",
      "(2048, 2592, 2)\n",
      "getting image\n",
      "(2048, 2592, 2)\n",
      "getting image\n",
      "(2048, 2592, 2)\n",
      "getting image\n",
      "(2048, 2592, 2)\n"
     ]
    },
    {
     "name": "stderr",
     "output_type": "stream",
     "text": [
      "2019-12-12 06:04:19.344Z moduleTest       20 moduleTest.py:954 3/3 phi forward to 5500\n"
     ]
    },
    {
     "name": "stdout",
     "output_type": "stream",
     "text": [
      "getting image\n",
      "(2048, 2592, 2)\n",
      "getting image\n",
      "(2048, 2592, 2)\n",
      "getting image\n",
      "(2048, 2592, 2)\n",
      "getting image\n",
      "(2048, 2592, 2)\n"
     ]
    },
    {
     "name": "stderr",
     "output_type": "stream",
     "text": [
      "2019-12-12 06:04:21.849Z moduleTest       20 moduleTest.py:954 3/3 phi forward to 5750\n"
     ]
    },
    {
     "name": "stdout",
     "output_type": "stream",
     "text": [
      "getting image\n",
      "(2048, 2592, 2)\n",
      "getting image\n",
      "(2048, 2592, 2)\n",
      "getting image\n",
      "(2048, 2592, 2)\n",
      "getting image\n",
      "(2048, 2592, 2)\n"
     ]
    },
    {
     "name": "stderr",
     "output_type": "stream",
     "text": [
      "2019-12-12 06:04:24.343Z moduleTest       20 moduleTest.py:954 3/3 phi forward to 6000\n"
     ]
    },
    {
     "name": "stdout",
     "output_type": "stream",
     "text": [
      "getting image\n",
      "(2048, 2592, 2)\n",
      "getting image\n",
      "(2048, 2592, 2)\n",
      "getting image\n",
      "(2048, 2592, 2)\n",
      "getting image\n",
      "(2048, 2592, 2)\n"
     ]
    },
    {
     "name": "stderr",
     "output_type": "stream",
     "text": [
      "2019-12-12 06:04:26.840Z moduleTest       20 moduleTest.py:981 3/3 phi forward 6000 to limit\n"
     ]
    },
    {
     "name": "stdout",
     "output_type": "stream",
     "text": [
      "getting image\n",
      "(2048, 2592, 2)\n",
      "getting image\n",
      "(2048, 2592, 2)\n",
      "getting image\n",
      "(2048, 2592, 2)\n",
      "getting image\n",
      "(2048, 2592, 2)\n"
     ]
    },
    {
     "name": "stderr",
     "output_type": "stream",
     "text": [
      "2019-12-12 06:04:43.355Z moduleTest       20 moduleTest.py:991 3/3 phi backward to 250\n"
     ]
    },
    {
     "name": "stdout",
     "output_type": "stream",
     "text": [
      "getting image\n",
      "(2048, 2592, 2)\n",
      "getting image\n",
      "(2048, 2592, 2)\n",
      "getting image\n",
      "(2048, 2592, 2)\n",
      "getting image\n",
      "(2048, 2592, 2)\n"
     ]
    },
    {
     "name": "stderr",
     "output_type": "stream",
     "text": [
      "2019-12-12 06:04:45.850Z moduleTest       20 moduleTest.py:991 3/3 phi backward to 500\n"
     ]
    },
    {
     "name": "stdout",
     "output_type": "stream",
     "text": [
      "getting image\n",
      "(2048, 2592, 2)\n",
      "getting image\n",
      "(2048, 2592, 2)\n",
      "getting image\n",
      "(2048, 2592, 2)\n",
      "getting image\n",
      "(2048, 2592, 2)\n"
     ]
    },
    {
     "name": "stderr",
     "output_type": "stream",
     "text": [
      "2019-12-12 06:04:48.351Z moduleTest       20 moduleTest.py:991 3/3 phi backward to 750\n"
     ]
    },
    {
     "name": "stdout",
     "output_type": "stream",
     "text": [
      "getting image\n",
      "(2048, 2592, 2)\n",
      "getting image\n",
      "(2048, 2592, 2)\n",
      "getting image\n",
      "(2048, 2592, 2)\n",
      "getting image\n",
      "(2048, 2592, 2)\n"
     ]
    },
    {
     "name": "stderr",
     "output_type": "stream",
     "text": [
      "2019-12-12 06:04:50.850Z moduleTest       20 moduleTest.py:991 3/3 phi backward to 1000\n"
     ]
    },
    {
     "name": "stdout",
     "output_type": "stream",
     "text": [
      "getting image\n",
      "(2048, 2592, 2)\n",
      "getting image\n",
      "(2048, 2592, 2)\n",
      "getting image\n",
      "(2048, 2592, 2)\n",
      "getting image\n",
      "(2048, 2592, 2)\n"
     ]
    },
    {
     "name": "stderr",
     "output_type": "stream",
     "text": [
      "2019-12-12 06:04:53.345Z moduleTest       20 moduleTest.py:991 3/3 phi backward to 1250\n"
     ]
    },
    {
     "name": "stdout",
     "output_type": "stream",
     "text": [
      "getting image\n",
      "(2048, 2592, 2)\n",
      "getting image\n",
      "(2048, 2592, 2)\n",
      "getting image\n",
      "(2048, 2592, 2)\n",
      "getting image\n",
      "(2048, 2592, 2)\n"
     ]
    },
    {
     "name": "stderr",
     "output_type": "stream",
     "text": [
      "2019-12-12 06:04:55.850Z moduleTest       20 moduleTest.py:991 3/3 phi backward to 1500\n"
     ]
    },
    {
     "name": "stdout",
     "output_type": "stream",
     "text": [
      "getting image\n",
      "(2048, 2592, 2)\n",
      "getting image\n",
      "(2048, 2592, 2)\n",
      "getting image\n",
      "(2048, 2592, 2)\n",
      "getting image\n",
      "(2048, 2592, 2)\n"
     ]
    },
    {
     "name": "stderr",
     "output_type": "stream",
     "text": [
      "2019-12-12 06:04:58.347Z moduleTest       20 moduleTest.py:991 3/3 phi backward to 1750\n"
     ]
    },
    {
     "name": "stdout",
     "output_type": "stream",
     "text": [
      "getting image\n",
      "(2048, 2592, 2)\n",
      "getting image\n",
      "(2048, 2592, 2)\n",
      "getting image\n",
      "(2048, 2592, 2)\n",
      "getting image\n",
      "(2048, 2592, 2)\n"
     ]
    },
    {
     "name": "stderr",
     "output_type": "stream",
     "text": [
      "2019-12-12 06:05:00.882Z moduleTest       20 moduleTest.py:991 3/3 phi backward to 2000\n"
     ]
    },
    {
     "name": "stdout",
     "output_type": "stream",
     "text": [
      "getting image\n",
      "(2048, 2592, 2)\n",
      "getting image\n",
      "(2048, 2592, 2)\n",
      "getting image\n",
      "(2048, 2592, 2)\n",
      "getting image\n",
      "(2048, 2592, 2)\n"
     ]
    },
    {
     "name": "stderr",
     "output_type": "stream",
     "text": [
      "2019-12-12 06:05:03.361Z moduleTest       20 moduleTest.py:991 3/3 phi backward to 2250\n"
     ]
    },
    {
     "name": "stdout",
     "output_type": "stream",
     "text": [
      "getting image\n",
      "(2048, 2592, 2)\n",
      "getting image\n",
      "(2048, 2592, 2)\n",
      "getting image\n",
      "(2048, 2592, 2)\n",
      "getting image\n",
      "(2048, 2592, 2)\n"
     ]
    },
    {
     "name": "stderr",
     "output_type": "stream",
     "text": [
      "2019-12-12 06:05:05.856Z moduleTest       20 moduleTest.py:991 3/3 phi backward to 2500\n"
     ]
    },
    {
     "name": "stdout",
     "output_type": "stream",
     "text": [
      "getting image\n",
      "(2048, 2592, 2)\n",
      "getting image\n",
      "(2048, 2592, 2)\n",
      "getting image\n",
      "(2048, 2592, 2)\n",
      "getting image\n",
      "(2048, 2592, 2)\n"
     ]
    },
    {
     "name": "stderr",
     "output_type": "stream",
     "text": [
      "2019-12-12 06:05:08.379Z moduleTest       20 moduleTest.py:991 3/3 phi backward to 2750\n"
     ]
    },
    {
     "name": "stdout",
     "output_type": "stream",
     "text": [
      "getting image\n",
      "(2048, 2592, 2)\n",
      "getting image\n",
      "(2048, 2592, 2)\n",
      "getting image\n",
      "(2048, 2592, 2)\n",
      "getting image\n",
      "(2048, 2592, 2)\n"
     ]
    },
    {
     "name": "stderr",
     "output_type": "stream",
     "text": [
      "2019-12-12 06:05:10.850Z moduleTest       20 moduleTest.py:991 3/3 phi backward to 3000\n"
     ]
    },
    {
     "name": "stdout",
     "output_type": "stream",
     "text": [
      "getting image\n",
      "(2048, 2592, 2)\n",
      "getting image\n",
      "(2048, 2592, 2)\n",
      "getting image\n",
      "(2048, 2592, 2)\n",
      "getting image\n",
      "(2048, 2592, 2)\n"
     ]
    },
    {
     "name": "stderr",
     "output_type": "stream",
     "text": [
      "2019-12-12 06:05:13.355Z moduleTest       20 moduleTest.py:991 3/3 phi backward to 3250\n"
     ]
    },
    {
     "name": "stdout",
     "output_type": "stream",
     "text": [
      "getting image\n",
      "(2048, 2592, 2)\n",
      "getting image\n",
      "(2048, 2592, 2)\n",
      "getting image\n",
      "(2048, 2592, 2)\n",
      "getting image\n",
      "(2048, 2592, 2)\n"
     ]
    },
    {
     "name": "stderr",
     "output_type": "stream",
     "text": [
      "2019-12-12 06:05:15.866Z moduleTest       20 moduleTest.py:991 3/3 phi backward to 3500\n"
     ]
    },
    {
     "name": "stdout",
     "output_type": "stream",
     "text": [
      "getting image\n",
      "(2048, 2592, 2)\n",
      "getting image\n",
      "(2048, 2592, 2)\n",
      "getting image\n",
      "(2048, 2592, 2)\n",
      "getting image\n",
      "(2048, 2592, 2)\n"
     ]
    },
    {
     "name": "stderr",
     "output_type": "stream",
     "text": [
      "2019-12-12 06:05:18.373Z moduleTest       20 moduleTest.py:991 3/3 phi backward to 3750\n"
     ]
    },
    {
     "name": "stdout",
     "output_type": "stream",
     "text": [
      "getting image\n",
      "(2048, 2592, 2)\n",
      "getting image\n",
      "(2048, 2592, 2)\n",
      "getting image\n",
      "(2048, 2592, 2)\n",
      "getting image\n",
      "(2048, 2592, 2)\n"
     ]
    },
    {
     "name": "stderr",
     "output_type": "stream",
     "text": [
      "2019-12-12 06:05:20.879Z moduleTest       20 moduleTest.py:991 3/3 phi backward to 4000\n"
     ]
    },
    {
     "name": "stdout",
     "output_type": "stream",
     "text": [
      "getting image\n",
      "(2048, 2592, 2)\n",
      "getting image\n",
      "(2048, 2592, 2)\n",
      "getting image\n",
      "(2048, 2592, 2)\n",
      "getting image\n",
      "(2048, 2592, 2)\n"
     ]
    },
    {
     "name": "stderr",
     "output_type": "stream",
     "text": [
      "2019-12-12 06:05:23.368Z moduleTest       20 moduleTest.py:991 3/3 phi backward to 4250\n"
     ]
    },
    {
     "name": "stdout",
     "output_type": "stream",
     "text": [
      "getting image\n",
      "(2048, 2592, 2)\n",
      "getting image\n",
      "(2048, 2592, 2)\n",
      "getting image\n",
      "(2048, 2592, 2)\n",
      "getting image\n",
      "(2048, 2592, 2)\n"
     ]
    },
    {
     "name": "stderr",
     "output_type": "stream",
     "text": [
      "2019-12-12 06:05:25.853Z moduleTest       20 moduleTest.py:991 3/3 phi backward to 4500\n"
     ]
    },
    {
     "name": "stdout",
     "output_type": "stream",
     "text": [
      "getting image\n",
      "(2048, 2592, 2)\n",
      "getting image\n",
      "(2048, 2592, 2)\n",
      "getting image\n",
      "(2048, 2592, 2)\n",
      "getting image\n",
      "(2048, 2592, 2)\n"
     ]
    },
    {
     "name": "stderr",
     "output_type": "stream",
     "text": [
      "2019-12-12 06:05:28.362Z moduleTest       20 moduleTest.py:991 3/3 phi backward to 4750\n"
     ]
    },
    {
     "name": "stdout",
     "output_type": "stream",
     "text": [
      "getting image\n",
      "(2048, 2592, 2)\n",
      "getting image\n",
      "(2048, 2592, 2)\n",
      "getting image\n",
      "(2048, 2592, 2)\n",
      "getting image\n",
      "(2048, 2592, 2)\n"
     ]
    },
    {
     "name": "stderr",
     "output_type": "stream",
     "text": [
      "2019-12-12 06:05:30.871Z moduleTest       20 moduleTest.py:991 3/3 phi backward to 5000\n"
     ]
    },
    {
     "name": "stdout",
     "output_type": "stream",
     "text": [
      "getting image\n",
      "(2048, 2592, 2)\n",
      "getting image\n",
      "(2048, 2592, 2)\n",
      "getting image\n",
      "(2048, 2592, 2)\n",
      "getting image\n",
      "(2048, 2592, 2)\n"
     ]
    },
    {
     "name": "stderr",
     "output_type": "stream",
     "text": [
      "2019-12-12 06:05:33.368Z moduleTest       20 moduleTest.py:991 3/3 phi backward to 5250\n"
     ]
    },
    {
     "name": "stdout",
     "output_type": "stream",
     "text": [
      "getting image\n",
      "(2048, 2592, 2)\n",
      "getting image\n",
      "(2048, 2592, 2)\n",
      "getting image\n",
      "(2048, 2592, 2)\n",
      "getting image\n",
      "(2048, 2592, 2)\n"
     ]
    },
    {
     "name": "stderr",
     "output_type": "stream",
     "text": [
      "2019-12-12 06:05:35.881Z moduleTest       20 moduleTest.py:991 3/3 phi backward to 5500\n"
     ]
    },
    {
     "name": "stdout",
     "output_type": "stream",
     "text": [
      "getting image\n",
      "(2048, 2592, 2)\n",
      "getting image\n",
      "(2048, 2592, 2)\n",
      "getting image\n",
      "(2048, 2592, 2)\n",
      "getting image\n",
      "(2048, 2592, 2)\n"
     ]
    },
    {
     "name": "stderr",
     "output_type": "stream",
     "text": [
      "2019-12-12 06:05:38.386Z moduleTest       20 moduleTest.py:991 3/3 phi backward to 5750\n"
     ]
    },
    {
     "name": "stdout",
     "output_type": "stream",
     "text": [
      "getting image\n",
      "(2048, 2592, 2)\n",
      "getting image\n",
      "(2048, 2592, 2)\n",
      "getting image\n",
      "(2048, 2592, 2)\n",
      "getting image\n",
      "(2048, 2592, 2)\n"
     ]
    },
    {
     "name": "stderr",
     "output_type": "stream",
     "text": [
      "2019-12-12 06:05:40.884Z moduleTest       20 moduleTest.py:991 3/3 phi backward to 6000\n"
     ]
    },
    {
     "name": "stdout",
     "output_type": "stream",
     "text": [
      "getting image\n",
      "(2048, 2592, 2)\n",
      "getting image\n",
      "(2048, 2592, 2)\n",
      "getting image\n",
      "(2048, 2592, 2)\n",
      "getting image\n",
      "(2048, 2592, 2)\n"
     ]
    },
    {
     "name": "stderr",
     "output_type": "stream",
     "text": [
      "2019-12-12 06:05:43.374Z moduleTest       20 moduleTest.py:1018 3/3 phi reverse -6000 steps to limit\n",
      "2019-12-12 06:05:59.106Z root             20 pfiDesign.py:740 wrote pfiDesign file for 57 cobras and name=phiModel to /data/MCS/20191212_060/output/phi_run0.xml\n",
      "2019-12-12 06:05:59.109Z moduleTest       40 moduleTest.py:319 phi ranges for cobras [22] are too small: CW=[0.] CCW=[0.]\n",
      "2019-12-12 06:05:59.110Z moduleTest       40 moduleTest.py:322      [0.]\n",
      "/home/pfs/mhs/devel/ics_cobraCharmer/python/ics/cobraCharmer/pfiDesign.py:54: UserWarning: please use PFIDesign.loadModule() or PFIDesign.loadPFI()\n",
      "  warnings.warn('please use PFIDesign.loadModule() or PFIDesign.loadPFI()')\n"
     ]
    },
    {
     "name": "stdout",
     "output_type": "stream",
     "text": [
      "['/data/MCS/20191212_060/']\n"
     ]
    },
    {
     "name": "stderr",
     "output_type": "stream",
     "text": [
      "/home/pfs/mhs/devel/ics_cobraCharmer/procedures/moduleTest/ontimeOptimize.py:353: RuntimeWarning: divide by zero encountered in true_divide\n",
      "  newOntimeFwd = (fwd_target - self.fwd_int)/self.fwd_slope\n",
      "/home/pfs/mhs/devel/ics_cobraCharmer/procedures/moduleTest/ontimeOptimize.py:354: RuntimeWarning: divide by zero encountered in true_divide\n",
      "  newOntimeRev = (rev_target - self.rev_int)/self.rev_slope\n",
      "2019-12-12 06:05:59.850Z root             20 pfiDesign.py:740 wrote pfiDesign file for 57 cobras and name=None to /data/MCS/temp.xml\n",
      "2019-12-12 06:05:59.851Z ontimeOptimize   20 ontimeOptimize.py:685 Updating XML = /data/MCS/temp.xml\n",
      "2019-12-12 06:06:04.607Z ontimeOptimize   20 ontimeOptimize.py:609 Output XML = /data/MCS/temp.xml\n",
      "2019-12-12 06:06:04.611Z butler           30 butler.py:58 newRun: /data/MCS/20191212_061\n",
      "2019-12-12 06:06:04.615Z fpgaIO           20 pfi.py:57 FPGA connection to 128.149.77.24\n",
      "/home/pfs/mhs/devel/ics_cobraCharmer/python/ics/cobraCharmer/pfiDesign.py:54: UserWarning: please use PFIDesign.loadModule() or PFIDesign.loadPFI()\n",
      "  warnings.warn('please use PFIDesign.loadModule() or PFIDesign.loadPFI()')\n",
      "2019-12-12 06:06:04.661Z pfi              20 pfi.py:73 load cobra model from /data/MCS/temp.xml\n"
     ]
    },
    {
     "name": "stdout",
     "output_type": "stream",
     "text": [
      "Camera close!\n"
     ]
    },
    {
     "name": "stderr",
     "output_type": "stream",
     "text": [
      "2019-12-12 06:06:05.350Z camera           20 asrdCam.py:17 asrd...\n",
      "2019-12-12 06:06:05.380Z butler           30 butler.py:58 newRun: /data/MCS/20191212_062\n",
      "2019-12-12 06:06:05.382Z fpgaIO           20 pfi.py:57 FPGA connection to 128.149.77.24\n",
      "2019-12-12 06:06:05.412Z pfi              20 pfi.py:73 load cobra model from /data/MCS/temp.xml\n",
      "2019-12-12 06:06:05.449Z camera           20 asrdCam.py:17 asrd...\n",
      "2019-12-12 06:06:05.482Z moduleTest       20 moduleTest.py:943 phi home -6000 steps\n"
     ]
    },
    {
     "name": "stdout",
     "output_type": "stream",
     "text": [
      "Camera close!\n",
      "IS_COLORMODE_MONOCHROME: \n",
      "\tm_nColorMode: \t\t 34\n",
      "\tnBitsPerPixel: \t\t 10\n",
      "\tbytes_per_pixel: \t\t 2\n",
      "\n",
      "Camera model:\t\t UI318xCP-M\n",
      "Camera serial no.:\t 4103536358\n",
      "Maximum image self.width:\t 2592\n",
      "Maximum image self.height:\t 2048\n",
      "\n",
      "200\n",
      "IS_COLORMODE_MONOCHROME: \n",
      "\tm_nColorMode: \t\t 34\n",
      "\tnBitsPerPixel: \t\t 10\n",
      "\tbytes_per_pixel: \t\t 2\n",
      "\n",
      "Camera model:\t\t UI318xCP-M\n",
      "Camera serial no.:\t 4103541788\n",
      "Maximum image self.width:\t 2592\n",
      "Maximum image self.height:\t 2048\n",
      "\n",
      "200\n",
      "getting image\n",
      "(2048, 2592, 2)\n",
      "getting image\n",
      "(2048, 2592, 2)\n",
      "getting image\n",
      "(2048, 2592, 2)\n",
      "getting image\n",
      "(2048, 2592, 2)\n"
     ]
    },
    {
     "name": "stderr",
     "output_type": "stream",
     "text": [
      "2019-12-12 06:06:32.308Z moduleTest       20 moduleTest.py:954 1/3 phi forward to 250\n"
     ]
    },
    {
     "name": "stdout",
     "output_type": "stream",
     "text": [
      "getting image\n",
      "(2048, 2592, 2)\n",
      "getting image\n",
      "(2048, 2592, 2)\n",
      "getting image\n",
      "(2048, 2592, 2)\n",
      "getting image\n",
      "(2048, 2592, 2)\n"
     ]
    },
    {
     "name": "stderr",
     "output_type": "stream",
     "text": [
      "2019-12-12 06:06:34.839Z moduleTest       20 moduleTest.py:954 1/3 phi forward to 500\n"
     ]
    },
    {
     "name": "stdout",
     "output_type": "stream",
     "text": [
      "getting image\n",
      "(2048, 2592, 2)\n",
      "getting image\n",
      "(2048, 2592, 2)\n",
      "getting image\n",
      "(2048, 2592, 2)\n",
      "getting image\n",
      "(2048, 2592, 2)\n"
     ]
    },
    {
     "name": "stderr",
     "output_type": "stream",
     "text": [
      "2019-12-12 06:06:37.360Z moduleTest       20 moduleTest.py:954 1/3 phi forward to 750\n"
     ]
    },
    {
     "name": "stdout",
     "output_type": "stream",
     "text": [
      "getting image\n",
      "(2048, 2592, 2)\n",
      "getting image\n",
      "(2048, 2592, 2)\n",
      "getting image\n",
      "(2048, 2592, 2)\n",
      "getting image\n",
      "(2048, 2592, 2)\n"
     ]
    },
    {
     "name": "stderr",
     "output_type": "stream",
     "text": [
      "2019-12-12 06:06:39.827Z moduleTest       20 moduleTest.py:954 1/3 phi forward to 1000\n"
     ]
    },
    {
     "name": "stdout",
     "output_type": "stream",
     "text": [
      "getting image\n",
      "(2048, 2592, 2)\n",
      "getting image\n",
      "(2048, 2592, 2)\n",
      "getting image\n",
      "(2048, 2592, 2)\n",
      "getting image\n",
      "(2048, 2592, 2)\n"
     ]
    },
    {
     "name": "stderr",
     "output_type": "stream",
     "text": [
      "2019-12-12 06:06:42.327Z moduleTest       20 moduleTest.py:954 1/3 phi forward to 1250\n"
     ]
    },
    {
     "name": "stdout",
     "output_type": "stream",
     "text": [
      "getting image\n",
      "(2048, 2592, 2)\n",
      "getting image\n",
      "(2048, 2592, 2)\n",
      "getting image\n",
      "(2048, 2592, 2)\n",
      "getting image\n",
      "(2048, 2592, 2)\n"
     ]
    },
    {
     "name": "stderr",
     "output_type": "stream",
     "text": [
      "2019-12-12 06:06:44.807Z moduleTest       20 moduleTest.py:954 1/3 phi forward to 1500\n"
     ]
    },
    {
     "name": "stdout",
     "output_type": "stream",
     "text": [
      "getting image\n",
      "(2048, 2592, 2)\n",
      "getting image\n",
      "(2048, 2592, 2)\n",
      "getting image\n",
      "(2048, 2592, 2)\n",
      "getting image\n",
      "(2048, 2592, 2)\n"
     ]
    },
    {
     "name": "stderr",
     "output_type": "stream",
     "text": [
      "2019-12-12 06:06:47.288Z moduleTest       20 moduleTest.py:954 1/3 phi forward to 1750\n"
     ]
    },
    {
     "name": "stdout",
     "output_type": "stream",
     "text": [
      "getting image\n",
      "(2048, 2592, 2)\n",
      "getting image\n",
      "(2048, 2592, 2)\n",
      "getting image\n",
      "(2048, 2592, 2)\n",
      "getting image\n",
      "(2048, 2592, 2)\n"
     ]
    },
    {
     "name": "stderr",
     "output_type": "stream",
     "text": [
      "2019-12-12 06:06:49.830Z moduleTest       20 moduleTest.py:954 1/3 phi forward to 2000\n"
     ]
    },
    {
     "name": "stdout",
     "output_type": "stream",
     "text": [
      "getting image\n",
      "(2048, 2592, 2)\n",
      "getting image\n",
      "(2048, 2592, 2)\n",
      "getting image\n",
      "(2048, 2592, 2)\n",
      "getting image\n",
      "(2048, 2592, 2)\n"
     ]
    },
    {
     "name": "stderr",
     "output_type": "stream",
     "text": [
      "2019-12-12 06:06:52.289Z moduleTest       20 moduleTest.py:954 1/3 phi forward to 2250\n"
     ]
    },
    {
     "name": "stdout",
     "output_type": "stream",
     "text": [
      "getting image\n",
      "(2048, 2592, 2)\n",
      "getting image\n",
      "(2048, 2592, 2)\n",
      "getting image\n",
      "(2048, 2592, 2)\n",
      "getting image\n",
      "(2048, 2592, 2)\n"
     ]
    },
    {
     "name": "stderr",
     "output_type": "stream",
     "text": [
      "2019-12-12 06:06:54.776Z moduleTest       20 moduleTest.py:954 1/3 phi forward to 2500\n"
     ]
    },
    {
     "name": "stdout",
     "output_type": "stream",
     "text": [
      "getting image\n",
      "(2048, 2592, 2)\n",
      "getting image\n",
      "(2048, 2592, 2)\n",
      "getting image\n",
      "(2048, 2592, 2)\n",
      "getting image\n",
      "(2048, 2592, 2)\n"
     ]
    },
    {
     "name": "stderr",
     "output_type": "stream",
     "text": [
      "2019-12-12 06:06:57.260Z moduleTest       20 moduleTest.py:954 1/3 phi forward to 2750\n"
     ]
    },
    {
     "name": "stdout",
     "output_type": "stream",
     "text": [
      "getting image\n",
      "(2048, 2592, 2)\n",
      "getting image\n",
      "(2048, 2592, 2)\n",
      "getting image\n",
      "(2048, 2592, 2)\n",
      "getting image\n",
      "(2048, 2592, 2)\n"
     ]
    },
    {
     "name": "stderr",
     "output_type": "stream",
     "text": [
      "2019-12-12 06:06:59.767Z moduleTest       20 moduleTest.py:954 1/3 phi forward to 3000\n"
     ]
    },
    {
     "name": "stdout",
     "output_type": "stream",
     "text": [
      "getting image\n",
      "(2048, 2592, 2)\n",
      "getting image\n",
      "(2048, 2592, 2)\n",
      "getting image\n",
      "(2048, 2592, 2)\n",
      "getting image\n",
      "(2048, 2592, 2)\n"
     ]
    },
    {
     "name": "stderr",
     "output_type": "stream",
     "text": [
      "2019-12-12 06:07:02.309Z moduleTest       20 moduleTest.py:954 1/3 phi forward to 3250\n"
     ]
    },
    {
     "name": "stdout",
     "output_type": "stream",
     "text": [
      "getting image\n",
      "(2048, 2592, 2)\n",
      "getting image\n",
      "(2048, 2592, 2)\n",
      "getting image\n",
      "(2048, 2592, 2)\n",
      "getting image\n",
      "(2048, 2592, 2)\n"
     ]
    },
    {
     "name": "stderr",
     "output_type": "stream",
     "text": [
      "2019-12-12 06:07:04.761Z moduleTest       20 moduleTest.py:954 1/3 phi forward to 3500\n"
     ]
    },
    {
     "name": "stdout",
     "output_type": "stream",
     "text": [
      "getting image\n",
      "(2048, 2592, 2)\n",
      "getting image\n",
      "(2048, 2592, 2)\n",
      "getting image\n",
      "(2048, 2592, 2)\n",
      "getting image\n",
      "(2048, 2592, 2)\n"
     ]
    },
    {
     "name": "stderr",
     "output_type": "stream",
     "text": [
      "2019-12-12 06:07:07.273Z moduleTest       20 moduleTest.py:954 1/3 phi forward to 3750\n"
     ]
    },
    {
     "name": "stdout",
     "output_type": "stream",
     "text": [
      "getting image\n",
      "(2048, 2592, 2)\n",
      "getting image\n",
      "(2048, 2592, 2)\n",
      "getting image\n",
      "(2048, 2592, 2)\n",
      "getting image\n",
      "(2048, 2592, 2)\n"
     ]
    },
    {
     "name": "stderr",
     "output_type": "stream",
     "text": [
      "2019-12-12 06:07:09.776Z moduleTest       20 moduleTest.py:954 1/3 phi forward to 4000\n"
     ]
    },
    {
     "name": "stdout",
     "output_type": "stream",
     "text": [
      "getting image\n",
      "(2048, 2592, 2)\n",
      "getting image\n",
      "(2048, 2592, 2)\n",
      "getting image\n",
      "(2048, 2592, 2)\n",
      "getting image\n",
      "(2048, 2592, 2)\n"
     ]
    },
    {
     "name": "stderr",
     "output_type": "stream",
     "text": [
      "2019-12-12 06:07:12.281Z moduleTest       20 moduleTest.py:954 1/3 phi forward to 4250\n"
     ]
    },
    {
     "name": "stdout",
     "output_type": "stream",
     "text": [
      "getting image\n",
      "(2048, 2592, 2)\n",
      "getting image\n",
      "(2048, 2592, 2)\n",
      "getting image\n",
      "(2048, 2592, 2)\n",
      "getting image\n",
      "(2048, 2592, 2)\n"
     ]
    },
    {
     "name": "stderr",
     "output_type": "stream",
     "text": [
      "2019-12-12 06:07:14.784Z moduleTest       20 moduleTest.py:954 1/3 phi forward to 4500\n"
     ]
    },
    {
     "name": "stdout",
     "output_type": "stream",
     "text": [
      "getting image\n",
      "(2048, 2592, 2)\n",
      "getting image\n",
      "(2048, 2592, 2)\n",
      "getting image\n",
      "(2048, 2592, 2)\n",
      "getting image\n",
      "(2048, 2592, 2)\n"
     ]
    },
    {
     "name": "stderr",
     "output_type": "stream",
     "text": [
      "2019-12-12 06:07:17.246Z moduleTest       20 moduleTest.py:954 1/3 phi forward to 4750\n"
     ]
    },
    {
     "name": "stdout",
     "output_type": "stream",
     "text": [
      "getting image\n",
      "(2048, 2592, 2)\n",
      "getting image\n",
      "(2048, 2592, 2)\n",
      "getting image\n",
      "(2048, 2592, 2)\n",
      "getting image\n",
      "(2048, 2592, 2)\n"
     ]
    },
    {
     "name": "stderr",
     "output_type": "stream",
     "text": [
      "2019-12-12 06:07:19.578Z moduleTest       20 moduleTest.py:954 1/3 phi forward to 5000\n"
     ]
    },
    {
     "name": "stdout",
     "output_type": "stream",
     "text": [
      "getting image\n",
      "(2048, 2592, 2)\n",
      "getting image\n",
      "(2048, 2592, 2)\n",
      "getting image\n",
      "(2048, 2592, 2)\n",
      "getting image\n",
      "(2048, 2592, 2)\n"
     ]
    },
    {
     "name": "stderr",
     "output_type": "stream",
     "text": [
      "2019-12-12 06:07:21.918Z moduleTest       20 moduleTest.py:954 1/3 phi forward to 5250\n"
     ]
    },
    {
     "name": "stdout",
     "output_type": "stream",
     "text": [
      "getting image\n",
      "(2048, 2592, 2)\n",
      "getting image\n",
      "(2048, 2592, 2)\n",
      "getting image\n",
      "(2048, 2592, 2)\n",
      "getting image\n",
      "(2048, 2592, 2)\n"
     ]
    },
    {
     "name": "stderr",
     "output_type": "stream",
     "text": [
      "2019-12-12 06:07:24.252Z moduleTest       20 moduleTest.py:954 1/3 phi forward to 5500\n"
     ]
    },
    {
     "name": "stdout",
     "output_type": "stream",
     "text": [
      "getting image\n",
      "(2048, 2592, 2)\n",
      "getting image\n",
      "(2048, 2592, 2)\n",
      "getting image\n",
      "(2048, 2592, 2)\n",
      "getting image\n",
      "(2048, 2592, 2)\n"
     ]
    },
    {
     "name": "stderr",
     "output_type": "stream",
     "text": [
      "2019-12-12 06:07:26.576Z moduleTest       20 moduleTest.py:954 1/3 phi forward to 5750\n"
     ]
    },
    {
     "name": "stdout",
     "output_type": "stream",
     "text": [
      "getting image\n",
      "(2048, 2592, 2)\n",
      "getting image\n",
      "(2048, 2592, 2)\n",
      "getting image\n",
      "(2048, 2592, 2)\n",
      "getting image\n",
      "(2048, 2592, 2)\n"
     ]
    },
    {
     "name": "stderr",
     "output_type": "stream",
     "text": [
      "2019-12-12 06:07:28.909Z moduleTest       20 moduleTest.py:954 1/3 phi forward to 6000\n"
     ]
    },
    {
     "name": "stdout",
     "output_type": "stream",
     "text": [
      "getting image\n",
      "(2048, 2592, 2)\n",
      "getting image\n",
      "(2048, 2592, 2)\n",
      "getting image\n",
      "(2048, 2592, 2)\n",
      "getting image\n",
      "(2048, 2592, 2)\n"
     ]
    },
    {
     "name": "stderr",
     "output_type": "stream",
     "text": [
      "2019-12-12 06:07:31.271Z moduleTest       20 moduleTest.py:981 1/3 phi forward 6000 to limit\n"
     ]
    },
    {
     "name": "stdout",
     "output_type": "stream",
     "text": [
      "getting image\n",
      "(2048, 2592, 2)\n",
      "getting image\n",
      "(2048, 2592, 2)\n",
      "getting image\n",
      "(2048, 2592, 2)\n",
      "getting image\n",
      "(2048, 2592, 2)\n"
     ]
    },
    {
     "name": "stderr",
     "output_type": "stream",
     "text": [
      "2019-12-12 06:07:47.752Z moduleTest       20 moduleTest.py:991 1/3 phi backward to 250\n"
     ]
    },
    {
     "name": "stdout",
     "output_type": "stream",
     "text": [
      "getting image\n",
      "(2048, 2592, 2)\n",
      "getting image\n",
      "(2048, 2592, 2)\n",
      "getting image\n",
      "(2048, 2592, 2)\n",
      "getting image\n",
      "(2048, 2592, 2)\n"
     ]
    },
    {
     "name": "stderr",
     "output_type": "stream",
     "text": [
      "2019-12-12 06:07:50.110Z moduleTest       20 moduleTest.py:991 1/3 phi backward to 500\n"
     ]
    },
    {
     "name": "stdout",
     "output_type": "stream",
     "text": [
      "getting image\n",
      "(2048, 2592, 2)\n",
      "getting image\n",
      "(2048, 2592, 2)\n",
      "getting image\n",
      "(2048, 2592, 2)\n",
      "getting image\n",
      "(2048, 2592, 2)\n"
     ]
    },
    {
     "name": "stderr",
     "output_type": "stream",
     "text": [
      "2019-12-12 06:07:52.594Z moduleTest       20 moduleTest.py:991 1/3 phi backward to 750\n"
     ]
    },
    {
     "name": "stdout",
     "output_type": "stream",
     "text": [
      "getting image\n",
      "(2048, 2592, 2)\n",
      "getting image\n",
      "(2048, 2592, 2)\n",
      "getting image\n",
      "(2048, 2592, 2)\n",
      "getting image\n",
      "(2048, 2592, 2)\n"
     ]
    },
    {
     "name": "stderr",
     "output_type": "stream",
     "text": [
      "2019-12-12 06:07:54.923Z moduleTest       20 moduleTest.py:991 1/3 phi backward to 1000\n"
     ]
    },
    {
     "name": "stdout",
     "output_type": "stream",
     "text": [
      "getting image\n",
      "(2048, 2592, 2)\n",
      "getting image\n",
      "(2048, 2592, 2)\n",
      "getting image\n",
      "(2048, 2592, 2)\n",
      "getting image\n",
      "(2048, 2592, 2)\n"
     ]
    },
    {
     "name": "stderr",
     "output_type": "stream",
     "text": [
      "2019-12-12 06:07:57.418Z moduleTest       20 moduleTest.py:991 1/3 phi backward to 1250\n"
     ]
    },
    {
     "name": "stdout",
     "output_type": "stream",
     "text": [
      "getting image\n",
      "(2048, 2592, 2)\n",
      "getting image\n",
      "(2048, 2592, 2)\n",
      "getting image\n",
      "(2048, 2592, 2)\n",
      "getting image\n",
      "(2048, 2592, 2)\n"
     ]
    },
    {
     "name": "stderr",
     "output_type": "stream",
     "text": [
      "2019-12-12 06:07:59.764Z moduleTest       20 moduleTest.py:991 1/3 phi backward to 1500\n"
     ]
    },
    {
     "name": "stdout",
     "output_type": "stream",
     "text": [
      "getting image\n",
      "(2048, 2592, 2)\n",
      "getting image\n",
      "(2048, 2592, 2)\n",
      "getting image\n",
      "(2048, 2592, 2)\n",
      "getting image\n",
      "(2048, 2592, 2)\n"
     ]
    },
    {
     "name": "stderr",
     "output_type": "stream",
     "text": [
      "2019-12-12 06:08:02.100Z moduleTest       20 moduleTest.py:991 1/3 phi backward to 1750\n"
     ]
    },
    {
     "name": "stdout",
     "output_type": "stream",
     "text": [
      "getting image\n",
      "(2048, 2592, 2)\n",
      "getting image\n",
      "(2048, 2592, 2)\n",
      "getting image\n",
      "(2048, 2592, 2)\n",
      "getting image\n",
      "(2048, 2592, 2)\n"
     ]
    },
    {
     "name": "stderr",
     "output_type": "stream",
     "text": [
      "2019-12-12 06:08:04.585Z moduleTest       20 moduleTest.py:991 1/3 phi backward to 2000\n"
     ]
    },
    {
     "name": "stdout",
     "output_type": "stream",
     "text": [
      "getting image\n",
      "(2048, 2592, 2)\n",
      "getting image\n",
      "(2048, 2592, 2)\n",
      "getting image\n",
      "(2048, 2592, 2)\n",
      "getting image\n",
      "(2048, 2592, 2)\n"
     ]
    },
    {
     "name": "stderr",
     "output_type": "stream",
     "text": [
      "2019-12-12 06:08:06.905Z moduleTest       20 moduleTest.py:991 1/3 phi backward to 2250\n"
     ]
    },
    {
     "name": "stdout",
     "output_type": "stream",
     "text": [
      "getting image\n",
      "(2048, 2592, 2)\n",
      "getting image\n",
      "(2048, 2592, 2)\n",
      "getting image\n",
      "(2048, 2592, 2)\n",
      "getting image\n",
      "(2048, 2592, 2)\n"
     ]
    },
    {
     "name": "stderr",
     "output_type": "stream",
     "text": [
      "2019-12-12 06:08:09.244Z moduleTest       20 moduleTest.py:991 1/3 phi backward to 2500\n"
     ]
    },
    {
     "name": "stdout",
     "output_type": "stream",
     "text": [
      "getting image\n",
      "(2048, 2592, 2)\n",
      "getting image\n",
      "(2048, 2592, 2)\n",
      "getting image\n",
      "(2048, 2592, 2)\n",
      "getting image\n",
      "(2048, 2592, 2)\n"
     ]
    },
    {
     "name": "stderr",
     "output_type": "stream",
     "text": [
      "2019-12-12 06:08:11.576Z moduleTest       20 moduleTest.py:991 1/3 phi backward to 2750\n"
     ]
    },
    {
     "name": "stdout",
     "output_type": "stream",
     "text": [
      "getting image\n",
      "(2048, 2592, 2)\n",
      "getting image\n",
      "(2048, 2592, 2)\n",
      "getting image\n",
      "(2048, 2592, 2)\n",
      "getting image\n",
      "(2048, 2592, 2)\n"
     ]
    },
    {
     "name": "stderr",
     "output_type": "stream",
     "text": [
      "2019-12-12 06:08:13.921Z moduleTest       20 moduleTest.py:991 1/3 phi backward to 3000\n"
     ]
    },
    {
     "name": "stdout",
     "output_type": "stream",
     "text": [
      "getting image\n",
      "(2048, 2592, 2)\n",
      "getting image\n",
      "(2048, 2592, 2)\n",
      "getting image\n",
      "(2048, 2592, 2)\n",
      "getting image\n",
      "(2048, 2592, 2)\n"
     ]
    },
    {
     "name": "stderr",
     "output_type": "stream",
     "text": [
      "2019-12-12 06:08:16.243Z moduleTest       20 moduleTest.py:991 1/3 phi backward to 3250\n"
     ]
    },
    {
     "name": "stdout",
     "output_type": "stream",
     "text": [
      "getting image\n",
      "(2048, 2592, 2)\n",
      "getting image\n",
      "(2048, 2592, 2)\n",
      "getting image\n",
      "(2048, 2592, 2)\n",
      "getting image\n",
      "(2048, 2592, 2)\n"
     ]
    },
    {
     "name": "stderr",
     "output_type": "stream",
     "text": [
      "2019-12-12 06:08:18.599Z moduleTest       20 moduleTest.py:991 1/3 phi backward to 3500\n"
     ]
    },
    {
     "name": "stdout",
     "output_type": "stream",
     "text": [
      "getting image\n",
      "(2048, 2592, 2)\n",
      "getting image\n",
      "(2048, 2592, 2)\n",
      "getting image\n",
      "(2048, 2592, 2)\n",
      "getting image\n",
      "(2048, 2592, 2)\n"
     ]
    },
    {
     "name": "stderr",
     "output_type": "stream",
     "text": [
      "2019-12-12 06:08:21.088Z moduleTest       20 moduleTest.py:991 1/3 phi backward to 3750\n"
     ]
    },
    {
     "name": "stdout",
     "output_type": "stream",
     "text": [
      "getting image\n",
      "(2048, 2592, 2)\n",
      "getting image\n",
      "(2048, 2592, 2)\n",
      "getting image\n",
      "(2048, 2592, 2)\n",
      "getting image\n",
      "(2048, 2592, 2)\n"
     ]
    },
    {
     "name": "stderr",
     "output_type": "stream",
     "text": [
      "2019-12-12 06:08:23.425Z moduleTest       20 moduleTest.py:991 1/3 phi backward to 4000\n"
     ]
    },
    {
     "name": "stdout",
     "output_type": "stream",
     "text": [
      "getting image\n",
      "(2048, 2592, 2)\n",
      "getting image\n",
      "(2048, 2592, 2)\n",
      "getting image\n",
      "(2048, 2592, 2)\n",
      "getting image\n",
      "(2048, 2592, 2)\n"
     ]
    },
    {
     "name": "stderr",
     "output_type": "stream",
     "text": [
      "2019-12-12 06:08:25.911Z moduleTest       20 moduleTest.py:991 1/3 phi backward to 4250\n"
     ]
    },
    {
     "name": "stdout",
     "output_type": "stream",
     "text": [
      "getting image\n",
      "(2048, 2592, 2)\n",
      "getting image\n",
      "(2048, 2592, 2)\n",
      "getting image\n",
      "(2048, 2592, 2)\n",
      "getting image\n",
      "(2048, 2592, 2)\n"
     ]
    },
    {
     "name": "stderr",
     "output_type": "stream",
     "text": [
      "2019-12-12 06:08:28.265Z moduleTest       20 moduleTest.py:991 1/3 phi backward to 4500\n"
     ]
    },
    {
     "name": "stdout",
     "output_type": "stream",
     "text": [
      "getting image\n",
      "(2048, 2592, 2)\n",
      "getting image\n",
      "(2048, 2592, 2)\n",
      "getting image\n",
      "(2048, 2592, 2)\n",
      "getting image\n",
      "(2048, 2592, 2)\n"
     ]
    },
    {
     "name": "stderr",
     "output_type": "stream",
     "text": [
      "2019-12-12 06:08:30.586Z moduleTest       20 moduleTest.py:991 1/3 phi backward to 4750\n"
     ]
    },
    {
     "name": "stdout",
     "output_type": "stream",
     "text": [
      "getting image\n",
      "(2048, 2592, 2)\n",
      "getting image\n",
      "(2048, 2592, 2)\n",
      "getting image\n",
      "(2048, 2592, 2)\n",
      "getting image\n",
      "(2048, 2592, 2)\n"
     ]
    },
    {
     "name": "stderr",
     "output_type": "stream",
     "text": [
      "2019-12-12 06:08:32.926Z moduleTest       20 moduleTest.py:991 1/3 phi backward to 5000\n"
     ]
    },
    {
     "name": "stdout",
     "output_type": "stream",
     "text": [
      "getting image\n",
      "(2048, 2592, 2)\n",
      "getting image\n",
      "(2048, 2592, 2)\n",
      "getting image\n",
      "(2048, 2592, 2)\n",
      "getting image\n",
      "(2048, 2592, 2)\n"
     ]
    },
    {
     "name": "stderr",
     "output_type": "stream",
     "text": [
      "2019-12-12 06:08:35.258Z moduleTest       20 moduleTest.py:991 1/3 phi backward to 5250\n"
     ]
    },
    {
     "name": "stdout",
     "output_type": "stream",
     "text": [
      "getting image\n",
      "(2048, 2592, 2)\n",
      "getting image\n",
      "(2048, 2592, 2)\n",
      "getting image\n",
      "(2048, 2592, 2)\n",
      "getting image\n",
      "(2048, 2592, 2)\n"
     ]
    },
    {
     "name": "stderr",
     "output_type": "stream",
     "text": [
      "2019-12-12 06:08:37.595Z moduleTest       20 moduleTest.py:991 1/3 phi backward to 5500\n"
     ]
    },
    {
     "name": "stdout",
     "output_type": "stream",
     "text": [
      "getting image\n",
      "(2048, 2592, 2)\n",
      "getting image\n",
      "(2048, 2592, 2)\n",
      "getting image\n",
      "(2048, 2592, 2)\n",
      "getting image\n",
      "(2048, 2592, 2)\n"
     ]
    },
    {
     "name": "stderr",
     "output_type": "stream",
     "text": [
      "2019-12-12 06:08:40.098Z moduleTest       20 moduleTest.py:991 1/3 phi backward to 5750\n"
     ]
    },
    {
     "name": "stdout",
     "output_type": "stream",
     "text": [
      "getting image\n",
      "(2048, 2592, 2)\n",
      "getting image\n",
      "(2048, 2592, 2)\n",
      "getting image\n",
      "(2048, 2592, 2)\n",
      "getting image\n",
      "(2048, 2592, 2)\n"
     ]
    },
    {
     "name": "stderr",
     "output_type": "stream",
     "text": [
      "2019-12-12 06:08:42.420Z moduleTest       20 moduleTest.py:991 1/3 phi backward to 6000\n"
     ]
    },
    {
     "name": "stdout",
     "output_type": "stream",
     "text": [
      "getting image\n",
      "(2048, 2592, 2)\n",
      "getting image\n",
      "(2048, 2592, 2)\n",
      "getting image\n",
      "(2048, 2592, 2)\n",
      "getting image\n",
      "(2048, 2592, 2)\n"
     ]
    },
    {
     "name": "stderr",
     "output_type": "stream",
     "text": [
      "2019-12-12 06:08:44.755Z moduleTest       20 moduleTest.py:1018 1/3 phi reverse -6000 steps to limit\n"
     ]
    },
    {
     "name": "stdout",
     "output_type": "stream",
     "text": [
      "getting image\n",
      "(2048, 2592, 2)\n",
      "getting image\n",
      "(2048, 2592, 2)\n",
      "getting image\n",
      "(2048, 2592, 2)\n",
      "getting image\n",
      "(2048, 2592, 2)\n"
     ]
    },
    {
     "name": "stderr",
     "output_type": "stream",
     "text": [
      "2019-12-12 06:09:01.285Z moduleTest       20 moduleTest.py:954 2/3 phi forward to 250\n"
     ]
    },
    {
     "name": "stdout",
     "output_type": "stream",
     "text": [
      "getting image\n",
      "(2048, 2592, 2)\n",
      "getting image\n",
      "(2048, 2592, 2)\n",
      "getting image\n",
      "(2048, 2592, 2)\n",
      "getting image\n",
      "(2048, 2592, 2)\n"
     ]
    },
    {
     "name": "stderr",
     "output_type": "stream",
     "text": [
      "2019-12-12 06:09:03.785Z moduleTest       20 moduleTest.py:954 2/3 phi forward to 500\n"
     ]
    },
    {
     "name": "stdout",
     "output_type": "stream",
     "text": [
      "getting image\n",
      "(2048, 2592, 2)\n",
      "getting image\n",
      "(2048, 2592, 2)\n",
      "getting image\n",
      "(2048, 2592, 2)\n",
      "getting image\n",
      "(2048, 2592, 2)\n"
     ]
    },
    {
     "name": "stderr",
     "output_type": "stream",
     "text": [
      "2019-12-12 06:09:06.275Z moduleTest       20 moduleTest.py:954 2/3 phi forward to 750\n"
     ]
    },
    {
     "name": "stdout",
     "output_type": "stream",
     "text": [
      "getting image\n",
      "(2048, 2592, 2)\n",
      "getting image\n",
      "(2048, 2592, 2)\n",
      "getting image\n",
      "(2048, 2592, 2)\n",
      "getting image\n",
      "(2048, 2592, 2)\n"
     ]
    },
    {
     "name": "stderr",
     "output_type": "stream",
     "text": [
      "2019-12-12 06:09:08.776Z moduleTest       20 moduleTest.py:954 2/3 phi forward to 1000\n"
     ]
    },
    {
     "name": "stdout",
     "output_type": "stream",
     "text": [
      "getting image\n",
      "(2048, 2592, 2)\n",
      "getting image\n",
      "(2048, 2592, 2)\n",
      "getting image\n",
      "(2048, 2592, 2)\n",
      "getting image\n",
      "(2048, 2592, 2)\n"
     ]
    },
    {
     "name": "stderr",
     "output_type": "stream",
     "text": [
      "2019-12-12 06:09:11.262Z moduleTest       20 moduleTest.py:954 2/3 phi forward to 1250\n"
     ]
    },
    {
     "name": "stdout",
     "output_type": "stream",
     "text": [
      "getting image\n",
      "(2048, 2592, 2)\n",
      "getting image\n",
      "(2048, 2592, 2)\n",
      "getting image\n",
      "(2048, 2592, 2)\n",
      "getting image\n",
      "(2048, 2592, 2)\n"
     ]
    },
    {
     "name": "stderr",
     "output_type": "stream",
     "text": [
      "2019-12-12 06:09:13.611Z moduleTest       20 moduleTest.py:954 2/3 phi forward to 1500\n"
     ]
    },
    {
     "name": "stdout",
     "output_type": "stream",
     "text": [
      "getting image\n",
      "(2048, 2592, 2)\n",
      "getting image\n",
      "(2048, 2592, 2)\n",
      "getting image\n",
      "(2048, 2592, 2)\n",
      "getting image\n",
      "(2048, 2592, 2)\n"
     ]
    },
    {
     "name": "stderr",
     "output_type": "stream",
     "text": [
      "2019-12-12 06:09:16.114Z moduleTest       20 moduleTest.py:954 2/3 phi forward to 1750\n"
     ]
    },
    {
     "name": "stdout",
     "output_type": "stream",
     "text": [
      "getting image\n",
      "(2048, 2592, 2)\n",
      "getting image\n",
      "(2048, 2592, 2)\n",
      "getting image\n",
      "(2048, 2592, 2)\n",
      "getting image\n",
      "(2048, 2592, 2)\n"
     ]
    },
    {
     "name": "stderr",
     "output_type": "stream",
     "text": [
      "2019-12-12 06:09:18.640Z moduleTest       20 moduleTest.py:954 2/3 phi forward to 2000\n"
     ]
    },
    {
     "name": "stdout",
     "output_type": "stream",
     "text": [
      "getting image\n",
      "(2048, 2592, 2)\n",
      "getting image\n",
      "(2048, 2592, 2)\n",
      "getting image\n",
      "(2048, 2592, 2)\n",
      "getting image\n",
      "(2048, 2592, 2)\n"
     ]
    },
    {
     "name": "stderr",
     "output_type": "stream",
     "text": [
      "2019-12-12 06:09:21.101Z moduleTest       20 moduleTest.py:954 2/3 phi forward to 2250\n"
     ]
    },
    {
     "name": "stdout",
     "output_type": "stream",
     "text": [
      "getting image\n",
      "(2048, 2592, 2)\n",
      "getting image\n",
      "(2048, 2592, 2)\n",
      "getting image\n",
      "(2048, 2592, 2)\n",
      "getting image\n",
      "(2048, 2592, 2)\n"
     ]
    },
    {
     "name": "stderr",
     "output_type": "stream",
     "text": [
      "2019-12-12 06:09:23.601Z moduleTest       20 moduleTest.py:954 2/3 phi forward to 2500\n"
     ]
    },
    {
     "name": "stdout",
     "output_type": "stream",
     "text": [
      "getting image\n",
      "(2048, 2592, 2)\n",
      "getting image\n",
      "(2048, 2592, 2)\n",
      "getting image\n",
      "(2048, 2592, 2)\n",
      "getting image\n",
      "(2048, 2592, 2)\n"
     ]
    },
    {
     "name": "stderr",
     "output_type": "stream",
     "text": [
      "2019-12-12 06:09:25.953Z moduleTest       20 moduleTest.py:954 2/3 phi forward to 2750\n"
     ]
    },
    {
     "name": "stdout",
     "output_type": "stream",
     "text": [
      "getting image\n",
      "(2048, 2592, 2)\n",
      "getting image\n",
      "(2048, 2592, 2)\n",
      "getting image\n",
      "(2048, 2592, 2)\n",
      "getting image\n",
      "(2048, 2592, 2)\n"
     ]
    },
    {
     "name": "stderr",
     "output_type": "stream",
     "text": [
      "2019-12-12 06:09:28.434Z moduleTest       20 moduleTest.py:954 2/3 phi forward to 3000\n"
     ]
    },
    {
     "name": "stdout",
     "output_type": "stream",
     "text": [
      "getting image\n",
      "(2048, 2592, 2)\n",
      "getting image\n",
      "(2048, 2592, 2)\n",
      "getting image\n",
      "(2048, 2592, 2)\n",
      "getting image\n",
      "(2048, 2592, 2)\n"
     ]
    },
    {
     "name": "stderr",
     "output_type": "stream",
     "text": [
      "2019-12-12 06:09:30.944Z moduleTest       20 moduleTest.py:954 2/3 phi forward to 3250\n"
     ]
    },
    {
     "name": "stdout",
     "output_type": "stream",
     "text": [
      "getting image\n",
      "(2048, 2592, 2)\n",
      "getting image\n",
      "(2048, 2592, 2)\n",
      "getting image\n",
      "(2048, 2592, 2)\n",
      "getting image\n",
      "(2048, 2592, 2)\n"
     ]
    },
    {
     "name": "stderr",
     "output_type": "stream",
     "text": [
      "2019-12-12 06:09:33.451Z moduleTest       20 moduleTest.py:954 2/3 phi forward to 3500\n"
     ]
    },
    {
     "name": "stdout",
     "output_type": "stream",
     "text": [
      "getting image\n",
      "(2048, 2592, 2)\n",
      "getting image\n",
      "(2048, 2592, 2)\n",
      "getting image\n",
      "(2048, 2592, 2)\n",
      "getting image\n",
      "(2048, 2592, 2)\n"
     ]
    },
    {
     "name": "stderr",
     "output_type": "stream",
     "text": [
      "2019-12-12 06:09:35.956Z moduleTest       20 moduleTest.py:954 2/3 phi forward to 3750\n"
     ]
    },
    {
     "name": "stdout",
     "output_type": "stream",
     "text": [
      "getting image\n",
      "(2048, 2592, 2)\n",
      "getting image\n",
      "(2048, 2592, 2)\n",
      "getting image\n",
      "(2048, 2592, 2)\n",
      "getting image\n",
      "(2048, 2592, 2)\n"
     ]
    },
    {
     "name": "stderr",
     "output_type": "stream",
     "text": [
      "2019-12-12 06:09:38.441Z moduleTest       20 moduleTest.py:954 2/3 phi forward to 4000\n"
     ]
    },
    {
     "name": "stdout",
     "output_type": "stream",
     "text": [
      "getting image\n",
      "(2048, 2592, 2)\n",
      "getting image\n",
      "(2048, 2592, 2)\n",
      "getting image\n",
      "(2048, 2592, 2)\n",
      "getting image\n",
      "(2048, 2592, 2)\n"
     ]
    },
    {
     "name": "stderr",
     "output_type": "stream",
     "text": [
      "2019-12-12 06:09:40.943Z moduleTest       20 moduleTest.py:954 2/3 phi forward to 4250\n"
     ]
    },
    {
     "name": "stdout",
     "output_type": "stream",
     "text": [
      "getting image\n",
      "(2048, 2592, 2)\n",
      "getting image\n",
      "(2048, 2592, 2)\n",
      "getting image\n",
      "(2048, 2592, 2)\n",
      "getting image\n",
      "(2048, 2592, 2)\n"
     ]
    },
    {
     "name": "stderr",
     "output_type": "stream",
     "text": [
      "2019-12-12 06:09:43.453Z moduleTest       20 moduleTest.py:954 2/3 phi forward to 4500\n"
     ]
    },
    {
     "name": "stdout",
     "output_type": "stream",
     "text": [
      "getting image\n",
      "(2048, 2592, 2)\n",
      "getting image\n",
      "(2048, 2592, 2)\n",
      "getting image\n",
      "(2048, 2592, 2)\n",
      "getting image\n",
      "(2048, 2592, 2)\n"
     ]
    },
    {
     "name": "stderr",
     "output_type": "stream",
     "text": [
      "2019-12-12 06:09:45.957Z moduleTest       20 moduleTest.py:954 2/3 phi forward to 4750\n"
     ]
    },
    {
     "name": "stdout",
     "output_type": "stream",
     "text": [
      "getting image\n",
      "(2048, 2592, 2)\n",
      "getting image\n",
      "(2048, 2592, 2)\n",
      "getting image\n",
      "(2048, 2592, 2)\n",
      "getting image\n",
      "(2048, 2592, 2)\n"
     ]
    },
    {
     "name": "stderr",
     "output_type": "stream",
     "text": [
      "2019-12-12 06:09:48.452Z moduleTest       20 moduleTest.py:954 2/3 phi forward to 5000\n"
     ]
    },
    {
     "name": "stdout",
     "output_type": "stream",
     "text": [
      "getting image\n",
      "(2048, 2592, 2)\n",
      "getting image\n",
      "(2048, 2592, 2)\n",
      "getting image\n",
      "(2048, 2592, 2)\n",
      "getting image\n",
      "(2048, 2592, 2)\n"
     ]
    },
    {
     "name": "stderr",
     "output_type": "stream",
     "text": [
      "2019-12-12 06:09:50.943Z moduleTest       20 moduleTest.py:954 2/3 phi forward to 5250\n"
     ]
    },
    {
     "name": "stdout",
     "output_type": "stream",
     "text": [
      "getting image\n",
      "(2048, 2592, 2)\n",
      "getting image\n",
      "(2048, 2592, 2)\n",
      "getting image\n",
      "(2048, 2592, 2)\n",
      "getting image\n",
      "(2048, 2592, 2)\n"
     ]
    },
    {
     "name": "stderr",
     "output_type": "stream",
     "text": [
      "2019-12-12 06:09:53.619Z moduleTest       20 moduleTest.py:954 2/3 phi forward to 5500\n"
     ]
    },
    {
     "name": "stdout",
     "output_type": "stream",
     "text": [
      "getting image\n",
      "(2048, 2592, 2)\n",
      "getting image\n",
      "(2048, 2592, 2)\n",
      "getting image\n",
      "(2048, 2592, 2)\n",
      "getting image\n",
      "(2048, 2592, 2)\n"
     ]
    },
    {
     "name": "stderr",
     "output_type": "stream",
     "text": [
      "2019-12-12 06:09:56.148Z moduleTest       20 moduleTest.py:954 2/3 phi forward to 5750\n"
     ]
    },
    {
     "name": "stdout",
     "output_type": "stream",
     "text": [
      "getting image\n",
      "(2048, 2592, 2)\n",
      "getting image\n",
      "(2048, 2592, 2)\n",
      "getting image\n",
      "(2048, 2592, 2)\n",
      "getting image\n",
      "(2048, 2592, 2)\n"
     ]
    },
    {
     "name": "stderr",
     "output_type": "stream",
     "text": [
      "2019-12-12 06:09:58.638Z moduleTest       20 moduleTest.py:954 2/3 phi forward to 6000\n"
     ]
    },
    {
     "name": "stdout",
     "output_type": "stream",
     "text": [
      "getting image\n",
      "(2048, 2592, 2)\n",
      "getting image\n",
      "(2048, 2592, 2)\n",
      "getting image\n",
      "(2048, 2592, 2)\n",
      "getting image\n",
      "(2048, 2592, 2)\n"
     ]
    },
    {
     "name": "stderr",
     "output_type": "stream",
     "text": [
      "2019-12-12 06:10:01.211Z moduleTest       20 moduleTest.py:981 2/3 phi forward 6000 to limit\n"
     ]
    },
    {
     "name": "stdout",
     "output_type": "stream",
     "text": [
      "getting image\n",
      "(2048, 2592, 2)\n",
      "getting image\n",
      "(2048, 2592, 2)\n",
      "getting image\n",
      "(2048, 2592, 2)\n",
      "getting image\n",
      "(2048, 2592, 2)\n"
     ]
    },
    {
     "name": "stderr",
     "output_type": "stream",
     "text": [
      "2019-12-12 06:10:17.643Z moduleTest       20 moduleTest.py:991 2/3 phi backward to 250\n"
     ]
    },
    {
     "name": "stdout",
     "output_type": "stream",
     "text": [
      "getting image\n",
      "(2048, 2592, 2)\n",
      "getting image\n",
      "(2048, 2592, 2)\n",
      "getting image\n",
      "(2048, 2592, 2)\n",
      "getting image\n",
      "(2048, 2592, 2)\n"
     ]
    },
    {
     "name": "stderr",
     "output_type": "stream",
     "text": [
      "2019-12-12 06:10:20.134Z moduleTest       20 moduleTest.py:991 2/3 phi backward to 500\n"
     ]
    },
    {
     "name": "stdout",
     "output_type": "stream",
     "text": [
      "getting image\n",
      "(2048, 2592, 2)\n",
      "getting image\n",
      "(2048, 2592, 2)\n",
      "getting image\n",
      "(2048, 2592, 2)\n",
      "getting image\n",
      "(2048, 2592, 2)\n"
     ]
    },
    {
     "name": "stderr",
     "output_type": "stream",
     "text": [
      "2019-12-12 06:10:22.613Z moduleTest       20 moduleTest.py:991 2/3 phi backward to 750\n"
     ]
    },
    {
     "name": "stdout",
     "output_type": "stream",
     "text": [
      "getting image\n",
      "(2048, 2592, 2)\n",
      "getting image\n",
      "(2048, 2592, 2)\n",
      "getting image\n",
      "(2048, 2592, 2)\n",
      "getting image\n",
      "(2048, 2592, 2)\n"
     ]
    },
    {
     "name": "stderr",
     "output_type": "stream",
     "text": [
      "2019-12-12 06:10:25.238Z moduleTest       20 moduleTest.py:991 2/3 phi backward to 1000\n"
     ]
    },
    {
     "name": "stdout",
     "output_type": "stream",
     "text": [
      "getting image\n",
      "(2048, 2592, 2)\n",
      "getting image\n",
      "(2048, 2592, 2)\n",
      "getting image\n",
      "(2048, 2592, 2)\n",
      "getting image\n",
      "(2048, 2592, 2)\n"
     ]
    },
    {
     "name": "stderr",
     "output_type": "stream",
     "text": [
      "2019-12-12 06:10:27.651Z moduleTest       20 moduleTest.py:991 2/3 phi backward to 1250\n"
     ]
    },
    {
     "name": "stdout",
     "output_type": "stream",
     "text": [
      "getting image\n",
      "(2048, 2592, 2)\n",
      "getting image\n",
      "(2048, 2592, 2)\n",
      "getting image\n",
      "(2048, 2592, 2)\n",
      "getting image\n",
      "(2048, 2592, 2)\n"
     ]
    },
    {
     "name": "stderr",
     "output_type": "stream",
     "text": [
      "2019-12-12 06:10:30.126Z moduleTest       20 moduleTest.py:991 2/3 phi backward to 1500\n"
     ]
    },
    {
     "name": "stdout",
     "output_type": "stream",
     "text": [
      "getting image\n",
      "(2048, 2592, 2)\n",
      "getting image\n",
      "(2048, 2592, 2)\n",
      "getting image\n",
      "(2048, 2592, 2)\n",
      "getting image\n",
      "(2048, 2592, 2)\n"
     ]
    },
    {
     "name": "stderr",
     "output_type": "stream",
     "text": [
      "2019-12-12 06:10:32.639Z moduleTest       20 moduleTest.py:991 2/3 phi backward to 1750\n"
     ]
    },
    {
     "name": "stdout",
     "output_type": "stream",
     "text": [
      "getting image\n",
      "(2048, 2592, 2)\n",
      "getting image\n",
      "(2048, 2592, 2)\n",
      "getting image\n",
      "(2048, 2592, 2)\n",
      "getting image\n",
      "(2048, 2592, 2)\n"
     ]
    },
    {
     "name": "stderr",
     "output_type": "stream",
     "text": [
      "2019-12-12 06:10:35.131Z moduleTest       20 moduleTest.py:991 2/3 phi backward to 2000\n"
     ]
    },
    {
     "name": "stdout",
     "output_type": "stream",
     "text": [
      "getting image\n",
      "(2048, 2592, 2)\n",
      "getting image\n",
      "(2048, 2592, 2)\n",
      "getting image\n",
      "(2048, 2592, 2)\n",
      "getting image\n",
      "(2048, 2592, 2)\n"
     ]
    },
    {
     "name": "stderr",
     "output_type": "stream",
     "text": [
      "2019-12-12 06:10:37.637Z moduleTest       20 moduleTest.py:991 2/3 phi backward to 2250\n"
     ]
    },
    {
     "name": "stdout",
     "output_type": "stream",
     "text": [
      "getting image\n",
      "(2048, 2592, 2)\n",
      "getting image\n",
      "(2048, 2592, 2)\n",
      "getting image\n",
      "(2048, 2592, 2)\n",
      "getting image\n",
      "(2048, 2592, 2)\n"
     ]
    },
    {
     "name": "stderr",
     "output_type": "stream",
     "text": [
      "2019-12-12 06:10:40.148Z moduleTest       20 moduleTest.py:991 2/3 phi backward to 2500\n"
     ]
    },
    {
     "name": "stdout",
     "output_type": "stream",
     "text": [
      "getting image\n",
      "(2048, 2592, 2)\n",
      "getting image\n",
      "(2048, 2592, 2)\n",
      "getting image\n",
      "(2048, 2592, 2)\n",
      "getting image\n",
      "(2048, 2592, 2)\n"
     ]
    },
    {
     "name": "stderr",
     "output_type": "stream",
     "text": [
      "2019-12-12 06:10:42.667Z moduleTest       20 moduleTest.py:991 2/3 phi backward to 2750\n"
     ]
    },
    {
     "name": "stdout",
     "output_type": "stream",
     "text": [
      "getting image\n",
      "(2048, 2592, 2)\n",
      "getting image\n",
      "(2048, 2592, 2)\n",
      "getting image\n",
      "(2048, 2592, 2)\n",
      "getting image\n",
      "(2048, 2592, 2)\n"
     ]
    },
    {
     "name": "stderr",
     "output_type": "stream",
     "text": [
      "2019-12-12 06:10:45.135Z moduleTest       20 moduleTest.py:991 2/3 phi backward to 3000\n"
     ]
    },
    {
     "name": "stdout",
     "output_type": "stream",
     "text": [
      "getting image\n",
      "(2048, 2592, 2)\n",
      "getting image\n",
      "(2048, 2592, 2)\n",
      "getting image\n",
      "(2048, 2592, 2)\n",
      "getting image\n",
      "(2048, 2592, 2)\n"
     ]
    },
    {
     "name": "stderr",
     "output_type": "stream",
     "text": [
      "2019-12-12 06:10:47.657Z moduleTest       20 moduleTest.py:991 2/3 phi backward to 3250\n"
     ]
    },
    {
     "name": "stdout",
     "output_type": "stream",
     "text": [
      "getting image\n",
      "(2048, 2592, 2)\n",
      "getting image\n",
      "(2048, 2592, 2)\n",
      "getting image\n",
      "(2048, 2592, 2)\n",
      "getting image\n",
      "(2048, 2592, 2)\n"
     ]
    },
    {
     "name": "stderr",
     "output_type": "stream",
     "text": [
      "2019-12-12 06:10:50.142Z moduleTest       20 moduleTest.py:991 2/3 phi backward to 3500\n"
     ]
    },
    {
     "name": "stdout",
     "output_type": "stream",
     "text": [
      "getting image\n",
      "(2048, 2592, 2)\n",
      "getting image\n",
      "(2048, 2592, 2)\n",
      "getting image\n",
      "(2048, 2592, 2)\n",
      "getting image\n",
      "(2048, 2592, 2)\n"
     ]
    },
    {
     "name": "stderr",
     "output_type": "stream",
     "text": [
      "2019-12-12 06:10:52.638Z moduleTest       20 moduleTest.py:991 2/3 phi backward to 3750\n"
     ]
    },
    {
     "name": "stdout",
     "output_type": "stream",
     "text": [
      "getting image\n",
      "(2048, 2592, 2)\n",
      "getting image\n",
      "(2048, 2592, 2)\n",
      "getting image\n",
      "(2048, 2592, 2)\n",
      "getting image\n",
      "(2048, 2592, 2)\n"
     ]
    },
    {
     "name": "stderr",
     "output_type": "stream",
     "text": [
      "2019-12-12 06:10:55.141Z moduleTest       20 moduleTest.py:991 2/3 phi backward to 4000\n"
     ]
    },
    {
     "name": "stdout",
     "output_type": "stream",
     "text": [
      "getting image\n",
      "(2048, 2592, 2)\n",
      "getting image\n",
      "(2048, 2592, 2)\n",
      "getting image\n",
      "(2048, 2592, 2)\n",
      "getting image\n",
      "(2048, 2592, 2)\n"
     ]
    },
    {
     "name": "stderr",
     "output_type": "stream",
     "text": [
      "2019-12-12 06:10:57.643Z moduleTest       20 moduleTest.py:991 2/3 phi backward to 4250\n"
     ]
    },
    {
     "name": "stdout",
     "output_type": "stream",
     "text": [
      "getting image\n",
      "(2048, 2592, 2)\n",
      "getting image\n",
      "(2048, 2592, 2)\n",
      "getting image\n",
      "(2048, 2592, 2)\n",
      "getting image\n",
      "(2048, 2592, 2)\n"
     ]
    },
    {
     "name": "stderr",
     "output_type": "stream",
     "text": [
      "2019-12-12 06:11:00.156Z moduleTest       20 moduleTest.py:991 2/3 phi backward to 4500\n"
     ]
    },
    {
     "name": "stdout",
     "output_type": "stream",
     "text": [
      "getting image\n",
      "(2048, 2592, 2)\n",
      "getting image\n",
      "(2048, 2592, 2)\n",
      "getting image\n",
      "(2048, 2592, 2)\n",
      "getting image\n",
      "(2048, 2592, 2)\n"
     ]
    },
    {
     "name": "stderr",
     "output_type": "stream",
     "text": [
      "2019-12-12 06:11:02.663Z moduleTest       20 moduleTest.py:991 2/3 phi backward to 4750\n"
     ]
    },
    {
     "name": "stdout",
     "output_type": "stream",
     "text": [
      "getting image\n",
      "(2048, 2592, 2)\n",
      "getting image\n",
      "(2048, 2592, 2)\n",
      "getting image\n",
      "(2048, 2592, 2)\n",
      "getting image\n",
      "(2048, 2592, 2)\n"
     ]
    },
    {
     "name": "stderr",
     "output_type": "stream",
     "text": [
      "2019-12-12 06:11:05.137Z moduleTest       20 moduleTest.py:991 2/3 phi backward to 5000\n"
     ]
    },
    {
     "name": "stdout",
     "output_type": "stream",
     "text": [
      "getting image\n",
      "(2048, 2592, 2)\n",
      "getting image\n",
      "(2048, 2592, 2)\n",
      "getting image\n",
      "(2048, 2592, 2)\n",
      "getting image\n",
      "(2048, 2592, 2)\n"
     ]
    },
    {
     "name": "stderr",
     "output_type": "stream",
     "text": [
      "2019-12-12 06:11:07.655Z moduleTest       20 moduleTest.py:991 2/3 phi backward to 5250\n"
     ]
    },
    {
     "name": "stdout",
     "output_type": "stream",
     "text": [
      "getting image\n",
      "(2048, 2592, 2)\n",
      "getting image\n",
      "(2048, 2592, 2)\n",
      "getting image\n",
      "(2048, 2592, 2)\n",
      "getting image\n",
      "(2048, 2592, 2)\n"
     ]
    },
    {
     "name": "stderr",
     "output_type": "stream",
     "text": [
      "2019-12-12 06:11:10.153Z moduleTest       20 moduleTest.py:991 2/3 phi backward to 5500\n"
     ]
    },
    {
     "name": "stdout",
     "output_type": "stream",
     "text": [
      "getting image\n",
      "(2048, 2592, 2)\n",
      "getting image\n",
      "(2048, 2592, 2)\n",
      "getting image\n",
      "(2048, 2592, 2)\n",
      "getting image\n",
      "(2048, 2592, 2)\n"
     ]
    },
    {
     "name": "stderr",
     "output_type": "stream",
     "text": [
      "2019-12-12 06:11:12.645Z moduleTest       20 moduleTest.py:991 2/3 phi backward to 5750\n"
     ]
    },
    {
     "name": "stdout",
     "output_type": "stream",
     "text": [
      "getting image\n",
      "(2048, 2592, 2)\n",
      "getting image\n",
      "(2048, 2592, 2)\n",
      "getting image\n",
      "(2048, 2592, 2)\n",
      "getting image\n",
      "(2048, 2592, 2)\n"
     ]
    },
    {
     "name": "stderr",
     "output_type": "stream",
     "text": [
      "2019-12-12 06:11:15.148Z moduleTest       20 moduleTest.py:991 2/3 phi backward to 6000\n"
     ]
    },
    {
     "name": "stdout",
     "output_type": "stream",
     "text": [
      "getting image\n",
      "(2048, 2592, 2)\n",
      "getting image\n",
      "(2048, 2592, 2)\n",
      "getting image\n",
      "(2048, 2592, 2)\n",
      "getting image\n",
      "(2048, 2592, 2)\n"
     ]
    },
    {
     "name": "stderr",
     "output_type": "stream",
     "text": [
      "2019-12-12 06:11:17.652Z moduleTest       20 moduleTest.py:1018 2/3 phi reverse -6000 steps to limit\n"
     ]
    },
    {
     "name": "stdout",
     "output_type": "stream",
     "text": [
      "getting image\n",
      "(2048, 2592, 2)\n",
      "getting image\n",
      "(2048, 2592, 2)\n",
      "getting image\n",
      "(2048, 2592, 2)\n",
      "getting image\n",
      "(2048, 2592, 2)\n"
     ]
    },
    {
     "name": "stderr",
     "output_type": "stream",
     "text": [
      "2019-12-12 06:11:34.182Z moduleTest       20 moduleTest.py:954 3/3 phi forward to 250\n"
     ]
    },
    {
     "name": "stdout",
     "output_type": "stream",
     "text": [
      "getting image\n",
      "(2048, 2592, 2)\n",
      "getting image\n",
      "(2048, 2592, 2)\n",
      "getting image\n",
      "(2048, 2592, 2)\n",
      "getting image\n",
      "(2048, 2592, 2)\n"
     ]
    },
    {
     "name": "stderr",
     "output_type": "stream",
     "text": [
      "2019-12-12 06:11:36.660Z moduleTest       20 moduleTest.py:954 3/3 phi forward to 500\n"
     ]
    },
    {
     "name": "stdout",
     "output_type": "stream",
     "text": [
      "getting image\n",
      "(2048, 2592, 2)\n",
      "getting image\n",
      "(2048, 2592, 2)\n",
      "getting image\n",
      "(2048, 2592, 2)\n",
      "getting image\n",
      "(2048, 2592, 2)\n"
     ]
    },
    {
     "name": "stderr",
     "output_type": "stream",
     "text": [
      "2019-12-12 06:11:39.167Z moduleTest       20 moduleTest.py:954 3/3 phi forward to 750\n"
     ]
    },
    {
     "name": "stdout",
     "output_type": "stream",
     "text": [
      "getting image\n",
      "(2048, 2592, 2)\n",
      "getting image\n",
      "(2048, 2592, 2)\n",
      "getting image\n",
      "(2048, 2592, 2)\n",
      "getting image\n",
      "(2048, 2592, 2)\n"
     ]
    },
    {
     "name": "stderr",
     "output_type": "stream",
     "text": [
      "2019-12-12 06:11:41.684Z moduleTest       20 moduleTest.py:954 3/3 phi forward to 1000\n"
     ]
    },
    {
     "name": "stdout",
     "output_type": "stream",
     "text": [
      "getting image\n",
      "(2048, 2592, 2)\n",
      "getting image\n",
      "(2048, 2592, 2)\n",
      "getting image\n",
      "(2048, 2592, 2)\n",
      "getting image\n",
      "(2048, 2592, 2)\n"
     ]
    },
    {
     "name": "stderr",
     "output_type": "stream",
     "text": [
      "2019-12-12 06:11:44.162Z moduleTest       20 moduleTest.py:954 3/3 phi forward to 1250\n"
     ]
    },
    {
     "name": "stdout",
     "output_type": "stream",
     "text": [
      "getting image\n",
      "(2048, 2592, 2)\n",
      "getting image\n",
      "(2048, 2592, 2)\n",
      "getting image\n",
      "(2048, 2592, 2)\n",
      "getting image\n",
      "(2048, 2592, 2)\n"
     ]
    },
    {
     "name": "stderr",
     "output_type": "stream",
     "text": [
      "2019-12-12 06:11:46.659Z moduleTest       20 moduleTest.py:954 3/3 phi forward to 1500\n"
     ]
    },
    {
     "name": "stdout",
     "output_type": "stream",
     "text": [
      "getting image\n",
      "(2048, 2592, 2)\n",
      "getting image\n",
      "(2048, 2592, 2)\n",
      "getting image\n",
      "(2048, 2592, 2)\n",
      "getting image\n",
      "(2048, 2592, 2)\n"
     ]
    },
    {
     "name": "stderr",
     "output_type": "stream",
     "text": [
      "2019-12-12 06:11:49.164Z moduleTest       20 moduleTest.py:954 3/3 phi forward to 1750\n"
     ]
    },
    {
     "name": "stdout",
     "output_type": "stream",
     "text": [
      "getting image\n",
      "(2048, 2592, 2)\n",
      "getting image\n",
      "(2048, 2592, 2)\n",
      "getting image\n",
      "(2048, 2592, 2)\n",
      "getting image\n",
      "(2048, 2592, 2)\n"
     ]
    },
    {
     "name": "stderr",
     "output_type": "stream",
     "text": [
      "2019-12-12 06:11:51.656Z moduleTest       20 moduleTest.py:954 3/3 phi forward to 2000\n"
     ]
    },
    {
     "name": "stdout",
     "output_type": "stream",
     "text": [
      "getting image\n",
      "(2048, 2592, 2)\n",
      "getting image\n",
      "(2048, 2592, 2)\n",
      "getting image\n",
      "(2048, 2592, 2)\n",
      "getting image\n",
      "(2048, 2592, 2)\n"
     ]
    },
    {
     "name": "stderr",
     "output_type": "stream",
     "text": [
      "2019-12-12 06:11:54.152Z moduleTest       20 moduleTest.py:954 3/3 phi forward to 2250\n"
     ]
    },
    {
     "name": "stdout",
     "output_type": "stream",
     "text": [
      "getting image\n",
      "(2048, 2592, 2)\n",
      "getting image\n",
      "(2048, 2592, 2)\n",
      "getting image\n",
      "(2048, 2592, 2)\n",
      "getting image\n",
      "(2048, 2592, 2)\n"
     ]
    },
    {
     "name": "stderr",
     "output_type": "stream",
     "text": [
      "2019-12-12 06:11:56.688Z moduleTest       20 moduleTest.py:954 3/3 phi forward to 2500\n"
     ]
    },
    {
     "name": "stdout",
     "output_type": "stream",
     "text": [
      "getting image\n",
      "(2048, 2592, 2)\n",
      "getting image\n",
      "(2048, 2592, 2)\n",
      "getting image\n",
      "(2048, 2592, 2)\n",
      "getting image\n",
      "(2048, 2592, 2)\n"
     ]
    },
    {
     "name": "stderr",
     "output_type": "stream",
     "text": [
      "2019-12-12 06:11:59.174Z moduleTest       20 moduleTest.py:954 3/3 phi forward to 2750\n"
     ]
    },
    {
     "name": "stdout",
     "output_type": "stream",
     "text": [
      "getting image\n",
      "(2048, 2592, 2)\n",
      "getting image\n",
      "(2048, 2592, 2)\n",
      "getting image\n",
      "(2048, 2592, 2)\n",
      "getting image\n",
      "(2048, 2592, 2)\n"
     ]
    },
    {
     "name": "stderr",
     "output_type": "stream",
     "text": [
      "2019-12-12 06:12:01.698Z moduleTest       20 moduleTest.py:954 3/3 phi forward to 3000\n"
     ]
    },
    {
     "name": "stdout",
     "output_type": "stream",
     "text": [
      "getting image\n",
      "(2048, 2592, 2)\n",
      "getting image\n",
      "(2048, 2592, 2)\n",
      "getting image\n",
      "(2048, 2592, 2)\n",
      "getting image\n",
      "(2048, 2592, 2)\n"
     ]
    },
    {
     "name": "stderr",
     "output_type": "stream",
     "text": [
      "2019-12-12 06:12:04.166Z moduleTest       20 moduleTest.py:954 3/3 phi forward to 3250\n"
     ]
    },
    {
     "name": "stdout",
     "output_type": "stream",
     "text": [
      "getting image\n",
      "(2048, 2592, 2)\n",
      "getting image\n",
      "(2048, 2592, 2)\n",
      "getting image\n",
      "(2048, 2592, 2)\n",
      "getting image\n",
      "(2048, 2592, 2)\n"
     ]
    },
    {
     "name": "stderr",
     "output_type": "stream",
     "text": [
      "2019-12-12 06:12:06.675Z moduleTest       20 moduleTest.py:954 3/3 phi forward to 3500\n"
     ]
    },
    {
     "name": "stdout",
     "output_type": "stream",
     "text": [
      "getting image\n",
      "(2048, 2592, 2)\n",
      "getting image\n",
      "(2048, 2592, 2)\n",
      "getting image\n",
      "(2048, 2592, 2)\n",
      "getting image\n",
      "(2048, 2592, 2)\n"
     ]
    },
    {
     "name": "stderr",
     "output_type": "stream",
     "text": [
      "2019-12-12 06:12:09.182Z moduleTest       20 moduleTest.py:954 3/3 phi forward to 3750\n"
     ]
    },
    {
     "name": "stdout",
     "output_type": "stream",
     "text": [
      "getting image\n",
      "(2048, 2592, 2)\n",
      "getting image\n",
      "(2048, 2592, 2)\n",
      "getting image\n",
      "(2048, 2592, 2)\n",
      "getting image\n",
      "(2048, 2592, 2)\n"
     ]
    },
    {
     "name": "stderr",
     "output_type": "stream",
     "text": [
      "2019-12-12 06:12:11.662Z moduleTest       20 moduleTest.py:954 3/3 phi forward to 4000\n"
     ]
    },
    {
     "name": "stdout",
     "output_type": "stream",
     "text": [
      "getting image\n",
      "(2048, 2592, 2)\n",
      "getting image\n",
      "(2048, 2592, 2)\n",
      "getting image\n",
      "(2048, 2592, 2)\n",
      "getting image\n",
      "(2048, 2592, 2)\n"
     ]
    },
    {
     "name": "stderr",
     "output_type": "stream",
     "text": [
      "2019-12-12 06:12:14.187Z moduleTest       20 moduleTest.py:954 3/3 phi forward to 4250\n"
     ]
    },
    {
     "name": "stdout",
     "output_type": "stream",
     "text": [
      "getting image\n",
      "(2048, 2592, 2)\n",
      "getting image\n",
      "(2048, 2592, 2)\n",
      "getting image\n",
      "(2048, 2592, 2)\n",
      "getting image\n",
      "(2048, 2592, 2)\n"
     ]
    },
    {
     "name": "stderr",
     "output_type": "stream",
     "text": [
      "2019-12-12 06:12:16.704Z moduleTest       20 moduleTest.py:954 3/3 phi forward to 4500\n"
     ]
    },
    {
     "name": "stdout",
     "output_type": "stream",
     "text": [
      "getting image\n",
      "(2048, 2592, 2)\n",
      "getting image\n",
      "(2048, 2592, 2)\n",
      "getting image\n",
      "(2048, 2592, 2)\n",
      "getting image\n",
      "(2048, 2592, 2)\n"
     ]
    },
    {
     "name": "stderr",
     "output_type": "stream",
     "text": [
      "2019-12-12 06:12:19.206Z moduleTest       20 moduleTest.py:954 3/3 phi forward to 4750\n"
     ]
    },
    {
     "name": "stdout",
     "output_type": "stream",
     "text": [
      "getting image\n",
      "(2048, 2592, 2)\n",
      "getting image\n",
      "(2048, 2592, 2)\n",
      "getting image\n",
      "(2048, 2592, 2)\n",
      "getting image\n",
      "(2048, 2592, 2)\n"
     ]
    },
    {
     "name": "stderr",
     "output_type": "stream",
     "text": [
      "2019-12-12 06:12:21.851Z moduleTest       20 moduleTest.py:954 3/3 phi forward to 5000\n"
     ]
    },
    {
     "name": "stdout",
     "output_type": "stream",
     "text": [
      "getting image\n",
      "(2048, 2592, 2)\n",
      "getting image\n",
      "(2048, 2592, 2)\n",
      "getting image\n",
      "(2048, 2592, 2)\n",
      "getting image\n",
      "(2048, 2592, 2)\n"
     ]
    },
    {
     "name": "stderr",
     "output_type": "stream",
     "text": [
      "2019-12-12 06:12:24.346Z moduleTest       20 moduleTest.py:954 3/3 phi forward to 5250\n"
     ]
    },
    {
     "name": "stdout",
     "output_type": "stream",
     "text": [
      "getting image\n",
      "(2048, 2592, 2)\n",
      "getting image\n",
      "(2048, 2592, 2)\n",
      "getting image\n",
      "(2048, 2592, 2)\n",
      "getting image\n",
      "(2048, 2592, 2)\n"
     ]
    },
    {
     "name": "stderr",
     "output_type": "stream",
     "text": [
      "2019-12-12 06:12:26.846Z moduleTest       20 moduleTest.py:954 3/3 phi forward to 5500\n"
     ]
    },
    {
     "name": "stdout",
     "output_type": "stream",
     "text": [
      "getting image\n",
      "(2048, 2592, 2)\n",
      "getting image\n",
      "(2048, 2592, 2)\n",
      "getting image\n",
      "(2048, 2592, 2)\n",
      "getting image\n",
      "(2048, 2592, 2)\n"
     ]
    },
    {
     "name": "stderr",
     "output_type": "stream",
     "text": [
      "2019-12-12 06:12:29.366Z moduleTest       20 moduleTest.py:954 3/3 phi forward to 5750\n"
     ]
    },
    {
     "name": "stdout",
     "output_type": "stream",
     "text": [
      "getting image\n",
      "(2048, 2592, 2)\n",
      "getting image\n",
      "(2048, 2592, 2)\n",
      "getting image\n",
      "(2048, 2592, 2)\n",
      "getting image\n",
      "(2048, 2592, 2)\n"
     ]
    },
    {
     "name": "stderr",
     "output_type": "stream",
     "text": [
      "2019-12-12 06:12:31.851Z moduleTest       20 moduleTest.py:954 3/3 phi forward to 6000\n"
     ]
    },
    {
     "name": "stdout",
     "output_type": "stream",
     "text": [
      "getting image\n",
      "(2048, 2592, 2)\n",
      "getting image\n",
      "(2048, 2592, 2)\n",
      "getting image\n",
      "(2048, 2592, 2)\n",
      "getting image\n",
      "(2048, 2592, 2)\n"
     ]
    },
    {
     "name": "stderr",
     "output_type": "stream",
     "text": [
      "2019-12-12 06:12:34.349Z moduleTest       20 moduleTest.py:981 3/3 phi forward 6000 to limit\n"
     ]
    },
    {
     "name": "stdout",
     "output_type": "stream",
     "text": [
      "getting image\n",
      "(2048, 2592, 2)\n",
      "getting image\n",
      "(2048, 2592, 2)\n",
      "getting image\n",
      "(2048, 2592, 2)\n",
      "getting image\n",
      "(2048, 2592, 2)\n"
     ]
    },
    {
     "name": "stderr",
     "output_type": "stream",
     "text": [
      "2019-12-12 06:12:50.876Z moduleTest       20 moduleTest.py:991 3/3 phi backward to 250\n"
     ]
    },
    {
     "name": "stdout",
     "output_type": "stream",
     "text": [
      "getting image\n",
      "(2048, 2592, 2)\n",
      "getting image\n",
      "(2048, 2592, 2)\n",
      "getting image\n",
      "(2048, 2592, 2)\n",
      "getting image\n",
      "(2048, 2592, 2)\n"
     ]
    },
    {
     "name": "stderr",
     "output_type": "stream",
     "text": [
      "2019-12-12 06:12:53.355Z moduleTest       20 moduleTest.py:991 3/3 phi backward to 500\n"
     ]
    },
    {
     "name": "stdout",
     "output_type": "stream",
     "text": [
      "getting image\n",
      "(2048, 2592, 2)\n",
      "getting image\n",
      "(2048, 2592, 2)\n",
      "getting image\n",
      "(2048, 2592, 2)\n",
      "getting image\n",
      "(2048, 2592, 2)\n"
     ]
    },
    {
     "name": "stderr",
     "output_type": "stream",
     "text": [
      "2019-12-12 06:12:55.851Z moduleTest       20 moduleTest.py:991 3/3 phi backward to 750\n"
     ]
    },
    {
     "name": "stdout",
     "output_type": "stream",
     "text": [
      "getting image\n",
      "(2048, 2592, 2)\n",
      "getting image\n",
      "(2048, 2592, 2)\n",
      "getting image\n",
      "(2048, 2592, 2)\n",
      "getting image\n",
      "(2048, 2592, 2)\n"
     ]
    },
    {
     "name": "stderr",
     "output_type": "stream",
     "text": [
      "2019-12-12 06:12:58.361Z moduleTest       20 moduleTest.py:991 3/3 phi backward to 1000\n"
     ]
    },
    {
     "name": "stdout",
     "output_type": "stream",
     "text": [
      "getting image\n",
      "(2048, 2592, 2)\n",
      "getting image\n",
      "(2048, 2592, 2)\n",
      "getting image\n",
      "(2048, 2592, 2)\n",
      "getting image\n",
      "(2048, 2592, 2)\n"
     ]
    },
    {
     "name": "stderr",
     "output_type": "stream",
     "text": [
      "2019-12-12 06:13:00.869Z moduleTest       20 moduleTest.py:991 3/3 phi backward to 1250\n"
     ]
    },
    {
     "name": "stdout",
     "output_type": "stream",
     "text": [
      "getting image\n",
      "(2048, 2592, 2)\n",
      "getting image\n",
      "(2048, 2592, 2)\n",
      "getting image\n",
      "(2048, 2592, 2)\n",
      "getting image\n",
      "(2048, 2592, 2)\n"
     ]
    },
    {
     "name": "stderr",
     "output_type": "stream",
     "text": [
      "2019-12-12 06:13:03.373Z moduleTest       20 moduleTest.py:991 3/3 phi backward to 1500\n"
     ]
    },
    {
     "name": "stdout",
     "output_type": "stream",
     "text": [
      "getting image\n",
      "(2048, 2592, 2)\n",
      "getting image\n",
      "(2048, 2592, 2)\n",
      "getting image\n",
      "(2048, 2592, 2)\n",
      "getting image\n",
      "(2048, 2592, 2)\n"
     ]
    },
    {
     "name": "stderr",
     "output_type": "stream",
     "text": [
      "2019-12-12 06:13:05.941Z moduleTest       20 moduleTest.py:991 3/3 phi backward to 1750\n"
     ]
    },
    {
     "name": "stdout",
     "output_type": "stream",
     "text": [
      "getting image\n",
      "(2048, 2592, 2)\n",
      "getting image\n",
      "(2048, 2592, 2)\n",
      "getting image\n",
      "(2048, 2592, 2)\n",
      "getting image\n",
      "(2048, 2592, 2)\n"
     ]
    },
    {
     "name": "stderr",
     "output_type": "stream",
     "text": [
      "2019-12-12 06:13:08.367Z moduleTest       20 moduleTest.py:991 3/3 phi backward to 2000\n"
     ]
    },
    {
     "name": "stdout",
     "output_type": "stream",
     "text": [
      "getting image\n",
      "(2048, 2592, 2)\n",
      "getting image\n",
      "(2048, 2592, 2)\n",
      "getting image\n",
      "(2048, 2592, 2)\n",
      "getting image\n",
      "(2048, 2592, 2)\n"
     ]
    },
    {
     "name": "stderr",
     "output_type": "stream",
     "text": [
      "2019-12-12 06:13:10.874Z moduleTest       20 moduleTest.py:991 3/3 phi backward to 2250\n"
     ]
    },
    {
     "name": "stdout",
     "output_type": "stream",
     "text": [
      "getting image\n",
      "(2048, 2592, 2)\n",
      "getting image\n",
      "(2048, 2592, 2)\n",
      "getting image\n",
      "(2048, 2592, 2)\n",
      "getting image\n",
      "(2048, 2592, 2)\n"
     ]
    },
    {
     "name": "stderr",
     "output_type": "stream",
     "text": [
      "2019-12-12 06:13:13.367Z moduleTest       20 moduleTest.py:991 3/3 phi backward to 2500\n"
     ]
    },
    {
     "name": "stdout",
     "output_type": "stream",
     "text": [
      "getting image\n",
      "(2048, 2592, 2)\n",
      "getting image\n",
      "(2048, 2592, 2)\n",
      "getting image\n",
      "(2048, 2592, 2)\n",
      "getting image\n",
      "(2048, 2592, 2)\n"
     ]
    },
    {
     "name": "stderr",
     "output_type": "stream",
     "text": [
      "2019-12-12 06:13:15.861Z moduleTest       20 moduleTest.py:991 3/3 phi backward to 2750\n"
     ]
    },
    {
     "name": "stdout",
     "output_type": "stream",
     "text": [
      "getting image\n",
      "(2048, 2592, 2)\n",
      "getting image\n",
      "(2048, 2592, 2)\n",
      "getting image\n",
      "(2048, 2592, 2)\n",
      "getting image\n",
      "(2048, 2592, 2)\n"
     ]
    },
    {
     "name": "stderr",
     "output_type": "stream",
     "text": [
      "2019-12-12 06:13:18.348Z moduleTest       20 moduleTest.py:991 3/3 phi backward to 3000\n"
     ]
    },
    {
     "name": "stdout",
     "output_type": "stream",
     "text": [
      "getting image\n",
      "(2048, 2592, 2)\n",
      "getting image\n",
      "(2048, 2592, 2)\n",
      "getting image\n",
      "(2048, 2592, 2)\n",
      "getting image\n",
      "(2048, 2592, 2)\n"
     ]
    },
    {
     "name": "stderr",
     "output_type": "stream",
     "text": [
      "2019-12-12 06:13:20.859Z moduleTest       20 moduleTest.py:991 3/3 phi backward to 3250\n"
     ]
    },
    {
     "name": "stdout",
     "output_type": "stream",
     "text": [
      "getting image\n",
      "(2048, 2592, 2)\n",
      "getting image\n",
      "(2048, 2592, 2)\n",
      "getting image\n",
      "(2048, 2592, 2)\n",
      "getting image\n",
      "(2048, 2592, 2)\n"
     ]
    },
    {
     "name": "stderr",
     "output_type": "stream",
     "text": [
      "2019-12-12 06:13:23.364Z moduleTest       20 moduleTest.py:991 3/3 phi backward to 3500\n"
     ]
    },
    {
     "name": "stdout",
     "output_type": "stream",
     "text": [
      "getting image\n",
      "(2048, 2592, 2)\n",
      "getting image\n",
      "(2048, 2592, 2)\n",
      "getting image\n",
      "(2048, 2592, 2)\n",
      "getting image\n",
      "(2048, 2592, 2)\n"
     ]
    },
    {
     "name": "stderr",
     "output_type": "stream",
     "text": [
      "2019-12-12 06:13:25.882Z moduleTest       20 moduleTest.py:991 3/3 phi backward to 3750\n"
     ]
    },
    {
     "name": "stdout",
     "output_type": "stream",
     "text": [
      "getting image\n",
      "(2048, 2592, 2)\n",
      "getting image\n",
      "(2048, 2592, 2)\n",
      "getting image\n",
      "(2048, 2592, 2)\n",
      "getting image\n",
      "(2048, 2592, 2)\n"
     ]
    },
    {
     "name": "stderr",
     "output_type": "stream",
     "text": [
      "2019-12-12 06:13:28.357Z moduleTest       20 moduleTest.py:991 3/3 phi backward to 4000\n"
     ]
    },
    {
     "name": "stdout",
     "output_type": "stream",
     "text": [
      "getting image\n",
      "(2048, 2592, 2)\n",
      "getting image\n",
      "(2048, 2592, 2)\n",
      "getting image\n",
      "(2048, 2592, 2)\n",
      "getting image\n",
      "(2048, 2592, 2)\n"
     ]
    },
    {
     "name": "stderr",
     "output_type": "stream",
     "text": [
      "2019-12-12 06:13:30.875Z moduleTest       20 moduleTest.py:991 3/3 phi backward to 4250\n"
     ]
    },
    {
     "name": "stdout",
     "output_type": "stream",
     "text": [
      "getting image\n",
      "(2048, 2592, 2)\n",
      "getting image\n",
      "(2048, 2592, 2)\n",
      "getting image\n",
      "(2048, 2592, 2)\n",
      "getting image\n",
      "(2048, 2592, 2)\n"
     ]
    },
    {
     "name": "stderr",
     "output_type": "stream",
     "text": [
      "2019-12-12 06:13:33.374Z moduleTest       20 moduleTest.py:991 3/3 phi backward to 4500\n"
     ]
    },
    {
     "name": "stdout",
     "output_type": "stream",
     "text": [
      "getting image\n",
      "(2048, 2592, 2)\n",
      "getting image\n",
      "(2048, 2592, 2)\n",
      "getting image\n",
      "(2048, 2592, 2)\n",
      "getting image\n",
      "(2048, 2592, 2)\n"
     ]
    },
    {
     "name": "stderr",
     "output_type": "stream",
     "text": [
      "2019-12-12 06:13:35.883Z moduleTest       20 moduleTest.py:991 3/3 phi backward to 4750\n"
     ]
    },
    {
     "name": "stdout",
     "output_type": "stream",
     "text": [
      "getting image\n",
      "(2048, 2592, 2)\n",
      "getting image\n",
      "(2048, 2592, 2)\n",
      "getting image\n",
      "(2048, 2592, 2)\n",
      "getting image\n",
      "(2048, 2592, 2)\n"
     ]
    },
    {
     "name": "stderr",
     "output_type": "stream",
     "text": [
      "2019-12-12 06:13:38.367Z moduleTest       20 moduleTest.py:991 3/3 phi backward to 5000\n"
     ]
    },
    {
     "name": "stdout",
     "output_type": "stream",
     "text": [
      "getting image\n",
      "(2048, 2592, 2)\n",
      "getting image\n",
      "(2048, 2592, 2)\n",
      "getting image\n",
      "(2048, 2592, 2)\n",
      "getting image\n",
      "(2048, 2592, 2)\n"
     ]
    },
    {
     "name": "stderr",
     "output_type": "stream",
     "text": [
      "2019-12-12 06:13:40.946Z moduleTest       20 moduleTest.py:991 3/3 phi backward to 5250\n"
     ]
    },
    {
     "name": "stdout",
     "output_type": "stream",
     "text": [
      "getting image\n",
      "(2048, 2592, 2)\n",
      "getting image\n",
      "(2048, 2592, 2)\n",
      "getting image\n",
      "(2048, 2592, 2)\n",
      "getting image\n",
      "(2048, 2592, 2)\n"
     ]
    },
    {
     "name": "stderr",
     "output_type": "stream",
     "text": [
      "2019-12-12 06:13:43.559Z moduleTest       20 moduleTest.py:991 3/3 phi backward to 5500\n"
     ]
    },
    {
     "name": "stdout",
     "output_type": "stream",
     "text": [
      "getting image\n",
      "(2048, 2592, 2)\n",
      "getting image\n",
      "(2048, 2592, 2)\n",
      "getting image\n",
      "(2048, 2592, 2)\n",
      "getting image\n",
      "(2048, 2592, 2)\n"
     ]
    },
    {
     "name": "stderr",
     "output_type": "stream",
     "text": [
      "2019-12-12 06:13:46.049Z moduleTest       20 moduleTest.py:991 3/3 phi backward to 5750\n"
     ]
    },
    {
     "name": "stdout",
     "output_type": "stream",
     "text": [
      "getting image\n",
      "(2048, 2592, 2)\n",
      "getting image\n",
      "(2048, 2592, 2)\n",
      "getting image\n",
      "(2048, 2592, 2)\n",
      "getting image\n",
      "(2048, 2592, 2)\n"
     ]
    },
    {
     "name": "stderr",
     "output_type": "stream",
     "text": [
      "2019-12-12 06:13:48.542Z moduleTest       20 moduleTest.py:991 3/3 phi backward to 6000\n"
     ]
    },
    {
     "name": "stdout",
     "output_type": "stream",
     "text": [
      "getting image\n",
      "(2048, 2592, 2)\n",
      "getting image\n",
      "(2048, 2592, 2)\n",
      "getting image\n",
      "(2048, 2592, 2)\n",
      "getting image\n",
      "(2048, 2592, 2)\n"
     ]
    },
    {
     "name": "stderr",
     "output_type": "stream",
     "text": [
      "2019-12-12 06:13:51.054Z moduleTest       20 moduleTest.py:1018 3/3 phi reverse -6000 steps to limit\n",
      "2019-12-12 06:14:06.921Z root             20 pfiDesign.py:740 wrote pfiDesign file for 57 cobras and name=phiModel to /data/MCS/20191212_062/output/phi_run1.xml\n",
      "2019-12-12 06:14:06.923Z moduleTest       40 moduleTest.py:319 phi ranges for cobras [22] are too small: CW=[0.] CCW=[0.]\n",
      "2019-12-12 06:14:06.923Z moduleTest       40 moduleTest.py:322      [0.]\n",
      "2019-12-12 06:14:06.924Z ontimeOptimize   20 ontimeOptimize.py:667 Current XML = /data/MCS/20191212_062/output/phi_run1.xml\n",
      "2019-12-12 06:14:06.938Z matplotlib.font_manager 10 font_manager.py:1259 findfont: Matching :family=sans-serif:style=normal:variant=normal:weight=normal:stretch=normal:size=12.0.\n",
      "2019-12-12 06:14:06.939Z matplotlib.font_manager 10 font_manager.py:1271 findfont: score(<Font 'DejaVu Serif' (DejaVuSerif-BoldItalic.ttf) italic normal bold normal>) = 11.335\n",
      "2019-12-12 06:14:06.939Z matplotlib.font_manager 10 font_manager.py:1271 findfont: score(<Font 'DejaVu Sans' (DejaVuSans.ttf) normal normal 400 normal>) = 0.05\n",
      "2019-12-12 06:14:06.940Z matplotlib.font_manager 10 font_manager.py:1271 findfont: score(<Font 'STIXGeneral' (STIXGeneralBolIta.ttf) italic normal bold normal>) = 11.335\n",
      "2019-12-12 06:14:06.940Z matplotlib.font_manager 10 font_manager.py:1271 findfont: score(<Font 'DejaVu Sans Mono' (DejaVuSansMono.ttf) normal normal 400 normal>) = 10.05\n",
      "2019-12-12 06:14:06.940Z matplotlib.font_manager 10 font_manager.py:1271 findfont: score(<Font 'DejaVu Sans Display' (DejaVuSansDisplay.ttf) normal normal 400 normal>) = 10.05\n",
      "2019-12-12 06:14:06.941Z matplotlib.font_manager 10 font_manager.py:1271 findfont: score(<Font 'STIXGeneral' (STIXGeneral.ttf) normal normal regular normal>) = 10.05\n",
      "2019-12-12 06:14:06.941Z matplotlib.font_manager 10 font_manager.py:1271 findfont: score(<Font 'STIXNonUnicode' (STIXNonUni.ttf) normal normal regular normal>) = 10.05\n",
      "2019-12-12 06:14:06.942Z matplotlib.font_manager 10 font_manager.py:1271 findfont: score(<Font 'STIXNonUnicode' (STIXNonUniBolIta.ttf) italic normal bold normal>) = 11.335\n",
      "2019-12-12 06:14:06.942Z matplotlib.font_manager 10 font_manager.py:1271 findfont: score(<Font 'cmb10' (cmb10.ttf) normal normal 400 normal>) = 10.05\n",
      "2019-12-12 06:14:06.942Z matplotlib.font_manager 10 font_manager.py:1271 findfont: score(<Font 'DejaVu Sans' (DejaVuSans-Bold.ttf) normal normal bold normal>) = 0.33499999999999996\n",
      "2019-12-12 06:14:06.943Z matplotlib.font_manager 10 font_manager.py:1271 findfont: score(<Font 'STIXSizeOneSym' (STIXSizOneSymReg.ttf) normal normal regular normal>) = 10.05\n",
      "2019-12-12 06:14:06.943Z matplotlib.font_manager 10 font_manager.py:1271 findfont: score(<Font 'cmmi10' (cmmi10.ttf) normal normal 400 normal>) = 10.05\n",
      "2019-12-12 06:14:06.944Z matplotlib.font_manager 10 font_manager.py:1271 findfont: score(<Font 'DejaVu Serif' (DejaVuSerif.ttf) normal normal 400 normal>) = 10.05\n",
      "2019-12-12 06:14:06.944Z matplotlib.font_manager 10 font_manager.py:1271 findfont: score(<Font 'DejaVu Sans' (DejaVuSans-Oblique.ttf) oblique normal 400 normal>) = 1.05\n",
      "2019-12-12 06:14:06.945Z matplotlib.font_manager 10 font_manager.py:1271 findfont: score(<Font 'STIXNonUnicode' (STIXNonUniBol.ttf) normal normal bold normal>) = 10.335\n",
      "2019-12-12 06:14:06.945Z matplotlib.font_manager 10 font_manager.py:1271 findfont: score(<Font 'STIXSizeFiveSym' (STIXSizFiveSymReg.ttf) normal normal regular normal>) = 10.05\n",
      "2019-12-12 06:14:06.945Z matplotlib.font_manager 10 font_manager.py:1271 findfont: score(<Font 'STIXSizeFourSym' (STIXSizFourSymBol.ttf) normal normal bold normal>) = 10.335\n",
      "2019-12-12 06:14:06.946Z matplotlib.font_manager 10 font_manager.py:1271 findfont: score(<Font 'STIXSizeThreeSym' (STIXSizThreeSymReg.ttf) normal normal regular normal>) = 10.05\n",
      "2019-12-12 06:14:06.946Z matplotlib.font_manager 10 font_manager.py:1271 findfont: score(<Font 'cmtt10' (cmtt10.ttf) normal normal 400 normal>) = 10.05\n",
      "2019-12-12 06:14:06.947Z matplotlib.font_manager 10 font_manager.py:1271 findfont: score(<Font 'STIXSizeThreeSym' (STIXSizThreeSymBol.ttf) normal normal bold normal>) = 10.335\n",
      "2019-12-12 06:14:06.947Z matplotlib.font_manager 10 font_manager.py:1271 findfont: score(<Font 'STIXGeneral' (STIXGeneralBol.ttf) normal normal bold normal>) = 10.335\n",
      "2019-12-12 06:14:06.948Z matplotlib.font_manager 10 font_manager.py:1271 findfont: score(<Font 'DejaVu Sans' (DejaVuSans-BoldOblique.ttf) oblique normal bold normal>) = 1.335\n",
      "2019-12-12 06:14:06.948Z matplotlib.font_manager 10 font_manager.py:1271 findfont: score(<Font 'cmr10' (cmr10.ttf) normal normal 400 normal>) = 10.05\n",
      "2019-12-12 06:14:06.948Z matplotlib.font_manager 10 font_manager.py:1271 findfont: score(<Font 'cmss10' (cmss10.ttf) normal normal 400 normal>) = 10.05\n",
      "2019-12-12 06:14:06.949Z matplotlib.font_manager 10 font_manager.py:1271 findfont: score(<Font 'cmsy10' (cmsy10.ttf) normal normal 400 normal>) = 10.05\n",
      "2019-12-12 06:14:06.949Z matplotlib.font_manager 10 font_manager.py:1271 findfont: score(<Font 'STIXSizeFourSym' (STIXSizFourSymReg.ttf) normal normal regular normal>) = 10.05\n",
      "2019-12-12 06:14:06.950Z matplotlib.font_manager 10 font_manager.py:1271 findfont: score(<Font 'cmex10' (cmex10.ttf) normal normal 400 normal>) = 10.05\n",
      "2019-12-12 06:14:06.950Z matplotlib.font_manager 10 font_manager.py:1271 findfont: score(<Font 'STIXNonUnicode' (STIXNonUniIta.ttf) italic normal 400 normal>) = 11.05\n",
      "2019-12-12 06:14:06.950Z matplotlib.font_manager 10 font_manager.py:1271 findfont: score(<Font 'DejaVu Sans Mono' (DejaVuSansMono-BoldOblique.ttf) oblique normal bold normal>) = 11.335\n",
      "2019-12-12 06:14:06.951Z matplotlib.font_manager 10 font_manager.py:1271 findfont: score(<Font 'DejaVu Serif' (DejaVuSerif-Bold.ttf) normal normal bold normal>) = 10.335\n",
      "2019-12-12 06:14:06.951Z matplotlib.font_manager 10 font_manager.py:1271 findfont: score(<Font 'STIXSizeTwoSym' (STIXSizTwoSymReg.ttf) normal normal regular normal>) = 10.05\n",
      "2019-12-12 06:14:06.952Z matplotlib.font_manager 10 font_manager.py:1271 findfont: score(<Font 'STIXSizeTwoSym' (STIXSizTwoSymBol.ttf) normal normal bold normal>) = 10.335\n",
      "2019-12-12 06:14:06.952Z matplotlib.font_manager 10 font_manager.py:1271 findfont: score(<Font 'DejaVu Serif' (DejaVuSerif-Italic.ttf) italic normal 400 normal>) = 11.05\n",
      "2019-12-12 06:14:06.953Z matplotlib.font_manager 10 font_manager.py:1271 findfont: score(<Font 'DejaVu Sans Mono' (DejaVuSansMono-Bold.ttf) normal normal bold normal>) = 10.335\n",
      "2019-12-12 06:14:06.953Z matplotlib.font_manager 10 font_manager.py:1271 findfont: score(<Font 'STIXGeneral' (STIXGeneralItalic.ttf) italic normal 400 normal>) = 11.05\n",
      "2019-12-12 06:14:06.953Z matplotlib.font_manager 10 font_manager.py:1271 findfont: score(<Font 'STIXSizeOneSym' (STIXSizOneSymBol.ttf) normal normal bold normal>) = 10.335\n",
      "2019-12-12 06:14:06.954Z matplotlib.font_manager 10 font_manager.py:1271 findfont: score(<Font 'DejaVu Sans Mono' (DejaVuSansMono-Oblique.ttf) oblique normal 400 normal>) = 11.05\n",
      "2019-12-12 06:14:06.954Z matplotlib.font_manager 10 font_manager.py:1271 findfont: score(<Font 'DejaVu Serif Display' (DejaVuSerifDisplay.ttf) normal normal 400 normal>) = 10.05\n",
      "2019-12-12 06:14:06.955Z matplotlib.font_manager 10 font_manager.py:1271 findfont: score(<Font 'Liberation Serif' (LiberationSerif-Regular.ttf) normal normal 400 normal>) = 10.05\n",
      "2019-12-12 06:14:06.955Z matplotlib.font_manager 10 font_manager.py:1271 findfont: score(<Font 'Kalapi' (Kalapi.ttf) normal normal 400 normal>) = 10.05\n",
      "2019-12-12 06:14:06.955Z matplotlib.font_manager 10 font_manager.py:1271 findfont: score(<Font 'Kinnari' (Kinnari-BoldOblique.ttf) oblique normal bold normal>) = 11.335\n",
      "2019-12-12 06:14:06.956Z matplotlib.font_manager 10 font_manager.py:1271 findfont: score(<Font 'Umpush' (Umpush-Oblique.ttf) oblique normal 400 normal>) = 11.05\n",
      "2019-12-12 06:14:06.956Z matplotlib.font_manager 10 font_manager.py:1271 findfont: score(<Font 'Sawasdee' (Sawasdee-BoldOblique.ttf) oblique normal bold normal>) = 11.335\n",
      "2019-12-12 06:14:06.957Z matplotlib.font_manager 10 font_manager.py:1271 findfont: score(<Font 'Liberation Sans' (LiberationSans-Bold.ttf) normal normal bold normal>) = 10.335\n",
      "2019-12-12 06:14:06.957Z matplotlib.font_manager 10 font_manager.py:1271 findfont: score(<Font 'FreeMono' (FreeMono.ttf) normal normal 400 normal>) = 10.05\n"
     ]
    },
    {
     "name": "stderr",
     "output_type": "stream",
     "text": [
      "2019-12-12 06:14:06.958Z matplotlib.font_manager 10 font_manager.py:1271 findfont: score(<Font 'Liberation Sans' (LiberationSans-BoldItalic.ttf) italic normal bold normal>) = 11.335\n",
      "2019-12-12 06:14:06.958Z matplotlib.font_manager 10 font_manager.py:1271 findfont: score(<Font 'Liberation Sans Narrow' (LiberationSansNarrow-Italic.ttf) italic normal 400 condensed>) = 11.25\n",
      "2019-12-12 06:14:06.958Z matplotlib.font_manager 10 font_manager.py:1271 findfont: score(<Font 'Lohit Devanagari' (Lohit-Devanagari.ttf) normal normal 400 normal>) = 10.05\n",
      "2019-12-12 06:14:06.959Z matplotlib.font_manager 10 font_manager.py:1271 findfont: score(<Font 'Padauk' (Padauk-Regular.ttf) normal normal 400 normal>) = 10.05\n",
      "2019-12-12 06:14:06.959Z matplotlib.font_manager 10 font_manager.py:1271 findfont: score(<Font 'Tlwg Mono' (TlwgMono-BoldOblique.ttf) oblique normal bold normal>) = 11.335\n",
      "2019-12-12 06:14:06.960Z matplotlib.font_manager 10 font_manager.py:1271 findfont: score(<Font 'Tlwg Typist' (TlwgTypist.ttf) normal normal 400 normal>) = 10.05\n",
      "2019-12-12 06:14:06.960Z matplotlib.font_manager 10 font_manager.py:1271 findfont: score(<Font 'Purisa' (Purisa-BoldOblique.ttf) oblique normal bold normal>) = 11.335\n",
      "2019-12-12 06:14:06.960Z matplotlib.font_manager 10 font_manager.py:1271 findfont: score(<Font 'Noto Sans CJK JP' (NotoSansCJK-Regular.ttc) normal normal 400 normal>) = 10.05\n",
      "2019-12-12 06:14:06.961Z matplotlib.font_manager 10 font_manager.py:1271 findfont: score(<Font 'Liberation Serif' (LiberationSerif-BoldItalic.ttf) italic normal bold normal>) = 11.335\n",
      "2019-12-12 06:14:06.961Z matplotlib.font_manager 10 font_manager.py:1271 findfont: score(<Font 'Ubuntu Mono' (UbuntuMono-RI.ttf) italic normal 400 normal>) = 11.05\n",
      "2019-12-12 06:14:06.962Z matplotlib.font_manager 10 font_manager.py:1271 findfont: score(<Font 'FreeSans' (FreeSansOblique.ttf) oblique normal 400 normal>) = 11.05\n",
      "2019-12-12 06:14:06.962Z matplotlib.font_manager 10 font_manager.py:1271 findfont: score(<Font 'Ubuntu' (Ubuntu-R.ttf) normal normal 400 normal>) = 10.05\n",
      "2019-12-12 06:14:06.963Z matplotlib.font_manager 10 font_manager.py:1271 findfont: score(<Font 'Mukti Narrow' (MuktiNarrow.ttf) normal normal 400 normal>) = 10.05\n",
      "2019-12-12 06:14:06.963Z matplotlib.font_manager 10 font_manager.py:1271 findfont: score(<Font 'ori1Uni' (utkal.ttf) normal normal medium normal>) = 10.145\n",
      "2019-12-12 06:14:06.964Z matplotlib.font_manager 10 font_manager.py:1271 findfont: score(<Font 'Samyak Devanagari' (Samyak-Devanagari.ttf) normal normal 400 normal>) = 10.05\n",
      "2019-12-12 06:14:06.964Z matplotlib.font_manager 10 font_manager.py:1271 findfont: score(<Font 'KacstDecorative' (KacstDecorative.ttf) normal normal 400 normal>) = 10.05\n",
      "2019-12-12 06:14:06.964Z matplotlib.font_manager 10 font_manager.py:1271 findfont: score(<Font 'Samyak Tamil' (Samyak-Tamil.ttf) normal normal 400 normal>) = 10.05\n",
      "2019-12-12 06:14:06.965Z matplotlib.font_manager 10 font_manager.py:1271 findfont: score(<Font 'Liberation Sans' (LiberationSans-Italic.ttf) italic normal 400 normal>) = 11.05\n",
      "2019-12-12 06:14:06.965Z matplotlib.font_manager 10 font_manager.py:1271 findfont: score(<Font 'Liberation Mono' (LiberationMono-Regular.ttf) normal normal 400 normal>) = 10.05\n",
      "2019-12-12 06:14:06.966Z matplotlib.font_manager 10 font_manager.py:1271 findfont: score(<Font 'Kinnari' (Kinnari-Italic.ttf) italic normal 400 normal>) = 11.05\n",
      "2019-12-12 06:14:06.966Z matplotlib.font_manager 10 font_manager.py:1271 findfont: score(<Font 'Mukti Narrow' (MuktiNarrowBold.ttf) normal normal 700 normal>) = 10.335\n",
      "2019-12-12 06:14:06.966Z matplotlib.font_manager 10 font_manager.py:1271 findfont: score(<Font 'Meera' (Meera.ttf) normal normal 400 normal>) = 10.05\n",
      "2019-12-12 06:14:06.967Z matplotlib.font_manager 10 font_manager.py:1271 findfont: score(<Font 'Ubuntu' (Ubuntu-MI.ttf) italic normal medium normal>) = 11.145\n",
      "2019-12-12 06:14:06.967Z matplotlib.font_manager 10 font_manager.py:1271 findfont: score(<Font 'FreeSerif' (FreeSerifBold.ttf) normal normal bold normal>) = 10.335\n",
      "2019-12-12 06:14:06.968Z matplotlib.font_manager 10 font_manager.py:1271 findfont: score(<Font 'Liberation Sans Narrow' (LiberationSansNarrow-Regular.ttf) normal normal 400 condensed>) = 10.25\n",
      "2019-12-12 06:14:06.968Z matplotlib.font_manager 10 font_manager.py:1271 findfont: score(<Font 'Lohit Gujarati' (Lohit-Gujarati.ttf) normal normal 400 normal>) = 10.05\n",
      "2019-12-12 06:14:06.968Z matplotlib.font_manager 10 font_manager.py:1271 findfont: score(<Font 'OpenSymbol' (opens___.ttf) normal normal 400 normal>) = 10.05\n",
      "2019-12-12 06:14:06.969Z matplotlib.font_manager 10 font_manager.py:1271 findfont: score(<Font 'Lohit Gurmukhi' (Lohit-Gurmukhi.ttf) normal normal 400 normal>) = 10.05\n",
      "2019-12-12 06:14:06.969Z matplotlib.font_manager 10 font_manager.py:1271 findfont: score(<Font 'Noto Serif CJK JP' (NotoSerifCJK-Bold.ttc) normal normal bold normal>) = 10.335\n",
      "2019-12-12 06:14:06.970Z matplotlib.font_manager 10 font_manager.py:1271 findfont: score(<Font 'Manjari' (Manjari-Bold.otf) normal normal bold normal>) = 10.335\n",
      "2019-12-12 06:14:06.970Z matplotlib.font_manager 10 font_manager.py:1271 findfont: score(<Font 'Ubuntu' (Ubuntu-BI.ttf) italic normal bold normal>) = 11.335\n",
      "2019-12-12 06:14:06.971Z matplotlib.font_manager 10 font_manager.py:1271 findfont: score(<Font 'Manjari' (Manjari-Regular.otf) normal normal regular normal>) = 10.05\n",
      "2019-12-12 06:14:06.971Z matplotlib.font_manager 10 font_manager.py:1271 findfont: score(<Font 'KacstTitleL' (KacstTitleL.ttf) normal normal 400 normal>) = 10.05\n",
      "2019-12-12 06:14:06.971Z matplotlib.font_manager 10 font_manager.py:1271 findfont: score(<Font 'Ubuntu' (Ubuntu-B.ttf) normal normal bold normal>) = 10.335\n",
      "2019-12-12 06:14:06.972Z matplotlib.font_manager 10 font_manager.py:1271 findfont: score(<Font 'Rachana' (Rachana-Bold.ttf) normal normal bold normal>) = 10.335\n",
      "2019-12-12 06:14:06.972Z matplotlib.font_manager 10 font_manager.py:1271 findfont: score(<Font 'Padauk Book' (PadaukBook-Regular.ttf) normal normal book normal>) = 10.05\n",
      "2019-12-12 06:14:06.973Z matplotlib.font_manager 10 font_manager.py:1271 findfont: score(<Font 'Tlwg Typist' (TlwgTypist-Bold.ttf) normal normal bold normal>) = 10.335\n",
      "2019-12-12 06:14:06.973Z matplotlib.font_manager 10 font_manager.py:1271 findfont: score(<Font 'Ubuntu' (Ubuntu-L.ttf) normal normal light normal>) = 10.24\n",
      "2019-12-12 06:14:06.974Z matplotlib.font_manager 10 font_manager.py:1271 findfont: score(<Font 'Samanata' (samanata.ttf) normal normal 400 normal>) = 10.05\n",
      "2019-12-12 06:14:06.974Z matplotlib.font_manager 10 font_manager.py:1271 findfont: score(<Font 'KacstOne' (KacstOne.ttf) normal normal 400 normal>) = 10.05\n",
      "2019-12-12 06:14:06.974Z matplotlib.font_manager 10 font_manager.py:1271 findfont: score(<Font 'KacstLetter' (KacstLetter.ttf) normal normal 400 normal>) = 10.05\n",
      "2019-12-12 06:14:06.975Z matplotlib.font_manager 10 font_manager.py:1271 findfont: score(<Font 'Tlwg Typist' (TlwgTypist-Oblique.ttf) oblique normal 400 normal>) = 11.05\n",
      "2019-12-12 06:14:06.975Z matplotlib.font_manager 10 font_manager.py:1271 findfont: score(<Font 'Sawasdee' (Sawasdee.ttf) normal normal 400 normal>) = 10.05\n",
      "2019-12-12 06:14:06.976Z matplotlib.font_manager 10 font_manager.py:1271 findfont: score(<Font 'Rachana' (Rachana-Regular.ttf) normal normal regular normal>) = 10.05\n",
      "2019-12-12 06:14:06.976Z matplotlib.font_manager 10 font_manager.py:1271 findfont: score(<Font 'KacstOne' (KacstOne-Bold.ttf) normal normal bold normal>) = 10.335\n",
      "2019-12-12 06:14:06.977Z matplotlib.font_manager 10 font_manager.py:1271 findfont: score(<Font 'Tlwg Typo' (TlwgTypo-BoldOblique.ttf) oblique normal bold normal>) = 11.335\n",
      "2019-12-12 06:14:06.977Z matplotlib.font_manager 10 font_manager.py:1271 findfont: score(<Font 'padmaa' (padmaa.ttf) normal normal 400 normal>) = 10.05\n",
      "2019-12-12 06:14:06.977Z matplotlib.font_manager 10 font_manager.py:1271 findfont: score(<Font 'Kinnari' (Kinnari-BoldItalic.ttf) italic normal bold normal>) = 11.335\n",
      "2019-12-12 06:14:06.978Z matplotlib.font_manager 10 font_manager.py:1271 findfont: score(<Font 'KacstBook' (KacstBook.ttf) normal normal book normal>) = 10.05\n",
      "2019-12-12 06:14:06.978Z matplotlib.font_manager 10 font_manager.py:1271 findfont: score(<Font 'Tlwg Typist' (TlwgTypist-BoldOblique.ttf) oblique normal bold normal>) = 11.335\n"
     ]
    },
    {
     "name": "stderr",
     "output_type": "stream",
     "text": [
      "2019-12-12 06:14:06.979Z matplotlib.font_manager 10 font_manager.py:1271 findfont: score(<Font 'Noto Mono' (NotoMono-Regular.ttf) normal normal 400 normal>) = 10.05\n",
      "2019-12-12 06:14:06.979Z matplotlib.font_manager 10 font_manager.py:1271 findfont: score(<Font 'Waree' (Waree-Oblique.ttf) oblique normal 400 normal>) = 11.05\n",
      "2019-12-12 06:14:06.979Z matplotlib.font_manager 10 font_manager.py:1271 findfont: score(<Font 'KacstQurn' (KacstQurn.ttf) normal normal 400 normal>) = 10.05\n",
      "2019-12-12 06:14:06.980Z matplotlib.font_manager 10 font_manager.py:1271 findfont: score(<Font 'Samyak Malayalam' (Samyak-Malayalam.ttf) normal normal 400 normal>) = 10.05\n",
      "2019-12-12 06:14:06.980Z matplotlib.font_manager 10 font_manager.py:1271 findfont: score(<Font 'Ubuntu' (Ubuntu-M.ttf) normal normal medium normal>) = 10.145\n",
      "2019-12-12 06:14:06.981Z matplotlib.font_manager 10 font_manager.py:1271 findfont: score(<Font 'Loma' (Loma-Oblique.ttf) oblique normal 400 normal>) = 11.05\n",
      "2019-12-12 06:14:06.981Z matplotlib.font_manager 10 font_manager.py:1271 findfont: score(<Font 'Umpush' (Umpush-Bold.ttf) normal normal bold normal>) = 10.335\n",
      "2019-12-12 06:14:06.982Z matplotlib.font_manager 10 font_manager.py:1271 findfont: score(<Font 'KacstDigital' (KacstDigital.ttf) normal normal 400 normal>) = 10.05\n",
      "2019-12-12 06:14:06.982Z matplotlib.font_manager 10 font_manager.py:1271 findfont: score(<Font 'AnjaliOldLipi' (AnjaliOldLipi.ttf) normal normal 400 normal>) = 10.05\n",
      "2019-12-12 06:14:06.982Z matplotlib.font_manager 10 font_manager.py:1271 findfont: score(<Font 'Pothana2000' (Pothana2000.ttf) normal normal 400 normal>) = 10.05\n",
      "2019-12-12 06:14:06.983Z matplotlib.font_manager 10 font_manager.py:1271 findfont: score(<Font 'Purisa' (Purisa-Oblique.ttf) oblique normal 400 normal>) = 11.05\n",
      "2019-12-12 06:14:06.983Z matplotlib.font_manager 10 font_manager.py:1271 findfont: score(<Font 'Likhan' (LikhanNormal.ttf) normal normal 400 normal>) = 10.05\n",
      "2019-12-12 06:14:06.983Z matplotlib.font_manager 10 font_manager.py:1271 findfont: score(<Font 'Kinnari' (Kinnari.ttf) normal normal 400 normal>) = 10.05\n",
      "2019-12-12 06:14:06.984Z matplotlib.font_manager 10 font_manager.py:1271 findfont: score(<Font 'Samyak Gujarati' (Samyak-Gujarati.ttf) normal normal 400 normal>) = 10.05\n",
      "2019-12-12 06:14:06.984Z matplotlib.font_manager 10 font_manager.py:1271 findfont: score(<Font 'Waree' (Waree-Bold.ttf) normal normal bold normal>) = 10.335\n",
      "2019-12-12 06:14:06.985Z matplotlib.font_manager 10 font_manager.py:1271 findfont: score(<Font 'Tlwg Typewriter' (TlwgTypewriter.ttf) normal normal 400 normal>) = 10.05\n",
      "2019-12-12 06:14:06.985Z matplotlib.font_manager 10 font_manager.py:1271 findfont: score(<Font 'Kinnari' (Kinnari-Bold.ttf) normal normal bold normal>) = 10.335\n",
      "2019-12-12 06:14:06.986Z matplotlib.font_manager 10 font_manager.py:1271 findfont: score(<Font 'FreeMono' (FreeMonoOblique.ttf) oblique normal 400 normal>) = 11.05\n",
      "2019-12-12 06:14:06.986Z matplotlib.font_manager 10 font_manager.py:1271 findfont: score(<Font 'Liberation Mono' (LiberationMono-Italic.ttf) italic normal 400 normal>) = 11.05\n",
      "2019-12-12 06:14:06.987Z matplotlib.font_manager 10 font_manager.py:1271 findfont: score(<Font 'Laksaman' (Laksaman-BoldItalic.ttf) italic normal bold normal>) = 11.335\n",
      "2019-12-12 06:14:06.987Z matplotlib.font_manager 10 font_manager.py:1271 findfont: score(<Font 'Pagul' (Pagul.ttf) normal normal 400 normal>) = 10.05\n",
      "2019-12-12 06:14:06.987Z matplotlib.font_manager 10 font_manager.py:1271 findfont: score(<Font 'LKLUG' (lklug.ttf) normal normal 400 normal>) = 10.05\n",
      "2019-12-12 06:14:06.988Z matplotlib.font_manager 10 font_manager.py:1271 findfont: score(<Font 'Karumbi' (Karumbi.ttf) normal normal 400 normal>) = 10.05\n",
      "2019-12-12 06:14:06.988Z matplotlib.font_manager 10 font_manager.py:1271 findfont: score(<Font 'Ubuntu Mono' (UbuntuMono-B.ttf) normal normal bold normal>) = 10.335\n",
      "2019-12-12 06:14:06.989Z matplotlib.font_manager 10 font_manager.py:1271 findfont: score(<Font 'Liberation Sans' (LiberationSans-Regular.ttf) normal normal 400 normal>) = 10.05\n",
      "2019-12-12 06:14:06.989Z matplotlib.font_manager 10 font_manager.py:1271 findfont: score(<Font 'Norasi' (Norasi-Bold.ttf) normal normal bold normal>) = 10.335\n",
      "2019-12-12 06:14:06.990Z matplotlib.font_manager 10 font_manager.py:1271 findfont: score(<Font 'KacstScreen' (KacstScreen.ttf) normal normal 400 normal>) = 10.05\n",
      "2019-12-12 06:14:06.990Z matplotlib.font_manager 10 font_manager.py:1271 findfont: score(<Font 'Tlwg Typewriter' (TlwgTypewriter-Oblique.ttf) oblique normal 400 normal>) = 11.05\n",
      "2019-12-12 06:14:06.990Z matplotlib.font_manager 10 font_manager.py:1271 findfont: score(<Font 'Laksaman' (Laksaman-Italic.ttf) italic normal 400 normal>) = 11.05\n",
      "2019-12-12 06:14:06.991Z matplotlib.font_manager 10 font_manager.py:1271 findfont: score(<Font 'Chandas' (chandas1-2.ttf) normal normal 400 normal>) = 10.05\n",
      "2019-12-12 06:14:06.991Z matplotlib.font_manager 10 font_manager.py:1271 findfont: score(<Font 'Lohit Bengali' (Lohit-Bengali.ttf) normal normal 400 normal>) = 10.05\n",
      "2019-12-12 06:14:06.992Z matplotlib.font_manager 10 font_manager.py:1271 findfont: score(<Font 'FreeSerif' (FreeSerif.ttf) normal normal 400 normal>) = 10.05\n",
      "2019-12-12 06:14:06.992Z matplotlib.font_manager 10 font_manager.py:1271 findfont: score(<Font 'Manjari' (Manjari-Thin.otf) normal normal 400 normal>) = 10.05\n",
      "2019-12-12 06:14:06.992Z matplotlib.font_manager 10 font_manager.py:1271 findfont: score(<Font 'Lohit Odia' (Lohit-Odia.ttf) normal normal 400 normal>) = 10.05\n",
      "2019-12-12 06:14:06.993Z matplotlib.font_manager 10 font_manager.py:1271 findfont: score(<Font 'Garuda' (Garuda-Oblique.ttf) oblique normal 400 normal>) = 11.05\n",
      "2019-12-12 06:14:06.993Z matplotlib.font_manager 10 font_manager.py:1271 findfont: score(<Font 'FreeMono' (FreeMonoBoldOblique.ttf) oblique normal bold normal>) = 11.335\n",
      "2019-12-12 06:14:06.993Z matplotlib.font_manager 10 font_manager.py:1271 findfont: score(<Font 'Abyssinica SIL' (AbyssinicaSIL-R.ttf) normal normal 400 normal>) = 10.05\n",
      "2019-12-12 06:14:06.994Z matplotlib.font_manager 10 font_manager.py:1271 findfont: score(<Font 'Norasi' (Norasi-Italic.ttf) italic normal 400 normal>) = 11.05\n",
      "2019-12-12 06:14:06.994Z matplotlib.font_manager 10 font_manager.py:1271 findfont: score(<Font 'FreeSerif' (FreeSerifBoldItalic.ttf) italic normal bold normal>) = 11.335\n",
      "2019-12-12 06:14:06.994Z matplotlib.font_manager 10 font_manager.py:1271 findfont: score(<Font 'Sawasdee' (Sawasdee-Bold.ttf) normal normal bold normal>) = 10.335\n",
      "2019-12-12 06:14:06.995Z matplotlib.font_manager 10 font_manager.py:1271 findfont: score(<Font 'Gargi' (Gargi.ttf) normal normal 400 normal>) = 10.05\n",
      "2019-12-12 06:14:06.995Z matplotlib.font_manager 10 font_manager.py:1271 findfont: score(<Font 'Ubuntu Mono' (UbuntuMono-BI.ttf) italic normal bold normal>) = 11.335\n",
      "2019-12-12 06:14:06.995Z matplotlib.font_manager 10 font_manager.py:1271 findfont: score(<Font 'Droid Sans Fallback' (DroidSansFallbackFull.ttf) normal normal 400 normal>) = 10.05\n",
      "2019-12-12 06:14:06.996Z matplotlib.font_manager 10 font_manager.py:1271 findfont: score(<Font 'Umpush' (Umpush-Light.ttf) normal normal light normal>) = 10.24\n",
      "2019-12-12 06:14:06.996Z matplotlib.font_manager 10 font_manager.py:1271 findfont: score(<Font 'Ani' (ani.ttf) normal normal 400 normal>) = 10.05\n",
      "2019-12-12 06:14:06.996Z matplotlib.font_manager 10 font_manager.py:1271 findfont: score(<Font 'Lohit Tamil Classical' (Lohit-Tamil-Classical.ttf) normal normal 400 normal>) = 10.05\n",
      "2019-12-12 06:14:06.998Z matplotlib.font_manager 10 font_manager.py:1271 findfont: score(<Font 'Khmer OS' (KhmerOS.ttf) normal normal 400 normal>) = 10.05\n",
      "2019-12-12 06:14:06.998Z matplotlib.font_manager 10 font_manager.py:1271 findfont: score(<Font 'Lohit Malayalam' (Lohit-Malayalam.ttf) normal normal 400 normal>) = 10.05\n",
      "2019-12-12 06:14:06.999Z matplotlib.font_manager 10 font_manager.py:1271 findfont: score(<Font 'Sahadeva' (sahadeva.ttf) normal normal 400 normal>) = 10.05\n",
      "2019-12-12 06:14:06.999Z matplotlib.font_manager 10 font_manager.py:1271 findfont: score(<Font 'Tlwg Typewriter' (TlwgTypewriter-Bold.ttf) normal normal bold normal>) = 10.335\n",
      "2019-12-12 06:14:06.999Z matplotlib.font_manager 10 font_manager.py:1271 findfont: score(<Font 'Umpush' (Umpush-BoldOblique.ttf) oblique normal bold normal>) = 11.335\n"
     ]
    },
    {
     "name": "stderr",
     "output_type": "stream",
     "text": [
      "2019-12-12 06:14:07.000Z matplotlib.font_manager 10 font_manager.py:1271 findfont: score(<Font 'Nakula' (nakula.ttf) normal normal 400 normal>) = 10.05\n",
      "2019-12-12 06:14:07.000Z matplotlib.font_manager 10 font_manager.py:1271 findfont: score(<Font 'Norasi' (Norasi-Oblique.ttf) oblique normal 400 normal>) = 11.05\n",
      "2019-12-12 06:14:07.001Z matplotlib.font_manager 10 font_manager.py:1271 findfont: score(<Font 'Garuda' (Garuda-Bold.ttf) normal normal bold normal>) = 10.335\n",
      "2019-12-12 06:14:07.001Z matplotlib.font_manager 10 font_manager.py:1271 findfont: score(<Font 'Liberation Mono' (LiberationMono-BoldItalic.ttf) italic normal bold normal>) = 11.335\n",
      "2019-12-12 06:14:07.002Z matplotlib.font_manager 10 font_manager.py:1271 findfont: score(<Font 'Padauk Book' (PadaukBook-Bold.ttf) normal normal book normal>) = 10.05\n",
      "2019-12-12 06:14:07.002Z matplotlib.font_manager 10 font_manager.py:1271 findfont: score(<Font 'Tibetan Machine Uni' (TibetanMachineUni.ttf) normal normal 400 normal>) = 10.05\n",
      "2019-12-12 06:14:07.002Z matplotlib.font_manager 10 font_manager.py:1271 findfont: score(<Font 'Garuda' (Garuda.ttf) normal normal 400 normal>) = 10.05\n",
      "2019-12-12 06:14:07.003Z matplotlib.font_manager 10 font_manager.py:1271 findfont: score(<Font 'Vemana2000' (vemana2000.ttf) normal normal 400 normal>) = 10.05\n",
      "2019-12-12 06:14:07.003Z matplotlib.font_manager 10 font_manager.py:1271 findfont: score(<Font 'Tlwg Mono' (TlwgMono-Bold.ttf) normal normal bold normal>) = 10.335\n",
      "2019-12-12 06:14:07.004Z matplotlib.font_manager 10 font_manager.py:1271 findfont: score(<Font 'Uroob' (Uroob.ttf) normal normal 700 normal>) = 10.335\n",
      "2019-12-12 06:14:07.004Z matplotlib.font_manager 10 font_manager.py:1271 findfont: score(<Font 'Loma' (Loma-BoldOblique.ttf) oblique normal bold normal>) = 11.335\n",
      "2019-12-12 06:14:07.005Z matplotlib.font_manager 10 font_manager.py:1271 findfont: score(<Font 'FreeSerif' (FreeSerifItalic.ttf) italic normal 400 normal>) = 11.05\n",
      "2019-12-12 06:14:07.005Z matplotlib.font_manager 10 font_manager.py:1271 findfont: score(<Font 'KacstTitle' (KacstTitle.ttf) normal normal 400 normal>) = 10.05\n",
      "2019-12-12 06:14:07.005Z matplotlib.font_manager 10 font_manager.py:1271 findfont: score(<Font 'Loma' (Loma.ttf) normal normal 400 normal>) = 10.05\n",
      "2019-12-12 06:14:07.006Z matplotlib.font_manager 10 font_manager.py:1271 findfont: score(<Font 'Dyuthi' (Dyuthi.ttf) normal normal 400 normal>) = 10.05\n",
      "2019-12-12 06:14:07.006Z matplotlib.font_manager 10 font_manager.py:1271 findfont: score(<Font 'Loma' (Loma-Bold.ttf) normal normal bold normal>) = 10.335\n",
      "2019-12-12 06:14:07.007Z matplotlib.font_manager 10 font_manager.py:1271 findfont: score(<Font 'KacstFarsi' (KacstFarsi.ttf) normal normal 400 normal>) = 10.05\n",
      "2019-12-12 06:14:07.007Z matplotlib.font_manager 10 font_manager.py:1271 findfont: score(<Font 'FreeSans' (FreeSansBoldOblique.ttf) oblique normal bold normal>) = 11.335\n",
      "2019-12-12 06:14:07.007Z matplotlib.font_manager 10 font_manager.py:1271 findfont: score(<Font 'Liberation Serif' (LiberationSerif-Italic.ttf) italic normal 400 normal>) = 11.05\n",
      "2019-12-12 06:14:07.008Z matplotlib.font_manager 10 font_manager.py:1271 findfont: score(<Font 'Lohit Kannada' (Lohit-Kannada.ttf) normal normal 400 normal>) = 10.05\n",
      "2019-12-12 06:14:07.008Z matplotlib.font_manager 10 font_manager.py:1271 findfont: score(<Font 'Tlwg Typo' (TlwgTypo.ttf) normal normal 400 normal>) = 10.05\n",
      "2019-12-12 06:14:07.009Z matplotlib.font_manager 10 font_manager.py:1271 findfont: score(<Font 'KacstOffice' (KacstOffice.ttf) normal normal 400 normal>) = 10.05\n",
      "2019-12-12 06:14:07.009Z matplotlib.font_manager 10 font_manager.py:1271 findfont: score(<Font 'KacstArt' (KacstArt.ttf) normal normal 400 normal>) = 10.05\n",
      "2019-12-12 06:14:07.010Z matplotlib.font_manager 10 font_manager.py:1271 findfont: score(<Font 'aakar' (aakar-medium.ttf) normal normal 400 normal>) = 10.05\n",
      "2019-12-12 06:14:07.010Z matplotlib.font_manager 10 font_manager.py:1271 findfont: score(<Font 'Liberation Serif' (LiberationSerif-Bold.ttf) normal normal bold normal>) = 10.335\n",
      "2019-12-12 06:14:07.010Z matplotlib.font_manager 10 font_manager.py:1271 findfont: score(<Font 'Jamrul' (JamrulNormal.ttf) normal normal 400 normal>) = 10.05\n",
      "2019-12-12 06:14:07.011Z matplotlib.font_manager 10 font_manager.py:1271 findfont: score(<Font 'Padauk' (Padauk-Bold.ttf) normal normal bold normal>) = 10.335\n",
      "2019-12-12 06:14:07.011Z matplotlib.font_manager 10 font_manager.py:1271 findfont: score(<Font 'Norasi' (Norasi-BoldOblique.ttf) oblique normal bold normal>) = 11.335\n",
      "2019-12-12 06:14:07.012Z matplotlib.font_manager 10 font_manager.py:1271 findfont: score(<Font 'Suruma' (Suruma.ttf) normal normal 400 normal>) = 10.05\n",
      "2019-12-12 06:14:07.012Z matplotlib.font_manager 10 font_manager.py:1271 findfont: score(<Font 'Sarai' (Sarai.ttf) normal normal 400 normal>) = 10.05\n",
      "2019-12-12 06:14:07.012Z matplotlib.font_manager 10 font_manager.py:1271 findfont: score(<Font 'Gubbi' (Gubbi.ttf) normal normal 400 normal>) = 10.05\n",
      "2019-12-12 06:14:07.013Z matplotlib.font_manager 10 font_manager.py:1271 findfont: score(<Font 'Garuda' (Garuda-BoldOblique.ttf) oblique normal bold normal>) = 11.335\n",
      "2019-12-12 06:14:07.013Z matplotlib.font_manager 10 font_manager.py:1271 findfont: score(<Font 'mry_KacstQurn' (mry_KacstQurn.ttf) normal normal 400 normal>) = 10.05\n",
      "2019-12-12 06:14:07.014Z matplotlib.font_manager 10 font_manager.py:1271 findfont: score(<Font 'Purisa' (Purisa.ttf) normal normal 400 normal>) = 10.05\n",
      "2019-12-12 06:14:07.014Z matplotlib.font_manager 10 font_manager.py:1271 findfont: score(<Font 'Lohit Tamil' (Lohit-Tamil.ttf) normal normal 400 normal>) = 10.05\n",
      "2019-12-12 06:14:07.015Z matplotlib.font_manager 10 font_manager.py:1271 findfont: score(<Font 'Ubuntu Mono' (UbuntuMono-R.ttf) normal normal 400 normal>) = 10.05\n",
      "2019-12-12 06:14:07.015Z matplotlib.font_manager 10 font_manager.py:1271 findfont: score(<Font 'Noto Sans CJK JP' (NotoSansCJK-Bold.ttc) normal normal bold normal>) = 10.335\n",
      "2019-12-12 06:14:07.015Z matplotlib.font_manager 10 font_manager.py:1271 findfont: score(<Font 'Umpush' (Umpush.ttf) normal normal 400 normal>) = 10.05\n",
      "2019-12-12 06:14:07.016Z matplotlib.font_manager 10 font_manager.py:1271 findfont: score(<Font 'Ubuntu' (Ubuntu-RI.ttf) italic normal 400 normal>) = 11.05\n",
      "2019-12-12 06:14:07.016Z matplotlib.font_manager 10 font_manager.py:1271 findfont: score(<Font 'Saab' (Saab.ttf) normal normal 400 normal>) = 10.05\n",
      "2019-12-12 06:14:07.017Z matplotlib.font_manager 10 font_manager.py:1271 findfont: score(<Font 'Liberation Sans Narrow' (LiberationSansNarrow-Bold.ttf) normal normal bold condensed>) = 10.535\n",
      "2019-12-12 06:14:07.017Z matplotlib.font_manager 10 font_manager.py:1271 findfont: score(<Font 'Tlwg Mono' (TlwgMono.ttf) normal normal 400 normal>) = 10.05\n",
      "2019-12-12 06:14:07.018Z matplotlib.font_manager 10 font_manager.py:1271 findfont: score(<Font 'Liberation Mono' (LiberationMono-Bold.ttf) normal normal bold normal>) = 10.335\n",
      "2019-12-12 06:14:07.018Z matplotlib.font_manager 10 font_manager.py:1271 findfont: score(<Font 'Kalimati' (kalimati.ttf) normal normal 400 normal>) = 10.05\n",
      "2019-12-12 06:14:07.018Z matplotlib.font_manager 10 font_manager.py:1271 findfont: score(<Font 'FreeMono' (FreeMonoBold.ttf) normal normal bold normal>) = 10.335\n",
      "2019-12-12 06:14:07.019Z matplotlib.font_manager 10 font_manager.py:1271 findfont: score(<Font 'padmaa-Bold.1.1' (padmaa-Bold.1.1.ttf) normal normal bold normal>) = 10.335\n",
      "2019-12-12 06:14:07.019Z matplotlib.font_manager 10 font_manager.py:1271 findfont: score(<Font 'Khmer OS System' (KhmerOSsys.ttf) normal normal 400 normal>) = 10.05\n",
      "2019-12-12 06:14:07.020Z matplotlib.font_manager 10 font_manager.py:1271 findfont: score(<Font 'Kinnari' (Kinnari-Oblique.ttf) oblique normal 400 normal>) = 11.05\n",
      "2019-12-12 06:14:07.020Z matplotlib.font_manager 10 font_manager.py:1271 findfont: score(<Font 'Tlwg Mono' (TlwgMono-Oblique.ttf) oblique normal 400 normal>) = 11.05\n",
      "2019-12-12 06:14:07.021Z matplotlib.font_manager 10 font_manager.py:1271 findfont: score(<Font 'Rekha' (Rekha.ttf) normal normal 400 normal>) = 10.05\n",
      "2019-12-12 06:14:07.021Z matplotlib.font_manager 10 font_manager.py:1271 findfont: score(<Font 'Keraleeyam' (Keraleeyam.ttf) normal normal 700 normal>) = 10.335\n"
     ]
    },
    {
     "name": "stderr",
     "output_type": "stream",
     "text": [
      "2019-12-12 06:14:07.021Z matplotlib.font_manager 10 font_manager.py:1271 findfont: score(<Font 'Mitra Mono' (mitra.ttf) normal normal 400 normal>) = 10.05\n",
      "2019-12-12 06:14:07.022Z matplotlib.font_manager 10 font_manager.py:1271 findfont: score(<Font 'padmaa' (padmaa-Medium-0.5.ttf) normal normal normal normal>) = 10.0\n",
      "2019-12-12 06:14:07.022Z matplotlib.font_manager 10 font_manager.py:1271 findfont: score(<Font 'Purisa' (Purisa-Bold.ttf) normal normal bold normal>) = 10.335\n",
      "2019-12-12 06:14:07.023Z matplotlib.font_manager 10 font_manager.py:1271 findfont: score(<Font 'FreeSans' (FreeSans.ttf) normal normal 400 normal>) = 10.05\n",
      "2019-12-12 06:14:07.023Z matplotlib.font_manager 10 font_manager.py:1271 findfont: score(<Font 'KacstPoster' (KacstPoster.ttf) normal normal 400 normal>) = 10.05\n",
      "2019-12-12 06:14:07.024Z matplotlib.font_manager 10 font_manager.py:1271 findfont: score(<Font 'Tlwg Typo' (TlwgTypo-Oblique.ttf) oblique normal 400 normal>) = 11.05\n",
      "2019-12-12 06:14:07.024Z matplotlib.font_manager 10 font_manager.py:1271 findfont: score(<Font 'Tlwg Typewriter' (TlwgTypewriter-BoldOblique.ttf) oblique normal bold normal>) = 11.335\n",
      "2019-12-12 06:14:07.024Z matplotlib.font_manager 10 font_manager.py:1271 findfont: score(<Font 'Laksaman' (Laksaman.ttf) normal normal 400 normal>) = 10.05\n",
      "2019-12-12 06:14:07.025Z matplotlib.font_manager 10 font_manager.py:1271 findfont: score(<Font 'Phetsarath OT' (Phetsarath_OT.ttf) normal normal 400 normal>) = 10.05\n",
      "2019-12-12 06:14:07.025Z matplotlib.font_manager 10 font_manager.py:1271 findfont: score(<Font 'Umpush' (Umpush-LightOblique.ttf) oblique normal light normal>) = 11.24\n",
      "2019-12-12 06:14:07.026Z matplotlib.font_manager 10 font_manager.py:1271 findfont: score(<Font 'Liberation Sans Narrow' (LiberationSansNarrow-BoldItalic.ttf) italic normal bold condensed>) = 11.535\n",
      "2019-12-12 06:14:07.026Z matplotlib.font_manager 10 font_manager.py:1271 findfont: score(<Font 'Norasi' (Norasi.ttf) normal normal 400 normal>) = 10.05\n",
      "2019-12-12 06:14:07.026Z matplotlib.font_manager 10 font_manager.py:1271 findfont: score(<Font 'Chilanka' (Chilanka-Regular.ttf) normal normal regular normal>) = 10.05\n",
      "2019-12-12 06:14:07.027Z matplotlib.font_manager 10 font_manager.py:1271 findfont: score(<Font 'KacstPen' (KacstPen.ttf) normal normal 400 normal>) = 10.05\n",
      "2019-12-12 06:14:07.027Z matplotlib.font_manager 10 font_manager.py:1271 findfont: score(<Font 'Ubuntu Condensed' (Ubuntu-C.ttf) normal normal 400 condensed>) = 10.25\n",
      "2019-12-12 06:14:07.028Z matplotlib.font_manager 10 font_manager.py:1271 findfont: score(<Font 'FreeSans' (FreeSansBold.ttf) normal normal bold normal>) = 10.335\n",
      "2019-12-12 06:14:07.028Z matplotlib.font_manager 10 font_manager.py:1271 findfont: score(<Font 'Lohit Assamese' (Lohit-Assamese.ttf) normal normal 400 normal>) = 10.05\n",
      "2019-12-12 06:14:07.029Z matplotlib.font_manager 10 font_manager.py:1271 findfont: score(<Font 'Norasi' (Norasi-BoldItalic.ttf) italic normal bold normal>) = 11.335\n",
      "2019-12-12 06:14:07.029Z matplotlib.font_manager 10 font_manager.py:1271 findfont: score(<Font 'Navilu' (Navilu.ttf) normal normal 400 normal>) = 10.05\n",
      "2019-12-12 06:14:07.029Z matplotlib.font_manager 10 font_manager.py:1271 findfont: score(<Font 'Ubuntu' (Ubuntu-LI.ttf) italic normal light normal>) = 11.24\n",
      "2019-12-12 06:14:07.030Z matplotlib.font_manager 10 font_manager.py:1271 findfont: score(<Font 'Laksaman' (Laksaman-Bold.ttf) normal normal bold normal>) = 10.335\n",
      "2019-12-12 06:14:07.030Z matplotlib.font_manager 10 font_manager.py:1271 findfont: score(<Font 'Waree' (Waree.ttf) normal normal 400 normal>) = 10.05\n",
      "2019-12-12 06:14:07.031Z matplotlib.font_manager 10 font_manager.py:1271 findfont: score(<Font 'RaghuMalayalam' (RaghuMalayalamSans-Regular.ttf) normal normal regular normal>) = 10.05\n",
      "2019-12-12 06:14:07.031Z matplotlib.font_manager 10 font_manager.py:1271 findfont: score(<Font 'Noto Serif CJK JP' (NotoSerifCJK-Regular.ttc) normal normal 400 normal>) = 10.05\n",
      "2019-12-12 06:14:07.032Z matplotlib.font_manager 10 font_manager.py:1271 findfont: score(<Font 'Tlwg Typo' (TlwgTypo-Bold.ttf) normal normal bold normal>) = 10.335\n",
      "2019-12-12 06:14:07.032Z matplotlib.font_manager 10 font_manager.py:1271 findfont: score(<Font 'Lohit Telugu' (Lohit-Telugu.ttf) normal normal 400 normal>) = 10.05\n",
      "2019-12-12 06:14:07.032Z matplotlib.font_manager 10 font_manager.py:1271 findfont: score(<Font 'Sawasdee' (Sawasdee-Oblique.ttf) oblique normal 400 normal>) = 11.05\n",
      "2019-12-12 06:14:07.033Z matplotlib.font_manager 10 font_manager.py:1271 findfont: score(<Font 'KacstNaskh' (KacstNaskh.ttf) normal normal 400 normal>) = 10.05\n",
      "2019-12-12 06:14:07.033Z matplotlib.font_manager 10 font_manager.py:1271 findfont: score(<Font 'Waree' (Waree-BoldOblique.ttf) oblique normal bold normal>) = 11.335\n",
      "2019-12-12 06:14:07.034Z matplotlib.font_manager 10 font_manager.py:1294 findfont: Matching :family=sans-serif:style=normal:variant=normal:weight=normal:stretch=normal:size=12.0 to DejaVu Sans ('/home/pfs/anaconda3/lib/python3.7/site-packages/matplotlib/mpl-data/fonts/ttf/DejaVuSans.ttf') with score of 0.050000.\n",
      "2019-12-12 06:14:07.040Z matplotlib.font_manager 10 font_manager.py:1259 findfont: Matching :family=sans-serif:style=normal:variant=normal:weight=normal:stretch=normal:size=10.0.\n",
      "2019-12-12 06:14:07.040Z matplotlib.font_manager 10 font_manager.py:1271 findfont: score(<Font 'DejaVu Serif' (DejaVuSerif-BoldItalic.ttf) italic normal bold normal>) = 11.335\n",
      "2019-12-12 06:14:07.041Z matplotlib.font_manager 10 font_manager.py:1271 findfont: score(<Font 'DejaVu Sans' (DejaVuSans.ttf) normal normal 400 normal>) = 0.05\n",
      "2019-12-12 06:14:07.041Z matplotlib.font_manager 10 font_manager.py:1271 findfont: score(<Font 'STIXGeneral' (STIXGeneralBolIta.ttf) italic normal bold normal>) = 11.335\n",
      "2019-12-12 06:14:07.041Z matplotlib.font_manager 10 font_manager.py:1271 findfont: score(<Font 'DejaVu Sans Mono' (DejaVuSansMono.ttf) normal normal 400 normal>) = 10.05\n",
      "2019-12-12 06:14:07.042Z matplotlib.font_manager 10 font_manager.py:1271 findfont: score(<Font 'DejaVu Sans Display' (DejaVuSansDisplay.ttf) normal normal 400 normal>) = 10.05\n",
      "2019-12-12 06:14:07.042Z matplotlib.font_manager 10 font_manager.py:1271 findfont: score(<Font 'STIXGeneral' (STIXGeneral.ttf) normal normal regular normal>) = 10.05\n",
      "2019-12-12 06:14:07.042Z matplotlib.font_manager 10 font_manager.py:1271 findfont: score(<Font 'STIXNonUnicode' (STIXNonUni.ttf) normal normal regular normal>) = 10.05\n",
      "2019-12-12 06:14:07.043Z matplotlib.font_manager 10 font_manager.py:1271 findfont: score(<Font 'STIXNonUnicode' (STIXNonUniBolIta.ttf) italic normal bold normal>) = 11.335\n",
      "2019-12-12 06:14:07.043Z matplotlib.font_manager 10 font_manager.py:1271 findfont: score(<Font 'cmb10' (cmb10.ttf) normal normal 400 normal>) = 10.05\n",
      "2019-12-12 06:14:07.043Z matplotlib.font_manager 10 font_manager.py:1271 findfont: score(<Font 'DejaVu Sans' (DejaVuSans-Bold.ttf) normal normal bold normal>) = 0.33499999999999996\n",
      "2019-12-12 06:14:07.044Z matplotlib.font_manager 10 font_manager.py:1271 findfont: score(<Font 'STIXSizeOneSym' (STIXSizOneSymReg.ttf) normal normal regular normal>) = 10.05\n",
      "2019-12-12 06:14:07.044Z matplotlib.font_manager 10 font_manager.py:1271 findfont: score(<Font 'cmmi10' (cmmi10.ttf) normal normal 400 normal>) = 10.05\n",
      "2019-12-12 06:14:07.044Z matplotlib.font_manager 10 font_manager.py:1271 findfont: score(<Font 'DejaVu Serif' (DejaVuSerif.ttf) normal normal 400 normal>) = 10.05\n",
      "2019-12-12 06:14:07.045Z matplotlib.font_manager 10 font_manager.py:1271 findfont: score(<Font 'DejaVu Sans' (DejaVuSans-Oblique.ttf) oblique normal 400 normal>) = 1.05\n",
      "2019-12-12 06:14:07.045Z matplotlib.font_manager 10 font_manager.py:1271 findfont: score(<Font 'STIXNonUnicode' (STIXNonUniBol.ttf) normal normal bold normal>) = 10.335\n",
      "2019-12-12 06:14:07.045Z matplotlib.font_manager 10 font_manager.py:1271 findfont: score(<Font 'STIXSizeFiveSym' (STIXSizFiveSymReg.ttf) normal normal regular normal>) = 10.05\n",
      "2019-12-12 06:14:07.046Z matplotlib.font_manager 10 font_manager.py:1271 findfont: score(<Font 'STIXSizeFourSym' (STIXSizFourSymBol.ttf) normal normal bold normal>) = 10.335\n",
      "2019-12-12 06:14:07.046Z matplotlib.font_manager 10 font_manager.py:1271 findfont: score(<Font 'STIXSizeThreeSym' (STIXSizThreeSymReg.ttf) normal normal regular normal>) = 10.05\n"
     ]
    },
    {
     "name": "stderr",
     "output_type": "stream",
     "text": [
      "2019-12-12 06:14:07.046Z matplotlib.font_manager 10 font_manager.py:1271 findfont: score(<Font 'cmtt10' (cmtt10.ttf) normal normal 400 normal>) = 10.05\n",
      "2019-12-12 06:14:07.047Z matplotlib.font_manager 10 font_manager.py:1271 findfont: score(<Font 'STIXSizeThreeSym' (STIXSizThreeSymBol.ttf) normal normal bold normal>) = 10.335\n",
      "2019-12-12 06:14:07.047Z matplotlib.font_manager 10 font_manager.py:1271 findfont: score(<Font 'STIXGeneral' (STIXGeneralBol.ttf) normal normal bold normal>) = 10.335\n",
      "2019-12-12 06:14:07.049Z matplotlib.font_manager 10 font_manager.py:1271 findfont: score(<Font 'DejaVu Sans' (DejaVuSans-BoldOblique.ttf) oblique normal bold normal>) = 1.335\n",
      "2019-12-12 06:14:07.049Z matplotlib.font_manager 10 font_manager.py:1271 findfont: score(<Font 'cmr10' (cmr10.ttf) normal normal 400 normal>) = 10.05\n",
      "2019-12-12 06:14:07.050Z matplotlib.font_manager 10 font_manager.py:1271 findfont: score(<Font 'cmss10' (cmss10.ttf) normal normal 400 normal>) = 10.05\n",
      "2019-12-12 06:14:07.050Z matplotlib.font_manager 10 font_manager.py:1271 findfont: score(<Font 'cmsy10' (cmsy10.ttf) normal normal 400 normal>) = 10.05\n",
      "2019-12-12 06:14:07.051Z matplotlib.font_manager 10 font_manager.py:1271 findfont: score(<Font 'STIXSizeFourSym' (STIXSizFourSymReg.ttf) normal normal regular normal>) = 10.05\n",
      "2019-12-12 06:14:07.051Z matplotlib.font_manager 10 font_manager.py:1271 findfont: score(<Font 'cmex10' (cmex10.ttf) normal normal 400 normal>) = 10.05\n",
      "2019-12-12 06:14:07.051Z matplotlib.font_manager 10 font_manager.py:1271 findfont: score(<Font 'STIXNonUnicode' (STIXNonUniIta.ttf) italic normal 400 normal>) = 11.05\n",
      "2019-12-12 06:14:07.052Z matplotlib.font_manager 10 font_manager.py:1271 findfont: score(<Font 'DejaVu Sans Mono' (DejaVuSansMono-BoldOblique.ttf) oblique normal bold normal>) = 11.335\n",
      "2019-12-12 06:14:07.052Z matplotlib.font_manager 10 font_manager.py:1271 findfont: score(<Font 'DejaVu Serif' (DejaVuSerif-Bold.ttf) normal normal bold normal>) = 10.335\n",
      "2019-12-12 06:14:07.053Z matplotlib.font_manager 10 font_manager.py:1271 findfont: score(<Font 'STIXSizeTwoSym' (STIXSizTwoSymReg.ttf) normal normal regular normal>) = 10.05\n",
      "2019-12-12 06:14:07.053Z matplotlib.font_manager 10 font_manager.py:1271 findfont: score(<Font 'STIXSizeTwoSym' (STIXSizTwoSymBol.ttf) normal normal bold normal>) = 10.335\n",
      "2019-12-12 06:14:07.054Z matplotlib.font_manager 10 font_manager.py:1271 findfont: score(<Font 'DejaVu Serif' (DejaVuSerif-Italic.ttf) italic normal 400 normal>) = 11.05\n",
      "2019-12-12 06:14:07.054Z matplotlib.font_manager 10 font_manager.py:1271 findfont: score(<Font 'DejaVu Sans Mono' (DejaVuSansMono-Bold.ttf) normal normal bold normal>) = 10.335\n",
      "2019-12-12 06:14:07.055Z matplotlib.font_manager 10 font_manager.py:1271 findfont: score(<Font 'STIXGeneral' (STIXGeneralItalic.ttf) italic normal 400 normal>) = 11.05\n",
      "2019-12-12 06:14:07.055Z matplotlib.font_manager 10 font_manager.py:1271 findfont: score(<Font 'STIXSizeOneSym' (STIXSizOneSymBol.ttf) normal normal bold normal>) = 10.335\n",
      "2019-12-12 06:14:07.055Z matplotlib.font_manager 10 font_manager.py:1271 findfont: score(<Font 'DejaVu Sans Mono' (DejaVuSansMono-Oblique.ttf) oblique normal 400 normal>) = 11.05\n",
      "2019-12-12 06:14:07.056Z matplotlib.font_manager 10 font_manager.py:1271 findfont: score(<Font 'DejaVu Serif Display' (DejaVuSerifDisplay.ttf) normal normal 400 normal>) = 10.05\n",
      "2019-12-12 06:14:07.056Z matplotlib.font_manager 10 font_manager.py:1271 findfont: score(<Font 'Liberation Serif' (LiberationSerif-Regular.ttf) normal normal 400 normal>) = 10.05\n",
      "2019-12-12 06:14:07.057Z matplotlib.font_manager 10 font_manager.py:1271 findfont: score(<Font 'Kalapi' (Kalapi.ttf) normal normal 400 normal>) = 10.05\n",
      "2019-12-12 06:14:07.057Z matplotlib.font_manager 10 font_manager.py:1271 findfont: score(<Font 'Kinnari' (Kinnari-BoldOblique.ttf) oblique normal bold normal>) = 11.335\n",
      "2019-12-12 06:14:07.057Z matplotlib.font_manager 10 font_manager.py:1271 findfont: score(<Font 'Umpush' (Umpush-Oblique.ttf) oblique normal 400 normal>) = 11.05\n",
      "2019-12-12 06:14:07.058Z matplotlib.font_manager 10 font_manager.py:1271 findfont: score(<Font 'Sawasdee' (Sawasdee-BoldOblique.ttf) oblique normal bold normal>) = 11.335\n",
      "2019-12-12 06:14:07.058Z matplotlib.font_manager 10 font_manager.py:1271 findfont: score(<Font 'Liberation Sans' (LiberationSans-Bold.ttf) normal normal bold normal>) = 10.335\n",
      "2019-12-12 06:14:07.059Z matplotlib.font_manager 10 font_manager.py:1271 findfont: score(<Font 'FreeMono' (FreeMono.ttf) normal normal 400 normal>) = 10.05\n",
      "2019-12-12 06:14:07.059Z matplotlib.font_manager 10 font_manager.py:1271 findfont: score(<Font 'Liberation Sans' (LiberationSans-BoldItalic.ttf) italic normal bold normal>) = 11.335\n",
      "2019-12-12 06:14:07.059Z matplotlib.font_manager 10 font_manager.py:1271 findfont: score(<Font 'Liberation Sans Narrow' (LiberationSansNarrow-Italic.ttf) italic normal 400 condensed>) = 11.25\n",
      "2019-12-12 06:14:07.060Z matplotlib.font_manager 10 font_manager.py:1271 findfont: score(<Font 'Lohit Devanagari' (Lohit-Devanagari.ttf) normal normal 400 normal>) = 10.05\n",
      "2019-12-12 06:14:07.060Z matplotlib.font_manager 10 font_manager.py:1271 findfont: score(<Font 'Padauk' (Padauk-Regular.ttf) normal normal 400 normal>) = 10.05\n",
      "2019-12-12 06:14:07.061Z matplotlib.font_manager 10 font_manager.py:1271 findfont: score(<Font 'Tlwg Mono' (TlwgMono-BoldOblique.ttf) oblique normal bold normal>) = 11.335\n",
      "2019-12-12 06:14:07.061Z matplotlib.font_manager 10 font_manager.py:1271 findfont: score(<Font 'Tlwg Typist' (TlwgTypist.ttf) normal normal 400 normal>) = 10.05\n",
      "2019-12-12 06:14:07.062Z matplotlib.font_manager 10 font_manager.py:1271 findfont: score(<Font 'Purisa' (Purisa-BoldOblique.ttf) oblique normal bold normal>) = 11.335\n",
      "2019-12-12 06:14:07.062Z matplotlib.font_manager 10 font_manager.py:1271 findfont: score(<Font 'Noto Sans CJK JP' (NotoSansCJK-Regular.ttc) normal normal 400 normal>) = 10.05\n",
      "2019-12-12 06:14:07.062Z matplotlib.font_manager 10 font_manager.py:1271 findfont: score(<Font 'Liberation Serif' (LiberationSerif-BoldItalic.ttf) italic normal bold normal>) = 11.335\n",
      "2019-12-12 06:14:07.063Z matplotlib.font_manager 10 font_manager.py:1271 findfont: score(<Font 'Ubuntu Mono' (UbuntuMono-RI.ttf) italic normal 400 normal>) = 11.05\n",
      "2019-12-12 06:14:07.063Z matplotlib.font_manager 10 font_manager.py:1271 findfont: score(<Font 'FreeSans' (FreeSansOblique.ttf) oblique normal 400 normal>) = 11.05\n",
      "2019-12-12 06:14:07.064Z matplotlib.font_manager 10 font_manager.py:1271 findfont: score(<Font 'Ubuntu' (Ubuntu-R.ttf) normal normal 400 normal>) = 10.05\n",
      "2019-12-12 06:14:07.064Z matplotlib.font_manager 10 font_manager.py:1271 findfont: score(<Font 'Mukti Narrow' (MuktiNarrow.ttf) normal normal 400 normal>) = 10.05\n",
      "2019-12-12 06:14:07.064Z matplotlib.font_manager 10 font_manager.py:1271 findfont: score(<Font 'ori1Uni' (utkal.ttf) normal normal medium normal>) = 10.145\n",
      "2019-12-12 06:14:07.065Z matplotlib.font_manager 10 font_manager.py:1271 findfont: score(<Font 'Samyak Devanagari' (Samyak-Devanagari.ttf) normal normal 400 normal>) = 10.05\n",
      "2019-12-12 06:14:07.065Z matplotlib.font_manager 10 font_manager.py:1271 findfont: score(<Font 'KacstDecorative' (KacstDecorative.ttf) normal normal 400 normal>) = 10.05\n",
      "2019-12-12 06:14:07.066Z matplotlib.font_manager 10 font_manager.py:1271 findfont: score(<Font 'Samyak Tamil' (Samyak-Tamil.ttf) normal normal 400 normal>) = 10.05\n",
      "2019-12-12 06:14:07.066Z matplotlib.font_manager 10 font_manager.py:1271 findfont: score(<Font 'Liberation Sans' (LiberationSans-Italic.ttf) italic normal 400 normal>) = 11.05\n",
      "2019-12-12 06:14:07.067Z matplotlib.font_manager 10 font_manager.py:1271 findfont: score(<Font 'Liberation Mono' (LiberationMono-Regular.ttf) normal normal 400 normal>) = 10.05\n",
      "2019-12-12 06:14:07.067Z matplotlib.font_manager 10 font_manager.py:1271 findfont: score(<Font 'Kinnari' (Kinnari-Italic.ttf) italic normal 400 normal>) = 11.05\n",
      "2019-12-12 06:14:07.067Z matplotlib.font_manager 10 font_manager.py:1271 findfont: score(<Font 'Mukti Narrow' (MuktiNarrowBold.ttf) normal normal 700 normal>) = 10.335\n",
      "2019-12-12 06:14:07.068Z matplotlib.font_manager 10 font_manager.py:1271 findfont: score(<Font 'Meera' (Meera.ttf) normal normal 400 normal>) = 10.05\n"
     ]
    },
    {
     "name": "stderr",
     "output_type": "stream",
     "text": [
      "2019-12-12 06:14:07.068Z matplotlib.font_manager 10 font_manager.py:1271 findfont: score(<Font 'Ubuntu' (Ubuntu-MI.ttf) italic normal medium normal>) = 11.145\n",
      "2019-12-12 06:14:07.069Z matplotlib.font_manager 10 font_manager.py:1271 findfont: score(<Font 'FreeSerif' (FreeSerifBold.ttf) normal normal bold normal>) = 10.335\n",
      "2019-12-12 06:14:07.069Z matplotlib.font_manager 10 font_manager.py:1271 findfont: score(<Font 'Liberation Sans Narrow' (LiberationSansNarrow-Regular.ttf) normal normal 400 condensed>) = 10.25\n",
      "2019-12-12 06:14:07.069Z matplotlib.font_manager 10 font_manager.py:1271 findfont: score(<Font 'Lohit Gujarati' (Lohit-Gujarati.ttf) normal normal 400 normal>) = 10.05\n",
      "2019-12-12 06:14:07.070Z matplotlib.font_manager 10 font_manager.py:1271 findfont: score(<Font 'OpenSymbol' (opens___.ttf) normal normal 400 normal>) = 10.05\n",
      "2019-12-12 06:14:07.070Z matplotlib.font_manager 10 font_manager.py:1271 findfont: score(<Font 'Lohit Gurmukhi' (Lohit-Gurmukhi.ttf) normal normal 400 normal>) = 10.05\n",
      "2019-12-12 06:14:07.071Z matplotlib.font_manager 10 font_manager.py:1271 findfont: score(<Font 'Noto Serif CJK JP' (NotoSerifCJK-Bold.ttc) normal normal bold normal>) = 10.335\n",
      "2019-12-12 06:14:07.071Z matplotlib.font_manager 10 font_manager.py:1271 findfont: score(<Font 'Manjari' (Manjari-Bold.otf) normal normal bold normal>) = 10.335\n",
      "2019-12-12 06:14:07.072Z matplotlib.font_manager 10 font_manager.py:1271 findfont: score(<Font 'Ubuntu' (Ubuntu-BI.ttf) italic normal bold normal>) = 11.335\n",
      "2019-12-12 06:14:07.072Z matplotlib.font_manager 10 font_manager.py:1271 findfont: score(<Font 'Manjari' (Manjari-Regular.otf) normal normal regular normal>) = 10.05\n",
      "2019-12-12 06:14:07.072Z matplotlib.font_manager 10 font_manager.py:1271 findfont: score(<Font 'KacstTitleL' (KacstTitleL.ttf) normal normal 400 normal>) = 10.05\n",
      "2019-12-12 06:14:07.073Z matplotlib.font_manager 10 font_manager.py:1271 findfont: score(<Font 'Ubuntu' (Ubuntu-B.ttf) normal normal bold normal>) = 10.335\n",
      "2019-12-12 06:14:07.073Z matplotlib.font_manager 10 font_manager.py:1271 findfont: score(<Font 'Rachana' (Rachana-Bold.ttf) normal normal bold normal>) = 10.335\n",
      "2019-12-12 06:14:07.074Z matplotlib.font_manager 10 font_manager.py:1271 findfont: score(<Font 'Padauk Book' (PadaukBook-Regular.ttf) normal normal book normal>) = 10.05\n",
      "2019-12-12 06:14:07.074Z matplotlib.font_manager 10 font_manager.py:1271 findfont: score(<Font 'Tlwg Typist' (TlwgTypist-Bold.ttf) normal normal bold normal>) = 10.335\n",
      "2019-12-12 06:14:07.075Z matplotlib.font_manager 10 font_manager.py:1271 findfont: score(<Font 'Ubuntu' (Ubuntu-L.ttf) normal normal light normal>) = 10.24\n",
      "2019-12-12 06:14:07.075Z matplotlib.font_manager 10 font_manager.py:1271 findfont: score(<Font 'Samanata' (samanata.ttf) normal normal 400 normal>) = 10.05\n",
      "2019-12-12 06:14:07.075Z matplotlib.font_manager 10 font_manager.py:1271 findfont: score(<Font 'KacstOne' (KacstOne.ttf) normal normal 400 normal>) = 10.05\n",
      "2019-12-12 06:14:07.076Z matplotlib.font_manager 10 font_manager.py:1271 findfont: score(<Font 'KacstLetter' (KacstLetter.ttf) normal normal 400 normal>) = 10.05\n",
      "2019-12-12 06:14:07.076Z matplotlib.font_manager 10 font_manager.py:1271 findfont: score(<Font 'Tlwg Typist' (TlwgTypist-Oblique.ttf) oblique normal 400 normal>) = 11.05\n",
      "2019-12-12 06:14:07.077Z matplotlib.font_manager 10 font_manager.py:1271 findfont: score(<Font 'Sawasdee' (Sawasdee.ttf) normal normal 400 normal>) = 10.05\n",
      "2019-12-12 06:14:07.077Z matplotlib.font_manager 10 font_manager.py:1271 findfont: score(<Font 'Rachana' (Rachana-Regular.ttf) normal normal regular normal>) = 10.05\n",
      "2019-12-12 06:14:07.077Z matplotlib.font_manager 10 font_manager.py:1271 findfont: score(<Font 'KacstOne' (KacstOne-Bold.ttf) normal normal bold normal>) = 10.335\n",
      "2019-12-12 06:14:07.078Z matplotlib.font_manager 10 font_manager.py:1271 findfont: score(<Font 'Tlwg Typo' (TlwgTypo-BoldOblique.ttf) oblique normal bold normal>) = 11.335\n",
      "2019-12-12 06:14:07.078Z matplotlib.font_manager 10 font_manager.py:1271 findfont: score(<Font 'padmaa' (padmaa.ttf) normal normal 400 normal>) = 10.05\n",
      "2019-12-12 06:14:07.079Z matplotlib.font_manager 10 font_manager.py:1271 findfont: score(<Font 'Kinnari' (Kinnari-BoldItalic.ttf) italic normal bold normal>) = 11.335\n",
      "2019-12-12 06:14:07.079Z matplotlib.font_manager 10 font_manager.py:1271 findfont: score(<Font 'KacstBook' (KacstBook.ttf) normal normal book normal>) = 10.05\n",
      "2019-12-12 06:14:07.079Z matplotlib.font_manager 10 font_manager.py:1271 findfont: score(<Font 'Tlwg Typist' (TlwgTypist-BoldOblique.ttf) oblique normal bold normal>) = 11.335\n",
      "2019-12-12 06:14:07.080Z matplotlib.font_manager 10 font_manager.py:1271 findfont: score(<Font 'Noto Mono' (NotoMono-Regular.ttf) normal normal 400 normal>) = 10.05\n",
      "2019-12-12 06:14:07.080Z matplotlib.font_manager 10 font_manager.py:1271 findfont: score(<Font 'Waree' (Waree-Oblique.ttf) oblique normal 400 normal>) = 11.05\n",
      "2019-12-12 06:14:07.081Z matplotlib.font_manager 10 font_manager.py:1271 findfont: score(<Font 'KacstQurn' (KacstQurn.ttf) normal normal 400 normal>) = 10.05\n",
      "2019-12-12 06:14:07.081Z matplotlib.font_manager 10 font_manager.py:1271 findfont: score(<Font 'Samyak Malayalam' (Samyak-Malayalam.ttf) normal normal 400 normal>) = 10.05\n",
      "2019-12-12 06:14:07.082Z matplotlib.font_manager 10 font_manager.py:1271 findfont: score(<Font 'Ubuntu' (Ubuntu-M.ttf) normal normal medium normal>) = 10.145\n",
      "2019-12-12 06:14:07.082Z matplotlib.font_manager 10 font_manager.py:1271 findfont: score(<Font 'Loma' (Loma-Oblique.ttf) oblique normal 400 normal>) = 11.05\n",
      "2019-12-12 06:14:07.083Z matplotlib.font_manager 10 font_manager.py:1271 findfont: score(<Font 'Umpush' (Umpush-Bold.ttf) normal normal bold normal>) = 10.335\n",
      "2019-12-12 06:14:07.083Z matplotlib.font_manager 10 font_manager.py:1271 findfont: score(<Font 'KacstDigital' (KacstDigital.ttf) normal normal 400 normal>) = 10.05\n",
      "2019-12-12 06:14:07.083Z matplotlib.font_manager 10 font_manager.py:1271 findfont: score(<Font 'AnjaliOldLipi' (AnjaliOldLipi.ttf) normal normal 400 normal>) = 10.05\n",
      "2019-12-12 06:14:07.084Z matplotlib.font_manager 10 font_manager.py:1271 findfont: score(<Font 'Pothana2000' (Pothana2000.ttf) normal normal 400 normal>) = 10.05\n",
      "2019-12-12 06:14:07.084Z matplotlib.font_manager 10 font_manager.py:1271 findfont: score(<Font 'Purisa' (Purisa-Oblique.ttf) oblique normal 400 normal>) = 11.05\n",
      "2019-12-12 06:14:07.085Z matplotlib.font_manager 10 font_manager.py:1271 findfont: score(<Font 'Likhan' (LikhanNormal.ttf) normal normal 400 normal>) = 10.05\n",
      "2019-12-12 06:14:07.085Z matplotlib.font_manager 10 font_manager.py:1271 findfont: score(<Font 'Kinnari' (Kinnari.ttf) normal normal 400 normal>) = 10.05\n",
      "2019-12-12 06:14:07.085Z matplotlib.font_manager 10 font_manager.py:1271 findfont: score(<Font 'Samyak Gujarati' (Samyak-Gujarati.ttf) normal normal 400 normal>) = 10.05\n",
      "2019-12-12 06:14:07.086Z matplotlib.font_manager 10 font_manager.py:1271 findfont: score(<Font 'Waree' (Waree-Bold.ttf) normal normal bold normal>) = 10.335\n",
      "2019-12-12 06:14:07.086Z matplotlib.font_manager 10 font_manager.py:1271 findfont: score(<Font 'Tlwg Typewriter' (TlwgTypewriter.ttf) normal normal 400 normal>) = 10.05\n",
      "2019-12-12 06:14:07.086Z matplotlib.font_manager 10 font_manager.py:1271 findfont: score(<Font 'Kinnari' (Kinnari-Bold.ttf) normal normal bold normal>) = 10.335\n",
      "2019-12-12 06:14:07.087Z matplotlib.font_manager 10 font_manager.py:1271 findfont: score(<Font 'FreeMono' (FreeMonoOblique.ttf) oblique normal 400 normal>) = 11.05\n",
      "2019-12-12 06:14:07.087Z matplotlib.font_manager 10 font_manager.py:1271 findfont: score(<Font 'Liberation Mono' (LiberationMono-Italic.ttf) italic normal 400 normal>) = 11.05\n",
      "2019-12-12 06:14:07.088Z matplotlib.font_manager 10 font_manager.py:1271 findfont: score(<Font 'Laksaman' (Laksaman-BoldItalic.ttf) italic normal bold normal>) = 11.335\n",
      "2019-12-12 06:14:07.088Z matplotlib.font_manager 10 font_manager.py:1271 findfont: score(<Font 'Pagul' (Pagul.ttf) normal normal 400 normal>) = 10.05\n",
      "2019-12-12 06:14:07.089Z matplotlib.font_manager 10 font_manager.py:1271 findfont: score(<Font 'LKLUG' (lklug.ttf) normal normal 400 normal>) = 10.05\n",
      "2019-12-12 06:14:07.089Z matplotlib.font_manager 10 font_manager.py:1271 findfont: score(<Font 'Karumbi' (Karumbi.ttf) normal normal 400 normal>) = 10.05\n"
     ]
    },
    {
     "name": "stderr",
     "output_type": "stream",
     "text": [
      "2019-12-12 06:14:07.089Z matplotlib.font_manager 10 font_manager.py:1271 findfont: score(<Font 'Ubuntu Mono' (UbuntuMono-B.ttf) normal normal bold normal>) = 10.335\n",
      "2019-12-12 06:14:07.090Z matplotlib.font_manager 10 font_manager.py:1271 findfont: score(<Font 'Liberation Sans' (LiberationSans-Regular.ttf) normal normal 400 normal>) = 10.05\n",
      "2019-12-12 06:14:07.090Z matplotlib.font_manager 10 font_manager.py:1271 findfont: score(<Font 'Norasi' (Norasi-Bold.ttf) normal normal bold normal>) = 10.335\n",
      "2019-12-12 06:14:07.090Z matplotlib.font_manager 10 font_manager.py:1271 findfont: score(<Font 'KacstScreen' (KacstScreen.ttf) normal normal 400 normal>) = 10.05\n",
      "2019-12-12 06:14:07.091Z matplotlib.font_manager 10 font_manager.py:1271 findfont: score(<Font 'Tlwg Typewriter' (TlwgTypewriter-Oblique.ttf) oblique normal 400 normal>) = 11.05\n",
      "2019-12-12 06:14:07.091Z matplotlib.font_manager 10 font_manager.py:1271 findfont: score(<Font 'Laksaman' (Laksaman-Italic.ttf) italic normal 400 normal>) = 11.05\n",
      "2019-12-12 06:14:07.091Z matplotlib.font_manager 10 font_manager.py:1271 findfont: score(<Font 'Chandas' (chandas1-2.ttf) normal normal 400 normal>) = 10.05\n",
      "2019-12-12 06:14:07.092Z matplotlib.font_manager 10 font_manager.py:1271 findfont: score(<Font 'Lohit Bengali' (Lohit-Bengali.ttf) normal normal 400 normal>) = 10.05\n",
      "2019-12-12 06:14:07.092Z matplotlib.font_manager 10 font_manager.py:1271 findfont: score(<Font 'FreeSerif' (FreeSerif.ttf) normal normal 400 normal>) = 10.05\n",
      "2019-12-12 06:14:07.093Z matplotlib.font_manager 10 font_manager.py:1271 findfont: score(<Font 'Manjari' (Manjari-Thin.otf) normal normal 400 normal>) = 10.05\n",
      "2019-12-12 06:14:07.094Z matplotlib.font_manager 10 font_manager.py:1271 findfont: score(<Font 'Lohit Odia' (Lohit-Odia.ttf) normal normal 400 normal>) = 10.05\n",
      "2019-12-12 06:14:07.094Z matplotlib.font_manager 10 font_manager.py:1271 findfont: score(<Font 'Garuda' (Garuda-Oblique.ttf) oblique normal 400 normal>) = 11.05\n",
      "2019-12-12 06:14:07.095Z matplotlib.font_manager 10 font_manager.py:1271 findfont: score(<Font 'FreeMono' (FreeMonoBoldOblique.ttf) oblique normal bold normal>) = 11.335\n",
      "2019-12-12 06:14:07.095Z matplotlib.font_manager 10 font_manager.py:1271 findfont: score(<Font 'Abyssinica SIL' (AbyssinicaSIL-R.ttf) normal normal 400 normal>) = 10.05\n",
      "2019-12-12 06:14:07.095Z matplotlib.font_manager 10 font_manager.py:1271 findfont: score(<Font 'Norasi' (Norasi-Italic.ttf) italic normal 400 normal>) = 11.05\n",
      "2019-12-12 06:14:07.096Z matplotlib.font_manager 10 font_manager.py:1271 findfont: score(<Font 'FreeSerif' (FreeSerifBoldItalic.ttf) italic normal bold normal>) = 11.335\n",
      "2019-12-12 06:14:07.096Z matplotlib.font_manager 10 font_manager.py:1271 findfont: score(<Font 'Sawasdee' (Sawasdee-Bold.ttf) normal normal bold normal>) = 10.335\n",
      "2019-12-12 06:14:07.096Z matplotlib.font_manager 10 font_manager.py:1271 findfont: score(<Font 'Gargi' (Gargi.ttf) normal normal 400 normal>) = 10.05\n",
      "2019-12-12 06:14:07.097Z matplotlib.font_manager 10 font_manager.py:1271 findfont: score(<Font 'Ubuntu Mono' (UbuntuMono-BI.ttf) italic normal bold normal>) = 11.335\n",
      "2019-12-12 06:14:07.097Z matplotlib.font_manager 10 font_manager.py:1271 findfont: score(<Font 'Droid Sans Fallback' (DroidSansFallbackFull.ttf) normal normal 400 normal>) = 10.05\n",
      "2019-12-12 06:14:07.098Z matplotlib.font_manager 10 font_manager.py:1271 findfont: score(<Font 'Umpush' (Umpush-Light.ttf) normal normal light normal>) = 10.24\n",
      "2019-12-12 06:14:07.098Z matplotlib.font_manager 10 font_manager.py:1271 findfont: score(<Font 'Ani' (ani.ttf) normal normal 400 normal>) = 10.05\n",
      "2019-12-12 06:14:07.099Z matplotlib.font_manager 10 font_manager.py:1271 findfont: score(<Font 'Lohit Tamil Classical' (Lohit-Tamil-Classical.ttf) normal normal 400 normal>) = 10.05\n",
      "2019-12-12 06:14:07.099Z matplotlib.font_manager 10 font_manager.py:1271 findfont: score(<Font 'Khmer OS' (KhmerOS.ttf) normal normal 400 normal>) = 10.05\n",
      "2019-12-12 06:14:07.099Z matplotlib.font_manager 10 font_manager.py:1271 findfont: score(<Font 'Lohit Malayalam' (Lohit-Malayalam.ttf) normal normal 400 normal>) = 10.05\n",
      "2019-12-12 06:14:07.100Z matplotlib.font_manager 10 font_manager.py:1271 findfont: score(<Font 'Sahadeva' (sahadeva.ttf) normal normal 400 normal>) = 10.05\n",
      "2019-12-12 06:14:07.100Z matplotlib.font_manager 10 font_manager.py:1271 findfont: score(<Font 'Tlwg Typewriter' (TlwgTypewriter-Bold.ttf) normal normal bold normal>) = 10.335\n",
      "2019-12-12 06:14:07.101Z matplotlib.font_manager 10 font_manager.py:1271 findfont: score(<Font 'Umpush' (Umpush-BoldOblique.ttf) oblique normal bold normal>) = 11.335\n",
      "2019-12-12 06:14:07.101Z matplotlib.font_manager 10 font_manager.py:1271 findfont: score(<Font 'Nakula' (nakula.ttf) normal normal 400 normal>) = 10.05\n",
      "2019-12-12 06:14:07.102Z matplotlib.font_manager 10 font_manager.py:1271 findfont: score(<Font 'Norasi' (Norasi-Oblique.ttf) oblique normal 400 normal>) = 11.05\n",
      "2019-12-12 06:14:07.102Z matplotlib.font_manager 10 font_manager.py:1271 findfont: score(<Font 'Garuda' (Garuda-Bold.ttf) normal normal bold normal>) = 10.335\n",
      "2019-12-12 06:14:07.102Z matplotlib.font_manager 10 font_manager.py:1271 findfont: score(<Font 'Liberation Mono' (LiberationMono-BoldItalic.ttf) italic normal bold normal>) = 11.335\n",
      "2019-12-12 06:14:07.103Z matplotlib.font_manager 10 font_manager.py:1271 findfont: score(<Font 'Padauk Book' (PadaukBook-Bold.ttf) normal normal book normal>) = 10.05\n",
      "2019-12-12 06:14:07.103Z matplotlib.font_manager 10 font_manager.py:1271 findfont: score(<Font 'Tibetan Machine Uni' (TibetanMachineUni.ttf) normal normal 400 normal>) = 10.05\n",
      "2019-12-12 06:14:07.104Z matplotlib.font_manager 10 font_manager.py:1271 findfont: score(<Font 'Garuda' (Garuda.ttf) normal normal 400 normal>) = 10.05\n",
      "2019-12-12 06:14:07.104Z matplotlib.font_manager 10 font_manager.py:1271 findfont: score(<Font 'Vemana2000' (vemana2000.ttf) normal normal 400 normal>) = 10.05\n",
      "2019-12-12 06:14:07.104Z matplotlib.font_manager 10 font_manager.py:1271 findfont: score(<Font 'Tlwg Mono' (TlwgMono-Bold.ttf) normal normal bold normal>) = 10.335\n",
      "2019-12-12 06:14:07.105Z matplotlib.font_manager 10 font_manager.py:1271 findfont: score(<Font 'Uroob' (Uroob.ttf) normal normal 700 normal>) = 10.335\n",
      "2019-12-12 06:14:07.105Z matplotlib.font_manager 10 font_manager.py:1271 findfont: score(<Font 'Loma' (Loma-BoldOblique.ttf) oblique normal bold normal>) = 11.335\n",
      "2019-12-12 06:14:07.105Z matplotlib.font_manager 10 font_manager.py:1271 findfont: score(<Font 'FreeSerif' (FreeSerifItalic.ttf) italic normal 400 normal>) = 11.05\n",
      "2019-12-12 06:14:07.106Z matplotlib.font_manager 10 font_manager.py:1271 findfont: score(<Font 'KacstTitle' (KacstTitle.ttf) normal normal 400 normal>) = 10.05\n",
      "2019-12-12 06:14:07.106Z matplotlib.font_manager 10 font_manager.py:1271 findfont: score(<Font 'Loma' (Loma.ttf) normal normal 400 normal>) = 10.05\n",
      "2019-12-12 06:14:07.107Z matplotlib.font_manager 10 font_manager.py:1271 findfont: score(<Font 'Dyuthi' (Dyuthi.ttf) normal normal 400 normal>) = 10.05\n",
      "2019-12-12 06:14:07.107Z matplotlib.font_manager 10 font_manager.py:1271 findfont: score(<Font 'Loma' (Loma-Bold.ttf) normal normal bold normal>) = 10.335\n",
      "2019-12-12 06:14:07.108Z matplotlib.font_manager 10 font_manager.py:1271 findfont: score(<Font 'KacstFarsi' (KacstFarsi.ttf) normal normal 400 normal>) = 10.05\n",
      "2019-12-12 06:14:07.108Z matplotlib.font_manager 10 font_manager.py:1271 findfont: score(<Font 'FreeSans' (FreeSansBoldOblique.ttf) oblique normal bold normal>) = 11.335\n",
      "2019-12-12 06:14:07.109Z matplotlib.font_manager 10 font_manager.py:1271 findfont: score(<Font 'Liberation Serif' (LiberationSerif-Italic.ttf) italic normal 400 normal>) = 11.05\n",
      "2019-12-12 06:14:07.109Z matplotlib.font_manager 10 font_manager.py:1271 findfont: score(<Font 'Lohit Kannada' (Lohit-Kannada.ttf) normal normal 400 normal>) = 10.05\n",
      "2019-12-12 06:14:07.109Z matplotlib.font_manager 10 font_manager.py:1271 findfont: score(<Font 'Tlwg Typo' (TlwgTypo.ttf) normal normal 400 normal>) = 10.05\n",
      "2019-12-12 06:14:07.110Z matplotlib.font_manager 10 font_manager.py:1271 findfont: score(<Font 'KacstOffice' (KacstOffice.ttf) normal normal 400 normal>) = 10.05\n",
      "2019-12-12 06:14:07.110Z matplotlib.font_manager 10 font_manager.py:1271 findfont: score(<Font 'KacstArt' (KacstArt.ttf) normal normal 400 normal>) = 10.05\n"
     ]
    },
    {
     "name": "stderr",
     "output_type": "stream",
     "text": [
      "2019-12-12 06:14:07.110Z matplotlib.font_manager 10 font_manager.py:1271 findfont: score(<Font 'aakar' (aakar-medium.ttf) normal normal 400 normal>) = 10.05\n",
      "2019-12-12 06:14:07.111Z matplotlib.font_manager 10 font_manager.py:1271 findfont: score(<Font 'Liberation Serif' (LiberationSerif-Bold.ttf) normal normal bold normal>) = 10.335\n",
      "2019-12-12 06:14:07.111Z matplotlib.font_manager 10 font_manager.py:1271 findfont: score(<Font 'Jamrul' (JamrulNormal.ttf) normal normal 400 normal>) = 10.05\n",
      "2019-12-12 06:14:07.112Z matplotlib.font_manager 10 font_manager.py:1271 findfont: score(<Font 'Padauk' (Padauk-Bold.ttf) normal normal bold normal>) = 10.335\n",
      "2019-12-12 06:14:07.112Z matplotlib.font_manager 10 font_manager.py:1271 findfont: score(<Font 'Norasi' (Norasi-BoldOblique.ttf) oblique normal bold normal>) = 11.335\n",
      "2019-12-12 06:14:07.113Z matplotlib.font_manager 10 font_manager.py:1271 findfont: score(<Font 'Suruma' (Suruma.ttf) normal normal 400 normal>) = 10.05\n",
      "2019-12-12 06:14:07.113Z matplotlib.font_manager 10 font_manager.py:1271 findfont: score(<Font 'Sarai' (Sarai.ttf) normal normal 400 normal>) = 10.05\n",
      "2019-12-12 06:14:07.113Z matplotlib.font_manager 10 font_manager.py:1271 findfont: score(<Font 'Gubbi' (Gubbi.ttf) normal normal 400 normal>) = 10.05\n",
      "2019-12-12 06:14:07.114Z matplotlib.font_manager 10 font_manager.py:1271 findfont: score(<Font 'Garuda' (Garuda-BoldOblique.ttf) oblique normal bold normal>) = 11.335\n",
      "2019-12-12 06:14:07.114Z matplotlib.font_manager 10 font_manager.py:1271 findfont: score(<Font 'mry_KacstQurn' (mry_KacstQurn.ttf) normal normal 400 normal>) = 10.05\n",
      "2019-12-12 06:14:07.115Z matplotlib.font_manager 10 font_manager.py:1271 findfont: score(<Font 'Purisa' (Purisa.ttf) normal normal 400 normal>) = 10.05\n",
      "2019-12-12 06:14:07.115Z matplotlib.font_manager 10 font_manager.py:1271 findfont: score(<Font 'Lohit Tamil' (Lohit-Tamil.ttf) normal normal 400 normal>) = 10.05\n",
      "2019-12-12 06:14:07.116Z matplotlib.font_manager 10 font_manager.py:1271 findfont: score(<Font 'Ubuntu Mono' (UbuntuMono-R.ttf) normal normal 400 normal>) = 10.05\n",
      "2019-12-12 06:14:07.116Z matplotlib.font_manager 10 font_manager.py:1271 findfont: score(<Font 'Noto Sans CJK JP' (NotoSansCJK-Bold.ttc) normal normal bold normal>) = 10.335\n",
      "2019-12-12 06:14:07.117Z matplotlib.font_manager 10 font_manager.py:1271 findfont: score(<Font 'Umpush' (Umpush.ttf) normal normal 400 normal>) = 10.05\n",
      "2019-12-12 06:14:07.117Z matplotlib.font_manager 10 font_manager.py:1271 findfont: score(<Font 'Ubuntu' (Ubuntu-RI.ttf) italic normal 400 normal>) = 11.05\n",
      "2019-12-12 06:14:07.117Z matplotlib.font_manager 10 font_manager.py:1271 findfont: score(<Font 'Saab' (Saab.ttf) normal normal 400 normal>) = 10.05\n",
      "2019-12-12 06:14:07.118Z matplotlib.font_manager 10 font_manager.py:1271 findfont: score(<Font 'Liberation Sans Narrow' (LiberationSansNarrow-Bold.ttf) normal normal bold condensed>) = 10.535\n",
      "2019-12-12 06:14:07.118Z matplotlib.font_manager 10 font_manager.py:1271 findfont: score(<Font 'Tlwg Mono' (TlwgMono.ttf) normal normal 400 normal>) = 10.05\n",
      "2019-12-12 06:14:07.119Z matplotlib.font_manager 10 font_manager.py:1271 findfont: score(<Font 'Liberation Mono' (LiberationMono-Bold.ttf) normal normal bold normal>) = 10.335\n",
      "2019-12-12 06:14:07.119Z matplotlib.font_manager 10 font_manager.py:1271 findfont: score(<Font 'Kalimati' (kalimati.ttf) normal normal 400 normal>) = 10.05\n",
      "2019-12-12 06:14:07.120Z matplotlib.font_manager 10 font_manager.py:1271 findfont: score(<Font 'FreeMono' (FreeMonoBold.ttf) normal normal bold normal>) = 10.335\n",
      "2019-12-12 06:14:07.120Z matplotlib.font_manager 10 font_manager.py:1271 findfont: score(<Font 'padmaa-Bold.1.1' (padmaa-Bold.1.1.ttf) normal normal bold normal>) = 10.335\n",
      "2019-12-12 06:14:07.120Z matplotlib.font_manager 10 font_manager.py:1271 findfont: score(<Font 'Khmer OS System' (KhmerOSsys.ttf) normal normal 400 normal>) = 10.05\n",
      "2019-12-12 06:14:07.121Z matplotlib.font_manager 10 font_manager.py:1271 findfont: score(<Font 'Kinnari' (Kinnari-Oblique.ttf) oblique normal 400 normal>) = 11.05\n",
      "2019-12-12 06:14:07.121Z matplotlib.font_manager 10 font_manager.py:1271 findfont: score(<Font 'Tlwg Mono' (TlwgMono-Oblique.ttf) oblique normal 400 normal>) = 11.05\n",
      "2019-12-12 06:14:07.121Z matplotlib.font_manager 10 font_manager.py:1271 findfont: score(<Font 'Rekha' (Rekha.ttf) normal normal 400 normal>) = 10.05\n",
      "2019-12-12 06:14:07.122Z matplotlib.font_manager 10 font_manager.py:1271 findfont: score(<Font 'Keraleeyam' (Keraleeyam.ttf) normal normal 700 normal>) = 10.335\n",
      "2019-12-12 06:14:07.122Z matplotlib.font_manager 10 font_manager.py:1271 findfont: score(<Font 'Mitra Mono' (mitra.ttf) normal normal 400 normal>) = 10.05\n",
      "2019-12-12 06:14:07.123Z matplotlib.font_manager 10 font_manager.py:1271 findfont: score(<Font 'padmaa' (padmaa-Medium-0.5.ttf) normal normal normal normal>) = 10.0\n",
      "2019-12-12 06:14:07.123Z matplotlib.font_manager 10 font_manager.py:1271 findfont: score(<Font 'Purisa' (Purisa-Bold.ttf) normal normal bold normal>) = 10.335\n",
      "2019-12-12 06:14:07.124Z matplotlib.font_manager 10 font_manager.py:1271 findfont: score(<Font 'FreeSans' (FreeSans.ttf) normal normal 400 normal>) = 10.05\n",
      "2019-12-12 06:14:07.124Z matplotlib.font_manager 10 font_manager.py:1271 findfont: score(<Font 'KacstPoster' (KacstPoster.ttf) normal normal 400 normal>) = 10.05\n",
      "2019-12-12 06:14:07.124Z matplotlib.font_manager 10 font_manager.py:1271 findfont: score(<Font 'Tlwg Typo' (TlwgTypo-Oblique.ttf) oblique normal 400 normal>) = 11.05\n",
      "2019-12-12 06:14:07.125Z matplotlib.font_manager 10 font_manager.py:1271 findfont: score(<Font 'Tlwg Typewriter' (TlwgTypewriter-BoldOblique.ttf) oblique normal bold normal>) = 11.335\n",
      "2019-12-12 06:14:07.125Z matplotlib.font_manager 10 font_manager.py:1271 findfont: score(<Font 'Laksaman' (Laksaman.ttf) normal normal 400 normal>) = 10.05\n",
      "2019-12-12 06:14:07.126Z matplotlib.font_manager 10 font_manager.py:1271 findfont: score(<Font 'Phetsarath OT' (Phetsarath_OT.ttf) normal normal 400 normal>) = 10.05\n",
      "2019-12-12 06:14:07.126Z matplotlib.font_manager 10 font_manager.py:1271 findfont: score(<Font 'Umpush' (Umpush-LightOblique.ttf) oblique normal light normal>) = 11.24\n",
      "2019-12-12 06:14:07.127Z matplotlib.font_manager 10 font_manager.py:1271 findfont: score(<Font 'Liberation Sans Narrow' (LiberationSansNarrow-BoldItalic.ttf) italic normal bold condensed>) = 11.535\n",
      "2019-12-12 06:14:07.127Z matplotlib.font_manager 10 font_manager.py:1271 findfont: score(<Font 'Norasi' (Norasi.ttf) normal normal 400 normal>) = 10.05\n",
      "2019-12-12 06:14:07.127Z matplotlib.font_manager 10 font_manager.py:1271 findfont: score(<Font 'Chilanka' (Chilanka-Regular.ttf) normal normal regular normal>) = 10.05\n",
      "2019-12-12 06:14:07.128Z matplotlib.font_manager 10 font_manager.py:1271 findfont: score(<Font 'KacstPen' (KacstPen.ttf) normal normal 400 normal>) = 10.05\n",
      "2019-12-12 06:14:07.128Z matplotlib.font_manager 10 font_manager.py:1271 findfont: score(<Font 'Ubuntu Condensed' (Ubuntu-C.ttf) normal normal 400 condensed>) = 10.25\n",
      "2019-12-12 06:14:07.128Z matplotlib.font_manager 10 font_manager.py:1271 findfont: score(<Font 'FreeSans' (FreeSansBold.ttf) normal normal bold normal>) = 10.335\n",
      "2019-12-12 06:14:07.129Z matplotlib.font_manager 10 font_manager.py:1271 findfont: score(<Font 'Lohit Assamese' (Lohit-Assamese.ttf) normal normal 400 normal>) = 10.05\n",
      "2019-12-12 06:14:07.129Z matplotlib.font_manager 10 font_manager.py:1271 findfont: score(<Font 'Norasi' (Norasi-BoldItalic.ttf) italic normal bold normal>) = 11.335\n",
      "2019-12-12 06:14:07.130Z matplotlib.font_manager 10 font_manager.py:1271 findfont: score(<Font 'Navilu' (Navilu.ttf) normal normal 400 normal>) = 10.05\n",
      "2019-12-12 06:14:07.130Z matplotlib.font_manager 10 font_manager.py:1271 findfont: score(<Font 'Ubuntu' (Ubuntu-LI.ttf) italic normal light normal>) = 11.24\n",
      "2019-12-12 06:14:07.131Z matplotlib.font_manager 10 font_manager.py:1271 findfont: score(<Font 'Laksaman' (Laksaman-Bold.ttf) normal normal bold normal>) = 10.335\n",
      "2019-12-12 06:14:07.131Z matplotlib.font_manager 10 font_manager.py:1271 findfont: score(<Font 'Waree' (Waree.ttf) normal normal 400 normal>) = 10.05\n",
      "2019-12-12 06:14:07.131Z matplotlib.font_manager 10 font_manager.py:1271 findfont: score(<Font 'RaghuMalayalam' (RaghuMalayalamSans-Regular.ttf) normal normal regular normal>) = 10.05\n"
     ]
    },
    {
     "name": "stderr",
     "output_type": "stream",
     "text": [
      "2019-12-12 06:14:07.132Z matplotlib.font_manager 10 font_manager.py:1271 findfont: score(<Font 'Noto Serif CJK JP' (NotoSerifCJK-Regular.ttc) normal normal 400 normal>) = 10.05\n",
      "2019-12-12 06:14:07.132Z matplotlib.font_manager 10 font_manager.py:1271 findfont: score(<Font 'Tlwg Typo' (TlwgTypo-Bold.ttf) normal normal bold normal>) = 10.335\n",
      "2019-12-12 06:14:07.133Z matplotlib.font_manager 10 font_manager.py:1271 findfont: score(<Font 'Lohit Telugu' (Lohit-Telugu.ttf) normal normal 400 normal>) = 10.05\n",
      "2019-12-12 06:14:07.133Z matplotlib.font_manager 10 font_manager.py:1271 findfont: score(<Font 'Sawasdee' (Sawasdee-Oblique.ttf) oblique normal 400 normal>) = 11.05\n",
      "2019-12-12 06:14:07.133Z matplotlib.font_manager 10 font_manager.py:1271 findfont: score(<Font 'KacstNaskh' (KacstNaskh.ttf) normal normal 400 normal>) = 10.05\n",
      "2019-12-12 06:14:07.134Z matplotlib.font_manager 10 font_manager.py:1271 findfont: score(<Font 'Waree' (Waree-BoldOblique.ttf) oblique normal bold normal>) = 11.335\n",
      "2019-12-12 06:14:07.134Z matplotlib.font_manager 10 font_manager.py:1294 findfont: Matching :family=sans-serif:style=normal:variant=normal:weight=normal:stretch=normal:size=10.0 to DejaVu Sans ('/home/pfs/anaconda3/lib/python3.7/site-packages/matplotlib/mpl-data/fonts/ttf/DejaVuSans.ttf') with score of 0.050000.\n"
     ]
    },
    {
     "name": "stdout",
     "output_type": "stream",
     "text": [
      "convert /data/MCS/20191212_062/output/FiberSpeed.png /data/MCS/20191212_062/output/AngleMove*_[0-9].png                 /data/MCS/20191212_062/output/AngleMove*_[0-9]?.png /data/MCS/20191212_062/output/AngleMove.pdf\n",
      "['/data/MCS/20191212_060/', '/data/MCS/20191212_062/']\n"
     ]
    },
    {
     "name": "stderr",
     "output_type": "stream",
     "text": [
      "/home/pfs/mhs/devel/ics_cobraCharmer/procedures/moduleTest/ontimeOptimize.py:353: RuntimeWarning: divide by zero encountered in true_divide\n",
      "  newOntimeFwd = (fwd_target - self.fwd_int)/self.fwd_slope\n",
      "/home/pfs/mhs/devel/ics_cobraCharmer/procedures/moduleTest/ontimeOptimize.py:354: RuntimeWarning: divide by zero encountered in true_divide\n",
      "  newOntimeRev = (rev_target - self.rev_int)/self.rev_slope\n",
      "2019-12-12 06:14:14.391Z root             20 pfiDesign.py:740 wrote pfiDesign file for 57 cobras and name=None to /data/MCS/temp.xml\n",
      "2019-12-12 06:14:14.392Z ontimeOptimize   20 ontimeOptimize.py:685 Updating XML = /data/MCS/temp.xml\n",
      "2019-12-12 06:14:19.455Z ontimeOptimize   20 ontimeOptimize.py:609 Output XML = /data/MCS/temp.xml\n",
      "2019-12-12 06:14:19.459Z butler           30 butler.py:58 newRun: /data/MCS/20191212_063\n",
      "2019-12-12 06:14:19.464Z fpgaIO           20 pfi.py:57 FPGA connection to 128.149.77.24\n",
      "/home/pfs/mhs/devel/ics_cobraCharmer/python/ics/cobraCharmer/pfiDesign.py:54: UserWarning: please use PFIDesign.loadModule() or PFIDesign.loadPFI()\n",
      "  warnings.warn('please use PFIDesign.loadModule() or PFIDesign.loadPFI()')\n",
      "2019-12-12 06:14:19.515Z pfi              20 pfi.py:73 load cobra model from /data/MCS/temp.xml\n"
     ]
    },
    {
     "name": "stdout",
     "output_type": "stream",
     "text": [
      "Camera close!\n"
     ]
    },
    {
     "name": "stderr",
     "output_type": "stream",
     "text": [
      "2019-12-12 06:14:20.205Z camera           20 asrdCam.py:17 asrd...\n",
      "2019-12-12 06:14:20.241Z butler           30 butler.py:58 newRun: /data/MCS/20191212_064\n",
      "2019-12-12 06:14:20.243Z fpgaIO           20 pfi.py:57 FPGA connection to 128.149.77.24\n",
      "2019-12-12 06:14:20.272Z pfi              20 pfi.py:73 load cobra model from /data/MCS/temp.xml\n",
      "2019-12-12 06:14:20.308Z camera           20 asrdCam.py:17 asrd...\n",
      "2019-12-12 06:14:20.339Z moduleTest       20 moduleTest.py:943 phi home -6000 steps\n"
     ]
    },
    {
     "name": "stdout",
     "output_type": "stream",
     "text": [
      "Camera close!\n",
      "IS_COLORMODE_MONOCHROME: \n",
      "\tm_nColorMode: \t\t 34\n",
      "\tnBitsPerPixel: \t\t 10\n",
      "\tbytes_per_pixel: \t\t 2\n",
      "\n",
      "Camera model:\t\t UI318xCP-M\n",
      "Camera serial no.:\t 4103536358\n",
      "Maximum image self.width:\t 2592\n",
      "Maximum image self.height:\t 2048\n",
      "\n",
      "200\n",
      "IS_COLORMODE_MONOCHROME: \n",
      "\tm_nColorMode: \t\t 34\n",
      "\tnBitsPerPixel: \t\t 10\n",
      "\tbytes_per_pixel: \t\t 2\n",
      "\n",
      "Camera model:\t\t UI318xCP-M\n",
      "Camera serial no.:\t 4103541788\n",
      "Maximum image self.width:\t 2592\n",
      "Maximum image self.height:\t 2048\n",
      "\n",
      "200\n",
      "getting image\n",
      "(2048, 2592, 2)\n",
      "getting image\n",
      "(2048, 2592, 2)\n",
      "getting image\n",
      "(2048, 2592, 2)\n",
      "getting image\n",
      "(2048, 2592, 2)\n"
     ]
    },
    {
     "name": "stderr",
     "output_type": "stream",
     "text": [
      "2019-12-12 06:14:47.148Z moduleTest       20 moduleTest.py:954 1/3 phi forward to 250\n"
     ]
    },
    {
     "name": "stdout",
     "output_type": "stream",
     "text": [
      "getting image\n",
      "(2048, 2592, 2)\n",
      "getting image\n",
      "(2048, 2592, 2)\n",
      "getting image\n",
      "(2048, 2592, 2)\n",
      "getting image\n",
      "(2048, 2592, 2)\n"
     ]
    },
    {
     "name": "stderr",
     "output_type": "stream",
     "text": [
      "2019-12-12 06:14:49.950Z moduleTest       20 moduleTest.py:954 1/3 phi forward to 500\n"
     ]
    },
    {
     "name": "stdout",
     "output_type": "stream",
     "text": [
      "getting image\n",
      "(2048, 2592, 2)\n",
      "getting image\n",
      "(2048, 2592, 2)\n",
      "getting image\n",
      "(2048, 2592, 2)\n",
      "getting image\n",
      "(2048, 2592, 2)\n"
     ]
    },
    {
     "name": "stderr",
     "output_type": "stream",
     "text": [
      "2019-12-12 06:14:52.718Z moduleTest       20 moduleTest.py:954 1/3 phi forward to 750\n"
     ]
    },
    {
     "name": "stdout",
     "output_type": "stream",
     "text": [
      "getting image\n",
      "(2048, 2592, 2)\n",
      "getting image\n",
      "(2048, 2592, 2)\n",
      "getting image\n",
      "(2048, 2592, 2)\n",
      "getting image\n",
      "(2048, 2592, 2)\n"
     ]
    },
    {
     "name": "stderr",
     "output_type": "stream",
     "text": [
      "2019-12-12 06:14:55.504Z moduleTest       20 moduleTest.py:954 1/3 phi forward to 1000\n"
     ]
    },
    {
     "name": "stdout",
     "output_type": "stream",
     "text": [
      "getting image\n",
      "(2048, 2592, 2)\n",
      "getting image\n",
      "(2048, 2592, 2)\n",
      "getting image\n",
      "(2048, 2592, 2)\n",
      "getting image\n",
      "(2048, 2592, 2)\n"
     ]
    },
    {
     "name": "stderr",
     "output_type": "stream",
     "text": [
      "2019-12-12 06:14:58.253Z moduleTest       20 moduleTest.py:954 1/3 phi forward to 1250\n"
     ]
    },
    {
     "name": "stdout",
     "output_type": "stream",
     "text": [
      "getting image\n",
      "(2048, 2592, 2)\n",
      "getting image\n",
      "(2048, 2592, 2)\n",
      "getting image\n",
      "(2048, 2592, 2)\n",
      "getting image\n",
      "(2048, 2592, 2)\n"
     ]
    },
    {
     "name": "stderr",
     "output_type": "stream",
     "text": [
      "2019-12-12 06:15:01.052Z moduleTest       20 moduleTest.py:954 1/3 phi forward to 1500\n"
     ]
    },
    {
     "name": "stdout",
     "output_type": "stream",
     "text": [
      "getting image\n",
      "(2048, 2592, 2)\n",
      "getting image\n",
      "(2048, 2592, 2)\n",
      "getting image\n",
      "(2048, 2592, 2)\n",
      "getting image\n",
      "(2048, 2592, 2)\n"
     ]
    },
    {
     "name": "stderr",
     "output_type": "stream",
     "text": [
      "2019-12-12 06:15:03.770Z moduleTest       20 moduleTest.py:954 1/3 phi forward to 1750\n"
     ]
    },
    {
     "name": "stdout",
     "output_type": "stream",
     "text": [
      "getting image\n",
      "(2048, 2592, 2)\n",
      "getting image\n",
      "(2048, 2592, 2)\n",
      "getting image\n",
      "(2048, 2592, 2)\n",
      "getting image\n",
      "(2048, 2592, 2)\n"
     ]
    },
    {
     "name": "stderr",
     "output_type": "stream",
     "text": [
      "2019-12-12 06:15:06.809Z moduleTest       20 moduleTest.py:954 1/3 phi forward to 2000\n"
     ]
    },
    {
     "name": "stdout",
     "output_type": "stream",
     "text": [
      "getting image\n",
      "(2048, 2592, 2)\n",
      "getting image\n",
      "(2048, 2592, 2)\n",
      "getting image\n",
      "(2048, 2592, 2)\n",
      "getting image\n",
      "(2048, 2592, 2)\n"
     ]
    },
    {
     "name": "stderr",
     "output_type": "stream",
     "text": [
      "2019-12-12 06:15:09.689Z moduleTest       20 moduleTest.py:954 1/3 phi forward to 2250\n"
     ]
    },
    {
     "name": "stdout",
     "output_type": "stream",
     "text": [
      "getting image\n",
      "(2048, 2592, 2)\n",
      "getting image\n",
      "(2048, 2592, 2)\n",
      "getting image\n",
      "(2048, 2592, 2)\n",
      "getting image\n",
      "(2048, 2592, 2)\n"
     ]
    },
    {
     "name": "stderr",
     "output_type": "stream",
     "text": [
      "2019-12-12 06:15:12.480Z moduleTest       20 moduleTest.py:954 1/3 phi forward to 2500\n"
     ]
    },
    {
     "name": "stdout",
     "output_type": "stream",
     "text": [
      "getting image\n",
      "(2048, 2592, 2)\n",
      "getting image\n",
      "(2048, 2592, 2)\n",
      "getting image\n",
      "(2048, 2592, 2)\n",
      "getting image\n",
      "(2048, 2592, 2)\n"
     ]
    },
    {
     "name": "stderr",
     "output_type": "stream",
     "text": [
      "2019-12-12 06:15:15.248Z moduleTest       20 moduleTest.py:954 1/3 phi forward to 2750\n"
     ]
    },
    {
     "name": "stdout",
     "output_type": "stream",
     "text": [
      "getting image\n",
      "(2048, 2592, 2)\n",
      "getting image\n",
      "(2048, 2592, 2)\n",
      "getting image\n",
      "(2048, 2592, 2)\n",
      "getting image\n",
      "(2048, 2592, 2)\n"
     ]
    },
    {
     "name": "stderr",
     "output_type": "stream",
     "text": [
      "2019-12-12 06:15:17.845Z moduleTest       20 moduleTest.py:954 1/3 phi forward to 3000\n"
     ]
    },
    {
     "name": "stdout",
     "output_type": "stream",
     "text": [
      "getting image\n",
      "(2048, 2592, 2)\n",
      "getting image\n",
      "(2048, 2592, 2)\n",
      "getting image\n",
      "(2048, 2592, 2)\n",
      "getting image\n",
      "(2048, 2592, 2)\n"
     ]
    },
    {
     "name": "stderr",
     "output_type": "stream",
     "text": [
      "2019-12-12 06:15:20.591Z moduleTest       20 moduleTest.py:954 1/3 phi forward to 3250\n"
     ]
    },
    {
     "name": "stdout",
     "output_type": "stream",
     "text": [
      "getting image\n",
      "(2048, 2592, 2)\n",
      "getting image\n",
      "(2048, 2592, 2)\n",
      "getting image\n",
      "(2048, 2592, 2)\n",
      "getting image\n",
      "(2048, 2592, 2)\n"
     ]
    },
    {
     "name": "stderr",
     "output_type": "stream",
     "text": [
      "2019-12-12 06:15:23.597Z moduleTest       20 moduleTest.py:954 1/3 phi forward to 3500\n"
     ]
    },
    {
     "name": "stdout",
     "output_type": "stream",
     "text": [
      "getting image\n",
      "(2048, 2592, 2)\n",
      "getting image\n",
      "(2048, 2592, 2)\n",
      "getting image\n",
      "(2048, 2592, 2)\n",
      "getting image\n",
      "(2048, 2592, 2)\n"
     ]
    },
    {
     "name": "stderr",
     "output_type": "stream",
     "text": [
      "2019-12-12 06:15:26.374Z moduleTest       20 moduleTest.py:954 1/3 phi forward to 3750\n"
     ]
    },
    {
     "name": "stdout",
     "output_type": "stream",
     "text": [
      "getting image\n",
      "(2048, 2592, 2)\n",
      "getting image\n",
      "(2048, 2592, 2)\n",
      "getting image\n",
      "(2048, 2592, 2)\n",
      "getting image\n",
      "(2048, 2592, 2)\n"
     ]
    },
    {
     "name": "stderr",
     "output_type": "stream",
     "text": [
      "2019-12-12 06:15:29.183Z moduleTest       20 moduleTest.py:954 1/3 phi forward to 4000\n"
     ]
    },
    {
     "name": "stdout",
     "output_type": "stream",
     "text": [
      "getting image\n",
      "(2048, 2592, 2)\n",
      "getting image\n",
      "(2048, 2592, 2)\n",
      "getting image\n",
      "(2048, 2592, 2)\n",
      "getting image\n",
      "(2048, 2592, 2)\n"
     ]
    },
    {
     "name": "stderr",
     "output_type": "stream",
     "text": [
      "2019-12-12 06:15:31.831Z moduleTest       20 moduleTest.py:954 1/3 phi forward to 4250\n"
     ]
    },
    {
     "name": "stdout",
     "output_type": "stream",
     "text": [
      "getting image\n",
      "(2048, 2592, 2)\n",
      "getting image\n",
      "(2048, 2592, 2)\n",
      "getting image\n",
      "(2048, 2592, 2)\n",
      "getting image\n",
      "(2048, 2592, 2)\n"
     ]
    },
    {
     "name": "stderr",
     "output_type": "stream",
     "text": [
      "2019-12-12 06:15:34.516Z moduleTest       20 moduleTest.py:954 1/3 phi forward to 4500\n"
     ]
    },
    {
     "name": "stdout",
     "output_type": "stream",
     "text": [
      "getting image\n",
      "(2048, 2592, 2)\n",
      "getting image\n",
      "(2048, 2592, 2)\n",
      "getting image\n",
      "(2048, 2592, 2)\n",
      "getting image\n",
      "(2048, 2592, 2)\n"
     ]
    },
    {
     "name": "stderr",
     "output_type": "stream",
     "text": [
      "2019-12-12 06:15:37.162Z moduleTest       20 moduleTest.py:954 1/3 phi forward to 4750\n"
     ]
    },
    {
     "name": "stdout",
     "output_type": "stream",
     "text": [
      "getting image\n",
      "(2048, 2592, 2)\n",
      "getting image\n",
      "(2048, 2592, 2)\n",
      "getting image\n",
      "(2048, 2592, 2)\n",
      "getting image\n",
      "(2048, 2592, 2)\n"
     ]
    },
    {
     "name": "stderr",
     "output_type": "stream",
     "text": [
      "2019-12-12 06:15:39.819Z moduleTest       20 moduleTest.py:954 1/3 phi forward to 5000\n"
     ]
    },
    {
     "name": "stdout",
     "output_type": "stream",
     "text": [
      "getting image\n",
      "(2048, 2592, 2)\n",
      "getting image\n",
      "(2048, 2592, 2)\n",
      "getting image\n",
      "(2048, 2592, 2)\n",
      "getting image\n",
      "(2048, 2592, 2)\n"
     ]
    },
    {
     "name": "stderr",
     "output_type": "stream",
     "text": [
      "2019-12-12 06:15:42.655Z moduleTest       20 moduleTest.py:954 1/3 phi forward to 5250\n"
     ]
    },
    {
     "name": "stdout",
     "output_type": "stream",
     "text": [
      "getting image\n",
      "(2048, 2592, 2)\n",
      "getting image\n",
      "(2048, 2592, 2)\n",
      "getting image\n",
      "(2048, 2592, 2)\n",
      "getting image\n",
      "(2048, 2592, 2)\n"
     ]
    },
    {
     "name": "stderr",
     "output_type": "stream",
     "text": [
      "2019-12-12 06:15:45.353Z moduleTest       20 moduleTest.py:954 1/3 phi forward to 5500\n"
     ]
    },
    {
     "name": "stdout",
     "output_type": "stream",
     "text": [
      "getting image\n",
      "(2048, 2592, 2)\n",
      "getting image\n",
      "(2048, 2592, 2)\n",
      "getting image\n",
      "(2048, 2592, 2)\n",
      "getting image\n",
      "(2048, 2592, 2)\n"
     ]
    },
    {
     "name": "stderr",
     "output_type": "stream",
     "text": [
      "2019-12-12 06:15:47.974Z moduleTest       20 moduleTest.py:954 1/3 phi forward to 5750\n"
     ]
    },
    {
     "name": "stdout",
     "output_type": "stream",
     "text": [
      "getting image\n",
      "(2048, 2592, 2)\n",
      "getting image\n",
      "(2048, 2592, 2)\n",
      "getting image\n",
      "(2048, 2592, 2)\n",
      "getting image\n",
      "(2048, 2592, 2)\n"
     ]
    },
    {
     "name": "stderr",
     "output_type": "stream",
     "text": [
      "2019-12-12 06:15:50.640Z moduleTest       20 moduleTest.py:954 1/3 phi forward to 6000\n"
     ]
    },
    {
     "name": "stdout",
     "output_type": "stream",
     "text": [
      "getting image\n",
      "(2048, 2592, 2)\n",
      "getting image\n",
      "(2048, 2592, 2)\n",
      "getting image\n",
      "(2048, 2592, 2)\n",
      "getting image\n",
      "(2048, 2592, 2)\n"
     ]
    },
    {
     "name": "stderr",
     "output_type": "stream",
     "text": [
      "2019-12-12 06:15:53.311Z moduleTest       20 moduleTest.py:981 1/3 phi forward 6000 to limit\n"
     ]
    },
    {
     "name": "stdout",
     "output_type": "stream",
     "text": [
      "getting image\n",
      "(2048, 2592, 2)\n",
      "getting image\n",
      "(2048, 2592, 2)\n",
      "getting image\n",
      "(2048, 2592, 2)\n",
      "getting image\n",
      "(2048, 2592, 2)\n"
     ]
    },
    {
     "name": "stderr",
     "output_type": "stream",
     "text": [
      "2019-12-12 06:16:09.956Z moduleTest       20 moduleTest.py:991 1/3 phi backward to 250\n"
     ]
    },
    {
     "name": "stdout",
     "output_type": "stream",
     "text": [
      "getting image\n",
      "(2048, 2592, 2)\n",
      "getting image\n",
      "(2048, 2592, 2)\n",
      "getting image\n",
      "(2048, 2592, 2)\n",
      "getting image\n",
      "(2048, 2592, 2)\n"
     ]
    },
    {
     "name": "stderr",
     "output_type": "stream",
     "text": [
      "2019-12-12 06:16:12.676Z moduleTest       20 moduleTest.py:991 1/3 phi backward to 500\n"
     ]
    },
    {
     "name": "stdout",
     "output_type": "stream",
     "text": [
      "getting image\n",
      "(2048, 2592, 2)\n",
      "getting image\n",
      "(2048, 2592, 2)\n",
      "getting image\n",
      "(2048, 2592, 2)\n",
      "getting image\n",
      "(2048, 2592, 2)\n"
     ]
    },
    {
     "name": "stderr",
     "output_type": "stream",
     "text": [
      "2019-12-12 06:16:15.308Z moduleTest       20 moduleTest.py:991 1/3 phi backward to 750\n"
     ]
    },
    {
     "name": "stdout",
     "output_type": "stream",
     "text": [
      "getting image\n",
      "(2048, 2592, 2)\n",
      "getting image\n",
      "(2048, 2592, 2)\n",
      "getting image\n",
      "(2048, 2592, 2)\n",
      "getting image\n",
      "(2048, 2592, 2)\n"
     ]
    },
    {
     "name": "stderr",
     "output_type": "stream",
     "text": [
      "2019-12-12 06:16:17.987Z moduleTest       20 moduleTest.py:991 1/3 phi backward to 1000\n"
     ]
    },
    {
     "name": "stdout",
     "output_type": "stream",
     "text": [
      "getting image\n",
      "(2048, 2592, 2)\n",
      "getting image\n",
      "(2048, 2592, 2)\n",
      "getting image\n",
      "(2048, 2592, 2)\n",
      "getting image\n",
      "(2048, 2592, 2)\n"
     ]
    },
    {
     "name": "stderr",
     "output_type": "stream",
     "text": [
      "2019-12-12 06:16:20.664Z moduleTest       20 moduleTest.py:991 1/3 phi backward to 1250\n"
     ]
    },
    {
     "name": "stdout",
     "output_type": "stream",
     "text": [
      "getting image\n",
      "(2048, 2592, 2)\n",
      "getting image\n",
      "(2048, 2592, 2)\n",
      "getting image\n",
      "(2048, 2592, 2)\n",
      "getting image\n",
      "(2048, 2592, 2)\n"
     ]
    },
    {
     "name": "stderr",
     "output_type": "stream",
     "text": [
      "2019-12-12 06:16:23.334Z moduleTest       20 moduleTest.py:991 1/3 phi backward to 1500\n"
     ]
    },
    {
     "name": "stdout",
     "output_type": "stream",
     "text": [
      "getting image\n",
      "(2048, 2592, 2)\n",
      "getting image\n",
      "(2048, 2592, 2)\n",
      "getting image\n",
      "(2048, 2592, 2)\n",
      "getting image\n",
      "(2048, 2592, 2)\n"
     ]
    },
    {
     "name": "stderr",
     "output_type": "stream",
     "text": [
      "2019-12-12 06:16:25.990Z moduleTest       20 moduleTest.py:991 1/3 phi backward to 1750\n"
     ]
    },
    {
     "name": "stdout",
     "output_type": "stream",
     "text": [
      "getting image\n",
      "(2048, 2592, 2)\n",
      "getting image\n",
      "(2048, 2592, 2)\n",
      "getting image\n",
      "(2048, 2592, 2)\n",
      "getting image\n",
      "(2048, 2592, 2)\n"
     ]
    },
    {
     "name": "stderr",
     "output_type": "stream",
     "text": [
      "2019-12-12 06:16:28.637Z moduleTest       20 moduleTest.py:991 1/3 phi backward to 2000\n"
     ]
    },
    {
     "name": "stdout",
     "output_type": "stream",
     "text": [
      "getting image\n",
      "(2048, 2592, 2)\n",
      "getting image\n",
      "(2048, 2592, 2)\n",
      "getting image\n",
      "(2048, 2592, 2)\n",
      "getting image\n",
      "(2048, 2592, 2)\n"
     ]
    },
    {
     "name": "stderr",
     "output_type": "stream",
     "text": [
      "2019-12-12 06:16:31.325Z moduleTest       20 moduleTest.py:991 1/3 phi backward to 2250\n"
     ]
    },
    {
     "name": "stdout",
     "output_type": "stream",
     "text": [
      "getting image\n",
      "(2048, 2592, 2)\n",
      "getting image\n",
      "(2048, 2592, 2)\n",
      "getting image\n",
      "(2048, 2592, 2)\n",
      "getting image\n",
      "(2048, 2592, 2)\n"
     ]
    },
    {
     "name": "stderr",
     "output_type": "stream",
     "text": [
      "2019-12-12 06:16:33.978Z moduleTest       20 moduleTest.py:991 1/3 phi backward to 2500\n"
     ]
    },
    {
     "name": "stdout",
     "output_type": "stream",
     "text": [
      "getting image\n",
      "(2048, 2592, 2)\n",
      "getting image\n",
      "(2048, 2592, 2)\n",
      "getting image\n",
      "(2048, 2592, 2)\n",
      "getting image\n",
      "(2048, 2592, 2)\n"
     ]
    },
    {
     "name": "stderr",
     "output_type": "stream",
     "text": [
      "2019-12-12 06:16:36.663Z moduleTest       20 moduleTest.py:991 1/3 phi backward to 2750\n"
     ]
    },
    {
     "name": "stdout",
     "output_type": "stream",
     "text": [
      "getting image\n",
      "(2048, 2592, 2)\n",
      "getting image\n",
      "(2048, 2592, 2)\n",
      "getting image\n",
      "(2048, 2592, 2)\n",
      "getting image\n",
      "(2048, 2592, 2)\n"
     ]
    },
    {
     "name": "stderr",
     "output_type": "stream",
     "text": [
      "2019-12-12 06:16:39.326Z moduleTest       20 moduleTest.py:991 1/3 phi backward to 3000\n"
     ]
    },
    {
     "name": "stdout",
     "output_type": "stream",
     "text": [
      "getting image\n",
      "(2048, 2592, 2)\n",
      "getting image\n",
      "(2048, 2592, 2)\n",
      "getting image\n",
      "(2048, 2592, 2)\n",
      "getting image\n",
      "(2048, 2592, 2)\n"
     ]
    },
    {
     "name": "stderr",
     "output_type": "stream",
     "text": [
      "2019-12-12 06:16:41.988Z moduleTest       20 moduleTest.py:991 1/3 phi backward to 3250\n"
     ]
    },
    {
     "name": "stdout",
     "output_type": "stream",
     "text": [
      "getting image\n",
      "(2048, 2592, 2)\n",
      "getting image\n",
      "(2048, 2592, 2)\n",
      "getting image\n",
      "(2048, 2592, 2)\n",
      "getting image\n",
      "(2048, 2592, 2)\n"
     ]
    },
    {
     "name": "stderr",
     "output_type": "stream",
     "text": [
      "2019-12-12 06:16:44.660Z moduleTest       20 moduleTest.py:991 1/3 phi backward to 3500\n"
     ]
    },
    {
     "name": "stdout",
     "output_type": "stream",
     "text": [
      "getting image\n",
      "(2048, 2592, 2)\n",
      "getting image\n",
      "(2048, 2592, 2)\n",
      "getting image\n",
      "(2048, 2592, 2)\n",
      "getting image\n",
      "(2048, 2592, 2)\n"
     ]
    },
    {
     "name": "stderr",
     "output_type": "stream",
     "text": [
      "2019-12-12 06:16:47.324Z moduleTest       20 moduleTest.py:991 1/3 phi backward to 3750\n"
     ]
    },
    {
     "name": "stdout",
     "output_type": "stream",
     "text": [
      "getting image\n",
      "(2048, 2592, 2)\n",
      "getting image\n",
      "(2048, 2592, 2)\n",
      "getting image\n",
      "(2048, 2592, 2)\n",
      "getting image\n",
      "(2048, 2592, 2)\n"
     ]
    },
    {
     "name": "stderr",
     "output_type": "stream",
     "text": [
      "2019-12-12 06:16:49.991Z moduleTest       20 moduleTest.py:991 1/3 phi backward to 4000\n"
     ]
    },
    {
     "name": "stdout",
     "output_type": "stream",
     "text": [
      "getting image\n",
      "(2048, 2592, 2)\n",
      "getting image\n",
      "(2048, 2592, 2)\n",
      "getting image\n",
      "(2048, 2592, 2)\n",
      "getting image\n",
      "(2048, 2592, 2)\n"
     ]
    },
    {
     "name": "stderr",
     "output_type": "stream",
     "text": [
      "2019-12-12 06:16:52.651Z moduleTest       20 moduleTest.py:991 1/3 phi backward to 4250\n"
     ]
    },
    {
     "name": "stdout",
     "output_type": "stream",
     "text": [
      "getting image\n",
      "(2048, 2592, 2)\n",
      "getting image\n",
      "(2048, 2592, 2)\n",
      "getting image\n",
      "(2048, 2592, 2)\n",
      "getting image\n",
      "(2048, 2592, 2)\n"
     ]
    },
    {
     "name": "stderr",
     "output_type": "stream",
     "text": [
      "2019-12-12 06:16:55.323Z moduleTest       20 moduleTest.py:991 1/3 phi backward to 4500\n"
     ]
    },
    {
     "name": "stdout",
     "output_type": "stream",
     "text": [
      "getting image\n",
      "(2048, 2592, 2)\n",
      "getting image\n",
      "(2048, 2592, 2)\n",
      "getting image\n",
      "(2048, 2592, 2)\n",
      "getting image\n",
      "(2048, 2592, 2)\n"
     ]
    },
    {
     "name": "stderr",
     "output_type": "stream",
     "text": [
      "2019-12-12 06:16:57.997Z moduleTest       20 moduleTest.py:991 1/3 phi backward to 4750\n"
     ]
    },
    {
     "name": "stdout",
     "output_type": "stream",
     "text": [
      "getting image\n",
      "(2048, 2592, 2)\n",
      "getting image\n",
      "(2048, 2592, 2)\n",
      "getting image\n",
      "(2048, 2592, 2)\n",
      "getting image\n",
      "(2048, 2592, 2)\n"
     ]
    },
    {
     "name": "stderr",
     "output_type": "stream",
     "text": [
      "2019-12-12 06:17:00.669Z moduleTest       20 moduleTest.py:991 1/3 phi backward to 5000\n"
     ]
    },
    {
     "name": "stdout",
     "output_type": "stream",
     "text": [
      "getting image\n",
      "(2048, 2592, 2)\n",
      "getting image\n",
      "(2048, 2592, 2)\n",
      "getting image\n",
      "(2048, 2592, 2)\n",
      "getting image\n",
      "(2048, 2592, 2)\n"
     ]
    },
    {
     "name": "stderr",
     "output_type": "stream",
     "text": [
      "2019-12-12 06:17:03.355Z moduleTest       20 moduleTest.py:991 1/3 phi backward to 5250\n"
     ]
    },
    {
     "name": "stdout",
     "output_type": "stream",
     "text": [
      "getting image\n",
      "(2048, 2592, 2)\n",
      "getting image\n",
      "(2048, 2592, 2)\n",
      "getting image\n",
      "(2048, 2592, 2)\n",
      "getting image\n",
      "(2048, 2592, 2)\n"
     ]
    },
    {
     "name": "stderr",
     "output_type": "stream",
     "text": [
      "2019-12-12 06:17:06.009Z moduleTest       20 moduleTest.py:991 1/3 phi backward to 5500\n"
     ]
    },
    {
     "name": "stdout",
     "output_type": "stream",
     "text": [
      "getting image\n",
      "(2048, 2592, 2)\n",
      "getting image\n",
      "(2048, 2592, 2)\n",
      "getting image\n",
      "(2048, 2592, 2)\n",
      "getting image\n",
      "(2048, 2592, 2)\n"
     ]
    },
    {
     "name": "stderr",
     "output_type": "stream",
     "text": [
      "2019-12-12 06:17:08.665Z moduleTest       20 moduleTest.py:991 1/3 phi backward to 5750\n"
     ]
    },
    {
     "name": "stdout",
     "output_type": "stream",
     "text": [
      "getting image\n",
      "(2048, 2592, 2)\n",
      "getting image\n",
      "(2048, 2592, 2)\n",
      "getting image\n",
      "(2048, 2592, 2)\n",
      "getting image\n",
      "(2048, 2592, 2)\n"
     ]
    },
    {
     "name": "stderr",
     "output_type": "stream",
     "text": [
      "2019-12-12 06:17:11.337Z moduleTest       20 moduleTest.py:991 1/3 phi backward to 6000\n"
     ]
    },
    {
     "name": "stdout",
     "output_type": "stream",
     "text": [
      "getting image\n",
      "(2048, 2592, 2)\n",
      "getting image\n",
      "(2048, 2592, 2)\n",
      "getting image\n",
      "(2048, 2592, 2)\n",
      "getting image\n",
      "(2048, 2592, 2)\n"
     ]
    },
    {
     "name": "stderr",
     "output_type": "stream",
     "text": [
      "2019-12-12 06:17:14.006Z moduleTest       20 moduleTest.py:1018 1/3 phi reverse -6000 steps to limit\n"
     ]
    },
    {
     "name": "stdout",
     "output_type": "stream",
     "text": [
      "getting image\n",
      "(2048, 2592, 2)\n",
      "getting image\n",
      "(2048, 2592, 2)\n",
      "getting image\n",
      "(2048, 2592, 2)\n",
      "getting image\n",
      "(2048, 2592, 2)\n"
     ]
    },
    {
     "name": "stderr",
     "output_type": "stream",
     "text": [
      "2019-12-12 06:17:30.620Z moduleTest       20 moduleTest.py:954 2/3 phi forward to 250\n"
     ]
    },
    {
     "name": "stdout",
     "output_type": "stream",
     "text": [
      "getting image\n",
      "(2048, 2592, 2)\n",
      "getting image\n",
      "(2048, 2592, 2)\n",
      "getting image\n",
      "(2048, 2592, 2)\n",
      "getting image\n",
      "(2048, 2592, 2)\n"
     ]
    },
    {
     "name": "stderr",
     "output_type": "stream",
     "text": [
      "2019-12-12 06:17:33.340Z moduleTest       20 moduleTest.py:954 2/3 phi forward to 500\n"
     ]
    },
    {
     "name": "stdout",
     "output_type": "stream",
     "text": [
      "getting image\n",
      "(2048, 2592, 2)\n",
      "getting image\n",
      "(2048, 2592, 2)\n",
      "getting image\n",
      "(2048, 2592, 2)\n",
      "getting image\n",
      "(2048, 2592, 2)\n"
     ]
    },
    {
     "name": "stderr",
     "output_type": "stream",
     "text": [
      "2019-12-12 06:17:36.001Z moduleTest       20 moduleTest.py:954 2/3 phi forward to 750\n"
     ]
    },
    {
     "name": "stdout",
     "output_type": "stream",
     "text": [
      "getting image\n",
      "(2048, 2592, 2)\n",
      "getting image\n",
      "(2048, 2592, 2)\n",
      "getting image\n",
      "(2048, 2592, 2)\n",
      "getting image\n",
      "(2048, 2592, 2)\n"
     ]
    },
    {
     "name": "stderr",
     "output_type": "stream",
     "text": [
      "2019-12-12 06:17:38.754Z moduleTest       20 moduleTest.py:954 2/3 phi forward to 1000\n"
     ]
    },
    {
     "name": "stdout",
     "output_type": "stream",
     "text": [
      "getting image\n",
      "(2048, 2592, 2)\n",
      "getting image\n",
      "(2048, 2592, 2)\n",
      "getting image\n",
      "(2048, 2592, 2)\n",
      "getting image\n",
      "(2048, 2592, 2)\n"
     ]
    },
    {
     "name": "stderr",
     "output_type": "stream",
     "text": [
      "2019-12-12 06:17:41.436Z moduleTest       20 moduleTest.py:954 2/3 phi forward to 1250\n"
     ]
    },
    {
     "name": "stdout",
     "output_type": "stream",
     "text": [
      "getting image\n",
      "(2048, 2592, 2)\n",
      "getting image\n",
      "(2048, 2592, 2)\n",
      "getting image\n",
      "(2048, 2592, 2)\n",
      "getting image\n",
      "(2048, 2592, 2)\n"
     ]
    },
    {
     "name": "stderr",
     "output_type": "stream",
     "text": [
      "2019-12-12 06:17:44.181Z moduleTest       20 moduleTest.py:954 2/3 phi forward to 1500\n"
     ]
    },
    {
     "name": "stdout",
     "output_type": "stream",
     "text": [
      "getting image\n",
      "(2048, 2592, 2)\n",
      "getting image\n",
      "(2048, 2592, 2)\n",
      "getting image\n",
      "(2048, 2592, 2)\n",
      "getting image\n",
      "(2048, 2592, 2)\n"
     ]
    },
    {
     "name": "stderr",
     "output_type": "stream",
     "text": [
      "2019-12-12 06:17:46.842Z moduleTest       20 moduleTest.py:954 2/3 phi forward to 1750\n"
     ]
    },
    {
     "name": "stdout",
     "output_type": "stream",
     "text": [
      "getting image\n",
      "(2048, 2592, 2)\n",
      "getting image\n",
      "(2048, 2592, 2)\n",
      "getting image\n",
      "(2048, 2592, 2)\n",
      "getting image\n",
      "(2048, 2592, 2)\n"
     ]
    },
    {
     "name": "stderr",
     "output_type": "stream",
     "text": [
      "2019-12-12 06:17:49.532Z moduleTest       20 moduleTest.py:954 2/3 phi forward to 2000\n"
     ]
    },
    {
     "name": "stdout",
     "output_type": "stream",
     "text": [
      "getting image\n",
      "(2048, 2592, 2)\n",
      "getting image\n",
      "(2048, 2592, 2)\n",
      "getting image\n",
      "(2048, 2592, 2)\n",
      "getting image\n",
      "(2048, 2592, 2)\n"
     ]
    },
    {
     "name": "stderr",
     "output_type": "stream",
     "text": [
      "2019-12-12 06:17:52.179Z moduleTest       20 moduleTest.py:954 2/3 phi forward to 2250\n"
     ]
    },
    {
     "name": "stdout",
     "output_type": "stream",
     "text": [
      "getting image\n",
      "(2048, 2592, 2)\n",
      "getting image\n",
      "(2048, 2592, 2)\n",
      "getting image\n",
      "(2048, 2592, 2)\n",
      "getting image\n",
      "(2048, 2592, 2)\n"
     ]
    },
    {
     "name": "stderr",
     "output_type": "stream",
     "text": [
      "2019-12-12 06:17:54.865Z moduleTest       20 moduleTest.py:954 2/3 phi forward to 2500\n"
     ]
    },
    {
     "name": "stdout",
     "output_type": "stream",
     "text": [
      "getting image\n",
      "(2048, 2592, 2)\n",
      "getting image\n",
      "(2048, 2592, 2)\n",
      "getting image\n",
      "(2048, 2592, 2)\n",
      "getting image\n",
      "(2048, 2592, 2)\n"
     ]
    },
    {
     "name": "stderr",
     "output_type": "stream",
     "text": [
      "2019-12-12 06:17:57.528Z moduleTest       20 moduleTest.py:954 2/3 phi forward to 2750\n"
     ]
    },
    {
     "name": "stdout",
     "output_type": "stream",
     "text": [
      "getting image\n",
      "(2048, 2592, 2)\n",
      "getting image\n",
      "(2048, 2592, 2)\n",
      "getting image\n",
      "(2048, 2592, 2)\n",
      "getting image\n",
      "(2048, 2592, 2)\n"
     ]
    },
    {
     "name": "stderr",
     "output_type": "stream",
     "text": [
      "2019-12-12 06:18:00.180Z moduleTest       20 moduleTest.py:954 2/3 phi forward to 3000\n"
     ]
    },
    {
     "name": "stdout",
     "output_type": "stream",
     "text": [
      "getting image\n",
      "(2048, 2592, 2)\n",
      "getting image\n",
      "(2048, 2592, 2)\n",
      "getting image\n",
      "(2048, 2592, 2)\n",
      "getting image\n",
      "(2048, 2592, 2)\n"
     ]
    },
    {
     "name": "stderr",
     "output_type": "stream",
     "text": [
      "2019-12-12 06:18:02.856Z moduleTest       20 moduleTest.py:954 2/3 phi forward to 3250\n"
     ]
    },
    {
     "name": "stdout",
     "output_type": "stream",
     "text": [
      "getting image\n",
      "(2048, 2592, 2)\n",
      "getting image\n",
      "(2048, 2592, 2)\n",
      "getting image\n",
      "(2048, 2592, 2)\n",
      "getting image\n",
      "(2048, 2592, 2)\n"
     ]
    },
    {
     "name": "stderr",
     "output_type": "stream",
     "text": [
      "2019-12-12 06:18:05.508Z moduleTest       20 moduleTest.py:954 2/3 phi forward to 3500\n"
     ]
    },
    {
     "name": "stdout",
     "output_type": "stream",
     "text": [
      "getting image\n",
      "(2048, 2592, 2)\n",
      "getting image\n",
      "(2048, 2592, 2)\n",
      "getting image\n",
      "(2048, 2592, 2)\n",
      "getting image\n",
      "(2048, 2592, 2)\n"
     ]
    },
    {
     "name": "stderr",
     "output_type": "stream",
     "text": [
      "2019-12-12 06:18:08.175Z moduleTest       20 moduleTest.py:954 2/3 phi forward to 3750\n"
     ]
    },
    {
     "name": "stdout",
     "output_type": "stream",
     "text": [
      "getting image\n",
      "(2048, 2592, 2)\n",
      "getting image\n",
      "(2048, 2592, 2)\n",
      "getting image\n",
      "(2048, 2592, 2)\n",
      "getting image\n",
      "(2048, 2592, 2)\n"
     ]
    },
    {
     "name": "stderr",
     "output_type": "stream",
     "text": [
      "2019-12-12 06:18:10.844Z moduleTest       20 moduleTest.py:954 2/3 phi forward to 4000\n"
     ]
    },
    {
     "name": "stdout",
     "output_type": "stream",
     "text": [
      "getting image\n",
      "(2048, 2592, 2)\n",
      "getting image\n",
      "(2048, 2592, 2)\n",
      "getting image\n",
      "(2048, 2592, 2)\n",
      "getting image\n",
      "(2048, 2592, 2)\n"
     ]
    },
    {
     "name": "stderr",
     "output_type": "stream",
     "text": [
      "2019-12-12 06:18:13.505Z moduleTest       20 moduleTest.py:954 2/3 phi forward to 4250\n"
     ]
    },
    {
     "name": "stdout",
     "output_type": "stream",
     "text": [
      "getting image\n",
      "(2048, 2592, 2)\n",
      "getting image\n",
      "(2048, 2592, 2)\n",
      "getting image\n",
      "(2048, 2592, 2)\n",
      "getting image\n",
      "(2048, 2592, 2)\n"
     ]
    },
    {
     "name": "stderr",
     "output_type": "stream",
     "text": [
      "2019-12-12 06:18:16.178Z moduleTest       20 moduleTest.py:954 2/3 phi forward to 4500\n"
     ]
    },
    {
     "name": "stdout",
     "output_type": "stream",
     "text": [
      "getting image\n",
      "(2048, 2592, 2)\n",
      "getting image\n",
      "(2048, 2592, 2)\n",
      "getting image\n",
      "(2048, 2592, 2)\n",
      "getting image\n",
      "(2048, 2592, 2)\n"
     ]
    },
    {
     "name": "stderr",
     "output_type": "stream",
     "text": [
      "2019-12-12 06:18:18.840Z moduleTest       20 moduleTest.py:954 2/3 phi forward to 4750\n"
     ]
    },
    {
     "name": "stdout",
     "output_type": "stream",
     "text": [
      "getting image\n",
      "(2048, 2592, 2)\n",
      "getting image\n",
      "(2048, 2592, 2)\n",
      "getting image\n",
      "(2048, 2592, 2)\n",
      "getting image\n",
      "(2048, 2592, 2)\n"
     ]
    },
    {
     "name": "stderr",
     "output_type": "stream",
     "text": [
      "2019-12-12 06:18:21.518Z moduleTest       20 moduleTest.py:954 2/3 phi forward to 5000\n"
     ]
    },
    {
     "name": "stdout",
     "output_type": "stream",
     "text": [
      "getting image\n",
      "(2048, 2592, 2)\n",
      "getting image\n",
      "(2048, 2592, 2)\n",
      "getting image\n",
      "(2048, 2592, 2)\n",
      "getting image\n",
      "(2048, 2592, 2)\n"
     ]
    },
    {
     "name": "stderr",
     "output_type": "stream",
     "text": [
      "2019-12-12 06:18:24.185Z moduleTest       20 moduleTest.py:954 2/3 phi forward to 5250\n"
     ]
    },
    {
     "name": "stdout",
     "output_type": "stream",
     "text": [
      "getting image\n",
      "(2048, 2592, 2)\n",
      "getting image\n",
      "(2048, 2592, 2)\n",
      "getting image\n",
      "(2048, 2592, 2)\n",
      "getting image\n",
      "(2048, 2592, 2)\n"
     ]
    },
    {
     "name": "stderr",
     "output_type": "stream",
     "text": [
      "2019-12-12 06:18:26.860Z moduleTest       20 moduleTest.py:954 2/3 phi forward to 5500\n"
     ]
    },
    {
     "name": "stdout",
     "output_type": "stream",
     "text": [
      "getting image\n",
      "(2048, 2592, 2)\n",
      "getting image\n",
      "(2048, 2592, 2)\n",
      "getting image\n",
      "(2048, 2592, 2)\n",
      "getting image\n",
      "(2048, 2592, 2)\n"
     ]
    },
    {
     "name": "stderr",
     "output_type": "stream",
     "text": [
      "2019-12-12 06:18:29.524Z moduleTest       20 moduleTest.py:954 2/3 phi forward to 5750\n"
     ]
    },
    {
     "name": "stdout",
     "output_type": "stream",
     "text": [
      "getting image\n",
      "(2048, 2592, 2)\n",
      "getting image\n",
      "(2048, 2592, 2)\n",
      "getting image\n",
      "(2048, 2592, 2)\n",
      "getting image\n",
      "(2048, 2592, 2)\n"
     ]
    },
    {
     "name": "stderr",
     "output_type": "stream",
     "text": [
      "2019-12-12 06:18:32.215Z moduleTest       20 moduleTest.py:954 2/3 phi forward to 6000\n"
     ]
    },
    {
     "name": "stdout",
     "output_type": "stream",
     "text": [
      "getting image\n",
      "(2048, 2592, 2)\n",
      "getting image\n",
      "(2048, 2592, 2)\n",
      "getting image\n",
      "(2048, 2592, 2)\n",
      "getting image\n",
      "(2048, 2592, 2)\n"
     ]
    },
    {
     "name": "stderr",
     "output_type": "stream",
     "text": [
      "2019-12-12 06:18:34.882Z moduleTest       20 moduleTest.py:981 2/3 phi forward 6000 to limit\n"
     ]
    },
    {
     "name": "stdout",
     "output_type": "stream",
     "text": [
      "getting image\n",
      "(2048, 2592, 2)\n",
      "getting image\n",
      "(2048, 2592, 2)\n",
      "getting image\n",
      "(2048, 2592, 2)\n",
      "getting image\n",
      "(2048, 2592, 2)\n"
     ]
    },
    {
     "name": "stderr",
     "output_type": "stream",
     "text": [
      "2019-12-12 06:18:51.649Z moduleTest       20 moduleTest.py:991 2/3 phi backward to 250\n"
     ]
    },
    {
     "name": "stdout",
     "output_type": "stream",
     "text": [
      "getting image\n",
      "(2048, 2592, 2)\n",
      "getting image\n",
      "(2048, 2592, 2)\n",
      "getting image\n",
      "(2048, 2592, 2)\n",
      "getting image\n",
      "(2048, 2592, 2)\n"
     ]
    },
    {
     "name": "stderr",
     "output_type": "stream",
     "text": [
      "2019-12-12 06:18:54.376Z moduleTest       20 moduleTest.py:991 2/3 phi backward to 500\n"
     ]
    },
    {
     "name": "stdout",
     "output_type": "stream",
     "text": [
      "getting image\n",
      "(2048, 2592, 2)\n",
      "getting image\n",
      "(2048, 2592, 2)\n",
      "getting image\n",
      "(2048, 2592, 2)\n",
      "getting image\n",
      "(2048, 2592, 2)\n"
     ]
    },
    {
     "name": "stderr",
     "output_type": "stream",
     "text": [
      "2019-12-12 06:18:57.037Z moduleTest       20 moduleTest.py:991 2/3 phi backward to 750\n"
     ]
    },
    {
     "name": "stdout",
     "output_type": "stream",
     "text": [
      "getting image\n",
      "(2048, 2592, 2)\n",
      "getting image\n",
      "(2048, 2592, 2)\n",
      "getting image\n",
      "(2048, 2592, 2)\n",
      "getting image\n",
      "(2048, 2592, 2)\n"
     ]
    },
    {
     "name": "stderr",
     "output_type": "stream",
     "text": [
      "2019-12-12 06:18:59.716Z moduleTest       20 moduleTest.py:991 2/3 phi backward to 1000\n"
     ]
    },
    {
     "name": "stdout",
     "output_type": "stream",
     "text": [
      "getting image\n",
      "(2048, 2592, 2)\n",
      "getting image\n",
      "(2048, 2592, 2)\n",
      "getting image\n",
      "(2048, 2592, 2)\n",
      "getting image\n",
      "(2048, 2592, 2)\n"
     ]
    },
    {
     "name": "stderr",
     "output_type": "stream",
     "text": [
      "2019-12-12 06:19:02.392Z moduleTest       20 moduleTest.py:991 2/3 phi backward to 1250\n"
     ]
    },
    {
     "name": "stdout",
     "output_type": "stream",
     "text": [
      "getting image\n",
      "(2048, 2592, 2)\n",
      "getting image\n",
      "(2048, 2592, 2)\n",
      "getting image\n",
      "(2048, 2592, 2)\n",
      "getting image\n",
      "(2048, 2592, 2)\n"
     ]
    },
    {
     "name": "stderr",
     "output_type": "stream",
     "text": [
      "2019-12-12 06:19:05.040Z moduleTest       20 moduleTest.py:991 2/3 phi backward to 1500\n"
     ]
    },
    {
     "name": "stdout",
     "output_type": "stream",
     "text": [
      "getting image\n",
      "(2048, 2592, 2)\n",
      "getting image\n",
      "(2048, 2592, 2)\n",
      "getting image\n",
      "(2048, 2592, 2)\n",
      "getting image\n",
      "(2048, 2592, 2)\n"
     ]
    },
    {
     "name": "stderr",
     "output_type": "stream",
     "text": [
      "2019-12-12 06:19:07.709Z moduleTest       20 moduleTest.py:991 2/3 phi backward to 1750\n"
     ]
    },
    {
     "name": "stdout",
     "output_type": "stream",
     "text": [
      "getting image\n",
      "(2048, 2592, 2)\n",
      "getting image\n",
      "(2048, 2592, 2)\n",
      "getting image\n",
      "(2048, 2592, 2)\n",
      "getting image\n",
      "(2048, 2592, 2)\n"
     ]
    },
    {
     "name": "stderr",
     "output_type": "stream",
     "text": [
      "2019-12-12 06:19:10.373Z moduleTest       20 moduleTest.py:991 2/3 phi backward to 2000\n"
     ]
    },
    {
     "name": "stdout",
     "output_type": "stream",
     "text": [
      "getting image\n",
      "(2048, 2592, 2)\n",
      "getting image\n",
      "(2048, 2592, 2)\n",
      "getting image\n",
      "(2048, 2592, 2)\n",
      "getting image\n",
      "(2048, 2592, 2)\n"
     ]
    },
    {
     "name": "stderr",
     "output_type": "stream",
     "text": [
      "2019-12-12 06:19:13.038Z moduleTest       20 moduleTest.py:991 2/3 phi backward to 2250\n"
     ]
    },
    {
     "name": "stdout",
     "output_type": "stream",
     "text": [
      "getting image\n",
      "(2048, 2592, 2)\n",
      "getting image\n",
      "(2048, 2592, 2)\n",
      "getting image\n",
      "(2048, 2592, 2)\n",
      "getting image\n",
      "(2048, 2592, 2)\n"
     ]
    },
    {
     "name": "stderr",
     "output_type": "stream",
     "text": [
      "2019-12-12 06:19:15.715Z moduleTest       20 moduleTest.py:991 2/3 phi backward to 2500\n"
     ]
    },
    {
     "name": "stdout",
     "output_type": "stream",
     "text": [
      "getting image\n",
      "(2048, 2592, 2)\n",
      "getting image\n",
      "(2048, 2592, 2)\n",
      "getting image\n",
      "(2048, 2592, 2)\n",
      "getting image\n",
      "(2048, 2592, 2)\n"
     ]
    },
    {
     "name": "stderr",
     "output_type": "stream",
     "text": [
      "2019-12-12 06:19:18.372Z moduleTest       20 moduleTest.py:991 2/3 phi backward to 2750\n"
     ]
    },
    {
     "name": "stdout",
     "output_type": "stream",
     "text": [
      "getting image\n",
      "(2048, 2592, 2)\n",
      "getting image\n",
      "(2048, 2592, 2)\n",
      "getting image\n",
      "(2048, 2592, 2)\n",
      "getting image\n",
      "(2048, 2592, 2)\n"
     ]
    },
    {
     "name": "stderr",
     "output_type": "stream",
     "text": [
      "2019-12-12 06:19:21.047Z moduleTest       20 moduleTest.py:991 2/3 phi backward to 3000\n"
     ]
    },
    {
     "name": "stdout",
     "output_type": "stream",
     "text": [
      "getting image\n",
      "(2048, 2592, 2)\n",
      "getting image\n",
      "(2048, 2592, 2)\n",
      "getting image\n",
      "(2048, 2592, 2)\n",
      "getting image\n",
      "(2048, 2592, 2)\n"
     ]
    },
    {
     "name": "stderr",
     "output_type": "stream",
     "text": [
      "2019-12-12 06:19:23.713Z moduleTest       20 moduleTest.py:991 2/3 phi backward to 3250\n"
     ]
    },
    {
     "name": "stdout",
     "output_type": "stream",
     "text": [
      "getting image\n",
      "(2048, 2592, 2)\n",
      "getting image\n",
      "(2048, 2592, 2)\n",
      "getting image\n",
      "(2048, 2592, 2)\n",
      "getting image\n",
      "(2048, 2592, 2)\n"
     ]
    },
    {
     "name": "stderr",
     "output_type": "stream",
     "text": [
      "2019-12-12 06:19:26.370Z moduleTest       20 moduleTest.py:991 2/3 phi backward to 3500\n"
     ]
    },
    {
     "name": "stdout",
     "output_type": "stream",
     "text": [
      "getting image\n",
      "(2048, 2592, 2)\n",
      "getting image\n",
      "(2048, 2592, 2)\n",
      "getting image\n",
      "(2048, 2592, 2)\n",
      "getting image\n",
      "(2048, 2592, 2)\n"
     ]
    },
    {
     "name": "stderr",
     "output_type": "stream",
     "text": [
      "2019-12-12 06:19:29.063Z moduleTest       20 moduleTest.py:991 2/3 phi backward to 3750\n"
     ]
    },
    {
     "name": "stdout",
     "output_type": "stream",
     "text": [
      "getting image\n",
      "(2048, 2592, 2)\n",
      "getting image\n",
      "(2048, 2592, 2)\n",
      "getting image\n",
      "(2048, 2592, 2)\n",
      "getting image\n",
      "(2048, 2592, 2)\n"
     ]
    },
    {
     "name": "stderr",
     "output_type": "stream",
     "text": [
      "2019-12-12 06:19:31.712Z moduleTest       20 moduleTest.py:991 2/3 phi backward to 4000\n"
     ]
    },
    {
     "name": "stdout",
     "output_type": "stream",
     "text": [
      "getting image\n",
      "(2048, 2592, 2)\n",
      "getting image\n",
      "(2048, 2592, 2)\n",
      "getting image\n",
      "(2048, 2592, 2)\n",
      "getting image\n",
      "(2048, 2592, 2)\n"
     ]
    },
    {
     "name": "stderr",
     "output_type": "stream",
     "text": [
      "2019-12-12 06:19:34.403Z moduleTest       20 moduleTest.py:991 2/3 phi backward to 4250\n"
     ]
    },
    {
     "name": "stdout",
     "output_type": "stream",
     "text": [
      "getting image\n",
      "(2048, 2592, 2)\n",
      "getting image\n",
      "(2048, 2592, 2)\n",
      "getting image\n",
      "(2048, 2592, 2)\n",
      "getting image\n",
      "(2048, 2592, 2)\n"
     ]
    },
    {
     "name": "stderr",
     "output_type": "stream",
     "text": [
      "2019-12-12 06:19:37.055Z moduleTest       20 moduleTest.py:991 2/3 phi backward to 4500\n"
     ]
    },
    {
     "name": "stdout",
     "output_type": "stream",
     "text": [
      "getting image\n",
      "(2048, 2592, 2)\n",
      "getting image\n",
      "(2048, 2592, 2)\n",
      "getting image\n",
      "(2048, 2592, 2)\n",
      "getting image\n",
      "(2048, 2592, 2)\n"
     ]
    },
    {
     "name": "stderr",
     "output_type": "stream",
     "text": [
      "2019-12-12 06:19:39.706Z moduleTest       20 moduleTest.py:991 2/3 phi backward to 4750\n"
     ]
    },
    {
     "name": "stdout",
     "output_type": "stream",
     "text": [
      "getting image\n",
      "(2048, 2592, 2)\n",
      "getting image\n",
      "(2048, 2592, 2)\n",
      "getting image\n",
      "(2048, 2592, 2)\n",
      "getting image\n",
      "(2048, 2592, 2)\n"
     ]
    },
    {
     "name": "stderr",
     "output_type": "stream",
     "text": [
      "2019-12-12 06:19:42.386Z moduleTest       20 moduleTest.py:991 2/3 phi backward to 5000\n"
     ]
    },
    {
     "name": "stdout",
     "output_type": "stream",
     "text": [
      "getting image\n",
      "(2048, 2592, 2)\n",
      "getting image\n",
      "(2048, 2592, 2)\n",
      "getting image\n",
      "(2048, 2592, 2)\n",
      "getting image\n",
      "(2048, 2592, 2)\n"
     ]
    },
    {
     "name": "stderr",
     "output_type": "stream",
     "text": [
      "2019-12-12 06:19:45.075Z moduleTest       20 moduleTest.py:991 2/3 phi backward to 5250\n"
     ]
    },
    {
     "name": "stdout",
     "output_type": "stream",
     "text": [
      "getting image\n",
      "(2048, 2592, 2)\n",
      "getting image\n",
      "(2048, 2592, 2)\n",
      "getting image\n",
      "(2048, 2592, 2)\n",
      "getting image\n",
      "(2048, 2592, 2)\n"
     ]
    },
    {
     "name": "stderr",
     "output_type": "stream",
     "text": [
      "2019-12-12 06:19:47.716Z moduleTest       20 moduleTest.py:991 2/3 phi backward to 5500\n"
     ]
    },
    {
     "name": "stdout",
     "output_type": "stream",
     "text": [
      "getting image\n",
      "(2048, 2592, 2)\n",
      "getting image\n",
      "(2048, 2592, 2)\n",
      "getting image\n",
      "(2048, 2592, 2)\n",
      "getting image\n",
      "(2048, 2592, 2)\n"
     ]
    },
    {
     "name": "stderr",
     "output_type": "stream",
     "text": [
      "2019-12-12 06:19:50.409Z moduleTest       20 moduleTest.py:991 2/3 phi backward to 5750\n"
     ]
    },
    {
     "name": "stdout",
     "output_type": "stream",
     "text": [
      "getting image\n",
      "(2048, 2592, 2)\n",
      "getting image\n",
      "(2048, 2592, 2)\n",
      "getting image\n",
      "(2048, 2592, 2)\n",
      "getting image\n",
      "(2048, 2592, 2)\n"
     ]
    },
    {
     "name": "stderr",
     "output_type": "stream",
     "text": [
      "2019-12-12 06:19:53.050Z moduleTest       20 moduleTest.py:991 2/3 phi backward to 6000\n"
     ]
    },
    {
     "name": "stdout",
     "output_type": "stream",
     "text": [
      "getting image\n",
      "(2048, 2592, 2)\n",
      "getting image\n",
      "(2048, 2592, 2)\n",
      "getting image\n",
      "(2048, 2592, 2)\n",
      "getting image\n",
      "(2048, 2592, 2)\n"
     ]
    },
    {
     "name": "stderr",
     "output_type": "stream",
     "text": [
      "2019-12-12 06:19:55.765Z moduleTest       20 moduleTest.py:1018 2/3 phi reverse -6000 steps to limit\n"
     ]
    },
    {
     "name": "stdout",
     "output_type": "stream",
     "text": [
      "getting image\n",
      "(2048, 2592, 2)\n",
      "getting image\n",
      "(2048, 2592, 2)\n",
      "getting image\n",
      "(2048, 2592, 2)\n",
      "getting image\n",
      "(2048, 2592, 2)\n"
     ]
    },
    {
     "name": "stderr",
     "output_type": "stream",
     "text": [
      "2019-12-12 06:20:12.510Z moduleTest       20 moduleTest.py:954 3/3 phi forward to 250\n"
     ]
    },
    {
     "name": "stdout",
     "output_type": "stream",
     "text": [
      "getting image\n",
      "(2048, 2592, 2)\n",
      "getting image\n",
      "(2048, 2592, 2)\n",
      "getting image\n",
      "(2048, 2592, 2)\n",
      "getting image\n",
      "(2048, 2592, 2)\n"
     ]
    },
    {
     "name": "stderr",
     "output_type": "stream",
     "text": [
      "2019-12-12 06:20:15.239Z moduleTest       20 moduleTest.py:954 3/3 phi forward to 500\n"
     ]
    },
    {
     "name": "stdout",
     "output_type": "stream",
     "text": [
      "getting image\n",
      "(2048, 2592, 2)\n",
      "getting image\n",
      "(2048, 2592, 2)\n",
      "getting image\n",
      "(2048, 2592, 2)\n",
      "getting image\n",
      "(2048, 2592, 2)\n"
     ]
    },
    {
     "name": "stderr",
     "output_type": "stream",
     "text": [
      "2019-12-12 06:20:17.902Z moduleTest       20 moduleTest.py:954 3/3 phi forward to 750\n"
     ]
    },
    {
     "name": "stdout",
     "output_type": "stream",
     "text": [
      "getting image\n",
      "(2048, 2592, 2)\n",
      "getting image\n",
      "(2048, 2592, 2)\n",
      "getting image\n",
      "(2048, 2592, 2)\n",
      "getting image\n",
      "(2048, 2592, 2)\n"
     ]
    },
    {
     "name": "stderr",
     "output_type": "stream",
     "text": [
      "2019-12-12 06:20:20.578Z moduleTest       20 moduleTest.py:954 3/3 phi forward to 1000\n"
     ]
    },
    {
     "name": "stdout",
     "output_type": "stream",
     "text": [
      "getting image\n",
      "(2048, 2592, 2)\n",
      "getting image\n",
      "(2048, 2592, 2)\n",
      "getting image\n",
      "(2048, 2592, 2)\n",
      "getting image\n",
      "(2048, 2592, 2)\n"
     ]
    },
    {
     "name": "stderr",
     "output_type": "stream",
     "text": [
      "2019-12-12 06:20:23.248Z moduleTest       20 moduleTest.py:954 3/3 phi forward to 1250\n"
     ]
    },
    {
     "name": "stdout",
     "output_type": "stream",
     "text": [
      "getting image\n",
      "(2048, 2592, 2)\n",
      "getting image\n",
      "(2048, 2592, 2)\n",
      "getting image\n",
      "(2048, 2592, 2)\n",
      "getting image\n",
      "(2048, 2592, 2)\n"
     ]
    },
    {
     "name": "stderr",
     "output_type": "stream",
     "text": [
      "2019-12-12 06:20:25.917Z moduleTest       20 moduleTest.py:954 3/3 phi forward to 1500\n"
     ]
    },
    {
     "name": "stdout",
     "output_type": "stream",
     "text": [
      "getting image\n",
      "(2048, 2592, 2)\n",
      "getting image\n",
      "(2048, 2592, 2)\n",
      "getting image\n",
      "(2048, 2592, 2)\n",
      "getting image\n",
      "(2048, 2592, 2)\n"
     ]
    },
    {
     "name": "stderr",
     "output_type": "stream",
     "text": [
      "2019-12-12 06:20:28.572Z moduleTest       20 moduleTest.py:954 3/3 phi forward to 1750\n"
     ]
    },
    {
     "name": "stdout",
     "output_type": "stream",
     "text": [
      "getting image\n",
      "(2048, 2592, 2)\n",
      "getting image\n",
      "(2048, 2592, 2)\n",
      "getting image\n",
      "(2048, 2592, 2)\n",
      "getting image\n",
      "(2048, 2592, 2)\n"
     ]
    },
    {
     "name": "stderr",
     "output_type": "stream",
     "text": [
      "2019-12-12 06:20:31.245Z moduleTest       20 moduleTest.py:954 3/3 phi forward to 2000\n"
     ]
    },
    {
     "name": "stdout",
     "output_type": "stream",
     "text": [
      "getting image\n",
      "(2048, 2592, 2)\n",
      "getting image\n",
      "(2048, 2592, 2)\n",
      "getting image\n",
      "(2048, 2592, 2)\n",
      "getting image\n",
      "(2048, 2592, 2)\n"
     ]
    },
    {
     "name": "stderr",
     "output_type": "stream",
     "text": [
      "2019-12-12 06:20:33.902Z moduleTest       20 moduleTest.py:954 3/3 phi forward to 2250\n"
     ]
    },
    {
     "name": "stdout",
     "output_type": "stream",
     "text": [
      "getting image\n",
      "(2048, 2592, 2)\n",
      "getting image\n",
      "(2048, 2592, 2)\n",
      "getting image\n",
      "(2048, 2592, 2)\n",
      "getting image\n",
      "(2048, 2592, 2)\n"
     ]
    },
    {
     "name": "stderr",
     "output_type": "stream",
     "text": [
      "2019-12-12 06:20:36.589Z moduleTest       20 moduleTest.py:954 3/3 phi forward to 2500\n"
     ]
    },
    {
     "name": "stdout",
     "output_type": "stream",
     "text": [
      "getting image\n",
      "(2048, 2592, 2)\n",
      "getting image\n",
      "(2048, 2592, 2)\n",
      "getting image\n",
      "(2048, 2592, 2)\n",
      "getting image\n",
      "(2048, 2592, 2)\n"
     ]
    },
    {
     "name": "stderr",
     "output_type": "stream",
     "text": [
      "2019-12-12 06:20:39.242Z moduleTest       20 moduleTest.py:954 3/3 phi forward to 2750\n"
     ]
    },
    {
     "name": "stdout",
     "output_type": "stream",
     "text": [
      "getting image\n",
      "(2048, 2592, 2)\n",
      "getting image\n",
      "(2048, 2592, 2)\n",
      "getting image\n",
      "(2048, 2592, 2)\n",
      "getting image\n",
      "(2048, 2592, 2)\n"
     ]
    },
    {
     "name": "stderr",
     "output_type": "stream",
     "text": [
      "2019-12-12 06:20:41.927Z moduleTest       20 moduleTest.py:954 3/3 phi forward to 3000\n"
     ]
    },
    {
     "name": "stdout",
     "output_type": "stream",
     "text": [
      "getting image\n",
      "(2048, 2592, 2)\n",
      "getting image\n",
      "(2048, 2592, 2)\n",
      "getting image\n",
      "(2048, 2592, 2)\n",
      "getting image\n",
      "(2048, 2592, 2)\n"
     ]
    },
    {
     "name": "stderr",
     "output_type": "stream",
     "text": [
      "2019-12-12 06:20:44.564Z moduleTest       20 moduleTest.py:954 3/3 phi forward to 3250\n"
     ]
    },
    {
     "name": "stdout",
     "output_type": "stream",
     "text": [
      "getting image\n",
      "(2048, 2592, 2)\n",
      "getting image\n",
      "(2048, 2592, 2)\n",
      "getting image\n",
      "(2048, 2592, 2)\n",
      "getting image\n",
      "(2048, 2592, 2)\n"
     ]
    },
    {
     "name": "stderr",
     "output_type": "stream",
     "text": [
      "2019-12-12 06:20:47.244Z moduleTest       20 moduleTest.py:954 3/3 phi forward to 3500\n"
     ]
    },
    {
     "name": "stdout",
     "output_type": "stream",
     "text": [
      "getting image\n",
      "(2048, 2592, 2)\n",
      "getting image\n",
      "(2048, 2592, 2)\n",
      "getting image\n",
      "(2048, 2592, 2)\n",
      "getting image\n",
      "(2048, 2592, 2)\n"
     ]
    },
    {
     "name": "stderr",
     "output_type": "stream",
     "text": [
      "2019-12-12 06:20:49.923Z moduleTest       20 moduleTest.py:954 3/3 phi forward to 3750\n"
     ]
    },
    {
     "name": "stdout",
     "output_type": "stream",
     "text": [
      "getting image\n",
      "(2048, 2592, 2)\n",
      "getting image\n",
      "(2048, 2592, 2)\n",
      "getting image\n",
      "(2048, 2592, 2)\n",
      "getting image\n",
      "(2048, 2592, 2)\n"
     ]
    },
    {
     "name": "stderr",
     "output_type": "stream",
     "text": [
      "2019-12-12 06:20:52.582Z moduleTest       20 moduleTest.py:954 3/3 phi forward to 4000\n"
     ]
    },
    {
     "name": "stdout",
     "output_type": "stream",
     "text": [
      "getting image\n",
      "(2048, 2592, 2)\n",
      "getting image\n",
      "(2048, 2592, 2)\n",
      "getting image\n",
      "(2048, 2592, 2)\n",
      "getting image\n",
      "(2048, 2592, 2)\n"
     ]
    },
    {
     "name": "stderr",
     "output_type": "stream",
     "text": [
      "2019-12-12 06:20:55.247Z moduleTest       20 moduleTest.py:954 3/3 phi forward to 4250\n"
     ]
    },
    {
     "name": "stdout",
     "output_type": "stream",
     "text": [
      "getting image\n",
      "(2048, 2592, 2)\n",
      "getting image\n",
      "(2048, 2592, 2)\n",
      "getting image\n",
      "(2048, 2592, 2)\n",
      "getting image\n",
      "(2048, 2592, 2)\n"
     ]
    },
    {
     "name": "stderr",
     "output_type": "stream",
     "text": [
      "2019-12-12 06:20:57.906Z moduleTest       20 moduleTest.py:954 3/3 phi forward to 4500\n"
     ]
    },
    {
     "name": "stdout",
     "output_type": "stream",
     "text": [
      "getting image\n",
      "(2048, 2592, 2)\n",
      "getting image\n",
      "(2048, 2592, 2)\n",
      "getting image\n",
      "(2048, 2592, 2)\n",
      "getting image\n",
      "(2048, 2592, 2)\n"
     ]
    },
    {
     "name": "stderr",
     "output_type": "stream",
     "text": [
      "2019-12-12 06:21:00.599Z moduleTest       20 moduleTest.py:954 3/3 phi forward to 4750\n"
     ]
    },
    {
     "name": "stdout",
     "output_type": "stream",
     "text": [
      "getting image\n",
      "(2048, 2592, 2)\n",
      "getting image\n",
      "(2048, 2592, 2)\n",
      "getting image\n",
      "(2048, 2592, 2)\n",
      "getting image\n",
      "(2048, 2592, 2)\n"
     ]
    },
    {
     "name": "stderr",
     "output_type": "stream",
     "text": [
      "2019-12-12 06:21:03.267Z moduleTest       20 moduleTest.py:954 3/3 phi forward to 5000\n"
     ]
    },
    {
     "name": "stdout",
     "output_type": "stream",
     "text": [
      "getting image\n",
      "(2048, 2592, 2)\n",
      "getting image\n",
      "(2048, 2592, 2)\n",
      "getting image\n",
      "(2048, 2592, 2)\n",
      "getting image\n",
      "(2048, 2592, 2)\n"
     ]
    },
    {
     "name": "stderr",
     "output_type": "stream",
     "text": [
      "2019-12-12 06:21:05.942Z moduleTest       20 moduleTest.py:954 3/3 phi forward to 5250\n"
     ]
    },
    {
     "name": "stdout",
     "output_type": "stream",
     "text": [
      "getting image\n",
      "(2048, 2592, 2)\n",
      "getting image\n",
      "(2048, 2592, 2)\n",
      "getting image\n",
      "(2048, 2592, 2)\n",
      "getting image\n",
      "(2048, 2592, 2)\n"
     ]
    },
    {
     "name": "stderr",
     "output_type": "stream",
     "text": [
      "2019-12-12 06:21:08.771Z moduleTest       20 moduleTest.py:954 3/3 phi forward to 5500\n"
     ]
    },
    {
     "name": "stdout",
     "output_type": "stream",
     "text": [
      "getting image\n",
      "(2048, 2592, 2)\n",
      "getting image\n",
      "(2048, 2592, 2)\n",
      "getting image\n",
      "(2048, 2592, 2)\n",
      "getting image\n",
      "(2048, 2592, 2)\n"
     ]
    },
    {
     "name": "stderr",
     "output_type": "stream",
     "text": [
      "2019-12-12 06:21:11.584Z moduleTest       20 moduleTest.py:954 3/3 phi forward to 5750\n"
     ]
    },
    {
     "name": "stdout",
     "output_type": "stream",
     "text": [
      "getting image\n",
      "(2048, 2592, 2)\n",
      "getting image\n",
      "(2048, 2592, 2)\n",
      "getting image\n",
      "(2048, 2592, 2)\n",
      "getting image\n",
      "(2048, 2592, 2)\n"
     ]
    },
    {
     "name": "stderr",
     "output_type": "stream",
     "text": [
      "2019-12-12 06:21:14.273Z moduleTest       20 moduleTest.py:954 3/3 phi forward to 6000\n"
     ]
    },
    {
     "name": "stdout",
     "output_type": "stream",
     "text": [
      "getting image\n",
      "(2048, 2592, 2)\n",
      "getting image\n",
      "(2048, 2592, 2)\n",
      "getting image\n",
      "(2048, 2592, 2)\n",
      "getting image\n",
      "(2048, 2592, 2)\n"
     ]
    },
    {
     "name": "stderr",
     "output_type": "stream",
     "text": [
      "2019-12-12 06:21:17.086Z moduleTest       20 moduleTest.py:981 3/3 phi forward 6000 to limit\n"
     ]
    },
    {
     "name": "stdout",
     "output_type": "stream",
     "text": [
      "getting image\n",
      "(2048, 2592, 2)\n",
      "getting image\n",
      "(2048, 2592, 2)\n",
      "getting image\n",
      "(2048, 2592, 2)\n",
      "getting image\n",
      "(2048, 2592, 2)\n"
     ]
    },
    {
     "name": "stderr",
     "output_type": "stream",
     "text": [
      "2019-12-12 06:21:33.877Z moduleTest       20 moduleTest.py:991 3/3 phi backward to 250\n"
     ]
    },
    {
     "name": "stdout",
     "output_type": "stream",
     "text": [
      "getting image\n",
      "(2048, 2592, 2)\n",
      "getting image\n",
      "(2048, 2592, 2)\n",
      "getting image\n",
      "(2048, 2592, 2)\n",
      "getting image\n",
      "(2048, 2592, 2)\n"
     ]
    },
    {
     "name": "stderr",
     "output_type": "stream",
     "text": [
      "2019-12-12 06:21:36.604Z moduleTest       20 moduleTest.py:991 3/3 phi backward to 500\n"
     ]
    },
    {
     "name": "stdout",
     "output_type": "stream",
     "text": [
      "getting image\n",
      "(2048, 2592, 2)\n",
      "getting image\n",
      "(2048, 2592, 2)\n",
      "getting image\n",
      "(2048, 2592, 2)\n",
      "getting image\n",
      "(2048, 2592, 2)\n"
     ]
    },
    {
     "name": "stderr",
     "output_type": "stream",
     "text": [
      "2019-12-12 06:21:39.424Z moduleTest       20 moduleTest.py:991 3/3 phi backward to 750\n"
     ]
    },
    {
     "name": "stdout",
     "output_type": "stream",
     "text": [
      "getting image\n",
      "(2048, 2592, 2)\n",
      "getting image\n",
      "(2048, 2592, 2)\n",
      "getting image\n",
      "(2048, 2592, 2)\n",
      "getting image\n",
      "(2048, 2592, 2)\n"
     ]
    },
    {
     "name": "stderr",
     "output_type": "stream",
     "text": [
      "2019-12-12 06:21:42.102Z moduleTest       20 moduleTest.py:991 3/3 phi backward to 1000\n"
     ]
    },
    {
     "name": "stdout",
     "output_type": "stream",
     "text": [
      "getting image\n",
      "(2048, 2592, 2)\n",
      "getting image\n",
      "(2048, 2592, 2)\n",
      "getting image\n",
      "(2048, 2592, 2)\n",
      "getting image\n",
      "(2048, 2592, 2)\n"
     ]
    },
    {
     "name": "stderr",
     "output_type": "stream",
     "text": [
      "2019-12-12 06:21:44.755Z moduleTest       20 moduleTest.py:991 3/3 phi backward to 1250\n"
     ]
    },
    {
     "name": "stdout",
     "output_type": "stream",
     "text": [
      "getting image\n",
      "(2048, 2592, 2)\n",
      "getting image\n",
      "(2048, 2592, 2)\n",
      "getting image\n",
      "(2048, 2592, 2)\n",
      "getting image\n",
      "(2048, 2592, 2)\n"
     ]
    },
    {
     "name": "stderr",
     "output_type": "stream",
     "text": [
      "2019-12-12 06:21:47.422Z moduleTest       20 moduleTest.py:991 3/3 phi backward to 1500\n"
     ]
    },
    {
     "name": "stdout",
     "output_type": "stream",
     "text": [
      "getting image\n",
      "(2048, 2592, 2)\n",
      "getting image\n",
      "(2048, 2592, 2)\n",
      "getting image\n",
      "(2048, 2592, 2)\n",
      "getting image\n",
      "(2048, 2592, 2)\n"
     ]
    },
    {
     "name": "stderr",
     "output_type": "stream",
     "text": [
      "2019-12-12 06:21:50.106Z moduleTest       20 moduleTest.py:991 3/3 phi backward to 1750\n"
     ]
    },
    {
     "name": "stdout",
     "output_type": "stream",
     "text": [
      "getting image\n",
      "(2048, 2592, 2)\n",
      "getting image\n",
      "(2048, 2592, 2)\n",
      "getting image\n",
      "(2048, 2592, 2)\n",
      "getting image\n",
      "(2048, 2592, 2)\n"
     ]
    },
    {
     "name": "stderr",
     "output_type": "stream",
     "text": [
      "2019-12-12 06:21:52.776Z moduleTest       20 moduleTest.py:991 3/3 phi backward to 2000\n"
     ]
    },
    {
     "name": "stdout",
     "output_type": "stream",
     "text": [
      "getting image\n",
      "(2048, 2592, 2)\n",
      "getting image\n",
      "(2048, 2592, 2)\n",
      "getting image\n",
      "(2048, 2592, 2)\n",
      "getting image\n",
      "(2048, 2592, 2)\n"
     ]
    },
    {
     "name": "stderr",
     "output_type": "stream",
     "text": [
      "2019-12-12 06:21:55.641Z moduleTest       20 moduleTest.py:991 3/3 phi backward to 2250\n"
     ]
    },
    {
     "name": "stdout",
     "output_type": "stream",
     "text": [
      "getting image\n",
      "(2048, 2592, 2)\n",
      "getting image\n",
      "(2048, 2592, 2)\n",
      "getting image\n",
      "(2048, 2592, 2)\n",
      "getting image\n",
      "(2048, 2592, 2)\n"
     ]
    },
    {
     "name": "stderr",
     "output_type": "stream",
     "text": [
      "2019-12-12 06:21:58.455Z moduleTest       20 moduleTest.py:991 3/3 phi backward to 2500\n"
     ]
    },
    {
     "name": "stdout",
     "output_type": "stream",
     "text": [
      "getting image\n",
      "(2048, 2592, 2)\n",
      "getting image\n",
      "(2048, 2592, 2)\n",
      "getting image\n",
      "(2048, 2592, 2)\n",
      "getting image\n",
      "(2048, 2592, 2)\n"
     ]
    },
    {
     "name": "stderr",
     "output_type": "stream",
     "text": [
      "2019-12-12 06:22:01.285Z moduleTest       20 moduleTest.py:991 3/3 phi backward to 2750\n"
     ]
    },
    {
     "name": "stdout",
     "output_type": "stream",
     "text": [
      "getting image\n",
      "(2048, 2592, 2)\n",
      "getting image\n",
      "(2048, 2592, 2)\n",
      "getting image\n",
      "(2048, 2592, 2)\n",
      "getting image\n",
      "(2048, 2592, 2)\n"
     ]
    },
    {
     "name": "stderr",
     "output_type": "stream",
     "text": [
      "2019-12-12 06:22:04.105Z moduleTest       20 moduleTest.py:991 3/3 phi backward to 3000\n"
     ]
    },
    {
     "name": "stdout",
     "output_type": "stream",
     "text": [
      "getting image\n",
      "(2048, 2592, 2)\n",
      "getting image\n",
      "(2048, 2592, 2)\n",
      "getting image\n",
      "(2048, 2592, 2)\n",
      "getting image\n",
      "(2048, 2592, 2)\n"
     ]
    },
    {
     "name": "stderr",
     "output_type": "stream",
     "text": [
      "2019-12-12 06:22:06.770Z moduleTest       20 moduleTest.py:991 3/3 phi backward to 3250\n"
     ]
    },
    {
     "name": "stdout",
     "output_type": "stream",
     "text": [
      "getting image\n",
      "(2048, 2592, 2)\n",
      "getting image\n",
      "(2048, 2592, 2)\n",
      "getting image\n",
      "(2048, 2592, 2)\n",
      "getting image\n",
      "(2048, 2592, 2)\n"
     ]
    },
    {
     "name": "stderr",
     "output_type": "stream",
     "text": [
      "2019-12-12 06:22:09.448Z moduleTest       20 moduleTest.py:991 3/3 phi backward to 3500\n"
     ]
    },
    {
     "name": "stdout",
     "output_type": "stream",
     "text": [
      "getting image\n",
      "(2048, 2592, 2)\n",
      "getting image\n",
      "(2048, 2592, 2)\n",
      "getting image\n",
      "(2048, 2592, 2)\n",
      "getting image\n",
      "(2048, 2592, 2)\n"
     ]
    },
    {
     "name": "stderr",
     "output_type": "stream",
     "text": [
      "2019-12-12 06:22:12.276Z moduleTest       20 moduleTest.py:991 3/3 phi backward to 3750\n"
     ]
    },
    {
     "name": "stdout",
     "output_type": "stream",
     "text": [
      "getting image\n",
      "(2048, 2592, 2)\n",
      "getting image\n",
      "(2048, 2592, 2)\n",
      "getting image\n",
      "(2048, 2592, 2)\n",
      "getting image\n",
      "(2048, 2592, 2)\n"
     ]
    },
    {
     "name": "stderr",
     "output_type": "stream",
     "text": [
      "2019-12-12 06:22:15.113Z moduleTest       20 moduleTest.py:991 3/3 phi backward to 4000\n"
     ]
    },
    {
     "name": "stdout",
     "output_type": "stream",
     "text": [
      "getting image\n",
      "(2048, 2592, 2)\n",
      "getting image\n",
      "(2048, 2592, 2)\n",
      "getting image\n",
      "(2048, 2592, 2)\n",
      "getting image\n",
      "(2048, 2592, 2)\n"
     ]
    },
    {
     "name": "stderr",
     "output_type": "stream",
     "text": [
      "2019-12-12 06:22:17.949Z moduleTest       20 moduleTest.py:991 3/3 phi backward to 4250\n"
     ]
    },
    {
     "name": "stdout",
     "output_type": "stream",
     "text": [
      "getting image\n",
      "(2048, 2592, 2)\n",
      "getting image\n",
      "(2048, 2592, 2)\n",
      "getting image\n",
      "(2048, 2592, 2)\n",
      "getting image\n",
      "(2048, 2592, 2)\n"
     ]
    },
    {
     "name": "stderr",
     "output_type": "stream",
     "text": [
      "2019-12-12 06:22:20.796Z moduleTest       20 moduleTest.py:991 3/3 phi backward to 4500\n"
     ]
    },
    {
     "name": "stdout",
     "output_type": "stream",
     "text": [
      "getting image\n",
      "(2048, 2592, 2)\n",
      "getting image\n",
      "(2048, 2592, 2)\n",
      "getting image\n",
      "(2048, 2592, 2)\n",
      "getting image\n",
      "(2048, 2592, 2)\n"
     ]
    },
    {
     "name": "stderr",
     "output_type": "stream",
     "text": [
      "2019-12-12 06:22:23.611Z moduleTest       20 moduleTest.py:991 3/3 phi backward to 4750\n"
     ]
    },
    {
     "name": "stdout",
     "output_type": "stream",
     "text": [
      "getting image\n",
      "(2048, 2592, 2)\n",
      "getting image\n",
      "(2048, 2592, 2)\n",
      "getting image\n",
      "(2048, 2592, 2)\n",
      "getting image\n",
      "(2048, 2592, 2)\n"
     ]
    },
    {
     "name": "stderr",
     "output_type": "stream",
     "text": [
      "2019-12-12 06:22:26.442Z moduleTest       20 moduleTest.py:991 3/3 phi backward to 5000\n"
     ]
    },
    {
     "name": "stdout",
     "output_type": "stream",
     "text": [
      "getting image\n",
      "(2048, 2592, 2)\n",
      "getting image\n",
      "(2048, 2592, 2)\n",
      "getting image\n",
      "(2048, 2592, 2)\n",
      "getting image\n",
      "(2048, 2592, 2)\n"
     ]
    },
    {
     "name": "stderr",
     "output_type": "stream",
     "text": [
      "2019-12-12 06:22:29.274Z moduleTest       20 moduleTest.py:991 3/3 phi backward to 5250\n"
     ]
    },
    {
     "name": "stdout",
     "output_type": "stream",
     "text": [
      "getting image\n",
      "(2048, 2592, 2)\n",
      "getting image\n",
      "(2048, 2592, 2)\n",
      "getting image\n",
      "(2048, 2592, 2)\n",
      "getting image\n",
      "(2048, 2592, 2)\n"
     ]
    },
    {
     "name": "stderr",
     "output_type": "stream",
     "text": [
      "2019-12-12 06:22:31.958Z moduleTest       20 moduleTest.py:991 3/3 phi backward to 5500\n"
     ]
    },
    {
     "name": "stdout",
     "output_type": "stream",
     "text": [
      "getting image\n",
      "(2048, 2592, 2)\n",
      "getting image\n",
      "(2048, 2592, 2)\n",
      "getting image\n",
      "(2048, 2592, 2)\n",
      "getting image\n",
      "(2048, 2592, 2)\n"
     ]
    },
    {
     "name": "stderr",
     "output_type": "stream",
     "text": [
      "2019-12-12 06:22:34.793Z moduleTest       20 moduleTest.py:991 3/3 phi backward to 5750\n"
     ]
    },
    {
     "name": "stdout",
     "output_type": "stream",
     "text": [
      "getting image\n",
      "(2048, 2592, 2)\n",
      "getting image\n",
      "(2048, 2592, 2)\n",
      "getting image\n",
      "(2048, 2592, 2)\n",
      "getting image\n",
      "(2048, 2592, 2)\n"
     ]
    },
    {
     "name": "stderr",
     "output_type": "stream",
     "text": [
      "2019-12-12 06:22:37.602Z moduleTest       20 moduleTest.py:991 3/3 phi backward to 6000\n"
     ]
    },
    {
     "name": "stdout",
     "output_type": "stream",
     "text": [
      "getting image\n",
      "(2048, 2592, 2)\n",
      "getting image\n",
      "(2048, 2592, 2)\n",
      "getting image\n",
      "(2048, 2592, 2)\n",
      "getting image\n",
      "(2048, 2592, 2)\n"
     ]
    },
    {
     "name": "stderr",
     "output_type": "stream",
     "text": [
      "2019-12-12 06:22:40.277Z moduleTest       20 moduleTest.py:1018 3/3 phi reverse -6000 steps to limit\n",
      "2019-12-12 06:22:56.141Z root             20 pfiDesign.py:740 wrote pfiDesign file for 57 cobras and name=phiModel to /data/MCS/20191212_064/output/phi_run2.xml\n",
      "2019-12-12 06:22:56.143Z moduleTest       40 moduleTest.py:319 phi ranges for cobras [22] are too small: CW=[0.] CCW=[0.]\n",
      "2019-12-12 06:22:56.143Z moduleTest       40 moduleTest.py:322      [0.]\n",
      "2019-12-12 06:22:56.144Z ontimeOptimize   20 ontimeOptimize.py:667 Current XML = /data/MCS/20191212_064/output/phi_run2.xml\n"
     ]
    },
    {
     "name": "stdout",
     "output_type": "stream",
     "text": [
      "convert /data/MCS/20191212_064/output/FiberSpeed.png /data/MCS/20191212_064/output/AngleMove*_[0-9].png                 /data/MCS/20191212_064/output/AngleMove*_[0-9]?.png /data/MCS/20191212_064/output/AngleMove.pdf\n",
      "['/data/MCS/20191212_060/', '/data/MCS/20191212_062/', '/data/MCS/20191212_064/']\n"
     ]
    },
    {
     "name": "stderr",
     "output_type": "stream",
     "text": [
      "/home/pfs/mhs/devel/ics_cobraCharmer/procedures/moduleTest/ontimeOptimize.py:353: RuntimeWarning: divide by zero encountered in true_divide\n",
      "  newOntimeFwd = (fwd_target - self.fwd_int)/self.fwd_slope\n",
      "/home/pfs/mhs/devel/ics_cobraCharmer/procedures/moduleTest/ontimeOptimize.py:354: RuntimeWarning: divide by zero encountered in true_divide\n",
      "  newOntimeRev = (rev_target - self.rev_int)/self.rev_slope\n",
      "2019-12-12 06:23:03.325Z root             20 pfiDesign.py:740 wrote pfiDesign file for 57 cobras and name=None to /data/MCS/temp.xml\n",
      "2019-12-12 06:23:03.326Z ontimeOptimize   20 ontimeOptimize.py:685 Updating XML = /data/MCS/temp.xml\n",
      "2019-12-12 06:23:08.094Z ontimeOptimize   20 ontimeOptimize.py:609 Output XML = /data/MCS/temp.xml\n",
      "2019-12-12 06:23:08.098Z butler           30 butler.py:58 newRun: /data/MCS/20191212_065\n",
      "2019-12-12 06:23:08.101Z fpgaIO           20 pfi.py:57 FPGA connection to 128.149.77.24\n",
      "/home/pfs/mhs/devel/ics_cobraCharmer/python/ics/cobraCharmer/pfiDesign.py:54: UserWarning: please use PFIDesign.loadModule() or PFIDesign.loadPFI()\n",
      "  warnings.warn('please use PFIDesign.loadModule() or PFIDesign.loadPFI()')\n",
      "2019-12-12 06:23:08.150Z pfi              20 pfi.py:73 load cobra model from /data/MCS/temp.xml\n"
     ]
    },
    {
     "name": "stdout",
     "output_type": "stream",
     "text": [
      "Camera close!\n"
     ]
    },
    {
     "name": "stderr",
     "output_type": "stream",
     "text": [
      "2019-12-12 06:23:08.839Z camera           20 asrdCam.py:17 asrd...\n"
     ]
    },
    {
     "name": "stdout",
     "output_type": "stream",
     "text": [
      "Camera close!\n"
     ]
    },
    {
     "name": "stderr",
     "output_type": "stream",
     "text": [
      "2019-12-12 06:23:09.054Z butler           30 butler.py:58 newRun: /data/MCS/20191212_066\n",
      "2019-12-12 06:23:09.057Z fpgaIO           20 pfi.py:57 FPGA connection to 128.149.77.24\n",
      "2019-12-12 06:23:09.106Z pfi              20 pfi.py:73 load cobra model from /data/MCS/temp.xml\n",
      "2019-12-12 06:23:09.142Z camera           20 asrdCam.py:17 asrd...\n",
      "2019-12-12 06:23:09.172Z moduleTest       20 moduleTest.py:943 phi home -6000 steps\n"
     ]
    },
    {
     "name": "stdout",
     "output_type": "stream",
     "text": [
      "IS_COLORMODE_MONOCHROME: \n",
      "\tm_nColorMode: \t\t 34\n",
      "\tnBitsPerPixel: \t\t 10\n",
      "\tbytes_per_pixel: \t\t 2\n",
      "\n",
      "Camera model:\t\t UI318xCP-M\n",
      "Camera serial no.:\t 4103536358\n",
      "Maximum image self.width:\t 2592\n",
      "Maximum image self.height:\t 2048\n",
      "\n",
      "200\n",
      "IS_COLORMODE_MONOCHROME: \n",
      "\tm_nColorMode: \t\t 34\n",
      "\tnBitsPerPixel: \t\t 10\n",
      "\tbytes_per_pixel: \t\t 2\n",
      "\n",
      "Camera model:\t\t UI318xCP-M\n",
      "Camera serial no.:\t 4103541788\n",
      "Maximum image self.width:\t 2592\n",
      "Maximum image self.height:\t 2048\n",
      "\n",
      "200\n",
      "getting image\n",
      "(2048, 2592, 2)\n",
      "getting image\n",
      "(2048, 2592, 2)\n",
      "getting image\n",
      "(2048, 2592, 2)\n",
      "getting image\n",
      "(2048, 2592, 2)\n"
     ]
    },
    {
     "name": "stderr",
     "output_type": "stream",
     "text": [
      "2019-12-12 06:23:35.931Z moduleTest       20 moduleTest.py:954 1/3 phi forward to 250\n"
     ]
    },
    {
     "name": "stdout",
     "output_type": "stream",
     "text": [
      "getting image\n",
      "(2048, 2592, 2)\n",
      "getting image\n",
      "(2048, 2592, 2)\n",
      "getting image\n",
      "(2048, 2592, 2)\n",
      "getting image\n",
      "(2048, 2592, 2)\n"
     ]
    },
    {
     "name": "stderr",
     "output_type": "stream",
     "text": [
      "2019-12-12 06:23:38.585Z moduleTest       20 moduleTest.py:954 1/3 phi forward to 500\n"
     ]
    },
    {
     "name": "stdout",
     "output_type": "stream",
     "text": [
      "getting image\n",
      "(2048, 2592, 2)\n",
      "getting image\n",
      "(2048, 2592, 2)\n",
      "getting image\n",
      "(2048, 2592, 2)\n",
      "getting image\n",
      "(2048, 2592, 2)\n"
     ]
    },
    {
     "name": "stderr",
     "output_type": "stream",
     "text": [
      "2019-12-12 06:23:41.230Z moduleTest       20 moduleTest.py:954 1/3 phi forward to 750\n"
     ]
    },
    {
     "name": "stdout",
     "output_type": "stream",
     "text": [
      "getting image\n",
      "(2048, 2592, 2)\n",
      "getting image\n",
      "(2048, 2592, 2)\n",
      "getting image\n",
      "(2048, 2592, 2)\n",
      "getting image\n",
      "(2048, 2592, 2)\n"
     ]
    },
    {
     "name": "stderr",
     "output_type": "stream",
     "text": [
      "2019-12-12 06:23:43.906Z moduleTest       20 moduleTest.py:954 1/3 phi forward to 1000\n"
     ]
    },
    {
     "name": "stdout",
     "output_type": "stream",
     "text": [
      "getting image\n",
      "(2048, 2592, 2)\n",
      "getting image\n",
      "(2048, 2592, 2)\n",
      "getting image\n",
      "(2048, 2592, 2)\n",
      "getting image\n",
      "(2048, 2592, 2)\n"
     ]
    },
    {
     "name": "stderr",
     "output_type": "stream",
     "text": [
      "2019-12-12 06:23:46.574Z moduleTest       20 moduleTest.py:954 1/3 phi forward to 1250\n"
     ]
    },
    {
     "name": "stdout",
     "output_type": "stream",
     "text": [
      "getting image\n",
      "(2048, 2592, 2)\n",
      "getting image\n",
      "(2048, 2592, 2)\n",
      "getting image\n",
      "(2048, 2592, 2)\n",
      "getting image\n",
      "(2048, 2592, 2)\n"
     ]
    },
    {
     "name": "stderr",
     "output_type": "stream",
     "text": [
      "2019-12-12 06:23:49.191Z moduleTest       20 moduleTest.py:954 1/3 phi forward to 1500\n"
     ]
    },
    {
     "name": "stdout",
     "output_type": "stream",
     "text": [
      "getting image\n",
      "(2048, 2592, 2)\n",
      "getting image\n",
      "(2048, 2592, 2)\n",
      "getting image\n",
      "(2048, 2592, 2)\n",
      "getting image\n",
      "(2048, 2592, 2)\n"
     ]
    },
    {
     "name": "stderr",
     "output_type": "stream",
     "text": [
      "2019-12-12 06:23:51.774Z moduleTest       20 moduleTest.py:954 1/3 phi forward to 1750\n"
     ]
    },
    {
     "name": "stdout",
     "output_type": "stream",
     "text": [
      "getting image\n",
      "(2048, 2592, 2)\n",
      "getting image\n",
      "(2048, 2592, 2)\n",
      "getting image\n",
      "(2048, 2592, 2)\n",
      "getting image\n",
      "(2048, 2592, 2)\n"
     ]
    },
    {
     "name": "stderr",
     "output_type": "stream",
     "text": [
      "2019-12-12 06:23:54.377Z moduleTest       20 moduleTest.py:954 1/3 phi forward to 2000\n"
     ]
    },
    {
     "name": "stdout",
     "output_type": "stream",
     "text": [
      "getting image\n",
      "(2048, 2592, 2)\n",
      "getting image\n",
      "(2048, 2592, 2)\n",
      "getting image\n",
      "(2048, 2592, 2)\n",
      "getting image\n",
      "(2048, 2592, 2)\n"
     ]
    },
    {
     "name": "stderr",
     "output_type": "stream",
     "text": [
      "2019-12-12 06:23:56.894Z moduleTest       20 moduleTest.py:954 1/3 phi forward to 2250\n"
     ]
    },
    {
     "name": "stdout",
     "output_type": "stream",
     "text": [
      "getting image\n",
      "(2048, 2592, 2)\n",
      "getting image\n",
      "(2048, 2592, 2)\n",
      "getting image\n",
      "(2048, 2592, 2)\n",
      "getting image\n",
      "(2048, 2592, 2)\n"
     ]
    },
    {
     "name": "stderr",
     "output_type": "stream",
     "text": [
      "2019-12-12 06:23:59.549Z moduleTest       20 moduleTest.py:954 1/3 phi forward to 2500\n"
     ]
    },
    {
     "name": "stdout",
     "output_type": "stream",
     "text": [
      "getting image\n",
      "(2048, 2592, 2)\n",
      "getting image\n",
      "(2048, 2592, 2)\n",
      "getting image\n",
      "(2048, 2592, 2)\n",
      "getting image\n",
      "(2048, 2592, 2)\n"
     ]
    },
    {
     "name": "stderr",
     "output_type": "stream",
     "text": [
      "2019-12-12 06:24:02.046Z moduleTest       20 moduleTest.py:954 1/3 phi forward to 2750\n"
     ]
    },
    {
     "name": "stdout",
     "output_type": "stream",
     "text": [
      "getting image\n",
      "(2048, 2592, 2)\n",
      "getting image\n",
      "(2048, 2592, 2)\n",
      "getting image\n",
      "(2048, 2592, 2)\n",
      "getting image\n",
      "(2048, 2592, 2)\n"
     ]
    },
    {
     "name": "stderr",
     "output_type": "stream",
     "text": [
      "2019-12-12 06:24:04.515Z moduleTest       20 moduleTest.py:954 1/3 phi forward to 3000\n"
     ]
    },
    {
     "name": "stdout",
     "output_type": "stream",
     "text": [
      "getting image\n",
      "(2048, 2592, 2)\n",
      "getting image\n",
      "(2048, 2592, 2)\n",
      "getting image\n",
      "(2048, 2592, 2)\n",
      "getting image\n",
      "(2048, 2592, 2)\n"
     ]
    },
    {
     "name": "stderr",
     "output_type": "stream",
     "text": [
      "2019-12-12 06:24:07.070Z moduleTest       20 moduleTest.py:954 1/3 phi forward to 3250\n"
     ]
    },
    {
     "name": "stdout",
     "output_type": "stream",
     "text": [
      "getting image\n",
      "(2048, 2592, 2)\n",
      "getting image\n",
      "(2048, 2592, 2)\n",
      "getting image\n",
      "(2048, 2592, 2)\n",
      "getting image\n",
      "(2048, 2592, 2)\n"
     ]
    },
    {
     "name": "stderr",
     "output_type": "stream",
     "text": [
      "2019-12-12 06:24:09.660Z moduleTest       20 moduleTest.py:954 1/3 phi forward to 3500\n"
     ]
    },
    {
     "name": "stdout",
     "output_type": "stream",
     "text": [
      "getting image\n",
      "(2048, 2592, 2)\n",
      "getting image\n",
      "(2048, 2592, 2)\n",
      "getting image\n",
      "(2048, 2592, 2)\n",
      "getting image\n",
      "(2048, 2592, 2)\n"
     ]
    },
    {
     "name": "stderr",
     "output_type": "stream",
     "text": [
      "2019-12-12 06:24:12.185Z moduleTest       20 moduleTest.py:954 1/3 phi forward to 3750\n"
     ]
    },
    {
     "name": "stdout",
     "output_type": "stream",
     "text": [
      "getting image\n",
      "(2048, 2592, 2)\n",
      "getting image\n",
      "(2048, 2592, 2)\n",
      "getting image\n",
      "(2048, 2592, 2)\n",
      "getting image\n",
      "(2048, 2592, 2)\n"
     ]
    },
    {
     "name": "stderr",
     "output_type": "stream",
     "text": [
      "2019-12-12 06:24:14.656Z moduleTest       20 moduleTest.py:954 1/3 phi forward to 4000\n"
     ]
    },
    {
     "name": "stdout",
     "output_type": "stream",
     "text": [
      "getting image\n",
      "(2048, 2592, 2)\n",
      "getting image\n",
      "(2048, 2592, 2)\n",
      "getting image\n",
      "(2048, 2592, 2)\n",
      "getting image\n",
      "(2048, 2592, 2)\n"
     ]
    },
    {
     "name": "stderr",
     "output_type": "stream",
     "text": [
      "2019-12-12 06:24:17.191Z moduleTest       20 moduleTest.py:954 1/3 phi forward to 4250\n"
     ]
    },
    {
     "name": "stdout",
     "output_type": "stream",
     "text": [
      "getting image\n",
      "(2048, 2592, 2)\n",
      "getting image\n",
      "(2048, 2592, 2)\n",
      "getting image\n",
      "(2048, 2592, 2)\n",
      "getting image\n",
      "(2048, 2592, 2)\n"
     ]
    },
    {
     "name": "stderr",
     "output_type": "stream",
     "text": [
      "2019-12-12 06:24:19.665Z moduleTest       20 moduleTest.py:954 1/3 phi forward to 4500\n"
     ]
    },
    {
     "name": "stdout",
     "output_type": "stream",
     "text": [
      "getting image\n",
      "(2048, 2592, 2)\n",
      "getting image\n",
      "(2048, 2592, 2)\n",
      "getting image\n",
      "(2048, 2592, 2)\n",
      "getting image\n",
      "(2048, 2592, 2)\n"
     ]
    },
    {
     "name": "stderr",
     "output_type": "stream",
     "text": [
      "2019-12-12 06:24:22.176Z moduleTest       20 moduleTest.py:954 1/3 phi forward to 4750\n"
     ]
    },
    {
     "name": "stdout",
     "output_type": "stream",
     "text": [
      "getting image\n",
      "(2048, 2592, 2)\n",
      "getting image\n",
      "(2048, 2592, 2)\n",
      "getting image\n",
      "(2048, 2592, 2)\n",
      "getting image\n",
      "(2048, 2592, 2)\n"
     ]
    },
    {
     "name": "stderr",
     "output_type": "stream",
     "text": [
      "2019-12-12 06:24:24.667Z moduleTest       20 moduleTest.py:954 1/3 phi forward to 5000\n"
     ]
    },
    {
     "name": "stdout",
     "output_type": "stream",
     "text": [
      "getting image\n",
      "(2048, 2592, 2)\n",
      "getting image\n",
      "(2048, 2592, 2)\n",
      "getting image\n",
      "(2048, 2592, 2)\n",
      "getting image\n",
      "(2048, 2592, 2)\n"
     ]
    },
    {
     "name": "stderr",
     "output_type": "stream",
     "text": [
      "2019-12-12 06:24:27.171Z moduleTest       20 moduleTest.py:954 1/3 phi forward to 5250\n"
     ]
    },
    {
     "name": "stdout",
     "output_type": "stream",
     "text": [
      "getting image\n",
      "(2048, 2592, 2)\n",
      "getting image\n",
      "(2048, 2592, 2)\n",
      "getting image\n",
      "(2048, 2592, 2)\n",
      "getting image\n",
      "(2048, 2592, 2)\n"
     ]
    },
    {
     "name": "stderr",
     "output_type": "stream",
     "text": [
      "2019-12-12 06:24:29.663Z moduleTest       20 moduleTest.py:954 1/3 phi forward to 5500\n"
     ]
    },
    {
     "name": "stdout",
     "output_type": "stream",
     "text": [
      "getting image\n",
      "(2048, 2592, 2)\n",
      "getting image\n",
      "(2048, 2592, 2)\n",
      "getting image\n",
      "(2048, 2592, 2)\n",
      "getting image\n",
      "(2048, 2592, 2)\n"
     ]
    },
    {
     "name": "stderr",
     "output_type": "stream",
     "text": [
      "2019-12-12 06:24:32.163Z moduleTest       20 moduleTest.py:954 1/3 phi forward to 5750\n"
     ]
    },
    {
     "name": "stdout",
     "output_type": "stream",
     "text": [
      "getting image\n",
      "(2048, 2592, 2)\n",
      "getting image\n",
      "(2048, 2592, 2)\n",
      "getting image\n",
      "(2048, 2592, 2)\n",
      "getting image\n",
      "(2048, 2592, 2)\n"
     ]
    },
    {
     "name": "stderr",
     "output_type": "stream",
     "text": [
      "2019-12-12 06:24:34.725Z moduleTest       20 moduleTest.py:954 1/3 phi forward to 6000\n"
     ]
    },
    {
     "name": "stdout",
     "output_type": "stream",
     "text": [
      "getting image\n",
      "(2048, 2592, 2)\n",
      "getting image\n",
      "(2048, 2592, 2)\n",
      "getting image\n",
      "(2048, 2592, 2)\n",
      "getting image\n",
      "(2048, 2592, 2)\n"
     ]
    },
    {
     "name": "stderr",
     "output_type": "stream",
     "text": [
      "2019-12-12 06:24:37.353Z moduleTest       20 moduleTest.py:981 1/3 phi forward 6000 to limit\n"
     ]
    },
    {
     "name": "stdout",
     "output_type": "stream",
     "text": [
      "getting image\n",
      "(2048, 2592, 2)\n",
      "getting image\n",
      "(2048, 2592, 2)\n",
      "getting image\n",
      "(2048, 2592, 2)\n",
      "getting image\n",
      "(2048, 2592, 2)\n"
     ]
    },
    {
     "name": "stderr",
     "output_type": "stream",
     "text": [
      "2019-12-12 06:24:53.975Z moduleTest       20 moduleTest.py:991 1/3 phi backward to 250\n"
     ]
    },
    {
     "name": "stdout",
     "output_type": "stream",
     "text": [
      "getting image\n",
      "(2048, 2592, 2)\n",
      "getting image\n",
      "(2048, 2592, 2)\n",
      "getting image\n",
      "(2048, 2592, 2)\n",
      "getting image\n",
      "(2048, 2592, 2)\n"
     ]
    },
    {
     "name": "stderr",
     "output_type": "stream",
     "text": [
      "2019-12-12 06:24:56.845Z moduleTest       20 moduleTest.py:991 1/3 phi backward to 500\n"
     ]
    },
    {
     "name": "stdout",
     "output_type": "stream",
     "text": [
      "getting image\n",
      "(2048, 2592, 2)\n",
      "getting image\n",
      "(2048, 2592, 2)\n",
      "getting image\n",
      "(2048, 2592, 2)\n",
      "getting image\n",
      "(2048, 2592, 2)\n"
     ]
    },
    {
     "name": "stderr",
     "output_type": "stream",
     "text": [
      "2019-12-12 06:24:59.632Z moduleTest       20 moduleTest.py:991 1/3 phi backward to 750\n"
     ]
    },
    {
     "name": "stdout",
     "output_type": "stream",
     "text": [
      "getting image\n",
      "(2048, 2592, 2)\n",
      "getting image\n",
      "(2048, 2592, 2)\n",
      "getting image\n",
      "(2048, 2592, 2)\n",
      "getting image\n",
      "(2048, 2592, 2)\n"
     ]
    },
    {
     "name": "stderr",
     "output_type": "stream",
     "text": [
      "2019-12-12 06:25:02.357Z moduleTest       20 moduleTest.py:991 1/3 phi backward to 1000\n"
     ]
    },
    {
     "name": "stdout",
     "output_type": "stream",
     "text": [
      "getting image\n",
      "(2048, 2592, 2)\n",
      "getting image\n",
      "(2048, 2592, 2)\n",
      "getting image\n",
      "(2048, 2592, 2)\n",
      "getting image\n",
      "(2048, 2592, 2)\n"
     ]
    },
    {
     "name": "stderr",
     "output_type": "stream",
     "text": [
      "2019-12-12 06:25:04.847Z moduleTest       20 moduleTest.py:991 1/3 phi backward to 1250\n"
     ]
    },
    {
     "name": "stdout",
     "output_type": "stream",
     "text": [
      "getting image\n",
      "(2048, 2592, 2)\n",
      "getting image\n",
      "(2048, 2592, 2)\n",
      "getting image\n",
      "(2048, 2592, 2)\n",
      "getting image\n",
      "(2048, 2592, 2)\n"
     ]
    },
    {
     "name": "stderr",
     "output_type": "stream",
     "text": [
      "2019-12-12 06:25:07.361Z moduleTest       20 moduleTest.py:991 1/3 phi backward to 1500\n"
     ]
    },
    {
     "name": "stdout",
     "output_type": "stream",
     "text": [
      "getting image\n",
      "(2048, 2592, 2)\n",
      "getting image\n",
      "(2048, 2592, 2)\n",
      "getting image\n",
      "(2048, 2592, 2)\n",
      "getting image\n",
      "(2048, 2592, 2)\n"
     ]
    },
    {
     "name": "stderr",
     "output_type": "stream",
     "text": [
      "2019-12-12 06:25:10.045Z moduleTest       20 moduleTest.py:991 1/3 phi backward to 1750\n"
     ]
    },
    {
     "name": "stdout",
     "output_type": "stream",
     "text": [
      "getting image\n",
      "(2048, 2592, 2)\n",
      "getting image\n",
      "(2048, 2592, 2)\n",
      "getting image\n",
      "(2048, 2592, 2)\n",
      "getting image\n",
      "(2048, 2592, 2)\n"
     ]
    },
    {
     "name": "stderr",
     "output_type": "stream",
     "text": [
      "2019-12-12 06:25:12.624Z moduleTest       20 moduleTest.py:991 1/3 phi backward to 2000\n"
     ]
    },
    {
     "name": "stdout",
     "output_type": "stream",
     "text": [
      "getting image\n",
      "(2048, 2592, 2)\n",
      "getting image\n",
      "(2048, 2592, 2)\n",
      "getting image\n",
      "(2048, 2592, 2)\n",
      "getting image\n",
      "(2048, 2592, 2)\n"
     ]
    },
    {
     "name": "stderr",
     "output_type": "stream",
     "text": [
      "2019-12-12 06:25:15.658Z moduleTest       20 moduleTest.py:991 1/3 phi backward to 2250\n"
     ]
    },
    {
     "name": "stdout",
     "output_type": "stream",
     "text": [
      "getting image\n",
      "(2048, 2592, 2)\n",
      "getting image\n",
      "(2048, 2592, 2)\n",
      "getting image\n",
      "(2048, 2592, 2)\n",
      "getting image\n",
      "(2048, 2592, 2)\n"
     ]
    },
    {
     "name": "stderr",
     "output_type": "stream",
     "text": [
      "2019-12-12 06:25:18.314Z moduleTest       20 moduleTest.py:991 1/3 phi backward to 2500\n"
     ]
    },
    {
     "name": "stdout",
     "output_type": "stream",
     "text": [
      "getting image\n",
      "(2048, 2592, 2)\n",
      "getting image\n",
      "(2048, 2592, 2)\n",
      "getting image\n",
      "(2048, 2592, 2)\n",
      "getting image\n",
      "(2048, 2592, 2)\n"
     ]
    },
    {
     "name": "stderr",
     "output_type": "stream",
     "text": [
      "2019-12-12 06:25:20.847Z moduleTest       20 moduleTest.py:991 1/3 phi backward to 2750\n"
     ]
    },
    {
     "name": "stdout",
     "output_type": "stream",
     "text": [
      "getting image\n",
      "(2048, 2592, 2)\n",
      "getting image\n",
      "(2048, 2592, 2)\n",
      "getting image\n",
      "(2048, 2592, 2)\n",
      "getting image\n",
      "(2048, 2592, 2)\n"
     ]
    },
    {
     "name": "stderr",
     "output_type": "stream",
     "text": [
      "2019-12-12 06:25:23.322Z moduleTest       20 moduleTest.py:991 1/3 phi backward to 3000\n"
     ]
    },
    {
     "name": "stdout",
     "output_type": "stream",
     "text": [
      "getting image\n",
      "(2048, 2592, 2)\n",
      "getting image\n",
      "(2048, 2592, 2)\n",
      "getting image\n",
      "(2048, 2592, 2)\n",
      "getting image\n",
      "(2048, 2592, 2)\n"
     ]
    },
    {
     "name": "stderr",
     "output_type": "stream",
     "text": [
      "2019-12-12 06:25:25.841Z moduleTest       20 moduleTest.py:991 1/3 phi backward to 3250\n"
     ]
    },
    {
     "name": "stdout",
     "output_type": "stream",
     "text": [
      "getting image\n",
      "(2048, 2592, 2)\n",
      "getting image\n",
      "(2048, 2592, 2)\n",
      "getting image\n",
      "(2048, 2592, 2)\n",
      "getting image\n",
      "(2048, 2592, 2)\n"
     ]
    },
    {
     "name": "stderr",
     "output_type": "stream",
     "text": [
      "2019-12-12 06:25:28.354Z moduleTest       20 moduleTest.py:991 1/3 phi backward to 3500\n"
     ]
    },
    {
     "name": "stdout",
     "output_type": "stream",
     "text": [
      "getting image\n",
      "(2048, 2592, 2)\n",
      "getting image\n",
      "(2048, 2592, 2)\n",
      "getting image\n",
      "(2048, 2592, 2)\n",
      "getting image\n",
      "(2048, 2592, 2)\n"
     ]
    },
    {
     "name": "stderr",
     "output_type": "stream",
     "text": [
      "2019-12-12 06:25:30.845Z moduleTest       20 moduleTest.py:991 1/3 phi backward to 3750\n"
     ]
    },
    {
     "name": "stdout",
     "output_type": "stream",
     "text": [
      "getting image\n",
      "(2048, 2592, 2)\n",
      "getting image\n",
      "(2048, 2592, 2)\n",
      "getting image\n",
      "(2048, 2592, 2)\n",
      "getting image\n",
      "(2048, 2592, 2)\n"
     ]
    },
    {
     "name": "stderr",
     "output_type": "stream",
     "text": [
      "2019-12-12 06:25:33.358Z moduleTest       20 moduleTest.py:991 1/3 phi backward to 4000\n"
     ]
    },
    {
     "name": "stdout",
     "output_type": "stream",
     "text": [
      "getting image\n",
      "(2048, 2592, 2)\n",
      "getting image\n",
      "(2048, 2592, 2)\n",
      "getting image\n",
      "(2048, 2592, 2)\n",
      "getting image\n",
      "(2048, 2592, 2)\n"
     ]
    },
    {
     "name": "stderr",
     "output_type": "stream",
     "text": [
      "2019-12-12 06:25:35.830Z moduleTest       20 moduleTest.py:991 1/3 phi backward to 4250\n"
     ]
    },
    {
     "name": "stdout",
     "output_type": "stream",
     "text": [
      "getting image\n",
      "(2048, 2592, 2)\n",
      "getting image\n",
      "(2048, 2592, 2)\n",
      "getting image\n",
      "(2048, 2592, 2)\n",
      "getting image\n",
      "(2048, 2592, 2)\n"
     ]
    },
    {
     "name": "stderr",
     "output_type": "stream",
     "text": [
      "2019-12-12 06:25:38.359Z moduleTest       20 moduleTest.py:991 1/3 phi backward to 4500\n"
     ]
    },
    {
     "name": "stdout",
     "output_type": "stream",
     "text": [
      "getting image\n",
      "(2048, 2592, 2)\n",
      "getting image\n",
      "(2048, 2592, 2)\n",
      "getting image\n",
      "(2048, 2592, 2)\n",
      "getting image\n",
      "(2048, 2592, 2)\n"
     ]
    },
    {
     "name": "stderr",
     "output_type": "stream",
     "text": [
      "2019-12-12 06:25:40.844Z moduleTest       20 moduleTest.py:991 1/3 phi backward to 4750\n"
     ]
    },
    {
     "name": "stdout",
     "output_type": "stream",
     "text": [
      "getting image\n",
      "(2048, 2592, 2)\n",
      "getting image\n",
      "(2048, 2592, 2)\n",
      "getting image\n",
      "(2048, 2592, 2)\n",
      "getting image\n",
      "(2048, 2592, 2)\n"
     ]
    },
    {
     "name": "stderr",
     "output_type": "stream",
     "text": [
      "2019-12-12 06:25:43.358Z moduleTest       20 moduleTest.py:991 1/3 phi backward to 5000\n"
     ]
    },
    {
     "name": "stdout",
     "output_type": "stream",
     "text": [
      "getting image\n",
      "(2048, 2592, 2)\n",
      "getting image\n",
      "(2048, 2592, 2)\n",
      "getting image\n",
      "(2048, 2592, 2)\n",
      "getting image\n",
      "(2048, 2592, 2)\n"
     ]
    },
    {
     "name": "stderr",
     "output_type": "stream",
     "text": [
      "2019-12-12 06:25:45.840Z moduleTest       20 moduleTest.py:991 1/3 phi backward to 5250\n"
     ]
    },
    {
     "name": "stdout",
     "output_type": "stream",
     "text": [
      "getting image\n",
      "(2048, 2592, 2)\n",
      "getting image\n",
      "(2048, 2592, 2)\n",
      "getting image\n",
      "(2048, 2592, 2)\n",
      "getting image\n",
      "(2048, 2592, 2)\n"
     ]
    },
    {
     "name": "stderr",
     "output_type": "stream",
     "text": [
      "2019-12-12 06:25:48.334Z moduleTest       20 moduleTest.py:991 1/3 phi backward to 5500\n"
     ]
    },
    {
     "name": "stdout",
     "output_type": "stream",
     "text": [
      "getting image\n",
      "(2048, 2592, 2)\n",
      "getting image\n",
      "(2048, 2592, 2)\n",
      "getting image\n",
      "(2048, 2592, 2)\n",
      "getting image\n",
      "(2048, 2592, 2)\n"
     ]
    },
    {
     "name": "stderr",
     "output_type": "stream",
     "text": [
      "2019-12-12 06:25:50.845Z moduleTest       20 moduleTest.py:991 1/3 phi backward to 5750\n"
     ]
    },
    {
     "name": "stdout",
     "output_type": "stream",
     "text": [
      "getting image\n",
      "(2048, 2592, 2)\n",
      "getting image\n",
      "(2048, 2592, 2)\n",
      "getting image\n",
      "(2048, 2592, 2)\n",
      "getting image\n",
      "(2048, 2592, 2)\n"
     ]
    },
    {
     "name": "stderr",
     "output_type": "stream",
     "text": [
      "2019-12-12 06:25:53.369Z moduleTest       20 moduleTest.py:991 1/3 phi backward to 6000\n"
     ]
    },
    {
     "name": "stdout",
     "output_type": "stream",
     "text": [
      "getting image\n",
      "(2048, 2592, 2)\n",
      "getting image\n",
      "(2048, 2592, 2)\n",
      "getting image\n",
      "(2048, 2592, 2)\n",
      "getting image\n",
      "(2048, 2592, 2)\n"
     ]
    },
    {
     "name": "stderr",
     "output_type": "stream",
     "text": [
      "2019-12-12 06:25:55.859Z moduleTest       20 moduleTest.py:1018 1/3 phi reverse -6000 steps to limit\n"
     ]
    },
    {
     "name": "stdout",
     "output_type": "stream",
     "text": [
      "getting image\n",
      "(2048, 2592, 2)\n",
      "getting image\n",
      "(2048, 2592, 2)\n",
      "getting image\n",
      "(2048, 2592, 2)\n",
      "getting image\n",
      "(2048, 2592, 2)\n"
     ]
    },
    {
     "name": "stderr",
     "output_type": "stream",
     "text": [
      "2019-12-12 06:26:12.412Z moduleTest       20 moduleTest.py:954 2/3 phi forward to 250\n"
     ]
    },
    {
     "name": "stdout",
     "output_type": "stream",
     "text": [
      "getting image\n",
      "(2048, 2592, 2)\n",
      "getting image\n",
      "(2048, 2592, 2)\n",
      "getting image\n",
      "(2048, 2592, 2)\n",
      "getting image\n",
      "(2048, 2592, 2)\n"
     ]
    },
    {
     "name": "stderr",
     "output_type": "stream",
     "text": [
      "2019-12-12 06:26:15.027Z moduleTest       20 moduleTest.py:954 2/3 phi forward to 500\n"
     ]
    },
    {
     "name": "stdout",
     "output_type": "stream",
     "text": [
      "getting image\n",
      "(2048, 2592, 2)\n",
      "getting image\n",
      "(2048, 2592, 2)\n",
      "getting image\n",
      "(2048, 2592, 2)\n",
      "getting image\n",
      "(2048, 2592, 2)\n"
     ]
    },
    {
     "name": "stderr",
     "output_type": "stream",
     "text": [
      "2019-12-12 06:26:17.539Z moduleTest       20 moduleTest.py:954 2/3 phi forward to 750\n"
     ]
    },
    {
     "name": "stdout",
     "output_type": "stream",
     "text": [
      "getting image\n",
      "(2048, 2592, 2)\n",
      "getting image\n",
      "(2048, 2592, 2)\n",
      "getting image\n",
      "(2048, 2592, 2)\n",
      "getting image\n",
      "(2048, 2592, 2)\n"
     ]
    },
    {
     "name": "stderr",
     "output_type": "stream",
     "text": [
      "2019-12-12 06:26:20.040Z moduleTest       20 moduleTest.py:954 2/3 phi forward to 1000\n"
     ]
    },
    {
     "name": "stdout",
     "output_type": "stream",
     "text": [
      "getting image\n",
      "(2048, 2592, 2)\n",
      "getting image\n",
      "(2048, 2592, 2)\n",
      "getting image\n",
      "(2048, 2592, 2)\n",
      "getting image\n",
      "(2048, 2592, 2)\n"
     ]
    },
    {
     "name": "stderr",
     "output_type": "stream",
     "text": [
      "2019-12-12 06:26:22.538Z moduleTest       20 moduleTest.py:954 2/3 phi forward to 1250\n"
     ]
    },
    {
     "name": "stdout",
     "output_type": "stream",
     "text": [
      "getting image\n",
      "(2048, 2592, 2)\n",
      "getting image\n",
      "(2048, 2592, 2)\n",
      "getting image\n",
      "(2048, 2592, 2)\n",
      "getting image\n",
      "(2048, 2592, 2)\n"
     ]
    },
    {
     "name": "stderr",
     "output_type": "stream",
     "text": [
      "2019-12-12 06:26:25.017Z moduleTest       20 moduleTest.py:954 2/3 phi forward to 1500\n"
     ]
    },
    {
     "name": "stdout",
     "output_type": "stream",
     "text": [
      "getting image\n",
      "(2048, 2592, 2)\n",
      "getting image\n",
      "(2048, 2592, 2)\n",
      "getting image\n",
      "(2048, 2592, 2)\n",
      "getting image\n",
      "(2048, 2592, 2)\n"
     ]
    },
    {
     "name": "stderr",
     "output_type": "stream",
     "text": [
      "2019-12-12 06:26:27.520Z moduleTest       20 moduleTest.py:954 2/3 phi forward to 1750\n"
     ]
    },
    {
     "name": "stdout",
     "output_type": "stream",
     "text": [
      "getting image\n",
      "(2048, 2592, 2)\n",
      "getting image\n",
      "(2048, 2592, 2)\n",
      "getting image\n",
      "(2048, 2592, 2)\n",
      "getting image\n",
      "(2048, 2592, 2)\n"
     ]
    },
    {
     "name": "stderr",
     "output_type": "stream",
     "text": [
      "2019-12-12 06:26:30.038Z moduleTest       20 moduleTest.py:954 2/3 phi forward to 2000\n"
     ]
    },
    {
     "name": "stdout",
     "output_type": "stream",
     "text": [
      "getting image\n",
      "(2048, 2592, 2)\n",
      "getting image\n",
      "(2048, 2592, 2)\n",
      "getting image\n",
      "(2048, 2592, 2)\n",
      "getting image\n",
      "(2048, 2592, 2)\n"
     ]
    },
    {
     "name": "stderr",
     "output_type": "stream",
     "text": [
      "2019-12-12 06:26:32.546Z moduleTest       20 moduleTest.py:954 2/3 phi forward to 2250\n"
     ]
    },
    {
     "name": "stdout",
     "output_type": "stream",
     "text": [
      "getting image\n",
      "(2048, 2592, 2)\n",
      "getting image\n",
      "(2048, 2592, 2)\n",
      "getting image\n",
      "(2048, 2592, 2)\n",
      "getting image\n",
      "(2048, 2592, 2)\n"
     ]
    },
    {
     "name": "stderr",
     "output_type": "stream",
     "text": [
      "2019-12-12 06:26:35.017Z moduleTest       20 moduleTest.py:954 2/3 phi forward to 2500\n"
     ]
    },
    {
     "name": "stdout",
     "output_type": "stream",
     "text": [
      "getting image\n",
      "(2048, 2592, 2)\n",
      "getting image\n",
      "(2048, 2592, 2)\n",
      "getting image\n",
      "(2048, 2592, 2)\n",
      "getting image\n",
      "(2048, 2592, 2)\n"
     ]
    },
    {
     "name": "stderr",
     "output_type": "stream",
     "text": [
      "2019-12-12 06:26:37.521Z moduleTest       20 moduleTest.py:954 2/3 phi forward to 2750\n"
     ]
    },
    {
     "name": "stdout",
     "output_type": "stream",
     "text": [
      "getting image\n",
      "(2048, 2592, 2)\n",
      "getting image\n",
      "(2048, 2592, 2)\n",
      "getting image\n",
      "(2048, 2592, 2)\n",
      "getting image\n",
      "(2048, 2592, 2)\n"
     ]
    },
    {
     "name": "stderr",
     "output_type": "stream",
     "text": [
      "2019-12-12 06:26:40.033Z moduleTest       20 moduleTest.py:954 2/3 phi forward to 3000\n"
     ]
    },
    {
     "name": "stdout",
     "output_type": "stream",
     "text": [
      "getting image\n",
      "(2048, 2592, 2)\n",
      "getting image\n",
      "(2048, 2592, 2)\n",
      "getting image\n",
      "(2048, 2592, 2)\n",
      "getting image\n",
      "(2048, 2592, 2)\n"
     ]
    },
    {
     "name": "stderr",
     "output_type": "stream",
     "text": [
      "2019-12-12 06:26:42.547Z moduleTest       20 moduleTest.py:954 2/3 phi forward to 3250\n"
     ]
    },
    {
     "name": "stdout",
     "output_type": "stream",
     "text": [
      "getting image\n",
      "(2048, 2592, 2)\n",
      "getting image\n",
      "(2048, 2592, 2)\n",
      "getting image\n",
      "(2048, 2592, 2)\n",
      "getting image\n",
      "(2048, 2592, 2)\n"
     ]
    },
    {
     "name": "stderr",
     "output_type": "stream",
     "text": [
      "2019-12-12 06:26:45.029Z moduleTest       20 moduleTest.py:954 2/3 phi forward to 3500\n"
     ]
    },
    {
     "name": "stdout",
     "output_type": "stream",
     "text": [
      "getting image\n",
      "(2048, 2592, 2)\n",
      "getting image\n",
      "(2048, 2592, 2)\n",
      "getting image\n",
      "(2048, 2592, 2)\n",
      "getting image\n",
      "(2048, 2592, 2)\n"
     ]
    },
    {
     "name": "stderr",
     "output_type": "stream",
     "text": [
      "2019-12-12 06:26:47.547Z moduleTest       20 moduleTest.py:954 2/3 phi forward to 3750\n"
     ]
    },
    {
     "name": "stdout",
     "output_type": "stream",
     "text": [
      "getting image\n",
      "(2048, 2592, 2)\n",
      "getting image\n",
      "(2048, 2592, 2)\n",
      "getting image\n",
      "(2048, 2592, 2)\n",
      "getting image\n",
      "(2048, 2592, 2)\n"
     ]
    },
    {
     "name": "stderr",
     "output_type": "stream",
     "text": [
      "2019-12-12 06:26:50.064Z moduleTest       20 moduleTest.py:954 2/3 phi forward to 4000\n"
     ]
    },
    {
     "name": "stdout",
     "output_type": "stream",
     "text": [
      "getting image\n",
      "(2048, 2592, 2)\n",
      "getting image\n",
      "(2048, 2592, 2)\n",
      "getting image\n",
      "(2048, 2592, 2)\n",
      "getting image\n",
      "(2048, 2592, 2)\n"
     ]
    },
    {
     "name": "stderr",
     "output_type": "stream",
     "text": [
      "2019-12-12 06:26:52.890Z moduleTest       20 moduleTest.py:954 2/3 phi forward to 4250\n"
     ]
    },
    {
     "name": "stdout",
     "output_type": "stream",
     "text": [
      "getting image\n",
      "(2048, 2592, 2)\n",
      "getting image\n",
      "(2048, 2592, 2)\n",
      "getting image\n",
      "(2048, 2592, 2)\n",
      "getting image\n",
      "(2048, 2592, 2)\n"
     ]
    },
    {
     "name": "stderr",
     "output_type": "stream",
     "text": [
      "2019-12-12 06:26:55.371Z moduleTest       20 moduleTest.py:954 2/3 phi forward to 4500\n"
     ]
    },
    {
     "name": "stdout",
     "output_type": "stream",
     "text": [
      "getting image\n",
      "(2048, 2592, 2)\n",
      "getting image\n",
      "(2048, 2592, 2)\n",
      "getting image\n",
      "(2048, 2592, 2)\n",
      "getting image\n",
      "(2048, 2592, 2)\n"
     ]
    },
    {
     "name": "stderr",
     "output_type": "stream",
     "text": [
      "2019-12-12 06:26:57.866Z moduleTest       20 moduleTest.py:954 2/3 phi forward to 4750\n"
     ]
    },
    {
     "name": "stdout",
     "output_type": "stream",
     "text": [
      "getting image\n",
      "(2048, 2592, 2)\n",
      "getting image\n",
      "(2048, 2592, 2)\n",
      "getting image\n",
      "(2048, 2592, 2)\n",
      "getting image\n",
      "(2048, 2592, 2)\n"
     ]
    },
    {
     "name": "stderr",
     "output_type": "stream",
     "text": [
      "2019-12-12 06:27:00.381Z moduleTest       20 moduleTest.py:954 2/3 phi forward to 5000\n"
     ]
    },
    {
     "name": "stdout",
     "output_type": "stream",
     "text": [
      "getting image\n",
      "(2048, 2592, 2)\n",
      "getting image\n",
      "(2048, 2592, 2)\n",
      "getting image\n",
      "(2048, 2592, 2)\n",
      "getting image\n",
      "(2048, 2592, 2)\n"
     ]
    },
    {
     "name": "stderr",
     "output_type": "stream",
     "text": [
      "2019-12-12 06:27:02.898Z moduleTest       20 moduleTest.py:954 2/3 phi forward to 5250\n"
     ]
    },
    {
     "name": "stdout",
     "output_type": "stream",
     "text": [
      "getting image\n",
      "(2048, 2592, 2)\n",
      "getting image\n",
      "(2048, 2592, 2)\n",
      "getting image\n",
      "(2048, 2592, 2)\n",
      "getting image\n",
      "(2048, 2592, 2)\n"
     ]
    },
    {
     "name": "stderr",
     "output_type": "stream",
     "text": [
      "2019-12-12 06:27:05.408Z moduleTest       20 moduleTest.py:954 2/3 phi forward to 5500\n"
     ]
    },
    {
     "name": "stdout",
     "output_type": "stream",
     "text": [
      "getting image\n",
      "(2048, 2592, 2)\n",
      "getting image\n",
      "(2048, 2592, 2)\n",
      "getting image\n",
      "(2048, 2592, 2)\n",
      "getting image\n",
      "(2048, 2592, 2)\n"
     ]
    },
    {
     "name": "stderr",
     "output_type": "stream",
     "text": [
      "2019-12-12 06:27:08.042Z moduleTest       20 moduleTest.py:954 2/3 phi forward to 5750\n"
     ]
    },
    {
     "name": "stdout",
     "output_type": "stream",
     "text": [
      "getting image\n",
      "(2048, 2592, 2)\n",
      "getting image\n",
      "(2048, 2592, 2)\n",
      "getting image\n",
      "(2048, 2592, 2)\n",
      "getting image\n",
      "(2048, 2592, 2)\n"
     ]
    },
    {
     "name": "stderr",
     "output_type": "stream",
     "text": [
      "2019-12-12 06:27:10.535Z moduleTest       20 moduleTest.py:954 2/3 phi forward to 6000\n"
     ]
    },
    {
     "name": "stdout",
     "output_type": "stream",
     "text": [
      "getting image\n",
      "(2048, 2592, 2)\n",
      "getting image\n",
      "(2048, 2592, 2)\n",
      "getting image\n",
      "(2048, 2592, 2)\n",
      "getting image\n",
      "(2048, 2592, 2)\n"
     ]
    },
    {
     "name": "stderr",
     "output_type": "stream",
     "text": [
      "2019-12-12 06:27:13.032Z moduleTest       20 moduleTest.py:981 2/3 phi forward 6000 to limit\n"
     ]
    },
    {
     "name": "stdout",
     "output_type": "stream",
     "text": [
      "getting image\n",
      "(2048, 2592, 2)\n",
      "getting image\n",
      "(2048, 2592, 2)\n",
      "getting image\n",
      "(2048, 2592, 2)\n",
      "getting image\n",
      "(2048, 2592, 2)\n"
     ]
    },
    {
     "name": "stderr",
     "output_type": "stream",
     "text": [
      "2019-12-12 06:27:29.581Z moduleTest       20 moduleTest.py:991 2/3 phi backward to 250\n"
     ]
    },
    {
     "name": "stdout",
     "output_type": "stream",
     "text": [
      "getting image\n",
      "(2048, 2592, 2)\n",
      "getting image\n",
      "(2048, 2592, 2)\n",
      "getting image\n",
      "(2048, 2592, 2)\n",
      "getting image\n",
      "(2048, 2592, 2)\n"
     ]
    },
    {
     "name": "stderr",
     "output_type": "stream",
     "text": [
      "2019-12-12 06:27:32.222Z moduleTest       20 moduleTest.py:991 2/3 phi backward to 500\n"
     ]
    },
    {
     "name": "stdout",
     "output_type": "stream",
     "text": [
      "getting image\n",
      "(2048, 2592, 2)\n",
      "getting image\n",
      "(2048, 2592, 2)\n",
      "getting image\n",
      "(2048, 2592, 2)\n",
      "getting image\n",
      "(2048, 2592, 2)\n"
     ]
    },
    {
     "name": "stderr",
     "output_type": "stream",
     "text": [
      "2019-12-12 06:27:34.715Z moduleTest       20 moduleTest.py:991 2/3 phi backward to 750\n"
     ]
    },
    {
     "name": "stdout",
     "output_type": "stream",
     "text": [
      "getting image\n",
      "(2048, 2592, 2)\n",
      "getting image\n",
      "(2048, 2592, 2)\n",
      "getting image\n",
      "(2048, 2592, 2)\n",
      "getting image\n",
      "(2048, 2592, 2)\n"
     ]
    },
    {
     "name": "stderr",
     "output_type": "stream",
     "text": [
      "2019-12-12 06:27:37.216Z moduleTest       20 moduleTest.py:991 2/3 phi backward to 1000\n"
     ]
    },
    {
     "name": "stdout",
     "output_type": "stream",
     "text": [
      "getting image\n",
      "(2048, 2592, 2)\n",
      "getting image\n",
      "(2048, 2592, 2)\n",
      "getting image\n",
      "(2048, 2592, 2)\n",
      "getting image\n",
      "(2048, 2592, 2)\n"
     ]
    },
    {
     "name": "stderr",
     "output_type": "stream",
     "text": [
      "2019-12-12 06:27:39.720Z moduleTest       20 moduleTest.py:991 2/3 phi backward to 1250\n"
     ]
    },
    {
     "name": "stdout",
     "output_type": "stream",
     "text": [
      "getting image\n",
      "(2048, 2592, 2)\n",
      "getting image\n",
      "(2048, 2592, 2)\n",
      "getting image\n",
      "(2048, 2592, 2)\n",
      "getting image\n",
      "(2048, 2592, 2)\n"
     ]
    },
    {
     "name": "stderr",
     "output_type": "stream",
     "text": [
      "2019-12-12 06:27:42.234Z moduleTest       20 moduleTest.py:991 2/3 phi backward to 1500\n"
     ]
    },
    {
     "name": "stdout",
     "output_type": "stream",
     "text": [
      "getting image\n",
      "(2048, 2592, 2)\n",
      "getting image\n",
      "(2048, 2592, 2)\n",
      "getting image\n",
      "(2048, 2592, 2)\n",
      "getting image\n",
      "(2048, 2592, 2)\n"
     ]
    },
    {
     "name": "stderr",
     "output_type": "stream",
     "text": [
      "2019-12-12 06:27:44.887Z moduleTest       20 moduleTest.py:991 2/3 phi backward to 1750\n"
     ]
    },
    {
     "name": "stdout",
     "output_type": "stream",
     "text": [
      "getting image\n",
      "(2048, 2592, 2)\n",
      "getting image\n",
      "(2048, 2592, 2)\n",
      "getting image\n",
      "(2048, 2592, 2)\n",
      "getting image\n",
      "(2048, 2592, 2)\n"
     ]
    },
    {
     "name": "stderr",
     "output_type": "stream",
     "text": [
      "2019-12-12 06:27:47.388Z moduleTest       20 moduleTest.py:991 2/3 phi backward to 2000\n"
     ]
    },
    {
     "name": "stdout",
     "output_type": "stream",
     "text": [
      "getting image\n",
      "(2048, 2592, 2)\n",
      "getting image\n",
      "(2048, 2592, 2)\n",
      "getting image\n",
      "(2048, 2592, 2)\n",
      "getting image\n",
      "(2048, 2592, 2)\n"
     ]
    },
    {
     "name": "stderr",
     "output_type": "stream",
     "text": [
      "2019-12-12 06:27:49.889Z moduleTest       20 moduleTest.py:991 2/3 phi backward to 2250\n"
     ]
    },
    {
     "name": "stdout",
     "output_type": "stream",
     "text": [
      "getting image\n",
      "(2048, 2592, 2)\n",
      "getting image\n",
      "(2048, 2592, 2)\n",
      "getting image\n",
      "(2048, 2592, 2)\n",
      "getting image\n",
      "(2048, 2592, 2)\n"
     ]
    },
    {
     "name": "stderr",
     "output_type": "stream",
     "text": [
      "2019-12-12 06:27:52.389Z moduleTest       20 moduleTest.py:991 2/3 phi backward to 2500\n"
     ]
    },
    {
     "name": "stdout",
     "output_type": "stream",
     "text": [
      "getting image\n",
      "(2048, 2592, 2)\n",
      "getting image\n",
      "(2048, 2592, 2)\n",
      "getting image\n",
      "(2048, 2592, 2)\n",
      "getting image\n",
      "(2048, 2592, 2)\n"
     ]
    },
    {
     "name": "stderr",
     "output_type": "stream",
     "text": [
      "2019-12-12 06:27:54.889Z moduleTest       20 moduleTest.py:991 2/3 phi backward to 2750\n"
     ]
    },
    {
     "name": "stdout",
     "output_type": "stream",
     "text": [
      "getting image\n",
      "(2048, 2592, 2)\n",
      "getting image\n",
      "(2048, 2592, 2)\n",
      "getting image\n",
      "(2048, 2592, 2)\n",
      "getting image\n",
      "(2048, 2592, 2)\n"
     ]
    },
    {
     "name": "stderr",
     "output_type": "stream",
     "text": [
      "2019-12-12 06:27:57.414Z moduleTest       20 moduleTest.py:991 2/3 phi backward to 3000\n"
     ]
    },
    {
     "name": "stdout",
     "output_type": "stream",
     "text": [
      "getting image\n",
      "(2048, 2592, 2)\n",
      "getting image\n",
      "(2048, 2592, 2)\n",
      "getting image\n",
      "(2048, 2592, 2)\n",
      "getting image\n",
      "(2048, 2592, 2)\n"
     ]
    },
    {
     "name": "stderr",
     "output_type": "stream",
     "text": [
      "2019-12-12 06:28:00.060Z moduleTest       20 moduleTest.py:991 2/3 phi backward to 3250\n"
     ]
    },
    {
     "name": "stdout",
     "output_type": "stream",
     "text": [
      "getting image\n",
      "(2048, 2592, 2)\n",
      "getting image\n",
      "(2048, 2592, 2)\n",
      "getting image\n",
      "(2048, 2592, 2)\n",
      "getting image\n",
      "(2048, 2592, 2)\n"
     ]
    },
    {
     "name": "stderr",
     "output_type": "stream",
     "text": [
      "2019-12-12 06:28:02.556Z moduleTest       20 moduleTest.py:991 2/3 phi backward to 3500\n"
     ]
    },
    {
     "name": "stdout",
     "output_type": "stream",
     "text": [
      "getting image\n",
      "(2048, 2592, 2)\n",
      "getting image\n",
      "(2048, 2592, 2)\n",
      "getting image\n",
      "(2048, 2592, 2)\n",
      "getting image\n",
      "(2048, 2592, 2)\n"
     ]
    },
    {
     "name": "stderr",
     "output_type": "stream",
     "text": [
      "2019-12-12 06:28:05.061Z moduleTest       20 moduleTest.py:991 2/3 phi backward to 3750\n"
     ]
    },
    {
     "name": "stdout",
     "output_type": "stream",
     "text": [
      "getting image\n",
      "(2048, 2592, 2)\n",
      "getting image\n",
      "(2048, 2592, 2)\n",
      "getting image\n",
      "(2048, 2592, 2)\n",
      "getting image\n",
      "(2048, 2592, 2)\n"
     ]
    },
    {
     "name": "stderr",
     "output_type": "stream",
     "text": [
      "2019-12-12 06:28:07.565Z moduleTest       20 moduleTest.py:991 2/3 phi backward to 4000\n"
     ]
    },
    {
     "name": "stdout",
     "output_type": "stream",
     "text": [
      "getting image\n",
      "(2048, 2592, 2)\n",
      "getting image\n",
      "(2048, 2592, 2)\n",
      "getting image\n",
      "(2048, 2592, 2)\n",
      "getting image\n",
      "(2048, 2592, 2)\n"
     ]
    },
    {
     "name": "stderr",
     "output_type": "stream",
     "text": [
      "2019-12-12 06:28:10.087Z moduleTest       20 moduleTest.py:991 2/3 phi backward to 4250\n"
     ]
    },
    {
     "name": "stdout",
     "output_type": "stream",
     "text": [
      "getting image\n",
      "(2048, 2592, 2)\n",
      "getting image\n",
      "(2048, 2592, 2)\n",
      "getting image\n",
      "(2048, 2592, 2)\n",
      "getting image\n",
      "(2048, 2592, 2)\n"
     ]
    },
    {
     "name": "stderr",
     "output_type": "stream",
     "text": [
      "2019-12-12 06:28:12.726Z moduleTest       20 moduleTest.py:991 2/3 phi backward to 4500\n"
     ]
    },
    {
     "name": "stdout",
     "output_type": "stream",
     "text": [
      "getting image\n",
      "(2048, 2592, 2)\n",
      "getting image\n",
      "(2048, 2592, 2)\n",
      "getting image\n",
      "(2048, 2592, 2)\n",
      "getting image\n",
      "(2048, 2592, 2)\n"
     ]
    },
    {
     "name": "stderr",
     "output_type": "stream",
     "text": [
      "2019-12-12 06:28:15.241Z moduleTest       20 moduleTest.py:991 2/3 phi backward to 4750\n"
     ]
    },
    {
     "name": "stdout",
     "output_type": "stream",
     "text": [
      "getting image\n",
      "(2048, 2592, 2)\n",
      "getting image\n",
      "(2048, 2592, 2)\n",
      "getting image\n",
      "(2048, 2592, 2)\n",
      "getting image\n",
      "(2048, 2592, 2)\n"
     ]
    },
    {
     "name": "stderr",
     "output_type": "stream",
     "text": [
      "2019-12-12 06:28:17.907Z moduleTest       20 moduleTest.py:991 2/3 phi backward to 5000\n"
     ]
    },
    {
     "name": "stdout",
     "output_type": "stream",
     "text": [
      "getting image\n",
      "(2048, 2592, 2)\n",
      "getting image\n",
      "(2048, 2592, 2)\n",
      "getting image\n",
      "(2048, 2592, 2)\n",
      "getting image\n",
      "(2048, 2592, 2)\n"
     ]
    },
    {
     "name": "stderr",
     "output_type": "stream",
     "text": [
      "2019-12-12 06:28:20.601Z moduleTest       20 moduleTest.py:991 2/3 phi backward to 5250\n"
     ]
    },
    {
     "name": "stdout",
     "output_type": "stream",
     "text": [
      "getting image\n",
      "(2048, 2592, 2)\n",
      "getting image\n",
      "(2048, 2592, 2)\n",
      "getting image\n",
      "(2048, 2592, 2)\n",
      "getting image\n",
      "(2048, 2592, 2)\n"
     ]
    },
    {
     "name": "stderr",
     "output_type": "stream",
     "text": [
      "2019-12-12 06:28:23.244Z moduleTest       20 moduleTest.py:991 2/3 phi backward to 5500\n"
     ]
    },
    {
     "name": "stdout",
     "output_type": "stream",
     "text": [
      "getting image\n",
      "(2048, 2592, 2)\n",
      "getting image\n",
      "(2048, 2592, 2)\n",
      "getting image\n",
      "(2048, 2592, 2)\n",
      "getting image\n",
      "(2048, 2592, 2)\n"
     ]
    },
    {
     "name": "stderr",
     "output_type": "stream",
     "text": [
      "2019-12-12 06:28:25.905Z moduleTest       20 moduleTest.py:991 2/3 phi backward to 5750\n"
     ]
    },
    {
     "name": "stdout",
     "output_type": "stream",
     "text": [
      "getting image\n",
      "(2048, 2592, 2)\n",
      "getting image\n",
      "(2048, 2592, 2)\n",
      "getting image\n",
      "(2048, 2592, 2)\n",
      "getting image\n",
      "(2048, 2592, 2)\n"
     ]
    },
    {
     "name": "stderr",
     "output_type": "stream",
     "text": [
      "2019-12-12 06:28:28.567Z moduleTest       20 moduleTest.py:991 2/3 phi backward to 6000\n"
     ]
    },
    {
     "name": "stdout",
     "output_type": "stream",
     "text": [
      "getting image\n",
      "(2048, 2592, 2)\n",
      "getting image\n",
      "(2048, 2592, 2)\n",
      "getting image\n",
      "(2048, 2592, 2)\n",
      "getting image\n",
      "(2048, 2592, 2)\n"
     ]
    },
    {
     "name": "stderr",
     "output_type": "stream",
     "text": [
      "2019-12-12 06:28:31.413Z moduleTest       20 moduleTest.py:1018 2/3 phi reverse -6000 steps to limit\n"
     ]
    },
    {
     "name": "stdout",
     "output_type": "stream",
     "text": [
      "getting image\n",
      "(2048, 2592, 2)\n",
      "getting image\n",
      "(2048, 2592, 2)\n",
      "getting image\n",
      "(2048, 2592, 2)\n",
      "getting image\n",
      "(2048, 2592, 2)\n"
     ]
    },
    {
     "name": "stderr",
     "output_type": "stream",
     "text": [
      "2019-12-12 06:28:47.967Z moduleTest       20 moduleTest.py:954 3/3 phi forward to 250\n"
     ]
    },
    {
     "name": "stdout",
     "output_type": "stream",
     "text": [
      "getting image\n",
      "(2048, 2592, 2)\n",
      "getting image\n",
      "(2048, 2592, 2)\n",
      "getting image\n",
      "(2048, 2592, 2)\n",
      "getting image\n",
      "(2048, 2592, 2)\n"
     ]
    },
    {
     "name": "stderr",
     "output_type": "stream",
     "text": [
      "2019-12-12 06:28:50.581Z moduleTest       20 moduleTest.py:954 3/3 phi forward to 500\n"
     ]
    },
    {
     "name": "stdout",
     "output_type": "stream",
     "text": [
      "getting image\n",
      "(2048, 2592, 2)\n",
      "getting image\n",
      "(2048, 2592, 2)\n",
      "getting image\n",
      "(2048, 2592, 2)\n",
      "getting image\n",
      "(2048, 2592, 2)\n"
     ]
    },
    {
     "name": "stderr",
     "output_type": "stream",
     "text": [
      "2019-12-12 06:28:53.240Z moduleTest       20 moduleTest.py:954 3/3 phi forward to 750\n"
     ]
    },
    {
     "name": "stdout",
     "output_type": "stream",
     "text": [
      "getting image\n",
      "(2048, 2592, 2)\n",
      "getting image\n",
      "(2048, 2592, 2)\n",
      "getting image\n",
      "(2048, 2592, 2)\n",
      "getting image\n",
      "(2048, 2592, 2)\n"
     ]
    },
    {
     "name": "stderr",
     "output_type": "stream",
     "text": [
      "2019-12-12 06:28:55.906Z moduleTest       20 moduleTest.py:954 3/3 phi forward to 1000\n"
     ]
    },
    {
     "name": "stdout",
     "output_type": "stream",
     "text": [
      "getting image\n",
      "(2048, 2592, 2)\n",
      "getting image\n",
      "(2048, 2592, 2)\n",
      "getting image\n",
      "(2048, 2592, 2)\n",
      "getting image\n",
      "(2048, 2592, 2)\n"
     ]
    },
    {
     "name": "stderr",
     "output_type": "stream",
     "text": [
      "2019-12-12 06:28:58.406Z moduleTest       20 moduleTest.py:954 3/3 phi forward to 1250\n"
     ]
    },
    {
     "name": "stdout",
     "output_type": "stream",
     "text": [
      "getting image\n",
      "(2048, 2592, 2)\n",
      "getting image\n",
      "(2048, 2592, 2)\n",
      "getting image\n",
      "(2048, 2592, 2)\n",
      "getting image\n",
      "(2048, 2592, 2)\n"
     ]
    },
    {
     "name": "stderr",
     "output_type": "stream",
     "text": [
      "2019-12-12 06:29:01.088Z moduleTest       20 moduleTest.py:954 3/3 phi forward to 1500\n"
     ]
    },
    {
     "name": "stdout",
     "output_type": "stream",
     "text": [
      "getting image\n",
      "(2048, 2592, 2)\n",
      "getting image\n",
      "(2048, 2592, 2)\n",
      "getting image\n",
      "(2048, 2592, 2)\n",
      "getting image\n",
      "(2048, 2592, 2)\n"
     ]
    },
    {
     "name": "stderr",
     "output_type": "stream",
     "text": [
      "2019-12-12 06:29:03.757Z moduleTest       20 moduleTest.py:954 3/3 phi forward to 1750\n"
     ]
    },
    {
     "name": "stdout",
     "output_type": "stream",
     "text": [
      "getting image\n",
      "(2048, 2592, 2)\n",
      "getting image\n",
      "(2048, 2592, 2)\n",
      "getting image\n",
      "(2048, 2592, 2)\n",
      "getting image\n",
      "(2048, 2592, 2)\n"
     ]
    },
    {
     "name": "stderr",
     "output_type": "stream",
     "text": [
      "2019-12-12 06:29:06.462Z moduleTest       20 moduleTest.py:954 3/3 phi forward to 2000\n"
     ]
    },
    {
     "name": "stdout",
     "output_type": "stream",
     "text": [
      "getting image\n",
      "(2048, 2592, 2)\n",
      "getting image\n",
      "(2048, 2592, 2)\n",
      "getting image\n",
      "(2048, 2592, 2)\n",
      "getting image\n",
      "(2048, 2592, 2)\n"
     ]
    },
    {
     "name": "stderr",
     "output_type": "stream",
     "text": [
      "2019-12-12 06:29:09.121Z moduleTest       20 moduleTest.py:954 3/3 phi forward to 2250\n"
     ]
    },
    {
     "name": "stdout",
     "output_type": "stream",
     "text": [
      "getting image\n",
      "(2048, 2592, 2)\n",
      "getting image\n",
      "(2048, 2592, 2)\n",
      "getting image\n",
      "(2048, 2592, 2)\n",
      "getting image\n",
      "(2048, 2592, 2)\n"
     ]
    },
    {
     "name": "stderr",
     "output_type": "stream",
     "text": [
      "2019-12-12 06:29:11.784Z moduleTest       20 moduleTest.py:954 3/3 phi forward to 2500\n"
     ]
    },
    {
     "name": "stdout",
     "output_type": "stream",
     "text": [
      "getting image\n",
      "(2048, 2592, 2)\n",
      "getting image\n",
      "(2048, 2592, 2)\n",
      "getting image\n",
      "(2048, 2592, 2)\n",
      "getting image\n",
      "(2048, 2592, 2)\n"
     ]
    },
    {
     "name": "stderr",
     "output_type": "stream",
     "text": [
      "2019-12-12 06:29:14.435Z moduleTest       20 moduleTest.py:954 3/3 phi forward to 2750\n"
     ]
    },
    {
     "name": "stdout",
     "output_type": "stream",
     "text": [
      "getting image\n",
      "(2048, 2592, 2)\n",
      "getting image\n",
      "(2048, 2592, 2)\n",
      "getting image\n",
      "(2048, 2592, 2)\n",
      "getting image\n",
      "(2048, 2592, 2)\n"
     ]
    },
    {
     "name": "stderr",
     "output_type": "stream",
     "text": [
      "2019-12-12 06:29:17.076Z moduleTest       20 moduleTest.py:954 3/3 phi forward to 3000\n"
     ]
    },
    {
     "name": "stdout",
     "output_type": "stream",
     "text": [
      "getting image\n",
      "(2048, 2592, 2)\n",
      "getting image\n",
      "(2048, 2592, 2)\n",
      "getting image\n",
      "(2048, 2592, 2)\n",
      "getting image\n",
      "(2048, 2592, 2)\n"
     ]
    },
    {
     "name": "stderr",
     "output_type": "stream",
     "text": [
      "2019-12-12 06:29:19.748Z moduleTest       20 moduleTest.py:954 3/3 phi forward to 3250\n"
     ]
    },
    {
     "name": "stdout",
     "output_type": "stream",
     "text": [
      "getting image\n",
      "(2048, 2592, 2)\n",
      "getting image\n",
      "(2048, 2592, 2)\n",
      "getting image\n",
      "(2048, 2592, 2)\n",
      "getting image\n",
      "(2048, 2592, 2)\n"
     ]
    },
    {
     "name": "stderr",
     "output_type": "stream",
     "text": [
      "2019-12-12 06:29:22.414Z moduleTest       20 moduleTest.py:954 3/3 phi forward to 3500\n"
     ]
    },
    {
     "name": "stdout",
     "output_type": "stream",
     "text": [
      "getting image\n",
      "(2048, 2592, 2)\n",
      "getting image\n",
      "(2048, 2592, 2)\n",
      "getting image\n",
      "(2048, 2592, 2)\n",
      "getting image\n",
      "(2048, 2592, 2)\n"
     ]
    },
    {
     "name": "stderr",
     "output_type": "stream",
     "text": [
      "2019-12-12 06:29:25.082Z moduleTest       20 moduleTest.py:954 3/3 phi forward to 3750\n"
     ]
    },
    {
     "name": "stdout",
     "output_type": "stream",
     "text": [
      "getting image\n",
      "(2048, 2592, 2)\n",
      "getting image\n",
      "(2048, 2592, 2)\n",
      "getting image\n",
      "(2048, 2592, 2)\n",
      "getting image\n",
      "(2048, 2592, 2)\n"
     ]
    },
    {
     "name": "stderr",
     "output_type": "stream",
     "text": [
      "2019-12-12 06:29:27.756Z moduleTest       20 moduleTest.py:954 3/3 phi forward to 4000\n"
     ]
    },
    {
     "name": "stdout",
     "output_type": "stream",
     "text": [
      "getting image\n",
      "(2048, 2592, 2)\n",
      "getting image\n",
      "(2048, 2592, 2)\n",
      "getting image\n",
      "(2048, 2592, 2)\n",
      "getting image\n",
      "(2048, 2592, 2)\n"
     ]
    },
    {
     "name": "stderr",
     "output_type": "stream",
     "text": [
      "2019-12-12 06:29:30.435Z moduleTest       20 moduleTest.py:954 3/3 phi forward to 4250\n"
     ]
    },
    {
     "name": "stdout",
     "output_type": "stream",
     "text": [
      "getting image\n",
      "(2048, 2592, 2)\n",
      "getting image\n",
      "(2048, 2592, 2)\n",
      "getting image\n",
      "(2048, 2592, 2)\n",
      "getting image\n",
      "(2048, 2592, 2)\n"
     ]
    },
    {
     "name": "stderr",
     "output_type": "stream",
     "text": [
      "2019-12-12 06:29:33.094Z moduleTest       20 moduleTest.py:954 3/3 phi forward to 4500\n"
     ]
    },
    {
     "name": "stdout",
     "output_type": "stream",
     "text": [
      "getting image\n",
      "(2048, 2592, 2)\n",
      "getting image\n",
      "(2048, 2592, 2)\n",
      "getting image\n",
      "(2048, 2592, 2)\n",
      "getting image\n",
      "(2048, 2592, 2)\n"
     ]
    },
    {
     "name": "stderr",
     "output_type": "stream",
     "text": [
      "2019-12-12 06:29:35.763Z moduleTest       20 moduleTest.py:954 3/3 phi forward to 4750\n"
     ]
    },
    {
     "name": "stdout",
     "output_type": "stream",
     "text": [
      "getting image\n",
      "(2048, 2592, 2)\n",
      "getting image\n",
      "(2048, 2592, 2)\n",
      "getting image\n",
      "(2048, 2592, 2)\n",
      "getting image\n",
      "(2048, 2592, 2)\n"
     ]
    },
    {
     "name": "stderr",
     "output_type": "stream",
     "text": [
      "2019-12-12 06:29:38.432Z moduleTest       20 moduleTest.py:954 3/3 phi forward to 5000\n"
     ]
    },
    {
     "name": "stdout",
     "output_type": "stream",
     "text": [
      "getting image\n",
      "(2048, 2592, 2)\n",
      "getting image\n",
      "(2048, 2592, 2)\n",
      "getting image\n",
      "(2048, 2592, 2)\n",
      "getting image\n",
      "(2048, 2592, 2)\n"
     ]
    },
    {
     "name": "stderr",
     "output_type": "stream",
     "text": [
      "2019-12-12 06:29:41.089Z moduleTest       20 moduleTest.py:954 3/3 phi forward to 5250\n"
     ]
    },
    {
     "name": "stdout",
     "output_type": "stream",
     "text": [
      "getting image\n",
      "(2048, 2592, 2)\n",
      "getting image\n",
      "(2048, 2592, 2)\n",
      "getting image\n",
      "(2048, 2592, 2)\n",
      "getting image\n",
      "(2048, 2592, 2)\n"
     ]
    },
    {
     "name": "stderr",
     "output_type": "stream",
     "text": [
      "2019-12-12 06:29:43.768Z moduleTest       20 moduleTest.py:954 3/3 phi forward to 5500\n"
     ]
    },
    {
     "name": "stdout",
     "output_type": "stream",
     "text": [
      "getting image\n",
      "(2048, 2592, 2)\n",
      "getting image\n",
      "(2048, 2592, 2)\n",
      "getting image\n",
      "(2048, 2592, 2)\n",
      "getting image\n",
      "(2048, 2592, 2)\n"
     ]
    },
    {
     "name": "stderr",
     "output_type": "stream",
     "text": [
      "2019-12-12 06:29:46.423Z moduleTest       20 moduleTest.py:954 3/3 phi forward to 5750\n"
     ]
    },
    {
     "name": "stdout",
     "output_type": "stream",
     "text": [
      "getting image\n",
      "(2048, 2592, 2)\n",
      "getting image\n",
      "(2048, 2592, 2)\n",
      "getting image\n",
      "(2048, 2592, 2)\n",
      "getting image\n",
      "(2048, 2592, 2)\n"
     ]
    },
    {
     "name": "stderr",
     "output_type": "stream",
     "text": [
      "2019-12-12 06:29:49.114Z moduleTest       20 moduleTest.py:954 3/3 phi forward to 6000\n"
     ]
    },
    {
     "name": "stdout",
     "output_type": "stream",
     "text": [
      "getting image\n",
      "(2048, 2592, 2)\n",
      "getting image\n",
      "(2048, 2592, 2)\n",
      "getting image\n",
      "(2048, 2592, 2)\n",
      "getting image\n",
      "(2048, 2592, 2)\n"
     ]
    },
    {
     "name": "stderr",
     "output_type": "stream",
     "text": [
      "2019-12-12 06:29:51.766Z moduleTest       20 moduleTest.py:981 3/3 phi forward 6000 to limit\n"
     ]
    },
    {
     "name": "stdout",
     "output_type": "stream",
     "text": [
      "getting image\n",
      "(2048, 2592, 2)\n",
      "getting image\n",
      "(2048, 2592, 2)\n",
      "getting image\n",
      "(2048, 2592, 2)\n",
      "getting image\n",
      "(2048, 2592, 2)\n"
     ]
    },
    {
     "name": "stderr",
     "output_type": "stream",
     "text": [
      "2019-12-12 06:30:08.303Z moduleTest       20 moduleTest.py:991 3/3 phi backward to 250\n"
     ]
    },
    {
     "name": "stdout",
     "output_type": "stream",
     "text": [
      "getting image\n",
      "(2048, 2592, 2)\n",
      "getting image\n",
      "(2048, 2592, 2)\n",
      "getting image\n",
      "(2048, 2592, 2)\n",
      "getting image\n",
      "(2048, 2592, 2)\n"
     ]
    },
    {
     "name": "stderr",
     "output_type": "stream",
     "text": [
      "2019-12-12 06:30:10.936Z moduleTest       20 moduleTest.py:991 3/3 phi backward to 500\n"
     ]
    },
    {
     "name": "stdout",
     "output_type": "stream",
     "text": [
      "getting image\n",
      "(2048, 2592, 2)\n",
      "getting image\n",
      "(2048, 2592, 2)\n",
      "getting image\n",
      "(2048, 2592, 2)\n",
      "getting image\n",
      "(2048, 2592, 2)\n"
     ]
    },
    {
     "name": "stderr",
     "output_type": "stream",
     "text": [
      "2019-12-12 06:30:13.608Z moduleTest       20 moduleTest.py:991 3/3 phi backward to 750\n"
     ]
    },
    {
     "name": "stdout",
     "output_type": "stream",
     "text": [
      "getting image\n",
      "(2048, 2592, 2)\n",
      "getting image\n",
      "(2048, 2592, 2)\n",
      "getting image\n",
      "(2048, 2592, 2)\n",
      "getting image\n",
      "(2048, 2592, 2)\n"
     ]
    },
    {
     "name": "stderr",
     "output_type": "stream",
     "text": [
      "2019-12-12 06:30:16.266Z moduleTest       20 moduleTest.py:991 3/3 phi backward to 1000\n"
     ]
    },
    {
     "name": "stdout",
     "output_type": "stream",
     "text": [
      "getting image\n",
      "(2048, 2592, 2)\n",
      "getting image\n",
      "(2048, 2592, 2)\n",
      "getting image\n",
      "(2048, 2592, 2)\n",
      "getting image\n",
      "(2048, 2592, 2)\n"
     ]
    },
    {
     "name": "stderr",
     "output_type": "stream",
     "text": [
      "2019-12-12 06:30:18.948Z moduleTest       20 moduleTest.py:991 3/3 phi backward to 1250\n"
     ]
    },
    {
     "name": "stdout",
     "output_type": "stream",
     "text": [
      "getting image\n",
      "(2048, 2592, 2)\n",
      "getting image\n",
      "(2048, 2592, 2)\n",
      "getting image\n",
      "(2048, 2592, 2)\n",
      "getting image\n",
      "(2048, 2592, 2)\n"
     ]
    },
    {
     "name": "stderr",
     "output_type": "stream",
     "text": [
      "2019-12-12 06:30:21.600Z moduleTest       20 moduleTest.py:991 3/3 phi backward to 1500\n"
     ]
    },
    {
     "name": "stdout",
     "output_type": "stream",
     "text": [
      "getting image\n",
      "(2048, 2592, 2)\n",
      "getting image\n",
      "(2048, 2592, 2)\n",
      "getting image\n",
      "(2048, 2592, 2)\n",
      "getting image\n",
      "(2048, 2592, 2)\n"
     ]
    },
    {
     "name": "stderr",
     "output_type": "stream",
     "text": [
      "2019-12-12 06:30:24.274Z moduleTest       20 moduleTest.py:991 3/3 phi backward to 1750\n"
     ]
    },
    {
     "name": "stdout",
     "output_type": "stream",
     "text": [
      "getting image\n",
      "(2048, 2592, 2)\n",
      "getting image\n",
      "(2048, 2592, 2)\n",
      "getting image\n",
      "(2048, 2592, 2)\n",
      "getting image\n",
      "(2048, 2592, 2)\n"
     ]
    },
    {
     "name": "stderr",
     "output_type": "stream",
     "text": [
      "2019-12-12 06:30:26.977Z moduleTest       20 moduleTest.py:991 3/3 phi backward to 2000\n"
     ]
    },
    {
     "name": "stdout",
     "output_type": "stream",
     "text": [
      "getting image\n",
      "(2048, 2592, 2)\n",
      "getting image\n",
      "(2048, 2592, 2)\n",
      "getting image\n",
      "(2048, 2592, 2)\n",
      "getting image\n",
      "(2048, 2592, 2)\n"
     ]
    },
    {
     "name": "stderr",
     "output_type": "stream",
     "text": [
      "2019-12-12 06:30:29.623Z moduleTest       20 moduleTest.py:991 3/3 phi backward to 2250\n"
     ]
    },
    {
     "name": "stdout",
     "output_type": "stream",
     "text": [
      "getting image\n",
      "(2048, 2592, 2)\n",
      "getting image\n",
      "(2048, 2592, 2)\n",
      "getting image\n",
      "(2048, 2592, 2)\n",
      "getting image\n",
      "(2048, 2592, 2)\n"
     ]
    },
    {
     "name": "stderr",
     "output_type": "stream",
     "text": [
      "2019-12-12 06:30:32.262Z moduleTest       20 moduleTest.py:991 3/3 phi backward to 2500\n"
     ]
    },
    {
     "name": "stdout",
     "output_type": "stream",
     "text": [
      "getting image\n",
      "(2048, 2592, 2)\n",
      "getting image\n",
      "(2048, 2592, 2)\n",
      "getting image\n",
      "(2048, 2592, 2)\n",
      "getting image\n",
      "(2048, 2592, 2)\n"
     ]
    },
    {
     "name": "stderr",
     "output_type": "stream",
     "text": [
      "2019-12-12 06:30:34.952Z moduleTest       20 moduleTest.py:991 3/3 phi backward to 2750\n"
     ]
    },
    {
     "name": "stdout",
     "output_type": "stream",
     "text": [
      "getting image\n",
      "(2048, 2592, 2)\n",
      "getting image\n",
      "(2048, 2592, 2)\n",
      "getting image\n",
      "(2048, 2592, 2)\n",
      "getting image\n",
      "(2048, 2592, 2)\n"
     ]
    },
    {
     "name": "stderr",
     "output_type": "stream",
     "text": [
      "2019-12-12 06:30:37.614Z moduleTest       20 moduleTest.py:991 3/3 phi backward to 3000\n"
     ]
    },
    {
     "name": "stdout",
     "output_type": "stream",
     "text": [
      "getting image\n",
      "(2048, 2592, 2)\n",
      "getting image\n",
      "(2048, 2592, 2)\n",
      "getting image\n",
      "(2048, 2592, 2)\n",
      "getting image\n",
      "(2048, 2592, 2)\n"
     ]
    },
    {
     "name": "stderr",
     "output_type": "stream",
     "text": [
      "2019-12-12 06:30:40.273Z moduleTest       20 moduleTest.py:991 3/3 phi backward to 3250\n"
     ]
    },
    {
     "name": "stdout",
     "output_type": "stream",
     "text": [
      "getting image\n",
      "(2048, 2592, 2)\n",
      "getting image\n",
      "(2048, 2592, 2)\n",
      "getting image\n",
      "(2048, 2592, 2)\n",
      "getting image\n",
      "(2048, 2592, 2)\n"
     ]
    },
    {
     "name": "stderr",
     "output_type": "stream",
     "text": [
      "2019-12-12 06:30:42.949Z moduleTest       20 moduleTest.py:991 3/3 phi backward to 3500\n"
     ]
    },
    {
     "name": "stdout",
     "output_type": "stream",
     "text": [
      "getting image\n",
      "(2048, 2592, 2)\n",
      "getting image\n",
      "(2048, 2592, 2)\n",
      "getting image\n",
      "(2048, 2592, 2)\n",
      "getting image\n",
      "(2048, 2592, 2)\n"
     ]
    },
    {
     "name": "stderr",
     "output_type": "stream",
     "text": [
      "2019-12-12 06:30:45.625Z moduleTest       20 moduleTest.py:991 3/3 phi backward to 3750\n"
     ]
    },
    {
     "name": "stdout",
     "output_type": "stream",
     "text": [
      "getting image\n",
      "(2048, 2592, 2)\n",
      "getting image\n",
      "(2048, 2592, 2)\n",
      "getting image\n",
      "(2048, 2592, 2)\n",
      "getting image\n",
      "(2048, 2592, 2)\n"
     ]
    },
    {
     "name": "stderr",
     "output_type": "stream",
     "text": [
      "2019-12-12 06:30:48.270Z moduleTest       20 moduleTest.py:991 3/3 phi backward to 4000\n"
     ]
    },
    {
     "name": "stdout",
     "output_type": "stream",
     "text": [
      "getting image\n",
      "(2048, 2592, 2)\n",
      "getting image\n",
      "(2048, 2592, 2)\n",
      "getting image\n",
      "(2048, 2592, 2)\n",
      "getting image\n",
      "(2048, 2592, 2)\n"
     ]
    },
    {
     "name": "stderr",
     "output_type": "stream",
     "text": [
      "2019-12-12 06:30:50.956Z moduleTest       20 moduleTest.py:991 3/3 phi backward to 4250\n"
     ]
    },
    {
     "name": "stdout",
     "output_type": "stream",
     "text": [
      "getting image\n",
      "(2048, 2592, 2)\n",
      "getting image\n",
      "(2048, 2592, 2)\n",
      "getting image\n",
      "(2048, 2592, 2)\n",
      "getting image\n",
      "(2048, 2592, 2)\n"
     ]
    },
    {
     "name": "stderr",
     "output_type": "stream",
     "text": [
      "2019-12-12 06:30:53.628Z moduleTest       20 moduleTest.py:991 3/3 phi backward to 4500\n"
     ]
    },
    {
     "name": "stdout",
     "output_type": "stream",
     "text": [
      "getting image\n",
      "(2048, 2592, 2)\n",
      "getting image\n",
      "(2048, 2592, 2)\n",
      "getting image\n",
      "(2048, 2592, 2)\n",
      "getting image\n",
      "(2048, 2592, 2)\n"
     ]
    },
    {
     "name": "stderr",
     "output_type": "stream",
     "text": [
      "2019-12-12 06:30:56.299Z moduleTest       20 moduleTest.py:991 3/3 phi backward to 4750\n"
     ]
    },
    {
     "name": "stdout",
     "output_type": "stream",
     "text": [
      "getting image\n",
      "(2048, 2592, 2)\n",
      "getting image\n",
      "(2048, 2592, 2)\n",
      "getting image\n",
      "(2048, 2592, 2)\n",
      "getting image\n",
      "(2048, 2592, 2)\n"
     ]
    },
    {
     "name": "stderr",
     "output_type": "stream",
     "text": [
      "2019-12-12 06:30:58.977Z moduleTest       20 moduleTest.py:991 3/3 phi backward to 5000\n"
     ]
    },
    {
     "name": "stdout",
     "output_type": "stream",
     "text": [
      "getting image\n",
      "(2048, 2592, 2)\n",
      "getting image\n",
      "(2048, 2592, 2)\n",
      "getting image\n",
      "(2048, 2592, 2)\n",
      "getting image\n",
      "(2048, 2592, 2)\n"
     ]
    },
    {
     "name": "stderr",
     "output_type": "stream",
     "text": [
      "2019-12-12 06:31:01.662Z moduleTest       20 moduleTest.py:991 3/3 phi backward to 5250\n"
     ]
    },
    {
     "name": "stdout",
     "output_type": "stream",
     "text": [
      "getting image\n",
      "(2048, 2592, 2)\n",
      "getting image\n",
      "(2048, 2592, 2)\n",
      "getting image\n",
      "(2048, 2592, 2)\n",
      "getting image\n",
      "(2048, 2592, 2)\n"
     ]
    },
    {
     "name": "stderr",
     "output_type": "stream",
     "text": [
      "2019-12-12 06:31:04.300Z moduleTest       20 moduleTest.py:991 3/3 phi backward to 5500\n"
     ]
    },
    {
     "name": "stdout",
     "output_type": "stream",
     "text": [
      "getting image\n",
      "(2048, 2592, 2)\n",
      "getting image\n",
      "(2048, 2592, 2)\n",
      "getting image\n",
      "(2048, 2592, 2)\n",
      "getting image\n",
      "(2048, 2592, 2)\n"
     ]
    },
    {
     "name": "stderr",
     "output_type": "stream",
     "text": [
      "2019-12-12 06:31:06.963Z moduleTest       20 moduleTest.py:991 3/3 phi backward to 5750\n"
     ]
    },
    {
     "name": "stdout",
     "output_type": "stream",
     "text": [
      "getting image\n",
      "(2048, 2592, 2)\n",
      "getting image\n",
      "(2048, 2592, 2)\n",
      "getting image\n",
      "(2048, 2592, 2)\n",
      "getting image\n",
      "(2048, 2592, 2)\n"
     ]
    },
    {
     "name": "stderr",
     "output_type": "stream",
     "text": [
      "2019-12-12 06:31:09.628Z moduleTest       20 moduleTest.py:991 3/3 phi backward to 6000\n"
     ]
    },
    {
     "name": "stdout",
     "output_type": "stream",
     "text": [
      "getting image\n",
      "(2048, 2592, 2)\n",
      "getting image\n",
      "(2048, 2592, 2)\n",
      "getting image\n",
      "(2048, 2592, 2)\n",
      "getting image\n",
      "(2048, 2592, 2)\n"
     ]
    },
    {
     "name": "stderr",
     "output_type": "stream",
     "text": [
      "2019-12-12 06:31:12.289Z moduleTest       20 moduleTest.py:1018 3/3 phi reverse -6000 steps to limit\n",
      "2019-12-12 06:31:28.267Z root             20 pfiDesign.py:740 wrote pfiDesign file for 57 cobras and name=phiModel to /data/MCS/20191212_066/output/phi_run3.xml\n",
      "2019-12-12 06:31:28.269Z moduleTest       40 moduleTest.py:319 phi ranges for cobras [22] are too small: CW=[0.] CCW=[0.]\n",
      "2019-12-12 06:31:28.270Z moduleTest       40 moduleTest.py:322      [0.]\n",
      "2019-12-12 06:31:28.270Z ontimeOptimize   20 ontimeOptimize.py:667 Current XML = /data/MCS/20191212_066/output/phi_run3.xml\n"
     ]
    },
    {
     "name": "stdout",
     "output_type": "stream",
     "text": [
      "convert /data/MCS/20191212_066/output/FiberSpeed.png /data/MCS/20191212_066/output/AngleMove*_[0-9].png                 /data/MCS/20191212_066/output/AngleMove*_[0-9]?.png /data/MCS/20191212_066/output/AngleMove.pdf\n",
      "['/data/MCS/20191212_060/', '/data/MCS/20191212_062/', '/data/MCS/20191212_064/', '/data/MCS/20191212_066/']\n"
     ]
    },
    {
     "name": "stderr",
     "output_type": "stream",
     "text": [
      "/home/pfs/mhs/devel/ics_cobraCharmer/procedures/moduleTest/ontimeOptimize.py:353: RuntimeWarning: divide by zero encountered in true_divide\n",
      "  newOntimeFwd = (fwd_target - self.fwd_int)/self.fwd_slope\n",
      "/home/pfs/mhs/devel/ics_cobraCharmer/procedures/moduleTest/ontimeOptimize.py:354: RuntimeWarning: divide by zero encountered in true_divide\n",
      "  newOntimeRev = (rev_target - self.rev_int)/self.rev_slope\n",
      "2019-12-12 06:31:36.134Z root             20 pfiDesign.py:740 wrote pfiDesign file for 57 cobras and name=None to /data/MCS/temp.xml\n",
      "2019-12-12 06:31:36.135Z ontimeOptimize   20 ontimeOptimize.py:685 Updating XML = /data/MCS/temp.xml\n",
      "/home/pfs/mhs/devel/ics_cobraCharmer/python/ics/cobraCharmer/pfiDesign.py:54: UserWarning: please use PFIDesign.loadModule() or PFIDesign.loadPFI()\n",
      "  warnings.warn('please use PFIDesign.loadModule() or PFIDesign.loadPFI()')\n",
      "/home/pfs/mhs/devel/ics_cobraCharmer/procedures/moduleTest/ontimeOptimize.py:353: RuntimeWarning: divide by zero encountered in true_divide\n",
      "  newOntimeFwd = (fwd_target - self.fwd_int)/self.fwd_slope\n",
      "/home/pfs/mhs/devel/ics_cobraCharmer/procedures/moduleTest/ontimeOptimize.py:354: RuntimeWarning: divide by zero encountered in true_divide\n",
      "  newOntimeRev = (rev_target - self.rev_int)/self.rev_slope\n",
      "2019-12-12 06:31:43.702Z root             20 pfiDesign.py:740 wrote pfiDesign file for 57 cobras and name=None to /data/MCS/temp.xml\n",
      "INFO:bokeh.io.state:Session output file '/data/MCS/20191212_066/output/phi_fwd3.html' already exists, will be overwritten.\n",
      "2019-12-12 06:31:49.612Z selenium.webdriver.remote.remote_connection 10 remote_connection.py:388 POST http://127.0.0.1:49013/wd/hub/session {\"capabilities\": {\"firstMatch\": [{}], \"alwaysMatch\": {\"browserName\": \"phantomjs\", \"platformName\": \"any\"}}, \"desiredCapabilities\": {\"browserName\": \"phantomjs\", \"version\": \"\", \"platform\": \"ANY\", \"javascriptEnabled\": true}}\n",
      "2019-12-12 06:31:49.615Z urllib3.connectionpool 10 connectionpool.py:205 Starting new HTTP connection (1): 127.0.0.1:49013\n",
      "2019-12-12 06:31:49.622Z urllib3.connectionpool 10 connectionpool.py:393 http://127.0.0.1:49013 \"POST /wd/hub/session HTTP/1.1\" 200 536\n",
      "2019-12-12 06:31:49.623Z selenium.webdriver.remote.remote_connection 10 remote_connection.py:440 Finished Request\n",
      "2019-12-12 06:31:49.624Z selenium.webdriver.remote.remote_connection 10 remote_connection.py:388 POST http://127.0.0.1:49013/wd/hub/session/05b4ac30-1c66-11ea-b877-5b30fd8bb0f3/url {\"url\": \"file:////tmp/bokehm3hr3v8u.html\", \"sessionId\": \"05b4ac30-1c66-11ea-b877-5b30fd8bb0f3\"}\n",
      "2019-12-12 06:31:49.624Z urllib3.connectionpool 10 connectionpool.py:205 Starting new HTTP connection (1): 127.0.0.1:49013\n",
      "2019-12-12 06:31:49.746Z urllib3.connectionpool 10 connectionpool.py:393 http://127.0.0.1:49013 \"POST /wd/hub/session/05b4ac30-1c66-11ea-b877-5b30fd8bb0f3/url HTTP/1.1\" 200 74\n",
      "2019-12-12 06:31:49.746Z selenium.webdriver.remote.remote_connection 10 remote_connection.py:440 Finished Request\n",
      "2019-12-12 06:31:49.747Z selenium.webdriver.remote.remote_connection 10 remote_connection.py:388 POST http://127.0.0.1:49013/wd/hub/session/05b4ac30-1c66-11ea-b877-5b30fd8bb0f3/window/current/maximize {\"windowHandle\": \"current\", \"sessionId\": \"05b4ac30-1c66-11ea-b877-5b30fd8bb0f3\"}\n",
      "2019-12-12 06:31:49.747Z urllib3.connectionpool 10 connectionpool.py:205 Starting new HTTP connection (1): 127.0.0.1:49013\n",
      "2019-12-12 06:31:51.478Z urllib3.connectionpool 10 connectionpool.py:393 http://127.0.0.1:49013 \"POST /wd/hub/session/05b4ac30-1c66-11ea-b877-5b30fd8bb0f3/window/current/maximize HTTP/1.1\" 200 74\n",
      "2019-12-12 06:31:51.478Z selenium.webdriver.remote.remote_connection 10 remote_connection.py:440 Finished Request\n",
      "2019-12-12 06:31:51.479Z selenium.webdriver.remote.remote_connection 10 remote_connection.py:388 POST http://127.0.0.1:49013/wd/hub/session/05b4ac30-1c66-11ea-b877-5b30fd8bb0f3/execute {\"script\": \"document.body.style.width = '100%';\", \"args\": [], \"sessionId\": \"05b4ac30-1c66-11ea-b877-5b30fd8bb0f3\"}\n",
      "2019-12-12 06:31:51.479Z urllib3.connectionpool 10 connectionpool.py:205 Starting new HTTP connection (1): 127.0.0.1:49013\n",
      "2019-12-12 06:31:51.488Z urllib3.connectionpool 10 connectionpool.py:393 http://127.0.0.1:49013 \"POST /wd/hub/session/05b4ac30-1c66-11ea-b877-5b30fd8bb0f3/execute HTTP/1.1\" 200 76\n",
      "2019-12-12 06:31:51.488Z selenium.webdriver.remote.remote_connection 10 remote_connection.py:440 Finished Request\n",
      "2019-12-12 06:31:51.489Z selenium.webdriver.remote.remote_connection 10 remote_connection.py:388 POST http://127.0.0.1:49013/wd/hub/session/05b4ac30-1c66-11ea-b877-5b30fd8bb0f3/execute {\"script\": \"\\n            const b = window.Bokeh;\\n            return b && b.documents && b.documents.length > 0;\\n        \", \"args\": [], \"sessionId\": \"05b4ac30-1c66-11ea-b877-5b30fd8bb0f3\"}\n",
      "2019-12-12 06:31:51.489Z urllib3.connectionpool 10 connectionpool.py:205 Starting new HTTP connection (1): 127.0.0.1:49013\n",
      "2019-12-12 06:31:51.492Z urllib3.connectionpool 10 connectionpool.py:393 http://127.0.0.1:49013 \"POST /wd/hub/session/05b4ac30-1c66-11ea-b877-5b30fd8bb0f3/execute HTTP/1.1\" 200 76\n",
      "2019-12-12 06:31:51.493Z selenium.webdriver.remote.remote_connection 10 remote_connection.py:440 Finished Request\n",
      "2019-12-12 06:31:51.494Z selenium.webdriver.remote.remote_connection 10 remote_connection.py:388 POST http://127.0.0.1:49013/wd/hub/session/05b4ac30-1c66-11ea-b877-5b30fd8bb0f3/execute {\"script\": \"\\n// add private window prop to check that render is complete\\nwindow._bokeh_render_complete = false;\\nfunction done() {\\n  window._bokeh_render_complete = true;\\n}\\n\\nvar doc = window.Bokeh.documents[0];\\n\\nif (doc.is_idle)\\n  done();\\nelse\\n  doc.idle.connect(done);\\n\", \"args\": [], \"sessionId\": \"05b4ac30-1c66-11ea-b877-5b30fd8bb0f3\"}\n",
      "2019-12-12 06:31:51.494Z urllib3.connectionpool 10 connectionpool.py:205 Starting new HTTP connection (1): 127.0.0.1:49013\n",
      "2019-12-12 06:31:51.497Z urllib3.connectionpool 10 connectionpool.py:393 http://127.0.0.1:49013 \"POST /wd/hub/session/05b4ac30-1c66-11ea-b877-5b30fd8bb0f3/execute HTTP/1.1\" 200 76\n",
      "2019-12-12 06:31:51.497Z selenium.webdriver.remote.remote_connection 10 remote_connection.py:440 Finished Request\n",
      "2019-12-12 06:31:51.498Z selenium.webdriver.remote.remote_connection 10 remote_connection.py:388 POST http://127.0.0.1:49013/wd/hub/session/05b4ac30-1c66-11ea-b877-5b30fd8bb0f3/execute {\"script\": \"return window._bokeh_render_complete;\", \"args\": [], \"sessionId\": \"05b4ac30-1c66-11ea-b877-5b30fd8bb0f3\"}\n",
      "2019-12-12 06:31:51.498Z urllib3.connectionpool 10 connectionpool.py:205 Starting new HTTP connection (1): 127.0.0.1:49013\n",
      "2019-12-12 06:31:51.501Z urllib3.connectionpool 10 connectionpool.py:393 http://127.0.0.1:49013 \"POST /wd/hub/session/05b4ac30-1c66-11ea-b877-5b30fd8bb0f3/execute HTTP/1.1\" 200 76\n",
      "2019-12-12 06:31:51.502Z selenium.webdriver.remote.remote_connection 10 remote_connection.py:440 Finished Request\n",
      "2019-12-12 06:31:51.502Z selenium.webdriver.remote.remote_connection 10 remote_connection.py:388 POST http://127.0.0.1:49013/wd/hub/session/05b4ac30-1c66-11ea-b877-5b30fd8bb0f3/log {\"type\": \"browser\", \"sessionId\": \"05b4ac30-1c66-11ea-b877-5b30fd8bb0f3\"}\n",
      "2019-12-12 06:31:51.503Z urllib3.connectionpool 10 connectionpool.py:205 Starting new HTTP connection (1): 127.0.0.1:49013\n",
      "2019-12-12 06:31:51.504Z urllib3.connectionpool 10 connectionpool.py:393 http://127.0.0.1:49013 \"POST /wd/hub/session/05b4ac30-1c66-11ea-b877-5b30fd8bb0f3/log HTTP/1.1\" 200 260\n",
      "2019-12-12 06:31:51.505Z selenium.webdriver.remote.remote_connection 10 remote_connection.py:440 Finished Request\n",
      "2019-12-12 06:31:51.506Z selenium.webdriver.remote.remote_connection 10 remote_connection.py:388 GET http://127.0.0.1:49013/wd/hub/session/05b4ac30-1c66-11ea-b877-5b30fd8bb0f3/screenshot {\"sessionId\": \"05b4ac30-1c66-11ea-b877-5b30fd8bb0f3\"}\n",
      "2019-12-12 06:31:51.506Z urllib3.connectionpool 10 connectionpool.py:205 Starting new HTTP connection (1): 127.0.0.1:49013\n",
      "2019-12-12 06:31:52.477Z urllib3.connectionpool 10 connectionpool.py:393 http://127.0.0.1:49013 \"GET /wd/hub/session/05b4ac30-1c66-11ea-b877-5b30fd8bb0f3/screenshot HTTP/1.1\" 200 618714\n",
      "2019-12-12 06:31:52.480Z selenium.webdriver.remote.remote_connection 10 remote_connection.py:440 Finished Request\n",
      "2019-12-12 06:31:52.482Z selenium.webdriver.remote.remote_connection 10 remote_connection.py:388 POST http://127.0.0.1:49013/wd/hub/session/05b4ac30-1c66-11ea-b877-5b30fd8bb0f3/execute {\"script\": \"\\nreturn document.getElementsByClassName('bk-root')[0].children[0].getBoundingClientRect()\\n\", \"args\": [], \"sessionId\": \"05b4ac30-1c66-11ea-b877-5b30fd8bb0f3\"}\n"
     ]
    },
    {
     "name": "stderr",
     "output_type": "stream",
     "text": [
      "2019-12-12 06:31:52.482Z urllib3.connectionpool 10 connectionpool.py:205 Starting new HTTP connection (1): 127.0.0.1:49013\n",
      "2019-12-12 06:31:52.494Z urllib3.connectionpool 10 connectionpool.py:393 http://127.0.0.1:49013 \"POST /wd/hub/session/05b4ac30-1c66-11ea-b877-5b30fd8bb0f3/execute HTTP/1.1\" 200 144\n",
      "2019-12-12 06:31:52.495Z selenium.webdriver.remote.remote_connection 10 remote_connection.py:440 Finished Request\n",
      "2019-12-12 06:31:52.534Z PIL.PngImagePlugin 10 PngImagePlugin.py:146 STREAM b'IHDR' 16 13\n",
      "2019-12-12 06:31:52.534Z PIL.PngImagePlugin 10 PngImagePlugin.py:146 STREAM b'pHYs' 41 9\n",
      "2019-12-12 06:31:52.534Z PIL.PngImagePlugin 10 PngImagePlugin.py:146 STREAM b'IDAT' 62 8192\n",
      "2019-12-12 06:31:57.379Z selenium.webdriver.remote.remote_connection 10 remote_connection.py:388 POST http://127.0.0.1:49013/wd/hub/session/05b4ac30-1c66-11ea-b877-5b30fd8bb0f3/url {\"url\": \"file:////tmp/bokeh9qszx5_3.html\", \"sessionId\": \"05b4ac30-1c66-11ea-b877-5b30fd8bb0f3\"}\n",
      "2019-12-12 06:31:57.381Z urllib3.connectionpool 10 connectionpool.py:205 Starting new HTTP connection (1): 127.0.0.1:49013\n",
      "2019-12-12 06:31:57.419Z urllib3.connectionpool 10 connectionpool.py:393 http://127.0.0.1:49013 \"POST /wd/hub/session/05b4ac30-1c66-11ea-b877-5b30fd8bb0f3/url HTTP/1.1\" 200 74\n",
      "2019-12-12 06:31:57.420Z selenium.webdriver.remote.remote_connection 10 remote_connection.py:440 Finished Request\n",
      "2019-12-12 06:31:57.421Z selenium.webdriver.remote.remote_connection 10 remote_connection.py:388 POST http://127.0.0.1:49013/wd/hub/session/05b4ac30-1c66-11ea-b877-5b30fd8bb0f3/window/current/maximize {\"windowHandle\": \"current\", \"sessionId\": \"05b4ac30-1c66-11ea-b877-5b30fd8bb0f3\"}\n",
      "2019-12-12 06:31:57.421Z urllib3.connectionpool 10 connectionpool.py:205 Starting new HTTP connection (1): 127.0.0.1:49013\n",
      "2019-12-12 06:31:58.800Z urllib3.connectionpool 10 connectionpool.py:393 http://127.0.0.1:49013 \"POST /wd/hub/session/05b4ac30-1c66-11ea-b877-5b30fd8bb0f3/window/current/maximize HTTP/1.1\" 200 74\n",
      "2019-12-12 06:31:58.801Z selenium.webdriver.remote.remote_connection 10 remote_connection.py:440 Finished Request\n",
      "2019-12-12 06:31:58.801Z selenium.webdriver.remote.remote_connection 10 remote_connection.py:388 POST http://127.0.0.1:49013/wd/hub/session/05b4ac30-1c66-11ea-b877-5b30fd8bb0f3/execute {\"script\": \"document.body.style.width = '100%';\", \"args\": [], \"sessionId\": \"05b4ac30-1c66-11ea-b877-5b30fd8bb0f3\"}\n",
      "2019-12-12 06:31:58.802Z urllib3.connectionpool 10 connectionpool.py:205 Starting new HTTP connection (1): 127.0.0.1:49013\n",
      "2019-12-12 06:31:58.804Z urllib3.connectionpool 10 connectionpool.py:393 http://127.0.0.1:49013 \"POST /wd/hub/session/05b4ac30-1c66-11ea-b877-5b30fd8bb0f3/execute HTTP/1.1\" 200 76\n",
      "2019-12-12 06:31:58.804Z selenium.webdriver.remote.remote_connection 10 remote_connection.py:440 Finished Request\n",
      "2019-12-12 06:31:58.805Z selenium.webdriver.remote.remote_connection 10 remote_connection.py:388 POST http://127.0.0.1:49013/wd/hub/session/05b4ac30-1c66-11ea-b877-5b30fd8bb0f3/execute {\"script\": \"\\n            const b = window.Bokeh;\\n            return b && b.documents && b.documents.length > 0;\\n        \", \"args\": [], \"sessionId\": \"05b4ac30-1c66-11ea-b877-5b30fd8bb0f3\"}\n",
      "2019-12-12 06:31:58.805Z urllib3.connectionpool 10 connectionpool.py:205 Starting new HTTP connection (1): 127.0.0.1:49013\n",
      "2019-12-12 06:31:58.807Z urllib3.connectionpool 10 connectionpool.py:393 http://127.0.0.1:49013 \"POST /wd/hub/session/05b4ac30-1c66-11ea-b877-5b30fd8bb0f3/execute HTTP/1.1\" 200 76\n",
      "2019-12-12 06:31:58.807Z selenium.webdriver.remote.remote_connection 10 remote_connection.py:440 Finished Request\n",
      "2019-12-12 06:31:58.808Z selenium.webdriver.remote.remote_connection 10 remote_connection.py:388 POST http://127.0.0.1:49013/wd/hub/session/05b4ac30-1c66-11ea-b877-5b30fd8bb0f3/execute {\"script\": \"\\n// add private window prop to check that render is complete\\nwindow._bokeh_render_complete = false;\\nfunction done() {\\n  window._bokeh_render_complete = true;\\n}\\n\\nvar doc = window.Bokeh.documents[0];\\n\\nif (doc.is_idle)\\n  done();\\nelse\\n  doc.idle.connect(done);\\n\", \"args\": [], \"sessionId\": \"05b4ac30-1c66-11ea-b877-5b30fd8bb0f3\"}\n",
      "2019-12-12 06:31:58.808Z urllib3.connectionpool 10 connectionpool.py:205 Starting new HTTP connection (1): 127.0.0.1:49013\n",
      "2019-12-12 06:31:58.810Z urllib3.connectionpool 10 connectionpool.py:393 http://127.0.0.1:49013 \"POST /wd/hub/session/05b4ac30-1c66-11ea-b877-5b30fd8bb0f3/execute HTTP/1.1\" 200 76\n",
      "2019-12-12 06:31:58.810Z selenium.webdriver.remote.remote_connection 10 remote_connection.py:440 Finished Request\n",
      "2019-12-12 06:31:58.811Z selenium.webdriver.remote.remote_connection 10 remote_connection.py:388 POST http://127.0.0.1:49013/wd/hub/session/05b4ac30-1c66-11ea-b877-5b30fd8bb0f3/execute {\"script\": \"return window._bokeh_render_complete;\", \"args\": [], \"sessionId\": \"05b4ac30-1c66-11ea-b877-5b30fd8bb0f3\"}\n",
      "2019-12-12 06:31:58.811Z urllib3.connectionpool 10 connectionpool.py:205 Starting new HTTP connection (1): 127.0.0.1:49013\n",
      "2019-12-12 06:31:58.813Z urllib3.connectionpool 10 connectionpool.py:393 http://127.0.0.1:49013 \"POST /wd/hub/session/05b4ac30-1c66-11ea-b877-5b30fd8bb0f3/execute HTTP/1.1\" 200 76\n",
      "2019-12-12 06:31:58.813Z selenium.webdriver.remote.remote_connection 10 remote_connection.py:440 Finished Request\n",
      "2019-12-12 06:31:58.814Z selenium.webdriver.remote.remote_connection 10 remote_connection.py:388 POST http://127.0.0.1:49013/wd/hub/session/05b4ac30-1c66-11ea-b877-5b30fd8bb0f3/log {\"type\": \"browser\", \"sessionId\": \"05b4ac30-1c66-11ea-b877-5b30fd8bb0f3\"}\n",
      "2019-12-12 06:31:58.814Z urllib3.connectionpool 10 connectionpool.py:205 Starting new HTTP connection (1): 127.0.0.1:49013\n",
      "2019-12-12 06:31:58.815Z urllib3.connectionpool 10 connectionpool.py:393 http://127.0.0.1:49013 \"POST /wd/hub/session/05b4ac30-1c66-11ea-b877-5b30fd8bb0f3/log HTTP/1.1\" 200 260\n",
      "2019-12-12 06:31:58.816Z selenium.webdriver.remote.remote_connection 10 remote_connection.py:440 Finished Request\n",
      "2019-12-12 06:31:58.816Z selenium.webdriver.remote.remote_connection 10 remote_connection.py:388 GET http://127.0.0.1:49013/wd/hub/session/05b4ac30-1c66-11ea-b877-5b30fd8bb0f3/screenshot {\"sessionId\": \"05b4ac30-1c66-11ea-b877-5b30fd8bb0f3\"}\n",
      "2019-12-12 06:31:58.817Z urllib3.connectionpool 10 connectionpool.py:205 Starting new HTTP connection (1): 127.0.0.1:49013\n",
      "2019-12-12 06:31:59.977Z urllib3.connectionpool 10 connectionpool.py:393 http://127.0.0.1:49013 \"GET /wd/hub/session/05b4ac30-1c66-11ea-b877-5b30fd8bb0f3/screenshot HTTP/1.1\" 200 607586\n",
      "2019-12-12 06:31:59.979Z selenium.webdriver.remote.remote_connection 10 remote_connection.py:440 Finished Request\n",
      "2019-12-12 06:31:59.982Z selenium.webdriver.remote.remote_connection 10 remote_connection.py:388 POST http://127.0.0.1:49013/wd/hub/session/05b4ac30-1c66-11ea-b877-5b30fd8bb0f3/execute {\"script\": \"\\nreturn document.getElementsByClassName('bk-root')[0].children[0].getBoundingClientRect()\\n\", \"args\": [], \"sessionId\": \"05b4ac30-1c66-11ea-b877-5b30fd8bb0f3\"}\n",
      "2019-12-12 06:31:59.982Z urllib3.connectionpool 10 connectionpool.py:205 Starting new HTTP connection (1): 127.0.0.1:49013\n",
      "2019-12-12 06:32:00.026Z urllib3.connectionpool 10 connectionpool.py:393 http://127.0.0.1:49013 \"POST /wd/hub/session/05b4ac30-1c66-11ea-b877-5b30fd8bb0f3/execute HTTP/1.1\" 200 144\n",
      "2019-12-12 06:32:00.027Z selenium.webdriver.remote.remote_connection 10 remote_connection.py:440 Finished Request\n",
      "2019-12-12 06:32:00.027Z PIL.PngImagePlugin 10 PngImagePlugin.py:146 STREAM b'IHDR' 16 13\n",
      "2019-12-12 06:32:00.028Z PIL.PngImagePlugin 10 PngImagePlugin.py:146 STREAM b'pHYs' 41 9\n",
      "2019-12-12 06:32:00.028Z PIL.PngImagePlugin 10 PngImagePlugin.py:146 STREAM b'IDAT' 62 8192\n",
      "2019-12-12 06:32:05.791Z matplotlib.pyplot 10 pyplot.py:219 Loaded backend module://ipykernel.pylab.backend_inline version unknown.\n"
     ]
    }
   ],
   "source": [
    "import ontimeOptimize\n",
    "import pathlib\n",
    "\n",
    "\n",
    "brokens=[22]\n",
    "arm='phi'\n",
    "xml =pathlib.Path('/data/MCS/20191212_041/output/SC04_phi_250.xml')\n",
    "ontimeOptimize.exploreModuleOntime(brokens=brokens,\n",
    "            arm=arm, iteration=4, XML=xml)"
   ]
  },
  {
   "cell_type": "markdown",
   "metadata": {},
   "source": [
    "# Debugging ontime optimize"
   ]
  },
  {
   "cell_type": "code",
   "execution_count": null,
   "metadata": {},
   "outputs": [],
   "source": [
    "brokens=[]\n",
    "\n",
    "data = ['/data/MCS/20191212_046/']\n",
    "otm=ontimeOptimize.OntimeOptimize(brokens=brokens, phiList=data)"
   ]
  },
  {
   "cell_type": "code",
   "execution_count": null,
   "metadata": {},
   "outputs": [],
   "source": [
    "otm.solveForSlowSpeed()\n",
    "otm.updateXML('/data/MCS/20191212_046/output/phi_run0.xml','/data/MCS/temp.xml')"
   ]
  },
  {
   "cell_type": "code",
   "execution_count": null,
   "metadata": {},
   "outputs": [],
   "source": [
    "otm.pickForSlowSpeed()\n",
    "otm.visMaps('Fwd',filename='/data/SC04/20191023/phiOnTimeFwd.html',\n",
    "            pngfile='/data/SC04/20191023/phiOnTimeFwd.png',predict=False)\n",
    "otm.visMaps('Rev',filename='/data/SC02/20191023/phiOnTimeRev.html',\n",
    "            pngfile='/data/SC02/20191023/phiOnTimeRev_20191119.png',predict=False)"
   ]
  },
  {
   "cell_type": "code",
   "execution_count": null,
   "metadata": {},
   "outputs": [],
   "source": [
    "import visDianosticPlot\n",
    "\n",
    "currentpath='/data/MCS'\n",
    "vis = visDianosticPlot.VisDianosticPlot('/data/MCS/20191212_039/data/', brokens=brokens, camSplit=28)\n",
    "vis.visAngleMovement(figPath=f'{currentpath}/output/',\n",
    "                arm=arm,pdffile=f'{currentpath}/output/AngleMove.pdf')\n"
   ]
  },
  {
   "cell_type": "code",
   "execution_count": null,
   "metadata": {},
   "outputs": [],
   "source": [
    "import numpy as np\n",
    "phiOntime = np.zeros(57)+0.05\n",
    "\n",
    "slowOnTime = [np.full(57, phiOntime)] * 2"
   ]
  },
  {
   "cell_type": "code",
   "execution_count": null,
   "metadata": {},
   "outputs": [],
   "source": [
    "len(slowOnTime[0])"
   ]
  },
  {
   "cell_type": "markdown",
   "metadata": {},
   "source": [
    "# Reference code below"
   ]
  },
  {
   "cell_type": "code",
   "execution_count": null,
   "metadata": {},
   "outputs": [],
   "source": [
    "mt = ModuleTest('128.149.77.24', '/data/SC02/PFS-PFI-CIT900200-06_Science_02_FinalXML.xml', \n",
    "                cam1Id=1, cam2Id=2,camSplit=28)\n",
    "pfi = mt.pfi"
   ]
  },
  {
   "cell_type": "code",
   "execution_count": null,
   "metadata": {},
   "outputs": [],
   "source": [
    "\n",
    "mt = ModuleTest('128.149.77.24', '/data/SC02/science02_converted.xml', camSplit=28)\n",
    "pfi = mt.pfi\n",
    "\n",
    "phiOntime = np.zeros(57)+0.05"
   ]
  },
  {
   "cell_type": "code",
   "execution_count": null,
   "metadata": {},
   "outputs": [],
   "source": [
    "\n",
    "mt.makePhiMotorMap('science02_20191023_phi.xml', '/data/SC02/20191023/phi', \n",
    "                   phiOnTime=phiOntime, repeat = 1, fast=False)"
   ]
  },
  {
   "cell_type": "code",
   "execution_count": null,
   "metadata": {},
   "outputs": [],
   "source": [
    "broken=[]\n",
    "path='/data/SC02/20191023/phi/'\n",
    "vis = visDianosticPlot.VisDianosticPlot(path, brokens=broken, camSplit=28)\n",
    "vis.visPlotGeometry(arm='phi')"
   ]
  },
  {
   "cell_type": "code",
   "execution_count": null,
   "metadata": {
    "scrolled": true
   },
   "outputs": [],
   "source": [
    "\n",
    "fpgaHost = '128.149.77.24'\n",
    "brokens=[]\n",
    "arm='phi'\n",
    "dataPath= '/data/SC02/20191023/'\n",
    "xml ='/data/SC02/20191023/phi/science02_20191023_phi.xml'\n",
    "\n",
    "ontimeOptimize.exploreModuleOntime(fpgaHost=fpgaHost,dataPath = dataPath,brokens=brokens,\n",
    "            arm=arm,camSplit=28, iteration=4, XML=xml)"
   ]
  },
  {
   "cell_type": "code",
   "execution_count": null,
   "metadata": {},
   "outputs": [],
   "source": [
    "brokens=[]\n",
    "\n",
    "data = ['/data/SC02/20191023/run0/',\n",
    "        '/data/SC02/20191023/run1/',\n",
    "        '/data/SC02/20191023/run2/',\n",
    "        '/data/SC02/20191023/run3/']\n",
    "otm=ontimeOptimize.OntimeOptimize(brokens=brokens, phiList=data)"
   ]
  },
  {
   "cell_type": "code",
   "execution_count": null,
   "metadata": {},
   "outputs": [],
   "source": [
    "otm.pickForSlowSpeed()\n",
    "otm.visMaps('Fwd',filename='/data/SC02/20191023/phiOnTimeFwd_20191119.html',\n",
    "            pngfile='/data/SC02/20191023/phiOnTimeFwd_20191119.png',predict=False)\n",
    "otm.visMaps('Rev',filename='/data/SC02/20191023/phiOnTimeRev_20191119.html',\n",
    "            pngfile='/data/SC02/20191023/phiOnTimeRev_20191119.png',predict=False)"
   ]
  },
  {
   "cell_type": "code",
   "execution_count": null,
   "metadata": {
    "scrolled": true
   },
   "outputs": [],
   "source": [
    "otm.dataframe.loc[otm.dataframe['fiberNo'] == 14]"
   ]
  },
  {
   "cell_type": "code",
   "execution_count": null,
   "metadata": {},
   "outputs": [],
   "source": [
    "otm.slope_rev"
   ]
  },
  {
   "cell_type": "code",
   "execution_count": null,
   "metadata": {},
   "outputs": [],
   "source": [
    "initXML = '/data/SC02/20191023/run3/phi_run3.xml'\n",
    "newXML = '/data/SC02/20191023/science02_phi_20191023.xml'\n",
    "otm.updateXML(initXML,newXML, solve= False)"
   ]
  },
  {
   "cell_type": "markdown",
   "metadata": {},
   "source": [
    "# Plot motor maps"
   ]
  },
  {
   "cell_type": "code",
   "execution_count": null,
   "metadata": {},
   "outputs": [],
   "source": [
    "reload(visDianosticPlot)\n",
    "brokens=[]\n",
    "path='/data/SC02/20191023/phi50Step-0/'\n",
    "figpath = '/data/SC02/20191106/testplots/'\n",
    "vis = visDianosticPlot.VisDianosticPlot(path, brokens=brokens, camSplit=28)\n",
    "vis.visCobraMotorMap(stepsize=50, figPath=figpath, arm='phi',pdffile='/data/SC02/20191106/test.pdf')"
   ]
  },
  {
   "cell_type": "markdown",
   "metadata": {},
   "source": [
    "# Run motor maps with 100 time cycle."
   ]
  },
  {
   "cell_type": "code",
   "execution_count": null,
   "metadata": {
    "scrolled": true
   },
   "outputs": [],
   "source": [
    "datapath = '/data/SC02/20191105/'\n",
    "xml = '/data/SC02/20191023/science02_phi_20191023.xml'\n",
    "arm = 'phi'\n",
    "brokens = []\n",
    "\n",
    "for runs in range(5):\n",
    "    path= datapath+f'{arm}50Step-{runs}/'\n",
    "    figpath = datapath+f'{arm}50StepRun{runs}MotorMap/'\n",
    "    if not (os.path.exists(path)):\n",
    "            os.mkdir(path)\n",
    "    if not (os.path.exists(figpath)):\n",
    "            os.mkdir(figpath)  \n",
    "    mt = ModuleTest('128.149.77.24', xml,brokens=brokens,camSplit=28)\n",
    "    vis = visDianosticPlot.VisDianosticPlot(path, brokens=brokens, camSplit=28)\n",
    "    pfi = mt.pfi\n",
    "    \n",
    "    if arm is 'phi':\n",
    "        pfi.moveAllSteps(mt.allCobras, 0, -5000)\n",
    "        pfi.moveAllSteps(mt.allCobras, 0, -1000)\n",
    "                \n",
    "    output = f'science02_{arm}_50Step-run{runs}.xml'\n",
    "    \n",
    "    print(path)\n",
    "    \n",
    "    mt.makePhiMotorMap(output, path, \n",
    "                repeat = 3, steps = 50, fast=False,totalSteps = 6000)\n",
    "    vis.visCobraMotorMap(stepsize=50, figpath=figpath, arm=f'{arm}')\n",
    "\n",
    "    for i in range(100):\n",
    "        pfi.moveAllSteps(mt.allCobras, 0, 5000)\n",
    "        pfi.moveAllSteps(mt.allCobras, 0, 1000)\n",
    "\n",
    "        pfi.moveAllSteps(mt.allCobras, 0, -5000)\n",
    "        pfi.moveAllSteps(mt.allCobras, 0, -1000)\n",
    "            \n",
    "    del(mt)\n",
    "    del(vis)    "
   ]
  },
  {
   "cell_type": "code",
   "execution_count": null,
   "metadata": {},
   "outputs": [],
   "source": [
    "from importlib import reload\n",
    "import moduleTest\n",
    "reload(moduleTest)"
   ]
  },
  {
   "cell_type": "code",
   "execution_count": null,
   "metadata": {},
   "outputs": [],
   "source": [
    "module = 'science01'\n",
    "xml = '/data/SC02/20191023/science02_phi_50Step-run4.xml'\n",
    "brokens=[]\n",
    "datapath= '/data/SC02/20191008/'\n",
    "moduleTest.runMotorMap(dataPath=datapath, arm='phi', brokens=brokens,xml=xml,module=module)"
   ]
  },
  {
   "cell_type": "code",
   "execution_count": null,
   "metadata": {
    "scrolled": true
   },
   "outputs": [],
   "source": [
    "broken=[]\n",
    "mt = ModuleTest('128.149.77.24', \n",
    "                '/data/SC02/20191105/phi50Step-4/science02_phi_50Step-run4.xml', \n",
    "                brokens=broken,camSplit=28)\n",
    "pfi = mt.pfi\n",
    "pfi.moveAllSteps(mt.allCobras, 0, -5000)\n",
    "pfi.moveAllSteps(mt.allCobras, 0, -1000)\n",
    "\n",
    "dataPath = '/data/SC02/20191110/phiConvergeTest/'                                                                              \n",
    "mt.phiConvergenceTest(dataPath, margin=15.0, runs=50, tries=8, fast=False)"
   ]
  },
  {
   "cell_type": "code",
   "execution_count": null,
   "metadata": {
    "scrolled": true
   },
   "outputs": [],
   "source": [
    "dataPath = '/data/SC02/20191110/phiConvergeTest/'\n",
    "vis = visDianosticPlot.VisDianosticPlot(dataPath, brokens=broken, camSplit=28)\n",
    "vis.visConverge(figPath='/data/SC02/20191110/phiConvergeTest/',\n",
    "                arm='phi',pdffile='/data/SC02/20191110/phiConvergeTest/phiConverge.pdf')"
   ]
  },
  {
   "cell_type": "code",
   "execution_count": null,
   "metadata": {},
   "outputs": [],
   "source": [
    "broken=[]\n",
    "dataPath = '/data/SC02/20191023/phiConvergeTest/'\n",
    "\n",
    "vis = visDianosticPlot.VisDianosticPlot(dataPath, brokens=broken, camSplit=28)\n",
    "\n",
    "xmllist = ['/data/SC02/20191023/phi50Step-0/science02_phi_50Step-run0.xml',\n",
    "           '/data/SC02/20191023/phi50Step-1/science02_phi_50Step-run1.xml',\n",
    "           '/data/SC02/20191023/phi50Step-2/science02_phi_50Step-run2.xml',\n",
    "           '/data/SC02/20191023/phi50Step-3/science02_phi_50Step-run3.xml',\n",
    "           '/data/SC02/20191023/phi50Step-4/science02_phi_50Step-run4.xml']\n",
    "vis.visMultiMotorMapfromXML(xmllist, figPath='/data/SC02/20191024/phiAllMaps/'b, \n",
    "                            arm='phi', pdffile='/data/SC02/20191024/phiAllMaps.pdf')"
   ]
  },
  {
   "cell_type": "code",
   "execution_count": null,
   "metadata": {},
   "outputs": [],
   "source": [
    "broken=[]\n",
    "dataPath = '/data/SC02/20191031/'\n",
    "\n",
    "vis = visDianosticPlot.VisDianosticPlot(dataPath, brokens=broken, camSplit=28)\n",
    "\n",
    "xmllist = ['/data/SC02/20191031/phi50Step-0/science02_phi_50Step-run0.xml',\n",
    "           '/data/SC02/20191031/phi50Step-1/science02_phi_50Step-run1.xml',\n",
    "           '/data/SC02/20191031/phi50Step-2/science02_phi_50Step-run2.xml',\n",
    "           '/data/SC02/20191031/phi50Step-3/science02_phi_50Step-run3.xml',\n",
    "           '/data/SC02/20191031/phi50Step-4/science02_phi_50Step-run4.xml']\n",
    "vis.visMultiMotorMapfromXML(xmllist, figPath='/data/SC02/20191031/phiAllMaps/', \n",
    "                            arm='phi', pdffile='/data/SC02/20191031/phiAllMaps1031.pdf')"
   ]
  },
  {
   "cell_type": "markdown",
   "metadata": {},
   "source": [
    "# Theta Testing"
   ]
  },
  {
   "cell_type": "code",
   "execution_count": null,
   "metadata": {},
   "outputs": [],
   "source": [
    "broken=[]\n",
    "mt = ModuleTest('128.149.77.24', \n",
    "                '/data/SC02/20191023/phi50Step-4/science02_phi_50Step-run4.xml', \n",
    "                brokens=broken,camSplit=28)\n",
    "pfi = mt.pfi"
   ]
  },
  {
   "cell_type": "code",
   "execution_count": null,
   "metadata": {},
   "outputs": [],
   "source": [
    "broken=[]\n",
    "path='/data/SC02/20191024/theta/'\n",
    "vis = visDianosticPlot.VisDianosticPlot(path, brokens=broken, camSplit=28)\n",
    "vis.visPlotGeometry(arm='theta')"
   ]
  },
  {
   "cell_type": "code",
   "execution_count": null,
   "metadata": {},
   "outputs": [],
   "source": [
    "thetaOntime = np.zeros(57)+0.08\n",
    "pfi.moveAllSteps(mt.allCobras, -10000, 0)\n",
    "pfi.moveAllSteps(mt.allCobras, -2000, 0)\n",
    "mt.makeThetaMotorMap('science01_20191024_theta.xml', '/data/SC02/20191024/theta/', \n",
    "                   thetaOnTime=thetaOntime, repeat = 1, fast=False, totalSteps = 12000)"
   ]
  },
  {
   "cell_type": "code",
   "execution_count": null,
   "metadata": {},
   "outputs": [],
   "source": [
    "\n",
    "fpgaHost = '128.149.77.24'\n",
    "brokens=[]\n",
    "arm='theta'\n",
    "dataPath= '/data/SC02/20191024/'\n",
    "xml ='/data/SC02/20191023/phi50Step-4/science02_phi_50Step-run4.xml'\n",
    "\n",
    "ontimeOptimize.exploreModuleOntime(fpgaHost=fpgaHost,dataPath = dataPath,brokens=brokens,\n",
    "            arm=arm,camSplit=28, iteration=5, XML=xml)"
   ]
  },
  {
   "cell_type": "code",
   "execution_count": null,
   "metadata": {},
   "outputs": [],
   "source": [
    "brokens=[]\n",
    "\n",
    "data = ['/data/SC02/20191024/run0/',\n",
    "        '/data/SC02/20191024/run1/',\n",
    "        '/data/SC02/20191024/run2/',\n",
    "        '/data/SC02/20191024/run3/',\n",
    "        '/data/SC02/20191024/run4/']\n",
    "otm=ontimeOptimize.OntimeOptimize(brokens=brokens, thetaList=data)"
   ]
  },
  {
   "cell_type": "code",
   "execution_count": null,
   "metadata": {},
   "outputs": [],
   "source": [
    "otm.pickForSlowSpeed()"
   ]
  },
  {
   "cell_type": "code",
   "execution_count": null,
   "metadata": {},
   "outputs": [],
   "source": [
    "otm.dataframe.loc[otm.dataframe['fiberNo'] == ]"
   ]
  },
  {
   "cell_type": "code",
   "execution_count": null,
   "metadata": {
    "scrolled": true
   },
   "outputs": [],
   "source": [
    "initXML = '/data/SC02/20191024/run4/theta_run4.xml'\n",
    "newXML = '/data/SC02/20191024/science02_theta_20191024.xml'\n",
    "otm.updateXML(initXML,newXML, solve= False)"
   ]
  },
  {
   "cell_type": "code",
   "execution_count": null,
   "metadata": {},
   "outputs": [],
   "source": [
    "datapath = '/data/SC02/20191106/'\n",
    "xml = '/data/SC02/20191024/science02_theta_20191024.xml'\n",
    "arm = 'theta'\n",
    "brokens = []\n",
    "\n",
    "for runs in range(5):\n",
    "    path= datapath+f'{arm}50Step-{runs}/'\n",
    "    figpath = datapath+f'{arm}50StepRun{runs}MotorMap/'\n",
    "    if not (os.path.exists(path)):\n",
    "            os.mkdir(path)\n",
    "    if not (os.path.exists(figpath)):\n",
    "            os.mkdir(figpath)  \n",
    "    mt = ModuleTest('128.149.77.24', xml,brokens=brokens,camSplit=28)\n",
    "    vis = visDianosticPlot.VisDianosticPlot(path, brokens=brokens, camSplit=28)\n",
    "    pfi = mt.pfi\n",
    "    \n",
    "    if arm is 'phi':\n",
    "        pfi.moveAllSteps(mt.allCobras, 0, -5000)\n",
    "        pfi.moveAllSteps(mt.allCobras, 0, -1000)\n",
    "    if arm is 'theta':\n",
    "        pfi.moveAllSteps(mt.allCobras, -10000, 0)\n",
    "        pfi.moveAllSteps(mt.allCobras, -2000, 0)\n",
    "                \n",
    "    output = f'science02_{arm}_50Step-run{runs}.xml'\n",
    "    \n",
    "    print(path)\n",
    "    \n",
    "    mt.makeThetaMotorMap(output, path, \n",
    "                repeat = 3, steps = 50, fast=False,totalSteps = 12000)\n",
    "    vis.visCobraMotorMap(stepsize=50, figpath=figpath, arm=f'{arm}')\n",
    "\n",
    "    for i in range(100):\n",
    "        pfi.moveAllSteps(mt.allCobras, 10000, 0)\n",
    "        pfi.moveAllSteps(mt.allCobras, 2000, 0)\n",
    "\n",
    "        pfi.moveAllSteps(mt.allCobras, -10000, 0)\n",
    "        pfi.moveAllSteps(mt.allCobras, -2000, 0)\n",
    "            \n",
    "    del(mt)\n",
    "    del(vis)    "
   ]
  },
  {
   "cell_type": "code",
   "execution_count": null,
   "metadata": {},
   "outputs": [],
   "source": [
    "import moduleTest\n",
    "module = 'science01'\n",
    "xml = '/data/SC01/20191014/science01_theta_20191014.xml'\n",
    "brokens=[]\n",
    "datapath= '/data/SC01/20191014/'\n",
    "moduleTest.runMotorMap(dataPath=datapath, arm='theta', brokens=brokens,xml=xml,module=module)"
   ]
  },
  {
   "cell_type": "code",
   "execution_count": null,
   "metadata": {},
   "outputs": [],
   "source": [
    "\n",
    "broken=[]\n",
    "mt = ModuleTest('128.149.77.24', \n",
    "                '/data/SC02/20191024/theta50Step-4/science02_theta_50Step-run4.xml', \n",
    "                brokens=broken,camSplit=28)\n",
    "pfi = mt.pfi\n",
    "pfi.moveAllSteps(mt.allCobras, -10000, 0)\n",
    "pfi.moveAllSteps(mt.allCobras, -2000, 0)"
   ]
  },
  {
   "cell_type": "code",
   "execution_count": null,
   "metadata": {
    "scrolled": true
   },
   "outputs": [],
   "source": [
    "dataPath = '/data/SC02/20191024/thetaConvergeTest/'\n",
    "mt.thetaConvergenceTest(dataPath, margin=15.0, runs=50, tries=8, fast=False)"
   ]
  },
  {
   "cell_type": "code",
   "execution_count": null,
   "metadata": {},
   "outputs": [],
   "source": [
    "broken=[]\n",
    "dataPath = '/data/SC02/20191024/thetaConvergeTest/'\n",
    "\n",
    "vis = visDianosticPlot.VisDianosticPlot(dataPath, brokens=broken, camSplit=28)\n",
    "vis.visConverge(figPath='/data/SC02/20191024/thetaConvergeTest/',arm='theta',pdffile= '/data/SC02/20191024/thetaConvergeTest/thetaConvergeTest.pdf')"
   ]
  },
  {
   "cell_type": "code",
   "execution_count": null,
   "metadata": {},
   "outputs": [],
   "source": [
    "broken=[]\n",
    "dataPath = '/data/SC02/20191024/thetaConvergeTest/'\n",
    "\n",
    "vis = visDianosticPlot.VisDianosticPlot(dataPath, brokens=broken, camSplit=28)\n",
    "\n",
    "xmllist = ['/data/SC02/20191024/theta50Step-0/science02_theta_50Step-run0.xml',\n",
    "           '/data/SC02/20191024/theta50Step-1/science02_theta_50Step-run1.xml',\n",
    "           '/data/SC02/20191024/theta50Step-2/science02_theta_50Step-run2.xml',\n",
    "           '/data/SC02/20191024/theta50Step-3/science02_theta_50Step-run3.xml',\n",
    "           '/data/SC02/20191024/theta50Step-4/science02_theta_50Step-run4.xml']\n",
    "vis.visMultiMotorMapfromXML(xmllist, figPath='/data/SC02/20191024/thetaAllMaps/', \n",
    "                            arm='theta', pdffile='/data/SC02/20191024/thetaAllMaps.pdf')"
   ]
  },
  {
   "cell_type": "markdown",
   "metadata": {},
   "source": [
    "# On-time plot "
   ]
  },
  {
   "cell_type": "code",
   "execution_count": null,
   "metadata": {},
   "outputs": [],
   "source": [
    "import ontimeOptimize\n",
    "\n",
    "brokens=[]\n",
    "\n",
    "data = ['/data/SC02/20191024/run0/',\n",
    "        '/data/SC02/20191024/run1/',\n",
    "        '/data/SC02/20191024/run2/',\n",
    "        '/data/SC02/20191024/run3/',\n",
    "        '/data/SC02/20191024/run4/']\n",
    "otm=ontimeOptimize.OntimeOptimize(brokens=brokens, thetaList=data)"
   ]
  },
  {
   "cell_type": "code",
   "execution_count": null,
   "metadata": {},
   "outputs": [],
   "source": [
    "otm.pickForSlowSpeed()"
   ]
  },
  {
   "cell_type": "code",
   "execution_count": null,
   "metadata": {},
   "outputs": [],
   "source": [
    "otm.visMaps('Fwd',filename='/data/SC02/20191024/thetaOnTimeFwd_20191119.html',\n",
    "            pngfile='/data/SC02/20191024/thetaOnTimeFwd_20191119.png',predict=False)\n",
    "otm.visMaps('Rev',filename='/data/SC02/20191024/thetaOnTimeRev_20191119.html',\n",
    "            pngfile='/data/SC02/20191024/thetaOnTimeRev_20191119.png',predict=False)"
   ]
  },
  {
   "cell_type": "code",
   "execution_count": null,
   "metadata": {},
   "outputs": [],
   "source": [
    "otm.dataframe.loc[otm.dataframe['fiberNo']==1]"
   ]
  },
  {
   "cell_type": "code",
   "execution_count": null,
   "metadata": {},
   "outputs": [],
   "source": [
    "brokens=[]\n",
    "\n",
    "data = ['/data/SC02/20191023/run0/',\n",
    "        '/data/SC02/20191023/run1/',\n",
    "        '/data/SC02/20191023/run2/',\n",
    "        '/data/SC02/20191023/run3/']\n",
    "otm=ontimeOptimize.OntimeOptimize(brokens=brokens, phiList=data)\n",
    "otm.pickForSlowSpeed()\n",
    "otm.visMaps('Fwd',filename='/data/SC02/20191024/phiOnTimeFwd.html',\n",
    "            pngfile='/data/SC02/20191024/phiOnTimeFwd.png',predict=False)\n",
    "otm.visMaps('Rev',filename='/data/SC02/20191024/phiOnTimeRev.html',\n",
    "            pngfile='/data/SC02/20191024/phiOnTimeRev.png',predict=False)"
   ]
  },
  {
   "cell_type": "markdown",
   "metadata": {},
   "source": [
    "# Run Theta again 20191028"
   ]
  },
  {
   "cell_type": "code",
   "execution_count": null,
   "metadata": {},
   "outputs": [],
   "source": [
    "datapath = '/data/SC02/20191113/'\n",
    "xml = '/data/SC02/20191024/science02_theta_20191024.xml'\n",
    "arm = 'theta'\n",
    "brokens = []\n",
    "\n",
    "for runs in range(5):\n",
    "    path= datapath+f'{arm}50Step-{runs}/'\n",
    "    figpath = datapath+f'{arm}50StepRun{runs}MotorMap/'\n",
    "    if not (os.path.exists(path)):\n",
    "            os.mkdir(path)\n",
    "    if not (os.path.exists(figpath)):\n",
    "            os.mkdir(figpath)  \n",
    "    mt = ModuleTest('128.149.77.24', xml,brokens=brokens,camSplit=28)\n",
    "    vis = visDianosticPlot.VisDianosticPlot(path, brokens=brokens, camSplit=28)\n",
    "    pfi = mt.pfi\n",
    "    \n",
    "    if arm is 'phi':\n",
    "        pfi.moveAllSteps(mt.allCobras, 0, -5000)\n",
    "        pfi.moveAllSteps(mt.allCobras, 0, -1000)\n",
    "    if arm is 'theta':\n",
    "        pfi.moveAllSteps(mt.allCobras, -10000, 0)\n",
    "        pfi.moveAllSteps(mt.allCobras, -2000, 0)\n",
    "                \n",
    "    output = f'science02_{arm}_50Step-run{runs}.xml'\n",
    "    \n",
    "    print(path)\n",
    "    \n",
    "    mt.makeThetaMotorMap(output, path, \n",
    "                repeat = 3, steps = 50, fast=False,totalSteps = 12000)\n",
    "    vis.visCobraMotorMap(stepsize=50, figPath=figpath, arm=f'{arm}')\n",
    "\n",
    "    for i in range(100):\n",
    "        pfi.moveAllSteps(mt.allCobras, 10000, 0)\n",
    "        pfi.moveAllSteps(mt.allCobras, 2000, 0)\n",
    "\n",
    "        pfi.moveAllSteps(mt.allCobras, -10000, 0)\n",
    "        pfi.moveAllSteps(mt.allCobras, -2000, 0)\n",
    "            \n",
    "    del(mt)\n",
    "    del(vis)    "
   ]
  },
  {
   "cell_type": "code",
   "execution_count": null,
   "metadata": {},
   "outputs": [],
   "source": [
    "broken=[]\n",
    "dataPath = '/data/SC02/20191024/thetaConvergeTest/'\n",
    "\n",
    "vis = visDianosticPlot.VisDianosticPlot(dataPath, brokens=broken, camSplit=28)\n",
    "\n",
    "xmllist = ['/data/SC02/20191024/theta50Step-0/science02_theta_50Step-run0.xml',\n",
    "           '/data/SC02/20191024/theta50Step-1/science02_theta_50Step-run1.xml',\n",
    "           '/data/SC02/20191024/theta50Step-2/science02_theta_50Step-run2.xml',\n",
    "           '/data/SC02/20191024/theta50Step-3/science02_theta_50Step-run3.xml',\n",
    "           '/data/SC02/20191024/theta50Step-4/science02_theta_50Step-run4.xml',\n",
    "           '/data/SC02/20191028/theta50Step-0/science02_theta_50Step-run0.xml',\n",
    "           '/data/SC02/20191028/theta50Step-1/science02_theta_50Step-run1.xml',\n",
    "           '/data/SC02/20191028/theta50Step-2/science02_theta_50Step-run2.xml',\n",
    "           '/data/SC02/20191028/theta50Step-3/science02_theta_50Step-run3.xml',\n",
    "           '/data/SC02/20191028/theta50Step-4/science02_theta_50Step-run4.xml']\n",
    "vis.visMultiMotorMapfromXML(xmllist, figPath='/data/SC02/20191028/thetaAllMapsTwoDate/', \n",
    "                            arm='theta', pdffile='/data/SC02/20191028/thetaAllMapsTwoDate.pdf')"
   ]
  },
  {
   "cell_type": "markdown",
   "metadata": {},
   "source": [
    "# Moving phi 60 deg"
   ]
  },
  {
   "cell_type": "code",
   "execution_count": null,
   "metadata": {},
   "outputs": [],
   "source": [
    "from moduleTest import ModuleTest\n",
    "import numpy as np\n",
    "from ics.cobraCharmer import pfi as pfiControl\n",
    "from ics.cobraCharmer import pfiDesign\n",
    "import ontimeOptimize\n",
    "import visDianosticPlot\n",
    "import os\n",
    "from importlib import reload \n",
    "import matplotlib.pyplot as plt"
   ]
  },
  {
   "cell_type": "code",
   "execution_count": null,
   "metadata": {
    "scrolled": true
   },
   "outputs": [],
   "source": [
    "broken=[]\n",
    "mt = ModuleTest('128.149.77.24', \n",
    "                '/data/SC02/20191105/phi50Step-4/science02_phi_50Step-run4.xml', \n",
    "                brokens=broken,camSplit=28)\n",
    "pfi = mt.pfi\n",
    "pfi.moveAllSteps(mt.allCobras, 0, -5000)\n",
    "pfi.moveAllSteps(mt.allCobras, 0, -1000)\n",
    "dataPath = '/data/SC02/20191110/phi60deg/'\n",
    "\n"
   ]
  },
  {
   "cell_type": "code",
   "execution_count": null,
   "metadata": {},
   "outputs": [],
   "source": [
    "mt.phiCenter"
   ]
  },
  {
   "cell_type": "code",
   "execution_count": null,
   "metadata": {},
   "outputs": [],
   "source": [
    "mt.movePhiAngle(dataPath)"
   ]
  },
  {
   "cell_type": "code",
   "execution_count": null,
   "metadata": {
    "scrolled": false
   },
   "outputs": [],
   "source": [
    "phiPath =  '/data/SC02/20191110/phi60deg/'\n",
    "phiData = np.load(phiPath+'phiData.npy')\n",
    "\n",
    "brokens = []\n",
    "badIdx = np.array(brokens) - 1\n",
    "goodIdx = np.array([e for e in range(57) if e not in badIdx])\n",
    "\n",
    "angle = 60\n",
    "x = np.arange(9)\n",
    "plt.figure(1)\n",
    "plt.clf()\n",
    "for cob in goodIdx:\n",
    "    for ite in range(1):\n",
    "        plt.plot(x, np.rad2deg(np.append([0], phiData[cob,ite,:,0])), marker='o', linewidth=2)\n",
    "#plt.ylim(angle- 10, angle+10)"
   ]
  },
  {
   "cell_type": "code",
   "execution_count": null,
   "metadata": {
    "scrolled": true
   },
   "outputs": [],
   "source": [
    "np.mean(60-np.rad2deg(phiData[:,0,-1,0]))"
   ]
  },
  {
   "cell_type": "code",
   "execution_count": null,
   "metadata": {
    "scrolled": true
   },
   "outputs": [],
   "source": [
    "100-np.rad2deg(phiData[27,0,-1,0])"
   ]
  },
  {
   "cell_type": "code",
   "execution_count": null,
   "metadata": {},
   "outputs": [],
   "source": [
    "np.rad2deg(phiData[:,0,0,0])"
   ]
  },
  {
   "cell_type": "markdown",
   "metadata": {},
   "source": [
    "# Plot Chi-Yi's convergence test"
   ]
  },
  {
   "cell_type": "code",
   "execution_count": null,
   "metadata": {},
   "outputs": [],
   "source": [
    "dirList=['20191120_009', '20191120_010', '20191120_011', '20191120_012', '20191120_013']\n",
    "\n",
    "for path in dirList:\n",
    "    broken=[]\n",
    "    dataPath = f'/data/MCS/{path}/data/'\n",
    "\n",
    "    vis = visDianosticPlot.VisDianosticPlot(dataPath, brokens=broken, camSplit=28)\n",
    "    vis.visConverge(figPath=f'/data/SC29/20191125/{path}/',runs = 16,\n",
    "                    arm='phi',pdffile= f'/data/SC29/20191125/{path}_phi.pdf')\n",
    "    del(vis)"
   ]
  },
  {
   "cell_type": "code",
   "execution_count": null,
   "metadata": {},
   "outputs": [],
   "source": [
    "dirList = ['20191121_012', '20191121_013', '20191121_014', '20191121_015', '20191121_016']\n",
    "for path in dirList:\n",
    "    broken=[]\n",
    "    dataPath = f'/data/MCS/{path}/data/'\n",
    "\n",
    "    vis = visDianosticPlot.VisDianosticPlot(dataPath, brokens=broken, camSplit=28)\n",
    "    vis.visConverge(figPath=f'/data/SC29/20191125/{path}/',runs = 34,\n",
    "                    arm='theta',pdffile= f'/data/SC29/20191125/{path}_theta.pdf')\n",
    "    del(vis)\n"
   ]
  },
  {
   "cell_type": "code",
   "execution_count": null,
   "metadata": {},
   "outputs": [],
   "source": []
  }
 ],
 "metadata": {
  "kernelspec": {
   "display_name": "Python 3",
   "language": "python",
   "name": "python3"
  },
  "language_info": {
   "codemirror_mode": {
    "name": "ipython",
    "version": 3
   },
   "file_extension": ".py",
   "mimetype": "text/x-python",
   "name": "python",
   "nbconvert_exporter": "python",
   "pygments_lexer": "ipython3",
   "version": "3.7.3"
  }
 },
 "nbformat": 4,
 "nbformat_minor": 2
}
