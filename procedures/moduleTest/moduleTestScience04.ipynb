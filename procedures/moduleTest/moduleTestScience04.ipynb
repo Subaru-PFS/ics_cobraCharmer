{
 "cells": [
  {
   "cell_type": "code",
   "execution_count": null,
   "metadata": {},
   "outputs": [],
   "source": [
    "from moduleTest import ModuleTest\n",
    "import numpy as np\n",
    "from ics.cobraCharmer import pfi as pfiControl\n",
    "from ics.cobraCharmer import pfiDesign\n",
    "import visDianosticPlot\n",
    "import os\n",
    "from importlib import reload \n",
    "import matplotlib.pyplot as plt\n",
    "import pathlib"
   ]
  },
  {
   "cell_type": "code",
   "execution_count": null,
   "metadata": {},
   "outputs": [],
   "source": [
    "xml = pathlib.Path('/data/SC04/xml/SC04_thetaFinal.xml')"
   ]
  },
  {
   "cell_type": "code",
   "execution_count": null,
   "metadata": {},
   "outputs": [],
   "source": [
    "brokens = []\n",
    "mt = ModuleTest('fpga', xml, brokens=brokens)\n",
    "mt._connect()"
   ]
  },
  {
   "cell_type": "code",
   "execution_count": null,
   "metadata": {
    "scrolled": true
   },
   "outputs": [],
   "source": [
    "mt.convertXML('/data/SC04/science04_converted.xml')"
   ]
  },
  {
   "cell_type": "code",
   "execution_count": null,
   "metadata": {},
   "outputs": [],
   "source": [
    "\n",
    "xml = pathlib.Path('/data/SC04/science04_converted.xml')\n",
    "brokens = []\n",
    "mt = ModuleTest('fpga', xml, brokens=brokens)\n",
    "mt._connect()"
   ]
  },
  {
   "cell_type": "code",
   "execution_count": null,
   "metadata": {
    "scrolled": true
   },
   "outputs": [],
   "source": [
    "runDir = mt.makePhiMotorMap('SC04_phi_250.xml', steps=250, repeat=3, totalSteps=6000)"
   ]
  },
  {
   "cell_type": "code",
   "execution_count": null,
   "metadata": {
    "scrolled": false
   },
   "outputs": [],
   "source": [
    "broken=[]\n",
    "path=f'{runDir}/data/'\n",
    "vis = visDianosticPlot.VisDianosticPlot(path, brokens=broken, camSplit=28)\n",
    "vis.visPlotGeometry(arm='phi')"
   ]
  },
  {
   "cell_type": "code",
   "execution_count": null,
   "metadata": {},
   "outputs": [],
   "source": [
    "vis.visPlotFiberDot(arm='phi')"
   ]
  },
  {
   "cell_type": "markdown",
   "metadata": {},
   "source": [
    "# Phi on-time optimize"
   ]
  },
  {
   "cell_type": "code",
   "execution_count": null,
   "metadata": {
    "scrolled": true
   },
   "outputs": [],
   "source": [
    "import ontimeOptimize\n",
    "import pathlib\n",
    "\n",
    "\n",
    "brokens=[22]\n",
    "arm='phi'\n",
    "xml =pathlib.Path('/data/MCS/20191212_041/output/SC04_phi_250.xml')\n",
    "ontimeOptimize.exploreModuleOntime(brokens=brokens,\n",
    "            arm=arm, iteration=4, XML=xml)"
   ]
  },
  {
   "cell_type": "markdown",
   "metadata": {},
   "source": [
    "# Phi Motor Map"
   ]
  },
  {
   "cell_type": "code",
   "execution_count": null,
   "metadata": {},
   "outputs": [],
   "source": [
    "xml = pathlib.Path('/data/MCS/20191212_094/output/phi_250step.xml')\n",
    "broken=[22]\n",
    "\n",
    "mt = ModuleTest('fpga', xml, brokens=broken)\n",
    "mt._connect()"
   ]
  },
  {
   "cell_type": "code",
   "execution_count": null,
   "metadata": {
    "scrolled": true
   },
   "outputs": [],
   "source": [
    "mt.makePhiMotorMap('SC04_phi_250.xml', steps=250, repeat=5, totalSteps=6000, fromHome=True)"
   ]
  },
  {
   "cell_type": "markdown",
   "metadata": {},
   "source": [
    "# Phi Target Convergence"
   ]
  },
  {
   "cell_type": "code",
   "execution_count": null,
   "metadata": {},
   "outputs": [],
   "source": [
    "xml = pathlib.Path('/data/MCS/20191212_098/output/SC04_phi_250.xml')\n",
    "broken=[22]\n",
    "\n",
    "mt = ModuleTest('fpga', xml, brokens=broken)\n",
    "mt._connect()\n",
    "\n",
    "#for scale in [1.2, 2.0, 3.0, 5.0, 8.0]:\n",
    "mt.phiConvergenceTest(margin=15.0, runs=16, tries=8, \n",
    "                        fast=False, finalAngle=None, scaleFactor=3.0, tolerance=0.1)"
   ]
  },
  {
   "cell_type": "code",
   "execution_count": null,
   "metadata": {},
   "outputs": [],
   "source": [
    "\n",
    "vis = visDianosticPlot.VisDianosticPlot('/data/MCS/20191212_100/data/', brokens=broken, camSplit=28)\n",
    "vis.visConverge(figPath=f'/data/MCS/20191212_100/output/',runs = 16,\n",
    "                    arm='phi',pdffile= f'/data/MCS/20191212_100/output/converge_phi.pdf')"
   ]
  },
  {
   "cell_type": "markdown",
   "metadata": {},
   "source": [
    "# Move to 60 degree"
   ]
  },
  {
   "cell_type": "code",
   "execution_count": null,
   "metadata": {},
   "outputs": [],
   "source": [
    "\n",
    "xml = pathlib.Path('/data/MCS/20191212_098/output/SC04_phi_250.xml')\n",
    "broken=[22]\n",
    "\n",
    "mt = ModuleTest('fpga', xml, brokens=broken)\n",
    "mt._connect()\n",
    "\n"
   ]
  },
  {
   "cell_type": "code",
   "execution_count": null,
   "metadata": {},
   "outputs": [],
   "source": [
    "mt.setPhiGeometryFromRun(pathlib.Path('/data/MCS/20191212_098'), onlyIfClear=False)"
   ]
  },
  {
   "cell_type": "code",
   "execution_count": null,
   "metadata": {},
   "outputs": [],
   "source": [
    "\n",
    "mt.moveToPhiAngle(angle=60.0, keepExistingPosition=False)\n"
   ]
  },
  {
   "cell_type": "markdown",
   "metadata": {},
   "source": [
    "# Theta ROM"
   ]
  },
  {
   "cell_type": "code",
   "execution_count": null,
   "metadata": {
    "scrolled": true
   },
   "outputs": [],
   "source": [
    "mt.makeThetaMotorMap('SC04_theta_250.xml', steps=250, repeat=3, totalSteps=12000)"
   ]
  },
  {
   "cell_type": "code",
   "execution_count": null,
   "metadata": {
    "scrolled": true
   },
   "outputs": [],
   "source": [
    "broken=[22]\n",
    "path=f'/data/MCS/20191212_109/data/'\n",
    "vis = visDianosticPlot.VisDianosticPlot(path, brokens=broken, camSplit=28)\n",
    "vis.visPlotGeometry(arm='theta')"
   ]
  },
  {
   "cell_type": "code",
   "execution_count": null,
   "metadata": {
    "scrolled": true
   },
   "outputs": [],
   "source": [
    "vis.visPlotFiberDot(arm='theta')"
   ]
  },
  {
   "cell_type": "markdown",
   "metadata": {},
   "source": [
    "# Theta on-time "
   ]
  },
  {
   "cell_type": "code",
   "execution_count": null,
   "metadata": {
    "scrolled": false
   },
   "outputs": [],
   "source": [
    "import ontimeOptimize\n",
    "import pathlib\n",
    "\n",
    "brokens=[22]\n",
    "arm='theta'\n",
    "xml =pathlib.Path('/data/MCS/20191212_109/output/SC04_theta_250.xml')\n",
    "ontimeOptimize.exploreModuleOntime(brokens=brokens,\n",
    "            arm=arm, iteration=5, XML=xml,repeat=3)"
   ]
  },
  {
   "cell_type": "markdown",
   "metadata": {},
   "source": [
    "# Theta motor map "
   ]
  },
  {
   "cell_type": "code",
   "execution_count": null,
   "metadata": {
    "scrolled": true
   },
   "outputs": [],
   "source": [
    "brokens=[22]\n",
    "xml =pathlib.Path('/data/MCS/20191212_109/output/SC04_theta_250.xml')\n",
    "mt = ModuleTest('fpga', xml, brokens=brokens)\n",
    "\n",
    "runDir=mt.makeThetaMotorMap('SC04_theta_500.xml', steps=500, repeat=5, totalSteps=12000, fromHome=True)"
   ]
  },
  {
   "cell_type": "code",
   "execution_count": null,
   "metadata": {},
   "outputs": [],
   "source": [
    "runDir"
   ]
  },
  {
   "cell_type": "code",
   "execution_count": null,
   "metadata": {},
   "outputs": [],
   "source": [
    "\n",
    "brokens=[22]\n",
    "vis = visDianosticPlot.VisDianosticPlot(f'{runDir}/data/', brokens=brokens, camSplit=28)\n",
    "vis.visCobraMotorMap(stepsize=500, figPath=f'{runDir}/output/', arm='theta',\n",
    "                     pdffile='f{runDir}/output/theta_mm_500step.pdf')"
   ]
  },
  {
   "cell_type": "markdown",
   "metadata": {},
   "source": [
    "# theta converge"
   ]
  },
  {
   "cell_type": "code",
   "execution_count": null,
   "metadata": {},
   "outputs": [],
   "source": [
    "xml = pathlib.Path('/data/MCS/20191213_048/output/SC04_theta_500.xml')\n",
    "broken=[22]\n",
    "\n",
    "mt = ModuleTest('fpga', xml, brokens=broken)\n",
    "mt._connect()\n",
    "\n",
    "\n",
    "mt.setThetaGeometryFromRun(pathlib.Path('/data/MCS/20191213_048'), onlyIfClear=False)"
   ]
  },
  {
   "cell_type": "code",
   "execution_count": null,
   "metadata": {
    "scrolled": true
   },
   "outputs": [],
   "source": [
    "\n",
    "#for scale in [1.2, 2.0, 3.0, 5.0, 8.0]:\n",
    "mt.thetaConvergenceTest(margin=15.0, runs=34, tries=8, \n",
    "                        fast=False, scaleFactor=3.0, tolerance=0.2)"
   ]
  },
  {
   "cell_type": "code",
   "execution_count": null,
   "metadata": {},
   "outputs": [],
   "source": [
    "vis = visDianosticPlot.VisDianosticPlot('/data/MCS/20191213_052/data/', brokens=broken, camSplit=28)\n",
    "vis.visConverge(figPath=f'/data/MCS/20191213_052/output/',runs = 34,\n",
    "                    arm='theta',pdffile= f'/data/MCS/20191213_052/output/converge_phi.pdf')"
   ]
  },
  {
   "cell_type": "code",
   "execution_count": null,
   "metadata": {},
   "outputs": [],
   "source": [
    "xml = pathlib.Path('/data/MCS/20191213_048/output/SC04_theta_500.xml')\n",
    "broken=[]\n",
    "\n",
    "mt = ModuleTest('fpga', xml, brokens=broken)\n",
    "\n",
    "\n",
    "mt.gotoSafeFromPhi60(phiAngle=60.0, tolerance=1.0)"
   ]
  },
  {
   "cell_type": "code",
   "execution_count": null,
   "metadata": {},
   "outputs": [],
   "source": [
    "mt.pfi.moveAllSteps(mt.goodCobras, 0, -5000)"
   ]
  },
  {
   "cell_type": "code",
   "execution_count": null,
   "metadata": {},
   "outputs": [],
   "source": []
  }
 ],
 "metadata": {
  "kernelspec": {
   "display_name": "Python 3",
   "language": "python",
   "name": "python3"
  },
  "language_info": {
   "codemirror_mode": {
    "name": "ipython",
    "version": 3
   },
   "file_extension": ".py",
   "mimetype": "text/x-python",
   "name": "python",
   "nbconvert_exporter": "python",
   "pygments_lexer": "ipython3",
   "version": "3.7.3"
  }
 },
 "nbformat": 4,
 "nbformat_minor": 2
}
