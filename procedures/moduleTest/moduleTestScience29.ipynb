{
 "cells": [
  {
   "cell_type": "code",
   "execution_count": 2,
   "metadata": {},
   "outputs": [],
   "source": [
    "from moduleTest import ModuleTest\n",
    "import numpy as np\n",
    "from ics.cobraCharmer import pfi as pfiControl\n",
    "from ics.cobraCharmer import pfiDesign\n",
    "import ontimeOptimize\n",
    "import visDianosticPlot\n",
    "\n",
    "import matplotlib.pyplot as plt"
   ]
  },
  {
   "cell_type": "code",
   "execution_count": null,
   "metadata": {},
   "outputs": [],
   "source": [
    "broken=[57]\n",
    "mt = ModuleTest('128.149.77.24', \n",
    "                '/data/SC29/PFS-PFI-CIT900200-05_Science_29_FinalXML.xml', \n",
    "                brokens=broken,camSplit=28)\n",
    "pfi = mt.pfi"
   ]
  },
  {
   "cell_type": "code",
   "execution_count": null,
   "metadata": {
    "scrolled": true
   },
   "outputs": [],
   "source": [
    "mt.convertXML('/data/SC29/Science29_converted.xml')"
   ]
  },
  {
   "cell_type": "code",
   "execution_count": null,
   "metadata": {},
   "outputs": [],
   "source": [
    "del(mt)\n",
    "mt = ModuleTest('128.149.77.24', '/data/SC29/Science29_converted.xml', brokens=broken, camSplit=28)\n",
    "pfi = mt.pfi"
   ]
  },
  {
   "cell_type": "code",
   "execution_count": null,
   "metadata": {},
   "outputs": [],
   "source": [
    "phiOntime = np.zeros(57)+0.08"
   ]
  },
  {
   "cell_type": "code",
   "execution_count": null,
   "metadata": {
    "scrolled": true
   },
   "outputs": [],
   "source": [
    "mt.makePhiMotorMap('science15_20190918_phi.xml', '/data/SC29/20190918/phi', \n",
    "                   phiOnTime=phiOntime, repeat = 1, steps=50,fast=False)"
   ]
  },
  {
   "cell_type": "code",
   "execution_count": null,
   "metadata": {},
   "outputs": [],
   "source": [
    "\n",
    "broken=[57]\n",
    "path = '/data/SC29/20190918/phi/'\n",
    "vis = visDianosticPlot.VisDianosticPlot(path, brokens=broken, camSplit=28)"
   ]
  },
  {
   "cell_type": "code",
   "execution_count": null,
   "metadata": {
    "scrolled": true
   },
   "outputs": [],
   "source": [
    "vis.visPlotGeometry(arm='phi')"
   ]
  },
  {
   "cell_type": "code",
   "execution_count": null,
   "metadata": {
    "scrolled": true
   },
   "outputs": [],
   "source": [
    "vis.visPlotFiberDot(arm='phi')"
   ]
  },
  {
   "cell_type": "code",
   "execution_count": null,
   "metadata": {
    "scrolled": true
   },
   "outputs": [],
   "source": [
    "\n",
    "fpgaHost = '128.149.77.24'\n",
    "brokens=[57]\n",
    "arm='phi'\n",
    "dataPath= '/data/SC29/20190924/'\n",
    "xml ='/data/SC29/20190918/phi/science15_20190918_phi.xml'\n",
    "\n",
    "ontimeOptimize.exploreModuleOntime(fpgaHost=fpgaHost,dataPath = dataPath,brokens=brokens,\n",
    "            arm=arm,camSplit=28, iteration=5, XML=xml)"
   ]
  },
  {
   "cell_type": "code",
   "execution_count": null,
   "metadata": {},
   "outputs": [],
   "source": [
    "brokens=[57]\n",
    "\n",
    "data = ['/data/SC29/20190924/run0/',\n",
    "        '/data/SC29/20190924/run1/',\n",
    "        '/data/SC29/20190924/run2/',\n",
    "        '/data/SC29/20190924/run3/']\n",
    "otm=ontimeOptimize.OntimeOptimize(brokens=brokens, phiList=data)"
   ]
  },
  {
   "cell_type": "code",
   "execution_count": null,
   "metadata": {},
   "outputs": [],
   "source": [
    "initXML = '/data/SC29/20190924/run3/phi_run3.xml'\n",
    "newXML = '/data/SC29/20190926/science29_phi_20190926.xml'\n",
    "otm.updateXML(initXML,newXML, solve= False)"
   ]
  },
  {
   "cell_type": "code",
   "execution_count": null,
   "metadata": {},
   "outputs": [],
   "source": [
    "\n",
    "module = 'Science29'\n",
    "arm = 'phi'\n",
    "\n",
    "dataPath = '/data/SC29/20190926/'\n",
    "\n",
    "stepList = ['50','400']\n",
    "speedList = ['','Fast']\n",
    "brokens = [57]\n",
    "xml = '/data/SC29/20190926/science29_phi_20190926.xml'\n",
    "\n",
    "for s in speedList:\n",
    "    for f in stepList:\n",
    "        path= dataPath+f'{arm}{f}Step{s}/'\n",
    "        figpath = dataPath+f'{arm}{f}Step{s}MotorMap/'\n",
    "        if not (os.path.exists(path)):\n",
    "                os.mkdir(path)\n",
    "        mt = ModuleTest('128.149.77.24', xml,brokens=brokens,camSplit=28)\n",
    "        vis = visDianosticPlot.VisDianosticPlot(path, brokens=broken, camSplit=28)\n",
    "        pfi = mt.pfi\n",
    "        pfi.moveAllSteps(mt.allCobras, 0, -5000)\n",
    "        pfi.moveAllSteps(mt.allCobras, 0, -1000)\n",
    "        if s is 'Fast':\n",
    "            \n",
    "            mt.makePhiMotorMap(f'{module}_{arm}_{f}Step{s}.xml', path, \n",
    "                      repeat = 3, steps = 50, fast=True,totalSteps = 6000)\n",
    "        else:\n",
    "            mt.makePhiMotorMap(f'{module}_{arm}_{f}Step{s}.xml', path, \n",
    "                      repeat = 3, steps = 100, fast=True,totalSteps = 6000)\n",
    "            \n",
    "        vis.visCobraMotorMap(stepsize=int(f), figpath=figpath, arm={phi})    \n",
    "        print(path)\n",
    "        del(mt)"
   ]
  },
  {
   "cell_type": "code",
   "execution_count": 4,
   "metadata": {},
   "outputs": [
    {
     "data": {
      "text/plain": [
       "50"
      ]
     },
     "execution_count": 4,
     "metadata": {},
     "output_type": "execute_result"
    }
   ],
   "source": [
    "a='50'\n",
    "int(a)"
   ]
  },
  {
   "cell_type": "code",
   "execution_count": null,
   "metadata": {},
   "outputs": [],
   "source": [
    "a='phi50Step'\n",
    "a.split()"
   ]
  },
  {
   "cell_type": "code",
   "execution_count": null,
   "metadata": {},
   "outputs": [],
   "source": [
    "phiPath = '/data/chyan/20190724/phi/'\n",
    "xml = phiPath+'science01_20190724_phi.xml'\n"
   ]
  },
  {
   "cell_type": "code",
   "execution_count": null,
   "metadata": {},
   "outputs": [],
   "source": [
    "model = pfiDesign.PFIDesign(xml)\n",
    "sf = np.rad2deg(np.load(phiPath + 'phiSpeedFW.npy'))\n",
    "sr = np.rad2deg(np.load(phiPath + 'phiSpeedRV.npy'))"
   ]
  },
  {
   "cell_type": "code",
   "execution_count": null,
   "metadata": {},
   "outputs": [],
   "source": [
    "target_sf = np.zeros(57)+0.07\n",
    "ontime = target_sf*model.motorOntimeSlowFwd2/sf"
   ]
  },
  {
   "cell_type": "code",
   "execution_count": null,
   "metadata": {},
   "outputs": [],
   "source": [
    "ontime1 = ontime - 0.005\n",
    "ontime2 = ontime + 0.005\n",
    "ontime3 = ontime + 0.010\n",
    "ontime4 = ontime + 0.015"
   ]
  },
  {
   "cell_type": "code",
   "execution_count": null,
   "metadata": {},
   "outputs": [],
   "source": [
    "ontime4"
   ]
  },
  {
   "cell_type": "code",
   "execution_count": null,
   "metadata": {},
   "outputs": [],
   "source": [
    "mt.makePhiMotorMap('science01_20190725_phi_run1.xml', '/data/chyan/20190725/phi/run1/', \n",
    "                   phiOnTime=ontime1, repeat = 3, fast=False,totalSteps = 7000)\n",
    "mt.makePhiMotorMap('science01_20190725_phi_run2.xml', '/data/chyan/20190725/phi/run2/', \n",
    "                   phiOnTime=ontime2, repeat = 3, fast=False,totalSteps = 7000)\n",
    "mt.makePhiMotorMap('science01_20190725_phi_run3.xml', '/data/chyan/20190725/phi/run3/', \n",
    "                   phiOnTime=ontime3, repeat = 3, fast=False,totalSteps = 7000)\n",
    "mt.makePhiMotorMap('science01_20190725_phi_run4.xml', '/data/chyan/20190725/phi/run4/', \n",
    "                   phiOnTime=ontime4, repeat = 3, fast=False,totalSteps = 7000)"
   ]
  },
  {
   "cell_type": "code",
   "execution_count": null,
   "metadata": {},
   "outputs": [],
   "source": []
  }
 ],
 "metadata": {
  "kernelspec": {
   "display_name": "Python 3",
   "language": "python",
   "name": "python3"
  },
  "language_info": {
   "codemirror_mode": {
    "name": "ipython",
    "version": 3
   },
   "file_extension": ".py",
   "mimetype": "text/x-python",
   "name": "python",
   "nbconvert_exporter": "python",
   "pygments_lexer": "ipython3",
   "version": "3.7.3"
  }
 },
 "nbformat": 4,
 "nbformat_minor": 2
}
