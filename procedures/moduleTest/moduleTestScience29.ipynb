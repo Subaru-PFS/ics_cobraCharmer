{
 "cells": [
  {
   "cell_type": "code",
   "execution_count": 1,
   "metadata": {},
   "outputs": [],
   "source": [
    "from moduleTest import ModuleTest\n",
    "import numpy as np\n",
    "from ics.cobraCharmer import pfi as pfiControl\n",
    "from ics.cobraCharmer import pfiDesign\n",
    "import ontimeOptimize\n",
    "import visDianosticPlot\n",
    "import os\n",
    "\n",
    "import matplotlib.pyplot as plt"
   ]
  },
  {
   "cell_type": "code",
   "execution_count": null,
   "metadata": {},
   "outputs": [],
   "source": [
    "broken=[57]\n",
    "mt = ModuleTest('128.149.77.24', \n",
    "                '/data/SC29/PFS-PFI-CIT900200-05_Science_29_FinalXML.xml', \n",
    "                brokens=broken,camSplit=28)\n",
    "pfi = mt.pfi"
   ]
  },
  {
   "cell_type": "code",
   "execution_count": null,
   "metadata": {
    "scrolled": true
   },
   "outputs": [],
   "source": [
    "mt.convertXML('/data/SC29/Science29_converted.xml')"
   ]
  },
  {
   "cell_type": "code",
   "execution_count": null,
   "metadata": {},
   "outputs": [],
   "source": [
    "del(mt)\n",
    "mt = ModuleTest('128.149.77.24', '/data/SC29/Science29_converted.xml', brokens=broken, camSplit=28)\n",
    "pfi = mt.pfi"
   ]
  },
  {
   "cell_type": "code",
   "execution_count": null,
   "metadata": {},
   "outputs": [],
   "source": [
    "phiOntime = np.zeros(57)+0.08"
   ]
  },
  {
   "cell_type": "code",
   "execution_count": null,
   "metadata": {
    "scrolled": true
   },
   "outputs": [],
   "source": [
    "mt.makePhiMotorMap('science15_20190918_phi.xml', '/data/SC29/20190918/phi', \n",
    "                   phiOnTime=phiOntime, repeat = 1, steps=50,fast=False)"
   ]
  },
  {
   "cell_type": "code",
   "execution_count": null,
   "metadata": {},
   "outputs": [],
   "source": [
    "\n",
    "broken=[57]\n",
    "path = '/data/SC29/20190918/phi/'\n",
    "vis = visDianosticPlot.VisDianosticPlot(path, brokens=broken, camSplit=28)"
   ]
  },
  {
   "cell_type": "code",
   "execution_count": null,
   "metadata": {
    "scrolled": true
   },
   "outputs": [],
   "source": [
    "vis.visPlotGeometry(arm='phi')"
   ]
  },
  {
   "cell_type": "code",
   "execution_count": null,
   "metadata": {
    "scrolled": true
   },
   "outputs": [],
   "source": [
    "vis.visPlotFiberDot(arm='phi')"
   ]
  },
  {
   "cell_type": "code",
   "execution_count": null,
   "metadata": {
    "scrolled": true
   },
   "outputs": [],
   "source": [
    "\n",
    "fpgaHost = '128.149.77.24'\n",
    "brokens=[57]\n",
    "arm='phi'\n",
    "dataPath= '/data/SC29/20190924/'\n",
    "xml ='/data/SC29/20190918/phi/science15_20190918_phi.xml'\n",
    "\n",
    "ontimeOptimize.exploreModuleOntime(fpgaHost=fpgaHost,dataPath = dataPath,brokens=brokens,\n",
    "            arm=arm,camSplit=28, iteration=5, XML=xml)"
   ]
  },
  {
   "cell_type": "code",
   "execution_count": null,
   "metadata": {},
   "outputs": [],
   "source": [
    "brokens=[57]\n",
    "\n",
    "data = ['/data/SC29/20190924/run0/',\n",
    "        '/data/SC29/20190924/run1/',\n",
    "        '/data/SC29/20190924/run2/',\n",
    "        '/data/SC29/20190924/run3/']\n",
    "otm=ontimeOptimize.OntimeOptimize(brokens=brokens, phiList=data)"
   ]
  },
  {
   "cell_type": "code",
   "execution_count": null,
   "metadata": {},
   "outputs": [],
   "source": [
    "initXML = '/data/SC29/20190924/run3/phi_run3.xml'\n",
    "newXML = '/data/SC29/20190926/science29_phi_20190926.xml'\n",
    "otm.updateXML(initXML,newXML, solve= False)"
   ]
  },
  {
   "cell_type": "code",
   "execution_count": null,
   "metadata": {},
   "outputs": [
    {
     "name": "stderr",
     "output_type": "stream",
     "text": [
      "2019-09-26T14:57:25.333 20 fpgaIO     FPGA connection to 128.149.77.24\n",
      "2019-09-26T14:57:25.363 20 fpga       load cobra model from /data/SC29/20190926/science29_phi_20190926.xml\n",
      "2019-09-26T14:57:25.364 20 log.short  --- ISSUE SETFREQ & VERIFY (brd:1) ---\n",
      "2019-09-26T14:57:25.365 20 log.eth    (ETH)Sent msg on socket.\n",
      "(0300003907d08a7e\t081300ff009a0823\t00ff0094101300fc\t0099102300fc0093\t\n",
      "181300fd00991823\t00f90096201300fc\t009a202300fe0096\t2813010000992823\t\n",
      "00fd0096301300fd\t009a302300fe0097\t3813010100993823\t00fd0095401300fe\t\n",
      "0097402300fe0098\t481300ff00984823\t00fb0095501300ff\t0098502300fa0094\t\n",
      "581300fe009a5823\t00fc0097601300fc\t009a602300fb0095\t681300fa00976823\t\n",
      "00ff0096701300ff\t0099702301010096\t781300fe00987823\t00ff0097801300fe\t\n",
      "009a802300fe0095\t881300ff00998823\t00fe0094901300fd\t009a902301010097\t\n",
      "981300fa00989823\t01000095a01300fd\t0099a02300fd0096\ta81300fb0099a823\t\n",
      "00ff0097b01300fd\t009ab02300fd0096\tb81300fe0098b823\t00fe0097c01300fe\t\n",
      "0098c02300ff0096\tc81300fc0099c823\t00fc0098d0130100\t0098d02300fe0098\t\n",
      "d81300ff0097d823\t00fc0096e01300fd\t0096e02300fe0096\te81300fe0098)\n",
      "2019-09-26T14:57:25.366 20 log.eth    (ETH)Rcvd msg on socket.\n",
      "(030000000000)\n",
      "2019-09-26T14:57:25.367 20 log.medium SetFrequency tlm rx'd. (Code:0) (Message:0)\n",
      "2019-09-26T14:57:25.398 20 log.eth    (ETH)Rcvd msg on socket.\n",
      "(030000000000)\n",
      "2019-09-26T14:57:25.398 20 log.medium SetFrequency tlm rx'd. (Code:0) (Message:0)\n",
      "2019-09-26T14:57:25.399 20 fpga       send SET command succeeded\n"
     ]
    },
    {
     "name": "stdout",
     "output_type": "stream",
     "text": [
      "IS_COLORMODE_MONOCHROME: \n",
      "\tm_nColorMode: \t\t 34\n",
      "\tnBitsPerPixel: \t\t 10\n",
      "\tbytes_per_pixel: \t\t 2\n",
      "\n",
      "Camera model:\t\t UI318xCP-M\n",
      "Camera serial no.:\t 4103536358\n",
      "Maximum image self.width:\t 2592\n",
      "Maximum image self.height:\t 2048\n",
      "\n",
      "200\n"
     ]
    },
    {
     "name": "stderr",
     "output_type": "stream",
     "text": [
      "2019-09-26T14:57:35.662 20 log.short  --- ISSUE RUN & VERIFY (1) ---\n",
      "2019-09-26T14:57:35.662 20 log.full   (C1,1 (39, 80)uS x(0, 5000) d(0, 0) ['cw', 'ccw']) (C2,1 (44, 25)uS x(0, 5000) d(0, 0) ['cw', 'ccw']) (C1,2 (37, 25)uS x(0, 5000) d(0, 0) ['cw', 'ccw']) \n",
      "(C2,2 (43, 28)uS x(0, 5000) d(0, 0) ['cw', 'ccw']) (C1,3 (41, 26)uS x(0, 5000) d(0, 0) ['cw', 'ccw']) (C2,3 (38, 80)uS x(0, 5000) d(0, 0) ['cw', 'ccw']) \n",
      "(C1,4 (47, 22)uS x(0, 5000) d(0, 0) ['cw', 'ccw']) (C2,4 (53, 27)uS x(0, 5000) d(0, 0) ['cw', 'ccw']) (C1,5 (38, 21)uS x(0, 5000) d(0, 0) ['cw', 'ccw']) \n",
      "(C2,5 (36, 40)uS x(0, 5000) d(0, 0) ['cw', 'ccw']) (C1,6 (40, 30)uS x(0, 5000) d(0, 0) ['cw', 'ccw']) (C2,6 (50, 26)uS x(0, 5000) d(0, 0) ['cw', 'ccw']) \n",
      "(C1,7 (39, 80)uS x(0, 5000) d(0, 0) ['cw', 'ccw']) (C2,7 (53, 20)uS x(0, 5000) d(0, 0) ['cw', 'ccw']) (C1,8 (38, 24)uS x(0, 5000) d(0, 0) ['cw', 'ccw']) \n",
      "(C2,8 (70, 19)uS x(0, 5000) d(0, 0) ['cw', 'ccw']) (C1,9 (36, 29)uS x(0, 5000) d(0, 0) ['cw', 'ccw']) (C2,9 (44, 20)uS x(0, 5000) d(0, 0) ['cw', 'ccw']) \n",
      "(C1,10 (36, 35)uS x(0, 5000) d(0, 0) ['cw', 'ccw']) (C2,10 (43, 80)uS x(0, 5000) d(0, 0) ['cw', 'ccw']) (C1,11 (30, 20)uS x(0, 5000) d(0, 0) ['cw', 'ccw']) \n",
      "(C2,11 (54, 23)uS x(0, 5000) d(0, 0) ['cw', 'ccw']) (C1,12 (37, 80)uS x(0, 5000) d(0, 0) ['cw', 'ccw']) (C2,12 (52, 28)uS x(0, 5000) d(0, 0) ['cw', 'ccw']) \n",
      "(C1,13 (39, 29)uS x(0, 5000) d(0, 0) ['cw', 'ccw']) (C2,13 (33, 25)uS x(0, 5000) d(0, 0) ['cw', 'ccw']) (C1,14 (46, 24)uS x(0, 5000) d(0, 0) ['cw', 'ccw']) \n",
      "(C2,14 (30, 21)uS x(0, 5000) d(0, 0) ['cw', 'ccw']) (C1,15 (54, 22)uS x(0, 5000) d(0, 0) ['cw', 'ccw']) (C2,15 (40, 29)uS x(0, 5000) d(0, 0) ['cw', 'ccw']) \n",
      "(C1,16 (28, 24)uS x(0, 5000) d(0, 0) ['cw', 'ccw']) (C2,16 (56, 23)uS x(0, 5000) d(0, 0) ['cw', 'ccw']) (C1,17 (41, 32)uS x(0, 5000) d(0, 0) ['cw', 'ccw']) \n",
      "(C2,17 (43, 25)uS x(0, 5000) d(0, 0) ['cw', 'ccw']) (C1,18 (36, 80)uS x(0, 5000) d(0, 0) ['cw', 'ccw']) (C2,18 (27, 26)uS x(0, 5000) d(0, 0) ['cw', 'ccw']) \n",
      "(C1,19 (36, 23)uS x(0, 5000) d(0, 0) ['cw', 'ccw']) (C2,19 (36, 25)uS x(0, 5000) d(0, 0) ['cw', 'ccw']) (C1,20 (39, 80)uS x(0, 5000) d(0, 0) ['cw', 'ccw']) \n",
      "(C2,20 (28, 24)uS x(0, 5000) d(0, 0) ['cw', 'ccw']) (C1,21 (40, 24)uS x(0, 5000) d(0, 0) ['cw', 'ccw']) (C2,21 (37, 26)uS x(0, 5000) d(0, 0) ['cw', 'ccw']) \n",
      "(C1,22 (37, 26)uS x(0, 5000) d(0, 0) ['cw', 'ccw']) (C2,22 (29, 22)uS x(0, 5000) d(0, 0) ['cw', 'ccw']) (C1,23 (54, 21)uS x(0, 5000) d(0, 0) ['cw', 'ccw']) \n",
      "(C2,23 (30, 23)uS x(0, 5000) d(0, 0) ['cw', 'ccw']) (C1,24 (40, 22)uS x(0, 5000) d(0, 0) ['cw', 'ccw']) (C2,24 (35, 25)uS x(0, 5000) d(0, 0) ['cw', 'ccw']) \n",
      "(C1,25 (37, 80)uS x(0, 5000) d(0, 0) ['cw', 'ccw']) (C2,25 (40, 18)uS x(0, 5000) d(0, 0) ['cw', 'ccw']) (C1,26 (49, 37)uS x(0, 5000) d(0, 0) ['cw', 'ccw']) \n",
      "(C2,26 (29, 19)uS x(0, 5000) d(0, 0) ['cw', 'ccw']) (C1,27 (38, 80)uS x(0, 5000) d(0, 0) ['cw', 'ccw']) (C2,27 (50, 22)uS x(0, 5000) d(0, 0) ['cw', 'ccw']) \n",
      "(C1,28 (27, 26)uS x(0, 5000) d(0, 0) ['cw', 'ccw']) (C2,28 (29, 27)uS x(0, 5000) d(0, 0) ['cw', 'ccw']) (C1,29 (41, 48)uS x(0, 5000) d(0, 0) ['cw', 'ccw']) \n",
      "2019-09-26T14:57:35.663 20 log.medium Timeout:65535, inter:156\n",
      "2019-09-26T14:57:35.664 20 log.eth    (ETH)Sent msg on socket.\n",
      "(01000039ffff009c\ta849081a00270000\t0000005013880000\t082a002c00000000\t\n",
      "001913880000101a\t0025000000000019\t13880000102a002b\t00000000001c1388\t\n",
      "0000181a00290000\t0000001a13880000\t182a002600000000\t005013880000201a\t\n",
      "002f000000000016\t13880000202a0035\t00000000001b1388\t0000281a00260000\t\n",
      "0000001513880000\t282a002400000000\t002813880000301a\t002800000000001e\t\n",
      "13880000302a0032\t00000000001a1388\t0000381a00270000\t0000005013880000\t\n",
      "382a003500000000\t001413880000401a\t0026000000000018\t13880000402a0046\t\n",
      "0000000000131388\t0000481a00240000\t0000001d13880000\t482a002c00000000\t\n",
      "001413880000501a\t0024000000000023\t13880000502a002b\t0000000000501388\t\n",
      "0000581a001e0000\t0000001413880000\t582a003600000000\t001713880000601a\t\n",
      "0025000000000050\t13880000602a0034\t00000000001c1388\t0000681a00270000\t\n",
      "0000001d13880000\t682a002100000000\t001913880000701a\t002e000000000018\t\n",
      "13880000702a001e\t0000000000151388\t0000781a00360000\t0000001613880000\t\n",
      "782a002800000000\t001d13880000801a\t001c000000000018\t13880000802a0038\t\n",
      "0000000000171388\t0000881a00290000\t0000002013880000\t882a002b00000000\t\n",
      "001913880000901a\t0024000000000050\t13880000902a001b\t00000000001a1388\t\n",
      "0000981a00240000\t0000001713880000\t982a002400000000\t001913880000a01a\t\n",
      "0027000000000050\t13880000a02a001c\t0000000000181388\t0000a81a00280000\t\n",
      "0000001813880000\ta82a002500000000\t001a13880000b01a\t002500000000001a\t\n",
      "13880000b02a001d\t0000000000161388\t0000b81a00360000\t0000001513880000\t\n",
      "b82a001e00000000\t001713880000c01a\t0028000000000016\t13880000c02a0023\t\n",
      "0000000000191388\t0000c81a00250000\t0000005013880000\tc82a002800000000\t\n",
      "001213880000d01a\t0031000000000025\t13880000d02a001d\t0000000000131388\t\n",
      "0000d81a00260000\t0000005013880000\td82a003200000000\t001613880000e01a\t\n",
      "001b00000000001a\t13880000e02a001d\t00000000001b1388\t0000e81a00290000\t\n",
      "0000003013880000\t)\n",
      "2019-09-26T14:57:35.666 20 log.eth    (ETH)Rcvd msg on socket.\n",
      "(010000000000)\n",
      "2019-09-26T14:57:35.667 20 log.medium Run tlm rx'd. (Code:0) (Message:0)\n"
     ]
    },
    {
     "name": "stdout",
     "output_type": "stream",
     "text": [
      "IS_COLORMODE_MONOCHROME: \n",
      "\tm_nColorMode: \t\t 34\n",
      "\tnBitsPerPixel: \t\t 10\n",
      "\tbytes_per_pixel: \t\t 2\n",
      "\n",
      "Camera model:\t\t UI318xCP-M\n",
      "Camera serial no.:\t 4103541788\n",
      "Maximum image self.width:\t 2592\n",
      "Maximum image self.height:\t 2048\n",
      "\n",
      "200\n"
     ]
    },
    {
     "name": "stderr",
     "output_type": "stream",
     "text": [
      "2019-09-26T14:57:48.198 20 log.eth    (ETH)Rcvd msg on socket.\n",
      "(010000000000)\n",
      "2019-09-26T14:57:48.200 20 log.medium Run tlm rx'd. (Code:0) (Message:0)\n",
      "2019-09-26T14:57:48.201 20 fpga       send RUN command succeeded\n",
      "2019-09-26T14:57:48.204 20 log.short  --- ISSUE RUN & VERIFY (1) ---\n",
      "2019-09-26T14:57:48.206 20 log.full   (C1,1 (39, 80)uS x(0, 1000) d(0, 0) ['cw', 'ccw']) (C2,1 (44, 25)uS x(0, 1000) d(0, 0) ['cw', 'ccw']) (C1,2 (37, 25)uS x(0, 1000) d(0, 0) ['cw', 'ccw']) \n",
      "(C2,2 (43, 28)uS x(0, 1000) d(0, 0) ['cw', 'ccw']) (C1,3 (41, 26)uS x(0, 1000) d(0, 0) ['cw', 'ccw']) (C2,3 (38, 80)uS x(0, 1000) d(0, 0) ['cw', 'ccw']) \n",
      "(C1,4 (47, 22)uS x(0, 1000) d(0, 0) ['cw', 'ccw']) (C2,4 (53, 27)uS x(0, 1000) d(0, 0) ['cw', 'ccw']) (C1,5 (38, 21)uS x(0, 1000) d(0, 0) ['cw', 'ccw']) \n",
      "(C2,5 (36, 40)uS x(0, 1000) d(0, 0) ['cw', 'ccw']) (C1,6 (40, 30)uS x(0, 1000) d(0, 0) ['cw', 'ccw']) (C2,6 (50, 26)uS x(0, 1000) d(0, 0) ['cw', 'ccw']) \n",
      "(C1,7 (39, 80)uS x(0, 1000) d(0, 0) ['cw', 'ccw']) (C2,7 (53, 20)uS x(0, 1000) d(0, 0) ['cw', 'ccw']) (C1,8 (38, 24)uS x(0, 1000) d(0, 0) ['cw', 'ccw']) \n",
      "(C2,8 (70, 19)uS x(0, 1000) d(0, 0) ['cw', 'ccw']) (C1,9 (36, 29)uS x(0, 1000) d(0, 0) ['cw', 'ccw']) (C2,9 (44, 20)uS x(0, 1000) d(0, 0) ['cw', 'ccw']) \n",
      "(C1,10 (36, 35)uS x(0, 1000) d(0, 0) ['cw', 'ccw']) (C2,10 (43, 80)uS x(0, 1000) d(0, 0) ['cw', 'ccw']) (C1,11 (30, 20)uS x(0, 1000) d(0, 0) ['cw', 'ccw']) \n",
      "(C2,11 (54, 23)uS x(0, 1000) d(0, 0) ['cw', 'ccw']) (C1,12 (37, 80)uS x(0, 1000) d(0, 0) ['cw', 'ccw']) (C2,12 (52, 28)uS x(0, 1000) d(0, 0) ['cw', 'ccw']) \n",
      "(C1,13 (39, 29)uS x(0, 1000) d(0, 0) ['cw', 'ccw']) (C2,13 (33, 25)uS x(0, 1000) d(0, 0) ['cw', 'ccw']) (C1,14 (46, 24)uS x(0, 1000) d(0, 0) ['cw', 'ccw']) \n",
      "(C2,14 (30, 21)uS x(0, 1000) d(0, 0) ['cw', 'ccw']) (C1,15 (54, 22)uS x(0, 1000) d(0, 0) ['cw', 'ccw']) (C2,15 (40, 29)uS x(0, 1000) d(0, 0) ['cw', 'ccw']) \n",
      "(C1,16 (28, 24)uS x(0, 1000) d(0, 0) ['cw', 'ccw']) (C2,16 (56, 23)uS x(0, 1000) d(0, 0) ['cw', 'ccw']) (C1,17 (41, 32)uS x(0, 1000) d(0, 0) ['cw', 'ccw']) \n",
      "(C2,17 (43, 25)uS x(0, 1000) d(0, 0) ['cw', 'ccw']) (C1,18 (36, 80)uS x(0, 1000) d(0, 0) ['cw', 'ccw']) (C2,18 (27, 26)uS x(0, 1000) d(0, 0) ['cw', 'ccw']) \n",
      "(C1,19 (36, 23)uS x(0, 1000) d(0, 0) ['cw', 'ccw']) (C2,19 (36, 25)uS x(0, 1000) d(0, 0) ['cw', 'ccw']) (C1,20 (39, 80)uS x(0, 1000) d(0, 0) ['cw', 'ccw']) \n",
      "(C2,20 (28, 24)uS x(0, 1000) d(0, 0) ['cw', 'ccw']) (C1,21 (40, 24)uS x(0, 1000) d(0, 0) ['cw', 'ccw']) (C2,21 (37, 26)uS x(0, 1000) d(0, 0) ['cw', 'ccw']) \n",
      "(C1,22 (37, 26)uS x(0, 1000) d(0, 0) ['cw', 'ccw']) (C2,22 (29, 22)uS x(0, 1000) d(0, 0) ['cw', 'ccw']) (C1,23 (54, 21)uS x(0, 1000) d(0, 0) ['cw', 'ccw']) \n",
      "(C2,23 (30, 23)uS x(0, 1000) d(0, 0) ['cw', 'ccw']) (C1,24 (40, 22)uS x(0, 1000) d(0, 0) ['cw', 'ccw']) (C2,24 (35, 25)uS x(0, 1000) d(0, 0) ['cw', 'ccw']) \n",
      "(C1,25 (37, 80)uS x(0, 1000) d(0, 0) ['cw', 'ccw']) (C2,25 (40, 18)uS x(0, 1000) d(0, 0) ['cw', 'ccw']) (C1,26 (49, 37)uS x(0, 1000) d(0, 0) ['cw', 'ccw']) \n",
      "(C2,26 (29, 19)uS x(0, 1000) d(0, 0) ['cw', 'ccw']) (C1,27 (38, 80)uS x(0, 1000) d(0, 0) ['cw', 'ccw']) (C2,27 (50, 22)uS x(0, 1000) d(0, 0) ['cw', 'ccw']) \n",
      "(C1,28 (27, 26)uS x(0, 1000) d(0, 0) ['cw', 'ccw']) (C2,28 (29, 27)uS x(0, 1000) d(0, 0) ['cw', 'ccw']) (C1,29 (41, 48)uS x(0, 1000) d(0, 0) ['cw', 'ccw']) \n",
      "2019-09-26T14:57:48.206 20 log.medium Timeout:65535, inter:156\n",
      "2019-09-26T14:57:48.208 20 log.eth    (ETH)Sent msg on socket.\n",
      "(01000039ffff009c\t9679081a00270000\t0000005003e80000\t082a002c00000000\t\n",
      "001903e80000101a\t0025000000000019\t03e80000102a002b\t00000000001c03e8\t\n",
      "0000181a00290000\t0000001a03e80000\t182a002600000000\t005003e80000201a\t\n",
      "002f000000000016\t03e80000202a0035\t00000000001b03e8\t0000281a00260000\t\n",
      "0000001503e80000\t282a002400000000\t002803e80000301a\t002800000000001e\t\n",
      "03e80000302a0032\t00000000001a03e8\t0000381a00270000\t0000005003e80000\t\n",
      "382a003500000000\t001403e80000401a\t0026000000000018\t03e80000402a0046\t\n",
      "00000000001303e8\t0000481a00240000\t0000001d03e80000\t482a002c00000000\t\n",
      "001403e80000501a\t0024000000000023\t03e80000502a002b\t00000000005003e8\t\n",
      "0000581a001e0000\t0000001403e80000\t582a003600000000\t001703e80000601a\t\n",
      "0025000000000050\t03e80000602a0034\t00000000001c03e8\t0000681a00270000\t\n",
      "0000001d03e80000\t682a002100000000\t001903e80000701a\t002e000000000018\t\n",
      "03e80000702a001e\t00000000001503e8\t0000781a00360000\t0000001603e80000\t\n",
      "782a002800000000\t001d03e80000801a\t001c000000000018\t03e80000802a0038\t\n",
      "00000000001703e8\t0000881a00290000\t0000002003e80000\t882a002b00000000\t\n",
      "001903e80000901a\t0024000000000050\t03e80000902a001b\t00000000001a03e8\t\n",
      "0000981a00240000\t0000001703e80000\t982a002400000000\t001903e80000a01a\t\n",
      "0027000000000050\t03e80000a02a001c\t00000000001803e8\t0000a81a00280000\t\n",
      "0000001803e80000\ta82a002500000000\t001a03e80000b01a\t002500000000001a\t\n",
      "03e80000b02a001d\t00000000001603e8\t0000b81a00360000\t0000001503e80000\t\n",
      "b82a001e00000000\t001703e80000c01a\t0028000000000016\t03e80000c02a0023\t\n",
      "00000000001903e8\t0000c81a00250000\t0000005003e80000\tc82a002800000000\t\n",
      "001203e80000d01a\t0031000000000025\t03e80000d02a001d\t00000000001303e8\t\n",
      "0000d81a00260000\t0000005003e80000\td82a003200000000\t001603e80000e01a\t\n",
      "001b00000000001a\t03e80000e02a001d\t00000000001b03e8\t0000e81a00290000\t\n",
      "0000003003e80000\t)\n",
      "2019-09-26T14:57:48.210 20 log.eth    (ETH)Rcvd msg on socket.\n",
      "(010000000000)\n",
      "2019-09-26T14:57:48.210 20 log.medium Run tlm rx'd. (Code:0) (Message:0)\n",
      "2019-09-26T14:57:50.741 20 log.eth    (ETH)Rcvd msg on socket.\n",
      "(010000000000)\n",
      "2019-09-26T14:57:50.743 20 log.medium Run tlm rx'd. (Code:0) (Message:0)\n",
      "2019-09-26T14:57:50.744 20 fpga       send RUN command succeeded\n"
     ]
    },
    {
     "name": "stdout",
     "output_type": "stream",
     "text": [
      "Camera close!\n",
      "IS_COLORMODE_MONOCHROME: \n",
      "\tm_nColorMode: \t\t 34\n",
      "\tnBitsPerPixel: \t\t 10\n",
      "\tbytes_per_pixel: \t\t 2\n",
      "\n",
      "Camera model:\t\t UI318xCP-M\n",
      "Camera serial no.:\t 4103536358\n",
      "Maximum image self.width:\t 2592\n",
      "Maximum image self.height:\t 2048\n",
      "\n",
      "200\n",
      "Camera close!\n"
     ]
    },
    {
     "name": "stderr",
     "output_type": "stream",
     "text": [
      "2019-09-26T14:58:01.732 20 log.short  --- ISSUE RUN & VERIFY (1) ---\n",
      "2019-09-26T14:58:01.732 20 log.full   (C1,1 (60, 60)uS x(0, 5000) d(0, 0) ['cw', 'ccw']) (C2,1 (60, 60)uS x(0, 5000) d(0, 0) ['cw', 'ccw']) (C1,2 (60, 60)uS x(0, 5000) d(0, 0) ['cw', 'ccw']) \n",
      "(C2,2 (60, 60)uS x(0, 5000) d(0, 0) ['cw', 'ccw']) (C1,3 (60, 60)uS x(0, 5000) d(0, 0) ['cw', 'ccw']) (C2,3 (60, 60)uS x(0, 5000) d(0, 0) ['cw', 'ccw']) \n",
      "(C1,4 (60, 60)uS x(0, 5000) d(0, 0) ['cw', 'ccw']) (C2,4 (60, 60)uS x(0, 5000) d(0, 0) ['cw', 'ccw']) (C1,5 (60, 60)uS x(0, 5000) d(0, 0) ['cw', 'ccw']) \n",
      "(C2,5 (60, 60)uS x(0, 5000) d(0, 0) ['cw', 'ccw']) (C1,6 (60, 60)uS x(0, 5000) d(0, 0) ['cw', 'ccw']) (C2,6 (60, 60)uS x(0, 5000) d(0, 0) ['cw', 'ccw']) \n",
      "(C1,7 (60, 60)uS x(0, 5000) d(0, 0) ['cw', 'ccw']) (C2,7 (60, 60)uS x(0, 5000) d(0, 0) ['cw', 'ccw']) (C1,8 (60, 60)uS x(0, 5000) d(0, 0) ['cw', 'ccw']) \n",
      "(C2,8 (60, 60)uS x(0, 5000) d(0, 0) ['cw', 'ccw']) (C1,9 (60, 60)uS x(0, 5000) d(0, 0) ['cw', 'ccw']) (C2,9 (60, 60)uS x(0, 5000) d(0, 0) ['cw', 'ccw']) \n",
      "(C1,10 (60, 60)uS x(0, 5000) d(0, 0) ['cw', 'ccw']) (C2,10 (60, 60)uS x(0, 5000) d(0, 0) ['cw', 'ccw']) (C1,11 (60, 60)uS x(0, 5000) d(0, 0) ['cw', 'ccw']) \n",
      "(C2,11 (60, 60)uS x(0, 5000) d(0, 0) ['cw', 'ccw']) (C1,12 (60, 60)uS x(0, 5000) d(0, 0) ['cw', 'ccw']) (C2,12 (60, 60)uS x(0, 5000) d(0, 0) ['cw', 'ccw']) \n",
      "(C1,13 (60, 60)uS x(0, 5000) d(0, 0) ['cw', 'ccw']) (C2,13 (60, 60)uS x(0, 5000) d(0, 0) ['cw', 'ccw']) (C1,14 (60, 60)uS x(0, 5000) d(0, 0) ['cw', 'ccw']) \n",
      "(C2,14 (60, 60)uS x(0, 5000) d(0, 0) ['cw', 'ccw']) (C1,15 (60, 60)uS x(0, 5000) d(0, 0) ['cw', 'ccw']) (C2,15 (60, 60)uS x(0, 5000) d(0, 0) ['cw', 'ccw']) \n",
      "(C1,16 (60, 60)uS x(0, 5000) d(0, 0) ['cw', 'ccw']) (C2,16 (60, 60)uS x(0, 5000) d(0, 0) ['cw', 'ccw']) (C1,17 (60, 60)uS x(0, 5000) d(0, 0) ['cw', 'ccw']) \n",
      "(C2,17 (60, 60)uS x(0, 5000) d(0, 0) ['cw', 'ccw']) (C1,18 (60, 60)uS x(0, 5000) d(0, 0) ['cw', 'ccw']) (C2,18 (60, 60)uS x(0, 5000) d(0, 0) ['cw', 'ccw']) \n",
      "(C1,19 (60, 60)uS x(0, 5000) d(0, 0) ['cw', 'ccw']) (C2,19 (60, 60)uS x(0, 5000) d(0, 0) ['cw', 'ccw']) (C1,20 (60, 60)uS x(0, 5000) d(0, 0) ['cw', 'ccw']) \n",
      "(C2,20 (60, 60)uS x(0, 5000) d(0, 0) ['cw', 'ccw']) (C1,21 (60, 60)uS x(0, 5000) d(0, 0) ['cw', 'ccw']) (C2,21 (60, 60)uS x(0, 5000) d(0, 0) ['cw', 'ccw']) \n",
      "(C1,22 (60, 60)uS x(0, 5000) d(0, 0) ['cw', 'ccw']) (C2,22 (60, 60)uS x(0, 5000) d(0, 0) ['cw', 'ccw']) (C1,23 (60, 60)uS x(0, 5000) d(0, 0) ['cw', 'ccw']) \n",
      "(C2,23 (60, 60)uS x(0, 5000) d(0, 0) ['cw', 'ccw']) (C1,24 (60, 60)uS x(0, 5000) d(0, 0) ['cw', 'ccw']) (C2,24 (60, 60)uS x(0, 5000) d(0, 0) ['cw', 'ccw']) \n",
      "(C1,25 (60, 60)uS x(0, 5000) d(0, 0) ['cw', 'ccw']) (C2,25 (60, 60)uS x(0, 5000) d(0, 0) ['cw', 'ccw']) (C1,26 (60, 60)uS x(0, 5000) d(0, 0) ['cw', 'ccw']) \n",
      "(C2,26 (60, 60)uS x(0, 5000) d(0, 0) ['cw', 'ccw']) (C1,27 (60, 60)uS x(0, 5000) d(0, 0) ['cw', 'ccw']) (C2,27 (60, 60)uS x(0, 5000) d(0, 0) ['cw', 'ccw']) \n",
      "(C1,28 (60, 60)uS x(0, 5000) d(0, 0) ['cw', 'ccw']) (C2,28 (60, 60)uS x(0, 5000) d(0, 0) ['cw', 'ccw']) \n",
      "2019-09-26T14:58:01.733 20 log.medium Timeout:65535, inter:156\n",
      "2019-09-26T14:58:01.734 20 log.eth    (ETH)Sent msg on socket.\n",
      "(01000038ffff009c\ta035081a003c0000\t0000003c13880000\t082a003c00000000\t\n",
      "003c13880000101a\t003c00000000003c\t13880000102a003c\t00000000003c1388\t\n",
      "0000181a003c0000\t0000003c13880000\t182a003c00000000\t003c13880000201a\t\n",
      "003c00000000003c\t13880000202a003c\t00000000003c1388\t0000281a003c0000\t\n",
      "0000003c13880000\t282a003c00000000\t003c13880000301a\t003c00000000003c\t\n",
      "13880000302a003c\t00000000003c1388\t0000381a003c0000\t0000003c13880000\t\n",
      "382a003c00000000\t003c13880000401a\t003c00000000003c\t13880000402a003c\t\n",
      "00000000003c1388\t0000481a003c0000\t0000003c13880000\t482a003c00000000\t\n",
      "003c13880000501a\t003c00000000003c\t13880000502a003c\t00000000003c1388\t\n",
      "0000581a003c0000\t0000003c13880000\t582a003c00000000\t003c13880000601a\t\n",
      "003c00000000003c\t13880000602a003c\t00000000003c1388\t0000681a003c0000\t\n",
      "0000003c13880000\t682a003c00000000\t003c13880000701a\t003c00000000003c\t\n",
      "13880000702a003c\t00000000003c1388\t0000781a003c0000\t0000003c13880000\t\n",
      "782a003c00000000\t003c13880000801a\t003c00000000003c\t13880000802a003c\t\n",
      "00000000003c1388\t0000881a003c0000\t0000003c13880000\t882a003c00000000\t\n",
      "003c13880000901a\t003c00000000003c\t13880000902a003c\t00000000003c1388\t\n",
      "0000981a003c0000\t0000003c13880000\t982a003c00000000\t003c13880000a01a\t\n",
      "003c00000000003c\t13880000a02a003c\t00000000003c1388\t0000a81a003c0000\t\n",
      "0000003c13880000\ta82a003c00000000\t003c13880000b01a\t003c00000000003c\t\n",
      "13880000b02a003c\t00000000003c1388\t0000b81a003c0000\t0000003c13880000\t\n",
      "b82a003c00000000\t003c13880000c01a\t003c00000000003c\t13880000c02a003c\t\n",
      "00000000003c1388\t0000c81a003c0000\t0000003c13880000\tc82a003c00000000\t\n",
      "003c13880000d01a\t003c00000000003c\t13880000d02a003c\t00000000003c1388\t\n",
      "0000d81a003c0000\t0000003c13880000\td82a003c00000000\t003c13880000e01a\t\n",
      "003c00000000003c\t13880000e02a003c\t00000000003c1388\t0000)\n",
      "2019-09-26T14:58:01.736 20 log.eth    (ETH)Rcvd msg on socket.\n",
      "(010000000000)\n",
      "2019-09-26T14:58:01.737 20 log.medium Run tlm rx'd. (Code:0) (Message:0)\n"
     ]
    },
    {
     "name": "stdout",
     "output_type": "stream",
     "text": [
      "IS_COLORMODE_MONOCHROME: \n",
      "\tm_nColorMode: \t\t 34\n",
      "\tnBitsPerPixel: \t\t 10\n",
      "\tbytes_per_pixel: \t\t 2\n",
      "\n",
      "Camera model:\t\t UI318xCP-M\n",
      "Camera serial no.:\t 4103541788\n",
      "Maximum image self.width:\t 2592\n",
      "Maximum image self.height:\t 2048\n",
      "\n",
      "200\n"
     ]
    }
   ],
   "source": [
    "\n",
    "module = 'Science29'\n",
    "arm = 'phi'\n",
    "\n",
    "dataPath = '/data/SC29/20190926/'\n",
    "\n",
    "stepList = ['50','400']\n",
    "speedList = ['','Fast']\n",
    "brokens = [57]\n",
    "xml = '/data/SC29/20190926/science29_phi_20190926.xml'\n",
    "\n",
    "for s in speedList:\n",
    "    for f in stepList:\n",
    "        path= dataPath+f'{arm}{f}Step{s}/'\n",
    "        figpath = dataPath+f'{arm}{f}Step{s}MotorMap/'\n",
    "        if not (os.path.exists(path)):\n",
    "                os.mkdir(path)\n",
    "        mt = ModuleTest('128.149.77.24', xml,brokens=brokens,camSplit=28)\n",
    "        vis = visDianosticPlot.VisDianosticPlot(path, brokens=brokens, camSplit=28)\n",
    "        pfi = mt.pfi\n",
    "        pfi.moveAllSteps(mt.allCobras, 0, -5000)\n",
    "        pfi.moveAllSteps(mt.allCobras, 0, -1000)\n",
    "        if s is 'Fast':\n",
    "            \n",
    "            mt.makePhiMotorMap(f'{module}_{arm}_{f}Step{s}.xml', path, \n",
    "                      repeat = 3, steps = 50, fast=True,totalSteps = 6000)\n",
    "        else:\n",
    "            mt.makePhiMotorMap(f'{module}_{arm}_{f}Step{s}.xml', path, \n",
    "                      repeat = 3, steps = 100, fast=True,totalSteps = 6000)\n",
    "            \n",
    "        vis.visCobraMotorMap(stepsize=int(f), figpath=figpath, arm='phi')    \n",
    "        print(path)\n",
    "        del(mt)\n",
    "        del(vis)"
   ]
  },
  {
   "cell_type": "code",
   "execution_count": null,
   "metadata": {},
   "outputs": [],
   "source": [
    "a='50'\n",
    "int(a)"
   ]
  },
  {
   "cell_type": "code",
   "execution_count": null,
   "metadata": {},
   "outputs": [],
   "source": [
    "a='phi50Step'\n",
    "a.split()"
   ]
  },
  {
   "cell_type": "code",
   "execution_count": null,
   "metadata": {},
   "outputs": [],
   "source": [
    "phiPath = '/data/chyan/20190724/phi/'\n",
    "xml = phiPath+'science01_20190724_phi.xml'\n"
   ]
  },
  {
   "cell_type": "code",
   "execution_count": null,
   "metadata": {},
   "outputs": [],
   "source": [
    "model = pfiDesign.PFIDesign(xml)\n",
    "sf = np.rad2deg(np.load(phiPath + 'phiSpeedFW.npy'))\n",
    "sr = np.rad2deg(np.load(phiPath + 'phiSpeedRV.npy'))"
   ]
  },
  {
   "cell_type": "code",
   "execution_count": null,
   "metadata": {},
   "outputs": [],
   "source": [
    "target_sf = np.zeros(57)+0.07\n",
    "ontime = target_sf*model.motorOntimeSlowFwd2/sf"
   ]
  },
  {
   "cell_type": "code",
   "execution_count": null,
   "metadata": {},
   "outputs": [],
   "source": [
    "ontime1 = ontime - 0.005\n",
    "ontime2 = ontime + 0.005\n",
    "ontime3 = ontime + 0.010\n",
    "ontime4 = ontime + 0.015"
   ]
  },
  {
   "cell_type": "code",
   "execution_count": null,
   "metadata": {},
   "outputs": [],
   "source": [
    "ontime4"
   ]
  },
  {
   "cell_type": "code",
   "execution_count": null,
   "metadata": {},
   "outputs": [],
   "source": [
    "mt.makePhiMotorMap('science01_20190725_phi_run1.xml', '/data/chyan/20190725/phi/run1/', \n",
    "                   phiOnTime=ontime1, repeat = 3, fast=False,totalSteps = 7000)\n",
    "mt.makePhiMotorMap('science01_20190725_phi_run2.xml', '/data/chyan/20190725/phi/run2/', \n",
    "                   phiOnTime=ontime2, repeat = 3, fast=False,totalSteps = 7000)\n",
    "mt.makePhiMotorMap('science01_20190725_phi_run3.xml', '/data/chyan/20190725/phi/run3/', \n",
    "                   phiOnTime=ontime3, repeat = 3, fast=False,totalSteps = 7000)\n",
    "mt.makePhiMotorMap('science01_20190725_phi_run4.xml', '/data/chyan/20190725/phi/run4/', \n",
    "                   phiOnTime=ontime4, repeat = 3, fast=False,totalSteps = 7000)"
   ]
  },
  {
   "cell_type": "code",
   "execution_count": null,
   "metadata": {},
   "outputs": [],
   "source": []
  }
 ],
 "metadata": {
  "kernelspec": {
   "display_name": "Python 3",
   "language": "python",
   "name": "python3"
  },
  "language_info": {
   "codemirror_mode": {
    "name": "ipython",
    "version": 3
   },
   "file_extension": ".py",
   "mimetype": "text/x-python",
   "name": "python",
   "nbconvert_exporter": "python",
   "pygments_lexer": "ipython3",
   "version": "3.7.3"
  }
 },
 "nbformat": 4,
 "nbformat_minor": 2
}
