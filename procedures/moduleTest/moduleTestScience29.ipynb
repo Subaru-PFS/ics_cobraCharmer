{
 "cells": [
  {
   "cell_type": "code",
   "execution_count": 1,
   "metadata": {},
   "outputs": [],
   "source": [
    "from moduleTest import ModuleTest\n",
    "import numpy as np\n",
    "from ics.cobraCharmer import pfi as pfiControl\n",
    "from ics.cobraCharmer import pfiDesign\n",
    "import ontimeOptimize\n",
    "\n",
    "import matplotlib.pyplot as plt"
   ]
  },
  {
   "cell_type": "code",
   "execution_count": null,
   "metadata": {},
   "outputs": [],
   "source": [
    "broken=[57]\n",
    "mt = ModuleTest('128.149.77.24', \n",
    "                '/data/SC29/PFS-PFI-CIT900200-05_Science_29_FinalXML.xml', \n",
    "                brokens=broken,camSplit=28)\n",
    "pfi = mt.pfi"
   ]
  },
  {
   "cell_type": "code",
   "execution_count": null,
   "metadata": {
    "scrolled": true
   },
   "outputs": [],
   "source": [
    "mt.convertXML('/data/SC29/Science29_converted.xml')"
   ]
  },
  {
   "cell_type": "code",
   "execution_count": null,
   "metadata": {},
   "outputs": [],
   "source": [
    "del(mt)\n",
    "mt = ModuleTest('128.149.77.24', '/data/SC29/Science29_converted.xml', brokens=broken, camSplit=28)\n",
    "pfi = mt.pfi"
   ]
  },
  {
   "cell_type": "code",
   "execution_count": null,
   "metadata": {},
   "outputs": [],
   "source": [
    "phiOntime = np.zeros(57)+0.08"
   ]
  },
  {
   "cell_type": "code",
   "execution_count": null,
   "metadata": {
    "scrolled": true
   },
   "outputs": [],
   "source": [
    "mt.makePhiMotorMap('science15_20190918_phi.xml', '/data/SC29/20190918/phi', \n",
    "                   phiOnTime=phiOntime, repeat = 1, steps=50,fast=False)"
   ]
  },
  {
   "cell_type": "code",
   "execution_count": null,
   "metadata": {},
   "outputs": [],
   "source": [
    "import visDianosticPlot\n",
    "broken=[57]\n",
    "path = '/data/SC29/20190918/phi/'\n",
    "vis = visDianosticPlot.VisDianosticPlot(path, brokens=broken, camSplit=28)"
   ]
  },
  {
   "cell_type": "code",
   "execution_count": null,
   "metadata": {
    "scrolled": true
   },
   "outputs": [],
   "source": [
    "vis.visPlotGeometry(arm='phi')"
   ]
  },
  {
   "cell_type": "code",
   "execution_count": null,
   "metadata": {
    "scrolled": true
   },
   "outputs": [],
   "source": [
    "vis.visPlotFiberDot(arm='phi')"
   ]
  },
  {
   "cell_type": "code",
   "execution_count": null,
   "metadata": {
    "scrolled": true
   },
   "outputs": [],
   "source": [
    "\n",
    "fpgaHost = '128.149.77.24'\n",
    "brokens=[57]\n",
    "arm='phi'\n",
    "dataPath= '/data/SC29/20190924/'\n",
    "xml ='/data/SC29/20190918/phi/science15_20190918_phi.xml'\n",
    "\n",
    "ontimeOptimize.exploreModuleOntime(fpgaHost=fpgaHost,dataPath = dataPath,brokens=brokens,\n",
    "            arm=arm,camSplit=28, iteration=5, XML=xml)"
   ]
  },
  {
   "cell_type": "code",
   "execution_count": 3,
   "metadata": {},
   "outputs": [],
   "source": [
    "brokens=[57]\n",
    "\n",
    "data = ['/data/SC29/20190924/run0/',\n",
    "        '/data/SC29/20190924/run1/',\n",
    "        '/data/SC29/20190924/run2/',\n",
    "        '/data/SC29/20190924/run3/']\n",
    "otm=ontimeOptimize.OntimeOptimize(brokens=brokens, phiList=data)"
   ]
  },
  {
   "cell_type": "code",
   "execution_count": 4,
   "metadata": {},
   "outputs": [
    {
     "name": "stderr",
     "output_type": "stream",
     "text": [
      "/home/pfs/mhs/devel/ics_cobraCharmer/procedures/moduleTest/ontimeOptimize.py:338: RuntimeWarning: divide by zero encountered in true_divide\n",
      "  newOntimeFwd = (fwd_target - self.fwd_int)/self.fwd_slope\n",
      "/home/pfs/mhs/devel/ics_cobraCharmer/procedures/moduleTest/ontimeOptimize.py:339: RuntimeWarning: divide by zero encountered in true_divide\n",
      "  newOntimeRev = (rev_target - self.rev_int)/self.rev_slope\n"
     ]
    }
   ],
   "source": [
    "initXML = '/data/SC29/20190924/run3/phi_run3.xml'\n",
    "newXML = '/data/SC29/20190926/science29_phi_20190926.xml'\n",
    "otm.updateXML(initXML,newXML, solve= False)"
   ]
  },
  {
   "cell_type": "code",
   "execution_count": 5,
   "metadata": {},
   "outputs": [
    {
     "name": "stderr",
     "output_type": "stream",
     "text": [
      "2019-09-26T14:22:05.688 20 fpgaIO     FPGA connection to 128.149.77.24\n",
      "2019-09-26T14:22:05.725 20 fpga       load cobra model from /data/SC29/20190926/science29_phi_20190926.xml\n",
      "2019-09-26T14:22:05.726 20 log.short  --- ISSUE SETFREQ & VERIFY (brd:1) ---\n",
      "2019-09-26T14:22:05.726 20 log.eth    (ETH)Sent msg on socket.\n",
      "(0300003907d08a7e\t081300ff009a0823\t00ff0094101300fc\t0099102300fc0093\t\n",
      "181300fd00991823\t00f90096201300fc\t009a202300fe0096\t2813010000992823\t\n",
      "00fd0096301300fd\t009a302300fe0097\t3813010100993823\t00fd0095401300fe\t\n",
      "0097402300fe0098\t481300ff00984823\t00fb0095501300ff\t0098502300fa0094\t\n",
      "581300fe009a5823\t00fc0097601300fc\t009a602300fb0095\t681300fa00976823\t\n",
      "00ff0096701300ff\t0099702301010096\t781300fe00987823\t00ff0097801300fe\t\n",
      "009a802300fe0095\t881300ff00998823\t00fe0094901300fd\t009a902301010097\t\n",
      "981300fa00989823\t01000095a01300fd\t0099a02300fd0096\ta81300fb0099a823\t\n",
      "00ff0097b01300fd\t009ab02300fd0096\tb81300fe0098b823\t00fe0097c01300fe\t\n",
      "0098c02300ff0096\tc81300fc0099c823\t00fc0098d0130100\t0098d02300fe0098\t\n",
      "d81300ff0097d823\t00fc0096e01300fd\t0096e02300fe0096\te81300fe0098)\n",
      "2019-09-26T14:22:05.728 20 log.eth    (ETH)Rcvd msg on socket.\n",
      "(030000000000)\n",
      "2019-09-26T14:22:05.729 20 log.medium SetFrequency tlm rx'd. (Code:0) (Message:0)\n",
      "2019-09-26T14:22:05.759 20 log.eth    (ETH)Rcvd msg on socket.\n",
      "(030000000000)\n",
      "2019-09-26T14:22:05.760 20 log.medium SetFrequency tlm rx'd. (Code:0) (Message:0)\n",
      "2019-09-26T14:22:05.761 20 fpga       send SET command succeeded\n"
     ]
    },
    {
     "name": "stdout",
     "output_type": "stream",
     "text": [
      "IS_COLORMODE_MONOCHROME: \n",
      "\tm_nColorMode: \t\t 34\n",
      "\tnBitsPerPixel: \t\t 10\n",
      "\tbytes_per_pixel: \t\t 2\n",
      "\n",
      "Camera model:\t\t UI318xCP-M\n",
      "Camera serial no.:\t 4103536358\n",
      "Maximum image self.width:\t 2592\n",
      "Maximum image self.height:\t 2048\n",
      "\n",
      "200\n"
     ]
    },
    {
     "ename": "KeyboardInterrupt",
     "evalue": "",
     "output_type": "error",
     "traceback": [
      "\u001b[0;31m---------------------------------------------------------------------------\u001b[0m",
      "\u001b[0;31mKeyboardInterrupt\u001b[0m                         Traceback (most recent call last)",
      "\u001b[0;32m<ipython-input-5-93e58b37dda0>\u001b[0m in \u001b[0;36m<module>\u001b[0;34m\u001b[0m\n\u001b[1;32m     16\u001b[0m         \u001b[0;32mif\u001b[0m \u001b[0;32mnot\u001b[0m \u001b[0;34m(\u001b[0m\u001b[0mos\u001b[0m\u001b[0;34m.\u001b[0m\u001b[0mpath\u001b[0m\u001b[0;34m.\u001b[0m\u001b[0mexists\u001b[0m\u001b[0;34m(\u001b[0m\u001b[0mpath\u001b[0m\u001b[0;34m)\u001b[0m\u001b[0;34m)\u001b[0m\u001b[0;34m:\u001b[0m\u001b[0;34m\u001b[0m\u001b[0;34m\u001b[0m\u001b[0m\n\u001b[1;32m     17\u001b[0m                 \u001b[0mos\u001b[0m\u001b[0;34m.\u001b[0m\u001b[0mmkdir\u001b[0m\u001b[0;34m(\u001b[0m\u001b[0mpath\u001b[0m\u001b[0;34m)\u001b[0m\u001b[0;34m\u001b[0m\u001b[0;34m\u001b[0m\u001b[0m\n\u001b[0;32m---> 18\u001b[0;31m         \u001b[0mmt\u001b[0m \u001b[0;34m=\u001b[0m \u001b[0mModuleTest\u001b[0m\u001b[0;34m(\u001b[0m\u001b[0;34m'128.149.77.24'\u001b[0m\u001b[0;34m,\u001b[0m \u001b[0mxml\u001b[0m\u001b[0;34m,\u001b[0m\u001b[0mbrokens\u001b[0m\u001b[0;34m=\u001b[0m\u001b[0mbrokens\u001b[0m\u001b[0;34m,\u001b[0m\u001b[0mcamSplit\u001b[0m\u001b[0;34m=\u001b[0m\u001b[0;36m28\u001b[0m\u001b[0;34m)\u001b[0m\u001b[0;34m\u001b[0m\u001b[0;34m\u001b[0m\u001b[0m\n\u001b[0m\u001b[1;32m     19\u001b[0m         \u001b[0mpfi\u001b[0m \u001b[0;34m=\u001b[0m \u001b[0mmt\u001b[0m\u001b[0;34m.\u001b[0m\u001b[0mpfi\u001b[0m\u001b[0;34m\u001b[0m\u001b[0;34m\u001b[0m\u001b[0m\n\u001b[1;32m     20\u001b[0m         \u001b[0mpfi\u001b[0m\u001b[0;34m.\u001b[0m\u001b[0mmoveAllSteps\u001b[0m\u001b[0;34m(\u001b[0m\u001b[0mmt\u001b[0m\u001b[0;34m.\u001b[0m\u001b[0mallCobras\u001b[0m\u001b[0;34m,\u001b[0m \u001b[0;36m0\u001b[0m\u001b[0;34m,\u001b[0m \u001b[0;34m-\u001b[0m\u001b[0;36m5000\u001b[0m\u001b[0;34m)\u001b[0m\u001b[0;34m\u001b[0m\u001b[0;34m\u001b[0m\u001b[0m\n",
      "\u001b[0;32m~/mhs/devel/ics_cobraCharmer/procedures/moduleTest/moduleTest.py\u001b[0m in \u001b[0;36m__init__\u001b[0;34m(self, fpgaHost, xml, brokens, cam1Id, cam2Id, camSplit)\u001b[0m\n\u001b[1;32m     56\u001b[0m         \u001b[0;31m# initialize cameras\u001b[0m\u001b[0;34m\u001b[0m\u001b[0;34m\u001b[0m\u001b[0;34m\u001b[0m\u001b[0m\n\u001b[1;32m     57\u001b[0m         \u001b[0mself\u001b[0m\u001b[0;34m.\u001b[0m\u001b[0mcam1\u001b[0m \u001b[0;34m=\u001b[0m \u001b[0mCamera\u001b[0m\u001b[0;34m(\u001b[0m\u001b[0mcam1Id\u001b[0m\u001b[0;34m)\u001b[0m\u001b[0;34m\u001b[0m\u001b[0;34m\u001b[0m\u001b[0m\n\u001b[0;32m---> 58\u001b[0;31m         \u001b[0mself\u001b[0m\u001b[0;34m.\u001b[0m\u001b[0mcam2\u001b[0m \u001b[0;34m=\u001b[0m \u001b[0mCamera\u001b[0m\u001b[0;34m(\u001b[0m\u001b[0mcam2Id\u001b[0m\u001b[0;34m)\u001b[0m\u001b[0;34m\u001b[0m\u001b[0;34m\u001b[0m\u001b[0m\n\u001b[0m\u001b[1;32m     59\u001b[0m         \u001b[0mself\u001b[0m\u001b[0;34m.\u001b[0m\u001b[0mcamSplit\u001b[0m \u001b[0;34m=\u001b[0m \u001b[0mcamSplit\u001b[0m\u001b[0;34m\u001b[0m\u001b[0;34m\u001b[0m\u001b[0m\n\u001b[1;32m     60\u001b[0m \u001b[0;34m\u001b[0m\u001b[0m\n",
      "\u001b[0;32m~/mhs/devel/ics_cobraCharmer/procedures/moduleTest/moduleTest.py\u001b[0m in \u001b[0;36m__init__\u001b[0;34m(self, devId)\u001b[0m\n\u001b[1;32m     12\u001b[0m     \u001b[0;32mdef\u001b[0m \u001b[0m__init__\u001b[0m\u001b[0;34m(\u001b[0m\u001b[0mself\u001b[0m\u001b[0;34m,\u001b[0m \u001b[0mdevId\u001b[0m\u001b[0;34m)\u001b[0m\u001b[0;34m:\u001b[0m\u001b[0;34m\u001b[0m\u001b[0;34m\u001b[0m\u001b[0m\n\u001b[1;32m     13\u001b[0m         \u001b[0mself\u001b[0m\u001b[0;34m.\u001b[0m\u001b[0mdevId\u001b[0m \u001b[0;34m=\u001b[0m \u001b[0mdevId\u001b[0m\u001b[0;34m\u001b[0m\u001b[0;34m\u001b[0m\u001b[0m\n\u001b[0;32m---> 14\u001b[0;31m         \u001b[0mself\u001b[0m\u001b[0;34m.\u001b[0m\u001b[0mcamera\u001b[0m \u001b[0;34m=\u001b[0m \u001b[0midsCamera\u001b[0m\u001b[0;34m(\u001b[0m\u001b[0mdevId\u001b[0m\u001b[0;34m)\u001b[0m\u001b[0;34m\u001b[0m\u001b[0;34m\u001b[0m\u001b[0m\n\u001b[0m\u001b[1;32m     15\u001b[0m         \u001b[0mself\u001b[0m\u001b[0;34m.\u001b[0m\u001b[0mcamera\u001b[0m\u001b[0;34m.\u001b[0m\u001b[0msetExpoureTime\u001b[0m\u001b[0;34m(\u001b[0m\u001b[0;36m20\u001b[0m\u001b[0;34m)\u001b[0m\u001b[0;34m\u001b[0m\u001b[0;34m\u001b[0m\u001b[0m\n\u001b[1;32m     16\u001b[0m         \u001b[0mself\u001b[0m\u001b[0;34m.\u001b[0m\u001b[0mdata\u001b[0m \u001b[0;34m=\u001b[0m \u001b[0;32mNone\u001b[0m\u001b[0;34m\u001b[0m\u001b[0;34m\u001b[0m\u001b[0m\n",
      "\u001b[0;32m~/mhs/devel/ics_cobraCharmer/procedures/idsCamera.py\u001b[0m in \u001b[0;36m__init__\u001b[0;34m(self, deviceID)\u001b[0m\n\u001b[1;32m     73\u001b[0m         \u001b[0;31m#self.nBitsPerPixel = 10;\u001b[0m\u001b[0;34m\u001b[0m\u001b[0;34m\u001b[0m\u001b[0;34m\u001b[0m\u001b[0m\n\u001b[1;32m     74\u001b[0m         \u001b[0;31m# Starts the driver and establishes the connection to the camera\u001b[0m\u001b[0;34m\u001b[0m\u001b[0;34m\u001b[0m\u001b[0;34m\u001b[0m\u001b[0m\n\u001b[0;32m---> 75\u001b[0;31m         \u001b[0mnRet\u001b[0m \u001b[0;34m=\u001b[0m \u001b[0mueye\u001b[0m\u001b[0;34m.\u001b[0m\u001b[0mis_InitCamera\u001b[0m\u001b[0;34m(\u001b[0m\u001b[0mself\u001b[0m\u001b[0;34m.\u001b[0m\u001b[0mhCam\u001b[0m\u001b[0;34m,\u001b[0m \u001b[0;32mNone\u001b[0m\u001b[0;34m)\u001b[0m\u001b[0;34m\u001b[0m\u001b[0;34m\u001b[0m\u001b[0m\n\u001b[0m\u001b[1;32m     76\u001b[0m         \u001b[0;32mif\u001b[0m \u001b[0mnRet\u001b[0m \u001b[0;34m!=\u001b[0m \u001b[0mueye\u001b[0m\u001b[0;34m.\u001b[0m\u001b[0mIS_SUCCESS\u001b[0m\u001b[0;34m:\u001b[0m\u001b[0;34m\u001b[0m\u001b[0;34m\u001b[0m\u001b[0m\n\u001b[1;32m     77\u001b[0m             \u001b[0mprint\u001b[0m\u001b[0;34m(\u001b[0m\u001b[0;34m\"is_InitCamera ERROR\"\u001b[0m\u001b[0;34m)\u001b[0m\u001b[0;34m\u001b[0m\u001b[0;34m\u001b[0m\u001b[0m\n",
      "\u001b[0;32m~/anaconda3/lib/python3.7/site-packages/pyueye/ueye.py\u001b[0m in \u001b[0;36mis_InitCamera\u001b[0;34m(phCam, hWnd)\u001b[0m\n\u001b[1;32m   6282\u001b[0m     \u001b[0m_hWnd\u001b[0m \u001b[0;34m=\u001b[0m \u001b[0m_pointer_cast\u001b[0m\u001b[0;34m(\u001b[0m\u001b[0mhWnd\u001b[0m\u001b[0;34m,\u001b[0m \u001b[0mctypes\u001b[0m\u001b[0;34m.\u001b[0m\u001b[0mc_void_p\u001b[0m\u001b[0;34m)\u001b[0m\u001b[0;34m\u001b[0m\u001b[0;34m\u001b[0m\u001b[0m\n\u001b[1;32m   6283\u001b[0m \u001b[0;34m\u001b[0m\u001b[0m\n\u001b[0;32m-> 6284\u001b[0;31m     \u001b[0mret\u001b[0m \u001b[0;34m=\u001b[0m \u001b[0m_is_InitCamera\u001b[0m\u001b[0;34m(\u001b[0m\u001b[0mctypes\u001b[0m\u001b[0;34m.\u001b[0m\u001b[0mbyref\u001b[0m\u001b[0;34m(\u001b[0m\u001b[0mphCam\u001b[0m\u001b[0;34m)\u001b[0m\u001b[0;34m,\u001b[0m \u001b[0m_hWnd\u001b[0m\u001b[0;34m)\u001b[0m\u001b[0;34m\u001b[0m\u001b[0;34m\u001b[0m\u001b[0m\n\u001b[0m\u001b[1;32m   6285\u001b[0m \u001b[0;34m\u001b[0m\u001b[0m\n\u001b[1;32m   6286\u001b[0m     \u001b[0;32mreturn\u001b[0m \u001b[0mret\u001b[0m\u001b[0;34m\u001b[0m\u001b[0;34m\u001b[0m\u001b[0m\n",
      "\u001b[0;31mKeyboardInterrupt\u001b[0m: "
     ]
    }
   ],
   "source": [
    "import os\n",
    "\n",
    "module = 'Science29'\n",
    "arm = 'phi'\n",
    "\n",
    "dataPath = '/data/SC29/20190926/'\n",
    "\n",
    "stepList = ['50','400']\n",
    "speedList = ['','Fast']\n",
    "brokens = [57]\n",
    "xml = '/data/SC29/20190926/science29_phi_20190926.xml'\n",
    "\n",
    "for s in speedList:\n",
    "    for f in stepList:\n",
    "        path= dataPath+f'{arm}{f}Step{s}/'\n",
    "        if not (os.path.exists(path)):\n",
    "                os.mkdir(path)\n",
    "        mt = ModuleTest('128.149.77.24', xml,brokens=brokens,camSplit=28)\n",
    "        pfi = mt.pfi\n",
    "        pfi.moveAllSteps(mt.allCobras, 0, -5000)\n",
    "        pfi.moveAllSteps(mt.allCobras, 0, -1000)\n",
    "        if s is 'Fast':\n",
    "            \n",
    "            mt.makePhiMotorMap(f'{module}_{arm}_{f}Step{s}.xml', path, \n",
    "                      repeat = 3, steps = 50, fast=True,totalSteps = 6000)\n",
    "        else:\n",
    "            mt.makePhiMotorMap(f'{module}_{arm}_{f}Step{s}.xml', path, \n",
    "                      repeat = 3, steps = 100, fast=True,totalSteps = 6000)\n",
    "        print(path)\n",
    "        del(mt)"
   ]
  },
  {
   "cell_type": "code",
   "execution_count": null,
   "metadata": {},
   "outputs": [],
   "source": []
  },
  {
   "cell_type": "code",
   "execution_count": null,
   "metadata": {},
   "outputs": [],
   "source": [
    "a='phi50Step'\n",
    "a.split()"
   ]
  },
  {
   "cell_type": "code",
   "execution_count": null,
   "metadata": {},
   "outputs": [],
   "source": [
    "phiPath = '/data/chyan/20190724/phi/'\n",
    "xml = phiPath+'science01_20190724_phi.xml'\n"
   ]
  },
  {
   "cell_type": "code",
   "execution_count": null,
   "metadata": {},
   "outputs": [],
   "source": [
    "model = pfiDesign.PFIDesign(xml)\n",
    "sf = np.rad2deg(np.load(phiPath + 'phiSpeedFW.npy'))\n",
    "sr = np.rad2deg(np.load(phiPath + 'phiSpeedRV.npy'))"
   ]
  },
  {
   "cell_type": "code",
   "execution_count": null,
   "metadata": {},
   "outputs": [],
   "source": [
    "target_sf = np.zeros(57)+0.07\n",
    "ontime = target_sf*model.motorOntimeSlowFwd2/sf"
   ]
  },
  {
   "cell_type": "code",
   "execution_count": null,
   "metadata": {},
   "outputs": [],
   "source": [
    "ontime1 = ontime - 0.005\n",
    "ontime2 = ontime + 0.005\n",
    "ontime3 = ontime + 0.010\n",
    "ontime4 = ontime + 0.015"
   ]
  },
  {
   "cell_type": "code",
   "execution_count": null,
   "metadata": {},
   "outputs": [],
   "source": [
    "ontime4"
   ]
  },
  {
   "cell_type": "code",
   "execution_count": null,
   "metadata": {},
   "outputs": [],
   "source": [
    "mt.makePhiMotorMap('science01_20190725_phi_run1.xml', '/data/chyan/20190725/phi/run1/', \n",
    "                   phiOnTime=ontime1, repeat = 3, fast=False,totalSteps = 7000)\n",
    "mt.makePhiMotorMap('science01_20190725_phi_run2.xml', '/data/chyan/20190725/phi/run2/', \n",
    "                   phiOnTime=ontime2, repeat = 3, fast=False,totalSteps = 7000)\n",
    "mt.makePhiMotorMap('science01_20190725_phi_run3.xml', '/data/chyan/20190725/phi/run3/', \n",
    "                   phiOnTime=ontime3, repeat = 3, fast=False,totalSteps = 7000)\n",
    "mt.makePhiMotorMap('science01_20190725_phi_run4.xml', '/data/chyan/20190725/phi/run4/', \n",
    "                   phiOnTime=ontime4, repeat = 3, fast=False,totalSteps = 7000)"
   ]
  },
  {
   "cell_type": "code",
   "execution_count": null,
   "metadata": {},
   "outputs": [],
   "source": []
  }
 ],
 "metadata": {
  "kernelspec": {
   "display_name": "Python 3",
   "language": "python",
   "name": "python3"
  },
  "language_info": {
   "codemirror_mode": {
    "name": "ipython",
    "version": 3
   },
   "file_extension": ".py",
   "mimetype": "text/x-python",
   "name": "python",
   "nbconvert_exporter": "python",
   "pygments_lexer": "ipython3",
   "version": "3.7.3"
  }
 },
 "nbformat": 4,
 "nbformat_minor": 2
}
