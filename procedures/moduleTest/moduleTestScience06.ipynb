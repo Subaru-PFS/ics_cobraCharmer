{
 "cells": [
  {
   "cell_type": "code",
   "execution_count": 3,
   "metadata": {},
   "outputs": [],
   "source": [
    "from moduleTest import ModuleTest\n",
    "import numpy as np\n",
    "import pandas as pd\n",
    "from ics.cobraCharmer import pfi as pfiControl\n",
    "from ics.cobraCharmer import pfiDesign\n",
    "import moduleAnalyze\n",
    "import visDianosticPlot\n",
    "import os\n",
    "from importlib import reload \n",
    "import matplotlib.pyplot as plt\n",
    "import pathlib"
   ]
  },
  {
   "cell_type": "code",
   "execution_count": 4,
   "metadata": {},
   "outputs": [],
   "source": [
    "moduleNameLong = 'Science06'\n",
    "moduleNameShort = 'SC06'"
   ]
  },
  {
   "cell_type": "code",
   "execution_count": 5,
   "metadata": {},
   "outputs": [],
   "source": [
    "xml = pathlib.Path('/home/pfs/mhs/devel/pfs_instdata/data/pfi/modules/SC06/SC06_thetaFinal.xml')"
   ]
  },
  {
   "cell_type": "code",
   "execution_count": 6,
   "metadata": {},
   "outputs": [
    {
     "name": "stderr",
     "output_type": "stream",
     "text": [
      "2019-12-30 10:58:43.501Z butler           30 butler.py:58 newRun: /data/MCS/20191230_000\n",
      "2019-12-30 10:58:43.502Z fpgaIO           20 pfi.py:57 FPGA connection to 128.149.77.24\n",
      "/home/pfs/mhs/devel/ics_cobraCharmer/python/ics/cobraCharmer/pfiDesign.py:54: UserWarning: please use PFIDesign.loadModule() or PFIDesign.loadPFI()\n",
      "  warnings.warn('please use PFIDesign.loadModule() or PFIDesign.loadPFI()')\n",
      "2019-12-30 10:58:43.726Z pfi              20 pfi.py:73 load cobra model from /home/pfs/mhs/devel/pfs_instdata/data/pfi/modules/SC06/SC06_thetaFinal.xml\n",
      "2019-12-30 10:58:43.780Z camera           20 asrdCam.py:17 asrd...\n"
     ]
    }
   ],
   "source": [
    "brokens = []\n",
    "mt = ModuleTest('fpga', xml, brokens=brokens)\n",
    "mt._connect()"
   ]
  },
  {
   "cell_type": "code",
   "execution_count": 7,
   "metadata": {
    "scrolled": true
   },
   "outputs": [
    {
     "name": "stdout",
     "output_type": "stream",
     "text": [
      "IS_COLORMODE_MONOCHROME: \n",
      "\tm_nColorMode: \t\t 34\n",
      "\tnBitsPerPixel: \t\t 10\n",
      "\tbytes_per_pixel: \t\t 2\n",
      "\n",
      "Camera model:\t\t UI318xCP-M\n",
      "Camera serial no.:\t 4103536358\n",
      "Maximum image self.width:\t 2592\n",
      "Maximum image self.height:\t 2048\n",
      "\n",
      "200\n",
      "IS_COLORMODE_MONOCHROME: \n",
      "\tm_nColorMode: \t\t 34\n",
      "\tnBitsPerPixel: \t\t 10\n",
      "\tbytes_per_pixel: \t\t 2\n",
      "\n",
      "Camera model:\t\t UI318xCP-M\n",
      "Camera serial no.:\t 4103541788\n",
      "Maximum image self.width:\t 2592\n",
      "Maximum image self.height:\t 2048\n",
      "\n",
      "200\n",
      "getting image\n",
      "(2048, 2592, 2)\n",
      "getting image\n",
      "(2048, 2592, 2)\n",
      "getting image\n",
      "(2048, 2592, 2)\n",
      "getting image\n",
      "(2048, 2592, 2)\n"
     ]
    },
    {
     "name": "stderr",
     "output_type": "stream",
     "text": [
      "2019-12-30 10:58:59.968Z root             20 pfiDesign.py:740 wrote pfiDesign file for 57 cobras and name=None to /data/SC06/Science06_converted.xml\n",
      "/home/pfs/mhs/devel/ics_cobraCharmer/python/ics/cobraCharmer/pfiDesign.py:54: UserWarning: please use PFIDesign.loadModule() or PFIDesign.loadPFI()\n",
      "  warnings.warn('please use PFIDesign.loadModule() or PFIDesign.loadPFI()')\n"
     ]
    }
   ],
   "source": [
    "mt.convertXML(f'/data/{moduleNameShort}/{moduleNameLong}_converted.xml')"
   ]
  },
  {
   "cell_type": "code",
   "execution_count": 8,
   "metadata": {},
   "outputs": [
    {
     "name": "stderr",
     "output_type": "stream",
     "text": [
      "2019-12-30 10:59:00.016Z butler           30 butler.py:58 newRun: /data/MCS/20191230_001\n",
      "2019-12-30 10:59:00.018Z fpgaIO           20 pfi.py:57 FPGA connection to 128.149.77.24\n",
      "2019-12-30 10:59:00.047Z pfi              20 pfi.py:73 load cobra model from /data/SC06/Science06_converted.xml\n"
     ]
    },
    {
     "name": "stdout",
     "output_type": "stream",
     "text": [
      "Camera close!\n"
     ]
    },
    {
     "name": "stderr",
     "output_type": "stream",
     "text": [
      "2019-12-30 10:59:00.741Z camera           20 asrdCam.py:17 asrd...\n"
     ]
    },
    {
     "name": "stdout",
     "output_type": "stream",
     "text": [
      "Camera close!\n"
     ]
    }
   ],
   "source": [
    "\n",
    "xml = pathlib.Path(f'/data/{moduleNameShort}/{moduleNameLong}_converted.xml')\n",
    "brokens = []\n",
    "mt = ModuleTest('fpga', xml, brokens=brokens)\n",
    "mt._connect()"
   ]
  },
  {
   "cell_type": "code",
   "execution_count": 9,
   "metadata": {
    "scrolled": true
   },
   "outputs": [
    {
     "name": "stderr",
     "output_type": "stream",
     "text": [
      "2019-12-30 10:59:06.425Z butler           30 butler.py:58 newRun: /data/MCS/20191230_002\n",
      "2019-12-30 10:59:06.427Z fpgaIO           20 pfi.py:57 FPGA connection to 128.149.77.24\n",
      "2019-12-30 10:59:06.484Z pfi              20 pfi.py:73 load cobra model from /data/SC06/Science06_converted.xml\n",
      "2019-12-30 10:59:06.520Z camera           20 asrdCam.py:17 asrd...\n",
      "2019-12-30 10:59:06.550Z moduleTest       20 moduleTest.py:943 phi home -6000 steps\n"
     ]
    },
    {
     "name": "stdout",
     "output_type": "stream",
     "text": [
      "IS_COLORMODE_MONOCHROME: \n",
      "\tm_nColorMode: \t\t 34\n",
      "\tnBitsPerPixel: \t\t 10\n",
      "\tbytes_per_pixel: \t\t 2\n",
      "\n",
      "Camera model:\t\t UI318xCP-M\n",
      "Camera serial no.:\t 4103536358\n",
      "Maximum image self.width:\t 2592\n",
      "Maximum image self.height:\t 2048\n",
      "\n",
      "200\n",
      "IS_COLORMODE_MONOCHROME: \n",
      "\tm_nColorMode: \t\t 34\n",
      "\tnBitsPerPixel: \t\t 10\n",
      "\tbytes_per_pixel: \t\t 2\n",
      "\n",
      "Camera model:\t\t UI318xCP-M\n",
      "Camera serial no.:\t 4103541788\n",
      "Maximum image self.width:\t 2592\n",
      "Maximum image self.height:\t 2048\n",
      "\n",
      "200\n",
      "getting image\n",
      "(2048, 2592, 2)\n",
      "getting image\n",
      "(2048, 2592, 2)\n",
      "getting image\n",
      "(2048, 2592, 2)\n",
      "getting image\n",
      "(2048, 2592, 2)\n"
     ]
    },
    {
     "name": "stderr",
     "output_type": "stream",
     "text": [
      "2019-12-30 10:59:33.402Z moduleTest       20 moduleTest.py:954 1/3 phi forward to 250\n"
     ]
    },
    {
     "name": "stdout",
     "output_type": "stream",
     "text": [
      "getting image\n",
      "(2048, 2592, 2)\n",
      "getting image\n",
      "(2048, 2592, 2)\n",
      "getting image\n",
      "(2048, 2592, 2)\n",
      "getting image\n",
      "(2048, 2592, 2)\n"
     ]
    },
    {
     "name": "stderr",
     "output_type": "stream",
     "text": [
      "2019-12-30 10:59:35.901Z moduleTest       20 moduleTest.py:954 1/3 phi forward to 500\n"
     ]
    },
    {
     "name": "stdout",
     "output_type": "stream",
     "text": [
      "getting image\n",
      "(2048, 2592, 2)\n",
      "getting image\n",
      "(2048, 2592, 2)\n",
      "getting image\n",
      "(2048, 2592, 2)\n",
      "getting image\n",
      "(2048, 2592, 2)\n"
     ]
    },
    {
     "name": "stderr",
     "output_type": "stream",
     "text": [
      "2019-12-30 10:59:38.290Z moduleTest       20 moduleTest.py:954 1/3 phi forward to 750\n"
     ]
    },
    {
     "name": "stdout",
     "output_type": "stream",
     "text": [
      "getting image\n",
      "(2048, 2592, 2)\n",
      "getting image\n",
      "(2048, 2592, 2)\n",
      "getting image\n",
      "(2048, 2592, 2)\n",
      "getting image\n",
      "(2048, 2592, 2)\n"
     ]
    },
    {
     "name": "stderr",
     "output_type": "stream",
     "text": [
      "2019-12-30 10:59:40.789Z moduleTest       20 moduleTest.py:954 1/3 phi forward to 1000\n"
     ]
    },
    {
     "name": "stdout",
     "output_type": "stream",
     "text": [
      "getting image\n",
      "(2048, 2592, 2)\n",
      "getting image\n",
      "(2048, 2592, 2)\n",
      "getting image\n",
      "(2048, 2592, 2)\n",
      "getting image\n",
      "(2048, 2592, 2)\n"
     ]
    },
    {
     "name": "stderr",
     "output_type": "stream",
     "text": [
      "2019-12-30 10:59:43.284Z moduleTest       20 moduleTest.py:954 1/3 phi forward to 1250\n"
     ]
    },
    {
     "name": "stdout",
     "output_type": "stream",
     "text": [
      "getting image\n",
      "(2048, 2592, 2)\n",
      "getting image\n",
      "(2048, 2592, 2)\n",
      "getting image\n",
      "(2048, 2592, 2)\n",
      "getting image\n",
      "(2048, 2592, 2)\n"
     ]
    },
    {
     "name": "stderr",
     "output_type": "stream",
     "text": [
      "2019-12-30 10:59:45.648Z moduleTest       20 moduleTest.py:954 1/3 phi forward to 1500\n"
     ]
    },
    {
     "name": "stdout",
     "output_type": "stream",
     "text": [
      "getting image\n",
      "(2048, 2592, 2)\n",
      "getting image\n",
      "(2048, 2592, 2)\n",
      "getting image\n",
      "(2048, 2592, 2)\n",
      "getting image\n",
      "(2048, 2592, 2)\n"
     ]
    },
    {
     "name": "stderr",
     "output_type": "stream",
     "text": [
      "2019-12-30 10:59:48.124Z moduleTest       20 moduleTest.py:954 1/3 phi forward to 1750\n"
     ]
    },
    {
     "name": "stdout",
     "output_type": "stream",
     "text": [
      "getting image\n",
      "(2048, 2592, 2)\n",
      "getting image\n",
      "(2048, 2592, 2)\n",
      "getting image\n",
      "(2048, 2592, 2)\n",
      "getting image\n",
      "(2048, 2592, 2)\n"
     ]
    },
    {
     "name": "stderr",
     "output_type": "stream",
     "text": [
      "2019-12-30 10:59:50.629Z moduleTest       20 moduleTest.py:954 1/3 phi forward to 2000\n"
     ]
    },
    {
     "name": "stdout",
     "output_type": "stream",
     "text": [
      "getting image\n",
      "(2048, 2592, 2)\n",
      "getting image\n",
      "(2048, 2592, 2)\n",
      "getting image\n",
      "(2048, 2592, 2)\n",
      "getting image\n",
      "(2048, 2592, 2)\n"
     ]
    },
    {
     "name": "stderr",
     "output_type": "stream",
     "text": [
      "2019-12-30 10:59:53.141Z moduleTest       20 moduleTest.py:954 1/3 phi forward to 2250\n"
     ]
    },
    {
     "name": "stdout",
     "output_type": "stream",
     "text": [
      "getting image\n",
      "(2048, 2592, 2)\n",
      "getting image\n",
      "(2048, 2592, 2)\n",
      "getting image\n",
      "(2048, 2592, 2)\n",
      "getting image\n",
      "(2048, 2592, 2)\n"
     ]
    },
    {
     "name": "stderr",
     "output_type": "stream",
     "text": [
      "2019-12-30 10:59:55.641Z moduleTest       20 moduleTest.py:954 1/3 phi forward to 2500\n"
     ]
    },
    {
     "name": "stdout",
     "output_type": "stream",
     "text": [
      "getting image\n",
      "(2048, 2592, 2)\n",
      "getting image\n",
      "(2048, 2592, 2)\n",
      "getting image\n",
      "(2048, 2592, 2)\n",
      "getting image\n",
      "(2048, 2592, 2)\n"
     ]
    },
    {
     "name": "stderr",
     "output_type": "stream",
     "text": [
      "2019-12-30 10:59:58.145Z moduleTest       20 moduleTest.py:954 1/3 phi forward to 2750\n"
     ]
    },
    {
     "name": "stdout",
     "output_type": "stream",
     "text": [
      "getting image\n",
      "(2048, 2592, 2)\n",
      "getting image\n",
      "(2048, 2592, 2)\n",
      "getting image\n",
      "(2048, 2592, 2)\n",
      "getting image\n",
      "(2048, 2592, 2)\n"
     ]
    },
    {
     "name": "stderr",
     "output_type": "stream",
     "text": [
      "2019-12-30 11:00:00.653Z moduleTest       20 moduleTest.py:954 1/3 phi forward to 3000\n"
     ]
    },
    {
     "name": "stdout",
     "output_type": "stream",
     "text": [
      "getting image\n",
      "(2048, 2592, 2)\n",
      "getting image\n",
      "(2048, 2592, 2)\n",
      "getting image\n",
      "(2048, 2592, 2)\n",
      "getting image\n",
      "(2048, 2592, 2)\n"
     ]
    },
    {
     "name": "stderr",
     "output_type": "stream",
     "text": [
      "2019-12-30 11:00:03.152Z moduleTest       20 moduleTest.py:954 1/3 phi forward to 3250\n"
     ]
    },
    {
     "name": "stdout",
     "output_type": "stream",
     "text": [
      "getting image\n",
      "(2048, 2592, 2)\n",
      "getting image\n",
      "(2048, 2592, 2)\n",
      "getting image\n",
      "(2048, 2592, 2)\n",
      "getting image\n",
      "(2048, 2592, 2)\n"
     ]
    },
    {
     "name": "stderr",
     "output_type": "stream",
     "text": [
      "2019-12-30 11:00:05.639Z moduleTest       20 moduleTest.py:954 1/3 phi forward to 3500\n"
     ]
    },
    {
     "name": "stdout",
     "output_type": "stream",
     "text": [
      "getting image\n",
      "(2048, 2592, 2)\n",
      "getting image\n",
      "(2048, 2592, 2)\n",
      "getting image\n",
      "(2048, 2592, 2)\n",
      "getting image\n",
      "(2048, 2592, 2)\n"
     ]
    },
    {
     "name": "stderr",
     "output_type": "stream",
     "text": [
      "2019-12-30 11:00:08.279Z moduleTest       20 moduleTest.py:954 1/3 phi forward to 3750\n"
     ]
    },
    {
     "name": "stdout",
     "output_type": "stream",
     "text": [
      "getting image\n",
      "(2048, 2592, 2)\n",
      "getting image\n",
      "(2048, 2592, 2)\n",
      "getting image\n",
      "(2048, 2592, 2)\n",
      "getting image\n",
      "(2048, 2592, 2)\n"
     ]
    },
    {
     "name": "stderr",
     "output_type": "stream",
     "text": [
      "2019-12-30 11:00:10.645Z moduleTest       20 moduleTest.py:954 1/3 phi forward to 4000\n"
     ]
    },
    {
     "name": "stdout",
     "output_type": "stream",
     "text": [
      "getting image\n",
      "(2048, 2592, 2)\n",
      "getting image\n",
      "(2048, 2592, 2)\n",
      "getting image\n",
      "(2048, 2592, 2)\n",
      "getting image\n",
      "(2048, 2592, 2)\n"
     ]
    },
    {
     "name": "stderr",
     "output_type": "stream",
     "text": [
      "2019-12-30 11:00:13.139Z moduleTest       20 moduleTest.py:954 1/3 phi forward to 4250\n"
     ]
    },
    {
     "name": "stdout",
     "output_type": "stream",
     "text": [
      "getting image\n",
      "(2048, 2592, 2)\n",
      "getting image\n",
      "(2048, 2592, 2)\n",
      "getting image\n",
      "(2048, 2592, 2)\n",
      "getting image\n",
      "(2048, 2592, 2)\n"
     ]
    },
    {
     "name": "stderr",
     "output_type": "stream",
     "text": [
      "2019-12-30 11:00:15.671Z moduleTest       20 moduleTest.py:954 1/3 phi forward to 4500\n"
     ]
    },
    {
     "name": "stdout",
     "output_type": "stream",
     "text": [
      "getting image\n",
      "(2048, 2592, 2)\n",
      "getting image\n",
      "(2048, 2592, 2)\n",
      "getting image\n",
      "(2048, 2592, 2)\n",
      "getting image\n",
      "(2048, 2592, 2)\n"
     ]
    },
    {
     "name": "stderr",
     "output_type": "stream",
     "text": [
      "2019-12-30 11:00:18.158Z moduleTest       20 moduleTest.py:954 1/3 phi forward to 4750\n"
     ]
    },
    {
     "name": "stdout",
     "output_type": "stream",
     "text": [
      "getting image\n",
      "(2048, 2592, 2)\n",
      "getting image\n",
      "(2048, 2592, 2)\n",
      "getting image\n",
      "(2048, 2592, 2)\n",
      "getting image\n",
      "(2048, 2592, 2)\n"
     ]
    },
    {
     "name": "stderr",
     "output_type": "stream",
     "text": [
      "2019-12-30 11:00:20.777Z moduleTest       20 moduleTest.py:954 1/3 phi forward to 5000\n"
     ]
    },
    {
     "name": "stdout",
     "output_type": "stream",
     "text": [
      "getting image\n",
      "(2048, 2592, 2)\n",
      "getting image\n",
      "(2048, 2592, 2)\n",
      "getting image\n",
      "(2048, 2592, 2)\n",
      "getting image\n",
      "(2048, 2592, 2)\n"
     ]
    },
    {
     "name": "stderr",
     "output_type": "stream",
     "text": [
      "2019-12-30 11:00:23.135Z moduleTest       20 moduleTest.py:954 1/3 phi forward to 5250\n"
     ]
    },
    {
     "name": "stdout",
     "output_type": "stream",
     "text": [
      "getting image\n",
      "(2048, 2592, 2)\n",
      "getting image\n",
      "(2048, 2592, 2)\n",
      "getting image\n",
      "(2048, 2592, 2)\n",
      "getting image\n",
      "(2048, 2592, 2)\n"
     ]
    },
    {
     "name": "stderr",
     "output_type": "stream",
     "text": [
      "2019-12-30 11:00:25.639Z moduleTest       20 moduleTest.py:954 1/3 phi forward to 5500\n"
     ]
    },
    {
     "name": "stdout",
     "output_type": "stream",
     "text": [
      "getting image\n",
      "(2048, 2592, 2)\n",
      "getting image\n",
      "(2048, 2592, 2)\n",
      "getting image\n",
      "(2048, 2592, 2)\n",
      "getting image\n",
      "(2048, 2592, 2)\n"
     ]
    },
    {
     "name": "stderr",
     "output_type": "stream",
     "text": [
      "2019-12-30 11:00:28.293Z moduleTest       20 moduleTest.py:954 1/3 phi forward to 5750\n"
     ]
    },
    {
     "name": "stdout",
     "output_type": "stream",
     "text": [
      "getting image\n",
      "(2048, 2592, 2)\n",
      "getting image\n",
      "(2048, 2592, 2)\n",
      "getting image\n",
      "(2048, 2592, 2)\n",
      "getting image\n",
      "(2048, 2592, 2)\n"
     ]
    },
    {
     "name": "stderr",
     "output_type": "stream",
     "text": [
      "2019-12-30 11:00:30.941Z moduleTest       20 moduleTest.py:954 1/3 phi forward to 6000\n"
     ]
    },
    {
     "name": "stdout",
     "output_type": "stream",
     "text": [
      "getting image\n",
      "(2048, 2592, 2)\n",
      "getting image\n",
      "(2048, 2592, 2)\n",
      "getting image\n",
      "(2048, 2592, 2)\n",
      "getting image\n",
      "(2048, 2592, 2)\n"
     ]
    },
    {
     "name": "stderr",
     "output_type": "stream",
     "text": [
      "2019-12-30 11:00:33.445Z moduleTest       20 moduleTest.py:981 1/3 phi forward 6000 to limit\n"
     ]
    },
    {
     "name": "stdout",
     "output_type": "stream",
     "text": [
      "getting image\n",
      "(2048, 2592, 2)\n",
      "getting image\n",
      "(2048, 2592, 2)\n",
      "getting image\n",
      "(2048, 2592, 2)\n",
      "getting image\n",
      "(2048, 2592, 2)\n"
     ]
    },
    {
     "name": "stderr",
     "output_type": "stream",
     "text": [
      "2019-12-30 11:00:49.934Z moduleTest       20 moduleTest.py:991 1/3 phi backward to 250\n"
     ]
    },
    {
     "name": "stdout",
     "output_type": "stream",
     "text": [
      "getting image\n",
      "(2048, 2592, 2)\n",
      "getting image\n",
      "(2048, 2592, 2)\n",
      "getting image\n",
      "(2048, 2592, 2)\n",
      "getting image\n",
      "(2048, 2592, 2)\n"
     ]
    },
    {
     "name": "stderr",
     "output_type": "stream",
     "text": [
      "2019-12-30 11:00:52.438Z moduleTest       20 moduleTest.py:991 1/3 phi backward to 500\n"
     ]
    },
    {
     "name": "stdout",
     "output_type": "stream",
     "text": [
      "getting image\n",
      "(2048, 2592, 2)\n",
      "getting image\n",
      "(2048, 2592, 2)\n",
      "getting image\n",
      "(2048, 2592, 2)\n",
      "getting image\n",
      "(2048, 2592, 2)\n"
     ]
    },
    {
     "name": "stderr",
     "output_type": "stream",
     "text": [
      "2019-12-30 11:00:54.984Z moduleTest       20 moduleTest.py:991 1/3 phi backward to 750\n"
     ]
    },
    {
     "name": "stdout",
     "output_type": "stream",
     "text": [
      "getting image\n",
      "(2048, 2592, 2)\n",
      "getting image\n",
      "(2048, 2592, 2)\n",
      "getting image\n",
      "(2048, 2592, 2)\n",
      "getting image\n",
      "(2048, 2592, 2)\n"
     ]
    },
    {
     "name": "stderr",
     "output_type": "stream",
     "text": [
      "2019-12-30 11:00:57.595Z moduleTest       20 moduleTest.py:991 1/3 phi backward to 1000\n"
     ]
    },
    {
     "name": "stdout",
     "output_type": "stream",
     "text": [
      "getting image\n",
      "(2048, 2592, 2)\n",
      "getting image\n",
      "(2048, 2592, 2)\n",
      "getting image\n",
      "(2048, 2592, 2)\n",
      "getting image\n",
      "(2048, 2592, 2)\n"
     ]
    },
    {
     "name": "stderr",
     "output_type": "stream",
     "text": [
      "2019-12-30 11:01:00.011Z moduleTest       20 moduleTest.py:991 1/3 phi backward to 1250\n"
     ]
    },
    {
     "name": "stdout",
     "output_type": "stream",
     "text": [
      "getting image\n",
      "(2048, 2592, 2)\n",
      "getting image\n",
      "(2048, 2592, 2)\n",
      "getting image\n",
      "(2048, 2592, 2)\n",
      "getting image\n",
      "(2048, 2592, 2)\n"
     ]
    },
    {
     "name": "stderr",
     "output_type": "stream",
     "text": [
      "2019-12-30 11:01:02.486Z moduleTest       20 moduleTest.py:991 1/3 phi backward to 1500\n"
     ]
    },
    {
     "name": "stdout",
     "output_type": "stream",
     "text": [
      "getting image\n",
      "(2048, 2592, 2)\n",
      "getting image\n",
      "(2048, 2592, 2)\n",
      "getting image\n",
      "(2048, 2592, 2)\n",
      "getting image\n",
      "(2048, 2592, 2)\n"
     ]
    },
    {
     "name": "stderr",
     "output_type": "stream",
     "text": [
      "2019-12-30 11:01:05.058Z moduleTest       20 moduleTest.py:991 1/3 phi backward to 1750\n"
     ]
    },
    {
     "name": "stdout",
     "output_type": "stream",
     "text": [
      "getting image\n",
      "(2048, 2592, 2)\n",
      "getting image\n",
      "(2048, 2592, 2)\n",
      "getting image\n",
      "(2048, 2592, 2)\n",
      "getting image\n",
      "(2048, 2592, 2)\n"
     ]
    },
    {
     "name": "stderr",
     "output_type": "stream",
     "text": [
      "2019-12-30 11:01:07.484Z moduleTest       20 moduleTest.py:991 1/3 phi backward to 2000\n"
     ]
    },
    {
     "name": "stdout",
     "output_type": "stream",
     "text": [
      "getting image\n",
      "(2048, 2592, 2)\n",
      "getting image\n",
      "(2048, 2592, 2)\n",
      "getting image\n",
      "(2048, 2592, 2)\n",
      "getting image\n",
      "(2048, 2592, 2)\n"
     ]
    },
    {
     "name": "stderr",
     "output_type": "stream",
     "text": [
      "2019-12-30 11:01:09.959Z moduleTest       20 moduleTest.py:991 1/3 phi backward to 2250\n"
     ]
    },
    {
     "name": "stdout",
     "output_type": "stream",
     "text": [
      "getting image\n",
      "(2048, 2592, 2)\n",
      "getting image\n",
      "(2048, 2592, 2)\n",
      "getting image\n",
      "(2048, 2592, 2)\n",
      "getting image\n",
      "(2048, 2592, 2)\n"
     ]
    },
    {
     "name": "stderr",
     "output_type": "stream",
     "text": [
      "2019-12-30 11:01:12.470Z moduleTest       20 moduleTest.py:991 1/3 phi backward to 2500\n"
     ]
    },
    {
     "name": "stdout",
     "output_type": "stream",
     "text": [
      "getting image\n",
      "(2048, 2592, 2)\n",
      "getting image\n",
      "(2048, 2592, 2)\n",
      "getting image\n",
      "(2048, 2592, 2)\n",
      "getting image\n",
      "(2048, 2592, 2)\n"
     ]
    },
    {
     "name": "stderr",
     "output_type": "stream",
     "text": [
      "2019-12-30 11:01:15.070Z moduleTest       20 moduleTest.py:991 1/3 phi backward to 2750\n"
     ]
    },
    {
     "name": "stdout",
     "output_type": "stream",
     "text": [
      "getting image\n",
      "(2048, 2592, 2)\n",
      "getting image\n",
      "(2048, 2592, 2)\n",
      "getting image\n",
      "(2048, 2592, 2)\n",
      "getting image\n",
      "(2048, 2592, 2)\n"
     ]
    },
    {
     "name": "stderr",
     "output_type": "stream",
     "text": [
      "2019-12-30 11:01:17.460Z moduleTest       20 moduleTest.py:991 1/3 phi backward to 3000\n"
     ]
    },
    {
     "name": "stdout",
     "output_type": "stream",
     "text": [
      "getting image\n",
      "(2048, 2592, 2)\n",
      "getting image\n",
      "(2048, 2592, 2)\n",
      "getting image\n",
      "(2048, 2592, 2)\n",
      "getting image\n",
      "(2048, 2592, 2)\n"
     ]
    },
    {
     "name": "stderr",
     "output_type": "stream",
     "text": [
      "2019-12-30 11:01:19.952Z moduleTest       20 moduleTest.py:991 1/3 phi backward to 3250\n"
     ]
    },
    {
     "name": "stdout",
     "output_type": "stream",
     "text": [
      "getting image\n",
      "(2048, 2592, 2)\n",
      "getting image\n",
      "(2048, 2592, 2)\n",
      "getting image\n",
      "(2048, 2592, 2)\n",
      "getting image\n",
      "(2048, 2592, 2)\n"
     ]
    },
    {
     "name": "stderr",
     "output_type": "stream",
     "text": [
      "2019-12-30 11:01:22.456Z moduleTest       20 moduleTest.py:991 1/3 phi backward to 3500\n"
     ]
    },
    {
     "name": "stdout",
     "output_type": "stream",
     "text": [
      "getting image\n",
      "(2048, 2592, 2)\n",
      "getting image\n",
      "(2048, 2592, 2)\n",
      "getting image\n",
      "(2048, 2592, 2)\n",
      "getting image\n",
      "(2048, 2592, 2)\n"
     ]
    },
    {
     "name": "stderr",
     "output_type": "stream",
     "text": [
      "2019-12-30 11:01:24.847Z moduleTest       20 moduleTest.py:991 1/3 phi backward to 3750\n"
     ]
    },
    {
     "name": "stdout",
     "output_type": "stream",
     "text": [
      "getting image\n",
      "(2048, 2592, 2)\n",
      "getting image\n",
      "(2048, 2592, 2)\n",
      "getting image\n",
      "(2048, 2592, 2)\n",
      "getting image\n",
      "(2048, 2592, 2)\n"
     ]
    },
    {
     "name": "stderr",
     "output_type": "stream",
     "text": [
      "2019-12-30 11:01:27.300Z moduleTest       20 moduleTest.py:991 1/3 phi backward to 4000\n"
     ]
    },
    {
     "name": "stdout",
     "output_type": "stream",
     "text": [
      "getting image\n",
      "(2048, 2592, 2)\n",
      "getting image\n",
      "(2048, 2592, 2)\n",
      "getting image\n",
      "(2048, 2592, 2)\n",
      "getting image\n",
      "(2048, 2592, 2)\n"
     ]
    },
    {
     "name": "stderr",
     "output_type": "stream",
     "text": [
      "2019-12-30 11:01:29.794Z moduleTest       20 moduleTest.py:991 1/3 phi backward to 4250\n"
     ]
    },
    {
     "name": "stdout",
     "output_type": "stream",
     "text": [
      "getting image\n",
      "(2048, 2592, 2)\n",
      "getting image\n",
      "(2048, 2592, 2)\n",
      "getting image\n",
      "(2048, 2592, 2)\n",
      "getting image\n",
      "(2048, 2592, 2)\n"
     ]
    },
    {
     "name": "stderr",
     "output_type": "stream",
     "text": [
      "2019-12-30 11:01:32.297Z moduleTest       20 moduleTest.py:991 1/3 phi backward to 4500\n"
     ]
    },
    {
     "name": "stdout",
     "output_type": "stream",
     "text": [
      "getting image\n",
      "(2048, 2592, 2)\n",
      "getting image\n",
      "(2048, 2592, 2)\n",
      "getting image\n",
      "(2048, 2592, 2)\n",
      "getting image\n",
      "(2048, 2592, 2)\n"
     ]
    },
    {
     "name": "stderr",
     "output_type": "stream",
     "text": [
      "2019-12-30 11:01:34.796Z moduleTest       20 moduleTest.py:991 1/3 phi backward to 4750\n"
     ]
    },
    {
     "name": "stdout",
     "output_type": "stream",
     "text": [
      "getting image\n",
      "(2048, 2592, 2)\n",
      "getting image\n",
      "(2048, 2592, 2)\n",
      "getting image\n",
      "(2048, 2592, 2)\n",
      "getting image\n",
      "(2048, 2592, 2)\n"
     ]
    },
    {
     "name": "stderr",
     "output_type": "stream",
     "text": [
      "2019-12-30 11:01:37.310Z moduleTest       20 moduleTest.py:991 1/3 phi backward to 5000\n"
     ]
    },
    {
     "name": "stdout",
     "output_type": "stream",
     "text": [
      "getting image\n",
      "(2048, 2592, 2)\n",
      "getting image\n",
      "(2048, 2592, 2)\n",
      "getting image\n",
      "(2048, 2592, 2)\n",
      "getting image\n",
      "(2048, 2592, 2)\n"
     ]
    },
    {
     "name": "stderr",
     "output_type": "stream",
     "text": [
      "2019-12-30 11:01:39.811Z moduleTest       20 moduleTest.py:991 1/3 phi backward to 5250\n"
     ]
    },
    {
     "name": "stdout",
     "output_type": "stream",
     "text": [
      "getting image\n",
      "(2048, 2592, 2)\n",
      "getting image\n",
      "(2048, 2592, 2)\n",
      "getting image\n",
      "(2048, 2592, 2)\n",
      "getting image\n",
      "(2048, 2592, 2)\n"
     ]
    },
    {
     "name": "stderr",
     "output_type": "stream",
     "text": [
      "2019-12-30 11:01:42.352Z moduleTest       20 moduleTest.py:991 1/3 phi backward to 5500\n"
     ]
    },
    {
     "name": "stdout",
     "output_type": "stream",
     "text": [
      "getting image\n",
      "(2048, 2592, 2)\n",
      "getting image\n",
      "(2048, 2592, 2)\n",
      "getting image\n",
      "(2048, 2592, 2)\n",
      "getting image\n",
      "(2048, 2592, 2)\n"
     ]
    },
    {
     "name": "stderr",
     "output_type": "stream",
     "text": [
      "2019-12-30 11:01:44.820Z moduleTest       20 moduleTest.py:991 1/3 phi backward to 5750\n"
     ]
    },
    {
     "name": "stdout",
     "output_type": "stream",
     "text": [
      "getting image\n",
      "(2048, 2592, 2)\n",
      "getting image\n",
      "(2048, 2592, 2)\n",
      "getting image\n",
      "(2048, 2592, 2)\n",
      "getting image\n",
      "(2048, 2592, 2)\n"
     ]
    },
    {
     "name": "stderr",
     "output_type": "stream",
     "text": [
      "2019-12-30 11:01:47.428Z moduleTest       20 moduleTest.py:991 1/3 phi backward to 6000\n"
     ]
    },
    {
     "name": "stdout",
     "output_type": "stream",
     "text": [
      "getting image\n",
      "(2048, 2592, 2)\n",
      "getting image\n",
      "(2048, 2592, 2)\n",
      "getting image\n",
      "(2048, 2592, 2)\n",
      "getting image\n",
      "(2048, 2592, 2)\n"
     ]
    },
    {
     "name": "stderr",
     "output_type": "stream",
     "text": [
      "2019-12-30 11:01:49.811Z moduleTest       20 moduleTest.py:1018 1/3 phi reverse -6000 steps to limit\n"
     ]
    },
    {
     "name": "stdout",
     "output_type": "stream",
     "text": [
      "getting image\n",
      "(2048, 2592, 2)\n",
      "getting image\n",
      "(2048, 2592, 2)\n",
      "getting image\n",
      "(2048, 2592, 2)\n",
      "getting image\n",
      "(2048, 2592, 2)\n"
     ]
    },
    {
     "name": "stderr",
     "output_type": "stream",
     "text": [
      "2019-12-30 11:02:06.412Z moduleTest       20 moduleTest.py:954 2/3 phi forward to 250\n"
     ]
    },
    {
     "name": "stdout",
     "output_type": "stream",
     "text": [
      "getting image\n",
      "(2048, 2592, 2)\n",
      "getting image\n",
      "(2048, 2592, 2)\n",
      "getting image\n",
      "(2048, 2592, 2)\n",
      "getting image\n",
      "(2048, 2592, 2)\n"
     ]
    },
    {
     "name": "stderr",
     "output_type": "stream",
     "text": [
      "2019-12-30 11:02:08.825Z moduleTest       20 moduleTest.py:954 2/3 phi forward to 500\n"
     ]
    },
    {
     "name": "stdout",
     "output_type": "stream",
     "text": [
      "getting image\n",
      "(2048, 2592, 2)\n",
      "getting image\n",
      "(2048, 2592, 2)\n",
      "getting image\n",
      "(2048, 2592, 2)\n",
      "getting image\n",
      "(2048, 2592, 2)\n"
     ]
    },
    {
     "name": "stderr",
     "output_type": "stream",
     "text": [
      "2019-12-30 11:02:11.323Z moduleTest       20 moduleTest.py:954 2/3 phi forward to 750\n"
     ]
    },
    {
     "name": "stdout",
     "output_type": "stream",
     "text": [
      "getting image\n",
      "(2048, 2592, 2)\n",
      "getting image\n",
      "(2048, 2592, 2)\n",
      "getting image\n",
      "(2048, 2592, 2)\n",
      "getting image\n",
      "(2048, 2592, 2)\n"
     ]
    },
    {
     "name": "stderr",
     "output_type": "stream",
     "text": [
      "2019-12-30 11:02:13.817Z moduleTest       20 moduleTest.py:954 2/3 phi forward to 1000\n"
     ]
    },
    {
     "name": "stdout",
     "output_type": "stream",
     "text": [
      "getting image\n",
      "(2048, 2592, 2)\n",
      "getting image\n",
      "(2048, 2592, 2)\n",
      "getting image\n",
      "(2048, 2592, 2)\n",
      "getting image\n",
      "(2048, 2592, 2)\n"
     ]
    },
    {
     "name": "stderr",
     "output_type": "stream",
     "text": [
      "2019-12-30 11:02:16.447Z moduleTest       20 moduleTest.py:954 2/3 phi forward to 1250\n"
     ]
    },
    {
     "name": "stdout",
     "output_type": "stream",
     "text": [
      "getting image\n",
      "(2048, 2592, 2)\n",
      "getting image\n",
      "(2048, 2592, 2)\n",
      "getting image\n",
      "(2048, 2592, 2)\n",
      "getting image\n",
      "(2048, 2592, 2)\n"
     ]
    },
    {
     "name": "stderr",
     "output_type": "stream",
     "text": [
      "2019-12-30 11:02:18.814Z moduleTest       20 moduleTest.py:954 2/3 phi forward to 1500\n"
     ]
    },
    {
     "name": "stdout",
     "output_type": "stream",
     "text": [
      "getting image\n",
      "(2048, 2592, 2)\n",
      "getting image\n",
      "(2048, 2592, 2)\n",
      "getting image\n",
      "(2048, 2592, 2)\n",
      "getting image\n",
      "(2048, 2592, 2)\n"
     ]
    },
    {
     "name": "stderr",
     "output_type": "stream",
     "text": [
      "2019-12-30 11:02:21.343Z moduleTest       20 moduleTest.py:954 2/3 phi forward to 1750\n"
     ]
    },
    {
     "name": "stdout",
     "output_type": "stream",
     "text": [
      "getting image\n",
      "(2048, 2592, 2)\n",
      "getting image\n",
      "(2048, 2592, 2)\n",
      "getting image\n",
      "(2048, 2592, 2)\n",
      "getting image\n",
      "(2048, 2592, 2)\n"
     ]
    },
    {
     "name": "stderr",
     "output_type": "stream",
     "text": [
      "2019-12-30 11:02:23.911Z moduleTest       20 moduleTest.py:954 2/3 phi forward to 2000\n"
     ]
    },
    {
     "name": "stdout",
     "output_type": "stream",
     "text": [
      "getting image\n",
      "(2048, 2592, 2)\n",
      "getting image\n",
      "(2048, 2592, 2)\n",
      "getting image\n",
      "(2048, 2592, 2)\n",
      "getting image\n",
      "(2048, 2592, 2)\n"
     ]
    },
    {
     "name": "stderr",
     "output_type": "stream",
     "text": [
      "2019-12-30 11:02:26.346Z moduleTest       20 moduleTest.py:954 2/3 phi forward to 2250\n"
     ]
    },
    {
     "name": "stdout",
     "output_type": "stream",
     "text": [
      "getting image\n",
      "(2048, 2592, 2)\n",
      "getting image\n",
      "(2048, 2592, 2)\n",
      "getting image\n",
      "(2048, 2592, 2)\n",
      "getting image\n",
      "(2048, 2592, 2)\n"
     ]
    },
    {
     "name": "stderr",
     "output_type": "stream",
     "text": [
      "2019-12-30 11:02:28.820Z moduleTest       20 moduleTest.py:954 2/3 phi forward to 2500\n"
     ]
    },
    {
     "name": "stdout",
     "output_type": "stream",
     "text": [
      "getting image\n",
      "(2048, 2592, 2)\n",
      "getting image\n",
      "(2048, 2592, 2)\n",
      "getting image\n",
      "(2048, 2592, 2)\n",
      "getting image\n",
      "(2048, 2592, 2)\n"
     ]
    },
    {
     "name": "stderr",
     "output_type": "stream",
     "text": [
      "2019-12-30 11:02:31.342Z moduleTest       20 moduleTest.py:954 2/3 phi forward to 2750\n"
     ]
    },
    {
     "name": "stdout",
     "output_type": "stream",
     "text": [
      "getting image\n",
      "(2048, 2592, 2)\n",
      "getting image\n",
      "(2048, 2592, 2)\n",
      "getting image\n",
      "(2048, 2592, 2)\n",
      "getting image\n",
      "(2048, 2592, 2)\n"
     ]
    },
    {
     "name": "stderr",
     "output_type": "stream",
     "text": [
      "2019-12-30 11:02:33.810Z moduleTest       20 moduleTest.py:954 2/3 phi forward to 3000\n"
     ]
    },
    {
     "name": "stdout",
     "output_type": "stream",
     "text": [
      "getting image\n",
      "(2048, 2592, 2)\n",
      "getting image\n",
      "(2048, 2592, 2)\n",
      "getting image\n",
      "(2048, 2592, 2)\n",
      "getting image\n",
      "(2048, 2592, 2)\n"
     ]
    },
    {
     "name": "stderr",
     "output_type": "stream",
     "text": [
      "2019-12-30 11:02:36.349Z moduleTest       20 moduleTest.py:954 2/3 phi forward to 3250\n"
     ]
    },
    {
     "name": "stdout",
     "output_type": "stream",
     "text": [
      "getting image\n",
      "(2048, 2592, 2)\n",
      "getting image\n",
      "(2048, 2592, 2)\n",
      "getting image\n",
      "(2048, 2592, 2)\n",
      "getting image\n",
      "(2048, 2592, 2)\n"
     ]
    },
    {
     "name": "stderr",
     "output_type": "stream",
     "text": [
      "2019-12-30 11:02:38.911Z moduleTest       20 moduleTest.py:954 2/3 phi forward to 3500\n"
     ]
    },
    {
     "name": "stdout",
     "output_type": "stream",
     "text": [
      "getting image\n",
      "(2048, 2592, 2)\n",
      "getting image\n",
      "(2048, 2592, 2)\n",
      "getting image\n",
      "(2048, 2592, 2)\n",
      "getting image\n",
      "(2048, 2592, 2)\n"
     ]
    },
    {
     "name": "stderr",
     "output_type": "stream",
     "text": [
      "2019-12-30 11:02:41.348Z moduleTest       20 moduleTest.py:954 2/3 phi forward to 3750\n"
     ]
    },
    {
     "name": "stdout",
     "output_type": "stream",
     "text": [
      "getting image\n",
      "(2048, 2592, 2)\n",
      "getting image\n",
      "(2048, 2592, 2)\n",
      "getting image\n",
      "(2048, 2592, 2)\n",
      "getting image\n",
      "(2048, 2592, 2)\n"
     ]
    },
    {
     "name": "stderr",
     "output_type": "stream",
     "text": [
      "2019-12-30 11:02:43.834Z moduleTest       20 moduleTest.py:954 2/3 phi forward to 4000\n"
     ]
    },
    {
     "name": "stdout",
     "output_type": "stream",
     "text": [
      "getting image\n",
      "(2048, 2592, 2)\n",
      "getting image\n",
      "(2048, 2592, 2)\n",
      "getting image\n",
      "(2048, 2592, 2)\n",
      "getting image\n",
      "(2048, 2592, 2)\n"
     ]
    },
    {
     "name": "stderr",
     "output_type": "stream",
     "text": [
      "2019-12-30 11:02:46.316Z moduleTest       20 moduleTest.py:954 2/3 phi forward to 4250\n"
     ]
    },
    {
     "name": "stdout",
     "output_type": "stream",
     "text": [
      "getting image\n",
      "(2048, 2592, 2)\n",
      "getting image\n",
      "(2048, 2592, 2)\n",
      "getting image\n",
      "(2048, 2592, 2)\n",
      "getting image\n",
      "(2048, 2592, 2)\n"
     ]
    },
    {
     "name": "stderr",
     "output_type": "stream",
     "text": [
      "2019-12-30 11:02:48.812Z moduleTest       20 moduleTest.py:954 2/3 phi forward to 4500\n"
     ]
    },
    {
     "name": "stdout",
     "output_type": "stream",
     "text": [
      "getting image\n",
      "(2048, 2592, 2)\n",
      "getting image\n",
      "(2048, 2592, 2)\n",
      "getting image\n",
      "(2048, 2592, 2)\n",
      "getting image\n",
      "(2048, 2592, 2)\n"
     ]
    },
    {
     "name": "stderr",
     "output_type": "stream",
     "text": [
      "2019-12-30 11:02:51.463Z moduleTest       20 moduleTest.py:954 2/3 phi forward to 4750\n"
     ]
    },
    {
     "name": "stdout",
     "output_type": "stream",
     "text": [
      "getting image\n",
      "(2048, 2592, 2)\n",
      "getting image\n",
      "(2048, 2592, 2)\n",
      "getting image\n",
      "(2048, 2592, 2)\n",
      "getting image\n",
      "(2048, 2592, 2)\n"
     ]
    },
    {
     "name": "stderr",
     "output_type": "stream",
     "text": [
      "2019-12-30 11:02:54.074Z moduleTest       20 moduleTest.py:954 2/3 phi forward to 5000\n"
     ]
    },
    {
     "name": "stdout",
     "output_type": "stream",
     "text": [
      "getting image\n",
      "(2048, 2592, 2)\n",
      "getting image\n",
      "(2048, 2592, 2)\n",
      "getting image\n",
      "(2048, 2592, 2)\n",
      "getting image\n",
      "(2048, 2592, 2)\n"
     ]
    },
    {
     "name": "stderr",
     "output_type": "stream",
     "text": [
      "2019-12-30 11:02:56.568Z moduleTest       20 moduleTest.py:954 2/3 phi forward to 5250\n"
     ]
    },
    {
     "name": "stdout",
     "output_type": "stream",
     "text": [
      "getting image\n",
      "(2048, 2592, 2)\n",
      "getting image\n",
      "(2048, 2592, 2)\n",
      "getting image\n",
      "(2048, 2592, 2)\n",
      "getting image\n",
      "(2048, 2592, 2)\n"
     ]
    },
    {
     "name": "stderr",
     "output_type": "stream",
     "text": [
      "2019-12-30 11:02:58.985Z moduleTest       20 moduleTest.py:954 2/3 phi forward to 5500\n"
     ]
    },
    {
     "name": "stdout",
     "output_type": "stream",
     "text": [
      "getting image\n",
      "(2048, 2592, 2)\n",
      "getting image\n",
      "(2048, 2592, 2)\n",
      "getting image\n",
      "(2048, 2592, 2)\n",
      "getting image\n",
      "(2048, 2592, 2)\n"
     ]
    },
    {
     "name": "stderr",
     "output_type": "stream",
     "text": [
      "2019-12-30 11:03:01.537Z moduleTest       20 moduleTest.py:954 2/3 phi forward to 5750\n"
     ]
    },
    {
     "name": "stdout",
     "output_type": "stream",
     "text": [
      "getting image\n",
      "(2048, 2592, 2)\n",
      "getting image\n",
      "(2048, 2592, 2)\n",
      "getting image\n",
      "(2048, 2592, 2)\n",
      "getting image\n",
      "(2048, 2592, 2)\n"
     ]
    },
    {
     "name": "stderr",
     "output_type": "stream",
     "text": [
      "2019-12-30 11:03:04.011Z moduleTest       20 moduleTest.py:954 2/3 phi forward to 6000\n"
     ]
    },
    {
     "name": "stdout",
     "output_type": "stream",
     "text": [
      "getting image\n",
      "(2048, 2592, 2)\n",
      "getting image\n",
      "(2048, 2592, 2)\n",
      "getting image\n",
      "(2048, 2592, 2)\n",
      "getting image\n",
      "(2048, 2592, 2)\n"
     ]
    },
    {
     "name": "stderr",
     "output_type": "stream",
     "text": [
      "2019-12-30 11:03:06.513Z moduleTest       20 moduleTest.py:981 2/3 phi forward 6000 to limit\n"
     ]
    },
    {
     "name": "stdout",
     "output_type": "stream",
     "text": [
      "getting image\n",
      "(2048, 2592, 2)\n",
      "getting image\n",
      "(2048, 2592, 2)\n",
      "getting image\n",
      "(2048, 2592, 2)\n",
      "getting image\n",
      "(2048, 2592, 2)\n"
     ]
    },
    {
     "name": "stderr",
     "output_type": "stream",
     "text": [
      "2019-12-30 11:03:23.019Z moduleTest       20 moduleTest.py:991 2/3 phi backward to 250\n"
     ]
    },
    {
     "name": "stdout",
     "output_type": "stream",
     "text": [
      "getting image\n",
      "(2048, 2592, 2)\n",
      "getting image\n",
      "(2048, 2592, 2)\n",
      "getting image\n",
      "(2048, 2592, 2)\n",
      "getting image\n",
      "(2048, 2592, 2)\n"
     ]
    },
    {
     "name": "stderr",
     "output_type": "stream",
     "text": [
      "2019-12-30 11:03:25.536Z moduleTest       20 moduleTest.py:991 2/3 phi backward to 500\n"
     ]
    },
    {
     "name": "stdout",
     "output_type": "stream",
     "text": [
      "getting image\n",
      "(2048, 2592, 2)\n",
      "getting image\n",
      "(2048, 2592, 2)\n",
      "getting image\n",
      "(2048, 2592, 2)\n",
      "getting image\n",
      "(2048, 2592, 2)\n"
     ]
    },
    {
     "name": "stderr",
     "output_type": "stream",
     "text": [
      "2019-12-30 11:03:28.031Z moduleTest       20 moduleTest.py:991 2/3 phi backward to 750\n"
     ]
    },
    {
     "name": "stdout",
     "output_type": "stream",
     "text": [
      "getting image\n",
      "(2048, 2592, 2)\n",
      "getting image\n",
      "(2048, 2592, 2)\n",
      "getting image\n",
      "(2048, 2592, 2)\n",
      "getting image\n",
      "(2048, 2592, 2)\n"
     ]
    },
    {
     "name": "stderr",
     "output_type": "stream",
     "text": [
      "2019-12-30 11:03:30.602Z moduleTest       20 moduleTest.py:991 2/3 phi backward to 1000\n"
     ]
    },
    {
     "name": "stdout",
     "output_type": "stream",
     "text": [
      "getting image\n",
      "(2048, 2592, 2)\n",
      "getting image\n",
      "(2048, 2592, 2)\n",
      "getting image\n",
      "(2048, 2592, 2)\n",
      "getting image\n",
      "(2048, 2592, 2)\n"
     ]
    },
    {
     "name": "stderr",
     "output_type": "stream",
     "text": [
      "2019-12-30 11:03:33.016Z moduleTest       20 moduleTest.py:991 2/3 phi backward to 1250\n"
     ]
    },
    {
     "name": "stdout",
     "output_type": "stream",
     "text": [
      "getting image\n",
      "(2048, 2592, 2)\n",
      "getting image\n",
      "(2048, 2592, 2)\n",
      "getting image\n",
      "(2048, 2592, 2)\n",
      "getting image\n",
      "(2048, 2592, 2)\n"
     ]
    },
    {
     "name": "stderr",
     "output_type": "stream",
     "text": [
      "2019-12-30 11:03:35.499Z moduleTest       20 moduleTest.py:991 2/3 phi backward to 1500\n"
     ]
    },
    {
     "name": "stdout",
     "output_type": "stream",
     "text": [
      "getting image\n",
      "(2048, 2592, 2)\n",
      "getting image\n",
      "(2048, 2592, 2)\n",
      "getting image\n",
      "(2048, 2592, 2)\n",
      "getting image\n",
      "(2048, 2592, 2)\n"
     ]
    },
    {
     "name": "stderr",
     "output_type": "stream",
     "text": [
      "2019-12-30 11:03:38.007Z moduleTest       20 moduleTest.py:991 2/3 phi backward to 1750\n"
     ]
    },
    {
     "name": "stdout",
     "output_type": "stream",
     "text": [
      "getting image\n",
      "(2048, 2592, 2)\n",
      "getting image\n",
      "(2048, 2592, 2)\n",
      "getting image\n",
      "(2048, 2592, 2)\n",
      "getting image\n",
      "(2048, 2592, 2)\n"
     ]
    },
    {
     "name": "stderr",
     "output_type": "stream",
     "text": [
      "2019-12-30 11:03:40.480Z moduleTest       20 moduleTest.py:991 2/3 phi backward to 2000\n"
     ]
    },
    {
     "name": "stdout",
     "output_type": "stream",
     "text": [
      "getting image\n",
      "(2048, 2592, 2)\n",
      "getting image\n",
      "(2048, 2592, 2)\n",
      "getting image\n",
      "(2048, 2592, 2)\n",
      "getting image\n",
      "(2048, 2592, 2)\n"
     ]
    },
    {
     "name": "stderr",
     "output_type": "stream",
     "text": [
      "2019-12-30 11:03:43.024Z moduleTest       20 moduleTest.py:991 2/3 phi backward to 2250\n"
     ]
    },
    {
     "name": "stdout",
     "output_type": "stream",
     "text": [
      "getting image\n",
      "(2048, 2592, 2)\n",
      "getting image\n",
      "(2048, 2592, 2)\n",
      "getting image\n",
      "(2048, 2592, 2)\n",
      "getting image\n",
      "(2048, 2592, 2)\n"
     ]
    },
    {
     "name": "stderr",
     "output_type": "stream",
     "text": [
      "2019-12-30 11:03:45.500Z moduleTest       20 moduleTest.py:991 2/3 phi backward to 2500\n"
     ]
    },
    {
     "name": "stdout",
     "output_type": "stream",
     "text": [
      "getting image\n",
      "(2048, 2592, 2)\n",
      "getting image\n",
      "(2048, 2592, 2)\n",
      "getting image\n",
      "(2048, 2592, 2)\n",
      "getting image\n",
      "(2048, 2592, 2)\n"
     ]
    },
    {
     "name": "stderr",
     "output_type": "stream",
     "text": [
      "2019-12-30 11:03:48.003Z moduleTest       20 moduleTest.py:991 2/3 phi backward to 2750\n"
     ]
    },
    {
     "name": "stdout",
     "output_type": "stream",
     "text": [
      "getting image\n",
      "(2048, 2592, 2)\n",
      "getting image\n",
      "(2048, 2592, 2)\n",
      "getting image\n",
      "(2048, 2592, 2)\n",
      "getting image\n",
      "(2048, 2592, 2)\n"
     ]
    },
    {
     "name": "stderr",
     "output_type": "stream",
     "text": [
      "2019-12-30 11:03:50.596Z moduleTest       20 moduleTest.py:991 2/3 phi backward to 3000\n"
     ]
    },
    {
     "name": "stdout",
     "output_type": "stream",
     "text": [
      "getting image\n",
      "(2048, 2592, 2)\n",
      "getting image\n",
      "(2048, 2592, 2)\n",
      "getting image\n",
      "(2048, 2592, 2)\n",
      "getting image\n",
      "(2048, 2592, 2)\n"
     ]
    },
    {
     "name": "stderr",
     "output_type": "stream",
     "text": [
      "2019-12-30 11:03:53.035Z moduleTest       20 moduleTest.py:991 2/3 phi backward to 3250\n"
     ]
    },
    {
     "name": "stdout",
     "output_type": "stream",
     "text": [
      "getting image\n",
      "(2048, 2592, 2)\n",
      "getting image\n",
      "(2048, 2592, 2)\n",
      "getting image\n",
      "(2048, 2592, 2)\n",
      "getting image\n",
      "(2048, 2592, 2)\n"
     ]
    },
    {
     "name": "stderr",
     "output_type": "stream",
     "text": [
      "2019-12-30 11:03:55.542Z moduleTest       20 moduleTest.py:991 2/3 phi backward to 3500\n"
     ]
    },
    {
     "name": "stdout",
     "output_type": "stream",
     "text": [
      "getting image\n",
      "(2048, 2592, 2)\n",
      "getting image\n",
      "(2048, 2592, 2)\n",
      "getting image\n",
      "(2048, 2592, 2)\n",
      "getting image\n",
      "(2048, 2592, 2)\n"
     ]
    },
    {
     "name": "stderr",
     "output_type": "stream",
     "text": [
      "2019-12-30 11:03:58.031Z moduleTest       20 moduleTest.py:991 2/3 phi backward to 3750\n"
     ]
    },
    {
     "name": "stdout",
     "output_type": "stream",
     "text": [
      "getting image\n",
      "(2048, 2592, 2)\n",
      "getting image\n",
      "(2048, 2592, 2)\n",
      "getting image\n",
      "(2048, 2592, 2)\n",
      "getting image\n",
      "(2048, 2592, 2)\n"
     ]
    },
    {
     "name": "stderr",
     "output_type": "stream",
     "text": [
      "2019-12-30 11:04:00.532Z moduleTest       20 moduleTest.py:991 2/3 phi backward to 4000\n"
     ]
    },
    {
     "name": "stdout",
     "output_type": "stream",
     "text": [
      "getting image\n",
      "(2048, 2592, 2)\n",
      "getting image\n",
      "(2048, 2592, 2)\n",
      "getting image\n",
      "(2048, 2592, 2)\n",
      "getting image\n",
      "(2048, 2592, 2)\n"
     ]
    },
    {
     "name": "stderr",
     "output_type": "stream",
     "text": [
      "2019-12-30 11:04:03.014Z moduleTest       20 moduleTest.py:991 2/3 phi backward to 4250\n"
     ]
    },
    {
     "name": "stdout",
     "output_type": "stream",
     "text": [
      "getting image\n",
      "(2048, 2592, 2)\n",
      "getting image\n",
      "(2048, 2592, 2)\n",
      "getting image\n",
      "(2048, 2592, 2)\n",
      "getting image\n",
      "(2048, 2592, 2)\n"
     ]
    },
    {
     "name": "stderr",
     "output_type": "stream",
     "text": [
      "2019-12-30 11:04:05.503Z moduleTest       20 moduleTest.py:991 2/3 phi backward to 4500\n"
     ]
    },
    {
     "name": "stdout",
     "output_type": "stream",
     "text": [
      "getting image\n",
      "(2048, 2592, 2)\n",
      "getting image\n",
      "(2048, 2592, 2)\n",
      "getting image\n",
      "(2048, 2592, 2)\n",
      "getting image\n",
      "(2048, 2592, 2)\n"
     ]
    },
    {
     "name": "stderr",
     "output_type": "stream",
     "text": [
      "2019-12-30 11:04:07.994Z moduleTest       20 moduleTest.py:991 2/3 phi backward to 4750\n"
     ]
    },
    {
     "name": "stdout",
     "output_type": "stream",
     "text": [
      "getting image\n",
      "(2048, 2592, 2)\n",
      "getting image\n",
      "(2048, 2592, 2)\n",
      "getting image\n",
      "(2048, 2592, 2)\n",
      "getting image\n",
      "(2048, 2592, 2)\n"
     ]
    },
    {
     "name": "stderr",
     "output_type": "stream",
     "text": [
      "2019-12-30 11:04:10.515Z moduleTest       20 moduleTest.py:991 2/3 phi backward to 5000\n"
     ]
    },
    {
     "name": "stdout",
     "output_type": "stream",
     "text": [
      "getting image\n",
      "(2048, 2592, 2)\n",
      "getting image\n",
      "(2048, 2592, 2)\n",
      "getting image\n",
      "(2048, 2592, 2)\n",
      "getting image\n",
      "(2048, 2592, 2)\n"
     ]
    },
    {
     "name": "stderr",
     "output_type": "stream",
     "text": [
      "2019-12-30 11:04:13.034Z moduleTest       20 moduleTest.py:991 2/3 phi backward to 5250\n"
     ]
    },
    {
     "name": "stdout",
     "output_type": "stream",
     "text": [
      "getting image\n",
      "(2048, 2592, 2)\n",
      "getting image\n",
      "(2048, 2592, 2)\n",
      "getting image\n",
      "(2048, 2592, 2)\n",
      "getting image\n",
      "(2048, 2592, 2)\n"
     ]
    },
    {
     "name": "stderr",
     "output_type": "stream",
     "text": [
      "2019-12-30 11:04:15.491Z moduleTest       20 moduleTest.py:991 2/3 phi backward to 5500\n"
     ]
    },
    {
     "name": "stdout",
     "output_type": "stream",
     "text": [
      "getting image\n",
      "(2048, 2592, 2)\n",
      "getting image\n",
      "(2048, 2592, 2)\n",
      "getting image\n",
      "(2048, 2592, 2)\n",
      "getting image\n",
      "(2048, 2592, 2)\n"
     ]
    },
    {
     "name": "stderr",
     "output_type": "stream",
     "text": [
      "2019-12-30 11:04:18.009Z moduleTest       20 moduleTest.py:991 2/3 phi backward to 5750\n"
     ]
    },
    {
     "name": "stdout",
     "output_type": "stream",
     "text": [
      "getting image\n",
      "(2048, 2592, 2)\n",
      "getting image\n",
      "(2048, 2592, 2)\n",
      "getting image\n",
      "(2048, 2592, 2)\n",
      "getting image\n",
      "(2048, 2592, 2)\n"
     ]
    },
    {
     "name": "stderr",
     "output_type": "stream",
     "text": [
      "2019-12-30 11:04:20.486Z moduleTest       20 moduleTest.py:991 2/3 phi backward to 6000\n"
     ]
    },
    {
     "name": "stdout",
     "output_type": "stream",
     "text": [
      "getting image\n",
      "(2048, 2592, 2)\n",
      "getting image\n",
      "(2048, 2592, 2)\n",
      "getting image\n",
      "(2048, 2592, 2)\n",
      "getting image\n",
      "(2048, 2592, 2)\n"
     ]
    },
    {
     "name": "stderr",
     "output_type": "stream",
     "text": [
      "2019-12-30 11:04:23.011Z moduleTest       20 moduleTest.py:1018 2/3 phi reverse -6000 steps to limit\n"
     ]
    },
    {
     "name": "stdout",
     "output_type": "stream",
     "text": [
      "getting image\n",
      "(2048, 2592, 2)\n",
      "getting image\n",
      "(2048, 2592, 2)\n",
      "getting image\n",
      "(2048, 2592, 2)\n",
      "getting image\n",
      "(2048, 2592, 2)\n"
     ]
    },
    {
     "name": "stderr",
     "output_type": "stream",
     "text": [
      "2019-12-30 11:04:39.527Z moduleTest       20 moduleTest.py:954 3/3 phi forward to 250\n"
     ]
    },
    {
     "name": "stdout",
     "output_type": "stream",
     "text": [
      "getting image\n",
      "(2048, 2592, 2)\n",
      "getting image\n",
      "(2048, 2592, 2)\n",
      "getting image\n",
      "(2048, 2592, 2)\n",
      "getting image\n",
      "(2048, 2592, 2)\n"
     ]
    },
    {
     "name": "stderr",
     "output_type": "stream",
     "text": [
      "2019-12-30 11:04:42.013Z moduleTest       20 moduleTest.py:954 3/3 phi forward to 500\n"
     ]
    },
    {
     "name": "stdout",
     "output_type": "stream",
     "text": [
      "getting image\n",
      "(2048, 2592, 2)\n",
      "getting image\n",
      "(2048, 2592, 2)\n",
      "getting image\n",
      "(2048, 2592, 2)\n",
      "getting image\n",
      "(2048, 2592, 2)\n"
     ]
    },
    {
     "name": "stderr",
     "output_type": "stream",
     "text": [
      "2019-12-30 11:04:44.530Z moduleTest       20 moduleTest.py:954 3/3 phi forward to 750\n"
     ]
    },
    {
     "name": "stdout",
     "output_type": "stream",
     "text": [
      "getting image\n",
      "(2048, 2592, 2)\n",
      "getting image\n",
      "(2048, 2592, 2)\n",
      "getting image\n",
      "(2048, 2592, 2)\n",
      "getting image\n",
      "(2048, 2592, 2)\n"
     ]
    },
    {
     "name": "stderr",
     "output_type": "stream",
     "text": [
      "2019-12-30 11:04:47.035Z moduleTest       20 moduleTest.py:954 3/3 phi forward to 1000\n"
     ]
    },
    {
     "name": "stdout",
     "output_type": "stream",
     "text": [
      "getting image\n",
      "(2048, 2592, 2)\n",
      "getting image\n",
      "(2048, 2592, 2)\n",
      "getting image\n",
      "(2048, 2592, 2)\n",
      "getting image\n",
      "(2048, 2592, 2)\n"
     ]
    },
    {
     "name": "stderr",
     "output_type": "stream",
     "text": [
      "2019-12-30 11:04:49.509Z moduleTest       20 moduleTest.py:954 3/3 phi forward to 1250\n"
     ]
    },
    {
     "name": "stdout",
     "output_type": "stream",
     "text": [
      "getting image\n",
      "(2048, 2592, 2)\n",
      "getting image\n",
      "(2048, 2592, 2)\n",
      "getting image\n",
      "(2048, 2592, 2)\n",
      "getting image\n",
      "(2048, 2592, 2)\n"
     ]
    },
    {
     "name": "stderr",
     "output_type": "stream",
     "text": [
      "2019-12-30 11:04:52.052Z moduleTest       20 moduleTest.py:954 3/3 phi forward to 1500\n"
     ]
    },
    {
     "name": "stdout",
     "output_type": "stream",
     "text": [
      "getting image\n",
      "(2048, 2592, 2)\n",
      "getting image\n",
      "(2048, 2592, 2)\n",
      "getting image\n",
      "(2048, 2592, 2)\n",
      "getting image\n",
      "(2048, 2592, 2)\n"
     ]
    },
    {
     "name": "stderr",
     "output_type": "stream",
     "text": [
      "2019-12-30 11:04:54.509Z moduleTest       20 moduleTest.py:954 3/3 phi forward to 1750\n"
     ]
    },
    {
     "name": "stdout",
     "output_type": "stream",
     "text": [
      "getting image\n",
      "(2048, 2592, 2)\n",
      "getting image\n",
      "(2048, 2592, 2)\n",
      "getting image\n",
      "(2048, 2592, 2)\n",
      "getting image\n",
      "(2048, 2592, 2)\n"
     ]
    },
    {
     "name": "stderr",
     "output_type": "stream",
     "text": [
      "2019-12-30 11:04:57.053Z moduleTest       20 moduleTest.py:954 3/3 phi forward to 2000\n"
     ]
    },
    {
     "name": "stdout",
     "output_type": "stream",
     "text": [
      "getting image\n",
      "(2048, 2592, 2)\n",
      "getting image\n",
      "(2048, 2592, 2)\n",
      "getting image\n",
      "(2048, 2592, 2)\n",
      "getting image\n",
      "(2048, 2592, 2)\n"
     ]
    },
    {
     "name": "stderr",
     "output_type": "stream",
     "text": [
      "2019-12-30 11:04:59.525Z moduleTest       20 moduleTest.py:954 3/3 phi forward to 2250\n"
     ]
    },
    {
     "name": "stdout",
     "output_type": "stream",
     "text": [
      "getting image\n",
      "(2048, 2592, 2)\n",
      "getting image\n",
      "(2048, 2592, 2)\n",
      "getting image\n",
      "(2048, 2592, 2)\n",
      "getting image\n",
      "(2048, 2592, 2)\n"
     ]
    },
    {
     "name": "stderr",
     "output_type": "stream",
     "text": [
      "2019-12-30 11:05:02.042Z moduleTest       20 moduleTest.py:954 3/3 phi forward to 2500\n"
     ]
    },
    {
     "name": "stdout",
     "output_type": "stream",
     "text": [
      "getting image\n",
      "(2048, 2592, 2)\n",
      "getting image\n",
      "(2048, 2592, 2)\n",
      "getting image\n",
      "(2048, 2592, 2)\n",
      "getting image\n",
      "(2048, 2592, 2)\n"
     ]
    },
    {
     "name": "stderr",
     "output_type": "stream",
     "text": [
      "2019-12-30 11:05:04.507Z moduleTest       20 moduleTest.py:954 3/3 phi forward to 2750\n"
     ]
    },
    {
     "name": "stdout",
     "output_type": "stream",
     "text": [
      "getting image\n",
      "(2048, 2592, 2)\n",
      "getting image\n",
      "(2048, 2592, 2)\n",
      "getting image\n",
      "(2048, 2592, 2)\n",
      "getting image\n",
      "(2048, 2592, 2)\n"
     ]
    },
    {
     "name": "stderr",
     "output_type": "stream",
     "text": [
      "2019-12-30 11:05:07.021Z moduleTest       20 moduleTest.py:954 3/3 phi forward to 3000\n"
     ]
    },
    {
     "name": "stdout",
     "output_type": "stream",
     "text": [
      "getting image\n",
      "(2048, 2592, 2)\n",
      "getting image\n",
      "(2048, 2592, 2)\n",
      "getting image\n",
      "(2048, 2592, 2)\n",
      "getting image\n",
      "(2048, 2592, 2)\n"
     ]
    },
    {
     "name": "stderr",
     "output_type": "stream",
     "text": [
      "2019-12-30 11:05:09.522Z moduleTest       20 moduleTest.py:954 3/3 phi forward to 3250\n"
     ]
    },
    {
     "name": "stdout",
     "output_type": "stream",
     "text": [
      "getting image\n",
      "(2048, 2592, 2)\n",
      "getting image\n",
      "(2048, 2592, 2)\n",
      "getting image\n",
      "(2048, 2592, 2)\n",
      "getting image\n",
      "(2048, 2592, 2)\n"
     ]
    },
    {
     "name": "stderr",
     "output_type": "stream",
     "text": [
      "2019-12-30 11:05:12.039Z moduleTest       20 moduleTest.py:954 3/3 phi forward to 3500\n"
     ]
    },
    {
     "name": "stdout",
     "output_type": "stream",
     "text": [
      "getting image\n",
      "(2048, 2592, 2)\n",
      "getting image\n",
      "(2048, 2592, 2)\n",
      "getting image\n",
      "(2048, 2592, 2)\n",
      "getting image\n",
      "(2048, 2592, 2)\n"
     ]
    },
    {
     "name": "stderr",
     "output_type": "stream",
     "text": [
      "2019-12-30 11:05:14.534Z moduleTest       20 moduleTest.py:954 3/3 phi forward to 3750\n"
     ]
    },
    {
     "name": "stdout",
     "output_type": "stream",
     "text": [
      "getting image\n",
      "(2048, 2592, 2)\n",
      "getting image\n",
      "(2048, 2592, 2)\n",
      "getting image\n",
      "(2048, 2592, 2)\n",
      "getting image\n",
      "(2048, 2592, 2)\n"
     ]
    },
    {
     "name": "stderr",
     "output_type": "stream",
     "text": [
      "2019-12-30 11:05:17.003Z moduleTest       20 moduleTest.py:954 3/3 phi forward to 4000\n"
     ]
    },
    {
     "name": "stdout",
     "output_type": "stream",
     "text": [
      "getting image\n",
      "(2048, 2592, 2)\n",
      "getting image\n",
      "(2048, 2592, 2)\n",
      "getting image\n",
      "(2048, 2592, 2)\n",
      "getting image\n",
      "(2048, 2592, 2)\n"
     ]
    },
    {
     "name": "stderr",
     "output_type": "stream",
     "text": [
      "2019-12-30 11:05:19.507Z moduleTest       20 moduleTest.py:954 3/3 phi forward to 4250\n"
     ]
    },
    {
     "name": "stdout",
     "output_type": "stream",
     "text": [
      "getting image\n",
      "(2048, 2592, 2)\n",
      "getting image\n",
      "(2048, 2592, 2)\n",
      "getting image\n",
      "(2048, 2592, 2)\n",
      "getting image\n",
      "(2048, 2592, 2)\n"
     ]
    },
    {
     "name": "stderr",
     "output_type": "stream",
     "text": [
      "2019-12-30 11:05:22.000Z moduleTest       20 moduleTest.py:954 3/3 phi forward to 4500\n"
     ]
    },
    {
     "name": "stdout",
     "output_type": "stream",
     "text": [
      "getting image\n",
      "(2048, 2592, 2)\n",
      "getting image\n",
      "(2048, 2592, 2)\n",
      "getting image\n",
      "(2048, 2592, 2)\n",
      "getting image\n",
      "(2048, 2592, 2)\n"
     ]
    },
    {
     "name": "stderr",
     "output_type": "stream",
     "text": [
      "2019-12-30 11:05:24.516Z moduleTest       20 moduleTest.py:954 3/3 phi forward to 4750\n"
     ]
    },
    {
     "name": "stdout",
     "output_type": "stream",
     "text": [
      "getting image\n",
      "(2048, 2592, 2)\n",
      "getting image\n",
      "(2048, 2592, 2)\n",
      "getting image\n",
      "(2048, 2592, 2)\n",
      "getting image\n",
      "(2048, 2592, 2)\n"
     ]
    },
    {
     "name": "stderr",
     "output_type": "stream",
     "text": [
      "2019-12-30 11:05:26.998Z moduleTest       20 moduleTest.py:954 3/3 phi forward to 5000\n"
     ]
    },
    {
     "name": "stdout",
     "output_type": "stream",
     "text": [
      "getting image\n",
      "(2048, 2592, 2)\n",
      "getting image\n",
      "(2048, 2592, 2)\n",
      "getting image\n",
      "(2048, 2592, 2)\n",
      "getting image\n",
      "(2048, 2592, 2)\n"
     ]
    },
    {
     "name": "stderr",
     "output_type": "stream",
     "text": [
      "2019-12-30 11:05:29.517Z moduleTest       20 moduleTest.py:954 3/3 phi forward to 5250\n"
     ]
    },
    {
     "name": "stdout",
     "output_type": "stream",
     "text": [
      "getting image\n",
      "(2048, 2592, 2)\n",
      "getting image\n",
      "(2048, 2592, 2)\n",
      "getting image\n",
      "(2048, 2592, 2)\n",
      "getting image\n",
      "(2048, 2592, 2)\n"
     ]
    },
    {
     "name": "stderr",
     "output_type": "stream",
     "text": [
      "2019-12-30 11:05:32.010Z moduleTest       20 moduleTest.py:954 3/3 phi forward to 5500\n"
     ]
    },
    {
     "name": "stdout",
     "output_type": "stream",
     "text": [
      "getting image\n",
      "(2048, 2592, 2)\n",
      "getting image\n",
      "(2048, 2592, 2)\n",
      "getting image\n",
      "(2048, 2592, 2)\n",
      "getting image\n",
      "(2048, 2592, 2)\n"
     ]
    },
    {
     "name": "stderr",
     "output_type": "stream",
     "text": [
      "2019-12-30 11:05:34.510Z moduleTest       20 moduleTest.py:954 3/3 phi forward to 5750\n"
     ]
    },
    {
     "name": "stdout",
     "output_type": "stream",
     "text": [
      "getting image\n",
      "(2048, 2592, 2)\n",
      "getting image\n",
      "(2048, 2592, 2)\n",
      "getting image\n",
      "(2048, 2592, 2)\n",
      "getting image\n",
      "(2048, 2592, 2)\n"
     ]
    },
    {
     "name": "stderr",
     "output_type": "stream",
     "text": [
      "2019-12-30 11:05:37.042Z moduleTest       20 moduleTest.py:954 3/3 phi forward to 6000\n"
     ]
    },
    {
     "name": "stdout",
     "output_type": "stream",
     "text": [
      "getting image\n",
      "(2048, 2592, 2)\n",
      "getting image\n",
      "(2048, 2592, 2)\n",
      "getting image\n",
      "(2048, 2592, 2)\n",
      "getting image\n",
      "(2048, 2592, 2)\n"
     ]
    },
    {
     "name": "stderr",
     "output_type": "stream",
     "text": [
      "2019-12-30 11:05:39.490Z moduleTest       20 moduleTest.py:981 3/3 phi forward 6000 to limit\n"
     ]
    },
    {
     "name": "stdout",
     "output_type": "stream",
     "text": [
      "getting image\n",
      "(2048, 2592, 2)\n",
      "getting image\n",
      "(2048, 2592, 2)\n",
      "getting image\n",
      "(2048, 2592, 2)\n",
      "getting image\n",
      "(2048, 2592, 2)\n"
     ]
    },
    {
     "name": "stderr",
     "output_type": "stream",
     "text": [
      "2019-12-30 11:05:56.030Z moduleTest       20 moduleTest.py:991 3/3 phi backward to 250\n"
     ]
    },
    {
     "name": "stdout",
     "output_type": "stream",
     "text": [
      "getting image\n",
      "(2048, 2592, 2)\n",
      "getting image\n",
      "(2048, 2592, 2)\n",
      "getting image\n",
      "(2048, 2592, 2)\n",
      "getting image\n",
      "(2048, 2592, 2)\n"
     ]
    },
    {
     "name": "stderr",
     "output_type": "stream",
     "text": [
      "2019-12-30 11:05:58.541Z moduleTest       20 moduleTest.py:991 3/3 phi backward to 500\n"
     ]
    },
    {
     "name": "stdout",
     "output_type": "stream",
     "text": [
      "getting image\n",
      "(2048, 2592, 2)\n",
      "getting image\n",
      "(2048, 2592, 2)\n",
      "getting image\n",
      "(2048, 2592, 2)\n",
      "getting image\n",
      "(2048, 2592, 2)\n"
     ]
    },
    {
     "name": "stderr",
     "output_type": "stream",
     "text": [
      "2019-12-30 11:06:01.058Z moduleTest       20 moduleTest.py:991 3/3 phi backward to 750\n"
     ]
    },
    {
     "name": "stdout",
     "output_type": "stream",
     "text": [
      "getting image\n",
      "(2048, 2592, 2)\n",
      "getting image\n",
      "(2048, 2592, 2)\n",
      "getting image\n",
      "(2048, 2592, 2)\n",
      "getting image\n",
      "(2048, 2592, 2)\n"
     ]
    },
    {
     "name": "stderr",
     "output_type": "stream",
     "text": [
      "2019-12-30 11:06:03.550Z moduleTest       20 moduleTest.py:991 3/3 phi backward to 1000\n"
     ]
    },
    {
     "name": "stdout",
     "output_type": "stream",
     "text": [
      "getting image\n",
      "(2048, 2592, 2)\n",
      "getting image\n",
      "(2048, 2592, 2)\n",
      "getting image\n",
      "(2048, 2592, 2)\n",
      "getting image\n",
      "(2048, 2592, 2)\n"
     ]
    },
    {
     "name": "stderr",
     "output_type": "stream",
     "text": [
      "2019-12-30 11:06:06.016Z moduleTest       20 moduleTest.py:991 3/3 phi backward to 1250\n"
     ]
    },
    {
     "name": "stdout",
     "output_type": "stream",
     "text": [
      "getting image\n",
      "(2048, 2592, 2)\n",
      "getting image\n",
      "(2048, 2592, 2)\n",
      "getting image\n",
      "(2048, 2592, 2)\n",
      "getting image\n",
      "(2048, 2592, 2)\n"
     ]
    },
    {
     "name": "stderr",
     "output_type": "stream",
     "text": [
      "2019-12-30 11:06:08.505Z moduleTest       20 moduleTest.py:991 3/3 phi backward to 1500\n"
     ]
    },
    {
     "name": "stdout",
     "output_type": "stream",
     "text": [
      "getting image\n",
      "(2048, 2592, 2)\n",
      "getting image\n",
      "(2048, 2592, 2)\n",
      "getting image\n",
      "(2048, 2592, 2)\n",
      "getting image\n",
      "(2048, 2592, 2)\n"
     ]
    },
    {
     "name": "stderr",
     "output_type": "stream",
     "text": [
      "2019-12-30 11:06:11.037Z moduleTest       20 moduleTest.py:991 3/3 phi backward to 1750\n"
     ]
    },
    {
     "name": "stdout",
     "output_type": "stream",
     "text": [
      "getting image\n",
      "(2048, 2592, 2)\n",
      "getting image\n",
      "(2048, 2592, 2)\n",
      "getting image\n",
      "(2048, 2592, 2)\n",
      "getting image\n",
      "(2048, 2592, 2)\n"
     ]
    },
    {
     "name": "stderr",
     "output_type": "stream",
     "text": [
      "2019-12-30 11:06:13.517Z moduleTest       20 moduleTest.py:991 3/3 phi backward to 2000\n"
     ]
    },
    {
     "name": "stdout",
     "output_type": "stream",
     "text": [
      "getting image\n",
      "(2048, 2592, 2)\n",
      "getting image\n",
      "(2048, 2592, 2)\n",
      "getting image\n",
      "(2048, 2592, 2)\n",
      "getting image\n",
      "(2048, 2592, 2)\n"
     ]
    },
    {
     "name": "stderr",
     "output_type": "stream",
     "text": [
      "2019-12-30 11:06:16.014Z moduleTest       20 moduleTest.py:991 3/3 phi backward to 2250\n"
     ]
    },
    {
     "name": "stdout",
     "output_type": "stream",
     "text": [
      "getting image\n",
      "(2048, 2592, 2)\n",
      "getting image\n",
      "(2048, 2592, 2)\n",
      "getting image\n",
      "(2048, 2592, 2)\n",
      "getting image\n",
      "(2048, 2592, 2)\n"
     ]
    },
    {
     "name": "stderr",
     "output_type": "stream",
     "text": [
      "2019-12-30 11:06:18.546Z moduleTest       20 moduleTest.py:991 3/3 phi backward to 2500\n"
     ]
    },
    {
     "name": "stdout",
     "output_type": "stream",
     "text": [
      "getting image\n",
      "(2048, 2592, 2)\n",
      "getting image\n",
      "(2048, 2592, 2)\n",
      "getting image\n",
      "(2048, 2592, 2)\n",
      "getting image\n",
      "(2048, 2592, 2)\n"
     ]
    },
    {
     "name": "stderr",
     "output_type": "stream",
     "text": [
      "2019-12-30 11:06:21.094Z moduleTest       20 moduleTest.py:991 3/3 phi backward to 2750\n"
     ]
    },
    {
     "name": "stdout",
     "output_type": "stream",
     "text": [
      "getting image\n",
      "(2048, 2592, 2)\n",
      "getting image\n",
      "(2048, 2592, 2)\n",
      "getting image\n",
      "(2048, 2592, 2)\n",
      "getting image\n",
      "(2048, 2592, 2)\n"
     ]
    },
    {
     "name": "stderr",
     "output_type": "stream",
     "text": [
      "2019-12-30 11:06:23.504Z moduleTest       20 moduleTest.py:991 3/3 phi backward to 3000\n"
     ]
    },
    {
     "name": "stdout",
     "output_type": "stream",
     "text": [
      "getting image\n",
      "(2048, 2592, 2)\n",
      "getting image\n",
      "(2048, 2592, 2)\n",
      "getting image\n",
      "(2048, 2592, 2)\n",
      "getting image\n",
      "(2048, 2592, 2)\n"
     ]
    },
    {
     "name": "stderr",
     "output_type": "stream",
     "text": [
      "2019-12-30 11:06:26.037Z moduleTest       20 moduleTest.py:991 3/3 phi backward to 3250\n"
     ]
    },
    {
     "name": "stdout",
     "output_type": "stream",
     "text": [
      "getting image\n",
      "(2048, 2592, 2)\n",
      "getting image\n",
      "(2048, 2592, 2)\n",
      "getting image\n",
      "(2048, 2592, 2)\n",
      "getting image\n",
      "(2048, 2592, 2)\n"
     ]
    },
    {
     "name": "stderr",
     "output_type": "stream",
     "text": [
      "2019-12-30 11:06:28.540Z moduleTest       20 moduleTest.py:991 3/3 phi backward to 3500\n"
     ]
    },
    {
     "name": "stdout",
     "output_type": "stream",
     "text": [
      "getting image\n",
      "(2048, 2592, 2)\n",
      "getting image\n",
      "(2048, 2592, 2)\n",
      "getting image\n",
      "(2048, 2592, 2)\n",
      "getting image\n",
      "(2048, 2592, 2)\n"
     ]
    },
    {
     "name": "stderr",
     "output_type": "stream",
     "text": [
      "2019-12-30 11:06:31.031Z moduleTest       20 moduleTest.py:991 3/3 phi backward to 3750\n"
     ]
    },
    {
     "name": "stdout",
     "output_type": "stream",
     "text": [
      "getting image\n",
      "(2048, 2592, 2)\n",
      "getting image\n",
      "(2048, 2592, 2)\n",
      "getting image\n",
      "(2048, 2592, 2)\n",
      "getting image\n",
      "(2048, 2592, 2)\n"
     ]
    },
    {
     "name": "stderr",
     "output_type": "stream",
     "text": [
      "2019-12-30 11:06:33.495Z moduleTest       20 moduleTest.py:991 3/3 phi backward to 4000\n"
     ]
    },
    {
     "name": "stdout",
     "output_type": "stream",
     "text": [
      "getting image\n",
      "(2048, 2592, 2)\n",
      "getting image\n",
      "(2048, 2592, 2)\n",
      "getting image\n",
      "(2048, 2592, 2)\n",
      "getting image\n",
      "(2048, 2592, 2)\n"
     ]
    },
    {
     "name": "stderr",
     "output_type": "stream",
     "text": [
      "2019-12-30 11:06:36.029Z moduleTest       20 moduleTest.py:991 3/3 phi backward to 4250\n"
     ]
    },
    {
     "name": "stdout",
     "output_type": "stream",
     "text": [
      "getting image\n",
      "(2048, 2592, 2)\n",
      "getting image\n",
      "(2048, 2592, 2)\n",
      "getting image\n",
      "(2048, 2592, 2)\n",
      "getting image\n",
      "(2048, 2592, 2)\n"
     ]
    },
    {
     "name": "stderr",
     "output_type": "stream",
     "text": [
      "2019-12-30 11:06:38.535Z moduleTest       20 moduleTest.py:991 3/3 phi backward to 4500\n"
     ]
    },
    {
     "name": "stdout",
     "output_type": "stream",
     "text": [
      "getting image\n",
      "(2048, 2592, 2)\n",
      "getting image\n",
      "(2048, 2592, 2)\n",
      "getting image\n",
      "(2048, 2592, 2)\n",
      "getting image\n",
      "(2048, 2592, 2)\n"
     ]
    },
    {
     "name": "stderr",
     "output_type": "stream",
     "text": [
      "2019-12-30 11:06:41.034Z moduleTest       20 moduleTest.py:991 3/3 phi backward to 4750\n"
     ]
    },
    {
     "name": "stdout",
     "output_type": "stream",
     "text": [
      "getting image\n",
      "(2048, 2592, 2)\n",
      "getting image\n",
      "(2048, 2592, 2)\n",
      "getting image\n",
      "(2048, 2592, 2)\n",
      "getting image\n",
      "(2048, 2592, 2)\n"
     ]
    },
    {
     "name": "stderr",
     "output_type": "stream",
     "text": [
      "2019-12-30 11:06:43.538Z moduleTest       20 moduleTest.py:991 3/3 phi backward to 5000\n"
     ]
    },
    {
     "name": "stdout",
     "output_type": "stream",
     "text": [
      "getting image\n",
      "(2048, 2592, 2)\n",
      "getting image\n",
      "(2048, 2592, 2)\n",
      "getting image\n",
      "(2048, 2592, 2)\n",
      "getting image\n",
      "(2048, 2592, 2)\n"
     ]
    },
    {
     "name": "stderr",
     "output_type": "stream",
     "text": [
      "2019-12-30 11:06:46.033Z moduleTest       20 moduleTest.py:991 3/3 phi backward to 5250\n"
     ]
    },
    {
     "name": "stdout",
     "output_type": "stream",
     "text": [
      "getting image\n",
      "(2048, 2592, 2)\n",
      "getting image\n",
      "(2048, 2592, 2)\n",
      "getting image\n",
      "(2048, 2592, 2)\n",
      "getting image\n",
      "(2048, 2592, 2)\n"
     ]
    },
    {
     "name": "stderr",
     "output_type": "stream",
     "text": [
      "2019-12-30 11:06:48.529Z moduleTest       20 moduleTest.py:991 3/3 phi backward to 5500\n"
     ]
    },
    {
     "name": "stdout",
     "output_type": "stream",
     "text": [
      "getting image\n",
      "(2048, 2592, 2)\n",
      "getting image\n",
      "(2048, 2592, 2)\n",
      "getting image\n",
      "(2048, 2592, 2)\n",
      "getting image\n",
      "(2048, 2592, 2)\n"
     ]
    },
    {
     "name": "stderr",
     "output_type": "stream",
     "text": [
      "2019-12-30 11:06:51.012Z moduleTest       20 moduleTest.py:991 3/3 phi backward to 5750\n"
     ]
    },
    {
     "name": "stdout",
     "output_type": "stream",
     "text": [
      "getting image\n",
      "(2048, 2592, 2)\n",
      "getting image\n",
      "(2048, 2592, 2)\n",
      "getting image\n",
      "(2048, 2592, 2)\n",
      "getting image\n",
      "(2048, 2592, 2)\n"
     ]
    },
    {
     "name": "stderr",
     "output_type": "stream",
     "text": [
      "2019-12-30 11:06:53.534Z moduleTest       20 moduleTest.py:991 3/3 phi backward to 6000\n"
     ]
    },
    {
     "name": "stdout",
     "output_type": "stream",
     "text": [
      "getting image\n",
      "(2048, 2592, 2)\n",
      "getting image\n",
      "(2048, 2592, 2)\n",
      "getting image\n",
      "(2048, 2592, 2)\n",
      "getting image\n",
      "(2048, 2592, 2)\n"
     ]
    },
    {
     "name": "stderr",
     "output_type": "stream",
     "text": [
      "2019-12-30 11:06:56.017Z moduleTest       20 moduleTest.py:1018 3/3 phi reverse -6000 steps to limit\n",
      "2019-12-30 11:07:12.151Z root             20 pfiDesign.py:740 wrote pfiDesign file for 57 cobras and name=phiModel to /data/MCS/20191230_002/output/SC06_phi_250.xml\n"
     ]
    }
   ],
   "source": [
    "runDir = mt.makePhiMotorMap(f'{moduleNameShort}_phi_250.xml', steps=250, repeat=3, totalSteps=6000)"
   ]
  },
  {
   "cell_type": "code",
   "execution_count": 10,
   "metadata": {
    "scrolled": false
   },
   "outputs": [
    {
     "name": "stderr",
     "output_type": "stream",
     "text": [
      "2019-12-30 11:07:12.354Z matplotlib.font_manager 10 font_manager.py:1259 findfont: Matching :family=sans-serif:style=normal:variant=normal:weight=normal:stretch=normal:size=12.0.\n",
      "2019-12-30 11:07:12.355Z matplotlib.font_manager 10 font_manager.py:1271 findfont: score(<Font 'DejaVu Serif' (DejaVuSerif-BoldItalic.ttf) italic normal bold normal>) = 11.335\n",
      "2019-12-30 11:07:12.355Z matplotlib.font_manager 10 font_manager.py:1271 findfont: score(<Font 'DejaVu Sans' (DejaVuSans.ttf) normal normal 400 normal>) = 0.05\n",
      "2019-12-30 11:07:12.356Z matplotlib.font_manager 10 font_manager.py:1271 findfont: score(<Font 'STIXGeneral' (STIXGeneralBolIta.ttf) italic normal bold normal>) = 11.335\n",
      "2019-12-30 11:07:12.356Z matplotlib.font_manager 10 font_manager.py:1271 findfont: score(<Font 'DejaVu Sans Mono' (DejaVuSansMono.ttf) normal normal 400 normal>) = 10.05\n",
      "2019-12-30 11:07:12.357Z matplotlib.font_manager 10 font_manager.py:1271 findfont: score(<Font 'DejaVu Sans Display' (DejaVuSansDisplay.ttf) normal normal 400 normal>) = 10.05\n",
      "2019-12-30 11:07:12.357Z matplotlib.font_manager 10 font_manager.py:1271 findfont: score(<Font 'STIXGeneral' (STIXGeneral.ttf) normal normal regular normal>) = 10.05\n",
      "2019-12-30 11:07:12.357Z matplotlib.font_manager 10 font_manager.py:1271 findfont: score(<Font 'STIXNonUnicode' (STIXNonUni.ttf) normal normal regular normal>) = 10.05\n",
      "2019-12-30 11:07:12.358Z matplotlib.font_manager 10 font_manager.py:1271 findfont: score(<Font 'STIXNonUnicode' (STIXNonUniBolIta.ttf) italic normal bold normal>) = 11.335\n",
      "2019-12-30 11:07:12.358Z matplotlib.font_manager 10 font_manager.py:1271 findfont: score(<Font 'cmb10' (cmb10.ttf) normal normal 400 normal>) = 10.05\n",
      "2019-12-30 11:07:12.359Z matplotlib.font_manager 10 font_manager.py:1271 findfont: score(<Font 'DejaVu Sans' (DejaVuSans-Bold.ttf) normal normal bold normal>) = 0.33499999999999996\n",
      "2019-12-30 11:07:12.359Z matplotlib.font_manager 10 font_manager.py:1271 findfont: score(<Font 'STIXSizeOneSym' (STIXSizOneSymReg.ttf) normal normal regular normal>) = 10.05\n",
      "2019-12-30 11:07:12.359Z matplotlib.font_manager 10 font_manager.py:1271 findfont: score(<Font 'cmmi10' (cmmi10.ttf) normal normal 400 normal>) = 10.05\n",
      "2019-12-30 11:07:12.360Z matplotlib.font_manager 10 font_manager.py:1271 findfont: score(<Font 'DejaVu Serif' (DejaVuSerif.ttf) normal normal 400 normal>) = 10.05\n",
      "2019-12-30 11:07:12.360Z matplotlib.font_manager 10 font_manager.py:1271 findfont: score(<Font 'DejaVu Sans' (DejaVuSans-Oblique.ttf) oblique normal 400 normal>) = 1.05\n",
      "2019-12-30 11:07:12.360Z matplotlib.font_manager 10 font_manager.py:1271 findfont: score(<Font 'STIXNonUnicode' (STIXNonUniBol.ttf) normal normal bold normal>) = 10.335\n",
      "2019-12-30 11:07:12.361Z matplotlib.font_manager 10 font_manager.py:1271 findfont: score(<Font 'STIXSizeFiveSym' (STIXSizFiveSymReg.ttf) normal normal regular normal>) = 10.05\n",
      "2019-12-30 11:07:12.361Z matplotlib.font_manager 10 font_manager.py:1271 findfont: score(<Font 'STIXSizeFourSym' (STIXSizFourSymBol.ttf) normal normal bold normal>) = 10.335\n",
      "2019-12-30 11:07:12.362Z matplotlib.font_manager 10 font_manager.py:1271 findfont: score(<Font 'STIXSizeThreeSym' (STIXSizThreeSymReg.ttf) normal normal regular normal>) = 10.05\n",
      "2019-12-30 11:07:12.364Z matplotlib.font_manager 10 font_manager.py:1271 findfont: score(<Font 'cmtt10' (cmtt10.ttf) normal normal 400 normal>) = 10.05\n",
      "2019-12-30 11:07:12.364Z matplotlib.font_manager 10 font_manager.py:1271 findfont: score(<Font 'STIXSizeThreeSym' (STIXSizThreeSymBol.ttf) normal normal bold normal>) = 10.335\n",
      "2019-12-30 11:07:12.365Z matplotlib.font_manager 10 font_manager.py:1271 findfont: score(<Font 'STIXGeneral' (STIXGeneralBol.ttf) normal normal bold normal>) = 10.335\n",
      "2019-12-30 11:07:12.365Z matplotlib.font_manager 10 font_manager.py:1271 findfont: score(<Font 'DejaVu Sans' (DejaVuSans-BoldOblique.ttf) oblique normal bold normal>) = 1.335\n",
      "2019-12-30 11:07:12.365Z matplotlib.font_manager 10 font_manager.py:1271 findfont: score(<Font 'cmr10' (cmr10.ttf) normal normal 400 normal>) = 10.05\n",
      "2019-12-30 11:07:12.366Z matplotlib.font_manager 10 font_manager.py:1271 findfont: score(<Font 'cmss10' (cmss10.ttf) normal normal 400 normal>) = 10.05\n",
      "2019-12-30 11:07:12.366Z matplotlib.font_manager 10 font_manager.py:1271 findfont: score(<Font 'cmsy10' (cmsy10.ttf) normal normal 400 normal>) = 10.05\n",
      "2019-12-30 11:07:12.367Z matplotlib.font_manager 10 font_manager.py:1271 findfont: score(<Font 'STIXSizeFourSym' (STIXSizFourSymReg.ttf) normal normal regular normal>) = 10.05\n",
      "2019-12-30 11:07:12.367Z matplotlib.font_manager 10 font_manager.py:1271 findfont: score(<Font 'cmex10' (cmex10.ttf) normal normal 400 normal>) = 10.05\n",
      "2019-12-30 11:07:12.367Z matplotlib.font_manager 10 font_manager.py:1271 findfont: score(<Font 'STIXNonUnicode' (STIXNonUniIta.ttf) italic normal 400 normal>) = 11.05\n",
      "2019-12-30 11:07:12.368Z matplotlib.font_manager 10 font_manager.py:1271 findfont: score(<Font 'DejaVu Sans Mono' (DejaVuSansMono-BoldOblique.ttf) oblique normal bold normal>) = 11.335\n",
      "2019-12-30 11:07:12.368Z matplotlib.font_manager 10 font_manager.py:1271 findfont: score(<Font 'DejaVu Serif' (DejaVuSerif-Bold.ttf) normal normal bold normal>) = 10.335\n",
      "2019-12-30 11:07:12.368Z matplotlib.font_manager 10 font_manager.py:1271 findfont: score(<Font 'STIXSizeTwoSym' (STIXSizTwoSymReg.ttf) normal normal regular normal>) = 10.05\n",
      "2019-12-30 11:07:12.369Z matplotlib.font_manager 10 font_manager.py:1271 findfont: score(<Font 'STIXSizeTwoSym' (STIXSizTwoSymBol.ttf) normal normal bold normal>) = 10.335\n",
      "2019-12-30 11:07:12.369Z matplotlib.font_manager 10 font_manager.py:1271 findfont: score(<Font 'DejaVu Serif' (DejaVuSerif-Italic.ttf) italic normal 400 normal>) = 11.05\n",
      "2019-12-30 11:07:12.370Z matplotlib.font_manager 10 font_manager.py:1271 findfont: score(<Font 'DejaVu Sans Mono' (DejaVuSansMono-Bold.ttf) normal normal bold normal>) = 10.335\n",
      "2019-12-30 11:07:12.370Z matplotlib.font_manager 10 font_manager.py:1271 findfont: score(<Font 'STIXGeneral' (STIXGeneralItalic.ttf) italic normal 400 normal>) = 11.05\n",
      "2019-12-30 11:07:12.370Z matplotlib.font_manager 10 font_manager.py:1271 findfont: score(<Font 'STIXSizeOneSym' (STIXSizOneSymBol.ttf) normal normal bold normal>) = 10.335\n",
      "2019-12-30 11:07:12.371Z matplotlib.font_manager 10 font_manager.py:1271 findfont: score(<Font 'DejaVu Sans Mono' (DejaVuSansMono-Oblique.ttf) oblique normal 400 normal>) = 11.05\n",
      "2019-12-30 11:07:12.371Z matplotlib.font_manager 10 font_manager.py:1271 findfont: score(<Font 'DejaVu Serif Display' (DejaVuSerifDisplay.ttf) normal normal 400 normal>) = 10.05\n",
      "2019-12-30 11:07:12.372Z matplotlib.font_manager 10 font_manager.py:1271 findfont: score(<Font 'Liberation Serif' (LiberationSerif-Regular.ttf) normal normal 400 normal>) = 10.05\n",
      "2019-12-30 11:07:12.372Z matplotlib.font_manager 10 font_manager.py:1271 findfont: score(<Font 'Kalapi' (Kalapi.ttf) normal normal 400 normal>) = 10.05\n",
      "2019-12-30 11:07:12.372Z matplotlib.font_manager 10 font_manager.py:1271 findfont: score(<Font 'Kinnari' (Kinnari-BoldOblique.ttf) oblique normal bold normal>) = 11.335\n",
      "2019-12-30 11:07:12.375Z matplotlib.font_manager 10 font_manager.py:1271 findfont: score(<Font 'Umpush' (Umpush-Oblique.ttf) oblique normal 400 normal>) = 11.05\n",
      "2019-12-30 11:07:12.375Z matplotlib.font_manager 10 font_manager.py:1271 findfont: score(<Font 'Sawasdee' (Sawasdee-BoldOblique.ttf) oblique normal bold normal>) = 11.335\n",
      "2019-12-30 11:07:12.375Z matplotlib.font_manager 10 font_manager.py:1271 findfont: score(<Font 'Liberation Sans' (LiberationSans-Bold.ttf) normal normal bold normal>) = 10.335\n",
      "2019-12-30 11:07:12.376Z matplotlib.font_manager 10 font_manager.py:1271 findfont: score(<Font 'FreeMono' (FreeMono.ttf) normal normal 400 normal>) = 10.05\n",
      "2019-12-30 11:07:12.376Z matplotlib.font_manager 10 font_manager.py:1271 findfont: score(<Font 'Liberation Sans' (LiberationSans-BoldItalic.ttf) italic normal bold normal>) = 11.335\n",
      "2019-12-30 11:07:12.376Z matplotlib.font_manager 10 font_manager.py:1271 findfont: score(<Font 'Liberation Sans Narrow' (LiberationSansNarrow-Italic.ttf) italic normal 400 condensed>) = 11.25\n",
      "2019-12-30 11:07:12.377Z matplotlib.font_manager 10 font_manager.py:1271 findfont: score(<Font 'Lohit Devanagari' (Lohit-Devanagari.ttf) normal normal 400 normal>) = 10.05\n"
     ]
    },
    {
     "name": "stderr",
     "output_type": "stream",
     "text": [
      "2019-12-30 11:07:12.377Z matplotlib.font_manager 10 font_manager.py:1271 findfont: score(<Font 'Padauk' (Padauk-Regular.ttf) normal normal 400 normal>) = 10.05\n",
      "2019-12-30 11:07:12.377Z matplotlib.font_manager 10 font_manager.py:1271 findfont: score(<Font 'Tlwg Mono' (TlwgMono-BoldOblique.ttf) oblique normal bold normal>) = 11.335\n",
      "2019-12-30 11:07:12.377Z matplotlib.font_manager 10 font_manager.py:1271 findfont: score(<Font 'Tlwg Typist' (TlwgTypist.ttf) normal normal 400 normal>) = 10.05\n",
      "2019-12-30 11:07:12.378Z matplotlib.font_manager 10 font_manager.py:1271 findfont: score(<Font 'Purisa' (Purisa-BoldOblique.ttf) oblique normal bold normal>) = 11.335\n",
      "2019-12-30 11:07:12.378Z matplotlib.font_manager 10 font_manager.py:1271 findfont: score(<Font 'Noto Sans CJK JP' (NotoSansCJK-Regular.ttc) normal normal 400 normal>) = 10.05\n",
      "2019-12-30 11:07:12.378Z matplotlib.font_manager 10 font_manager.py:1271 findfont: score(<Font 'Liberation Serif' (LiberationSerif-BoldItalic.ttf) italic normal bold normal>) = 11.335\n",
      "2019-12-30 11:07:12.379Z matplotlib.font_manager 10 font_manager.py:1271 findfont: score(<Font 'Ubuntu Mono' (UbuntuMono-RI.ttf) italic normal 400 normal>) = 11.05\n",
      "2019-12-30 11:07:12.379Z matplotlib.font_manager 10 font_manager.py:1271 findfont: score(<Font 'FreeSans' (FreeSansOblique.ttf) oblique normal 400 normal>) = 11.05\n",
      "2019-12-30 11:07:12.379Z matplotlib.font_manager 10 font_manager.py:1271 findfont: score(<Font 'Ubuntu' (Ubuntu-R.ttf) normal normal 400 normal>) = 10.05\n",
      "2019-12-30 11:07:12.379Z matplotlib.font_manager 10 font_manager.py:1271 findfont: score(<Font 'Mukti Narrow' (MuktiNarrow.ttf) normal normal 400 normal>) = 10.05\n",
      "2019-12-30 11:07:12.380Z matplotlib.font_manager 10 font_manager.py:1271 findfont: score(<Font 'ori1Uni' (utkal.ttf) normal normal medium normal>) = 10.145\n",
      "2019-12-30 11:07:12.380Z matplotlib.font_manager 10 font_manager.py:1271 findfont: score(<Font 'Samyak Devanagari' (Samyak-Devanagari.ttf) normal normal 400 normal>) = 10.05\n",
      "2019-12-30 11:07:12.380Z matplotlib.font_manager 10 font_manager.py:1271 findfont: score(<Font 'KacstDecorative' (KacstDecorative.ttf) normal normal 400 normal>) = 10.05\n",
      "2019-12-30 11:07:12.380Z matplotlib.font_manager 10 font_manager.py:1271 findfont: score(<Font 'Samyak Tamil' (Samyak-Tamil.ttf) normal normal 400 normal>) = 10.05\n",
      "2019-12-30 11:07:12.381Z matplotlib.font_manager 10 font_manager.py:1271 findfont: score(<Font 'Liberation Sans' (LiberationSans-Italic.ttf) italic normal 400 normal>) = 11.05\n",
      "2019-12-30 11:07:12.381Z matplotlib.font_manager 10 font_manager.py:1271 findfont: score(<Font 'Liberation Mono' (LiberationMono-Regular.ttf) normal normal 400 normal>) = 10.05\n",
      "2019-12-30 11:07:12.381Z matplotlib.font_manager 10 font_manager.py:1271 findfont: score(<Font 'Kinnari' (Kinnari-Italic.ttf) italic normal 400 normal>) = 11.05\n",
      "2019-12-30 11:07:12.381Z matplotlib.font_manager 10 font_manager.py:1271 findfont: score(<Font 'Mukti Narrow' (MuktiNarrowBold.ttf) normal normal 700 normal>) = 10.335\n",
      "2019-12-30 11:07:12.382Z matplotlib.font_manager 10 font_manager.py:1271 findfont: score(<Font 'Meera' (Meera.ttf) normal normal 400 normal>) = 10.05\n",
      "2019-12-30 11:07:12.382Z matplotlib.font_manager 10 font_manager.py:1271 findfont: score(<Font 'Ubuntu' (Ubuntu-MI.ttf) italic normal medium normal>) = 11.145\n",
      "2019-12-30 11:07:12.382Z matplotlib.font_manager 10 font_manager.py:1271 findfont: score(<Font 'FreeSerif' (FreeSerifBold.ttf) normal normal bold normal>) = 10.335\n",
      "2019-12-30 11:07:12.382Z matplotlib.font_manager 10 font_manager.py:1271 findfont: score(<Font 'Liberation Sans Narrow' (LiberationSansNarrow-Regular.ttf) normal normal 400 condensed>) = 10.25\n",
      "2019-12-30 11:07:12.383Z matplotlib.font_manager 10 font_manager.py:1271 findfont: score(<Font 'Lohit Gujarati' (Lohit-Gujarati.ttf) normal normal 400 normal>) = 10.05\n",
      "2019-12-30 11:07:12.383Z matplotlib.font_manager 10 font_manager.py:1271 findfont: score(<Font 'OpenSymbol' (opens___.ttf) normal normal 400 normal>) = 10.05\n",
      "2019-12-30 11:07:12.383Z matplotlib.font_manager 10 font_manager.py:1271 findfont: score(<Font 'Lohit Gurmukhi' (Lohit-Gurmukhi.ttf) normal normal 400 normal>) = 10.05\n",
      "2019-12-30 11:07:12.383Z matplotlib.font_manager 10 font_manager.py:1271 findfont: score(<Font 'Noto Serif CJK JP' (NotoSerifCJK-Bold.ttc) normal normal bold normal>) = 10.335\n",
      "2019-12-30 11:07:12.384Z matplotlib.font_manager 10 font_manager.py:1271 findfont: score(<Font 'Manjari' (Manjari-Bold.otf) normal normal bold normal>) = 10.335\n",
      "2019-12-30 11:07:12.384Z matplotlib.font_manager 10 font_manager.py:1271 findfont: score(<Font 'Ubuntu' (Ubuntu-BI.ttf) italic normal bold normal>) = 11.335\n",
      "2019-12-30 11:07:12.384Z matplotlib.font_manager 10 font_manager.py:1271 findfont: score(<Font 'Manjari' (Manjari-Regular.otf) normal normal regular normal>) = 10.05\n",
      "2019-12-30 11:07:12.384Z matplotlib.font_manager 10 font_manager.py:1271 findfont: score(<Font 'KacstTitleL' (KacstTitleL.ttf) normal normal 400 normal>) = 10.05\n",
      "2019-12-30 11:07:12.385Z matplotlib.font_manager 10 font_manager.py:1271 findfont: score(<Font 'Ubuntu' (Ubuntu-B.ttf) normal normal bold normal>) = 10.335\n",
      "2019-12-30 11:07:12.385Z matplotlib.font_manager 10 font_manager.py:1271 findfont: score(<Font 'Rachana' (Rachana-Bold.ttf) normal normal bold normal>) = 10.335\n",
      "2019-12-30 11:07:12.385Z matplotlib.font_manager 10 font_manager.py:1271 findfont: score(<Font 'Padauk Book' (PadaukBook-Regular.ttf) normal normal book normal>) = 10.05\n",
      "2019-12-30 11:07:12.385Z matplotlib.font_manager 10 font_manager.py:1271 findfont: score(<Font 'Tlwg Typist' (TlwgTypist-Bold.ttf) normal normal bold normal>) = 10.335\n",
      "2019-12-30 11:07:12.386Z matplotlib.font_manager 10 font_manager.py:1271 findfont: score(<Font 'Ubuntu' (Ubuntu-L.ttf) normal normal light normal>) = 10.24\n",
      "2019-12-30 11:07:12.386Z matplotlib.font_manager 10 font_manager.py:1271 findfont: score(<Font 'Samanata' (samanata.ttf) normal normal 400 normal>) = 10.05\n",
      "2019-12-30 11:07:12.386Z matplotlib.font_manager 10 font_manager.py:1271 findfont: score(<Font 'KacstOne' (KacstOne.ttf) normal normal 400 normal>) = 10.05\n",
      "2019-12-30 11:07:12.387Z matplotlib.font_manager 10 font_manager.py:1271 findfont: score(<Font 'KacstLetter' (KacstLetter.ttf) normal normal 400 normal>) = 10.05\n",
      "2019-12-30 11:07:12.387Z matplotlib.font_manager 10 font_manager.py:1271 findfont: score(<Font 'Tlwg Typist' (TlwgTypist-Oblique.ttf) oblique normal 400 normal>) = 11.05\n",
      "2019-12-30 11:07:12.387Z matplotlib.font_manager 10 font_manager.py:1271 findfont: score(<Font 'Sawasdee' (Sawasdee.ttf) normal normal 400 normal>) = 10.05\n",
      "2019-12-30 11:07:12.387Z matplotlib.font_manager 10 font_manager.py:1271 findfont: score(<Font 'Rachana' (Rachana-Regular.ttf) normal normal regular normal>) = 10.05\n",
      "2019-12-30 11:07:12.388Z matplotlib.font_manager 10 font_manager.py:1271 findfont: score(<Font 'KacstOne' (KacstOne-Bold.ttf) normal normal bold normal>) = 10.335\n",
      "2019-12-30 11:07:12.388Z matplotlib.font_manager 10 font_manager.py:1271 findfont: score(<Font 'Tlwg Typo' (TlwgTypo-BoldOblique.ttf) oblique normal bold normal>) = 11.335\n",
      "2019-12-30 11:07:12.388Z matplotlib.font_manager 10 font_manager.py:1271 findfont: score(<Font 'padmaa' (padmaa.ttf) normal normal 400 normal>) = 10.05\n",
      "2019-12-30 11:07:12.388Z matplotlib.font_manager 10 font_manager.py:1271 findfont: score(<Font 'Kinnari' (Kinnari-BoldItalic.ttf) italic normal bold normal>) = 11.335\n",
      "2019-12-30 11:07:12.389Z matplotlib.font_manager 10 font_manager.py:1271 findfont: score(<Font 'KacstBook' (KacstBook.ttf) normal normal book normal>) = 10.05\n",
      "2019-12-30 11:07:12.389Z matplotlib.font_manager 10 font_manager.py:1271 findfont: score(<Font 'Tlwg Typist' (TlwgTypist-BoldOblique.ttf) oblique normal bold normal>) = 11.335\n",
      "2019-12-30 11:07:12.389Z matplotlib.font_manager 10 font_manager.py:1271 findfont: score(<Font 'Noto Mono' (NotoMono-Regular.ttf) normal normal 400 normal>) = 10.05\n",
      "2019-12-30 11:07:12.390Z matplotlib.font_manager 10 font_manager.py:1271 findfont: score(<Font 'Waree' (Waree-Oblique.ttf) oblique normal 400 normal>) = 11.05\n",
      "2019-12-30 11:07:12.390Z matplotlib.font_manager 10 font_manager.py:1271 findfont: score(<Font 'KacstQurn' (KacstQurn.ttf) normal normal 400 normal>) = 10.05\n"
     ]
    },
    {
     "name": "stderr",
     "output_type": "stream",
     "text": [
      "2019-12-30 11:07:12.390Z matplotlib.font_manager 10 font_manager.py:1271 findfont: score(<Font 'Samyak Malayalam' (Samyak-Malayalam.ttf) normal normal 400 normal>) = 10.05\n",
      "2019-12-30 11:07:12.390Z matplotlib.font_manager 10 font_manager.py:1271 findfont: score(<Font 'Ubuntu' (Ubuntu-M.ttf) normal normal medium normal>) = 10.145\n",
      "2019-12-30 11:07:12.391Z matplotlib.font_manager 10 font_manager.py:1271 findfont: score(<Font 'Loma' (Loma-Oblique.ttf) oblique normal 400 normal>) = 11.05\n",
      "2019-12-30 11:07:12.391Z matplotlib.font_manager 10 font_manager.py:1271 findfont: score(<Font 'Umpush' (Umpush-Bold.ttf) normal normal bold normal>) = 10.335\n",
      "2019-12-30 11:07:12.391Z matplotlib.font_manager 10 font_manager.py:1271 findfont: score(<Font 'KacstDigital' (KacstDigital.ttf) normal normal 400 normal>) = 10.05\n",
      "2019-12-30 11:07:12.391Z matplotlib.font_manager 10 font_manager.py:1271 findfont: score(<Font 'AnjaliOldLipi' (AnjaliOldLipi.ttf) normal normal 400 normal>) = 10.05\n",
      "2019-12-30 11:07:12.392Z matplotlib.font_manager 10 font_manager.py:1271 findfont: score(<Font 'Pothana2000' (Pothana2000.ttf) normal normal 400 normal>) = 10.05\n",
      "2019-12-30 11:07:12.392Z matplotlib.font_manager 10 font_manager.py:1271 findfont: score(<Font 'Purisa' (Purisa-Oblique.ttf) oblique normal 400 normal>) = 11.05\n",
      "2019-12-30 11:07:12.392Z matplotlib.font_manager 10 font_manager.py:1271 findfont: score(<Font 'Likhan' (LikhanNormal.ttf) normal normal 400 normal>) = 10.05\n",
      "2019-12-30 11:07:12.392Z matplotlib.font_manager 10 font_manager.py:1271 findfont: score(<Font 'Kinnari' (Kinnari.ttf) normal normal 400 normal>) = 10.05\n",
      "2019-12-30 11:07:12.393Z matplotlib.font_manager 10 font_manager.py:1271 findfont: score(<Font 'Samyak Gujarati' (Samyak-Gujarati.ttf) normal normal 400 normal>) = 10.05\n",
      "2019-12-30 11:07:12.393Z matplotlib.font_manager 10 font_manager.py:1271 findfont: score(<Font 'Waree' (Waree-Bold.ttf) normal normal bold normal>) = 10.335\n",
      "2019-12-30 11:07:12.393Z matplotlib.font_manager 10 font_manager.py:1271 findfont: score(<Font 'Tlwg Typewriter' (TlwgTypewriter.ttf) normal normal 400 normal>) = 10.05\n",
      "2019-12-30 11:07:12.393Z matplotlib.font_manager 10 font_manager.py:1271 findfont: score(<Font 'Kinnari' (Kinnari-Bold.ttf) normal normal bold normal>) = 10.335\n",
      "2019-12-30 11:07:12.394Z matplotlib.font_manager 10 font_manager.py:1271 findfont: score(<Font 'FreeMono' (FreeMonoOblique.ttf) oblique normal 400 normal>) = 11.05\n",
      "2019-12-30 11:07:12.394Z matplotlib.font_manager 10 font_manager.py:1271 findfont: score(<Font 'Liberation Mono' (LiberationMono-Italic.ttf) italic normal 400 normal>) = 11.05\n",
      "2019-12-30 11:07:12.394Z matplotlib.font_manager 10 font_manager.py:1271 findfont: score(<Font 'Laksaman' (Laksaman-BoldItalic.ttf) italic normal bold normal>) = 11.335\n",
      "2019-12-30 11:07:12.394Z matplotlib.font_manager 10 font_manager.py:1271 findfont: score(<Font 'Pagul' (Pagul.ttf) normal normal 400 normal>) = 10.05\n",
      "2019-12-30 11:07:12.396Z matplotlib.font_manager 10 font_manager.py:1271 findfont: score(<Font 'LKLUG' (lklug.ttf) normal normal 400 normal>) = 10.05\n",
      "2019-12-30 11:07:12.396Z matplotlib.font_manager 10 font_manager.py:1271 findfont: score(<Font 'Karumbi' (Karumbi.ttf) normal normal 400 normal>) = 10.05\n",
      "2019-12-30 11:07:12.396Z matplotlib.font_manager 10 font_manager.py:1271 findfont: score(<Font 'Ubuntu Mono' (UbuntuMono-B.ttf) normal normal bold normal>) = 10.335\n",
      "2019-12-30 11:07:12.396Z matplotlib.font_manager 10 font_manager.py:1271 findfont: score(<Font 'Liberation Sans' (LiberationSans-Regular.ttf) normal normal 400 normal>) = 10.05\n",
      "2019-12-30 11:07:12.397Z matplotlib.font_manager 10 font_manager.py:1271 findfont: score(<Font 'Norasi' (Norasi-Bold.ttf) normal normal bold normal>) = 10.335\n",
      "2019-12-30 11:07:12.397Z matplotlib.font_manager 10 font_manager.py:1271 findfont: score(<Font 'KacstScreen' (KacstScreen.ttf) normal normal 400 normal>) = 10.05\n",
      "2019-12-30 11:07:12.397Z matplotlib.font_manager 10 font_manager.py:1271 findfont: score(<Font 'Tlwg Typewriter' (TlwgTypewriter-Oblique.ttf) oblique normal 400 normal>) = 11.05\n",
      "2019-12-30 11:07:12.398Z matplotlib.font_manager 10 font_manager.py:1271 findfont: score(<Font 'Laksaman' (Laksaman-Italic.ttf) italic normal 400 normal>) = 11.05\n",
      "2019-12-30 11:07:12.398Z matplotlib.font_manager 10 font_manager.py:1271 findfont: score(<Font 'Chandas' (chandas1-2.ttf) normal normal 400 normal>) = 10.05\n",
      "2019-12-30 11:07:12.398Z matplotlib.font_manager 10 font_manager.py:1271 findfont: score(<Font 'Lohit Bengali' (Lohit-Bengali.ttf) normal normal 400 normal>) = 10.05\n",
      "2019-12-30 11:07:12.398Z matplotlib.font_manager 10 font_manager.py:1271 findfont: score(<Font 'FreeSerif' (FreeSerif.ttf) normal normal 400 normal>) = 10.05\n",
      "2019-12-30 11:07:12.399Z matplotlib.font_manager 10 font_manager.py:1271 findfont: score(<Font 'Manjari' (Manjari-Thin.otf) normal normal 400 normal>) = 10.05\n",
      "2019-12-30 11:07:12.399Z matplotlib.font_manager 10 font_manager.py:1271 findfont: score(<Font 'Lohit Odia' (Lohit-Odia.ttf) normal normal 400 normal>) = 10.05\n",
      "2019-12-30 11:07:12.399Z matplotlib.font_manager 10 font_manager.py:1271 findfont: score(<Font 'Garuda' (Garuda-Oblique.ttf) oblique normal 400 normal>) = 11.05\n",
      "2019-12-30 11:07:12.399Z matplotlib.font_manager 10 font_manager.py:1271 findfont: score(<Font 'FreeMono' (FreeMonoBoldOblique.ttf) oblique normal bold normal>) = 11.335\n",
      "2019-12-30 11:07:12.400Z matplotlib.font_manager 10 font_manager.py:1271 findfont: score(<Font 'Abyssinica SIL' (AbyssinicaSIL-R.ttf) normal normal 400 normal>) = 10.05\n",
      "2019-12-30 11:07:12.400Z matplotlib.font_manager 10 font_manager.py:1271 findfont: score(<Font 'Norasi' (Norasi-Italic.ttf) italic normal 400 normal>) = 11.05\n",
      "2019-12-30 11:07:12.400Z matplotlib.font_manager 10 font_manager.py:1271 findfont: score(<Font 'FreeSerif' (FreeSerifBoldItalic.ttf) italic normal bold normal>) = 11.335\n",
      "2019-12-30 11:07:12.400Z matplotlib.font_manager 10 font_manager.py:1271 findfont: score(<Font 'Sawasdee' (Sawasdee-Bold.ttf) normal normal bold normal>) = 10.335\n",
      "2019-12-30 11:07:12.401Z matplotlib.font_manager 10 font_manager.py:1271 findfont: score(<Font 'Gargi' (Gargi.ttf) normal normal 400 normal>) = 10.05\n",
      "2019-12-30 11:07:12.401Z matplotlib.font_manager 10 font_manager.py:1271 findfont: score(<Font 'Ubuntu Mono' (UbuntuMono-BI.ttf) italic normal bold normal>) = 11.335\n",
      "2019-12-30 11:07:12.401Z matplotlib.font_manager 10 font_manager.py:1271 findfont: score(<Font 'Droid Sans Fallback' (DroidSansFallbackFull.ttf) normal normal 400 normal>) = 10.05\n",
      "2019-12-30 11:07:12.402Z matplotlib.font_manager 10 font_manager.py:1271 findfont: score(<Font 'Umpush' (Umpush-Light.ttf) normal normal light normal>) = 10.24\n",
      "2019-12-30 11:07:12.402Z matplotlib.font_manager 10 font_manager.py:1271 findfont: score(<Font 'Ani' (ani.ttf) normal normal 400 normal>) = 10.05\n",
      "2019-12-30 11:07:12.402Z matplotlib.font_manager 10 font_manager.py:1271 findfont: score(<Font 'Lohit Tamil Classical' (Lohit-Tamil-Classical.ttf) normal normal 400 normal>) = 10.05\n",
      "2019-12-30 11:07:12.402Z matplotlib.font_manager 10 font_manager.py:1271 findfont: score(<Font 'Khmer OS' (KhmerOS.ttf) normal normal 400 normal>) = 10.05\n",
      "2019-12-30 11:07:12.403Z matplotlib.font_manager 10 font_manager.py:1271 findfont: score(<Font 'Lohit Malayalam' (Lohit-Malayalam.ttf) normal normal 400 normal>) = 10.05\n",
      "2019-12-30 11:07:12.403Z matplotlib.font_manager 10 font_manager.py:1271 findfont: score(<Font 'Sahadeva' (sahadeva.ttf) normal normal 400 normal>) = 10.05\n",
      "2019-12-30 11:07:12.403Z matplotlib.font_manager 10 font_manager.py:1271 findfont: score(<Font 'Tlwg Typewriter' (TlwgTypewriter-Bold.ttf) normal normal bold normal>) = 10.335\n",
      "2019-12-30 11:07:12.403Z matplotlib.font_manager 10 font_manager.py:1271 findfont: score(<Font 'Umpush' (Umpush-BoldOblique.ttf) oblique normal bold normal>) = 11.335\n",
      "2019-12-30 11:07:12.404Z matplotlib.font_manager 10 font_manager.py:1271 findfont: score(<Font 'Nakula' (nakula.ttf) normal normal 400 normal>) = 10.05\n",
      "2019-12-30 11:07:12.404Z matplotlib.font_manager 10 font_manager.py:1271 findfont: score(<Font 'Norasi' (Norasi-Oblique.ttf) oblique normal 400 normal>) = 11.05\n",
      "2019-12-30 11:07:12.404Z matplotlib.font_manager 10 font_manager.py:1271 findfont: score(<Font 'Garuda' (Garuda-Bold.ttf) normal normal bold normal>) = 10.335\n"
     ]
    },
    {
     "name": "stderr",
     "output_type": "stream",
     "text": [
      "2019-12-30 11:07:12.404Z matplotlib.font_manager 10 font_manager.py:1271 findfont: score(<Font 'Liberation Mono' (LiberationMono-BoldItalic.ttf) italic normal bold normal>) = 11.335\n",
      "2019-12-30 11:07:12.405Z matplotlib.font_manager 10 font_manager.py:1271 findfont: score(<Font 'Padauk Book' (PadaukBook-Bold.ttf) normal normal book normal>) = 10.05\n",
      "2019-12-30 11:07:12.405Z matplotlib.font_manager 10 font_manager.py:1271 findfont: score(<Font 'Tibetan Machine Uni' (TibetanMachineUni.ttf) normal normal 400 normal>) = 10.05\n",
      "2019-12-30 11:07:12.405Z matplotlib.font_manager 10 font_manager.py:1271 findfont: score(<Font 'Garuda' (Garuda.ttf) normal normal 400 normal>) = 10.05\n",
      "2019-12-30 11:07:12.405Z matplotlib.font_manager 10 font_manager.py:1271 findfont: score(<Font 'Vemana2000' (vemana2000.ttf) normal normal 400 normal>) = 10.05\n",
      "2019-12-30 11:07:12.406Z matplotlib.font_manager 10 font_manager.py:1271 findfont: score(<Font 'Tlwg Mono' (TlwgMono-Bold.ttf) normal normal bold normal>) = 10.335\n",
      "2019-12-30 11:07:12.406Z matplotlib.font_manager 10 font_manager.py:1271 findfont: score(<Font 'Uroob' (Uroob.ttf) normal normal 700 normal>) = 10.335\n",
      "2019-12-30 11:07:12.406Z matplotlib.font_manager 10 font_manager.py:1271 findfont: score(<Font 'Loma' (Loma-BoldOblique.ttf) oblique normal bold normal>) = 11.335\n",
      "2019-12-30 11:07:12.407Z matplotlib.font_manager 10 font_manager.py:1271 findfont: score(<Font 'FreeSerif' (FreeSerifItalic.ttf) italic normal 400 normal>) = 11.05\n",
      "2019-12-30 11:07:12.407Z matplotlib.font_manager 10 font_manager.py:1271 findfont: score(<Font 'KacstTitle' (KacstTitle.ttf) normal normal 400 normal>) = 10.05\n",
      "2019-12-30 11:07:12.407Z matplotlib.font_manager 10 font_manager.py:1271 findfont: score(<Font 'Loma' (Loma.ttf) normal normal 400 normal>) = 10.05\n",
      "2019-12-30 11:07:12.407Z matplotlib.font_manager 10 font_manager.py:1271 findfont: score(<Font 'Dyuthi' (Dyuthi.ttf) normal normal 400 normal>) = 10.05\n",
      "2019-12-30 11:07:12.408Z matplotlib.font_manager 10 font_manager.py:1271 findfont: score(<Font 'Loma' (Loma-Bold.ttf) normal normal bold normal>) = 10.335\n",
      "2019-12-30 11:07:12.408Z matplotlib.font_manager 10 font_manager.py:1271 findfont: score(<Font 'KacstFarsi' (KacstFarsi.ttf) normal normal 400 normal>) = 10.05\n",
      "2019-12-30 11:07:12.408Z matplotlib.font_manager 10 font_manager.py:1271 findfont: score(<Font 'FreeSans' (FreeSansBoldOblique.ttf) oblique normal bold normal>) = 11.335\n",
      "2019-12-30 11:07:12.408Z matplotlib.font_manager 10 font_manager.py:1271 findfont: score(<Font 'Liberation Serif' (LiberationSerif-Italic.ttf) italic normal 400 normal>) = 11.05\n",
      "2019-12-30 11:07:12.409Z matplotlib.font_manager 10 font_manager.py:1271 findfont: score(<Font 'Lohit Kannada' (Lohit-Kannada.ttf) normal normal 400 normal>) = 10.05\n",
      "2019-12-30 11:07:12.409Z matplotlib.font_manager 10 font_manager.py:1271 findfont: score(<Font 'Tlwg Typo' (TlwgTypo.ttf) normal normal 400 normal>) = 10.05\n",
      "2019-12-30 11:07:12.409Z matplotlib.font_manager 10 font_manager.py:1271 findfont: score(<Font 'KacstOffice' (KacstOffice.ttf) normal normal 400 normal>) = 10.05\n",
      "2019-12-30 11:07:12.409Z matplotlib.font_manager 10 font_manager.py:1271 findfont: score(<Font 'KacstArt' (KacstArt.ttf) normal normal 400 normal>) = 10.05\n",
      "2019-12-30 11:07:12.410Z matplotlib.font_manager 10 font_manager.py:1271 findfont: score(<Font 'aakar' (aakar-medium.ttf) normal normal 400 normal>) = 10.05\n",
      "2019-12-30 11:07:12.410Z matplotlib.font_manager 10 font_manager.py:1271 findfont: score(<Font 'Liberation Serif' (LiberationSerif-Bold.ttf) normal normal bold normal>) = 10.335\n",
      "2019-12-30 11:07:12.410Z matplotlib.font_manager 10 font_manager.py:1271 findfont: score(<Font 'Jamrul' (JamrulNormal.ttf) normal normal 400 normal>) = 10.05\n",
      "2019-12-30 11:07:12.411Z matplotlib.font_manager 10 font_manager.py:1271 findfont: score(<Font 'Padauk' (Padauk-Bold.ttf) normal normal bold normal>) = 10.335\n",
      "2019-12-30 11:07:12.411Z matplotlib.font_manager 10 font_manager.py:1271 findfont: score(<Font 'Norasi' (Norasi-BoldOblique.ttf) oblique normal bold normal>) = 11.335\n",
      "2019-12-30 11:07:12.411Z matplotlib.font_manager 10 font_manager.py:1271 findfont: score(<Font 'Suruma' (Suruma.ttf) normal normal 400 normal>) = 10.05\n",
      "2019-12-30 11:07:12.411Z matplotlib.font_manager 10 font_manager.py:1271 findfont: score(<Font 'Sarai' (Sarai.ttf) normal normal 400 normal>) = 10.05\n",
      "2019-12-30 11:07:12.412Z matplotlib.font_manager 10 font_manager.py:1271 findfont: score(<Font 'Gubbi' (Gubbi.ttf) normal normal 400 normal>) = 10.05\n",
      "2019-12-30 11:07:12.412Z matplotlib.font_manager 10 font_manager.py:1271 findfont: score(<Font 'Garuda' (Garuda-BoldOblique.ttf) oblique normal bold normal>) = 11.335\n",
      "2019-12-30 11:07:12.412Z matplotlib.font_manager 10 font_manager.py:1271 findfont: score(<Font 'mry_KacstQurn' (mry_KacstQurn.ttf) normal normal 400 normal>) = 10.05\n",
      "2019-12-30 11:07:12.412Z matplotlib.font_manager 10 font_manager.py:1271 findfont: score(<Font 'Purisa' (Purisa.ttf) normal normal 400 normal>) = 10.05\n",
      "2019-12-30 11:07:12.413Z matplotlib.font_manager 10 font_manager.py:1271 findfont: score(<Font 'Lohit Tamil' (Lohit-Tamil.ttf) normal normal 400 normal>) = 10.05\n",
      "2019-12-30 11:07:12.413Z matplotlib.font_manager 10 font_manager.py:1271 findfont: score(<Font 'Ubuntu Mono' (UbuntuMono-R.ttf) normal normal 400 normal>) = 10.05\n",
      "2019-12-30 11:07:12.413Z matplotlib.font_manager 10 font_manager.py:1271 findfont: score(<Font 'Noto Sans CJK JP' (NotoSansCJK-Bold.ttc) normal normal bold normal>) = 10.335\n",
      "2019-12-30 11:07:12.413Z matplotlib.font_manager 10 font_manager.py:1271 findfont: score(<Font 'Umpush' (Umpush.ttf) normal normal 400 normal>) = 10.05\n",
      "2019-12-30 11:07:12.414Z matplotlib.font_manager 10 font_manager.py:1271 findfont: score(<Font 'Ubuntu' (Ubuntu-RI.ttf) italic normal 400 normal>) = 11.05\n",
      "2019-12-30 11:07:12.414Z matplotlib.font_manager 10 font_manager.py:1271 findfont: score(<Font 'Saab' (Saab.ttf) normal normal 400 normal>) = 10.05\n",
      "2019-12-30 11:07:12.414Z matplotlib.font_manager 10 font_manager.py:1271 findfont: score(<Font 'Liberation Sans Narrow' (LiberationSansNarrow-Bold.ttf) normal normal bold condensed>) = 10.535\n",
      "2019-12-30 11:07:12.415Z matplotlib.font_manager 10 font_manager.py:1271 findfont: score(<Font 'Tlwg Mono' (TlwgMono.ttf) normal normal 400 normal>) = 10.05\n",
      "2019-12-30 11:07:12.415Z matplotlib.font_manager 10 font_manager.py:1271 findfont: score(<Font 'Liberation Mono' (LiberationMono-Bold.ttf) normal normal bold normal>) = 10.335\n",
      "2019-12-30 11:07:12.415Z matplotlib.font_manager 10 font_manager.py:1271 findfont: score(<Font 'Kalimati' (kalimati.ttf) normal normal 400 normal>) = 10.05\n",
      "2019-12-30 11:07:12.415Z matplotlib.font_manager 10 font_manager.py:1271 findfont: score(<Font 'FreeMono' (FreeMonoBold.ttf) normal normal bold normal>) = 10.335\n",
      "2019-12-30 11:07:12.416Z matplotlib.font_manager 10 font_manager.py:1271 findfont: score(<Font 'padmaa-Bold.1.1' (padmaa-Bold.1.1.ttf) normal normal bold normal>) = 10.335\n",
      "2019-12-30 11:07:12.416Z matplotlib.font_manager 10 font_manager.py:1271 findfont: score(<Font 'Khmer OS System' (KhmerOSsys.ttf) normal normal 400 normal>) = 10.05\n",
      "2019-12-30 11:07:12.416Z matplotlib.font_manager 10 font_manager.py:1271 findfont: score(<Font 'Kinnari' (Kinnari-Oblique.ttf) oblique normal 400 normal>) = 11.05\n",
      "2019-12-30 11:07:12.416Z matplotlib.font_manager 10 font_manager.py:1271 findfont: score(<Font 'Tlwg Mono' (TlwgMono-Oblique.ttf) oblique normal 400 normal>) = 11.05\n",
      "2019-12-30 11:07:12.417Z matplotlib.font_manager 10 font_manager.py:1271 findfont: score(<Font 'Rekha' (Rekha.ttf) normal normal 400 normal>) = 10.05\n",
      "2019-12-30 11:07:12.417Z matplotlib.font_manager 10 font_manager.py:1271 findfont: score(<Font 'Keraleeyam' (Keraleeyam.ttf) normal normal 700 normal>) = 10.335\n",
      "2019-12-30 11:07:12.417Z matplotlib.font_manager 10 font_manager.py:1271 findfont: score(<Font 'Mitra Mono' (mitra.ttf) normal normal 400 normal>) = 10.05\n",
      "2019-12-30 11:07:12.417Z matplotlib.font_manager 10 font_manager.py:1271 findfont: score(<Font 'padmaa' (padmaa-Medium-0.5.ttf) normal normal normal normal>) = 10.0\n",
      "2019-12-30 11:07:12.417Z matplotlib.font_manager 10 font_manager.py:1271 findfont: score(<Font 'Purisa' (Purisa-Bold.ttf) normal normal bold normal>) = 10.335\n"
     ]
    },
    {
     "name": "stderr",
     "output_type": "stream",
     "text": [
      "2019-12-30 11:07:12.418Z matplotlib.font_manager 10 font_manager.py:1271 findfont: score(<Font 'FreeSans' (FreeSans.ttf) normal normal 400 normal>) = 10.05\n",
      "2019-12-30 11:07:12.418Z matplotlib.font_manager 10 font_manager.py:1271 findfont: score(<Font 'KacstPoster' (KacstPoster.ttf) normal normal 400 normal>) = 10.05\n",
      "2019-12-30 11:07:12.418Z matplotlib.font_manager 10 font_manager.py:1271 findfont: score(<Font 'Tlwg Typo' (TlwgTypo-Oblique.ttf) oblique normal 400 normal>) = 11.05\n",
      "2019-12-30 11:07:12.419Z matplotlib.font_manager 10 font_manager.py:1271 findfont: score(<Font 'Tlwg Typewriter' (TlwgTypewriter-BoldOblique.ttf) oblique normal bold normal>) = 11.335\n",
      "2019-12-30 11:07:12.419Z matplotlib.font_manager 10 font_manager.py:1271 findfont: score(<Font 'Laksaman' (Laksaman.ttf) normal normal 400 normal>) = 10.05\n",
      "2019-12-30 11:07:12.419Z matplotlib.font_manager 10 font_manager.py:1271 findfont: score(<Font 'Phetsarath OT' (Phetsarath_OT.ttf) normal normal 400 normal>) = 10.05\n",
      "2019-12-30 11:07:12.419Z matplotlib.font_manager 10 font_manager.py:1271 findfont: score(<Font 'Umpush' (Umpush-LightOblique.ttf) oblique normal light normal>) = 11.24\n",
      "2019-12-30 11:07:12.419Z matplotlib.font_manager 10 font_manager.py:1271 findfont: score(<Font 'Liberation Sans Narrow' (LiberationSansNarrow-BoldItalic.ttf) italic normal bold condensed>) = 11.535\n",
      "2019-12-30 11:07:12.420Z matplotlib.font_manager 10 font_manager.py:1271 findfont: score(<Font 'Norasi' (Norasi.ttf) normal normal 400 normal>) = 10.05\n",
      "2019-12-30 11:07:12.420Z matplotlib.font_manager 10 font_manager.py:1271 findfont: score(<Font 'Chilanka' (Chilanka-Regular.ttf) normal normal regular normal>) = 10.05\n",
      "2019-12-30 11:07:12.420Z matplotlib.font_manager 10 font_manager.py:1271 findfont: score(<Font 'KacstPen' (KacstPen.ttf) normal normal 400 normal>) = 10.05\n",
      "2019-12-30 11:07:12.420Z matplotlib.font_manager 10 font_manager.py:1271 findfont: score(<Font 'Ubuntu Condensed' (Ubuntu-C.ttf) normal normal 400 condensed>) = 10.25\n",
      "2019-12-30 11:07:12.421Z matplotlib.font_manager 10 font_manager.py:1271 findfont: score(<Font 'FreeSans' (FreeSansBold.ttf) normal normal bold normal>) = 10.335\n",
      "2019-12-30 11:07:12.421Z matplotlib.font_manager 10 font_manager.py:1271 findfont: score(<Font 'Lohit Assamese' (Lohit-Assamese.ttf) normal normal 400 normal>) = 10.05\n",
      "2019-12-30 11:07:12.421Z matplotlib.font_manager 10 font_manager.py:1271 findfont: score(<Font 'Norasi' (Norasi-BoldItalic.ttf) italic normal bold normal>) = 11.335\n",
      "2019-12-30 11:07:12.421Z matplotlib.font_manager 10 font_manager.py:1271 findfont: score(<Font 'Navilu' (Navilu.ttf) normal normal 400 normal>) = 10.05\n",
      "2019-12-30 11:07:12.422Z matplotlib.font_manager 10 font_manager.py:1271 findfont: score(<Font 'Ubuntu' (Ubuntu-LI.ttf) italic normal light normal>) = 11.24\n",
      "2019-12-30 11:07:12.422Z matplotlib.font_manager 10 font_manager.py:1271 findfont: score(<Font 'Laksaman' (Laksaman-Bold.ttf) normal normal bold normal>) = 10.335\n",
      "2019-12-30 11:07:12.422Z matplotlib.font_manager 10 font_manager.py:1271 findfont: score(<Font 'Waree' (Waree.ttf) normal normal 400 normal>) = 10.05\n",
      "2019-12-30 11:07:12.422Z matplotlib.font_manager 10 font_manager.py:1271 findfont: score(<Font 'RaghuMalayalam' (RaghuMalayalamSans-Regular.ttf) normal normal regular normal>) = 10.05\n",
      "2019-12-30 11:07:12.423Z matplotlib.font_manager 10 font_manager.py:1271 findfont: score(<Font 'Noto Serif CJK JP' (NotoSerifCJK-Regular.ttc) normal normal 400 normal>) = 10.05\n",
      "2019-12-30 11:07:12.423Z matplotlib.font_manager 10 font_manager.py:1271 findfont: score(<Font 'Tlwg Typo' (TlwgTypo-Bold.ttf) normal normal bold normal>) = 10.335\n",
      "2019-12-30 11:07:12.423Z matplotlib.font_manager 10 font_manager.py:1271 findfont: score(<Font 'Lohit Telugu' (Lohit-Telugu.ttf) normal normal 400 normal>) = 10.05\n",
      "2019-12-30 11:07:12.423Z matplotlib.font_manager 10 font_manager.py:1271 findfont: score(<Font 'Sawasdee' (Sawasdee-Oblique.ttf) oblique normal 400 normal>) = 11.05\n",
      "2019-12-30 11:07:12.424Z matplotlib.font_manager 10 font_manager.py:1271 findfont: score(<Font 'KacstNaskh' (KacstNaskh.ttf) normal normal 400 normal>) = 10.05\n",
      "2019-12-30 11:07:12.424Z matplotlib.font_manager 10 font_manager.py:1271 findfont: score(<Font 'Waree' (Waree-BoldOblique.ttf) oblique normal bold normal>) = 11.335\n",
      "2019-12-30 11:07:12.424Z matplotlib.font_manager 10 font_manager.py:1294 findfont: Matching :family=sans-serif:style=normal:variant=normal:weight=normal:stretch=normal:size=12.0 to DejaVu Sans ('/home/pfs/anaconda3/lib/python3.7/site-packages/matplotlib/mpl-data/fonts/ttf/DejaVuSans.ttf') with score of 0.050000.\n",
      "2019-12-30 11:07:12.471Z matplotlib.font_manager 10 font_manager.py:1259 findfont: Matching :family=sans-serif:style=normal:variant=normal:weight=normal:stretch=normal:size=10.0.\n",
      "2019-12-30 11:07:12.471Z matplotlib.font_manager 10 font_manager.py:1271 findfont: score(<Font 'DejaVu Serif' (DejaVuSerif-BoldItalic.ttf) italic normal bold normal>) = 11.335\n",
      "2019-12-30 11:07:12.472Z matplotlib.font_manager 10 font_manager.py:1271 findfont: score(<Font 'DejaVu Sans' (DejaVuSans.ttf) normal normal 400 normal>) = 0.05\n",
      "2019-12-30 11:07:12.472Z matplotlib.font_manager 10 font_manager.py:1271 findfont: score(<Font 'STIXGeneral' (STIXGeneralBolIta.ttf) italic normal bold normal>) = 11.335\n",
      "2019-12-30 11:07:12.472Z matplotlib.font_manager 10 font_manager.py:1271 findfont: score(<Font 'DejaVu Sans Mono' (DejaVuSansMono.ttf) normal normal 400 normal>) = 10.05\n",
      "2019-12-30 11:07:12.472Z matplotlib.font_manager 10 font_manager.py:1271 findfont: score(<Font 'DejaVu Sans Display' (DejaVuSansDisplay.ttf) normal normal 400 normal>) = 10.05\n",
      "2019-12-30 11:07:12.473Z matplotlib.font_manager 10 font_manager.py:1271 findfont: score(<Font 'STIXGeneral' (STIXGeneral.ttf) normal normal regular normal>) = 10.05\n",
      "2019-12-30 11:07:12.473Z matplotlib.font_manager 10 font_manager.py:1271 findfont: score(<Font 'STIXNonUnicode' (STIXNonUni.ttf) normal normal regular normal>) = 10.05\n",
      "2019-12-30 11:07:12.473Z matplotlib.font_manager 10 font_manager.py:1271 findfont: score(<Font 'STIXNonUnicode' (STIXNonUniBolIta.ttf) italic normal bold normal>) = 11.335\n",
      "2019-12-30 11:07:12.474Z matplotlib.font_manager 10 font_manager.py:1271 findfont: score(<Font 'cmb10' (cmb10.ttf) normal normal 400 normal>) = 10.05\n",
      "2019-12-30 11:07:12.474Z matplotlib.font_manager 10 font_manager.py:1271 findfont: score(<Font 'DejaVu Sans' (DejaVuSans-Bold.ttf) normal normal bold normal>) = 0.33499999999999996\n",
      "2019-12-30 11:07:12.474Z matplotlib.font_manager 10 font_manager.py:1271 findfont: score(<Font 'STIXSizeOneSym' (STIXSizOneSymReg.ttf) normal normal regular normal>) = 10.05\n",
      "2019-12-30 11:07:12.475Z matplotlib.font_manager 10 font_manager.py:1271 findfont: score(<Font 'cmmi10' (cmmi10.ttf) normal normal 400 normal>) = 10.05\n",
      "2019-12-30 11:07:12.475Z matplotlib.font_manager 10 font_manager.py:1271 findfont: score(<Font 'DejaVu Serif' (DejaVuSerif.ttf) normal normal 400 normal>) = 10.05\n",
      "2019-12-30 11:07:12.475Z matplotlib.font_manager 10 font_manager.py:1271 findfont: score(<Font 'DejaVu Sans' (DejaVuSans-Oblique.ttf) oblique normal 400 normal>) = 1.05\n",
      "2019-12-30 11:07:12.475Z matplotlib.font_manager 10 font_manager.py:1271 findfont: score(<Font 'STIXNonUnicode' (STIXNonUniBol.ttf) normal normal bold normal>) = 10.335\n",
      "2019-12-30 11:07:12.476Z matplotlib.font_manager 10 font_manager.py:1271 findfont: score(<Font 'STIXSizeFiveSym' (STIXSizFiveSymReg.ttf) normal normal regular normal>) = 10.05\n",
      "2019-12-30 11:07:12.476Z matplotlib.font_manager 10 font_manager.py:1271 findfont: score(<Font 'STIXSizeFourSym' (STIXSizFourSymBol.ttf) normal normal bold normal>) = 10.335\n",
      "2019-12-30 11:07:12.476Z matplotlib.font_manager 10 font_manager.py:1271 findfont: score(<Font 'STIXSizeThreeSym' (STIXSizThreeSymReg.ttf) normal normal regular normal>) = 10.05\n",
      "2019-12-30 11:07:12.476Z matplotlib.font_manager 10 font_manager.py:1271 findfont: score(<Font 'cmtt10' (cmtt10.ttf) normal normal 400 normal>) = 10.05\n",
      "2019-12-30 11:07:12.477Z matplotlib.font_manager 10 font_manager.py:1271 findfont: score(<Font 'STIXSizeThreeSym' (STIXSizThreeSymBol.ttf) normal normal bold normal>) = 10.335\n",
      "2019-12-30 11:07:12.477Z matplotlib.font_manager 10 font_manager.py:1271 findfont: score(<Font 'STIXGeneral' (STIXGeneralBol.ttf) normal normal bold normal>) = 10.335\n"
     ]
    },
    {
     "name": "stderr",
     "output_type": "stream",
     "text": [
      "2019-12-30 11:07:12.477Z matplotlib.font_manager 10 font_manager.py:1271 findfont: score(<Font 'DejaVu Sans' (DejaVuSans-BoldOblique.ttf) oblique normal bold normal>) = 1.335\n",
      "2019-12-30 11:07:12.477Z matplotlib.font_manager 10 font_manager.py:1271 findfont: score(<Font 'cmr10' (cmr10.ttf) normal normal 400 normal>) = 10.05\n",
      "2019-12-30 11:07:12.478Z matplotlib.font_manager 10 font_manager.py:1271 findfont: score(<Font 'cmss10' (cmss10.ttf) normal normal 400 normal>) = 10.05\n",
      "2019-12-30 11:07:12.478Z matplotlib.font_manager 10 font_manager.py:1271 findfont: score(<Font 'cmsy10' (cmsy10.ttf) normal normal 400 normal>) = 10.05\n",
      "2019-12-30 11:07:12.478Z matplotlib.font_manager 10 font_manager.py:1271 findfont: score(<Font 'STIXSizeFourSym' (STIXSizFourSymReg.ttf) normal normal regular normal>) = 10.05\n",
      "2019-12-30 11:07:12.478Z matplotlib.font_manager 10 font_manager.py:1271 findfont: score(<Font 'cmex10' (cmex10.ttf) normal normal 400 normal>) = 10.05\n",
      "2019-12-30 11:07:12.479Z matplotlib.font_manager 10 font_manager.py:1271 findfont: score(<Font 'STIXNonUnicode' (STIXNonUniIta.ttf) italic normal 400 normal>) = 11.05\n",
      "2019-12-30 11:07:12.479Z matplotlib.font_manager 10 font_manager.py:1271 findfont: score(<Font 'DejaVu Sans Mono' (DejaVuSansMono-BoldOblique.ttf) oblique normal bold normal>) = 11.335\n",
      "2019-12-30 11:07:12.479Z matplotlib.font_manager 10 font_manager.py:1271 findfont: score(<Font 'DejaVu Serif' (DejaVuSerif-Bold.ttf) normal normal bold normal>) = 10.335\n",
      "2019-12-30 11:07:12.479Z matplotlib.font_manager 10 font_manager.py:1271 findfont: score(<Font 'STIXSizeTwoSym' (STIXSizTwoSymReg.ttf) normal normal regular normal>) = 10.05\n",
      "2019-12-30 11:07:12.480Z matplotlib.font_manager 10 font_manager.py:1271 findfont: score(<Font 'STIXSizeTwoSym' (STIXSizTwoSymBol.ttf) normal normal bold normal>) = 10.335\n",
      "2019-12-30 11:07:12.480Z matplotlib.font_manager 10 font_manager.py:1271 findfont: score(<Font 'DejaVu Serif' (DejaVuSerif-Italic.ttf) italic normal 400 normal>) = 11.05\n",
      "2019-12-30 11:07:12.480Z matplotlib.font_manager 10 font_manager.py:1271 findfont: score(<Font 'DejaVu Sans Mono' (DejaVuSansMono-Bold.ttf) normal normal bold normal>) = 10.335\n",
      "2019-12-30 11:07:12.480Z matplotlib.font_manager 10 font_manager.py:1271 findfont: score(<Font 'STIXGeneral' (STIXGeneralItalic.ttf) italic normal 400 normal>) = 11.05\n",
      "2019-12-30 11:07:12.481Z matplotlib.font_manager 10 font_manager.py:1271 findfont: score(<Font 'STIXSizeOneSym' (STIXSizOneSymBol.ttf) normal normal bold normal>) = 10.335\n",
      "2019-12-30 11:07:12.481Z matplotlib.font_manager 10 font_manager.py:1271 findfont: score(<Font 'DejaVu Sans Mono' (DejaVuSansMono-Oblique.ttf) oblique normal 400 normal>) = 11.05\n",
      "2019-12-30 11:07:12.481Z matplotlib.font_manager 10 font_manager.py:1271 findfont: score(<Font 'DejaVu Serif Display' (DejaVuSerifDisplay.ttf) normal normal 400 normal>) = 10.05\n",
      "2019-12-30 11:07:12.481Z matplotlib.font_manager 10 font_manager.py:1271 findfont: score(<Font 'Liberation Serif' (LiberationSerif-Regular.ttf) normal normal 400 normal>) = 10.05\n",
      "2019-12-30 11:07:12.482Z matplotlib.font_manager 10 font_manager.py:1271 findfont: score(<Font 'Kalapi' (Kalapi.ttf) normal normal 400 normal>) = 10.05\n",
      "2019-12-30 11:07:12.482Z matplotlib.font_manager 10 font_manager.py:1271 findfont: score(<Font 'Kinnari' (Kinnari-BoldOblique.ttf) oblique normal bold normal>) = 11.335\n",
      "2019-12-30 11:07:12.482Z matplotlib.font_manager 10 font_manager.py:1271 findfont: score(<Font 'Umpush' (Umpush-Oblique.ttf) oblique normal 400 normal>) = 11.05\n",
      "2019-12-30 11:07:12.482Z matplotlib.font_manager 10 font_manager.py:1271 findfont: score(<Font 'Sawasdee' (Sawasdee-BoldOblique.ttf) oblique normal bold normal>) = 11.335\n",
      "2019-12-30 11:07:12.483Z matplotlib.font_manager 10 font_manager.py:1271 findfont: score(<Font 'Liberation Sans' (LiberationSans-Bold.ttf) normal normal bold normal>) = 10.335\n",
      "2019-12-30 11:07:12.483Z matplotlib.font_manager 10 font_manager.py:1271 findfont: score(<Font 'FreeMono' (FreeMono.ttf) normal normal 400 normal>) = 10.05\n",
      "2019-12-30 11:07:12.483Z matplotlib.font_manager 10 font_manager.py:1271 findfont: score(<Font 'Liberation Sans' (LiberationSans-BoldItalic.ttf) italic normal bold normal>) = 11.335\n",
      "2019-12-30 11:07:12.483Z matplotlib.font_manager 10 font_manager.py:1271 findfont: score(<Font 'Liberation Sans Narrow' (LiberationSansNarrow-Italic.ttf) italic normal 400 condensed>) = 11.25\n",
      "2019-12-30 11:07:12.484Z matplotlib.font_manager 10 font_manager.py:1271 findfont: score(<Font 'Lohit Devanagari' (Lohit-Devanagari.ttf) normal normal 400 normal>) = 10.05\n",
      "2019-12-30 11:07:12.484Z matplotlib.font_manager 10 font_manager.py:1271 findfont: score(<Font 'Padauk' (Padauk-Regular.ttf) normal normal 400 normal>) = 10.05\n",
      "2019-12-30 11:07:12.484Z matplotlib.font_manager 10 font_manager.py:1271 findfont: score(<Font 'Tlwg Mono' (TlwgMono-BoldOblique.ttf) oblique normal bold normal>) = 11.335\n",
      "2019-12-30 11:07:12.484Z matplotlib.font_manager 10 font_manager.py:1271 findfont: score(<Font 'Tlwg Typist' (TlwgTypist.ttf) normal normal 400 normal>) = 10.05\n",
      "2019-12-30 11:07:12.485Z matplotlib.font_manager 10 font_manager.py:1271 findfont: score(<Font 'Purisa' (Purisa-BoldOblique.ttf) oblique normal bold normal>) = 11.335\n",
      "2019-12-30 11:07:12.485Z matplotlib.font_manager 10 font_manager.py:1271 findfont: score(<Font 'Noto Sans CJK JP' (NotoSansCJK-Regular.ttc) normal normal 400 normal>) = 10.05\n",
      "2019-12-30 11:07:12.485Z matplotlib.font_manager 10 font_manager.py:1271 findfont: score(<Font 'Liberation Serif' (LiberationSerif-BoldItalic.ttf) italic normal bold normal>) = 11.335\n",
      "2019-12-30 11:07:12.485Z matplotlib.font_manager 10 font_manager.py:1271 findfont: score(<Font 'Ubuntu Mono' (UbuntuMono-RI.ttf) italic normal 400 normal>) = 11.05\n",
      "2019-12-30 11:07:12.485Z matplotlib.font_manager 10 font_manager.py:1271 findfont: score(<Font 'FreeSans' (FreeSansOblique.ttf) oblique normal 400 normal>) = 11.05\n",
      "2019-12-30 11:07:12.486Z matplotlib.font_manager 10 font_manager.py:1271 findfont: score(<Font 'Ubuntu' (Ubuntu-R.ttf) normal normal 400 normal>) = 10.05\n",
      "2019-12-30 11:07:12.486Z matplotlib.font_manager 10 font_manager.py:1271 findfont: score(<Font 'Mukti Narrow' (MuktiNarrow.ttf) normal normal 400 normal>) = 10.05\n",
      "2019-12-30 11:07:12.486Z matplotlib.font_manager 10 font_manager.py:1271 findfont: score(<Font 'ori1Uni' (utkal.ttf) normal normal medium normal>) = 10.145\n",
      "2019-12-30 11:07:12.487Z matplotlib.font_manager 10 font_manager.py:1271 findfont: score(<Font 'Samyak Devanagari' (Samyak-Devanagari.ttf) normal normal 400 normal>) = 10.05\n",
      "2019-12-30 11:07:12.487Z matplotlib.font_manager 10 font_manager.py:1271 findfont: score(<Font 'KacstDecorative' (KacstDecorative.ttf) normal normal 400 normal>) = 10.05\n",
      "2019-12-30 11:07:12.487Z matplotlib.font_manager 10 font_manager.py:1271 findfont: score(<Font 'Samyak Tamil' (Samyak-Tamil.ttf) normal normal 400 normal>) = 10.05\n",
      "2019-12-30 11:07:12.487Z matplotlib.font_manager 10 font_manager.py:1271 findfont: score(<Font 'Liberation Sans' (LiberationSans-Italic.ttf) italic normal 400 normal>) = 11.05\n",
      "2019-12-30 11:07:12.488Z matplotlib.font_manager 10 font_manager.py:1271 findfont: score(<Font 'Liberation Mono' (LiberationMono-Regular.ttf) normal normal 400 normal>) = 10.05\n",
      "2019-12-30 11:07:12.488Z matplotlib.font_manager 10 font_manager.py:1271 findfont: score(<Font 'Kinnari' (Kinnari-Italic.ttf) italic normal 400 normal>) = 11.05\n",
      "2019-12-30 11:07:12.488Z matplotlib.font_manager 10 font_manager.py:1271 findfont: score(<Font 'Mukti Narrow' (MuktiNarrowBold.ttf) normal normal 700 normal>) = 10.335\n",
      "2019-12-30 11:07:12.488Z matplotlib.font_manager 10 font_manager.py:1271 findfont: score(<Font 'Meera' (Meera.ttf) normal normal 400 normal>) = 10.05\n",
      "2019-12-30 11:07:12.489Z matplotlib.font_manager 10 font_manager.py:1271 findfont: score(<Font 'Ubuntu' (Ubuntu-MI.ttf) italic normal medium normal>) = 11.145\n",
      "2019-12-30 11:07:12.489Z matplotlib.font_manager 10 font_manager.py:1271 findfont: score(<Font 'FreeSerif' (FreeSerifBold.ttf) normal normal bold normal>) = 10.335\n",
      "2019-12-30 11:07:12.489Z matplotlib.font_manager 10 font_manager.py:1271 findfont: score(<Font 'Liberation Sans Narrow' (LiberationSansNarrow-Regular.ttf) normal normal 400 condensed>) = 10.25\n"
     ]
    },
    {
     "name": "stderr",
     "output_type": "stream",
     "text": [
      "2019-12-30 11:07:12.490Z matplotlib.font_manager 10 font_manager.py:1271 findfont: score(<Font 'Lohit Gujarati' (Lohit-Gujarati.ttf) normal normal 400 normal>) = 10.05\n",
      "2019-12-30 11:07:12.490Z matplotlib.font_manager 10 font_manager.py:1271 findfont: score(<Font 'OpenSymbol' (opens___.ttf) normal normal 400 normal>) = 10.05\n",
      "2019-12-30 11:07:12.490Z matplotlib.font_manager 10 font_manager.py:1271 findfont: score(<Font 'Lohit Gurmukhi' (Lohit-Gurmukhi.ttf) normal normal 400 normal>) = 10.05\n",
      "2019-12-30 11:07:12.490Z matplotlib.font_manager 10 font_manager.py:1271 findfont: score(<Font 'Noto Serif CJK JP' (NotoSerifCJK-Bold.ttc) normal normal bold normal>) = 10.335\n",
      "2019-12-30 11:07:12.491Z matplotlib.font_manager 10 font_manager.py:1271 findfont: score(<Font 'Manjari' (Manjari-Bold.otf) normal normal bold normal>) = 10.335\n",
      "2019-12-30 11:07:12.491Z matplotlib.font_manager 10 font_manager.py:1271 findfont: score(<Font 'Ubuntu' (Ubuntu-BI.ttf) italic normal bold normal>) = 11.335\n",
      "2019-12-30 11:07:12.491Z matplotlib.font_manager 10 font_manager.py:1271 findfont: score(<Font 'Manjari' (Manjari-Regular.otf) normal normal regular normal>) = 10.05\n",
      "2019-12-30 11:07:12.491Z matplotlib.font_manager 10 font_manager.py:1271 findfont: score(<Font 'KacstTitleL' (KacstTitleL.ttf) normal normal 400 normal>) = 10.05\n",
      "2019-12-30 11:07:12.492Z matplotlib.font_manager 10 font_manager.py:1271 findfont: score(<Font 'Ubuntu' (Ubuntu-B.ttf) normal normal bold normal>) = 10.335\n",
      "2019-12-30 11:07:12.492Z matplotlib.font_manager 10 font_manager.py:1271 findfont: score(<Font 'Rachana' (Rachana-Bold.ttf) normal normal bold normal>) = 10.335\n",
      "2019-12-30 11:07:12.492Z matplotlib.font_manager 10 font_manager.py:1271 findfont: score(<Font 'Padauk Book' (PadaukBook-Regular.ttf) normal normal book normal>) = 10.05\n",
      "2019-12-30 11:07:12.492Z matplotlib.font_manager 10 font_manager.py:1271 findfont: score(<Font 'Tlwg Typist' (TlwgTypist-Bold.ttf) normal normal bold normal>) = 10.335\n",
      "2019-12-30 11:07:12.493Z matplotlib.font_manager 10 font_manager.py:1271 findfont: score(<Font 'Ubuntu' (Ubuntu-L.ttf) normal normal light normal>) = 10.24\n",
      "2019-12-30 11:07:12.493Z matplotlib.font_manager 10 font_manager.py:1271 findfont: score(<Font 'Samanata' (samanata.ttf) normal normal 400 normal>) = 10.05\n",
      "2019-12-30 11:07:12.493Z matplotlib.font_manager 10 font_manager.py:1271 findfont: score(<Font 'KacstOne' (KacstOne.ttf) normal normal 400 normal>) = 10.05\n",
      "2019-12-30 11:07:12.493Z matplotlib.font_manager 10 font_manager.py:1271 findfont: score(<Font 'KacstLetter' (KacstLetter.ttf) normal normal 400 normal>) = 10.05\n",
      "2019-12-30 11:07:12.494Z matplotlib.font_manager 10 font_manager.py:1271 findfont: score(<Font 'Tlwg Typist' (TlwgTypist-Oblique.ttf) oblique normal 400 normal>) = 11.05\n",
      "2019-12-30 11:07:12.494Z matplotlib.font_manager 10 font_manager.py:1271 findfont: score(<Font 'Sawasdee' (Sawasdee.ttf) normal normal 400 normal>) = 10.05\n",
      "2019-12-30 11:07:12.494Z matplotlib.font_manager 10 font_manager.py:1271 findfont: score(<Font 'Rachana' (Rachana-Regular.ttf) normal normal regular normal>) = 10.05\n",
      "2019-12-30 11:07:12.494Z matplotlib.font_manager 10 font_manager.py:1271 findfont: score(<Font 'KacstOne' (KacstOne-Bold.ttf) normal normal bold normal>) = 10.335\n",
      "2019-12-30 11:07:12.495Z matplotlib.font_manager 10 font_manager.py:1271 findfont: score(<Font 'Tlwg Typo' (TlwgTypo-BoldOblique.ttf) oblique normal bold normal>) = 11.335\n",
      "2019-12-30 11:07:12.495Z matplotlib.font_manager 10 font_manager.py:1271 findfont: score(<Font 'padmaa' (padmaa.ttf) normal normal 400 normal>) = 10.05\n",
      "2019-12-30 11:07:12.495Z matplotlib.font_manager 10 font_manager.py:1271 findfont: score(<Font 'Kinnari' (Kinnari-BoldItalic.ttf) italic normal bold normal>) = 11.335\n",
      "2019-12-30 11:07:12.495Z matplotlib.font_manager 10 font_manager.py:1271 findfont: score(<Font 'KacstBook' (KacstBook.ttf) normal normal book normal>) = 10.05\n",
      "2019-12-30 11:07:12.496Z matplotlib.font_manager 10 font_manager.py:1271 findfont: score(<Font 'Tlwg Typist' (TlwgTypist-BoldOblique.ttf) oblique normal bold normal>) = 11.335\n",
      "2019-12-30 11:07:12.496Z matplotlib.font_manager 10 font_manager.py:1271 findfont: score(<Font 'Noto Mono' (NotoMono-Regular.ttf) normal normal 400 normal>) = 10.05\n",
      "2019-12-30 11:07:12.496Z matplotlib.font_manager 10 font_manager.py:1271 findfont: score(<Font 'Waree' (Waree-Oblique.ttf) oblique normal 400 normal>) = 11.05\n",
      "2019-12-30 11:07:12.496Z matplotlib.font_manager 10 font_manager.py:1271 findfont: score(<Font 'KacstQurn' (KacstQurn.ttf) normal normal 400 normal>) = 10.05\n",
      "2019-12-30 11:07:12.497Z matplotlib.font_manager 10 font_manager.py:1271 findfont: score(<Font 'Samyak Malayalam' (Samyak-Malayalam.ttf) normal normal 400 normal>) = 10.05\n",
      "2019-12-30 11:07:12.497Z matplotlib.font_manager 10 font_manager.py:1271 findfont: score(<Font 'Ubuntu' (Ubuntu-M.ttf) normal normal medium normal>) = 10.145\n",
      "2019-12-30 11:07:12.497Z matplotlib.font_manager 10 font_manager.py:1271 findfont: score(<Font 'Loma' (Loma-Oblique.ttf) oblique normal 400 normal>) = 11.05\n",
      "2019-12-30 11:07:12.497Z matplotlib.font_manager 10 font_manager.py:1271 findfont: score(<Font 'Umpush' (Umpush-Bold.ttf) normal normal bold normal>) = 10.335\n",
      "2019-12-30 11:07:12.498Z matplotlib.font_manager 10 font_manager.py:1271 findfont: score(<Font 'KacstDigital' (KacstDigital.ttf) normal normal 400 normal>) = 10.05\n",
      "2019-12-30 11:07:12.498Z matplotlib.font_manager 10 font_manager.py:1271 findfont: score(<Font 'AnjaliOldLipi' (AnjaliOldLipi.ttf) normal normal 400 normal>) = 10.05\n",
      "2019-12-30 11:07:12.498Z matplotlib.font_manager 10 font_manager.py:1271 findfont: score(<Font 'Pothana2000' (Pothana2000.ttf) normal normal 400 normal>) = 10.05\n",
      "2019-12-30 11:07:12.498Z matplotlib.font_manager 10 font_manager.py:1271 findfont: score(<Font 'Purisa' (Purisa-Oblique.ttf) oblique normal 400 normal>) = 11.05\n",
      "2019-12-30 11:07:12.499Z matplotlib.font_manager 10 font_manager.py:1271 findfont: score(<Font 'Likhan' (LikhanNormal.ttf) normal normal 400 normal>) = 10.05\n",
      "2019-12-30 11:07:12.499Z matplotlib.font_manager 10 font_manager.py:1271 findfont: score(<Font 'Kinnari' (Kinnari.ttf) normal normal 400 normal>) = 10.05\n",
      "2019-12-30 11:07:12.499Z matplotlib.font_manager 10 font_manager.py:1271 findfont: score(<Font 'Samyak Gujarati' (Samyak-Gujarati.ttf) normal normal 400 normal>) = 10.05\n",
      "2019-12-30 11:07:12.499Z matplotlib.font_manager 10 font_manager.py:1271 findfont: score(<Font 'Waree' (Waree-Bold.ttf) normal normal bold normal>) = 10.335\n",
      "2019-12-30 11:07:12.500Z matplotlib.font_manager 10 font_manager.py:1271 findfont: score(<Font 'Tlwg Typewriter' (TlwgTypewriter.ttf) normal normal 400 normal>) = 10.05\n",
      "2019-12-30 11:07:12.500Z matplotlib.font_manager 10 font_manager.py:1271 findfont: score(<Font 'Kinnari' (Kinnari-Bold.ttf) normal normal bold normal>) = 10.335\n",
      "2019-12-30 11:07:12.500Z matplotlib.font_manager 10 font_manager.py:1271 findfont: score(<Font 'FreeMono' (FreeMonoOblique.ttf) oblique normal 400 normal>) = 11.05\n",
      "2019-12-30 11:07:12.500Z matplotlib.font_manager 10 font_manager.py:1271 findfont: score(<Font 'Liberation Mono' (LiberationMono-Italic.ttf) italic normal 400 normal>) = 11.05\n",
      "2019-12-30 11:07:12.501Z matplotlib.font_manager 10 font_manager.py:1271 findfont: score(<Font 'Laksaman' (Laksaman-BoldItalic.ttf) italic normal bold normal>) = 11.335\n",
      "2019-12-30 11:07:12.501Z matplotlib.font_manager 10 font_manager.py:1271 findfont: score(<Font 'Pagul' (Pagul.ttf) normal normal 400 normal>) = 10.05\n",
      "2019-12-30 11:07:12.501Z matplotlib.font_manager 10 font_manager.py:1271 findfont: score(<Font 'LKLUG' (lklug.ttf) normal normal 400 normal>) = 10.05\n",
      "2019-12-30 11:07:12.501Z matplotlib.font_manager 10 font_manager.py:1271 findfont: score(<Font 'Karumbi' (Karumbi.ttf) normal normal 400 normal>) = 10.05\n",
      "2019-12-30 11:07:12.501Z matplotlib.font_manager 10 font_manager.py:1271 findfont: score(<Font 'Ubuntu Mono' (UbuntuMono-B.ttf) normal normal bold normal>) = 10.335\n",
      "2019-12-30 11:07:12.502Z matplotlib.font_manager 10 font_manager.py:1271 findfont: score(<Font 'Liberation Sans' (LiberationSans-Regular.ttf) normal normal 400 normal>) = 10.05\n",
      "2019-12-30 11:07:12.502Z matplotlib.font_manager 10 font_manager.py:1271 findfont: score(<Font 'Norasi' (Norasi-Bold.ttf) normal normal bold normal>) = 10.335\n"
     ]
    },
    {
     "name": "stderr",
     "output_type": "stream",
     "text": [
      "2019-12-30 11:07:12.502Z matplotlib.font_manager 10 font_manager.py:1271 findfont: score(<Font 'KacstScreen' (KacstScreen.ttf) normal normal 400 normal>) = 10.05\n",
      "2019-12-30 11:07:12.502Z matplotlib.font_manager 10 font_manager.py:1271 findfont: score(<Font 'Tlwg Typewriter' (TlwgTypewriter-Oblique.ttf) oblique normal 400 normal>) = 11.05\n",
      "2019-12-30 11:07:12.503Z matplotlib.font_manager 10 font_manager.py:1271 findfont: score(<Font 'Laksaman' (Laksaman-Italic.ttf) italic normal 400 normal>) = 11.05\n",
      "2019-12-30 11:07:12.503Z matplotlib.font_manager 10 font_manager.py:1271 findfont: score(<Font 'Chandas' (chandas1-2.ttf) normal normal 400 normal>) = 10.05\n",
      "2019-12-30 11:07:12.503Z matplotlib.font_manager 10 font_manager.py:1271 findfont: score(<Font 'Lohit Bengali' (Lohit-Bengali.ttf) normal normal 400 normal>) = 10.05\n",
      "2019-12-30 11:07:12.503Z matplotlib.font_manager 10 font_manager.py:1271 findfont: score(<Font 'FreeSerif' (FreeSerif.ttf) normal normal 400 normal>) = 10.05\n",
      "2019-12-30 11:07:12.504Z matplotlib.font_manager 10 font_manager.py:1271 findfont: score(<Font 'Manjari' (Manjari-Thin.otf) normal normal 400 normal>) = 10.05\n",
      "2019-12-30 11:07:12.504Z matplotlib.font_manager 10 font_manager.py:1271 findfont: score(<Font 'Lohit Odia' (Lohit-Odia.ttf) normal normal 400 normal>) = 10.05\n",
      "2019-12-30 11:07:12.504Z matplotlib.font_manager 10 font_manager.py:1271 findfont: score(<Font 'Garuda' (Garuda-Oblique.ttf) oblique normal 400 normal>) = 11.05\n",
      "2019-12-30 11:07:12.504Z matplotlib.font_manager 10 font_manager.py:1271 findfont: score(<Font 'FreeMono' (FreeMonoBoldOblique.ttf) oblique normal bold normal>) = 11.335\n",
      "2019-12-30 11:07:12.505Z matplotlib.font_manager 10 font_manager.py:1271 findfont: score(<Font 'Abyssinica SIL' (AbyssinicaSIL-R.ttf) normal normal 400 normal>) = 10.05\n",
      "2019-12-30 11:07:12.505Z matplotlib.font_manager 10 font_manager.py:1271 findfont: score(<Font 'Norasi' (Norasi-Italic.ttf) italic normal 400 normal>) = 11.05\n",
      "2019-12-30 11:07:12.505Z matplotlib.font_manager 10 font_manager.py:1271 findfont: score(<Font 'FreeSerif' (FreeSerifBoldItalic.ttf) italic normal bold normal>) = 11.335\n",
      "2019-12-30 11:07:12.505Z matplotlib.font_manager 10 font_manager.py:1271 findfont: score(<Font 'Sawasdee' (Sawasdee-Bold.ttf) normal normal bold normal>) = 10.335\n",
      "2019-12-30 11:07:12.506Z matplotlib.font_manager 10 font_manager.py:1271 findfont: score(<Font 'Gargi' (Gargi.ttf) normal normal 400 normal>) = 10.05\n",
      "2019-12-30 11:07:12.506Z matplotlib.font_manager 10 font_manager.py:1271 findfont: score(<Font 'Ubuntu Mono' (UbuntuMono-BI.ttf) italic normal bold normal>) = 11.335\n",
      "2019-12-30 11:07:12.506Z matplotlib.font_manager 10 font_manager.py:1271 findfont: score(<Font 'Droid Sans Fallback' (DroidSansFallbackFull.ttf) normal normal 400 normal>) = 10.05\n",
      "2019-12-30 11:07:12.507Z matplotlib.font_manager 10 font_manager.py:1271 findfont: score(<Font 'Umpush' (Umpush-Light.ttf) normal normal light normal>) = 10.24\n",
      "2019-12-30 11:07:12.507Z matplotlib.font_manager 10 font_manager.py:1271 findfont: score(<Font 'Ani' (ani.ttf) normal normal 400 normal>) = 10.05\n",
      "2019-12-30 11:07:12.507Z matplotlib.font_manager 10 font_manager.py:1271 findfont: score(<Font 'Lohit Tamil Classical' (Lohit-Tamil-Classical.ttf) normal normal 400 normal>) = 10.05\n",
      "2019-12-30 11:07:12.507Z matplotlib.font_manager 10 font_manager.py:1271 findfont: score(<Font 'Khmer OS' (KhmerOS.ttf) normal normal 400 normal>) = 10.05\n",
      "2019-12-30 11:07:12.508Z matplotlib.font_manager 10 font_manager.py:1271 findfont: score(<Font 'Lohit Malayalam' (Lohit-Malayalam.ttf) normal normal 400 normal>) = 10.05\n",
      "2019-12-30 11:07:12.508Z matplotlib.font_manager 10 font_manager.py:1271 findfont: score(<Font 'Sahadeva' (sahadeva.ttf) normal normal 400 normal>) = 10.05\n",
      "2019-12-30 11:07:12.508Z matplotlib.font_manager 10 font_manager.py:1271 findfont: score(<Font 'Tlwg Typewriter' (TlwgTypewriter-Bold.ttf) normal normal bold normal>) = 10.335\n",
      "2019-12-30 11:07:12.508Z matplotlib.font_manager 10 font_manager.py:1271 findfont: score(<Font 'Umpush' (Umpush-BoldOblique.ttf) oblique normal bold normal>) = 11.335\n",
      "2019-12-30 11:07:12.508Z matplotlib.font_manager 10 font_manager.py:1271 findfont: score(<Font 'Nakula' (nakula.ttf) normal normal 400 normal>) = 10.05\n",
      "2019-12-30 11:07:12.509Z matplotlib.font_manager 10 font_manager.py:1271 findfont: score(<Font 'Norasi' (Norasi-Oblique.ttf) oblique normal 400 normal>) = 11.05\n",
      "2019-12-30 11:07:12.509Z matplotlib.font_manager 10 font_manager.py:1271 findfont: score(<Font 'Garuda' (Garuda-Bold.ttf) normal normal bold normal>) = 10.335\n",
      "2019-12-30 11:07:12.509Z matplotlib.font_manager 10 font_manager.py:1271 findfont: score(<Font 'Liberation Mono' (LiberationMono-BoldItalic.ttf) italic normal bold normal>) = 11.335\n",
      "2019-12-30 11:07:12.509Z matplotlib.font_manager 10 font_manager.py:1271 findfont: score(<Font 'Padauk Book' (PadaukBook-Bold.ttf) normal normal book normal>) = 10.05\n",
      "2019-12-30 11:07:12.510Z matplotlib.font_manager 10 font_manager.py:1271 findfont: score(<Font 'Tibetan Machine Uni' (TibetanMachineUni.ttf) normal normal 400 normal>) = 10.05\n",
      "2019-12-30 11:07:12.510Z matplotlib.font_manager 10 font_manager.py:1271 findfont: score(<Font 'Garuda' (Garuda.ttf) normal normal 400 normal>) = 10.05\n",
      "2019-12-30 11:07:12.510Z matplotlib.font_manager 10 font_manager.py:1271 findfont: score(<Font 'Vemana2000' (vemana2000.ttf) normal normal 400 normal>) = 10.05\n",
      "2019-12-30 11:07:12.510Z matplotlib.font_manager 10 font_manager.py:1271 findfont: score(<Font 'Tlwg Mono' (TlwgMono-Bold.ttf) normal normal bold normal>) = 10.335\n",
      "2019-12-30 11:07:12.511Z matplotlib.font_manager 10 font_manager.py:1271 findfont: score(<Font 'Uroob' (Uroob.ttf) normal normal 700 normal>) = 10.335\n",
      "2019-12-30 11:07:12.511Z matplotlib.font_manager 10 font_manager.py:1271 findfont: score(<Font 'Loma' (Loma-BoldOblique.ttf) oblique normal bold normal>) = 11.335\n",
      "2019-12-30 11:07:12.511Z matplotlib.font_manager 10 font_manager.py:1271 findfont: score(<Font 'FreeSerif' (FreeSerifItalic.ttf) italic normal 400 normal>) = 11.05\n",
      "2019-12-30 11:07:12.512Z matplotlib.font_manager 10 font_manager.py:1271 findfont: score(<Font 'KacstTitle' (KacstTitle.ttf) normal normal 400 normal>) = 10.05\n",
      "2019-12-30 11:07:12.512Z matplotlib.font_manager 10 font_manager.py:1271 findfont: score(<Font 'Loma' (Loma.ttf) normal normal 400 normal>) = 10.05\n",
      "2019-12-30 11:07:12.512Z matplotlib.font_manager 10 font_manager.py:1271 findfont: score(<Font 'Dyuthi' (Dyuthi.ttf) normal normal 400 normal>) = 10.05\n",
      "2019-12-30 11:07:12.512Z matplotlib.font_manager 10 font_manager.py:1271 findfont: score(<Font 'Loma' (Loma-Bold.ttf) normal normal bold normal>) = 10.335\n",
      "2019-12-30 11:07:12.513Z matplotlib.font_manager 10 font_manager.py:1271 findfont: score(<Font 'KacstFarsi' (KacstFarsi.ttf) normal normal 400 normal>) = 10.05\n",
      "2019-12-30 11:07:12.513Z matplotlib.font_manager 10 font_manager.py:1271 findfont: score(<Font 'FreeSans' (FreeSansBoldOblique.ttf) oblique normal bold normal>) = 11.335\n",
      "2019-12-30 11:07:12.513Z matplotlib.font_manager 10 font_manager.py:1271 findfont: score(<Font 'Liberation Serif' (LiberationSerif-Italic.ttf) italic normal 400 normal>) = 11.05\n",
      "2019-12-30 11:07:12.513Z matplotlib.font_manager 10 font_manager.py:1271 findfont: score(<Font 'Lohit Kannada' (Lohit-Kannada.ttf) normal normal 400 normal>) = 10.05\n",
      "2019-12-30 11:07:12.514Z matplotlib.font_manager 10 font_manager.py:1271 findfont: score(<Font 'Tlwg Typo' (TlwgTypo.ttf) normal normal 400 normal>) = 10.05\n",
      "2019-12-30 11:07:12.514Z matplotlib.font_manager 10 font_manager.py:1271 findfont: score(<Font 'KacstOffice' (KacstOffice.ttf) normal normal 400 normal>) = 10.05\n",
      "2019-12-30 11:07:12.514Z matplotlib.font_manager 10 font_manager.py:1271 findfont: score(<Font 'KacstArt' (KacstArt.ttf) normal normal 400 normal>) = 10.05\n",
      "2019-12-30 11:07:12.514Z matplotlib.font_manager 10 font_manager.py:1271 findfont: score(<Font 'aakar' (aakar-medium.ttf) normal normal 400 normal>) = 10.05\n",
      "2019-12-30 11:07:12.515Z matplotlib.font_manager 10 font_manager.py:1271 findfont: score(<Font 'Liberation Serif' (LiberationSerif-Bold.ttf) normal normal bold normal>) = 10.335\n",
      "2019-12-30 11:07:12.515Z matplotlib.font_manager 10 font_manager.py:1271 findfont: score(<Font 'Jamrul' (JamrulNormal.ttf) normal normal 400 normal>) = 10.05\n"
     ]
    },
    {
     "name": "stderr",
     "output_type": "stream",
     "text": [
      "2019-12-30 11:07:12.515Z matplotlib.font_manager 10 font_manager.py:1271 findfont: score(<Font 'Padauk' (Padauk-Bold.ttf) normal normal bold normal>) = 10.335\n",
      "2019-12-30 11:07:12.515Z matplotlib.font_manager 10 font_manager.py:1271 findfont: score(<Font 'Norasi' (Norasi-BoldOblique.ttf) oblique normal bold normal>) = 11.335\n",
      "2019-12-30 11:07:12.516Z matplotlib.font_manager 10 font_manager.py:1271 findfont: score(<Font 'Suruma' (Suruma.ttf) normal normal 400 normal>) = 10.05\n",
      "2019-12-30 11:07:12.516Z matplotlib.font_manager 10 font_manager.py:1271 findfont: score(<Font 'Sarai' (Sarai.ttf) normal normal 400 normal>) = 10.05\n",
      "2019-12-30 11:07:12.516Z matplotlib.font_manager 10 font_manager.py:1271 findfont: score(<Font 'Gubbi' (Gubbi.ttf) normal normal 400 normal>) = 10.05\n",
      "2019-12-30 11:07:12.516Z matplotlib.font_manager 10 font_manager.py:1271 findfont: score(<Font 'Garuda' (Garuda-BoldOblique.ttf) oblique normal bold normal>) = 11.335\n",
      "2019-12-30 11:07:12.517Z matplotlib.font_manager 10 font_manager.py:1271 findfont: score(<Font 'mry_KacstQurn' (mry_KacstQurn.ttf) normal normal 400 normal>) = 10.05\n",
      "2019-12-30 11:07:12.517Z matplotlib.font_manager 10 font_manager.py:1271 findfont: score(<Font 'Purisa' (Purisa.ttf) normal normal 400 normal>) = 10.05\n",
      "2019-12-30 11:07:12.517Z matplotlib.font_manager 10 font_manager.py:1271 findfont: score(<Font 'Lohit Tamil' (Lohit-Tamil.ttf) normal normal 400 normal>) = 10.05\n",
      "2019-12-30 11:07:12.517Z matplotlib.font_manager 10 font_manager.py:1271 findfont: score(<Font 'Ubuntu Mono' (UbuntuMono-R.ttf) normal normal 400 normal>) = 10.05\n",
      "2019-12-30 11:07:12.518Z matplotlib.font_manager 10 font_manager.py:1271 findfont: score(<Font 'Noto Sans CJK JP' (NotoSansCJK-Bold.ttc) normal normal bold normal>) = 10.335\n",
      "2019-12-30 11:07:12.518Z matplotlib.font_manager 10 font_manager.py:1271 findfont: score(<Font 'Umpush' (Umpush.ttf) normal normal 400 normal>) = 10.05\n",
      "2019-12-30 11:07:12.518Z matplotlib.font_manager 10 font_manager.py:1271 findfont: score(<Font 'Ubuntu' (Ubuntu-RI.ttf) italic normal 400 normal>) = 11.05\n",
      "2019-12-30 11:07:12.518Z matplotlib.font_manager 10 font_manager.py:1271 findfont: score(<Font 'Saab' (Saab.ttf) normal normal 400 normal>) = 10.05\n",
      "2019-12-30 11:07:12.519Z matplotlib.font_manager 10 font_manager.py:1271 findfont: score(<Font 'Liberation Sans Narrow' (LiberationSansNarrow-Bold.ttf) normal normal bold condensed>) = 10.535\n",
      "2019-12-30 11:07:12.519Z matplotlib.font_manager 10 font_manager.py:1271 findfont: score(<Font 'Tlwg Mono' (TlwgMono.ttf) normal normal 400 normal>) = 10.05\n",
      "2019-12-30 11:07:12.519Z matplotlib.font_manager 10 font_manager.py:1271 findfont: score(<Font 'Liberation Mono' (LiberationMono-Bold.ttf) normal normal bold normal>) = 10.335\n",
      "2019-12-30 11:07:12.519Z matplotlib.font_manager 10 font_manager.py:1271 findfont: score(<Font 'Kalimati' (kalimati.ttf) normal normal 400 normal>) = 10.05\n",
      "2019-12-30 11:07:12.520Z matplotlib.font_manager 10 font_manager.py:1271 findfont: score(<Font 'FreeMono' (FreeMonoBold.ttf) normal normal bold normal>) = 10.335\n",
      "2019-12-30 11:07:12.520Z matplotlib.font_manager 10 font_manager.py:1271 findfont: score(<Font 'padmaa-Bold.1.1' (padmaa-Bold.1.1.ttf) normal normal bold normal>) = 10.335\n",
      "2019-12-30 11:07:12.520Z matplotlib.font_manager 10 font_manager.py:1271 findfont: score(<Font 'Khmer OS System' (KhmerOSsys.ttf) normal normal 400 normal>) = 10.05\n",
      "2019-12-30 11:07:12.520Z matplotlib.font_manager 10 font_manager.py:1271 findfont: score(<Font 'Kinnari' (Kinnari-Oblique.ttf) oblique normal 400 normal>) = 11.05\n",
      "2019-12-30 11:07:12.521Z matplotlib.font_manager 10 font_manager.py:1271 findfont: score(<Font 'Tlwg Mono' (TlwgMono-Oblique.ttf) oblique normal 400 normal>) = 11.05\n",
      "2019-12-30 11:07:12.521Z matplotlib.font_manager 10 font_manager.py:1271 findfont: score(<Font 'Rekha' (Rekha.ttf) normal normal 400 normal>) = 10.05\n",
      "2019-12-30 11:07:12.521Z matplotlib.font_manager 10 font_manager.py:1271 findfont: score(<Font 'Keraleeyam' (Keraleeyam.ttf) normal normal 700 normal>) = 10.335\n",
      "2019-12-30 11:07:12.521Z matplotlib.font_manager 10 font_manager.py:1271 findfont: score(<Font 'Mitra Mono' (mitra.ttf) normal normal 400 normal>) = 10.05\n",
      "2019-12-30 11:07:12.521Z matplotlib.font_manager 10 font_manager.py:1271 findfont: score(<Font 'padmaa' (padmaa-Medium-0.5.ttf) normal normal normal normal>) = 10.0\n",
      "2019-12-30 11:07:12.522Z matplotlib.font_manager 10 font_manager.py:1271 findfont: score(<Font 'Purisa' (Purisa-Bold.ttf) normal normal bold normal>) = 10.335\n",
      "2019-12-30 11:07:12.522Z matplotlib.font_manager 10 font_manager.py:1271 findfont: score(<Font 'FreeSans' (FreeSans.ttf) normal normal 400 normal>) = 10.05\n",
      "2019-12-30 11:07:12.522Z matplotlib.font_manager 10 font_manager.py:1271 findfont: score(<Font 'KacstPoster' (KacstPoster.ttf) normal normal 400 normal>) = 10.05\n",
      "2019-12-30 11:07:12.523Z matplotlib.font_manager 10 font_manager.py:1271 findfont: score(<Font 'Tlwg Typo' (TlwgTypo-Oblique.ttf) oblique normal 400 normal>) = 11.05\n",
      "2019-12-30 11:07:12.523Z matplotlib.font_manager 10 font_manager.py:1271 findfont: score(<Font 'Tlwg Typewriter' (TlwgTypewriter-BoldOblique.ttf) oblique normal bold normal>) = 11.335\n",
      "2019-12-30 11:07:12.523Z matplotlib.font_manager 10 font_manager.py:1271 findfont: score(<Font 'Laksaman' (Laksaman.ttf) normal normal 400 normal>) = 10.05\n",
      "2019-12-30 11:07:12.523Z matplotlib.font_manager 10 font_manager.py:1271 findfont: score(<Font 'Phetsarath OT' (Phetsarath_OT.ttf) normal normal 400 normal>) = 10.05\n",
      "2019-12-30 11:07:12.524Z matplotlib.font_manager 10 font_manager.py:1271 findfont: score(<Font 'Umpush' (Umpush-LightOblique.ttf) oblique normal light normal>) = 11.24\n",
      "2019-12-30 11:07:12.524Z matplotlib.font_manager 10 font_manager.py:1271 findfont: score(<Font 'Liberation Sans Narrow' (LiberationSansNarrow-BoldItalic.ttf) italic normal bold condensed>) = 11.535\n",
      "2019-12-30 11:07:12.524Z matplotlib.font_manager 10 font_manager.py:1271 findfont: score(<Font 'Norasi' (Norasi.ttf) normal normal 400 normal>) = 10.05\n",
      "2019-12-30 11:07:12.524Z matplotlib.font_manager 10 font_manager.py:1271 findfont: score(<Font 'Chilanka' (Chilanka-Regular.ttf) normal normal regular normal>) = 10.05\n",
      "2019-12-30 11:07:12.524Z matplotlib.font_manager 10 font_manager.py:1271 findfont: score(<Font 'KacstPen' (KacstPen.ttf) normal normal 400 normal>) = 10.05\n",
      "2019-12-30 11:07:12.525Z matplotlib.font_manager 10 font_manager.py:1271 findfont: score(<Font 'Ubuntu Condensed' (Ubuntu-C.ttf) normal normal 400 condensed>) = 10.25\n",
      "2019-12-30 11:07:12.525Z matplotlib.font_manager 10 font_manager.py:1271 findfont: score(<Font 'FreeSans' (FreeSansBold.ttf) normal normal bold normal>) = 10.335\n",
      "2019-12-30 11:07:12.525Z matplotlib.font_manager 10 font_manager.py:1271 findfont: score(<Font 'Lohit Assamese' (Lohit-Assamese.ttf) normal normal 400 normal>) = 10.05\n",
      "2019-12-30 11:07:12.525Z matplotlib.font_manager 10 font_manager.py:1271 findfont: score(<Font 'Norasi' (Norasi-BoldItalic.ttf) italic normal bold normal>) = 11.335\n",
      "2019-12-30 11:07:12.526Z matplotlib.font_manager 10 font_manager.py:1271 findfont: score(<Font 'Navilu' (Navilu.ttf) normal normal 400 normal>) = 10.05\n",
      "2019-12-30 11:07:12.526Z matplotlib.font_manager 10 font_manager.py:1271 findfont: score(<Font 'Ubuntu' (Ubuntu-LI.ttf) italic normal light normal>) = 11.24\n",
      "2019-12-30 11:07:12.526Z matplotlib.font_manager 10 font_manager.py:1271 findfont: score(<Font 'Laksaman' (Laksaman-Bold.ttf) normal normal bold normal>) = 10.335\n",
      "2019-12-30 11:07:12.526Z matplotlib.font_manager 10 font_manager.py:1271 findfont: score(<Font 'Waree' (Waree.ttf) normal normal 400 normal>) = 10.05\n",
      "2019-12-30 11:07:12.527Z matplotlib.font_manager 10 font_manager.py:1271 findfont: score(<Font 'RaghuMalayalam' (RaghuMalayalamSans-Regular.ttf) normal normal regular normal>) = 10.05\n",
      "2019-12-30 11:07:12.527Z matplotlib.font_manager 10 font_manager.py:1271 findfont: score(<Font 'Noto Serif CJK JP' (NotoSerifCJK-Regular.ttc) normal normal 400 normal>) = 10.05\n",
      "2019-12-30 11:07:12.527Z matplotlib.font_manager 10 font_manager.py:1271 findfont: score(<Font 'Tlwg Typo' (TlwgTypo-Bold.ttf) normal normal bold normal>) = 10.335\n",
      "2019-12-30 11:07:12.527Z matplotlib.font_manager 10 font_manager.py:1271 findfont: score(<Font 'Lohit Telugu' (Lohit-Telugu.ttf) normal normal 400 normal>) = 10.05\n"
     ]
    },
    {
     "name": "stderr",
     "output_type": "stream",
     "text": [
      "2019-12-30 11:07:12.528Z matplotlib.font_manager 10 font_manager.py:1271 findfont: score(<Font 'Sawasdee' (Sawasdee-Oblique.ttf) oblique normal 400 normal>) = 11.05\n",
      "2019-12-30 11:07:12.528Z matplotlib.font_manager 10 font_manager.py:1271 findfont: score(<Font 'KacstNaskh' (KacstNaskh.ttf) normal normal 400 normal>) = 10.05\n",
      "2019-12-30 11:07:12.528Z matplotlib.font_manager 10 font_manager.py:1271 findfont: score(<Font 'Waree' (Waree-BoldOblique.ttf) oblique normal bold normal>) = 11.335\n",
      "2019-12-30 11:07:12.528Z matplotlib.font_manager 10 font_manager.py:1294 findfont: Matching :family=sans-serif:style=normal:variant=normal:weight=normal:stretch=normal:size=10.0 to DejaVu Sans ('/home/pfs/anaconda3/lib/python3.7/site-packages/matplotlib/mpl-data/fonts/ttf/DejaVuSans.ttf') with score of 0.050000.\n"
     ]
    },
    {
     "data": {
      "image/png": "[encoded data removed]",
      "text/plain": [
       "<Figure size 720x1440 with 2 Axes>"
      ]
     },
     "metadata": {
      "needs_background": "light"
     },
     "output_type": "display_data"
    }
   ],
   "source": [
    "broken=[]\n",
    "path=f'{runDir}/data/'\n",
    "vis = visDianosticPlot.VisDianosticPlot(path, brokens=broken, camSplit=28)\n",
    "vis.visPlotGeometry(arm='phi')"
   ]
  },
  {
   "cell_type": "code",
   "execution_count": 11,
   "metadata": {},
   "outputs": [
    {
     "data": {
      "image/png": "[encoded data removed]",
      "text/plain": [
       "<Figure size 720x1440 with 2 Axes>"
      ]
     },
     "metadata": {
      "needs_background": "light"
     },
     "output_type": "display_data"
    }
   ],
   "source": [
    "vis.visPlotFiberDot(arm='phi')"
   ]
  },
  {
   "cell_type": "markdown",
   "metadata": {},
   "source": [
    "# Phi on-time optimize"
   ]
  },
  {
   "cell_type": "code",
   "execution_count": 14,
   "metadata": {},
   "outputs": [
    {
     "name": "stdout",
     "output_type": "stream",
     "text": [
      "Camera close!\n",
      "Camera close!\n"
     ]
    }
   ],
   "source": [
    "del(mt)"
   ]
  },
  {
   "cell_type": "code",
   "execution_count": null,
   "metadata": {
    "scrolled": true
   },
   "outputs": [
    {
     "name": "stderr",
     "output_type": "stream",
     "text": [
      "2019-12-31 14:29:43.828Z ontimeOptimize   20 ontimeOptimize.py:591 Starting to run on-time optimization\n",
      "2019-12-31 14:29:43.829Z ontimeOptimize   20 ontimeOptimize.py:604 Output XML name = /data/MCS/temp.xml\n",
      "2019-12-31 14:29:43.833Z butler           30 butler.py:58 newRun: /data/MCS/20191231_002\n",
      "2019-12-31 14:29:43.835Z fpgaIO           20 pfi.py:57 FPGA connection to 128.149.77.24\n",
      "2019-12-31 14:29:43.863Z pfi              20 pfi.py:73 load cobra model from /data/MCS/20191230_002/output/SC06_phi_250.xml\n",
      "2019-12-31 14:29:43.901Z camera           20 asrdCam.py:17 asrd...\n",
      "2019-12-31 14:29:43.988Z ontimeOptimize   20 ontimeOptimize.py:617 Running 1 iteration\n",
      "2019-12-31 14:29:43.989Z butler           30 butler.py:58 newRun: /data/MCS/20191231_003\n",
      "2019-12-31 14:29:43.992Z fpgaIO           20 pfi.py:57 FPGA connection to 128.149.77.24\n",
      "2019-12-31 14:29:44.019Z pfi              20 pfi.py:73 load cobra model from /data/MCS/20191230_002/output/SC06_phi_250.xml\n",
      "2019-12-31 14:29:44.056Z camera           20 asrdCam.py:17 asrd...\n",
      "2019-12-31 14:29:44.085Z moduleTest       20 moduleTest.py:943 phi home -6000 steps\n"
     ]
    },
    {
     "name": "stdout",
     "output_type": "stream",
     "text": [
      "IS_COLORMODE_MONOCHROME: \n",
      "\tm_nColorMode: \t\t 34\n",
      "\tnBitsPerPixel: \t\t 10\n",
      "\tbytes_per_pixel: \t\t 2\n",
      "\n",
      "Camera model:\t\t UI318xCP-M\n",
      "Camera serial no.:\t 4103536358\n",
      "Maximum image self.width:\t 2592\n",
      "Maximum image self.height:\t 2048\n",
      "\n",
      "200\n",
      "IS_COLORMODE_MONOCHROME: \n",
      "\tm_nColorMode: \t\t 34\n",
      "\tnBitsPerPixel: \t\t 10\n",
      "\tbytes_per_pixel: \t\t 2\n",
      "\n",
      "Camera model:\t\t UI318xCP-M\n",
      "Camera serial no.:\t 4103541788\n",
      "Maximum image self.width:\t 2592\n",
      "Maximum image self.height:\t 2048\n",
      "\n",
      "200\n",
      "getting image\n",
      "(2048, 2592, 2)\n",
      "getting image\n",
      "(2048, 2592, 2)\n",
      "getting image\n",
      "(2048, 2592, 2)\n",
      "getting image\n",
      "(2048, 2592, 2)\n"
     ]
    },
    {
     "name": "stderr",
     "output_type": "stream",
     "text": [
      "2019-12-31 14:30:10.709Z moduleTest       20 moduleTest.py:954 1/3 phi forward to 250\n"
     ]
    },
    {
     "name": "stdout",
     "output_type": "stream",
     "text": [
      "getting image\n",
      "(2048, 2592, 2)\n",
      "getting image\n",
      "(2048, 2592, 2)\n",
      "getting image\n",
      "(2048, 2592, 2)\n",
      "getting image\n",
      "(2048, 2592, 2)\n"
     ]
    },
    {
     "name": "stderr",
     "output_type": "stream",
     "text": [
      "2019-12-31 14:30:13.218Z moduleTest       20 moduleTest.py:954 1/3 phi forward to 500\n"
     ]
    },
    {
     "name": "stdout",
     "output_type": "stream",
     "text": [
      "getting image\n",
      "(2048, 2592, 2)\n",
      "getting image\n",
      "(2048, 2592, 2)\n",
      "getting image\n",
      "(2048, 2592, 2)\n",
      "getting image\n",
      "(2048, 2592, 2)\n"
     ]
    },
    {
     "name": "stderr",
     "output_type": "stream",
     "text": [
      "2019-12-31 14:30:15.758Z moduleTest       20 moduleTest.py:954 1/3 phi forward to 750\n"
     ]
    },
    {
     "name": "stdout",
     "output_type": "stream",
     "text": [
      "getting image\n",
      "(2048, 2592, 2)\n",
      "getting image\n",
      "(2048, 2592, 2)\n",
      "getting image\n",
      "(2048, 2592, 2)\n",
      "getting image\n",
      "(2048, 2592, 2)\n"
     ]
    },
    {
     "name": "stderr",
     "output_type": "stream",
     "text": [
      "2019-12-31 14:30:18.376Z moduleTest       20 moduleTest.py:954 1/3 phi forward to 1000\n"
     ]
    },
    {
     "name": "stdout",
     "output_type": "stream",
     "text": [
      "getting image\n",
      "(2048, 2592, 2)\n",
      "getting image\n",
      "(2048, 2592, 2)\n",
      "getting image\n",
      "(2048, 2592, 2)\n",
      "getting image\n",
      "(2048, 2592, 2)\n"
     ]
    },
    {
     "name": "stderr",
     "output_type": "stream",
     "text": [
      "2019-12-31 14:30:21.046Z moduleTest       20 moduleTest.py:954 1/3 phi forward to 1250\n"
     ]
    },
    {
     "name": "stdout",
     "output_type": "stream",
     "text": [
      "getting image\n",
      "(2048, 2592, 2)\n",
      "getting image\n",
      "(2048, 2592, 2)\n",
      "getting image\n",
      "(2048, 2592, 2)\n",
      "getting image\n",
      "(2048, 2592, 2)\n"
     ]
    },
    {
     "name": "stderr",
     "output_type": "stream",
     "text": [
      "2019-12-31 14:30:23.552Z moduleTest       20 moduleTest.py:954 1/3 phi forward to 1500\n"
     ]
    },
    {
     "name": "stdout",
     "output_type": "stream",
     "text": [
      "getting image\n",
      "(2048, 2592, 2)\n",
      "getting image\n",
      "(2048, 2592, 2)\n",
      "getting image\n",
      "(2048, 2592, 2)\n",
      "getting image\n",
      "(2048, 2592, 2)\n"
     ]
    },
    {
     "name": "stderr",
     "output_type": "stream",
     "text": [
      "2019-12-31 14:30:26.105Z moduleTest       20 moduleTest.py:954 1/3 phi forward to 1750\n"
     ]
    },
    {
     "name": "stdout",
     "output_type": "stream",
     "text": [
      "getting image\n",
      "(2048, 2592, 2)\n",
      "getting image\n",
      "(2048, 2592, 2)\n",
      "getting image\n",
      "(2048, 2592, 2)\n",
      "getting image\n",
      "(2048, 2592, 2)\n"
     ]
    },
    {
     "name": "stderr",
     "output_type": "stream",
     "text": [
      "2019-12-31 14:30:28.519Z moduleTest       20 moduleTest.py:954 1/3 phi forward to 2000\n"
     ]
    },
    {
     "name": "stdout",
     "output_type": "stream",
     "text": [
      "getting image\n",
      "(2048, 2592, 2)\n",
      "getting image\n",
      "(2048, 2592, 2)\n",
      "getting image\n",
      "(2048, 2592, 2)\n",
      "getting image\n",
      "(2048, 2592, 2)\n"
     ]
    },
    {
     "name": "stderr",
     "output_type": "stream",
     "text": [
      "2019-12-31 14:30:31.029Z moduleTest       20 moduleTest.py:954 1/3 phi forward to 2250\n"
     ]
    },
    {
     "name": "stdout",
     "output_type": "stream",
     "text": [
      "getting image\n",
      "(2048, 2592, 2)\n",
      "getting image\n",
      "(2048, 2592, 2)\n",
      "getting image\n",
      "(2048, 2592, 2)\n",
      "getting image\n",
      "(2048, 2592, 2)\n"
     ]
    },
    {
     "name": "stderr",
     "output_type": "stream",
     "text": [
      "2019-12-31 14:30:33.644Z moduleTest       20 moduleTest.py:954 1/3 phi forward to 2500\n"
     ]
    },
    {
     "name": "stdout",
     "output_type": "stream",
     "text": [
      "getting image\n",
      "(2048, 2592, 2)\n",
      "getting image\n",
      "(2048, 2592, 2)\n",
      "getting image\n",
      "(2048, 2592, 2)\n",
      "getting image\n",
      "(2048, 2592, 2)\n"
     ]
    },
    {
     "name": "stderr",
     "output_type": "stream",
     "text": [
      "2019-12-31 14:30:36.068Z moduleTest       20 moduleTest.py:954 1/3 phi forward to 2750\n"
     ]
    },
    {
     "name": "stdout",
     "output_type": "stream",
     "text": [
      "getting image\n",
      "(2048, 2592, 2)\n",
      "getting image\n",
      "(2048, 2592, 2)\n",
      "getting image\n",
      "(2048, 2592, 2)\n",
      "getting image\n",
      "(2048, 2592, 2)\n"
     ]
    },
    {
     "name": "stderr",
     "output_type": "stream",
     "text": [
      "2019-12-31 14:30:38.570Z moduleTest       20 moduleTest.py:954 1/3 phi forward to 3000\n"
     ]
    },
    {
     "name": "stdout",
     "output_type": "stream",
     "text": [
      "getting image\n",
      "(2048, 2592, 2)\n",
      "getting image\n",
      "(2048, 2592, 2)\n",
      "getting image\n",
      "(2048, 2592, 2)\n",
      "getting image\n",
      "(2048, 2592, 2)\n"
     ]
    },
    {
     "name": "stderr",
     "output_type": "stream",
     "text": [
      "2019-12-31 14:30:41.091Z moduleTest       20 moduleTest.py:954 1/3 phi forward to 3250\n"
     ]
    },
    {
     "name": "stdout",
     "output_type": "stream",
     "text": [
      "getting image\n",
      "(2048, 2592, 2)\n",
      "getting image\n",
      "(2048, 2592, 2)\n",
      "getting image\n",
      "(2048, 2592, 2)\n",
      "getting image\n",
      "(2048, 2592, 2)\n"
     ]
    },
    {
     "name": "stderr",
     "output_type": "stream",
     "text": [
      "2019-12-31 14:30:43.526Z moduleTest       20 moduleTest.py:954 1/3 phi forward to 3500\n"
     ]
    },
    {
     "name": "stdout",
     "output_type": "stream",
     "text": [
      "getting image\n",
      "(2048, 2592, 2)\n",
      "getting image\n",
      "(2048, 2592, 2)\n",
      "getting image\n",
      "(2048, 2592, 2)\n",
      "getting image\n",
      "(2048, 2592, 2)\n"
     ]
    },
    {
     "name": "stderr",
     "output_type": "stream",
     "text": [
      "2019-12-31 14:30:46.027Z moduleTest       20 moduleTest.py:954 1/3 phi forward to 3750\n"
     ]
    },
    {
     "name": "stdout",
     "output_type": "stream",
     "text": [
      "getting image\n",
      "(2048, 2592, 2)\n",
      "getting image\n",
      "(2048, 2592, 2)\n",
      "getting image\n",
      "(2048, 2592, 2)\n",
      "getting image\n",
      "(2048, 2592, 2)\n"
     ]
    },
    {
     "name": "stderr",
     "output_type": "stream",
     "text": [
      "2019-12-31 14:30:48.668Z moduleTest       20 moduleTest.py:954 1/3 phi forward to 4000\n"
     ]
    },
    {
     "name": "stdout",
     "output_type": "stream",
     "text": [
      "getting image\n",
      "(2048, 2592, 2)\n",
      "getting image\n",
      "(2048, 2592, 2)\n",
      "getting image\n",
      "(2048, 2592, 2)\n",
      "getting image\n",
      "(2048, 2592, 2)\n"
     ]
    },
    {
     "name": "stderr",
     "output_type": "stream",
     "text": [
      "2019-12-31 14:30:51.020Z moduleTest       20 moduleTest.py:954 1/3 phi forward to 4250\n"
     ]
    },
    {
     "name": "stdout",
     "output_type": "stream",
     "text": [
      "getting image\n",
      "(2048, 2592, 2)\n",
      "getting image\n",
      "(2048, 2592, 2)\n",
      "getting image\n",
      "(2048, 2592, 2)\n",
      "getting image\n",
      "(2048, 2592, 2)\n"
     ]
    },
    {
     "name": "stderr",
     "output_type": "stream",
     "text": [
      "2019-12-31 14:30:53.578Z moduleTest       20 moduleTest.py:954 1/3 phi forward to 4500\n"
     ]
    },
    {
     "name": "stdout",
     "output_type": "stream",
     "text": [
      "getting image\n",
      "(2048, 2592, 2)\n",
      "getting image\n",
      "(2048, 2592, 2)\n",
      "getting image\n",
      "(2048, 2592, 2)\n",
      "getting image\n",
      "(2048, 2592, 2)\n"
     ]
    },
    {
     "name": "stderr",
     "output_type": "stream",
     "text": [
      "2019-12-31 14:30:56.071Z moduleTest       20 moduleTest.py:954 1/3 phi forward to 4750\n"
     ]
    },
    {
     "name": "stdout",
     "output_type": "stream",
     "text": [
      "getting image\n",
      "(2048, 2592, 2)\n",
      "getting image\n",
      "(2048, 2592, 2)\n",
      "getting image\n",
      "(2048, 2592, 2)\n",
      "getting image\n",
      "(2048, 2592, 2)\n"
     ]
    },
    {
     "name": "stderr",
     "output_type": "stream",
     "text": [
      "2019-12-31 14:30:58.572Z moduleTest       20 moduleTest.py:954 1/3 phi forward to 5000\n"
     ]
    },
    {
     "name": "stdout",
     "output_type": "stream",
     "text": [
      "getting image\n",
      "(2048, 2592, 2)\n",
      "getting image\n",
      "(2048, 2592, 2)\n",
      "getting image\n",
      "(2048, 2592, 2)\n",
      "getting image\n",
      "(2048, 2592, 2)\n"
     ]
    },
    {
     "name": "stderr",
     "output_type": "stream",
     "text": [
      "2019-12-31 14:31:01.061Z moduleTest       20 moduleTest.py:954 1/3 phi forward to 5250\n"
     ]
    },
    {
     "name": "stdout",
     "output_type": "stream",
     "text": [
      "getting image\n",
      "(2048, 2592, 2)\n",
      "getting image\n",
      "(2048, 2592, 2)\n",
      "getting image\n",
      "(2048, 2592, 2)\n",
      "getting image\n",
      "(2048, 2592, 2)\n"
     ]
    },
    {
     "name": "stderr",
     "output_type": "stream",
     "text": [
      "2019-12-31 14:31:03.538Z moduleTest       20 moduleTest.py:954 1/3 phi forward to 5500\n"
     ]
    },
    {
     "name": "stdout",
     "output_type": "stream",
     "text": [
      "getting image\n",
      "(2048, 2592, 2)\n",
      "getting image\n",
      "(2048, 2592, 2)\n",
      "getting image\n",
      "(2048, 2592, 2)\n",
      "getting image\n",
      "(2048, 2592, 2)\n"
     ]
    },
    {
     "name": "stderr",
     "output_type": "stream",
     "text": [
      "2019-12-31 14:31:06.032Z moduleTest       20 moduleTest.py:954 1/3 phi forward to 5750\n"
     ]
    },
    {
     "name": "stdout",
     "output_type": "stream",
     "text": [
      "getting image\n",
      "(2048, 2592, 2)\n",
      "getting image\n",
      "(2048, 2592, 2)\n",
      "getting image\n",
      "(2048, 2592, 2)\n",
      "getting image\n",
      "(2048, 2592, 2)\n"
     ]
    },
    {
     "name": "stderr",
     "output_type": "stream",
     "text": [
      "2019-12-31 14:31:08.520Z moduleTest       20 moduleTest.py:954 1/3 phi forward to 6000\n"
     ]
    },
    {
     "name": "stdout",
     "output_type": "stream",
     "text": [
      "getting image\n",
      "(2048, 2592, 2)\n",
      "getting image\n",
      "(2048, 2592, 2)\n",
      "getting image\n",
      "(2048, 2592, 2)\n",
      "getting image\n",
      "(2048, 2592, 2)\n"
     ]
    },
    {
     "name": "stderr",
     "output_type": "stream",
     "text": [
      "2019-12-31 14:31:10.922Z moduleTest       20 moduleTest.py:981 1/3 phi forward 6000 to limit\n"
     ]
    }
   ],
   "source": [
    "import ontimeOptimize\n",
    "import pathlib\n",
    "\n",
    "brokens=[]\n",
    "arm='phi'\n",
    "xml =pathlib.Path(f'{runDir}/output/{moduleNameShort}_phi_250.xml')\n",
    "ontimeOptimize.exploreModuleOntime(brokens=brokens,phiOnTimeMax=0.035,\n",
    "            arm=arm, iteration=4, XML=xml)"
   ]
  },
  {
   "cell_type": "code",
   "execution_count": null,
   "metadata": {},
   "outputs": [],
   "source": [
    "import ontimeOptimize\n",
    "brokens=[]\n",
    "\n",
    "\n",
    "\n",
    "datalist = ['/data/MCS/20191216_012',\n",
    "            '/data/MCS/20191216_014'\n",
    "           ]\n",
    "\n",
    "otm = ontimeOptimize.OntimeOptimize(brokens=brokens, phiList = datalist)"
   ]
  },
  {
   "cell_type": "code",
   "execution_count": null,
   "metadata": {},
   "outputs": [],
   "source": [
    "otm.dataframe.loc[otm.dataframe['fiberNo'] == 41]"
   ]
  },
  {
   "cell_type": "markdown",
   "metadata": {},
   "source": [
    "# Phi Motor Map"
   ]
  },
  {
   "cell_type": "code",
   "execution_count": null,
   "metadata": {},
   "outputs": [],
   "source": [
    "xml = pathlib.Path('/data/MCS/20191216_026/output/phi_250step.xml')\n",
    "broken=[]\n",
    "\n",
    "mt = ModuleTest('fpga', xml, brokens=broken)\n",
    "mt._connect()\n"
   ]
  },
  {
   "cell_type": "code",
   "execution_count": null,
   "metadata": {},
   "outputs": [],
   "source": [
    "mt.makePhiMotorMap('SC03_phi_250.xml', steps=250, repeat=5, totalSteps=6000, fromHome=True)"
   ]
  },
  {
   "cell_type": "code",
   "execution_count": null,
   "metadata": {},
   "outputs": [],
   "source": [
    "brokens=[]\n",
    "\n",
    "vis = visDianosticPlot.VisDianosticPlot('/data/MCS/20191216_026/data/', brokens=brokens, camSplit=28)\n",
    "vis.visCobraMotorMap(stepsize=250, figPath='/data/MCS/20191216_026/output/', arm='phi',\n",
    "                     pdffile='/data/MCS/20191216_026/output/phi_mm_250step.pdf')"
   ]
  },
  {
   "cell_type": "markdown",
   "metadata": {},
   "source": [
    "# Phi Target Convergence"
   ]
  },
  {
   "cell_type": "code",
   "execution_count": null,
   "metadata": {
    "scrolled": true
   },
   "outputs": [],
   "source": [
    "\n",
    "xml = pathlib.Path('/data/MCS/20191216_026/output/phi_250step.xml')\n",
    "\n",
    "mt = ModuleTest('fpga', xml, brokens=broken)\n",
    "mt._connect()\n",
    "\n",
    "mt.setPhiGeometryFromRun(pathlib.Path('/data/MCS/20191216_026/'), onlyIfClear=False)\n",
    "\n",
    "#for scale in [1.2, 2.0, 3.0, 5.0, 8.0]:\n",
    "mt.phiConvergenceTest(margin=15.0, runs=16, tries=8, \n",
    "                        fast=False, finalAngle=None, scaleFactor=3.0, tolerance=0.1)"
   ]
  },
  {
   "cell_type": "code",
   "execution_count": null,
   "metadata": {},
   "outputs": [],
   "source": [
    "\n",
    "vis = visDianosticPlot.VisDianosticPlot('/data/MCS/20191216_030/data/', brokens=broken, camSplit=28)\n",
    "vis.visConverge(figPath=f'/data/MCS/20191216_030/output/',runs = 16,\n",
    "                    arm='phi',pdffile= f'/data/MCS/20191216_030/output/converge_phi.pdf')"
   ]
  },
  {
   "cell_type": "markdown",
   "metadata": {},
   "source": [
    "# Move to 60 degree"
   ]
  },
  {
   "cell_type": "code",
   "execution_count": null,
   "metadata": {},
   "outputs": [],
   "source": [
    "xml = pathlib.Path('/data/MCS/20191216_026/output/phi_250step.xml')\n",
    "broken=[]\n",
    "\n",
    "mt = ModuleTest('fpga', xml, brokens=broken)\n",
    "mt._connect()"
   ]
  },
  {
   "cell_type": "code",
   "execution_count": null,
   "metadata": {},
   "outputs": [],
   "source": [
    "mt.setPhiGeometryFromRun(pathlib.Path('/data/MCS/20191216_026/'), onlyIfClear=False)"
   ]
  },
  {
   "cell_type": "code",
   "execution_count": null,
   "metadata": {
    "scrolled": true
   },
   "outputs": [],
   "source": [
    "mt.moveToPhiAngle(angle=60.0, keepExistingPosition=False)\n"
   ]
  },
  {
   "cell_type": "markdown",
   "metadata": {},
   "source": [
    "# Theta ROM"
   ]
  },
  {
   "cell_type": "code",
   "execution_count": null,
   "metadata": {
    "scrolled": true
   },
   "outputs": [],
   "source": [
    "runDir=mt.makeThetaMotorMap(f'{moduleNameShort}_theta_250.xml', steps=250, repeat=3, totalSteps=12000)"
   ]
  },
  {
   "cell_type": "code",
   "execution_count": null,
   "metadata": {
    "scrolled": true
   },
   "outputs": [],
   "source": [
    "broken=[]\n",
    "path=f'{runDir}'\n",
    "vis = visDianosticPlot.VisDianosticPlot(f'{path}/data/', brokens=broken, camSplit=28)\n",
    "vis.visPlotGeometry(arm='theta')"
   ]
  },
  {
   "cell_type": "code",
   "execution_count": null,
   "metadata": {},
   "outputs": [],
   "source": [
    "vis.visPlotFiberDot(arm='theta')\n",
    "del(mt)"
   ]
  },
  {
   "cell_type": "markdown",
   "metadata": {},
   "source": [
    "# Theta on-time"
   ]
  },
  {
   "cell_type": "code",
   "execution_count": null,
   "metadata": {
    "scrolled": true
   },
   "outputs": [],
   "source": [
    "import ontimeOptimize\n",
    "import pathlib\n",
    "reload(ontimeOptimize)\n",
    "\n",
    "brokens=[]\n",
    "arm='theta'\n",
    "xml =pathlib.Path(f'/data/MCS/20191216_034/output/{moduleNameShort}_{arm}_250.xml')\n",
    "ontimeOptimize.exploreModuleOntime(brokens=brokens,\n",
    "            arm=arm, iteration=5, XML=xml)"
   ]
  },
  {
   "cell_type": "markdown",
   "metadata": {},
   "source": [
    "# Theta motor map"
   ]
  },
  {
   "cell_type": "code",
   "execution_count": null,
   "metadata": {},
   "outputs": [],
   "source": [
    "brokens=[]\n",
    "\n",
    "vis = visDianosticPlot.VisDianosticPlot('/data/MCS/20191216_054/data/', brokens=brokens, camSplit=28)\n",
    "vis.visCobraMotorMap(stepsize=250, figPath='/data/MCS/20191216_054/output/', arm='theta',\n",
    "                     pdffile='/data/MCS/20191216_054/output/theta_mm_250step.pdf')"
   ]
  },
  {
   "cell_type": "code",
   "execution_count": null,
   "metadata": {},
   "outputs": [],
   "source": [
    "xml = pathlib.Path('/data/MCS/20191213_028/output/theta_250step.xml')\n",
    "broken=[]\n",
    "\n",
    "mt = ModuleTest('fpga', xml, brokens=broken)\n",
    "mt._connect()"
   ]
  },
  {
   "cell_type": "code",
   "execution_count": null,
   "metadata": {
    "scrolled": true
   },
   "outputs": [],
   "source": [
    "mt.makeThetaMotorMap('SC03_theta_250.xml', steps=250, repeat=5, totalSteps=12000, fromHome=True)"
   ]
  },
  {
   "cell_type": "code",
   "execution_count": null,
   "metadata": {},
   "outputs": [],
   "source": [
    "xml = pathlib.Path('/data/MCS/20191216_054/output/theta_250step.xml')\n",
    "broken=[]\n",
    "\n",
    "mt = ModuleTest('fpga', xml, brokens=broken)\n",
    "mt._connect()"
   ]
  },
  {
   "cell_type": "code",
   "execution_count": null,
   "metadata": {},
   "outputs": [],
   "source": [
    "mt.setThetaGeometryFromRun(pathlib.Path('/data/MCS/20191216_054'), onlyIfClear=False)"
   ]
  },
  {
   "cell_type": "markdown",
   "metadata": {},
   "source": [
    "# Theta Convergence"
   ]
  },
  {
   "cell_type": "code",
   "execution_count": null,
   "metadata": {
    "scrolled": true
   },
   "outputs": [],
   "source": [
    "#for scale in [1.2, 2.0, 3.0, 5.0, 8.0]:\n",
    "mt.thetaConvergenceTest(margin=15.0, runs=34, tries=8, \n",
    "                        fast=False, scaleFactor=3.0, tolerance=0.2)"
   ]
  },
  {
   "cell_type": "code",
   "execution_count": null,
   "metadata": {},
   "outputs": [],
   "source": [
    "vis = visDianosticPlot.VisDianosticPlot('/data/MCS/20191216_057/data/', brokens=broken, camSplit=28)\n",
    "vis.visConverge(figPath=f'/data/MCS/20191216_057/output/',runs = 34,\n",
    "                    arm='theta',pdffile= f'/data/MCS/20191216_057/output/converge_theta.pdf')"
   ]
  },
  {
   "cell_type": "code",
   "execution_count": null,
   "metadata": {},
   "outputs": [],
   "source": [
    "xml = pathlib.Path('/data/MCS/20191216_054/output/theta_250step.xml')\n",
    "broken=[]\n",
    "\n",
    "mt = ModuleTest('fpga', xml, brokens=broken)\n",
    "\n",
    "\n",
    "mt.gotoSafeFromPhi60(phiAngle=60.0, tolerance=1.0)"
   ]
  },
  {
   "cell_type": "code",
   "execution_count": null,
   "metadata": {},
   "outputs": [],
   "source": [
    "mt.pfi.moveAllSteps(mt.goodCobras, 0, -5000)"
   ]
  },
  {
   "cell_type": "markdown",
   "metadata": {},
   "source": [
    "# Recalculate Geometry"
   ]
  },
  {
   "cell_type": "code",
   "execution_count": 3,
   "metadata": {},
   "outputs": [],
   "source": [
    "xml = pathlib.Path('/data/MCS/20191216_054/output/theta_250step.xml')\n",
    "brokens = []\n",
    "camSplit = 28"
   ]
  },
  {
   "cell_type": "code",
   "execution_count": 5,
   "metadata": {},
   "outputs": [
    {
     "name": "stderr",
     "output_type": "stream",
     "text": [
      "2019-12-26 15:12:24.756Z root             20 pfiDesign.py:740 wrote pfiDesign file for 57 cobras and name=None to /data/SC30//SC30_final.xml\n"
     ]
    }
   ],
   "source": [
    "ana = moduleAnalyze.moduleAnalyze(xml, brokens, camSplit)\n",
    "\n",
    "dataPath = '/data/SC30/'\n",
    "phiPath = '/data/MCS/20191216_026/data'\n",
    "thetaPath = '/data/MCS/20191216_054/data/'\n",
    "ana.calculateGeometry('SC30_final.xml', dataPath, thetaPath, phiPath)\n",
    "ana.makeGeometryTable(dataPath)"
   ]
  },
  {
   "cell_type": "code",
   "execution_count": null,
   "metadata": {},
   "outputs": [],
   "source": []
  }
 ],
 "metadata": {
  "kernelspec": {
   "display_name": "Python 3",
   "language": "python",
   "name": "python3"
  },
  "language_info": {
   "codemirror_mode": {
    "name": "ipython",
    "version": 3
   },
   "file_extension": ".py",
   "mimetype": "text/x-python",
   "name": "python",
   "nbconvert_exporter": "python",
   "pygments_lexer": "ipython3",
   "version": "3.7.3"
  }
 },
 "nbformat": 4,
 "nbformat_minor": 2
}
