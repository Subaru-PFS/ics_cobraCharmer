{
 "cells": [
  {
   "cell_type": "code",
   "execution_count": null,
   "metadata": {},
   "outputs": [],
   "source": [
    "import numpy as np\n",
    "import matplotlib.pyplot as plt\n",
    "from astropy.io import fits\n",
    "from matplotlib.backends.backend_pdf import PdfPages\n",
    "from matplotlib.ticker import NullFormatter\n",
    "\n",
    "np.set_printoptions(precision=4, suppress=True)"
   ]
  },
  {
   "cell_type": "code",
   "execution_count": null,
   "metadata": {},
   "outputs": [],
   "source": [
    "# define the broken/good cobras\n",
    "#brokens = [1, 2, 39, 43, 54]\n",
    "brokens = []\n",
    "visibles= [e for e in range(1,58) if e not in brokens]\n",
    "badIdx = np.array(brokens) - 1\n",
    "goodIdx = np.array(visibles) - 1\n",
    "\n",
    "# two groups for two cameras\n",
    "cam_split = 28\n",
    "group1 = goodIdx[goodIdx <= cam_split]\n",
    "group2 = goodIdx[goodIdx > cam_split]"
   ]
  },
  {
   "cell_type": "code",
   "execution_count": null,
   "metadata": {},
   "outputs": [],
   "source": [
    "path = '/data/MCS/20200803_002/data/'\n",
    "centers = np.load(path + 'phiCenter.npy')\n",
    "radius = np.load(path + 'phiRadius.npy')\n",
    "fw = np.load(path + 'phiFW.npy')\n",
    "rv = np.load(path + 'phiRV.npy')\n",
    "af = np.load(path + 'phiAngFW.npy')\n",
    "ar = np.load(path + 'phiAngRV.npy')\n",
    "sf = np.load(path + 'phiSpeedFW.npy')\n",
    "sr = np.load(path + 'phiSpeedRV.npy')\n",
    "mf = np.load(path + 'phiMMFW.npy')\n",
    "mr = np.load(path + 'phiMMRV.npy')\n",
    "badM = np.load(path + 'badMotorMap.npy')\n",
    "badR = np.load(path + 'badRange.npy')\n",
    "steps = int(np.load(path + 'steps.npy'))\n",
    "ontime = np.load(path + 'ontime.npy')"
   ]
  },
  {
   "cell_type": "code",
   "execution_count": null,
   "metadata": {},
   "outputs": [],
   "source": [
    "path = '/data/MCS/20191029_005/data/'\n",
    "centersX = np.load(path + 'phiCenter.npy')\n",
    "radiusX = np.load(path + 'phiRadius.npy')\n",
    "fwX = np.load(path + 'phiFW.npy')\n",
    "rvX = np.load(path + 'phiRV.npy')\n",
    "afX = np.load(path + 'phiAngFW.npy')\n",
    "arX = np.load(path + 'phiAngRV.npy')\n",
    "sfX = np.load(path + 'phiSpeedFW.npy')\n",
    "srX = np.load(path + 'phiSpeedRV.npy')\n",
    "mfX = np.load(path + 'phiMMFW.npy')\n",
    "mrX = np.load(path + 'phiMMRV.npy')\n",
    "badX = np.load(path + 'bad.npy')"
   ]
  },
  {
   "cell_type": "code",
   "execution_count": null,
   "metadata": {},
   "outputs": [],
   "source": [
    "centers = np.load(path + 'phiCenter_A.npy')\n",
    "radius = np.load(path + 'phiRadius_A.npy')\n",
    "fw = np.load(path + 'phiFW_A.npy')\n",
    "rv = np.load(path + 'phiRV_A.npy')\n",
    "af = np.load(path + 'phiAngFW_A.npy')\n",
    "ar = np.load(path + 'phiAngRV_A.npy')\n",
    "sf = np.load(path + 'phiSpeedFW_A.npy')\n",
    "sr = np.load(path + 'phiSpeedRV_A.npy')\n",
    "mf = np.load(path + 'phiMMFW_A.npy')\n",
    "mr = np.load(path + 'phiMMRV_A.npy')\n",
    "bad = np.load(path + 'bad_A.npy')\n",
    "mf2 = np.load(path + 'phiMMFW2_A.npy')\n",
    "mr2 = np.load(path + 'phiMMRV2_A.npy')\n",
    "bad2 = np.load(path + 'bad2_A.npy')"
   ]
  },
  {
   "cell_type": "code",
   "execution_count": null,
   "metadata": {},
   "outputs": [],
   "source": []
  },
  {
   "cell_type": "code",
   "execution_count": null,
   "metadata": {},
   "outputs": [],
   "source": [
    "badM, badR"
   ]
  },
  {
   "cell_type": "code",
   "execution_count": null,
   "metadata": {},
   "outputs": [],
   "source": [
    "plt.figure(1, figsize=(16,10))\n",
    "plt.clf()\n",
    "\n",
    "plt.subplot(211)\n",
    "ax = plt.gca()\n",
    "\n",
    "ax.plot(centers[group1].real, centers[group1].imag, 'ro')\n",
    "ax.axis('equal')\n",
    "for idx in group1:\n",
    "    c = plt.Circle((centers[idx].real, centers[idx].imag), radius[idx], color='g', fill=False)\n",
    "    ax.add_artist(c)\n",
    "ax.set_title(f'1st camera')\n",
    "\n",
    "plt.subplot(212)\n",
    "ax = plt.gca()\n",
    "\n",
    "ax.plot(centers[group2].real, centers[group2].imag, 'ro')\n",
    "ax.axis('equal')\n",
    "for idx in group2:\n",
    "    c = plt.Circle((centers[idx].real, centers[idx].imag), radius[idx], color='g', fill=False)\n",
    "    ax.add_artist(c)\n",
    "ax.set_title(f'2nd camera')\n",
    "\n",
    "plt.show()"
   ]
  },
  {
   "cell_type": "code",
   "execution_count": null,
   "metadata": {},
   "outputs": [],
   "source": [
    "plt.figure(2, figsize=(16,10))\n",
    "plt.clf()\n",
    "\n",
    "plt.subplot(211)\n",
    "ax = plt.gca()\n",
    "ax.axis('equal')\n",
    "\n",
    "for n in range(fw.shape[1]):\n",
    "    for k in group1:\n",
    "        if k % 3 == 0:\n",
    "            c = 'r'\n",
    "            d = 'c'\n",
    "        elif k % 3 == 1:\n",
    "            c = 'g'\n",
    "            d = 'm'\n",
    "        else:\n",
    "            c = 'b'\n",
    "            d = 'y'\n",
    "        ax.plot(fw[k][n,0].real, fw[k][n,0].imag, c + 'o')\n",
    "        ax.plot(rv[k][n,0].real, rv[k][n,0].imag, d + 's')\n",
    "        ax.plot(fw[k][n,1:].real, fw[k][n,1:].imag, c + '.')\n",
    "        ax.plot(rv[k][n,1:].real, rv[k][n,1:].imag, d + '.')\n",
    "\n",
    "plt.subplot(212)\n",
    "ax = plt.gca()\n",
    "ax.axis('equal')\n",
    "\n",
    "for n in range(fw.shape[1]):\n",
    "    for k in group2:\n",
    "        if k % 3 == 0:\n",
    "            c = 'r'\n",
    "            d = 'c'\n",
    "        elif k % 3 == 1:\n",
    "            c = 'g'\n",
    "            d = 'm'\n",
    "        else:\n",
    "            c = 'b'\n",
    "            d = 'y'\n",
    "        ax.plot(fw[k][n,0].real, fw[k][n,0].imag, c + 'o')\n",
    "        ax.plot(rv[k][n,0].real, rv[k][n,0].imag, d + 's')\n",
    "        ax.plot(fw[k][n,1:].real, fw[k][n,1:].imag, c + '.')\n",
    "        ax.plot(rv[k][n,1:].real, rv[k][n,1:].imag, d + '.')\n",
    "\n",
    "plt.show()"
   ]
  },
  {
   "cell_type": "code",
   "execution_count": null,
   "metadata": {},
   "outputs": [],
   "source": [
    "with PdfPages(f'pdf/SC09_phi_{steps}.pdf') as pdf:\n",
    "    for c in range(57):\n",
    "        fig = plt.figure(figsize=(16,6))\n",
    "        ax = plt.gca()\n",
    "        ax.set_title(f'Cobra SC09 #{c+1} PHI @ {steps}steps')\n",
    "        for n in range(af.shape[1]):\n",
    "            ax.plot(np.rad2deg(af[c,n,:-1]), np.rad2deg(af[c,n,1:]-af[c,n,:-1])/steps, '.')\n",
    "            ax.plot(np.rad2deg(ar[c,n,1:]), np.rad2deg(ar[c,n,1:]-ar[c,n,:-1])/steps, '.')\n",
    "            ax.plot([0,190], [0,0], 'r')\n",
    "        pdf.savefig(fig)\n",
    "        plt.close()"
   ]
  },
  {
   "cell_type": "code",
   "execution_count": null,
   "metadata": {
    "scrolled": false
   },
   "outputs": [],
   "source": [
    "for c in range(57):\n",
    "    fig = plt.figure(figsize=(16,6))\n",
    "    ax = plt.gca()\n",
    "    ax.set_title(f'Cobra SC09 #{c+1} PHI @ {steps}steps')\n",
    "    for n in range(af.shape[1]):\n",
    "        ax.plot(np.rad2deg(af[c,n,:-1]), np.rad2deg(af[c,n,1:]-af[c,n,:-1])/steps, '.')\n",
    "        ax.plot(np.rad2deg(ar[c,n,1:]), np.rad2deg(ar[c,n,1:]-ar[c,n,:-1])/steps, '.')\n",
    "        ax.plot([0,190], [0,0], 'r')\n",
    "    plt.show()"
   ]
  },
  {
   "cell_type": "code",
   "execution_count": null,
   "metadata": {
    "scrolled": false
   },
   "outputs": [],
   "source": [
    "plt.figure(4, figsize=(12,8))\n",
    "#plt.clf()\n",
    "\n",
    "plt.plot(np.rad2deg(sf), 'r.')\n",
    "plt.plot(np.rad2deg(sr), 'g.')\n",
    "\n",
    "#with PdfPages(f'pdf/SC34_phi_slow.pdf') as pdf:\n",
    "#    pdf.savefig()"
   ]
  },
  {
   "cell_type": "code",
   "execution_count": null,
   "metadata": {},
   "outputs": [],
   "source": []
  },
  {
   "cell_type": "code",
   "execution_count": null,
   "metadata": {
    "scrolled": true
   },
   "outputs": [],
   "source": [
    "fig, axs = plt.subplots(57, figsize=(12,200))\n",
    "\n",
    "for c in range(57):\n",
    "#    plt.figure(3)\n",
    "#    plt.clf()\n",
    "#    ax = plt.gca()\n",
    "    axs[c].set_title(f'#{c}')\n",
    "    for n in range(af.shape[1]):\n",
    "        axs[c].plot(af[c, n], '.')\n",
    "        axs[c].plot(ar[c, n], '.')\n",
    "\n",
    "#with PdfPages(f'pdf/SC34_phi_250.pdf') as pdf:\n",
    "#    pdf.savefig()\n",
    "plt.show()"
   ]
  },
  {
   "cell_type": "code",
   "execution_count": null,
   "metadata": {},
   "outputs": [],
   "source": [
    "plt.figure(4, figsize=(12,8))\n",
    "#plt.clf()\n",
    "\n",
    "plt.plot(np.rad2deg(sf), 'r.')\n",
    "plt.plot(np.rad2deg(sr), 'g.')\n",
    "\n",
    "#with PdfPages(f'pdf/SC34_phi_slow.pdf') as pdf:\n",
    "#    pdf.savefig()"
   ]
  },
  {
   "cell_type": "code",
   "execution_count": null,
   "metadata": {},
   "outputs": [],
   "source": []
  },
  {
   "cell_type": "code",
   "execution_count": null,
   "metadata": {},
   "outputs": [],
   "source": [
    "c = 6\n",
    "\n",
    "ax = plt.gca()\n",
    "ax.set_title(f'#{c}')\n",
    "for n in range(afX.shape[1]):\n",
    "    ax.plot(afX[c, n], '.')\n",
    "    ax.plot(arX[c, n], '.')"
   ]
  },
  {
   "cell_type": "code",
   "execution_count": null,
   "metadata": {
    "scrolled": true
   },
   "outputs": [],
   "source": [
    "c = 6\n",
    "\n",
    "plt.figure(4)\n",
    "plt.clf()\n",
    "ax = plt.gca()\n",
    "ax.set_title(f'#{c}')\n",
    "\n",
    "ax.plot(np.rad2deg(mf[c]), 'r')\n",
    "ax.plot(np.rad2deg(mfX[c]), 'm')\n",
    "ax.plot(np.rad2deg(mr[c]), 'g')\n",
    "ax.plot(np.rad2deg(mrX[c]), 'b')\n",
    "\n",
    "ax.set_xlim([0,56])"
   ]
  },
  {
   "cell_type": "code",
   "execution_count": null,
   "metadata": {},
   "outputs": [],
   "source": [
    "x=np.arange(mf.shape[1])*3.6\n",
    "c = 6\n",
    "step = 150\n",
    "\n",
    "plt.figure(4)\n",
    "plt.clf()\n",
    "ax = plt.gca()\n",
    "ax.set_title(f'#{c} FW')\n",
    "\n",
    "for data in af[c]:\n",
    "#    for i in range(len(data)-1):\n",
    "    for i in range(14):\n",
    "        spd = np.rad2deg(data[i+1] - data[i]) / step\n",
    "        ax.plot([np.rad2deg(data[i]), np.rad2deg(data[i+1])], [spd, spd], color='gray')\n",
    "\n",
    "ax.plot(x, np.rad2deg(mf[c]), 'r')\n",
    "#ax.plot(x,np.rad2deg(mf2[c]), 'pink')\n",
    "\n",
    "ax.set_xlim([0,190])"
   ]
  },
  {
   "cell_type": "code",
   "execution_count": null,
   "metadata": {},
   "outputs": [],
   "source": [
    "x=np.arange(mf.shape[1])*3.6\n",
    "c = 5\n",
    "step = 400\n",
    "\n",
    "plt.figure(4)\n",
    "plt.clf()\n",
    "ax = plt.gca()\n",
    "ax.set_title(f'#{c} RV')\n",
    "\n",
    "for data in ar[c]:\n",
    "    for i in range(len(data)-1):\n",
    "        spd = np.rad2deg(data[i] - data[i+1]) / step\n",
    "        ax.plot([np.rad2deg(data[i+1]), np.rad2deg(data[i])], [spd, spd], color='gray')\n",
    "\n",
    "ax.plot(x, np.rad2deg(mr[c]), 'r')\n",
    "#ax.plot(x,-np.rad2deg(mr2[c]), color='pink')\n",
    "\n",
    "ax.set_xlim([0,190])"
   ]
  },
  {
   "cell_type": "code",
   "execution_count": null,
   "metadata": {},
   "outputs": [],
   "source": []
  },
  {
   "cell_type": "code",
   "execution_count": null,
   "metadata": {},
   "outputs": [],
   "source": [
    "path = '/data/MCS/20191114_006/data/'\n",
    "data = np.load(path + 'phiData.npy')"
   ]
  },
  {
   "cell_type": "code",
   "execution_count": null,
   "metadata": {},
   "outputs": [],
   "source": [
    "c = 1\n",
    "\n",
    "plt.figure(5)\n",
    "plt.clf()\n",
    "for n in range(data.shape[1]):\n",
    "    plt.plot(np.rad2deg(data[c,n,:,0]))"
   ]
  },
  {
   "cell_type": "code",
   "execution_count": null,
   "metadata": {},
   "outputs": [],
   "source": [
    "np.rad2deg(data[1,9,:,0]), data[1,9,:,3]"
   ]
  },
  {
   "cell_type": "code",
   "execution_count": null,
   "metadata": {},
   "outputs": [],
   "source": []
  },
  {
   "cell_type": "code",
   "execution_count": null,
   "metadata": {},
   "outputs": [],
   "source": [
    "from ics.cobraCharmer import pfiDesign\n",
    "import pathlib"
   ]
  },
  {
   "cell_type": "code",
   "execution_count": null,
   "metadata": {},
   "outputs": [],
   "source": [
    "xml = pathlib.Path('/data/MCS/20200114_009/output/SC34_phi_fast.xml')\n",
    "#xml = pathlib.Path('/home/pfs/Documents/cwen/ics_cobraCharmer/xml/SC34_07.xml')\n",
    "model = pfiDesign.PFIDesign(xml)"
   ]
  },
  {
   "cell_type": "code",
   "execution_count": null,
   "metadata": {},
   "outputs": [],
   "source": [
    "xml = pathlib.Path('/data/MCS/20200112_023/output/SC34_phi_fast.xml')\n",
    "model2 = pfiDesign.PFIDesign(xml)"
   ]
  },
  {
   "cell_type": "code",
   "execution_count": null,
   "metadata": {},
   "outputs": [],
   "source": [
    "model.motorOntimeSlowFwd2, model.motorOntimeSlowRev2"
   ]
  },
  {
   "cell_type": "code",
   "execution_count": null,
   "metadata": {},
   "outputs": [],
   "source": [
    "model.centers"
   ]
  },
  {
   "cell_type": "code",
   "execution_count": null,
   "metadata": {},
   "outputs": [],
   "source": [
    "tfs = model.motorOntimeSlowFwd2.copy()\n",
    "trs = model.motorOntimeSlowRev2.copy()\n",
    "tff = model.motorOntimeFwd2.copy()\n",
    "trf = model.motorOntimeRev2.copy()"
   ]
  },
  {
   "cell_type": "code",
   "execution_count": null,
   "metadata": {},
   "outputs": [],
   "source": [
    "tfs2 = model2.motorOntimeSlowFwd2.copy()\n",
    "trs2 = model2.motorOntimeSlowRev2.copy()\n",
    "tff2 = model2.motorOntimeFwd2.copy()\n",
    "trf2 = model2.motorOntimeRev2.copy()"
   ]
  },
  {
   "cell_type": "code",
   "execution_count": null,
   "metadata": {},
   "outputs": [],
   "source": [
    "c = 21\n",
    "tfs[c], trs[c], tff[c], trf[c]"
   ]
  },
  {
   "cell_type": "code",
   "execution_count": null,
   "metadata": {},
   "outputs": [],
   "source": [
    "tfs[21] = 0.03\n",
    "trs[21] = 0.034\n",
    "tff[21] = 0.043\n",
    "trf[21] = 0.05"
   ]
  },
  {
   "cell_type": "code",
   "execution_count": null,
   "metadata": {},
   "outputs": [],
   "source": [
    "model.updateOntimes(phiFwd=tff, phiRev=trf, fast=True)\n",
    "model.updateOntimes(phiFwd=tfs, phiRev=trs, fast=False)\n",
    "model.createCalibrationFile('/home/pfs/Documents/cwen/ics_cobraCharmer/xml/SC34_08.xml')"
   ]
  },
  {
   "cell_type": "code",
   "execution_count": null,
   "metadata": {},
   "outputs": [],
   "source": []
  },
  {
   "cell_type": "code",
   "execution_count": null,
   "metadata": {},
   "outputs": [],
   "source": []
  },
  {
   "cell_type": "code",
   "execution_count": null,
   "metadata": {},
   "outputs": [],
   "source": [
    "path = '/data/MCS/20191207_003/data/'\n",
    "data = np.load(path + 'phiData.npy')"
   ]
  },
  {
   "cell_type": "code",
   "execution_count": null,
   "metadata": {},
   "outputs": [],
   "source": [
    "angles = np.linspace(15,165,16)\n",
    "print(np.where(abs(np.rad2deg(data[goodIdx,:,7,0])-angles)>0.2))\n",
    "print(np.where(abs(np.rad2deg(data[goodIdx,:,7,0])-angles)>0.1))\n",
    "print(np.where(abs(np.rad2deg(data[goodIdx,:,7,0])-angles)>0.1)[0].shape[0])\n",
    "print(np.amax(abs(np.rad2deg(data[goodIdx,:,:,0])-angles[:,np.newaxis]), axis=(0,1)))\n",
    "np.average(abs(np.rad2deg(data[goodIdx,:,:,0])-angles[:,np.newaxis]), axis=(0,1))"
   ]
  },
  {
   "cell_type": "code",
   "execution_count": null,
   "metadata": {},
   "outputs": [],
   "source": [
    "c = 35\n",
    "\n",
    "plt.figure(4)\n",
    "plt.clf()\n",
    "for n in range(data.shape[1]):\n",
    "    plt.plot(np.rad2deg(data[c,n,:,0]))"
   ]
  },
  {
   "cell_type": "code",
   "execution_count": null,
   "metadata": {
    "scrolled": false
   },
   "outputs": [],
   "source": [
    "#bad = [37]\n",
    "#useable= [e for e in range(1,58) if e not in bad]\n",
    "#idx = np.array(useable) - 1\n",
    "idx = goodIdx\n",
    "\n",
    "for run in range(8):\n",
    "#    plt.figure()\n",
    "    d = (np.rad2deg(data[idx,:,:,0])-angles[:,np.newaxis])[:,:,run]\n",
    "\n",
    "    plt.subplot(121)\n",
    "#    plt.xscale('log')\n",
    "    plt.yscale('log')\n",
    "    plt.title(f'Diff angles #{run+1}')\n",
    "#    plt.grid(True)\n",
    "    plt.hist(d.flatten(), bins='auto')\n",
    "\n",
    "    plt.subplot(122)\n",
    "    plt.xscale('log')\n",
    "    plt.yscale('log')\n",
    "    plt.title(f'Absolute diffs #{run+1}')\n",
    "    plt.grid(True)\n",
    "    plt.hist(abs(d).flatten(), bins='auto')\n",
    "\n",
    "    plt.gca().yaxis.set_minor_formatter(NullFormatter())\n",
    "    plt.subplots_adjust(top=0.92, bottom=0.08, left=0.10, right=0.95, hspace=0.45, wspace=0.35)\n",
    "    with PdfPages(f'pdf/SC31_phi_80_{run+1}.pdf') as pdf:\n",
    "        pdf.savefig()\n",
    "    plt.show()"
   ]
  },
  {
   "cell_type": "code",
   "execution_count": null,
   "metadata": {},
   "outputs": [],
   "source": []
  },
  {
   "cell_type": "code",
   "execution_count": null,
   "metadata": {},
   "outputs": [],
   "source": [
    "datadir = '/data/MCS/20200729_016'\n",
    "angles = np.load(f'{datadir}/data/angles.npy')\n",
    "ontimes = np.load(f'{datadir}/data/ontimes.npy')\n",
    "speeds = np.load(f'{datadir}/data/speeds.npy')\n",
    "goodIdx = np.load(f'{datadir}/data/cobras.npy')\n",
    "parameters = np.load(f'{datadir}/data/parameters.npy')"
   ]
  },
  {
   "cell_type": "code",
   "execution_count": null,
   "metadata": {},
   "outputs": [],
   "source": [
    "with PdfPages(f'pdf/SC09_phi_scan.pdf') as pdf:\n",
    "    for idx in range(len(ontimes)):\n",
    "        fig = plt.figure(figsize=(20,30))\n",
    "        ax1 = plt.subplot(411)\n",
    "        ax1.set_title(f'Cobra #{goodIdx[idx]+1}: On-time (phi, Forward)')\n",
    "        ax2 = plt.subplot(412)\n",
    "        ax2.set_title(f'Cobra #{goodIdx[idx]+1}: Step size (phi, Forward)')\n",
    "        ax3 = plt.subplot(413)\n",
    "        ax3.set_title(f'Cobra #{goodIdx[idx]+1}: On-time (phi, Backward)')\n",
    "        ax4 = plt.subplot(414)\n",
    "        ax4.set_title(f'Cobra #{goodIdx[idx]+1}: Step size (phi, Backward)')\n",
    "\n",
    "        for repeat in range(ontimes.shape[1]):\n",
    "            data = ontimes[idx,repeat,0]*1000\n",
    "            nz = np.where(data == 0)[0]\n",
    "            if len(nz) > 0:\n",
    "                upper = np.where(data == 0)[0][0] - 1\n",
    "            else:\n",
    "                upper = len(data)\n",
    "            xdata = np.rad2deg(angles)[idx,repeat,0,:upper]\n",
    "            data1 = np.rad2deg(speeds[idx,repeat,0])\n",
    "            ax1.plot(xdata, data[:upper], '.', label=f'{repeat+1}')\n",
    "            ax2.plot(xdata, data1[:upper], '.', label=f'{repeat+1}')\n",
    "\n",
    "            data = ontimes[idx,repeat,1]*1000\n",
    "            nz = np.where(data == 0)[0]\n",
    "            if len(nz) > 0:\n",
    "                upper = np.where(data == 0)[0][0]\n",
    "            else:\n",
    "                upper = len(data)\n",
    "            xdata = np.rad2deg(angles)[idx,repeat,1,:upper]\n",
    "            data1 = -np.rad2deg(speeds[idx,repeat,1])\n",
    "            ax3.plot(xdata, data[:upper], '.', label=f'{repeat+1}')\n",
    "            ax4.plot(xdata, data1[:upper], '.', label=f'{repeat+1}')\n",
    "\n",
    "        ax1.legend()\n",
    "        ax2.legend()\n",
    "        ax3.legend()\n",
    "        ax4.legend()\n",
    "        pdf.savefig(fig)\n",
    "        plt.close()"
   ]
  },
  {
   "cell_type": "code",
   "execution_count": null,
   "metadata": {},
   "outputs": [],
   "source": [
    "def smooth(x, window_len=21, window='hamming'):\n",
    "    s = np.r_[x[window_len-1:0:-1], x, x[-2:-window_len-1:-1]]\n",
    "    w = eval('np.' + window + '(window_len)')\n",
    "    y = np.convolve(w/w.sum(), s, mode='valid')\n",
    "    return y[(window_len//2):-(window_len//2)]"
   ]
  },
  {
   "cell_type": "code",
   "execution_count": null,
   "metadata": {},
   "outputs": [],
   "source": [
    "idx = 10\n",
    "\n",
    "plt.figure(figsize=(15,30))\n",
    "ax1 = plt.subplot(411)\n",
    "ax1.set_title(f'Cobra #{goodIdx[idx]+1}: On-time (phi, Forward)')\n",
    "ax2 = plt.subplot(412)\n",
    "ax2.set_title(f'Cobra #{goodIdx[idx]+1}: Step size (phi, Forward)')\n",
    "ax3 = plt.subplot(413)\n",
    "ax3.set_title(f'Cobra #{goodIdx[idx]+1}: On-time (phi, Backward)')\n",
    "ax4 = plt.subplot(414)\n",
    "ax4.set_title(f'Cobra #{goodIdx[idx]+1}: Step size (phi, Backward)')\n",
    "\n",
    "#for repeat in range(ontimes.shape[1]):\n",
    "for repeat in range(1):\n",
    "    data = ontimes[idx,repeat,0]*1000\n",
    "    nz = np.where(data == 0)[0]\n",
    "    if len(nz) > 0:\n",
    "        upper = nz[0] - 1\n",
    "    else:\n",
    "        upper = len(data)\n",
    "    xdata = np.rad2deg(angles)[idx,repeat,0,:upper]\n",
    "    data1 = np.rad2deg(speeds[idx,repeat,0])\n",
    "    ax1.plot(xdata, data[:upper], '.', label=f'{repeat+1}')\n",
    "    ax1.plot(xdata, smooth(data[:upper]), label=f'S{repeat+1}')\n",
    "    ax2.plot(xdata, data1[:upper], '.', label=f'{repeat+1}')\n",
    "    ax2.plot(xdata, smooth(data1[:upper]), label=f'S{repeat+1}')\n",
    "\n",
    "    data = ontimes[idx,repeat,1]*1000\n",
    "    nz = np.where(data == 0)[0]\n",
    "    if len(nz) > 0:\n",
    "        upper = nz[0]\n",
    "    else:\n",
    "        upper = len(data)\n",
    "    xdata = np.rad2deg(angles)[idx,repeat,1,:upper]\n",
    "    data1 = -np.rad2deg(speeds[idx,repeat,1])\n",
    "    ax3.plot(xdata, data[:upper], '.', label=f'{repeat+1}')\n",
    "    ax3.plot(xdata, smooth(data[:upper]), label=f'S{repeat+1}')\n",
    "    ax4.plot(xdata, data1[:upper], '.', label=f'{repeat+1}')\n",
    "    ax4.plot(xdata, smooth(data1[:upper]), label=f'S{repeat+1}')\n",
    "\n",
    "ax1.legend()\n",
    "ax2.legend()\n",
    "ax3.legend()\n",
    "ax4.legend()\n",
    "plt.show()"
   ]
  },
  {
   "cell_type": "code",
   "execution_count": null,
   "metadata": {},
   "outputs": [],
   "source": []
  },
  {
   "cell_type": "code",
   "execution_count": null,
   "metadata": {},
   "outputs": [],
   "source": [
    "mmDtype = np.dtype(dict(names=['angle', 'ontime', 'speed'], formats=['f4', 'f4', 'f4']))"
   ]
  },
  {
   "cell_type": "code",
   "execution_count": null,
   "metadata": {},
   "outputs": [],
   "source": [
    "mm = np.full((angles.shape[0],2,angles.shape[3]-1), np.nan, dtype=mmDtype)\n",
    "\n",
    "for i in range(angles.shape[0]):\n",
    "    for j in range(2):\n",
    "        nz = np.where(ontimes[i,0,j] == 0)[0]\n",
    "        if len(nz) > 0:\n",
    "            upper = nz[0] - 1\n",
    "        else:\n",
    "            upper = ontimes.shape[3] - 1\n",
    "        mm[i,j,:upper]['angle'] = angles[i,0,j,:upper]\n",
    "        mm[i,j,:upper]['ontime'] = smooth(ontimes[i,0,j,:upper])\n",
    "        mm[i,j,:upper]['speed'] = smooth(speeds[i,0,j,:upper])"
   ]
  },
  {
   "cell_type": "code",
   "execution_count": null,
   "metadata": {},
   "outputs": [],
   "source": [
    "np.save('mmPhi', mm)"
   ]
  },
  {
   "cell_type": "code",
   "execution_count": null,
   "metadata": {},
   "outputs": [],
   "source": [
    "angMax = np.nanmax(mm['angle'], axis=2)\n",
    "angMin = np.nanmin(mm['angle'], axis=2)\n",
    "angMargin = np.deg2rad(15)\n",
    "ot = np.zeros((mm.shape[0],2))\n",
    "\n",
    "for i in range(mm.shape[0]):\n",
    "    for j in range(2):\n",
    "        x = mm[i,j]['angle']\n",
    "        mask = ~np.isnan(x)\n",
    "        mask[mask] &= x[mask] > angMin[i,j] + angMargin\n",
    "        mask[mask] &= x[mask] < angMax[i,j] - angMargin\n",
    "        ot[i,j] = np.nanmax(mm[i,j,mask]['ontime']) + np.nanmin(mm[i,j,mask]['ontime'])*0.5\n",
    "\n",
    "ot[ot > 0.08] = 0.08"
   ]
  },
  {
   "cell_type": "code",
   "execution_count": null,
   "metadata": {},
   "outputs": [],
   "source": []
  },
  {
   "cell_type": "code",
   "execution_count": null,
   "metadata": {},
   "outputs": [],
   "source": [
    "ot.T"
   ]
  },
  {
   "cell_type": "code",
   "execution_count": null,
   "metadata": {},
   "outputs": [],
   "source": []
  },
  {
   "cell_type": "code",
   "execution_count": null,
   "metadata": {},
   "outputs": [],
   "source": []
  },
  {
   "cell_type": "code",
   "execution_count": null,
   "metadata": {},
   "outputs": [],
   "source": []
  }
 ],
 "metadata": {
  "kernelspec": {
   "display_name": "Python 3",
   "language": "python",
   "name": "python3"
  },
  "language_info": {
   "codemirror_mode": {
    "name": "ipython",
    "version": 3
   },
   "file_extension": ".py",
   "mimetype": "text/x-python",
   "name": "python",
   "nbconvert_exporter": "python",
   "pygments_lexer": "ipython3",
   "version": "3.7.3"
  }
 },
 "nbformat": 4,
 "nbformat_minor": 2
}
