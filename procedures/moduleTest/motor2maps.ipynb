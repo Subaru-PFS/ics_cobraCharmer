{
 "cells": [
  {
   "cell_type": "code",
   "execution_count": 1,
   "metadata": {},
   "outputs": [],
   "source": [
    "import numpy as np\n",
    "import matplotlib.pyplot as plt\n",
    "from astropy.io import fits"
   ]
  },
  {
   "cell_type": "code",
   "execution_count": 2,
   "metadata": {},
   "outputs": [],
   "source": [
    "dataPrefix = '/Volumes/GoogleDrive/My Drive/PFS/CobraModuleTestResult/Science15/Data/'\n",
    "path = dataPrefix + '20190731/phi50Step/'\n",
    "#path = '/Volumes/GoogleDrive/My Drive/COBRA/ASRD/190516/phi/003/'\n",
    "#path = '/Volumes/GoogleDrive/My Drive/PFI/20190604/400step/'\n",
    "#path = '/Volumes/GoogleDrive/My Drive/CobraData/20190610v1/'\n",
    "#path = '/Volumes/GoogleDrive/My Drive/COBRA/ASRD/190530/phi/0025/'\n",
    "#path = '/Volumes/GoogleDrive/My Drive/CobraData/20190610/'"
   ]
  },
  {
   "cell_type": "code",
   "execution_count": 3,
   "metadata": {},
   "outputs": [],
   "source": [
    "# define the broken/good cobras\n",
    "#brokens = [1, 39, 43, 54]\n",
    "brokens = [1,55]\n",
    "visibles= [e for e in range(1,58) if e not in brokens]\n",
    "badIdx = np.array(brokens) - 1\n",
    "goodIdx = np.array(visibles) - 1\n",
    "\n",
    "# two groups for two cameras\n",
    "cam_split = 28\n",
    "group1 = goodIdx[goodIdx <= cam_split]\n",
    "group2 = goodIdx[goodIdx > cam_split]"
   ]
  },
  {
   "cell_type": "code",
   "execution_count": 4,
   "metadata": {},
   "outputs": [],
   "source": [
    "centers = np.load(path + 'phiCenter.npy')\n",
    "radius = np.load(path + 'phiRadius.npy')\n",
    "fw = np.load(path + 'phiFW.npy')\n",
    "rv = np.load(path + 'phiRV.npy')\n",
    "af = np.load(path + 'phiAngFW.npy')\n",
    "ar = np.load(path + 'phiAngRV.npy')\n",
    "sf = np.load(path + 'phiSpeedFW.npy')\n",
    "sr = np.load(path + 'phiSpeedRV.npy')\n",
    "mf = np.load(path + 'phiMMFW.npy')\n",
    "mr = np.load(path + 'phiMMRV.npy')\n",
    "bad = np.load(path + 'bad.npy')\n",
    "mf2 = np.load(path + 'phiMMFW2.npy')\n",
    "mr2 = np.load(path + 'phiMMRV2.npy')\n",
    "bad2 = np.load(path + 'bad2.npy')"
   ]
  },
  {
   "cell_type": "code",
   "execution_count": null,
   "metadata": {},
   "outputs": [],
   "source": [
    "centers = np.load(path + 'phiCenter_A.npy')\n",
    "radius = np.load(path + 'phiRadius_A.npy')\n",
    "fw = np.load(path + 'phiFW_A.npy')\n",
    "rv = np.load(path + 'phiRV_A.npy')\n",
    "af = np.load(path + 'phiAngFW_A.npy')\n",
    "ar = np.load(path + 'phiAngRV_A.npy')\n",
    "sf = np.load(path + 'phiSpeedFW_A.npy')\n",
    "sr = np.load(path + 'phiSpeedRV_A.npy')\n",
    "mf = np.load(path + 'phiMMFW_A.npy')\n",
    "mr = np.load(path + 'phiMMRV_A.npy')\n",
    "bad = np.load(path + 'bad_A.npy')\n",
    "mf2 = np.load(path + 'phiMMFW2_A.npy')\n",
    "mr2 = np.load(path + 'phiMMRV2_A.npy')\n",
    "bad2 = np.load(path + 'bad2_A.npy')"
   ]
  },
  {
   "cell_type": "code",
   "execution_count": null,
   "metadata": {},
   "outputs": [],
   "source": []
  },
  {
   "cell_type": "code",
   "execution_count": null,
   "metadata": {},
   "outputs": [],
   "source": [
    "bad, bad2"
   ]
  },
  {
   "cell_type": "code",
   "execution_count": null,
   "metadata": {},
   "outputs": [],
   "source": []
  },
  {
   "cell_type": "code",
   "execution_count": null,
   "metadata": {},
   "outputs": [],
   "source": [
    "plt.figure(1)\n",
    "plt.clf()\n",
    "\n",
    "plt.subplot(211)\n",
    "ax = plt.gca()\n",
    "\n",
    "ax.plot(centers[group1].real, centers[group1].imag, 'ro')\n",
    "ax.axis('equal')\n",
    "for idx in group1:\n",
    "    c = plt.Circle((centers[idx].real, centers[idx].imag), radius[idx], color='g', fill=False)\n",
    "    ax.add_artist(c)\n",
    "ax.set_title(f'1st camera')\n",
    "\n",
    "plt.subplot(212)\n",
    "ax = plt.gca()\n",
    "\n",
    "ax.plot(centers[group2].real, centers[group2].imag, 'ro')\n",
    "ax.axis('equal')\n",
    "for idx in group2:\n",
    "    c = plt.Circle((centers[idx].real, centers[idx].imag), radius[idx], color='g', fill=False)\n",
    "    ax.add_artist(c)\n",
    "ax.set_title(f'2nd camera')\n",
    "\n",
    "plt.show()"
   ]
  },
  {
   "cell_type": "code",
   "execution_count": null,
   "metadata": {},
   "outputs": [],
   "source": [
    "%matplotlib osx\n",
    "plt.figure(2)\n",
    "plt.clf()\n",
    "\n",
    "plt.subplot(211)\n",
    "ax = plt.gca()\n",
    "ax.axis('equal')\n",
    "\n",
    "for n in range(1):\n",
    "    for k in group1:\n",
    "        if k % 3 == 0:\n",
    "            c = 'r'\n",
    "            d = 'c'\n",
    "        elif k % 3 == 1:\n",
    "            c = 'g'\n",
    "            d = 'm'\n",
    "        else:\n",
    "            c = 'b'\n",
    "            d = 'y'\n",
    "        ax.plot(fw[k][n,0].real, fw[k][n,0].imag, c + 'o')\n",
    "        ax.plot(rv[k][n,0].real, rv[k][n,0].imag, d + 's')\n",
    "        ax.plot(fw[k][n,1:].real, fw[k][n,1:].imag, c + '.')\n",
    "        ax.plot(rv[k][n,1:].real, rv[k][n,1:].imag, d + '.')\n",
    "\n",
    "plt.subplot(212)\n",
    "ax = plt.gca()\n",
    "ax.axis('equal')\n",
    "\n",
    "for n in range(1):\n",
    "    for k in group2:\n",
    "        if k % 3 == 0:\n",
    "            c = 'r'\n",
    "            d = 'c'\n",
    "        elif k % 3 == 1:\n",
    "            c = 'g'\n",
    "            d = 'm'\n",
    "        else:\n",
    "            c = 'b'\n",
    "            d = 'y'\n",
    "        ax.plot(fw[k][n,0].real, fw[k][n,0].imag, c + 'o')\n",
    "        ax.plot(rv[k][n,0].real, rv[k][n,0].imag, d + 's')\n",
    "        ax.plot(fw[k][n,1:].real, fw[k][n,1:].imag, c + '.')\n",
    "        ax.plot(rv[k][n,1:].real, rv[k][n,1:].imag, d + '.')\n",
    "\n",
    "plt.show()"
   ]
  },
  {
   "cell_type": "code",
   "execution_count": 12,
   "metadata": {},
   "outputs": [],
   "source": [
    "c = 4\n",
    "\n",
    "plt.figure(3)\n",
    "plt.clf()\n",
    "ax = plt.gca()\n",
    "ax.set_title(f'#{c}')\n",
    "for n in range(af.shape[1]):\n",
    "    ax.plot(af[c, n], '.')\n",
    "    ax.plot(ar[c, n], '.')"
   ]
  },
  {
   "cell_type": "code",
   "execution_count": null,
   "metadata": {
    "scrolled": true
   },
   "outputs": [],
   "source": [
    "%matplotlib osx\n",
    "c = 4\n",
    "\n",
    "plt.figure(4)\n",
    "plt.clf()\n",
    "ax = plt.gca()\n",
    "ax.set_title(f'#{c}')\n",
    "\n",
    "ax.plot(mf[c], 'r')\n",
    "ax.plot(mf2[c], 'y.')\n",
    "ax.plot(mr[c], 'g')\n",
    "ax.plot(mr2[c], 'b.')"
   ]
  },
  {
   "cell_type": "code",
   "execution_count": 34,
   "metadata": {},
   "outputs": [
    {
     "data": {
      "text/plain": [
       "(0, 200)"
      ]
     },
     "execution_count": 34,
     "metadata": {},
     "output_type": "execute_result"
    }
   ],
   "source": [
    "%matplotlib osx\n",
    "x=np.arange(112)*3.6\n",
    "c = 4\n",
    "\n",
    "plt.figure(4)\n",
    "plt.clf()\n",
    "ax = plt.gca()\n",
    "ax.set_title(f'#{c}')\n",
    "\n",
    "\n",
    "daf = np.zeros(len(af[c][0])-1)\n",
    "dar = np.zeros(len(ar[c][0])-1)\n",
    "\n",
    "\n",
    "\n",
    "for data in af[c]: \n",
    "    for i,item in enumerate(data):\n",
    "        if i < len(daf):\n",
    "            daf[i] = np.rad2deg(data[i+1] - data[i])/50.0\n",
    "            ax.plot([np.rad2deg(data[i+1]),np.rad2deg(data[i])],[daf[i],daf[i]],color='grey')\n",
    "ax.plot(x,np.rad2deg(mf[c]), 'r')        \n",
    "ax.plot(x,np.rad2deg(mf2[c]), 'pink')\n",
    "\n",
    "\n",
    "for data in ar[c]: \n",
    "    for i,item in enumerate(data):\n",
    "        if i < len(daf):\n",
    "            dar[i] = np.rad2deg(data[i+1] - data[i])/50.0\n",
    "            ax.plot([np.rad2deg(data[i+1]),np.rad2deg(data[i])],[dar[i],dar[i]],color='grey')\n",
    "ax.plot(x,-np.rad2deg(mr[c]), 'r')\n",
    "ax.plot(x,-np.rad2deg(mr2[c]), color='pink')\n",
    "ax.set_xlim([0,200])\n"
   ]
  },
  {
   "cell_type": "code",
   "execution_count": null,
   "metadata": {},
   "outputs": [],
   "source": [
    "for d in af[c][0]:\n",
    "    print(d)"
   ]
  },
  {
   "cell_type": "code",
   "execution_count": 9,
   "metadata": {},
   "outputs": [],
   "source": [
    "daf = np.zeros(len(af[c][0])-1)"
   ]
  },
  {
   "cell_type": "code",
   "execution_count": 17,
   "metadata": {},
   "outputs": [],
   "source": [
    "for i,item in enumerate(af[c][1]):\n",
    "    if i < len(daf):\n",
    "        daf[i] = np.rad2deg(af[c][0][i+1] - af[c][0][i])/50.0"
   ]
  },
  {
   "cell_type": "code",
   "execution_count": 18,
   "metadata": {},
   "outputs": [
    {
     "data": {
      "text/plain": [
       "array([ 7.44144506e-02,  7.34083535e-02,  7.74454317e-02,  8.01265031e-02,\n",
       "        7.02410600e-02,  7.30569457e-02,  6.35288867e-02,  6.70813211e-02,\n",
       "        7.29795660e-02,  7.78390539e-02,  8.20190214e-02,  9.90522170e-02,\n",
       "        1.13586198e-01,  1.21048850e-01,  1.10501921e-01,  9.69724341e-02,\n",
       "        9.05791175e-02,  8.43691603e-02,  8.83454837e-02,  8.20668630e-02,\n",
       "        7.96570213e-02,  7.83160819e-02,  9.79445810e-02,  1.16047087e-01,\n",
       "        1.23105536e-01,  1.20760323e-01,  1.13655881e-01,  1.08188021e-01,\n",
       "        7.13253536e-02,  5.62424926e-02,  4.59607880e-02,  4.65223122e-02,\n",
       "        3.52436404e-02,  3.64967077e-02,  4.33985426e-02,  4.54241559e-02,\n",
       "        5.16795825e-02,  5.18540664e-02,  6.04118609e-02,  5.55895643e-02,\n",
       "        5.58001361e-02,  6.49142952e-02,  5.72215811e-02,  6.66918975e-02,\n",
       "        5.90358972e-02,  7.96081314e-02,  8.94725353e-02,  8.77858381e-02,\n",
       "       -7.62912248e-03, -1.27233397e-03, -3.73852686e-04,  1.21144781e-04,\n",
       "        1.47250558e-05,  2.30745636e-04, -3.67941492e-05, -5.53922449e-05,\n",
       "        1.48296447e-05, -2.71453734e-04,  7.19387882e-05, -3.46489508e-04,\n",
       "       -9.77855722e-06,  6.24464663e-05, -2.69813276e-04,  2.70938042e-05,\n",
       "        7.72235194e-05,  4.27903055e-05,  4.52363175e-06, -4.31201726e-05,\n",
       "       -1.09726186e-04,  1.04993410e-05,  3.70774857e-05, -1.55998948e-04,\n",
       "       -7.55277429e-05,  1.03734749e-04, -2.35433586e-05,  2.15290024e-04,\n",
       "       -1.33313991e-04, -1.32219879e-05,  1.38046813e-04, -1.14280754e-04,\n",
       "        6.35059102e-05, -1.47031225e-04,  5.82131915e-04, -4.63327444e-04,\n",
       "       -9.67204082e-05, -1.18435056e-04,  1.10675219e-04, -1.66739478e-04,\n",
       "        4.68566882e-05, -7.78590013e-05, -2.16467325e-04, -8.72494542e-05,\n",
       "        1.44583601e-04,  1.33789668e-04, -2.04312684e-04,  1.35574490e-05,\n",
       "       -2.32676016e-04,  1.58722267e-04,  7.86573706e-06,  1.55131181e-04,\n",
       "       -2.45752709e-04,  2.39467682e-05,  6.05656098e-05, -4.81359900e-05,\n",
       "       -1.62650465e-04,  2.12245993e-04, -1.43611466e-04,  2.69881727e-05,\n",
       "        2.21140477e-04, -1.81857949e-04,  2.29445965e-04, -9.09296773e-05,\n",
       "       -6.98387412e-05,  9.00869135e-05, -2.12586806e-05, -2.89582579e-04,\n",
       "        2.59229784e-04, -9.34717331e-05,  2.82662885e-04,  3.30517397e-04,\n",
       "        3.72398834e-04, -2.54066482e-04,  5.11171911e-05, -1.86298173e-04,\n",
       "        1.95510818e-04,  8.16368092e-05, -1.86321186e-05,  4.25501709e-05,\n",
       "        2.07708535e-04, -4.73037492e-04, -2.33895562e-04,  3.84213047e-04,\n",
       "        3.06396271e-04, -1.77703065e-04, -9.10447030e-05, -1.22004359e-03,\n",
       "       -5.00802176e-04,  1.13738041e-03,  3.35496871e-04,  3.53779181e-04])"
      ]
     },
     "execution_count": 18,
     "metadata": {},
     "output_type": "execute_result"
    }
   ],
   "source": [
    "daf"
   ]
  },
  {
   "cell_type": "code",
   "execution_count": 11,
   "metadata": {},
   "outputs": [
    {
     "data": {
      "text/plain": [
       "array([ 7.44144506e-02,  7.34083535e-02,  7.74454317e-02,  8.01265031e-02,\n",
       "        7.02410600e-02,  7.30569457e-02,  6.35288867e-02,  6.70813211e-02,\n",
       "        7.29795660e-02,  7.78390539e-02,  8.20190214e-02,  9.90522170e-02,\n",
       "        1.13586198e-01,  1.21048850e-01,  1.10501921e-01,  9.69724341e-02,\n",
       "        9.05791175e-02,  8.43691603e-02,  8.83454837e-02,  8.20668630e-02,\n",
       "        7.96570213e-02,  7.83160819e-02,  9.79445810e-02,  1.16047087e-01,\n",
       "        1.23105536e-01,  1.20760323e-01,  1.13655881e-01,  1.08188021e-01,\n",
       "        7.13253536e-02,  5.62424926e-02,  4.59607880e-02,  4.65223122e-02,\n",
       "        3.52436404e-02,  3.64967077e-02,  4.33985426e-02,  4.54241559e-02,\n",
       "        5.16795825e-02,  5.18540664e-02,  6.04118609e-02,  5.55895643e-02,\n",
       "        5.58001361e-02,  6.49142952e-02,  5.72215811e-02,  6.66918975e-02,\n",
       "        5.90358972e-02,  7.96081314e-02,  8.94725353e-02,  8.77858381e-02,\n",
       "       -7.62912248e-03, -1.27233397e-03, -3.73852686e-04,  1.21144781e-04,\n",
       "        1.47250558e-05,  2.30745636e-04, -3.67941492e-05, -5.53922449e-05,\n",
       "        1.48296447e-05, -2.71453734e-04,  7.19387882e-05, -3.46489508e-04,\n",
       "       -9.77855722e-06,  6.24464663e-05, -2.69813276e-04,  2.70938042e-05,\n",
       "        7.72235194e-05,  4.27903055e-05,  4.52363175e-06, -4.31201726e-05,\n",
       "       -1.09726186e-04,  1.04993410e-05,  3.70774857e-05, -1.55998948e-04,\n",
       "       -7.55277429e-05,  1.03734749e-04, -2.35433586e-05,  2.15290024e-04,\n",
       "       -1.33313991e-04, -1.32219879e-05,  1.38046813e-04, -1.14280754e-04,\n",
       "        6.35059102e-05, -1.47031225e-04,  5.82131915e-04, -4.63327444e-04,\n",
       "       -9.67204082e-05, -1.18435056e-04,  1.10675219e-04, -1.66739478e-04,\n",
       "        4.68566882e-05, -7.78590013e-05, -2.16467325e-04, -8.72494542e-05,\n",
       "        1.44583601e-04,  1.33789668e-04, -2.04312684e-04,  1.35574490e-05,\n",
       "       -2.32676016e-04,  1.58722267e-04,  7.86573706e-06,  1.55131181e-04,\n",
       "       -2.45752709e-04,  2.39467682e-05,  6.05656098e-05, -4.81359900e-05,\n",
       "       -1.62650465e-04,  2.12245993e-04, -1.43611466e-04,  2.69881727e-05,\n",
       "        2.21140477e-04, -1.81857949e-04,  2.29445965e-04, -9.09296773e-05,\n",
       "       -6.98387412e-05,  9.00869135e-05, -2.12586806e-05, -2.89582579e-04,\n",
       "        2.59229784e-04, -9.34717331e-05,  2.82662885e-04,  3.30517397e-04,\n",
       "        3.72398834e-04, -2.54066482e-04,  5.11171911e-05, -1.86298173e-04,\n",
       "        1.95510818e-04,  8.16368092e-05, -1.86321186e-05,  4.25501709e-05,\n",
       "        2.07708535e-04, -4.73037492e-04, -2.33895562e-04,  3.84213047e-04,\n",
       "        3.06396271e-04, -1.77703065e-04, -9.10447030e-05, -1.22004359e-03,\n",
       "       -5.00802176e-04,  1.13738041e-03,  3.35496871e-04,  3.53779181e-04])"
      ]
     },
     "execution_count": 11,
     "metadata": {},
     "output_type": "execute_result"
    }
   ],
   "source": [
    "daf"
   ]
  },
  {
   "cell_type": "code",
   "execution_count": null,
   "metadata": {},
   "outputs": [],
   "source": []
  }
 ],
 "metadata": {
  "kernelspec": {
   "display_name": "Python 3",
   "language": "python",
   "name": "python3"
  },
  "language_info": {
   "codemirror_mode": {
    "name": "ipython",
    "version": 3
   },
   "file_extension": ".py",
   "mimetype": "text/x-python",
   "name": "python",
   "nbconvert_exporter": "python",
   "pygments_lexer": "ipython3",
   "version": "3.7.4"
  }
 },
 "nbformat": 4,
 "nbformat_minor": 2
}
