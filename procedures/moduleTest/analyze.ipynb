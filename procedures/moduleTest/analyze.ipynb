{
 "cells": [
  {
   "cell_type": "code",
   "execution_count": 1,
   "metadata": {},
   "outputs": [],
   "source": [
    "from astropy.io import fits\n",
    "from ics.cobraCharmer import pfiDesign\n",
    "import sep\n",
    "import numpy as np\n",
    "import moduleAnalyze\n",
    "import pathlib"
   ]
  },
  {
   "cell_type": "code",
   "execution_count": 2,
   "metadata": {},
   "outputs": [],
   "source": [
    "#xml = '/Users/cwen/MNT_AGC2/xml/spare2_new.xml'\n",
    "#xml = '/Volumes/GoogleDrive/My Drive/CobraData/20190610/spare2_phiOptim_20190610.xml'\n",
    "xml = pathlib.Path('/data/MCS/20191106_017/output/SC15_theta_H250.xml')\n",
    "brokens = [1,55]\n",
    "camSplit = 28"
   ]
  },
  {
   "cell_type": "code",
   "execution_count": 3,
   "metadata": {},
   "outputs": [
    {
     "name": "stderr",
     "output_type": "stream",
     "text": [
      "/home/pfs/Documents/cwen/ics_cobraCharmer/python/ics/cobraCharmer/pfiDesign.py:54: UserWarning: please use PFIDesign.loadModule() or PFIDesign.loadPFI()\n",
      "  warnings.warn('please use PFIDesign.loadModule() or PFIDesign.loadPFI()')\n"
     ]
    }
   ],
   "source": [
    "ana = moduleAnalyze.moduleAnalyze(xml, brokens, camSplit)"
   ]
  },
  {
   "cell_type": "code",
   "execution_count": null,
   "metadata": {},
   "outputs": [],
   "source": [
    "dataPath = '/Volumes/GoogleDrive/My Drive/CobraData/20190625/20190625phiv1'\n",
    "ana.convertXML('spare1_convert.xml', dataPath)"
   ]
  },
  {
   "cell_type": "code",
   "execution_count": null,
   "metadata": {},
   "outputs": [],
   "source": [
    "#dataPath = '/Volumes/GoogleDrive/My Drive/CobraData/20190610/'\n",
    "#dataPath = '/Volumes/GoogleDrive/My Drive/COBRA/ASRD/190516/phi/003/'\n",
    "dataPath = '/Volumes/GoogleDrive/My Drive/CobraData/20190625/20190625phiv1'\n",
    "#ana.makePhiMotorMap('spare2_0015.xml', dataPath, steps=50, phiOnTime=0.015)\n",
    "ana.makePhiMotorMap('spare1_wen.xml', dataPath, repeat=1, steps=250, fast=False, phiOnTime=0.03)"
   ]
  },
  {
   "cell_type": "code",
   "execution_count": null,
   "metadata": {},
   "outputs": [],
   "source": []
  },
  {
   "cell_type": "code",
   "execution_count": null,
   "metadata": {},
   "outputs": [],
   "source": []
  },
  {
   "cell_type": "code",
   "execution_count": null,
   "metadata": {},
   "outputs": [],
   "source": [
    "#dataPath = '/Volumes/GoogleDrive/My Drive/COBRA/ASRD/190516/theta/003/'\n",
    "dataPath = '/Volumes/GoogleDrive/My Drive/CobraData/20190618/20190618/0020/'\n",
    "ana.makeThetaMotorMap('spare2_wen.xml', dataPath, steps=200, thetaOnTime=0.02)"
   ]
  },
  {
   "cell_type": "code",
   "execution_count": null,
   "metadata": {},
   "outputs": [],
   "source": []
  },
  {
   "cell_type": "code",
   "execution_count": 4,
   "metadata": {},
   "outputs": [],
   "source": [
    "dataPath = '/home/pfs/Documents/cwen/ics_cobraCharmer/xml/'\n",
    "phiPath = '/data/MCS/20191108_036/data/'\n",
    "thetaPath = '/data/MCS/20191111_017/data/'\n",
    "ana.calculateGeometry('SC15_11.xml', dataPath, thetaPath, phiPath)"
   ]
  },
  {
   "cell_type": "code",
   "execution_count": null,
   "metadata": {},
   "outputs": [],
   "source": []
  },
  {
   "cell_type": "code",
   "execution_count": null,
   "metadata": {},
   "outputs": [],
   "source": []
  }
 ],
 "metadata": {
  "kernelspec": {
   "display_name": "Python 3",
   "language": "python",
   "name": "python3"
  },
  "language_info": {
   "codemirror_mode": {
    "name": "ipython",
    "version": 3
   },
   "file_extension": ".py",
   "mimetype": "text/x-python",
   "name": "python",
   "nbconvert_exporter": "python",
   "pygments_lexer": "ipython3",
   "version": "3.7.3"
  }
 },
 "nbformat": 4,
 "nbformat_minor": 2
}
