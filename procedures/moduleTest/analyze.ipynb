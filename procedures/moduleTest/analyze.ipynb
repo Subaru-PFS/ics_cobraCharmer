{
 "cells": [
  {
   "cell_type": "code",
   "execution_count": null,
   "metadata": {},
   "outputs": [],
   "source": [
    "from astropy.io import fits\n",
    "from ics.cobraCharmer import pfiDesign\n",
    "import sep\n",
    "import numpy as np\n",
    "import moduleAnalyze"
   ]
  },
  {
   "cell_type": "code",
   "execution_count": null,
   "metadata": {},
   "outputs": [],
   "source": [
    "xml = '/Users/cwen/MNT_AGC2/xml/spare2.xml'\n",
    "camSplit = 25\n",
    "brokens = []"
   ]
  },
  {
   "cell_type": "code",
   "execution_count": null,
   "metadata": {},
   "outputs": [],
   "source": [
    "ana = moduleAnalyze.moduleAnalyze(xml, brokens, camSplit)"
   ]
  },
  {
   "cell_type": "code",
   "execution_count": null,
   "metadata": {},
   "outputs": [],
   "source": [
    "dataPath = '/Volumes/GoogleDrive/My Drive/COBRA/ASRD/190516/phi/003/'\n",
    "ana.makePhiMotorMap('spare2_003.xml', dataPath, phiOnTime=0.03)"
   ]
  },
  {
   "cell_type": "code",
   "execution_count": null,
   "metadata": {},
   "outputs": [],
   "source": []
  },
  {
   "cell_type": "code",
   "execution_count": null,
   "metadata": {},
   "outputs": [],
   "source": [
    "dataPath = '/Volumes/GoogleDrive/My Drive/COBRA/ASRD/190516/theta/003/'\n",
    "ana.makeThetaMotorMap('spare2_003.xml', dataPath, steps=250, thetaOnTime=0.03)"
   ]
  },
  {
   "cell_type": "code",
   "execution_count": null,
   "metadata": {},
   "outputs": [],
   "source": []
  },
  {
   "cell_type": "code",
   "execution_count": null,
   "metadata": {},
   "outputs": [],
   "source": [
    "dataPath = '/Volumes/GoogleDrive/My Drive/COBRA/ASRD/190516/phi/003/'\n",
    "phiPath = '/Volumes/GoogleDrive/My Drive/COBRA/ASRD/190516/phi/003/'\n",
    "thetaPath = '/Volumes/GoogleDrive/My Drive/COBRA/ASRD/190516/theta/003/'\n",
    "ana.calculateGeometry('spare2_new.xml', dataPath, thetaPath, phiPath)"
   ]
  },
  {
   "cell_type": "code",
   "execution_count": null,
   "metadata": {},
   "outputs": [],
   "source": []
  },
  {
   "cell_type": "code",
   "execution_count": null,
   "metadata": {},
   "outputs": [],
   "source": []
  },
  {
   "cell_type": "code",
   "execution_count": null,
   "metadata": {},
   "outputs": [],
   "source": []
  }
 ],
 "metadata": {
  "kernelspec": {
   "display_name": "Python 3",
   "language": "python",
   "name": "python3"
  },
  "language_info": {
   "codemirror_mode": {
    "name": "ipython",
    "version": 3
   },
   "file_extension": ".py",
   "mimetype": "text/x-python",
   "name": "python",
   "nbconvert_exporter": "python",
   "pygments_lexer": "ipython3",
   "version": "3.6.5"
  }
 },
 "nbformat": 4,
 "nbformat_minor": 2
}
