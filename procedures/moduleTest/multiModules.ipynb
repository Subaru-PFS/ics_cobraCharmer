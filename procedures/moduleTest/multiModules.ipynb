{
 "cells": [
  {
   "cell_type": "code",
   "execution_count": 1,
   "metadata": {},
   "outputs": [],
   "source": [
    "from ics.cobraCharmer import pfi as pfiControl\n",
    "from ics.cobraCharmer import pfiDesign"
   ]
  },
  {
   "cell_type": "code",
   "execution_count": 3,
   "metadata": {},
   "outputs": [],
   "source": [
    "pfi = pfiControl.PFI(fpgaHost='fpga', doLoadModel=False, logDir='log')"
   ]
  },
  {
   "cell_type": "code",
   "execution_count": 4,
   "metadata": {},
   "outputs": [
    {
     "name": "stderr",
     "output_type": "stream",
     "text": [
      "2020-02-20T17:43:53.134 20 pfi        pfi.py:116 Board Counts: [4, 0, 0, 0, 0, 0]\n"
     ]
    }
   ],
   "source": [
    "pfi.diag()"
   ]
  },
  {
   "cell_type": "code",
   "execution_count": null,
   "metadata": {
    "scrolled": true
   },
   "outputs": [],
   "source": [
    "cob1 = pfi.getAllConnectedCobras()\n",
    "for c_i in range(len(cob1)):\n",
    "    print(cob1[c_i].module, cob1[c_i].board, cob1[c_i].cobra)"
   ]
  },
  {
   "cell_type": "code",
   "execution_count": 5,
   "metadata": {},
   "outputs": [
    {
     "name": "stderr",
     "output_type": "stream",
     "text": [
      "/home/pfs/mhs/devel/ics_cobraCharmer/python/ics/cobraCharmer/utils/butler.py:178: YAMLLoadWarning: calling yaml.load() without Loader=... is deprecated, as the default Loader is unsafe. Please read https://msg.pyyaml.org/load for full details.\n",
      "  config = yaml.load(yamlFile)\n"
     ]
    }
   ],
   "source": [
    "pfi.loadModel(None)"
   ]
  },
  {
   "cell_type": "code",
   "execution_count": 6,
   "metadata": {},
   "outputs": [
    {
     "name": "stdout",
     "output_type": "stream",
     "text": [
      "1 1 1\n",
      "1 2 1\n",
      "1 1 2\n",
      "1 2 2\n",
      "1 1 3\n",
      "1 2 3\n",
      "1 1 4\n",
      "1 2 4\n",
      "1 1 5\n",
      "1 2 5\n",
      "1 1 6\n",
      "1 2 6\n",
      "1 1 7\n",
      "1 2 7\n",
      "1 1 8\n",
      "1 2 8\n",
      "1 1 9\n",
      "1 2 9\n",
      "1 1 10\n",
      "1 2 10\n",
      "1 1 11\n",
      "1 2 11\n",
      "1 1 12\n",
      "1 2 12\n",
      "1 1 13\n",
      "1 2 13\n",
      "1 1 14\n",
      "1 2 14\n",
      "1 1 15\n",
      "1 2 15\n",
      "1 1 16\n",
      "1 2 16\n",
      "1 1 17\n",
      "1 2 17\n",
      "1 1 18\n",
      "1 2 18\n",
      "1 1 19\n",
      "1 2 19\n",
      "1 1 20\n",
      "1 2 20\n",
      "1 1 21\n",
      "1 2 21\n",
      "1 1 22\n",
      "1 2 22\n",
      "1 1 23\n",
      "1 2 23\n",
      "1 1 24\n",
      "1 2 24\n",
      "1 1 25\n",
      "1 2 25\n",
      "1 1 26\n",
      "1 2 26\n",
      "1 1 27\n",
      "1 2 27\n",
      "1 1 28\n",
      "1 2 28\n",
      "1 1 29\n",
      "2 3 1\n",
      "2 4 1\n",
      "2 3 2\n",
      "2 4 2\n",
      "2 3 3\n",
      "2 4 3\n",
      "2 3 4\n",
      "2 4 4\n",
      "2 3 5\n",
      "2 4 5\n",
      "2 3 6\n",
      "2 4 6\n",
      "2 3 7\n",
      "2 4 7\n",
      "2 3 8\n",
      "2 4 8\n",
      "2 3 9\n",
      "2 4 9\n",
      "2 3 10\n",
      "2 4 10\n",
      "2 3 11\n",
      "2 4 11\n",
      "2 3 12\n",
      "2 4 12\n",
      "2 3 13\n",
      "2 4 13\n",
      "2 3 14\n",
      "2 4 14\n",
      "2 3 15\n",
      "2 4 15\n",
      "2 3 16\n",
      "2 4 16\n",
      "2 3 17\n",
      "2 4 17\n",
      "2 3 18\n",
      "2 4 18\n",
      "2 3 19\n",
      "2 4 19\n",
      "2 3 20\n",
      "2 4 20\n",
      "2 3 21\n",
      "2 4 21\n",
      "2 3 22\n",
      "2 4 22\n",
      "2 3 23\n",
      "2 4 23\n",
      "2 3 24\n",
      "2 4 24\n",
      "2 3 25\n",
      "2 4 25\n",
      "2 3 26\n",
      "2 4 26\n",
      "2 3 27\n",
      "2 4 27\n",
      "2 3 28\n",
      "2 4 28\n",
      "2 3 29\n"
     ]
    }
   ],
   "source": [
    "cobras = pfi.getAllDefinedCobras()\n",
    "for c_i in range(len(cobras)):\n",
    "    print(cobras[c_i].module, cobras[c_i].board, cobras[c_i].cobra)"
   ]
  },
  {
   "cell_type": "code",
   "execution_count": 7,
   "metadata": {},
   "outputs": [],
   "source": [
    "pfi.setFreq()"
   ]
  },
  {
   "cell_type": "code",
   "execution_count": 8,
   "metadata": {},
   "outputs": [],
   "source": [
    "pfi.moveAllSteps(cobras[:57], 0, -50, thetaFast=True, phiFast=True)"
   ]
  },
  {
   "cell_type": "code",
   "execution_count": null,
   "metadata": {},
   "outputs": [],
   "source": [
    "pfi.moveAllSteps(cobras[57:], 0, -50, thetaFast=True, phiFast=True)"
   ]
  },
  {
   "cell_type": "code",
   "execution_count": 9,
   "metadata": {},
   "outputs": [
    {
     "name": "stderr",
     "output_type": "stream",
     "text": [
      "timed out (30.030 s) waiting for 6 bytes. Received 0 bytes: array('B')\n",
      "timed out (30.030 s) waiting for 6 bytes. Received 0 bytes: array('B')\n",
      "timed out (30.030 s) waiting for 6 bytes. Received 0 bytes: array('B')\n"
     ]
    },
    {
     "ename": "RuntimeError",
     "evalue": "timed out (30.030 s) waiting for 6 bytes. Received 0 bytes: array('B')",
     "output_type": "error",
     "traceback": [
      "\u001b[0;31m---------------------------------------------------------------------------\u001b[0m",
      "\u001b[0;31mtimeout\u001b[0m                                   Traceback (most recent call last)",
      "\u001b[0;32m~/mhs/devel/ics_cobraCharmer/python/ics/cobraCharmer/ethernet.py\u001b[0m in \u001b[0;36mrecv\u001b[0;34m(self, tgt_len, logger, type)\u001b[0m\n\u001b[1;32m     79\u001b[0m             \u001b[0;32mtry\u001b[0m\u001b[0;34m:\u001b[0m\u001b[0;34m\u001b[0m\u001b[0;34m\u001b[0m\u001b[0m\n\u001b[0;32m---> 80\u001b[0;31m                 \u001b[0mchunk\u001b[0m \u001b[0;34m=\u001b[0m \u001b[0mself\u001b[0m\u001b[0;34m.\u001b[0m\u001b[0m_s\u001b[0m\u001b[0;34m.\u001b[0m\u001b[0mrecv\u001b[0m\u001b[0;34m(\u001b[0m\u001b[0mremaining\u001b[0m\u001b[0;34m)\u001b[0m\u001b[0;34m\u001b[0m\u001b[0;34m\u001b[0m\u001b[0m\n\u001b[0m\u001b[1;32m     81\u001b[0m                 \u001b[0;32mif\u001b[0m \u001b[0mlogger\u001b[0m \u001b[0;32mis\u001b[0m \u001b[0;32mnot\u001b[0m \u001b[0;32mNone\u001b[0m\u001b[0;34m:\u001b[0m\u001b[0;34m\u001b[0m\u001b[0;34m\u001b[0m\u001b[0m\n",
      "\u001b[0;31mtimeout\u001b[0m: timed out",
      "\nDuring handling of the above exception, another exception occurred:\n",
      "\u001b[0;31mRuntimeError\u001b[0m                              Traceback (most recent call last)",
      "\u001b[0;32m<ipython-input-9-8ebf2c4fa28e>\u001b[0m in \u001b[0;36m<module>\u001b[0;34m\u001b[0m\n\u001b[0;32m----> 1\u001b[0;31m \u001b[0mpfi\u001b[0m\u001b[0;34m.\u001b[0m\u001b[0mmoveAllSteps\u001b[0m\u001b[0;34m(\u001b[0m\u001b[0mcobras\u001b[0m\u001b[0;34m[\u001b[0m\u001b[0;34m:\u001b[0m\u001b[0;36m73\u001b[0m\u001b[0;34m]\u001b[0m\u001b[0;34m,\u001b[0m \u001b[0;34m-\u001b[0m\u001b[0;36m10\u001b[0m\u001b[0;34m,\u001b[0m \u001b[0;34m-\u001b[0m\u001b[0;36m10\u001b[0m\u001b[0;34m,\u001b[0m \u001b[0mthetaFast\u001b[0m\u001b[0;34m=\u001b[0m\u001b[0;32mTrue\u001b[0m\u001b[0;34m,\u001b[0m \u001b[0mphiFast\u001b[0m\u001b[0;34m=\u001b[0m\u001b[0;32mTrue\u001b[0m\u001b[0;34m)\u001b[0m\u001b[0;34m\u001b[0m\u001b[0;34m\u001b[0m\u001b[0m\n\u001b[0m",
      "\u001b[0;32m~/mhs/devel/ics_cobraCharmer/python/ics/cobraCharmer/pfi.py\u001b[0m in \u001b[0;36mmoveAllSteps\u001b[0;34m(self, cobras, thetaSteps, phiSteps, thetaFast, phiFast)\u001b[0m\n\u001b[1;32m    267\u001b[0m         \u001b[0mphiAllSteps\u001b[0m \u001b[0;34m=\u001b[0m \u001b[0mnp\u001b[0m\u001b[0;34m.\u001b[0m\u001b[0mzeros\u001b[0m\u001b[0;34m(\u001b[0m\u001b[0mlen\u001b[0m\u001b[0;34m(\u001b[0m\u001b[0mcobras\u001b[0m\u001b[0;34m)\u001b[0m\u001b[0;34m)\u001b[0m \u001b[0;34m+\u001b[0m \u001b[0mphiSteps\u001b[0m\u001b[0;34m\u001b[0m\u001b[0;34m\u001b[0m\u001b[0m\n\u001b[1;32m    268\u001b[0m \u001b[0;34m\u001b[0m\u001b[0m\n\u001b[0;32m--> 269\u001b[0;31m         \u001b[0mself\u001b[0m\u001b[0;34m.\u001b[0m\u001b[0mmoveSteps\u001b[0m\u001b[0;34m(\u001b[0m\u001b[0mcobras\u001b[0m\u001b[0;34m,\u001b[0m \u001b[0mthetaAllSteps\u001b[0m\u001b[0;34m,\u001b[0m \u001b[0mphiAllSteps\u001b[0m\u001b[0;34m,\u001b[0m \u001b[0mthetaFast\u001b[0m\u001b[0;34m=\u001b[0m\u001b[0mthetaFast\u001b[0m\u001b[0;34m,\u001b[0m \u001b[0mphiFast\u001b[0m\u001b[0;34m=\u001b[0m\u001b[0mphiFast\u001b[0m\u001b[0;34m)\u001b[0m\u001b[0;34m\u001b[0m\u001b[0;34m\u001b[0m\u001b[0m\n\u001b[0m\u001b[1;32m    270\u001b[0m \u001b[0;34m\u001b[0m\u001b[0m\n\u001b[1;32m    271\u001b[0m     def moveThetaPhi(self, cobras, thetaMoves, phiMoves, thetaFroms=None, phiFroms=None,\n",
      "\u001b[0;32m~/mhs/devel/ics_cobraCharmer/python/ics/cobraCharmer/pfi.py\u001b[0m in \u001b[0;36mmoveSteps\u001b[0;34m(self, cobras, thetaSteps, phiSteps, waitThetaSteps, waitPhiSteps, interval, thetaFast, phiFast, force)\u001b[0m\n\u001b[1;32m    664\u001b[0m                                  dir=dirs1)\n\u001b[1;32m    665\u001b[0m         \u001b[0;31m# temperarily fix for interval and timeout\u001b[0m\u001b[0;34m\u001b[0m\u001b[0;34m\u001b[0m\u001b[0;34m\u001b[0m\u001b[0m\n\u001b[0;32m--> 666\u001b[0;31m         \u001b[0merr\u001b[0m \u001b[0;34m=\u001b[0m \u001b[0mfunc\u001b[0m\u001b[0;34m.\u001b[0m\u001b[0mRUN\u001b[0m\u001b[0;34m(\u001b[0m\u001b[0mcobras\u001b[0m\u001b[0;34m,\u001b[0m \u001b[0minter\u001b[0m\u001b[0;34m=\u001b[0m\u001b[0mint\u001b[0m\u001b[0;34m(\u001b[0m\u001b[0minterval\u001b[0m\u001b[0;34m*\u001b[0m\u001b[0;36m1000\u001b[0m\u001b[0;34m/\u001b[0m\u001b[0;36m16\u001b[0m\u001b[0;34m)\u001b[0m\u001b[0;34m,\u001b[0m \u001b[0mtimeout\u001b[0m\u001b[0;34m=\u001b[0m\u001b[0;36m65535\u001b[0m\u001b[0;34m)\u001b[0m\u001b[0;34m\u001b[0m\u001b[0;34m\u001b[0m\u001b[0m\n\u001b[0m\u001b[1;32m    667\u001b[0m         \u001b[0;32mif\u001b[0m \u001b[0merr\u001b[0m\u001b[0;34m:\u001b[0m\u001b[0;34m\u001b[0m\u001b[0;34m\u001b[0m\u001b[0m\n\u001b[1;32m    668\u001b[0m             \u001b[0mself\u001b[0m\u001b[0;34m.\u001b[0m\u001b[0mlogger\u001b[0m\u001b[0;34m.\u001b[0m\u001b[0merror\u001b[0m\u001b[0;34m(\u001b[0m\u001b[0;34mf'send RUN command failed'\u001b[0m\u001b[0;34m)\u001b[0m\u001b[0;34m\u001b[0m\u001b[0;34m\u001b[0m\u001b[0m\n",
      "\u001b[0;32m~/mhs/devel/ics_cobraCharmer/python/ics/cobraCharmer/func.py\u001b[0m in \u001b[0;36mRUN\u001b[0;34m(cobras, timeout, inter)\u001b[0m\n\u001b[1;32m    385\u001b[0m     \u001b[0merror\u001b[0m \u001b[0;34m=\u001b[0m \u001b[0;32mFalse\u001b[0m\u001b[0;34m\u001b[0m\u001b[0;34m\u001b[0m\u001b[0m\n\u001b[1;32m    386\u001b[0m     \u001b[0;32mfor\u001b[0m \u001b[0mi\u001b[0m \u001b[0;32min\u001b[0m \u001b[0mrange\u001b[0m\u001b[0;34m(\u001b[0m\u001b[0;36m2\u001b[0m\u001b[0;34m)\u001b[0m\u001b[0;34m:\u001b[0m\u001b[0;34m\u001b[0m\u001b[0;34m\u001b[0m\u001b[0m\n\u001b[0;32m--> 387\u001b[0;31m         \u001b[0mresp\u001b[0m \u001b[0;34m=\u001b[0m \u001b[0msock\u001b[0m\u001b[0;34m.\u001b[0m\u001b[0mrecv\u001b[0m\u001b[0;34m(\u001b[0m\u001b[0mTLM_LEN\u001b[0m\u001b[0;34m,\u001b[0m \u001b[0meth_hex_logger\u001b[0m\u001b[0;34m,\u001b[0m \u001b[0;34m'h'\u001b[0m\u001b[0;34m)\u001b[0m\u001b[0;34m\u001b[0m\u001b[0;34m\u001b[0m\u001b[0m\n\u001b[0m\u001b[1;32m    388\u001b[0m         \u001b[0merror\u001b[0m \u001b[0;34m|=\u001b[0m \u001b[0mtlm_chk\u001b[0m\u001b[0;34m(\u001b[0m\u001b[0mresp\u001b[0m\u001b[0;34m)\u001b[0m\u001b[0;34m\u001b[0m\u001b[0;34m\u001b[0m\u001b[0m\n\u001b[1;32m    389\u001b[0m     \u001b[0;32mreturn\u001b[0m \u001b[0merror\u001b[0m\u001b[0;34m\u001b[0m\u001b[0;34m\u001b[0m\u001b[0m\n",
      "\u001b[0;32m~/mhs/devel/ics_cobraCharmer/python/ics/cobraCharmer/ethernet.py\u001b[0m in \u001b[0;36mrecv\u001b[0;34m(self, tgt_len, logger, type)\u001b[0m\n\u001b[1;32m     87\u001b[0m                                                                                               msg)\n\u001b[1;32m     88\u001b[0m                 \u001b[0;32mif\u001b[0m \u001b[0mretry\u001b[0m \u001b[0;34m>=\u001b[0m \u001b[0mmaxRetries\u001b[0m\u001b[0;34m:\u001b[0m\u001b[0;34m\u001b[0m\u001b[0;34m\u001b[0m\u001b[0m\n\u001b[0;32m---> 89\u001b[0;31m                     \u001b[0;32mraise\u001b[0m \u001b[0mRuntimeError\u001b[0m\u001b[0;34m(\u001b[0m\u001b[0merrMsg\u001b[0m\u001b[0;34m)\u001b[0m\u001b[0;34m\u001b[0m\u001b[0;34m\u001b[0m\u001b[0m\n\u001b[0m\u001b[1;32m     90\u001b[0m                 \u001b[0;32melse\u001b[0m\u001b[0;34m:\u001b[0m\u001b[0;34m\u001b[0m\u001b[0;34m\u001b[0m\u001b[0m\n\u001b[1;32m     91\u001b[0m                     \u001b[0;32mif\u001b[0m \u001b[0mlogger\u001b[0m \u001b[0;32mis\u001b[0m \u001b[0;32mnot\u001b[0m \u001b[0;32mNone\u001b[0m\u001b[0;34m:\u001b[0m\u001b[0;34m\u001b[0m\u001b[0;34m\u001b[0m\u001b[0m\n",
      "\u001b[0;31mRuntimeError\u001b[0m: timed out (30.030 s) waiting for 6 bytes. Received 0 bytes: array('B')"
     ]
    }
   ],
   "source": [
    "pfi.moveAllSteps(cobras[:73], -10, -10, thetaFast=True, phiFast=True)"
   ]
  },
  {
   "cell_type": "code",
   "execution_count": null,
   "metadata": {},
   "outputs": [],
   "source": []
  },
  {
   "cell_type": "code",
   "execution_count": null,
   "metadata": {},
   "outputs": [],
   "source": []
  },
  {
   "cell_type": "code",
   "execution_count": null,
   "metadata": {},
   "outputs": [],
   "source": []
  },
  {
   "cell_type": "code",
   "execution_count": null,
   "metadata": {},
   "outputs": [],
   "source": []
  },
  {
   "cell_type": "code",
   "execution_count": null,
   "metadata": {},
   "outputs": [],
   "source": []
  },
  {
   "cell_type": "code",
   "execution_count": null,
   "metadata": {},
   "outputs": [],
   "source": []
  },
  {
   "cell_type": "code",
   "execution_count": null,
   "metadata": {},
   "outputs": [],
   "source": [
    "len(cobras)"
   ]
  },
  {
   "cell_type": "code",
   "execution_count": null,
   "metadata": {},
   "outputs": [],
   "source": []
  }
 ],
 "metadata": {
  "kernelspec": {
   "display_name": "Python 3",
   "language": "python",
   "name": "python3"
  },
  "language_info": {
   "codemirror_mode": {
    "name": "ipython",
    "version": 3
   },
   "file_extension": ".py",
   "mimetype": "text/x-python",
   "name": "python",
   "nbconvert_exporter": "python",
   "pygments_lexer": "ipython3",
   "version": "3.7.4"
  }
 },
 "nbformat": 4,
 "nbformat_minor": 2
}
