{
 "cells": [
  {
   "cell_type": "code",
   "execution_count": 1,
   "metadata": {},
   "outputs": [],
   "source": [
    "from cobraCoach import CobraCoach\n",
    "import pathlib\n",
    "import numpy as np\n",
    "import logging\n",
    "import engineer as eng"
   ]
  },
  {
   "cell_type": "code",
   "execution_count": 2,
   "metadata": {},
   "outputs": [
    {
     "name": "stderr",
     "output_type": "stream",
     "text": [
      "/home/cwen/mhs/devel/ics_cobraCharmer/python/ics/cobraCharmer/utils/butler.py:178: YAMLLoadWarning: calling yaml.load() without Loader=... is deprecated, as the default Loader is unsafe. Please read https://msg.pyyaml.org/load for full details.\n",
      "  config = yaml.load(yamlFile)\n",
      "2021-02-05 15:36:12.122Z cobraCoach       30 cobraCoach.py:142 setting invisible cobras: [1, 39, 43, 54]\n",
      "2021-02-05 15:36:12.123Z cobraCoach       30 cobraCoach.py:153 setting bad cobras: [1, 39, 43, 54]\n",
      "2021-02-05 15:36:12.128Z butler           30 butler.py:58 newRun: /data/MCS/20210205_006\n"
     ]
    }
   ],
   "source": [
    "mod = 'SP01'\n",
    "cc = CobraCoach('fpga', loadModel=False, trajectoryMode=True)\n",
    "cc.loadModel(version=mod, moduleVersion=None)\n",
    "eng.setCobraCoach(cc)"
   ]
  },
  {
   "cell_type": "code",
   "execution_count": 3,
   "metadata": {},
   "outputs": [],
   "source": [
    "mmTheta = np.load('/home/cwen/mhs/devel/ics_cobraCharmer/procedures/moduleTest/SP01_mmThetaFast5.npy')\n",
    "mmPhi = np.load('/home/cwen/mhs/devel/ics_cobraCharmer/procedures/moduleTest/SP01_mmPhiFast5.npy')\n",
    "mmThetaSlow = np.load('/home/cwen/mhs/devel/ics_cobraCharmer/procedures/moduleTest/SP01_mmThetaSlow.npy')\n",
    "mmPhiSlow = np.load('/home/cwen/mhs/devel/ics_cobraCharmer/procedures/moduleTest/SP01_mmPhiSlow.npy')\n",
    "eng.setConstantSpeedMaps(mmTheta, mmPhi, mmThetaSlow, mmPhiSlow)"
   ]
  },
  {
   "cell_type": "code",
   "execution_count": null,
   "metadata": {},
   "outputs": [],
   "source": []
  },
  {
   "cell_type": "code",
   "execution_count": null,
   "metadata": {},
   "outputs": [],
   "source": [
    "eng.setConstantOntimeMode(maxSteps=3000)"
   ]
  },
  {
   "cell_type": "code",
   "execution_count": 4,
   "metadata": {},
   "outputs": [],
   "source": [
    "eng.setConstantSpeedMode(maxSegments=10, maxSteps=100)"
   ]
  },
  {
   "cell_type": "code",
   "execution_count": null,
   "metadata": {},
   "outputs": [],
   "source": []
  },
  {
   "cell_type": "code",
   "execution_count": 5,
   "metadata": {},
   "outputs": [
    {
     "name": "stderr",
     "output_type": "stream",
     "text": [
      "2021-02-05 15:36:19.840Z pfi              40 pfi.py:865 Some phi angles are out of range\n",
      "2021-02-05 15:36:19.842Z engineer         20 engineer.py:353 Move theta arms to angle=[225. 225. 225. 225. 225. 225. 225. 225. 225. 225. 225. 225. 225. 225.\n",
      " 225. 225. 225. 225. 225. 225. 225. 225. 225. 225. 225. 225. 225. 225.\n",
      " 225. 225. 225. 225. 225. 225. 225. 225. 225. 225. 225. 225. 225. 225.\n",
      " 225. 225. 225. 225. 225. 225. 225. 225. 225. 225. 225.] degree\n",
      "2021-02-05 15:36:19.843Z engineer         20 engineer.py:354 Move phi arms to angle=[45.71 66.48 64.51 69.08 66.79 67.03 66.04 64.61 66.57 69.4  61.74 61.71\n",
      " 26.91 64.27 63.77 68.34 72.52 64.22 67.45 71.76 62.96 60.93 59.38 74.49\n",
      " 62.05 70.14 59.89 65.66 66.85 65.1  73.95 64.52 68.83 69.9  68.04 70.84\n",
      " 45.18 40.93 65.62 60.84 67.87 64.24 65.84 69.14 70.12 65.79 68.57 63.91\n",
      " 66.92 66.87 66.06 67.89 71.73] degree\n",
      "2021-02-05 15:36:19.843Z engineer         20 engineer.py:359 Move theta arms CW and phi arms CCW to the hard stops\n",
      "2021-02-05 15:36:19.844Z cobraCoach       20 cobraCoach.py:875 home cobras: theta=10000, phi=-5000\n",
      "2021-02-05 15:36:19.945Z pfi              40 pfi.py:865 Some phi angles are out of range\n",
      "2021-02-05 15:36:19.948Z engineer         20 engineer.py:390 done: [ 1  2  3  4  5  6  7  8  9 10 11 12 13 14 15 16 17 18 19 20 21 22 23 24\n",
      " 25 26 27 28 29 30 31 32 33 34 35 36 37 39 40 41 43 44 45 46 47 48 49 50\n",
      " 51 52 54 55 56], 0 left\n",
      "2021-02-05 15:36:19.949Z engineer         20 engineer.py:392 all cobras are in positions\n",
      "2021-02-05 15:36:19.950Z pfi              40 pfi.py:865 Some phi angles are out of range\n",
      "2021-02-05 15:36:19.951Z engineer         20 engineer.py:353 Move theta arms to angle=[180. 180. 180. 180. 180. 180. 180. 180. 180. 180. 180. 180. 180. 180.\n",
      " 180. 180. 180. 180. 180. 180. 180. 180. 180. 180. 180. 180. 180. 180.\n",
      " 180. 180. 180. 180. 180. 180. 180. 180. 180. 180. 180. 180. 180. 180.\n",
      " 180. 180. 180. 180. 180. 180. 180. 180. 180. 180. 180.] degree\n",
      "2021-02-05 15:36:19.951Z engineer         20 engineer.py:354 Move phi arms to angle=[135.71 156.48 154.51 159.08 156.79 157.03 156.04 154.61 156.57 159.4\n",
      " 151.74 151.71 116.91 154.27 153.77 158.34 162.52 154.22 157.45 161.76\n",
      " 152.96 150.93 149.38 164.49 152.05 160.14 149.89 155.66 156.85 155.1\n",
      " 163.95 154.52 158.83 159.9  158.04 160.84 135.18 130.93 155.62 150.84\n",
      " 157.87 154.24 155.84 159.14 160.12 155.79 158.57 153.91 156.92 156.87\n",
      " 156.06 157.89 161.73] degree\n",
      "2021-02-05 15:36:20.025Z pfi              40 pfi.py:865 Some phi angles are out of range\n",
      "2021-02-05 15:36:20.028Z engineer         20 engineer.py:390 done: [ 1  2  3  4  5  6  7  8  9 10 11 12 13 14 15 16 17 18 19 20 21 22 23 24\n",
      " 25 26 27 28 29 30 31 32 33 34 35 36 37 39 40 41 43 44 45 46 47 48 49 50\n",
      " 51 52 54 55 56], 0 left\n",
      "2021-02-05 15:36:20.029Z engineer         20 engineer.py:392 all cobras are in positions\n"
     ]
    }
   ],
   "source": [
    "size = len(cc.goodIdx)\n",
    "thetas = np.full(size, np.pi)\n",
    "phis = np.pi*5/6 - (cc.calibModel.phiIn[cc.goodIdx] + np.pi)\n",
    "traj, moves = eng.createTrajectory(cc.goodIdx, thetas, phis, tries=8, twoSteps=True, threshold=20.0, timeStep=20)"
   ]
  },
  {
   "cell_type": "code",
   "execution_count": 6,
   "metadata": {},
   "outputs": [
    {
     "name": "stdout",
     "output_type": "stream",
     "text": [
      "[(3880.54077148+973.1685791j , 3.9282367, -1310, 0.05590532,  True, 0.46919593, 211, 0.02121934,  True)\n",
      " (   0.          +0.j        , 0.       ,     0, 0.        , False, 0.        ,   0, 0.        , False)\n",
      " (3902.40771484+957.16949463j, 3.1423528,  -719, 0.03803571, False, 2.0389476 , 767, 0.02233886,  True)\n",
      " (   0.          +0.j        , 0.       ,     0, 0.        , False, 0.        ,   0, 0.        , False)\n",
      " (   0.          +0.j        , 0.       ,     0, 0.        , False, 0.        ,   0, 0.        , False)\n",
      " (   0.          +0.j        , 0.       ,     0, 0.        , False, 0.        ,   0, 0.        , False)\n",
      " (   0.          +0.j        , 0.       ,     0, 0.        , False, 0.        ,   0, 0.        , False)\n",
      " (   0.          +0.j        , 0.       ,     0, 0.        , False, 0.        ,   0, 0.        , False)]\n",
      "===== move 1 =====\n",
      "[6.66243267 6.66243267 6.66243267 6.66243267 6.66243267 6.64387261\n",
      " 6.60283754 6.56180248 6.52076741 6.47973235 6.43869728 6.39609958\n",
      " 6.35350187 6.31090416 6.26830645 6.22570875 6.18562707 6.1455454\n",
      " 6.10546372 6.06538205 6.02530038 5.98437711 5.94345385 5.90253058\n",
      " 5.86160732 5.82068406 5.778493   5.73630195 5.69411089 5.65191984\n",
      " 5.60972878 5.56719979 5.52467079 5.4821418  5.43961281 5.39708381\n",
      " 5.35480822 5.31253263 5.27025704 5.22798145 5.18570586 5.1437098\n",
      " 5.10171374 5.05971768 5.01772162 4.97572556 4.93339865 4.89107173\n",
      " 4.84874481 4.8064179  4.76409098 4.72249471 4.68089844 4.63930217\n",
      " 4.5977059  4.55610963 4.51537217 4.47463471 4.43389725 4.39315979\n",
      " 4.35242233 4.30945353 4.26648472 4.22351592 4.18054712 4.13757832\n",
      " 4.09570999 4.05384165 4.01197332 3.97010499 3.92823665] [0.         0.         0.         0.         0.         0.02222055\n",
      " 0.02222055 0.02222055 0.02222055 0.02222055 0.02222055 0.02222055\n",
      " 0.02222055 0.02222055 0.02222055 0.02222055 0.02222055 0.02222055\n",
      " 0.02222055 0.02222055 0.02222055 0.02222055 0.02222055 0.02222055\n",
      " 0.02222055 0.02222055 0.02222055 0.02222055 0.02222055 0.02222055\n",
      " 0.02222055 0.02222055 0.02222055 0.02222055 0.02222055 0.02222055\n",
      " 0.02222055 0.02222055 0.02222055 0.02222055 0.02222055 0.02222055\n",
      " 0.02222055 0.02222055 0.02222055 0.02222055 0.02222055 0.02222055\n",
      " 0.02222055 0.02222055 0.02222055 0.02222055 0.02222055 0.02222055\n",
      " 0.02222055 0.02222055 0.02222055 0.02222055 0.02222055 0.02222055\n",
      " 0.02444261 0.07126553 0.11808845 0.16491137 0.2117343  0.25855722\n",
      " 0.30068496 0.3428127  0.38494045 0.42706819 0.46919593]\n",
      "===== move 2 =====\n",
      "[3.92823672 3.92823672 3.92823672 3.92823672 3.91463514 3.90835749\n",
      " 3.88651544 3.8646734  3.84283135 3.82098931 3.79914726 3.77736929\n",
      " 3.75559133 3.73381336 3.71203539 3.69025742 3.66831647 3.64637552\n",
      " 3.62443457 3.60249362 3.58055266 3.55839218 3.5362317  3.51407122\n",
      " 3.49191074 3.46975026 3.44734162 3.42493298 3.40252434 3.38011571\n",
      " 3.35770707 3.33601582 3.31432457 3.29263332 3.27094207 3.24925082\n",
      " 3.22787124 3.20649166 3.18511208 3.1637325  3.14235292] [0.46919593 0.47108338 0.50883234 0.5465813  0.58433025 0.59565494\n",
      " 0.6328425  0.67003005 0.7072176  0.74440516 0.78159271 0.82514372\n",
      " 0.86869473 0.91224574 0.95579675 0.99934776 1.04816139 1.09697503\n",
      " 1.14578866 1.19460229 1.24341593 1.28727669 1.33113744 1.3749982\n",
      " 1.41885896 1.46271972 1.50224805 1.54177639 1.58130473 1.62083307\n",
      " 1.66036141 1.70017706 1.73999272 1.77980837 1.81962403 1.85943969\n",
      " 1.89534129 1.93124289 1.96714449 2.00304609 2.03894769]\n"
     ]
    }
   ],
   "source": [
    "trajectory = traj.movements\n",
    "c = 12\n",
    "d = cc.goodIdx[c]\n",
    "print(moves[c])\n",
    "for m in range(len(trajectory)):\n",
    "    print(f'===== move {m+1} =====')\n",
    "    print(trajectory[m][0][d], trajectory[m][1][d])"
   ]
  },
  {
   "cell_type": "code",
   "execution_count": null,
   "metadata": {},
   "outputs": [],
   "source": []
  },
  {
   "cell_type": "code",
   "execution_count": 7,
   "metadata": {
    "scrolled": false
   },
   "outputs": [
    {
     "name": "stdout",
     "output_type": "stream",
     "text": [
      "===== move 1:2 =====\n",
      "[ 0.         -0.00000355 -0.00000101  0.00000015  0.0000058  -0.00000316\n",
      "  0.00000231  0.00000613  0.00000438  0.00000099  0.00000199  0.00000312\n",
      " -0.00000117 -0.00000392 -0.00000584 -0.00000334 -0.00000448 -0.00000224\n",
      "  0.00000459 -0.00000628 -0.00000243 -0.00000059  0.00000648  0.00000133\n",
      "  0.00000009  0.00000632 -0.00000603 -0.00000192 -0.00000595 -0.00000112\n",
      "  0.00000523 -0.00000321  0.00000187 -0.00000532 -0.00000544 -0.00000267\n",
      "  0.00000011  0.0000001   0.         -0.00000579  0.0000028  -0.00000374\n",
      "  0.          0.00000656 -0.0000064   0.00000528 -0.0000022   0.00000303\n",
      "  0.00000293  0.00000121 -0.00000285 -0.00000164  0.00000352  0.\n",
      "  0.00000562  0.00000326 -0.00000229]\n",
      "[ 0.          0.00000137  0.00000257  0.0000021   0.00000089 -0.00000235\n",
      "  0.00000051  0.00000243 -0.00000025 -0.00000287  0.00000296  0.00000043\n",
      "  0.00000307  0.00000013 -0.00000273  0.0000034   0.00000219  0.00000235\n",
      " -0.00000291  0.00000249  0.000003    0.00000185 -0.00000139 -0.00000263\n",
      "  0.00000193  0.00000282  0.00000037  0.00000277  0.00000301 -0.00000099\n",
      "  0.00000048 -0.00000095 -0.00000024  0.00000016 -0.00000265  0.00000088\n",
      " -0.00000301  0.00000015  0.         -0.00000051 -0.00000017  0.00000267\n",
      "  0.         -0.00000181  0.00000197  0.00000303  0.00000157  0.00000031\n",
      "  0.00000327 -0.00000141 -0.00000196 -0.00000267 -0.00000243  0.\n",
      "  0.00000192  0.00000023 -0.0000033 ]\n"
     ]
    }
   ],
   "source": [
    "np.set_printoptions(suppress=True)\n",
    "for m in range(len(trajectory)-1):\n",
    "    print(f'===== move {m+1}:{m+2} =====')\n",
    "    print(np.rad2deg(trajectory[m][0][:,-1] - trajectory[m+1][0][:,0]))\n",
    "    print(np.rad2deg(trajectory[m][1][:,-1] - trajectory[m+1][1][:,0]))"
   ]
  },
  {
   "cell_type": "code",
   "execution_count": null,
   "metadata": {},
   "outputs": [],
   "source": []
  }
 ],
 "metadata": {
  "kernelspec": {
   "display_name": "Python 3",
   "language": "python",
   "name": "python3"
  },
  "language_info": {
   "codemirror_mode": {
    "name": "ipython",
    "version": 3
   },
   "file_extension": ".py",
   "mimetype": "text/x-python",
   "name": "python",
   "nbconvert_exporter": "python",
   "pygments_lexer": "ipython3",
   "version": "3.7.3"
  }
 },
 "nbformat": 4,
 "nbformat_minor": 2
}
