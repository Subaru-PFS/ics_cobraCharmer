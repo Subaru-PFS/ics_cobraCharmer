{
 "cells": [
  {
   "cell_type": "code",
   "execution_count": null,
   "metadata": {},
   "outputs": [],
   "source": [
    "from cobraCoach import CobraCoach\n",
    "import pathlib\n",
    "import numpy as np\n",
    "import logging\n",
    "import engineer as eng"
   ]
  },
  {
   "cell_type": "code",
   "execution_count": null,
   "metadata": {},
   "outputs": [],
   "source": [
    "cc = CobraCoach('fpga', loadModel=False)\n",
    "cc.loadModel(version='SC32', moduleVersion=3)\n",
    "eng.setCobraCoach(cc)"
   ]
  },
  {
   "cell_type": "code",
   "execution_count": null,
   "metadata": {},
   "outputs": [],
   "source": []
  },
  {
   "cell_type": "code",
   "execution_count": null,
   "metadata": {
    "scrolled": true
   },
   "outputs": [],
   "source": [
    "# update center positions from home, not accurately\n",
    "eng.convertXML('SC32_init.xml')"
   ]
  },
  {
   "cell_type": "code",
   "execution_count": null,
   "metadata": {
    "scrolled": true
   },
   "outputs": [],
   "source": [
    "cc.showStatus()"
   ]
  },
  {
   "cell_type": "code",
   "execution_count": null,
   "metadata": {},
   "outputs": [],
   "source": []
  },
  {
   "cell_type": "code",
   "execution_count": null,
   "metadata": {},
   "outputs": [],
   "source": [
    "# enable motor scaling and set parameters\n",
    "cc.setScaling(True, thetaScaleFactor=2.0, phiScaleFactor=2.0, minThetaSteps=10, minPhiSteps=10)"
   ]
  },
  {
   "cell_type": "code",
   "execution_count": null,
   "metadata": {},
   "outputs": [],
   "source": [
    "# reset motor scaling\n",
    "cc.pfi.resetMotorScaling()"
   ]
  },
  {
   "cell_type": "code",
   "execution_count": null,
   "metadata": {},
   "outputs": [],
   "source": []
  },
  {
   "cell_type": "code",
   "execution_count": null,
   "metadata": {},
   "outputs": [],
   "source": [
    "# switch to phi mode\n",
    "eng.setPhiMode()"
   ]
  },
  {
   "cell_type": "code",
   "execution_count": null,
   "metadata": {
    "scrolled": true
   },
   "outputs": [],
   "source": [
    "# generate a quick motormap and set geometry\n",
    "eng.makePhiMotorMaps('phi150.xml', steps=150, totalSteps=6000, repeat=1)"
   ]
  },
  {
   "cell_type": "code",
   "execution_count": null,
   "metadata": {},
   "outputs": [],
   "source": [
    "# set phi geometry from previous run\n",
    "cc.setPhiGeometryFromRun('/data/MCS/20200520_045', onlyIfClear=False)"
   ]
  },
  {
   "cell_type": "code",
   "execution_count": null,
   "metadata": {},
   "outputs": [],
   "source": [
    "# move phi to home position\n",
    "cc.moveToHome(cc.goodCobras, phiEnable=True)"
   ]
  },
  {
   "cell_type": "code",
   "execution_count": null,
   "metadata": {},
   "outputs": [],
   "source": []
  },
  {
   "cell_type": "code",
   "execution_count": null,
   "metadata": {
    "scrolled": true
   },
   "outputs": [],
   "source": [
    "# phi on time search\n",
    "eng.phiOnTimeSearch('SC32_phi_search.xml', iteration=3, repeat=3)"
   ]
  },
  {
   "cell_type": "code",
   "execution_count": null,
   "metadata": {},
   "outputs": [],
   "source": [
    "# generate new motormaps\n",
    "eng.makePhiMotorMaps('SC32_phi800.xml', steps=800, totalSteps=8000, repeat=3)\n",
    "eng.makePhiMotorMaps('SC32_phi500.xml', steps=500, totalSteps=8000, repeat=3)\n",
    "eng.makePhiMotorMaps('SC32_phi200.xml', steps=200, totalSteps=8000, repeat=3)\n",
    "eng.makePhiMotorMaps('SC32_phi100.xml', steps=100, totalSteps=8000, repeat=3)\n",
    "eng.makePhiMotorMaps('SC32_phi50.xml', steps=50, totalSteps=8000, repeat=3)\n",
    "eng.makePhiMotorMaps('SC32_phi20.xml', steps=20, totalSteps=8000, repeat=3)\n",
    "eng.makePhiMotorMaps('SC32_phi10.xml', steps=10, totalSteps=8000, repeat=3)\n",
    "eng.makePhiMotorMaps('SC32_phi5.xml', steps=5, totalSteps=6000, repeat=3)"
   ]
  },
  {
   "cell_type": "code",
   "execution_count": null,
   "metadata": {
    "scrolled": true
   },
   "outputs": [],
   "source": [
    "# mvoe phi by angles\n",
    "dataPath, diffAngles, moves = eng.movePhiAngles(cc.goodIdx, np.deg2rad(165), relative=False, local=True, tolerance=0.002, tries=6, fast=False, newDir=True)"
   ]
  },
  {
   "cell_type": "code",
   "execution_count": null,
   "metadata": {},
   "outputs": [],
   "source": [
    "# move by a angle\n",
    "dataPath, diffAngles, moves = eng.movePhiAngles(cc.goodIdx, np.deg2rad(90), relative=False, local=True, tolerance=0.002, tries=6, fast=False, newDir=True)"
   ]
  },
  {
   "cell_type": "code",
   "execution_count": null,
   "metadata": {
    "scrolled": true
   },
   "outputs": [],
   "source": [
    "# convergence test\n",
    "moves = eng.phiConvergenceTest(cc.goodIdx, margin=15.0, runs=2, tries=8, fast=False, tolerance=0.1)"
   ]
  },
  {
   "cell_type": "code",
   "execution_count": null,
   "metadata": {
    "scrolled": true
   },
   "outputs": [],
   "source": [
    "# move phi to 60 degree for theta test\n",
    "dataPath, diffAngles, moves = eng.movePhiAngles(cc.goodIdx, np.pi/3, relative=False, local=False, tolerance=0.002, tries=6, fast=False, newDir=True)"
   ]
  },
  {
   "cell_type": "code",
   "execution_count": null,
   "metadata": {},
   "outputs": [],
   "source": []
  },
  {
   "cell_type": "code",
   "execution_count": null,
   "metadata": {},
   "outputs": [],
   "source": []
  },
  {
   "cell_type": "code",
   "execution_count": null,
   "metadata": {
    "scrolled": true
   },
   "outputs": [],
   "source": [
    "# move phi arms to 60 degree (relative to theta arms) in phi mode\n",
    "eng.movePhiAngles(cc.goodIdx, np.pi/3, local=False)"
   ]
  },
  {
   "cell_type": "code",
   "execution_count": null,
   "metadata": {},
   "outputs": [],
   "source": []
  },
  {
   "cell_type": "code",
   "execution_count": null,
   "metadata": {},
   "outputs": [],
   "source": [
    "# swtich to theta mode\n",
    "eng.setThetaMode()"
   ]
  },
  {
   "cell_type": "code",
   "execution_count": null,
   "metadata": {
    "scrolled": true
   },
   "outputs": [],
   "source": [
    "# generate a quick motormap and set geometry\n",
    "eng.makeThetaMotorMaps('theta250.xml', steps=250, totalSteps=10000, repeat=1)"
   ]
  },
  {
   "cell_type": "code",
   "execution_count": null,
   "metadata": {},
   "outputs": [],
   "source": [
    "# set theta geometry from previous run\n",
    "cc.setThetaGeometryFromRun('/data/MCS/20200504_019', onlyIfClear=False)"
   ]
  },
  {
   "cell_type": "code",
   "execution_count": null,
   "metadata": {},
   "outputs": [],
   "source": [
    "# move theta to home position\n",
    "cc.moveToHome(cc.goodCobras, thetaEnable=True)"
   ]
  },
  {
   "cell_type": "code",
   "execution_count": null,
   "metadata": {},
   "outputs": [],
   "source": [
    "# set current angle to zeros, if you know\n",
    "cc.setCurrentAngles(cc.goodCobras, thetaAngles=0, phiAngles=np.pi/3)"
   ]
  },
  {
   "cell_type": "code",
   "execution_count": null,
   "metadata": {},
   "outputs": [],
   "source": []
  },
  {
   "cell_type": "code",
   "execution_count": null,
   "metadata": {},
   "outputs": [],
   "source": [
    "# theta on time search\n",
    "eng.thetaOnTimeSearch('SC32_theta_search.xml', iteration=5, repeat=3)"
   ]
  },
  {
   "cell_type": "code",
   "execution_count": null,
   "metadata": {},
   "outputs": [],
   "source": [
    "# generate new motormaps\n",
    "eng.makeThetaMotorMaps('SC32_theta800.xml', steps=800, totalSteps=12000, repeat=3)\n",
    "eng.makeThetaMotorMaps('SC32_theta500.xml', steps=500, totalSteps=12000, repeat=3)\n",
    "eng.makeThetaMotorMaps('SC32_theta200.xml', steps=200, totalSteps=12000, repeat=3)\n",
    "eng.makeThetaMotorMaps('SC32_theta100.xml', steps=100, totalSteps=12000, repeat=3)\n",
    "eng.makeThetaMotorMaps('SC32_theta50.xml', steps=50, totalSteps=12000, repeat=3)"
   ]
  },
  {
   "cell_type": "code",
   "execution_count": null,
   "metadata": {},
   "outputs": [],
   "source": [
    "eng.makeThetaMotorMaps('SC32_theta20.xml', steps=20, totalSteps=12000, repeat=3, force=True)\n",
    "eng.makeThetaMotorMaps('SC32_theta10.xml', steps=10, totalSteps=12000, repeat=3, force=True)"
   ]
  },
  {
   "cell_type": "code",
   "execution_count": null,
   "metadata": {},
   "outputs": [],
   "source": [
    "eng.makeThetaMotorMaps('SC32_theta5.xml', steps=5, totalSteps=12000, repeat=3, force=True)"
   ]
  },
  {
   "cell_type": "code",
   "execution_count": null,
   "metadata": {},
   "outputs": [],
   "source": [
    "# reset motor scaling\n",
    "cc.pfi.resetMotorScaling(cc.allCobras)"
   ]
  },
  {
   "cell_type": "code",
   "execution_count": null,
   "metadata": {
    "scrolled": true
   },
   "outputs": [],
   "source": [
    "# move by angles\n",
    "dataPath, diffAngles, moves = eng.moveThetaAngles(cc.goodIdx, np.pi/2, tries=6)"
   ]
  },
  {
   "cell_type": "code",
   "execution_count": null,
   "metadata": {},
   "outputs": [],
   "source": [
    "# convergence test\n",
    "moves = eng.thetaConvergenceTest(cc.goodIdx, margin=15.0, runs=3, tries=8, fast=False, tolerance=0.1)"
   ]
  },
  {
   "cell_type": "code",
   "execution_count": null,
   "metadata": {},
   "outputs": [],
   "source": []
  },
  {
   "cell_type": "code",
   "execution_count": null,
   "metadata": {
    "scrolled": true
   },
   "outputs": [],
   "source": [
    "# move theta arms upward in theta mode\n",
    "eng.moveThetaAngles(cc.goodIdx, np.pi/2, local=False)"
   ]
  },
  {
   "cell_type": "code",
   "execution_count": null,
   "metadata": {},
   "outputs": [],
   "source": []
  },
  {
   "cell_type": "code",
   "execution_count": null,
   "metadata": {},
   "outputs": [],
   "source": [
    "# update cobra geometry\n",
    "eng.updateXML('SC32_02.xml', '/data/MCS/20200520_013', '/data/MCS/20200520_009')"
   ]
  },
  {
   "cell_type": "code",
   "execution_count": null,
   "metadata": {},
   "outputs": [],
   "source": []
  },
  {
   "cell_type": "code",
   "execution_count": null,
   "metadata": {},
   "outputs": [],
   "source": []
  },
  {
   "cell_type": "code",
   "execution_count": null,
   "metadata": {},
   "outputs": [],
   "source": [
    "# swtich to normal mode\n",
    "eng.setNormalMode()"
   ]
  },
  {
   "cell_type": "code",
   "execution_count": null,
   "metadata": {},
   "outputs": [],
   "source": [
    "# move to home position\n",
    "cc.moveToHome(cc.goodCobras, thetaEnable=True, phiEnable=True, thetaCCW=False)"
   ]
  },
  {
   "cell_type": "code",
   "execution_count": null,
   "metadata": {},
   "outputs": [],
   "source": [
    "# set current angle, if you know\n",
    "cc.setCurrentAngles(cc.goodCobras, thetaAngles=0, phiAngles=0)"
   ]
  },
  {
   "cell_type": "code",
   "execution_count": null,
   "metadata": {
    "scrolled": true
   },
   "outputs": [],
   "source": [
    "# move by angles\n",
    "dataPath, thetas, phis, moves = eng.moveThetaPhi(cc.goodIdx, np.pi/2, np.pi/3, relative=False, local=True, tolerance=0.1, tries=6, homed=True, newDir=True)"
   ]
  },
  {
   "cell_type": "code",
   "execution_count": null,
   "metadata": {
    "scrolled": true
   },
   "outputs": [],
   "source": [
    "# move by positions, go home first and do safe movement\n",
    "tries = 12\n",
    "targets = cc.pfi.anglesToPositions(cc.allCobras, np.full(cc.nCobras, np.pi), np.full(cc.nCobras, np.pi/2))\n",
    "dataPath, positions, moves = eng.movePositions(cc.goodIdx, targets[cc.goodIdx], tolerance=0.1, tries=tries, thetaMarginCCW=0.1, homed=True, newDir=True)"
   ]
  },
  {
   "cell_type": "code",
   "execution_count": null,
   "metadata": {
    "scrolled": true
   },
   "outputs": [],
   "source": [
    "# move by positions again\n",
    "targets = cc.pfi.anglesToPositions(cc.allCobras, np.full(cc.nCobras, np.pi), np.full(cc.nCobras, np.pi/2))\n",
    "dataPath, positions, moves = eng.movePositions(cc.goodIdx, targets[cc.goodIdx], tolerance=0.1, tries=8, thetaMarginCCW=0.1, homed=False, newDir=True)"
   ]
  },
  {
   "cell_type": "code",
   "execution_count": null,
   "metadata": {
    "scrolled": false
   },
   "outputs": [],
   "source": [
    "targets, moves = eng.convergenceTest(cc.goodIdx, iteration=1, thetaMargin=np.deg2rad(10.0), phiMargin=np.deg2rad(25.0), tries=8, tolerance=0.2)"
   ]
  },
  {
   "cell_type": "code",
   "execution_count": null,
   "metadata": {},
   "outputs": [],
   "source": []
  },
  {
   "cell_type": "code",
   "execution_count": null,
   "metadata": {
    "scrolled": true
   },
   "outputs": [],
   "source": [
    "# goto safe position\n",
    "tht = np.empty(cc.nCobras)\n",
    "tht[0::2] = np.pi*3/2\n",
    "tht[1::2] = np.pi/2\n",
    "dataPath, thetas, phis, moves = eng.moveThetaPhi(cc.goodIdx, tht[cc.goodIdx], np.pi/3, relative=False, local=False, tolerance=0.1, tries=6, homed=False, newDir=True)"
   ]
  },
  {
   "cell_type": "code",
   "execution_count": null,
   "metadata": {},
   "outputs": [],
   "source": []
  },
  {
   "cell_type": "code",
   "execution_count": null,
   "metadata": {},
   "outputs": [],
   "source": []
  },
  {
   "cell_type": "code",
   "execution_count": null,
   "metadata": {},
   "outputs": [],
   "source": [
    "cc.showStatus()"
   ]
  },
  {
   "cell_type": "code",
   "execution_count": null,
   "metadata": {
    "scrolled": false
   },
   "outputs": [],
   "source": [
    "targets[0,0], moves[0,0], targets[0,35], moves[0,35], targets[0,37], moves[0,37], targets[0,53], moves[0,53]"
   ]
  },
  {
   "cell_type": "code",
   "execution_count": null,
   "metadata": {
    "scrolled": false
   },
   "outputs": [],
   "source": [
    "moves"
   ]
  },
  {
   "cell_type": "code",
   "execution_count": null,
   "metadata": {},
   "outputs": [],
   "source": [
    "targets"
   ]
  },
  {
   "cell_type": "code",
   "execution_count": null,
   "metadata": {
    "scrolled": false
   },
   "outputs": [],
   "source": [
    "cc.moveInfo"
   ]
  },
  {
   "cell_type": "code",
   "execution_count": null,
   "metadata": {},
   "outputs": [],
   "source": []
  },
  {
   "cell_type": "code",
   "execution_count": null,
   "metadata": {},
   "outputs": [],
   "source": []
  },
  {
   "cell_type": "code",
   "execution_count": null,
   "metadata": {},
   "outputs": [],
   "source": [
    "cc.pfi.calibModel.cobraStatus(31)"
   ]
  },
  {
   "cell_type": "code",
   "execution_count": null,
   "metadata": {},
   "outputs": [],
   "source": [
    "cc.pfi.calibModel.setCobraStatus(31, brokenTheta=True)\n",
    "cc.pfi.calibModel.createCalibrationFile('SC32_3.xml')"
   ]
  },
  {
   "cell_type": "code",
   "execution_count": null,
   "metadata": {},
   "outputs": [],
   "source": []
  }
 ],
 "metadata": {
  "kernelspec": {
   "display_name": "Python 3",
   "language": "python",
   "name": "python3"
  },
  "language_info": {
   "codemirror_mode": {
    "name": "ipython",
    "version": 3
   },
   "file_extension": ".py",
   "mimetype": "text/x-python",
   "name": "python",
   "nbconvert_exporter": "python",
   "pygments_lexer": "ipython3",
   "version": "3.7.3"
  }
 },
 "nbformat": 4,
 "nbformat_minor": 2
}
