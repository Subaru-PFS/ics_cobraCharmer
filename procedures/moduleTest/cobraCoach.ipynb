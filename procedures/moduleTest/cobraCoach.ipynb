{
 "cells": [
  {
   "cell_type": "code",
   "execution_count": 1,
   "metadata": {},
   "outputs": [],
   "source": [
    "from cobraCoach import CobraCoach\n",
    "import pathlib\n",
    "import numpy as np\n",
    "import logging\n",
    "import engineer as eng"
   ]
  },
  {
   "cell_type": "code",
   "execution_count": 2,
   "metadata": {},
   "outputs": [
    {
     "name": "stderr",
     "output_type": "stream",
     "text": [
      "/home/cwen/mhs/devel/ics_cobraCharmer/python/ics/cobraCharmer/utils/butler.py:178: YAMLLoadWarning: calling yaml.load() without Loader=... is deprecated, as the default Loader is unsafe. Please read https://msg.pyyaml.org/load for full details.\n",
      "  config = yaml.load(yamlFile)\n",
      "2020-08-05 15:58:50.825Z butler           30 butler.py:58 newRun: /data/MCS/20200805_011\n",
      "2020-08-05 15:58:50.828Z fpgaIO           20 pfi.py:72 FPGA connection to 128.149.77.24\n",
      "2020-08-05 15:58:50.864Z camera           20 asrdCam.py:17 asrd...\n"
     ]
    }
   ],
   "source": [
    "mod = 'SC09'\n",
    "cc = CobraCoach('fpga', loadModel=False)\n",
    "cc.loadModel(version=mod, moduleVersion=8)\n",
    "eng.setCobraCoach(cc)"
   ]
  },
  {
   "cell_type": "code",
   "execution_count": null,
   "metadata": {},
   "outputs": [],
   "source": []
  },
  {
   "cell_type": "code",
   "execution_count": 3,
   "metadata": {},
   "outputs": [],
   "source": [
    "eng.mmTheta = np.load('/home/cwen/mhs/devel/ics_cobraCharmer/procedures/moduleTest/mmTheta.npy')\n",
    "eng.mmPhi = np.load('/home/cwen/mhs/devel/ics_cobraCharmer/procedures/moduleTest/mmPhi.npy')"
   ]
  },
  {
   "cell_type": "code",
   "execution_count": null,
   "metadata": {},
   "outputs": [],
   "source": []
  },
  {
   "cell_type": "code",
   "execution_count": null,
   "metadata": {},
   "outputs": [],
   "source": []
  },
  {
   "cell_type": "code",
   "execution_count": null,
   "metadata": {
    "scrolled": true
   },
   "outputs": [],
   "source": [
    "# update center positions from home, not accurately\n",
    "eng.convertXML(f'{mod}.xml')"
   ]
  },
  {
   "cell_type": "code",
   "execution_count": null,
   "metadata": {
    "scrolled": true
   },
   "outputs": [],
   "source": [
    "cc.showStatus()"
   ]
  },
  {
   "cell_type": "code",
   "execution_count": null,
   "metadata": {},
   "outputs": [],
   "source": []
  },
  {
   "cell_type": "code",
   "execution_count": null,
   "metadata": {},
   "outputs": [],
   "source": [
    "# enable motor scaling and set parameters\n",
    "cc.setScaling(True, thetaScaleFactor=2.0, phiScaleFactor=2.0, minThetaSteps=10, minPhiSteps=10, constantSpeedScaling=True)"
   ]
  },
  {
   "cell_type": "code",
   "execution_count": null,
   "metadata": {},
   "outputs": [],
   "source": [
    "cc.setScaling(constantSpeedScaling=True)"
   ]
  },
  {
   "cell_type": "code",
   "execution_count": null,
   "metadata": {},
   "outputs": [],
   "source": [
    "# reset motor scaling\n",
    "cc.pfi.resetMotorScaling()"
   ]
  },
  {
   "cell_type": "code",
   "execution_count": null,
   "metadata": {},
   "outputs": [],
   "source": []
  },
  {
   "cell_type": "code",
   "execution_count": null,
   "metadata": {},
   "outputs": [],
   "source": [
    "# switch to phi mode\n",
    "eng.setPhiMode()"
   ]
  },
  {
   "cell_type": "code",
   "execution_count": null,
   "metadata": {
    "scrolled": true
   },
   "outputs": [],
   "source": [
    "# generate a quick motormap and set geometry\n",
    "eng.makePhiMotorMaps(f'{mod}_phi_400.xml', steps=400, totalSteps=6000, repeat=1, fast=False)"
   ]
  },
  {
   "cell_type": "code",
   "execution_count": null,
   "metadata": {},
   "outputs": [],
   "source": [
    "# set phi geometry from previous run\n",
    "cc.setPhiGeometryFromRun('/data/MCS/20200731_005', onlyIfClear=False)"
   ]
  },
  {
   "cell_type": "code",
   "execution_count": null,
   "metadata": {
    "scrolled": true
   },
   "outputs": [],
   "source": [
    "# move phi to home position\n",
    "cc.moveToHome(cc.goodCobras, phiEnable=True)"
   ]
  },
  {
   "cell_type": "code",
   "execution_count": null,
   "metadata": {},
   "outputs": [],
   "source": []
  },
  {
   "cell_type": "code",
   "execution_count": null,
   "metadata": {
    "scrolled": true
   },
   "outputs": [],
   "source": [
    "# phi on time search\n",
    "eng.phiOnTimeSearch(f'{mod}_phi_search.xml', iteration=3, repeat=1)"
   ]
  },
  {
   "cell_type": "code",
   "execution_count": null,
   "metadata": {
    "scrolled": true
   },
   "outputs": [],
   "source": [
    "# generate new motormaps\n",
    "#eng.makePhiMotorMaps(f'{mod}_phi800.xml', steps=800, totalSteps=8000, repeat=3)\n",
    "#eng.makePhiMotorMaps(f'{mod}_phi500.xml', steps=500, totalSteps=8000, repeat=3)\n",
    "#eng.makePhiMotorMaps(f'{mod}_phi200.xml', steps=200, totalSteps=8000, repeat=3)\n",
    "eng.makePhiMotorMaps(f'{mod}_phi100.xml', steps=100, totalSteps=8000, repeat=3)\n",
    "#eng.makePhiMotorMaps(f'{mod}_phi50.xml', steps=50, totalSteps=8000, repeat=3)\n",
    "#eng.makePhiMotorMaps(f'{mod}_phi20.xml', steps=20, totalSteps=8000, repeat=3)\n",
    "#eng.makePhiMotorMaps(f'{mod}_phi10.xml', steps=10, totalSteps=8000, repeat=3)\n",
    "#eng.makePhiMotorMaps(f'{mod}_phi5.xml', steps=5, totalSteps=6000, repeat=3)"
   ]
  },
  {
   "cell_type": "code",
   "execution_count": null,
   "metadata": {},
   "outputs": [],
   "source": [
    "eng.makePhiMotorMaps(f'{mod}_phi_fast.xml', steps=50, totalSteps=8000, repeat=3, fast=True)"
   ]
  },
  {
   "cell_type": "code",
   "execution_count": null,
   "metadata": {
    "scrolled": true
   },
   "outputs": [],
   "source": [
    "eng.makePhiMotorMaps(f'{mod}_phi_test.xml', steps=20, totalSteps=8000, repeat=1, fast=True, phiOnTime=phiOt)"
   ]
  },
  {
   "cell_type": "code",
   "execution_count": null,
   "metadata": {
    "scrolled": true
   },
   "outputs": [],
   "source": [
    "# mvoe phi by angles\n",
    "dataPath, diffAngles, moves = eng.movePhiAngles(cc.goodIdx, np.deg2rad(165), relative=False, local=True, tolerance=0.002, tries=6, fast=False, newDir=True)"
   ]
  },
  {
   "cell_type": "code",
   "execution_count": null,
   "metadata": {
    "scrolled": true
   },
   "outputs": [],
   "source": [
    "# move by a angle\n",
    "dataPath, diffAngles, moves = eng.movePhiAngles(cc.goodIdx, np.deg2rad(90), relative=False, local=True, tolerance=0.002, tries=6, fast=False, newDir=True)"
   ]
  },
  {
   "cell_type": "code",
   "execution_count": null,
   "metadata": {
    "scrolled": true
   },
   "outputs": [],
   "source": [
    "# convergence test\n",
    "moves = eng.phiConvergenceTest(cc.goodIdx, margin=15.0, runs=50, tries=8, fast=False, tolerance=0.1)"
   ]
  },
  {
   "cell_type": "code",
   "execution_count": null,
   "metadata": {
    "scrolled": true
   },
   "outputs": [],
   "source": [
    "# move phi to 60 degree for theta test\n",
    "dataPath, diffAngles, moves = eng.movePhiAngles(cc.goodIdx, np.pi/3, relative=False, local=False, tolerance=0.002, tries=6, fast=False, newDir=True)"
   ]
  },
  {
   "cell_type": "code",
   "execution_count": null,
   "metadata": {},
   "outputs": [],
   "source": []
  },
  {
   "cell_type": "code",
   "execution_count": null,
   "metadata": {
    "scrolled": true
   },
   "outputs": [],
   "source": [
    "# phi on-time scan\n",
    "dataPath, ontimes, angles, speeds = eng.phiOntimeScan(speed=np.deg2rad(0.06), steps=10, totalSteps=6000, repeat=1, scaling=4.0)"
   ]
  },
  {
   "cell_type": "code",
   "execution_count": null,
   "metadata": {},
   "outputs": [],
   "source": []
  },
  {
   "cell_type": "code",
   "execution_count": 4,
   "metadata": {},
   "outputs": [],
   "source": [
    "# swtich to theta mode\n",
    "eng.setThetaMode()"
   ]
  },
  {
   "cell_type": "code",
   "execution_count": null,
   "metadata": {
    "scrolled": true
   },
   "outputs": [],
   "source": [
    "# generate a quick motormap and set geometry\n",
    "eng.makeThetaMotorMaps(f'{mod}_theta.xml', steps=1000, totalSteps=15000, repeat=1, fast=False)"
   ]
  },
  {
   "cell_type": "code",
   "execution_count": 5,
   "metadata": {},
   "outputs": [
    {
     "name": "stderr",
     "output_type": "stream",
     "text": [
      "2020-08-05 15:59:02.614Z cobraCoach       40 cobraCoach.py:800 theta ranges for cobras [23] are too small: CW=[35.143707] CCW=[161.00325]\n",
      "2020-08-05 15:59:02.615Z cobraCoach       40 cobraCoach.py:803      [234.14]\n"
     ]
    }
   ],
   "source": [
    "# set theta geometry from previous run\n",
    "cc.setThetaGeometryFromRun('/data/MCS/20200803_009', onlyIfClear=False)"
   ]
  },
  {
   "cell_type": "code",
   "execution_count": null,
   "metadata": {
    "scrolled": true
   },
   "outputs": [],
   "source": [
    "# move theta to home position\n",
    "cc.moveToHome(cc.goodCobras, thetaEnable=True, thetaCCW=False)"
   ]
  },
  {
   "cell_type": "code",
   "execution_count": null,
   "metadata": {},
   "outputs": [],
   "source": [
    "# set current angle to zeros, if you know\n",
    "cc.setCurrentAngles(cc.goodCobras, thetaAngles=0, phiAngles=np.pi/3)"
   ]
  },
  {
   "cell_type": "code",
   "execution_count": null,
   "metadata": {},
   "outputs": [],
   "source": []
  },
  {
   "cell_type": "code",
   "execution_count": null,
   "metadata": {},
   "outputs": [],
   "source": [
    "# theta on time search\n",
    "eng.thetaOnTimeSearch(f'{mod}_theta_search.xml', iteration=5, repeat=1)"
   ]
  },
  {
   "cell_type": "code",
   "execution_count": null,
   "metadata": {},
   "outputs": [],
   "source": [
    "# generate new motormaps\n",
    "#eng.makeThetaMotorMaps(f'{mod}_theta800.xml', steps=800, totalSteps=12000, repeat=3)\n",
    "#eng.makeThetaMotorMaps(f'{mod}_theta500.xml', steps=500, totalSteps=12000, repeat=3)\n",
    "eng.makeThetaMotorMaps(f'{mod}_theta200.xml', steps=200, totalSteps=12000, repeat=3)\n",
    "#eng.makeThetaMotorMaps(f'{mod}_theta100.xml', steps=100, totalSteps=12000, repeat=3)\n",
    "#eng.makeThetaMotorMaps(f'{mod}_theta50.xml', steps=50, totalSteps=12000, repeat=3)"
   ]
  },
  {
   "cell_type": "code",
   "execution_count": null,
   "metadata": {},
   "outputs": [],
   "source": [
    "eng.makeThetaMotorMaps(f'{mod}_theta20.xml', steps=20, totalSteps=12000, repeat=3, force=True)\n",
    "eng.makeThetaMotorMaps(f'{mod}_theta10.xml', steps=10, totalSteps=12000, repeat=3, force=True)"
   ]
  },
  {
   "cell_type": "code",
   "execution_count": null,
   "metadata": {},
   "outputs": [],
   "source": [
    "eng.makeThetaMotorMaps(f'{mod}_theta5.xml', steps=5, totalSteps=12000, repeat=3, force=True)"
   ]
  },
  {
   "cell_type": "code",
   "execution_count": null,
   "metadata": {},
   "outputs": [],
   "source": [
    "eng.makeThetaMotorMaps(f'{mod}_theta_test.xml', steps=100, totalSteps=12000, repeat=3, fast=True, thetaOnTime=thetaOt)"
   ]
  },
  {
   "cell_type": "code",
   "execution_count": null,
   "metadata": {},
   "outputs": [],
   "source": [
    "eng.makeThetaMotorMaps(f'{mod}_theta_test.xml', steps=20, totalSteps=12000, repeat=3, fast=True, thetaOnTime=thetaOt)"
   ]
  },
  {
   "cell_type": "code",
   "execution_count": null,
   "metadata": {},
   "outputs": [],
   "source": [
    "# reset motor scaling\n",
    "cc.pfi.resetMotorScaling(cc.allCobras)"
   ]
  },
  {
   "cell_type": "code",
   "execution_count": null,
   "metadata": {
    "scrolled": true
   },
   "outputs": [],
   "source": [
    "# move by angles\n",
    "dataPath, diffAngles, moves = eng.moveThetaAngles(cc.goodIdx, np.pi/2, tries=6)"
   ]
  },
  {
   "cell_type": "code",
   "execution_count": null,
   "metadata": {},
   "outputs": [],
   "source": [
    "# convergence test\n",
    "moves = eng.thetaConvergenceTest(cc.goodIdx, margin=15.0, runs=3, tries=8, fast=False, tolerance=0.1)"
   ]
  },
  {
   "cell_type": "code",
   "execution_count": 6,
   "metadata": {
    "scrolled": true
   },
   "outputs": [
    {
     "name": "stderr",
     "output_type": "stream",
     "text": [
      "2020-08-05 15:59:18.245Z butler           30 butler.py:58 newRun: /data/MCS/20200805_012\n",
      "2020-08-05 15:59:18.249Z fpgaIO           20 pfi.py:72 FPGA connection to 128.149.77.24\n",
      "2020-08-05 15:59:18.250Z camera           20 asrdCam.py:17 asrd...\n",
      "2020-08-05 15:59:18.250Z engineer         20 engineer.py:1285 Run 1: angle=15.00 degree\n",
      "2020-08-05 15:59:18.251Z cobraCoach       20 cobraCoach.py:662 home cobras: theta=-10000, phi=0\n"
     ]
    },
    {
     "name": "stdout",
     "output_type": "stream",
     "text": [
      "IS_COLORMODE_MONOCHROME: \n",
      "\tm_nColorMode: \t\t 34\n",
      "\tnBitsPerPixel: \t\t 10\n",
      "\tbytes_per_pixel: \t\t 2\n",
      "\n",
      "Camera model:\t\t UI318xCP-M\n",
      "Camera serial no.:\t 4103149829\n",
      "Maximum image self.width:\t 2592\n",
      "Maximum image self.height:\t 2048\n",
      "\n",
      "200\n",
      "IS_COLORMODE_MONOCHROME: \n",
      "\tm_nColorMode: \t\t 34\n",
      "\tnBitsPerPixel: \t\t 10\n",
      "\tbytes_per_pixel: \t\t 2\n",
      "\n",
      "Camera model:\t\t UI318xCP-M\n",
      "Camera serial no.:\t 4103118685\n",
      "Maximum image self.width:\t 2592\n",
      "Maximum image self.height:\t 2048\n",
      "\n",
      "200\n",
      "getting image\n",
      "(2048, 2592, 2)\n",
      "getting image\n",
      "(2048, 2592, 2)\n",
      "getting image\n",
      "(2048, 2592, 2)\n",
      "getting image\n",
      "(2048, 2592, 2)\n"
     ]
    },
    {
     "name": "stderr",
     "output_type": "stream",
     "text": [
      "2020-08-05 15:59:55.739Z engineer         20 engineer.py:1366 Move theta arms to angle=[15. 15. 15. 15. 15. 15. 15. 15. 15. 15. 15. 15. 15. 15. 15. 15. 15. 15.\n",
      " 15. 15. 15. 15. 15. 15. 15. 15. 15. 15. 15. 15. 15. 15. 15. 15. 15. 15.\n",
      " 15. 15. 15. 15. 15. 15. 15. 15. 15. 15. 15. 15. 15. 15. 15. 15. 15. 15.\n",
      " 15. 15. 15.] degree\n"
     ]
    },
    {
     "name": "stdout",
     "output_type": "stream",
     "text": [
      "getting image\n",
      "(2048, 2592, 2)\n",
      "getting image\n",
      "(2048, 2592, 2)\n",
      "getting image\n",
      "(2048, 2592, 2)\n",
      "getting image\n",
      "(2048, 2592, 2)\n"
     ]
    },
    {
     "name": "stderr",
     "output_type": "stream",
     "text": [
      "2020-08-05 15:59:57.637Z engineer         20 engineer.py:1386 done: [ 9 14 36], 54 left\n"
     ]
    },
    {
     "name": "stdout",
     "output_type": "stream",
     "text": [
      "getting image\n",
      "(2048, 2592, 2)\n",
      "getting image\n",
      "(2048, 2592, 2)\n",
      "getting image\n",
      "(2048, 2592, 2)\n",
      "getting image\n",
      "(2048, 2592, 2)\n"
     ]
    },
    {
     "name": "stderr",
     "output_type": "stream",
     "text": [
      "2020-08-05 15:59:59.982Z engineer         20 engineer.py:1386 done: [ 2  7 13 19 21 25 27 38 40 42 47 53 54 56], 40 left\n"
     ]
    },
    {
     "name": "stdout",
     "output_type": "stream",
     "text": [
      "getting image\n",
      "(2048, 2592, 2)\n",
      "getting image\n",
      "(2048, 2592, 2)\n",
      "getting image\n",
      "(2048, 2592, 2)\n",
      "getting image\n",
      "(2048, 2592, 2)\n"
     ]
    },
    {
     "name": "stderr",
     "output_type": "stream",
     "text": [
      "2020-08-05 16:00:02.146Z engineer         20 engineer.py:1386 done: [ 4  5 10 12 18 23 31 35 37 39 43 44 49 50 51 52], 24 left\n"
     ]
    },
    {
     "name": "stdout",
     "output_type": "stream",
     "text": [
      "getting image\n",
      "(2048, 2592, 2)\n",
      "getting image\n",
      "(2048, 2592, 2)\n",
      "getting image\n",
      "(2048, 2592, 2)\n",
      "getting image\n",
      "(2048, 2592, 2)\n"
     ]
    },
    {
     "name": "stderr",
     "output_type": "stream",
     "text": [
      "2020-08-05 16:00:04.498Z engineer         20 engineer.py:1386 done: [ 1  3  8 17 20 26 28 30 32 46 48 55], 12 left\n"
     ]
    },
    {
     "name": "stdout",
     "output_type": "stream",
     "text": [
      "getting image\n",
      "(2048, 2592, 2)\n",
      "getting image\n",
      "(2048, 2592, 2)\n",
      "getting image\n",
      "(2048, 2592, 2)\n",
      "getting image\n",
      "(2048, 2592, 2)\n"
     ]
    },
    {
     "name": "stderr",
     "output_type": "stream",
     "text": [
      "2020-08-05 16:00:06.441Z engineer         20 engineer.py:1386 done: [15 34 41], 9 left\n"
     ]
    },
    {
     "name": "stdout",
     "output_type": "stream",
     "text": [
      "getting image\n",
      "(2048, 2592, 2)\n",
      "getting image\n",
      "(2048, 2592, 2)\n",
      "getting image\n",
      "(2048, 2592, 2)\n",
      "getting image\n",
      "(2048, 2592, 2)\n"
     ]
    },
    {
     "name": "stderr",
     "output_type": "stream",
     "text": [
      "2020-08-05 16:00:08.757Z engineer         20 engineer.py:1386 done: [6], 8 left\n"
     ]
    },
    {
     "name": "stdout",
     "output_type": "stream",
     "text": [
      "getting image\n",
      "(2048, 2592, 2)\n",
      "getting image\n",
      "(2048, 2592, 2)\n",
      "getting image\n",
      "(2048, 2592, 2)\n",
      "getting image\n",
      "(2048, 2592, 2)\n"
     ]
    },
    {
     "name": "stderr",
     "output_type": "stream",
     "text": [
      "2020-08-05 16:00:10.735Z engineer         20 engineer.py:1386 done: [11 16 33], 5 left\n"
     ]
    },
    {
     "name": "stdout",
     "output_type": "stream",
     "text": [
      "getting image\n",
      "(2048, 2592, 2)\n",
      "getting image\n",
      "(2048, 2592, 2)\n",
      "getting image\n",
      "(2048, 2592, 2)\n",
      "getting image\n",
      "(2048, 2592, 2)\n"
     ]
    },
    {
     "name": "stderr",
     "output_type": "stream",
     "text": [
      "2020-08-05 16:00:12.747Z engineer         20 engineer.py:1386 done: [45], 4 left\n"
     ]
    },
    {
     "name": "stdout",
     "output_type": "stream",
     "text": [
      "getting image\n",
      "(2048, 2592, 2)\n",
      "getting image\n",
      "(2048, 2592, 2)\n",
      "getting image\n",
      "(2048, 2592, 2)\n",
      "getting image\n",
      "(2048, 2592, 2)\n",
      "getting image\n",
      "(2048, 2592, 2)\n",
      "getting image\n",
      "(2048, 2592, 2)\n",
      "getting image\n",
      "(2048, 2592, 2)\n",
      "getting image\n",
      "(2048, 2592, 2)\n"
     ]
    },
    {
     "name": "stderr",
     "output_type": "stream",
     "text": [
      "2020-08-05 16:00:17.381Z engineer         30 engineer.py:1393 4 cobras did not finish: [ 0 22 24 29], [5.88 0.16 0.28 0.14]\n",
      "2020-08-05 16:00:17.382Z engineer         20 engineer.py:1285 Run 2: angle=180.00 degree\n",
      "2020-08-05 16:00:17.383Z cobraCoach       20 cobraCoach.py:662 home cobras: theta=-10000, phi=0\n"
     ]
    },
    {
     "name": "stdout",
     "output_type": "stream",
     "text": [
      "getting image\n",
      "(2048, 2592, 2)\n",
      "getting image\n",
      "(2048, 2592, 2)\n",
      "getting image\n",
      "(2048, 2592, 2)\n",
      "getting image\n",
      "(2048, 2592, 2)\n"
     ]
    },
    {
     "name": "stderr",
     "output_type": "stream",
     "text": [
      "2020-08-05 16:00:43.750Z engineer         20 engineer.py:1366 Move theta arms to angle=[180. 180. 180. 180. 180. 180. 180. 180. 180. 180. 180. 180. 180. 180.\n",
      " 180. 180. 180. 180. 180. 180. 180. 180. 180. 180. 180. 180. 180. 180.\n",
      " 180. 180. 180. 180. 180. 180. 180. 180. 180. 180. 180. 180. 180. 180.\n",
      " 180. 180. 180. 180. 180. 180. 180. 180. 180. 180. 180. 180. 180. 180.\n",
      " 180.] degree\n"
     ]
    },
    {
     "name": "stdout",
     "output_type": "stream",
     "text": [
      "getting image\n",
      "(2048, 2592, 2)\n",
      "getting image\n",
      "(2048, 2592, 2)\n",
      "getting image\n",
      "(2048, 2592, 2)\n",
      "getting image\n",
      "(2048, 2592, 2)\n"
     ]
    },
    {
     "name": "stderr",
     "output_type": "stream",
     "text": [
      "2020-08-05 16:00:50.075Z engineer         20 engineer.py:1386 done: [15], 56 left\n",
      "2020-08-05 16:00:50.080Z pfi              30 pfi.py:546 clipping (8, 'theta', 'cw') ontime to 0.1 and scale 1.08 to 1.0\n",
      "2020-08-05 16:00:50.081Z pfi              30 pfi.py:546 clipping (18, 'theta', 'cw') ontime to 0.1 and scale 1.08 to 1.0\n",
      "2020-08-05 16:00:50.081Z pfi              30 pfi.py:546 clipping (22, 'theta', 'cw') ontime to 0.1 and scale 1.02 to 1.0\n"
     ]
    },
    {
     "name": "stdout",
     "output_type": "stream",
     "text": [
      "getting image\n",
      "(2048, 2592, 2)\n",
      "getting image\n",
      "(2048, 2592, 2)\n",
      "getting image\n",
      "(2048, 2592, 2)\n",
      "getting image\n",
      "(2048, 2592, 2)\n"
     ]
    },
    {
     "name": "stderr",
     "output_type": "stream",
     "text": [
      "2020-08-05 16:00:53.100Z engineer         20 engineer.py:1386 done: [ 4 12 56], 53 left\n",
      "2020-08-05 16:00:53.105Z pfi              30 pfi.py:546 clipping (18, 'theta', 'cw') ontime to 0.1 and scale 1.54 to 1.0\n"
     ]
    },
    {
     "name": "stdout",
     "output_type": "stream",
     "text": [
      "getting image\n",
      "(2048, 2592, 2)\n",
      "getting image\n",
      "(2048, 2592, 2)\n",
      "getting image\n",
      "(2048, 2592, 2)\n",
      "getting image\n",
      "(2048, 2592, 2)\n"
     ]
    },
    {
     "name": "stderr",
     "output_type": "stream",
     "text": [
      "2020-08-05 16:00:55.591Z engineer         20 engineer.py:1386 done: [ 3  9 13 28 32 46 48 49 54], 44 left\n",
      "2020-08-05 16:00:55.597Z pfi              30 pfi.py:546 clipping (18, 'theta', 'cw') ontime to 0.1 and scale 1.35 to 1.0\n"
     ]
    },
    {
     "name": "stdout",
     "output_type": "stream",
     "text": [
      "getting image\n",
      "(2048, 2592, 2)\n",
      "getting image\n",
      "(2048, 2592, 2)\n",
      "getting image\n",
      "(2048, 2592, 2)\n",
      "getting image\n",
      "(2048, 2592, 2)\n"
     ]
    },
    {
     "name": "stderr",
     "output_type": "stream",
     "text": [
      "2020-08-05 16:00:57.776Z engineer         20 engineer.py:1386 done: [ 7  8 14 19 20 21 23 25 26 27 35 37 38 40 42 44 52 55], 26 left\n",
      "2020-08-05 16:00:57.781Z pfi              30 pfi.py:546 clipping (18, 'theta', 'cw') ontime to 0.1 and scale 1.45 to 1.0\n"
     ]
    },
    {
     "name": "stdout",
     "output_type": "stream",
     "text": [
      "getting image\n",
      "(2048, 2592, 2)\n",
      "getting image\n",
      "(2048, 2592, 2)\n",
      "getting image\n",
      "(2048, 2592, 2)\n",
      "getting image\n",
      "(2048, 2592, 2)\n"
     ]
    },
    {
     "name": "stderr",
     "output_type": "stream",
     "text": [
      "2020-08-05 16:00:59.788Z engineer         20 engineer.py:1386 done: [ 1  2  6 16 17 24 29 30 36 39 47 50 51 53], 12 left\n"
     ]
    },
    {
     "name": "stdout",
     "output_type": "stream",
     "text": [
      "getting image\n",
      "(2048, 2592, 2)\n",
      "getting image\n",
      "(2048, 2592, 2)\n",
      "getting image\n",
      "(2048, 2592, 2)\n",
      "getting image\n",
      "(2048, 2592, 2)\n"
     ]
    },
    {
     "name": "stderr",
     "output_type": "stream",
     "text": [
      "2020-08-05 16:01:01.964Z engineer         20 engineer.py:1386 done: [ 5 11 31 33 41 43], 6 left\n",
      "2020-08-05 16:01:01.968Z pfi              30 pfi.py:546 clipping (18, 'theta', 'cw') ontime to 0.1 and scale 1.49 to 1.4816585406994933\n"
     ]
    },
    {
     "name": "stdout",
     "output_type": "stream",
     "text": [
      "getting image\n",
      "(2048, 2592, 2)\n",
      "getting image\n",
      "(2048, 2592, 2)\n",
      "getting image\n",
      "(2048, 2592, 2)\n",
      "getting image\n",
      "(2048, 2592, 2)\n"
     ]
    },
    {
     "name": "stderr",
     "output_type": "stream",
     "text": [
      "2020-08-05 16:01:03.994Z engineer         20 engineer.py:1386 done: [10 34 45], 3 left\n",
      "2020-08-05 16:01:03.998Z pfi              30 pfi.py:546 clipping (18, 'theta', 'cw') ontime to 0.1 and scale 1.55 to 1.4816585406994933\n"
     ]
    },
    {
     "name": "stdout",
     "output_type": "stream",
     "text": [
      "getting image\n",
      "(2048, 2592, 2)\n",
      "getting image\n",
      "(2048, 2592, 2)\n",
      "getting image\n",
      "(2048, 2592, 2)\n",
      "getting image\n",
      "(2048, 2592, 2)\n"
     ]
    },
    {
     "name": "stderr",
     "output_type": "stream",
     "text": [
      "2020-08-05 16:01:05.992Z engineer         20 engineer.py:1386 done: [ 0 18], 1 left\n"
     ]
    },
    {
     "name": "stdout",
     "output_type": "stream",
     "text": [
      "getting image\n",
      "(2048, 2592, 2)\n",
      "getting image\n",
      "(2048, 2592, 2)\n",
      "getting image\n",
      "(2048, 2592, 2)\n",
      "getting image\n",
      "(2048, 2592, 2)\n"
     ]
    },
    {
     "name": "stderr",
     "output_type": "stream",
     "text": [
      "2020-08-05 16:01:08.007Z engineer         20 engineer.py:1386 done: [22], 0 left\n",
      "2020-08-05 16:01:08.007Z engineer         20 engineer.py:1388 all cobras are in positions\n",
      "2020-08-05 16:01:08.008Z engineer         20 engineer.py:1285 Run 3: angle=345.00 degree\n",
      "2020-08-05 16:01:08.009Z cobraCoach       20 cobraCoach.py:662 home cobras: theta=-10000, phi=0\n"
     ]
    },
    {
     "name": "stdout",
     "output_type": "stream",
     "text": [
      "getting image\n",
      "(2048, 2592, 2)\n",
      "getting image\n",
      "(2048, 2592, 2)\n",
      "getting image\n",
      "(2048, 2592, 2)\n",
      "getting image\n",
      "(2048, 2592, 2)\n"
     ]
    },
    {
     "name": "stderr",
     "output_type": "stream",
     "text": [
      "2020-08-05 16:01:34.485Z engineer         20 engineer.py:1366 Move theta arms to angle=[345. 345. 345. 345. 345. 345. 345. 345. 345. 345. 345. 345. 345. 345.\n",
      " 345. 345. 345. 345. 345. 345. 345. 345. 345. 345. 345. 345. 345. 345.\n",
      " 345. 345. 345. 345. 345. 345. 345. 345. 345. 345. 345. 345. 345. 345.\n",
      " 345. 345. 345. 345. 345. 345. 345. 345. 345. 345. 345. 345. 345. 345.\n",
      " 345.] degree\n"
     ]
    },
    {
     "name": "stdout",
     "output_type": "stream",
     "text": [
      "getting image\n",
      "(2048, 2592, 2)\n",
      "getting image\n",
      "(2048, 2592, 2)\n",
      "getting image\n",
      "(2048, 2592, 2)\n",
      "getting image\n",
      "(2048, 2592, 2)\n"
     ]
    },
    {
     "name": "stderr",
     "output_type": "stream",
     "text": [
      "2020-08-05 16:01:44.397Z pfi              30 pfi.py:546 clipping (8, 'theta', 'cw') ontime to 0.1 and scale 1.06 to 1.0\n",
      "2020-08-05 16:01:44.398Z pfi              30 pfi.py:546 clipping (18, 'theta', 'cw') ontime to 0.1 and scale 1.37 to 1.0\n",
      "2020-08-05 16:01:44.398Z pfi              30 pfi.py:546 clipping (22, 'theta', 'cw') ontime to 0.1 and scale 1.12 to 1.0\n",
      "2020-08-05 16:01:44.399Z pfi              30 pfi.py:546 clipping (32, 'theta', 'cw') ontime to 0.1 and scale 1.04 to 1.0\n"
     ]
    },
    {
     "name": "stdout",
     "output_type": "stream",
     "text": [
      "getting image\n",
      "(2048, 2592, 2)\n",
      "getting image\n",
      "(2048, 2592, 2)\n",
      "getting image\n",
      "(2048, 2592, 2)\n",
      "getting image\n",
      "(2048, 2592, 2)\n"
     ]
    },
    {
     "name": "stderr",
     "output_type": "stream",
     "text": [
      "2020-08-05 16:01:48.604Z pfi              30 pfi.py:527 clipping scale adjustment from 215.50716869211925 to 3.0\n",
      "2020-08-05 16:01:48.608Z engineer         20 engineer.py:1386 done: [17 40], 55 left\n",
      "2020-08-05 16:01:48.613Z pfi              30 pfi.py:546 clipping (8, 'theta', 'cw') ontime to 0.1 and scale 1.23 to 1.0\n",
      "2020-08-05 16:01:48.613Z pfi              30 pfi.py:546 clipping (18, 'theta', 'cw') ontime to 0.1 and scale 2.29 to 1.0\n",
      "2020-08-05 16:01:48.614Z pfi              30 pfi.py:546 clipping (22, 'theta', 'cw') ontime to 0.1 and scale 3.00 to 1.0\n",
      "2020-08-05 16:01:48.614Z pfi              30 pfi.py:546 clipping (30, 'theta', 'cw') ontime to 0.1 and scale 1.47 to 1.440922190201729\n"
     ]
    },
    {
     "name": "stdout",
     "output_type": "stream",
     "text": [
      "getting image\n",
      "(2048, 2592, 2)\n",
      "getting image\n",
      "(2048, 2592, 2)\n",
      "getting image\n",
      "(2048, 2592, 2)\n",
      "getting image\n",
      "(2048, 2592, 2)\n"
     ]
    },
    {
     "name": "stderr",
     "output_type": "stream",
     "text": [
      "2020-08-05 16:01:52.155Z pfi              30 pfi.py:527 clipping scale adjustment from 18.585921547395188 to 3.0\n",
      "2020-08-05 16:01:52.158Z engineer         20 engineer.py:1386 done: [ 5 35 42 48], 51 left\n",
      "2020-08-05 16:01:52.164Z pfi              30 pfi.py:546 clipping (18, 'theta', 'cw') ontime to 0.1 and scale 1.02 to 1.0\n",
      "2020-08-05 16:01:52.165Z pfi              30 pfi.py:546 clipping (22, 'theta', 'cw') ontime to 0.1 and scale 3.00 to 1.0\n"
     ]
    },
    {
     "name": "stdout",
     "output_type": "stream",
     "text": [
      "getting image\n",
      "(2048, 2592, 2)\n",
      "getting image\n",
      "(2048, 2592, 2)\n",
      "getting image\n",
      "(2048, 2592, 2)\n",
      "getting image\n",
      "(2048, 2592, 2)\n"
     ]
    },
    {
     "name": "stderr",
     "output_type": "stream",
     "text": [
      "2020-08-05 16:01:55.634Z pfi              30 pfi.py:527 clipping scale adjustment from 23.08410234888538 to 3.0\n",
      "2020-08-05 16:01:55.637Z engineer         20 engineer.py:1386 done: [ 3  7 10 13 14 16 19 20 23 25 26 27 28 29 31 34 36 37 38 39 41 43 44 46\n",
      " 47 49 52 53 55], 22 left\n",
      "2020-08-05 16:01:55.642Z pfi              30 pfi.py:546 clipping (22, 'theta', 'cw') ontime to 0.1 and scale 3.00 to 1.0\n"
     ]
    },
    {
     "name": "stdout",
     "output_type": "stream",
     "text": [
      "getting image\n",
      "(2048, 2592, 2)\n",
      "getting image\n",
      "(2048, 2592, 2)\n",
      "getting image\n",
      "(2048, 2592, 2)\n",
      "getting image\n",
      "(2048, 2592, 2)\n"
     ]
    },
    {
     "name": "stderr",
     "output_type": "stream",
     "text": [
      "2020-08-05 16:01:59.160Z pfi              30 pfi.py:527 clipping scale adjustment from 36.791838748680405 to 3.0\n",
      "2020-08-05 16:01:59.161Z engineer         20 engineer.py:1386 done: [ 1  9 11 12 15 21 24 32 50 51 54], 11 left\n",
      "2020-08-05 16:01:59.165Z pfi              30 pfi.py:546 clipping (0, 'theta', 'cw') ontime to 0.1 and scale 1.10 to 1.0\n",
      "2020-08-05 16:01:59.165Z pfi              30 pfi.py:546 clipping (22, 'theta', 'cw') ontime to 0.1 and scale 3.00 to 1.0\n"
     ]
    },
    {
     "name": "stdout",
     "output_type": "stream",
     "text": [
      "getting image\n",
      "(2048, 2592, 2)\n",
      "getting image\n",
      "(2048, 2592, 2)\n",
      "getting image\n",
      "(2048, 2592, 2)\n",
      "getting image\n",
      "(2048, 2592, 2)\n"
     ]
    },
    {
     "name": "stderr",
     "output_type": "stream",
     "text": [
      "2020-08-05 16:02:02.661Z pfi              30 pfi.py:527 clipping scale adjustment from 29.256493617294517 to 3.0\n",
      "2020-08-05 16:02:02.662Z engineer         20 engineer.py:1386 done: [ 6 18 33], 8 left\n",
      "2020-08-05 16:02:02.666Z pfi              30 pfi.py:546 clipping (22, 'theta', 'cw') ontime to 0.1 and scale 3.00 to 1.0\n"
     ]
    },
    {
     "name": "stdout",
     "output_type": "stream",
     "text": [
      "getting image\n",
      "(2048, 2592, 2)\n",
      "getting image\n",
      "(2048, 2592, 2)\n",
      "getting image\n",
      "(2048, 2592, 2)\n",
      "getting image\n",
      "(2048, 2592, 2)\n"
     ]
    },
    {
     "name": "stderr",
     "output_type": "stream",
     "text": [
      "2020-08-05 16:02:06.205Z pfi              30 pfi.py:527 clipping scale adjustment from 8.162631464873286 to 3.0\n",
      "2020-08-05 16:02:06.206Z engineer         20 engineer.py:1386 done: [ 2 30], 6 left\n",
      "2020-08-05 16:02:06.211Z pfi              30 pfi.py:546 clipping (22, 'theta', 'cw') ontime to 0.1 and scale 3.00 to 1.0\n"
     ]
    },
    {
     "name": "stdout",
     "output_type": "stream",
     "text": [
      "getting image\n",
      "(2048, 2592, 2)\n",
      "getting image\n",
      "(2048, 2592, 2)\n",
      "getting image\n",
      "(2048, 2592, 2)\n",
      "getting image\n",
      "(2048, 2592, 2)\n"
     ]
    },
    {
     "name": "stderr",
     "output_type": "stream",
     "text": [
      "2020-08-05 16:02:09.715Z engineer         20 engineer.py:1386 done: [ 4 45 56], 3 left\n",
      "2020-08-05 16:02:09.720Z pfi              30 pfi.py:546 clipping (22, 'theta', 'cw') ontime to 0.1 and scale 2.52 to 1.0\n"
     ]
    },
    {
     "name": "stdout",
     "output_type": "stream",
     "text": [
      "getting image\n",
      "(2048, 2592, 2)\n",
      "getting image\n",
      "(2048, 2592, 2)\n",
      "getting image\n",
      "(2048, 2592, 2)\n",
      "getting image\n",
      "(2048, 2592, 2)\n"
     ]
    },
    {
     "name": "stderr",
     "output_type": "stream",
     "text": [
      "2020-08-05 16:02:12.872Z pfi              30 pfi.py:546 clipping (22, 'theta', 'cw') ontime to 0.1 and scale 1.05 to 1.0\n"
     ]
    },
    {
     "name": "stdout",
     "output_type": "stream",
     "text": [
      "getting image\n",
      "(2048, 2592, 2)\n",
      "getting image\n",
      "(2048, 2592, 2)\n",
      "getting image\n",
      "(2048, 2592, 2)\n",
      "getting image\n",
      "(2048, 2592, 2)\n"
     ]
    },
    {
     "name": "stderr",
     "output_type": "stream",
     "text": [
      "2020-08-05 16:02:15.879Z engineer         30 engineer.py:1393 3 cobras did not finish: [ 0  8 22], [47.89  0.17  9.33]\n"
     ]
    }
   ],
   "source": [
    "moves = eng.thetaConvergenceTest2(cc.goodIdx, margin=15.0, runs=3, tries=10, threshold=0.1, tolerance=0.0015)"
   ]
  },
  {
   "cell_type": "code",
   "execution_count": null,
   "metadata": {},
   "outputs": [],
   "source": []
  },
  {
   "cell_type": "code",
   "execution_count": null,
   "metadata": {
    "scrolled": true
   },
   "outputs": [],
   "source": [
    "# move theta arms upward in theta mode\n",
    "eng.moveThetaAngles(cc.goodIdx, np.pi/2, local=False)"
   ]
  },
  {
   "cell_type": "code",
   "execution_count": null,
   "metadata": {
    "scrolled": true
   },
   "outputs": [],
   "source": [
    "# theta on-time scan\n",
    "dataPath, ontimes, angles, speeds = eng.thetaOntimeScan(speed=np.deg2rad(0.06), steps=10, totalSteps=10000, repeat=3, scaling=4.0)"
   ]
  },
  {
   "cell_type": "code",
   "execution_count": null,
   "metadata": {
    "scrolled": true
   },
   "outputs": [],
   "source": [
    "# theta on-time scan\n",
    "dataPath, ontimes, angles, speeds = eng.thetaOntimeScan(speed=np.deg2rad(0.06), steps=50, totalSteps=10000, repeat=10, scaling=4.0)"
   ]
  },
  {
   "cell_type": "code",
   "execution_count": null,
   "metadata": {},
   "outputs": [],
   "source": []
  },
  {
   "cell_type": "code",
   "execution_count": null,
   "metadata": {},
   "outputs": [],
   "source": [
    "# update cobra geometry\n",
    "eng.updateXML(f'{mod}_new.xml', '/data/MCS/20200729_032', '/data/MCS/20200729_012')"
   ]
  },
  {
   "cell_type": "code",
   "execution_count": null,
   "metadata": {},
   "outputs": [],
   "source": []
  },
  {
   "cell_type": "code",
   "execution_count": null,
   "metadata": {},
   "outputs": [],
   "source": []
  },
  {
   "cell_type": "code",
   "execution_count": null,
   "metadata": {},
   "outputs": [],
   "source": [
    "# swtich to normal mode\n",
    "eng.setNormalMode()"
   ]
  },
  {
   "cell_type": "code",
   "execution_count": null,
   "metadata": {},
   "outputs": [],
   "source": [
    "# move to home position\n",
    "cc.moveToHome(cc.goodCobras, thetaEnable=True, phiEnable=True, thetaCCW=False)"
   ]
  },
  {
   "cell_type": "code",
   "execution_count": null,
   "metadata": {},
   "outputs": [],
   "source": [
    "# set current angle, if you know\n",
    "cc.setCurrentAngles(cc.goodCobras, thetaAngles=0, phiAngles=0)"
   ]
  },
  {
   "cell_type": "code",
   "execution_count": null,
   "metadata": {
    "scrolled": true
   },
   "outputs": [],
   "source": [
    "# move by angles\n",
    "dataPath, thetas, phis, moves = eng.moveThetaPhi(cc.goodIdx, np.pi/2, np.pi/3, relative=False, local=True, tolerance=0.1, tries=6, homed=False, newDir=True)"
   ]
  },
  {
   "cell_type": "code",
   "execution_count": null,
   "metadata": {
    "scrolled": true
   },
   "outputs": [],
   "source": [
    "# move by positions, go home first and do safe movement\n",
    "tries = 12\n",
    "targets = cc.pfi.anglesToPositions(cc.allCobras, np.full(cc.nCobras, np.pi), np.full(cc.nCobras, np.pi/2))\n",
    "dataPath, positions, moves = eng.movePositions(cc.goodIdx, targets[cc.goodIdx], tolerance=0.1, tries=tries, thetaMarginCCW=0.1, homed=True, newDir=True)"
   ]
  },
  {
   "cell_type": "code",
   "execution_count": null,
   "metadata": {
    "scrolled": true
   },
   "outputs": [],
   "source": [
    "# move by positions again\n",
    "targets = cc.pfi.anglesToPositions(cc.allCobras, np.full(cc.nCobras, np.pi), np.full(cc.nCobras, np.pi/2))\n",
    "dataPath, positions, moves = eng.movePositions(cc.goodIdx, targets[cc.goodIdx], tolerance=0.1, tries=8, thetaMarginCCW=0.1, homed=False, newDir=True)"
   ]
  },
  {
   "cell_type": "code",
   "execution_count": null,
   "metadata": {
    "scrolled": true
   },
   "outputs": [],
   "source": [
    "# 2D target convergence test\n",
    "targets, moves = eng.convergenceTest(cc.goodIdx, runs=100, thetaMargin=np.deg2rad(15.0), phiMargin=np.deg2rad(25.0), tries=10, tolerance=0.1)"
   ]
  },
  {
   "cell_type": "code",
   "execution_count": null,
   "metadata": {},
   "outputs": [],
   "source": [
    "# save results in npy format\n",
    "np.save('targets2', targets)\n",
    "np.save('moves2', moves)"
   ]
  },
  {
   "cell_type": "code",
   "execution_count": null,
   "metadata": {},
   "outputs": [],
   "source": [
    "# save results for convergence test in csv format\n",
    "runs, nCobras, tries = moves.shape\n",
    "mTargets = np.zeros(runs*nCobras, dtype=np.dtype(dict(names=['runs', 'cobra', 'x', 'y', 'theta', 'phi'], formats=['i4', 'i4', 'f4', 'f4', 'f4', 'f4'])))\n",
    "mMoves = np.zeros(runs*nCobras*tries, dtype=np.dtype(dict(names=['runs', 'cobra', 'tries', 'x', 'y', 'theta', 'thetaSteps', 'thetaOntime', 'thetaFast', 'phi', 'phiSteps', 'phiOntime', 'phiFast'], formats=['i4', 'i4', 'i4', 'f4', 'f4', 'f4', 'i4', 'f4', 'i4', 'f4', 'i4', 'f4', 'i4'])))\n",
    "\n",
    "for m in range(runs):\n",
    "    mPositions = cc.pfi.anglesToPositions(cc.goodCobras, targets[m,:,0], targets[m,:,1])\n",
    "    for n in range(nCobras):\n",
    "        mTargets[m*nCobras+n] = m+1, cc.goodIdx[n]+1, mPositions[n].real, mPositions[n].imag, np.rad2deg(targets[m,n,0]), np.rad2deg(targets[m,n,1])\n",
    "        for p in range(tries):\n",
    "            mMoves[(m*nCobras+n)*tries+p] = m+1, cc.goodIdx[n]+1, p+1, moves[m,n,p]['position'].real, moves[m,n,p]['position'].imag, np.rad2deg(moves[m,n,p]['thetaAngle']), moves[m,n,p]['thetaSteps'], moves[m,n,p]['thetaOntime'], moves[m,n,p]['thetaFast'], np.rad2deg(moves[m,n,p]['phiAngle']), moves[m,n,p]['phiSteps'], moves[m,n,p]['phiOntime'], moves[m,n,p]['phiFast']\n",
    "\n",
    "np.savetxt(f'targets2.csv', mTargets, fmt='%d %d %.2f %.2f %.2f %.2f', header='runs cobra x y theta phi')\n",
    "np.savetxt(f'moves2.csv', mMoves, fmt='%d %d %d %.2f %.2f %.2f %d %.4f %d %.2f %d %.4f %d', header='runs cobra tries x y theta thetaSteps thetaOntime thetaFast phi phiSteps phiOntime phiFast')"
   ]
  },
  {
   "cell_type": "code",
   "execution_count": null,
   "metadata": {},
   "outputs": [],
   "source": []
  },
  {
   "cell_type": "code",
   "execution_count": null,
   "metadata": {
    "scrolled": true
   },
   "outputs": [],
   "source": [
    "# goto safe position\n",
    "tht = np.empty(cc.nCobras)\n",
    "tht[0::2] = np.pi*3/2\n",
    "tht[1::2] = np.pi/2\n",
    "dataPath, thetas, phis, moves = eng.moveThetaPhi(cc.goodIdx, tht[cc.goodIdx], np.pi/3, relative=False, local=False, tolerance=0.1, tries=10, homed=False, newDir=True)"
   ]
  },
  {
   "cell_type": "code",
   "execution_count": null,
   "metadata": {},
   "outputs": [],
   "source": []
  },
  {
   "cell_type": "code",
   "execution_count": null,
   "metadata": {},
   "outputs": [],
   "source": []
  },
  {
   "cell_type": "code",
   "execution_count": null,
   "metadata": {},
   "outputs": [],
   "source": []
  },
  {
   "cell_type": "code",
   "execution_count": null,
   "metadata": {
    "scrolled": true
   },
   "outputs": [],
   "source": [
    "cc.showStatus()"
   ]
  },
  {
   "cell_type": "code",
   "execution_count": null,
   "metadata": {
    "scrolled": false
   },
   "outputs": [],
   "source": [
    "targets[0,0], moves[0,0], targets[0,35], moves[0,35], targets[0,37], moves[0,37], targets[0,53], moves[0,53]"
   ]
  },
  {
   "cell_type": "code",
   "execution_count": null,
   "metadata": {
    "scrolled": false
   },
   "outputs": [],
   "source": [
    "cc.moveInfo"
   ]
  },
  {
   "cell_type": "code",
   "execution_count": null,
   "metadata": {},
   "outputs": [],
   "source": []
  },
  {
   "cell_type": "code",
   "execution_count": null,
   "metadata": {},
   "outputs": [],
   "source": []
  },
  {
   "cell_type": "code",
   "execution_count": null,
   "metadata": {},
   "outputs": [],
   "source": [
    "cc.pfi.calibModel.cobraStatus(31)"
   ]
  },
  {
   "cell_type": "code",
   "execution_count": null,
   "metadata": {},
   "outputs": [],
   "source": [
    "cc.pfi.calibModel.setCobraStatus(31, brokenTheta=True)\n",
    "cc.pfi.calibModel.createCalibrationFile('SC32_5.xml')"
   ]
  },
  {
   "cell_type": "code",
   "execution_count": null,
   "metadata": {},
   "outputs": [],
   "source": [
    "np.rad2deg((cc.calibModel.tht1 - cc.calibModel.tht0 + np.pi) % (np.pi*2) - np.pi)"
   ]
  },
  {
   "cell_type": "code",
   "execution_count": null,
   "metadata": {},
   "outputs": [],
   "source": []
  },
  {
   "cell_type": "code",
   "execution_count": null,
   "metadata": {},
   "outputs": [],
   "source": [
    "cc.goodIdx"
   ]
  },
  {
   "cell_type": "code",
   "execution_count": null,
   "metadata": {
    "scrolled": false
   },
   "outputs": [],
   "source": [
    "moves[30,10:20,:]"
   ]
  },
  {
   "cell_type": "code",
   "execution_count": null,
   "metadata": {},
   "outputs": [],
   "source": []
  },
  {
   "cell_type": "code",
   "execution_count": null,
   "metadata": {
    "scrolled": true
   },
   "outputs": [],
   "source": [
    "cc.setScaling(constantSpeedScaling=False)\n",
    "targets, moves = eng.convergenceTest(cc.goodIdx, runs=100, thetaMargin=np.deg2rad(10.0), phiMargin=np.deg2rad(25.0), tries=20, tolerance=0.1)\n",
    "cc.setScaling(constantSpeedScaling=True)\n",
    "targets, moves = eng.convergenceTest(cc.goodIdx, runs=100, thetaMargin=np.deg2rad(10.0), phiMargin=np.deg2rad(25.0), tries=20, tolerance=0.1)"
   ]
  },
  {
   "cell_type": "code",
   "execution_count": null,
   "metadata": {},
   "outputs": [],
   "source": []
  },
  {
   "cell_type": "code",
   "execution_count": null,
   "metadata": {
    "scrolled": false
   },
   "outputs": [],
   "source": [
    "ontimes[1,0]"
   ]
  },
  {
   "cell_type": "code",
   "execution_count": null,
   "metadata": {
    "scrolled": true
   },
   "outputs": [],
   "source": [
    "np.rad2deg(angles[1,:10])"
   ]
  },
  {
   "cell_type": "code",
   "execution_count": null,
   "metadata": {
    "scrolled": true
   },
   "outputs": [],
   "source": [
    "cc.moveInfo"
   ]
  },
  {
   "cell_type": "code",
   "execution_count": null,
   "metadata": {
    "scrolled": true
   },
   "outputs": [],
   "source": [
    "cc.phiInfo"
   ]
  },
  {
   "cell_type": "code",
   "execution_count": null,
   "metadata": {},
   "outputs": [],
   "source": [
    "cc.moveSteps(cc.goodCobras, 0, -5000)"
   ]
  },
  {
   "cell_type": "code",
   "execution_count": null,
   "metadata": {},
   "outputs": [],
   "source": [
    "cc.moveInfo, cc.phiInfo"
   ]
  },
  {
   "cell_type": "code",
   "execution_count": null,
   "metadata": {
    "scrolled": false
   },
   "outputs": [],
   "source": [
    "np.abs(cc.cobraInfo['position'] - cc.calibModel.centers)"
   ]
  },
  {
   "cell_type": "code",
   "execution_count": null,
   "metadata": {},
   "outputs": [],
   "source": [
    "cc.cobraInfo"
   ]
  },
  {
   "cell_type": "code",
   "execution_count": null,
   "metadata": {},
   "outputs": [],
   "source": [
    "cc.pfi.positionsToAngles(cc.allCobras, cc.cobraInfo['position'])[2][2,0] & 17"
   ]
  },
  {
   "cell_type": "code",
   "execution_count": null,
   "metadata": {},
   "outputs": [],
   "source": [
    "cc.calibModel.L1, cc.calibModel.L2"
   ]
  },
  {
   "cell_type": "code",
   "execution_count": null,
   "metadata": {},
   "outputs": [],
   "source": [
    "np.diff(np.rad2deg(angles[0,0])) / 250"
   ]
  },
  {
   "cell_type": "code",
   "execution_count": null,
   "metadata": {},
   "outputs": [],
   "source": [
    "np.rad2deg(angles[0,0]), ontimes[0,0], np.rad2deg(speeds[0,0])"
   ]
  },
  {
   "cell_type": "code",
   "execution_count": null,
   "metadata": {
    "scrolled": true
   },
   "outputs": [],
   "source": [
    "np.rad2deg(speeds[0,0,:])"
   ]
  },
  {
   "cell_type": "code",
   "execution_count": null,
   "metadata": {
    "scrolled": true
   },
   "outputs": [],
   "source": [
    "ontimes[1,0,:]"
   ]
  },
  {
   "cell_type": "code",
   "execution_count": null,
   "metadata": {},
   "outputs": [],
   "source": [
    "import matplotlib.pyplot as plt"
   ]
  },
  {
   "cell_type": "code",
   "execution_count": null,
   "metadata": {},
   "outputs": [],
   "source": [
    "datadir = '/data/MCS/20200622_006'\n",
    "angles = np.load(f'{datadir}/data/angles.npy')\n",
    "ontimes = np.load(f'{datadir}/data/ontimes.npy')\n",
    "parameters = np.load(f'{datadir}/data/parameters.npy')"
   ]
  },
  {
   "cell_type": "code",
   "execution_count": null,
   "metadata": {},
   "outputs": [],
   "source": [
    "parameters"
   ]
  },
  {
   "cell_type": "code",
   "execution_count": null,
   "metadata": {
    "scrolled": false
   },
   "outputs": [],
   "source": [
    "idx = 15\n",
    "\n",
    "data = ontimes[idx,0]*1000\n",
    "nz = np.where(data == 0)[0]\n",
    "if len(nz) > 0:\n",
    "    upper = np.where(data == 0)[0][0] - 1\n",
    "else:\n",
    "    upper = len(data)\n",
    "xdata = np.rad2deg(angles)[idx,0,:upper]\n",
    "\n",
    "plt.figure(figsize=(20,20))\n",
    "ax = plt.subplot(411)\n",
    "plt.plot(xdata, data[:upper], 'o')\n",
    "ax.set_title('On-time (forward)')\n",
    "\n",
    "ax = plt.subplot(412)\n",
    "data1 = np.rad2deg(speeds[idx,0])\n",
    "plt.plot(xdata, data1[:upper], 'o')\n",
    "ax.set_title('Step size (forward)')\n",
    "\n",
    "data = ontimes[idx,1]*1000\n",
    "nz = np.where(data == 0)[0]\n",
    "if len(nz) > 0:\n",
    "    upper = np.where(data == 0)[0][0]\n",
    "else:\n",
    "    upper = len(data)\n",
    "xdata = np.rad2deg(angles)[idx,1,:upper]\n",
    "\n",
    "ax = plt.subplot(413)\n",
    "plt.plot(xdata, data[:upper], 'o')\n",
    "ax.set_title('On-time (backward)')\n",
    "\n",
    "ax = plt.subplot(414)\n",
    "data1 = -np.rad2deg(speeds[idx,1])\n",
    "plt.plot(xdata, data1[:upper], 'o')\n",
    "ax.set_title('Step size (backward)')\n",
    "\n",
    "plt.show()"
   ]
  },
  {
   "cell_type": "code",
   "execution_count": null,
   "metadata": {},
   "outputs": [],
   "source": [
    "np.where(ontimes[0,0,:] == 0)[0][0]"
   ]
  },
  {
   "cell_type": "code",
   "execution_count": null,
   "metadata": {},
   "outputs": [],
   "source": [
    "angles[1,1,:]"
   ]
  },
  {
   "cell_type": "code",
   "execution_count": null,
   "metadata": {},
   "outputs": [],
   "source": [
    "np.rad2deg(np.diff(angles[0,0])) / 30"
   ]
  },
  {
   "cell_type": "code",
   "execution_count": null,
   "metadata": {},
   "outputs": [],
   "source": [
    "np.diff(np.rad2deg(angles))[0,0]"
   ]
  },
  {
   "cell_type": "code",
   "execution_count": null,
   "metadata": {},
   "outputs": [],
   "source": [
    "mod = 'SC09'"
   ]
  },
  {
   "cell_type": "code",
   "execution_count": null,
   "metadata": {},
   "outputs": [],
   "source": [
    "ontimes[1,1,0,:]"
   ]
  },
  {
   "cell_type": "code",
   "execution_count": null,
   "metadata": {},
   "outputs": [],
   "source": [
    "thetaOt = np.array([[0.1   , 0.0724, 0.1   , 0.054 , 0.0709, 0.0626, 0.0707, 0.0592,\n",
    "        0.1   , 0.0803, 0.0809, 0.0531, 0.0854, 0.0437, 0.0494, 0.0618,\n",
    "        0.0851, 0.0532, 0.1   , 0.0561, 0.0627, 0.0636, 0.1   , 0.073 ,\n",
    "        0.0652, 0.0683, 0.0596, 0.0525, 0.0497, 0.0636, 0.0694, 0.0584,\n",
    "        0.1   , 0.0722, 0.0863, 0.0526, 0.0462, 0.0687, 0.0517, 0.0607,\n",
    "        0.0535, 0.0833, 0.0695, 0.0818, 0.0529, 0.0753, 0.0677, 0.0737,\n",
    "        0.078 , 0.0565, 0.0572, 0.0896, 0.0572, 0.0691, 0.0576, 0.1   ,\n",
    "        0.0637],\n",
    "       [0.1   , 0.067 , 0.0854, 0.0578, 0.0666, 0.0682, 0.08  , 0.063 ,\n",
    "        0.1   , 0.0732, 0.1   , 0.0578, 0.0634, 0.0418, 0.0481, 0.067 ,\n",
    "        0.1   , 0.0561, 0.1   , 0.0584, 0.0595, 0.0602, 0.0879, 0.0768,\n",
    "        0.0598, 0.0781, 0.0697, 0.0563, 0.0566, 0.0761, 0.0498, 0.08  ,\n",
    "        0.0985, 0.0904, 0.0717, 0.0528, 0.0469, 0.0758, 0.0596, 0.0588,\n",
    "        0.066 , 0.1   , 0.0682, 0.0774, 0.0604, 0.0702, 0.0555, 0.08  ,\n",
    "        0.0724, 0.065 , 0.0632, 0.0742, 0.0651, 0.0757, 0.0601, 0.0986,\n",
    "        0.0548]])"
   ]
  },
  {
   "cell_type": "code",
   "execution_count": null,
   "metadata": {},
   "outputs": [],
   "source": [
    "phiOt = np.array([[0.0675, 0.0318, 0.0426, 0.039 , 0.0309, 0.023 , 0.0396, 0.0325,\n",
    "        0.0315, 0.0267, 0.0489, 0.0224, 0.0253, 0.0353, 0.0574, 0.0332,\n",
    "        0.0346, 0.0478, 0.0588, 0.0299, 0.0227, 0.0284, 0.0339, 0.0441,\n",
    "        0.0382, 0.0424, 0.0426, 0.0294, 0.0485, 0.0423, 0.0304, 0.0257,\n",
    "        0.0541, 0.0256, 0.0505, 0.0291, 0.0212, 0.0413, 0.0281, 0.0376,\n",
    "        0.0234, 0.0298, 0.0351, 0.0346, 0.0355, 0.0324, 0.0245, 0.0261,\n",
    "        0.0492, 0.0306, 0.0415, 0.0353, 0.0251, 0.0252, 0.0224, 0.0404,\n",
    "        0.0276],\n",
    "       [0.0452, 0.0262, 0.0451, 0.0369, 0.027 , 0.0245, 0.0377, 0.0319,\n",
    "        0.0255, 0.0285, 0.0406, 0.0248, 0.0262, 0.0361, 0.0507, 0.0288,\n",
    "        0.034 , 0.0393, 0.0472, 0.0265, 0.0218, 0.0282, 0.0337, 0.0517,\n",
    "        0.0344, 0.0396, 0.0308, 0.0339, 0.0437, 0.0543, 0.0276, 0.0244,\n",
    "        0.0564, 0.0282, 0.0523, 0.0304, 0.0211, 0.0522, 0.0403, 0.0396,\n",
    "        0.023 , 0.0321, 0.0357, 0.0319, 0.0313, 0.0322, 0.0214, 0.0233,\n",
    "        0.0403, 0.0337, 0.0339, 0.0324, 0.0292, 0.0285, 0.0224, 0.035 ,\n",
    "        0.0249]])"
   ]
  },
  {
   "cell_type": "code",
   "execution_count": 7,
   "metadata": {},
   "outputs": [
    {
     "data": {
      "text/plain": [
       "array([[(3488.70678711+896.20843506j, 0.36444768,   67, 0.1  ,  True),\n",
       "        (3489.0703125 +902.08282471j, 0.13943963,  -54, 0.087,  True),\n",
       "        (3488.72021484+899.09619141j, 0.25410977,   32, 0.091,  True),\n",
       "        (3488.62597656+898.56811523j, 0.27443296,    7, 0.064,  True),\n",
       "        (3488.72216797+899.16662598j, 0.25142354,  -12, 0.049,  True),\n",
       "        (3488.62231445+898.48394775j, 0.27764007,   10, 0.064,  True),\n",
       "        (3488.67211914+898.81903076j, 0.26478568,  -15, 0.043,  True),\n",
       "        (3488.70166016+898.97290039j, 0.25885424,   -3, 0.046,  True),\n",
       "        (3488.65893555+898.72442627j, 0.26841554,    3, 0.065,  True),\n",
       "        (3488.71289062+898.96966553j, 0.25894558,   -6, 0.045,  True)],\n",
       "       [(3538.59838867+884.38824463j, 2.982745  , 1750, 0.1  ,  True),\n",
       "        (3541.34179688+891.83062744j, 3.2779582 ,  229, 0.1  ,  True),\n",
       "        (3539.79418945+886.95025635j, 3.087812  ,  -50, 0.087,  True),\n",
       "        (3540.22143555+887.91241455j, 3.1268272 ,   49, 0.069,  True),\n",
       "        (3540.29272461+888.14691162j, 3.1359057 ,   13, 0.076,  True),\n",
       "        (3540.36083984+888.35516357j, 3.1440346 ,    5, 0.088,  True),\n",
       "        (3540.35717773+888.32977295j, 3.1430967 ,   -2, 0.043,  True),\n",
       "        (3540.35424805+888.33172607j, 3.143132  ,   -1, 0.043,  True),\n",
       "        (3540.35571289+888.31622314j, 3.1426055 ,   -1, 0.043,  True),\n",
       "        (   0.          +0.j        , 0.        ,    0, 0.   , False)],\n",
       "       [(3534.41137695+915.4152832j , 4.2264743 , 3145, 0.1  ,  True),\n",
       "        (3534.38012695+915.45446777j, 4.2283387 ,  582, 0.1  ,  True),\n",
       "        (3533.94482422+915.88543701j, 4.251174  ,  581, 0.1  ,  True),\n",
       "        (3533.5847168 +916.20501709j, 4.269109  ,  570, 0.1  ,  True),\n",
       "        (3533.40405273+916.43969727j, 4.280045  ,  562, 0.1  ,  True),\n",
       "        (3533.1237793 +916.68109131j, 4.2938213 ,  557, 0.1  ,  True),\n",
       "        (3532.02026367+917.62805176j, 4.348085  ,  550, 0.1  ,  True),\n",
       "        (3526.60693359+921.06140137j, 4.5882564 ,  524, 0.1  ,  True),\n",
       "        (3496.58325195+916.0524292j , 5.81005   ,  413, 0.1  ,  True),\n",
       "        (3495.69018555+915.13903809j, 5.85855   ,   30, 0.1  ,  True)]],\n",
       "      dtype=[('position', '<c16'), ('angle', '<f4'), ('steps', '<i4'), ('ontime', '<f4'), ('fast', '?')])"
      ]
     },
     "execution_count": 7,
     "metadata": {},
     "output_type": "execute_result"
    }
   ],
   "source": [
    "moves[:,22,:]"
   ]
  },
  {
   "cell_type": "code",
   "execution_count": 8,
   "metadata": {},
   "outputs": [
    {
     "data": {
      "text/plain": [
       "(0.2617993877991494, 3.141592653589793, 6.021385919380437)"
      ]
     },
     "execution_count": 8,
     "metadata": {},
     "output_type": "execute_result"
    }
   ],
   "source": [
    "np.deg2rad(15), np.deg2rad(180), np.deg2rad(345)"
   ]
  },
  {
   "cell_type": "code",
   "execution_count": null,
   "metadata": {
    "scrolled": true
   },
   "outputs": [],
   "source": [
    "eng.mmTheta[10,0,280:310], eng.mmTheta[10,1,300:340]"
   ]
  },
  {
   "cell_type": "code",
   "execution_count": null,
   "metadata": {},
   "outputs": [],
   "source": []
  }
 ],
 "metadata": {
  "kernelspec": {
   "display_name": "Python 3",
   "language": "python",
   "name": "python3"
  },
  "language_info": {
   "codemirror_mode": {
    "name": "ipython",
    "version": 3
   },
   "file_extension": ".py",
   "mimetype": "text/x-python",
   "name": "python",
   "nbconvert_exporter": "python",
   "pygments_lexer": "ipython3",
   "version": "3.7.3"
  }
 },
 "nbformat": 4,
 "nbformat_minor": 2
}
