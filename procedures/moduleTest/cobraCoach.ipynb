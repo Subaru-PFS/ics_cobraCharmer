{
 "cells": [
  {
   "cell_type": "code",
   "execution_count": null,
   "metadata": {},
   "outputs": [],
   "source": [
    "from cobraCoach import CobraCoach\n",
    "import pathlib\n",
    "import numpy as np\n",
    "import logging\n",
    "import engineer as eng"
   ]
  },
  {
   "cell_type": "code",
   "execution_count": null,
   "metadata": {},
   "outputs": [],
   "source": [
    "mod = 'SP01'\n",
    "cc = CobraCoach('fpga', loadModel=False)\n",
    "cc.loadModel(version=mod, moduleVersion=None)\n",
    "eng.setCobraCoach(cc)"
   ]
  },
  {
   "cell_type": "code",
   "execution_count": null,
   "metadata": {},
   "outputs": [],
   "source": []
  },
  {
   "cell_type": "code",
   "execution_count": null,
   "metadata": {},
   "outputs": [],
   "source": [
    "eng.setConstantOntimeMode()"
   ]
  },
  {
   "cell_type": "code",
   "execution_count": null,
   "metadata": {},
   "outputs": [],
   "source": [
    "eng.setConstantSpeedMode(maxSegments=50, maxSteps=100)"
   ]
  },
  {
   "cell_type": "code",
   "execution_count": null,
   "metadata": {},
   "outputs": [],
   "source": [
    "mmTheta = np.load('/home/cwen/mhs/devel/ics_cobraCharmer/procedures/moduleTest/SP01_mmThetaFast4.npy')\n",
    "mmPhi = np.load('/home/cwen/mhs/devel/ics_cobraCharmer/procedures/moduleTest/SP01_mmPhiFast2.npy')\n",
    "mmThetaSlow = np.load('/home/cwen/mhs/devel/ics_cobraCharmer/procedures/moduleTest/SP01_mmThetaSlow2.npy')\n",
    "mmPhiSlow = np.load('/home/cwen/mhs/devel/ics_cobraCharmer/procedures/moduleTest/SP01_mmPhiSlow2.npy')\n",
    "eng.setConstantSpeedMaps(mmTheta, mmPhi, mmThetaSlow, mmPhiSlow)"
   ]
  },
  {
   "cell_type": "code",
   "execution_count": null,
   "metadata": {},
   "outputs": [],
   "source": []
  },
  {
   "cell_type": "code",
   "execution_count": null,
   "metadata": {},
   "outputs": [],
   "source": [
    "cc.visibleIdx"
   ]
  },
  {
   "cell_type": "code",
   "execution_count": null,
   "metadata": {
    "scrolled": true
   },
   "outputs": [],
   "source": [
    "# update center positions from home, not accurately\n",
    "eng.convertXML(f'{mod}.xml')"
   ]
  },
  {
   "cell_type": "code",
   "execution_count": null,
   "metadata": {
    "scrolled": false
   },
   "outputs": [],
   "source": [
    "cc.showStatus()"
   ]
  },
  {
   "cell_type": "code",
   "execution_count": null,
   "metadata": {},
   "outputs": [],
   "source": []
  },
  {
   "cell_type": "code",
   "execution_count": null,
   "metadata": {},
   "outputs": [],
   "source": [
    "cc.setScaling(False)"
   ]
  },
  {
   "cell_type": "code",
   "execution_count": null,
   "metadata": {},
   "outputs": [],
   "source": [
    "# enable motor scaling and set parameters\n",
    "cc.setScaling(True, thetaScaleFactor=4.0, phiScaleFactor=4.0, minThetaSteps=1, minPhiSteps=1)"
   ]
  },
  {
   "cell_type": "code",
   "execution_count": null,
   "metadata": {},
   "outputs": [],
   "source": [
    "cc.setScaling(True, thetaScaleFactor=4.0, phiScaleFactor=4.0, minThetaSteps=20, minPhiSteps=20)"
   ]
  },
  {
   "cell_type": "code",
   "execution_count": null,
   "metadata": {},
   "outputs": [],
   "source": [
    "cc.setScaling(True, thetaScaleFactor=2.0, phiScaleFactor=2.0, minThetaSteps=200, minPhiSteps=200)"
   ]
  },
  {
   "cell_type": "code",
   "execution_count": null,
   "metadata": {},
   "outputs": [],
   "source": [
    "# reset motor scaling\n",
    "cc.pfi.resetMotorScaling()"
   ]
  },
  {
   "cell_type": "code",
   "execution_count": null,
   "metadata": {},
   "outputs": [],
   "source": []
  },
  {
   "cell_type": "code",
   "execution_count": null,
   "metadata": {},
   "outputs": [],
   "source": [
    "# switch to phi mode\n",
    "eng.setPhiMode()"
   ]
  },
  {
   "cell_type": "code",
   "execution_count": null,
   "metadata": {
    "scrolled": true
   },
   "outputs": [],
   "source": [
    "# generate a quick motormap and set geometry\n",
    "eng.makePhiMotorMaps(f'{mod}_phi.xml', steps=50, totalSteps=6000, repeat=1, fast=False)"
   ]
  },
  {
   "cell_type": "code",
   "execution_count": null,
   "metadata": {},
   "outputs": [],
   "source": [
    "# set phi geometry from previous run\n",
    "cc.setPhiGeometryFromRun('/data/MCS/20201029_013', onlyIfClear=False)"
   ]
  },
  {
   "cell_type": "code",
   "execution_count": null,
   "metadata": {
    "scrolled": true
   },
   "outputs": [],
   "source": [
    "# move phi to home position\n",
    "cc.moveToHome(cc.goodCobras, phiEnable=True)"
   ]
  },
  {
   "cell_type": "code",
   "execution_count": null,
   "metadata": {},
   "outputs": [],
   "source": []
  },
  {
   "cell_type": "code",
   "execution_count": null,
   "metadata": {
    "scrolled": true
   },
   "outputs": [],
   "source": [
    "# phi on time search\n",
    "eng.phiOnTimeSearch(f'{mod}_phi_search.xml', iteration=3, repeat=1)"
   ]
  },
  {
   "cell_type": "code",
   "execution_count": null,
   "metadata": {
    "scrolled": true
   },
   "outputs": [],
   "source": [
    "# generate new motormaps\n",
    "#eng.makePhiMotorMaps(f'{mod}_phi800.xml', steps=800, totalSteps=8000, repeat=3)\n",
    "#eng.makePhiMotorMaps(f'{mod}_phi500.xml', steps=500, totalSteps=8000, repeat=3)\n",
    "#eng.makePhiMotorMaps(f'{mod}_phi200.xml', steps=200, totalSteps=8000, repeat=3)\n",
    "eng.makePhiMotorMaps(f'{mod}_phi100.xml', steps=100, totalSteps=8000, repeat=1)\n",
    "#eng.makePhiMotorMaps(f'{mod}_phi50.xml', steps=50, totalSteps=8000, repeat=3)\n",
    "#eng.makePhiMotorMaps(f'{mod}_phi20.xml', steps=20, totalSteps=8000, repeat=3)\n",
    "#eng.makePhiMotorMaps(f'{mod}_phi10.xml', steps=10, totalSteps=8000, repeat=3)\n",
    "#eng.makePhiMotorMaps(f'{mod}_phi5.xml', steps=5, totalSteps=6000, repeat=3)"
   ]
  },
  {
   "cell_type": "code",
   "execution_count": null,
   "metadata": {
    "scrolled": true
   },
   "outputs": [],
   "source": [
    "eng.makePhiMotorMaps(f'{mod}_phi_fast.xml', steps=50, totalSteps=6000, repeat=1, fast=True)"
   ]
  },
  {
   "cell_type": "code",
   "execution_count": null,
   "metadata": {
    "scrolled": true
   },
   "outputs": [],
   "source": [
    "eng.makePhiMotorMaps(f'{mod}_phi_test.xml', steps=25, totalSteps=6000, repeat=1, fast=True, phiOnTime=phiOt)"
   ]
  },
  {
   "cell_type": "code",
   "execution_count": null,
   "metadata": {},
   "outputs": [],
   "source": [
    "eng.makePhiMotorMaps(f'{mod}_phi_test.xml', steps=50, totalSteps=6000, repeat=1, fast=False, phiOnTime=phiOt)"
   ]
  },
  {
   "cell_type": "code",
   "execution_count": null,
   "metadata": {},
   "outputs": [],
   "source": []
  },
  {
   "cell_type": "code",
   "execution_count": null,
   "metadata": {
    "scrolled": true
   },
   "outputs": [],
   "source": [
    "# move phi by angles\n",
    "dataPath, diffAngles, moves = eng.movePhiAngles(cc.goodIdx, np.deg2rad(165), relative=False, local=True, tolerance=0.002, tries=6, fast=False, newDir=True)"
   ]
  },
  {
   "cell_type": "code",
   "execution_count": null,
   "metadata": {
    "scrolled": true
   },
   "outputs": [],
   "source": [
    "# move by a angle\n",
    "dataPath, diffAngles, moves = eng.movePhiAngles(cc.goodIdx, np.deg2rad(90), relative=False, local=True, tolerance=0.002, tries=6, fast=False, newDir=True)"
   ]
  },
  {
   "cell_type": "code",
   "execution_count": null,
   "metadata": {
    "scrolled": true
   },
   "outputs": [],
   "source": [
    "# convergence test\n",
    "moves = eng.phiConvergenceTest(cc.goodIdx, margin=15.0, runs=51, tries=8, fast=False, tolerance=0.1)"
   ]
  },
  {
   "cell_type": "code",
   "execution_count": null,
   "metadata": {
    "scrolled": true
   },
   "outputs": [],
   "source": [
    "# move phi to 60 degree for theta test\n",
    "dataPath, diffAngles, moves = eng.movePhiAngles(cc.goodIdx, np.pi/3, relative=False, local=False, tolerance=0.002, tries=6, fast=False, newDir=True)"
   ]
  },
  {
   "cell_type": "code",
   "execution_count": null,
   "metadata": {},
   "outputs": [],
   "source": []
  },
  {
   "cell_type": "code",
   "execution_count": null,
   "metadata": {
    "scrolled": true
   },
   "outputs": [],
   "source": [
    "# phi on-time scan\n",
    "dataPath, ontimes, angles, speeds = eng.phiOntimeScan(speed=np.deg2rad(0.12), steps=10, totalSteps=6000, repeat=1, scaling=3.0)"
   ]
  },
  {
   "cell_type": "code",
   "execution_count": null,
   "metadata": {
    "scrolled": true
   },
   "outputs": [],
   "source": [
    "dataPath, ontimes, angles, speeds = eng.phiOntimeScan(speed=np.deg2rad(0.06), steps=20, totalSteps=9000, repeat=1, scaling=4.0, tolerance=np.deg2rad(3.0))"
   ]
  },
  {
   "cell_type": "code",
   "execution_count": null,
   "metadata": {},
   "outputs": [],
   "source": []
  },
  {
   "cell_type": "code",
   "execution_count": null,
   "metadata": {},
   "outputs": [],
   "source": [
    "# swtich to theta mode\n",
    "eng.setThetaMode()"
   ]
  },
  {
   "cell_type": "code",
   "execution_count": null,
   "metadata": {
    "scrolled": true
   },
   "outputs": [],
   "source": [
    "# generate a quick motormap and set geometry\n",
    "eng.makeThetaMotorMaps(f'{mod}_theta.xml', steps=200, totalSteps=10000, repeat=1, fast=False)"
   ]
  },
  {
   "cell_type": "code",
   "execution_count": null,
   "metadata": {},
   "outputs": [],
   "source": [
    "# set theta geometry from previous run\n",
    "cc.setThetaGeometryFromRun('/data/MCS/20201030_025', onlyIfClear=False)"
   ]
  },
  {
   "cell_type": "code",
   "execution_count": null,
   "metadata": {
    "scrolled": true
   },
   "outputs": [],
   "source": [
    "# move theta to home position\n",
    "cc.moveToHome(cc.goodCobras, thetaEnable=True, thetaCCW=False)"
   ]
  },
  {
   "cell_type": "code",
   "execution_count": null,
   "metadata": {},
   "outputs": [],
   "source": [
    "# set current angle to zeros, if you know\n",
    "cc.setCurrentAngles(cc.goodCobras, thetaAngles=0, phiAngles=0)"
   ]
  },
  {
   "cell_type": "code",
   "execution_count": null,
   "metadata": {},
   "outputs": [],
   "source": []
  },
  {
   "cell_type": "code",
   "execution_count": null,
   "metadata": {},
   "outputs": [],
   "source": [
    "# theta on time search\n",
    "eng.thetaOnTimeSearch(f'{mod}_theta_search.xml', iteration=3, repeat=1)"
   ]
  },
  {
   "cell_type": "code",
   "execution_count": null,
   "metadata": {
    "scrolled": true
   },
   "outputs": [],
   "source": [
    "# generate new motormaps\n",
    "#eng.makeThetaMotorMaps(f'{mod}_theta800.xml', steps=800, totalSteps=12000, repeat=3)\n",
    "#eng.makeThetaMotorMaps(f'{mod}_theta500.xml', steps=500, totalSteps=12000, repeat=3)\n",
    "#eng.makeThetaMotorMaps(f'{mod}_theta200.xml', steps=200, totalSteps=12000, repeat=1)\n",
    "#eng.makeThetaMotorMaps(f'{mod}_theta100.xml', steps=100, totalSteps=12000, repeat=3)\n",
    "#eng.makeThetaMotorMaps(f'{mod}_theta50.xml', steps=50, totalSteps=12000, repeat=3)\n",
    "eng.makeThetaMotorMaps(f'{mod}_theta.xml', steps=50, totalSteps=12000, repeat=3)\n",
    "eng.makeThetaMotorMaps(f'{mod}_theta.xml', steps=25, totalSteps=12000, repeat=3, fast=True)"
   ]
  },
  {
   "cell_type": "code",
   "execution_count": null,
   "metadata": {},
   "outputs": [],
   "source": [
    "eng.makeThetaMotorMaps(f'{mod}_theta5.xml', steps=5, totalSteps=12000, repeat=3, force=True)"
   ]
  },
  {
   "cell_type": "code",
   "execution_count": null,
   "metadata": {},
   "outputs": [],
   "source": [
    "eng.makeThetaMotorMaps(f'{mod}_theta_test.xml', steps=100, totalSteps=12000, repeat=3, fast=True, thetaOnTime=thetaOt)"
   ]
  },
  {
   "cell_type": "code",
   "execution_count": null,
   "metadata": {},
   "outputs": [],
   "source": [
    "for ot in [0.06, 0.08, 0.1, 0.12, 0.14]:\n",
    "    eng.makeThetaMotorMaps(f'{mod}_theta_test.xml', steps=25, totalSteps=5000, repeat=1, fast=True, thetaOnTime=ot)"
   ]
  },
  {
   "cell_type": "code",
   "execution_count": null,
   "metadata": {},
   "outputs": [],
   "source": [
    "# reset motor scaling\n",
    "cc.pfi.resetMotorScaling(cc.allCobras)"
   ]
  },
  {
   "cell_type": "code",
   "execution_count": null,
   "metadata": {
    "scrolled": true
   },
   "outputs": [],
   "source": [
    "# move by angles\n",
    "dataPath, diffAngles, moves = eng.moveThetaAngles(cc.goodIdx, np.pi/3, tries=6)"
   ]
  },
  {
   "cell_type": "code",
   "execution_count": null,
   "metadata": {},
   "outputs": [],
   "source": [
    "# convergence test\n",
    "moves = eng.thetaConvergenceTest(cc.goodIdx, margin=15.0, runs=5, tries=10, fast=False, tolerance=0.1)"
   ]
  },
  {
   "cell_type": "code",
   "execution_count": null,
   "metadata": {},
   "outputs": [],
   "source": []
  },
  {
   "cell_type": "code",
   "execution_count": null,
   "metadata": {
    "scrolled": true
   },
   "outputs": [],
   "source": [
    "# move theta arms outward in theta mode\n",
    "#eng.maxSteps = 100\n",
    "tht = np.empty(cc.nCobras)\n",
    "tht[0::2] = np.pi*3/2 - np.pi/3\n",
    "tht[1::2] = np.pi/2 - np.pi/3\n",
    "#eng.moveThetaAngles(cc.goodIdx, tht[cc.goodIdx], local=False)\n",
    "eng.moveThetaAngles2(cc.goodIdx, tht[cc.goodIdx], local=False, tolerance=0.002, tries=10, fast=False, newDir=True)"
   ]
  },
  {
   "cell_type": "code",
   "execution_count": null,
   "metadata": {
    "scrolled": true
   },
   "outputs": [],
   "source": [
    "# theta on-time scan\n",
    "dataPath, ontimes, angles, speeds = eng.thetaOntimeScan(speed=np.deg2rad(0.06), steps=20, totalSteps=15000, repeat=1, scaling=3.0, tolerance=np.deg2rad(3.0))"
   ]
  },
  {
   "cell_type": "code",
   "execution_count": null,
   "metadata": {
    "scrolled": true
   },
   "outputs": [],
   "source": [
    "# theta on-time scan\n",
    "dataPath, ontimes, angles, speeds = eng.thetaOntimeScan(speed=np.deg2rad(0.12), steps=10, totalSteps=10000, repeat=1, scaling=3.0)"
   ]
  },
  {
   "cell_type": "code",
   "execution_count": null,
   "metadata": {},
   "outputs": [],
   "source": []
  },
  {
   "cell_type": "code",
   "execution_count": null,
   "metadata": {},
   "outputs": [],
   "source": [
    "# update cobra geometry\n",
    "eng.updateXML(f'{mod}_new.xml', '/data/MCS/20201029_004', '/data/MCS/20201029_001')"
   ]
  },
  {
   "cell_type": "code",
   "execution_count": null,
   "metadata": {},
   "outputs": [],
   "source": []
  },
  {
   "cell_type": "code",
   "execution_count": null,
   "metadata": {},
   "outputs": [],
   "source": []
  },
  {
   "cell_type": "code",
   "execution_count": null,
   "metadata": {},
   "outputs": [],
   "source": [
    "# swtich to normal mode\n",
    "eng.setNormalMode()"
   ]
  },
  {
   "cell_type": "code",
   "execution_count": null,
   "metadata": {
    "scrolled": true
   },
   "outputs": [],
   "source": [
    "# move to home position\n",
    "cc.moveToHome(cc.goodCobras, thetaEnable=True, phiEnable=True, thetaCCW=False)\n",
    "#cc.moveToHome([cc.allCobras[46]], thetaEnable=True, phiEnable=True, thetaCCW=True)"
   ]
  },
  {
   "cell_type": "code",
   "execution_count": null,
   "metadata": {
    "scrolled": true
   },
   "outputs": [],
   "source": [
    "cc.getCurrentPositions()"
   ]
  },
  {
   "cell_type": "code",
   "execution_count": null,
   "metadata": {},
   "outputs": [],
   "source": [
    "# set current angle, if you know\n",
    "cc.setCurrentAngles(cc.goodCobras, thetaAngles=0, phiAngles=0)"
   ]
  },
  {
   "cell_type": "code",
   "execution_count": null,
   "metadata": {
    "scrolled": true
   },
   "outputs": [],
   "source": [
    "# move by angles\n",
    "dataPath, thetas, phis, moves = eng.moveThetaPhi(cc.goodIdx, np.pi/2, np.pi/3, relative=False, local=True, tolerance=0.1, tries=6, homed=False, newDir=True)"
   ]
  },
  {
   "cell_type": "code",
   "execution_count": null,
   "metadata": {
    "scrolled": true
   },
   "outputs": [],
   "source": [
    "# move by positions, go home first and do safe movement\n",
    "tries = 12\n",
    "targets = cc.pfi.anglesToPositions(cc.allCobras, np.full(cc.nCobras, np.pi), np.full(cc.nCobras, np.pi/2))\n",
    "dataPath, positions, moves = eng.movePositions(cc.goodIdx, targets[cc.goodIdx], tolerance=0.1, tries=tries, thetaMarginCCW=0.1, homed=True, newDir=True)"
   ]
  },
  {
   "cell_type": "code",
   "execution_count": null,
   "metadata": {
    "scrolled": true
   },
   "outputs": [],
   "source": [
    "# move by positions again\n",
    "targets = cc.pfi.anglesToPositions(cc.allCobras, np.full(cc.nCobras, np.pi), np.full(cc.nCobras, np.pi/2))\n",
    "dataPath, positions, moves = eng.movePositions(cc.goodIdx, targets[cc.goodIdx], tolerance=0.1, tries=8, thetaMarginCCW=0.1, homed=False, newDir=True)"
   ]
  },
  {
   "cell_type": "code",
   "execution_count": null,
   "metadata": {
    "scrolled": true
   },
   "outputs": [],
   "source": [
    "# 2D target convergence test\n",
    "targets, moves = eng.convergenceTest(cc.goodIdx, runs=3, thetaMargin=np.deg2rad(15.0), phiMargin=np.deg2rad(15.0), tries=8, tolerance=0.2)"
   ]
  },
  {
   "cell_type": "code",
   "execution_count": null,
   "metadata": {
    "scrolled": true
   },
   "outputs": [],
   "source": [
    "targets, moves = eng.convergenceTestY(cc.goodIdx, runs=3, thetaMargin=np.deg2rad(15.0), phiMargin=np.deg2rad(15.0), tries=8, tolerance=0.2, threshold=3.0)"
   ]
  },
  {
   "cell_type": "code",
   "execution_count": null,
   "metadata": {},
   "outputs": [],
   "source": [
    "# save results in npy format\n",
    "np.save('targets2', targets)\n",
    "np.save('moves2', moves)"
   ]
  },
  {
   "cell_type": "code",
   "execution_count": null,
   "metadata": {},
   "outputs": [],
   "source": [
    "# save results for convergence test in csv format\n",
    "runs, nCobras, tries = moves.shape\n",
    "mTargets = np.zeros(runs*nCobras, dtype=np.dtype(dict(names=['runs', 'cobra', 'x', 'y', 'theta', 'phi'], formats=['i4', 'i4', 'f4', 'f4', 'f4', 'f4'])))\n",
    "mMoves = np.zeros(runs*nCobras*tries, dtype=np.dtype(dict(names=['runs', 'cobra', 'tries', 'x', 'y', 'theta', 'thetaSteps', 'thetaOntime', 'thetaFast', 'phi', 'phiSteps', 'phiOntime', 'phiFast'], formats=['i4', 'i4', 'i4', 'f4', 'f4', 'f4', 'i4', 'f4', 'i4', 'f4', 'i4', 'f4', 'i4'])))\n",
    "\n",
    "for m in range(runs):\n",
    "    mPositions = cc.pfi.anglesToPositions(cc.goodCobras, targets[m,:,0], targets[m,:,1])\n",
    "    for n in range(nCobras):\n",
    "        mTargets[m*nCobras+n] = m+1, cc.goodIdx[n]+1, mPositions[n].real, mPositions[n].imag, np.rad2deg(targets[m,n,0]), np.rad2deg(targets[m,n,1])\n",
    "        for p in range(tries):\n",
    "            mMoves[(m*nCobras+n)*tries+p] = m+1, cc.goodIdx[n]+1, p+1, moves[m,n,p]['position'].real, moves[m,n,p]['position'].imag, np.rad2deg(moves[m,n,p]['thetaAngle']), moves[m,n,p]['thetaSteps'], moves[m,n,p]['thetaOntime'], moves[m,n,p]['thetaFast'], np.rad2deg(moves[m,n,p]['phiAngle']), moves[m,n,p]['phiSteps'], moves[m,n,p]['phiOntime'], moves[m,n,p]['phiFast']\n",
    "\n",
    "np.savetxt(f'targets2.csv', mTargets, fmt='%d %d %.2f %.2f %.2f %.2f', header='runs cobra x y theta phi')\n",
    "np.savetxt(f'moves2.csv', mMoves, fmt='%d %d %d %.2f %.2f %.2f %d %.4f %d %.2f %d %.4f %d', header='runs cobra tries x y theta thetaSteps thetaOntime thetaFast phi phiSteps phiOntime phiFast')"
   ]
  },
  {
   "cell_type": "code",
   "execution_count": null,
   "metadata": {},
   "outputs": [],
   "source": []
  },
  {
   "cell_type": "code",
   "execution_count": null,
   "metadata": {
    "scrolled": true
   },
   "outputs": [],
   "source": [
    "# goto safe position\n",
    "tht = np.empty(cc.nCobras)\n",
    "tht[0::2] = np.pi*3/2\n",
    "tht[1::2] = np.pi/2\n",
    "#dataPath, thetas, phis, moves = eng.moveThetaPhi(cc.goodIdx, tht[cc.goodIdx], np.pi/3, relative=False, local=False, tolerance=0.1, tries=10, homed=False, newDir=True)\n",
    "#dataPath, thetas, phis, moves = eng.moveThetaPhi2(cc.goodIdx, tht[cc.goodIdx], np.pi/3, relative=False, local=False, tolerance=0.1, tries=10, homed=False, thetaThreshold=0.2, phiThreshold=0.2, newDir=True)\n",
    "dataPath, thetas, phis, moves = eng.moveThetaPhi(cc.goodIdx, tht[cc.goodIdx], np.pi/3, relative=False, local=False, tolerance=0.2, tries=10, homed=False, newDir=True)"
   ]
  },
  {
   "cell_type": "code",
   "execution_count": null,
   "metadata": {
    "scrolled": true
   },
   "outputs": [],
   "source": [
    "dataPath, thetas, phis, moves = eng.moveThetaPhi(cc.goodIdx, tht[cc.goodIdx], np.pi/3, relative=False, local=False, tolerance=0.2, tries=6, homed=False, newDir=False)"
   ]
  },
  {
   "cell_type": "code",
   "execution_count": null,
   "metadata": {
    "scrolled": true
   },
   "outputs": [],
   "source": [
    "eng.moveDeltaAngles(cc.goodIdx, thetaAngles=0.1, phiAngles=0.1, thetaThreshold=0.1, phiThreshold=0.1)"
   ]
  },
  {
   "cell_type": "code",
   "execution_count": null,
   "metadata": {},
   "outputs": [],
   "source": [
    "cc.cobraInfo[29], cc.cobraInfo[15], cc.thetaInfo[54]"
   ]
  },
  {
   "cell_type": "code",
   "execution_count": null,
   "metadata": {},
   "outputs": [],
   "source": [
    "cobras = [cc.allCobras[47]]\n",
    "#cc.moveToHome(cobras, thetaEnable=True, phiEnable=True, thetaCCW=False)\n",
    "#cc.moveDeltaAngles(cobras, thetaAngles=None, phiAngles=np.deg2rad(30), thetaFast=True, phiFast=True)\n",
    "cc.moveDeltaAngles(cobras, thetaAngles=np.deg2rad(60), phiAngles=None, thetaFast=True, phiFast=True)\n",
    "#dataPath, thetas, phis, moves = eng.moveThetaPhi2(cc.goodIdx, tht[cc.goodIdx], np.pi/3, relative=False, local=False, tolerance=0.1, tries=10, homed=False, thetaThreshold=0.2, phiThreshold=0.2, newDir=True)"
   ]
  },
  {
   "cell_type": "code",
   "execution_count": null,
   "metadata": {},
   "outputs": [],
   "source": [
    "cc.pfi.moveThetaPhi(cobras, [np.deg2rad(60)], [0], [0.3740908], [0.5304951], True, True, doRun=False)"
   ]
  },
  {
   "cell_type": "code",
   "execution_count": null,
   "metadata": {},
   "outputs": [],
   "source": []
  },
  {
   "cell_type": "code",
   "execution_count": null,
   "metadata": {
    "scrolled": true
   },
   "outputs": [],
   "source": [
    "cc.showStatus()"
   ]
  },
  {
   "cell_type": "code",
   "execution_count": null,
   "metadata": {
    "scrolled": false
   },
   "outputs": [],
   "source": [
    "targets[0,0], moves[0,0], targets[0,35], moves[0,35], targets[0,37], moves[0,37], targets[0,53], moves[0,53]"
   ]
  },
  {
   "cell_type": "code",
   "execution_count": null,
   "metadata": {
    "scrolled": false
   },
   "outputs": [],
   "source": [
    "cc.moveInfo"
   ]
  },
  {
   "cell_type": "code",
   "execution_count": null,
   "metadata": {},
   "outputs": [],
   "source": []
  },
  {
   "cell_type": "code",
   "execution_count": null,
   "metadata": {},
   "outputs": [],
   "source": []
  },
  {
   "cell_type": "code",
   "execution_count": null,
   "metadata": {},
   "outputs": [],
   "source": [
    "cc.pfi.calibModel.cobraStatus(31)"
   ]
  },
  {
   "cell_type": "code",
   "execution_count": null,
   "metadata": {},
   "outputs": [],
   "source": [
    "cc.pfi.calibModel.setCobraStatus(31, brokenTheta=True)\n",
    "cc.pfi.calibModel.createCalibrationFile('SC32_5.xml')"
   ]
  },
  {
   "cell_type": "code",
   "execution_count": null,
   "metadata": {},
   "outputs": [],
   "source": [
    "np.rad2deg((cc.calibModel.tht1 - cc.calibModel.tht0 + np.pi) % (np.pi*2) - np.pi)"
   ]
  },
  {
   "cell_type": "code",
   "execution_count": null,
   "metadata": {},
   "outputs": [],
   "source": []
  },
  {
   "cell_type": "code",
   "execution_count": null,
   "metadata": {},
   "outputs": [],
   "source": [
    "cc.goodIdx"
   ]
  },
  {
   "cell_type": "code",
   "execution_count": null,
   "metadata": {
    "scrolled": false
   },
   "outputs": [],
   "source": [
    "moves[30,10:20,:]"
   ]
  },
  {
   "cell_type": "code",
   "execution_count": null,
   "metadata": {},
   "outputs": [],
   "source": []
  },
  {
   "cell_type": "code",
   "execution_count": null,
   "metadata": {},
   "outputs": [],
   "source": [
    "cc.moveSteps(cc.goodCobras, 0, -5000)"
   ]
  },
  {
   "cell_type": "code",
   "execution_count": null,
   "metadata": {},
   "outputs": [],
   "source": [
    "cc.moveInfo, cc.phiInfo"
   ]
  },
  {
   "cell_type": "code",
   "execution_count": null,
   "metadata": {
    "scrolled": false
   },
   "outputs": [],
   "source": [
    "np.abs(cc.cobraInfo['position'] - cc.calibModel.centers)"
   ]
  },
  {
   "cell_type": "code",
   "execution_count": null,
   "metadata": {},
   "outputs": [],
   "source": [
    "cc.cobraInfo"
   ]
  },
  {
   "cell_type": "code",
   "execution_count": null,
   "metadata": {},
   "outputs": [],
   "source": [
    "cc.pfi.positionsToAngles(cc.allCobras, cc.cobraInfo['position'])[2][2,0] & 17"
   ]
  },
  {
   "cell_type": "code",
   "execution_count": null,
   "metadata": {},
   "outputs": [],
   "source": [
    "cc.calibModel.L1, cc.calibModel.L2"
   ]
  },
  {
   "cell_type": "code",
   "execution_count": null,
   "metadata": {},
   "outputs": [],
   "source": [
    "np.diff(np.rad2deg(angles[0,0])) / 250"
   ]
  },
  {
   "cell_type": "code",
   "execution_count": null,
   "metadata": {},
   "outputs": [],
   "source": [
    "np.rad2deg(angles[0,0]), ontimes[0,0], np.rad2deg(speeds[0,0])"
   ]
  },
  {
   "cell_type": "code",
   "execution_count": null,
   "metadata": {
    "scrolled": true
   },
   "outputs": [],
   "source": [
    "np.rad2deg(speeds[0,0,:])"
   ]
  },
  {
   "cell_type": "code",
   "execution_count": null,
   "metadata": {
    "scrolled": true
   },
   "outputs": [],
   "source": [
    "ontimes[1,0,:]"
   ]
  },
  {
   "cell_type": "code",
   "execution_count": null,
   "metadata": {},
   "outputs": [],
   "source": []
  },
  {
   "cell_type": "code",
   "execution_count": null,
   "metadata": {},
   "outputs": [],
   "source": [
    "thetaOt = np.array([[0.0798, 0.0687, 0.0904, 0.0404, 0.0567, 0.0471, 0.0626, 0.0589,\n",
    "        0.064 , 0.0645, 0.0464, 0.0447, 0.0563, 0.0372, 0.0441, 0.0613,\n",
    "        0.0739, 0.0492, 0.1072, 0.052 , 0.0579, 0.0461, 0.0988, 0.0698,\n",
    "        0.0546, 0.0648, 0.055 , 0.0458, 0.0519, 0.0563, 0.055 , 0.0492,\n",
    "        0.0659, 0.0614, 0.0762, 0.0452, 0.0433, 0.0562, 0.0485, 0.0521,\n",
    "        0.0502, 0.068 , 0.0561, 0.0669, 0.048 , 0.0575, 0.0658, 0.0436,\n",
    "        0.0694, 0.0454, 0.0515, 0.0709, 0.0502, 0.0587, 0.0477, 0.1135,\n",
    "        0.0494],\n",
    "       [0.0808, 0.0551, 0.0812, 0.0442, 0.0597, 0.0537, 0.0623, 0.0588,\n",
    "        0.0764, 0.0624, 0.0521, 0.0459, 0.062 , 0.0391, 0.0477, 0.0685,\n",
    "        0.0714, 0.0505, 0.0956, 0.0412, 0.0574, 0.0521, 0.0926, 0.0766,\n",
    "        0.0524, 0.0898, 0.0478, 0.0514, 0.0519, 0.0658, 0.0476, 0.0685,\n",
    "        0.069 , 0.0807, 0.0702, 0.0489, 0.0406, 0.0579, 0.0554, 0.0511,\n",
    "        0.0535, 0.0841, 0.056 , 0.0629, 0.0516, 0.0501, 0.05  , 0.0539,\n",
    "        0.0667, 0.0459, 0.0564, 0.0907, 0.0559, 0.07  , 0.0496, 0.0758,\n",
    "        0.0454]])"
   ]
  },
  {
   "cell_type": "code",
   "execution_count": null,
   "metadata": {},
   "outputs": [],
   "source": [
    "phiOt = np.array([[0.0366, 0.0198, 0.0261, 0.019 , 0.0535, 0.0196, 0.0232, 0.0249,\n",
    "        0.019 , 0.0289, 0.0298, 0.023 , 0.0307, 0.0257, 0.0246, 0.0221,\n",
    "        0.0404, 0.0514, 0.0309, 0.0155, 0.0204, 0.017 , 0.0284, 0.0303,\n",
    "        0.0247, 0.032 , 0.0211, 0.0235, 0.023 , 0.0331, 0.0258, 0.017 ,\n",
    "        0.0319, 0.02  , 0.0391, 0.0145, 0.0248, 0.0185, 0.0342, 0.0258,\n",
    "        0.0184, 0.0273, 0.0277, 0.0244, 0.0237, 0.0181, 0.0345, 0.0238,\n",
    "        0.0255, 0.0254, 0.0234, 0.0163, 0.0284, 0.0253, 0.0266, 0.0245,\n",
    "        0.0191],\n",
    "       [0.0317, 0.0207, 0.0255, 0.0211, 0.0294, 0.0213, 0.0333, 0.024 ,\n",
    "        0.017 , 0.0297, 0.0202, 0.0209, 0.03  , 0.02  , 0.028 , 0.017 ,\n",
    "        0.0405, 0.0333, 0.0255, 0.015 , 0.0205, 0.0212, 0.036 , 0.0566,\n",
    "        0.0305, 0.03  , 0.0244, 0.0289, 0.0203, 0.0281, 0.0265, 0.0252,\n",
    "        0.0323, 0.0304, 0.0362, 0.0185, 0.029 , 0.0191, 0.0336, 0.0275,\n",
    "        0.0204, 0.0235, 0.0269, 0.0225, 0.0267, 0.0218, 0.0288, 0.0249,\n",
    "        0.024 , 0.0217, 0.0221, 0.016 , 0.028 , 0.034 , 0.0325, 0.0265,\n",
    "        0.0365]])"
   ]
  },
  {
   "cell_type": "code",
   "execution_count": null,
   "metadata": {},
   "outputs": [],
   "source": []
  }
 ],
 "metadata": {
  "kernelspec": {
   "display_name": "Python 3",
   "language": "python",
   "name": "python3"
  },
  "language_info": {
   "codemirror_mode": {
    "name": "ipython",
    "version": 3
   },
   "file_extension": ".py",
   "mimetype": "text/x-python",
   "name": "python",
   "nbconvert_exporter": "python",
   "pygments_lexer": "ipython3",
   "version": "3.7.3"
  }
 },
 "nbformat": 4,
 "nbformat_minor": 2
}
